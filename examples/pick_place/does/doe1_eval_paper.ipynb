{
 "cells": [
  {
   "cell_type": "code",
   "execution_count": 1,
   "metadata": {},
   "outputs": [],
   "source": [
    "import os\n",
    "import matplotlib\n",
    "import matplotlib.pyplot as plt\n",
    "import plotly\n",
    "from plotly.subplots import make_subplots\n",
    "import plotly.graph_objects as go\n",
    "import plotly.express as px\n",
    "import seaborn as sns\n",
    "import pandas as pd\n",
    "import numpy as np"
   ]
  },
  {
   "cell_type": "code",
   "execution_count": 2,
   "metadata": {},
   "outputs": [
    {
     "data": {
      "text/plain": [
       "'3.4.3'"
      ]
     },
     "execution_count": 2,
     "metadata": {},
     "output_type": "execute_result"
    }
   ],
   "source": [
    "matplotlib.__version__"
   ]
  },
  {
   "cell_type": "code",
   "execution_count": 3,
   "metadata": {},
   "outputs": [],
   "source": [
    "DOE_NAME = \"doe1\"\n",
    "factors = [\"max_time\", \"batch_size\", \"seq_len\", \"seq_est_len\",  \"est_type\"]\n",
    "response = \"FIT\""
   ]
  },
  {
   "cell_type": "code",
   "execution_count": 4,
   "metadata": {},
   "outputs": [],
   "source": [
    "df_res = pd.read_csv(DOE_NAME + \"_res.csv\")  # doe1_res.csv"
   ]
  },
  {
   "cell_type": "code",
   "execution_count": 5,
   "metadata": {},
   "outputs": [
    {
     "data": {
      "text/plain": [
       "Index(['experiment_id', 'lr', 'epochs', 'max_time', 'batch_size', 'seq_len',\n",
       "       'seq_est_len', 'est_type', 'est_hidden_size', 'seed', 'FIT'],\n",
       "      dtype='object')"
      ]
     },
     "execution_count": 5,
     "metadata": {},
     "output_type": "execute_result"
    }
   ],
   "source": [
    "df_res.columns"
   ]
  },
  {
   "cell_type": "code",
   "execution_count": 6,
   "metadata": {},
   "outputs": [],
   "source": [
    "df_res['est_type'] = df_res['est_type'].replace(['RAND', 'ZERO', 'LSTM', 'FF'], ['R', 'Z', 'L', 'F'])"
   ]
  },
  {
   "cell_type": "code",
   "execution_count": 7,
   "metadata": {},
   "outputs": [
    {
     "data": {
      "text/plain": [
       "0      Z\n",
       "1      F\n",
       "2      L\n",
       "3      R\n",
       "4      R\n",
       "      ..\n",
       "427    Z\n",
       "428    Z\n",
       "429    L\n",
       "430    Z\n",
       "431    Z\n",
       "Name: est_type, Length: 432, dtype: object"
      ]
     },
     "execution_count": 7,
     "metadata": {},
     "output_type": "execute_result"
    }
   ],
   "source": [
    "df_res['est_type']"
   ]
  },
  {
   "cell_type": "code",
   "execution_count": 8,
   "metadata": {
    "scrolled": false
   },
   "outputs": [],
   "source": [
    "df_res.sort_values(by=response, inplace=True, ascending=False)\n",
    "df_res[\"FIT\"] = df_res[\"FIT\"].fillna(np.min(df_res[\"FIT\"])-0.1)"
   ]
  },
  {
   "cell_type": "code",
   "execution_count": 9,
   "metadata": {},
   "outputs": [],
   "source": [
    "for factor in factors:\n",
    "    df_res[factor] = df_res[factor].astype(\"category\")"
   ]
  },
  {
   "cell_type": "code",
   "execution_count": 10,
   "metadata": {},
   "outputs": [
    {
     "data": {
      "text/html": [
       "<div>\n",
       "<style scoped>\n",
       "    .dataframe tbody tr th:only-of-type {\n",
       "        vertical-align: middle;\n",
       "    }\n",
       "\n",
       "    .dataframe tbody tr th {\n",
       "        vertical-align: top;\n",
       "    }\n",
       "\n",
       "    .dataframe thead th {\n",
       "        text-align: right;\n",
       "    }\n",
       "</style>\n",
       "<table border=\"1\" class=\"dataframe\">\n",
       "  <thead>\n",
       "    <tr style=\"text-align: right;\">\n",
       "      <th></th>\n",
       "      <th>experiment_id</th>\n",
       "      <th>lr</th>\n",
       "      <th>epochs</th>\n",
       "      <th>max_time</th>\n",
       "      <th>batch_size</th>\n",
       "      <th>seq_len</th>\n",
       "      <th>seq_est_len</th>\n",
       "      <th>est_type</th>\n",
       "      <th>est_hidden_size</th>\n",
       "      <th>seed</th>\n",
       "      <th>FIT</th>\n",
       "    </tr>\n",
       "  </thead>\n",
       "  <tbody>\n",
       "    <tr>\n",
       "      <td>22</td>\n",
       "      <td>297</td>\n",
       "      <td>0.001</td>\n",
       "      <td>10000</td>\n",
       "      <td>1800</td>\n",
       "      <td>128</td>\n",
       "      <td>256</td>\n",
       "      <td>40</td>\n",
       "      <td>F</td>\n",
       "      <td>30</td>\n",
       "      <td>294</td>\n",
       "      <td>95.256770</td>\n",
       "    </tr>\n",
       "    <tr>\n",
       "      <td>41</td>\n",
       "      <td>55</td>\n",
       "      <td>0.001</td>\n",
       "      <td>10000</td>\n",
       "      <td>1800</td>\n",
       "      <td>32</td>\n",
       "      <td>64</td>\n",
       "      <td>10</td>\n",
       "      <td>F</td>\n",
       "      <td>10</td>\n",
       "      <td>425</td>\n",
       "      <td>95.133889</td>\n",
       "    </tr>\n",
       "    <tr>\n",
       "      <td>268</td>\n",
       "      <td>35</td>\n",
       "      <td>0.001</td>\n",
       "      <td>10000</td>\n",
       "      <td>1800</td>\n",
       "      <td>1024</td>\n",
       "      <td>512</td>\n",
       "      <td>40</td>\n",
       "      <td>L</td>\n",
       "      <td>10</td>\n",
       "      <td>220</td>\n",
       "      <td>94.948192</td>\n",
       "    </tr>\n",
       "    <tr>\n",
       "      <td>59</td>\n",
       "      <td>283</td>\n",
       "      <td>0.001</td>\n",
       "      <td>10000</td>\n",
       "      <td>1800</td>\n",
       "      <td>32</td>\n",
       "      <td>512</td>\n",
       "      <td>10</td>\n",
       "      <td>F</td>\n",
       "      <td>30</td>\n",
       "      <td>19</td>\n",
       "      <td>94.886070</td>\n",
       "    </tr>\n",
       "    <tr>\n",
       "      <td>156</td>\n",
       "      <td>271</td>\n",
       "      <td>0.001</td>\n",
       "      <td>10000</td>\n",
       "      <td>1800</td>\n",
       "      <td>32</td>\n",
       "      <td>64</td>\n",
       "      <td>10</td>\n",
       "      <td>F</td>\n",
       "      <td>30</td>\n",
       "      <td>152</td>\n",
       "      <td>94.872825</td>\n",
       "    </tr>\n",
       "    <tr>\n",
       "      <td>176</td>\n",
       "      <td>285</td>\n",
       "      <td>0.001</td>\n",
       "      <td>10000</td>\n",
       "      <td>1800</td>\n",
       "      <td>128</td>\n",
       "      <td>512</td>\n",
       "      <td>10</td>\n",
       "      <td>F</td>\n",
       "      <td>30</td>\n",
       "      <td>226</td>\n",
       "      <td>94.833121</td>\n",
       "    </tr>\n",
       "    <tr>\n",
       "      <td>397</td>\n",
       "      <td>3</td>\n",
       "      <td>0.001</td>\n",
       "      <td>10000</td>\n",
       "      <td>1800</td>\n",
       "      <td>128</td>\n",
       "      <td>64</td>\n",
       "      <td>10</td>\n",
       "      <td>L</td>\n",
       "      <td>10</td>\n",
       "      <td>199</td>\n",
       "      <td>94.816719</td>\n",
       "    </tr>\n",
       "    <tr>\n",
       "      <td>165</td>\n",
       "      <td>275</td>\n",
       "      <td>0.001</td>\n",
       "      <td>10000</td>\n",
       "      <td>1800</td>\n",
       "      <td>1024</td>\n",
       "      <td>64</td>\n",
       "      <td>10</td>\n",
       "      <td>F</td>\n",
       "      <td>30</td>\n",
       "      <td>339</td>\n",
       "      <td>94.791857</td>\n",
       "    </tr>\n",
       "    <tr>\n",
       "      <td>149</td>\n",
       "      <td>33</td>\n",
       "      <td>0.001</td>\n",
       "      <td>10000</td>\n",
       "      <td>1800</td>\n",
       "      <td>128</td>\n",
       "      <td>512</td>\n",
       "      <td>40</td>\n",
       "      <td>L</td>\n",
       "      <td>10</td>\n",
       "      <td>427</td>\n",
       "      <td>94.644075</td>\n",
       "    </tr>\n",
       "    <tr>\n",
       "      <td>45</td>\n",
       "      <td>291</td>\n",
       "      <td>0.001</td>\n",
       "      <td>10000</td>\n",
       "      <td>1800</td>\n",
       "      <td>128</td>\n",
       "      <td>64</td>\n",
       "      <td>40</td>\n",
       "      <td>F</td>\n",
       "      <td>30</td>\n",
       "      <td>286</td>\n",
       "      <td>94.635481</td>\n",
       "    </tr>\n",
       "    <tr>\n",
       "      <td>306</td>\n",
       "      <td>219</td>\n",
       "      <td>0.001</td>\n",
       "      <td>10000</td>\n",
       "      <td>1800</td>\n",
       "      <td>128</td>\n",
       "      <td>64</td>\n",
       "      <td>10</td>\n",
       "      <td>L</td>\n",
       "      <td>30</td>\n",
       "      <td>263</td>\n",
       "      <td>94.509968</td>\n",
       "    </tr>\n",
       "    <tr>\n",
       "      <td>322</td>\n",
       "      <td>303</td>\n",
       "      <td>0.001</td>\n",
       "      <td>10000</td>\n",
       "      <td>1800</td>\n",
       "      <td>128</td>\n",
       "      <td>512</td>\n",
       "      <td>40</td>\n",
       "      <td>F</td>\n",
       "      <td>30</td>\n",
       "      <td>11</td>\n",
       "      <td>94.476808</td>\n",
       "    </tr>\n",
       "    <tr>\n",
       "      <td>263</td>\n",
       "      <td>21</td>\n",
       "      <td>0.001</td>\n",
       "      <td>10000</td>\n",
       "      <td>1800</td>\n",
       "      <td>128</td>\n",
       "      <td>64</td>\n",
       "      <td>40</td>\n",
       "      <td>L</td>\n",
       "      <td>10</td>\n",
       "      <td>308</td>\n",
       "      <td>94.355399</td>\n",
       "    </tr>\n",
       "    <tr>\n",
       "      <td>382</td>\n",
       "      <td>72</td>\n",
       "      <td>0.001</td>\n",
       "      <td>10000</td>\n",
       "      <td>300</td>\n",
       "      <td>32</td>\n",
       "      <td>64</td>\n",
       "      <td>40</td>\n",
       "      <td>F</td>\n",
       "      <td>10</td>\n",
       "      <td>389</td>\n",
       "      <td>94.270151</td>\n",
       "    </tr>\n",
       "    <tr>\n",
       "      <td>117</td>\n",
       "      <td>1</td>\n",
       "      <td>0.001</td>\n",
       "      <td>10000</td>\n",
       "      <td>1800</td>\n",
       "      <td>32</td>\n",
       "      <td>64</td>\n",
       "      <td>10</td>\n",
       "      <td>L</td>\n",
       "      <td>10</td>\n",
       "      <td>390</td>\n",
       "      <td>94.219430</td>\n",
       "    </tr>\n",
       "    <tr>\n",
       "      <td>429</td>\n",
       "      <td>237</td>\n",
       "      <td>0.001</td>\n",
       "      <td>10000</td>\n",
       "      <td>1800</td>\n",
       "      <td>128</td>\n",
       "      <td>64</td>\n",
       "      <td>40</td>\n",
       "      <td>L</td>\n",
       "      <td>30</td>\n",
       "      <td>234</td>\n",
       "      <td>94.166304</td>\n",
       "    </tr>\n",
       "    <tr>\n",
       "      <td>244</td>\n",
       "      <td>57</td>\n",
       "      <td>0.001</td>\n",
       "      <td>10000</td>\n",
       "      <td>1800</td>\n",
       "      <td>128</td>\n",
       "      <td>64</td>\n",
       "      <td>10</td>\n",
       "      <td>F</td>\n",
       "      <td>10</td>\n",
       "      <td>330</td>\n",
       "      <td>94.151210</td>\n",
       "    </tr>\n",
       "    <tr>\n",
       "      <td>204</td>\n",
       "      <td>277</td>\n",
       "      <td>0.001</td>\n",
       "      <td>10000</td>\n",
       "      <td>1800</td>\n",
       "      <td>32</td>\n",
       "      <td>256</td>\n",
       "      <td>10</td>\n",
       "      <td>F</td>\n",
       "      <td>30</td>\n",
       "      <td>237</td>\n",
       "      <td>94.126675</td>\n",
       "    </tr>\n",
       "    <tr>\n",
       "      <td>412</td>\n",
       "      <td>225</td>\n",
       "      <td>0.001</td>\n",
       "      <td>10000</td>\n",
       "      <td>1800</td>\n",
       "      <td>128</td>\n",
       "      <td>256</td>\n",
       "      <td>10</td>\n",
       "      <td>L</td>\n",
       "      <td>30</td>\n",
       "      <td>212</td>\n",
       "      <td>94.123332</td>\n",
       "    </tr>\n",
       "    <tr>\n",
       "      <td>323</td>\n",
       "      <td>61</td>\n",
       "      <td>0.001</td>\n",
       "      <td>10000</td>\n",
       "      <td>1800</td>\n",
       "      <td>32</td>\n",
       "      <td>256</td>\n",
       "      <td>10</td>\n",
       "      <td>F</td>\n",
       "      <td>10</td>\n",
       "      <td>59</td>\n",
       "      <td>94.111274</td>\n",
       "    </tr>\n",
       "  </tbody>\n",
       "</table>\n",
       "</div>"
      ],
      "text/plain": [
       "     experiment_id     lr  epochs max_time batch_size seq_len seq_est_len  \\\n",
       "22             297  0.001   10000     1800        128     256          40   \n",
       "41              55  0.001   10000     1800         32      64          10   \n",
       "268             35  0.001   10000     1800       1024     512          40   \n",
       "59             283  0.001   10000     1800         32     512          10   \n",
       "156            271  0.001   10000     1800         32      64          10   \n",
       "176            285  0.001   10000     1800        128     512          10   \n",
       "397              3  0.001   10000     1800        128      64          10   \n",
       "165            275  0.001   10000     1800       1024      64          10   \n",
       "149             33  0.001   10000     1800        128     512          40   \n",
       "45             291  0.001   10000     1800        128      64          40   \n",
       "306            219  0.001   10000     1800        128      64          10   \n",
       "322            303  0.001   10000     1800        128     512          40   \n",
       "263             21  0.001   10000     1800        128      64          40   \n",
       "382             72  0.001   10000      300         32      64          40   \n",
       "117              1  0.001   10000     1800         32      64          10   \n",
       "429            237  0.001   10000     1800        128      64          40   \n",
       "244             57  0.001   10000     1800        128      64          10   \n",
       "204            277  0.001   10000     1800         32     256          10   \n",
       "412            225  0.001   10000     1800        128     256          10   \n",
       "323             61  0.001   10000     1800         32     256          10   \n",
       "\n",
       "    est_type  est_hidden_size  seed        FIT  \n",
       "22         F               30   294  95.256770  \n",
       "41         F               10   425  95.133889  \n",
       "268        L               10   220  94.948192  \n",
       "59         F               30    19  94.886070  \n",
       "156        F               30   152  94.872825  \n",
       "176        F               30   226  94.833121  \n",
       "397        L               10   199  94.816719  \n",
       "165        F               30   339  94.791857  \n",
       "149        L               10   427  94.644075  \n",
       "45         F               30   286  94.635481  \n",
       "306        L               30   263  94.509968  \n",
       "322        F               30    11  94.476808  \n",
       "263        L               10   308  94.355399  \n",
       "382        F               10   389  94.270151  \n",
       "117        L               10   390  94.219430  \n",
       "429        L               30   234  94.166304  \n",
       "244        F               10   330  94.151210  \n",
       "204        F               30   237  94.126675  \n",
       "412        L               30   212  94.123332  \n",
       "323        F               10    59  94.111274  "
      ]
     },
     "execution_count": 10,
     "metadata": {},
     "output_type": "execute_result"
    }
   ],
   "source": [
    "df_res.head(20)"
   ]
  },
  {
   "cell_type": "code",
   "execution_count": 11,
   "metadata": {
    "scrolled": false
   },
   "outputs": [
    {
     "data": {
      "text/html": [
       "<div>\n",
       "<style scoped>\n",
       "    .dataframe tbody tr th:only-of-type {\n",
       "        vertical-align: middle;\n",
       "    }\n",
       "\n",
       "    .dataframe tbody tr th {\n",
       "        vertical-align: top;\n",
       "    }\n",
       "\n",
       "    .dataframe thead th {\n",
       "        text-align: right;\n",
       "    }\n",
       "</style>\n",
       "<table border=\"1\" class=\"dataframe\">\n",
       "  <thead>\n",
       "    <tr style=\"text-align: right;\">\n",
       "      <th></th>\n",
       "      <th>experiment_id</th>\n",
       "      <th>lr</th>\n",
       "      <th>epochs</th>\n",
       "      <th>max_time</th>\n",
       "      <th>batch_size</th>\n",
       "      <th>seq_len</th>\n",
       "      <th>seq_est_len</th>\n",
       "      <th>est_type</th>\n",
       "      <th>est_hidden_size</th>\n",
       "      <th>seed</th>\n",
       "      <th>FIT</th>\n",
       "    </tr>\n",
       "  </thead>\n",
       "  <tbody>\n",
       "    <tr>\n",
       "      <td>376</td>\n",
       "      <td>108</td>\n",
       "      <td>0.001</td>\n",
       "      <td>10000</td>\n",
       "      <td>300</td>\n",
       "      <td>32</td>\n",
       "      <td>64</td>\n",
       "      <td>10</td>\n",
       "      <td>Z</td>\n",
       "      <td>10</td>\n",
       "      <td>75</td>\n",
       "      <td>77.589035</td>\n",
       "    </tr>\n",
       "    <tr>\n",
       "      <td>247</td>\n",
       "      <td>378</td>\n",
       "      <td>0.001</td>\n",
       "      <td>10000</td>\n",
       "      <td>300</td>\n",
       "      <td>32</td>\n",
       "      <td>64</td>\n",
       "      <td>10</td>\n",
       "      <td>R</td>\n",
       "      <td>30</td>\n",
       "      <td>290</td>\n",
       "      <td>77.503601</td>\n",
       "    </tr>\n",
       "    <tr>\n",
       "      <td>313</td>\n",
       "      <td>166</td>\n",
       "      <td>0.001</td>\n",
       "      <td>10000</td>\n",
       "      <td>300</td>\n",
       "      <td>1024</td>\n",
       "      <td>64</td>\n",
       "      <td>10</td>\n",
       "      <td>R</td>\n",
       "      <td>10</td>\n",
       "      <td>208</td>\n",
       "      <td>77.429176</td>\n",
       "    </tr>\n",
       "    <tr>\n",
       "      <td>372</td>\n",
       "      <td>327</td>\n",
       "      <td>0.001</td>\n",
       "      <td>10000</td>\n",
       "      <td>1800</td>\n",
       "      <td>128</td>\n",
       "      <td>64</td>\n",
       "      <td>10</td>\n",
       "      <td>Z</td>\n",
       "      <td>30</td>\n",
       "      <td>369</td>\n",
       "      <td>77.261703</td>\n",
       "    </tr>\n",
       "    <tr>\n",
       "      <td>399</td>\n",
       "      <td>325</td>\n",
       "      <td>0.001</td>\n",
       "      <td>10000</td>\n",
       "      <td>1800</td>\n",
       "      <td>32</td>\n",
       "      <td>64</td>\n",
       "      <td>10</td>\n",
       "      <td>Z</td>\n",
       "      <td>30</td>\n",
       "      <td>0</td>\n",
       "      <td>72.638771</td>\n",
       "    </tr>\n",
       "  </tbody>\n",
       "</table>\n",
       "</div>"
      ],
      "text/plain": [
       "     experiment_id     lr  epochs max_time batch_size seq_len seq_est_len  \\\n",
       "376            108  0.001   10000      300         32      64          10   \n",
       "247            378  0.001   10000      300         32      64          10   \n",
       "313            166  0.001   10000      300       1024      64          10   \n",
       "372            327  0.001   10000     1800        128      64          10   \n",
       "399            325  0.001   10000     1800         32      64          10   \n",
       "\n",
       "    est_type  est_hidden_size  seed        FIT  \n",
       "376        Z               10    75  77.589035  \n",
       "247        R               30   290  77.503601  \n",
       "313        R               10   208  77.429176  \n",
       "372        Z               30   369  77.261703  \n",
       "399        Z               30     0  72.638771  "
      ]
     },
     "execution_count": 11,
     "metadata": {},
     "output_type": "execute_result"
    }
   ],
   "source": [
    "df_res.tail(5)"
   ]
  },
  {
   "cell_type": "code",
   "execution_count": 12,
   "metadata": {},
   "outputs": [],
   "source": [
    "font = {'family' : 'serif',\n",
    "        'weight' : 'normal',\n",
    "        'size'   : 16}\n",
    "\n",
    "matplotlib.rc('font', **font)"
   ]
  },
  {
   "cell_type": "markdown",
   "metadata": {},
   "source": [
    "# Figure 1: FIT vs factors\n",
    "### Plot showing the effect of differnt factors on FIT: for a given plot FIT is averged over other parameters"
   ]
  },
  {
   "cell_type": "code",
   "execution_count": 13,
   "metadata": {
    "scrolled": false
   },
   "outputs": [
    {
     "data": {
      "image/png": "[encoded data removed]",
      "text/plain": [
       "<Figure size 864x360 with 5 Axes>"
      ]
     },
     "metadata": {
      "needs_background": "light"
     },
     "output_type": "display_data"
    }
   ],
   "source": [
    "# Full results: main effects\n",
    "factors = [\"max_time\", \"batch_size\", \"seq_len\", \"seq_est_len\",  \"est_type\"]\n",
    "factor_names = [\"train_time (s)\",\n",
    "                \"batch_size $b$\",\n",
    "                \"seq_fit_len $m_f$\",\n",
    "                \"seq_est_len $m_e$\",\n",
    "                \"est_type\"]\n",
    "\n",
    "g = sns.PairGrid(df_res, y_vars=response,\n",
    "                 x_vars=factors,\n",
    "                 height=6, aspect=.5)\n",
    "g.map(sns.pointplot, scale=1.3)\n",
    "sns.despine(fig=g.fig, left=True)\n",
    "\n",
    "for idx in range(len(factors)):\n",
    "    g.axes[0, idx].xaxis.set_label_text(factor_names[idx])\n",
    "    g.axes[0,idx].grid(axis=\"y\")\n",
    "    \n",
    "g.axes[0, 0].yaxis.set_label_text(\"FIT index (%)\")\n",
    "\n",
    "g.fig.set_size_inches(12,5)\n",
    "\n",
    "plt.tight_layout()\n",
    "plt.savefig('figures/PP_fit_vs_factors.eps')"
   ]
  },
  {
   "cell_type": "markdown",
   "metadata": {},
   "source": [
    "# Figure 2: Effect of training times on the factors"
   ]
  },
  {
   "cell_type": "code",
   "execution_count": 14,
   "metadata": {},
   "outputs": [
    {
     "data": {
      "image/png": "[encoded data removed]",
      "text/plain": [
       "<Figure size 983.425x288 with 4 Axes>"
      ]
     },
     "metadata": {
      "needs_background": "light"
     },
     "output_type": "display_data"
    }
   ],
   "source": [
    "factors = [\"batch_size\", \"seq_len\", \"seq_est_len\",  \"est_type\"]\n",
    "factor_names = [\"batch_size $b$\",\n",
    "                \"seq_fit_len $m_f$\",\n",
    "                \"seq_est_len $m_e$\",\n",
    "                \"est_type\"]\n",
    "g = sns.PairGrid(df_res, y_vars= response, x_vars= factors, \n",
    "                hue = \"max_time\",\n",
    "                height = 5, aspect = .5)\n",
    "g.map(sns.pointplot, scale = 1.2)\n",
    "sns.despine(fig = g.fig, left = True)\n",
    "\n",
    "for idx in range(len(factors)):\n",
    "    g.axes[0, idx].xaxis.set_label_text(factor_names[idx])\n",
    "    g.axes[0,idx].grid(axis=\"y\")\n",
    "g.axes[0, 0].yaxis.set_label_text(\"FIT index (%)\")  \n",
    "\n",
    "\n",
    "g.fig.set_size_inches(12,4)\n",
    "plt.tight_layout()\n",
    "g.add_legend(title = \"train time (s)\")\n",
    "\n",
    "\n",
    "#plt.legend(title=\"train time (s)\")\n",
    "plt.savefig('figures/PP_train_time_effect.eps')\n"
   ]
  },
  {
   "cell_type": "markdown",
   "metadata": {},
   "source": [
    "# Figure 3: Effect of short estimator lenght and estimators for max_time"
   ]
  },
  {
   "cell_type": "code",
   "execution_count": 15,
   "metadata": {},
   "outputs": [],
   "source": [
    "df_short_est_max_time = df_res[(df_res[\"seq_est_len\"] == 10) & (df_res[\"max_time\"] == 1800)]"
   ]
  },
  {
   "cell_type": "code",
   "execution_count": 16,
   "metadata": {},
   "outputs": [
    {
     "name": "stderr",
     "output_type": "stream",
     "text": [
      "The PostScript backend does not support transparency; partially transparent artists will be rendered opaque.\n",
      "The PostScript backend does not support transparency; partially transparent artists will be rendered opaque.\n"
     ]
    },
    {
     "data": {
      "image/png": "[encoded data removed]",
      "text/plain": [
       "<Figure size 576x288 with 1 Axes>"
      ]
     },
     "metadata": {
      "needs_background": "light"
     },
     "output_type": "display_data"
    }
   ],
   "source": [
    "# Full results: main effects\n",
    "factors = [\"batch_size\", \"seq_len\",  \"est_type\"]\n",
    "factor_names = [\"batch_size $b$\",\n",
    "                \"seq_fit_len $m_f$\",\n",
    "               \"est_type\"]\n",
    "\n",
    "g = sns.PairGrid(df_short_est_max_time, y_vars=response,\n",
    "                 x_vars=factors,\n",
    "                 height=6, aspect=.5)\n",
    "g.map(sns.pointplot, scale=1.3)\n",
    "sns.despine(fig=g.fig, left=True)\n",
    "\n",
    "for idx in range(len(factors)):\n",
    "    g.axes[0, idx].xaxis.set_label_text(factor_names[idx])\n",
    "    g.axes[0,idx].grid(axis=\"y\")\n",
    "    \n",
    "g.axes[0, 0].yaxis.set_label_text(\"FIT index (%)\")\n",
    "\n",
    "g.fig.set_size_inches(12,5)\n",
    "\n",
    "plt.tight_layout()\n",
    "plt.savefig('figures/PP_fit_vs_factors_maxTime_shortEst.eps')"
   ]
  },
  {
   "cell_type": "markdown",
   "metadata": {},
   "source": [
    " # Figure 4: Effect of short fit lenght vs est_len and estimators"
   ]
  },
  {
   "cell_type": "code",
   "execution_count": null,
   "metadata": {},
   "outputs": [],
   "source": [
    "df_short_est_max_time[\"est_type\"] = df_short_est_max_time[\"est_type\"].replace({\"R\": \"RAND\", \"F\": \"FF\", \"Z\": \"ZERO\", \"L\": \"LSTM\"})"
   ]
  },
  {
   "cell_type": "code",
   "execution_count": null,
   "metadata": {},
   "outputs": [],
   "source": [
    "fig, ax = plt.subplots(1,1, figsize=(8, 4))\n",
    "g = sns.pointplot( x=\"seq_len\", y=response, data=df_short_est_max_time, hue=\"est_type\", ax = ax);\n",
    "g.axes.yaxis.set_label_text(\"FIT index\")\n",
    "g.axes.xaxis.set_label_text(\"seq_fit_len $m_f$\")\n",
    "g.axes.grid(axis=\"y\")\n",
    "g.legend(title = \"estimator type\");\n",
    "g.yaxis.set_label_text(\"FIT index (%)\")\n",
    "\n",
    "plt.legend(bbox_to_anchor=(1.05, 1), loc=2, borderaxespad=0., title=\"est_type\")\n",
    "plt.tight_layout()\n",
    "plt.savefig(\"figures/PP_short_est_seq_vs_fit_seq.eps\")"
   ]
  },
  {
   "cell_type": "markdown",
   "metadata": {},
   "source": [
    "## Figure 4: Effect of short estimation length and minimum training time"
   ]
  },
  {
   "cell_type": "code",
   "execution_count": null,
   "metadata": {},
   "outputs": [],
   "source": [
    "df_short_est_min_time = df_res[(df_res[\"seq_est_len\"] == 10) & (df_res[\"max_time\"] == 300)]"
   ]
  },
  {
   "cell_type": "code",
   "execution_count": null,
   "metadata": {},
   "outputs": [],
   "source": [
    "# Full results: main effects\n",
    "factors = [\"batch_size\", \"seq_len\",  \"est_type\"]\n",
    "factor_names = [\"batch_size $b$\",\n",
    "                \"seq_fit_len $m_f$\",\n",
    "               \"est_type\"]\n",
    "\n",
    "g = sns.PairGrid(df_short_est_min_time, y_vars=response,\n",
    "                 x_vars=factors,\n",
    "                 height=6, aspect=.5)\n",
    "g.map(sns.pointplot, scale=1.3)\n",
    "sns.despine(fig=g.fig, left=True)\n",
    "\n",
    "for idx in range(len(factors)):\n",
    "    g.axes[0, idx].xaxis.set_label_text(factor_names[idx])\n",
    "    g.axes[0,idx].grid(axis=\"y\")\n",
    "    \n",
    "g.axes[0, 0].yaxis.set_label_text(\"FIT index (%)\")\n",
    "\n",
    "g.fig.set_size_inches(12,5)\n",
    "\n",
    "plt.tight_layout()\n",
    "plt.savefig('figures/PP_fit_vs_factors_minTime_shortEst.eps')"
   ]
  },
  {
   "cell_type": "code",
   "execution_count": null,
   "metadata": {},
   "outputs": [],
   "source": [
    "fig, ax = plt.subplots(1,1, figsize=(8, 4))\n",
    "g = sns.pointplot( x=\"seq_len\", y=response, data=df_short_est_min_time, hue=\"est_type\", ax = ax);\n",
    "g.axes.yaxis.set_label_text(\"FIT index\")\n",
    "g.axes.xaxis.set_label_text(\"seq_fit_len $m_f$\")\n",
    "g.axes.grid(axis=\"y\")\n",
    "g.legend(title = \"estimator type\");\n",
    "g.yaxis.set_label_text(\"FIT index (%)\")\n",
    "\n",
    "plt.legend(bbox_to_anchor=(1.05, 1), loc=2, borderaxespad=0., title=\"est_type\")\n",
    "plt.tight_layout()\n",
    "plt.savefig(\"figures/PP_short_est_seq_vs_fit_seq_MINtime.eps\")"
   ]
  },
  {
   "cell_type": "markdown",
   "metadata": {},
   "source": [
    " # Figure 5: Effect of short fit lenght vs est_len and estimators"
   ]
  },
  {
   "cell_type": "code",
   "execution_count": null,
   "metadata": {},
   "outputs": [],
   "source": [
    "df_short_fit_max_time = df_res[(df_res[\"seq_len\"] == 64) & (df_res[\"max_time\"] == 1800)]"
   ]
  },
  {
   "cell_type": "code",
   "execution_count": null,
   "metadata": {},
   "outputs": [],
   "source": [
    "factors = [ \"batch_size\",  \"seq_est_len\",  \"est_type\"]\n",
    "factor_names = [\"batch_size $b$\",\n",
    "                \"seq_est_len $m_e$\",\n",
    "                \"est_type\"]\n",
    "\n",
    "g = sns.PairGrid(df_short_fit_max_time, y_vars=response,\n",
    "                 x_vars=factors,\n",
    "                 height=6, aspect=.5)\n",
    "g.map(sns.pointplot, scale=1.3)\n",
    "sns.despine(fig=g.fig, left=True)\n",
    "\n",
    "for idx in range(len(factors)):\n",
    "    g.axes[0, idx].xaxis.set_label_text(factor_names[idx])\n",
    "    g.axes[0,idx].grid(axis=\"y\")\n",
    "    \n",
    "g.axes[0, 0].yaxis.set_label_text(\"FIT index (%)\")\n",
    "\n",
    "g.fig.set_size_inches(12,5)\n",
    "\n",
    "plt.tight_layout()\n",
    "plt.savefig('figures/PP_fit_vs_factors_shortFIT_MAXtime.eps')"
   ]
  },
  {
   "cell_type": "code",
   "execution_count": null,
   "metadata": {},
   "outputs": [],
   "source": [
    "df_short_fit_max_time[\"est_type\"] = df_short_fit_max_time[\"est_type\"].replace({\"R\": \"RAND\", \"F\": \"FF\", \"Z\": \"ZERO\", \"L\": \"LSTM\"})"
   ]
  },
  {
   "cell_type": "code",
   "execution_count": null,
   "metadata": {},
   "outputs": [],
   "source": [
    "fig, ax = plt.subplots(1,1, figsize=(8, 4))\n",
    "g = sns.pointplot( x=\"seq_est_len\", y=response, data=df_short_fit_max_time, hue=\"est_type\", ax = ax);\n",
    "g.axes.yaxis.set_label_text(\"FIT index\")\n",
    "g.axes.xaxis.set_label_text(\"seq_est_len $m_e$\")\n",
    "g.axes.grid(axis=\"y\")\n",
    "g.legend(title = \"estimator type\");\n",
    "g.yaxis.set_label_text(\"FIT index (%)\")\n",
    "\n",
    "plt.legend(bbox_to_anchor=(1.05, 1), loc=2, borderaxespad=0., title=\"est_type\")\n",
    "plt.tight_layout()\n",
    "plt.savefig(\"figures/PP_short_fit_seq_vs_est_seq.eps\")"
   ]
  },
  {
   "cell_type": "markdown",
   "metadata": {},
   "source": [
    "# Figure 5: Effect of long  estimator lenght and estimators types "
   ]
  },
  {
   "cell_type": "code",
   "execution_count": null,
   "metadata": {},
   "outputs": [],
   "source": [
    "df_long_est = df_res[(df_res[\"seq_est_len\"] == 100) & (df_res[\"max_time\"] == 1800)]"
   ]
  },
  {
   "cell_type": "code",
   "execution_count": null,
   "metadata": {},
   "outputs": [],
   "source": [
    "# Full results: main effects\n",
    "factors = [\"batch_size\", \"seq_len\",  \"est_type\"]\n",
    "factor_names = [\"batch_size $b$\",\n",
    "                \"seq_fit_len $m_f$\",\n",
    "               \"est_type\"]\n",
    "\n",
    "g = sns.PairGrid(df_long_est, y_vars=response,\n",
    "                 x_vars=factors,\n",
    "                 height=6, aspect=.5)\n",
    "g.map(sns.pointplot, scale=1.3)\n",
    "sns.despine(fig=g.fig, left=True)\n",
    "\n",
    "for idx in range(len(factors)):\n",
    "    g.axes[0, idx].xaxis.set_label_text(factor_names[idx])\n",
    "    g.axes[0,idx].grid(axis=\"y\")\n",
    "    \n",
    "g.axes[0, 0].yaxis.set_label_text(\"FIT index (%)\")\n",
    "\n",
    "g.fig.set_size_inches(12,5)\n",
    "\n",
    "plt.tight_layout()\n",
    "plt.savefig('figures/PP_fit_vs_factors_maxTime_longEst.eps')"
   ]
  },
  {
   "cell_type": "code",
   "execution_count": null,
   "metadata": {},
   "outputs": [],
   "source": [
    "fig, ax = plt.subplots(1,1, figsize=(8, 4))\n",
    "g = sns.pointplot( x=\"seq_len\", y=response, data=df_long_est, hue=\"est_type\", ax = ax);\n",
    "g.axes.yaxis.set_label_text(\"FIT index\")\n",
    "g.axes.xaxis.set_label_text(\"seq_fit_len $m_f$\");\n",
    "g.legend(title = \"estimator type\");\n",
    "g.yaxis.set_label_text(\"FIT index (%)\")\n",
    "\n",
    "plt.legend(bbox_to_anchor=(1.05, 1), loc=2, borderaxespad=0., title=\"est_type\")\n",
    "plt.tight_layout()\n",
    "plt.savefig(\"figures/PP_long_est_seq_est_type.eps\")"
   ]
  },
  {
   "cell_type": "markdown",
   "metadata": {},
   "source": [
    "# Figure 6: Effect of long fit lenght, varying seq_est_len and estimators types "
   ]
  },
  {
   "cell_type": "code",
   "execution_count": null,
   "metadata": {},
   "outputs": [],
   "source": [
    "df_long_fit = df_res[(df_res[\"seq_len\"] == 512) & (df_res[\"max_time\"] == 1800)]"
   ]
  },
  {
   "cell_type": "code",
   "execution_count": null,
   "metadata": {},
   "outputs": [],
   "source": [
    "fig, ax = plt.subplots(1,1, figsize=(8, 4))\n",
    "g = sns.pointplot( x=\"seq_est_len\", y=response, data=df_long_fit, hue=\"est_type\", ax = ax);\n",
    "g.axes.yaxis.set_label_text(\"FIT index\")\n",
    "g.axes.xaxis.set_label_text(\"seq_est_len $m_e$\");\n",
    "g.legend(title = \"estimator type\");\n",
    "g.yaxis.set_label_text(\"FIT index (%)\")\n",
    "\n",
    "plt.legend(bbox_to_anchor=(1.05, 1), loc=2, borderaxespad=0., title=\"est_type\")\n",
    "plt.tight_layout()\n",
    "plt.savefig(\"figures/PP_long_fit_seq_est_type.eps\")"
   ]
  },
  {
   "cell_type": "code",
   "execution_count": null,
   "metadata": {},
   "outputs": [],
   "source": [
    "df_max_time = df_res[df_res[\"max_time\"] == 1800]\n",
    "df_max_time"
   ]
  },
  {
   "cell_type": "code",
   "execution_count": null,
   "metadata": {},
   "outputs": [],
   "source": [
    "x = df_max_time[\"seq_len\"].to_numpy()\n",
    "y = df_max_time[\"seq_est_len\"].to_numpy()\n",
    "z = df_max_time[\"FIT\"].to_numpy()\n",
    "\n",
    "fig, ax = plt.subplots()\n",
    "scatter = plt.scatter(x, y, c=z, s=100, cmap = 'rainbow')\n",
    "\n",
    "#legend1 = ax.legend(*scatter.legend_elements(num=6),\n",
    "#                    loc=\"upper right\", title=\"FIT\", bbox_to_anchor=(1.4, 1))\n",
    "\n",
    "#legend1 = ax.legend(\n",
    "#                    loc=\"upper right\", title=\"FIT\", bbox_to_anchor=(1.4, 1))\n",
    "#ax.add_artist(legend1)\n",
    "#plt.colorbar(cax=cax, ax=ax)\n",
    "plt.colorbar(scatter, label='FIT')\n",
    "plt.tight_layout(rect=[0,0,1,1])\n",
    "#plt.tight_layout()\n",
    "ax.set_xlabel(\"seq_est_len $m_e$\", fontsize = 14)\n",
    "ax.set_ylabel(\"seq_fit_len $m_f$\", fontsize = 14)\n",
    "\n",
    "ax.grid(True)"
   ]
  },
  {
   "cell_type": "code",
   "execution_count": null,
   "metadata": {},
   "outputs": [],
   "source": [
    "x = x.astype('float32') +  10*np.random.rand(x.size)\n",
    "y = y.astype('float32') +  5*np.random.rand(x.size)\n",
    "z = z.astype('float32')\n",
    "\n",
    "fig, ax = plt.subplots()\n",
    "\n",
    "scatter = ax.scatter(x, y, c=z, s=10, cmap='rainbow')\n",
    "\n",
    "# Produce a legend for the ranking (colors). Even though there are 40 different\n",
    "# rankings, we only want to show 5 of them in the legend.\n",
    "#legend1 = ax.legend(*scatter.legend_elements(num=6),\n",
    "#                    loc=\"upper right\", title=\"FIT\", bbox_to_anchor=(1.4, 1))\n",
    "#ax.add_artist(legend1)\n",
    "#plt.tight_layout(rect=[0,0,1,1])\n",
    "plt.colorbar(scatter, label='FIT')\n",
    "plt.tight_layout(rect=[0,0,1,1])\n",
    "ax.set_xlabel(\"seq_fit_len $m_f$\", fontsize = 14)\n",
    "ax.set_ylabel(\"seq_est_len $m_e$\", fontsize = 14)\n",
    "\n",
    "ax.grid(True)\n",
    "\n",
    "plt.savefig(\"figures/PP_max_time_est_vs_fit.eps\")"
   ]
  }
 ],
 "metadata": {
  "kernelspec": {
   "display_name": "Python 3",
   "language": "python",
   "name": "python3"
  },
  "language_info": {
   "codemirror_mode": {
    "name": "ipython",
    "version": 3
   },
   "file_extension": ".py",
   "mimetype": "text/x-python",
   "name": "python",
   "nbconvert_exporter": "python",
   "pygments_lexer": "ipython3",
   "version": "3.7.4"
  }
 },
 "nbformat": 4,
 "nbformat_minor": 5
}
