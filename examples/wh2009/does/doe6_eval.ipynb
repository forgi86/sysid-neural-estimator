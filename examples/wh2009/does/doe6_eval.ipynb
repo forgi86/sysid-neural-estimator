{
 "cells": [
  {
   "cell_type": "code",
   "execution_count": 1,
   "id": "0e8c6b55",
   "metadata": {
    "pycharm": {
     "name": "#%%\n"
    }
   },
   "outputs": [],
   "source": [
    "import os\n",
    "import matplotlib\n",
    "import matplotlib.pyplot as plt\n",
    "import plotly\n",
    "from plotly.subplots import make_subplots\n",
    "import plotly.graph_objects as go\n",
    "import plotly.express as px\n",
    "import seaborn as sns\n",
    "import pandas as pd\n",
    "import numpy as np"
   ]
  },
  {
   "cell_type": "code",
   "execution_count": 2,
   "id": "4f24c10e",
   "metadata": {
    "pycharm": {
     "name": "#%%\n"
    }
   },
   "outputs": [],
   "source": [
    "font = {'size'   : 12,\n",
    "        'family': 'serif'}\n",
    "\n",
    "matplotlib.rc('font', **font)\n",
    "sns.set_style(\"whitegrid\")"
   ]
  },
  {
   "cell_type": "code",
   "execution_count": 3,
   "id": "adac7b40",
   "metadata": {
    "pycharm": {
     "name": "#%%\n"
    }
   },
   "outputs": [],
   "source": [
    "DOE_NAME = \"doe6\""
   ]
  },
  {
   "cell_type": "code",
   "execution_count": 4,
   "id": "4a73f474",
   "metadata": {
    "pycharm": {
     "name": "#%%\n"
    }
   },
   "outputs": [],
   "source": [
    "df_res = pd.read_csv(DOE_NAME + \"_res.csv\")  # doe1_res.csv\n",
    "df_res.sort_values(by=\"FIT\", inplace=True, ascending=False)"
   ]
  },
  {
   "cell_type": "markdown",
   "id": "be219946",
   "metadata": {
    "pycharm": {
     "name": "#%% md\n"
    }
   },
   "source": [
    "# Exploratory analysis"
   ]
  },
  {
   "cell_type": "code",
   "execution_count": 5,
   "id": "6e42ce51",
   "metadata": {
    "pycharm": {
     "name": "#%%\n"
    }
   },
   "outputs": [
    {
     "data": {
      "text/html": [
       "<div>\n",
       "<style scoped>\n",
       "    .dataframe tbody tr th:only-of-type {\n",
       "        vertical-align: middle;\n",
       "    }\n",
       "\n",
       "    .dataframe tbody tr th {\n",
       "        vertical-align: top;\n",
       "    }\n",
       "\n",
       "    .dataframe thead th {\n",
       "        text-align: right;\n",
       "    }\n",
       "</style>\n",
       "<table border=\"1\" class=\"dataframe\">\n",
       "  <thead>\n",
       "    <tr style=\"text-align: right;\">\n",
       "      <th></th>\n",
       "      <th>experiment_id</th>\n",
       "      <th>lr</th>\n",
       "      <th>epochs</th>\n",
       "      <th>max_time</th>\n",
       "      <th>batch_size</th>\n",
       "      <th>seq_len</th>\n",
       "      <th>seq_est_len</th>\n",
       "      <th>est_direction</th>\n",
       "      <th>est_type</th>\n",
       "      <th>est_hidden_size</th>\n",
       "      <th>rep</th>\n",
       "      <th>seed</th>\n",
       "      <th>FIT</th>\n",
       "      <th>RMSE</th>\n",
       "    </tr>\n",
       "  </thead>\n",
       "  <tbody>\n",
       "    <tr>\n",
       "      <th>29</th>\n",
       "      <td>44</td>\n",
       "      <td>0.001</td>\n",
       "      <td>10000</td>\n",
       "      <td>3600</td>\n",
       "      <td>128</td>\n",
       "      <td>80</td>\n",
       "      <td>40</td>\n",
       "      <td>forward</td>\n",
       "      <td>LSTM</td>\n",
       "      <td>15</td>\n",
       "      <td>44</td>\n",
       "      <td>4</td>\n",
       "      <td>99.051842</td>\n",
       "      <td>2.267499</td>\n",
       "    </tr>\n",
       "    <tr>\n",
       "      <th>87</th>\n",
       "      <td>23</td>\n",
       "      <td>0.001</td>\n",
       "      <td>10000</td>\n",
       "      <td>3600</td>\n",
       "      <td>128</td>\n",
       "      <td>80</td>\n",
       "      <td>40</td>\n",
       "      <td>forward</td>\n",
       "      <td>LSTM</td>\n",
       "      <td>15</td>\n",
       "      <td>23</td>\n",
       "      <td>71</td>\n",
       "      <td>98.907913</td>\n",
       "      <td>2.611704</td>\n",
       "    </tr>\n",
       "    <tr>\n",
       "      <th>41</th>\n",
       "      <td>66</td>\n",
       "      <td>0.001</td>\n",
       "      <td>10000</td>\n",
       "      <td>3600</td>\n",
       "      <td>128</td>\n",
       "      <td>80</td>\n",
       "      <td>40</td>\n",
       "      <td>forward</td>\n",
       "      <td>LSTM</td>\n",
       "      <td>15</td>\n",
       "      <td>66</td>\n",
       "      <td>32</td>\n",
       "      <td>98.894150</td>\n",
       "      <td>2.644618</td>\n",
       "    </tr>\n",
       "    <tr>\n",
       "      <th>79</th>\n",
       "      <td>50</td>\n",
       "      <td>0.001</td>\n",
       "      <td>10000</td>\n",
       "      <td>3600</td>\n",
       "      <td>128</td>\n",
       "      <td>80</td>\n",
       "      <td>40</td>\n",
       "      <td>forward</td>\n",
       "      <td>LSTM</td>\n",
       "      <td>15</td>\n",
       "      <td>50</td>\n",
       "      <td>91</td>\n",
       "      <td>98.885284</td>\n",
       "      <td>2.665807</td>\n",
       "    </tr>\n",
       "    <tr>\n",
       "      <th>49</th>\n",
       "      <td>57</td>\n",
       "      <td>0.001</td>\n",
       "      <td>10000</td>\n",
       "      <td>3600</td>\n",
       "      <td>128</td>\n",
       "      <td>80</td>\n",
       "      <td>40</td>\n",
       "      <td>forward</td>\n",
       "      <td>LSTM</td>\n",
       "      <td>15</td>\n",
       "      <td>57</td>\n",
       "      <td>35</td>\n",
       "      <td>98.862015</td>\n",
       "      <td>2.721459</td>\n",
       "    </tr>\n",
       "    <tr>\n",
       "      <th>75</th>\n",
       "      <td>88</td>\n",
       "      <td>0.001</td>\n",
       "      <td>10000</td>\n",
       "      <td>3600</td>\n",
       "      <td>128</td>\n",
       "      <td>80</td>\n",
       "      <td>40</td>\n",
       "      <td>forward</td>\n",
       "      <td>LSTM</td>\n",
       "      <td>15</td>\n",
       "      <td>88</td>\n",
       "      <td>88</td>\n",
       "      <td>98.853806</td>\n",
       "      <td>2.741093</td>\n",
       "    </tr>\n",
       "    <tr>\n",
       "      <th>67</th>\n",
       "      <td>32</td>\n",
       "      <td>0.001</td>\n",
       "      <td>10000</td>\n",
       "      <td>3600</td>\n",
       "      <td>128</td>\n",
       "      <td>80</td>\n",
       "      <td>40</td>\n",
       "      <td>forward</td>\n",
       "      <td>LSTM</td>\n",
       "      <td>15</td>\n",
       "      <td>32</td>\n",
       "      <td>90</td>\n",
       "      <td>98.826202</td>\n",
       "      <td>2.807105</td>\n",
       "    </tr>\n",
       "    <tr>\n",
       "      <th>3</th>\n",
       "      <td>92</td>\n",
       "      <td>0.001</td>\n",
       "      <td>10000</td>\n",
       "      <td>3600</td>\n",
       "      <td>128</td>\n",
       "      <td>80</td>\n",
       "      <td>40</td>\n",
       "      <td>forward</td>\n",
       "      <td>LSTM</td>\n",
       "      <td>15</td>\n",
       "      <td>92</td>\n",
       "      <td>21</td>\n",
       "      <td>98.823860</td>\n",
       "      <td>2.812699</td>\n",
       "    </tr>\n",
       "    <tr>\n",
       "      <th>5</th>\n",
       "      <td>87</td>\n",
       "      <td>0.001</td>\n",
       "      <td>10000</td>\n",
       "      <td>3600</td>\n",
       "      <td>128</td>\n",
       "      <td>80</td>\n",
       "      <td>40</td>\n",
       "      <td>forward</td>\n",
       "      <td>LSTM</td>\n",
       "      <td>15</td>\n",
       "      <td>87</td>\n",
       "      <td>12</td>\n",
       "      <td>98.819908</td>\n",
       "      <td>2.822162</td>\n",
       "    </tr>\n",
       "    <tr>\n",
       "      <th>17</th>\n",
       "      <td>6</td>\n",
       "      <td>0.001</td>\n",
       "      <td>10000</td>\n",
       "      <td>3600</td>\n",
       "      <td>128</td>\n",
       "      <td>80</td>\n",
       "      <td>40</td>\n",
       "      <td>forward</td>\n",
       "      <td>LSTM</td>\n",
       "      <td>15</td>\n",
       "      <td>6</td>\n",
       "      <td>16</td>\n",
       "      <td>98.805687</td>\n",
       "      <td>2.856156</td>\n",
       "    </tr>\n",
       "  </tbody>\n",
       "</table>\n",
       "</div>"
      ],
      "text/plain": [
       "    experiment_id     lr  epochs  max_time  batch_size  seq_len  seq_est_len  \\\n",
       "29             44  0.001   10000      3600         128       80           40   \n",
       "87             23  0.001   10000      3600         128       80           40   \n",
       "41             66  0.001   10000      3600         128       80           40   \n",
       "79             50  0.001   10000      3600         128       80           40   \n",
       "49             57  0.001   10000      3600         128       80           40   \n",
       "75             88  0.001   10000      3600         128       80           40   \n",
       "67             32  0.001   10000      3600         128       80           40   \n",
       "3              92  0.001   10000      3600         128       80           40   \n",
       "5              87  0.001   10000      3600         128       80           40   \n",
       "17              6  0.001   10000      3600         128       80           40   \n",
       "\n",
       "   est_direction est_type  est_hidden_size  rep  seed        FIT      RMSE  \n",
       "29       forward     LSTM               15   44     4  99.051842  2.267499  \n",
       "87       forward     LSTM               15   23    71  98.907913  2.611704  \n",
       "41       forward     LSTM               15   66    32  98.894150  2.644618  \n",
       "79       forward     LSTM               15   50    91  98.885284  2.665807  \n",
       "49       forward     LSTM               15   57    35  98.862015  2.721459  \n",
       "75       forward     LSTM               15   88    88  98.853806  2.741093  \n",
       "67       forward     LSTM               15   32    90  98.826202  2.807105  \n",
       "3        forward     LSTM               15   92    21  98.823860  2.812699  \n",
       "5        forward     LSTM               15   87    12  98.819908  2.822162  \n",
       "17       forward     LSTM               15    6    16  98.805687  2.856156  "
      ]
     },
     "execution_count": 5,
     "metadata": {},
     "output_type": "execute_result"
    }
   ],
   "source": [
    "df_res.head(10)"
   ]
  },
  {
   "cell_type": "code",
   "execution_count": 6,
   "id": "7f8775ba",
   "metadata": {
    "pycharm": {
     "name": "#%%\n"
    },
    "scrolled": false
   },
   "outputs": [
    {
     "data": {
      "text/html": [
       "<div>\n",
       "<style scoped>\n",
       "    .dataframe tbody tr th:only-of-type {\n",
       "        vertical-align: middle;\n",
       "    }\n",
       "\n",
       "    .dataframe tbody tr th {\n",
       "        vertical-align: top;\n",
       "    }\n",
       "\n",
       "    .dataframe thead th {\n",
       "        text-align: right;\n",
       "    }\n",
       "</style>\n",
       "<table border=\"1\" class=\"dataframe\">\n",
       "  <thead>\n",
       "    <tr style=\"text-align: right;\">\n",
       "      <th></th>\n",
       "      <th>experiment_id</th>\n",
       "      <th>lr</th>\n",
       "      <th>epochs</th>\n",
       "      <th>max_time</th>\n",
       "      <th>batch_size</th>\n",
       "      <th>seq_len</th>\n",
       "      <th>seq_est_len</th>\n",
       "      <th>est_direction</th>\n",
       "      <th>est_type</th>\n",
       "      <th>est_hidden_size</th>\n",
       "      <th>rep</th>\n",
       "      <th>seed</th>\n",
       "      <th>FIT</th>\n",
       "      <th>RMSE</th>\n",
       "    </tr>\n",
       "  </thead>\n",
       "  <tbody>\n",
       "    <tr>\n",
       "      <th>57</th>\n",
       "      <td>13</td>\n",
       "      <td>0.001</td>\n",
       "      <td>10000</td>\n",
       "      <td>3600</td>\n",
       "      <td>128</td>\n",
       "      <td>80</td>\n",
       "      <td>40</td>\n",
       "      <td>forward</td>\n",
       "      <td>LSTM</td>\n",
       "      <td>15</td>\n",
       "      <td>13</td>\n",
       "      <td>13</td>\n",
       "      <td>97.997360</td>\n",
       "      <td>4.789263</td>\n",
       "    </tr>\n",
       "    <tr>\n",
       "      <th>68</th>\n",
       "      <td>51</td>\n",
       "      <td>0.001</td>\n",
       "      <td>10000</td>\n",
       "      <td>3600</td>\n",
       "      <td>128</td>\n",
       "      <td>80</td>\n",
       "      <td>40</td>\n",
       "      <td>forward</td>\n",
       "      <td>LSTM</td>\n",
       "      <td>15</td>\n",
       "      <td>51</td>\n",
       "      <td>59</td>\n",
       "      <td>97.932449</td>\n",
       "      <td>4.944503</td>\n",
       "    </tr>\n",
       "    <tr>\n",
       "      <th>12</th>\n",
       "      <td>9</td>\n",
       "      <td>0.001</td>\n",
       "      <td>10000</td>\n",
       "      <td>3600</td>\n",
       "      <td>128</td>\n",
       "      <td>80</td>\n",
       "      <td>40</td>\n",
       "      <td>forward</td>\n",
       "      <td>LSTM</td>\n",
       "      <td>15</td>\n",
       "      <td>9</td>\n",
       "      <td>95</td>\n",
       "      <td>97.917725</td>\n",
       "      <td>4.979711</td>\n",
       "    </tr>\n",
       "    <tr>\n",
       "      <th>16</th>\n",
       "      <td>33</td>\n",
       "      <td>0.001</td>\n",
       "      <td>10000</td>\n",
       "      <td>3600</td>\n",
       "      <td>128</td>\n",
       "      <td>80</td>\n",
       "      <td>40</td>\n",
       "      <td>forward</td>\n",
       "      <td>LSTM</td>\n",
       "      <td>15</td>\n",
       "      <td>33</td>\n",
       "      <td>68</td>\n",
       "      <td>97.898643</td>\n",
       "      <td>5.025342</td>\n",
       "    </tr>\n",
       "    <tr>\n",
       "      <th>10</th>\n",
       "      <td>61</td>\n",
       "      <td>0.001</td>\n",
       "      <td>10000</td>\n",
       "      <td>3600</td>\n",
       "      <td>128</td>\n",
       "      <td>80</td>\n",
       "      <td>40</td>\n",
       "      <td>forward</td>\n",
       "      <td>LSTM</td>\n",
       "      <td>15</td>\n",
       "      <td>61</td>\n",
       "      <td>31</td>\n",
       "      <td>97.804085</td>\n",
       "      <td>5.251478</td>\n",
       "    </tr>\n",
       "    <tr>\n",
       "      <th>97</th>\n",
       "      <td>93</td>\n",
       "      <td>0.001</td>\n",
       "      <td>10000</td>\n",
       "      <td>3600</td>\n",
       "      <td>128</td>\n",
       "      <td>80</td>\n",
       "      <td>40</td>\n",
       "      <td>forward</td>\n",
       "      <td>LSTM</td>\n",
       "      <td>15</td>\n",
       "      <td>93</td>\n",
       "      <td>83</td>\n",
       "      <td>97.795105</td>\n",
       "      <td>5.272941</td>\n",
       "    </tr>\n",
       "    <tr>\n",
       "      <th>59</th>\n",
       "      <td>56</td>\n",
       "      <td>0.001</td>\n",
       "      <td>10000</td>\n",
       "      <td>3600</td>\n",
       "      <td>128</td>\n",
       "      <td>80</td>\n",
       "      <td>40</td>\n",
       "      <td>forward</td>\n",
       "      <td>LSTM</td>\n",
       "      <td>15</td>\n",
       "      <td>56</td>\n",
       "      <td>11</td>\n",
       "      <td>97.662186</td>\n",
       "      <td>5.590814</td>\n",
       "    </tr>\n",
       "    <tr>\n",
       "      <th>95</th>\n",
       "      <td>42</td>\n",
       "      <td>0.001</td>\n",
       "      <td>10000</td>\n",
       "      <td>3600</td>\n",
       "      <td>128</td>\n",
       "      <td>80</td>\n",
       "      <td>40</td>\n",
       "      <td>forward</td>\n",
       "      <td>LSTM</td>\n",
       "      <td>15</td>\n",
       "      <td>42</td>\n",
       "      <td>42</td>\n",
       "      <td>97.559433</td>\n",
       "      <td>5.836542</td>\n",
       "    </tr>\n",
       "    <tr>\n",
       "      <th>8</th>\n",
       "      <td>12</td>\n",
       "      <td>0.001</td>\n",
       "      <td>10000</td>\n",
       "      <td>3600</td>\n",
       "      <td>128</td>\n",
       "      <td>80</td>\n",
       "      <td>40</td>\n",
       "      <td>forward</td>\n",
       "      <td>LSTM</td>\n",
       "      <td>15</td>\n",
       "      <td>12</td>\n",
       "      <td>78</td>\n",
       "      <td>97.450867</td>\n",
       "      <td>6.096192</td>\n",
       "    </tr>\n",
       "    <tr>\n",
       "      <th>9</th>\n",
       "      <td>17</td>\n",
       "      <td>0.001</td>\n",
       "      <td>10000</td>\n",
       "      <td>3600</td>\n",
       "      <td>128</td>\n",
       "      <td>80</td>\n",
       "      <td>40</td>\n",
       "      <td>forward</td>\n",
       "      <td>LSTM</td>\n",
       "      <td>15</td>\n",
       "      <td>17</td>\n",
       "      <td>24</td>\n",
       "      <td>97.442879</td>\n",
       "      <td>6.115288</td>\n",
       "    </tr>\n",
       "  </tbody>\n",
       "</table>\n",
       "</div>"
      ],
      "text/plain": [
       "    experiment_id     lr  epochs  max_time  batch_size  seq_len  seq_est_len  \\\n",
       "57             13  0.001   10000      3600         128       80           40   \n",
       "68             51  0.001   10000      3600         128       80           40   \n",
       "12              9  0.001   10000      3600         128       80           40   \n",
       "16             33  0.001   10000      3600         128       80           40   \n",
       "10             61  0.001   10000      3600         128       80           40   \n",
       "97             93  0.001   10000      3600         128       80           40   \n",
       "59             56  0.001   10000      3600         128       80           40   \n",
       "95             42  0.001   10000      3600         128       80           40   \n",
       "8              12  0.001   10000      3600         128       80           40   \n",
       "9              17  0.001   10000      3600         128       80           40   \n",
       "\n",
       "   est_direction est_type  est_hidden_size  rep  seed        FIT      RMSE  \n",
       "57       forward     LSTM               15   13    13  97.997360  4.789263  \n",
       "68       forward     LSTM               15   51    59  97.932449  4.944503  \n",
       "12       forward     LSTM               15    9    95  97.917725  4.979711  \n",
       "16       forward     LSTM               15   33    68  97.898643  5.025342  \n",
       "10       forward     LSTM               15   61    31  97.804085  5.251478  \n",
       "97       forward     LSTM               15   93    83  97.795105  5.272941  \n",
       "59       forward     LSTM               15   56    11  97.662186  5.590814  \n",
       "95       forward     LSTM               15   42    42  97.559433  5.836542  \n",
       "8        forward     LSTM               15   12    78  97.450867  6.096192  \n",
       "9        forward     LSTM               15   17    24  97.442879  6.115288  "
      ]
     },
     "execution_count": 6,
     "metadata": {},
     "output_type": "execute_result"
    }
   ],
   "source": [
    "df_res.tail(10)"
   ]
  },
  {
   "cell_type": "code",
   "execution_count": 7,
   "id": "fea0d213",
   "metadata": {
    "pycharm": {
     "name": "#%%\n"
    }
   },
   "outputs": [
    {
     "data": {
      "image/png": "[encoded data removed]",
      "text/plain": [
       "<Figure size 432x288 with 1 Axes>"
      ]
     },
     "metadata": {},
     "output_type": "display_data"
    }
   ],
   "source": [
    "plt.hist(df_res[\"FIT\"]);\n",
    "plt.xlabel(\"FIT index (%)\")\n",
    "plt.ylabel(\"Counts (-)\");\n",
    "plt.savefig(\"wh_best_hist.pdf\")"
   ]
  },
  {
   "cell_type": "code",
   "execution_count": 8,
   "id": "d31aad10",
   "metadata": {
    "pycharm": {
     "name": "#%%\n"
    }
   },
   "outputs": [
    {
     "data": {
      "text/plain": [
       "count    100.000000\n",
       "mean      98.438253\n",
       "std        0.320556\n",
       "min       97.442879\n",
       "25%       98.310240\n",
       "50%       98.473541\n",
       "75%       98.658792\n",
       "max       99.051842\n",
       "Name: FIT, dtype: float64"
      ]
     },
     "execution_count": 8,
     "metadata": {},
     "output_type": "execute_result"
    }
   ],
   "source": [
    "df_res[\"FIT\"].describe()"
   ]
  },
  {
   "cell_type": "code",
   "execution_count": 9,
   "id": "fd6222a2",
   "metadata": {
    "pycharm": {
     "name": "#%%\n"
    }
   },
   "outputs": [
    {
     "data": {
      "image/png": "[encoded data removed]",
      "text/plain": [
       "<Figure size 432x288 with 1 Axes>"
      ]
     },
     "metadata": {},
     "output_type": "display_data"
    }
   ],
   "source": [
    "plt.boxplot(df_res[\"FIT\"]);\n",
    "plt.xlabel(\"FIT index (%)\")\n",
    "plt.ylabel(\"Counts (-)\");"
   ]
  },
  {
   "cell_type": "code",
   "execution_count": 10,
   "id": "26bcba9c",
   "metadata": {
    "pycharm": {
     "name": "#%%\n"
    }
   },
   "outputs": [
    {
     "data": {
      "image/png": "[encoded data removed]",
      "text/plain": [
       "<Figure size 432x288 with 1 Axes>"
      ]
     },
     "metadata": {},
     "output_type": "display_data"
    }
   ],
   "source": [
    "plt.boxplot(df_res[\"FIT\"]);\n",
    "plt.xlabel(\"FIT index (%)\")\n",
    "plt.ylabel(\"Counts (-)\");"
   ]
  },
  {
   "cell_type": "code",
   "execution_count": 11,
   "id": "a62da16b",
   "metadata": {
    "pycharm": {
     "name": "#%%\n"
    }
   },
   "outputs": [
    {
     "data": {
      "image/png": "[encoded data removed]",
      "text/plain": [
       "<Figure size 432x288 with 1 Axes>"
      ]
     },
     "metadata": {},
     "output_type": "display_data"
    }
   ],
   "source": [
    "plt.boxplot(df_res[\"FIT\"]);\n",
    "plt.xlabel(\"FIT index (%)\")\n",
    "plt.ylabel(\"Counts (-)\");"
   ]
  }
 ],
 "metadata": {
  "kernelspec": {
   "display_name": "Python 3 (ipykernel)",
   "language": "python",
   "name": "python3"
  },
  "language_info": {
   "codemirror_mode": {
    "name": "ipython",
    "version": 3
   },
   "file_extension": ".py",
   "mimetype": "text/x-python",
   "name": "python",
   "nbconvert_exporter": "python",
   "pygments_lexer": "ipython3",
   "version": "3.10.4"
  }
 },
 "nbformat": 4,
 "nbformat_minor": 5
}