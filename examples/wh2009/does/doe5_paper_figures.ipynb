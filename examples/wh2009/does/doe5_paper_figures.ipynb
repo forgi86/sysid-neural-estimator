{
 "cells": [
  {
   "cell_type": "code",
   "execution_count": 1,
   "id": "72d135f8",
   "metadata": {
    "pycharm": {
     "name": "#%%\n"
    }
   },
   "outputs": [],
   "source": [
    "import os\n",
    "import matplotlib as mpl\n",
    "import matplotlib.pyplot as plt\n",
    "import plotly\n",
    "from plotly.subplots import make_subplots\n",
    "import plotly.graph_objects as go\n",
    "import plotly.express as px\n",
    "import seaborn as sns\n",
    "import pandas as pd\n",
    "import numpy as np"
   ]
  },
  {
   "cell_type": "code",
   "execution_count": 2,
   "id": "d193621b",
   "metadata": {
    "pycharm": {
     "name": "#%%\n"
    }
   },
   "outputs": [],
   "source": [
    "font = {'size'   : 14,\n",
    "        'family': 'serif'}\n",
    "\n",
    "mpl.rc('font', **font)\n",
    "sns.set_style(\"whitegrid\")"
   ]
  },
  {
   "cell_type": "code",
   "execution_count": null,
   "outputs": [],
   "source": [
    "mpl.rcParams[\"axes.labelsize\"] = \"large\"\n",
    "mpl.rcParams[\"legend.fontsize\"] = \"large\""
   ],
   "metadata": {
    "collapsed": false,
    "pycharm": {
     "name": "#%%\n"
    }
   }
  },
  {
   "cell_type": "code",
   "execution_count": null,
   "outputs": [],
   "source": [
    "DOE_NAME = \"doe5\"\n",
    "factors = [\"max_time\", \"batch_size\", \"seq_len\", \"seq_est_len\",  \"est_type\"]\n",
    "response = \"FIT\""
   ],
   "metadata": {
    "collapsed": false,
    "pycharm": {
     "name": "#%%\n"
    }
   }
  },
  {
   "cell_type": "code",
   "execution_count": null,
   "outputs": [],
   "source": [
    "df_res = pd.read_csv(DOE_NAME + \"_res.csv\")  # doe1_res.csv\n",
    "df_res[\"est_type\"] = df_res[\"est_type\"].replace({\"RAND\": \"R\", \"FF\": \"F\", \"ZERO\": \"Z\", \"LSTM\": \"L\"})"
   ],
   "metadata": {
    "collapsed": false,
    "pycharm": {
     "name": "#%%\n"
    }
   }
  },
  {
   "cell_type": "code",
   "execution_count": null,
   "outputs": [],
   "source": [
    "df_res.sort_values(by=response, inplace=True, ascending=False)\n",
    "df_res[\"RMSE\"] = df_res[\"RMSE\"].fillna(1000)\n",
    "df_res[\"FIT\"] = df_res[\"FIT\"] * (df_res[\"FIT\"] > 0) # minimum fit to 0% (easier to interpret)\n",
    "df_res[\"FIT\"] = df_res[\"FIT\"].fillna(0.0)\n",
    "#df_res[\"FIT\"] = df_res[\"FIT\"].fillna(np.min(df_res[\"FIT\"])-0.1)"
   ],
   "metadata": {
    "collapsed": false,
    "pycharm": {
     "name": "#%%\n"
    }
   }
  },
  {
   "cell_type": "code",
   "execution_count": null,
   "outputs": [],
   "source": [
    "for factor in factors:\n",
    "    df_res[factor] = df_res[factor].astype(\"category\")"
   ],
   "metadata": {
    "collapsed": false,
    "pycharm": {
     "name": "#%%\n"
    }
   }
  },
  {
   "cell_type": "code",
   "execution_count": null,
   "outputs": [],
   "source": [
    "# Full results: main effects\n",
    "factors = [\"max_time\", \"batch_size\", \"seq_len\", \"seq_est_len\",  \"est_type\"]\n",
    "factor_names = [\"train_time (s)\",\n",
    "                \"batch_size $b$\",\n",
    "                \"seq_fit_len $m_f$\",\n",
    "                \"seq_est_len $m_e$\",\n",
    "                \"est_type\"]\n",
    "\n",
    "#fig, ax = pyplot.subplots(figsize=(10,10))\n",
    "g = sns.PairGrid(df_res, y_vars=response,\n",
    "                 x_vars=factors, # all factors\n",
    "                 height=5, aspect=.5)\n",
    "g.map(sns.pointplot, scale=1.3)\n",
    "sns.despine(fig=g.fig, left=True)\n",
    "\n",
    "for idx in range(len(factors)):\n",
    "    g.axes[0, idx].xaxis.set_label_text(factor_names[idx])\n",
    "    g.axes[0, idx].yaxis.set_label_text(\"FIT index (%)\")\n",
    "g.fig.set_size_inches(12, 5)\n",
    "plt.tight_layout()\n",
    "plt.savefig(\"wh_main_effects.pdf\")\n",
    "# Biggest effect seems to be max_time"
   ],
   "metadata": {
    "collapsed": false,
    "pycharm": {
     "name": "#%%\n"
    }
   }
  },
  {
   "cell_type": "code",
   "execution_count": null,
   "outputs": [],
   "source": [
    "font = {'size'   : 16,\n",
    "        'family': 'serif'}\n",
    "\n",
    "mpl.rc('font', **font)"
   ],
   "metadata": {
    "collapsed": false,
    "pycharm": {
     "name": "#%%\n"
    }
   }
  },
  {
   "cell_type": "code",
   "execution_count": null,
   "outputs": [],
   "source": [
    "# Full results: main effects\n",
    "factors = [\"batch_size\", \"seq_len\", \"seq_est_len\",  \"est_type\"]\n",
    "factor_names = [\"batch_size $b$\",\n",
    "                \"seq_fit_len $m_f$\",\n",
    "                \"seq_est_len $m_e$\",\n",
    "                \"est_type\"]\n",
    "g = sns.PairGrid(df_res, y_vars=response,\n",
    "                 x_vars=factors, # all factors\n",
    "                 hue=\"max_time\",\n",
    "                 height=5, aspect=.5)\n",
    "g.map(sns.pointplot, scale=1.3)\n",
    "sns.despine(fig=g.fig, left=True)\n",
    "for idx in range(len(factors)):\n",
    "    g.axes[0, idx].xaxis.set_label_text(factor_names[idx])\n",
    "    g.axes[0, idx].yaxis.set_label_text(\"FIT index (%)\")\n",
    "g.fig.set_size_inches(12, 4)\n",
    "plt.tight_layout()\n",
    "g.add_legend()#title = \"train time (s)\")\n",
    "plt.savefig(\"wh_train_time_interactions.pdf\")\n",
    "# Biggest effect seems to be max_time"
   ],
   "metadata": {
    "collapsed": false,
    "pycharm": {
     "name": "#%%\n"
    }
   }
  },
  {
   "cell_type": "code",
   "execution_count": null,
   "outputs": [],
   "source": [
    "df_short_est = pd.DataFrame(df_res[(df_res[\"seq_est_len\"] == 10) & (df_res[\"max_time\"] == 3600)])"
   ],
   "metadata": {
    "collapsed": false,
    "pycharm": {
     "name": "#%%\n"
    }
   }
  },
  {
   "cell_type": "code",
   "execution_count": null,
   "outputs": [],
   "source": [
    "# Full results: main effects\n",
    "factors = [\"batch_size\", \"seq_len\", \"est_type\"]\n",
    "factor_names = [\"batch_size $b$\",\n",
    "                \"seq_fit_len $m_f$\",\n",
    "                \"est_type\"]\n",
    "g = sns.PairGrid(df_short_est, y_vars=response,\n",
    "                 x_vars=[\"batch_size\", \"seq_len\", \"est_type\"],\n",
    "                 height=5, aspect=.5)\n",
    "g.map(sns.pointplot, scale=1.3)\n",
    "sns.despine(fig=g.fig, left=True)\n",
    "for idx in range(len(factors)):\n",
    "    g.axes[0, idx].xaxis.set_label_text(factor_names[idx])\n",
    "    g.axes[0, idx].yaxis.set_label_text(\"FIT index (%)\")\n",
    "plt.tight_layout()\n",
    "g.fig.set_size_inches(10,5)\n",
    "#plt.savefig(\"wh_main_effects_restricted.pdf\")\n",
    "# Biggest effect seems to be max_time"
   ],
   "metadata": {
    "collapsed": false,
    "pycharm": {
     "name": "#%%\n"
    }
   }
  },
  {
   "cell_type": "code",
   "execution_count": null,
   "outputs": [],
   "source": [
    "fig, ax = plt.subplots(1,1, figsize=(8, 4))\n",
    "g = sns.pointplot(x=\"seq_len\", y=response, hue=\"est_type\", data=df_short_est, ax=ax);\n",
    "g.axes.yaxis.set_label_text(\"FIT index\")\n",
    "g.axes.xaxis.set_label_text(\"seq_fit_len $m_f$\");\n",
    "g.legend(title = \"estimator type\");\n",
    "g.yaxis.set_label_text(\"FIT index (%)\")\n",
    "plt.legend(bbox_to_anchor=(1.05, 1), loc=2, borderaxespad=0., title=\"est_type\")\n",
    "plt.tight_layout()\n",
    "plt.savefig(\"wh_est_type_interactions_restricted.pdf\")"
   ],
   "metadata": {
    "collapsed": false,
    "pycharm": {
     "name": "#%%\n"
    }
   }
  },
  {
   "cell_type": "code",
   "execution_count": null,
   "outputs": [],
   "source": [
    "df_short_seq = pd.DataFrame(df_res[(df_res[\"seq_len\"] == 40) & (df_res[\"max_time\"] == 3600)])"
   ],
   "metadata": {
    "collapsed": false,
    "pycharm": {
     "name": "#%%\n"
    }
   }
  },
  {
   "cell_type": "code",
   "execution_count": null,
   "outputs": [],
   "source": [
    "# Full results: main effects\n",
    "factors = [\"batch_size\", \"seq_est_len\", \"est_type\"]\n",
    "factor_names = [\"batch_size $b$\",\n",
    "                \"seq_est_len $m_e$\",\n",
    "                \"est_type\"]\n",
    "g = sns.PairGrid(df_short_seq, y_vars=response,\n",
    "                 x_vars=factors,\n",
    "                 height=5, aspect=.8)\n",
    "g.map(sns.pointplot, scale=1.3)\n",
    "sns.despine(fig=g.fig, left=True)\n",
    "plt.savefig(\"wh_main_effects_restricted.pdf\")"
   ],
   "metadata": {
    "collapsed": false,
    "pycharm": {
     "name": "#%%\n"
    }
   }
  },
  {
   "cell_type": "code",
   "execution_count": null,
   "outputs": [],
   "source": [
    "df_short_seq[\"est_type\"] = df_short_seq[\"est_type\"].replace({\"R\": \"RAND\", \"F\": \"FF\", \"Z\": \"ZERO\", \"L\": \"LSTM\"})"
   ],
   "metadata": {
    "collapsed": false,
    "pycharm": {
     "name": "#%%\n"
    }
   }
  },
  {
   "cell_type": "code",
   "execution_count": null,
   "outputs": [],
   "source": [
    "fig, ax = plt.subplots(1,1, figsize=(8, 4))\n",
    "g = sns.pointplot(x=\"seq_est_len\", y=response, hue=\"est_type\", data=df_short_seq);\n",
    "g.axes.yaxis.set_label_text(\"FIT index\")\n",
    "g.axes.xaxis.set_label_text(\"seq_est_len $m_e$\");\n",
    "g.yaxis.set_label_text(\"FIT index (%)\")\n",
    "plt.legend(bbox_to_anchor=(1.05, 1), loc=2, borderaxespad=0., title=\"est_type\")\n",
    "plt.tight_layout()\n",
    "plt.savefig(\"wh_est_type_interactions_restricted.pdf\")"
   ],
   "metadata": {
    "collapsed": false,
    "pycharm": {
     "name": "#%%\n"
    }
   }
  }
 ],
 "metadata": {
  "kernelspec": {
   "display_name": "Python 3 (ipykernel)",
   "language": "python",
   "name": "python3"
  },
  "language_info": {
   "codemirror_mode": {
    "name": "ipython",
    "version": 3
   },
   "file_extension": ".py",
   "mimetype": "text/x-python",
   "name": "python",
   "nbconvert_exporter": "python",
   "pygments_lexer": "ipython3",
   "version": "3.10.4"
  }
 },
 "nbformat": 4,
 "nbformat_minor": 5
}