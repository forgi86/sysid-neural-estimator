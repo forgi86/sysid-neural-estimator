{
 "cells": [
  {
   "cell_type": "code",
   "execution_count": null,
   "id": "0e8c6b55",
   "metadata": {},
   "outputs": [],
   "source": [
    "import os\n",
    "import matplotlib\n",
    "import plotly\n",
    "import plotly.express as px\n",
    "import seaborn as sns\n",
    "import pandas as pd"
   ]
  },
  {
   "cell_type": "code",
   "execution_count": null,
   "id": "adac7b40",
   "metadata": {},
   "outputs": [],
   "source": [
    "DOE_NAME = \"doe3\"\n",
    "factors = [\"max_time\", \"batch_size\", \"seq_len\", \"seq_est_len\",  \"est_type\", \"lr\"]\n",
    "response = \"FIT\""
   ]
  },
  {
   "cell_type": "code",
   "execution_count": null,
   "id": "4a73f474",
   "metadata": {},
   "outputs": [],
   "source": [
    "df_res = pd.read_csv(DOE_NAME + \"_res.csv\")  # doe1_res.csv"
   ]
  },
  {
   "cell_type": "code",
   "execution_count": null,
   "id": "1cf7cb24",
   "metadata": {
    "scrolled": false
   },
   "outputs": [],
   "source": [
    "df_res.sort_values(by=response, inplace=True, ascending=False)\n",
    "df_res[\"RMSE\"] = df_res[\"RMSE\"].fillna(1000)\n",
    "df_res[\"FIT\"] = df_res[\"FIT\"].fillna(0.0)\n",
    "df_res[\"FIT\"] = df_res[\"FIT\"] * (df_res[\"FIT\"] > 0) # minimum fit to 0% (easier to interpret)\n"
   ]
  },
  {
   "cell_type": "code",
   "execution_count": null,
   "id": "b1af9fe9",
   "metadata": {},
   "outputs": [],
   "source": [
    "for factor in factors:\n",
    "    df_res[factor] = df_res[factor].astype(\"category\")"
   ]
  },
  {
   "cell_type": "code",
   "execution_count": null,
   "id": "6e42ce51",
   "metadata": {},
   "outputs": [],
   "source": [
    "df_res.head(20)"
   ]
  },
  {
   "cell_type": "code",
   "execution_count": null,
   "id": "7f8775ba",
   "metadata": {
    "scrolled": false
   },
   "outputs": [],
   "source": [
    "df_res.tail(20)"
   ]
  },
  {
   "cell_type": "code",
   "execution_count": null,
   "id": "261fcc03",
   "metadata": {
    "scrolled": false
   },
   "outputs": [],
   "source": [
    "# Full results: main effects\n",
    "g = sns.PairGrid(df_res, y_vars=response,\n",
    "                 x_vars=factors,\n",
    "                 height=5, aspect=.5)\n",
    "g.map(sns.pointplot, scale=1.3)\n",
    "sns.despine(fig=g.fig, left=True)"
   ]
  },
  {
   "cell_type": "code",
   "execution_count": null,
   "id": "bc750570",
   "metadata": {
    "scrolled": false
   },
   "outputs": [],
   "source": [
    "for factor in factors:\n",
    "    fig = px.box(df_res, y=\"FIT\",\n",
    "                     x=factor,\n",
    "                     hover_data=[\"max_time\", \"est_hidden_size\"])\n",
    "    fig.show()"
   ]
  },
  {
   "cell_type": "code",
   "execution_count": null,
   "id": "0a0c762f",
   "metadata": {
    "scrolled": true
   },
   "outputs": [],
   "source": [
    "df_res.groupby(\"seq_len\")[\"FIT\"].agg([\"mean\", \"std\"])\n",
    "#df_res.groupby(\"lr\")[\"FIT\"].agg([\"mean\", \"std\"])"
   ]
  },
  {
   "cell_type": "code",
   "execution_count": null,
   "id": "aa267c86",
   "metadata": {},
   "outputs": [],
   "source": [
    "#pd.pivot_table(df_res, index=[\"seq_len\"], columns=[\"est_type\"])"
   ]
  },
  {
   "cell_type": "code",
   "execution_count": null,
   "id": "77ba1a09",
   "metadata": {},
   "outputs": [],
   "source": [
    "fig = px.scatter(df_res, y=\"FIT\",\n",
    "                 facet_col=\"est_type\", facet_row=\"est_direction\", color=\"seq_len\",\n",
    "                 hover_data=[\"max_time\", \"seq_est_len\"])\n",
    "fig.show()"
   ]
  },
  {
   "cell_type": "code",
   "execution_count": null,
   "id": "2e699c9e",
   "metadata": {},
   "outputs": [],
   "source": [
    "df_30min = df_res[(df_res[\"max_time\"] != 300)]"
   ]
  },
  {
   "cell_type": "code",
   "execution_count": null,
   "id": "3ad941d4",
   "metadata": {},
   "outputs": [],
   "source": [
    "# Full results: main effects\n",
    "g = sns.PairGrid(df_30min, y_vars=response,\n",
    "                 x_vars=factors,\n",
    "                 height=5, aspect=.5)\n",
    "g.map(sns.pointplot, scale=1.3)\n",
    "sns.despine(fig=g.fig, left=True)"
   ]
  },
  {
   "cell_type": "code",
   "execution_count": null,
   "id": "f9d93033",
   "metadata": {},
   "outputs": [],
   "source": [
    "df_zero= df_res[(df_res[\"max_time\"] != 300) & ((df_res[\"est_type\"] == \"ZERO\"))]"
   ]
  },
  {
   "cell_type": "code",
   "execution_count": null,
   "id": "d44d95ff",
   "metadata": {},
   "outputs": [],
   "source": [
    "# Full results: main effects\n",
    "g = sns.PairGrid(df_zero, y_vars=response,\n",
    "                 x_vars=factors,\n",
    "                 height=5, aspect=.5)\n",
    "g.map(sns.pointplot, scale=1.3)\n",
    "sns.despine(fig=g.fig, left=True)"
   ]
  },
  {
   "cell_type": "code",
   "execution_count": null,
   "id": "8ce8bf95",
   "metadata": {},
   "outputs": [],
   "source": [
    "df_5min = df_res[(df_res[\"max_time\"] == 300)]"
   ]
  },
  {
   "cell_type": "code",
   "execution_count": null,
   "id": "7495c3dd",
   "metadata": {},
   "outputs": [],
   "source": [
    "# Full results: main effects\n",
    "g = sns.PairGrid(df_5min, y_vars=response,\n",
    "                 x_vars=factors,\n",
    "                 height=5, aspect=.5)\n",
    "g.map(sns.pointplot, scale=1.3)\n",
    "sns.despine(fig=g.fig, left=True)"
   ]
  },
  {
   "cell_type": "code",
   "execution_count": null,
   "id": "4a74633f",
   "metadata": {},
   "outputs": [],
   "source": [
    "df_good = df_res[(df_res[\"max_time\"] != 300) & (df_res[\"est_type\"]== \"FF\") & (df_res[\"lr\"]== 0.01)]"
   ]
  },
  {
   "cell_type": "code",
   "execution_count": null,
   "id": "49ecc9f4",
   "metadata": {},
   "outputs": [],
   "source": [
    "# Full results: main effects\n",
    "g = sns.PairGrid(df_good, y_vars=response,\n",
    "                 x_vars=factors,\n",
    "                 height=5, aspect=.5)\n",
    "g.map(sns.pointplot, scale=1.3)\n",
    "sns.despine(fig=g.fig, left=True)"
   ]
  },
  {
   "cell_type": "code",
   "execution_count": null,
   "id": "197dd8e5",
   "metadata": {},
   "outputs": [],
   "source": [
    "fig = px.scatter(df_30min, y=\"FIT\",\n",
    "                 facet_col=\"est_type\", facet_row=\"est_direction\", color=\"seq_len\",\n",
    "                 hover_data=[\"max_time\", \"seq_est_len\"])\n",
    "fig.show()"
   ]
  }
 ],
 "metadata": {
  "kernelspec": {
   "display_name": "Python 3 (ipykernel)",
   "language": "python",
   "name": "python3"
  },
  "language_info": {
   "codemirror_mode": {
    "name": "ipython",
    "version": 3
   },
   "file_extension": ".py",
   "mimetype": "text/x-python",
   "name": "python",
   "nbconvert_exporter": "python",
   "pygments_lexer": "ipython3",
   "version": "3.9.7"
  }
 },
 "nbformat": 4,
 "nbformat_minor": 5
}
