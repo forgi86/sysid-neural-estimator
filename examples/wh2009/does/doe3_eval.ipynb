{
 "cells": [
  {
   "cell_type": "code",
   "execution_count": 1,
   "id": "0e8c6b55",
   "metadata": {},
   "outputs": [],
   "source": [
    "import os\n",
    "import matplotlib\n",
    "import plotly\n",
    "import plotly.express as px\n",
    "import seaborn as sns\n",
    "import pandas as pd"
   ]
  },
  {
   "cell_type": "code",
   "execution_count": 2,
   "id": "adac7b40",
   "metadata": {},
   "outputs": [],
   "source": [
    "DOE_NAME = \"doe3\"\n",
    "factors = [\"max_time\", \"batch_size\", \"seq_len\", \"seq_est_len\",  \"est_type\", \"lr\"]\n",
    "response = \"FIT\""
   ]
  },
  {
   "cell_type": "code",
   "execution_count": 3,
   "id": "4a73f474",
   "metadata": {},
   "outputs": [],
   "source": [
    "df_res = pd.read_csv(DOE_NAME + \"_res.csv\")  # doe1_res.csv"
   ]
  },
  {
   "cell_type": "code",
   "execution_count": 4,
   "id": "1cf7cb24",
   "metadata": {
    "scrolled": false
   },
   "outputs": [],
   "source": [
    "df_res.sort_values(by=response, inplace=True, ascending=False)\n",
    "df_res[\"RMSE\"] = df_res[\"RMSE\"].fillna(1000)\n",
    "df_res[\"FIT\"] = df_res[\"FIT\"].fillna(0.0)\n",
    "df_res[\"FIT\"] = df_res[\"FIT\"] * (df_res[\"FIT\"] > 0) # minimum fit to 0% (easier to interpret)\n"
   ]
  },
  {
   "cell_type": "code",
   "execution_count": 5,
   "id": "b1af9fe9",
   "metadata": {},
   "outputs": [],
   "source": [
    "for factor in factors:\n",
    "    df_res[factor] = df_res[factor].astype(\"category\")"
   ]
  },
  {
   "cell_type": "code",
   "execution_count": 6,
   "id": "6e42ce51",
   "metadata": {},
   "outputs": [
    {
     "data": {
      "text/html": [
       "<div>\n",
       "<style scoped>\n",
       "    .dataframe tbody tr th:only-of-type {\n",
       "        vertical-align: middle;\n",
       "    }\n",
       "\n",
       "    .dataframe tbody tr th {\n",
       "        vertical-align: top;\n",
       "    }\n",
       "\n",
       "    .dataframe thead th {\n",
       "        text-align: right;\n",
       "    }\n",
       "</style>\n",
       "<table border=\"1\" class=\"dataframe\">\n",
       "  <thead>\n",
       "    <tr style=\"text-align: right;\">\n",
       "      <th></th>\n",
       "      <th>experiment_id</th>\n",
       "      <th>lr</th>\n",
       "      <th>epochs</th>\n",
       "      <th>max_time</th>\n",
       "      <th>batch_size</th>\n",
       "      <th>seq_len</th>\n",
       "      <th>seq_est_len</th>\n",
       "      <th>est_direction</th>\n",
       "      <th>est_type</th>\n",
       "      <th>est_hidden_size</th>\n",
       "      <th>seed</th>\n",
       "      <th>FIT</th>\n",
       "      <th>RMSE</th>\n",
       "    </tr>\n",
       "  </thead>\n",
       "  <tbody>\n",
       "    <tr>\n",
       "      <th>213</th>\n",
       "      <td>74</td>\n",
       "      <td>0.001</td>\n",
       "      <td>10000</td>\n",
       "      <td>1800</td>\n",
       "      <td>128</td>\n",
       "      <td>80</td>\n",
       "      <td>100</td>\n",
       "      <td>forward</td>\n",
       "      <td>LSTM</td>\n",
       "      <td>15</td>\n",
       "      <td>216</td>\n",
       "      <td>98.586807</td>\n",
       "      <td>3.379619</td>\n",
       "    </tr>\n",
       "    <tr>\n",
       "      <th>36</th>\n",
       "      <td>103</td>\n",
       "      <td>0.010</td>\n",
       "      <td>10000</td>\n",
       "      <td>1800</td>\n",
       "      <td>1024</td>\n",
       "      <td>40</td>\n",
       "      <td>10</td>\n",
       "      <td>forward</td>\n",
       "      <td>FF</td>\n",
       "      <td>15</td>\n",
       "      <td>21</td>\n",
       "      <td>98.544006</td>\n",
       "      <td>3.481971</td>\n",
       "    </tr>\n",
       "    <tr>\n",
       "      <th>27</th>\n",
       "      <td>47</td>\n",
       "      <td>0.010</td>\n",
       "      <td>10000</td>\n",
       "      <td>1800</td>\n",
       "      <td>1024</td>\n",
       "      <td>80</td>\n",
       "      <td>50</td>\n",
       "      <td>forward</td>\n",
       "      <td>LSTM</td>\n",
       "      <td>15</td>\n",
       "      <td>209</td>\n",
       "      <td>98.534966</td>\n",
       "      <td>3.503588</td>\n",
       "    </tr>\n",
       "    <tr>\n",
       "      <th>31</th>\n",
       "      <td>11</td>\n",
       "      <td>0.010</td>\n",
       "      <td>10000</td>\n",
       "      <td>1800</td>\n",
       "      <td>128</td>\n",
       "      <td>80</td>\n",
       "      <td>10</td>\n",
       "      <td>forward</td>\n",
       "      <td>LSTM</td>\n",
       "      <td>15</td>\n",
       "      <td>282</td>\n",
       "      <td>98.496948</td>\n",
       "      <td>3.594505</td>\n",
       "    </tr>\n",
       "    <tr>\n",
       "      <th>53</th>\n",
       "      <td>15</td>\n",
       "      <td>0.010</td>\n",
       "      <td>10000</td>\n",
       "      <td>1800</td>\n",
       "      <td>1024</td>\n",
       "      <td>80</td>\n",
       "      <td>10</td>\n",
       "      <td>forward</td>\n",
       "      <td>LSTM</td>\n",
       "      <td>15</td>\n",
       "      <td>284</td>\n",
       "      <td>98.488426</td>\n",
       "      <td>3.614893</td>\n",
       "    </tr>\n",
       "    <tr>\n",
       "      <th>166</th>\n",
       "      <td>151</td>\n",
       "      <td>0.010</td>\n",
       "      <td>10000</td>\n",
       "      <td>1800</td>\n",
       "      <td>1024</td>\n",
       "      <td>256</td>\n",
       "      <td>50</td>\n",
       "      <td>forward</td>\n",
       "      <td>FF</td>\n",
       "      <td>15</td>\n",
       "      <td>212</td>\n",
       "      <td>98.468063</td>\n",
       "      <td>3.663574</td>\n",
       "    </tr>\n",
       "    <tr>\n",
       "      <th>32</th>\n",
       "      <td>10</td>\n",
       "      <td>0.001</td>\n",
       "      <td>10000</td>\n",
       "      <td>1800</td>\n",
       "      <td>128</td>\n",
       "      <td>80</td>\n",
       "      <td>10</td>\n",
       "      <td>forward</td>\n",
       "      <td>LSTM</td>\n",
       "      <td>15</td>\n",
       "      <td>166</td>\n",
       "      <td>98.466881</td>\n",
       "      <td>3.666418</td>\n",
       "    </tr>\n",
       "    <tr>\n",
       "      <th>285</th>\n",
       "      <td>111</td>\n",
       "      <td>0.010</td>\n",
       "      <td>10000</td>\n",
       "      <td>1800</td>\n",
       "      <td>1024</td>\n",
       "      <td>80</td>\n",
       "      <td>10</td>\n",
       "      <td>forward</td>\n",
       "      <td>FF</td>\n",
       "      <td>15</td>\n",
       "      <td>152</td>\n",
       "      <td>98.460037</td>\n",
       "      <td>3.682776</td>\n",
       "    </tr>\n",
       "    <tr>\n",
       "      <th>22</th>\n",
       "      <td>75</td>\n",
       "      <td>0.010</td>\n",
       "      <td>10000</td>\n",
       "      <td>1800</td>\n",
       "      <td>128</td>\n",
       "      <td>80</td>\n",
       "      <td>100</td>\n",
       "      <td>forward</td>\n",
       "      <td>LSTM</td>\n",
       "      <td>15</td>\n",
       "      <td>225</td>\n",
       "      <td>98.457626</td>\n",
       "      <td>3.688555</td>\n",
       "    </tr>\n",
       "    <tr>\n",
       "      <th>283</th>\n",
       "      <td>39</td>\n",
       "      <td>0.010</td>\n",
       "      <td>10000</td>\n",
       "      <td>1800</td>\n",
       "      <td>1024</td>\n",
       "      <td>40</td>\n",
       "      <td>50</td>\n",
       "      <td>forward</td>\n",
       "      <td>LSTM</td>\n",
       "      <td>15</td>\n",
       "      <td>64</td>\n",
       "      <td>98.449577</td>\n",
       "      <td>3.707796</td>\n",
       "    </tr>\n",
       "    <tr>\n",
       "      <th>150</th>\n",
       "      <td>119</td>\n",
       "      <td>0.010</td>\n",
       "      <td>10000</td>\n",
       "      <td>1800</td>\n",
       "      <td>1024</td>\n",
       "      <td>256</td>\n",
       "      <td>10</td>\n",
       "      <td>forward</td>\n",
       "      <td>FF</td>\n",
       "      <td>15</td>\n",
       "      <td>108</td>\n",
       "      <td>98.441086</td>\n",
       "      <td>3.728096</td>\n",
       "    </tr>\n",
       "    <tr>\n",
       "      <th>277</th>\n",
       "      <td>83</td>\n",
       "      <td>0.010</td>\n",
       "      <td>10000</td>\n",
       "      <td>1800</td>\n",
       "      <td>128</td>\n",
       "      <td>256</td>\n",
       "      <td>100</td>\n",
       "      <td>forward</td>\n",
       "      <td>LSTM</td>\n",
       "      <td>15</td>\n",
       "      <td>270</td>\n",
       "      <td>98.398796</td>\n",
       "      <td>3.829246</td>\n",
       "    </tr>\n",
       "    <tr>\n",
       "      <th>98</th>\n",
       "      <td>175</td>\n",
       "      <td>0.010</td>\n",
       "      <td>10000</td>\n",
       "      <td>1800</td>\n",
       "      <td>1024</td>\n",
       "      <td>80</td>\n",
       "      <td>100</td>\n",
       "      <td>forward</td>\n",
       "      <td>FF</td>\n",
       "      <td>15</td>\n",
       "      <td>149</td>\n",
       "      <td>98.394051</td>\n",
       "      <td>3.840585</td>\n",
       "    </tr>\n",
       "    <tr>\n",
       "      <th>217</th>\n",
       "      <td>167</td>\n",
       "      <td>0.010</td>\n",
       "      <td>10000</td>\n",
       "      <td>1800</td>\n",
       "      <td>1024</td>\n",
       "      <td>40</td>\n",
       "      <td>100</td>\n",
       "      <td>forward</td>\n",
       "      <td>FF</td>\n",
       "      <td>15</td>\n",
       "      <td>130</td>\n",
       "      <td>98.389923</td>\n",
       "      <td>3.850453</td>\n",
       "    </tr>\n",
       "    <tr>\n",
       "      <th>247</th>\n",
       "      <td>183</td>\n",
       "      <td>0.010</td>\n",
       "      <td>10000</td>\n",
       "      <td>1800</td>\n",
       "      <td>1024</td>\n",
       "      <td>256</td>\n",
       "      <td>100</td>\n",
       "      <td>forward</td>\n",
       "      <td>FF</td>\n",
       "      <td>15</td>\n",
       "      <td>36</td>\n",
       "      <td>98.387321</td>\n",
       "      <td>3.856681</td>\n",
       "    </tr>\n",
       "    <tr>\n",
       "      <th>263</th>\n",
       "      <td>191</td>\n",
       "      <td>0.010</td>\n",
       "      <td>10000</td>\n",
       "      <td>1800</td>\n",
       "      <td>1024</td>\n",
       "      <td>512</td>\n",
       "      <td>100</td>\n",
       "      <td>forward</td>\n",
       "      <td>FF</td>\n",
       "      <td>15</td>\n",
       "      <td>69</td>\n",
       "      <td>98.343491</td>\n",
       "      <td>3.961501</td>\n",
       "    </tr>\n",
       "    <tr>\n",
       "      <th>256</th>\n",
       "      <td>147</td>\n",
       "      <td>0.010</td>\n",
       "      <td>10000</td>\n",
       "      <td>1800</td>\n",
       "      <td>128</td>\n",
       "      <td>256</td>\n",
       "      <td>50</td>\n",
       "      <td>forward</td>\n",
       "      <td>FF</td>\n",
       "      <td>15</td>\n",
       "      <td>51</td>\n",
       "      <td>98.340897</td>\n",
       "      <td>3.967690</td>\n",
       "    </tr>\n",
       "    <tr>\n",
       "      <th>152</th>\n",
       "      <td>115</td>\n",
       "      <td>0.010</td>\n",
       "      <td>10000</td>\n",
       "      <td>1800</td>\n",
       "      <td>128</td>\n",
       "      <td>256</td>\n",
       "      <td>10</td>\n",
       "      <td>forward</td>\n",
       "      <td>FF</td>\n",
       "      <td>15</td>\n",
       "      <td>4</td>\n",
       "      <td>98.331100</td>\n",
       "      <td>3.991131</td>\n",
       "    </tr>\n",
       "    <tr>\n",
       "      <th>4</th>\n",
       "      <td>19</td>\n",
       "      <td>0.010</td>\n",
       "      <td>10000</td>\n",
       "      <td>1800</td>\n",
       "      <td>128</td>\n",
       "      <td>256</td>\n",
       "      <td>10</td>\n",
       "      <td>forward</td>\n",
       "      <td>LSTM</td>\n",
       "      <td>15</td>\n",
       "      <td>136</td>\n",
       "      <td>98.323578</td>\n",
       "      <td>4.009115</td>\n",
       "    </tr>\n",
       "    <tr>\n",
       "      <th>201</th>\n",
       "      <td>171</td>\n",
       "      <td>0.010</td>\n",
       "      <td>10000</td>\n",
       "      <td>1800</td>\n",
       "      <td>128</td>\n",
       "      <td>80</td>\n",
       "      <td>100</td>\n",
       "      <td>forward</td>\n",
       "      <td>FF</td>\n",
       "      <td>15</td>\n",
       "      <td>248</td>\n",
       "      <td>98.308189</td>\n",
       "      <td>4.045927</td>\n",
       "    </tr>\n",
       "  </tbody>\n",
       "</table>\n",
       "</div>"
      ],
      "text/plain": [
       "     experiment_id     lr  epochs max_time batch_size seq_len seq_est_len  \\\n",
       "213             74  0.001   10000     1800        128      80         100   \n",
       "36             103  0.010   10000     1800       1024      40          10   \n",
       "27              47  0.010   10000     1800       1024      80          50   \n",
       "31              11  0.010   10000     1800        128      80          10   \n",
       "53              15  0.010   10000     1800       1024      80          10   \n",
       "166            151  0.010   10000     1800       1024     256          50   \n",
       "32              10  0.001   10000     1800        128      80          10   \n",
       "285            111  0.010   10000     1800       1024      80          10   \n",
       "22              75  0.010   10000     1800        128      80         100   \n",
       "283             39  0.010   10000     1800       1024      40          50   \n",
       "150            119  0.010   10000     1800       1024     256          10   \n",
       "277             83  0.010   10000     1800        128     256         100   \n",
       "98             175  0.010   10000     1800       1024      80         100   \n",
       "217            167  0.010   10000     1800       1024      40         100   \n",
       "247            183  0.010   10000     1800       1024     256         100   \n",
       "263            191  0.010   10000     1800       1024     512         100   \n",
       "256            147  0.010   10000     1800        128     256          50   \n",
       "152            115  0.010   10000     1800        128     256          10   \n",
       "4               19  0.010   10000     1800        128     256          10   \n",
       "201            171  0.010   10000     1800        128      80         100   \n",
       "\n",
       "    est_direction est_type  est_hidden_size  seed        FIT      RMSE  \n",
       "213       forward     LSTM               15   216  98.586807  3.379619  \n",
       "36        forward       FF               15    21  98.544006  3.481971  \n",
       "27        forward     LSTM               15   209  98.534966  3.503588  \n",
       "31        forward     LSTM               15   282  98.496948  3.594505  \n",
       "53        forward     LSTM               15   284  98.488426  3.614893  \n",
       "166       forward       FF               15   212  98.468063  3.663574  \n",
       "32        forward     LSTM               15   166  98.466881  3.666418  \n",
       "285       forward       FF               15   152  98.460037  3.682776  \n",
       "22        forward     LSTM               15   225  98.457626  3.688555  \n",
       "283       forward     LSTM               15    64  98.449577  3.707796  \n",
       "150       forward       FF               15   108  98.441086  3.728096  \n",
       "277       forward     LSTM               15   270  98.398796  3.829246  \n",
       "98        forward       FF               15   149  98.394051  3.840585  \n",
       "217       forward       FF               15   130  98.389923  3.850453  \n",
       "247       forward       FF               15    36  98.387321  3.856681  \n",
       "263       forward       FF               15    69  98.343491  3.961501  \n",
       "256       forward       FF               15    51  98.340897  3.967690  \n",
       "152       forward       FF               15     4  98.331100  3.991131  \n",
       "4         forward     LSTM               15   136  98.323578  4.009115  \n",
       "201       forward       FF               15   248  98.308189  4.045927  "
      ]
     },
     "execution_count": 6,
     "metadata": {},
     "output_type": "execute_result"
    }
   ],
   "source": [
    "df_res.head(20)"
   ]
  },
  {
   "cell_type": "code",
   "execution_count": 7,
   "id": "7f8775ba",
   "metadata": {
    "scrolled": false
   },
   "outputs": [
    {
     "data": {
      "text/html": [
       "<div>\n",
       "<style scoped>\n",
       "    .dataframe tbody tr th:only-of-type {\n",
       "        vertical-align: middle;\n",
       "    }\n",
       "\n",
       "    .dataframe tbody tr th {\n",
       "        vertical-align: top;\n",
       "    }\n",
       "\n",
       "    .dataframe thead th {\n",
       "        text-align: right;\n",
       "    }\n",
       "</style>\n",
       "<table border=\"1\" class=\"dataframe\">\n",
       "  <thead>\n",
       "    <tr style=\"text-align: right;\">\n",
       "      <th></th>\n",
       "      <th>experiment_id</th>\n",
       "      <th>lr</th>\n",
       "      <th>epochs</th>\n",
       "      <th>max_time</th>\n",
       "      <th>batch_size</th>\n",
       "      <th>seq_len</th>\n",
       "      <th>seq_est_len</th>\n",
       "      <th>est_direction</th>\n",
       "      <th>est_type</th>\n",
       "      <th>est_hidden_size</th>\n",
       "      <th>seed</th>\n",
       "      <th>FIT</th>\n",
       "      <th>RMSE</th>\n",
       "    </tr>\n",
       "  </thead>\n",
       "  <tbody>\n",
       "    <tr>\n",
       "      <th>6</th>\n",
       "      <td>216</td>\n",
       "      <td>0.001</td>\n",
       "      <td>10000</td>\n",
       "      <td>300</td>\n",
       "      <td>128</td>\n",
       "      <td>512</td>\n",
       "      <td>10</td>\n",
       "      <td>forward</td>\n",
       "      <td>ZERO</td>\n",
       "      <td>15</td>\n",
       "      <td>262</td>\n",
       "      <td>85.888031</td>\n",
       "      <td>33.748388</td>\n",
       "    </tr>\n",
       "    <tr>\n",
       "      <th>33</th>\n",
       "      <td>280</td>\n",
       "      <td>0.001</td>\n",
       "      <td>10000</td>\n",
       "      <td>300</td>\n",
       "      <td>128</td>\n",
       "      <td>512</td>\n",
       "      <td>100</td>\n",
       "      <td>forward</td>\n",
       "      <td>ZERO</td>\n",
       "      <td>15</td>\n",
       "      <td>211</td>\n",
       "      <td>85.837570</td>\n",
       "      <td>33.869069</td>\n",
       "    </tr>\n",
       "    <tr>\n",
       "      <th>30</th>\n",
       "      <td>196</td>\n",
       "      <td>0.001</td>\n",
       "      <td>10000</td>\n",
       "      <td>300</td>\n",
       "      <td>1024</td>\n",
       "      <td>40</td>\n",
       "      <td>10</td>\n",
       "      <td>forward</td>\n",
       "      <td>ZERO</td>\n",
       "      <td>15</td>\n",
       "      <td>141</td>\n",
       "      <td>84.378204</td>\n",
       "      <td>37.359104</td>\n",
       "    </tr>\n",
       "    <tr>\n",
       "      <th>218</th>\n",
       "      <td>4</td>\n",
       "      <td>0.001</td>\n",
       "      <td>10000</td>\n",
       "      <td>300</td>\n",
       "      <td>1024</td>\n",
       "      <td>40</td>\n",
       "      <td>10</td>\n",
       "      <td>forward</td>\n",
       "      <td>LSTM</td>\n",
       "      <td>15</td>\n",
       "      <td>278</td>\n",
       "      <td>76.861397</td>\n",
       "      <td>55.335347</td>\n",
       "    </tr>\n",
       "    <tr>\n",
       "      <th>12</th>\n",
       "      <td>127</td>\n",
       "      <td>0.010</td>\n",
       "      <td>10000</td>\n",
       "      <td>1800</td>\n",
       "      <td>1024</td>\n",
       "      <td>512</td>\n",
       "      <td>10</td>\n",
       "      <td>forward</td>\n",
       "      <td>FF</td>\n",
       "      <td>15</td>\n",
       "      <td>217</td>\n",
       "      <td>0.000000</td>\n",
       "      <td>1000.000000</td>\n",
       "    </tr>\n",
       "    <tr>\n",
       "      <th>14</th>\n",
       "      <td>125</td>\n",
       "      <td>0.010</td>\n",
       "      <td>10000</td>\n",
       "      <td>300</td>\n",
       "      <td>1024</td>\n",
       "      <td>512</td>\n",
       "      <td>10</td>\n",
       "      <td>forward</td>\n",
       "      <td>FF</td>\n",
       "      <td>15</td>\n",
       "      <td>144</td>\n",
       "      <td>0.000000</td>\n",
       "      <td>1000.000000</td>\n",
       "    </tr>\n",
       "    <tr>\n",
       "      <th>19</th>\n",
       "      <td>155</td>\n",
       "      <td>0.010</td>\n",
       "      <td>10000</td>\n",
       "      <td>1800</td>\n",
       "      <td>128</td>\n",
       "      <td>512</td>\n",
       "      <td>50</td>\n",
       "      <td>forward</td>\n",
       "      <td>FF</td>\n",
       "      <td>15</td>\n",
       "      <td>58</td>\n",
       "      <td>0.000000</td>\n",
       "      <td>1000.000000</td>\n",
       "    </tr>\n",
       "    <tr>\n",
       "      <th>46</th>\n",
       "      <td>159</td>\n",
       "      <td>0.010</td>\n",
       "      <td>10000</td>\n",
       "      <td>1800</td>\n",
       "      <td>1024</td>\n",
       "      <td>512</td>\n",
       "      <td>50</td>\n",
       "      <td>forward</td>\n",
       "      <td>FF</td>\n",
       "      <td>15</td>\n",
       "      <td>50</td>\n",
       "      <td>0.000000</td>\n",
       "      <td>1000.000000</td>\n",
       "    </tr>\n",
       "    <tr>\n",
       "      <th>59</th>\n",
       "      <td>27</td>\n",
       "      <td>0.010</td>\n",
       "      <td>10000</td>\n",
       "      <td>1800</td>\n",
       "      <td>128</td>\n",
       "      <td>512</td>\n",
       "      <td>10</td>\n",
       "      <td>forward</td>\n",
       "      <td>LSTM</td>\n",
       "      <td>15</td>\n",
       "      <td>228</td>\n",
       "      <td>0.000000</td>\n",
       "      <td>1000.000000</td>\n",
       "    </tr>\n",
       "    <tr>\n",
       "      <th>66</th>\n",
       "      <td>57</td>\n",
       "      <td>0.010</td>\n",
       "      <td>10000</td>\n",
       "      <td>300</td>\n",
       "      <td>128</td>\n",
       "      <td>512</td>\n",
       "      <td>50</td>\n",
       "      <td>forward</td>\n",
       "      <td>LSTM</td>\n",
       "      <td>15</td>\n",
       "      <td>20</td>\n",
       "      <td>0.000000</td>\n",
       "      <td>1000.000000</td>\n",
       "    </tr>\n",
       "    <tr>\n",
       "      <th>68</th>\n",
       "      <td>247</td>\n",
       "      <td>0.010</td>\n",
       "      <td>10000</td>\n",
       "      <td>1800</td>\n",
       "      <td>1024</td>\n",
       "      <td>256</td>\n",
       "      <td>50</td>\n",
       "      <td>forward</td>\n",
       "      <td>ZERO</td>\n",
       "      <td>15</td>\n",
       "      <td>183</td>\n",
       "      <td>0.000000</td>\n",
       "      <td>1000.000000</td>\n",
       "    </tr>\n",
       "    <tr>\n",
       "      <th>93</th>\n",
       "      <td>189</td>\n",
       "      <td>0.010</td>\n",
       "      <td>10000</td>\n",
       "      <td>300</td>\n",
       "      <td>1024</td>\n",
       "      <td>512</td>\n",
       "      <td>100</td>\n",
       "      <td>forward</td>\n",
       "      <td>FF</td>\n",
       "      <td>15</td>\n",
       "      <td>250</td>\n",
       "      <td>0.000000</td>\n",
       "      <td>1000.000000</td>\n",
       "    </tr>\n",
       "    <tr>\n",
       "      <th>143</th>\n",
       "      <td>249</td>\n",
       "      <td>0.010</td>\n",
       "      <td>10000</td>\n",
       "      <td>300</td>\n",
       "      <td>128</td>\n",
       "      <td>512</td>\n",
       "      <td>50</td>\n",
       "      <td>forward</td>\n",
       "      <td>ZERO</td>\n",
       "      <td>15</td>\n",
       "      <td>203</td>\n",
       "      <td>0.000000</td>\n",
       "      <td>1000.000000</td>\n",
       "    </tr>\n",
       "    <tr>\n",
       "      <th>153</th>\n",
       "      <td>29</td>\n",
       "      <td>0.010</td>\n",
       "      <td>10000</td>\n",
       "      <td>300</td>\n",
       "      <td>1024</td>\n",
       "      <td>512</td>\n",
       "      <td>10</td>\n",
       "      <td>forward</td>\n",
       "      <td>LSTM</td>\n",
       "      <td>15</td>\n",
       "      <td>173</td>\n",
       "      <td>0.000000</td>\n",
       "      <td>1000.000000</td>\n",
       "    </tr>\n",
       "    <tr>\n",
       "      <th>158</th>\n",
       "      <td>153</td>\n",
       "      <td>0.010</td>\n",
       "      <td>10000</td>\n",
       "      <td>300</td>\n",
       "      <td>128</td>\n",
       "      <td>512</td>\n",
       "      <td>50</td>\n",
       "      <td>forward</td>\n",
       "      <td>FF</td>\n",
       "      <td>15</td>\n",
       "      <td>10</td>\n",
       "      <td>0.000000</td>\n",
       "      <td>1000.000000</td>\n",
       "    </tr>\n",
       "    <tr>\n",
       "      <th>181</th>\n",
       "      <td>121</td>\n",
       "      <td>0.010</td>\n",
       "      <td>10000</td>\n",
       "      <td>300</td>\n",
       "      <td>128</td>\n",
       "      <td>512</td>\n",
       "      <td>10</td>\n",
       "      <td>forward</td>\n",
       "      <td>FF</td>\n",
       "      <td>15</td>\n",
       "      <td>52</td>\n",
       "      <td>0.000000</td>\n",
       "      <td>1000.000000</td>\n",
       "    </tr>\n",
       "    <tr>\n",
       "      <th>191</th>\n",
       "      <td>59</td>\n",
       "      <td>0.010</td>\n",
       "      <td>10000</td>\n",
       "      <td>1800</td>\n",
       "      <td>128</td>\n",
       "      <td>512</td>\n",
       "      <td>50</td>\n",
       "      <td>forward</td>\n",
       "      <td>LSTM</td>\n",
       "      <td>15</td>\n",
       "      <td>258</td>\n",
       "      <td>0.000000</td>\n",
       "      <td>1000.000000</td>\n",
       "    </tr>\n",
       "    <tr>\n",
       "      <th>194</th>\n",
       "      <td>53</td>\n",
       "      <td>0.010</td>\n",
       "      <td>10000</td>\n",
       "      <td>300</td>\n",
       "      <td>1024</td>\n",
       "      <td>256</td>\n",
       "      <td>50</td>\n",
       "      <td>forward</td>\n",
       "      <td>LSTM</td>\n",
       "      <td>15</td>\n",
       "      <td>223</td>\n",
       "      <td>0.000000</td>\n",
       "      <td>1000.000000</td>\n",
       "    </tr>\n",
       "    <tr>\n",
       "      <th>202</th>\n",
       "      <td>251</td>\n",
       "      <td>0.010</td>\n",
       "      <td>10000</td>\n",
       "      <td>1800</td>\n",
       "      <td>128</td>\n",
       "      <td>512</td>\n",
       "      <td>50</td>\n",
       "      <td>forward</td>\n",
       "      <td>ZERO</td>\n",
       "      <td>15</td>\n",
       "      <td>151</td>\n",
       "      <td>0.000000</td>\n",
       "      <td>1000.000000</td>\n",
       "    </tr>\n",
       "    <tr>\n",
       "      <th>242</th>\n",
       "      <td>25</td>\n",
       "      <td>0.010</td>\n",
       "      <td>10000</td>\n",
       "      <td>300</td>\n",
       "      <td>128</td>\n",
       "      <td>512</td>\n",
       "      <td>10</td>\n",
       "      <td>forward</td>\n",
       "      <td>LSTM</td>\n",
       "      <td>15</td>\n",
       "      <td>110</td>\n",
       "      <td>0.000000</td>\n",
       "      <td>1000.000000</td>\n",
       "    </tr>\n",
       "  </tbody>\n",
       "</table>\n",
       "</div>"
      ],
      "text/plain": [
       "     experiment_id     lr  epochs max_time batch_size seq_len seq_est_len  \\\n",
       "6              216  0.001   10000      300        128     512          10   \n",
       "33             280  0.001   10000      300        128     512         100   \n",
       "30             196  0.001   10000      300       1024      40          10   \n",
       "218              4  0.001   10000      300       1024      40          10   \n",
       "12             127  0.010   10000     1800       1024     512          10   \n",
       "14             125  0.010   10000      300       1024     512          10   \n",
       "19             155  0.010   10000     1800        128     512          50   \n",
       "46             159  0.010   10000     1800       1024     512          50   \n",
       "59              27  0.010   10000     1800        128     512          10   \n",
       "66              57  0.010   10000      300        128     512          50   \n",
       "68             247  0.010   10000     1800       1024     256          50   \n",
       "93             189  0.010   10000      300       1024     512         100   \n",
       "143            249  0.010   10000      300        128     512          50   \n",
       "153             29  0.010   10000      300       1024     512          10   \n",
       "158            153  0.010   10000      300        128     512          50   \n",
       "181            121  0.010   10000      300        128     512          10   \n",
       "191             59  0.010   10000     1800        128     512          50   \n",
       "194             53  0.010   10000      300       1024     256          50   \n",
       "202            251  0.010   10000     1800        128     512          50   \n",
       "242             25  0.010   10000      300        128     512          10   \n",
       "\n",
       "    est_direction est_type  est_hidden_size  seed        FIT         RMSE  \n",
       "6         forward     ZERO               15   262  85.888031    33.748388  \n",
       "33        forward     ZERO               15   211  85.837570    33.869069  \n",
       "30        forward     ZERO               15   141  84.378204    37.359104  \n",
       "218       forward     LSTM               15   278  76.861397    55.335347  \n",
       "12        forward       FF               15   217   0.000000  1000.000000  \n",
       "14        forward       FF               15   144   0.000000  1000.000000  \n",
       "19        forward       FF               15    58   0.000000  1000.000000  \n",
       "46        forward       FF               15    50   0.000000  1000.000000  \n",
       "59        forward     LSTM               15   228   0.000000  1000.000000  \n",
       "66        forward     LSTM               15    20   0.000000  1000.000000  \n",
       "68        forward     ZERO               15   183   0.000000  1000.000000  \n",
       "93        forward       FF               15   250   0.000000  1000.000000  \n",
       "143       forward     ZERO               15   203   0.000000  1000.000000  \n",
       "153       forward     LSTM               15   173   0.000000  1000.000000  \n",
       "158       forward       FF               15    10   0.000000  1000.000000  \n",
       "181       forward       FF               15    52   0.000000  1000.000000  \n",
       "191       forward     LSTM               15   258   0.000000  1000.000000  \n",
       "194       forward     LSTM               15   223   0.000000  1000.000000  \n",
       "202       forward     ZERO               15   151   0.000000  1000.000000  \n",
       "242       forward     LSTM               15   110   0.000000  1000.000000  "
      ]
     },
     "execution_count": 7,
     "metadata": {},
     "output_type": "execute_result"
    }
   ],
   "source": [
    "df_res.tail(20)"
   ]
  },
  {
   "cell_type": "code",
   "execution_count": 12,
   "id": "261fcc03",
   "metadata": {
    "scrolled": false
   },
   "outputs": [
    {
     "name": "stderr",
     "output_type": "stream",
     "text": [
      "/home/marco/anaconda3/envs/pytorch-ident/lib/python3.9/site-packages/pandas/io/formats/format.py:1405: FutureWarning:\n",
      "\n",
      "Index.ravel returning ndarray is deprecated; in a future version this will return a view on self.\n",
      "\n"
     ]
    },
    {
     "data": {
      "image/png": "[encoded data removed]",
      "text/plain": [
       "<Figure size 1080x360 with 6 Axes>"
      ]
     },
     "metadata": {
      "needs_background": "light"
     },
     "output_type": "display_data"
    }
   ],
   "source": [
    "# Full results: main effects\n",
    "g = sns.PairGrid(df_res, y_vars=response,\n",
    "                 x_vars=factors,\n",
    "                 height=5, aspect=.5)\n",
    "g.map(sns.pointplot, scale=1.3)\n",
    "sns.despine(fig=g.fig, left=True)"
   ]
  },
  {
   "cell_type": "code",
   "execution_count": 41,
   "id": "bc750570",
   "metadata": {
    "scrolled": false
   },
   "outputs": [
    {
     "data": {
      "application/vnd.plotly.v1+json": {
       "config": {
        "plotlyServerURL": "https://plot.ly"
       },
       "data": [
        {
         "alignmentgroup": "True",
         "customdata": [
          [
           15
          ],
          [
           15
          ],
          [
           15
          ],
          [
           15
          ],
          [
           15
          ],
          [
           15
          ],
          [
           15
          ],
          [
           15
          ],
          [
           15
          ],
          [
           15
          ],
          [
           15
          ],
          [
           15
          ],
          [
           15
          ],
          [
           15
          ],
          [
           15
          ],
          [
           15
          ],
          [
           15
          ],
          [
           15
          ],
          [
           15
          ],
          [
           15
          ],
          [
           15
          ],
          [
           15
          ],
          [
           15
          ],
          [
           15
          ],
          [
           15
          ],
          [
           15
          ],
          [
           15
          ],
          [
           15
          ],
          [
           15
          ],
          [
           15
          ],
          [
           15
          ],
          [
           15
          ],
          [
           15
          ],
          [
           15
          ],
          [
           15
          ],
          [
           15
          ],
          [
           15
          ],
          [
           15
          ],
          [
           15
          ],
          [
           15
          ],
          [
           15
          ],
          [
           15
          ],
          [
           15
          ],
          [
           15
          ],
          [
           15
          ],
          [
           15
          ],
          [
           15
          ],
          [
           15
          ],
          [
           15
          ],
          [
           15
          ],
          [
           15
          ],
          [
           15
          ],
          [
           15
          ],
          [
           15
          ],
          [
           15
          ],
          [
           15
          ],
          [
           15
          ],
          [
           15
          ],
          [
           15
          ],
          [
           15
          ],
          [
           15
          ],
          [
           15
          ],
          [
           15
          ],
          [
           15
          ],
          [
           15
          ],
          [
           15
          ],
          [
           15
          ],
          [
           15
          ],
          [
           15
          ],
          [
           15
          ],
          [
           15
          ],
          [
           15
          ],
          [
           15
          ],
          [
           15
          ],
          [
           15
          ],
          [
           15
          ],
          [
           15
          ],
          [
           15
          ],
          [
           15
          ],
          [
           15
          ],
          [
           15
          ],
          [
           15
          ],
          [
           15
          ],
          [
           15
          ],
          [
           15
          ],
          [
           15
          ],
          [
           15
          ],
          [
           15
          ],
          [
           15
          ],
          [
           15
          ],
          [
           15
          ],
          [
           15
          ],
          [
           15
          ],
          [
           15
          ],
          [
           15
          ],
          [
           15
          ],
          [
           15
          ],
          [
           15
          ],
          [
           15
          ],
          [
           15
          ],
          [
           15
          ],
          [
           15
          ],
          [
           15
          ],
          [
           15
          ],
          [
           15
          ],
          [
           15
          ],
          [
           15
          ],
          [
           15
          ],
          [
           15
          ],
          [
           15
          ],
          [
           15
          ],
          [
           15
          ],
          [
           15
          ],
          [
           15
          ],
          [
           15
          ],
          [
           15
          ],
          [
           15
          ],
          [
           15
          ],
          [
           15
          ],
          [
           15
          ],
          [
           15
          ],
          [
           15
          ],
          [
           15
          ],
          [
           15
          ],
          [
           15
          ],
          [
           15
          ],
          [
           15
          ],
          [
           15
          ],
          [
           15
          ],
          [
           15
          ],
          [
           15
          ],
          [
           15
          ],
          [
           15
          ],
          [
           15
          ],
          [
           15
          ],
          [
           15
          ],
          [
           15
          ],
          [
           15
          ],
          [
           15
          ],
          [
           15
          ],
          [
           15
          ],
          [
           15
          ],
          [
           15
          ],
          [
           15
          ],
          [
           15
          ],
          [
           15
          ],
          [
           15
          ],
          [
           15
          ],
          [
           15
          ],
          [
           15
          ],
          [
           15
          ],
          [
           15
          ],
          [
           15
          ],
          [
           15
          ],
          [
           15
          ],
          [
           15
          ],
          [
           15
          ],
          [
           15
          ],
          [
           15
          ],
          [
           15
          ],
          [
           15
          ],
          [
           15
          ],
          [
           15
          ],
          [
           15
          ],
          [
           15
          ],
          [
           15
          ],
          [
           15
          ],
          [
           15
          ],
          [
           15
          ],
          [
           15
          ],
          [
           15
          ],
          [
           15
          ],
          [
           15
          ],
          [
           15
          ],
          [
           15
          ],
          [
           15
          ],
          [
           15
          ],
          [
           15
          ],
          [
           15
          ],
          [
           15
          ],
          [
           15
          ],
          [
           15
          ],
          [
           15
          ],
          [
           15
          ],
          [
           15
          ],
          [
           15
          ],
          [
           15
          ],
          [
           15
          ],
          [
           15
          ],
          [
           15
          ],
          [
           15
          ],
          [
           15
          ],
          [
           15
          ],
          [
           15
          ],
          [
           15
          ],
          [
           15
          ],
          [
           15
          ],
          [
           15
          ],
          [
           15
          ],
          [
           15
          ],
          [
           15
          ],
          [
           15
          ],
          [
           15
          ],
          [
           15
          ],
          [
           15
          ],
          [
           15
          ],
          [
           15
          ],
          [
           15
          ],
          [
           15
          ],
          [
           15
          ],
          [
           15
          ],
          [
           15
          ],
          [
           15
          ],
          [
           15
          ],
          [
           15
          ],
          [
           15
          ],
          [
           15
          ],
          [
           15
          ],
          [
           15
          ],
          [
           15
          ],
          [
           15
          ],
          [
           15
          ],
          [
           15
          ],
          [
           15
          ],
          [
           15
          ],
          [
           15
          ],
          [
           15
          ],
          [
           15
          ],
          [
           15
          ],
          [
           15
          ],
          [
           15
          ],
          [
           15
          ],
          [
           15
          ],
          [
           15
          ],
          [
           15
          ],
          [
           15
          ],
          [
           15
          ],
          [
           15
          ],
          [
           15
          ],
          [
           15
          ],
          [
           15
          ],
          [
           15
          ],
          [
           15
          ],
          [
           15
          ],
          [
           15
          ],
          [
           15
          ],
          [
           15
          ],
          [
           15
          ],
          [
           15
          ],
          [
           15
          ],
          [
           15
          ],
          [
           15
          ],
          [
           15
          ],
          [
           15
          ],
          [
           15
          ],
          [
           15
          ],
          [
           15
          ],
          [
           15
          ],
          [
           15
          ],
          [
           15
          ],
          [
           15
          ],
          [
           15
          ],
          [
           15
          ],
          [
           15
          ],
          [
           15
          ],
          [
           15
          ],
          [
           15
          ],
          [
           15
          ],
          [
           15
          ],
          [
           15
          ],
          [
           15
          ],
          [
           15
          ],
          [
           15
          ],
          [
           15
          ],
          [
           15
          ],
          [
           15
          ],
          [
           15
          ],
          [
           15
          ],
          [
           15
          ],
          [
           15
          ],
          [
           15
          ],
          [
           15
          ],
          [
           15
          ],
          [
           15
          ],
          [
           15
          ],
          [
           15
          ],
          [
           15
          ],
          [
           15
          ]
         ],
         "hovertemplate": "max_time=%{x}<br>FIT=%{y}<br>est_hidden_size=%{customdata[0]}<extra></extra>",
         "legendgroup": "",
         "marker": {
          "color": "#636efa"
         },
         "name": "",
         "notched": false,
         "offsetgroup": "",
         "orientation": "v",
         "showlegend": false,
         "type": "box",
         "x": [
          1800,
          1800,
          1800,
          1800,
          1800,
          1800,
          1800,
          1800,
          1800,
          1800,
          1800,
          1800,
          1800,
          1800,
          1800,
          1800,
          1800,
          1800,
          1800,
          1800,
          1800,
          1800,
          1800,
          1800,
          1800,
          1800,
          1800,
          1800,
          1800,
          1800,
          1800,
          1800,
          1800,
          1800,
          1800,
          1800,
          1800,
          1800,
          1800,
          1800,
          1800,
          1800,
          1800,
          1800,
          300,
          1800,
          1800,
          1800,
          1800,
          1800,
          300,
          1800,
          1800,
          1800,
          1800,
          300,
          1800,
          1800,
          1800,
          1800,
          1800,
          300,
          300,
          300,
          1800,
          300,
          1800,
          300,
          1800,
          300,
          300,
          1800,
          1800,
          300,
          1800,
          1800,
          1800,
          1800,
          1800,
          300,
          1800,
          300,
          1800,
          300,
          1800,
          1800,
          1800,
          1800,
          1800,
          300,
          1800,
          1800,
          300,
          1800,
          300,
          300,
          1800,
          300,
          1800,
          1800,
          300,
          300,
          300,
          1800,
          1800,
          300,
          1800,
          1800,
          300,
          300,
          1800,
          300,
          300,
          1800,
          1800,
          1800,
          300,
          300,
          1800,
          300,
          300,
          1800,
          300,
          1800,
          300,
          1800,
          1800,
          1800,
          300,
          300,
          1800,
          300,
          300,
          1800,
          1800,
          1800,
          1800,
          1800,
          1800,
          1800,
          1800,
          1800,
          300,
          1800,
          1800,
          1800,
          300,
          300,
          1800,
          1800,
          1800,
          300,
          300,
          300,
          1800,
          1800,
          1800,
          300,
          1800,
          300,
          300,
          1800,
          300,
          300,
          300,
          300,
          1800,
          1800,
          300,
          300,
          300,
          1800,
          1800,
          1800,
          300,
          300,
          1800,
          300,
          300,
          1800,
          1800,
          300,
          300,
          300,
          300,
          300,
          300,
          300,
          300,
          300,
          300,
          300,
          300,
          300,
          300,
          300,
          300,
          300,
          1800,
          300,
          300,
          300,
          300,
          300,
          300,
          1800,
          1800,
          1800,
          300,
          300,
          1800,
          1800,
          300,
          300,
          1800,
          300,
          1800,
          300,
          1800,
          300,
          300,
          300,
          300,
          300,
          300,
          300,
          300,
          300,
          300,
          300,
          300,
          300,
          300,
          300,
          300,
          300,
          300,
          300,
          300,
          300,
          1800,
          300,
          300,
          300,
          1800,
          300,
          300,
          300,
          1800,
          300,
          300,
          300,
          1800,
          300,
          300,
          300,
          300,
          300,
          300,
          300,
          300,
          300,
          300,
          300,
          300,
          300,
          300,
          300,
          300,
          300,
          300,
          300,
          1800,
          300,
          1800,
          1800,
          1800,
          300,
          1800,
          300,
          300,
          300,
          300,
          300,
          1800,
          300,
          1800,
          300
         ],
         "x0": " ",
         "xaxis": "x",
         "y": [
          98.58680725097656,
          98.54400634765624,
          98.53496551513672,
          98.4969482421875,
          98.4884262084961,
          98.4680633544922,
          98.46688079833984,
          98.46003723144533,
          98.45762634277344,
          98.44957733154295,
          98.44108581542967,
          98.39879608154295,
          98.39405059814452,
          98.38992309570312,
          98.38732147216795,
          98.34349060058594,
          98.34089660644533,
          98.3311004638672,
          98.32357788085938,
          98.30818939208984,
          98.2978057861328,
          98.2847137451172,
          98.2842254638672,
          98.2643814086914,
          98.26375579833984,
          98.26296997070312,
          98.24288177490234,
          98.23778533935548,
          98.2368392944336,
          98.22978973388672,
          98.22810363769533,
          98.223388671875,
          98.1858901977539,
          98.14122009277344,
          98.1392822265625,
          98.1307601928711,
          98.109130859375,
          98.09796905517578,
          98.089599609375,
          98.07433319091795,
          98.06573486328124,
          98.0548858642578,
          98.02249908447266,
          98.00109100341795,
          97.98046875,
          97.97256469726562,
          97.94593048095705,
          97.89498138427734,
          97.87517547607422,
          97.86749267578124,
          97.8382797241211,
          97.81996154785156,
          97.79443359375,
          97.79410552978516,
          97.76569366455078,
          97.7503433227539,
          97.7492904663086,
          97.7448959350586,
          97.62957763671876,
          97.60299682617188,
          97.6002426147461,
          97.56678771972656,
          97.55642700195312,
          97.51976776123048,
          97.50208282470705,
          97.50176239013672,
          97.49170684814452,
          97.48182678222656,
          97.4082260131836,
          97.38973236083984,
          97.3860321044922,
          97.37918853759766,
          97.35780334472656,
          97.33839416503906,
          97.33345794677734,
          97.30813598632812,
          97.26769256591795,
          97.25592803955078,
          97.2500228881836,
          97.2458038330078,
          97.21639251708984,
          97.2012176513672,
          97.19845581054688,
          97.17332458496094,
          97.10291290283205,
          97.06703186035156,
          97.0586929321289,
          97.0489501953125,
          97.02205657958984,
          97.00376892089844,
          97.00202941894533,
          96.99890899658205,
          96.96337890625,
          96.94878387451172,
          96.93067169189452,
          96.86779022216795,
          96.80670928955078,
          96.79696655273438,
          96.77342987060548,
          96.76136779785156,
          96.74951171875,
          96.72381591796876,
          96.7027816772461,
          96.68460083007812,
          96.66754150390624,
          96.66441345214844,
          96.60385131835938,
          96.59369659423828,
          96.56224060058594,
          96.5583953857422,
          96.52906036376952,
          96.5070571899414,
          96.46463775634766,
          96.44806671142578,
          96.44161987304688,
          96.41283416748048,
          96.41224670410156,
          96.3250961303711,
          96.30540466308594,
          96.28184509277344,
          96.26058959960938,
          96.22171020507812,
          96.19200134277344,
          96.14441680908205,
          96.12242889404295,
          96.12115478515624,
          96.1142349243164,
          96.11097717285156,
          96.08953857421876,
          96.05409240722656,
          96.04197692871094,
          96.0395965576172,
          96.03711700439452,
          96.03013610839844,
          96.02516174316406,
          96.00379180908205,
          96.00231170654295,
          95.97941589355467,
          95.96144104003906,
          95.95955657958984,
          95.90046691894533,
          95.87214660644533,
          95.83998107910156,
          95.83782196044922,
          95.82217407226562,
          95.81404113769533,
          95.794677734375,
          95.79283905029295,
          95.74341583251952,
          95.74041748046876,
          95.67951202392578,
          95.67823791503906,
          95.6724853515625,
          95.66205596923828,
          95.58983612060548,
          95.52284240722656,
          95.48313903808594,
          95.47371673583984,
          95.4578628540039,
          95.38463592529295,
          95.35894775390624,
          95.32396697998048,
          95.2631378173828,
          95.19278717041016,
          95.13353729248048,
          95.10485076904295,
          95.04939270019533,
          94.94505310058594,
          94.92473602294922,
          94.88628387451172,
          94.826171875,
          94.80684661865234,
          94.79309844970705,
          94.71673583984376,
          94.66151428222656,
          94.64602661132812,
          94.5956573486328,
          94.571044921875,
          94.54354858398438,
          94.53494262695312,
          94.5332260131836,
          94.4521255493164,
          94.43880462646484,
          94.36531066894533,
          94.30842590332033,
          94.30818176269533,
          94.25230407714844,
          94.14578247070312,
          94.14337158203124,
          94.06350708007812,
          94.02220916748048,
          93.90574645996094,
          93.83489227294922,
          93.8100814819336,
          93.75218963623048,
          93.6327667236328,
          93.58039093017578,
          93.55696105957033,
          93.40180206298828,
          93.36802673339844,
          93.33170318603516,
          93.30973815917967,
          93.3071746826172,
          93.26336669921876,
          93.15957641601562,
          93.10594940185548,
          93.06950378417967,
          93.02685546875,
          93.00537109375,
          92.95830535888672,
          92.8463134765625,
          92.83831024169922,
          92.82573699951172,
          92.81810760498048,
          92.76483917236328,
          92.7301025390625,
          92.72718048095705,
          92.5580062866211,
          92.52721405029295,
          92.49607849121094,
          92.48625946044922,
          92.40475463867188,
          92.35808563232422,
          92.34676361083984,
          92.1929702758789,
          92.1386489868164,
          92.0679168701172,
          91.81803894042967,
          91.77867889404295,
          91.55833435058594,
          91.15612030029295,
          90.90785217285156,
          90.60907745361328,
          90.33795928955078,
          90.24122619628906,
          90.20700073242188,
          90.19969940185548,
          90.08551025390624,
          90.06961822509766,
          89.92375183105469,
          89.52302551269531,
          89.47547912597656,
          89.4087905883789,
          89.37981414794922,
          89.30560302734375,
          89.30057525634766,
          89.26510620117188,
          89.09001922607422,
          89.03380584716797,
          88.60636138916016,
          88.43577575683594,
          88.38751220703125,
          88.33271026611328,
          88.3292236328125,
          88.06825256347656,
          87.9871826171875,
          87.98604583740234,
          87.85369873046875,
          87.81255340576172,
          87.74431610107422,
          87.417724609375,
          87.23623657226562,
          86.41252899169922,
          86.24456787109375,
          86.23270416259766,
          86.15328216552734,
          85.98072052001953,
          85.96220397949219,
          85.88803100585938,
          85.83757019042969,
          84.37820434570312,
          76.86139678955078,
          0,
          0,
          0,
          0,
          0,
          0,
          0,
          0,
          0,
          0,
          0,
          0,
          0,
          0,
          0,
          0
         ],
         "y0": " ",
         "yaxis": "y"
        }
       ],
       "layout": {
        "boxmode": "group",
        "legend": {
         "tracegroupgap": 0
        },
        "margin": {
         "t": 60
        },
        "template": {
         "data": {
          "bar": [
           {
            "error_x": {
             "color": "#2a3f5f"
            },
            "error_y": {
             "color": "#2a3f5f"
            },
            "marker": {
             "line": {
              "color": "#E5ECF6",
              "width": 0.5
             },
             "pattern": {
              "fillmode": "overlay",
              "size": 10,
              "solidity": 0.2
             }
            },
            "type": "bar"
           }
          ],
          "barpolar": [
           {
            "marker": {
             "line": {
              "color": "#E5ECF6",
              "width": 0.5
             },
             "pattern": {
              "fillmode": "overlay",
              "size": 10,
              "solidity": 0.2
             }
            },
            "type": "barpolar"
           }
          ],
          "carpet": [
           {
            "aaxis": {
             "endlinecolor": "#2a3f5f",
             "gridcolor": "white",
             "linecolor": "white",
             "minorgridcolor": "white",
             "startlinecolor": "#2a3f5f"
            },
            "baxis": {
             "endlinecolor": "#2a3f5f",
             "gridcolor": "white",
             "linecolor": "white",
             "minorgridcolor": "white",
             "startlinecolor": "#2a3f5f"
            },
            "type": "carpet"
           }
          ],
          "choropleth": [
           {
            "colorbar": {
             "outlinewidth": 0,
             "ticks": ""
            },
            "type": "choropleth"
           }
          ],
          "contour": [
           {
            "colorbar": {
             "outlinewidth": 0,
             "ticks": ""
            },
            "colorscale": [
             [
              0,
              "#0d0887"
             ],
             [
              0.1111111111111111,
              "#46039f"
             ],
             [
              0.2222222222222222,
              "#7201a8"
             ],
             [
              0.3333333333333333,
              "#9c179e"
             ],
             [
              0.4444444444444444,
              "#bd3786"
             ],
             [
              0.5555555555555556,
              "#d8576b"
             ],
             [
              0.6666666666666666,
              "#ed7953"
             ],
             [
              0.7777777777777778,
              "#fb9f3a"
             ],
             [
              0.8888888888888888,
              "#fdca26"
             ],
             [
              1,
              "#f0f921"
             ]
            ],
            "type": "contour"
           }
          ],
          "contourcarpet": [
           {
            "colorbar": {
             "outlinewidth": 0,
             "ticks": ""
            },
            "type": "contourcarpet"
           }
          ],
          "heatmap": [
           {
            "colorbar": {
             "outlinewidth": 0,
             "ticks": ""
            },
            "colorscale": [
             [
              0,
              "#0d0887"
             ],
             [
              0.1111111111111111,
              "#46039f"
             ],
             [
              0.2222222222222222,
              "#7201a8"
             ],
             [
              0.3333333333333333,
              "#9c179e"
             ],
             [
              0.4444444444444444,
              "#bd3786"
             ],
             [
              0.5555555555555556,
              "#d8576b"
             ],
             [
              0.6666666666666666,
              "#ed7953"
             ],
             [
              0.7777777777777778,
              "#fb9f3a"
             ],
             [
              0.8888888888888888,
              "#fdca26"
             ],
             [
              1,
              "#f0f921"
             ]
            ],
            "type": "heatmap"
           }
          ],
          "heatmapgl": [
           {
            "colorbar": {
             "outlinewidth": 0,
             "ticks": ""
            },
            "colorscale": [
             [
              0,
              "#0d0887"
             ],
             [
              0.1111111111111111,
              "#46039f"
             ],
             [
              0.2222222222222222,
              "#7201a8"
             ],
             [
              0.3333333333333333,
              "#9c179e"
             ],
             [
              0.4444444444444444,
              "#bd3786"
             ],
             [
              0.5555555555555556,
              "#d8576b"
             ],
             [
              0.6666666666666666,
              "#ed7953"
             ],
             [
              0.7777777777777778,
              "#fb9f3a"
             ],
             [
              0.8888888888888888,
              "#fdca26"
             ],
             [
              1,
              "#f0f921"
             ]
            ],
            "type": "heatmapgl"
           }
          ],
          "histogram": [
           {
            "marker": {
             "pattern": {
              "fillmode": "overlay",
              "size": 10,
              "solidity": 0.2
             }
            },
            "type": "histogram"
           }
          ],
          "histogram2d": [
           {
            "colorbar": {
             "outlinewidth": 0,
             "ticks": ""
            },
            "colorscale": [
             [
              0,
              "#0d0887"
             ],
             [
              0.1111111111111111,
              "#46039f"
             ],
             [
              0.2222222222222222,
              "#7201a8"
             ],
             [
              0.3333333333333333,
              "#9c179e"
             ],
             [
              0.4444444444444444,
              "#bd3786"
             ],
             [
              0.5555555555555556,
              "#d8576b"
             ],
             [
              0.6666666666666666,
              "#ed7953"
             ],
             [
              0.7777777777777778,
              "#fb9f3a"
             ],
             [
              0.8888888888888888,
              "#fdca26"
             ],
             [
              1,
              "#f0f921"
             ]
            ],
            "type": "histogram2d"
           }
          ],
          "histogram2dcontour": [
           {
            "colorbar": {
             "outlinewidth": 0,
             "ticks": ""
            },
            "colorscale": [
             [
              0,
              "#0d0887"
             ],
             [
              0.1111111111111111,
              "#46039f"
             ],
             [
              0.2222222222222222,
              "#7201a8"
             ],
             [
              0.3333333333333333,
              "#9c179e"
             ],
             [
              0.4444444444444444,
              "#bd3786"
             ],
             [
              0.5555555555555556,
              "#d8576b"
             ],
             [
              0.6666666666666666,
              "#ed7953"
             ],
             [
              0.7777777777777778,
              "#fb9f3a"
             ],
             [
              0.8888888888888888,
              "#fdca26"
             ],
             [
              1,
              "#f0f921"
             ]
            ],
            "type": "histogram2dcontour"
           }
          ],
          "mesh3d": [
           {
            "colorbar": {
             "outlinewidth": 0,
             "ticks": ""
            },
            "type": "mesh3d"
           }
          ],
          "parcoords": [
           {
            "line": {
             "colorbar": {
              "outlinewidth": 0,
              "ticks": ""
             }
            },
            "type": "parcoords"
           }
          ],
          "pie": [
           {
            "automargin": true,
            "type": "pie"
           }
          ],
          "scatter": [
           {
            "marker": {
             "colorbar": {
              "outlinewidth": 0,
              "ticks": ""
             }
            },
            "type": "scatter"
           }
          ],
          "scatter3d": [
           {
            "line": {
             "colorbar": {
              "outlinewidth": 0,
              "ticks": ""
             }
            },
            "marker": {
             "colorbar": {
              "outlinewidth": 0,
              "ticks": ""
             }
            },
            "type": "scatter3d"
           }
          ],
          "scattercarpet": [
           {
            "marker": {
             "colorbar": {
              "outlinewidth": 0,
              "ticks": ""
             }
            },
            "type": "scattercarpet"
           }
          ],
          "scattergeo": [
           {
            "marker": {
             "colorbar": {
              "outlinewidth": 0,
              "ticks": ""
             }
            },
            "type": "scattergeo"
           }
          ],
          "scattergl": [
           {
            "marker": {
             "colorbar": {
              "outlinewidth": 0,
              "ticks": ""
             }
            },
            "type": "scattergl"
           }
          ],
          "scattermapbox": [
           {
            "marker": {
             "colorbar": {
              "outlinewidth": 0,
              "ticks": ""
             }
            },
            "type": "scattermapbox"
           }
          ],
          "scatterpolar": [
           {
            "marker": {
             "colorbar": {
              "outlinewidth": 0,
              "ticks": ""
             }
            },
            "type": "scatterpolar"
           }
          ],
          "scatterpolargl": [
           {
            "marker": {
             "colorbar": {
              "outlinewidth": 0,
              "ticks": ""
             }
            },
            "type": "scatterpolargl"
           }
          ],
          "scatterternary": [
           {
            "marker": {
             "colorbar": {
              "outlinewidth": 0,
              "ticks": ""
             }
            },
            "type": "scatterternary"
           }
          ],
          "surface": [
           {
            "colorbar": {
             "outlinewidth": 0,
             "ticks": ""
            },
            "colorscale": [
             [
              0,
              "#0d0887"
             ],
             [
              0.1111111111111111,
              "#46039f"
             ],
             [
              0.2222222222222222,
              "#7201a8"
             ],
             [
              0.3333333333333333,
              "#9c179e"
             ],
             [
              0.4444444444444444,
              "#bd3786"
             ],
             [
              0.5555555555555556,
              "#d8576b"
             ],
             [
              0.6666666666666666,
              "#ed7953"
             ],
             [
              0.7777777777777778,
              "#fb9f3a"
             ],
             [
              0.8888888888888888,
              "#fdca26"
             ],
             [
              1,
              "#f0f921"
             ]
            ],
            "type": "surface"
           }
          ],
          "table": [
           {
            "cells": {
             "fill": {
              "color": "#EBF0F8"
             },
             "line": {
              "color": "white"
             }
            },
            "header": {
             "fill": {
              "color": "#C8D4E3"
             },
             "line": {
              "color": "white"
             }
            },
            "type": "table"
           }
          ]
         },
         "layout": {
          "annotationdefaults": {
           "arrowcolor": "#2a3f5f",
           "arrowhead": 0,
           "arrowwidth": 1
          },
          "autotypenumbers": "strict",
          "coloraxis": {
           "colorbar": {
            "outlinewidth": 0,
            "ticks": ""
           }
          },
          "colorscale": {
           "diverging": [
            [
             0,
             "#8e0152"
            ],
            [
             0.1,
             "#c51b7d"
            ],
            [
             0.2,
             "#de77ae"
            ],
            [
             0.3,
             "#f1b6da"
            ],
            [
             0.4,
             "#fde0ef"
            ],
            [
             0.5,
             "#f7f7f7"
            ],
            [
             0.6,
             "#e6f5d0"
            ],
            [
             0.7,
             "#b8e186"
            ],
            [
             0.8,
             "#7fbc41"
            ],
            [
             0.9,
             "#4d9221"
            ],
            [
             1,
             "#276419"
            ]
           ],
           "sequential": [
            [
             0,
             "#0d0887"
            ],
            [
             0.1111111111111111,
             "#46039f"
            ],
            [
             0.2222222222222222,
             "#7201a8"
            ],
            [
             0.3333333333333333,
             "#9c179e"
            ],
            [
             0.4444444444444444,
             "#bd3786"
            ],
            [
             0.5555555555555556,
             "#d8576b"
            ],
            [
             0.6666666666666666,
             "#ed7953"
            ],
            [
             0.7777777777777778,
             "#fb9f3a"
            ],
            [
             0.8888888888888888,
             "#fdca26"
            ],
            [
             1,
             "#f0f921"
            ]
           ],
           "sequentialminus": [
            [
             0,
             "#0d0887"
            ],
            [
             0.1111111111111111,
             "#46039f"
            ],
            [
             0.2222222222222222,
             "#7201a8"
            ],
            [
             0.3333333333333333,
             "#9c179e"
            ],
            [
             0.4444444444444444,
             "#bd3786"
            ],
            [
             0.5555555555555556,
             "#d8576b"
            ],
            [
             0.6666666666666666,
             "#ed7953"
            ],
            [
             0.7777777777777778,
             "#fb9f3a"
            ],
            [
             0.8888888888888888,
             "#fdca26"
            ],
            [
             1,
             "#f0f921"
            ]
           ]
          },
          "colorway": [
           "#636efa",
           "#EF553B",
           "#00cc96",
           "#ab63fa",
           "#FFA15A",
           "#19d3f3",
           "#FF6692",
           "#B6E880",
           "#FF97FF",
           "#FECB52"
          ],
          "font": {
           "color": "#2a3f5f"
          },
          "geo": {
           "bgcolor": "white",
           "lakecolor": "white",
           "landcolor": "#E5ECF6",
           "showlakes": true,
           "showland": true,
           "subunitcolor": "white"
          },
          "hoverlabel": {
           "align": "left"
          },
          "hovermode": "closest",
          "mapbox": {
           "style": "light"
          },
          "paper_bgcolor": "white",
          "plot_bgcolor": "#E5ECF6",
          "polar": {
           "angularaxis": {
            "gridcolor": "white",
            "linecolor": "white",
            "ticks": ""
           },
           "bgcolor": "#E5ECF6",
           "radialaxis": {
            "gridcolor": "white",
            "linecolor": "white",
            "ticks": ""
           }
          },
          "scene": {
           "xaxis": {
            "backgroundcolor": "#E5ECF6",
            "gridcolor": "white",
            "gridwidth": 2,
            "linecolor": "white",
            "showbackground": true,
            "ticks": "",
            "zerolinecolor": "white"
           },
           "yaxis": {
            "backgroundcolor": "#E5ECF6",
            "gridcolor": "white",
            "gridwidth": 2,
            "linecolor": "white",
            "showbackground": true,
            "ticks": "",
            "zerolinecolor": "white"
           },
           "zaxis": {
            "backgroundcolor": "#E5ECF6",
            "gridcolor": "white",
            "gridwidth": 2,
            "linecolor": "white",
            "showbackground": true,
            "ticks": "",
            "zerolinecolor": "white"
           }
          },
          "shapedefaults": {
           "line": {
            "color": "#2a3f5f"
           }
          },
          "ternary": {
           "aaxis": {
            "gridcolor": "white",
            "linecolor": "white",
            "ticks": ""
           },
           "baxis": {
            "gridcolor": "white",
            "linecolor": "white",
            "ticks": ""
           },
           "bgcolor": "#E5ECF6",
           "caxis": {
            "gridcolor": "white",
            "linecolor": "white",
            "ticks": ""
           }
          },
          "title": {
           "x": 0.05
          },
          "xaxis": {
           "automargin": true,
           "gridcolor": "white",
           "linecolor": "white",
           "ticks": "",
           "title": {
            "standoff": 15
           },
           "zerolinecolor": "white",
           "zerolinewidth": 2
          },
          "yaxis": {
           "automargin": true,
           "gridcolor": "white",
           "linecolor": "white",
           "ticks": "",
           "title": {
            "standoff": 15
           },
           "zerolinecolor": "white",
           "zerolinewidth": 2
          }
         }
        },
        "xaxis": {
         "anchor": "y",
         "domain": [
          0,
          1
         ],
         "title": {
          "text": "max_time"
         }
        },
        "yaxis": {
         "anchor": "x",
         "domain": [
          0,
          1
         ],
         "title": {
          "text": "FIT"
         }
        }
       }
      },
      "text/html": [
       "<div>                            <div id=\"1eeffaaf-8788-4f70-bfa6-33746ca46666\" class=\"plotly-graph-div\" style=\"height:525px; width:100%;\"></div>            <script type=\"text/javascript\">                require([\"plotly\"], function(Plotly) {                    window.PLOTLYENV=window.PLOTLYENV || {};                                    if (document.getElementById(\"1eeffaaf-8788-4f70-bfa6-33746ca46666\")) {                    Plotly.newPlot(                        \"1eeffaaf-8788-4f70-bfa6-33746ca46666\",                        [{\"alignmentgroup\":\"True\",\"customdata\":[[15],[15],[15],[15],[15],[15],[15],[15],[15],[15],[15],[15],[15],[15],[15],[15],[15],[15],[15],[15],[15],[15],[15],[15],[15],[15],[15],[15],[15],[15],[15],[15],[15],[15],[15],[15],[15],[15],[15],[15],[15],[15],[15],[15],[15],[15],[15],[15],[15],[15],[15],[15],[15],[15],[15],[15],[15],[15],[15],[15],[15],[15],[15],[15],[15],[15],[15],[15],[15],[15],[15],[15],[15],[15],[15],[15],[15],[15],[15],[15],[15],[15],[15],[15],[15],[15],[15],[15],[15],[15],[15],[15],[15],[15],[15],[15],[15],[15],[15],[15],[15],[15],[15],[15],[15],[15],[15],[15],[15],[15],[15],[15],[15],[15],[15],[15],[15],[15],[15],[15],[15],[15],[15],[15],[15],[15],[15],[15],[15],[15],[15],[15],[15],[15],[15],[15],[15],[15],[15],[15],[15],[15],[15],[15],[15],[15],[15],[15],[15],[15],[15],[15],[15],[15],[15],[15],[15],[15],[15],[15],[15],[15],[15],[15],[15],[15],[15],[15],[15],[15],[15],[15],[15],[15],[15],[15],[15],[15],[15],[15],[15],[15],[15],[15],[15],[15],[15],[15],[15],[15],[15],[15],[15],[15],[15],[15],[15],[15],[15],[15],[15],[15],[15],[15],[15],[15],[15],[15],[15],[15],[15],[15],[15],[15],[15],[15],[15],[15],[15],[15],[15],[15],[15],[15],[15],[15],[15],[15],[15],[15],[15],[15],[15],[15],[15],[15],[15],[15],[15],[15],[15],[15],[15],[15],[15],[15],[15],[15],[15],[15],[15],[15],[15],[15],[15],[15],[15],[15],[15],[15],[15],[15],[15],[15],[15],[15],[15],[15],[15],[15],[15],[15],[15],[15],[15],[15],[15],[15],[15],[15],[15],[15],[15],[15],[15],[15],[15],[15]],\"hovertemplate\":\"max_time=%{x}<br>FIT=%{y}<br>est_hidden_size=%{customdata[0]}<extra></extra>\",\"legendgroup\":\"\",\"marker\":{\"color\":\"#636efa\"},\"name\":\"\",\"notched\":false,\"offsetgroup\":\"\",\"orientation\":\"v\",\"showlegend\":false,\"type\":\"box\",\"x\":[1800,1800,1800,1800,1800,1800,1800,1800,1800,1800,1800,1800,1800,1800,1800,1800,1800,1800,1800,1800,1800,1800,1800,1800,1800,1800,1800,1800,1800,1800,1800,1800,1800,1800,1800,1800,1800,1800,1800,1800,1800,1800,1800,1800,300,1800,1800,1800,1800,1800,300,1800,1800,1800,1800,300,1800,1800,1800,1800,1800,300,300,300,1800,300,1800,300,1800,300,300,1800,1800,300,1800,1800,1800,1800,1800,300,1800,300,1800,300,1800,1800,1800,1800,1800,300,1800,1800,300,1800,300,300,1800,300,1800,1800,300,300,300,1800,1800,300,1800,1800,300,300,1800,300,300,1800,1800,1800,300,300,1800,300,300,1800,300,1800,300,1800,1800,1800,300,300,1800,300,300,1800,1800,1800,1800,1800,1800,1800,1800,1800,300,1800,1800,1800,300,300,1800,1800,1800,300,300,300,1800,1800,1800,300,1800,300,300,1800,300,300,300,300,1800,1800,300,300,300,1800,1800,1800,300,300,1800,300,300,1800,1800,300,300,300,300,300,300,300,300,300,300,300,300,300,300,300,300,300,1800,300,300,300,300,300,300,1800,1800,1800,300,300,1800,1800,300,300,1800,300,1800,300,1800,300,300,300,300,300,300,300,300,300,300,300,300,300,300,300,300,300,300,300,300,300,1800,300,300,300,1800,300,300,300,1800,300,300,300,1800,300,300,300,300,300,300,300,300,300,300,300,300,300,300,300,300,300,300,300,1800,300,1800,1800,1800,300,1800,300,300,300,300,300,1800,300,1800,300],\"x0\":\" \",\"xaxis\":\"x\",\"y\":[98.58680725097656,98.54400634765624,98.53496551513672,98.4969482421875,98.4884262084961,98.4680633544922,98.46688079833984,98.46003723144533,98.45762634277344,98.44957733154295,98.44108581542967,98.39879608154295,98.39405059814452,98.38992309570312,98.38732147216795,98.34349060058594,98.34089660644533,98.3311004638672,98.32357788085938,98.30818939208984,98.2978057861328,98.2847137451172,98.2842254638672,98.2643814086914,98.26375579833984,98.26296997070312,98.24288177490234,98.23778533935548,98.2368392944336,98.22978973388672,98.22810363769533,98.223388671875,98.1858901977539,98.14122009277344,98.1392822265625,98.1307601928711,98.109130859375,98.09796905517578,98.089599609375,98.07433319091795,98.06573486328124,98.0548858642578,98.02249908447266,98.00109100341795,97.98046875,97.97256469726562,97.94593048095705,97.89498138427734,97.87517547607422,97.86749267578124,97.8382797241211,97.81996154785156,97.79443359375,97.79410552978516,97.76569366455078,97.7503433227539,97.7492904663086,97.7448959350586,97.62957763671876,97.60299682617188,97.6002426147461,97.56678771972656,97.55642700195312,97.51976776123048,97.50208282470705,97.50176239013672,97.49170684814452,97.48182678222656,97.4082260131836,97.38973236083984,97.3860321044922,97.37918853759766,97.35780334472656,97.33839416503906,97.33345794677734,97.30813598632812,97.26769256591795,97.25592803955078,97.2500228881836,97.2458038330078,97.21639251708984,97.2012176513672,97.19845581054688,97.17332458496094,97.10291290283205,97.06703186035156,97.0586929321289,97.0489501953125,97.02205657958984,97.00376892089844,97.00202941894533,96.99890899658205,96.96337890625,96.94878387451172,96.93067169189452,96.86779022216795,96.80670928955078,96.79696655273438,96.77342987060548,96.76136779785156,96.74951171875,96.72381591796876,96.7027816772461,96.68460083007812,96.66754150390624,96.66441345214844,96.60385131835938,96.59369659423828,96.56224060058594,96.5583953857422,96.52906036376952,96.5070571899414,96.46463775634766,96.44806671142578,96.44161987304688,96.41283416748048,96.41224670410156,96.3250961303711,96.30540466308594,96.28184509277344,96.26058959960938,96.22171020507812,96.19200134277344,96.14441680908205,96.12242889404295,96.12115478515624,96.1142349243164,96.11097717285156,96.08953857421876,96.05409240722656,96.04197692871094,96.0395965576172,96.03711700439452,96.03013610839844,96.02516174316406,96.00379180908205,96.00231170654295,95.97941589355467,95.96144104003906,95.95955657958984,95.90046691894533,95.87214660644533,95.83998107910156,95.83782196044922,95.82217407226562,95.81404113769533,95.794677734375,95.79283905029295,95.74341583251952,95.74041748046876,95.67951202392578,95.67823791503906,95.6724853515625,95.66205596923828,95.58983612060548,95.52284240722656,95.48313903808594,95.47371673583984,95.4578628540039,95.38463592529295,95.35894775390624,95.32396697998048,95.2631378173828,95.19278717041016,95.13353729248048,95.10485076904295,95.04939270019533,94.94505310058594,94.92473602294922,94.88628387451172,94.826171875,94.80684661865234,94.79309844970705,94.71673583984376,94.66151428222656,94.64602661132812,94.5956573486328,94.571044921875,94.54354858398438,94.53494262695312,94.5332260131836,94.4521255493164,94.43880462646484,94.36531066894533,94.30842590332033,94.30818176269533,94.25230407714844,94.14578247070312,94.14337158203124,94.06350708007812,94.02220916748048,93.90574645996094,93.83489227294922,93.8100814819336,93.75218963623048,93.6327667236328,93.58039093017578,93.55696105957033,93.40180206298828,93.36802673339844,93.33170318603516,93.30973815917967,93.3071746826172,93.26336669921876,93.15957641601562,93.10594940185548,93.06950378417967,93.02685546875,93.00537109375,92.95830535888672,92.8463134765625,92.83831024169922,92.82573699951172,92.81810760498048,92.76483917236328,92.7301025390625,92.72718048095705,92.5580062866211,92.52721405029295,92.49607849121094,92.48625946044922,92.40475463867188,92.35808563232422,92.34676361083984,92.1929702758789,92.1386489868164,92.0679168701172,91.81803894042967,91.77867889404295,91.55833435058594,91.15612030029295,90.90785217285156,90.60907745361328,90.33795928955078,90.24122619628906,90.20700073242188,90.19969940185548,90.08551025390624,90.06961822509766,89.92375183105469,89.52302551269531,89.47547912597656,89.4087905883789,89.37981414794922,89.30560302734375,89.30057525634766,89.26510620117188,89.09001922607422,89.03380584716797,88.60636138916016,88.43577575683594,88.38751220703125,88.33271026611328,88.3292236328125,88.06825256347656,87.9871826171875,87.98604583740234,87.85369873046875,87.81255340576172,87.74431610107422,87.417724609375,87.23623657226562,86.41252899169922,86.24456787109375,86.23270416259766,86.15328216552734,85.98072052001953,85.96220397949219,85.88803100585938,85.83757019042969,84.37820434570312,76.86139678955078,0.0,0.0,0.0,0.0,0.0,0.0,0.0,0.0,0.0,0.0,0.0,0.0,0.0,0.0,0.0,0.0],\"y0\":\" \",\"yaxis\":\"y\"}],                        {\"boxmode\":\"group\",\"legend\":{\"tracegroupgap\":0},\"margin\":{\"t\":60},\"template\":{\"data\":{\"bar\":[{\"error_x\":{\"color\":\"#2a3f5f\"},\"error_y\":{\"color\":\"#2a3f5f\"},\"marker\":{\"line\":{\"color\":\"#E5ECF6\",\"width\":0.5},\"pattern\":{\"fillmode\":\"overlay\",\"size\":10,\"solidity\":0.2}},\"type\":\"bar\"}],\"barpolar\":[{\"marker\":{\"line\":{\"color\":\"#E5ECF6\",\"width\":0.5},\"pattern\":{\"fillmode\":\"overlay\",\"size\":10,\"solidity\":0.2}},\"type\":\"barpolar\"}],\"carpet\":[{\"aaxis\":{\"endlinecolor\":\"#2a3f5f\",\"gridcolor\":\"white\",\"linecolor\":\"white\",\"minorgridcolor\":\"white\",\"startlinecolor\":\"#2a3f5f\"},\"baxis\":{\"endlinecolor\":\"#2a3f5f\",\"gridcolor\":\"white\",\"linecolor\":\"white\",\"minorgridcolor\":\"white\",\"startlinecolor\":\"#2a3f5f\"},\"type\":\"carpet\"}],\"choropleth\":[{\"colorbar\":{\"outlinewidth\":0,\"ticks\":\"\"},\"type\":\"choropleth\"}],\"contour\":[{\"colorbar\":{\"outlinewidth\":0,\"ticks\":\"\"},\"colorscale\":[[0.0,\"#0d0887\"],[0.1111111111111111,\"#46039f\"],[0.2222222222222222,\"#7201a8\"],[0.3333333333333333,\"#9c179e\"],[0.4444444444444444,\"#bd3786\"],[0.5555555555555556,\"#d8576b\"],[0.6666666666666666,\"#ed7953\"],[0.7777777777777778,\"#fb9f3a\"],[0.8888888888888888,\"#fdca26\"],[1.0,\"#f0f921\"]],\"type\":\"contour\"}],\"contourcarpet\":[{\"colorbar\":{\"outlinewidth\":0,\"ticks\":\"\"},\"type\":\"contourcarpet\"}],\"heatmap\":[{\"colorbar\":{\"outlinewidth\":0,\"ticks\":\"\"},\"colorscale\":[[0.0,\"#0d0887\"],[0.1111111111111111,\"#46039f\"],[0.2222222222222222,\"#7201a8\"],[0.3333333333333333,\"#9c179e\"],[0.4444444444444444,\"#bd3786\"],[0.5555555555555556,\"#d8576b\"],[0.6666666666666666,\"#ed7953\"],[0.7777777777777778,\"#fb9f3a\"],[0.8888888888888888,\"#fdca26\"],[1.0,\"#f0f921\"]],\"type\":\"heatmap\"}],\"heatmapgl\":[{\"colorbar\":{\"outlinewidth\":0,\"ticks\":\"\"},\"colorscale\":[[0.0,\"#0d0887\"],[0.1111111111111111,\"#46039f\"],[0.2222222222222222,\"#7201a8\"],[0.3333333333333333,\"#9c179e\"],[0.4444444444444444,\"#bd3786\"],[0.5555555555555556,\"#d8576b\"],[0.6666666666666666,\"#ed7953\"],[0.7777777777777778,\"#fb9f3a\"],[0.8888888888888888,\"#fdca26\"],[1.0,\"#f0f921\"]],\"type\":\"heatmapgl\"}],\"histogram\":[{\"marker\":{\"pattern\":{\"fillmode\":\"overlay\",\"size\":10,\"solidity\":0.2}},\"type\":\"histogram\"}],\"histogram2d\":[{\"colorbar\":{\"outlinewidth\":0,\"ticks\":\"\"},\"colorscale\":[[0.0,\"#0d0887\"],[0.1111111111111111,\"#46039f\"],[0.2222222222222222,\"#7201a8\"],[0.3333333333333333,\"#9c179e\"],[0.4444444444444444,\"#bd3786\"],[0.5555555555555556,\"#d8576b\"],[0.6666666666666666,\"#ed7953\"],[0.7777777777777778,\"#fb9f3a\"],[0.8888888888888888,\"#fdca26\"],[1.0,\"#f0f921\"]],\"type\":\"histogram2d\"}],\"histogram2dcontour\":[{\"colorbar\":{\"outlinewidth\":0,\"ticks\":\"\"},\"colorscale\":[[0.0,\"#0d0887\"],[0.1111111111111111,\"#46039f\"],[0.2222222222222222,\"#7201a8\"],[0.3333333333333333,\"#9c179e\"],[0.4444444444444444,\"#bd3786\"],[0.5555555555555556,\"#d8576b\"],[0.6666666666666666,\"#ed7953\"],[0.7777777777777778,\"#fb9f3a\"],[0.8888888888888888,\"#fdca26\"],[1.0,\"#f0f921\"]],\"type\":\"histogram2dcontour\"}],\"mesh3d\":[{\"colorbar\":{\"outlinewidth\":0,\"ticks\":\"\"},\"type\":\"mesh3d\"}],\"parcoords\":[{\"line\":{\"colorbar\":{\"outlinewidth\":0,\"ticks\":\"\"}},\"type\":\"parcoords\"}],\"pie\":[{\"automargin\":true,\"type\":\"pie\"}],\"scatter\":[{\"marker\":{\"colorbar\":{\"outlinewidth\":0,\"ticks\":\"\"}},\"type\":\"scatter\"}],\"scatter3d\":[{\"line\":{\"colorbar\":{\"outlinewidth\":0,\"ticks\":\"\"}},\"marker\":{\"colorbar\":{\"outlinewidth\":0,\"ticks\":\"\"}},\"type\":\"scatter3d\"}],\"scattercarpet\":[{\"marker\":{\"colorbar\":{\"outlinewidth\":0,\"ticks\":\"\"}},\"type\":\"scattercarpet\"}],\"scattergeo\":[{\"marker\":{\"colorbar\":{\"outlinewidth\":0,\"ticks\":\"\"}},\"type\":\"scattergeo\"}],\"scattergl\":[{\"marker\":{\"colorbar\":{\"outlinewidth\":0,\"ticks\":\"\"}},\"type\":\"scattergl\"}],\"scattermapbox\":[{\"marker\":{\"colorbar\":{\"outlinewidth\":0,\"ticks\":\"\"}},\"type\":\"scattermapbox\"}],\"scatterpolar\":[{\"marker\":{\"colorbar\":{\"outlinewidth\":0,\"ticks\":\"\"}},\"type\":\"scatterpolar\"}],\"scatterpolargl\":[{\"marker\":{\"colorbar\":{\"outlinewidth\":0,\"ticks\":\"\"}},\"type\":\"scatterpolargl\"}],\"scatterternary\":[{\"marker\":{\"colorbar\":{\"outlinewidth\":0,\"ticks\":\"\"}},\"type\":\"scatterternary\"}],\"surface\":[{\"colorbar\":{\"outlinewidth\":0,\"ticks\":\"\"},\"colorscale\":[[0.0,\"#0d0887\"],[0.1111111111111111,\"#46039f\"],[0.2222222222222222,\"#7201a8\"],[0.3333333333333333,\"#9c179e\"],[0.4444444444444444,\"#bd3786\"],[0.5555555555555556,\"#d8576b\"],[0.6666666666666666,\"#ed7953\"],[0.7777777777777778,\"#fb9f3a\"],[0.8888888888888888,\"#fdca26\"],[1.0,\"#f0f921\"]],\"type\":\"surface\"}],\"table\":[{\"cells\":{\"fill\":{\"color\":\"#EBF0F8\"},\"line\":{\"color\":\"white\"}},\"header\":{\"fill\":{\"color\":\"#C8D4E3\"},\"line\":{\"color\":\"white\"}},\"type\":\"table\"}]},\"layout\":{\"annotationdefaults\":{\"arrowcolor\":\"#2a3f5f\",\"arrowhead\":0,\"arrowwidth\":1},\"autotypenumbers\":\"strict\",\"coloraxis\":{\"colorbar\":{\"outlinewidth\":0,\"ticks\":\"\"}},\"colorscale\":{\"diverging\":[[0,\"#8e0152\"],[0.1,\"#c51b7d\"],[0.2,\"#de77ae\"],[0.3,\"#f1b6da\"],[0.4,\"#fde0ef\"],[0.5,\"#f7f7f7\"],[0.6,\"#e6f5d0\"],[0.7,\"#b8e186\"],[0.8,\"#7fbc41\"],[0.9,\"#4d9221\"],[1,\"#276419\"]],\"sequential\":[[0.0,\"#0d0887\"],[0.1111111111111111,\"#46039f\"],[0.2222222222222222,\"#7201a8\"],[0.3333333333333333,\"#9c179e\"],[0.4444444444444444,\"#bd3786\"],[0.5555555555555556,\"#d8576b\"],[0.6666666666666666,\"#ed7953\"],[0.7777777777777778,\"#fb9f3a\"],[0.8888888888888888,\"#fdca26\"],[1.0,\"#f0f921\"]],\"sequentialminus\":[[0.0,\"#0d0887\"],[0.1111111111111111,\"#46039f\"],[0.2222222222222222,\"#7201a8\"],[0.3333333333333333,\"#9c179e\"],[0.4444444444444444,\"#bd3786\"],[0.5555555555555556,\"#d8576b\"],[0.6666666666666666,\"#ed7953\"],[0.7777777777777778,\"#fb9f3a\"],[0.8888888888888888,\"#fdca26\"],[1.0,\"#f0f921\"]]},\"colorway\":[\"#636efa\",\"#EF553B\",\"#00cc96\",\"#ab63fa\",\"#FFA15A\",\"#19d3f3\",\"#FF6692\",\"#B6E880\",\"#FF97FF\",\"#FECB52\"],\"font\":{\"color\":\"#2a3f5f\"},\"geo\":{\"bgcolor\":\"white\",\"lakecolor\":\"white\",\"landcolor\":\"#E5ECF6\",\"showlakes\":true,\"showland\":true,\"subunitcolor\":\"white\"},\"hoverlabel\":{\"align\":\"left\"},\"hovermode\":\"closest\",\"mapbox\":{\"style\":\"light\"},\"paper_bgcolor\":\"white\",\"plot_bgcolor\":\"#E5ECF6\",\"polar\":{\"angularaxis\":{\"gridcolor\":\"white\",\"linecolor\":\"white\",\"ticks\":\"\"},\"bgcolor\":\"#E5ECF6\",\"radialaxis\":{\"gridcolor\":\"white\",\"linecolor\":\"white\",\"ticks\":\"\"}},\"scene\":{\"xaxis\":{\"backgroundcolor\":\"#E5ECF6\",\"gridcolor\":\"white\",\"gridwidth\":2,\"linecolor\":\"white\",\"showbackground\":true,\"ticks\":\"\",\"zerolinecolor\":\"white\"},\"yaxis\":{\"backgroundcolor\":\"#E5ECF6\",\"gridcolor\":\"white\",\"gridwidth\":2,\"linecolor\":\"white\",\"showbackground\":true,\"ticks\":\"\",\"zerolinecolor\":\"white\"},\"zaxis\":{\"backgroundcolor\":\"#E5ECF6\",\"gridcolor\":\"white\",\"gridwidth\":2,\"linecolor\":\"white\",\"showbackground\":true,\"ticks\":\"\",\"zerolinecolor\":\"white\"}},\"shapedefaults\":{\"line\":{\"color\":\"#2a3f5f\"}},\"ternary\":{\"aaxis\":{\"gridcolor\":\"white\",\"linecolor\":\"white\",\"ticks\":\"\"},\"baxis\":{\"gridcolor\":\"white\",\"linecolor\":\"white\",\"ticks\":\"\"},\"bgcolor\":\"#E5ECF6\",\"caxis\":{\"gridcolor\":\"white\",\"linecolor\":\"white\",\"ticks\":\"\"}},\"title\":{\"x\":0.05},\"xaxis\":{\"automargin\":true,\"gridcolor\":\"white\",\"linecolor\":\"white\",\"ticks\":\"\",\"title\":{\"standoff\":15},\"zerolinecolor\":\"white\",\"zerolinewidth\":2},\"yaxis\":{\"automargin\":true,\"gridcolor\":\"white\",\"linecolor\":\"white\",\"ticks\":\"\",\"title\":{\"standoff\":15},\"zerolinecolor\":\"white\",\"zerolinewidth\":2}}},\"xaxis\":{\"anchor\":\"y\",\"domain\":[0.0,1.0],\"title\":{\"text\":\"max_time\"}},\"yaxis\":{\"anchor\":\"x\",\"domain\":[0.0,1.0],\"title\":{\"text\":\"FIT\"}}},                        {\"responsive\": true}                    ).then(function(){\n",
       "                            \n",
       "var gd = document.getElementById('1eeffaaf-8788-4f70-bfa6-33746ca46666');\n",
       "var x = new MutationObserver(function (mutations, observer) {{\n",
       "        var display = window.getComputedStyle(gd).display;\n",
       "        if (!display || display === 'none') {{\n",
       "            console.log([gd, 'removed!']);\n",
       "            Plotly.purge(gd);\n",
       "            observer.disconnect();\n",
       "        }}\n",
       "}});\n",
       "\n",
       "// Listen for the removal of the full notebook cells\n",
       "var notebookContainer = gd.closest('#notebook-container');\n",
       "if (notebookContainer) {{\n",
       "    x.observe(notebookContainer, {childList: true});\n",
       "}}\n",
       "\n",
       "// Listen for the clearing of the current output cell\n",
       "var outputEl = gd.closest('.output');\n",
       "if (outputEl) {{\n",
       "    x.observe(outputEl, {childList: true});\n",
       "}}\n",
       "\n",
       "                        })                };                });            </script>        </div>"
      ]
     },
     "metadata": {},
     "output_type": "display_data"
    },
    {
     "data": {
      "application/vnd.plotly.v1+json": {
       "config": {
        "plotlyServerURL": "https://plot.ly"
       },
       "data": [
        {
         "alignmentgroup": "True",
         "customdata": [
          [
           1800,
           15
          ],
          [
           1800,
           15
          ],
          [
           1800,
           15
          ],
          [
           1800,
           15
          ],
          [
           1800,
           15
          ],
          [
           1800,
           15
          ],
          [
           1800,
           15
          ],
          [
           1800,
           15
          ],
          [
           1800,
           15
          ],
          [
           1800,
           15
          ],
          [
           1800,
           15
          ],
          [
           1800,
           15
          ],
          [
           1800,
           15
          ],
          [
           1800,
           15
          ],
          [
           1800,
           15
          ],
          [
           1800,
           15
          ],
          [
           1800,
           15
          ],
          [
           1800,
           15
          ],
          [
           1800,
           15
          ],
          [
           1800,
           15
          ],
          [
           1800,
           15
          ],
          [
           1800,
           15
          ],
          [
           1800,
           15
          ],
          [
           1800,
           15
          ],
          [
           1800,
           15
          ],
          [
           1800,
           15
          ],
          [
           1800,
           15
          ],
          [
           1800,
           15
          ],
          [
           1800,
           15
          ],
          [
           1800,
           15
          ],
          [
           1800,
           15
          ],
          [
           1800,
           15
          ],
          [
           1800,
           15
          ],
          [
           1800,
           15
          ],
          [
           1800,
           15
          ],
          [
           1800,
           15
          ],
          [
           1800,
           15
          ],
          [
           1800,
           15
          ],
          [
           1800,
           15
          ],
          [
           1800,
           15
          ],
          [
           1800,
           15
          ],
          [
           1800,
           15
          ],
          [
           1800,
           15
          ],
          [
           1800,
           15
          ],
          [
           300,
           15
          ],
          [
           1800,
           15
          ],
          [
           1800,
           15
          ],
          [
           1800,
           15
          ],
          [
           1800,
           15
          ],
          [
           1800,
           15
          ],
          [
           300,
           15
          ],
          [
           1800,
           15
          ],
          [
           1800,
           15
          ],
          [
           1800,
           15
          ],
          [
           1800,
           15
          ],
          [
           300,
           15
          ],
          [
           1800,
           15
          ],
          [
           1800,
           15
          ],
          [
           1800,
           15
          ],
          [
           1800,
           15
          ],
          [
           1800,
           15
          ],
          [
           300,
           15
          ],
          [
           300,
           15
          ],
          [
           300,
           15
          ],
          [
           1800,
           15
          ],
          [
           300,
           15
          ],
          [
           1800,
           15
          ],
          [
           300,
           15
          ],
          [
           1800,
           15
          ],
          [
           300,
           15
          ],
          [
           300,
           15
          ],
          [
           1800,
           15
          ],
          [
           1800,
           15
          ],
          [
           300,
           15
          ],
          [
           1800,
           15
          ],
          [
           1800,
           15
          ],
          [
           1800,
           15
          ],
          [
           1800,
           15
          ],
          [
           1800,
           15
          ],
          [
           300,
           15
          ],
          [
           1800,
           15
          ],
          [
           300,
           15
          ],
          [
           1800,
           15
          ],
          [
           300,
           15
          ],
          [
           1800,
           15
          ],
          [
           1800,
           15
          ],
          [
           1800,
           15
          ],
          [
           1800,
           15
          ],
          [
           1800,
           15
          ],
          [
           300,
           15
          ],
          [
           1800,
           15
          ],
          [
           1800,
           15
          ],
          [
           300,
           15
          ],
          [
           1800,
           15
          ],
          [
           300,
           15
          ],
          [
           300,
           15
          ],
          [
           1800,
           15
          ],
          [
           300,
           15
          ],
          [
           1800,
           15
          ],
          [
           1800,
           15
          ],
          [
           300,
           15
          ],
          [
           300,
           15
          ],
          [
           300,
           15
          ],
          [
           1800,
           15
          ],
          [
           1800,
           15
          ],
          [
           300,
           15
          ],
          [
           1800,
           15
          ],
          [
           1800,
           15
          ],
          [
           300,
           15
          ],
          [
           300,
           15
          ],
          [
           1800,
           15
          ],
          [
           300,
           15
          ],
          [
           300,
           15
          ],
          [
           1800,
           15
          ],
          [
           1800,
           15
          ],
          [
           1800,
           15
          ],
          [
           300,
           15
          ],
          [
           300,
           15
          ],
          [
           1800,
           15
          ],
          [
           300,
           15
          ],
          [
           300,
           15
          ],
          [
           1800,
           15
          ],
          [
           300,
           15
          ],
          [
           1800,
           15
          ],
          [
           300,
           15
          ],
          [
           1800,
           15
          ],
          [
           1800,
           15
          ],
          [
           1800,
           15
          ],
          [
           300,
           15
          ],
          [
           300,
           15
          ],
          [
           1800,
           15
          ],
          [
           300,
           15
          ],
          [
           300,
           15
          ],
          [
           1800,
           15
          ],
          [
           1800,
           15
          ],
          [
           1800,
           15
          ],
          [
           1800,
           15
          ],
          [
           1800,
           15
          ],
          [
           1800,
           15
          ],
          [
           1800,
           15
          ],
          [
           1800,
           15
          ],
          [
           1800,
           15
          ],
          [
           300,
           15
          ],
          [
           1800,
           15
          ],
          [
           1800,
           15
          ],
          [
           1800,
           15
          ],
          [
           300,
           15
          ],
          [
           300,
           15
          ],
          [
           1800,
           15
          ],
          [
           1800,
           15
          ],
          [
           1800,
           15
          ],
          [
           300,
           15
          ],
          [
           300,
           15
          ],
          [
           300,
           15
          ],
          [
           1800,
           15
          ],
          [
           1800,
           15
          ],
          [
           1800,
           15
          ],
          [
           300,
           15
          ],
          [
           1800,
           15
          ],
          [
           300,
           15
          ],
          [
           300,
           15
          ],
          [
           1800,
           15
          ],
          [
           300,
           15
          ],
          [
           300,
           15
          ],
          [
           300,
           15
          ],
          [
           300,
           15
          ],
          [
           1800,
           15
          ],
          [
           1800,
           15
          ],
          [
           300,
           15
          ],
          [
           300,
           15
          ],
          [
           300,
           15
          ],
          [
           1800,
           15
          ],
          [
           1800,
           15
          ],
          [
           1800,
           15
          ],
          [
           300,
           15
          ],
          [
           300,
           15
          ],
          [
           1800,
           15
          ],
          [
           300,
           15
          ],
          [
           300,
           15
          ],
          [
           1800,
           15
          ],
          [
           1800,
           15
          ],
          [
           300,
           15
          ],
          [
           300,
           15
          ],
          [
           300,
           15
          ],
          [
           300,
           15
          ],
          [
           300,
           15
          ],
          [
           300,
           15
          ],
          [
           300,
           15
          ],
          [
           300,
           15
          ],
          [
           300,
           15
          ],
          [
           300,
           15
          ],
          [
           300,
           15
          ],
          [
           300,
           15
          ],
          [
           300,
           15
          ],
          [
           300,
           15
          ],
          [
           300,
           15
          ],
          [
           300,
           15
          ],
          [
           300,
           15
          ],
          [
           1800,
           15
          ],
          [
           300,
           15
          ],
          [
           300,
           15
          ],
          [
           300,
           15
          ],
          [
           300,
           15
          ],
          [
           300,
           15
          ],
          [
           300,
           15
          ],
          [
           1800,
           15
          ],
          [
           1800,
           15
          ],
          [
           1800,
           15
          ],
          [
           300,
           15
          ],
          [
           300,
           15
          ],
          [
           1800,
           15
          ],
          [
           1800,
           15
          ],
          [
           300,
           15
          ],
          [
           300,
           15
          ],
          [
           1800,
           15
          ],
          [
           300,
           15
          ],
          [
           1800,
           15
          ],
          [
           300,
           15
          ],
          [
           1800,
           15
          ],
          [
           300,
           15
          ],
          [
           300,
           15
          ],
          [
           300,
           15
          ],
          [
           300,
           15
          ],
          [
           300,
           15
          ],
          [
           300,
           15
          ],
          [
           300,
           15
          ],
          [
           300,
           15
          ],
          [
           300,
           15
          ],
          [
           300,
           15
          ],
          [
           300,
           15
          ],
          [
           300,
           15
          ],
          [
           300,
           15
          ],
          [
           300,
           15
          ],
          [
           300,
           15
          ],
          [
           300,
           15
          ],
          [
           300,
           15
          ],
          [
           300,
           15
          ],
          [
           300,
           15
          ],
          [
           300,
           15
          ],
          [
           300,
           15
          ],
          [
           1800,
           15
          ],
          [
           300,
           15
          ],
          [
           300,
           15
          ],
          [
           300,
           15
          ],
          [
           1800,
           15
          ],
          [
           300,
           15
          ],
          [
           300,
           15
          ],
          [
           300,
           15
          ],
          [
           1800,
           15
          ],
          [
           300,
           15
          ],
          [
           300,
           15
          ],
          [
           300,
           15
          ],
          [
           1800,
           15
          ],
          [
           300,
           15
          ],
          [
           300,
           15
          ],
          [
           300,
           15
          ],
          [
           300,
           15
          ],
          [
           300,
           15
          ],
          [
           300,
           15
          ],
          [
           300,
           15
          ],
          [
           300,
           15
          ],
          [
           300,
           15
          ],
          [
           300,
           15
          ],
          [
           300,
           15
          ],
          [
           300,
           15
          ],
          [
           300,
           15
          ],
          [
           300,
           15
          ],
          [
           300,
           15
          ],
          [
           300,
           15
          ],
          [
           300,
           15
          ],
          [
           300,
           15
          ],
          [
           300,
           15
          ],
          [
           1800,
           15
          ],
          [
           300,
           15
          ],
          [
           1800,
           15
          ],
          [
           1800,
           15
          ],
          [
           1800,
           15
          ],
          [
           300,
           15
          ],
          [
           1800,
           15
          ],
          [
           300,
           15
          ],
          [
           300,
           15
          ],
          [
           300,
           15
          ],
          [
           300,
           15
          ],
          [
           300,
           15
          ],
          [
           1800,
           15
          ],
          [
           300,
           15
          ],
          [
           1800,
           15
          ],
          [
           300,
           15
          ]
         ],
         "hovertemplate": "batch_size=%{x}<br>FIT=%{y}<br>max_time=%{customdata[0]}<br>est_hidden_size=%{customdata[1]}<extra></extra>",
         "legendgroup": "",
         "marker": {
          "color": "#636efa"
         },
         "name": "",
         "notched": false,
         "offsetgroup": "",
         "orientation": "v",
         "showlegend": false,
         "type": "box",
         "x": [
          128,
          1024,
          1024,
          128,
          1024,
          1024,
          128,
          1024,
          128,
          1024,
          1024,
          128,
          1024,
          1024,
          1024,
          1024,
          128,
          128,
          128,
          128,
          128,
          1024,
          128,
          1024,
          128,
          1024,
          128,
          128,
          128,
          1024,
          128,
          128,
          1024,
          1024,
          128,
          1024,
          128,
          1024,
          128,
          1024,
          128,
          1024,
          128,
          1024,
          128,
          1024,
          128,
          1024,
          128,
          1024,
          128,
          1024,
          128,
          1024,
          1024,
          1024,
          128,
          1024,
          128,
          1024,
          1024,
          1024,
          128,
          128,
          128,
          1024,
          128,
          1024,
          128,
          128,
          128,
          128,
          1024,
          128,
          128,
          1024,
          1024,
          128,
          128,
          1024,
          1024,
          128,
          1024,
          1024,
          128,
          1024,
          128,
          128,
          128,
          128,
          128,
          128,
          128,
          1024,
          128,
          1024,
          128,
          1024,
          1024,
          128,
          128,
          1024,
          1024,
          1024,
          1024,
          1024,
          1024,
          1024,
          1024,
          1024,
          128,
          1024,
          128,
          1024,
          1024,
          1024,
          1024,
          1024,
          128,
          1024,
          128,
          128,
          128,
          128,
          1024,
          1024,
          1024,
          128,
          1024,
          1024,
          1024,
          1024,
          128,
          128,
          128,
          128,
          1024,
          1024,
          1024,
          1024,
          128,
          1024,
          1024,
          1024,
          1024,
          128,
          1024,
          128,
          1024,
          1024,
          1024,
          128,
          1024,
          128,
          128,
          1024,
          128,
          128,
          128,
          128,
          128,
          1024,
          128,
          1024,
          128,
          128,
          1024,
          1024,
          128,
          128,
          128,
          1024,
          128,
          128,
          128,
          128,
          1024,
          128,
          1024,
          128,
          1024,
          128,
          1024,
          128,
          1024,
          128,
          128,
          128,
          1024,
          1024,
          1024,
          1024,
          1024,
          128,
          1024,
          1024,
          1024,
          128,
          1024,
          1024,
          1024,
          1024,
          1024,
          1024,
          1024,
          128,
          1024,
          128,
          128,
          128,
          128,
          128,
          128,
          1024,
          128,
          128,
          128,
          128,
          128,
          1024,
          128,
          128,
          128,
          1024,
          128,
          1024,
          1024,
          128,
          1024,
          1024,
          128,
          128,
          1024,
          1024,
          1024,
          128,
          1024,
          128,
          1024,
          128,
          128,
          1024,
          128,
          128,
          1024,
          128,
          1024,
          1024,
          128,
          1024,
          128,
          1024,
          128,
          1024,
          128,
          1024,
          128,
          1024,
          128,
          128,
          128,
          128,
          1024,
          1024,
          128,
          1024,
          1024,
          128,
          128,
          128,
          1024,
          1024,
          1024,
          1024,
          128,
          1024,
          128,
          128,
          1024,
          1024,
          128,
          1024,
          128,
          128,
          128,
          1024,
          128,
          128
         ],
         "x0": " ",
         "xaxis": "x",
         "y": [
          98.58680725097656,
          98.54400634765624,
          98.53496551513672,
          98.4969482421875,
          98.4884262084961,
          98.4680633544922,
          98.46688079833984,
          98.46003723144533,
          98.45762634277344,
          98.44957733154295,
          98.44108581542967,
          98.39879608154295,
          98.39405059814452,
          98.38992309570312,
          98.38732147216795,
          98.34349060058594,
          98.34089660644533,
          98.3311004638672,
          98.32357788085938,
          98.30818939208984,
          98.2978057861328,
          98.2847137451172,
          98.2842254638672,
          98.2643814086914,
          98.26375579833984,
          98.26296997070312,
          98.24288177490234,
          98.23778533935548,
          98.2368392944336,
          98.22978973388672,
          98.22810363769533,
          98.223388671875,
          98.1858901977539,
          98.14122009277344,
          98.1392822265625,
          98.1307601928711,
          98.109130859375,
          98.09796905517578,
          98.089599609375,
          98.07433319091795,
          98.06573486328124,
          98.0548858642578,
          98.02249908447266,
          98.00109100341795,
          97.98046875,
          97.97256469726562,
          97.94593048095705,
          97.89498138427734,
          97.87517547607422,
          97.86749267578124,
          97.8382797241211,
          97.81996154785156,
          97.79443359375,
          97.79410552978516,
          97.76569366455078,
          97.7503433227539,
          97.7492904663086,
          97.7448959350586,
          97.62957763671876,
          97.60299682617188,
          97.6002426147461,
          97.56678771972656,
          97.55642700195312,
          97.51976776123048,
          97.50208282470705,
          97.50176239013672,
          97.49170684814452,
          97.48182678222656,
          97.4082260131836,
          97.38973236083984,
          97.3860321044922,
          97.37918853759766,
          97.35780334472656,
          97.33839416503906,
          97.33345794677734,
          97.30813598632812,
          97.26769256591795,
          97.25592803955078,
          97.2500228881836,
          97.2458038330078,
          97.21639251708984,
          97.2012176513672,
          97.19845581054688,
          97.17332458496094,
          97.10291290283205,
          97.06703186035156,
          97.0586929321289,
          97.0489501953125,
          97.02205657958984,
          97.00376892089844,
          97.00202941894533,
          96.99890899658205,
          96.96337890625,
          96.94878387451172,
          96.93067169189452,
          96.86779022216795,
          96.80670928955078,
          96.79696655273438,
          96.77342987060548,
          96.76136779785156,
          96.74951171875,
          96.72381591796876,
          96.7027816772461,
          96.68460083007812,
          96.66754150390624,
          96.66441345214844,
          96.60385131835938,
          96.59369659423828,
          96.56224060058594,
          96.5583953857422,
          96.52906036376952,
          96.5070571899414,
          96.46463775634766,
          96.44806671142578,
          96.44161987304688,
          96.41283416748048,
          96.41224670410156,
          96.3250961303711,
          96.30540466308594,
          96.28184509277344,
          96.26058959960938,
          96.22171020507812,
          96.19200134277344,
          96.14441680908205,
          96.12242889404295,
          96.12115478515624,
          96.1142349243164,
          96.11097717285156,
          96.08953857421876,
          96.05409240722656,
          96.04197692871094,
          96.0395965576172,
          96.03711700439452,
          96.03013610839844,
          96.02516174316406,
          96.00379180908205,
          96.00231170654295,
          95.97941589355467,
          95.96144104003906,
          95.95955657958984,
          95.90046691894533,
          95.87214660644533,
          95.83998107910156,
          95.83782196044922,
          95.82217407226562,
          95.81404113769533,
          95.794677734375,
          95.79283905029295,
          95.74341583251952,
          95.74041748046876,
          95.67951202392578,
          95.67823791503906,
          95.6724853515625,
          95.66205596923828,
          95.58983612060548,
          95.52284240722656,
          95.48313903808594,
          95.47371673583984,
          95.4578628540039,
          95.38463592529295,
          95.35894775390624,
          95.32396697998048,
          95.2631378173828,
          95.19278717041016,
          95.13353729248048,
          95.10485076904295,
          95.04939270019533,
          94.94505310058594,
          94.92473602294922,
          94.88628387451172,
          94.826171875,
          94.80684661865234,
          94.79309844970705,
          94.71673583984376,
          94.66151428222656,
          94.64602661132812,
          94.5956573486328,
          94.571044921875,
          94.54354858398438,
          94.53494262695312,
          94.5332260131836,
          94.4521255493164,
          94.43880462646484,
          94.36531066894533,
          94.30842590332033,
          94.30818176269533,
          94.25230407714844,
          94.14578247070312,
          94.14337158203124,
          94.06350708007812,
          94.02220916748048,
          93.90574645996094,
          93.83489227294922,
          93.8100814819336,
          93.75218963623048,
          93.6327667236328,
          93.58039093017578,
          93.55696105957033,
          93.40180206298828,
          93.36802673339844,
          93.33170318603516,
          93.30973815917967,
          93.3071746826172,
          93.26336669921876,
          93.15957641601562,
          93.10594940185548,
          93.06950378417967,
          93.02685546875,
          93.00537109375,
          92.95830535888672,
          92.8463134765625,
          92.83831024169922,
          92.82573699951172,
          92.81810760498048,
          92.76483917236328,
          92.7301025390625,
          92.72718048095705,
          92.5580062866211,
          92.52721405029295,
          92.49607849121094,
          92.48625946044922,
          92.40475463867188,
          92.35808563232422,
          92.34676361083984,
          92.1929702758789,
          92.1386489868164,
          92.0679168701172,
          91.81803894042967,
          91.77867889404295,
          91.55833435058594,
          91.15612030029295,
          90.90785217285156,
          90.60907745361328,
          90.33795928955078,
          90.24122619628906,
          90.20700073242188,
          90.19969940185548,
          90.08551025390624,
          90.06961822509766,
          89.92375183105469,
          89.52302551269531,
          89.47547912597656,
          89.4087905883789,
          89.37981414794922,
          89.30560302734375,
          89.30057525634766,
          89.26510620117188,
          89.09001922607422,
          89.03380584716797,
          88.60636138916016,
          88.43577575683594,
          88.38751220703125,
          88.33271026611328,
          88.3292236328125,
          88.06825256347656,
          87.9871826171875,
          87.98604583740234,
          87.85369873046875,
          87.81255340576172,
          87.74431610107422,
          87.417724609375,
          87.23623657226562,
          86.41252899169922,
          86.24456787109375,
          86.23270416259766,
          86.15328216552734,
          85.98072052001953,
          85.96220397949219,
          85.88803100585938,
          85.83757019042969,
          84.37820434570312,
          76.86139678955078,
          0,
          0,
          0,
          0,
          0,
          0,
          0,
          0,
          0,
          0,
          0,
          0,
          0,
          0,
          0,
          0
         ],
         "y0": " ",
         "yaxis": "y"
        }
       ],
       "layout": {
        "boxmode": "group",
        "legend": {
         "tracegroupgap": 0
        },
        "margin": {
         "t": 60
        },
        "template": {
         "data": {
          "bar": [
           {
            "error_x": {
             "color": "#2a3f5f"
            },
            "error_y": {
             "color": "#2a3f5f"
            },
            "marker": {
             "line": {
              "color": "#E5ECF6",
              "width": 0.5
             },
             "pattern": {
              "fillmode": "overlay",
              "size": 10,
              "solidity": 0.2
             }
            },
            "type": "bar"
           }
          ],
          "barpolar": [
           {
            "marker": {
             "line": {
              "color": "#E5ECF6",
              "width": 0.5
             },
             "pattern": {
              "fillmode": "overlay",
              "size": 10,
              "solidity": 0.2
             }
            },
            "type": "barpolar"
           }
          ],
          "carpet": [
           {
            "aaxis": {
             "endlinecolor": "#2a3f5f",
             "gridcolor": "white",
             "linecolor": "white",
             "minorgridcolor": "white",
             "startlinecolor": "#2a3f5f"
            },
            "baxis": {
             "endlinecolor": "#2a3f5f",
             "gridcolor": "white",
             "linecolor": "white",
             "minorgridcolor": "white",
             "startlinecolor": "#2a3f5f"
            },
            "type": "carpet"
           }
          ],
          "choropleth": [
           {
            "colorbar": {
             "outlinewidth": 0,
             "ticks": ""
            },
            "type": "choropleth"
           }
          ],
          "contour": [
           {
            "colorbar": {
             "outlinewidth": 0,
             "ticks": ""
            },
            "colorscale": [
             [
              0,
              "#0d0887"
             ],
             [
              0.1111111111111111,
              "#46039f"
             ],
             [
              0.2222222222222222,
              "#7201a8"
             ],
             [
              0.3333333333333333,
              "#9c179e"
             ],
             [
              0.4444444444444444,
              "#bd3786"
             ],
             [
              0.5555555555555556,
              "#d8576b"
             ],
             [
              0.6666666666666666,
              "#ed7953"
             ],
             [
              0.7777777777777778,
              "#fb9f3a"
             ],
             [
              0.8888888888888888,
              "#fdca26"
             ],
             [
              1,
              "#f0f921"
             ]
            ],
            "type": "contour"
           }
          ],
          "contourcarpet": [
           {
            "colorbar": {
             "outlinewidth": 0,
             "ticks": ""
            },
            "type": "contourcarpet"
           }
          ],
          "heatmap": [
           {
            "colorbar": {
             "outlinewidth": 0,
             "ticks": ""
            },
            "colorscale": [
             [
              0,
              "#0d0887"
             ],
             [
              0.1111111111111111,
              "#46039f"
             ],
             [
              0.2222222222222222,
              "#7201a8"
             ],
             [
              0.3333333333333333,
              "#9c179e"
             ],
             [
              0.4444444444444444,
              "#bd3786"
             ],
             [
              0.5555555555555556,
              "#d8576b"
             ],
             [
              0.6666666666666666,
              "#ed7953"
             ],
             [
              0.7777777777777778,
              "#fb9f3a"
             ],
             [
              0.8888888888888888,
              "#fdca26"
             ],
             [
              1,
              "#f0f921"
             ]
            ],
            "type": "heatmap"
           }
          ],
          "heatmapgl": [
           {
            "colorbar": {
             "outlinewidth": 0,
             "ticks": ""
            },
            "colorscale": [
             [
              0,
              "#0d0887"
             ],
             [
              0.1111111111111111,
              "#46039f"
             ],
             [
              0.2222222222222222,
              "#7201a8"
             ],
             [
              0.3333333333333333,
              "#9c179e"
             ],
             [
              0.4444444444444444,
              "#bd3786"
             ],
             [
              0.5555555555555556,
              "#d8576b"
             ],
             [
              0.6666666666666666,
              "#ed7953"
             ],
             [
              0.7777777777777778,
              "#fb9f3a"
             ],
             [
              0.8888888888888888,
              "#fdca26"
             ],
             [
              1,
              "#f0f921"
             ]
            ],
            "type": "heatmapgl"
           }
          ],
          "histogram": [
           {
            "marker": {
             "pattern": {
              "fillmode": "overlay",
              "size": 10,
              "solidity": 0.2
             }
            },
            "type": "histogram"
           }
          ],
          "histogram2d": [
           {
            "colorbar": {
             "outlinewidth": 0,
             "ticks": ""
            },
            "colorscale": [
             [
              0,
              "#0d0887"
             ],
             [
              0.1111111111111111,
              "#46039f"
             ],
             [
              0.2222222222222222,
              "#7201a8"
             ],
             [
              0.3333333333333333,
              "#9c179e"
             ],
             [
              0.4444444444444444,
              "#bd3786"
             ],
             [
              0.5555555555555556,
              "#d8576b"
             ],
             [
              0.6666666666666666,
              "#ed7953"
             ],
             [
              0.7777777777777778,
              "#fb9f3a"
             ],
             [
              0.8888888888888888,
              "#fdca26"
             ],
             [
              1,
              "#f0f921"
             ]
            ],
            "type": "histogram2d"
           }
          ],
          "histogram2dcontour": [
           {
            "colorbar": {
             "outlinewidth": 0,
             "ticks": ""
            },
            "colorscale": [
             [
              0,
              "#0d0887"
             ],
             [
              0.1111111111111111,
              "#46039f"
             ],
             [
              0.2222222222222222,
              "#7201a8"
             ],
             [
              0.3333333333333333,
              "#9c179e"
             ],
             [
              0.4444444444444444,
              "#bd3786"
             ],
             [
              0.5555555555555556,
              "#d8576b"
             ],
             [
              0.6666666666666666,
              "#ed7953"
             ],
             [
              0.7777777777777778,
              "#fb9f3a"
             ],
             [
              0.8888888888888888,
              "#fdca26"
             ],
             [
              1,
              "#f0f921"
             ]
            ],
            "type": "histogram2dcontour"
           }
          ],
          "mesh3d": [
           {
            "colorbar": {
             "outlinewidth": 0,
             "ticks": ""
            },
            "type": "mesh3d"
           }
          ],
          "parcoords": [
           {
            "line": {
             "colorbar": {
              "outlinewidth": 0,
              "ticks": ""
             }
            },
            "type": "parcoords"
           }
          ],
          "pie": [
           {
            "automargin": true,
            "type": "pie"
           }
          ],
          "scatter": [
           {
            "marker": {
             "colorbar": {
              "outlinewidth": 0,
              "ticks": ""
             }
            },
            "type": "scatter"
           }
          ],
          "scatter3d": [
           {
            "line": {
             "colorbar": {
              "outlinewidth": 0,
              "ticks": ""
             }
            },
            "marker": {
             "colorbar": {
              "outlinewidth": 0,
              "ticks": ""
             }
            },
            "type": "scatter3d"
           }
          ],
          "scattercarpet": [
           {
            "marker": {
             "colorbar": {
              "outlinewidth": 0,
              "ticks": ""
             }
            },
            "type": "scattercarpet"
           }
          ],
          "scattergeo": [
           {
            "marker": {
             "colorbar": {
              "outlinewidth": 0,
              "ticks": ""
             }
            },
            "type": "scattergeo"
           }
          ],
          "scattergl": [
           {
            "marker": {
             "colorbar": {
              "outlinewidth": 0,
              "ticks": ""
             }
            },
            "type": "scattergl"
           }
          ],
          "scattermapbox": [
           {
            "marker": {
             "colorbar": {
              "outlinewidth": 0,
              "ticks": ""
             }
            },
            "type": "scattermapbox"
           }
          ],
          "scatterpolar": [
           {
            "marker": {
             "colorbar": {
              "outlinewidth": 0,
              "ticks": ""
             }
            },
            "type": "scatterpolar"
           }
          ],
          "scatterpolargl": [
           {
            "marker": {
             "colorbar": {
              "outlinewidth": 0,
              "ticks": ""
             }
            },
            "type": "scatterpolargl"
           }
          ],
          "scatterternary": [
           {
            "marker": {
             "colorbar": {
              "outlinewidth": 0,
              "ticks": ""
             }
            },
            "type": "scatterternary"
           }
          ],
          "surface": [
           {
            "colorbar": {
             "outlinewidth": 0,
             "ticks": ""
            },
            "colorscale": [
             [
              0,
              "#0d0887"
             ],
             [
              0.1111111111111111,
              "#46039f"
             ],
             [
              0.2222222222222222,
              "#7201a8"
             ],
             [
              0.3333333333333333,
              "#9c179e"
             ],
             [
              0.4444444444444444,
              "#bd3786"
             ],
             [
              0.5555555555555556,
              "#d8576b"
             ],
             [
              0.6666666666666666,
              "#ed7953"
             ],
             [
              0.7777777777777778,
              "#fb9f3a"
             ],
             [
              0.8888888888888888,
              "#fdca26"
             ],
             [
              1,
              "#f0f921"
             ]
            ],
            "type": "surface"
           }
          ],
          "table": [
           {
            "cells": {
             "fill": {
              "color": "#EBF0F8"
             },
             "line": {
              "color": "white"
             }
            },
            "header": {
             "fill": {
              "color": "#C8D4E3"
             },
             "line": {
              "color": "white"
             }
            },
            "type": "table"
           }
          ]
         },
         "layout": {
          "annotationdefaults": {
           "arrowcolor": "#2a3f5f",
           "arrowhead": 0,
           "arrowwidth": 1
          },
          "autotypenumbers": "strict",
          "coloraxis": {
           "colorbar": {
            "outlinewidth": 0,
            "ticks": ""
           }
          },
          "colorscale": {
           "diverging": [
            [
             0,
             "#8e0152"
            ],
            [
             0.1,
             "#c51b7d"
            ],
            [
             0.2,
             "#de77ae"
            ],
            [
             0.3,
             "#f1b6da"
            ],
            [
             0.4,
             "#fde0ef"
            ],
            [
             0.5,
             "#f7f7f7"
            ],
            [
             0.6,
             "#e6f5d0"
            ],
            [
             0.7,
             "#b8e186"
            ],
            [
             0.8,
             "#7fbc41"
            ],
            [
             0.9,
             "#4d9221"
            ],
            [
             1,
             "#276419"
            ]
           ],
           "sequential": [
            [
             0,
             "#0d0887"
            ],
            [
             0.1111111111111111,
             "#46039f"
            ],
            [
             0.2222222222222222,
             "#7201a8"
            ],
            [
             0.3333333333333333,
             "#9c179e"
            ],
            [
             0.4444444444444444,
             "#bd3786"
            ],
            [
             0.5555555555555556,
             "#d8576b"
            ],
            [
             0.6666666666666666,
             "#ed7953"
            ],
            [
             0.7777777777777778,
             "#fb9f3a"
            ],
            [
             0.8888888888888888,
             "#fdca26"
            ],
            [
             1,
             "#f0f921"
            ]
           ],
           "sequentialminus": [
            [
             0,
             "#0d0887"
            ],
            [
             0.1111111111111111,
             "#46039f"
            ],
            [
             0.2222222222222222,
             "#7201a8"
            ],
            [
             0.3333333333333333,
             "#9c179e"
            ],
            [
             0.4444444444444444,
             "#bd3786"
            ],
            [
             0.5555555555555556,
             "#d8576b"
            ],
            [
             0.6666666666666666,
             "#ed7953"
            ],
            [
             0.7777777777777778,
             "#fb9f3a"
            ],
            [
             0.8888888888888888,
             "#fdca26"
            ],
            [
             1,
             "#f0f921"
            ]
           ]
          },
          "colorway": [
           "#636efa",
           "#EF553B",
           "#00cc96",
           "#ab63fa",
           "#FFA15A",
           "#19d3f3",
           "#FF6692",
           "#B6E880",
           "#FF97FF",
           "#FECB52"
          ],
          "font": {
           "color": "#2a3f5f"
          },
          "geo": {
           "bgcolor": "white",
           "lakecolor": "white",
           "landcolor": "#E5ECF6",
           "showlakes": true,
           "showland": true,
           "subunitcolor": "white"
          },
          "hoverlabel": {
           "align": "left"
          },
          "hovermode": "closest",
          "mapbox": {
           "style": "light"
          },
          "paper_bgcolor": "white",
          "plot_bgcolor": "#E5ECF6",
          "polar": {
           "angularaxis": {
            "gridcolor": "white",
            "linecolor": "white",
            "ticks": ""
           },
           "bgcolor": "#E5ECF6",
           "radialaxis": {
            "gridcolor": "white",
            "linecolor": "white",
            "ticks": ""
           }
          },
          "scene": {
           "xaxis": {
            "backgroundcolor": "#E5ECF6",
            "gridcolor": "white",
            "gridwidth": 2,
            "linecolor": "white",
            "showbackground": true,
            "ticks": "",
            "zerolinecolor": "white"
           },
           "yaxis": {
            "backgroundcolor": "#E5ECF6",
            "gridcolor": "white",
            "gridwidth": 2,
            "linecolor": "white",
            "showbackground": true,
            "ticks": "",
            "zerolinecolor": "white"
           },
           "zaxis": {
            "backgroundcolor": "#E5ECF6",
            "gridcolor": "white",
            "gridwidth": 2,
            "linecolor": "white",
            "showbackground": true,
            "ticks": "",
            "zerolinecolor": "white"
           }
          },
          "shapedefaults": {
           "line": {
            "color": "#2a3f5f"
           }
          },
          "ternary": {
           "aaxis": {
            "gridcolor": "white",
            "linecolor": "white",
            "ticks": ""
           },
           "baxis": {
            "gridcolor": "white",
            "linecolor": "white",
            "ticks": ""
           },
           "bgcolor": "#E5ECF6",
           "caxis": {
            "gridcolor": "white",
            "linecolor": "white",
            "ticks": ""
           }
          },
          "title": {
           "x": 0.05
          },
          "xaxis": {
           "automargin": true,
           "gridcolor": "white",
           "linecolor": "white",
           "ticks": "",
           "title": {
            "standoff": 15
           },
           "zerolinecolor": "white",
           "zerolinewidth": 2
          },
          "yaxis": {
           "automargin": true,
           "gridcolor": "white",
           "linecolor": "white",
           "ticks": "",
           "title": {
            "standoff": 15
           },
           "zerolinecolor": "white",
           "zerolinewidth": 2
          }
         }
        },
        "xaxis": {
         "anchor": "y",
         "domain": [
          0,
          1
         ],
         "title": {
          "text": "batch_size"
         }
        },
        "yaxis": {
         "anchor": "x",
         "domain": [
          0,
          1
         ],
         "title": {
          "text": "FIT"
         }
        }
       }
      },
      "text/html": [
       "<div>                            <div id=\"6c334873-e4a9-4fa4-af25-6783a14230f4\" class=\"plotly-graph-div\" style=\"height:525px; width:100%;\"></div>            <script type=\"text/javascript\">                require([\"plotly\"], function(Plotly) {                    window.PLOTLYENV=window.PLOTLYENV || {};                                    if (document.getElementById(\"6c334873-e4a9-4fa4-af25-6783a14230f4\")) {                    Plotly.newPlot(                        \"6c334873-e4a9-4fa4-af25-6783a14230f4\",                        [{\"alignmentgroup\":\"True\",\"customdata\":[[1800,15],[1800,15],[1800,15],[1800,15],[1800,15],[1800,15],[1800,15],[1800,15],[1800,15],[1800,15],[1800,15],[1800,15],[1800,15],[1800,15],[1800,15],[1800,15],[1800,15],[1800,15],[1800,15],[1800,15],[1800,15],[1800,15],[1800,15],[1800,15],[1800,15],[1800,15],[1800,15],[1800,15],[1800,15],[1800,15],[1800,15],[1800,15],[1800,15],[1800,15],[1800,15],[1800,15],[1800,15],[1800,15],[1800,15],[1800,15],[1800,15],[1800,15],[1800,15],[1800,15],[300,15],[1800,15],[1800,15],[1800,15],[1800,15],[1800,15],[300,15],[1800,15],[1800,15],[1800,15],[1800,15],[300,15],[1800,15],[1800,15],[1800,15],[1800,15],[1800,15],[300,15],[300,15],[300,15],[1800,15],[300,15],[1800,15],[300,15],[1800,15],[300,15],[300,15],[1800,15],[1800,15],[300,15],[1800,15],[1800,15],[1800,15],[1800,15],[1800,15],[300,15],[1800,15],[300,15],[1800,15],[300,15],[1800,15],[1800,15],[1800,15],[1800,15],[1800,15],[300,15],[1800,15],[1800,15],[300,15],[1800,15],[300,15],[300,15],[1800,15],[300,15],[1800,15],[1800,15],[300,15],[300,15],[300,15],[1800,15],[1800,15],[300,15],[1800,15],[1800,15],[300,15],[300,15],[1800,15],[300,15],[300,15],[1800,15],[1800,15],[1800,15],[300,15],[300,15],[1800,15],[300,15],[300,15],[1800,15],[300,15],[1800,15],[300,15],[1800,15],[1800,15],[1800,15],[300,15],[300,15],[1800,15],[300,15],[300,15],[1800,15],[1800,15],[1800,15],[1800,15],[1800,15],[1800,15],[1800,15],[1800,15],[1800,15],[300,15],[1800,15],[1800,15],[1800,15],[300,15],[300,15],[1800,15],[1800,15],[1800,15],[300,15],[300,15],[300,15],[1800,15],[1800,15],[1800,15],[300,15],[1800,15],[300,15],[300,15],[1800,15],[300,15],[300,15],[300,15],[300,15],[1800,15],[1800,15],[300,15],[300,15],[300,15],[1800,15],[1800,15],[1800,15],[300,15],[300,15],[1800,15],[300,15],[300,15],[1800,15],[1800,15],[300,15],[300,15],[300,15],[300,15],[300,15],[300,15],[300,15],[300,15],[300,15],[300,15],[300,15],[300,15],[300,15],[300,15],[300,15],[300,15],[300,15],[1800,15],[300,15],[300,15],[300,15],[300,15],[300,15],[300,15],[1800,15],[1800,15],[1800,15],[300,15],[300,15],[1800,15],[1800,15],[300,15],[300,15],[1800,15],[300,15],[1800,15],[300,15],[1800,15],[300,15],[300,15],[300,15],[300,15],[300,15],[300,15],[300,15],[300,15],[300,15],[300,15],[300,15],[300,15],[300,15],[300,15],[300,15],[300,15],[300,15],[300,15],[300,15],[300,15],[300,15],[1800,15],[300,15],[300,15],[300,15],[1800,15],[300,15],[300,15],[300,15],[1800,15],[300,15],[300,15],[300,15],[1800,15],[300,15],[300,15],[300,15],[300,15],[300,15],[300,15],[300,15],[300,15],[300,15],[300,15],[300,15],[300,15],[300,15],[300,15],[300,15],[300,15],[300,15],[300,15],[300,15],[1800,15],[300,15],[1800,15],[1800,15],[1800,15],[300,15],[1800,15],[300,15],[300,15],[300,15],[300,15],[300,15],[1800,15],[300,15],[1800,15],[300,15]],\"hovertemplate\":\"batch_size=%{x}<br>FIT=%{y}<br>max_time=%{customdata[0]}<br>est_hidden_size=%{customdata[1]}<extra></extra>\",\"legendgroup\":\"\",\"marker\":{\"color\":\"#636efa\"},\"name\":\"\",\"notched\":false,\"offsetgroup\":\"\",\"orientation\":\"v\",\"showlegend\":false,\"type\":\"box\",\"x\":[128,1024,1024,128,1024,1024,128,1024,128,1024,1024,128,1024,1024,1024,1024,128,128,128,128,128,1024,128,1024,128,1024,128,128,128,1024,128,128,1024,1024,128,1024,128,1024,128,1024,128,1024,128,1024,128,1024,128,1024,128,1024,128,1024,128,1024,1024,1024,128,1024,128,1024,1024,1024,128,128,128,1024,128,1024,128,128,128,128,1024,128,128,1024,1024,128,128,1024,1024,128,1024,1024,128,1024,128,128,128,128,128,128,128,1024,128,1024,128,1024,1024,128,128,1024,1024,1024,1024,1024,1024,1024,1024,1024,128,1024,128,1024,1024,1024,1024,1024,128,1024,128,128,128,128,1024,1024,1024,128,1024,1024,1024,1024,128,128,128,128,1024,1024,1024,1024,128,1024,1024,1024,1024,128,1024,128,1024,1024,1024,128,1024,128,128,1024,128,128,128,128,128,1024,128,1024,128,128,1024,1024,128,128,128,1024,128,128,128,128,1024,128,1024,128,1024,128,1024,128,1024,128,128,128,1024,1024,1024,1024,1024,128,1024,1024,1024,128,1024,1024,1024,1024,1024,1024,1024,128,1024,128,128,128,128,128,128,1024,128,128,128,128,128,1024,128,128,128,1024,128,1024,1024,128,1024,1024,128,128,1024,1024,1024,128,1024,128,1024,128,128,1024,128,128,1024,128,1024,1024,128,1024,128,1024,128,1024,128,1024,128,1024,128,128,128,128,1024,1024,128,1024,1024,128,128,128,1024,1024,1024,1024,128,1024,128,128,1024,1024,128,1024,128,128,128,1024,128,128],\"x0\":\" \",\"xaxis\":\"x\",\"y\":[98.58680725097656,98.54400634765624,98.53496551513672,98.4969482421875,98.4884262084961,98.4680633544922,98.46688079833984,98.46003723144533,98.45762634277344,98.44957733154295,98.44108581542967,98.39879608154295,98.39405059814452,98.38992309570312,98.38732147216795,98.34349060058594,98.34089660644533,98.3311004638672,98.32357788085938,98.30818939208984,98.2978057861328,98.2847137451172,98.2842254638672,98.2643814086914,98.26375579833984,98.26296997070312,98.24288177490234,98.23778533935548,98.2368392944336,98.22978973388672,98.22810363769533,98.223388671875,98.1858901977539,98.14122009277344,98.1392822265625,98.1307601928711,98.109130859375,98.09796905517578,98.089599609375,98.07433319091795,98.06573486328124,98.0548858642578,98.02249908447266,98.00109100341795,97.98046875,97.97256469726562,97.94593048095705,97.89498138427734,97.87517547607422,97.86749267578124,97.8382797241211,97.81996154785156,97.79443359375,97.79410552978516,97.76569366455078,97.7503433227539,97.7492904663086,97.7448959350586,97.62957763671876,97.60299682617188,97.6002426147461,97.56678771972656,97.55642700195312,97.51976776123048,97.50208282470705,97.50176239013672,97.49170684814452,97.48182678222656,97.4082260131836,97.38973236083984,97.3860321044922,97.37918853759766,97.35780334472656,97.33839416503906,97.33345794677734,97.30813598632812,97.26769256591795,97.25592803955078,97.2500228881836,97.2458038330078,97.21639251708984,97.2012176513672,97.19845581054688,97.17332458496094,97.10291290283205,97.06703186035156,97.0586929321289,97.0489501953125,97.02205657958984,97.00376892089844,97.00202941894533,96.99890899658205,96.96337890625,96.94878387451172,96.93067169189452,96.86779022216795,96.80670928955078,96.79696655273438,96.77342987060548,96.76136779785156,96.74951171875,96.72381591796876,96.7027816772461,96.68460083007812,96.66754150390624,96.66441345214844,96.60385131835938,96.59369659423828,96.56224060058594,96.5583953857422,96.52906036376952,96.5070571899414,96.46463775634766,96.44806671142578,96.44161987304688,96.41283416748048,96.41224670410156,96.3250961303711,96.30540466308594,96.28184509277344,96.26058959960938,96.22171020507812,96.19200134277344,96.14441680908205,96.12242889404295,96.12115478515624,96.1142349243164,96.11097717285156,96.08953857421876,96.05409240722656,96.04197692871094,96.0395965576172,96.03711700439452,96.03013610839844,96.02516174316406,96.00379180908205,96.00231170654295,95.97941589355467,95.96144104003906,95.95955657958984,95.90046691894533,95.87214660644533,95.83998107910156,95.83782196044922,95.82217407226562,95.81404113769533,95.794677734375,95.79283905029295,95.74341583251952,95.74041748046876,95.67951202392578,95.67823791503906,95.6724853515625,95.66205596923828,95.58983612060548,95.52284240722656,95.48313903808594,95.47371673583984,95.4578628540039,95.38463592529295,95.35894775390624,95.32396697998048,95.2631378173828,95.19278717041016,95.13353729248048,95.10485076904295,95.04939270019533,94.94505310058594,94.92473602294922,94.88628387451172,94.826171875,94.80684661865234,94.79309844970705,94.71673583984376,94.66151428222656,94.64602661132812,94.5956573486328,94.571044921875,94.54354858398438,94.53494262695312,94.5332260131836,94.4521255493164,94.43880462646484,94.36531066894533,94.30842590332033,94.30818176269533,94.25230407714844,94.14578247070312,94.14337158203124,94.06350708007812,94.02220916748048,93.90574645996094,93.83489227294922,93.8100814819336,93.75218963623048,93.6327667236328,93.58039093017578,93.55696105957033,93.40180206298828,93.36802673339844,93.33170318603516,93.30973815917967,93.3071746826172,93.26336669921876,93.15957641601562,93.10594940185548,93.06950378417967,93.02685546875,93.00537109375,92.95830535888672,92.8463134765625,92.83831024169922,92.82573699951172,92.81810760498048,92.76483917236328,92.7301025390625,92.72718048095705,92.5580062866211,92.52721405029295,92.49607849121094,92.48625946044922,92.40475463867188,92.35808563232422,92.34676361083984,92.1929702758789,92.1386489868164,92.0679168701172,91.81803894042967,91.77867889404295,91.55833435058594,91.15612030029295,90.90785217285156,90.60907745361328,90.33795928955078,90.24122619628906,90.20700073242188,90.19969940185548,90.08551025390624,90.06961822509766,89.92375183105469,89.52302551269531,89.47547912597656,89.4087905883789,89.37981414794922,89.30560302734375,89.30057525634766,89.26510620117188,89.09001922607422,89.03380584716797,88.60636138916016,88.43577575683594,88.38751220703125,88.33271026611328,88.3292236328125,88.06825256347656,87.9871826171875,87.98604583740234,87.85369873046875,87.81255340576172,87.74431610107422,87.417724609375,87.23623657226562,86.41252899169922,86.24456787109375,86.23270416259766,86.15328216552734,85.98072052001953,85.96220397949219,85.88803100585938,85.83757019042969,84.37820434570312,76.86139678955078,0.0,0.0,0.0,0.0,0.0,0.0,0.0,0.0,0.0,0.0,0.0,0.0,0.0,0.0,0.0,0.0],\"y0\":\" \",\"yaxis\":\"y\"}],                        {\"boxmode\":\"group\",\"legend\":{\"tracegroupgap\":0},\"margin\":{\"t\":60},\"template\":{\"data\":{\"bar\":[{\"error_x\":{\"color\":\"#2a3f5f\"},\"error_y\":{\"color\":\"#2a3f5f\"},\"marker\":{\"line\":{\"color\":\"#E5ECF6\",\"width\":0.5},\"pattern\":{\"fillmode\":\"overlay\",\"size\":10,\"solidity\":0.2}},\"type\":\"bar\"}],\"barpolar\":[{\"marker\":{\"line\":{\"color\":\"#E5ECF6\",\"width\":0.5},\"pattern\":{\"fillmode\":\"overlay\",\"size\":10,\"solidity\":0.2}},\"type\":\"barpolar\"}],\"carpet\":[{\"aaxis\":{\"endlinecolor\":\"#2a3f5f\",\"gridcolor\":\"white\",\"linecolor\":\"white\",\"minorgridcolor\":\"white\",\"startlinecolor\":\"#2a3f5f\"},\"baxis\":{\"endlinecolor\":\"#2a3f5f\",\"gridcolor\":\"white\",\"linecolor\":\"white\",\"minorgridcolor\":\"white\",\"startlinecolor\":\"#2a3f5f\"},\"type\":\"carpet\"}],\"choropleth\":[{\"colorbar\":{\"outlinewidth\":0,\"ticks\":\"\"},\"type\":\"choropleth\"}],\"contour\":[{\"colorbar\":{\"outlinewidth\":0,\"ticks\":\"\"},\"colorscale\":[[0.0,\"#0d0887\"],[0.1111111111111111,\"#46039f\"],[0.2222222222222222,\"#7201a8\"],[0.3333333333333333,\"#9c179e\"],[0.4444444444444444,\"#bd3786\"],[0.5555555555555556,\"#d8576b\"],[0.6666666666666666,\"#ed7953\"],[0.7777777777777778,\"#fb9f3a\"],[0.8888888888888888,\"#fdca26\"],[1.0,\"#f0f921\"]],\"type\":\"contour\"}],\"contourcarpet\":[{\"colorbar\":{\"outlinewidth\":0,\"ticks\":\"\"},\"type\":\"contourcarpet\"}],\"heatmap\":[{\"colorbar\":{\"outlinewidth\":0,\"ticks\":\"\"},\"colorscale\":[[0.0,\"#0d0887\"],[0.1111111111111111,\"#46039f\"],[0.2222222222222222,\"#7201a8\"],[0.3333333333333333,\"#9c179e\"],[0.4444444444444444,\"#bd3786\"],[0.5555555555555556,\"#d8576b\"],[0.6666666666666666,\"#ed7953\"],[0.7777777777777778,\"#fb9f3a\"],[0.8888888888888888,\"#fdca26\"],[1.0,\"#f0f921\"]],\"type\":\"heatmap\"}],\"heatmapgl\":[{\"colorbar\":{\"outlinewidth\":0,\"ticks\":\"\"},\"colorscale\":[[0.0,\"#0d0887\"],[0.1111111111111111,\"#46039f\"],[0.2222222222222222,\"#7201a8\"],[0.3333333333333333,\"#9c179e\"],[0.4444444444444444,\"#bd3786\"],[0.5555555555555556,\"#d8576b\"],[0.6666666666666666,\"#ed7953\"],[0.7777777777777778,\"#fb9f3a\"],[0.8888888888888888,\"#fdca26\"],[1.0,\"#f0f921\"]],\"type\":\"heatmapgl\"}],\"histogram\":[{\"marker\":{\"pattern\":{\"fillmode\":\"overlay\",\"size\":10,\"solidity\":0.2}},\"type\":\"histogram\"}],\"histogram2d\":[{\"colorbar\":{\"outlinewidth\":0,\"ticks\":\"\"},\"colorscale\":[[0.0,\"#0d0887\"],[0.1111111111111111,\"#46039f\"],[0.2222222222222222,\"#7201a8\"],[0.3333333333333333,\"#9c179e\"],[0.4444444444444444,\"#bd3786\"],[0.5555555555555556,\"#d8576b\"],[0.6666666666666666,\"#ed7953\"],[0.7777777777777778,\"#fb9f3a\"],[0.8888888888888888,\"#fdca26\"],[1.0,\"#f0f921\"]],\"type\":\"histogram2d\"}],\"histogram2dcontour\":[{\"colorbar\":{\"outlinewidth\":0,\"ticks\":\"\"},\"colorscale\":[[0.0,\"#0d0887\"],[0.1111111111111111,\"#46039f\"],[0.2222222222222222,\"#7201a8\"],[0.3333333333333333,\"#9c179e\"],[0.4444444444444444,\"#bd3786\"],[0.5555555555555556,\"#d8576b\"],[0.6666666666666666,\"#ed7953\"],[0.7777777777777778,\"#fb9f3a\"],[0.8888888888888888,\"#fdca26\"],[1.0,\"#f0f921\"]],\"type\":\"histogram2dcontour\"}],\"mesh3d\":[{\"colorbar\":{\"outlinewidth\":0,\"ticks\":\"\"},\"type\":\"mesh3d\"}],\"parcoords\":[{\"line\":{\"colorbar\":{\"outlinewidth\":0,\"ticks\":\"\"}},\"type\":\"parcoords\"}],\"pie\":[{\"automargin\":true,\"type\":\"pie\"}],\"scatter\":[{\"marker\":{\"colorbar\":{\"outlinewidth\":0,\"ticks\":\"\"}},\"type\":\"scatter\"}],\"scatter3d\":[{\"line\":{\"colorbar\":{\"outlinewidth\":0,\"ticks\":\"\"}},\"marker\":{\"colorbar\":{\"outlinewidth\":0,\"ticks\":\"\"}},\"type\":\"scatter3d\"}],\"scattercarpet\":[{\"marker\":{\"colorbar\":{\"outlinewidth\":0,\"ticks\":\"\"}},\"type\":\"scattercarpet\"}],\"scattergeo\":[{\"marker\":{\"colorbar\":{\"outlinewidth\":0,\"ticks\":\"\"}},\"type\":\"scattergeo\"}],\"scattergl\":[{\"marker\":{\"colorbar\":{\"outlinewidth\":0,\"ticks\":\"\"}},\"type\":\"scattergl\"}],\"scattermapbox\":[{\"marker\":{\"colorbar\":{\"outlinewidth\":0,\"ticks\":\"\"}},\"type\":\"scattermapbox\"}],\"scatterpolar\":[{\"marker\":{\"colorbar\":{\"outlinewidth\":0,\"ticks\":\"\"}},\"type\":\"scatterpolar\"}],\"scatterpolargl\":[{\"marker\":{\"colorbar\":{\"outlinewidth\":0,\"ticks\":\"\"}},\"type\":\"scatterpolargl\"}],\"scatterternary\":[{\"marker\":{\"colorbar\":{\"outlinewidth\":0,\"ticks\":\"\"}},\"type\":\"scatterternary\"}],\"surface\":[{\"colorbar\":{\"outlinewidth\":0,\"ticks\":\"\"},\"colorscale\":[[0.0,\"#0d0887\"],[0.1111111111111111,\"#46039f\"],[0.2222222222222222,\"#7201a8\"],[0.3333333333333333,\"#9c179e\"],[0.4444444444444444,\"#bd3786\"],[0.5555555555555556,\"#d8576b\"],[0.6666666666666666,\"#ed7953\"],[0.7777777777777778,\"#fb9f3a\"],[0.8888888888888888,\"#fdca26\"],[1.0,\"#f0f921\"]],\"type\":\"surface\"}],\"table\":[{\"cells\":{\"fill\":{\"color\":\"#EBF0F8\"},\"line\":{\"color\":\"white\"}},\"header\":{\"fill\":{\"color\":\"#C8D4E3\"},\"line\":{\"color\":\"white\"}},\"type\":\"table\"}]},\"layout\":{\"annotationdefaults\":{\"arrowcolor\":\"#2a3f5f\",\"arrowhead\":0,\"arrowwidth\":1},\"autotypenumbers\":\"strict\",\"coloraxis\":{\"colorbar\":{\"outlinewidth\":0,\"ticks\":\"\"}},\"colorscale\":{\"diverging\":[[0,\"#8e0152\"],[0.1,\"#c51b7d\"],[0.2,\"#de77ae\"],[0.3,\"#f1b6da\"],[0.4,\"#fde0ef\"],[0.5,\"#f7f7f7\"],[0.6,\"#e6f5d0\"],[0.7,\"#b8e186\"],[0.8,\"#7fbc41\"],[0.9,\"#4d9221\"],[1,\"#276419\"]],\"sequential\":[[0.0,\"#0d0887\"],[0.1111111111111111,\"#46039f\"],[0.2222222222222222,\"#7201a8\"],[0.3333333333333333,\"#9c179e\"],[0.4444444444444444,\"#bd3786\"],[0.5555555555555556,\"#d8576b\"],[0.6666666666666666,\"#ed7953\"],[0.7777777777777778,\"#fb9f3a\"],[0.8888888888888888,\"#fdca26\"],[1.0,\"#f0f921\"]],\"sequentialminus\":[[0.0,\"#0d0887\"],[0.1111111111111111,\"#46039f\"],[0.2222222222222222,\"#7201a8\"],[0.3333333333333333,\"#9c179e\"],[0.4444444444444444,\"#bd3786\"],[0.5555555555555556,\"#d8576b\"],[0.6666666666666666,\"#ed7953\"],[0.7777777777777778,\"#fb9f3a\"],[0.8888888888888888,\"#fdca26\"],[1.0,\"#f0f921\"]]},\"colorway\":[\"#636efa\",\"#EF553B\",\"#00cc96\",\"#ab63fa\",\"#FFA15A\",\"#19d3f3\",\"#FF6692\",\"#B6E880\",\"#FF97FF\",\"#FECB52\"],\"font\":{\"color\":\"#2a3f5f\"},\"geo\":{\"bgcolor\":\"white\",\"lakecolor\":\"white\",\"landcolor\":\"#E5ECF6\",\"showlakes\":true,\"showland\":true,\"subunitcolor\":\"white\"},\"hoverlabel\":{\"align\":\"left\"},\"hovermode\":\"closest\",\"mapbox\":{\"style\":\"light\"},\"paper_bgcolor\":\"white\",\"plot_bgcolor\":\"#E5ECF6\",\"polar\":{\"angularaxis\":{\"gridcolor\":\"white\",\"linecolor\":\"white\",\"ticks\":\"\"},\"bgcolor\":\"#E5ECF6\",\"radialaxis\":{\"gridcolor\":\"white\",\"linecolor\":\"white\",\"ticks\":\"\"}},\"scene\":{\"xaxis\":{\"backgroundcolor\":\"#E5ECF6\",\"gridcolor\":\"white\",\"gridwidth\":2,\"linecolor\":\"white\",\"showbackground\":true,\"ticks\":\"\",\"zerolinecolor\":\"white\"},\"yaxis\":{\"backgroundcolor\":\"#E5ECF6\",\"gridcolor\":\"white\",\"gridwidth\":2,\"linecolor\":\"white\",\"showbackground\":true,\"ticks\":\"\",\"zerolinecolor\":\"white\"},\"zaxis\":{\"backgroundcolor\":\"#E5ECF6\",\"gridcolor\":\"white\",\"gridwidth\":2,\"linecolor\":\"white\",\"showbackground\":true,\"ticks\":\"\",\"zerolinecolor\":\"white\"}},\"shapedefaults\":{\"line\":{\"color\":\"#2a3f5f\"}},\"ternary\":{\"aaxis\":{\"gridcolor\":\"white\",\"linecolor\":\"white\",\"ticks\":\"\"},\"baxis\":{\"gridcolor\":\"white\",\"linecolor\":\"white\",\"ticks\":\"\"},\"bgcolor\":\"#E5ECF6\",\"caxis\":{\"gridcolor\":\"white\",\"linecolor\":\"white\",\"ticks\":\"\"}},\"title\":{\"x\":0.05},\"xaxis\":{\"automargin\":true,\"gridcolor\":\"white\",\"linecolor\":\"white\",\"ticks\":\"\",\"title\":{\"standoff\":15},\"zerolinecolor\":\"white\",\"zerolinewidth\":2},\"yaxis\":{\"automargin\":true,\"gridcolor\":\"white\",\"linecolor\":\"white\",\"ticks\":\"\",\"title\":{\"standoff\":15},\"zerolinecolor\":\"white\",\"zerolinewidth\":2}}},\"xaxis\":{\"anchor\":\"y\",\"domain\":[0.0,1.0],\"title\":{\"text\":\"batch_size\"}},\"yaxis\":{\"anchor\":\"x\",\"domain\":[0.0,1.0],\"title\":{\"text\":\"FIT\"}}},                        {\"responsive\": true}                    ).then(function(){\n",
       "                            \n",
       "var gd = document.getElementById('6c334873-e4a9-4fa4-af25-6783a14230f4');\n",
       "var x = new MutationObserver(function (mutations, observer) {{\n",
       "        var display = window.getComputedStyle(gd).display;\n",
       "        if (!display || display === 'none') {{\n",
       "            console.log([gd, 'removed!']);\n",
       "            Plotly.purge(gd);\n",
       "            observer.disconnect();\n",
       "        }}\n",
       "}});\n",
       "\n",
       "// Listen for the removal of the full notebook cells\n",
       "var notebookContainer = gd.closest('#notebook-container');\n",
       "if (notebookContainer) {{\n",
       "    x.observe(notebookContainer, {childList: true});\n",
       "}}\n",
       "\n",
       "// Listen for the clearing of the current output cell\n",
       "var outputEl = gd.closest('.output');\n",
       "if (outputEl) {{\n",
       "    x.observe(outputEl, {childList: true});\n",
       "}}\n",
       "\n",
       "                        })                };                });            </script>        </div>"
      ]
     },
     "metadata": {},
     "output_type": "display_data"
    },
    {
     "data": {
      "application/vnd.plotly.v1+json": {
       "config": {
        "plotlyServerURL": "https://plot.ly"
       },
       "data": [
        {
         "alignmentgroup": "True",
         "customdata": [
          [
           1800,
           15
          ],
          [
           1800,
           15
          ],
          [
           1800,
           15
          ],
          [
           1800,
           15
          ],
          [
           1800,
           15
          ],
          [
           1800,
           15
          ],
          [
           1800,
           15
          ],
          [
           1800,
           15
          ],
          [
           1800,
           15
          ],
          [
           1800,
           15
          ],
          [
           1800,
           15
          ],
          [
           1800,
           15
          ],
          [
           1800,
           15
          ],
          [
           1800,
           15
          ],
          [
           1800,
           15
          ],
          [
           1800,
           15
          ],
          [
           1800,
           15
          ],
          [
           1800,
           15
          ],
          [
           1800,
           15
          ],
          [
           1800,
           15
          ],
          [
           1800,
           15
          ],
          [
           1800,
           15
          ],
          [
           1800,
           15
          ],
          [
           1800,
           15
          ],
          [
           1800,
           15
          ],
          [
           1800,
           15
          ],
          [
           1800,
           15
          ],
          [
           1800,
           15
          ],
          [
           1800,
           15
          ],
          [
           1800,
           15
          ],
          [
           1800,
           15
          ],
          [
           1800,
           15
          ],
          [
           1800,
           15
          ],
          [
           1800,
           15
          ],
          [
           1800,
           15
          ],
          [
           1800,
           15
          ],
          [
           1800,
           15
          ],
          [
           1800,
           15
          ],
          [
           1800,
           15
          ],
          [
           1800,
           15
          ],
          [
           1800,
           15
          ],
          [
           1800,
           15
          ],
          [
           1800,
           15
          ],
          [
           1800,
           15
          ],
          [
           300,
           15
          ],
          [
           1800,
           15
          ],
          [
           1800,
           15
          ],
          [
           1800,
           15
          ],
          [
           1800,
           15
          ],
          [
           1800,
           15
          ],
          [
           300,
           15
          ],
          [
           1800,
           15
          ],
          [
           1800,
           15
          ],
          [
           1800,
           15
          ],
          [
           1800,
           15
          ],
          [
           300,
           15
          ],
          [
           1800,
           15
          ],
          [
           1800,
           15
          ],
          [
           1800,
           15
          ],
          [
           1800,
           15
          ],
          [
           1800,
           15
          ],
          [
           300,
           15
          ],
          [
           300,
           15
          ],
          [
           300,
           15
          ],
          [
           1800,
           15
          ],
          [
           300,
           15
          ],
          [
           1800,
           15
          ],
          [
           300,
           15
          ],
          [
           1800,
           15
          ],
          [
           300,
           15
          ],
          [
           300,
           15
          ],
          [
           1800,
           15
          ],
          [
           1800,
           15
          ],
          [
           300,
           15
          ],
          [
           1800,
           15
          ],
          [
           1800,
           15
          ],
          [
           1800,
           15
          ],
          [
           1800,
           15
          ],
          [
           1800,
           15
          ],
          [
           300,
           15
          ],
          [
           1800,
           15
          ],
          [
           300,
           15
          ],
          [
           1800,
           15
          ],
          [
           300,
           15
          ],
          [
           1800,
           15
          ],
          [
           1800,
           15
          ],
          [
           1800,
           15
          ],
          [
           1800,
           15
          ],
          [
           1800,
           15
          ],
          [
           300,
           15
          ],
          [
           1800,
           15
          ],
          [
           1800,
           15
          ],
          [
           300,
           15
          ],
          [
           1800,
           15
          ],
          [
           300,
           15
          ],
          [
           300,
           15
          ],
          [
           1800,
           15
          ],
          [
           300,
           15
          ],
          [
           1800,
           15
          ],
          [
           1800,
           15
          ],
          [
           300,
           15
          ],
          [
           300,
           15
          ],
          [
           300,
           15
          ],
          [
           1800,
           15
          ],
          [
           1800,
           15
          ],
          [
           300,
           15
          ],
          [
           1800,
           15
          ],
          [
           1800,
           15
          ],
          [
           300,
           15
          ],
          [
           300,
           15
          ],
          [
           1800,
           15
          ],
          [
           300,
           15
          ],
          [
           300,
           15
          ],
          [
           1800,
           15
          ],
          [
           1800,
           15
          ],
          [
           1800,
           15
          ],
          [
           300,
           15
          ],
          [
           300,
           15
          ],
          [
           1800,
           15
          ],
          [
           300,
           15
          ],
          [
           300,
           15
          ],
          [
           1800,
           15
          ],
          [
           300,
           15
          ],
          [
           1800,
           15
          ],
          [
           300,
           15
          ],
          [
           1800,
           15
          ],
          [
           1800,
           15
          ],
          [
           1800,
           15
          ],
          [
           300,
           15
          ],
          [
           300,
           15
          ],
          [
           1800,
           15
          ],
          [
           300,
           15
          ],
          [
           300,
           15
          ],
          [
           1800,
           15
          ],
          [
           1800,
           15
          ],
          [
           1800,
           15
          ],
          [
           1800,
           15
          ],
          [
           1800,
           15
          ],
          [
           1800,
           15
          ],
          [
           1800,
           15
          ],
          [
           1800,
           15
          ],
          [
           1800,
           15
          ],
          [
           300,
           15
          ],
          [
           1800,
           15
          ],
          [
           1800,
           15
          ],
          [
           1800,
           15
          ],
          [
           300,
           15
          ],
          [
           300,
           15
          ],
          [
           1800,
           15
          ],
          [
           1800,
           15
          ],
          [
           1800,
           15
          ],
          [
           300,
           15
          ],
          [
           300,
           15
          ],
          [
           300,
           15
          ],
          [
           1800,
           15
          ],
          [
           1800,
           15
          ],
          [
           1800,
           15
          ],
          [
           300,
           15
          ],
          [
           1800,
           15
          ],
          [
           300,
           15
          ],
          [
           300,
           15
          ],
          [
           1800,
           15
          ],
          [
           300,
           15
          ],
          [
           300,
           15
          ],
          [
           300,
           15
          ],
          [
           300,
           15
          ],
          [
           1800,
           15
          ],
          [
           1800,
           15
          ],
          [
           300,
           15
          ],
          [
           300,
           15
          ],
          [
           300,
           15
          ],
          [
           1800,
           15
          ],
          [
           1800,
           15
          ],
          [
           1800,
           15
          ],
          [
           300,
           15
          ],
          [
           300,
           15
          ],
          [
           1800,
           15
          ],
          [
           300,
           15
          ],
          [
           300,
           15
          ],
          [
           1800,
           15
          ],
          [
           1800,
           15
          ],
          [
           300,
           15
          ],
          [
           300,
           15
          ],
          [
           300,
           15
          ],
          [
           300,
           15
          ],
          [
           300,
           15
          ],
          [
           300,
           15
          ],
          [
           300,
           15
          ],
          [
           300,
           15
          ],
          [
           300,
           15
          ],
          [
           300,
           15
          ],
          [
           300,
           15
          ],
          [
           300,
           15
          ],
          [
           300,
           15
          ],
          [
           300,
           15
          ],
          [
           300,
           15
          ],
          [
           300,
           15
          ],
          [
           300,
           15
          ],
          [
           1800,
           15
          ],
          [
           300,
           15
          ],
          [
           300,
           15
          ],
          [
           300,
           15
          ],
          [
           300,
           15
          ],
          [
           300,
           15
          ],
          [
           300,
           15
          ],
          [
           1800,
           15
          ],
          [
           1800,
           15
          ],
          [
           1800,
           15
          ],
          [
           300,
           15
          ],
          [
           300,
           15
          ],
          [
           1800,
           15
          ],
          [
           1800,
           15
          ],
          [
           300,
           15
          ],
          [
           300,
           15
          ],
          [
           1800,
           15
          ],
          [
           300,
           15
          ],
          [
           1800,
           15
          ],
          [
           300,
           15
          ],
          [
           1800,
           15
          ],
          [
           300,
           15
          ],
          [
           300,
           15
          ],
          [
           300,
           15
          ],
          [
           300,
           15
          ],
          [
           300,
           15
          ],
          [
           300,
           15
          ],
          [
           300,
           15
          ],
          [
           300,
           15
          ],
          [
           300,
           15
          ],
          [
           300,
           15
          ],
          [
           300,
           15
          ],
          [
           300,
           15
          ],
          [
           300,
           15
          ],
          [
           300,
           15
          ],
          [
           300,
           15
          ],
          [
           300,
           15
          ],
          [
           300,
           15
          ],
          [
           300,
           15
          ],
          [
           300,
           15
          ],
          [
           300,
           15
          ],
          [
           300,
           15
          ],
          [
           1800,
           15
          ],
          [
           300,
           15
          ],
          [
           300,
           15
          ],
          [
           300,
           15
          ],
          [
           1800,
           15
          ],
          [
           300,
           15
          ],
          [
           300,
           15
          ],
          [
           300,
           15
          ],
          [
           1800,
           15
          ],
          [
           300,
           15
          ],
          [
           300,
           15
          ],
          [
           300,
           15
          ],
          [
           1800,
           15
          ],
          [
           300,
           15
          ],
          [
           300,
           15
          ],
          [
           300,
           15
          ],
          [
           300,
           15
          ],
          [
           300,
           15
          ],
          [
           300,
           15
          ],
          [
           300,
           15
          ],
          [
           300,
           15
          ],
          [
           300,
           15
          ],
          [
           300,
           15
          ],
          [
           300,
           15
          ],
          [
           300,
           15
          ],
          [
           300,
           15
          ],
          [
           300,
           15
          ],
          [
           300,
           15
          ],
          [
           300,
           15
          ],
          [
           300,
           15
          ],
          [
           300,
           15
          ],
          [
           300,
           15
          ],
          [
           1800,
           15
          ],
          [
           300,
           15
          ],
          [
           1800,
           15
          ],
          [
           1800,
           15
          ],
          [
           1800,
           15
          ],
          [
           300,
           15
          ],
          [
           1800,
           15
          ],
          [
           300,
           15
          ],
          [
           300,
           15
          ],
          [
           300,
           15
          ],
          [
           300,
           15
          ],
          [
           300,
           15
          ],
          [
           1800,
           15
          ],
          [
           300,
           15
          ],
          [
           1800,
           15
          ],
          [
           300,
           15
          ]
         ],
         "hovertemplate": "seq_len=%{x}<br>FIT=%{y}<br>max_time=%{customdata[0]}<br>est_hidden_size=%{customdata[1]}<extra></extra>",
         "legendgroup": "",
         "marker": {
          "color": "#636efa"
         },
         "name": "",
         "notched": false,
         "offsetgroup": "",
         "orientation": "v",
         "showlegend": false,
         "type": "box",
         "x": [
          80,
          40,
          80,
          80,
          80,
          256,
          80,
          80,
          80,
          40,
          256,
          256,
          80,
          40,
          256,
          512,
          256,
          256,
          256,
          80,
          40,
          512,
          40,
          40,
          40,
          80,
          256,
          80,
          80,
          256,
          80,
          80,
          40,
          256,
          40,
          80,
          512,
          512,
          80,
          80,
          256,
          40,
          40,
          256,
          80,
          512,
          256,
          256,
          40,
          256,
          80,
          512,
          512,
          80,
          40,
          80,
          256,
          512,
          256,
          80,
          512,
          40,
          80,
          40,
          512,
          80,
          256,
          80,
          40,
          40,
          80,
          512,
          256,
          80,
          256,
          40,
          256,
          256,
          512,
          80,
          256,
          256,
          40,
          256,
          256,
          40,
          40,
          80,
          80,
          256,
          40,
          512,
          256,
          80,
          256,
          80,
          256,
          80,
          512,
          80,
          256,
          256,
          40,
          80,
          40,
          256,
          80,
          80,
          40,
          256,
          512,
          512,
          80,
          80,
          256,
          80,
          40,
          80,
          512,
          256,
          256,
          80,
          80,
          80,
          256,
          256,
          80,
          512,
          80,
          256,
          512,
          256,
          256,
          512,
          512,
          256,
          80,
          512,
          256,
          256,
          256,
          256,
          40,
          256,
          512,
          512,
          512,
          256,
          512,
          80,
          512,
          80,
          80,
          256,
          256,
          40,
          80,
          40,
          256,
          80,
          80,
          40,
          80,
          80,
          80,
          40,
          512,
          40,
          80,
          40,
          80,
          512,
          512,
          512,
          80,
          40,
          40,
          80,
          40,
          40,
          512,
          512,
          80,
          80,
          40,
          40,
          512,
          512,
          80,
          512,
          512,
          80,
          80,
          256,
          40,
          40,
          512,
          80,
          40,
          256,
          40,
          40,
          512,
          80,
          80,
          40,
          40,
          40,
          256,
          256,
          40,
          40,
          512,
          40,
          40,
          256,
          80,
          40,
          80,
          80,
          40,
          40,
          40,
          256,
          256,
          256,
          40,
          256,
          80,
          256,
          256,
          256,
          256,
          40,
          256,
          40,
          512,
          512,
          512,
          512,
          40,
          256,
          40,
          512,
          40,
          40,
          256,
          256,
          40,
          512,
          40,
          512,
          40,
          40,
          512,
          512,
          40,
          512,
          40,
          512,
          256,
          40,
          512,
          40,
          512,
          512,
          512,
          512,
          512,
          512,
          40,
          40,
          512,
          512,
          512,
          512,
          512,
          512,
          256,
          512,
          512,
          512,
          512,
          512,
          512,
          256,
          512,
          512
         ],
         "x0": " ",
         "xaxis": "x",
         "y": [
          98.58680725097656,
          98.54400634765624,
          98.53496551513672,
          98.4969482421875,
          98.4884262084961,
          98.4680633544922,
          98.46688079833984,
          98.46003723144533,
          98.45762634277344,
          98.44957733154295,
          98.44108581542967,
          98.39879608154295,
          98.39405059814452,
          98.38992309570312,
          98.38732147216795,
          98.34349060058594,
          98.34089660644533,
          98.3311004638672,
          98.32357788085938,
          98.30818939208984,
          98.2978057861328,
          98.2847137451172,
          98.2842254638672,
          98.2643814086914,
          98.26375579833984,
          98.26296997070312,
          98.24288177490234,
          98.23778533935548,
          98.2368392944336,
          98.22978973388672,
          98.22810363769533,
          98.223388671875,
          98.1858901977539,
          98.14122009277344,
          98.1392822265625,
          98.1307601928711,
          98.109130859375,
          98.09796905517578,
          98.089599609375,
          98.07433319091795,
          98.06573486328124,
          98.0548858642578,
          98.02249908447266,
          98.00109100341795,
          97.98046875,
          97.97256469726562,
          97.94593048095705,
          97.89498138427734,
          97.87517547607422,
          97.86749267578124,
          97.8382797241211,
          97.81996154785156,
          97.79443359375,
          97.79410552978516,
          97.76569366455078,
          97.7503433227539,
          97.7492904663086,
          97.7448959350586,
          97.62957763671876,
          97.60299682617188,
          97.6002426147461,
          97.56678771972656,
          97.55642700195312,
          97.51976776123048,
          97.50208282470705,
          97.50176239013672,
          97.49170684814452,
          97.48182678222656,
          97.4082260131836,
          97.38973236083984,
          97.3860321044922,
          97.37918853759766,
          97.35780334472656,
          97.33839416503906,
          97.33345794677734,
          97.30813598632812,
          97.26769256591795,
          97.25592803955078,
          97.2500228881836,
          97.2458038330078,
          97.21639251708984,
          97.2012176513672,
          97.19845581054688,
          97.17332458496094,
          97.10291290283205,
          97.06703186035156,
          97.0586929321289,
          97.0489501953125,
          97.02205657958984,
          97.00376892089844,
          97.00202941894533,
          96.99890899658205,
          96.96337890625,
          96.94878387451172,
          96.93067169189452,
          96.86779022216795,
          96.80670928955078,
          96.79696655273438,
          96.77342987060548,
          96.76136779785156,
          96.74951171875,
          96.72381591796876,
          96.7027816772461,
          96.68460083007812,
          96.66754150390624,
          96.66441345214844,
          96.60385131835938,
          96.59369659423828,
          96.56224060058594,
          96.5583953857422,
          96.52906036376952,
          96.5070571899414,
          96.46463775634766,
          96.44806671142578,
          96.44161987304688,
          96.41283416748048,
          96.41224670410156,
          96.3250961303711,
          96.30540466308594,
          96.28184509277344,
          96.26058959960938,
          96.22171020507812,
          96.19200134277344,
          96.14441680908205,
          96.12242889404295,
          96.12115478515624,
          96.1142349243164,
          96.11097717285156,
          96.08953857421876,
          96.05409240722656,
          96.04197692871094,
          96.0395965576172,
          96.03711700439452,
          96.03013610839844,
          96.02516174316406,
          96.00379180908205,
          96.00231170654295,
          95.97941589355467,
          95.96144104003906,
          95.95955657958984,
          95.90046691894533,
          95.87214660644533,
          95.83998107910156,
          95.83782196044922,
          95.82217407226562,
          95.81404113769533,
          95.794677734375,
          95.79283905029295,
          95.74341583251952,
          95.74041748046876,
          95.67951202392578,
          95.67823791503906,
          95.6724853515625,
          95.66205596923828,
          95.58983612060548,
          95.52284240722656,
          95.48313903808594,
          95.47371673583984,
          95.4578628540039,
          95.38463592529295,
          95.35894775390624,
          95.32396697998048,
          95.2631378173828,
          95.19278717041016,
          95.13353729248048,
          95.10485076904295,
          95.04939270019533,
          94.94505310058594,
          94.92473602294922,
          94.88628387451172,
          94.826171875,
          94.80684661865234,
          94.79309844970705,
          94.71673583984376,
          94.66151428222656,
          94.64602661132812,
          94.5956573486328,
          94.571044921875,
          94.54354858398438,
          94.53494262695312,
          94.5332260131836,
          94.4521255493164,
          94.43880462646484,
          94.36531066894533,
          94.30842590332033,
          94.30818176269533,
          94.25230407714844,
          94.14578247070312,
          94.14337158203124,
          94.06350708007812,
          94.02220916748048,
          93.90574645996094,
          93.83489227294922,
          93.8100814819336,
          93.75218963623048,
          93.6327667236328,
          93.58039093017578,
          93.55696105957033,
          93.40180206298828,
          93.36802673339844,
          93.33170318603516,
          93.30973815917967,
          93.3071746826172,
          93.26336669921876,
          93.15957641601562,
          93.10594940185548,
          93.06950378417967,
          93.02685546875,
          93.00537109375,
          92.95830535888672,
          92.8463134765625,
          92.83831024169922,
          92.82573699951172,
          92.81810760498048,
          92.76483917236328,
          92.7301025390625,
          92.72718048095705,
          92.5580062866211,
          92.52721405029295,
          92.49607849121094,
          92.48625946044922,
          92.40475463867188,
          92.35808563232422,
          92.34676361083984,
          92.1929702758789,
          92.1386489868164,
          92.0679168701172,
          91.81803894042967,
          91.77867889404295,
          91.55833435058594,
          91.15612030029295,
          90.90785217285156,
          90.60907745361328,
          90.33795928955078,
          90.24122619628906,
          90.20700073242188,
          90.19969940185548,
          90.08551025390624,
          90.06961822509766,
          89.92375183105469,
          89.52302551269531,
          89.47547912597656,
          89.4087905883789,
          89.37981414794922,
          89.30560302734375,
          89.30057525634766,
          89.26510620117188,
          89.09001922607422,
          89.03380584716797,
          88.60636138916016,
          88.43577575683594,
          88.38751220703125,
          88.33271026611328,
          88.3292236328125,
          88.06825256347656,
          87.9871826171875,
          87.98604583740234,
          87.85369873046875,
          87.81255340576172,
          87.74431610107422,
          87.417724609375,
          87.23623657226562,
          86.41252899169922,
          86.24456787109375,
          86.23270416259766,
          86.15328216552734,
          85.98072052001953,
          85.96220397949219,
          85.88803100585938,
          85.83757019042969,
          84.37820434570312,
          76.86139678955078,
          0,
          0,
          0,
          0,
          0,
          0,
          0,
          0,
          0,
          0,
          0,
          0,
          0,
          0,
          0,
          0
         ],
         "y0": " ",
         "yaxis": "y"
        }
       ],
       "layout": {
        "boxmode": "group",
        "legend": {
         "tracegroupgap": 0
        },
        "margin": {
         "t": 60
        },
        "template": {
         "data": {
          "bar": [
           {
            "error_x": {
             "color": "#2a3f5f"
            },
            "error_y": {
             "color": "#2a3f5f"
            },
            "marker": {
             "line": {
              "color": "#E5ECF6",
              "width": 0.5
             },
             "pattern": {
              "fillmode": "overlay",
              "size": 10,
              "solidity": 0.2
             }
            },
            "type": "bar"
           }
          ],
          "barpolar": [
           {
            "marker": {
             "line": {
              "color": "#E5ECF6",
              "width": 0.5
             },
             "pattern": {
              "fillmode": "overlay",
              "size": 10,
              "solidity": 0.2
             }
            },
            "type": "barpolar"
           }
          ],
          "carpet": [
           {
            "aaxis": {
             "endlinecolor": "#2a3f5f",
             "gridcolor": "white",
             "linecolor": "white",
             "minorgridcolor": "white",
             "startlinecolor": "#2a3f5f"
            },
            "baxis": {
             "endlinecolor": "#2a3f5f",
             "gridcolor": "white",
             "linecolor": "white",
             "minorgridcolor": "white",
             "startlinecolor": "#2a3f5f"
            },
            "type": "carpet"
           }
          ],
          "choropleth": [
           {
            "colorbar": {
             "outlinewidth": 0,
             "ticks": ""
            },
            "type": "choropleth"
           }
          ],
          "contour": [
           {
            "colorbar": {
             "outlinewidth": 0,
             "ticks": ""
            },
            "colorscale": [
             [
              0,
              "#0d0887"
             ],
             [
              0.1111111111111111,
              "#46039f"
             ],
             [
              0.2222222222222222,
              "#7201a8"
             ],
             [
              0.3333333333333333,
              "#9c179e"
             ],
             [
              0.4444444444444444,
              "#bd3786"
             ],
             [
              0.5555555555555556,
              "#d8576b"
             ],
             [
              0.6666666666666666,
              "#ed7953"
             ],
             [
              0.7777777777777778,
              "#fb9f3a"
             ],
             [
              0.8888888888888888,
              "#fdca26"
             ],
             [
              1,
              "#f0f921"
             ]
            ],
            "type": "contour"
           }
          ],
          "contourcarpet": [
           {
            "colorbar": {
             "outlinewidth": 0,
             "ticks": ""
            },
            "type": "contourcarpet"
           }
          ],
          "heatmap": [
           {
            "colorbar": {
             "outlinewidth": 0,
             "ticks": ""
            },
            "colorscale": [
             [
              0,
              "#0d0887"
             ],
             [
              0.1111111111111111,
              "#46039f"
             ],
             [
              0.2222222222222222,
              "#7201a8"
             ],
             [
              0.3333333333333333,
              "#9c179e"
             ],
             [
              0.4444444444444444,
              "#bd3786"
             ],
             [
              0.5555555555555556,
              "#d8576b"
             ],
             [
              0.6666666666666666,
              "#ed7953"
             ],
             [
              0.7777777777777778,
              "#fb9f3a"
             ],
             [
              0.8888888888888888,
              "#fdca26"
             ],
             [
              1,
              "#f0f921"
             ]
            ],
            "type": "heatmap"
           }
          ],
          "heatmapgl": [
           {
            "colorbar": {
             "outlinewidth": 0,
             "ticks": ""
            },
            "colorscale": [
             [
              0,
              "#0d0887"
             ],
             [
              0.1111111111111111,
              "#46039f"
             ],
             [
              0.2222222222222222,
              "#7201a8"
             ],
             [
              0.3333333333333333,
              "#9c179e"
             ],
             [
              0.4444444444444444,
              "#bd3786"
             ],
             [
              0.5555555555555556,
              "#d8576b"
             ],
             [
              0.6666666666666666,
              "#ed7953"
             ],
             [
              0.7777777777777778,
              "#fb9f3a"
             ],
             [
              0.8888888888888888,
              "#fdca26"
             ],
             [
              1,
              "#f0f921"
             ]
            ],
            "type": "heatmapgl"
           }
          ],
          "histogram": [
           {
            "marker": {
             "pattern": {
              "fillmode": "overlay",
              "size": 10,
              "solidity": 0.2
             }
            },
            "type": "histogram"
           }
          ],
          "histogram2d": [
           {
            "colorbar": {
             "outlinewidth": 0,
             "ticks": ""
            },
            "colorscale": [
             [
              0,
              "#0d0887"
             ],
             [
              0.1111111111111111,
              "#46039f"
             ],
             [
              0.2222222222222222,
              "#7201a8"
             ],
             [
              0.3333333333333333,
              "#9c179e"
             ],
             [
              0.4444444444444444,
              "#bd3786"
             ],
             [
              0.5555555555555556,
              "#d8576b"
             ],
             [
              0.6666666666666666,
              "#ed7953"
             ],
             [
              0.7777777777777778,
              "#fb9f3a"
             ],
             [
              0.8888888888888888,
              "#fdca26"
             ],
             [
              1,
              "#f0f921"
             ]
            ],
            "type": "histogram2d"
           }
          ],
          "histogram2dcontour": [
           {
            "colorbar": {
             "outlinewidth": 0,
             "ticks": ""
            },
            "colorscale": [
             [
              0,
              "#0d0887"
             ],
             [
              0.1111111111111111,
              "#46039f"
             ],
             [
              0.2222222222222222,
              "#7201a8"
             ],
             [
              0.3333333333333333,
              "#9c179e"
             ],
             [
              0.4444444444444444,
              "#bd3786"
             ],
             [
              0.5555555555555556,
              "#d8576b"
             ],
             [
              0.6666666666666666,
              "#ed7953"
             ],
             [
              0.7777777777777778,
              "#fb9f3a"
             ],
             [
              0.8888888888888888,
              "#fdca26"
             ],
             [
              1,
              "#f0f921"
             ]
            ],
            "type": "histogram2dcontour"
           }
          ],
          "mesh3d": [
           {
            "colorbar": {
             "outlinewidth": 0,
             "ticks": ""
            },
            "type": "mesh3d"
           }
          ],
          "parcoords": [
           {
            "line": {
             "colorbar": {
              "outlinewidth": 0,
              "ticks": ""
             }
            },
            "type": "parcoords"
           }
          ],
          "pie": [
           {
            "automargin": true,
            "type": "pie"
           }
          ],
          "scatter": [
           {
            "marker": {
             "colorbar": {
              "outlinewidth": 0,
              "ticks": ""
             }
            },
            "type": "scatter"
           }
          ],
          "scatter3d": [
           {
            "line": {
             "colorbar": {
              "outlinewidth": 0,
              "ticks": ""
             }
            },
            "marker": {
             "colorbar": {
              "outlinewidth": 0,
              "ticks": ""
             }
            },
            "type": "scatter3d"
           }
          ],
          "scattercarpet": [
           {
            "marker": {
             "colorbar": {
              "outlinewidth": 0,
              "ticks": ""
             }
            },
            "type": "scattercarpet"
           }
          ],
          "scattergeo": [
           {
            "marker": {
             "colorbar": {
              "outlinewidth": 0,
              "ticks": ""
             }
            },
            "type": "scattergeo"
           }
          ],
          "scattergl": [
           {
            "marker": {
             "colorbar": {
              "outlinewidth": 0,
              "ticks": ""
             }
            },
            "type": "scattergl"
           }
          ],
          "scattermapbox": [
           {
            "marker": {
             "colorbar": {
              "outlinewidth": 0,
              "ticks": ""
             }
            },
            "type": "scattermapbox"
           }
          ],
          "scatterpolar": [
           {
            "marker": {
             "colorbar": {
              "outlinewidth": 0,
              "ticks": ""
             }
            },
            "type": "scatterpolar"
           }
          ],
          "scatterpolargl": [
           {
            "marker": {
             "colorbar": {
              "outlinewidth": 0,
              "ticks": ""
             }
            },
            "type": "scatterpolargl"
           }
          ],
          "scatterternary": [
           {
            "marker": {
             "colorbar": {
              "outlinewidth": 0,
              "ticks": ""
             }
            },
            "type": "scatterternary"
           }
          ],
          "surface": [
           {
            "colorbar": {
             "outlinewidth": 0,
             "ticks": ""
            },
            "colorscale": [
             [
              0,
              "#0d0887"
             ],
             [
              0.1111111111111111,
              "#46039f"
             ],
             [
              0.2222222222222222,
              "#7201a8"
             ],
             [
              0.3333333333333333,
              "#9c179e"
             ],
             [
              0.4444444444444444,
              "#bd3786"
             ],
             [
              0.5555555555555556,
              "#d8576b"
             ],
             [
              0.6666666666666666,
              "#ed7953"
             ],
             [
              0.7777777777777778,
              "#fb9f3a"
             ],
             [
              0.8888888888888888,
              "#fdca26"
             ],
             [
              1,
              "#f0f921"
             ]
            ],
            "type": "surface"
           }
          ],
          "table": [
           {
            "cells": {
             "fill": {
              "color": "#EBF0F8"
             },
             "line": {
              "color": "white"
             }
            },
            "header": {
             "fill": {
              "color": "#C8D4E3"
             },
             "line": {
              "color": "white"
             }
            },
            "type": "table"
           }
          ]
         },
         "layout": {
          "annotationdefaults": {
           "arrowcolor": "#2a3f5f",
           "arrowhead": 0,
           "arrowwidth": 1
          },
          "autotypenumbers": "strict",
          "coloraxis": {
           "colorbar": {
            "outlinewidth": 0,
            "ticks": ""
           }
          },
          "colorscale": {
           "diverging": [
            [
             0,
             "#8e0152"
            ],
            [
             0.1,
             "#c51b7d"
            ],
            [
             0.2,
             "#de77ae"
            ],
            [
             0.3,
             "#f1b6da"
            ],
            [
             0.4,
             "#fde0ef"
            ],
            [
             0.5,
             "#f7f7f7"
            ],
            [
             0.6,
             "#e6f5d0"
            ],
            [
             0.7,
             "#b8e186"
            ],
            [
             0.8,
             "#7fbc41"
            ],
            [
             0.9,
             "#4d9221"
            ],
            [
             1,
             "#276419"
            ]
           ],
           "sequential": [
            [
             0,
             "#0d0887"
            ],
            [
             0.1111111111111111,
             "#46039f"
            ],
            [
             0.2222222222222222,
             "#7201a8"
            ],
            [
             0.3333333333333333,
             "#9c179e"
            ],
            [
             0.4444444444444444,
             "#bd3786"
            ],
            [
             0.5555555555555556,
             "#d8576b"
            ],
            [
             0.6666666666666666,
             "#ed7953"
            ],
            [
             0.7777777777777778,
             "#fb9f3a"
            ],
            [
             0.8888888888888888,
             "#fdca26"
            ],
            [
             1,
             "#f0f921"
            ]
           ],
           "sequentialminus": [
            [
             0,
             "#0d0887"
            ],
            [
             0.1111111111111111,
             "#46039f"
            ],
            [
             0.2222222222222222,
             "#7201a8"
            ],
            [
             0.3333333333333333,
             "#9c179e"
            ],
            [
             0.4444444444444444,
             "#bd3786"
            ],
            [
             0.5555555555555556,
             "#d8576b"
            ],
            [
             0.6666666666666666,
             "#ed7953"
            ],
            [
             0.7777777777777778,
             "#fb9f3a"
            ],
            [
             0.8888888888888888,
             "#fdca26"
            ],
            [
             1,
             "#f0f921"
            ]
           ]
          },
          "colorway": [
           "#636efa",
           "#EF553B",
           "#00cc96",
           "#ab63fa",
           "#FFA15A",
           "#19d3f3",
           "#FF6692",
           "#B6E880",
           "#FF97FF",
           "#FECB52"
          ],
          "font": {
           "color": "#2a3f5f"
          },
          "geo": {
           "bgcolor": "white",
           "lakecolor": "white",
           "landcolor": "#E5ECF6",
           "showlakes": true,
           "showland": true,
           "subunitcolor": "white"
          },
          "hoverlabel": {
           "align": "left"
          },
          "hovermode": "closest",
          "mapbox": {
           "style": "light"
          },
          "paper_bgcolor": "white",
          "plot_bgcolor": "#E5ECF6",
          "polar": {
           "angularaxis": {
            "gridcolor": "white",
            "linecolor": "white",
            "ticks": ""
           },
           "bgcolor": "#E5ECF6",
           "radialaxis": {
            "gridcolor": "white",
            "linecolor": "white",
            "ticks": ""
           }
          },
          "scene": {
           "xaxis": {
            "backgroundcolor": "#E5ECF6",
            "gridcolor": "white",
            "gridwidth": 2,
            "linecolor": "white",
            "showbackground": true,
            "ticks": "",
            "zerolinecolor": "white"
           },
           "yaxis": {
            "backgroundcolor": "#E5ECF6",
            "gridcolor": "white",
            "gridwidth": 2,
            "linecolor": "white",
            "showbackground": true,
            "ticks": "",
            "zerolinecolor": "white"
           },
           "zaxis": {
            "backgroundcolor": "#E5ECF6",
            "gridcolor": "white",
            "gridwidth": 2,
            "linecolor": "white",
            "showbackground": true,
            "ticks": "",
            "zerolinecolor": "white"
           }
          },
          "shapedefaults": {
           "line": {
            "color": "#2a3f5f"
           }
          },
          "ternary": {
           "aaxis": {
            "gridcolor": "white",
            "linecolor": "white",
            "ticks": ""
           },
           "baxis": {
            "gridcolor": "white",
            "linecolor": "white",
            "ticks": ""
           },
           "bgcolor": "#E5ECF6",
           "caxis": {
            "gridcolor": "white",
            "linecolor": "white",
            "ticks": ""
           }
          },
          "title": {
           "x": 0.05
          },
          "xaxis": {
           "automargin": true,
           "gridcolor": "white",
           "linecolor": "white",
           "ticks": "",
           "title": {
            "standoff": 15
           },
           "zerolinecolor": "white",
           "zerolinewidth": 2
          },
          "yaxis": {
           "automargin": true,
           "gridcolor": "white",
           "linecolor": "white",
           "ticks": "",
           "title": {
            "standoff": 15
           },
           "zerolinecolor": "white",
           "zerolinewidth": 2
          }
         }
        },
        "xaxis": {
         "anchor": "y",
         "domain": [
          0,
          1
         ],
         "title": {
          "text": "seq_len"
         }
        },
        "yaxis": {
         "anchor": "x",
         "domain": [
          0,
          1
         ],
         "title": {
          "text": "FIT"
         }
        }
       }
      },
      "text/html": [
       "<div>                            <div id=\"2ee9b1b4-2edf-4e0b-9523-c9958e24bf1b\" class=\"plotly-graph-div\" style=\"height:525px; width:100%;\"></div>            <script type=\"text/javascript\">                require([\"plotly\"], function(Plotly) {                    window.PLOTLYENV=window.PLOTLYENV || {};                                    if (document.getElementById(\"2ee9b1b4-2edf-4e0b-9523-c9958e24bf1b\")) {                    Plotly.newPlot(                        \"2ee9b1b4-2edf-4e0b-9523-c9958e24bf1b\",                        [{\"alignmentgroup\":\"True\",\"customdata\":[[1800,15],[1800,15],[1800,15],[1800,15],[1800,15],[1800,15],[1800,15],[1800,15],[1800,15],[1800,15],[1800,15],[1800,15],[1800,15],[1800,15],[1800,15],[1800,15],[1800,15],[1800,15],[1800,15],[1800,15],[1800,15],[1800,15],[1800,15],[1800,15],[1800,15],[1800,15],[1800,15],[1800,15],[1800,15],[1800,15],[1800,15],[1800,15],[1800,15],[1800,15],[1800,15],[1800,15],[1800,15],[1800,15],[1800,15],[1800,15],[1800,15],[1800,15],[1800,15],[1800,15],[300,15],[1800,15],[1800,15],[1800,15],[1800,15],[1800,15],[300,15],[1800,15],[1800,15],[1800,15],[1800,15],[300,15],[1800,15],[1800,15],[1800,15],[1800,15],[1800,15],[300,15],[300,15],[300,15],[1800,15],[300,15],[1800,15],[300,15],[1800,15],[300,15],[300,15],[1800,15],[1800,15],[300,15],[1800,15],[1800,15],[1800,15],[1800,15],[1800,15],[300,15],[1800,15],[300,15],[1800,15],[300,15],[1800,15],[1800,15],[1800,15],[1800,15],[1800,15],[300,15],[1800,15],[1800,15],[300,15],[1800,15],[300,15],[300,15],[1800,15],[300,15],[1800,15],[1800,15],[300,15],[300,15],[300,15],[1800,15],[1800,15],[300,15],[1800,15],[1800,15],[300,15],[300,15],[1800,15],[300,15],[300,15],[1800,15],[1800,15],[1800,15],[300,15],[300,15],[1800,15],[300,15],[300,15],[1800,15],[300,15],[1800,15],[300,15],[1800,15],[1800,15],[1800,15],[300,15],[300,15],[1800,15],[300,15],[300,15],[1800,15],[1800,15],[1800,15],[1800,15],[1800,15],[1800,15],[1800,15],[1800,15],[1800,15],[300,15],[1800,15],[1800,15],[1800,15],[300,15],[300,15],[1800,15],[1800,15],[1800,15],[300,15],[300,15],[300,15],[1800,15],[1800,15],[1800,15],[300,15],[1800,15],[300,15],[300,15],[1800,15],[300,15],[300,15],[300,15],[300,15],[1800,15],[1800,15],[300,15],[300,15],[300,15],[1800,15],[1800,15],[1800,15],[300,15],[300,15],[1800,15],[300,15],[300,15],[1800,15],[1800,15],[300,15],[300,15],[300,15],[300,15],[300,15],[300,15],[300,15],[300,15],[300,15],[300,15],[300,15],[300,15],[300,15],[300,15],[300,15],[300,15],[300,15],[1800,15],[300,15],[300,15],[300,15],[300,15],[300,15],[300,15],[1800,15],[1800,15],[1800,15],[300,15],[300,15],[1800,15],[1800,15],[300,15],[300,15],[1800,15],[300,15],[1800,15],[300,15],[1800,15],[300,15],[300,15],[300,15],[300,15],[300,15],[300,15],[300,15],[300,15],[300,15],[300,15],[300,15],[300,15],[300,15],[300,15],[300,15],[300,15],[300,15],[300,15],[300,15],[300,15],[300,15],[1800,15],[300,15],[300,15],[300,15],[1800,15],[300,15],[300,15],[300,15],[1800,15],[300,15],[300,15],[300,15],[1800,15],[300,15],[300,15],[300,15],[300,15],[300,15],[300,15],[300,15],[300,15],[300,15],[300,15],[300,15],[300,15],[300,15],[300,15],[300,15],[300,15],[300,15],[300,15],[300,15],[1800,15],[300,15],[1800,15],[1800,15],[1800,15],[300,15],[1800,15],[300,15],[300,15],[300,15],[300,15],[300,15],[1800,15],[300,15],[1800,15],[300,15]],\"hovertemplate\":\"seq_len=%{x}<br>FIT=%{y}<br>max_time=%{customdata[0]}<br>est_hidden_size=%{customdata[1]}<extra></extra>\",\"legendgroup\":\"\",\"marker\":{\"color\":\"#636efa\"},\"name\":\"\",\"notched\":false,\"offsetgroup\":\"\",\"orientation\":\"v\",\"showlegend\":false,\"type\":\"box\",\"x\":[80,40,80,80,80,256,80,80,80,40,256,256,80,40,256,512,256,256,256,80,40,512,40,40,40,80,256,80,80,256,80,80,40,256,40,80,512,512,80,80,256,40,40,256,80,512,256,256,40,256,80,512,512,80,40,80,256,512,256,80,512,40,80,40,512,80,256,80,40,40,80,512,256,80,256,40,256,256,512,80,256,256,40,256,256,40,40,80,80,256,40,512,256,80,256,80,256,80,512,80,256,256,40,80,40,256,80,80,40,256,512,512,80,80,256,80,40,80,512,256,256,80,80,80,256,256,80,512,80,256,512,256,256,512,512,256,80,512,256,256,256,256,40,256,512,512,512,256,512,80,512,80,80,256,256,40,80,40,256,80,80,40,80,80,80,40,512,40,80,40,80,512,512,512,80,40,40,80,40,40,512,512,80,80,40,40,512,512,80,512,512,80,80,256,40,40,512,80,40,256,40,40,512,80,80,40,40,40,256,256,40,40,512,40,40,256,80,40,80,80,40,40,40,256,256,256,40,256,80,256,256,256,256,40,256,40,512,512,512,512,40,256,40,512,40,40,256,256,40,512,40,512,40,40,512,512,40,512,40,512,256,40,512,40,512,512,512,512,512,512,40,40,512,512,512,512,512,512,256,512,512,512,512,512,512,256,512,512],\"x0\":\" \",\"xaxis\":\"x\",\"y\":[98.58680725097656,98.54400634765624,98.53496551513672,98.4969482421875,98.4884262084961,98.4680633544922,98.46688079833984,98.46003723144533,98.45762634277344,98.44957733154295,98.44108581542967,98.39879608154295,98.39405059814452,98.38992309570312,98.38732147216795,98.34349060058594,98.34089660644533,98.3311004638672,98.32357788085938,98.30818939208984,98.2978057861328,98.2847137451172,98.2842254638672,98.2643814086914,98.26375579833984,98.26296997070312,98.24288177490234,98.23778533935548,98.2368392944336,98.22978973388672,98.22810363769533,98.223388671875,98.1858901977539,98.14122009277344,98.1392822265625,98.1307601928711,98.109130859375,98.09796905517578,98.089599609375,98.07433319091795,98.06573486328124,98.0548858642578,98.02249908447266,98.00109100341795,97.98046875,97.97256469726562,97.94593048095705,97.89498138427734,97.87517547607422,97.86749267578124,97.8382797241211,97.81996154785156,97.79443359375,97.79410552978516,97.76569366455078,97.7503433227539,97.7492904663086,97.7448959350586,97.62957763671876,97.60299682617188,97.6002426147461,97.56678771972656,97.55642700195312,97.51976776123048,97.50208282470705,97.50176239013672,97.49170684814452,97.48182678222656,97.4082260131836,97.38973236083984,97.3860321044922,97.37918853759766,97.35780334472656,97.33839416503906,97.33345794677734,97.30813598632812,97.26769256591795,97.25592803955078,97.2500228881836,97.2458038330078,97.21639251708984,97.2012176513672,97.19845581054688,97.17332458496094,97.10291290283205,97.06703186035156,97.0586929321289,97.0489501953125,97.02205657958984,97.00376892089844,97.00202941894533,96.99890899658205,96.96337890625,96.94878387451172,96.93067169189452,96.86779022216795,96.80670928955078,96.79696655273438,96.77342987060548,96.76136779785156,96.74951171875,96.72381591796876,96.7027816772461,96.68460083007812,96.66754150390624,96.66441345214844,96.60385131835938,96.59369659423828,96.56224060058594,96.5583953857422,96.52906036376952,96.5070571899414,96.46463775634766,96.44806671142578,96.44161987304688,96.41283416748048,96.41224670410156,96.3250961303711,96.30540466308594,96.28184509277344,96.26058959960938,96.22171020507812,96.19200134277344,96.14441680908205,96.12242889404295,96.12115478515624,96.1142349243164,96.11097717285156,96.08953857421876,96.05409240722656,96.04197692871094,96.0395965576172,96.03711700439452,96.03013610839844,96.02516174316406,96.00379180908205,96.00231170654295,95.97941589355467,95.96144104003906,95.95955657958984,95.90046691894533,95.87214660644533,95.83998107910156,95.83782196044922,95.82217407226562,95.81404113769533,95.794677734375,95.79283905029295,95.74341583251952,95.74041748046876,95.67951202392578,95.67823791503906,95.6724853515625,95.66205596923828,95.58983612060548,95.52284240722656,95.48313903808594,95.47371673583984,95.4578628540039,95.38463592529295,95.35894775390624,95.32396697998048,95.2631378173828,95.19278717041016,95.13353729248048,95.10485076904295,95.04939270019533,94.94505310058594,94.92473602294922,94.88628387451172,94.826171875,94.80684661865234,94.79309844970705,94.71673583984376,94.66151428222656,94.64602661132812,94.5956573486328,94.571044921875,94.54354858398438,94.53494262695312,94.5332260131836,94.4521255493164,94.43880462646484,94.36531066894533,94.30842590332033,94.30818176269533,94.25230407714844,94.14578247070312,94.14337158203124,94.06350708007812,94.02220916748048,93.90574645996094,93.83489227294922,93.8100814819336,93.75218963623048,93.6327667236328,93.58039093017578,93.55696105957033,93.40180206298828,93.36802673339844,93.33170318603516,93.30973815917967,93.3071746826172,93.26336669921876,93.15957641601562,93.10594940185548,93.06950378417967,93.02685546875,93.00537109375,92.95830535888672,92.8463134765625,92.83831024169922,92.82573699951172,92.81810760498048,92.76483917236328,92.7301025390625,92.72718048095705,92.5580062866211,92.52721405029295,92.49607849121094,92.48625946044922,92.40475463867188,92.35808563232422,92.34676361083984,92.1929702758789,92.1386489868164,92.0679168701172,91.81803894042967,91.77867889404295,91.55833435058594,91.15612030029295,90.90785217285156,90.60907745361328,90.33795928955078,90.24122619628906,90.20700073242188,90.19969940185548,90.08551025390624,90.06961822509766,89.92375183105469,89.52302551269531,89.47547912597656,89.4087905883789,89.37981414794922,89.30560302734375,89.30057525634766,89.26510620117188,89.09001922607422,89.03380584716797,88.60636138916016,88.43577575683594,88.38751220703125,88.33271026611328,88.3292236328125,88.06825256347656,87.9871826171875,87.98604583740234,87.85369873046875,87.81255340576172,87.74431610107422,87.417724609375,87.23623657226562,86.41252899169922,86.24456787109375,86.23270416259766,86.15328216552734,85.98072052001953,85.96220397949219,85.88803100585938,85.83757019042969,84.37820434570312,76.86139678955078,0.0,0.0,0.0,0.0,0.0,0.0,0.0,0.0,0.0,0.0,0.0,0.0,0.0,0.0,0.0,0.0],\"y0\":\" \",\"yaxis\":\"y\"}],                        {\"boxmode\":\"group\",\"legend\":{\"tracegroupgap\":0},\"margin\":{\"t\":60},\"template\":{\"data\":{\"bar\":[{\"error_x\":{\"color\":\"#2a3f5f\"},\"error_y\":{\"color\":\"#2a3f5f\"},\"marker\":{\"line\":{\"color\":\"#E5ECF6\",\"width\":0.5},\"pattern\":{\"fillmode\":\"overlay\",\"size\":10,\"solidity\":0.2}},\"type\":\"bar\"}],\"barpolar\":[{\"marker\":{\"line\":{\"color\":\"#E5ECF6\",\"width\":0.5},\"pattern\":{\"fillmode\":\"overlay\",\"size\":10,\"solidity\":0.2}},\"type\":\"barpolar\"}],\"carpet\":[{\"aaxis\":{\"endlinecolor\":\"#2a3f5f\",\"gridcolor\":\"white\",\"linecolor\":\"white\",\"minorgridcolor\":\"white\",\"startlinecolor\":\"#2a3f5f\"},\"baxis\":{\"endlinecolor\":\"#2a3f5f\",\"gridcolor\":\"white\",\"linecolor\":\"white\",\"minorgridcolor\":\"white\",\"startlinecolor\":\"#2a3f5f\"},\"type\":\"carpet\"}],\"choropleth\":[{\"colorbar\":{\"outlinewidth\":0,\"ticks\":\"\"},\"type\":\"choropleth\"}],\"contour\":[{\"colorbar\":{\"outlinewidth\":0,\"ticks\":\"\"},\"colorscale\":[[0.0,\"#0d0887\"],[0.1111111111111111,\"#46039f\"],[0.2222222222222222,\"#7201a8\"],[0.3333333333333333,\"#9c179e\"],[0.4444444444444444,\"#bd3786\"],[0.5555555555555556,\"#d8576b\"],[0.6666666666666666,\"#ed7953\"],[0.7777777777777778,\"#fb9f3a\"],[0.8888888888888888,\"#fdca26\"],[1.0,\"#f0f921\"]],\"type\":\"contour\"}],\"contourcarpet\":[{\"colorbar\":{\"outlinewidth\":0,\"ticks\":\"\"},\"type\":\"contourcarpet\"}],\"heatmap\":[{\"colorbar\":{\"outlinewidth\":0,\"ticks\":\"\"},\"colorscale\":[[0.0,\"#0d0887\"],[0.1111111111111111,\"#46039f\"],[0.2222222222222222,\"#7201a8\"],[0.3333333333333333,\"#9c179e\"],[0.4444444444444444,\"#bd3786\"],[0.5555555555555556,\"#d8576b\"],[0.6666666666666666,\"#ed7953\"],[0.7777777777777778,\"#fb9f3a\"],[0.8888888888888888,\"#fdca26\"],[1.0,\"#f0f921\"]],\"type\":\"heatmap\"}],\"heatmapgl\":[{\"colorbar\":{\"outlinewidth\":0,\"ticks\":\"\"},\"colorscale\":[[0.0,\"#0d0887\"],[0.1111111111111111,\"#46039f\"],[0.2222222222222222,\"#7201a8\"],[0.3333333333333333,\"#9c179e\"],[0.4444444444444444,\"#bd3786\"],[0.5555555555555556,\"#d8576b\"],[0.6666666666666666,\"#ed7953\"],[0.7777777777777778,\"#fb9f3a\"],[0.8888888888888888,\"#fdca26\"],[1.0,\"#f0f921\"]],\"type\":\"heatmapgl\"}],\"histogram\":[{\"marker\":{\"pattern\":{\"fillmode\":\"overlay\",\"size\":10,\"solidity\":0.2}},\"type\":\"histogram\"}],\"histogram2d\":[{\"colorbar\":{\"outlinewidth\":0,\"ticks\":\"\"},\"colorscale\":[[0.0,\"#0d0887\"],[0.1111111111111111,\"#46039f\"],[0.2222222222222222,\"#7201a8\"],[0.3333333333333333,\"#9c179e\"],[0.4444444444444444,\"#bd3786\"],[0.5555555555555556,\"#d8576b\"],[0.6666666666666666,\"#ed7953\"],[0.7777777777777778,\"#fb9f3a\"],[0.8888888888888888,\"#fdca26\"],[1.0,\"#f0f921\"]],\"type\":\"histogram2d\"}],\"histogram2dcontour\":[{\"colorbar\":{\"outlinewidth\":0,\"ticks\":\"\"},\"colorscale\":[[0.0,\"#0d0887\"],[0.1111111111111111,\"#46039f\"],[0.2222222222222222,\"#7201a8\"],[0.3333333333333333,\"#9c179e\"],[0.4444444444444444,\"#bd3786\"],[0.5555555555555556,\"#d8576b\"],[0.6666666666666666,\"#ed7953\"],[0.7777777777777778,\"#fb9f3a\"],[0.8888888888888888,\"#fdca26\"],[1.0,\"#f0f921\"]],\"type\":\"histogram2dcontour\"}],\"mesh3d\":[{\"colorbar\":{\"outlinewidth\":0,\"ticks\":\"\"},\"type\":\"mesh3d\"}],\"parcoords\":[{\"line\":{\"colorbar\":{\"outlinewidth\":0,\"ticks\":\"\"}},\"type\":\"parcoords\"}],\"pie\":[{\"automargin\":true,\"type\":\"pie\"}],\"scatter\":[{\"marker\":{\"colorbar\":{\"outlinewidth\":0,\"ticks\":\"\"}},\"type\":\"scatter\"}],\"scatter3d\":[{\"line\":{\"colorbar\":{\"outlinewidth\":0,\"ticks\":\"\"}},\"marker\":{\"colorbar\":{\"outlinewidth\":0,\"ticks\":\"\"}},\"type\":\"scatter3d\"}],\"scattercarpet\":[{\"marker\":{\"colorbar\":{\"outlinewidth\":0,\"ticks\":\"\"}},\"type\":\"scattercarpet\"}],\"scattergeo\":[{\"marker\":{\"colorbar\":{\"outlinewidth\":0,\"ticks\":\"\"}},\"type\":\"scattergeo\"}],\"scattergl\":[{\"marker\":{\"colorbar\":{\"outlinewidth\":0,\"ticks\":\"\"}},\"type\":\"scattergl\"}],\"scattermapbox\":[{\"marker\":{\"colorbar\":{\"outlinewidth\":0,\"ticks\":\"\"}},\"type\":\"scattermapbox\"}],\"scatterpolar\":[{\"marker\":{\"colorbar\":{\"outlinewidth\":0,\"ticks\":\"\"}},\"type\":\"scatterpolar\"}],\"scatterpolargl\":[{\"marker\":{\"colorbar\":{\"outlinewidth\":0,\"ticks\":\"\"}},\"type\":\"scatterpolargl\"}],\"scatterternary\":[{\"marker\":{\"colorbar\":{\"outlinewidth\":0,\"ticks\":\"\"}},\"type\":\"scatterternary\"}],\"surface\":[{\"colorbar\":{\"outlinewidth\":0,\"ticks\":\"\"},\"colorscale\":[[0.0,\"#0d0887\"],[0.1111111111111111,\"#46039f\"],[0.2222222222222222,\"#7201a8\"],[0.3333333333333333,\"#9c179e\"],[0.4444444444444444,\"#bd3786\"],[0.5555555555555556,\"#d8576b\"],[0.6666666666666666,\"#ed7953\"],[0.7777777777777778,\"#fb9f3a\"],[0.8888888888888888,\"#fdca26\"],[1.0,\"#f0f921\"]],\"type\":\"surface\"}],\"table\":[{\"cells\":{\"fill\":{\"color\":\"#EBF0F8\"},\"line\":{\"color\":\"white\"}},\"header\":{\"fill\":{\"color\":\"#C8D4E3\"},\"line\":{\"color\":\"white\"}},\"type\":\"table\"}]},\"layout\":{\"annotationdefaults\":{\"arrowcolor\":\"#2a3f5f\",\"arrowhead\":0,\"arrowwidth\":1},\"autotypenumbers\":\"strict\",\"coloraxis\":{\"colorbar\":{\"outlinewidth\":0,\"ticks\":\"\"}},\"colorscale\":{\"diverging\":[[0,\"#8e0152\"],[0.1,\"#c51b7d\"],[0.2,\"#de77ae\"],[0.3,\"#f1b6da\"],[0.4,\"#fde0ef\"],[0.5,\"#f7f7f7\"],[0.6,\"#e6f5d0\"],[0.7,\"#b8e186\"],[0.8,\"#7fbc41\"],[0.9,\"#4d9221\"],[1,\"#276419\"]],\"sequential\":[[0.0,\"#0d0887\"],[0.1111111111111111,\"#46039f\"],[0.2222222222222222,\"#7201a8\"],[0.3333333333333333,\"#9c179e\"],[0.4444444444444444,\"#bd3786\"],[0.5555555555555556,\"#d8576b\"],[0.6666666666666666,\"#ed7953\"],[0.7777777777777778,\"#fb9f3a\"],[0.8888888888888888,\"#fdca26\"],[1.0,\"#f0f921\"]],\"sequentialminus\":[[0.0,\"#0d0887\"],[0.1111111111111111,\"#46039f\"],[0.2222222222222222,\"#7201a8\"],[0.3333333333333333,\"#9c179e\"],[0.4444444444444444,\"#bd3786\"],[0.5555555555555556,\"#d8576b\"],[0.6666666666666666,\"#ed7953\"],[0.7777777777777778,\"#fb9f3a\"],[0.8888888888888888,\"#fdca26\"],[1.0,\"#f0f921\"]]},\"colorway\":[\"#636efa\",\"#EF553B\",\"#00cc96\",\"#ab63fa\",\"#FFA15A\",\"#19d3f3\",\"#FF6692\",\"#B6E880\",\"#FF97FF\",\"#FECB52\"],\"font\":{\"color\":\"#2a3f5f\"},\"geo\":{\"bgcolor\":\"white\",\"lakecolor\":\"white\",\"landcolor\":\"#E5ECF6\",\"showlakes\":true,\"showland\":true,\"subunitcolor\":\"white\"},\"hoverlabel\":{\"align\":\"left\"},\"hovermode\":\"closest\",\"mapbox\":{\"style\":\"light\"},\"paper_bgcolor\":\"white\",\"plot_bgcolor\":\"#E5ECF6\",\"polar\":{\"angularaxis\":{\"gridcolor\":\"white\",\"linecolor\":\"white\",\"ticks\":\"\"},\"bgcolor\":\"#E5ECF6\",\"radialaxis\":{\"gridcolor\":\"white\",\"linecolor\":\"white\",\"ticks\":\"\"}},\"scene\":{\"xaxis\":{\"backgroundcolor\":\"#E5ECF6\",\"gridcolor\":\"white\",\"gridwidth\":2,\"linecolor\":\"white\",\"showbackground\":true,\"ticks\":\"\",\"zerolinecolor\":\"white\"},\"yaxis\":{\"backgroundcolor\":\"#E5ECF6\",\"gridcolor\":\"white\",\"gridwidth\":2,\"linecolor\":\"white\",\"showbackground\":true,\"ticks\":\"\",\"zerolinecolor\":\"white\"},\"zaxis\":{\"backgroundcolor\":\"#E5ECF6\",\"gridcolor\":\"white\",\"gridwidth\":2,\"linecolor\":\"white\",\"showbackground\":true,\"ticks\":\"\",\"zerolinecolor\":\"white\"}},\"shapedefaults\":{\"line\":{\"color\":\"#2a3f5f\"}},\"ternary\":{\"aaxis\":{\"gridcolor\":\"white\",\"linecolor\":\"white\",\"ticks\":\"\"},\"baxis\":{\"gridcolor\":\"white\",\"linecolor\":\"white\",\"ticks\":\"\"},\"bgcolor\":\"#E5ECF6\",\"caxis\":{\"gridcolor\":\"white\",\"linecolor\":\"white\",\"ticks\":\"\"}},\"title\":{\"x\":0.05},\"xaxis\":{\"automargin\":true,\"gridcolor\":\"white\",\"linecolor\":\"white\",\"ticks\":\"\",\"title\":{\"standoff\":15},\"zerolinecolor\":\"white\",\"zerolinewidth\":2},\"yaxis\":{\"automargin\":true,\"gridcolor\":\"white\",\"linecolor\":\"white\",\"ticks\":\"\",\"title\":{\"standoff\":15},\"zerolinecolor\":\"white\",\"zerolinewidth\":2}}},\"xaxis\":{\"anchor\":\"y\",\"domain\":[0.0,1.0],\"title\":{\"text\":\"seq_len\"}},\"yaxis\":{\"anchor\":\"x\",\"domain\":[0.0,1.0],\"title\":{\"text\":\"FIT\"}}},                        {\"responsive\": true}                    ).then(function(){\n",
       "                            \n",
       "var gd = document.getElementById('2ee9b1b4-2edf-4e0b-9523-c9958e24bf1b');\n",
       "var x = new MutationObserver(function (mutations, observer) {{\n",
       "        var display = window.getComputedStyle(gd).display;\n",
       "        if (!display || display === 'none') {{\n",
       "            console.log([gd, 'removed!']);\n",
       "            Plotly.purge(gd);\n",
       "            observer.disconnect();\n",
       "        }}\n",
       "}});\n",
       "\n",
       "// Listen for the removal of the full notebook cells\n",
       "var notebookContainer = gd.closest('#notebook-container');\n",
       "if (notebookContainer) {{\n",
       "    x.observe(notebookContainer, {childList: true});\n",
       "}}\n",
       "\n",
       "// Listen for the clearing of the current output cell\n",
       "var outputEl = gd.closest('.output');\n",
       "if (outputEl) {{\n",
       "    x.observe(outputEl, {childList: true});\n",
       "}}\n",
       "\n",
       "                        })                };                });            </script>        </div>"
      ]
     },
     "metadata": {},
     "output_type": "display_data"
    },
    {
     "data": {
      "application/vnd.plotly.v1+json": {
       "config": {
        "plotlyServerURL": "https://plot.ly"
       },
       "data": [
        {
         "alignmentgroup": "True",
         "customdata": [
          [
           1800,
           15
          ],
          [
           1800,
           15
          ],
          [
           1800,
           15
          ],
          [
           1800,
           15
          ],
          [
           1800,
           15
          ],
          [
           1800,
           15
          ],
          [
           1800,
           15
          ],
          [
           1800,
           15
          ],
          [
           1800,
           15
          ],
          [
           1800,
           15
          ],
          [
           1800,
           15
          ],
          [
           1800,
           15
          ],
          [
           1800,
           15
          ],
          [
           1800,
           15
          ],
          [
           1800,
           15
          ],
          [
           1800,
           15
          ],
          [
           1800,
           15
          ],
          [
           1800,
           15
          ],
          [
           1800,
           15
          ],
          [
           1800,
           15
          ],
          [
           1800,
           15
          ],
          [
           1800,
           15
          ],
          [
           1800,
           15
          ],
          [
           1800,
           15
          ],
          [
           1800,
           15
          ],
          [
           1800,
           15
          ],
          [
           1800,
           15
          ],
          [
           1800,
           15
          ],
          [
           1800,
           15
          ],
          [
           1800,
           15
          ],
          [
           1800,
           15
          ],
          [
           1800,
           15
          ],
          [
           1800,
           15
          ],
          [
           1800,
           15
          ],
          [
           1800,
           15
          ],
          [
           1800,
           15
          ],
          [
           1800,
           15
          ],
          [
           1800,
           15
          ],
          [
           1800,
           15
          ],
          [
           1800,
           15
          ],
          [
           1800,
           15
          ],
          [
           1800,
           15
          ],
          [
           1800,
           15
          ],
          [
           1800,
           15
          ],
          [
           300,
           15
          ],
          [
           1800,
           15
          ],
          [
           1800,
           15
          ],
          [
           1800,
           15
          ],
          [
           1800,
           15
          ],
          [
           1800,
           15
          ],
          [
           300,
           15
          ],
          [
           1800,
           15
          ],
          [
           1800,
           15
          ],
          [
           1800,
           15
          ],
          [
           1800,
           15
          ],
          [
           300,
           15
          ],
          [
           1800,
           15
          ],
          [
           1800,
           15
          ],
          [
           1800,
           15
          ],
          [
           1800,
           15
          ],
          [
           1800,
           15
          ],
          [
           300,
           15
          ],
          [
           300,
           15
          ],
          [
           300,
           15
          ],
          [
           1800,
           15
          ],
          [
           300,
           15
          ],
          [
           1800,
           15
          ],
          [
           300,
           15
          ],
          [
           1800,
           15
          ],
          [
           300,
           15
          ],
          [
           300,
           15
          ],
          [
           1800,
           15
          ],
          [
           1800,
           15
          ],
          [
           300,
           15
          ],
          [
           1800,
           15
          ],
          [
           1800,
           15
          ],
          [
           1800,
           15
          ],
          [
           1800,
           15
          ],
          [
           1800,
           15
          ],
          [
           300,
           15
          ],
          [
           1800,
           15
          ],
          [
           300,
           15
          ],
          [
           1800,
           15
          ],
          [
           300,
           15
          ],
          [
           1800,
           15
          ],
          [
           1800,
           15
          ],
          [
           1800,
           15
          ],
          [
           1800,
           15
          ],
          [
           1800,
           15
          ],
          [
           300,
           15
          ],
          [
           1800,
           15
          ],
          [
           1800,
           15
          ],
          [
           300,
           15
          ],
          [
           1800,
           15
          ],
          [
           300,
           15
          ],
          [
           300,
           15
          ],
          [
           1800,
           15
          ],
          [
           300,
           15
          ],
          [
           1800,
           15
          ],
          [
           1800,
           15
          ],
          [
           300,
           15
          ],
          [
           300,
           15
          ],
          [
           300,
           15
          ],
          [
           1800,
           15
          ],
          [
           1800,
           15
          ],
          [
           300,
           15
          ],
          [
           1800,
           15
          ],
          [
           1800,
           15
          ],
          [
           300,
           15
          ],
          [
           300,
           15
          ],
          [
           1800,
           15
          ],
          [
           300,
           15
          ],
          [
           300,
           15
          ],
          [
           1800,
           15
          ],
          [
           1800,
           15
          ],
          [
           1800,
           15
          ],
          [
           300,
           15
          ],
          [
           300,
           15
          ],
          [
           1800,
           15
          ],
          [
           300,
           15
          ],
          [
           300,
           15
          ],
          [
           1800,
           15
          ],
          [
           300,
           15
          ],
          [
           1800,
           15
          ],
          [
           300,
           15
          ],
          [
           1800,
           15
          ],
          [
           1800,
           15
          ],
          [
           1800,
           15
          ],
          [
           300,
           15
          ],
          [
           300,
           15
          ],
          [
           1800,
           15
          ],
          [
           300,
           15
          ],
          [
           300,
           15
          ],
          [
           1800,
           15
          ],
          [
           1800,
           15
          ],
          [
           1800,
           15
          ],
          [
           1800,
           15
          ],
          [
           1800,
           15
          ],
          [
           1800,
           15
          ],
          [
           1800,
           15
          ],
          [
           1800,
           15
          ],
          [
           1800,
           15
          ],
          [
           300,
           15
          ],
          [
           1800,
           15
          ],
          [
           1800,
           15
          ],
          [
           1800,
           15
          ],
          [
           300,
           15
          ],
          [
           300,
           15
          ],
          [
           1800,
           15
          ],
          [
           1800,
           15
          ],
          [
           1800,
           15
          ],
          [
           300,
           15
          ],
          [
           300,
           15
          ],
          [
           300,
           15
          ],
          [
           1800,
           15
          ],
          [
           1800,
           15
          ],
          [
           1800,
           15
          ],
          [
           300,
           15
          ],
          [
           1800,
           15
          ],
          [
           300,
           15
          ],
          [
           300,
           15
          ],
          [
           1800,
           15
          ],
          [
           300,
           15
          ],
          [
           300,
           15
          ],
          [
           300,
           15
          ],
          [
           300,
           15
          ],
          [
           1800,
           15
          ],
          [
           1800,
           15
          ],
          [
           300,
           15
          ],
          [
           300,
           15
          ],
          [
           300,
           15
          ],
          [
           1800,
           15
          ],
          [
           1800,
           15
          ],
          [
           1800,
           15
          ],
          [
           300,
           15
          ],
          [
           300,
           15
          ],
          [
           1800,
           15
          ],
          [
           300,
           15
          ],
          [
           300,
           15
          ],
          [
           1800,
           15
          ],
          [
           1800,
           15
          ],
          [
           300,
           15
          ],
          [
           300,
           15
          ],
          [
           300,
           15
          ],
          [
           300,
           15
          ],
          [
           300,
           15
          ],
          [
           300,
           15
          ],
          [
           300,
           15
          ],
          [
           300,
           15
          ],
          [
           300,
           15
          ],
          [
           300,
           15
          ],
          [
           300,
           15
          ],
          [
           300,
           15
          ],
          [
           300,
           15
          ],
          [
           300,
           15
          ],
          [
           300,
           15
          ],
          [
           300,
           15
          ],
          [
           300,
           15
          ],
          [
           1800,
           15
          ],
          [
           300,
           15
          ],
          [
           300,
           15
          ],
          [
           300,
           15
          ],
          [
           300,
           15
          ],
          [
           300,
           15
          ],
          [
           300,
           15
          ],
          [
           1800,
           15
          ],
          [
           1800,
           15
          ],
          [
           1800,
           15
          ],
          [
           300,
           15
          ],
          [
           300,
           15
          ],
          [
           1800,
           15
          ],
          [
           1800,
           15
          ],
          [
           300,
           15
          ],
          [
           300,
           15
          ],
          [
           1800,
           15
          ],
          [
           300,
           15
          ],
          [
           1800,
           15
          ],
          [
           300,
           15
          ],
          [
           1800,
           15
          ],
          [
           300,
           15
          ],
          [
           300,
           15
          ],
          [
           300,
           15
          ],
          [
           300,
           15
          ],
          [
           300,
           15
          ],
          [
           300,
           15
          ],
          [
           300,
           15
          ],
          [
           300,
           15
          ],
          [
           300,
           15
          ],
          [
           300,
           15
          ],
          [
           300,
           15
          ],
          [
           300,
           15
          ],
          [
           300,
           15
          ],
          [
           300,
           15
          ],
          [
           300,
           15
          ],
          [
           300,
           15
          ],
          [
           300,
           15
          ],
          [
           300,
           15
          ],
          [
           300,
           15
          ],
          [
           300,
           15
          ],
          [
           300,
           15
          ],
          [
           1800,
           15
          ],
          [
           300,
           15
          ],
          [
           300,
           15
          ],
          [
           300,
           15
          ],
          [
           1800,
           15
          ],
          [
           300,
           15
          ],
          [
           300,
           15
          ],
          [
           300,
           15
          ],
          [
           1800,
           15
          ],
          [
           300,
           15
          ],
          [
           300,
           15
          ],
          [
           300,
           15
          ],
          [
           1800,
           15
          ],
          [
           300,
           15
          ],
          [
           300,
           15
          ],
          [
           300,
           15
          ],
          [
           300,
           15
          ],
          [
           300,
           15
          ],
          [
           300,
           15
          ],
          [
           300,
           15
          ],
          [
           300,
           15
          ],
          [
           300,
           15
          ],
          [
           300,
           15
          ],
          [
           300,
           15
          ],
          [
           300,
           15
          ],
          [
           300,
           15
          ],
          [
           300,
           15
          ],
          [
           300,
           15
          ],
          [
           300,
           15
          ],
          [
           300,
           15
          ],
          [
           300,
           15
          ],
          [
           300,
           15
          ],
          [
           1800,
           15
          ],
          [
           300,
           15
          ],
          [
           1800,
           15
          ],
          [
           1800,
           15
          ],
          [
           1800,
           15
          ],
          [
           300,
           15
          ],
          [
           1800,
           15
          ],
          [
           300,
           15
          ],
          [
           300,
           15
          ],
          [
           300,
           15
          ],
          [
           300,
           15
          ],
          [
           300,
           15
          ],
          [
           1800,
           15
          ],
          [
           300,
           15
          ],
          [
           1800,
           15
          ],
          [
           300,
           15
          ]
         ],
         "hovertemplate": "seq_est_len=%{x}<br>FIT=%{y}<br>max_time=%{customdata[0]}<br>est_hidden_size=%{customdata[1]}<extra></extra>",
         "legendgroup": "",
         "marker": {
          "color": "#636efa"
         },
         "name": "",
         "notched": false,
         "offsetgroup": "",
         "orientation": "v",
         "showlegend": false,
         "type": "box",
         "x": [
          100,
          10,
          50,
          10,
          10,
          50,
          10,
          10,
          100,
          50,
          10,
          100,
          100,
          100,
          100,
          100,
          50,
          10,
          10,
          100,
          10,
          50,
          50,
          100,
          100,
          50,
          100,
          10,
          50,
          100,
          100,
          50,
          50,
          100,
          10,
          100,
          10,
          50,
          50,
          10,
          100,
          10,
          50,
          10,
          100,
          10,
          50,
          50,
          100,
          10,
          50,
          100,
          100,
          100,
          100,
          50,
          10,
          10,
          50,
          100,
          100,
          100,
          100,
          100,
          100,
          100,
          10,
          100,
          100,
          10,
          50,
          100,
          10,
          10,
          50,
          10,
          50,
          50,
          10,
          10,
          50,
          50,
          10,
          50,
          10,
          50,
          100,
          10,
          50,
          10,
          50,
          100,
          10,
          50,
          10,
          50,
          100,
          50,
          50,
          50,
          50,
          100,
          50,
          100,
          100,
          100,
          10,
          50,
          100,
          10,
          50,
          10,
          10,
          50,
          10,
          50,
          10,
          10,
          100,
          50,
          50,
          100,
          10,
          10,
          100,
          10,
          100,
          100,
          100,
          10,
          100,
          10,
          100,
          10,
          50,
          100,
          10,
          10,
          100,
          100,
          10,
          100,
          50,
          50,
          50,
          50,
          50,
          100,
          50,
          10,
          10,
          50,
          10,
          100,
          50,
          50,
          100,
          100,
          100,
          10,
          50,
          100,
          100,
          100,
          100,
          10,
          10,
          10,
          100,
          50,
          50,
          100,
          10,
          10,
          10,
          100,
          100,
          10,
          100,
          100,
          100,
          100,
          50,
          100,
          10,
          50,
          100,
          100,
          100,
          100,
          50,
          10,
          50,
          50,
          50,
          10,
          100,
          50,
          50,
          10,
          50,
          100,
          50,
          50,
          100,
          50,
          50,
          10,
          100,
          10,
          10,
          10,
          10,
          10,
          50,
          100,
          50,
          50,
          10,
          10,
          100,
          50,
          10,
          50,
          10,
          10,
          100,
          50,
          10,
          10,
          50,
          100,
          100,
          100,
          100,
          10,
          50,
          100,
          50,
          50,
          10,
          50,
          10,
          50,
          10,
          50,
          50,
          100,
          50,
          10,
          100,
          50,
          100,
          50,
          10,
          100,
          50,
          10,
          100,
          10,
          10,
          10,
          100,
          50,
          50,
          10,
          100,
          100,
          10,
          100,
          10,
          10,
          10,
          10,
          50,
          50,
          10,
          50,
          50,
          100,
          50,
          10,
          50,
          10,
          50,
          50,
          50,
          10
         ],
         "x0": " ",
         "xaxis": "x",
         "y": [
          98.58680725097656,
          98.54400634765624,
          98.53496551513672,
          98.4969482421875,
          98.4884262084961,
          98.4680633544922,
          98.46688079833984,
          98.46003723144533,
          98.45762634277344,
          98.44957733154295,
          98.44108581542967,
          98.39879608154295,
          98.39405059814452,
          98.38992309570312,
          98.38732147216795,
          98.34349060058594,
          98.34089660644533,
          98.3311004638672,
          98.32357788085938,
          98.30818939208984,
          98.2978057861328,
          98.2847137451172,
          98.2842254638672,
          98.2643814086914,
          98.26375579833984,
          98.26296997070312,
          98.24288177490234,
          98.23778533935548,
          98.2368392944336,
          98.22978973388672,
          98.22810363769533,
          98.223388671875,
          98.1858901977539,
          98.14122009277344,
          98.1392822265625,
          98.1307601928711,
          98.109130859375,
          98.09796905517578,
          98.089599609375,
          98.07433319091795,
          98.06573486328124,
          98.0548858642578,
          98.02249908447266,
          98.00109100341795,
          97.98046875,
          97.97256469726562,
          97.94593048095705,
          97.89498138427734,
          97.87517547607422,
          97.86749267578124,
          97.8382797241211,
          97.81996154785156,
          97.79443359375,
          97.79410552978516,
          97.76569366455078,
          97.7503433227539,
          97.7492904663086,
          97.7448959350586,
          97.62957763671876,
          97.60299682617188,
          97.6002426147461,
          97.56678771972656,
          97.55642700195312,
          97.51976776123048,
          97.50208282470705,
          97.50176239013672,
          97.49170684814452,
          97.48182678222656,
          97.4082260131836,
          97.38973236083984,
          97.3860321044922,
          97.37918853759766,
          97.35780334472656,
          97.33839416503906,
          97.33345794677734,
          97.30813598632812,
          97.26769256591795,
          97.25592803955078,
          97.2500228881836,
          97.2458038330078,
          97.21639251708984,
          97.2012176513672,
          97.19845581054688,
          97.17332458496094,
          97.10291290283205,
          97.06703186035156,
          97.0586929321289,
          97.0489501953125,
          97.02205657958984,
          97.00376892089844,
          97.00202941894533,
          96.99890899658205,
          96.96337890625,
          96.94878387451172,
          96.93067169189452,
          96.86779022216795,
          96.80670928955078,
          96.79696655273438,
          96.77342987060548,
          96.76136779785156,
          96.74951171875,
          96.72381591796876,
          96.7027816772461,
          96.68460083007812,
          96.66754150390624,
          96.66441345214844,
          96.60385131835938,
          96.59369659423828,
          96.56224060058594,
          96.5583953857422,
          96.52906036376952,
          96.5070571899414,
          96.46463775634766,
          96.44806671142578,
          96.44161987304688,
          96.41283416748048,
          96.41224670410156,
          96.3250961303711,
          96.30540466308594,
          96.28184509277344,
          96.26058959960938,
          96.22171020507812,
          96.19200134277344,
          96.14441680908205,
          96.12242889404295,
          96.12115478515624,
          96.1142349243164,
          96.11097717285156,
          96.08953857421876,
          96.05409240722656,
          96.04197692871094,
          96.0395965576172,
          96.03711700439452,
          96.03013610839844,
          96.02516174316406,
          96.00379180908205,
          96.00231170654295,
          95.97941589355467,
          95.96144104003906,
          95.95955657958984,
          95.90046691894533,
          95.87214660644533,
          95.83998107910156,
          95.83782196044922,
          95.82217407226562,
          95.81404113769533,
          95.794677734375,
          95.79283905029295,
          95.74341583251952,
          95.74041748046876,
          95.67951202392578,
          95.67823791503906,
          95.6724853515625,
          95.66205596923828,
          95.58983612060548,
          95.52284240722656,
          95.48313903808594,
          95.47371673583984,
          95.4578628540039,
          95.38463592529295,
          95.35894775390624,
          95.32396697998048,
          95.2631378173828,
          95.19278717041016,
          95.13353729248048,
          95.10485076904295,
          95.04939270019533,
          94.94505310058594,
          94.92473602294922,
          94.88628387451172,
          94.826171875,
          94.80684661865234,
          94.79309844970705,
          94.71673583984376,
          94.66151428222656,
          94.64602661132812,
          94.5956573486328,
          94.571044921875,
          94.54354858398438,
          94.53494262695312,
          94.5332260131836,
          94.4521255493164,
          94.43880462646484,
          94.36531066894533,
          94.30842590332033,
          94.30818176269533,
          94.25230407714844,
          94.14578247070312,
          94.14337158203124,
          94.06350708007812,
          94.02220916748048,
          93.90574645996094,
          93.83489227294922,
          93.8100814819336,
          93.75218963623048,
          93.6327667236328,
          93.58039093017578,
          93.55696105957033,
          93.40180206298828,
          93.36802673339844,
          93.33170318603516,
          93.30973815917967,
          93.3071746826172,
          93.26336669921876,
          93.15957641601562,
          93.10594940185548,
          93.06950378417967,
          93.02685546875,
          93.00537109375,
          92.95830535888672,
          92.8463134765625,
          92.83831024169922,
          92.82573699951172,
          92.81810760498048,
          92.76483917236328,
          92.7301025390625,
          92.72718048095705,
          92.5580062866211,
          92.52721405029295,
          92.49607849121094,
          92.48625946044922,
          92.40475463867188,
          92.35808563232422,
          92.34676361083984,
          92.1929702758789,
          92.1386489868164,
          92.0679168701172,
          91.81803894042967,
          91.77867889404295,
          91.55833435058594,
          91.15612030029295,
          90.90785217285156,
          90.60907745361328,
          90.33795928955078,
          90.24122619628906,
          90.20700073242188,
          90.19969940185548,
          90.08551025390624,
          90.06961822509766,
          89.92375183105469,
          89.52302551269531,
          89.47547912597656,
          89.4087905883789,
          89.37981414794922,
          89.30560302734375,
          89.30057525634766,
          89.26510620117188,
          89.09001922607422,
          89.03380584716797,
          88.60636138916016,
          88.43577575683594,
          88.38751220703125,
          88.33271026611328,
          88.3292236328125,
          88.06825256347656,
          87.9871826171875,
          87.98604583740234,
          87.85369873046875,
          87.81255340576172,
          87.74431610107422,
          87.417724609375,
          87.23623657226562,
          86.41252899169922,
          86.24456787109375,
          86.23270416259766,
          86.15328216552734,
          85.98072052001953,
          85.96220397949219,
          85.88803100585938,
          85.83757019042969,
          84.37820434570312,
          76.86139678955078,
          0,
          0,
          0,
          0,
          0,
          0,
          0,
          0,
          0,
          0,
          0,
          0,
          0,
          0,
          0,
          0
         ],
         "y0": " ",
         "yaxis": "y"
        }
       ],
       "layout": {
        "boxmode": "group",
        "legend": {
         "tracegroupgap": 0
        },
        "margin": {
         "t": 60
        },
        "template": {
         "data": {
          "bar": [
           {
            "error_x": {
             "color": "#2a3f5f"
            },
            "error_y": {
             "color": "#2a3f5f"
            },
            "marker": {
             "line": {
              "color": "#E5ECF6",
              "width": 0.5
             },
             "pattern": {
              "fillmode": "overlay",
              "size": 10,
              "solidity": 0.2
             }
            },
            "type": "bar"
           }
          ],
          "barpolar": [
           {
            "marker": {
             "line": {
              "color": "#E5ECF6",
              "width": 0.5
             },
             "pattern": {
              "fillmode": "overlay",
              "size": 10,
              "solidity": 0.2
             }
            },
            "type": "barpolar"
           }
          ],
          "carpet": [
           {
            "aaxis": {
             "endlinecolor": "#2a3f5f",
             "gridcolor": "white",
             "linecolor": "white",
             "minorgridcolor": "white",
             "startlinecolor": "#2a3f5f"
            },
            "baxis": {
             "endlinecolor": "#2a3f5f",
             "gridcolor": "white",
             "linecolor": "white",
             "minorgridcolor": "white",
             "startlinecolor": "#2a3f5f"
            },
            "type": "carpet"
           }
          ],
          "choropleth": [
           {
            "colorbar": {
             "outlinewidth": 0,
             "ticks": ""
            },
            "type": "choropleth"
           }
          ],
          "contour": [
           {
            "colorbar": {
             "outlinewidth": 0,
             "ticks": ""
            },
            "colorscale": [
             [
              0,
              "#0d0887"
             ],
             [
              0.1111111111111111,
              "#46039f"
             ],
             [
              0.2222222222222222,
              "#7201a8"
             ],
             [
              0.3333333333333333,
              "#9c179e"
             ],
             [
              0.4444444444444444,
              "#bd3786"
             ],
             [
              0.5555555555555556,
              "#d8576b"
             ],
             [
              0.6666666666666666,
              "#ed7953"
             ],
             [
              0.7777777777777778,
              "#fb9f3a"
             ],
             [
              0.8888888888888888,
              "#fdca26"
             ],
             [
              1,
              "#f0f921"
             ]
            ],
            "type": "contour"
           }
          ],
          "contourcarpet": [
           {
            "colorbar": {
             "outlinewidth": 0,
             "ticks": ""
            },
            "type": "contourcarpet"
           }
          ],
          "heatmap": [
           {
            "colorbar": {
             "outlinewidth": 0,
             "ticks": ""
            },
            "colorscale": [
             [
              0,
              "#0d0887"
             ],
             [
              0.1111111111111111,
              "#46039f"
             ],
             [
              0.2222222222222222,
              "#7201a8"
             ],
             [
              0.3333333333333333,
              "#9c179e"
             ],
             [
              0.4444444444444444,
              "#bd3786"
             ],
             [
              0.5555555555555556,
              "#d8576b"
             ],
             [
              0.6666666666666666,
              "#ed7953"
             ],
             [
              0.7777777777777778,
              "#fb9f3a"
             ],
             [
              0.8888888888888888,
              "#fdca26"
             ],
             [
              1,
              "#f0f921"
             ]
            ],
            "type": "heatmap"
           }
          ],
          "heatmapgl": [
           {
            "colorbar": {
             "outlinewidth": 0,
             "ticks": ""
            },
            "colorscale": [
             [
              0,
              "#0d0887"
             ],
             [
              0.1111111111111111,
              "#46039f"
             ],
             [
              0.2222222222222222,
              "#7201a8"
             ],
             [
              0.3333333333333333,
              "#9c179e"
             ],
             [
              0.4444444444444444,
              "#bd3786"
             ],
             [
              0.5555555555555556,
              "#d8576b"
             ],
             [
              0.6666666666666666,
              "#ed7953"
             ],
             [
              0.7777777777777778,
              "#fb9f3a"
             ],
             [
              0.8888888888888888,
              "#fdca26"
             ],
             [
              1,
              "#f0f921"
             ]
            ],
            "type": "heatmapgl"
           }
          ],
          "histogram": [
           {
            "marker": {
             "pattern": {
              "fillmode": "overlay",
              "size": 10,
              "solidity": 0.2
             }
            },
            "type": "histogram"
           }
          ],
          "histogram2d": [
           {
            "colorbar": {
             "outlinewidth": 0,
             "ticks": ""
            },
            "colorscale": [
             [
              0,
              "#0d0887"
             ],
             [
              0.1111111111111111,
              "#46039f"
             ],
             [
              0.2222222222222222,
              "#7201a8"
             ],
             [
              0.3333333333333333,
              "#9c179e"
             ],
             [
              0.4444444444444444,
              "#bd3786"
             ],
             [
              0.5555555555555556,
              "#d8576b"
             ],
             [
              0.6666666666666666,
              "#ed7953"
             ],
             [
              0.7777777777777778,
              "#fb9f3a"
             ],
             [
              0.8888888888888888,
              "#fdca26"
             ],
             [
              1,
              "#f0f921"
             ]
            ],
            "type": "histogram2d"
           }
          ],
          "histogram2dcontour": [
           {
            "colorbar": {
             "outlinewidth": 0,
             "ticks": ""
            },
            "colorscale": [
             [
              0,
              "#0d0887"
             ],
             [
              0.1111111111111111,
              "#46039f"
             ],
             [
              0.2222222222222222,
              "#7201a8"
             ],
             [
              0.3333333333333333,
              "#9c179e"
             ],
             [
              0.4444444444444444,
              "#bd3786"
             ],
             [
              0.5555555555555556,
              "#d8576b"
             ],
             [
              0.6666666666666666,
              "#ed7953"
             ],
             [
              0.7777777777777778,
              "#fb9f3a"
             ],
             [
              0.8888888888888888,
              "#fdca26"
             ],
             [
              1,
              "#f0f921"
             ]
            ],
            "type": "histogram2dcontour"
           }
          ],
          "mesh3d": [
           {
            "colorbar": {
             "outlinewidth": 0,
             "ticks": ""
            },
            "type": "mesh3d"
           }
          ],
          "parcoords": [
           {
            "line": {
             "colorbar": {
              "outlinewidth": 0,
              "ticks": ""
             }
            },
            "type": "parcoords"
           }
          ],
          "pie": [
           {
            "automargin": true,
            "type": "pie"
           }
          ],
          "scatter": [
           {
            "marker": {
             "colorbar": {
              "outlinewidth": 0,
              "ticks": ""
             }
            },
            "type": "scatter"
           }
          ],
          "scatter3d": [
           {
            "line": {
             "colorbar": {
              "outlinewidth": 0,
              "ticks": ""
             }
            },
            "marker": {
             "colorbar": {
              "outlinewidth": 0,
              "ticks": ""
             }
            },
            "type": "scatter3d"
           }
          ],
          "scattercarpet": [
           {
            "marker": {
             "colorbar": {
              "outlinewidth": 0,
              "ticks": ""
             }
            },
            "type": "scattercarpet"
           }
          ],
          "scattergeo": [
           {
            "marker": {
             "colorbar": {
              "outlinewidth": 0,
              "ticks": ""
             }
            },
            "type": "scattergeo"
           }
          ],
          "scattergl": [
           {
            "marker": {
             "colorbar": {
              "outlinewidth": 0,
              "ticks": ""
             }
            },
            "type": "scattergl"
           }
          ],
          "scattermapbox": [
           {
            "marker": {
             "colorbar": {
              "outlinewidth": 0,
              "ticks": ""
             }
            },
            "type": "scattermapbox"
           }
          ],
          "scatterpolar": [
           {
            "marker": {
             "colorbar": {
              "outlinewidth": 0,
              "ticks": ""
             }
            },
            "type": "scatterpolar"
           }
          ],
          "scatterpolargl": [
           {
            "marker": {
             "colorbar": {
              "outlinewidth": 0,
              "ticks": ""
             }
            },
            "type": "scatterpolargl"
           }
          ],
          "scatterternary": [
           {
            "marker": {
             "colorbar": {
              "outlinewidth": 0,
              "ticks": ""
             }
            },
            "type": "scatterternary"
           }
          ],
          "surface": [
           {
            "colorbar": {
             "outlinewidth": 0,
             "ticks": ""
            },
            "colorscale": [
             [
              0,
              "#0d0887"
             ],
             [
              0.1111111111111111,
              "#46039f"
             ],
             [
              0.2222222222222222,
              "#7201a8"
             ],
             [
              0.3333333333333333,
              "#9c179e"
             ],
             [
              0.4444444444444444,
              "#bd3786"
             ],
             [
              0.5555555555555556,
              "#d8576b"
             ],
             [
              0.6666666666666666,
              "#ed7953"
             ],
             [
              0.7777777777777778,
              "#fb9f3a"
             ],
             [
              0.8888888888888888,
              "#fdca26"
             ],
             [
              1,
              "#f0f921"
             ]
            ],
            "type": "surface"
           }
          ],
          "table": [
           {
            "cells": {
             "fill": {
              "color": "#EBF0F8"
             },
             "line": {
              "color": "white"
             }
            },
            "header": {
             "fill": {
              "color": "#C8D4E3"
             },
             "line": {
              "color": "white"
             }
            },
            "type": "table"
           }
          ]
         },
         "layout": {
          "annotationdefaults": {
           "arrowcolor": "#2a3f5f",
           "arrowhead": 0,
           "arrowwidth": 1
          },
          "autotypenumbers": "strict",
          "coloraxis": {
           "colorbar": {
            "outlinewidth": 0,
            "ticks": ""
           }
          },
          "colorscale": {
           "diverging": [
            [
             0,
             "#8e0152"
            ],
            [
             0.1,
             "#c51b7d"
            ],
            [
             0.2,
             "#de77ae"
            ],
            [
             0.3,
             "#f1b6da"
            ],
            [
             0.4,
             "#fde0ef"
            ],
            [
             0.5,
             "#f7f7f7"
            ],
            [
             0.6,
             "#e6f5d0"
            ],
            [
             0.7,
             "#b8e186"
            ],
            [
             0.8,
             "#7fbc41"
            ],
            [
             0.9,
             "#4d9221"
            ],
            [
             1,
             "#276419"
            ]
           ],
           "sequential": [
            [
             0,
             "#0d0887"
            ],
            [
             0.1111111111111111,
             "#46039f"
            ],
            [
             0.2222222222222222,
             "#7201a8"
            ],
            [
             0.3333333333333333,
             "#9c179e"
            ],
            [
             0.4444444444444444,
             "#bd3786"
            ],
            [
             0.5555555555555556,
             "#d8576b"
            ],
            [
             0.6666666666666666,
             "#ed7953"
            ],
            [
             0.7777777777777778,
             "#fb9f3a"
            ],
            [
             0.8888888888888888,
             "#fdca26"
            ],
            [
             1,
             "#f0f921"
            ]
           ],
           "sequentialminus": [
            [
             0,
             "#0d0887"
            ],
            [
             0.1111111111111111,
             "#46039f"
            ],
            [
             0.2222222222222222,
             "#7201a8"
            ],
            [
             0.3333333333333333,
             "#9c179e"
            ],
            [
             0.4444444444444444,
             "#bd3786"
            ],
            [
             0.5555555555555556,
             "#d8576b"
            ],
            [
             0.6666666666666666,
             "#ed7953"
            ],
            [
             0.7777777777777778,
             "#fb9f3a"
            ],
            [
             0.8888888888888888,
             "#fdca26"
            ],
            [
             1,
             "#f0f921"
            ]
           ]
          },
          "colorway": [
           "#636efa",
           "#EF553B",
           "#00cc96",
           "#ab63fa",
           "#FFA15A",
           "#19d3f3",
           "#FF6692",
           "#B6E880",
           "#FF97FF",
           "#FECB52"
          ],
          "font": {
           "color": "#2a3f5f"
          },
          "geo": {
           "bgcolor": "white",
           "lakecolor": "white",
           "landcolor": "#E5ECF6",
           "showlakes": true,
           "showland": true,
           "subunitcolor": "white"
          },
          "hoverlabel": {
           "align": "left"
          },
          "hovermode": "closest",
          "mapbox": {
           "style": "light"
          },
          "paper_bgcolor": "white",
          "plot_bgcolor": "#E5ECF6",
          "polar": {
           "angularaxis": {
            "gridcolor": "white",
            "linecolor": "white",
            "ticks": ""
           },
           "bgcolor": "#E5ECF6",
           "radialaxis": {
            "gridcolor": "white",
            "linecolor": "white",
            "ticks": ""
           }
          },
          "scene": {
           "xaxis": {
            "backgroundcolor": "#E5ECF6",
            "gridcolor": "white",
            "gridwidth": 2,
            "linecolor": "white",
            "showbackground": true,
            "ticks": "",
            "zerolinecolor": "white"
           },
           "yaxis": {
            "backgroundcolor": "#E5ECF6",
            "gridcolor": "white",
            "gridwidth": 2,
            "linecolor": "white",
            "showbackground": true,
            "ticks": "",
            "zerolinecolor": "white"
           },
           "zaxis": {
            "backgroundcolor": "#E5ECF6",
            "gridcolor": "white",
            "gridwidth": 2,
            "linecolor": "white",
            "showbackground": true,
            "ticks": "",
            "zerolinecolor": "white"
           }
          },
          "shapedefaults": {
           "line": {
            "color": "#2a3f5f"
           }
          },
          "ternary": {
           "aaxis": {
            "gridcolor": "white",
            "linecolor": "white",
            "ticks": ""
           },
           "baxis": {
            "gridcolor": "white",
            "linecolor": "white",
            "ticks": ""
           },
           "bgcolor": "#E5ECF6",
           "caxis": {
            "gridcolor": "white",
            "linecolor": "white",
            "ticks": ""
           }
          },
          "title": {
           "x": 0.05
          },
          "xaxis": {
           "automargin": true,
           "gridcolor": "white",
           "linecolor": "white",
           "ticks": "",
           "title": {
            "standoff": 15
           },
           "zerolinecolor": "white",
           "zerolinewidth": 2
          },
          "yaxis": {
           "automargin": true,
           "gridcolor": "white",
           "linecolor": "white",
           "ticks": "",
           "title": {
            "standoff": 15
           },
           "zerolinecolor": "white",
           "zerolinewidth": 2
          }
         }
        },
        "xaxis": {
         "anchor": "y",
         "domain": [
          0,
          1
         ],
         "title": {
          "text": "seq_est_len"
         }
        },
        "yaxis": {
         "anchor": "x",
         "domain": [
          0,
          1
         ],
         "title": {
          "text": "FIT"
         }
        }
       }
      },
      "text/html": [
       "<div>                            <div id=\"777d4728-3288-46b9-9286-7e53fc2c1c43\" class=\"plotly-graph-div\" style=\"height:525px; width:100%;\"></div>            <script type=\"text/javascript\">                require([\"plotly\"], function(Plotly) {                    window.PLOTLYENV=window.PLOTLYENV || {};                                    if (document.getElementById(\"777d4728-3288-46b9-9286-7e53fc2c1c43\")) {                    Plotly.newPlot(                        \"777d4728-3288-46b9-9286-7e53fc2c1c43\",                        [{\"alignmentgroup\":\"True\",\"customdata\":[[1800,15],[1800,15],[1800,15],[1800,15],[1800,15],[1800,15],[1800,15],[1800,15],[1800,15],[1800,15],[1800,15],[1800,15],[1800,15],[1800,15],[1800,15],[1800,15],[1800,15],[1800,15],[1800,15],[1800,15],[1800,15],[1800,15],[1800,15],[1800,15],[1800,15],[1800,15],[1800,15],[1800,15],[1800,15],[1800,15],[1800,15],[1800,15],[1800,15],[1800,15],[1800,15],[1800,15],[1800,15],[1800,15],[1800,15],[1800,15],[1800,15],[1800,15],[1800,15],[1800,15],[300,15],[1800,15],[1800,15],[1800,15],[1800,15],[1800,15],[300,15],[1800,15],[1800,15],[1800,15],[1800,15],[300,15],[1800,15],[1800,15],[1800,15],[1800,15],[1800,15],[300,15],[300,15],[300,15],[1800,15],[300,15],[1800,15],[300,15],[1800,15],[300,15],[300,15],[1800,15],[1800,15],[300,15],[1800,15],[1800,15],[1800,15],[1800,15],[1800,15],[300,15],[1800,15],[300,15],[1800,15],[300,15],[1800,15],[1800,15],[1800,15],[1800,15],[1800,15],[300,15],[1800,15],[1800,15],[300,15],[1800,15],[300,15],[300,15],[1800,15],[300,15],[1800,15],[1800,15],[300,15],[300,15],[300,15],[1800,15],[1800,15],[300,15],[1800,15],[1800,15],[300,15],[300,15],[1800,15],[300,15],[300,15],[1800,15],[1800,15],[1800,15],[300,15],[300,15],[1800,15],[300,15],[300,15],[1800,15],[300,15],[1800,15],[300,15],[1800,15],[1800,15],[1800,15],[300,15],[300,15],[1800,15],[300,15],[300,15],[1800,15],[1800,15],[1800,15],[1800,15],[1800,15],[1800,15],[1800,15],[1800,15],[1800,15],[300,15],[1800,15],[1800,15],[1800,15],[300,15],[300,15],[1800,15],[1800,15],[1800,15],[300,15],[300,15],[300,15],[1800,15],[1800,15],[1800,15],[300,15],[1800,15],[300,15],[300,15],[1800,15],[300,15],[300,15],[300,15],[300,15],[1800,15],[1800,15],[300,15],[300,15],[300,15],[1800,15],[1800,15],[1800,15],[300,15],[300,15],[1800,15],[300,15],[300,15],[1800,15],[1800,15],[300,15],[300,15],[300,15],[300,15],[300,15],[300,15],[300,15],[300,15],[300,15],[300,15],[300,15],[300,15],[300,15],[300,15],[300,15],[300,15],[300,15],[1800,15],[300,15],[300,15],[300,15],[300,15],[300,15],[300,15],[1800,15],[1800,15],[1800,15],[300,15],[300,15],[1800,15],[1800,15],[300,15],[300,15],[1800,15],[300,15],[1800,15],[300,15],[1800,15],[300,15],[300,15],[300,15],[300,15],[300,15],[300,15],[300,15],[300,15],[300,15],[300,15],[300,15],[300,15],[300,15],[300,15],[300,15],[300,15],[300,15],[300,15],[300,15],[300,15],[300,15],[1800,15],[300,15],[300,15],[300,15],[1800,15],[300,15],[300,15],[300,15],[1800,15],[300,15],[300,15],[300,15],[1800,15],[300,15],[300,15],[300,15],[300,15],[300,15],[300,15],[300,15],[300,15],[300,15],[300,15],[300,15],[300,15],[300,15],[300,15],[300,15],[300,15],[300,15],[300,15],[300,15],[1800,15],[300,15],[1800,15],[1800,15],[1800,15],[300,15],[1800,15],[300,15],[300,15],[300,15],[300,15],[300,15],[1800,15],[300,15],[1800,15],[300,15]],\"hovertemplate\":\"seq_est_len=%{x}<br>FIT=%{y}<br>max_time=%{customdata[0]}<br>est_hidden_size=%{customdata[1]}<extra></extra>\",\"legendgroup\":\"\",\"marker\":{\"color\":\"#636efa\"},\"name\":\"\",\"notched\":false,\"offsetgroup\":\"\",\"orientation\":\"v\",\"showlegend\":false,\"type\":\"box\",\"x\":[100,10,50,10,10,50,10,10,100,50,10,100,100,100,100,100,50,10,10,100,10,50,50,100,100,50,100,10,50,100,100,50,50,100,10,100,10,50,50,10,100,10,50,10,100,10,50,50,100,10,50,100,100,100,100,50,10,10,50,100,100,100,100,100,100,100,10,100,100,10,50,100,10,10,50,10,50,50,10,10,50,50,10,50,10,50,100,10,50,10,50,100,10,50,10,50,100,50,50,50,50,100,50,100,100,100,10,50,100,10,50,10,10,50,10,50,10,10,100,50,50,100,10,10,100,10,100,100,100,10,100,10,100,10,50,100,10,10,100,100,10,100,50,50,50,50,50,100,50,10,10,50,10,100,50,50,100,100,100,10,50,100,100,100,100,10,10,10,100,50,50,100,10,10,10,100,100,10,100,100,100,100,50,100,10,50,100,100,100,100,50,10,50,50,50,10,100,50,50,10,50,100,50,50,100,50,50,10,100,10,10,10,10,10,50,100,50,50,10,10,100,50,10,50,10,10,100,50,10,10,50,100,100,100,100,10,50,100,50,50,10,50,10,50,10,50,50,100,50,10,100,50,100,50,10,100,50,10,100,10,10,10,100,50,50,10,100,100,10,100,10,10,10,10,50,50,10,50,50,100,50,10,50,10,50,50,50,10],\"x0\":\" \",\"xaxis\":\"x\",\"y\":[98.58680725097656,98.54400634765624,98.53496551513672,98.4969482421875,98.4884262084961,98.4680633544922,98.46688079833984,98.46003723144533,98.45762634277344,98.44957733154295,98.44108581542967,98.39879608154295,98.39405059814452,98.38992309570312,98.38732147216795,98.34349060058594,98.34089660644533,98.3311004638672,98.32357788085938,98.30818939208984,98.2978057861328,98.2847137451172,98.2842254638672,98.2643814086914,98.26375579833984,98.26296997070312,98.24288177490234,98.23778533935548,98.2368392944336,98.22978973388672,98.22810363769533,98.223388671875,98.1858901977539,98.14122009277344,98.1392822265625,98.1307601928711,98.109130859375,98.09796905517578,98.089599609375,98.07433319091795,98.06573486328124,98.0548858642578,98.02249908447266,98.00109100341795,97.98046875,97.97256469726562,97.94593048095705,97.89498138427734,97.87517547607422,97.86749267578124,97.8382797241211,97.81996154785156,97.79443359375,97.79410552978516,97.76569366455078,97.7503433227539,97.7492904663086,97.7448959350586,97.62957763671876,97.60299682617188,97.6002426147461,97.56678771972656,97.55642700195312,97.51976776123048,97.50208282470705,97.50176239013672,97.49170684814452,97.48182678222656,97.4082260131836,97.38973236083984,97.3860321044922,97.37918853759766,97.35780334472656,97.33839416503906,97.33345794677734,97.30813598632812,97.26769256591795,97.25592803955078,97.2500228881836,97.2458038330078,97.21639251708984,97.2012176513672,97.19845581054688,97.17332458496094,97.10291290283205,97.06703186035156,97.0586929321289,97.0489501953125,97.02205657958984,97.00376892089844,97.00202941894533,96.99890899658205,96.96337890625,96.94878387451172,96.93067169189452,96.86779022216795,96.80670928955078,96.79696655273438,96.77342987060548,96.76136779785156,96.74951171875,96.72381591796876,96.7027816772461,96.68460083007812,96.66754150390624,96.66441345214844,96.60385131835938,96.59369659423828,96.56224060058594,96.5583953857422,96.52906036376952,96.5070571899414,96.46463775634766,96.44806671142578,96.44161987304688,96.41283416748048,96.41224670410156,96.3250961303711,96.30540466308594,96.28184509277344,96.26058959960938,96.22171020507812,96.19200134277344,96.14441680908205,96.12242889404295,96.12115478515624,96.1142349243164,96.11097717285156,96.08953857421876,96.05409240722656,96.04197692871094,96.0395965576172,96.03711700439452,96.03013610839844,96.02516174316406,96.00379180908205,96.00231170654295,95.97941589355467,95.96144104003906,95.95955657958984,95.90046691894533,95.87214660644533,95.83998107910156,95.83782196044922,95.82217407226562,95.81404113769533,95.794677734375,95.79283905029295,95.74341583251952,95.74041748046876,95.67951202392578,95.67823791503906,95.6724853515625,95.66205596923828,95.58983612060548,95.52284240722656,95.48313903808594,95.47371673583984,95.4578628540039,95.38463592529295,95.35894775390624,95.32396697998048,95.2631378173828,95.19278717041016,95.13353729248048,95.10485076904295,95.04939270019533,94.94505310058594,94.92473602294922,94.88628387451172,94.826171875,94.80684661865234,94.79309844970705,94.71673583984376,94.66151428222656,94.64602661132812,94.5956573486328,94.571044921875,94.54354858398438,94.53494262695312,94.5332260131836,94.4521255493164,94.43880462646484,94.36531066894533,94.30842590332033,94.30818176269533,94.25230407714844,94.14578247070312,94.14337158203124,94.06350708007812,94.02220916748048,93.90574645996094,93.83489227294922,93.8100814819336,93.75218963623048,93.6327667236328,93.58039093017578,93.55696105957033,93.40180206298828,93.36802673339844,93.33170318603516,93.30973815917967,93.3071746826172,93.26336669921876,93.15957641601562,93.10594940185548,93.06950378417967,93.02685546875,93.00537109375,92.95830535888672,92.8463134765625,92.83831024169922,92.82573699951172,92.81810760498048,92.76483917236328,92.7301025390625,92.72718048095705,92.5580062866211,92.52721405029295,92.49607849121094,92.48625946044922,92.40475463867188,92.35808563232422,92.34676361083984,92.1929702758789,92.1386489868164,92.0679168701172,91.81803894042967,91.77867889404295,91.55833435058594,91.15612030029295,90.90785217285156,90.60907745361328,90.33795928955078,90.24122619628906,90.20700073242188,90.19969940185548,90.08551025390624,90.06961822509766,89.92375183105469,89.52302551269531,89.47547912597656,89.4087905883789,89.37981414794922,89.30560302734375,89.30057525634766,89.26510620117188,89.09001922607422,89.03380584716797,88.60636138916016,88.43577575683594,88.38751220703125,88.33271026611328,88.3292236328125,88.06825256347656,87.9871826171875,87.98604583740234,87.85369873046875,87.81255340576172,87.74431610107422,87.417724609375,87.23623657226562,86.41252899169922,86.24456787109375,86.23270416259766,86.15328216552734,85.98072052001953,85.96220397949219,85.88803100585938,85.83757019042969,84.37820434570312,76.86139678955078,0.0,0.0,0.0,0.0,0.0,0.0,0.0,0.0,0.0,0.0,0.0,0.0,0.0,0.0,0.0,0.0],\"y0\":\" \",\"yaxis\":\"y\"}],                        {\"boxmode\":\"group\",\"legend\":{\"tracegroupgap\":0},\"margin\":{\"t\":60},\"template\":{\"data\":{\"bar\":[{\"error_x\":{\"color\":\"#2a3f5f\"},\"error_y\":{\"color\":\"#2a3f5f\"},\"marker\":{\"line\":{\"color\":\"#E5ECF6\",\"width\":0.5},\"pattern\":{\"fillmode\":\"overlay\",\"size\":10,\"solidity\":0.2}},\"type\":\"bar\"}],\"barpolar\":[{\"marker\":{\"line\":{\"color\":\"#E5ECF6\",\"width\":0.5},\"pattern\":{\"fillmode\":\"overlay\",\"size\":10,\"solidity\":0.2}},\"type\":\"barpolar\"}],\"carpet\":[{\"aaxis\":{\"endlinecolor\":\"#2a3f5f\",\"gridcolor\":\"white\",\"linecolor\":\"white\",\"minorgridcolor\":\"white\",\"startlinecolor\":\"#2a3f5f\"},\"baxis\":{\"endlinecolor\":\"#2a3f5f\",\"gridcolor\":\"white\",\"linecolor\":\"white\",\"minorgridcolor\":\"white\",\"startlinecolor\":\"#2a3f5f\"},\"type\":\"carpet\"}],\"choropleth\":[{\"colorbar\":{\"outlinewidth\":0,\"ticks\":\"\"},\"type\":\"choropleth\"}],\"contour\":[{\"colorbar\":{\"outlinewidth\":0,\"ticks\":\"\"},\"colorscale\":[[0.0,\"#0d0887\"],[0.1111111111111111,\"#46039f\"],[0.2222222222222222,\"#7201a8\"],[0.3333333333333333,\"#9c179e\"],[0.4444444444444444,\"#bd3786\"],[0.5555555555555556,\"#d8576b\"],[0.6666666666666666,\"#ed7953\"],[0.7777777777777778,\"#fb9f3a\"],[0.8888888888888888,\"#fdca26\"],[1.0,\"#f0f921\"]],\"type\":\"contour\"}],\"contourcarpet\":[{\"colorbar\":{\"outlinewidth\":0,\"ticks\":\"\"},\"type\":\"contourcarpet\"}],\"heatmap\":[{\"colorbar\":{\"outlinewidth\":0,\"ticks\":\"\"},\"colorscale\":[[0.0,\"#0d0887\"],[0.1111111111111111,\"#46039f\"],[0.2222222222222222,\"#7201a8\"],[0.3333333333333333,\"#9c179e\"],[0.4444444444444444,\"#bd3786\"],[0.5555555555555556,\"#d8576b\"],[0.6666666666666666,\"#ed7953\"],[0.7777777777777778,\"#fb9f3a\"],[0.8888888888888888,\"#fdca26\"],[1.0,\"#f0f921\"]],\"type\":\"heatmap\"}],\"heatmapgl\":[{\"colorbar\":{\"outlinewidth\":0,\"ticks\":\"\"},\"colorscale\":[[0.0,\"#0d0887\"],[0.1111111111111111,\"#46039f\"],[0.2222222222222222,\"#7201a8\"],[0.3333333333333333,\"#9c179e\"],[0.4444444444444444,\"#bd3786\"],[0.5555555555555556,\"#d8576b\"],[0.6666666666666666,\"#ed7953\"],[0.7777777777777778,\"#fb9f3a\"],[0.8888888888888888,\"#fdca26\"],[1.0,\"#f0f921\"]],\"type\":\"heatmapgl\"}],\"histogram\":[{\"marker\":{\"pattern\":{\"fillmode\":\"overlay\",\"size\":10,\"solidity\":0.2}},\"type\":\"histogram\"}],\"histogram2d\":[{\"colorbar\":{\"outlinewidth\":0,\"ticks\":\"\"},\"colorscale\":[[0.0,\"#0d0887\"],[0.1111111111111111,\"#46039f\"],[0.2222222222222222,\"#7201a8\"],[0.3333333333333333,\"#9c179e\"],[0.4444444444444444,\"#bd3786\"],[0.5555555555555556,\"#d8576b\"],[0.6666666666666666,\"#ed7953\"],[0.7777777777777778,\"#fb9f3a\"],[0.8888888888888888,\"#fdca26\"],[1.0,\"#f0f921\"]],\"type\":\"histogram2d\"}],\"histogram2dcontour\":[{\"colorbar\":{\"outlinewidth\":0,\"ticks\":\"\"},\"colorscale\":[[0.0,\"#0d0887\"],[0.1111111111111111,\"#46039f\"],[0.2222222222222222,\"#7201a8\"],[0.3333333333333333,\"#9c179e\"],[0.4444444444444444,\"#bd3786\"],[0.5555555555555556,\"#d8576b\"],[0.6666666666666666,\"#ed7953\"],[0.7777777777777778,\"#fb9f3a\"],[0.8888888888888888,\"#fdca26\"],[1.0,\"#f0f921\"]],\"type\":\"histogram2dcontour\"}],\"mesh3d\":[{\"colorbar\":{\"outlinewidth\":0,\"ticks\":\"\"},\"type\":\"mesh3d\"}],\"parcoords\":[{\"line\":{\"colorbar\":{\"outlinewidth\":0,\"ticks\":\"\"}},\"type\":\"parcoords\"}],\"pie\":[{\"automargin\":true,\"type\":\"pie\"}],\"scatter\":[{\"marker\":{\"colorbar\":{\"outlinewidth\":0,\"ticks\":\"\"}},\"type\":\"scatter\"}],\"scatter3d\":[{\"line\":{\"colorbar\":{\"outlinewidth\":0,\"ticks\":\"\"}},\"marker\":{\"colorbar\":{\"outlinewidth\":0,\"ticks\":\"\"}},\"type\":\"scatter3d\"}],\"scattercarpet\":[{\"marker\":{\"colorbar\":{\"outlinewidth\":0,\"ticks\":\"\"}},\"type\":\"scattercarpet\"}],\"scattergeo\":[{\"marker\":{\"colorbar\":{\"outlinewidth\":0,\"ticks\":\"\"}},\"type\":\"scattergeo\"}],\"scattergl\":[{\"marker\":{\"colorbar\":{\"outlinewidth\":0,\"ticks\":\"\"}},\"type\":\"scattergl\"}],\"scattermapbox\":[{\"marker\":{\"colorbar\":{\"outlinewidth\":0,\"ticks\":\"\"}},\"type\":\"scattermapbox\"}],\"scatterpolar\":[{\"marker\":{\"colorbar\":{\"outlinewidth\":0,\"ticks\":\"\"}},\"type\":\"scatterpolar\"}],\"scatterpolargl\":[{\"marker\":{\"colorbar\":{\"outlinewidth\":0,\"ticks\":\"\"}},\"type\":\"scatterpolargl\"}],\"scatterternary\":[{\"marker\":{\"colorbar\":{\"outlinewidth\":0,\"ticks\":\"\"}},\"type\":\"scatterternary\"}],\"surface\":[{\"colorbar\":{\"outlinewidth\":0,\"ticks\":\"\"},\"colorscale\":[[0.0,\"#0d0887\"],[0.1111111111111111,\"#46039f\"],[0.2222222222222222,\"#7201a8\"],[0.3333333333333333,\"#9c179e\"],[0.4444444444444444,\"#bd3786\"],[0.5555555555555556,\"#d8576b\"],[0.6666666666666666,\"#ed7953\"],[0.7777777777777778,\"#fb9f3a\"],[0.8888888888888888,\"#fdca26\"],[1.0,\"#f0f921\"]],\"type\":\"surface\"}],\"table\":[{\"cells\":{\"fill\":{\"color\":\"#EBF0F8\"},\"line\":{\"color\":\"white\"}},\"header\":{\"fill\":{\"color\":\"#C8D4E3\"},\"line\":{\"color\":\"white\"}},\"type\":\"table\"}]},\"layout\":{\"annotationdefaults\":{\"arrowcolor\":\"#2a3f5f\",\"arrowhead\":0,\"arrowwidth\":1},\"autotypenumbers\":\"strict\",\"coloraxis\":{\"colorbar\":{\"outlinewidth\":0,\"ticks\":\"\"}},\"colorscale\":{\"diverging\":[[0,\"#8e0152\"],[0.1,\"#c51b7d\"],[0.2,\"#de77ae\"],[0.3,\"#f1b6da\"],[0.4,\"#fde0ef\"],[0.5,\"#f7f7f7\"],[0.6,\"#e6f5d0\"],[0.7,\"#b8e186\"],[0.8,\"#7fbc41\"],[0.9,\"#4d9221\"],[1,\"#276419\"]],\"sequential\":[[0.0,\"#0d0887\"],[0.1111111111111111,\"#46039f\"],[0.2222222222222222,\"#7201a8\"],[0.3333333333333333,\"#9c179e\"],[0.4444444444444444,\"#bd3786\"],[0.5555555555555556,\"#d8576b\"],[0.6666666666666666,\"#ed7953\"],[0.7777777777777778,\"#fb9f3a\"],[0.8888888888888888,\"#fdca26\"],[1.0,\"#f0f921\"]],\"sequentialminus\":[[0.0,\"#0d0887\"],[0.1111111111111111,\"#46039f\"],[0.2222222222222222,\"#7201a8\"],[0.3333333333333333,\"#9c179e\"],[0.4444444444444444,\"#bd3786\"],[0.5555555555555556,\"#d8576b\"],[0.6666666666666666,\"#ed7953\"],[0.7777777777777778,\"#fb9f3a\"],[0.8888888888888888,\"#fdca26\"],[1.0,\"#f0f921\"]]},\"colorway\":[\"#636efa\",\"#EF553B\",\"#00cc96\",\"#ab63fa\",\"#FFA15A\",\"#19d3f3\",\"#FF6692\",\"#B6E880\",\"#FF97FF\",\"#FECB52\"],\"font\":{\"color\":\"#2a3f5f\"},\"geo\":{\"bgcolor\":\"white\",\"lakecolor\":\"white\",\"landcolor\":\"#E5ECF6\",\"showlakes\":true,\"showland\":true,\"subunitcolor\":\"white\"},\"hoverlabel\":{\"align\":\"left\"},\"hovermode\":\"closest\",\"mapbox\":{\"style\":\"light\"},\"paper_bgcolor\":\"white\",\"plot_bgcolor\":\"#E5ECF6\",\"polar\":{\"angularaxis\":{\"gridcolor\":\"white\",\"linecolor\":\"white\",\"ticks\":\"\"},\"bgcolor\":\"#E5ECF6\",\"radialaxis\":{\"gridcolor\":\"white\",\"linecolor\":\"white\",\"ticks\":\"\"}},\"scene\":{\"xaxis\":{\"backgroundcolor\":\"#E5ECF6\",\"gridcolor\":\"white\",\"gridwidth\":2,\"linecolor\":\"white\",\"showbackground\":true,\"ticks\":\"\",\"zerolinecolor\":\"white\"},\"yaxis\":{\"backgroundcolor\":\"#E5ECF6\",\"gridcolor\":\"white\",\"gridwidth\":2,\"linecolor\":\"white\",\"showbackground\":true,\"ticks\":\"\",\"zerolinecolor\":\"white\"},\"zaxis\":{\"backgroundcolor\":\"#E5ECF6\",\"gridcolor\":\"white\",\"gridwidth\":2,\"linecolor\":\"white\",\"showbackground\":true,\"ticks\":\"\",\"zerolinecolor\":\"white\"}},\"shapedefaults\":{\"line\":{\"color\":\"#2a3f5f\"}},\"ternary\":{\"aaxis\":{\"gridcolor\":\"white\",\"linecolor\":\"white\",\"ticks\":\"\"},\"baxis\":{\"gridcolor\":\"white\",\"linecolor\":\"white\",\"ticks\":\"\"},\"bgcolor\":\"#E5ECF6\",\"caxis\":{\"gridcolor\":\"white\",\"linecolor\":\"white\",\"ticks\":\"\"}},\"title\":{\"x\":0.05},\"xaxis\":{\"automargin\":true,\"gridcolor\":\"white\",\"linecolor\":\"white\",\"ticks\":\"\",\"title\":{\"standoff\":15},\"zerolinecolor\":\"white\",\"zerolinewidth\":2},\"yaxis\":{\"automargin\":true,\"gridcolor\":\"white\",\"linecolor\":\"white\",\"ticks\":\"\",\"title\":{\"standoff\":15},\"zerolinecolor\":\"white\",\"zerolinewidth\":2}}},\"xaxis\":{\"anchor\":\"y\",\"domain\":[0.0,1.0],\"title\":{\"text\":\"seq_est_len\"}},\"yaxis\":{\"anchor\":\"x\",\"domain\":[0.0,1.0],\"title\":{\"text\":\"FIT\"}}},                        {\"responsive\": true}                    ).then(function(){\n",
       "                            \n",
       "var gd = document.getElementById('777d4728-3288-46b9-9286-7e53fc2c1c43');\n",
       "var x = new MutationObserver(function (mutations, observer) {{\n",
       "        var display = window.getComputedStyle(gd).display;\n",
       "        if (!display || display === 'none') {{\n",
       "            console.log([gd, 'removed!']);\n",
       "            Plotly.purge(gd);\n",
       "            observer.disconnect();\n",
       "        }}\n",
       "}});\n",
       "\n",
       "// Listen for the removal of the full notebook cells\n",
       "var notebookContainer = gd.closest('#notebook-container');\n",
       "if (notebookContainer) {{\n",
       "    x.observe(notebookContainer, {childList: true});\n",
       "}}\n",
       "\n",
       "// Listen for the clearing of the current output cell\n",
       "var outputEl = gd.closest('.output');\n",
       "if (outputEl) {{\n",
       "    x.observe(outputEl, {childList: true});\n",
       "}}\n",
       "\n",
       "                        })                };                });            </script>        </div>"
      ]
     },
     "metadata": {},
     "output_type": "display_data"
    },
    {
     "data": {
      "application/vnd.plotly.v1+json": {
       "config": {
        "plotlyServerURL": "https://plot.ly"
       },
       "data": [
        {
         "alignmentgroup": "True",
         "customdata": [
          [
           1800,
           15
          ],
          [
           1800,
           15
          ],
          [
           1800,
           15
          ],
          [
           1800,
           15
          ],
          [
           1800,
           15
          ],
          [
           1800,
           15
          ],
          [
           1800,
           15
          ],
          [
           1800,
           15
          ],
          [
           1800,
           15
          ],
          [
           1800,
           15
          ],
          [
           1800,
           15
          ],
          [
           1800,
           15
          ],
          [
           1800,
           15
          ],
          [
           1800,
           15
          ],
          [
           1800,
           15
          ],
          [
           1800,
           15
          ],
          [
           1800,
           15
          ],
          [
           1800,
           15
          ],
          [
           1800,
           15
          ],
          [
           1800,
           15
          ],
          [
           1800,
           15
          ],
          [
           1800,
           15
          ],
          [
           1800,
           15
          ],
          [
           1800,
           15
          ],
          [
           1800,
           15
          ],
          [
           1800,
           15
          ],
          [
           1800,
           15
          ],
          [
           1800,
           15
          ],
          [
           1800,
           15
          ],
          [
           1800,
           15
          ],
          [
           1800,
           15
          ],
          [
           1800,
           15
          ],
          [
           1800,
           15
          ],
          [
           1800,
           15
          ],
          [
           1800,
           15
          ],
          [
           1800,
           15
          ],
          [
           1800,
           15
          ],
          [
           1800,
           15
          ],
          [
           1800,
           15
          ],
          [
           1800,
           15
          ],
          [
           1800,
           15
          ],
          [
           1800,
           15
          ],
          [
           1800,
           15
          ],
          [
           1800,
           15
          ],
          [
           300,
           15
          ],
          [
           1800,
           15
          ],
          [
           1800,
           15
          ],
          [
           1800,
           15
          ],
          [
           1800,
           15
          ],
          [
           1800,
           15
          ],
          [
           300,
           15
          ],
          [
           1800,
           15
          ],
          [
           1800,
           15
          ],
          [
           1800,
           15
          ],
          [
           1800,
           15
          ],
          [
           300,
           15
          ],
          [
           1800,
           15
          ],
          [
           1800,
           15
          ],
          [
           1800,
           15
          ],
          [
           1800,
           15
          ],
          [
           1800,
           15
          ],
          [
           300,
           15
          ],
          [
           300,
           15
          ],
          [
           300,
           15
          ],
          [
           1800,
           15
          ],
          [
           300,
           15
          ],
          [
           1800,
           15
          ],
          [
           300,
           15
          ],
          [
           1800,
           15
          ],
          [
           300,
           15
          ],
          [
           300,
           15
          ],
          [
           1800,
           15
          ],
          [
           1800,
           15
          ],
          [
           300,
           15
          ],
          [
           1800,
           15
          ],
          [
           1800,
           15
          ],
          [
           1800,
           15
          ],
          [
           1800,
           15
          ],
          [
           1800,
           15
          ],
          [
           300,
           15
          ],
          [
           1800,
           15
          ],
          [
           300,
           15
          ],
          [
           1800,
           15
          ],
          [
           300,
           15
          ],
          [
           1800,
           15
          ],
          [
           1800,
           15
          ],
          [
           1800,
           15
          ],
          [
           1800,
           15
          ],
          [
           1800,
           15
          ],
          [
           300,
           15
          ],
          [
           1800,
           15
          ],
          [
           1800,
           15
          ],
          [
           300,
           15
          ],
          [
           1800,
           15
          ],
          [
           300,
           15
          ],
          [
           300,
           15
          ],
          [
           1800,
           15
          ],
          [
           300,
           15
          ],
          [
           1800,
           15
          ],
          [
           1800,
           15
          ],
          [
           300,
           15
          ],
          [
           300,
           15
          ],
          [
           300,
           15
          ],
          [
           1800,
           15
          ],
          [
           1800,
           15
          ],
          [
           300,
           15
          ],
          [
           1800,
           15
          ],
          [
           1800,
           15
          ],
          [
           300,
           15
          ],
          [
           300,
           15
          ],
          [
           1800,
           15
          ],
          [
           300,
           15
          ],
          [
           300,
           15
          ],
          [
           1800,
           15
          ],
          [
           1800,
           15
          ],
          [
           1800,
           15
          ],
          [
           300,
           15
          ],
          [
           300,
           15
          ],
          [
           1800,
           15
          ],
          [
           300,
           15
          ],
          [
           300,
           15
          ],
          [
           1800,
           15
          ],
          [
           300,
           15
          ],
          [
           1800,
           15
          ],
          [
           300,
           15
          ],
          [
           1800,
           15
          ],
          [
           1800,
           15
          ],
          [
           1800,
           15
          ],
          [
           300,
           15
          ],
          [
           300,
           15
          ],
          [
           1800,
           15
          ],
          [
           300,
           15
          ],
          [
           300,
           15
          ],
          [
           1800,
           15
          ],
          [
           1800,
           15
          ],
          [
           1800,
           15
          ],
          [
           1800,
           15
          ],
          [
           1800,
           15
          ],
          [
           1800,
           15
          ],
          [
           1800,
           15
          ],
          [
           1800,
           15
          ],
          [
           1800,
           15
          ],
          [
           300,
           15
          ],
          [
           1800,
           15
          ],
          [
           1800,
           15
          ],
          [
           1800,
           15
          ],
          [
           300,
           15
          ],
          [
           300,
           15
          ],
          [
           1800,
           15
          ],
          [
           1800,
           15
          ],
          [
           1800,
           15
          ],
          [
           300,
           15
          ],
          [
           300,
           15
          ],
          [
           300,
           15
          ],
          [
           1800,
           15
          ],
          [
           1800,
           15
          ],
          [
           1800,
           15
          ],
          [
           300,
           15
          ],
          [
           1800,
           15
          ],
          [
           300,
           15
          ],
          [
           300,
           15
          ],
          [
           1800,
           15
          ],
          [
           300,
           15
          ],
          [
           300,
           15
          ],
          [
           300,
           15
          ],
          [
           300,
           15
          ],
          [
           1800,
           15
          ],
          [
           1800,
           15
          ],
          [
           300,
           15
          ],
          [
           300,
           15
          ],
          [
           300,
           15
          ],
          [
           1800,
           15
          ],
          [
           1800,
           15
          ],
          [
           1800,
           15
          ],
          [
           300,
           15
          ],
          [
           300,
           15
          ],
          [
           1800,
           15
          ],
          [
           300,
           15
          ],
          [
           300,
           15
          ],
          [
           1800,
           15
          ],
          [
           1800,
           15
          ],
          [
           300,
           15
          ],
          [
           300,
           15
          ],
          [
           300,
           15
          ],
          [
           300,
           15
          ],
          [
           300,
           15
          ],
          [
           300,
           15
          ],
          [
           300,
           15
          ],
          [
           300,
           15
          ],
          [
           300,
           15
          ],
          [
           300,
           15
          ],
          [
           300,
           15
          ],
          [
           300,
           15
          ],
          [
           300,
           15
          ],
          [
           300,
           15
          ],
          [
           300,
           15
          ],
          [
           300,
           15
          ],
          [
           300,
           15
          ],
          [
           1800,
           15
          ],
          [
           300,
           15
          ],
          [
           300,
           15
          ],
          [
           300,
           15
          ],
          [
           300,
           15
          ],
          [
           300,
           15
          ],
          [
           300,
           15
          ],
          [
           1800,
           15
          ],
          [
           1800,
           15
          ],
          [
           1800,
           15
          ],
          [
           300,
           15
          ],
          [
           300,
           15
          ],
          [
           1800,
           15
          ],
          [
           1800,
           15
          ],
          [
           300,
           15
          ],
          [
           300,
           15
          ],
          [
           1800,
           15
          ],
          [
           300,
           15
          ],
          [
           1800,
           15
          ],
          [
           300,
           15
          ],
          [
           1800,
           15
          ],
          [
           300,
           15
          ],
          [
           300,
           15
          ],
          [
           300,
           15
          ],
          [
           300,
           15
          ],
          [
           300,
           15
          ],
          [
           300,
           15
          ],
          [
           300,
           15
          ],
          [
           300,
           15
          ],
          [
           300,
           15
          ],
          [
           300,
           15
          ],
          [
           300,
           15
          ],
          [
           300,
           15
          ],
          [
           300,
           15
          ],
          [
           300,
           15
          ],
          [
           300,
           15
          ],
          [
           300,
           15
          ],
          [
           300,
           15
          ],
          [
           300,
           15
          ],
          [
           300,
           15
          ],
          [
           300,
           15
          ],
          [
           300,
           15
          ],
          [
           1800,
           15
          ],
          [
           300,
           15
          ],
          [
           300,
           15
          ],
          [
           300,
           15
          ],
          [
           1800,
           15
          ],
          [
           300,
           15
          ],
          [
           300,
           15
          ],
          [
           300,
           15
          ],
          [
           1800,
           15
          ],
          [
           300,
           15
          ],
          [
           300,
           15
          ],
          [
           300,
           15
          ],
          [
           1800,
           15
          ],
          [
           300,
           15
          ],
          [
           300,
           15
          ],
          [
           300,
           15
          ],
          [
           300,
           15
          ],
          [
           300,
           15
          ],
          [
           300,
           15
          ],
          [
           300,
           15
          ],
          [
           300,
           15
          ],
          [
           300,
           15
          ],
          [
           300,
           15
          ],
          [
           300,
           15
          ],
          [
           300,
           15
          ],
          [
           300,
           15
          ],
          [
           300,
           15
          ],
          [
           300,
           15
          ],
          [
           300,
           15
          ],
          [
           300,
           15
          ],
          [
           300,
           15
          ],
          [
           300,
           15
          ],
          [
           1800,
           15
          ],
          [
           300,
           15
          ],
          [
           1800,
           15
          ],
          [
           1800,
           15
          ],
          [
           1800,
           15
          ],
          [
           300,
           15
          ],
          [
           1800,
           15
          ],
          [
           300,
           15
          ],
          [
           300,
           15
          ],
          [
           300,
           15
          ],
          [
           300,
           15
          ],
          [
           300,
           15
          ],
          [
           1800,
           15
          ],
          [
           300,
           15
          ],
          [
           1800,
           15
          ],
          [
           300,
           15
          ]
         ],
         "hovertemplate": "est_type=%{x}<br>FIT=%{y}<br>max_time=%{customdata[0]}<br>est_hidden_size=%{customdata[1]}<extra></extra>",
         "legendgroup": "",
         "marker": {
          "color": "#636efa"
         },
         "name": "",
         "notched": false,
         "offsetgroup": "",
         "orientation": "v",
         "showlegend": false,
         "type": "box",
         "x": [
          "LSTM",
          "FF",
          "LSTM",
          "LSTM",
          "LSTM",
          "FF",
          "LSTM",
          "FF",
          "LSTM",
          "LSTM",
          "FF",
          "LSTM",
          "FF",
          "FF",
          "FF",
          "FF",
          "FF",
          "FF",
          "LSTM",
          "FF",
          "FF",
          "LSTM",
          "LSTM",
          "LSTM",
          "LSTM",
          "FF",
          "FF",
          "FF",
          "LSTM",
          "ZERO",
          "FF",
          "LSTM",
          "FF",
          "LSTM",
          "LSTM",
          "LSTM",
          "FF",
          "ZERO",
          "FF",
          "LSTM",
          "FF",
          "LSTM",
          "LSTM",
          "LSTM",
          "LSTM",
          "ZERO",
          "LSTM",
          "LSTM",
          "LSTM",
          "ZERO",
          "LSTM",
          "ZERO",
          "ZERO",
          "FF",
          "LSTM",
          "LSTM",
          "LSTM",
          "LSTM",
          "ZERO",
          "LSTM",
          "LSTM",
          "LSTM",
          "FF",
          "LSTM",
          "LSTM",
          "FF",
          "FF",
          "LSTM",
          "FF",
          "LSTM",
          "FF",
          "FF",
          "ZERO",
          "FF",
          "LSTM",
          "FF",
          "ZERO",
          "ZERO",
          "ZERO",
          "FF",
          "LSTM",
          "LSTM",
          "LSTM",
          "ZERO",
          "ZERO",
          "LSTM",
          "FF",
          "FF",
          "FF",
          "FF",
          "FF",
          "FF",
          "ZERO",
          "LSTM",
          "LSTM",
          "FF",
          "ZERO",
          "ZERO",
          "LSTM",
          "ZERO",
          "ZERO",
          "ZERO",
          "FF",
          "ZERO",
          "FF",
          "LSTM",
          "FF",
          "ZERO",
          "FF",
          "LSTM",
          "LSTM",
          "ZERO",
          "LSTM",
          "FF",
          "FF",
          "ZERO",
          "FF",
          "LSTM",
          "LSTM",
          "FF",
          "FF",
          "ZERO",
          "ZERO",
          "ZERO",
          "FF",
          "LSTM",
          "ZERO",
          "ZERO",
          "ZERO",
          "ZERO",
          "ZERO",
          "FF",
          "FF",
          "ZERO",
          "FF",
          "ZERO",
          "ZERO",
          "ZERO",
          "ZERO",
          "LSTM",
          "ZERO",
          "FF",
          "LSTM",
          "FF",
          "ZERO",
          "ZERO",
          "FF",
          "LSTM",
          "FF",
          "ZERO",
          "FF",
          "FF",
          "ZERO",
          "ZERO",
          "FF",
          "FF",
          "ZERO",
          "FF",
          "LSTM",
          "FF",
          "LSTM",
          "ZERO",
          "FF",
          "LSTM",
          "LSTM",
          "LSTM",
          "LSTM",
          "ZERO",
          "ZERO",
          "LSTM",
          "ZERO",
          "FF",
          "FF",
          "LSTM",
          "LSTM",
          "LSTM",
          "ZERO",
          "ZERO",
          "ZERO",
          "ZERO",
          "LSTM",
          "LSTM",
          "FF",
          "ZERO",
          "LSTM",
          "FF",
          "FF",
          "ZERO",
          "FF",
          "LSTM",
          "ZERO",
          "FF",
          "ZERO",
          "ZERO",
          "FF",
          "FF",
          "ZERO",
          "ZERO",
          "ZERO",
          "ZERO",
          "ZERO",
          "FF",
          "LSTM",
          "LSTM",
          "ZERO",
          "ZERO",
          "ZERO",
          "ZERO",
          "ZERO",
          "FF",
          "LSTM",
          "FF",
          "ZERO",
          "ZERO",
          "FF",
          "FF",
          "ZERO",
          "FF",
          "ZERO",
          "ZERO",
          "FF",
          "LSTM",
          "FF",
          "LSTM",
          "ZERO",
          "FF",
          "LSTM",
          "LSTM",
          "LSTM",
          "LSTM",
          "FF",
          "LSTM",
          "LSTM",
          "ZERO",
          "ZERO",
          "FF",
          "LSTM",
          "FF",
          "ZERO",
          "LSTM",
          "ZERO",
          "FF",
          "ZERO",
          "FF",
          "ZERO",
          "ZERO",
          "ZERO",
          "FF",
          "ZERO",
          "FF",
          "ZERO",
          "FF",
          "ZERO",
          "LSTM",
          "FF",
          "LSTM",
          "ZERO",
          "ZERO",
          "ZERO",
          "LSTM",
          "LSTM",
          "ZERO",
          "FF",
          "ZERO",
          "ZERO",
          "LSTM",
          "ZERO",
          "LSTM",
          "ZERO",
          "ZERO",
          "ZERO",
          "LSTM",
          "FF",
          "FF",
          "FF",
          "FF",
          "LSTM",
          "LSTM",
          "ZERO",
          "FF",
          "ZERO",
          "LSTM",
          "FF",
          "FF",
          "LSTM",
          "LSTM",
          "ZERO",
          "LSTM"
         ],
         "x0": " ",
         "xaxis": "x",
         "y": [
          98.58680725097656,
          98.54400634765624,
          98.53496551513672,
          98.4969482421875,
          98.4884262084961,
          98.4680633544922,
          98.46688079833984,
          98.46003723144533,
          98.45762634277344,
          98.44957733154295,
          98.44108581542967,
          98.39879608154295,
          98.39405059814452,
          98.38992309570312,
          98.38732147216795,
          98.34349060058594,
          98.34089660644533,
          98.3311004638672,
          98.32357788085938,
          98.30818939208984,
          98.2978057861328,
          98.2847137451172,
          98.2842254638672,
          98.2643814086914,
          98.26375579833984,
          98.26296997070312,
          98.24288177490234,
          98.23778533935548,
          98.2368392944336,
          98.22978973388672,
          98.22810363769533,
          98.223388671875,
          98.1858901977539,
          98.14122009277344,
          98.1392822265625,
          98.1307601928711,
          98.109130859375,
          98.09796905517578,
          98.089599609375,
          98.07433319091795,
          98.06573486328124,
          98.0548858642578,
          98.02249908447266,
          98.00109100341795,
          97.98046875,
          97.97256469726562,
          97.94593048095705,
          97.89498138427734,
          97.87517547607422,
          97.86749267578124,
          97.8382797241211,
          97.81996154785156,
          97.79443359375,
          97.79410552978516,
          97.76569366455078,
          97.7503433227539,
          97.7492904663086,
          97.7448959350586,
          97.62957763671876,
          97.60299682617188,
          97.6002426147461,
          97.56678771972656,
          97.55642700195312,
          97.51976776123048,
          97.50208282470705,
          97.50176239013672,
          97.49170684814452,
          97.48182678222656,
          97.4082260131836,
          97.38973236083984,
          97.3860321044922,
          97.37918853759766,
          97.35780334472656,
          97.33839416503906,
          97.33345794677734,
          97.30813598632812,
          97.26769256591795,
          97.25592803955078,
          97.2500228881836,
          97.2458038330078,
          97.21639251708984,
          97.2012176513672,
          97.19845581054688,
          97.17332458496094,
          97.10291290283205,
          97.06703186035156,
          97.0586929321289,
          97.0489501953125,
          97.02205657958984,
          97.00376892089844,
          97.00202941894533,
          96.99890899658205,
          96.96337890625,
          96.94878387451172,
          96.93067169189452,
          96.86779022216795,
          96.80670928955078,
          96.79696655273438,
          96.77342987060548,
          96.76136779785156,
          96.74951171875,
          96.72381591796876,
          96.7027816772461,
          96.68460083007812,
          96.66754150390624,
          96.66441345214844,
          96.60385131835938,
          96.59369659423828,
          96.56224060058594,
          96.5583953857422,
          96.52906036376952,
          96.5070571899414,
          96.46463775634766,
          96.44806671142578,
          96.44161987304688,
          96.41283416748048,
          96.41224670410156,
          96.3250961303711,
          96.30540466308594,
          96.28184509277344,
          96.26058959960938,
          96.22171020507812,
          96.19200134277344,
          96.14441680908205,
          96.12242889404295,
          96.12115478515624,
          96.1142349243164,
          96.11097717285156,
          96.08953857421876,
          96.05409240722656,
          96.04197692871094,
          96.0395965576172,
          96.03711700439452,
          96.03013610839844,
          96.02516174316406,
          96.00379180908205,
          96.00231170654295,
          95.97941589355467,
          95.96144104003906,
          95.95955657958984,
          95.90046691894533,
          95.87214660644533,
          95.83998107910156,
          95.83782196044922,
          95.82217407226562,
          95.81404113769533,
          95.794677734375,
          95.79283905029295,
          95.74341583251952,
          95.74041748046876,
          95.67951202392578,
          95.67823791503906,
          95.6724853515625,
          95.66205596923828,
          95.58983612060548,
          95.52284240722656,
          95.48313903808594,
          95.47371673583984,
          95.4578628540039,
          95.38463592529295,
          95.35894775390624,
          95.32396697998048,
          95.2631378173828,
          95.19278717041016,
          95.13353729248048,
          95.10485076904295,
          95.04939270019533,
          94.94505310058594,
          94.92473602294922,
          94.88628387451172,
          94.826171875,
          94.80684661865234,
          94.79309844970705,
          94.71673583984376,
          94.66151428222656,
          94.64602661132812,
          94.5956573486328,
          94.571044921875,
          94.54354858398438,
          94.53494262695312,
          94.5332260131836,
          94.4521255493164,
          94.43880462646484,
          94.36531066894533,
          94.30842590332033,
          94.30818176269533,
          94.25230407714844,
          94.14578247070312,
          94.14337158203124,
          94.06350708007812,
          94.02220916748048,
          93.90574645996094,
          93.83489227294922,
          93.8100814819336,
          93.75218963623048,
          93.6327667236328,
          93.58039093017578,
          93.55696105957033,
          93.40180206298828,
          93.36802673339844,
          93.33170318603516,
          93.30973815917967,
          93.3071746826172,
          93.26336669921876,
          93.15957641601562,
          93.10594940185548,
          93.06950378417967,
          93.02685546875,
          93.00537109375,
          92.95830535888672,
          92.8463134765625,
          92.83831024169922,
          92.82573699951172,
          92.81810760498048,
          92.76483917236328,
          92.7301025390625,
          92.72718048095705,
          92.5580062866211,
          92.52721405029295,
          92.49607849121094,
          92.48625946044922,
          92.40475463867188,
          92.35808563232422,
          92.34676361083984,
          92.1929702758789,
          92.1386489868164,
          92.0679168701172,
          91.81803894042967,
          91.77867889404295,
          91.55833435058594,
          91.15612030029295,
          90.90785217285156,
          90.60907745361328,
          90.33795928955078,
          90.24122619628906,
          90.20700073242188,
          90.19969940185548,
          90.08551025390624,
          90.06961822509766,
          89.92375183105469,
          89.52302551269531,
          89.47547912597656,
          89.4087905883789,
          89.37981414794922,
          89.30560302734375,
          89.30057525634766,
          89.26510620117188,
          89.09001922607422,
          89.03380584716797,
          88.60636138916016,
          88.43577575683594,
          88.38751220703125,
          88.33271026611328,
          88.3292236328125,
          88.06825256347656,
          87.9871826171875,
          87.98604583740234,
          87.85369873046875,
          87.81255340576172,
          87.74431610107422,
          87.417724609375,
          87.23623657226562,
          86.41252899169922,
          86.24456787109375,
          86.23270416259766,
          86.15328216552734,
          85.98072052001953,
          85.96220397949219,
          85.88803100585938,
          85.83757019042969,
          84.37820434570312,
          76.86139678955078,
          0,
          0,
          0,
          0,
          0,
          0,
          0,
          0,
          0,
          0,
          0,
          0,
          0,
          0,
          0,
          0
         ],
         "y0": " ",
         "yaxis": "y"
        }
       ],
       "layout": {
        "boxmode": "group",
        "legend": {
         "tracegroupgap": 0
        },
        "margin": {
         "t": 60
        },
        "template": {
         "data": {
          "bar": [
           {
            "error_x": {
             "color": "#2a3f5f"
            },
            "error_y": {
             "color": "#2a3f5f"
            },
            "marker": {
             "line": {
              "color": "#E5ECF6",
              "width": 0.5
             },
             "pattern": {
              "fillmode": "overlay",
              "size": 10,
              "solidity": 0.2
             }
            },
            "type": "bar"
           }
          ],
          "barpolar": [
           {
            "marker": {
             "line": {
              "color": "#E5ECF6",
              "width": 0.5
             },
             "pattern": {
              "fillmode": "overlay",
              "size": 10,
              "solidity": 0.2
             }
            },
            "type": "barpolar"
           }
          ],
          "carpet": [
           {
            "aaxis": {
             "endlinecolor": "#2a3f5f",
             "gridcolor": "white",
             "linecolor": "white",
             "minorgridcolor": "white",
             "startlinecolor": "#2a3f5f"
            },
            "baxis": {
             "endlinecolor": "#2a3f5f",
             "gridcolor": "white",
             "linecolor": "white",
             "minorgridcolor": "white",
             "startlinecolor": "#2a3f5f"
            },
            "type": "carpet"
           }
          ],
          "choropleth": [
           {
            "colorbar": {
             "outlinewidth": 0,
             "ticks": ""
            },
            "type": "choropleth"
           }
          ],
          "contour": [
           {
            "colorbar": {
             "outlinewidth": 0,
             "ticks": ""
            },
            "colorscale": [
             [
              0,
              "#0d0887"
             ],
             [
              0.1111111111111111,
              "#46039f"
             ],
             [
              0.2222222222222222,
              "#7201a8"
             ],
             [
              0.3333333333333333,
              "#9c179e"
             ],
             [
              0.4444444444444444,
              "#bd3786"
             ],
             [
              0.5555555555555556,
              "#d8576b"
             ],
             [
              0.6666666666666666,
              "#ed7953"
             ],
             [
              0.7777777777777778,
              "#fb9f3a"
             ],
             [
              0.8888888888888888,
              "#fdca26"
             ],
             [
              1,
              "#f0f921"
             ]
            ],
            "type": "contour"
           }
          ],
          "contourcarpet": [
           {
            "colorbar": {
             "outlinewidth": 0,
             "ticks": ""
            },
            "type": "contourcarpet"
           }
          ],
          "heatmap": [
           {
            "colorbar": {
             "outlinewidth": 0,
             "ticks": ""
            },
            "colorscale": [
             [
              0,
              "#0d0887"
             ],
             [
              0.1111111111111111,
              "#46039f"
             ],
             [
              0.2222222222222222,
              "#7201a8"
             ],
             [
              0.3333333333333333,
              "#9c179e"
             ],
             [
              0.4444444444444444,
              "#bd3786"
             ],
             [
              0.5555555555555556,
              "#d8576b"
             ],
             [
              0.6666666666666666,
              "#ed7953"
             ],
             [
              0.7777777777777778,
              "#fb9f3a"
             ],
             [
              0.8888888888888888,
              "#fdca26"
             ],
             [
              1,
              "#f0f921"
             ]
            ],
            "type": "heatmap"
           }
          ],
          "heatmapgl": [
           {
            "colorbar": {
             "outlinewidth": 0,
             "ticks": ""
            },
            "colorscale": [
             [
              0,
              "#0d0887"
             ],
             [
              0.1111111111111111,
              "#46039f"
             ],
             [
              0.2222222222222222,
              "#7201a8"
             ],
             [
              0.3333333333333333,
              "#9c179e"
             ],
             [
              0.4444444444444444,
              "#bd3786"
             ],
             [
              0.5555555555555556,
              "#d8576b"
             ],
             [
              0.6666666666666666,
              "#ed7953"
             ],
             [
              0.7777777777777778,
              "#fb9f3a"
             ],
             [
              0.8888888888888888,
              "#fdca26"
             ],
             [
              1,
              "#f0f921"
             ]
            ],
            "type": "heatmapgl"
           }
          ],
          "histogram": [
           {
            "marker": {
             "pattern": {
              "fillmode": "overlay",
              "size": 10,
              "solidity": 0.2
             }
            },
            "type": "histogram"
           }
          ],
          "histogram2d": [
           {
            "colorbar": {
             "outlinewidth": 0,
             "ticks": ""
            },
            "colorscale": [
             [
              0,
              "#0d0887"
             ],
             [
              0.1111111111111111,
              "#46039f"
             ],
             [
              0.2222222222222222,
              "#7201a8"
             ],
             [
              0.3333333333333333,
              "#9c179e"
             ],
             [
              0.4444444444444444,
              "#bd3786"
             ],
             [
              0.5555555555555556,
              "#d8576b"
             ],
             [
              0.6666666666666666,
              "#ed7953"
             ],
             [
              0.7777777777777778,
              "#fb9f3a"
             ],
             [
              0.8888888888888888,
              "#fdca26"
             ],
             [
              1,
              "#f0f921"
             ]
            ],
            "type": "histogram2d"
           }
          ],
          "histogram2dcontour": [
           {
            "colorbar": {
             "outlinewidth": 0,
             "ticks": ""
            },
            "colorscale": [
             [
              0,
              "#0d0887"
             ],
             [
              0.1111111111111111,
              "#46039f"
             ],
             [
              0.2222222222222222,
              "#7201a8"
             ],
             [
              0.3333333333333333,
              "#9c179e"
             ],
             [
              0.4444444444444444,
              "#bd3786"
             ],
             [
              0.5555555555555556,
              "#d8576b"
             ],
             [
              0.6666666666666666,
              "#ed7953"
             ],
             [
              0.7777777777777778,
              "#fb9f3a"
             ],
             [
              0.8888888888888888,
              "#fdca26"
             ],
             [
              1,
              "#f0f921"
             ]
            ],
            "type": "histogram2dcontour"
           }
          ],
          "mesh3d": [
           {
            "colorbar": {
             "outlinewidth": 0,
             "ticks": ""
            },
            "type": "mesh3d"
           }
          ],
          "parcoords": [
           {
            "line": {
             "colorbar": {
              "outlinewidth": 0,
              "ticks": ""
             }
            },
            "type": "parcoords"
           }
          ],
          "pie": [
           {
            "automargin": true,
            "type": "pie"
           }
          ],
          "scatter": [
           {
            "marker": {
             "colorbar": {
              "outlinewidth": 0,
              "ticks": ""
             }
            },
            "type": "scatter"
           }
          ],
          "scatter3d": [
           {
            "line": {
             "colorbar": {
              "outlinewidth": 0,
              "ticks": ""
             }
            },
            "marker": {
             "colorbar": {
              "outlinewidth": 0,
              "ticks": ""
             }
            },
            "type": "scatter3d"
           }
          ],
          "scattercarpet": [
           {
            "marker": {
             "colorbar": {
              "outlinewidth": 0,
              "ticks": ""
             }
            },
            "type": "scattercarpet"
           }
          ],
          "scattergeo": [
           {
            "marker": {
             "colorbar": {
              "outlinewidth": 0,
              "ticks": ""
             }
            },
            "type": "scattergeo"
           }
          ],
          "scattergl": [
           {
            "marker": {
             "colorbar": {
              "outlinewidth": 0,
              "ticks": ""
             }
            },
            "type": "scattergl"
           }
          ],
          "scattermapbox": [
           {
            "marker": {
             "colorbar": {
              "outlinewidth": 0,
              "ticks": ""
             }
            },
            "type": "scattermapbox"
           }
          ],
          "scatterpolar": [
           {
            "marker": {
             "colorbar": {
              "outlinewidth": 0,
              "ticks": ""
             }
            },
            "type": "scatterpolar"
           }
          ],
          "scatterpolargl": [
           {
            "marker": {
             "colorbar": {
              "outlinewidth": 0,
              "ticks": ""
             }
            },
            "type": "scatterpolargl"
           }
          ],
          "scatterternary": [
           {
            "marker": {
             "colorbar": {
              "outlinewidth": 0,
              "ticks": ""
             }
            },
            "type": "scatterternary"
           }
          ],
          "surface": [
           {
            "colorbar": {
             "outlinewidth": 0,
             "ticks": ""
            },
            "colorscale": [
             [
              0,
              "#0d0887"
             ],
             [
              0.1111111111111111,
              "#46039f"
             ],
             [
              0.2222222222222222,
              "#7201a8"
             ],
             [
              0.3333333333333333,
              "#9c179e"
             ],
             [
              0.4444444444444444,
              "#bd3786"
             ],
             [
              0.5555555555555556,
              "#d8576b"
             ],
             [
              0.6666666666666666,
              "#ed7953"
             ],
             [
              0.7777777777777778,
              "#fb9f3a"
             ],
             [
              0.8888888888888888,
              "#fdca26"
             ],
             [
              1,
              "#f0f921"
             ]
            ],
            "type": "surface"
           }
          ],
          "table": [
           {
            "cells": {
             "fill": {
              "color": "#EBF0F8"
             },
             "line": {
              "color": "white"
             }
            },
            "header": {
             "fill": {
              "color": "#C8D4E3"
             },
             "line": {
              "color": "white"
             }
            },
            "type": "table"
           }
          ]
         },
         "layout": {
          "annotationdefaults": {
           "arrowcolor": "#2a3f5f",
           "arrowhead": 0,
           "arrowwidth": 1
          },
          "autotypenumbers": "strict",
          "coloraxis": {
           "colorbar": {
            "outlinewidth": 0,
            "ticks": ""
           }
          },
          "colorscale": {
           "diverging": [
            [
             0,
             "#8e0152"
            ],
            [
             0.1,
             "#c51b7d"
            ],
            [
             0.2,
             "#de77ae"
            ],
            [
             0.3,
             "#f1b6da"
            ],
            [
             0.4,
             "#fde0ef"
            ],
            [
             0.5,
             "#f7f7f7"
            ],
            [
             0.6,
             "#e6f5d0"
            ],
            [
             0.7,
             "#b8e186"
            ],
            [
             0.8,
             "#7fbc41"
            ],
            [
             0.9,
             "#4d9221"
            ],
            [
             1,
             "#276419"
            ]
           ],
           "sequential": [
            [
             0,
             "#0d0887"
            ],
            [
             0.1111111111111111,
             "#46039f"
            ],
            [
             0.2222222222222222,
             "#7201a8"
            ],
            [
             0.3333333333333333,
             "#9c179e"
            ],
            [
             0.4444444444444444,
             "#bd3786"
            ],
            [
             0.5555555555555556,
             "#d8576b"
            ],
            [
             0.6666666666666666,
             "#ed7953"
            ],
            [
             0.7777777777777778,
             "#fb9f3a"
            ],
            [
             0.8888888888888888,
             "#fdca26"
            ],
            [
             1,
             "#f0f921"
            ]
           ],
           "sequentialminus": [
            [
             0,
             "#0d0887"
            ],
            [
             0.1111111111111111,
             "#46039f"
            ],
            [
             0.2222222222222222,
             "#7201a8"
            ],
            [
             0.3333333333333333,
             "#9c179e"
            ],
            [
             0.4444444444444444,
             "#bd3786"
            ],
            [
             0.5555555555555556,
             "#d8576b"
            ],
            [
             0.6666666666666666,
             "#ed7953"
            ],
            [
             0.7777777777777778,
             "#fb9f3a"
            ],
            [
             0.8888888888888888,
             "#fdca26"
            ],
            [
             1,
             "#f0f921"
            ]
           ]
          },
          "colorway": [
           "#636efa",
           "#EF553B",
           "#00cc96",
           "#ab63fa",
           "#FFA15A",
           "#19d3f3",
           "#FF6692",
           "#B6E880",
           "#FF97FF",
           "#FECB52"
          ],
          "font": {
           "color": "#2a3f5f"
          },
          "geo": {
           "bgcolor": "white",
           "lakecolor": "white",
           "landcolor": "#E5ECF6",
           "showlakes": true,
           "showland": true,
           "subunitcolor": "white"
          },
          "hoverlabel": {
           "align": "left"
          },
          "hovermode": "closest",
          "mapbox": {
           "style": "light"
          },
          "paper_bgcolor": "white",
          "plot_bgcolor": "#E5ECF6",
          "polar": {
           "angularaxis": {
            "gridcolor": "white",
            "linecolor": "white",
            "ticks": ""
           },
           "bgcolor": "#E5ECF6",
           "radialaxis": {
            "gridcolor": "white",
            "linecolor": "white",
            "ticks": ""
           }
          },
          "scene": {
           "xaxis": {
            "backgroundcolor": "#E5ECF6",
            "gridcolor": "white",
            "gridwidth": 2,
            "linecolor": "white",
            "showbackground": true,
            "ticks": "",
            "zerolinecolor": "white"
           },
           "yaxis": {
            "backgroundcolor": "#E5ECF6",
            "gridcolor": "white",
            "gridwidth": 2,
            "linecolor": "white",
            "showbackground": true,
            "ticks": "",
            "zerolinecolor": "white"
           },
           "zaxis": {
            "backgroundcolor": "#E5ECF6",
            "gridcolor": "white",
            "gridwidth": 2,
            "linecolor": "white",
            "showbackground": true,
            "ticks": "",
            "zerolinecolor": "white"
           }
          },
          "shapedefaults": {
           "line": {
            "color": "#2a3f5f"
           }
          },
          "ternary": {
           "aaxis": {
            "gridcolor": "white",
            "linecolor": "white",
            "ticks": ""
           },
           "baxis": {
            "gridcolor": "white",
            "linecolor": "white",
            "ticks": ""
           },
           "bgcolor": "#E5ECF6",
           "caxis": {
            "gridcolor": "white",
            "linecolor": "white",
            "ticks": ""
           }
          },
          "title": {
           "x": 0.05
          },
          "xaxis": {
           "automargin": true,
           "gridcolor": "white",
           "linecolor": "white",
           "ticks": "",
           "title": {
            "standoff": 15
           },
           "zerolinecolor": "white",
           "zerolinewidth": 2
          },
          "yaxis": {
           "automargin": true,
           "gridcolor": "white",
           "linecolor": "white",
           "ticks": "",
           "title": {
            "standoff": 15
           },
           "zerolinecolor": "white",
           "zerolinewidth": 2
          }
         }
        },
        "xaxis": {
         "anchor": "y",
         "domain": [
          0,
          1
         ],
         "title": {
          "text": "est_type"
         }
        },
        "yaxis": {
         "anchor": "x",
         "domain": [
          0,
          1
         ],
         "title": {
          "text": "FIT"
         }
        }
       }
      },
      "text/html": [
       "<div>                            <div id=\"74360b37-7b00-4f82-aa7f-15af454b867d\" class=\"plotly-graph-div\" style=\"height:525px; width:100%;\"></div>            <script type=\"text/javascript\">                require([\"plotly\"], function(Plotly) {                    window.PLOTLYENV=window.PLOTLYENV || {};                                    if (document.getElementById(\"74360b37-7b00-4f82-aa7f-15af454b867d\")) {                    Plotly.newPlot(                        \"74360b37-7b00-4f82-aa7f-15af454b867d\",                        [{\"alignmentgroup\":\"True\",\"customdata\":[[1800,15],[1800,15],[1800,15],[1800,15],[1800,15],[1800,15],[1800,15],[1800,15],[1800,15],[1800,15],[1800,15],[1800,15],[1800,15],[1800,15],[1800,15],[1800,15],[1800,15],[1800,15],[1800,15],[1800,15],[1800,15],[1800,15],[1800,15],[1800,15],[1800,15],[1800,15],[1800,15],[1800,15],[1800,15],[1800,15],[1800,15],[1800,15],[1800,15],[1800,15],[1800,15],[1800,15],[1800,15],[1800,15],[1800,15],[1800,15],[1800,15],[1800,15],[1800,15],[1800,15],[300,15],[1800,15],[1800,15],[1800,15],[1800,15],[1800,15],[300,15],[1800,15],[1800,15],[1800,15],[1800,15],[300,15],[1800,15],[1800,15],[1800,15],[1800,15],[1800,15],[300,15],[300,15],[300,15],[1800,15],[300,15],[1800,15],[300,15],[1800,15],[300,15],[300,15],[1800,15],[1800,15],[300,15],[1800,15],[1800,15],[1800,15],[1800,15],[1800,15],[300,15],[1800,15],[300,15],[1800,15],[300,15],[1800,15],[1800,15],[1800,15],[1800,15],[1800,15],[300,15],[1800,15],[1800,15],[300,15],[1800,15],[300,15],[300,15],[1800,15],[300,15],[1800,15],[1800,15],[300,15],[300,15],[300,15],[1800,15],[1800,15],[300,15],[1800,15],[1800,15],[300,15],[300,15],[1800,15],[300,15],[300,15],[1800,15],[1800,15],[1800,15],[300,15],[300,15],[1800,15],[300,15],[300,15],[1800,15],[300,15],[1800,15],[300,15],[1800,15],[1800,15],[1800,15],[300,15],[300,15],[1800,15],[300,15],[300,15],[1800,15],[1800,15],[1800,15],[1800,15],[1800,15],[1800,15],[1800,15],[1800,15],[1800,15],[300,15],[1800,15],[1800,15],[1800,15],[300,15],[300,15],[1800,15],[1800,15],[1800,15],[300,15],[300,15],[300,15],[1800,15],[1800,15],[1800,15],[300,15],[1800,15],[300,15],[300,15],[1800,15],[300,15],[300,15],[300,15],[300,15],[1800,15],[1800,15],[300,15],[300,15],[300,15],[1800,15],[1800,15],[1800,15],[300,15],[300,15],[1800,15],[300,15],[300,15],[1800,15],[1800,15],[300,15],[300,15],[300,15],[300,15],[300,15],[300,15],[300,15],[300,15],[300,15],[300,15],[300,15],[300,15],[300,15],[300,15],[300,15],[300,15],[300,15],[1800,15],[300,15],[300,15],[300,15],[300,15],[300,15],[300,15],[1800,15],[1800,15],[1800,15],[300,15],[300,15],[1800,15],[1800,15],[300,15],[300,15],[1800,15],[300,15],[1800,15],[300,15],[1800,15],[300,15],[300,15],[300,15],[300,15],[300,15],[300,15],[300,15],[300,15],[300,15],[300,15],[300,15],[300,15],[300,15],[300,15],[300,15],[300,15],[300,15],[300,15],[300,15],[300,15],[300,15],[1800,15],[300,15],[300,15],[300,15],[1800,15],[300,15],[300,15],[300,15],[1800,15],[300,15],[300,15],[300,15],[1800,15],[300,15],[300,15],[300,15],[300,15],[300,15],[300,15],[300,15],[300,15],[300,15],[300,15],[300,15],[300,15],[300,15],[300,15],[300,15],[300,15],[300,15],[300,15],[300,15],[1800,15],[300,15],[1800,15],[1800,15],[1800,15],[300,15],[1800,15],[300,15],[300,15],[300,15],[300,15],[300,15],[1800,15],[300,15],[1800,15],[300,15]],\"hovertemplate\":\"est_type=%{x}<br>FIT=%{y}<br>max_time=%{customdata[0]}<br>est_hidden_size=%{customdata[1]}<extra></extra>\",\"legendgroup\":\"\",\"marker\":{\"color\":\"#636efa\"},\"name\":\"\",\"notched\":false,\"offsetgroup\":\"\",\"orientation\":\"v\",\"showlegend\":false,\"type\":\"box\",\"x\":[\"LSTM\",\"FF\",\"LSTM\",\"LSTM\",\"LSTM\",\"FF\",\"LSTM\",\"FF\",\"LSTM\",\"LSTM\",\"FF\",\"LSTM\",\"FF\",\"FF\",\"FF\",\"FF\",\"FF\",\"FF\",\"LSTM\",\"FF\",\"FF\",\"LSTM\",\"LSTM\",\"LSTM\",\"LSTM\",\"FF\",\"FF\",\"FF\",\"LSTM\",\"ZERO\",\"FF\",\"LSTM\",\"FF\",\"LSTM\",\"LSTM\",\"LSTM\",\"FF\",\"ZERO\",\"FF\",\"LSTM\",\"FF\",\"LSTM\",\"LSTM\",\"LSTM\",\"LSTM\",\"ZERO\",\"LSTM\",\"LSTM\",\"LSTM\",\"ZERO\",\"LSTM\",\"ZERO\",\"ZERO\",\"FF\",\"LSTM\",\"LSTM\",\"LSTM\",\"LSTM\",\"ZERO\",\"LSTM\",\"LSTM\",\"LSTM\",\"FF\",\"LSTM\",\"LSTM\",\"FF\",\"FF\",\"LSTM\",\"FF\",\"LSTM\",\"FF\",\"FF\",\"ZERO\",\"FF\",\"LSTM\",\"FF\",\"ZERO\",\"ZERO\",\"ZERO\",\"FF\",\"LSTM\",\"LSTM\",\"LSTM\",\"ZERO\",\"ZERO\",\"LSTM\",\"FF\",\"FF\",\"FF\",\"FF\",\"FF\",\"FF\",\"ZERO\",\"LSTM\",\"LSTM\",\"FF\",\"ZERO\",\"ZERO\",\"LSTM\",\"ZERO\",\"ZERO\",\"ZERO\",\"FF\",\"ZERO\",\"FF\",\"LSTM\",\"FF\",\"ZERO\",\"FF\",\"LSTM\",\"LSTM\",\"ZERO\",\"LSTM\",\"FF\",\"FF\",\"ZERO\",\"FF\",\"LSTM\",\"LSTM\",\"FF\",\"FF\",\"ZERO\",\"ZERO\",\"ZERO\",\"FF\",\"LSTM\",\"ZERO\",\"ZERO\",\"ZERO\",\"ZERO\",\"ZERO\",\"FF\",\"FF\",\"ZERO\",\"FF\",\"ZERO\",\"ZERO\",\"ZERO\",\"ZERO\",\"LSTM\",\"ZERO\",\"FF\",\"LSTM\",\"FF\",\"ZERO\",\"ZERO\",\"FF\",\"LSTM\",\"FF\",\"ZERO\",\"FF\",\"FF\",\"ZERO\",\"ZERO\",\"FF\",\"FF\",\"ZERO\",\"FF\",\"LSTM\",\"FF\",\"LSTM\",\"ZERO\",\"FF\",\"LSTM\",\"LSTM\",\"LSTM\",\"LSTM\",\"ZERO\",\"ZERO\",\"LSTM\",\"ZERO\",\"FF\",\"FF\",\"LSTM\",\"LSTM\",\"LSTM\",\"ZERO\",\"ZERO\",\"ZERO\",\"ZERO\",\"LSTM\",\"LSTM\",\"FF\",\"ZERO\",\"LSTM\",\"FF\",\"FF\",\"ZERO\",\"FF\",\"LSTM\",\"ZERO\",\"FF\",\"ZERO\",\"ZERO\",\"FF\",\"FF\",\"ZERO\",\"ZERO\",\"ZERO\",\"ZERO\",\"ZERO\",\"FF\",\"LSTM\",\"LSTM\",\"ZERO\",\"ZERO\",\"ZERO\",\"ZERO\",\"ZERO\",\"FF\",\"LSTM\",\"FF\",\"ZERO\",\"ZERO\",\"FF\",\"FF\",\"ZERO\",\"FF\",\"ZERO\",\"ZERO\",\"FF\",\"LSTM\",\"FF\",\"LSTM\",\"ZERO\",\"FF\",\"LSTM\",\"LSTM\",\"LSTM\",\"LSTM\",\"FF\",\"LSTM\",\"LSTM\",\"ZERO\",\"ZERO\",\"FF\",\"LSTM\",\"FF\",\"ZERO\",\"LSTM\",\"ZERO\",\"FF\",\"ZERO\",\"FF\",\"ZERO\",\"ZERO\",\"ZERO\",\"FF\",\"ZERO\",\"FF\",\"ZERO\",\"FF\",\"ZERO\",\"LSTM\",\"FF\",\"LSTM\",\"ZERO\",\"ZERO\",\"ZERO\",\"LSTM\",\"LSTM\",\"ZERO\",\"FF\",\"ZERO\",\"ZERO\",\"LSTM\",\"ZERO\",\"LSTM\",\"ZERO\",\"ZERO\",\"ZERO\",\"LSTM\",\"FF\",\"FF\",\"FF\",\"FF\",\"LSTM\",\"LSTM\",\"ZERO\",\"FF\",\"ZERO\",\"LSTM\",\"FF\",\"FF\",\"LSTM\",\"LSTM\",\"ZERO\",\"LSTM\"],\"x0\":\" \",\"xaxis\":\"x\",\"y\":[98.58680725097656,98.54400634765624,98.53496551513672,98.4969482421875,98.4884262084961,98.4680633544922,98.46688079833984,98.46003723144533,98.45762634277344,98.44957733154295,98.44108581542967,98.39879608154295,98.39405059814452,98.38992309570312,98.38732147216795,98.34349060058594,98.34089660644533,98.3311004638672,98.32357788085938,98.30818939208984,98.2978057861328,98.2847137451172,98.2842254638672,98.2643814086914,98.26375579833984,98.26296997070312,98.24288177490234,98.23778533935548,98.2368392944336,98.22978973388672,98.22810363769533,98.223388671875,98.1858901977539,98.14122009277344,98.1392822265625,98.1307601928711,98.109130859375,98.09796905517578,98.089599609375,98.07433319091795,98.06573486328124,98.0548858642578,98.02249908447266,98.00109100341795,97.98046875,97.97256469726562,97.94593048095705,97.89498138427734,97.87517547607422,97.86749267578124,97.8382797241211,97.81996154785156,97.79443359375,97.79410552978516,97.76569366455078,97.7503433227539,97.7492904663086,97.7448959350586,97.62957763671876,97.60299682617188,97.6002426147461,97.56678771972656,97.55642700195312,97.51976776123048,97.50208282470705,97.50176239013672,97.49170684814452,97.48182678222656,97.4082260131836,97.38973236083984,97.3860321044922,97.37918853759766,97.35780334472656,97.33839416503906,97.33345794677734,97.30813598632812,97.26769256591795,97.25592803955078,97.2500228881836,97.2458038330078,97.21639251708984,97.2012176513672,97.19845581054688,97.17332458496094,97.10291290283205,97.06703186035156,97.0586929321289,97.0489501953125,97.02205657958984,97.00376892089844,97.00202941894533,96.99890899658205,96.96337890625,96.94878387451172,96.93067169189452,96.86779022216795,96.80670928955078,96.79696655273438,96.77342987060548,96.76136779785156,96.74951171875,96.72381591796876,96.7027816772461,96.68460083007812,96.66754150390624,96.66441345214844,96.60385131835938,96.59369659423828,96.56224060058594,96.5583953857422,96.52906036376952,96.5070571899414,96.46463775634766,96.44806671142578,96.44161987304688,96.41283416748048,96.41224670410156,96.3250961303711,96.30540466308594,96.28184509277344,96.26058959960938,96.22171020507812,96.19200134277344,96.14441680908205,96.12242889404295,96.12115478515624,96.1142349243164,96.11097717285156,96.08953857421876,96.05409240722656,96.04197692871094,96.0395965576172,96.03711700439452,96.03013610839844,96.02516174316406,96.00379180908205,96.00231170654295,95.97941589355467,95.96144104003906,95.95955657958984,95.90046691894533,95.87214660644533,95.83998107910156,95.83782196044922,95.82217407226562,95.81404113769533,95.794677734375,95.79283905029295,95.74341583251952,95.74041748046876,95.67951202392578,95.67823791503906,95.6724853515625,95.66205596923828,95.58983612060548,95.52284240722656,95.48313903808594,95.47371673583984,95.4578628540039,95.38463592529295,95.35894775390624,95.32396697998048,95.2631378173828,95.19278717041016,95.13353729248048,95.10485076904295,95.04939270019533,94.94505310058594,94.92473602294922,94.88628387451172,94.826171875,94.80684661865234,94.79309844970705,94.71673583984376,94.66151428222656,94.64602661132812,94.5956573486328,94.571044921875,94.54354858398438,94.53494262695312,94.5332260131836,94.4521255493164,94.43880462646484,94.36531066894533,94.30842590332033,94.30818176269533,94.25230407714844,94.14578247070312,94.14337158203124,94.06350708007812,94.02220916748048,93.90574645996094,93.83489227294922,93.8100814819336,93.75218963623048,93.6327667236328,93.58039093017578,93.55696105957033,93.40180206298828,93.36802673339844,93.33170318603516,93.30973815917967,93.3071746826172,93.26336669921876,93.15957641601562,93.10594940185548,93.06950378417967,93.02685546875,93.00537109375,92.95830535888672,92.8463134765625,92.83831024169922,92.82573699951172,92.81810760498048,92.76483917236328,92.7301025390625,92.72718048095705,92.5580062866211,92.52721405029295,92.49607849121094,92.48625946044922,92.40475463867188,92.35808563232422,92.34676361083984,92.1929702758789,92.1386489868164,92.0679168701172,91.81803894042967,91.77867889404295,91.55833435058594,91.15612030029295,90.90785217285156,90.60907745361328,90.33795928955078,90.24122619628906,90.20700073242188,90.19969940185548,90.08551025390624,90.06961822509766,89.92375183105469,89.52302551269531,89.47547912597656,89.4087905883789,89.37981414794922,89.30560302734375,89.30057525634766,89.26510620117188,89.09001922607422,89.03380584716797,88.60636138916016,88.43577575683594,88.38751220703125,88.33271026611328,88.3292236328125,88.06825256347656,87.9871826171875,87.98604583740234,87.85369873046875,87.81255340576172,87.74431610107422,87.417724609375,87.23623657226562,86.41252899169922,86.24456787109375,86.23270416259766,86.15328216552734,85.98072052001953,85.96220397949219,85.88803100585938,85.83757019042969,84.37820434570312,76.86139678955078,0.0,0.0,0.0,0.0,0.0,0.0,0.0,0.0,0.0,0.0,0.0,0.0,0.0,0.0,0.0,0.0],\"y0\":\" \",\"yaxis\":\"y\"}],                        {\"boxmode\":\"group\",\"legend\":{\"tracegroupgap\":0},\"margin\":{\"t\":60},\"template\":{\"data\":{\"bar\":[{\"error_x\":{\"color\":\"#2a3f5f\"},\"error_y\":{\"color\":\"#2a3f5f\"},\"marker\":{\"line\":{\"color\":\"#E5ECF6\",\"width\":0.5},\"pattern\":{\"fillmode\":\"overlay\",\"size\":10,\"solidity\":0.2}},\"type\":\"bar\"}],\"barpolar\":[{\"marker\":{\"line\":{\"color\":\"#E5ECF6\",\"width\":0.5},\"pattern\":{\"fillmode\":\"overlay\",\"size\":10,\"solidity\":0.2}},\"type\":\"barpolar\"}],\"carpet\":[{\"aaxis\":{\"endlinecolor\":\"#2a3f5f\",\"gridcolor\":\"white\",\"linecolor\":\"white\",\"minorgridcolor\":\"white\",\"startlinecolor\":\"#2a3f5f\"},\"baxis\":{\"endlinecolor\":\"#2a3f5f\",\"gridcolor\":\"white\",\"linecolor\":\"white\",\"minorgridcolor\":\"white\",\"startlinecolor\":\"#2a3f5f\"},\"type\":\"carpet\"}],\"choropleth\":[{\"colorbar\":{\"outlinewidth\":0,\"ticks\":\"\"},\"type\":\"choropleth\"}],\"contour\":[{\"colorbar\":{\"outlinewidth\":0,\"ticks\":\"\"},\"colorscale\":[[0.0,\"#0d0887\"],[0.1111111111111111,\"#46039f\"],[0.2222222222222222,\"#7201a8\"],[0.3333333333333333,\"#9c179e\"],[0.4444444444444444,\"#bd3786\"],[0.5555555555555556,\"#d8576b\"],[0.6666666666666666,\"#ed7953\"],[0.7777777777777778,\"#fb9f3a\"],[0.8888888888888888,\"#fdca26\"],[1.0,\"#f0f921\"]],\"type\":\"contour\"}],\"contourcarpet\":[{\"colorbar\":{\"outlinewidth\":0,\"ticks\":\"\"},\"type\":\"contourcarpet\"}],\"heatmap\":[{\"colorbar\":{\"outlinewidth\":0,\"ticks\":\"\"},\"colorscale\":[[0.0,\"#0d0887\"],[0.1111111111111111,\"#46039f\"],[0.2222222222222222,\"#7201a8\"],[0.3333333333333333,\"#9c179e\"],[0.4444444444444444,\"#bd3786\"],[0.5555555555555556,\"#d8576b\"],[0.6666666666666666,\"#ed7953\"],[0.7777777777777778,\"#fb9f3a\"],[0.8888888888888888,\"#fdca26\"],[1.0,\"#f0f921\"]],\"type\":\"heatmap\"}],\"heatmapgl\":[{\"colorbar\":{\"outlinewidth\":0,\"ticks\":\"\"},\"colorscale\":[[0.0,\"#0d0887\"],[0.1111111111111111,\"#46039f\"],[0.2222222222222222,\"#7201a8\"],[0.3333333333333333,\"#9c179e\"],[0.4444444444444444,\"#bd3786\"],[0.5555555555555556,\"#d8576b\"],[0.6666666666666666,\"#ed7953\"],[0.7777777777777778,\"#fb9f3a\"],[0.8888888888888888,\"#fdca26\"],[1.0,\"#f0f921\"]],\"type\":\"heatmapgl\"}],\"histogram\":[{\"marker\":{\"pattern\":{\"fillmode\":\"overlay\",\"size\":10,\"solidity\":0.2}},\"type\":\"histogram\"}],\"histogram2d\":[{\"colorbar\":{\"outlinewidth\":0,\"ticks\":\"\"},\"colorscale\":[[0.0,\"#0d0887\"],[0.1111111111111111,\"#46039f\"],[0.2222222222222222,\"#7201a8\"],[0.3333333333333333,\"#9c179e\"],[0.4444444444444444,\"#bd3786\"],[0.5555555555555556,\"#d8576b\"],[0.6666666666666666,\"#ed7953\"],[0.7777777777777778,\"#fb9f3a\"],[0.8888888888888888,\"#fdca26\"],[1.0,\"#f0f921\"]],\"type\":\"histogram2d\"}],\"histogram2dcontour\":[{\"colorbar\":{\"outlinewidth\":0,\"ticks\":\"\"},\"colorscale\":[[0.0,\"#0d0887\"],[0.1111111111111111,\"#46039f\"],[0.2222222222222222,\"#7201a8\"],[0.3333333333333333,\"#9c179e\"],[0.4444444444444444,\"#bd3786\"],[0.5555555555555556,\"#d8576b\"],[0.6666666666666666,\"#ed7953\"],[0.7777777777777778,\"#fb9f3a\"],[0.8888888888888888,\"#fdca26\"],[1.0,\"#f0f921\"]],\"type\":\"histogram2dcontour\"}],\"mesh3d\":[{\"colorbar\":{\"outlinewidth\":0,\"ticks\":\"\"},\"type\":\"mesh3d\"}],\"parcoords\":[{\"line\":{\"colorbar\":{\"outlinewidth\":0,\"ticks\":\"\"}},\"type\":\"parcoords\"}],\"pie\":[{\"automargin\":true,\"type\":\"pie\"}],\"scatter\":[{\"marker\":{\"colorbar\":{\"outlinewidth\":0,\"ticks\":\"\"}},\"type\":\"scatter\"}],\"scatter3d\":[{\"line\":{\"colorbar\":{\"outlinewidth\":0,\"ticks\":\"\"}},\"marker\":{\"colorbar\":{\"outlinewidth\":0,\"ticks\":\"\"}},\"type\":\"scatter3d\"}],\"scattercarpet\":[{\"marker\":{\"colorbar\":{\"outlinewidth\":0,\"ticks\":\"\"}},\"type\":\"scattercarpet\"}],\"scattergeo\":[{\"marker\":{\"colorbar\":{\"outlinewidth\":0,\"ticks\":\"\"}},\"type\":\"scattergeo\"}],\"scattergl\":[{\"marker\":{\"colorbar\":{\"outlinewidth\":0,\"ticks\":\"\"}},\"type\":\"scattergl\"}],\"scattermapbox\":[{\"marker\":{\"colorbar\":{\"outlinewidth\":0,\"ticks\":\"\"}},\"type\":\"scattermapbox\"}],\"scatterpolar\":[{\"marker\":{\"colorbar\":{\"outlinewidth\":0,\"ticks\":\"\"}},\"type\":\"scatterpolar\"}],\"scatterpolargl\":[{\"marker\":{\"colorbar\":{\"outlinewidth\":0,\"ticks\":\"\"}},\"type\":\"scatterpolargl\"}],\"scatterternary\":[{\"marker\":{\"colorbar\":{\"outlinewidth\":0,\"ticks\":\"\"}},\"type\":\"scatterternary\"}],\"surface\":[{\"colorbar\":{\"outlinewidth\":0,\"ticks\":\"\"},\"colorscale\":[[0.0,\"#0d0887\"],[0.1111111111111111,\"#46039f\"],[0.2222222222222222,\"#7201a8\"],[0.3333333333333333,\"#9c179e\"],[0.4444444444444444,\"#bd3786\"],[0.5555555555555556,\"#d8576b\"],[0.6666666666666666,\"#ed7953\"],[0.7777777777777778,\"#fb9f3a\"],[0.8888888888888888,\"#fdca26\"],[1.0,\"#f0f921\"]],\"type\":\"surface\"}],\"table\":[{\"cells\":{\"fill\":{\"color\":\"#EBF0F8\"},\"line\":{\"color\":\"white\"}},\"header\":{\"fill\":{\"color\":\"#C8D4E3\"},\"line\":{\"color\":\"white\"}},\"type\":\"table\"}]},\"layout\":{\"annotationdefaults\":{\"arrowcolor\":\"#2a3f5f\",\"arrowhead\":0,\"arrowwidth\":1},\"autotypenumbers\":\"strict\",\"coloraxis\":{\"colorbar\":{\"outlinewidth\":0,\"ticks\":\"\"}},\"colorscale\":{\"diverging\":[[0,\"#8e0152\"],[0.1,\"#c51b7d\"],[0.2,\"#de77ae\"],[0.3,\"#f1b6da\"],[0.4,\"#fde0ef\"],[0.5,\"#f7f7f7\"],[0.6,\"#e6f5d0\"],[0.7,\"#b8e186\"],[0.8,\"#7fbc41\"],[0.9,\"#4d9221\"],[1,\"#276419\"]],\"sequential\":[[0.0,\"#0d0887\"],[0.1111111111111111,\"#46039f\"],[0.2222222222222222,\"#7201a8\"],[0.3333333333333333,\"#9c179e\"],[0.4444444444444444,\"#bd3786\"],[0.5555555555555556,\"#d8576b\"],[0.6666666666666666,\"#ed7953\"],[0.7777777777777778,\"#fb9f3a\"],[0.8888888888888888,\"#fdca26\"],[1.0,\"#f0f921\"]],\"sequentialminus\":[[0.0,\"#0d0887\"],[0.1111111111111111,\"#46039f\"],[0.2222222222222222,\"#7201a8\"],[0.3333333333333333,\"#9c179e\"],[0.4444444444444444,\"#bd3786\"],[0.5555555555555556,\"#d8576b\"],[0.6666666666666666,\"#ed7953\"],[0.7777777777777778,\"#fb9f3a\"],[0.8888888888888888,\"#fdca26\"],[1.0,\"#f0f921\"]]},\"colorway\":[\"#636efa\",\"#EF553B\",\"#00cc96\",\"#ab63fa\",\"#FFA15A\",\"#19d3f3\",\"#FF6692\",\"#B6E880\",\"#FF97FF\",\"#FECB52\"],\"font\":{\"color\":\"#2a3f5f\"},\"geo\":{\"bgcolor\":\"white\",\"lakecolor\":\"white\",\"landcolor\":\"#E5ECF6\",\"showlakes\":true,\"showland\":true,\"subunitcolor\":\"white\"},\"hoverlabel\":{\"align\":\"left\"},\"hovermode\":\"closest\",\"mapbox\":{\"style\":\"light\"},\"paper_bgcolor\":\"white\",\"plot_bgcolor\":\"#E5ECF6\",\"polar\":{\"angularaxis\":{\"gridcolor\":\"white\",\"linecolor\":\"white\",\"ticks\":\"\"},\"bgcolor\":\"#E5ECF6\",\"radialaxis\":{\"gridcolor\":\"white\",\"linecolor\":\"white\",\"ticks\":\"\"}},\"scene\":{\"xaxis\":{\"backgroundcolor\":\"#E5ECF6\",\"gridcolor\":\"white\",\"gridwidth\":2,\"linecolor\":\"white\",\"showbackground\":true,\"ticks\":\"\",\"zerolinecolor\":\"white\"},\"yaxis\":{\"backgroundcolor\":\"#E5ECF6\",\"gridcolor\":\"white\",\"gridwidth\":2,\"linecolor\":\"white\",\"showbackground\":true,\"ticks\":\"\",\"zerolinecolor\":\"white\"},\"zaxis\":{\"backgroundcolor\":\"#E5ECF6\",\"gridcolor\":\"white\",\"gridwidth\":2,\"linecolor\":\"white\",\"showbackground\":true,\"ticks\":\"\",\"zerolinecolor\":\"white\"}},\"shapedefaults\":{\"line\":{\"color\":\"#2a3f5f\"}},\"ternary\":{\"aaxis\":{\"gridcolor\":\"white\",\"linecolor\":\"white\",\"ticks\":\"\"},\"baxis\":{\"gridcolor\":\"white\",\"linecolor\":\"white\",\"ticks\":\"\"},\"bgcolor\":\"#E5ECF6\",\"caxis\":{\"gridcolor\":\"white\",\"linecolor\":\"white\",\"ticks\":\"\"}},\"title\":{\"x\":0.05},\"xaxis\":{\"automargin\":true,\"gridcolor\":\"white\",\"linecolor\":\"white\",\"ticks\":\"\",\"title\":{\"standoff\":15},\"zerolinecolor\":\"white\",\"zerolinewidth\":2},\"yaxis\":{\"automargin\":true,\"gridcolor\":\"white\",\"linecolor\":\"white\",\"ticks\":\"\",\"title\":{\"standoff\":15},\"zerolinecolor\":\"white\",\"zerolinewidth\":2}}},\"xaxis\":{\"anchor\":\"y\",\"domain\":[0.0,1.0],\"title\":{\"text\":\"est_type\"}},\"yaxis\":{\"anchor\":\"x\",\"domain\":[0.0,1.0],\"title\":{\"text\":\"FIT\"}}},                        {\"responsive\": true}                    ).then(function(){\n",
       "                            \n",
       "var gd = document.getElementById('74360b37-7b00-4f82-aa7f-15af454b867d');\n",
       "var x = new MutationObserver(function (mutations, observer) {{\n",
       "        var display = window.getComputedStyle(gd).display;\n",
       "        if (!display || display === 'none') {{\n",
       "            console.log([gd, 'removed!']);\n",
       "            Plotly.purge(gd);\n",
       "            observer.disconnect();\n",
       "        }}\n",
       "}});\n",
       "\n",
       "// Listen for the removal of the full notebook cells\n",
       "var notebookContainer = gd.closest('#notebook-container');\n",
       "if (notebookContainer) {{\n",
       "    x.observe(notebookContainer, {childList: true});\n",
       "}}\n",
       "\n",
       "// Listen for the clearing of the current output cell\n",
       "var outputEl = gd.closest('.output');\n",
       "if (outputEl) {{\n",
       "    x.observe(outputEl, {childList: true});\n",
       "}}\n",
       "\n",
       "                        })                };                });            </script>        </div>"
      ]
     },
     "metadata": {},
     "output_type": "display_data"
    },
    {
     "data": {
      "application/vnd.plotly.v1+json": {
       "config": {
        "plotlyServerURL": "https://plot.ly"
       },
       "data": [
        {
         "alignmentgroup": "True",
         "customdata": [
          [
           1800,
           15
          ],
          [
           1800,
           15
          ],
          [
           1800,
           15
          ],
          [
           1800,
           15
          ],
          [
           1800,
           15
          ],
          [
           1800,
           15
          ],
          [
           1800,
           15
          ],
          [
           1800,
           15
          ],
          [
           1800,
           15
          ],
          [
           1800,
           15
          ],
          [
           1800,
           15
          ],
          [
           1800,
           15
          ],
          [
           1800,
           15
          ],
          [
           1800,
           15
          ],
          [
           1800,
           15
          ],
          [
           1800,
           15
          ],
          [
           1800,
           15
          ],
          [
           1800,
           15
          ],
          [
           1800,
           15
          ],
          [
           1800,
           15
          ],
          [
           1800,
           15
          ],
          [
           1800,
           15
          ],
          [
           1800,
           15
          ],
          [
           1800,
           15
          ],
          [
           1800,
           15
          ],
          [
           1800,
           15
          ],
          [
           1800,
           15
          ],
          [
           1800,
           15
          ],
          [
           1800,
           15
          ],
          [
           1800,
           15
          ],
          [
           1800,
           15
          ],
          [
           1800,
           15
          ],
          [
           1800,
           15
          ],
          [
           1800,
           15
          ],
          [
           1800,
           15
          ],
          [
           1800,
           15
          ],
          [
           1800,
           15
          ],
          [
           1800,
           15
          ],
          [
           1800,
           15
          ],
          [
           1800,
           15
          ],
          [
           1800,
           15
          ],
          [
           1800,
           15
          ],
          [
           1800,
           15
          ],
          [
           1800,
           15
          ],
          [
           300,
           15
          ],
          [
           1800,
           15
          ],
          [
           1800,
           15
          ],
          [
           1800,
           15
          ],
          [
           1800,
           15
          ],
          [
           1800,
           15
          ],
          [
           300,
           15
          ],
          [
           1800,
           15
          ],
          [
           1800,
           15
          ],
          [
           1800,
           15
          ],
          [
           1800,
           15
          ],
          [
           300,
           15
          ],
          [
           1800,
           15
          ],
          [
           1800,
           15
          ],
          [
           1800,
           15
          ],
          [
           1800,
           15
          ],
          [
           1800,
           15
          ],
          [
           300,
           15
          ],
          [
           300,
           15
          ],
          [
           300,
           15
          ],
          [
           1800,
           15
          ],
          [
           300,
           15
          ],
          [
           1800,
           15
          ],
          [
           300,
           15
          ],
          [
           1800,
           15
          ],
          [
           300,
           15
          ],
          [
           300,
           15
          ],
          [
           1800,
           15
          ],
          [
           1800,
           15
          ],
          [
           300,
           15
          ],
          [
           1800,
           15
          ],
          [
           1800,
           15
          ],
          [
           1800,
           15
          ],
          [
           1800,
           15
          ],
          [
           1800,
           15
          ],
          [
           300,
           15
          ],
          [
           1800,
           15
          ],
          [
           300,
           15
          ],
          [
           1800,
           15
          ],
          [
           300,
           15
          ],
          [
           1800,
           15
          ],
          [
           1800,
           15
          ],
          [
           1800,
           15
          ],
          [
           1800,
           15
          ],
          [
           1800,
           15
          ],
          [
           300,
           15
          ],
          [
           1800,
           15
          ],
          [
           1800,
           15
          ],
          [
           300,
           15
          ],
          [
           1800,
           15
          ],
          [
           300,
           15
          ],
          [
           300,
           15
          ],
          [
           1800,
           15
          ],
          [
           300,
           15
          ],
          [
           1800,
           15
          ],
          [
           1800,
           15
          ],
          [
           300,
           15
          ],
          [
           300,
           15
          ],
          [
           300,
           15
          ],
          [
           1800,
           15
          ],
          [
           1800,
           15
          ],
          [
           300,
           15
          ],
          [
           1800,
           15
          ],
          [
           1800,
           15
          ],
          [
           300,
           15
          ],
          [
           300,
           15
          ],
          [
           1800,
           15
          ],
          [
           300,
           15
          ],
          [
           300,
           15
          ],
          [
           1800,
           15
          ],
          [
           1800,
           15
          ],
          [
           1800,
           15
          ],
          [
           300,
           15
          ],
          [
           300,
           15
          ],
          [
           1800,
           15
          ],
          [
           300,
           15
          ],
          [
           300,
           15
          ],
          [
           1800,
           15
          ],
          [
           300,
           15
          ],
          [
           1800,
           15
          ],
          [
           300,
           15
          ],
          [
           1800,
           15
          ],
          [
           1800,
           15
          ],
          [
           1800,
           15
          ],
          [
           300,
           15
          ],
          [
           300,
           15
          ],
          [
           1800,
           15
          ],
          [
           300,
           15
          ],
          [
           300,
           15
          ],
          [
           1800,
           15
          ],
          [
           1800,
           15
          ],
          [
           1800,
           15
          ],
          [
           1800,
           15
          ],
          [
           1800,
           15
          ],
          [
           1800,
           15
          ],
          [
           1800,
           15
          ],
          [
           1800,
           15
          ],
          [
           1800,
           15
          ],
          [
           300,
           15
          ],
          [
           1800,
           15
          ],
          [
           1800,
           15
          ],
          [
           1800,
           15
          ],
          [
           300,
           15
          ],
          [
           300,
           15
          ],
          [
           1800,
           15
          ],
          [
           1800,
           15
          ],
          [
           1800,
           15
          ],
          [
           300,
           15
          ],
          [
           300,
           15
          ],
          [
           300,
           15
          ],
          [
           1800,
           15
          ],
          [
           1800,
           15
          ],
          [
           1800,
           15
          ],
          [
           300,
           15
          ],
          [
           1800,
           15
          ],
          [
           300,
           15
          ],
          [
           300,
           15
          ],
          [
           1800,
           15
          ],
          [
           300,
           15
          ],
          [
           300,
           15
          ],
          [
           300,
           15
          ],
          [
           300,
           15
          ],
          [
           1800,
           15
          ],
          [
           1800,
           15
          ],
          [
           300,
           15
          ],
          [
           300,
           15
          ],
          [
           300,
           15
          ],
          [
           1800,
           15
          ],
          [
           1800,
           15
          ],
          [
           1800,
           15
          ],
          [
           300,
           15
          ],
          [
           300,
           15
          ],
          [
           1800,
           15
          ],
          [
           300,
           15
          ],
          [
           300,
           15
          ],
          [
           1800,
           15
          ],
          [
           1800,
           15
          ],
          [
           300,
           15
          ],
          [
           300,
           15
          ],
          [
           300,
           15
          ],
          [
           300,
           15
          ],
          [
           300,
           15
          ],
          [
           300,
           15
          ],
          [
           300,
           15
          ],
          [
           300,
           15
          ],
          [
           300,
           15
          ],
          [
           300,
           15
          ],
          [
           300,
           15
          ],
          [
           300,
           15
          ],
          [
           300,
           15
          ],
          [
           300,
           15
          ],
          [
           300,
           15
          ],
          [
           300,
           15
          ],
          [
           300,
           15
          ],
          [
           1800,
           15
          ],
          [
           300,
           15
          ],
          [
           300,
           15
          ],
          [
           300,
           15
          ],
          [
           300,
           15
          ],
          [
           300,
           15
          ],
          [
           300,
           15
          ],
          [
           1800,
           15
          ],
          [
           1800,
           15
          ],
          [
           1800,
           15
          ],
          [
           300,
           15
          ],
          [
           300,
           15
          ],
          [
           1800,
           15
          ],
          [
           1800,
           15
          ],
          [
           300,
           15
          ],
          [
           300,
           15
          ],
          [
           1800,
           15
          ],
          [
           300,
           15
          ],
          [
           1800,
           15
          ],
          [
           300,
           15
          ],
          [
           1800,
           15
          ],
          [
           300,
           15
          ],
          [
           300,
           15
          ],
          [
           300,
           15
          ],
          [
           300,
           15
          ],
          [
           300,
           15
          ],
          [
           300,
           15
          ],
          [
           300,
           15
          ],
          [
           300,
           15
          ],
          [
           300,
           15
          ],
          [
           300,
           15
          ],
          [
           300,
           15
          ],
          [
           300,
           15
          ],
          [
           300,
           15
          ],
          [
           300,
           15
          ],
          [
           300,
           15
          ],
          [
           300,
           15
          ],
          [
           300,
           15
          ],
          [
           300,
           15
          ],
          [
           300,
           15
          ],
          [
           300,
           15
          ],
          [
           300,
           15
          ],
          [
           1800,
           15
          ],
          [
           300,
           15
          ],
          [
           300,
           15
          ],
          [
           300,
           15
          ],
          [
           1800,
           15
          ],
          [
           300,
           15
          ],
          [
           300,
           15
          ],
          [
           300,
           15
          ],
          [
           1800,
           15
          ],
          [
           300,
           15
          ],
          [
           300,
           15
          ],
          [
           300,
           15
          ],
          [
           1800,
           15
          ],
          [
           300,
           15
          ],
          [
           300,
           15
          ],
          [
           300,
           15
          ],
          [
           300,
           15
          ],
          [
           300,
           15
          ],
          [
           300,
           15
          ],
          [
           300,
           15
          ],
          [
           300,
           15
          ],
          [
           300,
           15
          ],
          [
           300,
           15
          ],
          [
           300,
           15
          ],
          [
           300,
           15
          ],
          [
           300,
           15
          ],
          [
           300,
           15
          ],
          [
           300,
           15
          ],
          [
           300,
           15
          ],
          [
           300,
           15
          ],
          [
           300,
           15
          ],
          [
           300,
           15
          ],
          [
           1800,
           15
          ],
          [
           300,
           15
          ],
          [
           1800,
           15
          ],
          [
           1800,
           15
          ],
          [
           1800,
           15
          ],
          [
           300,
           15
          ],
          [
           1800,
           15
          ],
          [
           300,
           15
          ],
          [
           300,
           15
          ],
          [
           300,
           15
          ],
          [
           300,
           15
          ],
          [
           300,
           15
          ],
          [
           1800,
           15
          ],
          [
           300,
           15
          ],
          [
           1800,
           15
          ],
          [
           300,
           15
          ]
         ],
         "hovertemplate": "lr=%{x}<br>FIT=%{y}<br>max_time=%{customdata[0]}<br>est_hidden_size=%{customdata[1]}<extra></extra>",
         "legendgroup": "",
         "marker": {
          "color": "#636efa"
         },
         "name": "",
         "notched": false,
         "offsetgroup": "",
         "orientation": "v",
         "showlegend": false,
         "type": "box",
         "x": [
          0.001,
          0.01,
          0.01,
          0.01,
          0.01,
          0.01,
          0.001,
          0.01,
          0.01,
          0.01,
          0.01,
          0.01,
          0.01,
          0.01,
          0.01,
          0.01,
          0.01,
          0.01,
          0.01,
          0.01,
          0.001,
          0.01,
          0.01,
          0.01,
          0.01,
          0.01,
          0.01,
          0.01,
          0.001,
          0.01,
          0.001,
          0.01,
          0.01,
          0.01,
          0.001,
          0.01,
          0.01,
          0.01,
          0.001,
          0.001,
          0.001,
          0.01,
          0.001,
          0.01,
          0.01,
          0.01,
          0.01,
          0.01,
          0.001,
          0.01,
          0.01,
          0.01,
          0.01,
          0.001,
          0.001,
          0.01,
          0.001,
          0.01,
          0.001,
          0.001,
          0.01,
          0.01,
          0.01,
          0.01,
          0.01,
          0.01,
          0.001,
          0.01,
          0.001,
          0.01,
          0.01,
          0.01,
          0.001,
          0.01,
          0.001,
          0.001,
          0.001,
          0.01,
          0.01,
          0.01,
          0.001,
          0.01,
          0.001,
          0.01,
          0.01,
          0.001,
          0.01,
          0.001,
          0.01,
          0.01,
          0.001,
          0.001,
          0.01,
          0.001,
          0.01,
          0.01,
          0.01,
          0.01,
          0.001,
          0.001,
          0.01,
          0.01,
          0.01,
          0.001,
          0.001,
          0.01,
          0.001,
          0.01,
          0.01,
          0.01,
          0.001,
          0.01,
          0.01,
          0.001,
          0.001,
          0.001,
          0.01,
          0.01,
          0.001,
          0.01,
          0.01,
          0.001,
          0.01,
          0.001,
          0.01,
          0.001,
          0.01,
          0.001,
          0.01,
          0.01,
          0.001,
          0.01,
          0.01,
          0.001,
          0.001,
          0.001,
          0.001,
          0.001,
          0.001,
          0.001,
          0.001,
          0.001,
          0.01,
          0.001,
          0.001,
          0.001,
          0.01,
          0.01,
          0.001,
          0.01,
          0.001,
          0.001,
          0.01,
          0.01,
          0.001,
          0.001,
          0.01,
          0.001,
          0.001,
          0.001,
          0.001,
          0.001,
          0.001,
          0.001,
          0.001,
          0.001,
          0.001,
          0.001,
          0.001,
          0.001,
          0.01,
          0.001,
          0.001,
          0.001,
          0.001,
          0.001,
          0.01,
          0.001,
          0.01,
          0.001,
          0.001,
          0.01,
          0.001,
          0.01,
          0.01,
          0.001,
          0.01,
          0.01,
          0.001,
          0.01,
          0.01,
          0.001,
          0.001,
          0.001,
          0.001,
          0.001,
          0.01,
          0.001,
          0.01,
          0.001,
          0.01,
          0.001,
          0.01,
          0.001,
          0.001,
          0.001,
          0.001,
          0.001,
          0.001,
          0.001,
          0.01,
          0.01,
          0.01,
          0.01,
          0.01,
          0.001,
          0.01,
          0.01,
          0.01,
          0.001,
          0.01,
          0.01,
          0.01,
          0.001,
          0.001,
          0.001,
          0.001,
          0.001,
          0.001,
          0.001,
          0.001,
          0.001,
          0.001,
          0.001,
          0.001,
          0.001,
          0.001,
          0.001,
          0.001,
          0.001,
          0.01,
          0.001,
          0.01,
          0.001,
          0.01,
          0.001,
          0.001,
          0.001,
          0.01,
          0.001,
          0.01,
          0.001,
          0.01,
          0.001,
          0.001,
          0.001,
          0.01,
          0.001,
          0.001,
          0.001,
          0.001,
          0.001,
          0.001,
          0.001,
          0.001,
          0.001,
          0.001,
          0.001,
          0.001,
          0.001,
          0.001,
          0.001,
          0.01,
          0.01,
          0.01,
          0.01,
          0.01,
          0.01,
          0.01,
          0.01,
          0.01,
          0.01,
          0.01,
          0.01,
          0.01,
          0.01,
          0.01,
          0.01
         ],
         "x0": " ",
         "xaxis": "x",
         "y": [
          98.58680725097656,
          98.54400634765624,
          98.53496551513672,
          98.4969482421875,
          98.4884262084961,
          98.4680633544922,
          98.46688079833984,
          98.46003723144533,
          98.45762634277344,
          98.44957733154295,
          98.44108581542967,
          98.39879608154295,
          98.39405059814452,
          98.38992309570312,
          98.38732147216795,
          98.34349060058594,
          98.34089660644533,
          98.3311004638672,
          98.32357788085938,
          98.30818939208984,
          98.2978057861328,
          98.2847137451172,
          98.2842254638672,
          98.2643814086914,
          98.26375579833984,
          98.26296997070312,
          98.24288177490234,
          98.23778533935548,
          98.2368392944336,
          98.22978973388672,
          98.22810363769533,
          98.223388671875,
          98.1858901977539,
          98.14122009277344,
          98.1392822265625,
          98.1307601928711,
          98.109130859375,
          98.09796905517578,
          98.089599609375,
          98.07433319091795,
          98.06573486328124,
          98.0548858642578,
          98.02249908447266,
          98.00109100341795,
          97.98046875,
          97.97256469726562,
          97.94593048095705,
          97.89498138427734,
          97.87517547607422,
          97.86749267578124,
          97.8382797241211,
          97.81996154785156,
          97.79443359375,
          97.79410552978516,
          97.76569366455078,
          97.7503433227539,
          97.7492904663086,
          97.7448959350586,
          97.62957763671876,
          97.60299682617188,
          97.6002426147461,
          97.56678771972656,
          97.55642700195312,
          97.51976776123048,
          97.50208282470705,
          97.50176239013672,
          97.49170684814452,
          97.48182678222656,
          97.4082260131836,
          97.38973236083984,
          97.3860321044922,
          97.37918853759766,
          97.35780334472656,
          97.33839416503906,
          97.33345794677734,
          97.30813598632812,
          97.26769256591795,
          97.25592803955078,
          97.2500228881836,
          97.2458038330078,
          97.21639251708984,
          97.2012176513672,
          97.19845581054688,
          97.17332458496094,
          97.10291290283205,
          97.06703186035156,
          97.0586929321289,
          97.0489501953125,
          97.02205657958984,
          97.00376892089844,
          97.00202941894533,
          96.99890899658205,
          96.96337890625,
          96.94878387451172,
          96.93067169189452,
          96.86779022216795,
          96.80670928955078,
          96.79696655273438,
          96.77342987060548,
          96.76136779785156,
          96.74951171875,
          96.72381591796876,
          96.7027816772461,
          96.68460083007812,
          96.66754150390624,
          96.66441345214844,
          96.60385131835938,
          96.59369659423828,
          96.56224060058594,
          96.5583953857422,
          96.52906036376952,
          96.5070571899414,
          96.46463775634766,
          96.44806671142578,
          96.44161987304688,
          96.41283416748048,
          96.41224670410156,
          96.3250961303711,
          96.30540466308594,
          96.28184509277344,
          96.26058959960938,
          96.22171020507812,
          96.19200134277344,
          96.14441680908205,
          96.12242889404295,
          96.12115478515624,
          96.1142349243164,
          96.11097717285156,
          96.08953857421876,
          96.05409240722656,
          96.04197692871094,
          96.0395965576172,
          96.03711700439452,
          96.03013610839844,
          96.02516174316406,
          96.00379180908205,
          96.00231170654295,
          95.97941589355467,
          95.96144104003906,
          95.95955657958984,
          95.90046691894533,
          95.87214660644533,
          95.83998107910156,
          95.83782196044922,
          95.82217407226562,
          95.81404113769533,
          95.794677734375,
          95.79283905029295,
          95.74341583251952,
          95.74041748046876,
          95.67951202392578,
          95.67823791503906,
          95.6724853515625,
          95.66205596923828,
          95.58983612060548,
          95.52284240722656,
          95.48313903808594,
          95.47371673583984,
          95.4578628540039,
          95.38463592529295,
          95.35894775390624,
          95.32396697998048,
          95.2631378173828,
          95.19278717041016,
          95.13353729248048,
          95.10485076904295,
          95.04939270019533,
          94.94505310058594,
          94.92473602294922,
          94.88628387451172,
          94.826171875,
          94.80684661865234,
          94.79309844970705,
          94.71673583984376,
          94.66151428222656,
          94.64602661132812,
          94.5956573486328,
          94.571044921875,
          94.54354858398438,
          94.53494262695312,
          94.5332260131836,
          94.4521255493164,
          94.43880462646484,
          94.36531066894533,
          94.30842590332033,
          94.30818176269533,
          94.25230407714844,
          94.14578247070312,
          94.14337158203124,
          94.06350708007812,
          94.02220916748048,
          93.90574645996094,
          93.83489227294922,
          93.8100814819336,
          93.75218963623048,
          93.6327667236328,
          93.58039093017578,
          93.55696105957033,
          93.40180206298828,
          93.36802673339844,
          93.33170318603516,
          93.30973815917967,
          93.3071746826172,
          93.26336669921876,
          93.15957641601562,
          93.10594940185548,
          93.06950378417967,
          93.02685546875,
          93.00537109375,
          92.95830535888672,
          92.8463134765625,
          92.83831024169922,
          92.82573699951172,
          92.81810760498048,
          92.76483917236328,
          92.7301025390625,
          92.72718048095705,
          92.5580062866211,
          92.52721405029295,
          92.49607849121094,
          92.48625946044922,
          92.40475463867188,
          92.35808563232422,
          92.34676361083984,
          92.1929702758789,
          92.1386489868164,
          92.0679168701172,
          91.81803894042967,
          91.77867889404295,
          91.55833435058594,
          91.15612030029295,
          90.90785217285156,
          90.60907745361328,
          90.33795928955078,
          90.24122619628906,
          90.20700073242188,
          90.19969940185548,
          90.08551025390624,
          90.06961822509766,
          89.92375183105469,
          89.52302551269531,
          89.47547912597656,
          89.4087905883789,
          89.37981414794922,
          89.30560302734375,
          89.30057525634766,
          89.26510620117188,
          89.09001922607422,
          89.03380584716797,
          88.60636138916016,
          88.43577575683594,
          88.38751220703125,
          88.33271026611328,
          88.3292236328125,
          88.06825256347656,
          87.9871826171875,
          87.98604583740234,
          87.85369873046875,
          87.81255340576172,
          87.74431610107422,
          87.417724609375,
          87.23623657226562,
          86.41252899169922,
          86.24456787109375,
          86.23270416259766,
          86.15328216552734,
          85.98072052001953,
          85.96220397949219,
          85.88803100585938,
          85.83757019042969,
          84.37820434570312,
          76.86139678955078,
          0,
          0,
          0,
          0,
          0,
          0,
          0,
          0,
          0,
          0,
          0,
          0,
          0,
          0,
          0,
          0
         ],
         "y0": " ",
         "yaxis": "y"
        }
       ],
       "layout": {
        "boxmode": "group",
        "legend": {
         "tracegroupgap": 0
        },
        "margin": {
         "t": 60
        },
        "template": {
         "data": {
          "bar": [
           {
            "error_x": {
             "color": "#2a3f5f"
            },
            "error_y": {
             "color": "#2a3f5f"
            },
            "marker": {
             "line": {
              "color": "#E5ECF6",
              "width": 0.5
             },
             "pattern": {
              "fillmode": "overlay",
              "size": 10,
              "solidity": 0.2
             }
            },
            "type": "bar"
           }
          ],
          "barpolar": [
           {
            "marker": {
             "line": {
              "color": "#E5ECF6",
              "width": 0.5
             },
             "pattern": {
              "fillmode": "overlay",
              "size": 10,
              "solidity": 0.2
             }
            },
            "type": "barpolar"
           }
          ],
          "carpet": [
           {
            "aaxis": {
             "endlinecolor": "#2a3f5f",
             "gridcolor": "white",
             "linecolor": "white",
             "minorgridcolor": "white",
             "startlinecolor": "#2a3f5f"
            },
            "baxis": {
             "endlinecolor": "#2a3f5f",
             "gridcolor": "white",
             "linecolor": "white",
             "minorgridcolor": "white",
             "startlinecolor": "#2a3f5f"
            },
            "type": "carpet"
           }
          ],
          "choropleth": [
           {
            "colorbar": {
             "outlinewidth": 0,
             "ticks": ""
            },
            "type": "choropleth"
           }
          ],
          "contour": [
           {
            "colorbar": {
             "outlinewidth": 0,
             "ticks": ""
            },
            "colorscale": [
             [
              0,
              "#0d0887"
             ],
             [
              0.1111111111111111,
              "#46039f"
             ],
             [
              0.2222222222222222,
              "#7201a8"
             ],
             [
              0.3333333333333333,
              "#9c179e"
             ],
             [
              0.4444444444444444,
              "#bd3786"
             ],
             [
              0.5555555555555556,
              "#d8576b"
             ],
             [
              0.6666666666666666,
              "#ed7953"
             ],
             [
              0.7777777777777778,
              "#fb9f3a"
             ],
             [
              0.8888888888888888,
              "#fdca26"
             ],
             [
              1,
              "#f0f921"
             ]
            ],
            "type": "contour"
           }
          ],
          "contourcarpet": [
           {
            "colorbar": {
             "outlinewidth": 0,
             "ticks": ""
            },
            "type": "contourcarpet"
           }
          ],
          "heatmap": [
           {
            "colorbar": {
             "outlinewidth": 0,
             "ticks": ""
            },
            "colorscale": [
             [
              0,
              "#0d0887"
             ],
             [
              0.1111111111111111,
              "#46039f"
             ],
             [
              0.2222222222222222,
              "#7201a8"
             ],
             [
              0.3333333333333333,
              "#9c179e"
             ],
             [
              0.4444444444444444,
              "#bd3786"
             ],
             [
              0.5555555555555556,
              "#d8576b"
             ],
             [
              0.6666666666666666,
              "#ed7953"
             ],
             [
              0.7777777777777778,
              "#fb9f3a"
             ],
             [
              0.8888888888888888,
              "#fdca26"
             ],
             [
              1,
              "#f0f921"
             ]
            ],
            "type": "heatmap"
           }
          ],
          "heatmapgl": [
           {
            "colorbar": {
             "outlinewidth": 0,
             "ticks": ""
            },
            "colorscale": [
             [
              0,
              "#0d0887"
             ],
             [
              0.1111111111111111,
              "#46039f"
             ],
             [
              0.2222222222222222,
              "#7201a8"
             ],
             [
              0.3333333333333333,
              "#9c179e"
             ],
             [
              0.4444444444444444,
              "#bd3786"
             ],
             [
              0.5555555555555556,
              "#d8576b"
             ],
             [
              0.6666666666666666,
              "#ed7953"
             ],
             [
              0.7777777777777778,
              "#fb9f3a"
             ],
             [
              0.8888888888888888,
              "#fdca26"
             ],
             [
              1,
              "#f0f921"
             ]
            ],
            "type": "heatmapgl"
           }
          ],
          "histogram": [
           {
            "marker": {
             "pattern": {
              "fillmode": "overlay",
              "size": 10,
              "solidity": 0.2
             }
            },
            "type": "histogram"
           }
          ],
          "histogram2d": [
           {
            "colorbar": {
             "outlinewidth": 0,
             "ticks": ""
            },
            "colorscale": [
             [
              0,
              "#0d0887"
             ],
             [
              0.1111111111111111,
              "#46039f"
             ],
             [
              0.2222222222222222,
              "#7201a8"
             ],
             [
              0.3333333333333333,
              "#9c179e"
             ],
             [
              0.4444444444444444,
              "#bd3786"
             ],
             [
              0.5555555555555556,
              "#d8576b"
             ],
             [
              0.6666666666666666,
              "#ed7953"
             ],
             [
              0.7777777777777778,
              "#fb9f3a"
             ],
             [
              0.8888888888888888,
              "#fdca26"
             ],
             [
              1,
              "#f0f921"
             ]
            ],
            "type": "histogram2d"
           }
          ],
          "histogram2dcontour": [
           {
            "colorbar": {
             "outlinewidth": 0,
             "ticks": ""
            },
            "colorscale": [
             [
              0,
              "#0d0887"
             ],
             [
              0.1111111111111111,
              "#46039f"
             ],
             [
              0.2222222222222222,
              "#7201a8"
             ],
             [
              0.3333333333333333,
              "#9c179e"
             ],
             [
              0.4444444444444444,
              "#bd3786"
             ],
             [
              0.5555555555555556,
              "#d8576b"
             ],
             [
              0.6666666666666666,
              "#ed7953"
             ],
             [
              0.7777777777777778,
              "#fb9f3a"
             ],
             [
              0.8888888888888888,
              "#fdca26"
             ],
             [
              1,
              "#f0f921"
             ]
            ],
            "type": "histogram2dcontour"
           }
          ],
          "mesh3d": [
           {
            "colorbar": {
             "outlinewidth": 0,
             "ticks": ""
            },
            "type": "mesh3d"
           }
          ],
          "parcoords": [
           {
            "line": {
             "colorbar": {
              "outlinewidth": 0,
              "ticks": ""
             }
            },
            "type": "parcoords"
           }
          ],
          "pie": [
           {
            "automargin": true,
            "type": "pie"
           }
          ],
          "scatter": [
           {
            "marker": {
             "colorbar": {
              "outlinewidth": 0,
              "ticks": ""
             }
            },
            "type": "scatter"
           }
          ],
          "scatter3d": [
           {
            "line": {
             "colorbar": {
              "outlinewidth": 0,
              "ticks": ""
             }
            },
            "marker": {
             "colorbar": {
              "outlinewidth": 0,
              "ticks": ""
             }
            },
            "type": "scatter3d"
           }
          ],
          "scattercarpet": [
           {
            "marker": {
             "colorbar": {
              "outlinewidth": 0,
              "ticks": ""
             }
            },
            "type": "scattercarpet"
           }
          ],
          "scattergeo": [
           {
            "marker": {
             "colorbar": {
              "outlinewidth": 0,
              "ticks": ""
             }
            },
            "type": "scattergeo"
           }
          ],
          "scattergl": [
           {
            "marker": {
             "colorbar": {
              "outlinewidth": 0,
              "ticks": ""
             }
            },
            "type": "scattergl"
           }
          ],
          "scattermapbox": [
           {
            "marker": {
             "colorbar": {
              "outlinewidth": 0,
              "ticks": ""
             }
            },
            "type": "scattermapbox"
           }
          ],
          "scatterpolar": [
           {
            "marker": {
             "colorbar": {
              "outlinewidth": 0,
              "ticks": ""
             }
            },
            "type": "scatterpolar"
           }
          ],
          "scatterpolargl": [
           {
            "marker": {
             "colorbar": {
              "outlinewidth": 0,
              "ticks": ""
             }
            },
            "type": "scatterpolargl"
           }
          ],
          "scatterternary": [
           {
            "marker": {
             "colorbar": {
              "outlinewidth": 0,
              "ticks": ""
             }
            },
            "type": "scatterternary"
           }
          ],
          "surface": [
           {
            "colorbar": {
             "outlinewidth": 0,
             "ticks": ""
            },
            "colorscale": [
             [
              0,
              "#0d0887"
             ],
             [
              0.1111111111111111,
              "#46039f"
             ],
             [
              0.2222222222222222,
              "#7201a8"
             ],
             [
              0.3333333333333333,
              "#9c179e"
             ],
             [
              0.4444444444444444,
              "#bd3786"
             ],
             [
              0.5555555555555556,
              "#d8576b"
             ],
             [
              0.6666666666666666,
              "#ed7953"
             ],
             [
              0.7777777777777778,
              "#fb9f3a"
             ],
             [
              0.8888888888888888,
              "#fdca26"
             ],
             [
              1,
              "#f0f921"
             ]
            ],
            "type": "surface"
           }
          ],
          "table": [
           {
            "cells": {
             "fill": {
              "color": "#EBF0F8"
             },
             "line": {
              "color": "white"
             }
            },
            "header": {
             "fill": {
              "color": "#C8D4E3"
             },
             "line": {
              "color": "white"
             }
            },
            "type": "table"
           }
          ]
         },
         "layout": {
          "annotationdefaults": {
           "arrowcolor": "#2a3f5f",
           "arrowhead": 0,
           "arrowwidth": 1
          },
          "autotypenumbers": "strict",
          "coloraxis": {
           "colorbar": {
            "outlinewidth": 0,
            "ticks": ""
           }
          },
          "colorscale": {
           "diverging": [
            [
             0,
             "#8e0152"
            ],
            [
             0.1,
             "#c51b7d"
            ],
            [
             0.2,
             "#de77ae"
            ],
            [
             0.3,
             "#f1b6da"
            ],
            [
             0.4,
             "#fde0ef"
            ],
            [
             0.5,
             "#f7f7f7"
            ],
            [
             0.6,
             "#e6f5d0"
            ],
            [
             0.7,
             "#b8e186"
            ],
            [
             0.8,
             "#7fbc41"
            ],
            [
             0.9,
             "#4d9221"
            ],
            [
             1,
             "#276419"
            ]
           ],
           "sequential": [
            [
             0,
             "#0d0887"
            ],
            [
             0.1111111111111111,
             "#46039f"
            ],
            [
             0.2222222222222222,
             "#7201a8"
            ],
            [
             0.3333333333333333,
             "#9c179e"
            ],
            [
             0.4444444444444444,
             "#bd3786"
            ],
            [
             0.5555555555555556,
             "#d8576b"
            ],
            [
             0.6666666666666666,
             "#ed7953"
            ],
            [
             0.7777777777777778,
             "#fb9f3a"
            ],
            [
             0.8888888888888888,
             "#fdca26"
            ],
            [
             1,
             "#f0f921"
            ]
           ],
           "sequentialminus": [
            [
             0,
             "#0d0887"
            ],
            [
             0.1111111111111111,
             "#46039f"
            ],
            [
             0.2222222222222222,
             "#7201a8"
            ],
            [
             0.3333333333333333,
             "#9c179e"
            ],
            [
             0.4444444444444444,
             "#bd3786"
            ],
            [
             0.5555555555555556,
             "#d8576b"
            ],
            [
             0.6666666666666666,
             "#ed7953"
            ],
            [
             0.7777777777777778,
             "#fb9f3a"
            ],
            [
             0.8888888888888888,
             "#fdca26"
            ],
            [
             1,
             "#f0f921"
            ]
           ]
          },
          "colorway": [
           "#636efa",
           "#EF553B",
           "#00cc96",
           "#ab63fa",
           "#FFA15A",
           "#19d3f3",
           "#FF6692",
           "#B6E880",
           "#FF97FF",
           "#FECB52"
          ],
          "font": {
           "color": "#2a3f5f"
          },
          "geo": {
           "bgcolor": "white",
           "lakecolor": "white",
           "landcolor": "#E5ECF6",
           "showlakes": true,
           "showland": true,
           "subunitcolor": "white"
          },
          "hoverlabel": {
           "align": "left"
          },
          "hovermode": "closest",
          "mapbox": {
           "style": "light"
          },
          "paper_bgcolor": "white",
          "plot_bgcolor": "#E5ECF6",
          "polar": {
           "angularaxis": {
            "gridcolor": "white",
            "linecolor": "white",
            "ticks": ""
           },
           "bgcolor": "#E5ECF6",
           "radialaxis": {
            "gridcolor": "white",
            "linecolor": "white",
            "ticks": ""
           }
          },
          "scene": {
           "xaxis": {
            "backgroundcolor": "#E5ECF6",
            "gridcolor": "white",
            "gridwidth": 2,
            "linecolor": "white",
            "showbackground": true,
            "ticks": "",
            "zerolinecolor": "white"
           },
           "yaxis": {
            "backgroundcolor": "#E5ECF6",
            "gridcolor": "white",
            "gridwidth": 2,
            "linecolor": "white",
            "showbackground": true,
            "ticks": "",
            "zerolinecolor": "white"
           },
           "zaxis": {
            "backgroundcolor": "#E5ECF6",
            "gridcolor": "white",
            "gridwidth": 2,
            "linecolor": "white",
            "showbackground": true,
            "ticks": "",
            "zerolinecolor": "white"
           }
          },
          "shapedefaults": {
           "line": {
            "color": "#2a3f5f"
           }
          },
          "ternary": {
           "aaxis": {
            "gridcolor": "white",
            "linecolor": "white",
            "ticks": ""
           },
           "baxis": {
            "gridcolor": "white",
            "linecolor": "white",
            "ticks": ""
           },
           "bgcolor": "#E5ECF6",
           "caxis": {
            "gridcolor": "white",
            "linecolor": "white",
            "ticks": ""
           }
          },
          "title": {
           "x": 0.05
          },
          "xaxis": {
           "automargin": true,
           "gridcolor": "white",
           "linecolor": "white",
           "ticks": "",
           "title": {
            "standoff": 15
           },
           "zerolinecolor": "white",
           "zerolinewidth": 2
          },
          "yaxis": {
           "automargin": true,
           "gridcolor": "white",
           "linecolor": "white",
           "ticks": "",
           "title": {
            "standoff": 15
           },
           "zerolinecolor": "white",
           "zerolinewidth": 2
          }
         }
        },
        "xaxis": {
         "anchor": "y",
         "domain": [
          0,
          1
         ],
         "title": {
          "text": "lr"
         }
        },
        "yaxis": {
         "anchor": "x",
         "domain": [
          0,
          1
         ],
         "title": {
          "text": "FIT"
         }
        }
       }
      },
      "text/html": [
       "<div>                            <div id=\"c87bb310-e13e-4c4b-95f8-d63216d2a79d\" class=\"plotly-graph-div\" style=\"height:525px; width:100%;\"></div>            <script type=\"text/javascript\">                require([\"plotly\"], function(Plotly) {                    window.PLOTLYENV=window.PLOTLYENV || {};                                    if (document.getElementById(\"c87bb310-e13e-4c4b-95f8-d63216d2a79d\")) {                    Plotly.newPlot(                        \"c87bb310-e13e-4c4b-95f8-d63216d2a79d\",                        [{\"alignmentgroup\":\"True\",\"customdata\":[[1800,15],[1800,15],[1800,15],[1800,15],[1800,15],[1800,15],[1800,15],[1800,15],[1800,15],[1800,15],[1800,15],[1800,15],[1800,15],[1800,15],[1800,15],[1800,15],[1800,15],[1800,15],[1800,15],[1800,15],[1800,15],[1800,15],[1800,15],[1800,15],[1800,15],[1800,15],[1800,15],[1800,15],[1800,15],[1800,15],[1800,15],[1800,15],[1800,15],[1800,15],[1800,15],[1800,15],[1800,15],[1800,15],[1800,15],[1800,15],[1800,15],[1800,15],[1800,15],[1800,15],[300,15],[1800,15],[1800,15],[1800,15],[1800,15],[1800,15],[300,15],[1800,15],[1800,15],[1800,15],[1800,15],[300,15],[1800,15],[1800,15],[1800,15],[1800,15],[1800,15],[300,15],[300,15],[300,15],[1800,15],[300,15],[1800,15],[300,15],[1800,15],[300,15],[300,15],[1800,15],[1800,15],[300,15],[1800,15],[1800,15],[1800,15],[1800,15],[1800,15],[300,15],[1800,15],[300,15],[1800,15],[300,15],[1800,15],[1800,15],[1800,15],[1800,15],[1800,15],[300,15],[1800,15],[1800,15],[300,15],[1800,15],[300,15],[300,15],[1800,15],[300,15],[1800,15],[1800,15],[300,15],[300,15],[300,15],[1800,15],[1800,15],[300,15],[1800,15],[1800,15],[300,15],[300,15],[1800,15],[300,15],[300,15],[1800,15],[1800,15],[1800,15],[300,15],[300,15],[1800,15],[300,15],[300,15],[1800,15],[300,15],[1800,15],[300,15],[1800,15],[1800,15],[1800,15],[300,15],[300,15],[1800,15],[300,15],[300,15],[1800,15],[1800,15],[1800,15],[1800,15],[1800,15],[1800,15],[1800,15],[1800,15],[1800,15],[300,15],[1800,15],[1800,15],[1800,15],[300,15],[300,15],[1800,15],[1800,15],[1800,15],[300,15],[300,15],[300,15],[1800,15],[1800,15],[1800,15],[300,15],[1800,15],[300,15],[300,15],[1800,15],[300,15],[300,15],[300,15],[300,15],[1800,15],[1800,15],[300,15],[300,15],[300,15],[1800,15],[1800,15],[1800,15],[300,15],[300,15],[1800,15],[300,15],[300,15],[1800,15],[1800,15],[300,15],[300,15],[300,15],[300,15],[300,15],[300,15],[300,15],[300,15],[300,15],[300,15],[300,15],[300,15],[300,15],[300,15],[300,15],[300,15],[300,15],[1800,15],[300,15],[300,15],[300,15],[300,15],[300,15],[300,15],[1800,15],[1800,15],[1800,15],[300,15],[300,15],[1800,15],[1800,15],[300,15],[300,15],[1800,15],[300,15],[1800,15],[300,15],[1800,15],[300,15],[300,15],[300,15],[300,15],[300,15],[300,15],[300,15],[300,15],[300,15],[300,15],[300,15],[300,15],[300,15],[300,15],[300,15],[300,15],[300,15],[300,15],[300,15],[300,15],[300,15],[1800,15],[300,15],[300,15],[300,15],[1800,15],[300,15],[300,15],[300,15],[1800,15],[300,15],[300,15],[300,15],[1800,15],[300,15],[300,15],[300,15],[300,15],[300,15],[300,15],[300,15],[300,15],[300,15],[300,15],[300,15],[300,15],[300,15],[300,15],[300,15],[300,15],[300,15],[300,15],[300,15],[1800,15],[300,15],[1800,15],[1800,15],[1800,15],[300,15],[1800,15],[300,15],[300,15],[300,15],[300,15],[300,15],[1800,15],[300,15],[1800,15],[300,15]],\"hovertemplate\":\"lr=%{x}<br>FIT=%{y}<br>max_time=%{customdata[0]}<br>est_hidden_size=%{customdata[1]}<extra></extra>\",\"legendgroup\":\"\",\"marker\":{\"color\":\"#636efa\"},\"name\":\"\",\"notched\":false,\"offsetgroup\":\"\",\"orientation\":\"v\",\"showlegend\":false,\"type\":\"box\",\"x\":[0.001,0.01,0.01,0.01,0.01,0.01,0.001,0.01,0.01,0.01,0.01,0.01,0.01,0.01,0.01,0.01,0.01,0.01,0.01,0.01,0.001,0.01,0.01,0.01,0.01,0.01,0.01,0.01,0.001,0.01,0.001,0.01,0.01,0.01,0.001,0.01,0.01,0.01,0.001,0.001,0.001,0.01,0.001,0.01,0.01,0.01,0.01,0.01,0.001,0.01,0.01,0.01,0.01,0.001,0.001,0.01,0.001,0.01,0.001,0.001,0.01,0.01,0.01,0.01,0.01,0.01,0.001,0.01,0.001,0.01,0.01,0.01,0.001,0.01,0.001,0.001,0.001,0.01,0.01,0.01,0.001,0.01,0.001,0.01,0.01,0.001,0.01,0.001,0.01,0.01,0.001,0.001,0.01,0.001,0.01,0.01,0.01,0.01,0.001,0.001,0.01,0.01,0.01,0.001,0.001,0.01,0.001,0.01,0.01,0.01,0.001,0.01,0.01,0.001,0.001,0.001,0.01,0.01,0.001,0.01,0.01,0.001,0.01,0.001,0.01,0.001,0.01,0.001,0.01,0.01,0.001,0.01,0.01,0.001,0.001,0.001,0.001,0.001,0.001,0.001,0.001,0.001,0.01,0.001,0.001,0.001,0.01,0.01,0.001,0.01,0.001,0.001,0.01,0.01,0.001,0.001,0.01,0.001,0.001,0.001,0.001,0.001,0.001,0.001,0.001,0.001,0.001,0.001,0.001,0.001,0.01,0.001,0.001,0.001,0.001,0.001,0.01,0.001,0.01,0.001,0.001,0.01,0.001,0.01,0.01,0.001,0.01,0.01,0.001,0.01,0.01,0.001,0.001,0.001,0.001,0.001,0.01,0.001,0.01,0.001,0.01,0.001,0.01,0.001,0.001,0.001,0.001,0.001,0.001,0.001,0.01,0.01,0.01,0.01,0.01,0.001,0.01,0.01,0.01,0.001,0.01,0.01,0.01,0.001,0.001,0.001,0.001,0.001,0.001,0.001,0.001,0.001,0.001,0.001,0.001,0.001,0.001,0.001,0.001,0.001,0.01,0.001,0.01,0.001,0.01,0.001,0.001,0.001,0.01,0.001,0.01,0.001,0.01,0.001,0.001,0.001,0.01,0.001,0.001,0.001,0.001,0.001,0.001,0.001,0.001,0.001,0.001,0.001,0.001,0.001,0.001,0.001,0.01,0.01,0.01,0.01,0.01,0.01,0.01,0.01,0.01,0.01,0.01,0.01,0.01,0.01,0.01,0.01],\"x0\":\" \",\"xaxis\":\"x\",\"y\":[98.58680725097656,98.54400634765624,98.53496551513672,98.4969482421875,98.4884262084961,98.4680633544922,98.46688079833984,98.46003723144533,98.45762634277344,98.44957733154295,98.44108581542967,98.39879608154295,98.39405059814452,98.38992309570312,98.38732147216795,98.34349060058594,98.34089660644533,98.3311004638672,98.32357788085938,98.30818939208984,98.2978057861328,98.2847137451172,98.2842254638672,98.2643814086914,98.26375579833984,98.26296997070312,98.24288177490234,98.23778533935548,98.2368392944336,98.22978973388672,98.22810363769533,98.223388671875,98.1858901977539,98.14122009277344,98.1392822265625,98.1307601928711,98.109130859375,98.09796905517578,98.089599609375,98.07433319091795,98.06573486328124,98.0548858642578,98.02249908447266,98.00109100341795,97.98046875,97.97256469726562,97.94593048095705,97.89498138427734,97.87517547607422,97.86749267578124,97.8382797241211,97.81996154785156,97.79443359375,97.79410552978516,97.76569366455078,97.7503433227539,97.7492904663086,97.7448959350586,97.62957763671876,97.60299682617188,97.6002426147461,97.56678771972656,97.55642700195312,97.51976776123048,97.50208282470705,97.50176239013672,97.49170684814452,97.48182678222656,97.4082260131836,97.38973236083984,97.3860321044922,97.37918853759766,97.35780334472656,97.33839416503906,97.33345794677734,97.30813598632812,97.26769256591795,97.25592803955078,97.2500228881836,97.2458038330078,97.21639251708984,97.2012176513672,97.19845581054688,97.17332458496094,97.10291290283205,97.06703186035156,97.0586929321289,97.0489501953125,97.02205657958984,97.00376892089844,97.00202941894533,96.99890899658205,96.96337890625,96.94878387451172,96.93067169189452,96.86779022216795,96.80670928955078,96.79696655273438,96.77342987060548,96.76136779785156,96.74951171875,96.72381591796876,96.7027816772461,96.68460083007812,96.66754150390624,96.66441345214844,96.60385131835938,96.59369659423828,96.56224060058594,96.5583953857422,96.52906036376952,96.5070571899414,96.46463775634766,96.44806671142578,96.44161987304688,96.41283416748048,96.41224670410156,96.3250961303711,96.30540466308594,96.28184509277344,96.26058959960938,96.22171020507812,96.19200134277344,96.14441680908205,96.12242889404295,96.12115478515624,96.1142349243164,96.11097717285156,96.08953857421876,96.05409240722656,96.04197692871094,96.0395965576172,96.03711700439452,96.03013610839844,96.02516174316406,96.00379180908205,96.00231170654295,95.97941589355467,95.96144104003906,95.95955657958984,95.90046691894533,95.87214660644533,95.83998107910156,95.83782196044922,95.82217407226562,95.81404113769533,95.794677734375,95.79283905029295,95.74341583251952,95.74041748046876,95.67951202392578,95.67823791503906,95.6724853515625,95.66205596923828,95.58983612060548,95.52284240722656,95.48313903808594,95.47371673583984,95.4578628540039,95.38463592529295,95.35894775390624,95.32396697998048,95.2631378173828,95.19278717041016,95.13353729248048,95.10485076904295,95.04939270019533,94.94505310058594,94.92473602294922,94.88628387451172,94.826171875,94.80684661865234,94.79309844970705,94.71673583984376,94.66151428222656,94.64602661132812,94.5956573486328,94.571044921875,94.54354858398438,94.53494262695312,94.5332260131836,94.4521255493164,94.43880462646484,94.36531066894533,94.30842590332033,94.30818176269533,94.25230407714844,94.14578247070312,94.14337158203124,94.06350708007812,94.02220916748048,93.90574645996094,93.83489227294922,93.8100814819336,93.75218963623048,93.6327667236328,93.58039093017578,93.55696105957033,93.40180206298828,93.36802673339844,93.33170318603516,93.30973815917967,93.3071746826172,93.26336669921876,93.15957641601562,93.10594940185548,93.06950378417967,93.02685546875,93.00537109375,92.95830535888672,92.8463134765625,92.83831024169922,92.82573699951172,92.81810760498048,92.76483917236328,92.7301025390625,92.72718048095705,92.5580062866211,92.52721405029295,92.49607849121094,92.48625946044922,92.40475463867188,92.35808563232422,92.34676361083984,92.1929702758789,92.1386489868164,92.0679168701172,91.81803894042967,91.77867889404295,91.55833435058594,91.15612030029295,90.90785217285156,90.60907745361328,90.33795928955078,90.24122619628906,90.20700073242188,90.19969940185548,90.08551025390624,90.06961822509766,89.92375183105469,89.52302551269531,89.47547912597656,89.4087905883789,89.37981414794922,89.30560302734375,89.30057525634766,89.26510620117188,89.09001922607422,89.03380584716797,88.60636138916016,88.43577575683594,88.38751220703125,88.33271026611328,88.3292236328125,88.06825256347656,87.9871826171875,87.98604583740234,87.85369873046875,87.81255340576172,87.74431610107422,87.417724609375,87.23623657226562,86.41252899169922,86.24456787109375,86.23270416259766,86.15328216552734,85.98072052001953,85.96220397949219,85.88803100585938,85.83757019042969,84.37820434570312,76.86139678955078,0.0,0.0,0.0,0.0,0.0,0.0,0.0,0.0,0.0,0.0,0.0,0.0,0.0,0.0,0.0,0.0],\"y0\":\" \",\"yaxis\":\"y\"}],                        {\"boxmode\":\"group\",\"legend\":{\"tracegroupgap\":0},\"margin\":{\"t\":60},\"template\":{\"data\":{\"bar\":[{\"error_x\":{\"color\":\"#2a3f5f\"},\"error_y\":{\"color\":\"#2a3f5f\"},\"marker\":{\"line\":{\"color\":\"#E5ECF6\",\"width\":0.5},\"pattern\":{\"fillmode\":\"overlay\",\"size\":10,\"solidity\":0.2}},\"type\":\"bar\"}],\"barpolar\":[{\"marker\":{\"line\":{\"color\":\"#E5ECF6\",\"width\":0.5},\"pattern\":{\"fillmode\":\"overlay\",\"size\":10,\"solidity\":0.2}},\"type\":\"barpolar\"}],\"carpet\":[{\"aaxis\":{\"endlinecolor\":\"#2a3f5f\",\"gridcolor\":\"white\",\"linecolor\":\"white\",\"minorgridcolor\":\"white\",\"startlinecolor\":\"#2a3f5f\"},\"baxis\":{\"endlinecolor\":\"#2a3f5f\",\"gridcolor\":\"white\",\"linecolor\":\"white\",\"minorgridcolor\":\"white\",\"startlinecolor\":\"#2a3f5f\"},\"type\":\"carpet\"}],\"choropleth\":[{\"colorbar\":{\"outlinewidth\":0,\"ticks\":\"\"},\"type\":\"choropleth\"}],\"contour\":[{\"colorbar\":{\"outlinewidth\":0,\"ticks\":\"\"},\"colorscale\":[[0.0,\"#0d0887\"],[0.1111111111111111,\"#46039f\"],[0.2222222222222222,\"#7201a8\"],[0.3333333333333333,\"#9c179e\"],[0.4444444444444444,\"#bd3786\"],[0.5555555555555556,\"#d8576b\"],[0.6666666666666666,\"#ed7953\"],[0.7777777777777778,\"#fb9f3a\"],[0.8888888888888888,\"#fdca26\"],[1.0,\"#f0f921\"]],\"type\":\"contour\"}],\"contourcarpet\":[{\"colorbar\":{\"outlinewidth\":0,\"ticks\":\"\"},\"type\":\"contourcarpet\"}],\"heatmap\":[{\"colorbar\":{\"outlinewidth\":0,\"ticks\":\"\"},\"colorscale\":[[0.0,\"#0d0887\"],[0.1111111111111111,\"#46039f\"],[0.2222222222222222,\"#7201a8\"],[0.3333333333333333,\"#9c179e\"],[0.4444444444444444,\"#bd3786\"],[0.5555555555555556,\"#d8576b\"],[0.6666666666666666,\"#ed7953\"],[0.7777777777777778,\"#fb9f3a\"],[0.8888888888888888,\"#fdca26\"],[1.0,\"#f0f921\"]],\"type\":\"heatmap\"}],\"heatmapgl\":[{\"colorbar\":{\"outlinewidth\":0,\"ticks\":\"\"},\"colorscale\":[[0.0,\"#0d0887\"],[0.1111111111111111,\"#46039f\"],[0.2222222222222222,\"#7201a8\"],[0.3333333333333333,\"#9c179e\"],[0.4444444444444444,\"#bd3786\"],[0.5555555555555556,\"#d8576b\"],[0.6666666666666666,\"#ed7953\"],[0.7777777777777778,\"#fb9f3a\"],[0.8888888888888888,\"#fdca26\"],[1.0,\"#f0f921\"]],\"type\":\"heatmapgl\"}],\"histogram\":[{\"marker\":{\"pattern\":{\"fillmode\":\"overlay\",\"size\":10,\"solidity\":0.2}},\"type\":\"histogram\"}],\"histogram2d\":[{\"colorbar\":{\"outlinewidth\":0,\"ticks\":\"\"},\"colorscale\":[[0.0,\"#0d0887\"],[0.1111111111111111,\"#46039f\"],[0.2222222222222222,\"#7201a8\"],[0.3333333333333333,\"#9c179e\"],[0.4444444444444444,\"#bd3786\"],[0.5555555555555556,\"#d8576b\"],[0.6666666666666666,\"#ed7953\"],[0.7777777777777778,\"#fb9f3a\"],[0.8888888888888888,\"#fdca26\"],[1.0,\"#f0f921\"]],\"type\":\"histogram2d\"}],\"histogram2dcontour\":[{\"colorbar\":{\"outlinewidth\":0,\"ticks\":\"\"},\"colorscale\":[[0.0,\"#0d0887\"],[0.1111111111111111,\"#46039f\"],[0.2222222222222222,\"#7201a8\"],[0.3333333333333333,\"#9c179e\"],[0.4444444444444444,\"#bd3786\"],[0.5555555555555556,\"#d8576b\"],[0.6666666666666666,\"#ed7953\"],[0.7777777777777778,\"#fb9f3a\"],[0.8888888888888888,\"#fdca26\"],[1.0,\"#f0f921\"]],\"type\":\"histogram2dcontour\"}],\"mesh3d\":[{\"colorbar\":{\"outlinewidth\":0,\"ticks\":\"\"},\"type\":\"mesh3d\"}],\"parcoords\":[{\"line\":{\"colorbar\":{\"outlinewidth\":0,\"ticks\":\"\"}},\"type\":\"parcoords\"}],\"pie\":[{\"automargin\":true,\"type\":\"pie\"}],\"scatter\":[{\"marker\":{\"colorbar\":{\"outlinewidth\":0,\"ticks\":\"\"}},\"type\":\"scatter\"}],\"scatter3d\":[{\"line\":{\"colorbar\":{\"outlinewidth\":0,\"ticks\":\"\"}},\"marker\":{\"colorbar\":{\"outlinewidth\":0,\"ticks\":\"\"}},\"type\":\"scatter3d\"}],\"scattercarpet\":[{\"marker\":{\"colorbar\":{\"outlinewidth\":0,\"ticks\":\"\"}},\"type\":\"scattercarpet\"}],\"scattergeo\":[{\"marker\":{\"colorbar\":{\"outlinewidth\":0,\"ticks\":\"\"}},\"type\":\"scattergeo\"}],\"scattergl\":[{\"marker\":{\"colorbar\":{\"outlinewidth\":0,\"ticks\":\"\"}},\"type\":\"scattergl\"}],\"scattermapbox\":[{\"marker\":{\"colorbar\":{\"outlinewidth\":0,\"ticks\":\"\"}},\"type\":\"scattermapbox\"}],\"scatterpolar\":[{\"marker\":{\"colorbar\":{\"outlinewidth\":0,\"ticks\":\"\"}},\"type\":\"scatterpolar\"}],\"scatterpolargl\":[{\"marker\":{\"colorbar\":{\"outlinewidth\":0,\"ticks\":\"\"}},\"type\":\"scatterpolargl\"}],\"scatterternary\":[{\"marker\":{\"colorbar\":{\"outlinewidth\":0,\"ticks\":\"\"}},\"type\":\"scatterternary\"}],\"surface\":[{\"colorbar\":{\"outlinewidth\":0,\"ticks\":\"\"},\"colorscale\":[[0.0,\"#0d0887\"],[0.1111111111111111,\"#46039f\"],[0.2222222222222222,\"#7201a8\"],[0.3333333333333333,\"#9c179e\"],[0.4444444444444444,\"#bd3786\"],[0.5555555555555556,\"#d8576b\"],[0.6666666666666666,\"#ed7953\"],[0.7777777777777778,\"#fb9f3a\"],[0.8888888888888888,\"#fdca26\"],[1.0,\"#f0f921\"]],\"type\":\"surface\"}],\"table\":[{\"cells\":{\"fill\":{\"color\":\"#EBF0F8\"},\"line\":{\"color\":\"white\"}},\"header\":{\"fill\":{\"color\":\"#C8D4E3\"},\"line\":{\"color\":\"white\"}},\"type\":\"table\"}]},\"layout\":{\"annotationdefaults\":{\"arrowcolor\":\"#2a3f5f\",\"arrowhead\":0,\"arrowwidth\":1},\"autotypenumbers\":\"strict\",\"coloraxis\":{\"colorbar\":{\"outlinewidth\":0,\"ticks\":\"\"}},\"colorscale\":{\"diverging\":[[0,\"#8e0152\"],[0.1,\"#c51b7d\"],[0.2,\"#de77ae\"],[0.3,\"#f1b6da\"],[0.4,\"#fde0ef\"],[0.5,\"#f7f7f7\"],[0.6,\"#e6f5d0\"],[0.7,\"#b8e186\"],[0.8,\"#7fbc41\"],[0.9,\"#4d9221\"],[1,\"#276419\"]],\"sequential\":[[0.0,\"#0d0887\"],[0.1111111111111111,\"#46039f\"],[0.2222222222222222,\"#7201a8\"],[0.3333333333333333,\"#9c179e\"],[0.4444444444444444,\"#bd3786\"],[0.5555555555555556,\"#d8576b\"],[0.6666666666666666,\"#ed7953\"],[0.7777777777777778,\"#fb9f3a\"],[0.8888888888888888,\"#fdca26\"],[1.0,\"#f0f921\"]],\"sequentialminus\":[[0.0,\"#0d0887\"],[0.1111111111111111,\"#46039f\"],[0.2222222222222222,\"#7201a8\"],[0.3333333333333333,\"#9c179e\"],[0.4444444444444444,\"#bd3786\"],[0.5555555555555556,\"#d8576b\"],[0.6666666666666666,\"#ed7953\"],[0.7777777777777778,\"#fb9f3a\"],[0.8888888888888888,\"#fdca26\"],[1.0,\"#f0f921\"]]},\"colorway\":[\"#636efa\",\"#EF553B\",\"#00cc96\",\"#ab63fa\",\"#FFA15A\",\"#19d3f3\",\"#FF6692\",\"#B6E880\",\"#FF97FF\",\"#FECB52\"],\"font\":{\"color\":\"#2a3f5f\"},\"geo\":{\"bgcolor\":\"white\",\"lakecolor\":\"white\",\"landcolor\":\"#E5ECF6\",\"showlakes\":true,\"showland\":true,\"subunitcolor\":\"white\"},\"hoverlabel\":{\"align\":\"left\"},\"hovermode\":\"closest\",\"mapbox\":{\"style\":\"light\"},\"paper_bgcolor\":\"white\",\"plot_bgcolor\":\"#E5ECF6\",\"polar\":{\"angularaxis\":{\"gridcolor\":\"white\",\"linecolor\":\"white\",\"ticks\":\"\"},\"bgcolor\":\"#E5ECF6\",\"radialaxis\":{\"gridcolor\":\"white\",\"linecolor\":\"white\",\"ticks\":\"\"}},\"scene\":{\"xaxis\":{\"backgroundcolor\":\"#E5ECF6\",\"gridcolor\":\"white\",\"gridwidth\":2,\"linecolor\":\"white\",\"showbackground\":true,\"ticks\":\"\",\"zerolinecolor\":\"white\"},\"yaxis\":{\"backgroundcolor\":\"#E5ECF6\",\"gridcolor\":\"white\",\"gridwidth\":2,\"linecolor\":\"white\",\"showbackground\":true,\"ticks\":\"\",\"zerolinecolor\":\"white\"},\"zaxis\":{\"backgroundcolor\":\"#E5ECF6\",\"gridcolor\":\"white\",\"gridwidth\":2,\"linecolor\":\"white\",\"showbackground\":true,\"ticks\":\"\",\"zerolinecolor\":\"white\"}},\"shapedefaults\":{\"line\":{\"color\":\"#2a3f5f\"}},\"ternary\":{\"aaxis\":{\"gridcolor\":\"white\",\"linecolor\":\"white\",\"ticks\":\"\"},\"baxis\":{\"gridcolor\":\"white\",\"linecolor\":\"white\",\"ticks\":\"\"},\"bgcolor\":\"#E5ECF6\",\"caxis\":{\"gridcolor\":\"white\",\"linecolor\":\"white\",\"ticks\":\"\"}},\"title\":{\"x\":0.05},\"xaxis\":{\"automargin\":true,\"gridcolor\":\"white\",\"linecolor\":\"white\",\"ticks\":\"\",\"title\":{\"standoff\":15},\"zerolinecolor\":\"white\",\"zerolinewidth\":2},\"yaxis\":{\"automargin\":true,\"gridcolor\":\"white\",\"linecolor\":\"white\",\"ticks\":\"\",\"title\":{\"standoff\":15},\"zerolinecolor\":\"white\",\"zerolinewidth\":2}}},\"xaxis\":{\"anchor\":\"y\",\"domain\":[0.0,1.0],\"title\":{\"text\":\"lr\"}},\"yaxis\":{\"anchor\":\"x\",\"domain\":[0.0,1.0],\"title\":{\"text\":\"FIT\"}}},                        {\"responsive\": true}                    ).then(function(){\n",
       "                            \n",
       "var gd = document.getElementById('c87bb310-e13e-4c4b-95f8-d63216d2a79d');\n",
       "var x = new MutationObserver(function (mutations, observer) {{\n",
       "        var display = window.getComputedStyle(gd).display;\n",
       "        if (!display || display === 'none') {{\n",
       "            console.log([gd, 'removed!']);\n",
       "            Plotly.purge(gd);\n",
       "            observer.disconnect();\n",
       "        }}\n",
       "}});\n",
       "\n",
       "// Listen for the removal of the full notebook cells\n",
       "var notebookContainer = gd.closest('#notebook-container');\n",
       "if (notebookContainer) {{\n",
       "    x.observe(notebookContainer, {childList: true});\n",
       "}}\n",
       "\n",
       "// Listen for the clearing of the current output cell\n",
       "var outputEl = gd.closest('.output');\n",
       "if (outputEl) {{\n",
       "    x.observe(outputEl, {childList: true});\n",
       "}}\n",
       "\n",
       "                        })                };                });            </script>        </div>"
      ]
     },
     "metadata": {},
     "output_type": "display_data"
    }
   ],
   "source": [
    "for factor in factors:\n",
    "    fig = px.box(df_res, y=\"FIT\",\n",
    "                     x=factor,\n",
    "                     hover_data=[\"max_time\", \"est_hidden_size\"])\n",
    "    fig.show()"
   ]
  },
  {
   "cell_type": "code",
   "execution_count": 21,
   "id": "0a0c762f",
   "metadata": {
    "scrolled": true
   },
   "outputs": [
    {
     "data": {
      "text/html": [
       "<div>\n",
       "<style scoped>\n",
       "    .dataframe tbody tr th:only-of-type {\n",
       "        vertical-align: middle;\n",
       "    }\n",
       "\n",
       "    .dataframe tbody tr th {\n",
       "        vertical-align: top;\n",
       "    }\n",
       "\n",
       "    .dataframe thead th {\n",
       "        text-align: right;\n",
       "    }\n",
       "</style>\n",
       "<table border=\"1\" class=\"dataframe\">\n",
       "  <thead>\n",
       "    <tr style=\"text-align: right;\">\n",
       "      <th></th>\n",
       "      <th>mean</th>\n",
       "      <th>std</th>\n",
       "    </tr>\n",
       "    <tr>\n",
       "      <th>seq_len</th>\n",
       "      <th></th>\n",
       "      <th></th>\n",
       "    </tr>\n",
       "  </thead>\n",
       "  <tbody>\n",
       "    <tr>\n",
       "      <th>40</th>\n",
       "      <td>93.818623</td>\n",
       "      <td>4.089998</td>\n",
       "    </tr>\n",
       "    <tr>\n",
       "      <th>80</th>\n",
       "      <td>96.347014</td>\n",
       "      <td>1.765649</td>\n",
       "    </tr>\n",
       "    <tr>\n",
       "      <th>256</th>\n",
       "      <td>92.913131</td>\n",
       "      <td>16.049057</td>\n",
       "    </tr>\n",
       "    <tr>\n",
       "      <th>512</th>\n",
       "      <td>75.296880</td>\n",
       "      <td>37.436200</td>\n",
       "    </tr>\n",
       "  </tbody>\n",
       "</table>\n",
       "</div>"
      ],
      "text/plain": [
       "              mean        std\n",
       "seq_len                      \n",
       "40       93.818623   4.089998\n",
       "80       96.347014   1.765649\n",
       "256      92.913131  16.049057\n",
       "512      75.296880  37.436200"
      ]
     },
     "execution_count": 21,
     "metadata": {},
     "output_type": "execute_result"
    }
   ],
   "source": [
    "df_res.groupby(\"seq_len\")[\"FIT\"].agg([\"mean\", \"std\"])\n",
    "#df_res.groupby(\"lr\")[\"FIT\"].agg([\"mean\", \"std\"])"
   ]
  },
  {
   "cell_type": "code",
   "execution_count": 24,
   "id": "aa267c86",
   "metadata": {},
   "outputs": [],
   "source": [
    "#pd.pivot_table(df_res, index=[\"seq_len\"], columns=[\"est_type\"])"
   ]
  },
  {
   "cell_type": "code",
   "execution_count": 54,
   "id": "77ba1a09",
   "metadata": {},
   "outputs": [
    {
     "data": {
      "application/vnd.plotly.v1+json": {
       "config": {
        "plotlyServerURL": "https://plot.ly"
       },
       "data": [
        {
         "customdata": [
          [
           1800,
           100
          ],
          [
           1800,
           50
          ],
          [
           1800,
           10
          ],
          [
           1800,
           10
          ],
          [
           1800,
           10
          ],
          [
           1800,
           100
          ],
          [
           1800,
           50
          ],
          [
           1800,
           50
          ],
          [
           1800,
           100
          ],
          [
           1800,
           10
          ],
          [
           300,
           100
          ],
          [
           300,
           50
          ],
          [
           300,
           50
          ],
          [
           1800,
           100
          ],
          [
           300,
           100
          ],
          [
           1800,
           50
          ],
          [
           300,
           10
          ],
          [
           300,
           10
          ],
          [
           300,
           50
          ],
          [
           300,
           100
          ],
          [
           300,
           100
          ],
          [
           300,
           10
          ],
          [
           300,
           50
          ],
          [
           300,
           10
          ]
         ],
         "hovertemplate": "seq_len=80<br>est_direction=forward<br>est_type=LSTM<br>index=%{x}<br>FIT=%{y}<br>max_time=%{customdata[0]}<br>seq_est_len=%{customdata[1]}<extra></extra>",
         "legendgroup": "80",
         "marker": {
          "color": "#636efa",
          "symbol": "circle"
         },
         "mode": "markers",
         "name": "80",
         "orientation": "v",
         "showlegend": true,
         "type": "scatter",
         "x": [
          213,
          27,
          31,
          53,
          32,
          22,
          139,
          278,
          173,
          239,
          94,
          63,
          64,
          29,
          26,
          74,
          129,
          252,
          102,
          124,
          255,
          172,
          287,
          116
         ],
         "xaxis": "x",
         "y": [
          98.58680725097656,
          98.53496551513672,
          98.4969482421875,
          98.4884262084961,
          98.46688079833984,
          98.45762634277344,
          98.2368392944336,
          98.223388671875,
          98.1307601928711,
          98.07433319091795,
          97.98046875,
          97.8382797241211,
          97.7503433227539,
          97.60299682617188,
          97.48182678222656,
          96.94878387451172,
          96.46463775634766,
          96.3250961303711,
          95.35894775390624,
          95.19278717041016,
          95.13353729248048,
          94.66151428222656,
          93.26336669921876,
          91.77867889404295
         ],
         "yaxis": "y"
        },
        {
         "customdata": [
          [
           1800,
           10
          ],
          [
           1800,
           100
          ],
          [
           1800,
           100
          ],
          [
           1800,
           50
          ],
          [
           1800,
           10
          ],
          [
           1800,
           100
          ],
          [
           1800,
           50
          ],
          [
           1800,
           100
          ],
          [
           300,
           100
          ],
          [
           300,
           100
          ],
          [
           300,
           50
          ],
          [
           300,
           10
          ],
          [
           300,
           10
          ],
          [
           1800,
           10
          ],
          [
           1800,
           50
          ],
          [
           300,
           50
          ],
          [
           1800,
           10
          ],
          [
           1800,
           50
          ],
          [
           300,
           50
          ],
          [
           300,
           10
          ],
          [
           300,
           100
          ],
          [
           300,
           50
          ],
          [
           300,
           100
          ],
          [
           300,
           10
          ]
         ],
         "hovertemplate": "seq_len=80<br>est_direction=forward<br>est_type=FF<br>index=%{x}<br>FIT=%{y}<br>max_time=%{customdata[0]}<br>seq_est_len=%{customdata[1]}<extra></extra>",
         "legendgroup": "80",
         "marker": {
          "color": "#636efa",
          "symbol": "circle"
         },
         "mode": "markers",
         "name": "80",
         "orientation": "v",
         "showlegend": false,
         "type": "scatter",
         "x": [
          285,
          98,
          201,
          103,
          23,
          240,
          10,
          275,
          125,
          215,
          146,
          271,
          8,
          268,
          219,
          226,
          17,
          104,
          261,
          133,
          16,
          57,
          76,
          52
         ],
         "xaxis": "x2",
         "y": [
          98.46003723144533,
          98.39405059814452,
          98.30818939208984,
          98.26296997070312,
          98.23778533935548,
          98.22810363769533,
          98.089599609375,
          97.79410552978516,
          97.55642700195312,
          97.50176239013672,
          97.3860321044922,
          97.33839416503906,
          97.2458038330078,
          97.0489501953125,
          97.02205657958984,
          96.86779022216795,
          96.60385131835938,
          96.44806671142578,
          95.67823791503906,
          95.38463592529295,
          95.2631378173828,
          94.43880462646484,
          94.14337158203124,
          93.90574645996094
         ],
         "yaxis": "y2"
        },
        {
         "customdata": [
          [
           300,
           50
          ],
          [
           1800,
           50
          ],
          [
           1800,
           100
          ],
          [
           1800,
           50
          ],
          [
           1800,
           50
          ],
          [
           1800,
           100
          ],
          [
           300,
           10
          ],
          [
           1800,
           10
          ],
          [
           1800,
           100
          ],
          [
           300,
           100
          ],
          [
           1800,
           10
          ],
          [
           1800,
           10
          ],
          [
           300,
           10
          ],
          [
           1800,
           100
          ],
          [
           300,
           100
          ],
          [
           300,
           50
          ],
          [
           300,
           10
          ],
          [
           300,
           100
          ],
          [
           300,
           50
          ],
          [
           300,
           50
          ],
          [
           300,
           100
          ],
          [
           1800,
           50
          ],
          [
           1800,
           10
          ],
          [
           300,
           10
          ]
         ],
         "hovertemplate": "seq_len=80<br>est_direction=forward<br>est_type=ZERO<br>index=%{x}<br>FIT=%{y}<br>max_time=%{customdata[0]}<br>seq_est_len=%{customdata[1]}<extra></extra>",
         "legendgroup": "80",
         "marker": {
          "color": "#636efa",
          "symbol": "circle"
         },
         "mode": "markers",
         "name": "80",
         "orientation": "v",
         "showlegend": false,
         "type": "scatter",
         "x": [
          99,
          135,
          130,
          0,
          259,
          192,
          274,
          186,
          209,
          34,
          44,
          222,
          95,
          243,
          248,
          174,
          228,
          165,
          157,
          43,
          184,
          205,
          245,
          60
         ],
         "xaxis": "x3",
         "y": [
          96.79696655273438,
          96.76136779785156,
          96.68460083007812,
          96.59369659423828,
          96.41283416748048,
          96.22171020507812,
          96.19200134277344,
          96.14441680908205,
          96.1142349243164,
          96.08953857421876,
          96.00231170654295,
          95.74041748046876,
          95.6724853515625,
          95.48313903808594,
          94.92473602294922,
          94.826171875,
          94.571044921875,
          94.36531066894533,
          93.83489227294922,
          93.55696105957033,
          93.15957641601562,
          92.72718048095705,
          92.52721405029295,
          92.49607849121094
         ],
         "yaxis": "y3"
        },
        {
         "customdata": [
          [
           1800,
           50
          ],
          [
           1800,
           50
          ],
          [
           1800,
           100
          ],
          [
           1800,
           100
          ],
          [
           1800,
           10
          ],
          [
           1800,
           10
          ],
          [
           1800,
           50
          ],
          [
           1800,
           100
          ],
          [
           1800,
           100
          ],
          [
           300,
           100
          ],
          [
           300,
           100
          ],
          [
           300,
           10
          ],
          [
           1800,
           10
          ],
          [
           1800,
           50
          ],
          [
           300,
           50
          ],
          [
           300,
           10
          ],
          [
           300,
           50
          ],
          [
           300,
           100
          ],
          [
           300,
           10
          ],
          [
           1800,
           10
          ],
          [
           300,
           50
          ],
          [
           300,
           100
          ],
          [
           300,
           50
          ],
          [
           300,
           10
          ]
         ],
         "hovertemplate": "seq_len=40<br>est_direction=forward<br>est_type=LSTM<br>index=%{x}<br>FIT=%{y}<br>max_time=%{customdata[0]}<br>seq_est_len=%{customdata[1]}<extra></extra>",
         "legendgroup": "40",
         "marker": {
          "color": "#EF553B",
          "symbol": "circle"
         },
         "mode": "markers",
         "name": "40",
         "orientation": "v",
         "showlegend": true,
         "type": "scatter",
         "x": [
          283,
          126,
          83,
          86,
          56,
          148,
          206,
          61,
          195,
          106,
          138,
          113,
          171,
          179,
          25,
          224,
          241,
          246,
          225,
          141,
          100,
          234,
          136,
          218
         ],
         "xaxis": "x",
         "y": [
          98.44957733154295,
          98.2842254638672,
          98.2643814086914,
          98.26375579833984,
          98.1392822265625,
          98.0548858642578,
          98.02249908447266,
          97.87517547607422,
          97.76569366455078,
          97.56678771972656,
          97.51976776123048,
          97.38973236083984,
          97.19845581054688,
          97.06703186035156,
          95.83998107910156,
          95.10485076904295,
          94.88628387451172,
          94.64602661132812,
          94.30842590332033,
          92.8463134765625,
          92.40475463867188,
          92.0679168701172,
          88.3292236328125,
          76.86139678955078
         ],
         "yaxis": "y"
        },
        {
         "customdata": [
          [
           1800,
           10
          ],
          [
           1800,
           100
          ],
          [
           1800,
           10
          ],
          [
           1800,
           50
          ],
          [
           1800,
           100
          ],
          [
           1800,
           10
          ],
          [
           1800,
           100
          ],
          [
           1800,
           50
          ],
          [
           300,
           50
          ],
          [
           1800,
           100
          ],
          [
           300,
           100
          ],
          [
           300,
           10
          ],
          [
           1800,
           50
          ],
          [
           300,
           100
          ],
          [
           300,
           50
          ],
          [
           300,
           50
          ],
          [
           300,
           10
          ],
          [
           300,
           100
          ],
          [
           1800,
           10
          ],
          [
           1800,
           50
          ],
          [
           300,
           50
          ],
          [
           300,
           100
          ],
          [
           300,
           10
          ],
          [
           300,
           10
          ]
         ],
         "hovertemplate": "seq_len=40<br>est_direction=forward<br>est_type=FF<br>index=%{x}<br>FIT=%{y}<br>max_time=%{customdata[0]}<br>seq_est_len=%{customdata[1]}<extra></extra>",
         "legendgroup": "40",
         "marker": {
          "color": "#EF553B",
          "symbol": "circle"
         },
         "mode": "markers",
         "name": "40",
         "orientation": "v",
         "showlegend": false,
         "type": "scatter",
         "x": [
          36,
          217,
          120,
          229,
          49,
          35,
          187,
          51,
          1,
          154,
          110,
          155,
          82,
          257,
          145,
          128,
          163,
          267,
          107,
          118,
          42,
          78,
          156,
          96
         ],
         "xaxis": "x2",
         "y": [
          98.54400634765624,
          98.38992309570312,
          98.2978057861328,
          98.1858901977539,
          97.4082260131836,
          97.30813598632812,
          97.0586929321289,
          97.00202941894533,
          96.7027816772461,
          96.66754150390624,
          96.56224060058594,
          96.41224670410156,
          95.52284240722656,
          95.47371673583984,
          94.30818176269533,
          93.75218963623048,
          93.6327667236328,
          93.30973815917967,
          92.83831024169922,
          92.76483917236328,
          92.5580062866211,
          92.48625946044922,
          92.35808563232422,
          90.20700073242188
         ],
         "yaxis": "y2"
        },
        {
         "customdata": [
          [
           1800,
           100
          ],
          [
           1800,
           10
          ],
          [
           1800,
           100
          ],
          [
           300,
           100
          ],
          [
           1800,
           100
          ],
          [
           1800,
           50
          ],
          [
           300,
           50
          ],
          [
           1800,
           50
          ],
          [
           1800,
           50
          ],
          [
           1800,
           10
          ],
          [
           300,
           10
          ],
          [
           300,
           100
          ],
          [
           1800,
           10
          ],
          [
           300,
           10
          ],
          [
           1800,
           10
          ],
          [
           300,
           50
          ],
          [
           1800,
           50
          ],
          [
           300,
           100
          ],
          [
           1800,
           100
          ],
          [
           300,
           50
          ],
          [
           300,
           100
          ],
          [
           300,
           10
          ],
          [
           300,
           50
          ],
          [
           300,
           10
          ]
         ],
         "hovertemplate": "seq_len=40<br>est_direction=forward<br>est_type=ZERO<br>index=%{x}<br>FIT=%{y}<br>max_time=%{customdata[0]}<br>seq_est_len=%{customdata[1]}<extra></extra>",
         "legendgroup": "40",
         "marker": {
          "color": "#EF553B",
          "symbol": "circle"
         },
         "mode": "markers",
         "name": "40",
         "orientation": "v",
         "showlegend": false,
         "type": "scatter",
         "x": [
          180,
          280,
          67,
          223,
          253,
          18,
          175,
          117,
          144,
          151,
          161,
          37,
          262,
          196,
          254,
          112,
          232,
          80,
          97,
          81,
          28,
          79,
          7,
          30
         ],
         "xaxis": "x3",
         "y": [
          95.32396697998048,
          94.94505310058594,
          94.5956573486328,
          94.54354858398438,
          94.53494262695312,
          93.40180206298828,
          93.33170318603516,
          93.10594940185548,
          93.06950378417967,
          93.02685546875,
          92.81810760498048,
          90.33795928955078,
          89.52302551269531,
          89.4087905883789,
          89.30560302734375,
          89.30057525634766,
          89.03380584716797,
          88.43577575683594,
          88.33271026611328,
          87.98604583740234,
          87.81255340576172,
          87.23623657226562,
          86.24456787109375,
          84.37820434570312
         ],
         "yaxis": "y3"
        },
        {
         "customdata": [
          [
           1800,
           100
          ],
          [
           1800,
           10
          ],
          [
           1800,
           100
          ],
          [
           1800,
           10
          ],
          [
           1800,
           50
          ],
          [
           1800,
           50
          ],
          [
           1800,
           10
          ],
          [
           1800,
           50
          ],
          [
           1800,
           50
          ],
          [
           300,
           50
          ],
          [
           300,
           10
          ],
          [
           300,
           100
          ],
          [
           300,
           10
          ],
          [
           1800,
           10
          ],
          [
           1800,
           100
          ],
          [
           300,
           100
          ],
          [
           1800,
           100
          ],
          [
           300,
           50
          ],
          [
           300,
           50
          ],
          [
           300,
           10
          ],
          [
           300,
           100
          ],
          [
           300,
           100
          ],
          [
           300,
           10
          ],
          [
           300,
           50
          ]
         ],
         "hovertemplate": "seq_len=256<br>est_direction=forward<br>est_type=LSTM<br>index=%{x}<br>FIT=%{y}<br>max_time=%{customdata[0]}<br>seq_est_len=%{customdata[1]}<extra></extra>",
         "legendgroup": "256",
         "marker": {
          "color": "#00cc96",
          "symbol": "circle"
         },
         "mode": "markers",
         "name": "256",
         "orientation": "v",
         "showlegend": true,
         "type": "scatter",
         "x": [
          277,
          4,
          258,
          45,
          210,
          200,
          208,
          65,
          159,
          162,
          58,
          85,
          77,
          233,
          149,
          250,
          73,
          212,
          193,
          236,
          190,
          88,
          269,
          194
         ],
         "xaxis": "x",
         "y": [
          98.39879608154295,
          98.32357788085938,
          98.14122009277344,
          98.00109100341795,
          97.94593048095705,
          97.89498138427734,
          97.7492904663086,
          97.33345794677734,
          97.21639251708984,
          97.2012176513672,
          96.93067169189452,
          96.66441345214844,
          96.5583953857422,
          96.12115478515624,
          95.95955657958984,
          95.79283905029295,
          95.4578628540039,
          92.34676361083984,
          91.81803894042967,
          91.55833435058594,
          90.90785217285156,
          90.60907745361328,
          87.417724609375,
          0
         ],
         "yaxis": "y"
        },
        {
         "customdata": [
          [
           1800,
           50
          ],
          [
           1800,
           10
          ],
          [
           1800,
           100
          ],
          [
           1800,
           50
          ],
          [
           1800,
           10
          ],
          [
           1800,
           100
          ],
          [
           1800,
           100
          ],
          [
           1800,
           10
          ],
          [
           300,
           10
          ],
          [
           1800,
           10
          ],
          [
           300,
           50
          ],
          [
           300,
           50
          ],
          [
           300,
           100
          ],
          [
           300,
           10
          ],
          [
           300,
           100
          ],
          [
           1800,
           100
          ],
          [
           1800,
           50
          ],
          [
           1800,
           50
          ],
          [
           300,
           10
          ],
          [
           300,
           100
          ],
          [
           300,
           10
          ],
          [
           300,
           50
          ],
          [
           300,
           50
          ],
          [
           300,
           100
          ]
         ],
         "hovertemplate": "seq_len=256<br>est_direction=forward<br>est_type=FF<br>index=%{x}<br>FIT=%{y}<br>max_time=%{customdata[0]}<br>seq_est_len=%{customdata[1]}<extra></extra>",
         "legendgroup": "256",
         "marker": {
          "color": "#00cc96",
          "symbol": "circle"
         },
         "mode": "markers",
         "name": "256",
         "orientation": "v",
         "showlegend": false,
         "type": "scatter",
         "x": [
          166,
          150,
          247,
          256,
          152,
          71,
          109,
          167,
          122,
          75,
          84,
          281,
          220,
          207,
          211,
          176,
          282,
          55,
          134,
          48,
          264,
          169,
          90,
          41
         ],
         "xaxis": "x2",
         "y": [
          98.4680633544922,
          98.44108581542967,
          98.38732147216795,
          98.34089660644533,
          98.3311004638672,
          98.24288177490234,
          98.06573486328124,
          97.49170684814452,
          97.00376892089844,
          96.44161987304688,
          96.28184509277344,
          96.26058959960938,
          96.12242889404295,
          96.0395965576172,
          96.03711700439452,
          95.87214660644533,
          95.83782196044922,
          95.58983612060548,
          92.95830535888672,
          92.7301025390625,
          92.1386489868164,
          91.15612030029295,
          89.47547912597656,
          89.09001922607422
         ],
         "yaxis": "y2"
        },
        {
         "customdata": [
          [
           1800,
           100
          ],
          [
           1800,
           10
          ],
          [
           1800,
           50
          ],
          [
           1800,
           10
          ],
          [
           1800,
           50
          ],
          [
           1800,
           50
          ],
          [
           300,
           50
          ],
          [
           1800,
           10
          ],
          [
           300,
           10
          ],
          [
           1800,
           100
          ],
          [
           300,
           50
          ],
          [
           300,
           100
          ],
          [
           300,
           10
          ],
          [
           1800,
           100
          ],
          [
           1800,
           100
          ],
          [
           1800,
           10
          ],
          [
           300,
           100
          ],
          [
           300,
           50
          ],
          [
           300,
           10
          ],
          [
           300,
           100
          ],
          [
           300,
           10
          ],
          [
           300,
           100
          ],
          [
           300,
           50
          ],
          [
           1800,
           50
          ]
         ],
         "hovertemplate": "seq_len=256<br>est_direction=forward<br>est_type=ZERO<br>index=%{x}<br>FIT=%{y}<br>max_time=%{customdata[0]}<br>seq_est_len=%{customdata[1]}<extra></extra>",
         "legendgroup": "256",
         "marker": {
          "color": "#00cc96",
          "symbol": "circle"
         },
         "mode": "markers",
         "name": "256",
         "orientation": "v",
         "showlegend": false,
         "type": "scatter",
         "x": [
          105,
          198,
          9,
          238,
          54,
          62,
          11,
          185,
          272,
          39,
          69,
          230,
          121,
          279,
          131,
          235,
          237,
          101,
          15,
          147,
          199,
          260,
          203,
          68
         ],
         "xaxis": "x3",
         "y": [
          98.22978973388672,
          97.86749267578124,
          97.62957763671876,
          97.35780334472656,
          97.26769256591795,
          97.25592803955078,
          97.17332458496094,
          97.10291290283205,
          96.96337890625,
          96.80670928955078,
          96.74951171875,
          96.72381591796876,
          96.05409240722656,
          96.00379180908205,
          95.96144104003906,
          95.90046691894533,
          95.66205596923828,
          93.8100814819336,
          93.36802673339844,
          93.00537109375,
          92.1929702758789,
          90.24122619628906,
          89.26510620117188,
          0
         ],
         "yaxis": "y3"
        },
        {
         "customdata": [
          [
           1800,
           50
          ],
          [
           1800,
           10
          ],
          [
           1800,
           100
          ],
          [
           1800,
           100
          ],
          [
           1800,
           50
          ],
          [
           1800,
           50
          ],
          [
           1800,
           100
          ],
          [
           1800,
           10
          ],
          [
           1800,
           10
          ],
          [
           1800,
           100
          ],
          [
           300,
           100
          ],
          [
           300,
           100
          ],
          [
           300,
           50
          ],
          [
           300,
           50
          ],
          [
           300,
           50
          ],
          [
           300,
           100
          ],
          [
           300,
           10
          ],
          [
           300,
           10
          ],
          [
           300,
           100
          ],
          [
           1800,
           10
          ],
          [
           300,
           50
          ],
          [
           300,
           10
          ],
          [
           1800,
           50
          ],
          [
           300,
           10
          ]
         ],
         "hovertemplate": "seq_len=512<br>est_direction=forward<br>est_type=LSTM<br>index=%{x}<br>FIT=%{y}<br>max_time=%{customdata[0]}<br>seq_est_len=%{customdata[1]}<extra></extra>",
         "legendgroup": "512",
         "marker": {
          "color": "#ab63fa",
          "symbol": "circle"
         },
         "mode": "markers",
         "name": "512",
         "orientation": "v",
         "showlegend": true,
         "type": "scatter",
         "x": [
          270,
          21,
          72,
          284,
          50,
          251,
          87,
          160,
          214,
          266,
          40,
          276,
          227,
          170,
          168,
          216,
          265,
          273,
          3,
          59,
          66,
          153,
          191,
          242
         ],
         "xaxis": "x",
         "y": [
          98.2847137451172,
          97.7448959350586,
          97.6002426147461,
          97.50208282470705,
          96.77342987060548,
          96.52906036376952,
          96.30540466308594,
          95.04939270019533,
          94.71673583984376,
          94.5332260131836,
          94.4521255493164,
          94.06350708007812,
          93.3071746826172,
          90.19969940185548,
          89.92375183105469,
          87.9871826171875,
          87.74431610107422,
          86.15328216552734,
          85.96220397949219,
          0,
          0,
          0,
          0,
          0
         ],
         "yaxis": "y"
        },
        {
         "customdata": [
          [
           1800,
           100
          ],
          [
           1800,
           10
          ],
          [
           1800,
           100
          ],
          [
           1800,
           100
          ],
          [
           1800,
           50
          ],
          [
           300,
           50
          ],
          [
           1800,
           50
          ],
          [
           1800,
           10
          ],
          [
           1800,
           100
          ],
          [
           1800,
           10
          ],
          [
           300,
           100
          ],
          [
           300,
           100
          ],
          [
           300,
           50
          ],
          [
           300,
           10
          ],
          [
           300,
           50
          ],
          [
           300,
           10
          ],
          [
           300,
           100
          ],
          [
           1800,
           10
          ],
          [
           300,
           10
          ],
          [
           1800,
           50
          ],
          [
           1800,
           50
          ],
          [
           300,
           100
          ],
          [
           300,
           50
          ],
          [
           300,
           10
          ]
         ],
         "hovertemplate": "seq_len=512<br>est_direction=forward<br>est_type=FF<br>index=%{x}<br>FIT=%{y}<br>max_time=%{customdata[0]}<br>seq_est_len=%{customdata[1]}<extra></extra>",
         "legendgroup": "512",
         "marker": {
          "color": "#ab63fa",
          "symbol": "circle"
         },
         "mode": "markers",
         "name": "512",
         "orientation": "v",
         "showlegend": false,
         "type": "scatter",
         "x": [
          263,
          20,
          115,
          114,
          189,
          137,
          204,
          140,
          47,
          231,
          108,
          92,
          91,
          188,
          119,
          249,
          2,
          12,
          14,
          19,
          46,
          93,
          158,
          181
         ],
         "xaxis": "x2",
         "y": [
          98.34349060058594,
          98.109130859375,
          97.37918853759766,
          96.99890899658205,
          96.02516174316406,
          95.794677734375,
          95.74341583251952,
          95.67951202392578,
          94.80684661865234,
          94.79309844970705,
          94.25230407714844,
          90.08551025390624,
          89.37981414794922,
          88.60636138916016,
          88.38751220703125,
          88.06825256347656,
          86.41252899169922,
          0,
          0,
          0,
          0,
          0,
          0,
          0
         ],
         "yaxis": "y2"
        },
        {
         "customdata": [
          [
           1800,
           50
          ],
          [
           1800,
           10
          ],
          [
           1800,
           100
          ],
          [
           1800,
           100
          ],
          [
           1800,
           10
          ],
          [
           300,
           10
          ],
          [
           1800,
           100
          ],
          [
           1800,
           100
          ],
          [
           1800,
           10
          ],
          [
           1800,
           10
          ],
          [
           1800,
           50
          ],
          [
           1800,
           50
          ],
          [
           300,
           100
          ],
          [
           300,
           50
          ],
          [
           300,
           100
          ],
          [
           300,
           10
          ],
          [
           300,
           50
          ],
          [
           300,
           10
          ],
          [
           300,
           50
          ],
          [
           300,
           100
          ],
          [
           300,
           10
          ],
          [
           300,
           100
          ],
          [
           300,
           50
          ],
          [
           1800,
           50
          ]
         ],
         "hovertemplate": "seq_len=512<br>est_direction=forward<br>est_type=ZERO<br>index=%{x}<br>FIT=%{y}<br>max_time=%{customdata[0]}<br>seq_est_len=%{customdata[1]}<extra></extra>",
         "legendgroup": "512",
         "marker": {
          "color": "#ab63fa",
          "symbol": "circle"
         },
         "mode": "markers",
         "name": "512",
         "orientation": "v",
         "showlegend": false,
         "type": "scatter",
         "x": [
          89,
          177,
          183,
          111,
          24,
          142,
          70,
          197,
          164,
          221,
          123,
          13,
          5,
          286,
          127,
          178,
          182,
          244,
          38,
          132,
          6,
          33,
          143,
          202
         ],
         "xaxis": "x3",
         "y": [
          98.09796905517578,
          97.97256469726562,
          97.81996154785156,
          97.79443359375,
          97.2500228881836,
          96.5070571899414,
          96.11097717285156,
          96.04197692871094,
          96.03013610839844,
          95.97941589355467,
          95.82217407226562,
          95.81404113769533,
          94.14578247070312,
          94.02220916748048,
          93.58039093017578,
          92.82573699951172,
          90.06961822509766,
          87.85369873046875,
          86.23270416259766,
          85.98072052001953,
          85.88803100585938,
          85.83757019042969,
          0,
          0
         ],
         "yaxis": "y3"
        }
       ],
       "layout": {
        "annotations": [
         {
          "font": {},
          "showarrow": false,
          "text": "est_type=LSTM",
          "x": 0.15666666666666665,
          "xanchor": "center",
          "xref": "paper",
          "y": 1,
          "yanchor": "bottom",
          "yref": "paper"
         },
         {
          "font": {},
          "showarrow": false,
          "text": "est_type=FF",
          "x": 0.49,
          "xanchor": "center",
          "xref": "paper",
          "y": 1,
          "yanchor": "bottom",
          "yref": "paper"
         },
         {
          "font": {},
          "showarrow": false,
          "text": "est_type=ZERO",
          "x": 0.8233333333333333,
          "xanchor": "center",
          "xref": "paper",
          "y": 1,
          "yanchor": "bottom",
          "yref": "paper"
         },
         {
          "font": {},
          "showarrow": false,
          "text": "est_direction=forward",
          "textangle": 90,
          "x": 0.98,
          "xanchor": "left",
          "xref": "paper",
          "y": 0.5,
          "yanchor": "middle",
          "yref": "paper"
         }
        ],
        "legend": {
         "title": {
          "text": "seq_len"
         },
         "tracegroupgap": 0
        },
        "margin": {
         "t": 60
        },
        "template": {
         "data": {
          "bar": [
           {
            "error_x": {
             "color": "#2a3f5f"
            },
            "error_y": {
             "color": "#2a3f5f"
            },
            "marker": {
             "line": {
              "color": "#E5ECF6",
              "width": 0.5
             },
             "pattern": {
              "fillmode": "overlay",
              "size": 10,
              "solidity": 0.2
             }
            },
            "type": "bar"
           }
          ],
          "barpolar": [
           {
            "marker": {
             "line": {
              "color": "#E5ECF6",
              "width": 0.5
             },
             "pattern": {
              "fillmode": "overlay",
              "size": 10,
              "solidity": 0.2
             }
            },
            "type": "barpolar"
           }
          ],
          "carpet": [
           {
            "aaxis": {
             "endlinecolor": "#2a3f5f",
             "gridcolor": "white",
             "linecolor": "white",
             "minorgridcolor": "white",
             "startlinecolor": "#2a3f5f"
            },
            "baxis": {
             "endlinecolor": "#2a3f5f",
             "gridcolor": "white",
             "linecolor": "white",
             "minorgridcolor": "white",
             "startlinecolor": "#2a3f5f"
            },
            "type": "carpet"
           }
          ],
          "choropleth": [
           {
            "colorbar": {
             "outlinewidth": 0,
             "ticks": ""
            },
            "type": "choropleth"
           }
          ],
          "contour": [
           {
            "colorbar": {
             "outlinewidth": 0,
             "ticks": ""
            },
            "colorscale": [
             [
              0,
              "#0d0887"
             ],
             [
              0.1111111111111111,
              "#46039f"
             ],
             [
              0.2222222222222222,
              "#7201a8"
             ],
             [
              0.3333333333333333,
              "#9c179e"
             ],
             [
              0.4444444444444444,
              "#bd3786"
             ],
             [
              0.5555555555555556,
              "#d8576b"
             ],
             [
              0.6666666666666666,
              "#ed7953"
             ],
             [
              0.7777777777777778,
              "#fb9f3a"
             ],
             [
              0.8888888888888888,
              "#fdca26"
             ],
             [
              1,
              "#f0f921"
             ]
            ],
            "type": "contour"
           }
          ],
          "contourcarpet": [
           {
            "colorbar": {
             "outlinewidth": 0,
             "ticks": ""
            },
            "type": "contourcarpet"
           }
          ],
          "heatmap": [
           {
            "colorbar": {
             "outlinewidth": 0,
             "ticks": ""
            },
            "colorscale": [
             [
              0,
              "#0d0887"
             ],
             [
              0.1111111111111111,
              "#46039f"
             ],
             [
              0.2222222222222222,
              "#7201a8"
             ],
             [
              0.3333333333333333,
              "#9c179e"
             ],
             [
              0.4444444444444444,
              "#bd3786"
             ],
             [
              0.5555555555555556,
              "#d8576b"
             ],
             [
              0.6666666666666666,
              "#ed7953"
             ],
             [
              0.7777777777777778,
              "#fb9f3a"
             ],
             [
              0.8888888888888888,
              "#fdca26"
             ],
             [
              1,
              "#f0f921"
             ]
            ],
            "type": "heatmap"
           }
          ],
          "heatmapgl": [
           {
            "colorbar": {
             "outlinewidth": 0,
             "ticks": ""
            },
            "colorscale": [
             [
              0,
              "#0d0887"
             ],
             [
              0.1111111111111111,
              "#46039f"
             ],
             [
              0.2222222222222222,
              "#7201a8"
             ],
             [
              0.3333333333333333,
              "#9c179e"
             ],
             [
              0.4444444444444444,
              "#bd3786"
             ],
             [
              0.5555555555555556,
              "#d8576b"
             ],
             [
              0.6666666666666666,
              "#ed7953"
             ],
             [
              0.7777777777777778,
              "#fb9f3a"
             ],
             [
              0.8888888888888888,
              "#fdca26"
             ],
             [
              1,
              "#f0f921"
             ]
            ],
            "type": "heatmapgl"
           }
          ],
          "histogram": [
           {
            "marker": {
             "pattern": {
              "fillmode": "overlay",
              "size": 10,
              "solidity": 0.2
             }
            },
            "type": "histogram"
           }
          ],
          "histogram2d": [
           {
            "colorbar": {
             "outlinewidth": 0,
             "ticks": ""
            },
            "colorscale": [
             [
              0,
              "#0d0887"
             ],
             [
              0.1111111111111111,
              "#46039f"
             ],
             [
              0.2222222222222222,
              "#7201a8"
             ],
             [
              0.3333333333333333,
              "#9c179e"
             ],
             [
              0.4444444444444444,
              "#bd3786"
             ],
             [
              0.5555555555555556,
              "#d8576b"
             ],
             [
              0.6666666666666666,
              "#ed7953"
             ],
             [
              0.7777777777777778,
              "#fb9f3a"
             ],
             [
              0.8888888888888888,
              "#fdca26"
             ],
             [
              1,
              "#f0f921"
             ]
            ],
            "type": "histogram2d"
           }
          ],
          "histogram2dcontour": [
           {
            "colorbar": {
             "outlinewidth": 0,
             "ticks": ""
            },
            "colorscale": [
             [
              0,
              "#0d0887"
             ],
             [
              0.1111111111111111,
              "#46039f"
             ],
             [
              0.2222222222222222,
              "#7201a8"
             ],
             [
              0.3333333333333333,
              "#9c179e"
             ],
             [
              0.4444444444444444,
              "#bd3786"
             ],
             [
              0.5555555555555556,
              "#d8576b"
             ],
             [
              0.6666666666666666,
              "#ed7953"
             ],
             [
              0.7777777777777778,
              "#fb9f3a"
             ],
             [
              0.8888888888888888,
              "#fdca26"
             ],
             [
              1,
              "#f0f921"
             ]
            ],
            "type": "histogram2dcontour"
           }
          ],
          "mesh3d": [
           {
            "colorbar": {
             "outlinewidth": 0,
             "ticks": ""
            },
            "type": "mesh3d"
           }
          ],
          "parcoords": [
           {
            "line": {
             "colorbar": {
              "outlinewidth": 0,
              "ticks": ""
             }
            },
            "type": "parcoords"
           }
          ],
          "pie": [
           {
            "automargin": true,
            "type": "pie"
           }
          ],
          "scatter": [
           {
            "marker": {
             "colorbar": {
              "outlinewidth": 0,
              "ticks": ""
             }
            },
            "type": "scatter"
           }
          ],
          "scatter3d": [
           {
            "line": {
             "colorbar": {
              "outlinewidth": 0,
              "ticks": ""
             }
            },
            "marker": {
             "colorbar": {
              "outlinewidth": 0,
              "ticks": ""
             }
            },
            "type": "scatter3d"
           }
          ],
          "scattercarpet": [
           {
            "marker": {
             "colorbar": {
              "outlinewidth": 0,
              "ticks": ""
             }
            },
            "type": "scattercarpet"
           }
          ],
          "scattergeo": [
           {
            "marker": {
             "colorbar": {
              "outlinewidth": 0,
              "ticks": ""
             }
            },
            "type": "scattergeo"
           }
          ],
          "scattergl": [
           {
            "marker": {
             "colorbar": {
              "outlinewidth": 0,
              "ticks": ""
             }
            },
            "type": "scattergl"
           }
          ],
          "scattermapbox": [
           {
            "marker": {
             "colorbar": {
              "outlinewidth": 0,
              "ticks": ""
             }
            },
            "type": "scattermapbox"
           }
          ],
          "scatterpolar": [
           {
            "marker": {
             "colorbar": {
              "outlinewidth": 0,
              "ticks": ""
             }
            },
            "type": "scatterpolar"
           }
          ],
          "scatterpolargl": [
           {
            "marker": {
             "colorbar": {
              "outlinewidth": 0,
              "ticks": ""
             }
            },
            "type": "scatterpolargl"
           }
          ],
          "scatterternary": [
           {
            "marker": {
             "colorbar": {
              "outlinewidth": 0,
              "ticks": ""
             }
            },
            "type": "scatterternary"
           }
          ],
          "surface": [
           {
            "colorbar": {
             "outlinewidth": 0,
             "ticks": ""
            },
            "colorscale": [
             [
              0,
              "#0d0887"
             ],
             [
              0.1111111111111111,
              "#46039f"
             ],
             [
              0.2222222222222222,
              "#7201a8"
             ],
             [
              0.3333333333333333,
              "#9c179e"
             ],
             [
              0.4444444444444444,
              "#bd3786"
             ],
             [
              0.5555555555555556,
              "#d8576b"
             ],
             [
              0.6666666666666666,
              "#ed7953"
             ],
             [
              0.7777777777777778,
              "#fb9f3a"
             ],
             [
              0.8888888888888888,
              "#fdca26"
             ],
             [
              1,
              "#f0f921"
             ]
            ],
            "type": "surface"
           }
          ],
          "table": [
           {
            "cells": {
             "fill": {
              "color": "#EBF0F8"
             },
             "line": {
              "color": "white"
             }
            },
            "header": {
             "fill": {
              "color": "#C8D4E3"
             },
             "line": {
              "color": "white"
             }
            },
            "type": "table"
           }
          ]
         },
         "layout": {
          "annotationdefaults": {
           "arrowcolor": "#2a3f5f",
           "arrowhead": 0,
           "arrowwidth": 1
          },
          "autotypenumbers": "strict",
          "coloraxis": {
           "colorbar": {
            "outlinewidth": 0,
            "ticks": ""
           }
          },
          "colorscale": {
           "diverging": [
            [
             0,
             "#8e0152"
            ],
            [
             0.1,
             "#c51b7d"
            ],
            [
             0.2,
             "#de77ae"
            ],
            [
             0.3,
             "#f1b6da"
            ],
            [
             0.4,
             "#fde0ef"
            ],
            [
             0.5,
             "#f7f7f7"
            ],
            [
             0.6,
             "#e6f5d0"
            ],
            [
             0.7,
             "#b8e186"
            ],
            [
             0.8,
             "#7fbc41"
            ],
            [
             0.9,
             "#4d9221"
            ],
            [
             1,
             "#276419"
            ]
           ],
           "sequential": [
            [
             0,
             "#0d0887"
            ],
            [
             0.1111111111111111,
             "#46039f"
            ],
            [
             0.2222222222222222,
             "#7201a8"
            ],
            [
             0.3333333333333333,
             "#9c179e"
            ],
            [
             0.4444444444444444,
             "#bd3786"
            ],
            [
             0.5555555555555556,
             "#d8576b"
            ],
            [
             0.6666666666666666,
             "#ed7953"
            ],
            [
             0.7777777777777778,
             "#fb9f3a"
            ],
            [
             0.8888888888888888,
             "#fdca26"
            ],
            [
             1,
             "#f0f921"
            ]
           ],
           "sequentialminus": [
            [
             0,
             "#0d0887"
            ],
            [
             0.1111111111111111,
             "#46039f"
            ],
            [
             0.2222222222222222,
             "#7201a8"
            ],
            [
             0.3333333333333333,
             "#9c179e"
            ],
            [
             0.4444444444444444,
             "#bd3786"
            ],
            [
             0.5555555555555556,
             "#d8576b"
            ],
            [
             0.6666666666666666,
             "#ed7953"
            ],
            [
             0.7777777777777778,
             "#fb9f3a"
            ],
            [
             0.8888888888888888,
             "#fdca26"
            ],
            [
             1,
             "#f0f921"
            ]
           ]
          },
          "colorway": [
           "#636efa",
           "#EF553B",
           "#00cc96",
           "#ab63fa",
           "#FFA15A",
           "#19d3f3",
           "#FF6692",
           "#B6E880",
           "#FF97FF",
           "#FECB52"
          ],
          "font": {
           "color": "#2a3f5f"
          },
          "geo": {
           "bgcolor": "white",
           "lakecolor": "white",
           "landcolor": "#E5ECF6",
           "showlakes": true,
           "showland": true,
           "subunitcolor": "white"
          },
          "hoverlabel": {
           "align": "left"
          },
          "hovermode": "closest",
          "mapbox": {
           "style": "light"
          },
          "paper_bgcolor": "white",
          "plot_bgcolor": "#E5ECF6",
          "polar": {
           "angularaxis": {
            "gridcolor": "white",
            "linecolor": "white",
            "ticks": ""
           },
           "bgcolor": "#E5ECF6",
           "radialaxis": {
            "gridcolor": "white",
            "linecolor": "white",
            "ticks": ""
           }
          },
          "scene": {
           "xaxis": {
            "backgroundcolor": "#E5ECF6",
            "gridcolor": "white",
            "gridwidth": 2,
            "linecolor": "white",
            "showbackground": true,
            "ticks": "",
            "zerolinecolor": "white"
           },
           "yaxis": {
            "backgroundcolor": "#E5ECF6",
            "gridcolor": "white",
            "gridwidth": 2,
            "linecolor": "white",
            "showbackground": true,
            "ticks": "",
            "zerolinecolor": "white"
           },
           "zaxis": {
            "backgroundcolor": "#E5ECF6",
            "gridcolor": "white",
            "gridwidth": 2,
            "linecolor": "white",
            "showbackground": true,
            "ticks": "",
            "zerolinecolor": "white"
           }
          },
          "shapedefaults": {
           "line": {
            "color": "#2a3f5f"
           }
          },
          "ternary": {
           "aaxis": {
            "gridcolor": "white",
            "linecolor": "white",
            "ticks": ""
           },
           "baxis": {
            "gridcolor": "white",
            "linecolor": "white",
            "ticks": ""
           },
           "bgcolor": "#E5ECF6",
           "caxis": {
            "gridcolor": "white",
            "linecolor": "white",
            "ticks": ""
           }
          },
          "title": {
           "x": 0.05
          },
          "xaxis": {
           "automargin": true,
           "gridcolor": "white",
           "linecolor": "white",
           "ticks": "",
           "title": {
            "standoff": 15
           },
           "zerolinecolor": "white",
           "zerolinewidth": 2
          },
          "yaxis": {
           "automargin": true,
           "gridcolor": "white",
           "linecolor": "white",
           "ticks": "",
           "title": {
            "standoff": 15
           },
           "zerolinecolor": "white",
           "zerolinewidth": 2
          }
         }
        },
        "xaxis": {
         "anchor": "y",
         "domain": [
          0,
          0.3133333333333333
         ],
         "title": {
          "text": "index"
         }
        },
        "xaxis2": {
         "anchor": "y2",
         "domain": [
          0.3333333333333333,
          0.6466666666666666
         ],
         "matches": "x",
         "title": {
          "text": "index"
         }
        },
        "xaxis3": {
         "anchor": "y3",
         "domain": [
          0.6666666666666666,
          0.98
         ],
         "matches": "x",
         "title": {
          "text": "index"
         }
        },
        "yaxis": {
         "anchor": "x",
         "domain": [
          0,
          1
         ],
         "title": {
          "text": "FIT"
         }
        },
        "yaxis2": {
         "anchor": "x2",
         "domain": [
          0,
          1
         ],
         "matches": "y",
         "showticklabels": false
        },
        "yaxis3": {
         "anchor": "x3",
         "domain": [
          0,
          1
         ],
         "matches": "y",
         "showticklabels": false
        }
       }
      },
      "text/html": [
       "<div>                            <div id=\"88bd2f35-de8d-4fd1-9ca4-d22580ab441f\" class=\"plotly-graph-div\" style=\"height:525px; width:100%;\"></div>            <script type=\"text/javascript\">                require([\"plotly\"], function(Plotly) {                    window.PLOTLYENV=window.PLOTLYENV || {};                                    if (document.getElementById(\"88bd2f35-de8d-4fd1-9ca4-d22580ab441f\")) {                    Plotly.newPlot(                        \"88bd2f35-de8d-4fd1-9ca4-d22580ab441f\",                        [{\"customdata\":[[1800,100],[1800,50],[1800,10],[1800,10],[1800,10],[1800,100],[1800,50],[1800,50],[1800,100],[1800,10],[300,100],[300,50],[300,50],[1800,100],[300,100],[1800,50],[300,10],[300,10],[300,50],[300,100],[300,100],[300,10],[300,50],[300,10]],\"hovertemplate\":\"seq_len=80<br>est_direction=forward<br>est_type=LSTM<br>index=%{x}<br>FIT=%{y}<br>max_time=%{customdata[0]}<br>seq_est_len=%{customdata[1]}<extra></extra>\",\"legendgroup\":\"80\",\"marker\":{\"color\":\"#636efa\",\"symbol\":\"circle\"},\"mode\":\"markers\",\"name\":\"80\",\"orientation\":\"v\",\"showlegend\":true,\"type\":\"scatter\",\"x\":[213,27,31,53,32,22,139,278,173,239,94,63,64,29,26,74,129,252,102,124,255,172,287,116],\"xaxis\":\"x\",\"y\":[98.58680725097656,98.53496551513672,98.4969482421875,98.4884262084961,98.46688079833984,98.45762634277344,98.2368392944336,98.223388671875,98.1307601928711,98.07433319091795,97.98046875,97.8382797241211,97.7503433227539,97.60299682617188,97.48182678222656,96.94878387451172,96.46463775634766,96.3250961303711,95.35894775390624,95.19278717041016,95.13353729248048,94.66151428222656,93.26336669921876,91.77867889404295],\"yaxis\":\"y\"},{\"customdata\":[[1800,10],[1800,100],[1800,100],[1800,50],[1800,10],[1800,100],[1800,50],[1800,100],[300,100],[300,100],[300,50],[300,10],[300,10],[1800,10],[1800,50],[300,50],[1800,10],[1800,50],[300,50],[300,10],[300,100],[300,50],[300,100],[300,10]],\"hovertemplate\":\"seq_len=80<br>est_direction=forward<br>est_type=FF<br>index=%{x}<br>FIT=%{y}<br>max_time=%{customdata[0]}<br>seq_est_len=%{customdata[1]}<extra></extra>\",\"legendgroup\":\"80\",\"marker\":{\"color\":\"#636efa\",\"symbol\":\"circle\"},\"mode\":\"markers\",\"name\":\"80\",\"orientation\":\"v\",\"showlegend\":false,\"type\":\"scatter\",\"x\":[285,98,201,103,23,240,10,275,125,215,146,271,8,268,219,226,17,104,261,133,16,57,76,52],\"xaxis\":\"x2\",\"y\":[98.46003723144533,98.39405059814452,98.30818939208984,98.26296997070312,98.23778533935548,98.22810363769533,98.089599609375,97.79410552978516,97.55642700195312,97.50176239013672,97.3860321044922,97.33839416503906,97.2458038330078,97.0489501953125,97.02205657958984,96.86779022216795,96.60385131835938,96.44806671142578,95.67823791503906,95.38463592529295,95.2631378173828,94.43880462646484,94.14337158203124,93.90574645996094],\"yaxis\":\"y2\"},{\"customdata\":[[300,50],[1800,50],[1800,100],[1800,50],[1800,50],[1800,100],[300,10],[1800,10],[1800,100],[300,100],[1800,10],[1800,10],[300,10],[1800,100],[300,100],[300,50],[300,10],[300,100],[300,50],[300,50],[300,100],[1800,50],[1800,10],[300,10]],\"hovertemplate\":\"seq_len=80<br>est_direction=forward<br>est_type=ZERO<br>index=%{x}<br>FIT=%{y}<br>max_time=%{customdata[0]}<br>seq_est_len=%{customdata[1]}<extra></extra>\",\"legendgroup\":\"80\",\"marker\":{\"color\":\"#636efa\",\"symbol\":\"circle\"},\"mode\":\"markers\",\"name\":\"80\",\"orientation\":\"v\",\"showlegend\":false,\"type\":\"scatter\",\"x\":[99,135,130,0,259,192,274,186,209,34,44,222,95,243,248,174,228,165,157,43,184,205,245,60],\"xaxis\":\"x3\",\"y\":[96.79696655273438,96.76136779785156,96.68460083007812,96.59369659423828,96.41283416748048,96.22171020507812,96.19200134277344,96.14441680908205,96.1142349243164,96.08953857421876,96.00231170654295,95.74041748046876,95.6724853515625,95.48313903808594,94.92473602294922,94.826171875,94.571044921875,94.36531066894533,93.83489227294922,93.55696105957033,93.15957641601562,92.72718048095705,92.52721405029295,92.49607849121094],\"yaxis\":\"y3\"},{\"customdata\":[[1800,50],[1800,50],[1800,100],[1800,100],[1800,10],[1800,10],[1800,50],[1800,100],[1800,100],[300,100],[300,100],[300,10],[1800,10],[1800,50],[300,50],[300,10],[300,50],[300,100],[300,10],[1800,10],[300,50],[300,100],[300,50],[300,10]],\"hovertemplate\":\"seq_len=40<br>est_direction=forward<br>est_type=LSTM<br>index=%{x}<br>FIT=%{y}<br>max_time=%{customdata[0]}<br>seq_est_len=%{customdata[1]}<extra></extra>\",\"legendgroup\":\"40\",\"marker\":{\"color\":\"#EF553B\",\"symbol\":\"circle\"},\"mode\":\"markers\",\"name\":\"40\",\"orientation\":\"v\",\"showlegend\":true,\"type\":\"scatter\",\"x\":[283,126,83,86,56,148,206,61,195,106,138,113,171,179,25,224,241,246,225,141,100,234,136,218],\"xaxis\":\"x\",\"y\":[98.44957733154295,98.2842254638672,98.2643814086914,98.26375579833984,98.1392822265625,98.0548858642578,98.02249908447266,97.87517547607422,97.76569366455078,97.56678771972656,97.51976776123048,97.38973236083984,97.19845581054688,97.06703186035156,95.83998107910156,95.10485076904295,94.88628387451172,94.64602661132812,94.30842590332033,92.8463134765625,92.40475463867188,92.0679168701172,88.3292236328125,76.86139678955078],\"yaxis\":\"y\"},{\"customdata\":[[1800,10],[1800,100],[1800,10],[1800,50],[1800,100],[1800,10],[1800,100],[1800,50],[300,50],[1800,100],[300,100],[300,10],[1800,50],[300,100],[300,50],[300,50],[300,10],[300,100],[1800,10],[1800,50],[300,50],[300,100],[300,10],[300,10]],\"hovertemplate\":\"seq_len=40<br>est_direction=forward<br>est_type=FF<br>index=%{x}<br>FIT=%{y}<br>max_time=%{customdata[0]}<br>seq_est_len=%{customdata[1]}<extra></extra>\",\"legendgroup\":\"40\",\"marker\":{\"color\":\"#EF553B\",\"symbol\":\"circle\"},\"mode\":\"markers\",\"name\":\"40\",\"orientation\":\"v\",\"showlegend\":false,\"type\":\"scatter\",\"x\":[36,217,120,229,49,35,187,51,1,154,110,155,82,257,145,128,163,267,107,118,42,78,156,96],\"xaxis\":\"x2\",\"y\":[98.54400634765624,98.38992309570312,98.2978057861328,98.1858901977539,97.4082260131836,97.30813598632812,97.0586929321289,97.00202941894533,96.7027816772461,96.66754150390624,96.56224060058594,96.41224670410156,95.52284240722656,95.47371673583984,94.30818176269533,93.75218963623048,93.6327667236328,93.30973815917967,92.83831024169922,92.76483917236328,92.5580062866211,92.48625946044922,92.35808563232422,90.20700073242188],\"yaxis\":\"y2\"},{\"customdata\":[[1800,100],[1800,10],[1800,100],[300,100],[1800,100],[1800,50],[300,50],[1800,50],[1800,50],[1800,10],[300,10],[300,100],[1800,10],[300,10],[1800,10],[300,50],[1800,50],[300,100],[1800,100],[300,50],[300,100],[300,10],[300,50],[300,10]],\"hovertemplate\":\"seq_len=40<br>est_direction=forward<br>est_type=ZERO<br>index=%{x}<br>FIT=%{y}<br>max_time=%{customdata[0]}<br>seq_est_len=%{customdata[1]}<extra></extra>\",\"legendgroup\":\"40\",\"marker\":{\"color\":\"#EF553B\",\"symbol\":\"circle\"},\"mode\":\"markers\",\"name\":\"40\",\"orientation\":\"v\",\"showlegend\":false,\"type\":\"scatter\",\"x\":[180,280,67,223,253,18,175,117,144,151,161,37,262,196,254,112,232,80,97,81,28,79,7,30],\"xaxis\":\"x3\",\"y\":[95.32396697998048,94.94505310058594,94.5956573486328,94.54354858398438,94.53494262695312,93.40180206298828,93.33170318603516,93.10594940185548,93.06950378417967,93.02685546875,92.81810760498048,90.33795928955078,89.52302551269531,89.4087905883789,89.30560302734375,89.30057525634766,89.03380584716797,88.43577575683594,88.33271026611328,87.98604583740234,87.81255340576172,87.23623657226562,86.24456787109375,84.37820434570312],\"yaxis\":\"y3\"},{\"customdata\":[[1800,100],[1800,10],[1800,100],[1800,10],[1800,50],[1800,50],[1800,10],[1800,50],[1800,50],[300,50],[300,10],[300,100],[300,10],[1800,10],[1800,100],[300,100],[1800,100],[300,50],[300,50],[300,10],[300,100],[300,100],[300,10],[300,50]],\"hovertemplate\":\"seq_len=256<br>est_direction=forward<br>est_type=LSTM<br>index=%{x}<br>FIT=%{y}<br>max_time=%{customdata[0]}<br>seq_est_len=%{customdata[1]}<extra></extra>\",\"legendgroup\":\"256\",\"marker\":{\"color\":\"#00cc96\",\"symbol\":\"circle\"},\"mode\":\"markers\",\"name\":\"256\",\"orientation\":\"v\",\"showlegend\":true,\"type\":\"scatter\",\"x\":[277,4,258,45,210,200,208,65,159,162,58,85,77,233,149,250,73,212,193,236,190,88,269,194],\"xaxis\":\"x\",\"y\":[98.39879608154295,98.32357788085938,98.14122009277344,98.00109100341795,97.94593048095705,97.89498138427734,97.7492904663086,97.33345794677734,97.21639251708984,97.2012176513672,96.93067169189452,96.66441345214844,96.5583953857422,96.12115478515624,95.95955657958984,95.79283905029295,95.4578628540039,92.34676361083984,91.81803894042967,91.55833435058594,90.90785217285156,90.60907745361328,87.417724609375,0.0],\"yaxis\":\"y\"},{\"customdata\":[[1800,50],[1800,10],[1800,100],[1800,50],[1800,10],[1800,100],[1800,100],[1800,10],[300,10],[1800,10],[300,50],[300,50],[300,100],[300,10],[300,100],[1800,100],[1800,50],[1800,50],[300,10],[300,100],[300,10],[300,50],[300,50],[300,100]],\"hovertemplate\":\"seq_len=256<br>est_direction=forward<br>est_type=FF<br>index=%{x}<br>FIT=%{y}<br>max_time=%{customdata[0]}<br>seq_est_len=%{customdata[1]}<extra></extra>\",\"legendgroup\":\"256\",\"marker\":{\"color\":\"#00cc96\",\"symbol\":\"circle\"},\"mode\":\"markers\",\"name\":\"256\",\"orientation\":\"v\",\"showlegend\":false,\"type\":\"scatter\",\"x\":[166,150,247,256,152,71,109,167,122,75,84,281,220,207,211,176,282,55,134,48,264,169,90,41],\"xaxis\":\"x2\",\"y\":[98.4680633544922,98.44108581542967,98.38732147216795,98.34089660644533,98.3311004638672,98.24288177490234,98.06573486328124,97.49170684814452,97.00376892089844,96.44161987304688,96.28184509277344,96.26058959960938,96.12242889404295,96.0395965576172,96.03711700439452,95.87214660644533,95.83782196044922,95.58983612060548,92.95830535888672,92.7301025390625,92.1386489868164,91.15612030029295,89.47547912597656,89.09001922607422],\"yaxis\":\"y2\"},{\"customdata\":[[1800,100],[1800,10],[1800,50],[1800,10],[1800,50],[1800,50],[300,50],[1800,10],[300,10],[1800,100],[300,50],[300,100],[300,10],[1800,100],[1800,100],[1800,10],[300,100],[300,50],[300,10],[300,100],[300,10],[300,100],[300,50],[1800,50]],\"hovertemplate\":\"seq_len=256<br>est_direction=forward<br>est_type=ZERO<br>index=%{x}<br>FIT=%{y}<br>max_time=%{customdata[0]}<br>seq_est_len=%{customdata[1]}<extra></extra>\",\"legendgroup\":\"256\",\"marker\":{\"color\":\"#00cc96\",\"symbol\":\"circle\"},\"mode\":\"markers\",\"name\":\"256\",\"orientation\":\"v\",\"showlegend\":false,\"type\":\"scatter\",\"x\":[105,198,9,238,54,62,11,185,272,39,69,230,121,279,131,235,237,101,15,147,199,260,203,68],\"xaxis\":\"x3\",\"y\":[98.22978973388672,97.86749267578124,97.62957763671876,97.35780334472656,97.26769256591795,97.25592803955078,97.17332458496094,97.10291290283205,96.96337890625,96.80670928955078,96.74951171875,96.72381591796876,96.05409240722656,96.00379180908205,95.96144104003906,95.90046691894533,95.66205596923828,93.8100814819336,93.36802673339844,93.00537109375,92.1929702758789,90.24122619628906,89.26510620117188,0.0],\"yaxis\":\"y3\"},{\"customdata\":[[1800,50],[1800,10],[1800,100],[1800,100],[1800,50],[1800,50],[1800,100],[1800,10],[1800,10],[1800,100],[300,100],[300,100],[300,50],[300,50],[300,50],[300,100],[300,10],[300,10],[300,100],[1800,10],[300,50],[300,10],[1800,50],[300,10]],\"hovertemplate\":\"seq_len=512<br>est_direction=forward<br>est_type=LSTM<br>index=%{x}<br>FIT=%{y}<br>max_time=%{customdata[0]}<br>seq_est_len=%{customdata[1]}<extra></extra>\",\"legendgroup\":\"512\",\"marker\":{\"color\":\"#ab63fa\",\"symbol\":\"circle\"},\"mode\":\"markers\",\"name\":\"512\",\"orientation\":\"v\",\"showlegend\":true,\"type\":\"scatter\",\"x\":[270,21,72,284,50,251,87,160,214,266,40,276,227,170,168,216,265,273,3,59,66,153,191,242],\"xaxis\":\"x\",\"y\":[98.2847137451172,97.7448959350586,97.6002426147461,97.50208282470705,96.77342987060548,96.52906036376952,96.30540466308594,95.04939270019533,94.71673583984376,94.5332260131836,94.4521255493164,94.06350708007812,93.3071746826172,90.19969940185548,89.92375183105469,87.9871826171875,87.74431610107422,86.15328216552734,85.96220397949219,0.0,0.0,0.0,0.0,0.0],\"yaxis\":\"y\"},{\"customdata\":[[1800,100],[1800,10],[1800,100],[1800,100],[1800,50],[300,50],[1800,50],[1800,10],[1800,100],[1800,10],[300,100],[300,100],[300,50],[300,10],[300,50],[300,10],[300,100],[1800,10],[300,10],[1800,50],[1800,50],[300,100],[300,50],[300,10]],\"hovertemplate\":\"seq_len=512<br>est_direction=forward<br>est_type=FF<br>index=%{x}<br>FIT=%{y}<br>max_time=%{customdata[0]}<br>seq_est_len=%{customdata[1]}<extra></extra>\",\"legendgroup\":\"512\",\"marker\":{\"color\":\"#ab63fa\",\"symbol\":\"circle\"},\"mode\":\"markers\",\"name\":\"512\",\"orientation\":\"v\",\"showlegend\":false,\"type\":\"scatter\",\"x\":[263,20,115,114,189,137,204,140,47,231,108,92,91,188,119,249,2,12,14,19,46,93,158,181],\"xaxis\":\"x2\",\"y\":[98.34349060058594,98.109130859375,97.37918853759766,96.99890899658205,96.02516174316406,95.794677734375,95.74341583251952,95.67951202392578,94.80684661865234,94.79309844970705,94.25230407714844,90.08551025390624,89.37981414794922,88.60636138916016,88.38751220703125,88.06825256347656,86.41252899169922,0.0,0.0,0.0,0.0,0.0,0.0,0.0],\"yaxis\":\"y2\"},{\"customdata\":[[1800,50],[1800,10],[1800,100],[1800,100],[1800,10],[300,10],[1800,100],[1800,100],[1800,10],[1800,10],[1800,50],[1800,50],[300,100],[300,50],[300,100],[300,10],[300,50],[300,10],[300,50],[300,100],[300,10],[300,100],[300,50],[1800,50]],\"hovertemplate\":\"seq_len=512<br>est_direction=forward<br>est_type=ZERO<br>index=%{x}<br>FIT=%{y}<br>max_time=%{customdata[0]}<br>seq_est_len=%{customdata[1]}<extra></extra>\",\"legendgroup\":\"512\",\"marker\":{\"color\":\"#ab63fa\",\"symbol\":\"circle\"},\"mode\":\"markers\",\"name\":\"512\",\"orientation\":\"v\",\"showlegend\":false,\"type\":\"scatter\",\"x\":[89,177,183,111,24,142,70,197,164,221,123,13,5,286,127,178,182,244,38,132,6,33,143,202],\"xaxis\":\"x3\",\"y\":[98.09796905517578,97.97256469726562,97.81996154785156,97.79443359375,97.2500228881836,96.5070571899414,96.11097717285156,96.04197692871094,96.03013610839844,95.97941589355467,95.82217407226562,95.81404113769533,94.14578247070312,94.02220916748048,93.58039093017578,92.82573699951172,90.06961822509766,87.85369873046875,86.23270416259766,85.98072052001953,85.88803100585938,85.83757019042969,0.0,0.0],\"yaxis\":\"y3\"}],                        {\"annotations\":[{\"font\":{},\"showarrow\":false,\"text\":\"est_type=LSTM\",\"x\":0.15666666666666665,\"xanchor\":\"center\",\"xref\":\"paper\",\"y\":1.0,\"yanchor\":\"bottom\",\"yref\":\"paper\"},{\"font\":{},\"showarrow\":false,\"text\":\"est_type=FF\",\"x\":0.49,\"xanchor\":\"center\",\"xref\":\"paper\",\"y\":1.0,\"yanchor\":\"bottom\",\"yref\":\"paper\"},{\"font\":{},\"showarrow\":false,\"text\":\"est_type=ZERO\",\"x\":0.8233333333333333,\"xanchor\":\"center\",\"xref\":\"paper\",\"y\":1.0,\"yanchor\":\"bottom\",\"yref\":\"paper\"},{\"font\":{},\"showarrow\":false,\"text\":\"est_direction=forward\",\"textangle\":90,\"x\":0.98,\"xanchor\":\"left\",\"xref\":\"paper\",\"y\":0.5,\"yanchor\":\"middle\",\"yref\":\"paper\"}],\"legend\":{\"title\":{\"text\":\"seq_len\"},\"tracegroupgap\":0},\"margin\":{\"t\":60},\"template\":{\"data\":{\"bar\":[{\"error_x\":{\"color\":\"#2a3f5f\"},\"error_y\":{\"color\":\"#2a3f5f\"},\"marker\":{\"line\":{\"color\":\"#E5ECF6\",\"width\":0.5},\"pattern\":{\"fillmode\":\"overlay\",\"size\":10,\"solidity\":0.2}},\"type\":\"bar\"}],\"barpolar\":[{\"marker\":{\"line\":{\"color\":\"#E5ECF6\",\"width\":0.5},\"pattern\":{\"fillmode\":\"overlay\",\"size\":10,\"solidity\":0.2}},\"type\":\"barpolar\"}],\"carpet\":[{\"aaxis\":{\"endlinecolor\":\"#2a3f5f\",\"gridcolor\":\"white\",\"linecolor\":\"white\",\"minorgridcolor\":\"white\",\"startlinecolor\":\"#2a3f5f\"},\"baxis\":{\"endlinecolor\":\"#2a3f5f\",\"gridcolor\":\"white\",\"linecolor\":\"white\",\"minorgridcolor\":\"white\",\"startlinecolor\":\"#2a3f5f\"},\"type\":\"carpet\"}],\"choropleth\":[{\"colorbar\":{\"outlinewidth\":0,\"ticks\":\"\"},\"type\":\"choropleth\"}],\"contour\":[{\"colorbar\":{\"outlinewidth\":0,\"ticks\":\"\"},\"colorscale\":[[0.0,\"#0d0887\"],[0.1111111111111111,\"#46039f\"],[0.2222222222222222,\"#7201a8\"],[0.3333333333333333,\"#9c179e\"],[0.4444444444444444,\"#bd3786\"],[0.5555555555555556,\"#d8576b\"],[0.6666666666666666,\"#ed7953\"],[0.7777777777777778,\"#fb9f3a\"],[0.8888888888888888,\"#fdca26\"],[1.0,\"#f0f921\"]],\"type\":\"contour\"}],\"contourcarpet\":[{\"colorbar\":{\"outlinewidth\":0,\"ticks\":\"\"},\"type\":\"contourcarpet\"}],\"heatmap\":[{\"colorbar\":{\"outlinewidth\":0,\"ticks\":\"\"},\"colorscale\":[[0.0,\"#0d0887\"],[0.1111111111111111,\"#46039f\"],[0.2222222222222222,\"#7201a8\"],[0.3333333333333333,\"#9c179e\"],[0.4444444444444444,\"#bd3786\"],[0.5555555555555556,\"#d8576b\"],[0.6666666666666666,\"#ed7953\"],[0.7777777777777778,\"#fb9f3a\"],[0.8888888888888888,\"#fdca26\"],[1.0,\"#f0f921\"]],\"type\":\"heatmap\"}],\"heatmapgl\":[{\"colorbar\":{\"outlinewidth\":0,\"ticks\":\"\"},\"colorscale\":[[0.0,\"#0d0887\"],[0.1111111111111111,\"#46039f\"],[0.2222222222222222,\"#7201a8\"],[0.3333333333333333,\"#9c179e\"],[0.4444444444444444,\"#bd3786\"],[0.5555555555555556,\"#d8576b\"],[0.6666666666666666,\"#ed7953\"],[0.7777777777777778,\"#fb9f3a\"],[0.8888888888888888,\"#fdca26\"],[1.0,\"#f0f921\"]],\"type\":\"heatmapgl\"}],\"histogram\":[{\"marker\":{\"pattern\":{\"fillmode\":\"overlay\",\"size\":10,\"solidity\":0.2}},\"type\":\"histogram\"}],\"histogram2d\":[{\"colorbar\":{\"outlinewidth\":0,\"ticks\":\"\"},\"colorscale\":[[0.0,\"#0d0887\"],[0.1111111111111111,\"#46039f\"],[0.2222222222222222,\"#7201a8\"],[0.3333333333333333,\"#9c179e\"],[0.4444444444444444,\"#bd3786\"],[0.5555555555555556,\"#d8576b\"],[0.6666666666666666,\"#ed7953\"],[0.7777777777777778,\"#fb9f3a\"],[0.8888888888888888,\"#fdca26\"],[1.0,\"#f0f921\"]],\"type\":\"histogram2d\"}],\"histogram2dcontour\":[{\"colorbar\":{\"outlinewidth\":0,\"ticks\":\"\"},\"colorscale\":[[0.0,\"#0d0887\"],[0.1111111111111111,\"#46039f\"],[0.2222222222222222,\"#7201a8\"],[0.3333333333333333,\"#9c179e\"],[0.4444444444444444,\"#bd3786\"],[0.5555555555555556,\"#d8576b\"],[0.6666666666666666,\"#ed7953\"],[0.7777777777777778,\"#fb9f3a\"],[0.8888888888888888,\"#fdca26\"],[1.0,\"#f0f921\"]],\"type\":\"histogram2dcontour\"}],\"mesh3d\":[{\"colorbar\":{\"outlinewidth\":0,\"ticks\":\"\"},\"type\":\"mesh3d\"}],\"parcoords\":[{\"line\":{\"colorbar\":{\"outlinewidth\":0,\"ticks\":\"\"}},\"type\":\"parcoords\"}],\"pie\":[{\"automargin\":true,\"type\":\"pie\"}],\"scatter\":[{\"marker\":{\"colorbar\":{\"outlinewidth\":0,\"ticks\":\"\"}},\"type\":\"scatter\"}],\"scatter3d\":[{\"line\":{\"colorbar\":{\"outlinewidth\":0,\"ticks\":\"\"}},\"marker\":{\"colorbar\":{\"outlinewidth\":0,\"ticks\":\"\"}},\"type\":\"scatter3d\"}],\"scattercarpet\":[{\"marker\":{\"colorbar\":{\"outlinewidth\":0,\"ticks\":\"\"}},\"type\":\"scattercarpet\"}],\"scattergeo\":[{\"marker\":{\"colorbar\":{\"outlinewidth\":0,\"ticks\":\"\"}},\"type\":\"scattergeo\"}],\"scattergl\":[{\"marker\":{\"colorbar\":{\"outlinewidth\":0,\"ticks\":\"\"}},\"type\":\"scattergl\"}],\"scattermapbox\":[{\"marker\":{\"colorbar\":{\"outlinewidth\":0,\"ticks\":\"\"}},\"type\":\"scattermapbox\"}],\"scatterpolar\":[{\"marker\":{\"colorbar\":{\"outlinewidth\":0,\"ticks\":\"\"}},\"type\":\"scatterpolar\"}],\"scatterpolargl\":[{\"marker\":{\"colorbar\":{\"outlinewidth\":0,\"ticks\":\"\"}},\"type\":\"scatterpolargl\"}],\"scatterternary\":[{\"marker\":{\"colorbar\":{\"outlinewidth\":0,\"ticks\":\"\"}},\"type\":\"scatterternary\"}],\"surface\":[{\"colorbar\":{\"outlinewidth\":0,\"ticks\":\"\"},\"colorscale\":[[0.0,\"#0d0887\"],[0.1111111111111111,\"#46039f\"],[0.2222222222222222,\"#7201a8\"],[0.3333333333333333,\"#9c179e\"],[0.4444444444444444,\"#bd3786\"],[0.5555555555555556,\"#d8576b\"],[0.6666666666666666,\"#ed7953\"],[0.7777777777777778,\"#fb9f3a\"],[0.8888888888888888,\"#fdca26\"],[1.0,\"#f0f921\"]],\"type\":\"surface\"}],\"table\":[{\"cells\":{\"fill\":{\"color\":\"#EBF0F8\"},\"line\":{\"color\":\"white\"}},\"header\":{\"fill\":{\"color\":\"#C8D4E3\"},\"line\":{\"color\":\"white\"}},\"type\":\"table\"}]},\"layout\":{\"annotationdefaults\":{\"arrowcolor\":\"#2a3f5f\",\"arrowhead\":0,\"arrowwidth\":1},\"autotypenumbers\":\"strict\",\"coloraxis\":{\"colorbar\":{\"outlinewidth\":0,\"ticks\":\"\"}},\"colorscale\":{\"diverging\":[[0,\"#8e0152\"],[0.1,\"#c51b7d\"],[0.2,\"#de77ae\"],[0.3,\"#f1b6da\"],[0.4,\"#fde0ef\"],[0.5,\"#f7f7f7\"],[0.6,\"#e6f5d0\"],[0.7,\"#b8e186\"],[0.8,\"#7fbc41\"],[0.9,\"#4d9221\"],[1,\"#276419\"]],\"sequential\":[[0.0,\"#0d0887\"],[0.1111111111111111,\"#46039f\"],[0.2222222222222222,\"#7201a8\"],[0.3333333333333333,\"#9c179e\"],[0.4444444444444444,\"#bd3786\"],[0.5555555555555556,\"#d8576b\"],[0.6666666666666666,\"#ed7953\"],[0.7777777777777778,\"#fb9f3a\"],[0.8888888888888888,\"#fdca26\"],[1.0,\"#f0f921\"]],\"sequentialminus\":[[0.0,\"#0d0887\"],[0.1111111111111111,\"#46039f\"],[0.2222222222222222,\"#7201a8\"],[0.3333333333333333,\"#9c179e\"],[0.4444444444444444,\"#bd3786\"],[0.5555555555555556,\"#d8576b\"],[0.6666666666666666,\"#ed7953\"],[0.7777777777777778,\"#fb9f3a\"],[0.8888888888888888,\"#fdca26\"],[1.0,\"#f0f921\"]]},\"colorway\":[\"#636efa\",\"#EF553B\",\"#00cc96\",\"#ab63fa\",\"#FFA15A\",\"#19d3f3\",\"#FF6692\",\"#B6E880\",\"#FF97FF\",\"#FECB52\"],\"font\":{\"color\":\"#2a3f5f\"},\"geo\":{\"bgcolor\":\"white\",\"lakecolor\":\"white\",\"landcolor\":\"#E5ECF6\",\"showlakes\":true,\"showland\":true,\"subunitcolor\":\"white\"},\"hoverlabel\":{\"align\":\"left\"},\"hovermode\":\"closest\",\"mapbox\":{\"style\":\"light\"},\"paper_bgcolor\":\"white\",\"plot_bgcolor\":\"#E5ECF6\",\"polar\":{\"angularaxis\":{\"gridcolor\":\"white\",\"linecolor\":\"white\",\"ticks\":\"\"},\"bgcolor\":\"#E5ECF6\",\"radialaxis\":{\"gridcolor\":\"white\",\"linecolor\":\"white\",\"ticks\":\"\"}},\"scene\":{\"xaxis\":{\"backgroundcolor\":\"#E5ECF6\",\"gridcolor\":\"white\",\"gridwidth\":2,\"linecolor\":\"white\",\"showbackground\":true,\"ticks\":\"\",\"zerolinecolor\":\"white\"},\"yaxis\":{\"backgroundcolor\":\"#E5ECF6\",\"gridcolor\":\"white\",\"gridwidth\":2,\"linecolor\":\"white\",\"showbackground\":true,\"ticks\":\"\",\"zerolinecolor\":\"white\"},\"zaxis\":{\"backgroundcolor\":\"#E5ECF6\",\"gridcolor\":\"white\",\"gridwidth\":2,\"linecolor\":\"white\",\"showbackground\":true,\"ticks\":\"\",\"zerolinecolor\":\"white\"}},\"shapedefaults\":{\"line\":{\"color\":\"#2a3f5f\"}},\"ternary\":{\"aaxis\":{\"gridcolor\":\"white\",\"linecolor\":\"white\",\"ticks\":\"\"},\"baxis\":{\"gridcolor\":\"white\",\"linecolor\":\"white\",\"ticks\":\"\"},\"bgcolor\":\"#E5ECF6\",\"caxis\":{\"gridcolor\":\"white\",\"linecolor\":\"white\",\"ticks\":\"\"}},\"title\":{\"x\":0.05},\"xaxis\":{\"automargin\":true,\"gridcolor\":\"white\",\"linecolor\":\"white\",\"ticks\":\"\",\"title\":{\"standoff\":15},\"zerolinecolor\":\"white\",\"zerolinewidth\":2},\"yaxis\":{\"automargin\":true,\"gridcolor\":\"white\",\"linecolor\":\"white\",\"ticks\":\"\",\"title\":{\"standoff\":15},\"zerolinecolor\":\"white\",\"zerolinewidth\":2}}},\"xaxis\":{\"anchor\":\"y\",\"domain\":[0.0,0.3133333333333333],\"title\":{\"text\":\"index\"}},\"xaxis2\":{\"anchor\":\"y2\",\"domain\":[0.3333333333333333,0.6466666666666666],\"matches\":\"x\",\"title\":{\"text\":\"index\"}},\"xaxis3\":{\"anchor\":\"y3\",\"domain\":[0.6666666666666666,0.98],\"matches\":\"x\",\"title\":{\"text\":\"index\"}},\"yaxis\":{\"anchor\":\"x\",\"domain\":[0.0,1.0],\"title\":{\"text\":\"FIT\"}},\"yaxis2\":{\"anchor\":\"x2\",\"domain\":[0.0,1.0],\"matches\":\"y\",\"showticklabels\":false},\"yaxis3\":{\"anchor\":\"x3\",\"domain\":[0.0,1.0],\"matches\":\"y\",\"showticklabels\":false}},                        {\"responsive\": true}                    ).then(function(){\n",
       "                            \n",
       "var gd = document.getElementById('88bd2f35-de8d-4fd1-9ca4-d22580ab441f');\n",
       "var x = new MutationObserver(function (mutations, observer) {{\n",
       "        var display = window.getComputedStyle(gd).display;\n",
       "        if (!display || display === 'none') {{\n",
       "            console.log([gd, 'removed!']);\n",
       "            Plotly.purge(gd);\n",
       "            observer.disconnect();\n",
       "        }}\n",
       "}});\n",
       "\n",
       "// Listen for the removal of the full notebook cells\n",
       "var notebookContainer = gd.closest('#notebook-container');\n",
       "if (notebookContainer) {{\n",
       "    x.observe(notebookContainer, {childList: true});\n",
       "}}\n",
       "\n",
       "// Listen for the clearing of the current output cell\n",
       "var outputEl = gd.closest('.output');\n",
       "if (outputEl) {{\n",
       "    x.observe(outputEl, {childList: true});\n",
       "}}\n",
       "\n",
       "                        })                };                });            </script>        </div>"
      ]
     },
     "metadata": {},
     "output_type": "display_data"
    }
   ],
   "source": [
    "fig = px.scatter(df_res, y=\"FIT\",\n",
    "                 facet_col=\"est_type\", facet_row=\"est_direction\", color=\"seq_len\",\n",
    "                 hover_data=[\"max_time\", \"seq_est_len\"])\n",
    "fig.show()"
   ]
  },
  {
   "cell_type": "code",
   "execution_count": 44,
   "id": "2e699c9e",
   "metadata": {},
   "outputs": [],
   "source": [
    "df_30min = df_res[(df_res[\"max_time\"] != 300)]"
   ]
  },
  {
   "cell_type": "code",
   "execution_count": 45,
   "id": "3ad941d4",
   "metadata": {},
   "outputs": [
    {
     "name": "stderr",
     "output_type": "stream",
     "text": [
      "/home/marco/anaconda3/envs/pytorch-ident/lib/python3.9/site-packages/pandas/io/formats/format.py:1405: FutureWarning:\n",
      "\n",
      "Index.ravel returning ndarray is deprecated; in a future version this will return a view on self.\n",
      "\n"
     ]
    },
    {
     "data": {
      "image/png": "[encoded data removed]",
      "text/plain": [
       "<Figure size 1080x360 with 6 Axes>"
      ]
     },
     "metadata": {
      "needs_background": "light"
     },
     "output_type": "display_data"
    }
   ],
   "source": [
    "# Full results: main effects\n",
    "g = sns.PairGrid(df_30min, y_vars=response,\n",
    "                 x_vars=factors,\n",
    "                 height=5, aspect=.5)\n",
    "g.map(sns.pointplot, scale=1.3)\n",
    "sns.despine(fig=g.fig, left=True)"
   ]
  },
  {
   "cell_type": "code",
   "execution_count": 51,
   "id": "f9d93033",
   "metadata": {},
   "outputs": [],
   "source": [
    "df_zero= df_res[(df_res[\"max_time\"] != 300) & ((df_res[\"est_type\"] == \"ZERO\"))]"
   ]
  },
  {
   "cell_type": "code",
   "execution_count": 52,
   "id": "d44d95ff",
   "metadata": {},
   "outputs": [
    {
     "name": "stderr",
     "output_type": "stream",
     "text": [
      "/home/marco/anaconda3/envs/pytorch-ident/lib/python3.9/site-packages/pandas/io/formats/format.py:1405: FutureWarning:\n",
      "\n",
      "Index.ravel returning ndarray is deprecated; in a future version this will return a view on self.\n",
      "\n"
     ]
    },
    {
     "data": {
      "image/png": "[encoded data removed]",
      "text/plain": [
       "<Figure size 1080x360 with 6 Axes>"
      ]
     },
     "metadata": {
      "needs_background": "light"
     },
     "output_type": "display_data"
    }
   ],
   "source": [
    "# Full results: main effects\n",
    "g = sns.PairGrid(df_zero, y_vars=response,\n",
    "                 x_vars=factors,\n",
    "                 height=5, aspect=.5)\n",
    "g.map(sns.pointplot, scale=1.3)\n",
    "sns.despine(fig=g.fig, left=True)"
   ]
  },
  {
   "cell_type": "code",
   "execution_count": 48,
   "id": "8ce8bf95",
   "metadata": {},
   "outputs": [],
   "source": [
    "df_5min = df_res[(df_res[\"max_time\"] == 300)]"
   ]
  },
  {
   "cell_type": "code",
   "execution_count": 49,
   "id": "7495c3dd",
   "metadata": {},
   "outputs": [
    {
     "name": "stderr",
     "output_type": "stream",
     "text": [
      "/home/marco/anaconda3/envs/pytorch-ident/lib/python3.9/site-packages/pandas/io/formats/format.py:1405: FutureWarning:\n",
      "\n",
      "Index.ravel returning ndarray is deprecated; in a future version this will return a view on self.\n",
      "\n"
     ]
    },
    {
     "data": {
      "image/png": "[encoded data removed]",
      "text/plain": [
       "<Figure size 1080x360 with 6 Axes>"
      ]
     },
     "metadata": {
      "needs_background": "light"
     },
     "output_type": "display_data"
    }
   ],
   "source": [
    "# Full results: main effects\n",
    "g = sns.PairGrid(df_5min, y_vars=response,\n",
    "                 x_vars=factors,\n",
    "                 height=5, aspect=.5)\n",
    "g.map(sns.pointplot, scale=1.3)\n",
    "sns.despine(fig=g.fig, left=True)"
   ]
  },
  {
   "cell_type": "code",
   "execution_count": 26,
   "id": "4a74633f",
   "metadata": {},
   "outputs": [],
   "source": [
    "df_good = df_res[(df_res[\"max_time\"] != 300) & (df_res[\"est_type\"]== \"FF\") & (df_res[\"lr\"]== 0.01)]"
   ]
  },
  {
   "cell_type": "code",
   "execution_count": 27,
   "id": "49ecc9f4",
   "metadata": {},
   "outputs": [
    {
     "name": "stderr",
     "output_type": "stream",
     "text": [
      "/home/marco/anaconda3/envs/pytorch-ident/lib/python3.9/site-packages/pandas/io/formats/format.py:1405: FutureWarning:\n",
      "\n",
      "Index.ravel returning ndarray is deprecated; in a future version this will return a view on self.\n",
      "\n"
     ]
    },
    {
     "data": {
      "image/png": "[encoded data removed]",
      "text/plain": [
       "<Figure size 1080x360 with 6 Axes>"
      ]
     },
     "metadata": {
      "needs_background": "light"
     },
     "output_type": "display_data"
    }
   ],
   "source": [
    "# Full results: main effects\n",
    "g = sns.PairGrid(df_good, y_vars=response,\n",
    "                 x_vars=factors,\n",
    "                 height=5, aspect=.5)\n",
    "g.map(sns.pointplot, scale=1.3)\n",
    "sns.despine(fig=g.fig, left=True)"
   ]
  },
  {
   "cell_type": "code",
   "execution_count": null,
   "id": "197dd8e5",
   "metadata": {},
   "outputs": [],
   "source": []
  }
 ],
 "metadata": {
  "kernelspec": {
   "display_name": "Python 3 (ipykernel)",
   "language": "python",
   "name": "python3"
  },
  "language_info": {
   "codemirror_mode": {
    "name": "ipython",
    "version": 3
   },
   "file_extension": ".py",
   "mimetype": "text/x-python",
   "name": "python",
   "nbconvert_exporter": "python",
   "pygments_lexer": "ipython3",
   "version": "3.9.5"
  }
 },
 "nbformat": 4,
 "nbformat_minor": 5
}