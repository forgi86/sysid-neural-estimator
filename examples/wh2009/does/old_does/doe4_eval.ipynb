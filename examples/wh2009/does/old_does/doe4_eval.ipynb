{
 "cells": [
  {
   "cell_type": "code",
   "execution_count": 1,
   "id": "0e8c6b55",
   "metadata": {},
   "outputs": [],
   "source": [
    "import os\n",
    "import matplotlib\n",
    "import plotly\n",
    "from plotly.subplots import make_subplots\n",
    "import plotly.graph_objects as go\n",
    "import plotly.express as px\n",
    "import seaborn as sns\n",
    "import pandas as pd\n",
    "import numpy as np"
   ]
  },
  {
   "cell_type": "code",
   "execution_count": 2,
   "id": "adac7b40",
   "metadata": {},
   "outputs": [],
   "source": [
    "DOE_NAME = \"doe4\"\n",
    "factors = [\"max_time\", \"batch_size\", \"seq_len\", \"seq_est_len\",  \"est_type\"]\n",
    "response = \"FIT\""
   ]
  },
  {
   "cell_type": "code",
   "execution_count": 3,
   "id": "4a73f474",
   "metadata": {},
   "outputs": [],
   "source": [
    "df_res = pd.read_csv(DOE_NAME + \"_res.csv\")  # doe1_res.csv"
   ]
  },
  {
   "cell_type": "code",
   "execution_count": 4,
   "id": "1cf7cb24",
   "metadata": {
    "scrolled": false
   },
   "outputs": [],
   "source": [
    "df_res.sort_values(by=response, inplace=True, ascending=False)\n",
    "df_res[\"RMSE\"] = df_res[\"RMSE\"].fillna(1000)\n",
    "#df_res[\"FIT\"] = df_res[\"FIT\"] * (df_res[\"FIT\"] > 0) # minimum fit to 0% (easier to interpret)\n",
    "df_res[\"FIT\"] = df_res[\"FIT\"].fillna(np.min(df_res[\"FIT\"])-0.1)"
   ]
  },
  {
   "cell_type": "code",
   "execution_count": 5,
   "id": "b1af9fe9",
   "metadata": {},
   "outputs": [],
   "source": [
    "for factor in factors:\n",
    "    df_res[factor] = df_res[factor].astype(\"category\")"
   ]
  },
  {
   "cell_type": "code",
   "execution_count": 6,
   "id": "6e42ce51",
   "metadata": {},
   "outputs": [
    {
     "data": {
      "text/html": [
       "<div>\n",
       "<style scoped>\n",
       "    .dataframe tbody tr th:only-of-type {\n",
       "        vertical-align: middle;\n",
       "    }\n",
       "\n",
       "    .dataframe tbody tr th {\n",
       "        vertical-align: top;\n",
       "    }\n",
       "\n",
       "    .dataframe thead th {\n",
       "        text-align: right;\n",
       "    }\n",
       "</style>\n",
       "<table border=\"1\" class=\"dataframe\">\n",
       "  <thead>\n",
       "    <tr style=\"text-align: right;\">\n",
       "      <th></th>\n",
       "      <th>experiment_id</th>\n",
       "      <th>lr</th>\n",
       "      <th>epochs</th>\n",
       "      <th>max_time</th>\n",
       "      <th>batch_size</th>\n",
       "      <th>seq_len</th>\n",
       "      <th>seq_est_len</th>\n",
       "      <th>est_direction</th>\n",
       "      <th>est_type</th>\n",
       "      <th>est_hidden_size</th>\n",
       "      <th>seed</th>\n",
       "      <th>FIT</th>\n",
       "      <th>RMSE</th>\n",
       "    </tr>\n",
       "  </thead>\n",
       "  <tbody>\n",
       "    <tr>\n",
       "      <th>283</th>\n",
       "      <td>53</td>\n",
       "      <td>0.001</td>\n",
       "      <td>10000</td>\n",
       "      <td>1800</td>\n",
       "      <td>128</td>\n",
       "      <td>80</td>\n",
       "      <td>40</td>\n",
       "      <td>forward</td>\n",
       "      <td>LSTM</td>\n",
       "      <td>15</td>\n",
       "      <td>52</td>\n",
       "      <td>98.645279</td>\n",
       "      <td>3.239766</td>\n",
       "    </tr>\n",
       "    <tr>\n",
       "      <th>266</th>\n",
       "      <td>307</td>\n",
       "      <td>0.001</td>\n",
       "      <td>10000</td>\n",
       "      <td>1800</td>\n",
       "      <td>1024</td>\n",
       "      <td>40</td>\n",
       "      <td>80</td>\n",
       "      <td>forward</td>\n",
       "      <td>RAND</td>\n",
       "      <td>15</td>\n",
       "      <td>70</td>\n",
       "      <td>98.631264</td>\n",
       "      <td>3.273297</td>\n",
       "    </tr>\n",
       "    <tr>\n",
       "      <th>33</th>\n",
       "      <td>17</td>\n",
       "      <td>0.001</td>\n",
       "      <td>10000</td>\n",
       "      <td>1800</td>\n",
       "      <td>128</td>\n",
       "      <td>40</td>\n",
       "      <td>10</td>\n",
       "      <td>forward</td>\n",
       "      <td>LSTM</td>\n",
       "      <td>15</td>\n",
       "      <td>271</td>\n",
       "      <td>98.573456</td>\n",
       "      <td>3.411554</td>\n",
       "    </tr>\n",
       "    <tr>\n",
       "      <th>92</th>\n",
       "      <td>33</td>\n",
       "      <td>0.001</td>\n",
       "      <td>10000</td>\n",
       "      <td>1800</td>\n",
       "      <td>128</td>\n",
       "      <td>40</td>\n",
       "      <td>20</td>\n",
       "      <td>forward</td>\n",
       "      <td>LSTM</td>\n",
       "      <td>15</td>\n",
       "      <td>21</td>\n",
       "      <td>98.496483</td>\n",
       "      <td>3.595611</td>\n",
       "    </tr>\n",
       "    <tr>\n",
       "      <th>84</th>\n",
       "      <td>103</td>\n",
       "      <td>0.001</td>\n",
       "      <td>10000</td>\n",
       "      <td>1800</td>\n",
       "      <td>1024</td>\n",
       "      <td>80</td>\n",
       "      <td>10</td>\n",
       "      <td>forward</td>\n",
       "      <td>FF</td>\n",
       "      <td>15</td>\n",
       "      <td>311</td>\n",
       "      <td>98.476807</td>\n",
       "      <td>3.642673</td>\n",
       "    </tr>\n",
       "    <tr>\n",
       "      <th>94</th>\n",
       "      <td>229</td>\n",
       "      <td>0.001</td>\n",
       "      <td>10000</td>\n",
       "      <td>1800</td>\n",
       "      <td>128</td>\n",
       "      <td>80</td>\n",
       "      <td>80</td>\n",
       "      <td>forward</td>\n",
       "      <td>ZERO</td>\n",
       "      <td>15</td>\n",
       "      <td>36</td>\n",
       "      <td>98.455063</td>\n",
       "      <td>3.694663</td>\n",
       "    </tr>\n",
       "    <tr>\n",
       "      <th>264</th>\n",
       "      <td>209</td>\n",
       "      <td>0.001</td>\n",
       "      <td>10000</td>\n",
       "      <td>1800</td>\n",
       "      <td>128</td>\n",
       "      <td>40</td>\n",
       "      <td>40</td>\n",
       "      <td>forward</td>\n",
       "      <td>ZERO</td>\n",
       "      <td>15</td>\n",
       "      <td>130</td>\n",
       "      <td>98.386940</td>\n",
       "      <td>3.857584</td>\n",
       "    </tr>\n",
       "    <tr>\n",
       "      <th>65</th>\n",
       "      <td>35</td>\n",
       "      <td>0.001</td>\n",
       "      <td>10000</td>\n",
       "      <td>1800</td>\n",
       "      <td>1024</td>\n",
       "      <td>40</td>\n",
       "      <td>20</td>\n",
       "      <td>forward</td>\n",
       "      <td>LSTM</td>\n",
       "      <td>15</td>\n",
       "      <td>157</td>\n",
       "      <td>98.368011</td>\n",
       "      <td>3.902859</td>\n",
       "    </tr>\n",
       "    <tr>\n",
       "      <th>235</th>\n",
       "      <td>311</td>\n",
       "      <td>0.001</td>\n",
       "      <td>10000</td>\n",
       "      <td>1800</td>\n",
       "      <td>1024</td>\n",
       "      <td>80</td>\n",
       "      <td>80</td>\n",
       "      <td>forward</td>\n",
       "      <td>RAND</td>\n",
       "      <td>15</td>\n",
       "      <td>277</td>\n",
       "      <td>98.366661</td>\n",
       "      <td>3.906094</td>\n",
       "    </tr>\n",
       "    <tr>\n",
       "      <th>223</th>\n",
       "      <td>305</td>\n",
       "      <td>0.001</td>\n",
       "      <td>10000</td>\n",
       "      <td>1800</td>\n",
       "      <td>128</td>\n",
       "      <td>40</td>\n",
       "      <td>80</td>\n",
       "      <td>forward</td>\n",
       "      <td>RAND</td>\n",
       "      <td>15</td>\n",
       "      <td>193</td>\n",
       "      <td>98.325218</td>\n",
       "      <td>4.005199</td>\n",
       "    </tr>\n",
       "    <tr>\n",
       "      <th>42</th>\n",
       "      <td>213</td>\n",
       "      <td>0.001</td>\n",
       "      <td>10000</td>\n",
       "      <td>1800</td>\n",
       "      <td>128</td>\n",
       "      <td>80</td>\n",
       "      <td>40</td>\n",
       "      <td>forward</td>\n",
       "      <td>ZERO</td>\n",
       "      <td>15</td>\n",
       "      <td>247</td>\n",
       "      <td>98.263237</td>\n",
       "      <td>4.153430</td>\n",
       "    </tr>\n",
       "    <tr>\n",
       "      <th>60</th>\n",
       "      <td>197</td>\n",
       "      <td>0.001</td>\n",
       "      <td>10000</td>\n",
       "      <td>1800</td>\n",
       "      <td>128</td>\n",
       "      <td>80</td>\n",
       "      <td>20</td>\n",
       "      <td>forward</td>\n",
       "      <td>ZERO</td>\n",
       "      <td>15</td>\n",
       "      <td>14</td>\n",
       "      <td>98.189987</td>\n",
       "      <td>4.328600</td>\n",
       "    </tr>\n",
       "    <tr>\n",
       "      <th>0</th>\n",
       "      <td>49</td>\n",
       "      <td>0.001</td>\n",
       "      <td>10000</td>\n",
       "      <td>1800</td>\n",
       "      <td>128</td>\n",
       "      <td>40</td>\n",
       "      <td>40</td>\n",
       "      <td>forward</td>\n",
       "      <td>LSTM</td>\n",
       "      <td>15</td>\n",
       "      <td>81</td>\n",
       "      <td>98.170349</td>\n",
       "      <td>4.375563</td>\n",
       "    </tr>\n",
       "    <tr>\n",
       "      <th>244</th>\n",
       "      <td>119</td>\n",
       "      <td>0.001</td>\n",
       "      <td>10000</td>\n",
       "      <td>1800</td>\n",
       "      <td>1024</td>\n",
       "      <td>80</td>\n",
       "      <td>20</td>\n",
       "      <td>forward</td>\n",
       "      <td>FF</td>\n",
       "      <td>15</td>\n",
       "      <td>106</td>\n",
       "      <td>98.144920</td>\n",
       "      <td>4.436379</td>\n",
       "    </tr>\n",
       "    <tr>\n",
       "      <th>275</th>\n",
       "      <td>201</td>\n",
       "      <td>0.001</td>\n",
       "      <td>10000</td>\n",
       "      <td>1800</td>\n",
       "      <td>128</td>\n",
       "      <td>160</td>\n",
       "      <td>20</td>\n",
       "      <td>forward</td>\n",
       "      <td>ZERO</td>\n",
       "      <td>15</td>\n",
       "      <td>302</td>\n",
       "      <td>98.114624</td>\n",
       "      <td>4.508811</td>\n",
       "    </tr>\n",
       "    <tr>\n",
       "      <th>87</th>\n",
       "      <td>293</td>\n",
       "      <td>0.001</td>\n",
       "      <td>10000</td>\n",
       "      <td>1800</td>\n",
       "      <td>128</td>\n",
       "      <td>80</td>\n",
       "      <td>40</td>\n",
       "      <td>forward</td>\n",
       "      <td>RAND</td>\n",
       "      <td>15</td>\n",
       "      <td>99</td>\n",
       "      <td>98.097427</td>\n",
       "      <td>4.549950</td>\n",
       "    </tr>\n",
       "    <tr>\n",
       "      <th>216</th>\n",
       "      <td>63</td>\n",
       "      <td>0.001</td>\n",
       "      <td>10000</td>\n",
       "      <td>1800</td>\n",
       "      <td>1024</td>\n",
       "      <td>320</td>\n",
       "      <td>40</td>\n",
       "      <td>forward</td>\n",
       "      <td>LSTM</td>\n",
       "      <td>15</td>\n",
       "      <td>206</td>\n",
       "      <td>98.090683</td>\n",
       "      <td>4.566082</td>\n",
       "    </tr>\n",
       "    <tr>\n",
       "      <th>286</th>\n",
       "      <td>51</td>\n",
       "      <td>0.001</td>\n",
       "      <td>10000</td>\n",
       "      <td>1800</td>\n",
       "      <td>1024</td>\n",
       "      <td>40</td>\n",
       "      <td>40</td>\n",
       "      <td>forward</td>\n",
       "      <td>LSTM</td>\n",
       "      <td>15</td>\n",
       "      <td>259</td>\n",
       "      <td>98.090675</td>\n",
       "      <td>4.566099</td>\n",
       "    </tr>\n",
       "    <tr>\n",
       "      <th>192</th>\n",
       "      <td>225</td>\n",
       "      <td>0.001</td>\n",
       "      <td>10000</td>\n",
       "      <td>1800</td>\n",
       "      <td>128</td>\n",
       "      <td>40</td>\n",
       "      <td>80</td>\n",
       "      <td>forward</td>\n",
       "      <td>ZERO</td>\n",
       "      <td>15</td>\n",
       "      <td>256</td>\n",
       "      <td>98.086609</td>\n",
       "      <td>4.575819</td>\n",
       "    </tr>\n",
       "    <tr>\n",
       "      <th>190</th>\n",
       "      <td>69</td>\n",
       "      <td>0.001</td>\n",
       "      <td>10000</td>\n",
       "      <td>1800</td>\n",
       "      <td>128</td>\n",
       "      <td>80</td>\n",
       "      <td>80</td>\n",
       "      <td>forward</td>\n",
       "      <td>LSTM</td>\n",
       "      <td>15</td>\n",
       "      <td>33</td>\n",
       "      <td>98.084389</td>\n",
       "      <td>4.581129</td>\n",
       "    </tr>\n",
       "  </tbody>\n",
       "</table>\n",
       "</div>"
      ],
      "text/plain": [
       "     experiment_id     lr  epochs max_time batch_size seq_len seq_est_len  \\\n",
       "283             53  0.001   10000     1800        128      80          40   \n",
       "266            307  0.001   10000     1800       1024      40          80   \n",
       "33              17  0.001   10000     1800        128      40          10   \n",
       "92              33  0.001   10000     1800        128      40          20   \n",
       "84             103  0.001   10000     1800       1024      80          10   \n",
       "94             229  0.001   10000     1800        128      80          80   \n",
       "264            209  0.001   10000     1800        128      40          40   \n",
       "65              35  0.001   10000     1800       1024      40          20   \n",
       "235            311  0.001   10000     1800       1024      80          80   \n",
       "223            305  0.001   10000     1800        128      40          80   \n",
       "42             213  0.001   10000     1800        128      80          40   \n",
       "60             197  0.001   10000     1800        128      80          20   \n",
       "0               49  0.001   10000     1800        128      40          40   \n",
       "244            119  0.001   10000     1800       1024      80          20   \n",
       "275            201  0.001   10000     1800        128     160          20   \n",
       "87             293  0.001   10000     1800        128      80          40   \n",
       "216             63  0.001   10000     1800       1024     320          40   \n",
       "286             51  0.001   10000     1800       1024      40          40   \n",
       "192            225  0.001   10000     1800        128      40          80   \n",
       "190             69  0.001   10000     1800        128      80          80   \n",
       "\n",
       "    est_direction est_type  est_hidden_size  seed        FIT      RMSE  \n",
       "283       forward     LSTM               15    52  98.645279  3.239766  \n",
       "266       forward     RAND               15    70  98.631264  3.273297  \n",
       "33        forward     LSTM               15   271  98.573456  3.411554  \n",
       "92        forward     LSTM               15    21  98.496483  3.595611  \n",
       "84        forward       FF               15   311  98.476807  3.642673  \n",
       "94        forward     ZERO               15    36  98.455063  3.694663  \n",
       "264       forward     ZERO               15   130  98.386940  3.857584  \n",
       "65        forward     LSTM               15   157  98.368011  3.902859  \n",
       "235       forward     RAND               15   277  98.366661  3.906094  \n",
       "223       forward     RAND               15   193  98.325218  4.005199  \n",
       "42        forward     ZERO               15   247  98.263237  4.153430  \n",
       "60        forward     ZERO               15    14  98.189987  4.328600  \n",
       "0         forward     LSTM               15    81  98.170349  4.375563  \n",
       "244       forward       FF               15   106  98.144920  4.436379  \n",
       "275       forward     ZERO               15   302  98.114624  4.508811  \n",
       "87        forward     RAND               15    99  98.097427  4.549950  \n",
       "216       forward     LSTM               15   206  98.090683  4.566082  \n",
       "286       forward     LSTM               15   259  98.090675  4.566099  \n",
       "192       forward     ZERO               15   256  98.086609  4.575819  \n",
       "190       forward     LSTM               15    33  98.084389  4.581129  "
      ]
     },
     "execution_count": 6,
     "metadata": {},
     "output_type": "execute_result"
    }
   ],
   "source": [
    "df_res.head(20)"
   ]
  },
  {
   "cell_type": "code",
   "execution_count": 7,
   "id": "7f8775ba",
   "metadata": {
    "scrolled": false
   },
   "outputs": [
    {
     "data": {
      "text/html": [
       "<div>\n",
       "<style scoped>\n",
       "    .dataframe tbody tr th:only-of-type {\n",
       "        vertical-align: middle;\n",
       "    }\n",
       "\n",
       "    .dataframe tbody tr th {\n",
       "        vertical-align: top;\n",
       "    }\n",
       "\n",
       "    .dataframe thead th {\n",
       "        text-align: right;\n",
       "    }\n",
       "</style>\n",
       "<table border=\"1\" class=\"dataframe\">\n",
       "  <thead>\n",
       "    <tr style=\"text-align: right;\">\n",
       "      <th></th>\n",
       "      <th>experiment_id</th>\n",
       "      <th>lr</th>\n",
       "      <th>epochs</th>\n",
       "      <th>max_time</th>\n",
       "      <th>batch_size</th>\n",
       "      <th>seq_len</th>\n",
       "      <th>seq_est_len</th>\n",
       "      <th>est_direction</th>\n",
       "      <th>est_type</th>\n",
       "      <th>est_hidden_size</th>\n",
       "      <th>seed</th>\n",
       "      <th>FIT</th>\n",
       "      <th>RMSE</th>\n",
       "    </tr>\n",
       "  </thead>\n",
       "  <tbody>\n",
       "    <tr>\n",
       "      <th>119</th>\n",
       "      <td>10</td>\n",
       "      <td>0.001</td>\n",
       "      <td>10000</td>\n",
       "      <td>300</td>\n",
       "      <td>1024</td>\n",
       "      <td>160</td>\n",
       "      <td>5</td>\n",
       "      <td>forward</td>\n",
       "      <td>LSTM</td>\n",
       "      <td>15</td>\n",
       "      <td>64</td>\n",
       "      <td>89.579590</td>\n",
       "      <td>24.920132</td>\n",
       "    </tr>\n",
       "    <tr>\n",
       "      <th>55</th>\n",
       "      <td>146</td>\n",
       "      <td>0.001</td>\n",
       "      <td>10000</td>\n",
       "      <td>300</td>\n",
       "      <td>1024</td>\n",
       "      <td>40</td>\n",
       "      <td>80</td>\n",
       "      <td>forward</td>\n",
       "      <td>FF</td>\n",
       "      <td>15</td>\n",
       "      <td>153</td>\n",
       "      <td>89.556137</td>\n",
       "      <td>24.976227</td>\n",
       "    </tr>\n",
       "    <tr>\n",
       "      <th>211</th>\n",
       "      <td>188</td>\n",
       "      <td>0.001</td>\n",
       "      <td>10000</td>\n",
       "      <td>300</td>\n",
       "      <td>128</td>\n",
       "      <td>320</td>\n",
       "      <td>10</td>\n",
       "      <td>forward</td>\n",
       "      <td>ZERO</td>\n",
       "      <td>15</td>\n",
       "      <td>11</td>\n",
       "      <td>89.482185</td>\n",
       "      <td>25.153056</td>\n",
       "    </tr>\n",
       "    <tr>\n",
       "      <th>309</th>\n",
       "      <td>220</td>\n",
       "      <td>0.001</td>\n",
       "      <td>10000</td>\n",
       "      <td>300</td>\n",
       "      <td>128</td>\n",
       "      <td>320</td>\n",
       "      <td>40</td>\n",
       "      <td>forward</td>\n",
       "      <td>ZERO</td>\n",
       "      <td>15</td>\n",
       "      <td>149</td>\n",
       "      <td>89.152107</td>\n",
       "      <td>25.942437</td>\n",
       "    </tr>\n",
       "    <tr>\n",
       "      <th>178</th>\n",
       "      <td>300</td>\n",
       "      <td>0.001</td>\n",
       "      <td>10000</td>\n",
       "      <td>300</td>\n",
       "      <td>128</td>\n",
       "      <td>320</td>\n",
       "      <td>40</td>\n",
       "      <td>forward</td>\n",
       "      <td>RAND</td>\n",
       "      <td>15</td>\n",
       "      <td>165</td>\n",
       "      <td>89.105789</td>\n",
       "      <td>26.053211</td>\n",
       "    </tr>\n",
       "    <tr>\n",
       "      <th>166</th>\n",
       "      <td>0</td>\n",
       "      <td>0.001</td>\n",
       "      <td>10000</td>\n",
       "      <td>300</td>\n",
       "      <td>128</td>\n",
       "      <td>40</td>\n",
       "      <td>5</td>\n",
       "      <td>forward</td>\n",
       "      <td>LSTM</td>\n",
       "      <td>15</td>\n",
       "      <td>181</td>\n",
       "      <td>89.090073</td>\n",
       "      <td>26.090793</td>\n",
       "    </tr>\n",
       "    <tr>\n",
       "      <th>30</th>\n",
       "      <td>222</td>\n",
       "      <td>0.001</td>\n",
       "      <td>10000</td>\n",
       "      <td>300</td>\n",
       "      <td>1024</td>\n",
       "      <td>320</td>\n",
       "      <td>40</td>\n",
       "      <td>forward</td>\n",
       "      <td>ZERO</td>\n",
       "      <td>15</td>\n",
       "      <td>205</td>\n",
       "      <td>88.914368</td>\n",
       "      <td>26.510974</td>\n",
       "    </tr>\n",
       "    <tr>\n",
       "      <th>35</th>\n",
       "      <td>44</td>\n",
       "      <td>0.001</td>\n",
       "      <td>10000</td>\n",
       "      <td>300</td>\n",
       "      <td>128</td>\n",
       "      <td>320</td>\n",
       "      <td>20</td>\n",
       "      <td>forward</td>\n",
       "      <td>LSTM</td>\n",
       "      <td>15</td>\n",
       "      <td>231</td>\n",
       "      <td>88.685898</td>\n",
       "      <td>27.057363</td>\n",
       "    </tr>\n",
       "    <tr>\n",
       "      <th>38</th>\n",
       "      <td>206</td>\n",
       "      <td>0.001</td>\n",
       "      <td>10000</td>\n",
       "      <td>300</td>\n",
       "      <td>1024</td>\n",
       "      <td>320</td>\n",
       "      <td>20</td>\n",
       "      <td>forward</td>\n",
       "      <td>ZERO</td>\n",
       "      <td>15</td>\n",
       "      <td>62</td>\n",
       "      <td>88.191811</td>\n",
       "      <td>28.238961</td>\n",
       "    </tr>\n",
       "    <tr>\n",
       "      <th>282</th>\n",
       "      <td>94</td>\n",
       "      <td>0.001</td>\n",
       "      <td>10000</td>\n",
       "      <td>300</td>\n",
       "      <td>1024</td>\n",
       "      <td>320</td>\n",
       "      <td>5</td>\n",
       "      <td>forward</td>\n",
       "      <td>FF</td>\n",
       "      <td>15</td>\n",
       "      <td>20</td>\n",
       "      <td>88.104713</td>\n",
       "      <td>28.447252</td>\n",
       "    </tr>\n",
       "    <tr>\n",
       "      <th>172</th>\n",
       "      <td>108</td>\n",
       "      <td>0.001</td>\n",
       "      <td>10000</td>\n",
       "      <td>300</td>\n",
       "      <td>128</td>\n",
       "      <td>320</td>\n",
       "      <td>10</td>\n",
       "      <td>forward</td>\n",
       "      <td>FF</td>\n",
       "      <td>15</td>\n",
       "      <td>142</td>\n",
       "      <td>87.954170</td>\n",
       "      <td>28.807275</td>\n",
       "    </tr>\n",
       "    <tr>\n",
       "      <th>207</th>\n",
       "      <td>236</td>\n",
       "      <td>0.001</td>\n",
       "      <td>10000</td>\n",
       "      <td>300</td>\n",
       "      <td>128</td>\n",
       "      <td>320</td>\n",
       "      <td>80</td>\n",
       "      <td>forward</td>\n",
       "      <td>ZERO</td>\n",
       "      <td>15</td>\n",
       "      <td>316</td>\n",
       "      <td>87.539032</td>\n",
       "      <td>29.800080</td>\n",
       "    </tr>\n",
       "    <tr>\n",
       "      <th>82</th>\n",
       "      <td>190</td>\n",
       "      <td>0.001</td>\n",
       "      <td>10000</td>\n",
       "      <td>300</td>\n",
       "      <td>1024</td>\n",
       "      <td>320</td>\n",
       "      <td>10</td>\n",
       "      <td>forward</td>\n",
       "      <td>ZERO</td>\n",
       "      <td>15</td>\n",
       "      <td>214</td>\n",
       "      <td>87.499992</td>\n",
       "      <td>29.893422</td>\n",
       "    </tr>\n",
       "    <tr>\n",
       "      <th>104</th>\n",
       "      <td>92</td>\n",
       "      <td>0.001</td>\n",
       "      <td>10000</td>\n",
       "      <td>300</td>\n",
       "      <td>128</td>\n",
       "      <td>320</td>\n",
       "      <td>5</td>\n",
       "      <td>forward</td>\n",
       "      <td>FF</td>\n",
       "      <td>15</td>\n",
       "      <td>29</td>\n",
       "      <td>87.107445</td>\n",
       "      <td>30.832192</td>\n",
       "    </tr>\n",
       "    <tr>\n",
       "      <th>263</th>\n",
       "      <td>60</td>\n",
       "      <td>0.001</td>\n",
       "      <td>10000</td>\n",
       "      <td>300</td>\n",
       "      <td>128</td>\n",
       "      <td>320</td>\n",
       "      <td>40</td>\n",
       "      <td>forward</td>\n",
       "      <td>LSTM</td>\n",
       "      <td>15</td>\n",
       "      <td>1</td>\n",
       "      <td>87.088257</td>\n",
       "      <td>30.878088</td>\n",
       "    </tr>\n",
       "    <tr>\n",
       "      <th>197</th>\n",
       "      <td>204</td>\n",
       "      <td>0.001</td>\n",
       "      <td>10000</td>\n",
       "      <td>300</td>\n",
       "      <td>128</td>\n",
       "      <td>320</td>\n",
       "      <td>20</td>\n",
       "      <td>forward</td>\n",
       "      <td>ZERO</td>\n",
       "      <td>15</td>\n",
       "      <td>123</td>\n",
       "      <td>86.901627</td>\n",
       "      <td>31.324409</td>\n",
       "    </tr>\n",
       "    <tr>\n",
       "      <th>114</th>\n",
       "      <td>6</td>\n",
       "      <td>0.001</td>\n",
       "      <td>10000</td>\n",
       "      <td>300</td>\n",
       "      <td>1024</td>\n",
       "      <td>80</td>\n",
       "      <td>5</td>\n",
       "      <td>forward</td>\n",
       "      <td>LSTM</td>\n",
       "      <td>15</td>\n",
       "      <td>240</td>\n",
       "      <td>86.795593</td>\n",
       "      <td>31.577989</td>\n",
       "    </tr>\n",
       "    <tr>\n",
       "      <th>158</th>\n",
       "      <td>46</td>\n",
       "      <td>0.001</td>\n",
       "      <td>10000</td>\n",
       "      <td>300</td>\n",
       "      <td>1024</td>\n",
       "      <td>320</td>\n",
       "      <td>20</td>\n",
       "      <td>forward</td>\n",
       "      <td>LSTM</td>\n",
       "      <td>15</td>\n",
       "      <td>175</td>\n",
       "      <td>86.794868</td>\n",
       "      <td>31.579714</td>\n",
       "    </tr>\n",
       "    <tr>\n",
       "      <th>126</th>\n",
       "      <td>162</td>\n",
       "      <td>0.001</td>\n",
       "      <td>10000</td>\n",
       "      <td>300</td>\n",
       "      <td>1024</td>\n",
       "      <td>40</td>\n",
       "      <td>5</td>\n",
       "      <td>forward</td>\n",
       "      <td>ZERO</td>\n",
       "      <td>15</td>\n",
       "      <td>300</td>\n",
       "      <td>86.082672</td>\n",
       "      <td>33.282910</td>\n",
       "    </tr>\n",
       "    <tr>\n",
       "      <th>7</th>\n",
       "      <td>2</td>\n",
       "      <td>0.001</td>\n",
       "      <td>10000</td>\n",
       "      <td>300</td>\n",
       "      <td>1024</td>\n",
       "      <td>40</td>\n",
       "      <td>5</td>\n",
       "      <td>forward</td>\n",
       "      <td>LSTM</td>\n",
       "      <td>15</td>\n",
       "      <td>15</td>\n",
       "      <td>85.982672</td>\n",
       "      <td>1000.000000</td>\n",
       "    </tr>\n",
       "  </tbody>\n",
       "</table>\n",
       "</div>"
      ],
      "text/plain": [
       "     experiment_id     lr  epochs max_time batch_size seq_len seq_est_len  \\\n",
       "119             10  0.001   10000      300       1024     160           5   \n",
       "55             146  0.001   10000      300       1024      40          80   \n",
       "211            188  0.001   10000      300        128     320          10   \n",
       "309            220  0.001   10000      300        128     320          40   \n",
       "178            300  0.001   10000      300        128     320          40   \n",
       "166              0  0.001   10000      300        128      40           5   \n",
       "30             222  0.001   10000      300       1024     320          40   \n",
       "35              44  0.001   10000      300        128     320          20   \n",
       "38             206  0.001   10000      300       1024     320          20   \n",
       "282             94  0.001   10000      300       1024     320           5   \n",
       "172            108  0.001   10000      300        128     320          10   \n",
       "207            236  0.001   10000      300        128     320          80   \n",
       "82             190  0.001   10000      300       1024     320          10   \n",
       "104             92  0.001   10000      300        128     320           5   \n",
       "263             60  0.001   10000      300        128     320          40   \n",
       "197            204  0.001   10000      300        128     320          20   \n",
       "114              6  0.001   10000      300       1024      80           5   \n",
       "158             46  0.001   10000      300       1024     320          20   \n",
       "126            162  0.001   10000      300       1024      40           5   \n",
       "7                2  0.001   10000      300       1024      40           5   \n",
       "\n",
       "    est_direction est_type  est_hidden_size  seed        FIT         RMSE  \n",
       "119       forward     LSTM               15    64  89.579590    24.920132  \n",
       "55        forward       FF               15   153  89.556137    24.976227  \n",
       "211       forward     ZERO               15    11  89.482185    25.153056  \n",
       "309       forward     ZERO               15   149  89.152107    25.942437  \n",
       "178       forward     RAND               15   165  89.105789    26.053211  \n",
       "166       forward     LSTM               15   181  89.090073    26.090793  \n",
       "30        forward     ZERO               15   205  88.914368    26.510974  \n",
       "35        forward     LSTM               15   231  88.685898    27.057363  \n",
       "38        forward     ZERO               15    62  88.191811    28.238961  \n",
       "282       forward       FF               15    20  88.104713    28.447252  \n",
       "172       forward       FF               15   142  87.954170    28.807275  \n",
       "207       forward     ZERO               15   316  87.539032    29.800080  \n",
       "82        forward     ZERO               15   214  87.499992    29.893422  \n",
       "104       forward       FF               15    29  87.107445    30.832192  \n",
       "263       forward     LSTM               15     1  87.088257    30.878088  \n",
       "197       forward     ZERO               15   123  86.901627    31.324409  \n",
       "114       forward     LSTM               15   240  86.795593    31.577989  \n",
       "158       forward     LSTM               15   175  86.794868    31.579714  \n",
       "126       forward     ZERO               15   300  86.082672    33.282910  \n",
       "7         forward     LSTM               15    15  85.982672  1000.000000  "
      ]
     },
     "execution_count": 7,
     "metadata": {},
     "output_type": "execute_result"
    }
   ],
   "source": [
    "df_res.tail(20)"
   ]
  },
  {
   "cell_type": "code",
   "execution_count": 8,
   "id": "261fcc03",
   "metadata": {
    "scrolled": false
   },
   "outputs": [
    {
     "data": {
      "image/png": "[encoded data removed]",
      "text/plain": [
       "<Figure size 900x360 with 5 Axes>"
      ]
     },
     "metadata": {
      "needs_background": "light"
     },
     "output_type": "display_data"
    }
   ],
   "source": [
    "# Full results: main effects\n",
    "g = sns.PairGrid(df_res, y_vars=response,\n",
    "                 x_vars=factors,\n",
    "                 height=5, aspect=.5)\n",
    "g.map(sns.pointplot, scale=1.3)\n",
    "sns.despine(fig=g.fig, left=True)\n",
    "\n",
    "# Biggest effect seems to be max_time"
   ]
  },
  {
   "cell_type": "code",
   "execution_count": 9,
   "id": "5cdddeb0",
   "metadata": {},
   "outputs": [
    {
     "data": {
      "image/png": "[encoded data removed]",
      "text/plain": [
       "<Figure size 900x360 with 5 Axes>"
      ]
     },
     "metadata": {
      "needs_background": "light"
     },
     "output_type": "display_data"
    }
   ],
   "source": [
    "# Full results: main effects\n",
    "g = sns.PairGrid(df_res, y_vars=response,\n",
    "                 x_vars=factors,\n",
    "                 height=5, aspect=.5)\n",
    "g.map(sns.boxplot)\n",
    "g.set(ylim=(0, 100))\n",
    "sns.despine(fig=g.fig, left=True)"
   ]
  },
  {
   "cell_type": "code",
   "execution_count": 10,
   "id": "76964d89",
   "metadata": {},
   "outputs": [
    {
     "data": {
      "image/png": "[encoded data removed]",
      "text/plain": [
       "<Figure size 900x360 with 5 Axes>"
      ]
     },
     "metadata": {
      "needs_background": "light"
     },
     "output_type": "display_data"
    }
   ],
   "source": [
    "# Full results: main effects\n",
    "g = sns.PairGrid(df_res, y_vars=response,\n",
    "                 x_vars=factors,\n",
    "                 height=5, aspect=.5)\n",
    "g.map(sns.boxplot)\n",
    "g.set(ylim=(80, 100))\n",
    "sns.despine(fig=g.fig, left=True)"
   ]
  },
  {
   "cell_type": "code",
   "execution_count": 35,
   "id": "bc750570",
   "metadata": {
    "scrolled": false
   },
   "outputs": [
    {
     "data": {
      "application/vnd.plotly.v1+json": {
       "config": {
        "plotlyServerURL": "https://plot.ly"
       },
       "data": [
        {
         "name": "max_time",
         "type": "box",
         "x": [
          1800,
          1800,
          1800,
          1800,
          1800,
          1800,
          1800,
          1800,
          1800,
          1800,
          1800,
          1800,
          1800,
          1800,
          1800,
          1800,
          1800,
          1800,
          1800,
          1800,
          1800,
          1800,
          1800,
          1800,
          1800,
          1800,
          1800,
          1800,
          1800,
          1800,
          1800,
          1800,
          1800,
          1800,
          1800,
          1800,
          1800,
          1800,
          1800,
          1800,
          1800,
          1800,
          1800,
          1800,
          1800,
          1800,
          1800,
          1800,
          1800,
          1800,
          1800,
          1800,
          1800,
          1800,
          1800,
          1800,
          1800,
          1800,
          1800,
          1800,
          1800,
          1800,
          1800,
          1800,
          1800,
          1800,
          1800,
          1800,
          1800,
          1800,
          1800,
          1800,
          1800,
          1800,
          1800,
          1800,
          1800,
          1800,
          1800,
          1800,
          1800,
          1800,
          1800,
          1800,
          1800,
          1800,
          1800,
          1800,
          1800,
          1800,
          1800,
          1800,
          1800,
          1800,
          1800,
          1800,
          1800,
          1800,
          1800,
          1800,
          1800,
          1800,
          1800,
          1800,
          1800,
          1800,
          1800,
          1800,
          1800,
          1800,
          1800,
          1800,
          1800,
          1800,
          1800,
          1800,
          1800,
          1800,
          1800,
          1800,
          1800,
          1800,
          1800,
          1800,
          1800,
          1800,
          1800,
          1800,
          300,
          1800,
          1800,
          1800,
          1800,
          1800,
          1800,
          1800,
          1800,
          1800,
          1800,
          1800,
          1800,
          1800,
          1800,
          1800,
          1800,
          1800,
          300,
          1800,
          1800,
          300,
          1800,
          1800,
          1800,
          300,
          1800,
          1800,
          300,
          300,
          300,
          300,
          300,
          1800,
          300,
          300,
          1800,
          300,
          1800,
          300,
          300,
          1800,
          300,
          300,
          300,
          300,
          300,
          300,
          300,
          300,
          300,
          1800,
          300,
          300,
          300,
          300,
          1800,
          300,
          300,
          300,
          300,
          300,
          300,
          300,
          300,
          300,
          300,
          300,
          300,
          300,
          1800,
          300,
          300,
          1800,
          300,
          300,
          300,
          300,
          300,
          300,
          300,
          300,
          300,
          300,
          300,
          300,
          300,
          300,
          300,
          300,
          300,
          300,
          300,
          300,
          300,
          300,
          300,
          300,
          300,
          300,
          300,
          300,
          300,
          300,
          300,
          300,
          300,
          300,
          300,
          300,
          300,
          300,
          300,
          300,
          300,
          300,
          300,
          300,
          300,
          300,
          300,
          300,
          300,
          300,
          300,
          300,
          300,
          300,
          300,
          300,
          300,
          300,
          300,
          300,
          300,
          300,
          300,
          300,
          300,
          300,
          300,
          300,
          300,
          300,
          300,
          300,
          300,
          300,
          300,
          300,
          300,
          300,
          300,
          300,
          300,
          300,
          300,
          300,
          300,
          300,
          300,
          300,
          300,
          300,
          300,
          300,
          300,
          300,
          300,
          300,
          300,
          300,
          300,
          300,
          300,
          300,
          300,
          300,
          300,
          300,
          300,
          300,
          300,
          300,
          300,
          300,
          300,
          300,
          300,
          300,
          300,
          300
         ],
         "xaxis": "x",
         "y": [
          98.64527893066406,
          98.63126373291016,
          98.57345581054688,
          98.4964828491211,
          98.476806640625,
          98.45506286621094,
          98.3869400024414,
          98.36801147460938,
          98.36666107177734,
          98.3252182006836,
          98.26323699951172,
          98.1899871826172,
          98.17034912109376,
          98.1449203491211,
          98.1146240234375,
          98.09742736816406,
          98.09068298339844,
          98.0906753540039,
          98.08660888671876,
          98.08438873291016,
          98.07145690917967,
          98.07054138183594,
          98.0041275024414,
          97.9993133544922,
          97.96394348144533,
          97.94824981689452,
          97.94219970703124,
          97.9417724609375,
          97.93993377685548,
          97.93425750732422,
          97.93087005615234,
          97.90512084960938,
          97.89822387695312,
          97.89192199707033,
          97.8847885131836,
          97.8784637451172,
          97.8700180053711,
          97.8598403930664,
          97.85176849365234,
          97.85011291503906,
          97.82964324951172,
          97.8253173828125,
          97.81804656982422,
          97.79948425292967,
          97.77391815185548,
          97.77324676513672,
          97.77044677734376,
          97.73961639404295,
          97.72860717773438,
          97.71719360351562,
          97.71418762207033,
          97.70063018798828,
          97.70012664794922,
          97.69255828857422,
          97.66950225830078,
          97.64830017089844,
          97.64810180664062,
          97.64680480957033,
          97.64347076416016,
          97.62682342529295,
          97.60191345214844,
          97.59656524658205,
          97.5845184326172,
          97.55343627929688,
          97.54607391357422,
          97.53484344482422,
          97.50935363769533,
          97.48965454101562,
          97.48400115966795,
          97.47796630859376,
          97.47483825683594,
          97.47042083740234,
          97.44538879394533,
          97.44478607177734,
          97.43081665039062,
          97.43049621582033,
          97.40955352783205,
          97.3979949951172,
          97.3876495361328,
          97.3869171142578,
          97.36407470703124,
          97.32333374023438,
          97.31390380859376,
          97.3061294555664,
          97.28376770019533,
          97.27134704589844,
          97.25301361083984,
          97.18128967285156,
          97.1295928955078,
          97.0002670288086,
          96.9705581665039,
          96.920166015625,
          96.90203094482422,
          96.89314270019533,
          96.87776184082033,
          96.87051391601562,
          96.8392105102539,
          96.83768463134766,
          96.81097412109376,
          96.76874542236328,
          96.76813507080078,
          96.6336441040039,
          96.55754089355467,
          96.5406723022461,
          96.5159149169922,
          96.50509643554688,
          96.46327209472656,
          96.4564208984375,
          96.4235382080078,
          96.4122085571289,
          96.40754699707033,
          96.39376068115234,
          96.365234375,
          96.34661865234376,
          96.26641845703124,
          96.2645492553711,
          96.25476837158205,
          96.24866485595705,
          96.23986053466795,
          96.20995330810548,
          96.1969757080078,
          96.18557739257812,
          96.1829605102539,
          96.16373443603516,
          96.1561050415039,
          96.15077209472656,
          96.1475830078125,
          96.13246154785156,
          96.11537170410156,
          96.11275482177734,
          96.10430908203124,
          96.10256958007812,
          96.0985870361328,
          96.09707641601562,
          96.05696868896484,
          96.04610443115234,
          96.02403259277344,
          95.9927215576172,
          95.98303985595705,
          95.97135162353516,
          95.94629669189452,
          95.89978790283205,
          95.85474395751952,
          95.85453033447266,
          95.7686538696289,
          95.74044036865234,
          95.7321548461914,
          95.69865417480467,
          95.65708923339844,
          95.65347290039062,
          95.65291595458984,
          95.63182830810548,
          95.60150146484376,
          95.60099029541016,
          95.53726959228516,
          95.51385498046876,
          95.50518035888672,
          95.47422790527344,
          95.47000885009766,
          95.43682098388672,
          95.41340637207033,
          95.38402557373048,
          95.32121276855467,
          95.31752014160156,
          95.2339859008789,
          95.2121810913086,
          95.2103042602539,
          95.1697235107422,
          95.16700744628906,
          95.1502456665039,
          95.14989471435548,
          95.1363296508789,
          95.12645721435548,
          95.04593658447266,
          94.9735336303711,
          94.95551300048828,
          94.91620635986328,
          94.85948944091795,
          94.82145690917967,
          94.74220275878906,
          94.7124252319336,
          94.6971206665039,
          94.6418914794922,
          94.59098052978516,
          94.56043243408205,
          94.48770141601562,
          94.4750747680664,
          94.45597839355467,
          94.3760757446289,
          94.35650634765624,
          94.34941864013672,
          94.34881591796876,
          94.28089904785156,
          94.26303100585938,
          94.21080017089844,
          94.20600128173828,
          94.19519805908205,
          94.15095520019533,
          94.1484832763672,
          94.1455535888672,
          94.12891387939452,
          94.07080078125,
          93.968505859375,
          93.95197296142578,
          93.94207763671876,
          93.94132995605467,
          93.93704223632812,
          93.9171371459961,
          93.9045181274414,
          93.89478302001952,
          93.88055419921876,
          93.84900665283205,
          93.84690856933594,
          93.8422622680664,
          93.82486724853516,
          93.82440185546876,
          93.79478454589844,
          93.77892303466795,
          93.77677154541016,
          93.76724243164062,
          93.7504653930664,
          93.68932342529295,
          93.68547821044922,
          93.6388168334961,
          93.62836456298828,
          93.60320281982422,
          93.5859832763672,
          93.52696990966795,
          93.52345275878906,
          93.49136352539062,
          93.4850845336914,
          93.44547271728516,
          93.44409942626952,
          93.362060546875,
          93.304443359375,
          93.2867431640625,
          93.24789428710938,
          93.2095184326172,
          93.19850158691406,
          93.14957427978516,
          93.12889099121094,
          93.06808471679688,
          92.9922866821289,
          92.98395538330078,
          92.94324493408205,
          92.91783905029295,
          92.88909912109376,
          92.88849639892578,
          92.8497314453125,
          92.7812957763672,
          92.76729583740234,
          92.75647735595705,
          92.63228607177734,
          92.5700225830078,
          92.52262878417967,
          92.4682846069336,
          92.4528579711914,
          92.42083740234376,
          92.34491729736328,
          92.32979583740234,
          92.3131332397461,
          92.28379821777344,
          92.26985168457033,
          92.15628814697266,
          92.11949157714844,
          92.04934692382812,
          92.0237274169922,
          91.86268615722656,
          91.85838317871094,
          91.79696655273438,
          91.78849792480467,
          91.77552795410156,
          91.63629150390624,
          91.59477996826172,
          91.5042724609375,
          91.4352798461914,
          91.40958404541016,
          91.40501403808594,
          91.38825225830078,
          91.3462371826172,
          91.2791976928711,
          91.27102661132812,
          91.25569152832033,
          91.15615844726562,
          91.11886596679688,
          91.07481384277344,
          91.06481170654295,
          91.02296447753906,
          90.88819885253906,
          90.87474822998048,
          90.7538833618164,
          90.64856719970705,
          90.61773681640624,
          90.61294555664062,
          90.47724151611328,
          90.42543029785156,
          90.3702163696289,
          90.34930419921876,
          90.29582977294922,
          90.1534652709961,
          89.57958984375,
          89.55613708496094,
          89.48218536376953,
          89.15210723876953,
          89.10578918457031,
          89.09007263183594,
          88.91436767578125,
          88.68589782714844,
          88.19181060791016,
          88.1047134399414,
          87.95417022705078,
          87.53903198242188,
          87.49999237060547,
          87.1074447631836,
          87.0882568359375,
          86.90162658691406,
          86.79559326171875,
          86.79486846923828,
          86.08267211914062,
          85.98267211914063
         ],
         "yaxis": "y"
        },
        {
         "name": "batch_size",
         "type": "box",
         "x": [
          128,
          1024,
          128,
          128,
          1024,
          128,
          128,
          1024,
          1024,
          128,
          128,
          128,
          128,
          1024,
          128,
          128,
          1024,
          1024,
          128,
          128,
          1024,
          128,
          128,
          128,
          128,
          128,
          128,
          1024,
          128,
          1024,
          128,
          128,
          1024,
          128,
          128,
          128,
          128,
          1024,
          128,
          128,
          128,
          1024,
          128,
          1024,
          1024,
          1024,
          128,
          1024,
          1024,
          128,
          1024,
          1024,
          128,
          1024,
          128,
          1024,
          128,
          1024,
          1024,
          128,
          1024,
          128,
          1024,
          1024,
          1024,
          1024,
          1024,
          128,
          128,
          128,
          128,
          128,
          1024,
          128,
          128,
          128,
          1024,
          128,
          1024,
          1024,
          1024,
          1024,
          1024,
          1024,
          128,
          1024,
          1024,
          1024,
          1024,
          1024,
          128,
          1024,
          1024,
          128,
          1024,
          128,
          128,
          1024,
          1024,
          1024,
          128,
          1024,
          1024,
          1024,
          128,
          1024,
          128,
          128,
          1024,
          128,
          128,
          128,
          128,
          128,
          1024,
          128,
          1024,
          1024,
          1024,
          1024,
          128,
          1024,
          1024,
          1024,
          128,
          128,
          128,
          128,
          128,
          1024,
          128,
          1024,
          1024,
          1024,
          1024,
          1024,
          128,
          128,
          1024,
          128,
          128,
          128,
          128,
          1024,
          128,
          128,
          128,
          1024,
          1024,
          128,
          1024,
          128,
          1024,
          128,
          1024,
          1024,
          128,
          128,
          128,
          128,
          128,
          1024,
          128,
          128,
          128,
          128,
          1024,
          128,
          128,
          128,
          1024,
          128,
          128,
          128,
          128,
          128,
          128,
          128,
          128,
          1024,
          128,
          128,
          1024,
          128,
          1024,
          1024,
          128,
          128,
          128,
          1024,
          128,
          128,
          1024,
          1024,
          1024,
          1024,
          128,
          1024,
          128,
          1024,
          1024,
          128,
          1024,
          128,
          128,
          128,
          1024,
          1024,
          1024,
          1024,
          128,
          1024,
          128,
          1024,
          1024,
          1024,
          128,
          1024,
          128,
          128,
          128,
          128,
          1024,
          128,
          128,
          128,
          1024,
          1024,
          1024,
          1024,
          1024,
          1024,
          128,
          1024,
          128,
          128,
          1024,
          1024,
          128,
          1024,
          1024,
          1024,
          128,
          128,
          128,
          1024,
          1024,
          128,
          128,
          1024,
          1024,
          1024,
          1024,
          128,
          1024,
          128,
          128,
          128,
          1024,
          128,
          1024,
          128,
          1024,
          1024,
          1024,
          1024,
          128,
          1024,
          1024,
          128,
          128,
          1024,
          1024,
          1024,
          1024,
          1024,
          1024,
          128,
          128,
          128,
          1024,
          1024,
          128,
          1024,
          1024,
          1024,
          128,
          128,
          1024,
          1024,
          1024,
          1024,
          1024,
          1024,
          128,
          1024,
          1024,
          128,
          1024,
          1024,
          1024,
          1024,
          128,
          128,
          128,
          128,
          1024,
          128,
          1024,
          1024,
          128,
          128,
          1024,
          128,
          128,
          128,
          1024,
          1024,
          1024,
          1024
         ],
         "xaxis": "x2",
         "y": [
          98.64527893066406,
          98.63126373291016,
          98.57345581054688,
          98.4964828491211,
          98.476806640625,
          98.45506286621094,
          98.3869400024414,
          98.36801147460938,
          98.36666107177734,
          98.3252182006836,
          98.26323699951172,
          98.1899871826172,
          98.17034912109376,
          98.1449203491211,
          98.1146240234375,
          98.09742736816406,
          98.09068298339844,
          98.0906753540039,
          98.08660888671876,
          98.08438873291016,
          98.07145690917967,
          98.07054138183594,
          98.0041275024414,
          97.9993133544922,
          97.96394348144533,
          97.94824981689452,
          97.94219970703124,
          97.9417724609375,
          97.93993377685548,
          97.93425750732422,
          97.93087005615234,
          97.90512084960938,
          97.89822387695312,
          97.89192199707033,
          97.8847885131836,
          97.8784637451172,
          97.8700180053711,
          97.8598403930664,
          97.85176849365234,
          97.85011291503906,
          97.82964324951172,
          97.8253173828125,
          97.81804656982422,
          97.79948425292967,
          97.77391815185548,
          97.77324676513672,
          97.77044677734376,
          97.73961639404295,
          97.72860717773438,
          97.71719360351562,
          97.71418762207033,
          97.70063018798828,
          97.70012664794922,
          97.69255828857422,
          97.66950225830078,
          97.64830017089844,
          97.64810180664062,
          97.64680480957033,
          97.64347076416016,
          97.62682342529295,
          97.60191345214844,
          97.59656524658205,
          97.5845184326172,
          97.55343627929688,
          97.54607391357422,
          97.53484344482422,
          97.50935363769533,
          97.48965454101562,
          97.48400115966795,
          97.47796630859376,
          97.47483825683594,
          97.47042083740234,
          97.44538879394533,
          97.44478607177734,
          97.43081665039062,
          97.43049621582033,
          97.40955352783205,
          97.3979949951172,
          97.3876495361328,
          97.3869171142578,
          97.36407470703124,
          97.32333374023438,
          97.31390380859376,
          97.3061294555664,
          97.28376770019533,
          97.27134704589844,
          97.25301361083984,
          97.18128967285156,
          97.1295928955078,
          97.0002670288086,
          96.9705581665039,
          96.920166015625,
          96.90203094482422,
          96.89314270019533,
          96.87776184082033,
          96.87051391601562,
          96.8392105102539,
          96.83768463134766,
          96.81097412109376,
          96.76874542236328,
          96.76813507080078,
          96.6336441040039,
          96.55754089355467,
          96.5406723022461,
          96.5159149169922,
          96.50509643554688,
          96.46327209472656,
          96.4564208984375,
          96.4235382080078,
          96.4122085571289,
          96.40754699707033,
          96.39376068115234,
          96.365234375,
          96.34661865234376,
          96.26641845703124,
          96.2645492553711,
          96.25476837158205,
          96.24866485595705,
          96.23986053466795,
          96.20995330810548,
          96.1969757080078,
          96.18557739257812,
          96.1829605102539,
          96.16373443603516,
          96.1561050415039,
          96.15077209472656,
          96.1475830078125,
          96.13246154785156,
          96.11537170410156,
          96.11275482177734,
          96.10430908203124,
          96.10256958007812,
          96.0985870361328,
          96.09707641601562,
          96.05696868896484,
          96.04610443115234,
          96.02403259277344,
          95.9927215576172,
          95.98303985595705,
          95.97135162353516,
          95.94629669189452,
          95.89978790283205,
          95.85474395751952,
          95.85453033447266,
          95.7686538696289,
          95.74044036865234,
          95.7321548461914,
          95.69865417480467,
          95.65708923339844,
          95.65347290039062,
          95.65291595458984,
          95.63182830810548,
          95.60150146484376,
          95.60099029541016,
          95.53726959228516,
          95.51385498046876,
          95.50518035888672,
          95.47422790527344,
          95.47000885009766,
          95.43682098388672,
          95.41340637207033,
          95.38402557373048,
          95.32121276855467,
          95.31752014160156,
          95.2339859008789,
          95.2121810913086,
          95.2103042602539,
          95.1697235107422,
          95.16700744628906,
          95.1502456665039,
          95.14989471435548,
          95.1363296508789,
          95.12645721435548,
          95.04593658447266,
          94.9735336303711,
          94.95551300048828,
          94.91620635986328,
          94.85948944091795,
          94.82145690917967,
          94.74220275878906,
          94.7124252319336,
          94.6971206665039,
          94.6418914794922,
          94.59098052978516,
          94.56043243408205,
          94.48770141601562,
          94.4750747680664,
          94.45597839355467,
          94.3760757446289,
          94.35650634765624,
          94.34941864013672,
          94.34881591796876,
          94.28089904785156,
          94.26303100585938,
          94.21080017089844,
          94.20600128173828,
          94.19519805908205,
          94.15095520019533,
          94.1484832763672,
          94.1455535888672,
          94.12891387939452,
          94.07080078125,
          93.968505859375,
          93.95197296142578,
          93.94207763671876,
          93.94132995605467,
          93.93704223632812,
          93.9171371459961,
          93.9045181274414,
          93.89478302001952,
          93.88055419921876,
          93.84900665283205,
          93.84690856933594,
          93.8422622680664,
          93.82486724853516,
          93.82440185546876,
          93.79478454589844,
          93.77892303466795,
          93.77677154541016,
          93.76724243164062,
          93.7504653930664,
          93.68932342529295,
          93.68547821044922,
          93.6388168334961,
          93.62836456298828,
          93.60320281982422,
          93.5859832763672,
          93.52696990966795,
          93.52345275878906,
          93.49136352539062,
          93.4850845336914,
          93.44547271728516,
          93.44409942626952,
          93.362060546875,
          93.304443359375,
          93.2867431640625,
          93.24789428710938,
          93.2095184326172,
          93.19850158691406,
          93.14957427978516,
          93.12889099121094,
          93.06808471679688,
          92.9922866821289,
          92.98395538330078,
          92.94324493408205,
          92.91783905029295,
          92.88909912109376,
          92.88849639892578,
          92.8497314453125,
          92.7812957763672,
          92.76729583740234,
          92.75647735595705,
          92.63228607177734,
          92.5700225830078,
          92.52262878417967,
          92.4682846069336,
          92.4528579711914,
          92.42083740234376,
          92.34491729736328,
          92.32979583740234,
          92.3131332397461,
          92.28379821777344,
          92.26985168457033,
          92.15628814697266,
          92.11949157714844,
          92.04934692382812,
          92.0237274169922,
          91.86268615722656,
          91.85838317871094,
          91.79696655273438,
          91.78849792480467,
          91.77552795410156,
          91.63629150390624,
          91.59477996826172,
          91.5042724609375,
          91.4352798461914,
          91.40958404541016,
          91.40501403808594,
          91.38825225830078,
          91.3462371826172,
          91.2791976928711,
          91.27102661132812,
          91.25569152832033,
          91.15615844726562,
          91.11886596679688,
          91.07481384277344,
          91.06481170654295,
          91.02296447753906,
          90.88819885253906,
          90.87474822998048,
          90.7538833618164,
          90.64856719970705,
          90.61773681640624,
          90.61294555664062,
          90.47724151611328,
          90.42543029785156,
          90.3702163696289,
          90.34930419921876,
          90.29582977294922,
          90.1534652709961,
          89.57958984375,
          89.55613708496094,
          89.48218536376953,
          89.15210723876953,
          89.10578918457031,
          89.09007263183594,
          88.91436767578125,
          88.68589782714844,
          88.19181060791016,
          88.1047134399414,
          87.95417022705078,
          87.53903198242188,
          87.49999237060547,
          87.1074447631836,
          87.0882568359375,
          86.90162658691406,
          86.79559326171875,
          86.79486846923828,
          86.08267211914062,
          85.98267211914063
         ],
         "yaxis": "y2"
        },
        {
         "name": "seq_len",
         "type": "box",
         "x": [
          80,
          40,
          40,
          40,
          80,
          80,
          40,
          40,
          80,
          40,
          80,
          80,
          40,
          80,
          160,
          80,
          320,
          40,
          40,
          80,
          160,
          160,
          80,
          80,
          40,
          320,
          80,
          160,
          40,
          320,
          80,
          40,
          80,
          160,
          40,
          160,
          160,
          80,
          40,
          160,
          40,
          40,
          40,
          40,
          80,
          40,
          40,
          80,
          160,
          80,
          40,
          80,
          160,
          160,
          320,
          40,
          80,
          160,
          160,
          40,
          40,
          80,
          160,
          160,
          40,
          80,
          160,
          160,
          160,
          160,
          80,
          160,
          160,
          80,
          160,
          320,
          160,
          320,
          320,
          40,
          80,
          160,
          80,
          40,
          320,
          320,
          160,
          40,
          320,
          320,
          320,
          80,
          320,
          320,
          160,
          160,
          320,
          160,
          80,
          320,
          320,
          40,
          160,
          320,
          160,
          160,
          80,
          160,
          80,
          160,
          80,
          80,
          320,
          320,
          160,
          160,
          320,
          80,
          80,
          80,
          80,
          320,
          320,
          320,
          320,
          80,
          160,
          320,
          40,
          320,
          40,
          80,
          80,
          160,
          320,
          320,
          320,
          160,
          320,
          320,
          320,
          320,
          160,
          320,
          320,
          320,
          40,
          40,
          40,
          40,
          40,
          320,
          80,
          40,
          160,
          40,
          80,
          80,
          80,
          80,
          80,
          320,
          80,
          40,
          40,
          40,
          320,
          40,
          40,
          40,
          40,
          40,
          80,
          40,
          80,
          80,
          40,
          80,
          160,
          40,
          80,
          40,
          80,
          80,
          40,
          80,
          160,
          160,
          80,
          80,
          160,
          80,
          40,
          40,
          160,
          160,
          160,
          160,
          40,
          80,
          160,
          40,
          80,
          40,
          80,
          160,
          80,
          160,
          160,
          80,
          40,
          160,
          160,
          80,
          40,
          160,
          160,
          160,
          160,
          80,
          80,
          40,
          80,
          160,
          80,
          80,
          80,
          80,
          40,
          80,
          40,
          80,
          160,
          40,
          160,
          160,
          80,
          40,
          160,
          160,
          160,
          40,
          160,
          40,
          40,
          160,
          40,
          40,
          160,
          80,
          160,
          160,
          80,
          80,
          320,
          160,
          160,
          320,
          40,
          40,
          80,
          320,
          160,
          80,
          320,
          160,
          320,
          320,
          320,
          160,
          160,
          160,
          160,
          160,
          40,
          40,
          320,
          320,
          320,
          320,
          40,
          40,
          320,
          320,
          40,
          320,
          320,
          320,
          320,
          320,
          320,
          40,
          320,
          320,
          320,
          320,
          320,
          320,
          320,
          80,
          160,
          40,
          320,
          320,
          320,
          40,
          320,
          320,
          320,
          320,
          320,
          320,
          320,
          320,
          320,
          320,
          80,
          320,
          40,
          40
         ],
         "xaxis": "x3",
         "y": [
          98.64527893066406,
          98.63126373291016,
          98.57345581054688,
          98.4964828491211,
          98.476806640625,
          98.45506286621094,
          98.3869400024414,
          98.36801147460938,
          98.36666107177734,
          98.3252182006836,
          98.26323699951172,
          98.1899871826172,
          98.17034912109376,
          98.1449203491211,
          98.1146240234375,
          98.09742736816406,
          98.09068298339844,
          98.0906753540039,
          98.08660888671876,
          98.08438873291016,
          98.07145690917967,
          98.07054138183594,
          98.0041275024414,
          97.9993133544922,
          97.96394348144533,
          97.94824981689452,
          97.94219970703124,
          97.9417724609375,
          97.93993377685548,
          97.93425750732422,
          97.93087005615234,
          97.90512084960938,
          97.89822387695312,
          97.89192199707033,
          97.8847885131836,
          97.8784637451172,
          97.8700180053711,
          97.8598403930664,
          97.85176849365234,
          97.85011291503906,
          97.82964324951172,
          97.8253173828125,
          97.81804656982422,
          97.79948425292967,
          97.77391815185548,
          97.77324676513672,
          97.77044677734376,
          97.73961639404295,
          97.72860717773438,
          97.71719360351562,
          97.71418762207033,
          97.70063018798828,
          97.70012664794922,
          97.69255828857422,
          97.66950225830078,
          97.64830017089844,
          97.64810180664062,
          97.64680480957033,
          97.64347076416016,
          97.62682342529295,
          97.60191345214844,
          97.59656524658205,
          97.5845184326172,
          97.55343627929688,
          97.54607391357422,
          97.53484344482422,
          97.50935363769533,
          97.48965454101562,
          97.48400115966795,
          97.47796630859376,
          97.47483825683594,
          97.47042083740234,
          97.44538879394533,
          97.44478607177734,
          97.43081665039062,
          97.43049621582033,
          97.40955352783205,
          97.3979949951172,
          97.3876495361328,
          97.3869171142578,
          97.36407470703124,
          97.32333374023438,
          97.31390380859376,
          97.3061294555664,
          97.28376770019533,
          97.27134704589844,
          97.25301361083984,
          97.18128967285156,
          97.1295928955078,
          97.0002670288086,
          96.9705581665039,
          96.920166015625,
          96.90203094482422,
          96.89314270019533,
          96.87776184082033,
          96.87051391601562,
          96.8392105102539,
          96.83768463134766,
          96.81097412109376,
          96.76874542236328,
          96.76813507080078,
          96.6336441040039,
          96.55754089355467,
          96.5406723022461,
          96.5159149169922,
          96.50509643554688,
          96.46327209472656,
          96.4564208984375,
          96.4235382080078,
          96.4122085571289,
          96.40754699707033,
          96.39376068115234,
          96.365234375,
          96.34661865234376,
          96.26641845703124,
          96.2645492553711,
          96.25476837158205,
          96.24866485595705,
          96.23986053466795,
          96.20995330810548,
          96.1969757080078,
          96.18557739257812,
          96.1829605102539,
          96.16373443603516,
          96.1561050415039,
          96.15077209472656,
          96.1475830078125,
          96.13246154785156,
          96.11537170410156,
          96.11275482177734,
          96.10430908203124,
          96.10256958007812,
          96.0985870361328,
          96.09707641601562,
          96.05696868896484,
          96.04610443115234,
          96.02403259277344,
          95.9927215576172,
          95.98303985595705,
          95.97135162353516,
          95.94629669189452,
          95.89978790283205,
          95.85474395751952,
          95.85453033447266,
          95.7686538696289,
          95.74044036865234,
          95.7321548461914,
          95.69865417480467,
          95.65708923339844,
          95.65347290039062,
          95.65291595458984,
          95.63182830810548,
          95.60150146484376,
          95.60099029541016,
          95.53726959228516,
          95.51385498046876,
          95.50518035888672,
          95.47422790527344,
          95.47000885009766,
          95.43682098388672,
          95.41340637207033,
          95.38402557373048,
          95.32121276855467,
          95.31752014160156,
          95.2339859008789,
          95.2121810913086,
          95.2103042602539,
          95.1697235107422,
          95.16700744628906,
          95.1502456665039,
          95.14989471435548,
          95.1363296508789,
          95.12645721435548,
          95.04593658447266,
          94.9735336303711,
          94.95551300048828,
          94.91620635986328,
          94.85948944091795,
          94.82145690917967,
          94.74220275878906,
          94.7124252319336,
          94.6971206665039,
          94.6418914794922,
          94.59098052978516,
          94.56043243408205,
          94.48770141601562,
          94.4750747680664,
          94.45597839355467,
          94.3760757446289,
          94.35650634765624,
          94.34941864013672,
          94.34881591796876,
          94.28089904785156,
          94.26303100585938,
          94.21080017089844,
          94.20600128173828,
          94.19519805908205,
          94.15095520019533,
          94.1484832763672,
          94.1455535888672,
          94.12891387939452,
          94.07080078125,
          93.968505859375,
          93.95197296142578,
          93.94207763671876,
          93.94132995605467,
          93.93704223632812,
          93.9171371459961,
          93.9045181274414,
          93.89478302001952,
          93.88055419921876,
          93.84900665283205,
          93.84690856933594,
          93.8422622680664,
          93.82486724853516,
          93.82440185546876,
          93.79478454589844,
          93.77892303466795,
          93.77677154541016,
          93.76724243164062,
          93.7504653930664,
          93.68932342529295,
          93.68547821044922,
          93.6388168334961,
          93.62836456298828,
          93.60320281982422,
          93.5859832763672,
          93.52696990966795,
          93.52345275878906,
          93.49136352539062,
          93.4850845336914,
          93.44547271728516,
          93.44409942626952,
          93.362060546875,
          93.304443359375,
          93.2867431640625,
          93.24789428710938,
          93.2095184326172,
          93.19850158691406,
          93.14957427978516,
          93.12889099121094,
          93.06808471679688,
          92.9922866821289,
          92.98395538330078,
          92.94324493408205,
          92.91783905029295,
          92.88909912109376,
          92.88849639892578,
          92.8497314453125,
          92.7812957763672,
          92.76729583740234,
          92.75647735595705,
          92.63228607177734,
          92.5700225830078,
          92.52262878417967,
          92.4682846069336,
          92.4528579711914,
          92.42083740234376,
          92.34491729736328,
          92.32979583740234,
          92.3131332397461,
          92.28379821777344,
          92.26985168457033,
          92.15628814697266,
          92.11949157714844,
          92.04934692382812,
          92.0237274169922,
          91.86268615722656,
          91.85838317871094,
          91.79696655273438,
          91.78849792480467,
          91.77552795410156,
          91.63629150390624,
          91.59477996826172,
          91.5042724609375,
          91.4352798461914,
          91.40958404541016,
          91.40501403808594,
          91.38825225830078,
          91.3462371826172,
          91.2791976928711,
          91.27102661132812,
          91.25569152832033,
          91.15615844726562,
          91.11886596679688,
          91.07481384277344,
          91.06481170654295,
          91.02296447753906,
          90.88819885253906,
          90.87474822998048,
          90.7538833618164,
          90.64856719970705,
          90.61773681640624,
          90.61294555664062,
          90.47724151611328,
          90.42543029785156,
          90.3702163696289,
          90.34930419921876,
          90.29582977294922,
          90.1534652709961,
          89.57958984375,
          89.55613708496094,
          89.48218536376953,
          89.15210723876953,
          89.10578918457031,
          89.09007263183594,
          88.91436767578125,
          88.68589782714844,
          88.19181060791016,
          88.1047134399414,
          87.95417022705078,
          87.53903198242188,
          87.49999237060547,
          87.1074447631836,
          87.0882568359375,
          86.90162658691406,
          86.79559326171875,
          86.79486846923828,
          86.08267211914062,
          85.98267211914063
         ],
         "yaxis": "y3"
        },
        {
         "name": "seq_est_len",
         "type": "box",
         "x": [
          40,
          80,
          10,
          20,
          10,
          80,
          40,
          20,
          80,
          80,
          40,
          20,
          40,
          20,
          20,
          40,
          40,
          40,
          80,
          80,
          80,
          20,
          5,
          5,
          40,
          40,
          80,
          80,
          5,
          5,
          20,
          20,
          80,
          80,
          20,
          10,
          5,
          40,
          80,
          40,
          80,
          40,
          10,
          20,
          20,
          80,
          40,
          20,
          10,
          10,
          20,
          40,
          20,
          20,
          20,
          20,
          20,
          40,
          40,
          20,
          10,
          80,
          5,
          20,
          80,
          20,
          20,
          80,
          10,
          40,
          10,
          40,
          5,
          20,
          40,
          80,
          5,
          40,
          10,
          40,
          40,
          10,
          10,
          40,
          40,
          5,
          20,
          10,
          40,
          10,
          10,
          40,
          5,
          20,
          40,
          80,
          10,
          80,
          5,
          40,
          80,
          80,
          10,
          80,
          5,
          10,
          10,
          10,
          10,
          10,
          40,
          10,
          5,
          5,
          40,
          20,
          10,
          5,
          5,
          80,
          5,
          80,
          20,
          20,
          80,
          5,
          5,
          5,
          20,
          20,
          5,
          80,
          5,
          5,
          10,
          40,
          10,
          80,
          20,
          80,
          5,
          20,
          5,
          80,
          40,
          20,
          40,
          5,
          10,
          40,
          5,
          10,
          10,
          20,
          80,
          5,
          40,
          20,
          10,
          80,
          10,
          5,
          20,
          10,
          10,
          80,
          80,
          5,
          20,
          10,
          40,
          80,
          40,
          20,
          5,
          10,
          40,
          80,
          5,
          10,
          40,
          80,
          20,
          20,
          5,
          10,
          80,
          10,
          5,
          10,
          20,
          5,
          20,
          20,
          10,
          10,
          10,
          40,
          5,
          5,
          5,
          5,
          80,
          10,
          40,
          20,
          5,
          40,
          80,
          20,
          40,
          40,
          80,
          5,
          40,
          20,
          10,
          20,
          20,
          80,
          20,
          10,
          80,
          40,
          80,
          10,
          10,
          20,
          5,
          40,
          10,
          40,
          20,
          10,
          5,
          5,
          40,
          40,
          40,
          20,
          80,
          40,
          40,
          5,
          80,
          20,
          20,
          5,
          10,
          80,
          5,
          80,
          40,
          5,
          5,
          40,
          80,
          20,
          5,
          10,
          80,
          40,
          10,
          20,
          20,
          5,
          10,
          5,
          40,
          80,
          5,
          80,
          10,
          40,
          20,
          80,
          80,
          80,
          5,
          20,
          80,
          10,
          5,
          10,
          10,
          80,
          5,
          10,
          80,
          20,
          40,
          80,
          40,
          80,
          80,
          10,
          5,
          80,
          10,
          10,
          5,
          80,
          10,
          40,
          40,
          5,
          40,
          20,
          20,
          5,
          10,
          80,
          10,
          5,
          40,
          20,
          5,
          20,
          5,
          5
         ],
         "xaxis": "x4",
         "y": [
          98.64527893066406,
          98.63126373291016,
          98.57345581054688,
          98.4964828491211,
          98.476806640625,
          98.45506286621094,
          98.3869400024414,
          98.36801147460938,
          98.36666107177734,
          98.3252182006836,
          98.26323699951172,
          98.1899871826172,
          98.17034912109376,
          98.1449203491211,
          98.1146240234375,
          98.09742736816406,
          98.09068298339844,
          98.0906753540039,
          98.08660888671876,
          98.08438873291016,
          98.07145690917967,
          98.07054138183594,
          98.0041275024414,
          97.9993133544922,
          97.96394348144533,
          97.94824981689452,
          97.94219970703124,
          97.9417724609375,
          97.93993377685548,
          97.93425750732422,
          97.93087005615234,
          97.90512084960938,
          97.89822387695312,
          97.89192199707033,
          97.8847885131836,
          97.8784637451172,
          97.8700180053711,
          97.8598403930664,
          97.85176849365234,
          97.85011291503906,
          97.82964324951172,
          97.8253173828125,
          97.81804656982422,
          97.79948425292967,
          97.77391815185548,
          97.77324676513672,
          97.77044677734376,
          97.73961639404295,
          97.72860717773438,
          97.71719360351562,
          97.71418762207033,
          97.70063018798828,
          97.70012664794922,
          97.69255828857422,
          97.66950225830078,
          97.64830017089844,
          97.64810180664062,
          97.64680480957033,
          97.64347076416016,
          97.62682342529295,
          97.60191345214844,
          97.59656524658205,
          97.5845184326172,
          97.55343627929688,
          97.54607391357422,
          97.53484344482422,
          97.50935363769533,
          97.48965454101562,
          97.48400115966795,
          97.47796630859376,
          97.47483825683594,
          97.47042083740234,
          97.44538879394533,
          97.44478607177734,
          97.43081665039062,
          97.43049621582033,
          97.40955352783205,
          97.3979949951172,
          97.3876495361328,
          97.3869171142578,
          97.36407470703124,
          97.32333374023438,
          97.31390380859376,
          97.3061294555664,
          97.28376770019533,
          97.27134704589844,
          97.25301361083984,
          97.18128967285156,
          97.1295928955078,
          97.0002670288086,
          96.9705581665039,
          96.920166015625,
          96.90203094482422,
          96.89314270019533,
          96.87776184082033,
          96.87051391601562,
          96.8392105102539,
          96.83768463134766,
          96.81097412109376,
          96.76874542236328,
          96.76813507080078,
          96.6336441040039,
          96.55754089355467,
          96.5406723022461,
          96.5159149169922,
          96.50509643554688,
          96.46327209472656,
          96.4564208984375,
          96.4235382080078,
          96.4122085571289,
          96.40754699707033,
          96.39376068115234,
          96.365234375,
          96.34661865234376,
          96.26641845703124,
          96.2645492553711,
          96.25476837158205,
          96.24866485595705,
          96.23986053466795,
          96.20995330810548,
          96.1969757080078,
          96.18557739257812,
          96.1829605102539,
          96.16373443603516,
          96.1561050415039,
          96.15077209472656,
          96.1475830078125,
          96.13246154785156,
          96.11537170410156,
          96.11275482177734,
          96.10430908203124,
          96.10256958007812,
          96.0985870361328,
          96.09707641601562,
          96.05696868896484,
          96.04610443115234,
          96.02403259277344,
          95.9927215576172,
          95.98303985595705,
          95.97135162353516,
          95.94629669189452,
          95.89978790283205,
          95.85474395751952,
          95.85453033447266,
          95.7686538696289,
          95.74044036865234,
          95.7321548461914,
          95.69865417480467,
          95.65708923339844,
          95.65347290039062,
          95.65291595458984,
          95.63182830810548,
          95.60150146484376,
          95.60099029541016,
          95.53726959228516,
          95.51385498046876,
          95.50518035888672,
          95.47422790527344,
          95.47000885009766,
          95.43682098388672,
          95.41340637207033,
          95.38402557373048,
          95.32121276855467,
          95.31752014160156,
          95.2339859008789,
          95.2121810913086,
          95.2103042602539,
          95.1697235107422,
          95.16700744628906,
          95.1502456665039,
          95.14989471435548,
          95.1363296508789,
          95.12645721435548,
          95.04593658447266,
          94.9735336303711,
          94.95551300048828,
          94.91620635986328,
          94.85948944091795,
          94.82145690917967,
          94.74220275878906,
          94.7124252319336,
          94.6971206665039,
          94.6418914794922,
          94.59098052978516,
          94.56043243408205,
          94.48770141601562,
          94.4750747680664,
          94.45597839355467,
          94.3760757446289,
          94.35650634765624,
          94.34941864013672,
          94.34881591796876,
          94.28089904785156,
          94.26303100585938,
          94.21080017089844,
          94.20600128173828,
          94.19519805908205,
          94.15095520019533,
          94.1484832763672,
          94.1455535888672,
          94.12891387939452,
          94.07080078125,
          93.968505859375,
          93.95197296142578,
          93.94207763671876,
          93.94132995605467,
          93.93704223632812,
          93.9171371459961,
          93.9045181274414,
          93.89478302001952,
          93.88055419921876,
          93.84900665283205,
          93.84690856933594,
          93.8422622680664,
          93.82486724853516,
          93.82440185546876,
          93.79478454589844,
          93.77892303466795,
          93.77677154541016,
          93.76724243164062,
          93.7504653930664,
          93.68932342529295,
          93.68547821044922,
          93.6388168334961,
          93.62836456298828,
          93.60320281982422,
          93.5859832763672,
          93.52696990966795,
          93.52345275878906,
          93.49136352539062,
          93.4850845336914,
          93.44547271728516,
          93.44409942626952,
          93.362060546875,
          93.304443359375,
          93.2867431640625,
          93.24789428710938,
          93.2095184326172,
          93.19850158691406,
          93.14957427978516,
          93.12889099121094,
          93.06808471679688,
          92.9922866821289,
          92.98395538330078,
          92.94324493408205,
          92.91783905029295,
          92.88909912109376,
          92.88849639892578,
          92.8497314453125,
          92.7812957763672,
          92.76729583740234,
          92.75647735595705,
          92.63228607177734,
          92.5700225830078,
          92.52262878417967,
          92.4682846069336,
          92.4528579711914,
          92.42083740234376,
          92.34491729736328,
          92.32979583740234,
          92.3131332397461,
          92.28379821777344,
          92.26985168457033,
          92.15628814697266,
          92.11949157714844,
          92.04934692382812,
          92.0237274169922,
          91.86268615722656,
          91.85838317871094,
          91.79696655273438,
          91.78849792480467,
          91.77552795410156,
          91.63629150390624,
          91.59477996826172,
          91.5042724609375,
          91.4352798461914,
          91.40958404541016,
          91.40501403808594,
          91.38825225830078,
          91.3462371826172,
          91.2791976928711,
          91.27102661132812,
          91.25569152832033,
          91.15615844726562,
          91.11886596679688,
          91.07481384277344,
          91.06481170654295,
          91.02296447753906,
          90.88819885253906,
          90.87474822998048,
          90.7538833618164,
          90.64856719970705,
          90.61773681640624,
          90.61294555664062,
          90.47724151611328,
          90.42543029785156,
          90.3702163696289,
          90.34930419921876,
          90.29582977294922,
          90.1534652709961,
          89.57958984375,
          89.55613708496094,
          89.48218536376953,
          89.15210723876953,
          89.10578918457031,
          89.09007263183594,
          88.91436767578125,
          88.68589782714844,
          88.19181060791016,
          88.1047134399414,
          87.95417022705078,
          87.53903198242188,
          87.49999237060547,
          87.1074447631836,
          87.0882568359375,
          86.90162658691406,
          86.79559326171875,
          86.79486846923828,
          86.08267211914062,
          85.98267211914063
         ],
         "yaxis": "y4"
        },
        {
         "name": "est_type",
         "type": "box",
         "x": [
          "LSTM",
          "RAND",
          "LSTM",
          "LSTM",
          "FF",
          "ZERO",
          "ZERO",
          "LSTM",
          "RAND",
          "RAND",
          "ZERO",
          "ZERO",
          "LSTM",
          "FF",
          "ZERO",
          "RAND",
          "LSTM",
          "LSTM",
          "ZERO",
          "LSTM",
          "LSTM",
          "FF",
          "FF",
          "LSTM",
          "FF",
          "RAND",
          "RAND",
          "ZERO",
          "FF",
          "ZERO",
          "LSTM",
          "ZERO",
          "ZERO",
          "LSTM",
          "RAND",
          "FF",
          "FF",
          "FF",
          "LSTM",
          "ZERO",
          "FF",
          "ZERO",
          "FF",
          "ZERO",
          "RAND",
          "ZERO",
          "RAND",
          "ZERO",
          "LSTM",
          "LSTM",
          "RAND",
          "RAND",
          "RAND",
          "RAND",
          "LSTM",
          "FF",
          "FF",
          "RAND",
          "ZERO",
          "FF",
          "LSTM",
          "FF",
          "ZERO",
          "FF",
          "FF",
          "LSTM",
          "ZERO",
          "FF",
          "LSTM",
          "FF",
          "ZERO",
          "LSTM",
          "RAND",
          "RAND",
          "RAND",
          "LSTM",
          "LSTM",
          "LSTM",
          "ZERO",
          "RAND",
          "ZERO",
          "ZERO",
          "ZERO",
          "FF",
          "ZERO",
          "FF",
          "LSTM",
          "FF",
          "FF",
          "LSTM",
          "RAND",
          "LSTM",
          "RAND",
          "FF",
          "FF",
          "ZERO",
          "LSTM",
          "RAND",
          "LSTM",
          "RAND",
          "ZERO",
          "LSTM",
          "FF",
          "ZERO",
          "RAND",
          "RAND",
          "FF",
          "RAND",
          "RAND",
          "ZERO",
          "FF",
          "RAND",
          "ZERO",
          "FF",
          "LSTM",
          "LSTM",
          "FF",
          "FF",
          "ZERO",
          "FF",
          "ZERO",
          "LSTM",
          "LSTM",
          "RAND",
          "FF",
          "RAND",
          "ZERO",
          "RAND",
          "RAND",
          "FF",
          "LSTM",
          "LSTM",
          "RAND",
          "FF",
          "RAND",
          "ZERO",
          "ZERO",
          "RAND",
          "ZERO",
          "RAND",
          "LSTM",
          "ZERO",
          "LSTM",
          "FF",
          "FF",
          "RAND",
          "LSTM",
          "LSTM",
          "ZERO",
          "RAND",
          "FF",
          "FF",
          "LSTM",
          "ZERO",
          "FF",
          "ZERO",
          "ZERO",
          "FF",
          "ZERO",
          "LSTM",
          "LSTM",
          "LSTM",
          "ZERO",
          "FF",
          "RAND",
          "FF",
          "RAND",
          "FF",
          "FF",
          "ZERO",
          "ZERO",
          "LSTM",
          "RAND",
          "LSTM",
          "ZERO",
          "FF",
          "FF",
          "FF",
          "FF",
          "RAND",
          "FF",
          "RAND",
          "ZERO",
          "RAND",
          "RAND",
          "FF",
          "FF",
          "FF",
          "RAND",
          "RAND",
          "RAND",
          "LSTM",
          "ZERO",
          "RAND",
          "ZERO",
          "RAND",
          "LSTM",
          "RAND",
          "RAND",
          "RAND",
          "RAND",
          "ZERO",
          "FF",
          "LSTM",
          "LSTM",
          "FF",
          "ZERO",
          "LSTM",
          "LSTM",
          "RAND",
          "ZERO",
          "FF",
          "LSTM",
          "FF",
          "FF",
          "LSTM",
          "RAND",
          "FF",
          "ZERO",
          "RAND",
          "LSTM",
          "RAND",
          "LSTM",
          "FF",
          "ZERO",
          "RAND",
          "ZERO",
          "FF",
          "FF",
          "RAND",
          "RAND",
          "FF",
          "LSTM",
          "FF",
          "LSTM",
          "RAND",
          "ZERO",
          "LSTM",
          "LSTM",
          "ZERO",
          "FF",
          "RAND",
          "RAND",
          "ZERO",
          "ZERO",
          "RAND",
          "FF",
          "RAND",
          "ZERO",
          "RAND",
          "FF",
          "RAND",
          "LSTM",
          "FF",
          "RAND",
          "ZERO",
          "ZERO",
          "RAND",
          "RAND",
          "ZERO",
          "ZERO",
          "FF",
          "LSTM",
          "LSTM",
          "FF",
          "ZERO",
          "RAND",
          "ZERO",
          "RAND",
          "RAND",
          "ZERO",
          "ZERO",
          "FF",
          "ZERO",
          "LSTM",
          "RAND",
          "LSTM",
          "FF",
          "RAND",
          "FF",
          "ZERO",
          "ZERO",
          "LSTM",
          "RAND",
          "LSTM",
          "FF",
          "ZERO",
          "LSTM",
          "RAND",
          "RAND",
          "FF",
          "LSTM",
          "LSTM",
          "ZERO",
          "RAND",
          "FF",
          "LSTM",
          "LSTM",
          "LSTM",
          "LSTM",
          "LSTM",
          "FF",
          "ZERO",
          "ZERO",
          "RAND",
          "LSTM",
          "ZERO",
          "LSTM",
          "ZERO",
          "FF",
          "FF",
          "ZERO",
          "ZERO",
          "FF",
          "LSTM",
          "ZERO",
          "LSTM",
          "LSTM",
          "ZERO",
          "LSTM"
         ],
         "xaxis": "x5",
         "y": [
          98.64527893066406,
          98.63126373291016,
          98.57345581054688,
          98.4964828491211,
          98.476806640625,
          98.45506286621094,
          98.3869400024414,
          98.36801147460938,
          98.36666107177734,
          98.3252182006836,
          98.26323699951172,
          98.1899871826172,
          98.17034912109376,
          98.1449203491211,
          98.1146240234375,
          98.09742736816406,
          98.09068298339844,
          98.0906753540039,
          98.08660888671876,
          98.08438873291016,
          98.07145690917967,
          98.07054138183594,
          98.0041275024414,
          97.9993133544922,
          97.96394348144533,
          97.94824981689452,
          97.94219970703124,
          97.9417724609375,
          97.93993377685548,
          97.93425750732422,
          97.93087005615234,
          97.90512084960938,
          97.89822387695312,
          97.89192199707033,
          97.8847885131836,
          97.8784637451172,
          97.8700180053711,
          97.8598403930664,
          97.85176849365234,
          97.85011291503906,
          97.82964324951172,
          97.8253173828125,
          97.81804656982422,
          97.79948425292967,
          97.77391815185548,
          97.77324676513672,
          97.77044677734376,
          97.73961639404295,
          97.72860717773438,
          97.71719360351562,
          97.71418762207033,
          97.70063018798828,
          97.70012664794922,
          97.69255828857422,
          97.66950225830078,
          97.64830017089844,
          97.64810180664062,
          97.64680480957033,
          97.64347076416016,
          97.62682342529295,
          97.60191345214844,
          97.59656524658205,
          97.5845184326172,
          97.55343627929688,
          97.54607391357422,
          97.53484344482422,
          97.50935363769533,
          97.48965454101562,
          97.48400115966795,
          97.47796630859376,
          97.47483825683594,
          97.47042083740234,
          97.44538879394533,
          97.44478607177734,
          97.43081665039062,
          97.43049621582033,
          97.40955352783205,
          97.3979949951172,
          97.3876495361328,
          97.3869171142578,
          97.36407470703124,
          97.32333374023438,
          97.31390380859376,
          97.3061294555664,
          97.28376770019533,
          97.27134704589844,
          97.25301361083984,
          97.18128967285156,
          97.1295928955078,
          97.0002670288086,
          96.9705581665039,
          96.920166015625,
          96.90203094482422,
          96.89314270019533,
          96.87776184082033,
          96.87051391601562,
          96.8392105102539,
          96.83768463134766,
          96.81097412109376,
          96.76874542236328,
          96.76813507080078,
          96.6336441040039,
          96.55754089355467,
          96.5406723022461,
          96.5159149169922,
          96.50509643554688,
          96.46327209472656,
          96.4564208984375,
          96.4235382080078,
          96.4122085571289,
          96.40754699707033,
          96.39376068115234,
          96.365234375,
          96.34661865234376,
          96.26641845703124,
          96.2645492553711,
          96.25476837158205,
          96.24866485595705,
          96.23986053466795,
          96.20995330810548,
          96.1969757080078,
          96.18557739257812,
          96.1829605102539,
          96.16373443603516,
          96.1561050415039,
          96.15077209472656,
          96.1475830078125,
          96.13246154785156,
          96.11537170410156,
          96.11275482177734,
          96.10430908203124,
          96.10256958007812,
          96.0985870361328,
          96.09707641601562,
          96.05696868896484,
          96.04610443115234,
          96.02403259277344,
          95.9927215576172,
          95.98303985595705,
          95.97135162353516,
          95.94629669189452,
          95.89978790283205,
          95.85474395751952,
          95.85453033447266,
          95.7686538696289,
          95.74044036865234,
          95.7321548461914,
          95.69865417480467,
          95.65708923339844,
          95.65347290039062,
          95.65291595458984,
          95.63182830810548,
          95.60150146484376,
          95.60099029541016,
          95.53726959228516,
          95.51385498046876,
          95.50518035888672,
          95.47422790527344,
          95.47000885009766,
          95.43682098388672,
          95.41340637207033,
          95.38402557373048,
          95.32121276855467,
          95.31752014160156,
          95.2339859008789,
          95.2121810913086,
          95.2103042602539,
          95.1697235107422,
          95.16700744628906,
          95.1502456665039,
          95.14989471435548,
          95.1363296508789,
          95.12645721435548,
          95.04593658447266,
          94.9735336303711,
          94.95551300048828,
          94.91620635986328,
          94.85948944091795,
          94.82145690917967,
          94.74220275878906,
          94.7124252319336,
          94.6971206665039,
          94.6418914794922,
          94.59098052978516,
          94.56043243408205,
          94.48770141601562,
          94.4750747680664,
          94.45597839355467,
          94.3760757446289,
          94.35650634765624,
          94.34941864013672,
          94.34881591796876,
          94.28089904785156,
          94.26303100585938,
          94.21080017089844,
          94.20600128173828,
          94.19519805908205,
          94.15095520019533,
          94.1484832763672,
          94.1455535888672,
          94.12891387939452,
          94.07080078125,
          93.968505859375,
          93.95197296142578,
          93.94207763671876,
          93.94132995605467,
          93.93704223632812,
          93.9171371459961,
          93.9045181274414,
          93.89478302001952,
          93.88055419921876,
          93.84900665283205,
          93.84690856933594,
          93.8422622680664,
          93.82486724853516,
          93.82440185546876,
          93.79478454589844,
          93.77892303466795,
          93.77677154541016,
          93.76724243164062,
          93.7504653930664,
          93.68932342529295,
          93.68547821044922,
          93.6388168334961,
          93.62836456298828,
          93.60320281982422,
          93.5859832763672,
          93.52696990966795,
          93.52345275878906,
          93.49136352539062,
          93.4850845336914,
          93.44547271728516,
          93.44409942626952,
          93.362060546875,
          93.304443359375,
          93.2867431640625,
          93.24789428710938,
          93.2095184326172,
          93.19850158691406,
          93.14957427978516,
          93.12889099121094,
          93.06808471679688,
          92.9922866821289,
          92.98395538330078,
          92.94324493408205,
          92.91783905029295,
          92.88909912109376,
          92.88849639892578,
          92.8497314453125,
          92.7812957763672,
          92.76729583740234,
          92.75647735595705,
          92.63228607177734,
          92.5700225830078,
          92.52262878417967,
          92.4682846069336,
          92.4528579711914,
          92.42083740234376,
          92.34491729736328,
          92.32979583740234,
          92.3131332397461,
          92.28379821777344,
          92.26985168457033,
          92.15628814697266,
          92.11949157714844,
          92.04934692382812,
          92.0237274169922,
          91.86268615722656,
          91.85838317871094,
          91.79696655273438,
          91.78849792480467,
          91.77552795410156,
          91.63629150390624,
          91.59477996826172,
          91.5042724609375,
          91.4352798461914,
          91.40958404541016,
          91.40501403808594,
          91.38825225830078,
          91.3462371826172,
          91.2791976928711,
          91.27102661132812,
          91.25569152832033,
          91.15615844726562,
          91.11886596679688,
          91.07481384277344,
          91.06481170654295,
          91.02296447753906,
          90.88819885253906,
          90.87474822998048,
          90.7538833618164,
          90.64856719970705,
          90.61773681640624,
          90.61294555664062,
          90.47724151611328,
          90.42543029785156,
          90.3702163696289,
          90.34930419921876,
          90.29582977294922,
          90.1534652709961,
          89.57958984375,
          89.55613708496094,
          89.48218536376953,
          89.15210723876953,
          89.10578918457031,
          89.09007263183594,
          88.91436767578125,
          88.68589782714844,
          88.19181060791016,
          88.1047134399414,
          87.95417022705078,
          87.53903198242188,
          87.49999237060547,
          87.1074447631836,
          87.0882568359375,
          86.90162658691406,
          86.79559326171875,
          86.79486846923828,
          86.08267211914062,
          85.98267211914063
         ],
         "yaxis": "y5"
        }
       ],
       "layout": {
        "template": {
         "data": {
          "bar": [
           {
            "error_x": {
             "color": "#2a3f5f"
            },
            "error_y": {
             "color": "#2a3f5f"
            },
            "marker": {
             "line": {
              "color": "#E5ECF6",
              "width": 0.5
             },
             "pattern": {
              "fillmode": "overlay",
              "size": 10,
              "solidity": 0.2
             }
            },
            "type": "bar"
           }
          ],
          "barpolar": [
           {
            "marker": {
             "line": {
              "color": "#E5ECF6",
              "width": 0.5
             },
             "pattern": {
              "fillmode": "overlay",
              "size": 10,
              "solidity": 0.2
             }
            },
            "type": "barpolar"
           }
          ],
          "carpet": [
           {
            "aaxis": {
             "endlinecolor": "#2a3f5f",
             "gridcolor": "white",
             "linecolor": "white",
             "minorgridcolor": "white",
             "startlinecolor": "#2a3f5f"
            },
            "baxis": {
             "endlinecolor": "#2a3f5f",
             "gridcolor": "white",
             "linecolor": "white",
             "minorgridcolor": "white",
             "startlinecolor": "#2a3f5f"
            },
            "type": "carpet"
           }
          ],
          "choropleth": [
           {
            "colorbar": {
             "outlinewidth": 0,
             "ticks": ""
            },
            "type": "choropleth"
           }
          ],
          "contour": [
           {
            "colorbar": {
             "outlinewidth": 0,
             "ticks": ""
            },
            "colorscale": [
             [
              0,
              "#0d0887"
             ],
             [
              0.1111111111111111,
              "#46039f"
             ],
             [
              0.2222222222222222,
              "#7201a8"
             ],
             [
              0.3333333333333333,
              "#9c179e"
             ],
             [
              0.4444444444444444,
              "#bd3786"
             ],
             [
              0.5555555555555556,
              "#d8576b"
             ],
             [
              0.6666666666666666,
              "#ed7953"
             ],
             [
              0.7777777777777778,
              "#fb9f3a"
             ],
             [
              0.8888888888888888,
              "#fdca26"
             ],
             [
              1,
              "#f0f921"
             ]
            ],
            "type": "contour"
           }
          ],
          "contourcarpet": [
           {
            "colorbar": {
             "outlinewidth": 0,
             "ticks": ""
            },
            "type": "contourcarpet"
           }
          ],
          "heatmap": [
           {
            "colorbar": {
             "outlinewidth": 0,
             "ticks": ""
            },
            "colorscale": [
             [
              0,
              "#0d0887"
             ],
             [
              0.1111111111111111,
              "#46039f"
             ],
             [
              0.2222222222222222,
              "#7201a8"
             ],
             [
              0.3333333333333333,
              "#9c179e"
             ],
             [
              0.4444444444444444,
              "#bd3786"
             ],
             [
              0.5555555555555556,
              "#d8576b"
             ],
             [
              0.6666666666666666,
              "#ed7953"
             ],
             [
              0.7777777777777778,
              "#fb9f3a"
             ],
             [
              0.8888888888888888,
              "#fdca26"
             ],
             [
              1,
              "#f0f921"
             ]
            ],
            "type": "heatmap"
           }
          ],
          "heatmapgl": [
           {
            "colorbar": {
             "outlinewidth": 0,
             "ticks": ""
            },
            "colorscale": [
             [
              0,
              "#0d0887"
             ],
             [
              0.1111111111111111,
              "#46039f"
             ],
             [
              0.2222222222222222,
              "#7201a8"
             ],
             [
              0.3333333333333333,
              "#9c179e"
             ],
             [
              0.4444444444444444,
              "#bd3786"
             ],
             [
              0.5555555555555556,
              "#d8576b"
             ],
             [
              0.6666666666666666,
              "#ed7953"
             ],
             [
              0.7777777777777778,
              "#fb9f3a"
             ],
             [
              0.8888888888888888,
              "#fdca26"
             ],
             [
              1,
              "#f0f921"
             ]
            ],
            "type": "heatmapgl"
           }
          ],
          "histogram": [
           {
            "marker": {
             "pattern": {
              "fillmode": "overlay",
              "size": 10,
              "solidity": 0.2
             }
            },
            "type": "histogram"
           }
          ],
          "histogram2d": [
           {
            "colorbar": {
             "outlinewidth": 0,
             "ticks": ""
            },
            "colorscale": [
             [
              0,
              "#0d0887"
             ],
             [
              0.1111111111111111,
              "#46039f"
             ],
             [
              0.2222222222222222,
              "#7201a8"
             ],
             [
              0.3333333333333333,
              "#9c179e"
             ],
             [
              0.4444444444444444,
              "#bd3786"
             ],
             [
              0.5555555555555556,
              "#d8576b"
             ],
             [
              0.6666666666666666,
              "#ed7953"
             ],
             [
              0.7777777777777778,
              "#fb9f3a"
             ],
             [
              0.8888888888888888,
              "#fdca26"
             ],
             [
              1,
              "#f0f921"
             ]
            ],
            "type": "histogram2d"
           }
          ],
          "histogram2dcontour": [
           {
            "colorbar": {
             "outlinewidth": 0,
             "ticks": ""
            },
            "colorscale": [
             [
              0,
              "#0d0887"
             ],
             [
              0.1111111111111111,
              "#46039f"
             ],
             [
              0.2222222222222222,
              "#7201a8"
             ],
             [
              0.3333333333333333,
              "#9c179e"
             ],
             [
              0.4444444444444444,
              "#bd3786"
             ],
             [
              0.5555555555555556,
              "#d8576b"
             ],
             [
              0.6666666666666666,
              "#ed7953"
             ],
             [
              0.7777777777777778,
              "#fb9f3a"
             ],
             [
              0.8888888888888888,
              "#fdca26"
             ],
             [
              1,
              "#f0f921"
             ]
            ],
            "type": "histogram2dcontour"
           }
          ],
          "mesh3d": [
           {
            "colorbar": {
             "outlinewidth": 0,
             "ticks": ""
            },
            "type": "mesh3d"
           }
          ],
          "parcoords": [
           {
            "line": {
             "colorbar": {
              "outlinewidth": 0,
              "ticks": ""
             }
            },
            "type": "parcoords"
           }
          ],
          "pie": [
           {
            "automargin": true,
            "type": "pie"
           }
          ],
          "scatter": [
           {
            "marker": {
             "colorbar": {
              "outlinewidth": 0,
              "ticks": ""
             }
            },
            "type": "scatter"
           }
          ],
          "scatter3d": [
           {
            "line": {
             "colorbar": {
              "outlinewidth": 0,
              "ticks": ""
             }
            },
            "marker": {
             "colorbar": {
              "outlinewidth": 0,
              "ticks": ""
             }
            },
            "type": "scatter3d"
           }
          ],
          "scattercarpet": [
           {
            "marker": {
             "colorbar": {
              "outlinewidth": 0,
              "ticks": ""
             }
            },
            "type": "scattercarpet"
           }
          ],
          "scattergeo": [
           {
            "marker": {
             "colorbar": {
              "outlinewidth": 0,
              "ticks": ""
             }
            },
            "type": "scattergeo"
           }
          ],
          "scattergl": [
           {
            "marker": {
             "colorbar": {
              "outlinewidth": 0,
              "ticks": ""
             }
            },
            "type": "scattergl"
           }
          ],
          "scattermapbox": [
           {
            "marker": {
             "colorbar": {
              "outlinewidth": 0,
              "ticks": ""
             }
            },
            "type": "scattermapbox"
           }
          ],
          "scatterpolar": [
           {
            "marker": {
             "colorbar": {
              "outlinewidth": 0,
              "ticks": ""
             }
            },
            "type": "scatterpolar"
           }
          ],
          "scatterpolargl": [
           {
            "marker": {
             "colorbar": {
              "outlinewidth": 0,
              "ticks": ""
             }
            },
            "type": "scatterpolargl"
           }
          ],
          "scatterternary": [
           {
            "marker": {
             "colorbar": {
              "outlinewidth": 0,
              "ticks": ""
             }
            },
            "type": "scatterternary"
           }
          ],
          "surface": [
           {
            "colorbar": {
             "outlinewidth": 0,
             "ticks": ""
            },
            "colorscale": [
             [
              0,
              "#0d0887"
             ],
             [
              0.1111111111111111,
              "#46039f"
             ],
             [
              0.2222222222222222,
              "#7201a8"
             ],
             [
              0.3333333333333333,
              "#9c179e"
             ],
             [
              0.4444444444444444,
              "#bd3786"
             ],
             [
              0.5555555555555556,
              "#d8576b"
             ],
             [
              0.6666666666666666,
              "#ed7953"
             ],
             [
              0.7777777777777778,
              "#fb9f3a"
             ],
             [
              0.8888888888888888,
              "#fdca26"
             ],
             [
              1,
              "#f0f921"
             ]
            ],
            "type": "surface"
           }
          ],
          "table": [
           {
            "cells": {
             "fill": {
              "color": "#EBF0F8"
             },
             "line": {
              "color": "white"
             }
            },
            "header": {
             "fill": {
              "color": "#C8D4E3"
             },
             "line": {
              "color": "white"
             }
            },
            "type": "table"
           }
          ]
         },
         "layout": {
          "annotationdefaults": {
           "arrowcolor": "#2a3f5f",
           "arrowhead": 0,
           "arrowwidth": 1
          },
          "autotypenumbers": "strict",
          "coloraxis": {
           "colorbar": {
            "outlinewidth": 0,
            "ticks": ""
           }
          },
          "colorscale": {
           "diverging": [
            [
             0,
             "#8e0152"
            ],
            [
             0.1,
             "#c51b7d"
            ],
            [
             0.2,
             "#de77ae"
            ],
            [
             0.3,
             "#f1b6da"
            ],
            [
             0.4,
             "#fde0ef"
            ],
            [
             0.5,
             "#f7f7f7"
            ],
            [
             0.6,
             "#e6f5d0"
            ],
            [
             0.7,
             "#b8e186"
            ],
            [
             0.8,
             "#7fbc41"
            ],
            [
             0.9,
             "#4d9221"
            ],
            [
             1,
             "#276419"
            ]
           ],
           "sequential": [
            [
             0,
             "#0d0887"
            ],
            [
             0.1111111111111111,
             "#46039f"
            ],
            [
             0.2222222222222222,
             "#7201a8"
            ],
            [
             0.3333333333333333,
             "#9c179e"
            ],
            [
             0.4444444444444444,
             "#bd3786"
            ],
            [
             0.5555555555555556,
             "#d8576b"
            ],
            [
             0.6666666666666666,
             "#ed7953"
            ],
            [
             0.7777777777777778,
             "#fb9f3a"
            ],
            [
             0.8888888888888888,
             "#fdca26"
            ],
            [
             1,
             "#f0f921"
            ]
           ],
           "sequentialminus": [
            [
             0,
             "#0d0887"
            ],
            [
             0.1111111111111111,
             "#46039f"
            ],
            [
             0.2222222222222222,
             "#7201a8"
            ],
            [
             0.3333333333333333,
             "#9c179e"
            ],
            [
             0.4444444444444444,
             "#bd3786"
            ],
            [
             0.5555555555555556,
             "#d8576b"
            ],
            [
             0.6666666666666666,
             "#ed7953"
            ],
            [
             0.7777777777777778,
             "#fb9f3a"
            ],
            [
             0.8888888888888888,
             "#fdca26"
            ],
            [
             1,
             "#f0f921"
            ]
           ]
          },
          "colorway": [
           "#636efa",
           "#EF553B",
           "#00cc96",
           "#ab63fa",
           "#FFA15A",
           "#19d3f3",
           "#FF6692",
           "#B6E880",
           "#FF97FF",
           "#FECB52"
          ],
          "font": {
           "color": "#2a3f5f"
          },
          "geo": {
           "bgcolor": "white",
           "lakecolor": "white",
           "landcolor": "#E5ECF6",
           "showlakes": true,
           "showland": true,
           "subunitcolor": "white"
          },
          "hoverlabel": {
           "align": "left"
          },
          "hovermode": "closest",
          "mapbox": {
           "style": "light"
          },
          "paper_bgcolor": "white",
          "plot_bgcolor": "#E5ECF6",
          "polar": {
           "angularaxis": {
            "gridcolor": "white",
            "linecolor": "white",
            "ticks": ""
           },
           "bgcolor": "#E5ECF6",
           "radialaxis": {
            "gridcolor": "white",
            "linecolor": "white",
            "ticks": ""
           }
          },
          "scene": {
           "xaxis": {
            "backgroundcolor": "#E5ECF6",
            "gridcolor": "white",
            "gridwidth": 2,
            "linecolor": "white",
            "showbackground": true,
            "ticks": "",
            "zerolinecolor": "white"
           },
           "yaxis": {
            "backgroundcolor": "#E5ECF6",
            "gridcolor": "white",
            "gridwidth": 2,
            "linecolor": "white",
            "showbackground": true,
            "ticks": "",
            "zerolinecolor": "white"
           },
           "zaxis": {
            "backgroundcolor": "#E5ECF6",
            "gridcolor": "white",
            "gridwidth": 2,
            "linecolor": "white",
            "showbackground": true,
            "ticks": "",
            "zerolinecolor": "white"
           }
          },
          "shapedefaults": {
           "line": {
            "color": "#2a3f5f"
           }
          },
          "ternary": {
           "aaxis": {
            "gridcolor": "white",
            "linecolor": "white",
            "ticks": ""
           },
           "baxis": {
            "gridcolor": "white",
            "linecolor": "white",
            "ticks": ""
           },
           "bgcolor": "#E5ECF6",
           "caxis": {
            "gridcolor": "white",
            "linecolor": "white",
            "ticks": ""
           }
          },
          "title": {
           "x": 0.05
          },
          "xaxis": {
           "automargin": true,
           "gridcolor": "white",
           "linecolor": "white",
           "ticks": "",
           "title": {
            "standoff": 15
           },
           "zerolinecolor": "white",
           "zerolinewidth": 2
          },
          "yaxis": {
           "automargin": true,
           "gridcolor": "white",
           "linecolor": "white",
           "ticks": "",
           "title": {
            "standoff": 15
           },
           "zerolinecolor": "white",
           "zerolinewidth": 2
          }
         }
        },
        "xaxis": {
         "anchor": "y",
         "domain": [
          0,
          0.16799999999999998
         ]
        },
        "xaxis2": {
         "anchor": "y2",
         "domain": [
          0.208,
          0.376
         ]
        },
        "xaxis3": {
         "anchor": "y3",
         "domain": [
          0.416,
          0.584
         ]
        },
        "xaxis4": {
         "anchor": "y4",
         "domain": [
          0.624,
          0.792
         ]
        },
        "xaxis5": {
         "anchor": "y5",
         "domain": [
          0.832,
          1
         ]
        },
        "yaxis": {
         "anchor": "x",
         "domain": [
          0,
          1
         ],
         "range": [
          80,
          100
         ]
        },
        "yaxis2": {
         "anchor": "x2",
         "domain": [
          0,
          1
         ],
         "range": [
          80,
          100
         ]
        },
        "yaxis3": {
         "anchor": "x3",
         "domain": [
          0,
          1
         ],
         "range": [
          80,
          100
         ]
        },
        "yaxis4": {
         "anchor": "x4",
         "domain": [
          0,
          1
         ],
         "range": [
          80,
          100
         ]
        },
        "yaxis5": {
         "anchor": "x5",
         "domain": [
          0,
          1
         ],
         "range": [
          80,
          100
         ]
        }
       }
      },
      "text/html": [
       "<div>                            <div id=\"fa0e52e8-ca43-4e35-8697-c0170923fc94\" class=\"plotly-graph-div\" style=\"height:525px; width:100%;\"></div>            <script type=\"text/javascript\">                require([\"plotly\"], function(Plotly) {                    window.PLOTLYENV=window.PLOTLYENV || {};                                    if (document.getElementById(\"fa0e52e8-ca43-4e35-8697-c0170923fc94\")) {                    Plotly.newPlot(                        \"fa0e52e8-ca43-4e35-8697-c0170923fc94\",                        [{\"name\":\"max_time\",\"x\":[1800,1800,1800,1800,1800,1800,1800,1800,1800,1800,1800,1800,1800,1800,1800,1800,1800,1800,1800,1800,1800,1800,1800,1800,1800,1800,1800,1800,1800,1800,1800,1800,1800,1800,1800,1800,1800,1800,1800,1800,1800,1800,1800,1800,1800,1800,1800,1800,1800,1800,1800,1800,1800,1800,1800,1800,1800,1800,1800,1800,1800,1800,1800,1800,1800,1800,1800,1800,1800,1800,1800,1800,1800,1800,1800,1800,1800,1800,1800,1800,1800,1800,1800,1800,1800,1800,1800,1800,1800,1800,1800,1800,1800,1800,1800,1800,1800,1800,1800,1800,1800,1800,1800,1800,1800,1800,1800,1800,1800,1800,1800,1800,1800,1800,1800,1800,1800,1800,1800,1800,1800,1800,1800,1800,1800,1800,1800,1800,300,1800,1800,1800,1800,1800,1800,1800,1800,1800,1800,1800,1800,1800,1800,1800,1800,1800,300,1800,1800,300,1800,1800,1800,300,1800,1800,300,300,300,300,300,1800,300,300,1800,300,1800,300,300,1800,300,300,300,300,300,300,300,300,300,1800,300,300,300,300,1800,300,300,300,300,300,300,300,300,300,300,300,300,300,1800,300,300,1800,300,300,300,300,300,300,300,300,300,300,300,300,300,300,300,300,300,300,300,300,300,300,300,300,300,300,300,300,300,300,300,300,300,300,300,300,300,300,300,300,300,300,300,300,300,300,300,300,300,300,300,300,300,300,300,300,300,300,300,300,300,300,300,300,300,300,300,300,300,300,300,300,300,300,300,300,300,300,300,300,300,300,300,300,300,300,300,300,300,300,300,300,300,300,300,300,300,300,300,300,300,300,300,300,300,300,300,300,300,300,300,300,300,300,300,300,300,300],\"y\":[98.64527893066406,98.63126373291016,98.57345581054688,98.4964828491211,98.476806640625,98.45506286621094,98.3869400024414,98.36801147460938,98.36666107177734,98.3252182006836,98.26323699951172,98.1899871826172,98.17034912109376,98.1449203491211,98.1146240234375,98.09742736816406,98.09068298339844,98.0906753540039,98.08660888671876,98.08438873291016,98.07145690917967,98.07054138183594,98.0041275024414,97.9993133544922,97.96394348144533,97.94824981689452,97.94219970703124,97.9417724609375,97.93993377685548,97.93425750732422,97.93087005615234,97.90512084960938,97.89822387695312,97.89192199707033,97.8847885131836,97.8784637451172,97.8700180053711,97.8598403930664,97.85176849365234,97.85011291503906,97.82964324951172,97.8253173828125,97.81804656982422,97.79948425292967,97.77391815185548,97.77324676513672,97.77044677734376,97.73961639404295,97.72860717773438,97.71719360351562,97.71418762207033,97.70063018798828,97.70012664794922,97.69255828857422,97.66950225830078,97.64830017089844,97.64810180664062,97.64680480957033,97.64347076416016,97.62682342529295,97.60191345214844,97.59656524658205,97.5845184326172,97.55343627929688,97.54607391357422,97.53484344482422,97.50935363769533,97.48965454101562,97.48400115966795,97.47796630859376,97.47483825683594,97.47042083740234,97.44538879394533,97.44478607177734,97.43081665039062,97.43049621582033,97.40955352783205,97.3979949951172,97.3876495361328,97.3869171142578,97.36407470703124,97.32333374023438,97.31390380859376,97.3061294555664,97.28376770019533,97.27134704589844,97.25301361083984,97.18128967285156,97.1295928955078,97.0002670288086,96.9705581665039,96.920166015625,96.90203094482422,96.89314270019533,96.87776184082033,96.87051391601562,96.8392105102539,96.83768463134766,96.81097412109376,96.76874542236328,96.76813507080078,96.6336441040039,96.55754089355467,96.5406723022461,96.5159149169922,96.50509643554688,96.46327209472656,96.4564208984375,96.4235382080078,96.4122085571289,96.40754699707033,96.39376068115234,96.365234375,96.34661865234376,96.26641845703124,96.2645492553711,96.25476837158205,96.24866485595705,96.23986053466795,96.20995330810548,96.1969757080078,96.18557739257812,96.1829605102539,96.16373443603516,96.1561050415039,96.15077209472656,96.1475830078125,96.13246154785156,96.11537170410156,96.11275482177734,96.10430908203124,96.10256958007812,96.0985870361328,96.09707641601562,96.05696868896484,96.04610443115234,96.02403259277344,95.9927215576172,95.98303985595705,95.97135162353516,95.94629669189452,95.89978790283205,95.85474395751952,95.85453033447266,95.7686538696289,95.74044036865234,95.7321548461914,95.69865417480467,95.65708923339844,95.65347290039062,95.65291595458984,95.63182830810548,95.60150146484376,95.60099029541016,95.53726959228516,95.51385498046876,95.50518035888672,95.47422790527344,95.47000885009766,95.43682098388672,95.41340637207033,95.38402557373048,95.32121276855467,95.31752014160156,95.2339859008789,95.2121810913086,95.2103042602539,95.1697235107422,95.16700744628906,95.1502456665039,95.14989471435548,95.1363296508789,95.12645721435548,95.04593658447266,94.9735336303711,94.95551300048828,94.91620635986328,94.85948944091795,94.82145690917967,94.74220275878906,94.7124252319336,94.6971206665039,94.6418914794922,94.59098052978516,94.56043243408205,94.48770141601562,94.4750747680664,94.45597839355467,94.3760757446289,94.35650634765624,94.34941864013672,94.34881591796876,94.28089904785156,94.26303100585938,94.21080017089844,94.20600128173828,94.19519805908205,94.15095520019533,94.1484832763672,94.1455535888672,94.12891387939452,94.07080078125,93.968505859375,93.95197296142578,93.94207763671876,93.94132995605467,93.93704223632812,93.9171371459961,93.9045181274414,93.89478302001952,93.88055419921876,93.84900665283205,93.84690856933594,93.8422622680664,93.82486724853516,93.82440185546876,93.79478454589844,93.77892303466795,93.77677154541016,93.76724243164062,93.7504653930664,93.68932342529295,93.68547821044922,93.6388168334961,93.62836456298828,93.60320281982422,93.5859832763672,93.52696990966795,93.52345275878906,93.49136352539062,93.4850845336914,93.44547271728516,93.44409942626952,93.362060546875,93.304443359375,93.2867431640625,93.24789428710938,93.2095184326172,93.19850158691406,93.14957427978516,93.12889099121094,93.06808471679688,92.9922866821289,92.98395538330078,92.94324493408205,92.91783905029295,92.88909912109376,92.88849639892578,92.8497314453125,92.7812957763672,92.76729583740234,92.75647735595705,92.63228607177734,92.5700225830078,92.52262878417967,92.4682846069336,92.4528579711914,92.42083740234376,92.34491729736328,92.32979583740234,92.3131332397461,92.28379821777344,92.26985168457033,92.15628814697266,92.11949157714844,92.04934692382812,92.0237274169922,91.86268615722656,91.85838317871094,91.79696655273438,91.78849792480467,91.77552795410156,91.63629150390624,91.59477996826172,91.5042724609375,91.4352798461914,91.40958404541016,91.40501403808594,91.38825225830078,91.3462371826172,91.2791976928711,91.27102661132812,91.25569152832033,91.15615844726562,91.11886596679688,91.07481384277344,91.06481170654295,91.02296447753906,90.88819885253906,90.87474822998048,90.7538833618164,90.64856719970705,90.61773681640624,90.61294555664062,90.47724151611328,90.42543029785156,90.3702163696289,90.34930419921876,90.29582977294922,90.1534652709961,89.57958984375,89.55613708496094,89.48218536376953,89.15210723876953,89.10578918457031,89.09007263183594,88.91436767578125,88.68589782714844,88.19181060791016,88.1047134399414,87.95417022705078,87.53903198242188,87.49999237060547,87.1074447631836,87.0882568359375,86.90162658691406,86.79559326171875,86.79486846923828,86.08267211914062,85.98267211914063],\"type\":\"box\",\"xaxis\":\"x\",\"yaxis\":\"y\"},{\"name\":\"batch_size\",\"x\":[128,1024,128,128,1024,128,128,1024,1024,128,128,128,128,1024,128,128,1024,1024,128,128,1024,128,128,128,128,128,128,1024,128,1024,128,128,1024,128,128,128,128,1024,128,128,128,1024,128,1024,1024,1024,128,1024,1024,128,1024,1024,128,1024,128,1024,128,1024,1024,128,1024,128,1024,1024,1024,1024,1024,128,128,128,128,128,1024,128,128,128,1024,128,1024,1024,1024,1024,1024,1024,128,1024,1024,1024,1024,1024,128,1024,1024,128,1024,128,128,1024,1024,1024,128,1024,1024,1024,128,1024,128,128,1024,128,128,128,128,128,1024,128,1024,1024,1024,1024,128,1024,1024,1024,128,128,128,128,128,1024,128,1024,1024,1024,1024,1024,128,128,1024,128,128,128,128,1024,128,128,128,1024,1024,128,1024,128,1024,128,1024,1024,128,128,128,128,128,1024,128,128,128,128,1024,128,128,128,1024,128,128,128,128,128,128,128,128,1024,128,128,1024,128,1024,1024,128,128,128,1024,128,128,1024,1024,1024,1024,128,1024,128,1024,1024,128,1024,128,128,128,1024,1024,1024,1024,128,1024,128,1024,1024,1024,128,1024,128,128,128,128,1024,128,128,128,1024,1024,1024,1024,1024,1024,128,1024,128,128,1024,1024,128,1024,1024,1024,128,128,128,1024,1024,128,128,1024,1024,1024,1024,128,1024,128,128,128,1024,128,1024,128,1024,1024,1024,1024,128,1024,1024,128,128,1024,1024,1024,1024,1024,1024,128,128,128,1024,1024,128,1024,1024,1024,128,128,1024,1024,1024,1024,1024,1024,128,1024,1024,128,1024,1024,1024,1024,128,128,128,128,1024,128,1024,1024,128,128,1024,128,128,128,1024,1024,1024,1024],\"y\":[98.64527893066406,98.63126373291016,98.57345581054688,98.4964828491211,98.476806640625,98.45506286621094,98.3869400024414,98.36801147460938,98.36666107177734,98.3252182006836,98.26323699951172,98.1899871826172,98.17034912109376,98.1449203491211,98.1146240234375,98.09742736816406,98.09068298339844,98.0906753540039,98.08660888671876,98.08438873291016,98.07145690917967,98.07054138183594,98.0041275024414,97.9993133544922,97.96394348144533,97.94824981689452,97.94219970703124,97.9417724609375,97.93993377685548,97.93425750732422,97.93087005615234,97.90512084960938,97.89822387695312,97.89192199707033,97.8847885131836,97.8784637451172,97.8700180053711,97.8598403930664,97.85176849365234,97.85011291503906,97.82964324951172,97.8253173828125,97.81804656982422,97.79948425292967,97.77391815185548,97.77324676513672,97.77044677734376,97.73961639404295,97.72860717773438,97.71719360351562,97.71418762207033,97.70063018798828,97.70012664794922,97.69255828857422,97.66950225830078,97.64830017089844,97.64810180664062,97.64680480957033,97.64347076416016,97.62682342529295,97.60191345214844,97.59656524658205,97.5845184326172,97.55343627929688,97.54607391357422,97.53484344482422,97.50935363769533,97.48965454101562,97.48400115966795,97.47796630859376,97.47483825683594,97.47042083740234,97.44538879394533,97.44478607177734,97.43081665039062,97.43049621582033,97.40955352783205,97.3979949951172,97.3876495361328,97.3869171142578,97.36407470703124,97.32333374023438,97.31390380859376,97.3061294555664,97.28376770019533,97.27134704589844,97.25301361083984,97.18128967285156,97.1295928955078,97.0002670288086,96.9705581665039,96.920166015625,96.90203094482422,96.89314270019533,96.87776184082033,96.87051391601562,96.8392105102539,96.83768463134766,96.81097412109376,96.76874542236328,96.76813507080078,96.6336441040039,96.55754089355467,96.5406723022461,96.5159149169922,96.50509643554688,96.46327209472656,96.4564208984375,96.4235382080078,96.4122085571289,96.40754699707033,96.39376068115234,96.365234375,96.34661865234376,96.26641845703124,96.2645492553711,96.25476837158205,96.24866485595705,96.23986053466795,96.20995330810548,96.1969757080078,96.18557739257812,96.1829605102539,96.16373443603516,96.1561050415039,96.15077209472656,96.1475830078125,96.13246154785156,96.11537170410156,96.11275482177734,96.10430908203124,96.10256958007812,96.0985870361328,96.09707641601562,96.05696868896484,96.04610443115234,96.02403259277344,95.9927215576172,95.98303985595705,95.97135162353516,95.94629669189452,95.89978790283205,95.85474395751952,95.85453033447266,95.7686538696289,95.74044036865234,95.7321548461914,95.69865417480467,95.65708923339844,95.65347290039062,95.65291595458984,95.63182830810548,95.60150146484376,95.60099029541016,95.53726959228516,95.51385498046876,95.50518035888672,95.47422790527344,95.47000885009766,95.43682098388672,95.41340637207033,95.38402557373048,95.32121276855467,95.31752014160156,95.2339859008789,95.2121810913086,95.2103042602539,95.1697235107422,95.16700744628906,95.1502456665039,95.14989471435548,95.1363296508789,95.12645721435548,95.04593658447266,94.9735336303711,94.95551300048828,94.91620635986328,94.85948944091795,94.82145690917967,94.74220275878906,94.7124252319336,94.6971206665039,94.6418914794922,94.59098052978516,94.56043243408205,94.48770141601562,94.4750747680664,94.45597839355467,94.3760757446289,94.35650634765624,94.34941864013672,94.34881591796876,94.28089904785156,94.26303100585938,94.21080017089844,94.20600128173828,94.19519805908205,94.15095520019533,94.1484832763672,94.1455535888672,94.12891387939452,94.07080078125,93.968505859375,93.95197296142578,93.94207763671876,93.94132995605467,93.93704223632812,93.9171371459961,93.9045181274414,93.89478302001952,93.88055419921876,93.84900665283205,93.84690856933594,93.8422622680664,93.82486724853516,93.82440185546876,93.79478454589844,93.77892303466795,93.77677154541016,93.76724243164062,93.7504653930664,93.68932342529295,93.68547821044922,93.6388168334961,93.62836456298828,93.60320281982422,93.5859832763672,93.52696990966795,93.52345275878906,93.49136352539062,93.4850845336914,93.44547271728516,93.44409942626952,93.362060546875,93.304443359375,93.2867431640625,93.24789428710938,93.2095184326172,93.19850158691406,93.14957427978516,93.12889099121094,93.06808471679688,92.9922866821289,92.98395538330078,92.94324493408205,92.91783905029295,92.88909912109376,92.88849639892578,92.8497314453125,92.7812957763672,92.76729583740234,92.75647735595705,92.63228607177734,92.5700225830078,92.52262878417967,92.4682846069336,92.4528579711914,92.42083740234376,92.34491729736328,92.32979583740234,92.3131332397461,92.28379821777344,92.26985168457033,92.15628814697266,92.11949157714844,92.04934692382812,92.0237274169922,91.86268615722656,91.85838317871094,91.79696655273438,91.78849792480467,91.77552795410156,91.63629150390624,91.59477996826172,91.5042724609375,91.4352798461914,91.40958404541016,91.40501403808594,91.38825225830078,91.3462371826172,91.2791976928711,91.27102661132812,91.25569152832033,91.15615844726562,91.11886596679688,91.07481384277344,91.06481170654295,91.02296447753906,90.88819885253906,90.87474822998048,90.7538833618164,90.64856719970705,90.61773681640624,90.61294555664062,90.47724151611328,90.42543029785156,90.3702163696289,90.34930419921876,90.29582977294922,90.1534652709961,89.57958984375,89.55613708496094,89.48218536376953,89.15210723876953,89.10578918457031,89.09007263183594,88.91436767578125,88.68589782714844,88.19181060791016,88.1047134399414,87.95417022705078,87.53903198242188,87.49999237060547,87.1074447631836,87.0882568359375,86.90162658691406,86.79559326171875,86.79486846923828,86.08267211914062,85.98267211914063],\"type\":\"box\",\"xaxis\":\"x2\",\"yaxis\":\"y2\"},{\"name\":\"seq_len\",\"x\":[80,40,40,40,80,80,40,40,80,40,80,80,40,80,160,80,320,40,40,80,160,160,80,80,40,320,80,160,40,320,80,40,80,160,40,160,160,80,40,160,40,40,40,40,80,40,40,80,160,80,40,80,160,160,320,40,80,160,160,40,40,80,160,160,40,80,160,160,160,160,80,160,160,80,160,320,160,320,320,40,80,160,80,40,320,320,160,40,320,320,320,80,320,320,160,160,320,160,80,320,320,40,160,320,160,160,80,160,80,160,80,80,320,320,160,160,320,80,80,80,80,320,320,320,320,80,160,320,40,320,40,80,80,160,320,320,320,160,320,320,320,320,160,320,320,320,40,40,40,40,40,320,80,40,160,40,80,80,80,80,80,320,80,40,40,40,320,40,40,40,40,40,80,40,80,80,40,80,160,40,80,40,80,80,40,80,160,160,80,80,160,80,40,40,160,160,160,160,40,80,160,40,80,40,80,160,80,160,160,80,40,160,160,80,40,160,160,160,160,80,80,40,80,160,80,80,80,80,40,80,40,80,160,40,160,160,80,40,160,160,160,40,160,40,40,160,40,40,160,80,160,160,80,80,320,160,160,320,40,40,80,320,160,80,320,160,320,320,320,160,160,160,160,160,40,40,320,320,320,320,40,40,320,320,40,320,320,320,320,320,320,40,320,320,320,320,320,320,320,80,160,40,320,320,320,40,320,320,320,320,320,320,320,320,320,320,80,320,40,40],\"y\":[98.64527893066406,98.63126373291016,98.57345581054688,98.4964828491211,98.476806640625,98.45506286621094,98.3869400024414,98.36801147460938,98.36666107177734,98.3252182006836,98.26323699951172,98.1899871826172,98.17034912109376,98.1449203491211,98.1146240234375,98.09742736816406,98.09068298339844,98.0906753540039,98.08660888671876,98.08438873291016,98.07145690917967,98.07054138183594,98.0041275024414,97.9993133544922,97.96394348144533,97.94824981689452,97.94219970703124,97.9417724609375,97.93993377685548,97.93425750732422,97.93087005615234,97.90512084960938,97.89822387695312,97.89192199707033,97.8847885131836,97.8784637451172,97.8700180053711,97.8598403930664,97.85176849365234,97.85011291503906,97.82964324951172,97.8253173828125,97.81804656982422,97.79948425292967,97.77391815185548,97.77324676513672,97.77044677734376,97.73961639404295,97.72860717773438,97.71719360351562,97.71418762207033,97.70063018798828,97.70012664794922,97.69255828857422,97.66950225830078,97.64830017089844,97.64810180664062,97.64680480957033,97.64347076416016,97.62682342529295,97.60191345214844,97.59656524658205,97.5845184326172,97.55343627929688,97.54607391357422,97.53484344482422,97.50935363769533,97.48965454101562,97.48400115966795,97.47796630859376,97.47483825683594,97.47042083740234,97.44538879394533,97.44478607177734,97.43081665039062,97.43049621582033,97.40955352783205,97.3979949951172,97.3876495361328,97.3869171142578,97.36407470703124,97.32333374023438,97.31390380859376,97.3061294555664,97.28376770019533,97.27134704589844,97.25301361083984,97.18128967285156,97.1295928955078,97.0002670288086,96.9705581665039,96.920166015625,96.90203094482422,96.89314270019533,96.87776184082033,96.87051391601562,96.8392105102539,96.83768463134766,96.81097412109376,96.76874542236328,96.76813507080078,96.6336441040039,96.55754089355467,96.5406723022461,96.5159149169922,96.50509643554688,96.46327209472656,96.4564208984375,96.4235382080078,96.4122085571289,96.40754699707033,96.39376068115234,96.365234375,96.34661865234376,96.26641845703124,96.2645492553711,96.25476837158205,96.24866485595705,96.23986053466795,96.20995330810548,96.1969757080078,96.18557739257812,96.1829605102539,96.16373443603516,96.1561050415039,96.15077209472656,96.1475830078125,96.13246154785156,96.11537170410156,96.11275482177734,96.10430908203124,96.10256958007812,96.0985870361328,96.09707641601562,96.05696868896484,96.04610443115234,96.02403259277344,95.9927215576172,95.98303985595705,95.97135162353516,95.94629669189452,95.89978790283205,95.85474395751952,95.85453033447266,95.7686538696289,95.74044036865234,95.7321548461914,95.69865417480467,95.65708923339844,95.65347290039062,95.65291595458984,95.63182830810548,95.60150146484376,95.60099029541016,95.53726959228516,95.51385498046876,95.50518035888672,95.47422790527344,95.47000885009766,95.43682098388672,95.41340637207033,95.38402557373048,95.32121276855467,95.31752014160156,95.2339859008789,95.2121810913086,95.2103042602539,95.1697235107422,95.16700744628906,95.1502456665039,95.14989471435548,95.1363296508789,95.12645721435548,95.04593658447266,94.9735336303711,94.95551300048828,94.91620635986328,94.85948944091795,94.82145690917967,94.74220275878906,94.7124252319336,94.6971206665039,94.6418914794922,94.59098052978516,94.56043243408205,94.48770141601562,94.4750747680664,94.45597839355467,94.3760757446289,94.35650634765624,94.34941864013672,94.34881591796876,94.28089904785156,94.26303100585938,94.21080017089844,94.20600128173828,94.19519805908205,94.15095520019533,94.1484832763672,94.1455535888672,94.12891387939452,94.07080078125,93.968505859375,93.95197296142578,93.94207763671876,93.94132995605467,93.93704223632812,93.9171371459961,93.9045181274414,93.89478302001952,93.88055419921876,93.84900665283205,93.84690856933594,93.8422622680664,93.82486724853516,93.82440185546876,93.79478454589844,93.77892303466795,93.77677154541016,93.76724243164062,93.7504653930664,93.68932342529295,93.68547821044922,93.6388168334961,93.62836456298828,93.60320281982422,93.5859832763672,93.52696990966795,93.52345275878906,93.49136352539062,93.4850845336914,93.44547271728516,93.44409942626952,93.362060546875,93.304443359375,93.2867431640625,93.24789428710938,93.2095184326172,93.19850158691406,93.14957427978516,93.12889099121094,93.06808471679688,92.9922866821289,92.98395538330078,92.94324493408205,92.91783905029295,92.88909912109376,92.88849639892578,92.8497314453125,92.7812957763672,92.76729583740234,92.75647735595705,92.63228607177734,92.5700225830078,92.52262878417967,92.4682846069336,92.4528579711914,92.42083740234376,92.34491729736328,92.32979583740234,92.3131332397461,92.28379821777344,92.26985168457033,92.15628814697266,92.11949157714844,92.04934692382812,92.0237274169922,91.86268615722656,91.85838317871094,91.79696655273438,91.78849792480467,91.77552795410156,91.63629150390624,91.59477996826172,91.5042724609375,91.4352798461914,91.40958404541016,91.40501403808594,91.38825225830078,91.3462371826172,91.2791976928711,91.27102661132812,91.25569152832033,91.15615844726562,91.11886596679688,91.07481384277344,91.06481170654295,91.02296447753906,90.88819885253906,90.87474822998048,90.7538833618164,90.64856719970705,90.61773681640624,90.61294555664062,90.47724151611328,90.42543029785156,90.3702163696289,90.34930419921876,90.29582977294922,90.1534652709961,89.57958984375,89.55613708496094,89.48218536376953,89.15210723876953,89.10578918457031,89.09007263183594,88.91436767578125,88.68589782714844,88.19181060791016,88.1047134399414,87.95417022705078,87.53903198242188,87.49999237060547,87.1074447631836,87.0882568359375,86.90162658691406,86.79559326171875,86.79486846923828,86.08267211914062,85.98267211914063],\"type\":\"box\",\"xaxis\":\"x3\",\"yaxis\":\"y3\"},{\"name\":\"seq_est_len\",\"x\":[40,80,10,20,10,80,40,20,80,80,40,20,40,20,20,40,40,40,80,80,80,20,5,5,40,40,80,80,5,5,20,20,80,80,20,10,5,40,80,40,80,40,10,20,20,80,40,20,10,10,20,40,20,20,20,20,20,40,40,20,10,80,5,20,80,20,20,80,10,40,10,40,5,20,40,80,5,40,10,40,40,10,10,40,40,5,20,10,40,10,10,40,5,20,40,80,10,80,5,40,80,80,10,80,5,10,10,10,10,10,40,10,5,5,40,20,10,5,5,80,5,80,20,20,80,5,5,5,20,20,5,80,5,5,10,40,10,80,20,80,5,20,5,80,40,20,40,5,10,40,5,10,10,20,80,5,40,20,10,80,10,5,20,10,10,80,80,5,20,10,40,80,40,20,5,10,40,80,5,10,40,80,20,20,5,10,80,10,5,10,20,5,20,20,10,10,10,40,5,5,5,5,80,10,40,20,5,40,80,20,40,40,80,5,40,20,10,20,20,80,20,10,80,40,80,10,10,20,5,40,10,40,20,10,5,5,40,40,40,20,80,40,40,5,80,20,20,5,10,80,5,80,40,5,5,40,80,20,5,10,80,40,10,20,20,5,10,5,40,80,5,80,10,40,20,80,80,80,5,20,80,10,5,10,10,80,5,10,80,20,40,80,40,80,80,10,5,80,10,10,5,80,10,40,40,5,40,20,20,5,10,80,10,5,40,20,5,20,5,5],\"y\":[98.64527893066406,98.63126373291016,98.57345581054688,98.4964828491211,98.476806640625,98.45506286621094,98.3869400024414,98.36801147460938,98.36666107177734,98.3252182006836,98.26323699951172,98.1899871826172,98.17034912109376,98.1449203491211,98.1146240234375,98.09742736816406,98.09068298339844,98.0906753540039,98.08660888671876,98.08438873291016,98.07145690917967,98.07054138183594,98.0041275024414,97.9993133544922,97.96394348144533,97.94824981689452,97.94219970703124,97.9417724609375,97.93993377685548,97.93425750732422,97.93087005615234,97.90512084960938,97.89822387695312,97.89192199707033,97.8847885131836,97.8784637451172,97.8700180053711,97.8598403930664,97.85176849365234,97.85011291503906,97.82964324951172,97.8253173828125,97.81804656982422,97.79948425292967,97.77391815185548,97.77324676513672,97.77044677734376,97.73961639404295,97.72860717773438,97.71719360351562,97.71418762207033,97.70063018798828,97.70012664794922,97.69255828857422,97.66950225830078,97.64830017089844,97.64810180664062,97.64680480957033,97.64347076416016,97.62682342529295,97.60191345214844,97.59656524658205,97.5845184326172,97.55343627929688,97.54607391357422,97.53484344482422,97.50935363769533,97.48965454101562,97.48400115966795,97.47796630859376,97.47483825683594,97.47042083740234,97.44538879394533,97.44478607177734,97.43081665039062,97.43049621582033,97.40955352783205,97.3979949951172,97.3876495361328,97.3869171142578,97.36407470703124,97.32333374023438,97.31390380859376,97.3061294555664,97.28376770019533,97.27134704589844,97.25301361083984,97.18128967285156,97.1295928955078,97.0002670288086,96.9705581665039,96.920166015625,96.90203094482422,96.89314270019533,96.87776184082033,96.87051391601562,96.8392105102539,96.83768463134766,96.81097412109376,96.76874542236328,96.76813507080078,96.6336441040039,96.55754089355467,96.5406723022461,96.5159149169922,96.50509643554688,96.46327209472656,96.4564208984375,96.4235382080078,96.4122085571289,96.40754699707033,96.39376068115234,96.365234375,96.34661865234376,96.26641845703124,96.2645492553711,96.25476837158205,96.24866485595705,96.23986053466795,96.20995330810548,96.1969757080078,96.18557739257812,96.1829605102539,96.16373443603516,96.1561050415039,96.15077209472656,96.1475830078125,96.13246154785156,96.11537170410156,96.11275482177734,96.10430908203124,96.10256958007812,96.0985870361328,96.09707641601562,96.05696868896484,96.04610443115234,96.02403259277344,95.9927215576172,95.98303985595705,95.97135162353516,95.94629669189452,95.89978790283205,95.85474395751952,95.85453033447266,95.7686538696289,95.74044036865234,95.7321548461914,95.69865417480467,95.65708923339844,95.65347290039062,95.65291595458984,95.63182830810548,95.60150146484376,95.60099029541016,95.53726959228516,95.51385498046876,95.50518035888672,95.47422790527344,95.47000885009766,95.43682098388672,95.41340637207033,95.38402557373048,95.32121276855467,95.31752014160156,95.2339859008789,95.2121810913086,95.2103042602539,95.1697235107422,95.16700744628906,95.1502456665039,95.14989471435548,95.1363296508789,95.12645721435548,95.04593658447266,94.9735336303711,94.95551300048828,94.91620635986328,94.85948944091795,94.82145690917967,94.74220275878906,94.7124252319336,94.6971206665039,94.6418914794922,94.59098052978516,94.56043243408205,94.48770141601562,94.4750747680664,94.45597839355467,94.3760757446289,94.35650634765624,94.34941864013672,94.34881591796876,94.28089904785156,94.26303100585938,94.21080017089844,94.20600128173828,94.19519805908205,94.15095520019533,94.1484832763672,94.1455535888672,94.12891387939452,94.07080078125,93.968505859375,93.95197296142578,93.94207763671876,93.94132995605467,93.93704223632812,93.9171371459961,93.9045181274414,93.89478302001952,93.88055419921876,93.84900665283205,93.84690856933594,93.8422622680664,93.82486724853516,93.82440185546876,93.79478454589844,93.77892303466795,93.77677154541016,93.76724243164062,93.7504653930664,93.68932342529295,93.68547821044922,93.6388168334961,93.62836456298828,93.60320281982422,93.5859832763672,93.52696990966795,93.52345275878906,93.49136352539062,93.4850845336914,93.44547271728516,93.44409942626952,93.362060546875,93.304443359375,93.2867431640625,93.24789428710938,93.2095184326172,93.19850158691406,93.14957427978516,93.12889099121094,93.06808471679688,92.9922866821289,92.98395538330078,92.94324493408205,92.91783905029295,92.88909912109376,92.88849639892578,92.8497314453125,92.7812957763672,92.76729583740234,92.75647735595705,92.63228607177734,92.5700225830078,92.52262878417967,92.4682846069336,92.4528579711914,92.42083740234376,92.34491729736328,92.32979583740234,92.3131332397461,92.28379821777344,92.26985168457033,92.15628814697266,92.11949157714844,92.04934692382812,92.0237274169922,91.86268615722656,91.85838317871094,91.79696655273438,91.78849792480467,91.77552795410156,91.63629150390624,91.59477996826172,91.5042724609375,91.4352798461914,91.40958404541016,91.40501403808594,91.38825225830078,91.3462371826172,91.2791976928711,91.27102661132812,91.25569152832033,91.15615844726562,91.11886596679688,91.07481384277344,91.06481170654295,91.02296447753906,90.88819885253906,90.87474822998048,90.7538833618164,90.64856719970705,90.61773681640624,90.61294555664062,90.47724151611328,90.42543029785156,90.3702163696289,90.34930419921876,90.29582977294922,90.1534652709961,89.57958984375,89.55613708496094,89.48218536376953,89.15210723876953,89.10578918457031,89.09007263183594,88.91436767578125,88.68589782714844,88.19181060791016,88.1047134399414,87.95417022705078,87.53903198242188,87.49999237060547,87.1074447631836,87.0882568359375,86.90162658691406,86.79559326171875,86.79486846923828,86.08267211914062,85.98267211914063],\"type\":\"box\",\"xaxis\":\"x4\",\"yaxis\":\"y4\"},{\"name\":\"est_type\",\"x\":[\"LSTM\",\"RAND\",\"LSTM\",\"LSTM\",\"FF\",\"ZERO\",\"ZERO\",\"LSTM\",\"RAND\",\"RAND\",\"ZERO\",\"ZERO\",\"LSTM\",\"FF\",\"ZERO\",\"RAND\",\"LSTM\",\"LSTM\",\"ZERO\",\"LSTM\",\"LSTM\",\"FF\",\"FF\",\"LSTM\",\"FF\",\"RAND\",\"RAND\",\"ZERO\",\"FF\",\"ZERO\",\"LSTM\",\"ZERO\",\"ZERO\",\"LSTM\",\"RAND\",\"FF\",\"FF\",\"FF\",\"LSTM\",\"ZERO\",\"FF\",\"ZERO\",\"FF\",\"ZERO\",\"RAND\",\"ZERO\",\"RAND\",\"ZERO\",\"LSTM\",\"LSTM\",\"RAND\",\"RAND\",\"RAND\",\"RAND\",\"LSTM\",\"FF\",\"FF\",\"RAND\",\"ZERO\",\"FF\",\"LSTM\",\"FF\",\"ZERO\",\"FF\",\"FF\",\"LSTM\",\"ZERO\",\"FF\",\"LSTM\",\"FF\",\"ZERO\",\"LSTM\",\"RAND\",\"RAND\",\"RAND\",\"LSTM\",\"LSTM\",\"LSTM\",\"ZERO\",\"RAND\",\"ZERO\",\"ZERO\",\"ZERO\",\"FF\",\"ZERO\",\"FF\",\"LSTM\",\"FF\",\"FF\",\"LSTM\",\"RAND\",\"LSTM\",\"RAND\",\"FF\",\"FF\",\"ZERO\",\"LSTM\",\"RAND\",\"LSTM\",\"RAND\",\"ZERO\",\"LSTM\",\"FF\",\"ZERO\",\"RAND\",\"RAND\",\"FF\",\"RAND\",\"RAND\",\"ZERO\",\"FF\",\"RAND\",\"ZERO\",\"FF\",\"LSTM\",\"LSTM\",\"FF\",\"FF\",\"ZERO\",\"FF\",\"ZERO\",\"LSTM\",\"LSTM\",\"RAND\",\"FF\",\"RAND\",\"ZERO\",\"RAND\",\"RAND\",\"FF\",\"LSTM\",\"LSTM\",\"RAND\",\"FF\",\"RAND\",\"ZERO\",\"ZERO\",\"RAND\",\"ZERO\",\"RAND\",\"LSTM\",\"ZERO\",\"LSTM\",\"FF\",\"FF\",\"RAND\",\"LSTM\",\"LSTM\",\"ZERO\",\"RAND\",\"FF\",\"FF\",\"LSTM\",\"ZERO\",\"FF\",\"ZERO\",\"ZERO\",\"FF\",\"ZERO\",\"LSTM\",\"LSTM\",\"LSTM\",\"ZERO\",\"FF\",\"RAND\",\"FF\",\"RAND\",\"FF\",\"FF\",\"ZERO\",\"ZERO\",\"LSTM\",\"RAND\",\"LSTM\",\"ZERO\",\"FF\",\"FF\",\"FF\",\"FF\",\"RAND\",\"FF\",\"RAND\",\"ZERO\",\"RAND\",\"RAND\",\"FF\",\"FF\",\"FF\",\"RAND\",\"RAND\",\"RAND\",\"LSTM\",\"ZERO\",\"RAND\",\"ZERO\",\"RAND\",\"LSTM\",\"RAND\",\"RAND\",\"RAND\",\"RAND\",\"ZERO\",\"FF\",\"LSTM\",\"LSTM\",\"FF\",\"ZERO\",\"LSTM\",\"LSTM\",\"RAND\",\"ZERO\",\"FF\",\"LSTM\",\"FF\",\"FF\",\"LSTM\",\"RAND\",\"FF\",\"ZERO\",\"RAND\",\"LSTM\",\"RAND\",\"LSTM\",\"FF\",\"ZERO\",\"RAND\",\"ZERO\",\"FF\",\"FF\",\"RAND\",\"RAND\",\"FF\",\"LSTM\",\"FF\",\"LSTM\",\"RAND\",\"ZERO\",\"LSTM\",\"LSTM\",\"ZERO\",\"FF\",\"RAND\",\"RAND\",\"ZERO\",\"ZERO\",\"RAND\",\"FF\",\"RAND\",\"ZERO\",\"RAND\",\"FF\",\"RAND\",\"LSTM\",\"FF\",\"RAND\",\"ZERO\",\"ZERO\",\"RAND\",\"RAND\",\"ZERO\",\"ZERO\",\"FF\",\"LSTM\",\"LSTM\",\"FF\",\"ZERO\",\"RAND\",\"ZERO\",\"RAND\",\"RAND\",\"ZERO\",\"ZERO\",\"FF\",\"ZERO\",\"LSTM\",\"RAND\",\"LSTM\",\"FF\",\"RAND\",\"FF\",\"ZERO\",\"ZERO\",\"LSTM\",\"RAND\",\"LSTM\",\"FF\",\"ZERO\",\"LSTM\",\"RAND\",\"RAND\",\"FF\",\"LSTM\",\"LSTM\",\"ZERO\",\"RAND\",\"FF\",\"LSTM\",\"LSTM\",\"LSTM\",\"LSTM\",\"LSTM\",\"FF\",\"ZERO\",\"ZERO\",\"RAND\",\"LSTM\",\"ZERO\",\"LSTM\",\"ZERO\",\"FF\",\"FF\",\"ZERO\",\"ZERO\",\"FF\",\"LSTM\",\"ZERO\",\"LSTM\",\"LSTM\",\"ZERO\",\"LSTM\"],\"y\":[98.64527893066406,98.63126373291016,98.57345581054688,98.4964828491211,98.476806640625,98.45506286621094,98.3869400024414,98.36801147460938,98.36666107177734,98.3252182006836,98.26323699951172,98.1899871826172,98.17034912109376,98.1449203491211,98.1146240234375,98.09742736816406,98.09068298339844,98.0906753540039,98.08660888671876,98.08438873291016,98.07145690917967,98.07054138183594,98.0041275024414,97.9993133544922,97.96394348144533,97.94824981689452,97.94219970703124,97.9417724609375,97.93993377685548,97.93425750732422,97.93087005615234,97.90512084960938,97.89822387695312,97.89192199707033,97.8847885131836,97.8784637451172,97.8700180053711,97.8598403930664,97.85176849365234,97.85011291503906,97.82964324951172,97.8253173828125,97.81804656982422,97.79948425292967,97.77391815185548,97.77324676513672,97.77044677734376,97.73961639404295,97.72860717773438,97.71719360351562,97.71418762207033,97.70063018798828,97.70012664794922,97.69255828857422,97.66950225830078,97.64830017089844,97.64810180664062,97.64680480957033,97.64347076416016,97.62682342529295,97.60191345214844,97.59656524658205,97.5845184326172,97.55343627929688,97.54607391357422,97.53484344482422,97.50935363769533,97.48965454101562,97.48400115966795,97.47796630859376,97.47483825683594,97.47042083740234,97.44538879394533,97.44478607177734,97.43081665039062,97.43049621582033,97.40955352783205,97.3979949951172,97.3876495361328,97.3869171142578,97.36407470703124,97.32333374023438,97.31390380859376,97.3061294555664,97.28376770019533,97.27134704589844,97.25301361083984,97.18128967285156,97.1295928955078,97.0002670288086,96.9705581665039,96.920166015625,96.90203094482422,96.89314270019533,96.87776184082033,96.87051391601562,96.8392105102539,96.83768463134766,96.81097412109376,96.76874542236328,96.76813507080078,96.6336441040039,96.55754089355467,96.5406723022461,96.5159149169922,96.50509643554688,96.46327209472656,96.4564208984375,96.4235382080078,96.4122085571289,96.40754699707033,96.39376068115234,96.365234375,96.34661865234376,96.26641845703124,96.2645492553711,96.25476837158205,96.24866485595705,96.23986053466795,96.20995330810548,96.1969757080078,96.18557739257812,96.1829605102539,96.16373443603516,96.1561050415039,96.15077209472656,96.1475830078125,96.13246154785156,96.11537170410156,96.11275482177734,96.10430908203124,96.10256958007812,96.0985870361328,96.09707641601562,96.05696868896484,96.04610443115234,96.02403259277344,95.9927215576172,95.98303985595705,95.97135162353516,95.94629669189452,95.89978790283205,95.85474395751952,95.85453033447266,95.7686538696289,95.74044036865234,95.7321548461914,95.69865417480467,95.65708923339844,95.65347290039062,95.65291595458984,95.63182830810548,95.60150146484376,95.60099029541016,95.53726959228516,95.51385498046876,95.50518035888672,95.47422790527344,95.47000885009766,95.43682098388672,95.41340637207033,95.38402557373048,95.32121276855467,95.31752014160156,95.2339859008789,95.2121810913086,95.2103042602539,95.1697235107422,95.16700744628906,95.1502456665039,95.14989471435548,95.1363296508789,95.12645721435548,95.04593658447266,94.9735336303711,94.95551300048828,94.91620635986328,94.85948944091795,94.82145690917967,94.74220275878906,94.7124252319336,94.6971206665039,94.6418914794922,94.59098052978516,94.56043243408205,94.48770141601562,94.4750747680664,94.45597839355467,94.3760757446289,94.35650634765624,94.34941864013672,94.34881591796876,94.28089904785156,94.26303100585938,94.21080017089844,94.20600128173828,94.19519805908205,94.15095520019533,94.1484832763672,94.1455535888672,94.12891387939452,94.07080078125,93.968505859375,93.95197296142578,93.94207763671876,93.94132995605467,93.93704223632812,93.9171371459961,93.9045181274414,93.89478302001952,93.88055419921876,93.84900665283205,93.84690856933594,93.8422622680664,93.82486724853516,93.82440185546876,93.79478454589844,93.77892303466795,93.77677154541016,93.76724243164062,93.7504653930664,93.68932342529295,93.68547821044922,93.6388168334961,93.62836456298828,93.60320281982422,93.5859832763672,93.52696990966795,93.52345275878906,93.49136352539062,93.4850845336914,93.44547271728516,93.44409942626952,93.362060546875,93.304443359375,93.2867431640625,93.24789428710938,93.2095184326172,93.19850158691406,93.14957427978516,93.12889099121094,93.06808471679688,92.9922866821289,92.98395538330078,92.94324493408205,92.91783905029295,92.88909912109376,92.88849639892578,92.8497314453125,92.7812957763672,92.76729583740234,92.75647735595705,92.63228607177734,92.5700225830078,92.52262878417967,92.4682846069336,92.4528579711914,92.42083740234376,92.34491729736328,92.32979583740234,92.3131332397461,92.28379821777344,92.26985168457033,92.15628814697266,92.11949157714844,92.04934692382812,92.0237274169922,91.86268615722656,91.85838317871094,91.79696655273438,91.78849792480467,91.77552795410156,91.63629150390624,91.59477996826172,91.5042724609375,91.4352798461914,91.40958404541016,91.40501403808594,91.38825225830078,91.3462371826172,91.2791976928711,91.27102661132812,91.25569152832033,91.15615844726562,91.11886596679688,91.07481384277344,91.06481170654295,91.02296447753906,90.88819885253906,90.87474822998048,90.7538833618164,90.64856719970705,90.61773681640624,90.61294555664062,90.47724151611328,90.42543029785156,90.3702163696289,90.34930419921876,90.29582977294922,90.1534652709961,89.57958984375,89.55613708496094,89.48218536376953,89.15210723876953,89.10578918457031,89.09007263183594,88.91436767578125,88.68589782714844,88.19181060791016,88.1047134399414,87.95417022705078,87.53903198242188,87.49999237060547,87.1074447631836,87.0882568359375,86.90162658691406,86.79559326171875,86.79486846923828,86.08267211914062,85.98267211914063],\"type\":\"box\",\"xaxis\":\"x5\",\"yaxis\":\"y5\"}],                        {\"template\":{\"data\":{\"bar\":[{\"error_x\":{\"color\":\"#2a3f5f\"},\"error_y\":{\"color\":\"#2a3f5f\"},\"marker\":{\"line\":{\"color\":\"#E5ECF6\",\"width\":0.5},\"pattern\":{\"fillmode\":\"overlay\",\"size\":10,\"solidity\":0.2}},\"type\":\"bar\"}],\"barpolar\":[{\"marker\":{\"line\":{\"color\":\"#E5ECF6\",\"width\":0.5},\"pattern\":{\"fillmode\":\"overlay\",\"size\":10,\"solidity\":0.2}},\"type\":\"barpolar\"}],\"carpet\":[{\"aaxis\":{\"endlinecolor\":\"#2a3f5f\",\"gridcolor\":\"white\",\"linecolor\":\"white\",\"minorgridcolor\":\"white\",\"startlinecolor\":\"#2a3f5f\"},\"baxis\":{\"endlinecolor\":\"#2a3f5f\",\"gridcolor\":\"white\",\"linecolor\":\"white\",\"minorgridcolor\":\"white\",\"startlinecolor\":\"#2a3f5f\"},\"type\":\"carpet\"}],\"choropleth\":[{\"colorbar\":{\"outlinewidth\":0,\"ticks\":\"\"},\"type\":\"choropleth\"}],\"contour\":[{\"colorbar\":{\"outlinewidth\":0,\"ticks\":\"\"},\"colorscale\":[[0.0,\"#0d0887\"],[0.1111111111111111,\"#46039f\"],[0.2222222222222222,\"#7201a8\"],[0.3333333333333333,\"#9c179e\"],[0.4444444444444444,\"#bd3786\"],[0.5555555555555556,\"#d8576b\"],[0.6666666666666666,\"#ed7953\"],[0.7777777777777778,\"#fb9f3a\"],[0.8888888888888888,\"#fdca26\"],[1.0,\"#f0f921\"]],\"type\":\"contour\"}],\"contourcarpet\":[{\"colorbar\":{\"outlinewidth\":0,\"ticks\":\"\"},\"type\":\"contourcarpet\"}],\"heatmap\":[{\"colorbar\":{\"outlinewidth\":0,\"ticks\":\"\"},\"colorscale\":[[0.0,\"#0d0887\"],[0.1111111111111111,\"#46039f\"],[0.2222222222222222,\"#7201a8\"],[0.3333333333333333,\"#9c179e\"],[0.4444444444444444,\"#bd3786\"],[0.5555555555555556,\"#d8576b\"],[0.6666666666666666,\"#ed7953\"],[0.7777777777777778,\"#fb9f3a\"],[0.8888888888888888,\"#fdca26\"],[1.0,\"#f0f921\"]],\"type\":\"heatmap\"}],\"heatmapgl\":[{\"colorbar\":{\"outlinewidth\":0,\"ticks\":\"\"},\"colorscale\":[[0.0,\"#0d0887\"],[0.1111111111111111,\"#46039f\"],[0.2222222222222222,\"#7201a8\"],[0.3333333333333333,\"#9c179e\"],[0.4444444444444444,\"#bd3786\"],[0.5555555555555556,\"#d8576b\"],[0.6666666666666666,\"#ed7953\"],[0.7777777777777778,\"#fb9f3a\"],[0.8888888888888888,\"#fdca26\"],[1.0,\"#f0f921\"]],\"type\":\"heatmapgl\"}],\"histogram\":[{\"marker\":{\"pattern\":{\"fillmode\":\"overlay\",\"size\":10,\"solidity\":0.2}},\"type\":\"histogram\"}],\"histogram2d\":[{\"colorbar\":{\"outlinewidth\":0,\"ticks\":\"\"},\"colorscale\":[[0.0,\"#0d0887\"],[0.1111111111111111,\"#46039f\"],[0.2222222222222222,\"#7201a8\"],[0.3333333333333333,\"#9c179e\"],[0.4444444444444444,\"#bd3786\"],[0.5555555555555556,\"#d8576b\"],[0.6666666666666666,\"#ed7953\"],[0.7777777777777778,\"#fb9f3a\"],[0.8888888888888888,\"#fdca26\"],[1.0,\"#f0f921\"]],\"type\":\"histogram2d\"}],\"histogram2dcontour\":[{\"colorbar\":{\"outlinewidth\":0,\"ticks\":\"\"},\"colorscale\":[[0.0,\"#0d0887\"],[0.1111111111111111,\"#46039f\"],[0.2222222222222222,\"#7201a8\"],[0.3333333333333333,\"#9c179e\"],[0.4444444444444444,\"#bd3786\"],[0.5555555555555556,\"#d8576b\"],[0.6666666666666666,\"#ed7953\"],[0.7777777777777778,\"#fb9f3a\"],[0.8888888888888888,\"#fdca26\"],[1.0,\"#f0f921\"]],\"type\":\"histogram2dcontour\"}],\"mesh3d\":[{\"colorbar\":{\"outlinewidth\":0,\"ticks\":\"\"},\"type\":\"mesh3d\"}],\"parcoords\":[{\"line\":{\"colorbar\":{\"outlinewidth\":0,\"ticks\":\"\"}},\"type\":\"parcoords\"}],\"pie\":[{\"automargin\":true,\"type\":\"pie\"}],\"scatter\":[{\"marker\":{\"colorbar\":{\"outlinewidth\":0,\"ticks\":\"\"}},\"type\":\"scatter\"}],\"scatter3d\":[{\"line\":{\"colorbar\":{\"outlinewidth\":0,\"ticks\":\"\"}},\"marker\":{\"colorbar\":{\"outlinewidth\":0,\"ticks\":\"\"}},\"type\":\"scatter3d\"}],\"scattercarpet\":[{\"marker\":{\"colorbar\":{\"outlinewidth\":0,\"ticks\":\"\"}},\"type\":\"scattercarpet\"}],\"scattergeo\":[{\"marker\":{\"colorbar\":{\"outlinewidth\":0,\"ticks\":\"\"}},\"type\":\"scattergeo\"}],\"scattergl\":[{\"marker\":{\"colorbar\":{\"outlinewidth\":0,\"ticks\":\"\"}},\"type\":\"scattergl\"}],\"scattermapbox\":[{\"marker\":{\"colorbar\":{\"outlinewidth\":0,\"ticks\":\"\"}},\"type\":\"scattermapbox\"}],\"scatterpolar\":[{\"marker\":{\"colorbar\":{\"outlinewidth\":0,\"ticks\":\"\"}},\"type\":\"scatterpolar\"}],\"scatterpolargl\":[{\"marker\":{\"colorbar\":{\"outlinewidth\":0,\"ticks\":\"\"}},\"type\":\"scatterpolargl\"}],\"scatterternary\":[{\"marker\":{\"colorbar\":{\"outlinewidth\":0,\"ticks\":\"\"}},\"type\":\"scatterternary\"}],\"surface\":[{\"colorbar\":{\"outlinewidth\":0,\"ticks\":\"\"},\"colorscale\":[[0.0,\"#0d0887\"],[0.1111111111111111,\"#46039f\"],[0.2222222222222222,\"#7201a8\"],[0.3333333333333333,\"#9c179e\"],[0.4444444444444444,\"#bd3786\"],[0.5555555555555556,\"#d8576b\"],[0.6666666666666666,\"#ed7953\"],[0.7777777777777778,\"#fb9f3a\"],[0.8888888888888888,\"#fdca26\"],[1.0,\"#f0f921\"]],\"type\":\"surface\"}],\"table\":[{\"cells\":{\"fill\":{\"color\":\"#EBF0F8\"},\"line\":{\"color\":\"white\"}},\"header\":{\"fill\":{\"color\":\"#C8D4E3\"},\"line\":{\"color\":\"white\"}},\"type\":\"table\"}]},\"layout\":{\"annotationdefaults\":{\"arrowcolor\":\"#2a3f5f\",\"arrowhead\":0,\"arrowwidth\":1},\"autotypenumbers\":\"strict\",\"coloraxis\":{\"colorbar\":{\"outlinewidth\":0,\"ticks\":\"\"}},\"colorscale\":{\"diverging\":[[0,\"#8e0152\"],[0.1,\"#c51b7d\"],[0.2,\"#de77ae\"],[0.3,\"#f1b6da\"],[0.4,\"#fde0ef\"],[0.5,\"#f7f7f7\"],[0.6,\"#e6f5d0\"],[0.7,\"#b8e186\"],[0.8,\"#7fbc41\"],[0.9,\"#4d9221\"],[1,\"#276419\"]],\"sequential\":[[0.0,\"#0d0887\"],[0.1111111111111111,\"#46039f\"],[0.2222222222222222,\"#7201a8\"],[0.3333333333333333,\"#9c179e\"],[0.4444444444444444,\"#bd3786\"],[0.5555555555555556,\"#d8576b\"],[0.6666666666666666,\"#ed7953\"],[0.7777777777777778,\"#fb9f3a\"],[0.8888888888888888,\"#fdca26\"],[1.0,\"#f0f921\"]],\"sequentialminus\":[[0.0,\"#0d0887\"],[0.1111111111111111,\"#46039f\"],[0.2222222222222222,\"#7201a8\"],[0.3333333333333333,\"#9c179e\"],[0.4444444444444444,\"#bd3786\"],[0.5555555555555556,\"#d8576b\"],[0.6666666666666666,\"#ed7953\"],[0.7777777777777778,\"#fb9f3a\"],[0.8888888888888888,\"#fdca26\"],[1.0,\"#f0f921\"]]},\"colorway\":[\"#636efa\",\"#EF553B\",\"#00cc96\",\"#ab63fa\",\"#FFA15A\",\"#19d3f3\",\"#FF6692\",\"#B6E880\",\"#FF97FF\",\"#FECB52\"],\"font\":{\"color\":\"#2a3f5f\"},\"geo\":{\"bgcolor\":\"white\",\"lakecolor\":\"white\",\"landcolor\":\"#E5ECF6\",\"showlakes\":true,\"showland\":true,\"subunitcolor\":\"white\"},\"hoverlabel\":{\"align\":\"left\"},\"hovermode\":\"closest\",\"mapbox\":{\"style\":\"light\"},\"paper_bgcolor\":\"white\",\"plot_bgcolor\":\"#E5ECF6\",\"polar\":{\"angularaxis\":{\"gridcolor\":\"white\",\"linecolor\":\"white\",\"ticks\":\"\"},\"bgcolor\":\"#E5ECF6\",\"radialaxis\":{\"gridcolor\":\"white\",\"linecolor\":\"white\",\"ticks\":\"\"}},\"scene\":{\"xaxis\":{\"backgroundcolor\":\"#E5ECF6\",\"gridcolor\":\"white\",\"gridwidth\":2,\"linecolor\":\"white\",\"showbackground\":true,\"ticks\":\"\",\"zerolinecolor\":\"white\"},\"yaxis\":{\"backgroundcolor\":\"#E5ECF6\",\"gridcolor\":\"white\",\"gridwidth\":2,\"linecolor\":\"white\",\"showbackground\":true,\"ticks\":\"\",\"zerolinecolor\":\"white\"},\"zaxis\":{\"backgroundcolor\":\"#E5ECF6\",\"gridcolor\":\"white\",\"gridwidth\":2,\"linecolor\":\"white\",\"showbackground\":true,\"ticks\":\"\",\"zerolinecolor\":\"white\"}},\"shapedefaults\":{\"line\":{\"color\":\"#2a3f5f\"}},\"ternary\":{\"aaxis\":{\"gridcolor\":\"white\",\"linecolor\":\"white\",\"ticks\":\"\"},\"baxis\":{\"gridcolor\":\"white\",\"linecolor\":\"white\",\"ticks\":\"\"},\"bgcolor\":\"#E5ECF6\",\"caxis\":{\"gridcolor\":\"white\",\"linecolor\":\"white\",\"ticks\":\"\"}},\"title\":{\"x\":0.05},\"xaxis\":{\"automargin\":true,\"gridcolor\":\"white\",\"linecolor\":\"white\",\"ticks\":\"\",\"title\":{\"standoff\":15},\"zerolinecolor\":\"white\",\"zerolinewidth\":2},\"yaxis\":{\"automargin\":true,\"gridcolor\":\"white\",\"linecolor\":\"white\",\"ticks\":\"\",\"title\":{\"standoff\":15},\"zerolinecolor\":\"white\",\"zerolinewidth\":2}}},\"xaxis\":{\"anchor\":\"y\",\"domain\":[0.0,0.16799999999999998]},\"yaxis\":{\"anchor\":\"x\",\"domain\":[0.0,1.0],\"range\":[80,100]},\"xaxis2\":{\"anchor\":\"y2\",\"domain\":[0.208,0.376]},\"yaxis2\":{\"anchor\":\"x2\",\"domain\":[0.0,1.0],\"range\":[80,100]},\"xaxis3\":{\"anchor\":\"y3\",\"domain\":[0.416,0.584]},\"yaxis3\":{\"anchor\":\"x3\",\"domain\":[0.0,1.0],\"range\":[80,100]},\"xaxis4\":{\"anchor\":\"y4\",\"domain\":[0.624,0.792]},\"yaxis4\":{\"anchor\":\"x4\",\"domain\":[0.0,1.0],\"range\":[80,100]},\"xaxis5\":{\"anchor\":\"y5\",\"domain\":[0.832,1.0]},\"yaxis5\":{\"anchor\":\"x5\",\"domain\":[0.0,1.0],\"range\":[80,100]}},                        {\"responsive\": true}                    ).then(function(){\n",
       "                            \n",
       "var gd = document.getElementById('fa0e52e8-ca43-4e35-8697-c0170923fc94');\n",
       "var x = new MutationObserver(function (mutations, observer) {{\n",
       "        var display = window.getComputedStyle(gd).display;\n",
       "        if (!display || display === 'none') {{\n",
       "            console.log([gd, 'removed!']);\n",
       "            Plotly.purge(gd);\n",
       "            observer.disconnect();\n",
       "        }}\n",
       "}});\n",
       "\n",
       "// Listen for the removal of the full notebook cells\n",
       "var notebookContainer = gd.closest('#notebook-container');\n",
       "if (notebookContainer) {{\n",
       "    x.observe(notebookContainer, {childList: true});\n",
       "}}\n",
       "\n",
       "// Listen for the clearing of the current output cell\n",
       "var outputEl = gd.closest('.output');\n",
       "if (outputEl) {{\n",
       "    x.observe(outputEl, {childList: true});\n",
       "}}\n",
       "\n",
       "                        })                };                });            </script>        </div>"
      ]
     },
     "metadata": {},
     "output_type": "display_data"
    }
   ],
   "source": [
    "fig = make_subplots(rows=1, cols=5)\n",
    "for idx, factor in enumerate(factors):\n",
    "    aa=fig.add_box(y=df_res[\"FIT\"], x=df_res[factor], row=1, col=idx+1, name=factor)#, label=\"a\") \n",
    "    fig.update_yaxes(range=[80, 100], row=1, col=idx+1)\n",
    "fig.show()"
   ]
  },
  {
   "cell_type": "code",
   "execution_count": 12,
   "id": "d18475bc",
   "metadata": {},
   "outputs": [],
   "source": [
    "#fig.select_xaxes"
   ]
  },
  {
   "cell_type": "code",
   "execution_count": 13,
   "id": "0a0c762f",
   "metadata": {
    "scrolled": true
   },
   "outputs": [
    {
     "data": {
      "text/html": [
       "<div>\n",
       "<style scoped>\n",
       "    .dataframe tbody tr th:only-of-type {\n",
       "        vertical-align: middle;\n",
       "    }\n",
       "\n",
       "    .dataframe tbody tr th {\n",
       "        vertical-align: top;\n",
       "    }\n",
       "\n",
       "    .dataframe thead th {\n",
       "        text-align: right;\n",
       "    }\n",
       "</style>\n",
       "<table border=\"1\" class=\"dataframe\">\n",
       "  <thead>\n",
       "    <tr style=\"text-align: right;\">\n",
       "      <th></th>\n",
       "      <th>median</th>\n",
       "      <th>mean</th>\n",
       "      <th>std</th>\n",
       "    </tr>\n",
       "    <tr>\n",
       "      <th>seq_len</th>\n",
       "      <th></th>\n",
       "      <th></th>\n",
       "      <th></th>\n",
       "    </tr>\n",
       "  </thead>\n",
       "  <tbody>\n",
       "    <tr>\n",
       "      <th>40</th>\n",
       "      <td>95.223083</td>\n",
       "      <td>95.105875</td>\n",
       "      <td>2.788881</td>\n",
       "    </tr>\n",
       "    <tr>\n",
       "      <th>80</th>\n",
       "      <td>95.553341</td>\n",
       "      <td>95.585624</td>\n",
       "      <td>2.175620</td>\n",
       "    </tr>\n",
       "    <tr>\n",
       "      <th>160</th>\n",
       "      <td>95.179363</td>\n",
       "      <td>95.189996</td>\n",
       "      <td>2.183911</td>\n",
       "    </tr>\n",
       "    <tr>\n",
       "      <th>320</th>\n",
       "      <td>93.866467</td>\n",
       "      <td>93.325585</td>\n",
       "      <td>3.491266</td>\n",
       "    </tr>\n",
       "  </tbody>\n",
       "</table>\n",
       "</div>"
      ],
      "text/plain": [
       "            median       mean       std\n",
       "seq_len                                \n",
       "40       95.223083  95.105875  2.788881\n",
       "80       95.553341  95.585624  2.175620\n",
       "160      95.179363  95.189996  2.183911\n",
       "320      93.866467  93.325585  3.491266"
      ]
     },
     "execution_count": 13,
     "metadata": {},
     "output_type": "execute_result"
    }
   ],
   "source": [
    "df_res.groupby(\"seq_len\")[\"FIT\"].agg([\"median\", \"mean\", \"std\"])\n",
    "#df_res.groupby(\"lr\")[\"FIT\"].agg([\"mean\", \"std\"])"
   ]
  },
  {
   "cell_type": "code",
   "execution_count": 14,
   "id": "aa267c86",
   "metadata": {},
   "outputs": [],
   "source": [
    "#pd.pivot_table(df_res, index=[\"seq_len\"], columns=[\"est_type\"])"
   ]
  },
  {
   "cell_type": "code",
   "execution_count": 15,
   "id": "77ba1a09",
   "metadata": {},
   "outputs": [
    {
     "data": {
      "application/vnd.plotly.v1+json": {
       "config": {
        "plotlyServerURL": "https://plot.ly"
       },
       "data": [
        {
         "customdata": [
          [
           1800,
           40
          ],
          [
           1800,
           80
          ],
          [
           1800,
           5
          ],
          [
           1800,
           20
          ],
          [
           1800,
           10
          ],
          [
           1800,
           20
          ],
          [
           1800,
           40
          ],
          [
           1800,
           5
          ],
          [
           1800,
           80
          ],
          [
           1800,
           10
          ],
          [
           300,
           80
          ],
          [
           300,
           10
          ],
          [
           300,
           5
          ],
          [
           300,
           40
          ],
          [
           300,
           20
          ],
          [
           300,
           80
          ],
          [
           300,
           40
          ],
          [
           300,
           20
          ],
          [
           300,
           10
          ],
          [
           300,
           5
          ]
         ],
         "hovertemplate": "seq_len=80<br>est_direction=forward<br>est_type=LSTM<br>index=%{x}<br>FIT=%{y}<br>max_time=%{customdata[0]}<br>seq_est_len=%{customdata[1]}<extra></extra>",
         "legendgroup": "80",
         "marker": {
          "color": "#636efa",
          "symbol": "circle"
         },
         "mode": "markers",
         "name": "80",
         "orientation": "v",
         "showlegend": true,
         "type": "scatter",
         "x": [
          283,
          190,
          297,
          77,
          67,
          195,
          26,
          241,
          168,
          23,
          224,
          254,
          292,
          44,
          225,
          75,
          256,
          273,
          303,
          114
         ],
         "xaxis": "x",
         "y": [
          98.64527893066406,
          98.08438873291016,
          97.9993133544922,
          97.93087005615234,
          97.71719360351562,
          97.53484344482422,
          96.920166015625,
          96.81097412109376,
          96.10256958007812,
          95.60150146484376,
          95.43682098388672,
          95.41340637207033,
          94.34881591796876,
          93.94207763671876,
          93.7504653930664,
          93.68547821044922,
          92.63228607177734,
          92.15628814697266,
          90.1534652709961,
          86.79559326171875
         ],
         "yaxis": "y"
        },
        {
         "customdata": [
          [
           1800,
           80
          ],
          [
           1800,
           40
          ],
          [
           1800,
           80
          ],
          [
           1800,
           20
          ],
          [
           1800,
           40
          ],
          [
           1800,
           20
          ],
          [
           1800,
           10
          ],
          [
           1800,
           10
          ],
          [
           1800,
           5
          ],
          [
           1800,
           5
          ],
          [
           300,
           40
          ],
          [
           300,
           20
          ],
          [
           300,
           5
          ],
          [
           300,
           10
          ],
          [
           300,
           5
          ],
          [
           300,
           20
          ],
          [
           300,
           80
          ],
          [
           300,
           10
          ],
          [
           300,
           40
          ],
          [
           300,
           80
          ]
         ],
         "hovertemplate": "seq_len=80<br>est_direction=forward<br>est_type=RAND<br>index=%{x}<br>FIT=%{y}<br>max_time=%{customdata[0]}<br>seq_est_len=%{customdata[1]}<extra></extra>",
         "legendgroup": "80",
         "marker": {
          "color": "#636efa",
          "symbol": "circle"
         },
         "mode": "markers",
         "name": "80",
         "orientation": "v",
         "showlegend": false,
         "type": "scatter",
         "x": [
          235,
          87,
          45,
          3,
          271,
          199,
          123,
          196,
          108,
          185,
          259,
          304,
          139,
          265,
          146,
          208,
          144,
          250,
          167,
          153
         ],
         "xaxis": "x2",
         "y": [
          98.36666107177734,
          98.09742736816406,
          97.94219970703124,
          97.77391815185548,
          97.70063018798828,
          97.44478607177734,
          96.4235382080078,
          96.39376068115234,
          96.15077209472656,
          96.0985870361328,
          95.12645721435548,
          94.59098052978516,
          94.3760757446289,
          94.35650634765624,
          94.1455535888672,
          93.89478302001952,
          93.76724243164062,
          93.60320281982422,
          93.49136352539062,
          92.7812957763672
         ],
         "yaxis": "y2"
        },
        {
         "customdata": [
          [
           1800,
           10
          ],
          [
           1800,
           20
          ],
          [
           1800,
           5
          ],
          [
           1800,
           40
          ],
          [
           1800,
           20
          ],
          [
           1800,
           80
          ],
          [
           1800,
           10
          ],
          [
           1800,
           40
          ],
          [
           1800,
           5
          ],
          [
           1800,
           80
          ],
          [
           300,
           20
          ],
          [
           300,
           10
          ],
          [
           300,
           80
          ],
          [
           300,
           40
          ],
          [
           300,
           10
          ],
          [
           300,
           80
          ],
          [
           300,
           5
          ],
          [
           300,
           20
          ],
          [
           300,
           40
          ],
          [
           300,
           5
          ]
         ],
         "hovertemplate": "seq_len=80<br>est_direction=forward<br>est_type=FF<br>index=%{x}<br>FIT=%{y}<br>max_time=%{customdata[0]}<br>seq_est_len=%{customdata[1]}<extra></extra>",
         "legendgroup": "80",
         "marker": {
          "color": "#636efa",
          "symbol": "circle"
         },
         "mode": "markers",
         "name": "80",
         "orientation": "v",
         "showlegend": false,
         "type": "scatter",
         "x": [
          84,
          244,
          39,
          300,
          231,
          160,
          252,
          165,
          318,
          260,
          51,
          258,
          232,
          142,
          170,
          93,
          242,
          132,
          189,
          174
         ],
         "xaxis": "x3",
         "y": [
          98.476806640625,
          98.1449203491211,
          98.0041275024414,
          97.8598403930664,
          97.64810180664062,
          97.59656524658205,
          96.46327209472656,
          96.40754699707033,
          96.24866485595705,
          96.20995330810548,
          95.47422790527344,
          94.95551300048828,
          94.85948944091795,
          94.7124252319336,
          94.48770141601562,
          93.968505859375,
          93.8422622680664,
          93.52696990966795,
          93.44547271728516,
          92.5700225830078
         ],
         "yaxis": "y3"
        },
        {
         "customdata": [
          [
           1800,
           80
          ],
          [
           1800,
           40
          ],
          [
           1800,
           20
          ],
          [
           1800,
           80
          ],
          [
           1800,
           20
          ],
          [
           1800,
           10
          ],
          [
           1800,
           40
          ],
          [
           1800,
           10
          ],
          [
           1800,
           5
          ],
          [
           1800,
           5
          ],
          [
           300,
           40
          ],
          [
           300,
           10
          ],
          [
           300,
           20
          ],
          [
           300,
           5
          ],
          [
           300,
           20
          ],
          [
           300,
           5
          ],
          [
           300,
           80
          ],
          [
           300,
           10
          ],
          [
           300,
           40
          ],
          [
           300,
           80
          ]
         ],
         "hovertemplate": "seq_len=80<br>est_direction=forward<br>est_type=ZERO<br>index=%{x}<br>FIT=%{y}<br>max_time=%{customdata[0]}<br>seq_est_len=%{customdata[1]}<extra></extra>",
         "legendgroup": "80",
         "marker": {
          "color": "#636efa",
          "symbol": "circle"
         },
         "mode": "markers",
         "name": "80",
         "orientation": "v",
         "showlegend": false,
         "type": "scatter",
         "x": [
          94,
          42,
          60,
          5,
          20,
          136,
          28,
          19,
          272,
          49,
          2,
          105,
          10,
          234,
          213,
          157,
          43,
          238,
          133,
          188
         ],
         "xaxis": "x4",
         "y": [
          98.45506286621094,
          98.26323699951172,
          98.1899871826172,
          97.89822387695312,
          97.73961639404295,
          97.47483825683594,
          97.36407470703124,
          97.31390380859376,
          96.23986053466795,
          96.1969757080078,
          95.50518035888672,
          95.47000885009766,
          95.32121276855467,
          94.9735336303711,
          94.6418914794922,
          93.93704223632812,
          93.62836456298828,
          93.5859832763672,
          93.24789428710938,
          92.3131332397461
         ],
         "yaxis": "y4"
        },
        {
         "customdata": [
          [
           1800,
           10
          ],
          [
           1800,
           20
          ],
          [
           1800,
           20
          ],
          [
           1800,
           40
          ],
          [
           1800,
           40
          ],
          [
           1800,
           80
          ],
          [
           1800,
           10
          ],
          [
           1800,
           80
          ],
          [
           1800,
           5
          ],
          [
           300,
           40
          ],
          [
           1800,
           5
          ],
          [
           300,
           80
          ],
          [
           300,
           20
          ],
          [
           300,
           10
          ],
          [
           300,
           40
          ],
          [
           300,
           20
          ],
          [
           300,
           10
          ],
          [
           300,
           80
          ],
          [
           300,
           5
          ],
          [
           300,
           5
          ]
         ],
         "hovertemplate": "seq_len=40<br>est_direction=forward<br>est_type=LSTM<br>index=%{x}<br>FIT=%{y}<br>max_time=%{customdata[0]}<br>seq_est_len=%{customdata[1]}<extra></extra>",
         "legendgroup": "40",
         "marker": {
          "color": "#EF553B",
          "symbol": "circle"
         },
         "mode": "markers",
         "name": "40",
         "orientation": "v",
         "showlegend": true,
         "type": "scatter",
         "x": [
          33,
          92,
          65,
          0,
          286,
          227,
          15,
          171,
          53,
          41,
          230,
          83,
          147,
          57,
          95,
          81,
          205,
          101,
          166,
          7
         ],
         "xaxis": "x",
         "y": [
          98.57345581054688,
          98.4964828491211,
          98.36801147460938,
          98.17034912109376,
          98.0906753540039,
          97.85176849365234,
          97.60191345214844,
          96.6336441040039,
          96.10430908203124,
          95.7321548461914,
          95.69865417480467,
          95.1363296508789,
          95.04593658447266,
          93.95197296142578,
          93.2095184326172,
          91.5042724609375,
          91.11886596679688,
          90.64856719970705,
          89.09007263183594,
          85.98267211914063
         ],
         "yaxis": "y"
        },
        {
         "customdata": [
          [
           1800,
           80
          ],
          [
           1800,
           80
          ],
          [
           1800,
           20
          ],
          [
           1800,
           40
          ],
          [
           1800,
           20
          ],
          [
           1800,
           40
          ],
          [
           300,
           20
          ],
          [
           300,
           40
          ],
          [
           1800,
           10
          ],
          [
           1800,
           10
          ],
          [
           300,
           80
          ],
          [
           1800,
           5
          ],
          [
           300,
           20
          ],
          [
           1800,
           5
          ],
          [
           300,
           10
          ],
          [
           300,
           10
          ],
          [
           300,
           40
          ],
          [
           300,
           5
          ],
          [
           300,
           5
          ],
          [
           300,
           80
          ]
         ],
         "hovertemplate": "seq_len=40<br>est_direction=forward<br>est_type=RAND<br>index=%{x}<br>FIT=%{y}<br>max_time=%{customdata[0]}<br>seq_est_len=%{customdata[1]}<extra></extra>",
         "legendgroup": "40",
         "marker": {
          "color": "#EF553B",
          "symbol": "circle"
         },
         "mode": "markers",
         "name": "40",
         "orientation": "v",
         "showlegend": false,
         "type": "scatter",
         "x": [
          266,
          223,
          155,
          156,
          58,
          176,
          149,
          307,
          112,
          137,
          69,
          180,
          287,
          161,
          296,
          24,
          203,
          138,
          40,
          117
         ],
         "xaxis": "x2",
         "y": [
          98.63126373291016,
          98.3252182006836,
          97.8847885131836,
          97.77044677734376,
          97.71418762207033,
          97.3869171142578,
          96.11537170410156,
          95.65347290039062,
          95.2339859008789,
          94.74220275878906,
          94.6971206665039,
          94.56043243408205,
          94.26303100585938,
          94.1484832763672,
          93.68932342529295,
          93.4850845336914,
          93.06808471679688,
          92.88849639892578,
          92.34491729736328,
          91.4352798461914
         ],
         "yaxis": "y2"
        },
        {
         "customdata": [
          [
           1800,
           40
          ],
          [
           1800,
           5
          ],
          [
           1800,
           80
          ],
          [
           1800,
           10
          ],
          [
           1800,
           20
          ],
          [
           1800,
           20
          ],
          [
           1800,
           80
          ],
          [
           1800,
           40
          ],
          [
           1800,
           10
          ],
          [
           1800,
           5
          ],
          [
           300,
           10
          ],
          [
           300,
           80
          ],
          [
           300,
           5
          ],
          [
           300,
           20
          ],
          [
           300,
           40
          ],
          [
           300,
           40
          ],
          [
           300,
           5
          ],
          [
           300,
           10
          ],
          [
           300,
           20
          ],
          [
           300,
           80
          ]
         ],
         "hovertemplate": "seq_len=40<br>est_direction=forward<br>est_type=FF<br>index=%{x}<br>FIT=%{y}<br>max_time=%{customdata[0]}<br>seq_est_len=%{customdata[1]}<extra></extra>",
         "legendgroup": "40",
         "marker": {
          "color": "#EF553B",
          "symbol": "circle"
         },
         "mode": "markers",
         "name": "40",
         "orientation": "v",
         "showlegend": false,
         "type": "scatter",
         "x": [
          198,
          312,
          66,
          253,
          246,
          204,
          316,
          201,
          191,
          301,
          150,
          54,
          125,
          222,
          237,
          50,
          106,
          130,
          73,
          55
         ],
         "xaxis": "x3",
         "y": [
          97.96394348144533,
          97.93993377685548,
          97.82964324951172,
          97.81804656982422,
          97.64830017089844,
          97.62682342529295,
          97.54607391357422,
          97.3061294555664,
          97.18128967285156,
          95.65291595458984,
          95.31752014160156,
          95.2121810913086,
          95.1697235107422,
          95.16700744628906,
          94.91620635986328,
          93.82486724853516,
          93.52345275878906,
          93.362060546875,
          92.88909912109376,
          89.55613708496094
         ],
         "yaxis": "y3"
        },
        {
         "customdata": [
          [
           1800,
           40
          ],
          [
           1800,
           80
          ],
          [
           1800,
           20
          ],
          [
           1800,
           40
          ],
          [
           1800,
           20
          ],
          [
           1800,
           80
          ],
          [
           1800,
           10
          ],
          [
           300,
           20
          ],
          [
           1800,
           5
          ],
          [
           1800,
           10
          ],
          [
           300,
           40
          ],
          [
           300,
           20
          ],
          [
           1800,
           5
          ],
          [
           300,
           40
          ],
          [
           300,
           5
          ],
          [
           300,
           80
          ],
          [
           300,
           10
          ],
          [
           300,
           80
          ],
          [
           300,
           10
          ],
          [
           300,
           5
          ]
         ],
         "hovertemplate": "seq_len=40<br>est_direction=forward<br>est_type=ZERO<br>index=%{x}<br>FIT=%{y}<br>max_time=%{customdata[0]}<br>seq_est_len=%{customdata[1]}<extra></extra>",
         "legendgroup": "40",
         "marker": {
          "color": "#EF553B",
          "symbol": "circle"
         },
         "mode": "markers",
         "name": "40",
         "orientation": "v",
         "showlegend": false,
         "type": "scatter",
         "x": [
          264,
          192,
          116,
          79,
          13,
          302,
          243,
          21,
          278,
          90,
          164,
          29,
          247,
          269,
          317,
          183,
          115,
          74,
          173,
          126
         ],
         "xaxis": "x4",
         "y": [
          98.3869400024414,
          98.08660888671876,
          97.90512084960938,
          97.8253173828125,
          97.79948425292967,
          97.77324676513672,
          95.65708923339844,
          95.60099029541016,
          95.51385498046876,
          95.1502456665039,
          95.14989471435548,
          94.28089904785156,
          94.07080078125,
          93.88055419921876,
          92.98395538330078,
          92.94324493408205,
          92.32979583740234,
          91.2791976928711,
          91.27102661132812,
          86.08267211914062
         ],
         "yaxis": "y4"
        },
        {
         "customdata": [
          [
           1800,
           80
          ],
          [
           1800,
           80
          ],
          [
           1800,
           10
          ],
          [
           1800,
           10
          ],
          [
           1800,
           40
          ],
          [
           1800,
           5
          ],
          [
           1800,
           20
          ],
          [
           1800,
           40
          ],
          [
           1800,
           20
          ],
          [
           1800,
           5
          ],
          [
           300,
           10
          ],
          [
           300,
           40
          ],
          [
           300,
           80
          ],
          [
           300,
           80
          ],
          [
           300,
           20
          ],
          [
           300,
           20
          ],
          [
           300,
           5
          ],
          [
           300,
           40
          ],
          [
           300,
           10
          ],
          [
           300,
           5
          ]
         ],
         "hovertemplate": "seq_len=160<br>est_direction=forward<br>est_type=LSTM<br>index=%{x}<br>FIT=%{y}<br>max_time=%{customdata[0]}<br>seq_est_len=%{customdata[1]}<extra></extra>",
         "legendgroup": "160",
         "marker": {
          "color": "#00cc96",
          "symbol": "circle"
         },
         "mode": "markers",
         "name": "160",
         "orientation": "v",
         "showlegend": true,
         "type": "scatter",
         "x": [
          118,
          134,
          86,
          62,
          143,
          16,
          217,
          281,
          110,
          212,
          194,
          277,
          290,
          315,
          228,
          1,
          64,
          262,
          182,
          119
         ],
         "xaxis": "x",
         "y": [
          98.07145690917967,
          97.89192199707033,
          97.72860717773438,
          97.48400115966795,
          97.47042083740234,
          97.40955352783205,
          97.25301361083984,
          96.26641845703124,
          96.2645492553711,
          95.85474395751952,
          94.19519805908205,
          93.9171371459961,
          93.9045181274414,
          93.84690856933594,
          93.82440185546876,
          93.44409942626952,
          93.304443359375,
          93.19850158691406,
          92.26985168457033,
          89.57958984375
         ],
         "yaxis": "y"
        },
        {
         "customdata": [
          [
           1800,
           20
          ],
          [
           1800,
           20
          ],
          [
           1800,
           40
          ],
          [
           1800,
           5
          ],
          [
           1800,
           40
          ],
          [
           1800,
           80
          ],
          [
           1800,
           5
          ],
          [
           1800,
           10
          ],
          [
           1800,
           10
          ],
          [
           1800,
           80
          ],
          [
           300,
           20
          ],
          [
           300,
           10
          ],
          [
           300,
           40
          ],
          [
           300,
           5
          ],
          [
           300,
           10
          ],
          [
           300,
           5
          ],
          [
           300,
           40
          ],
          [
           300,
           20
          ],
          [
           300,
           80
          ],
          [
           300,
           80
          ]
         ],
         "hovertemplate": "seq_len=160<br>est_direction=forward<br>est_type=RAND<br>index=%{x}<br>FIT=%{y}<br>max_time=%{customdata[0]}<br>seq_est_len=%{customdata[1]}<extra></extra>",
         "legendgroup": "160",
         "marker": {
          "color": "#00cc96",
          "symbol": "circle"
         },
         "mode": "markers",
         "name": "160",
         "orientation": "v",
         "showlegend": false,
         "type": "scatter",
         "x": [
          308,
          245,
          124,
          179,
          52,
          175,
          109,
          233,
          85,
          270,
          70,
          103,
          96,
          135,
          267,
          18,
          68,
          291,
          151,
          25
         ],
         "xaxis": "x2",
         "y": [
          97.70012664794922,
          97.69255828857422,
          97.64680480957033,
          97.44538879394533,
          97.43081665039062,
          96.83768463134766,
          96.5159149169922,
          96.50509643554688,
          96.4564208984375,
          95.9927215576172,
          94.34941864013672,
          94.20600128173828,
          94.15095520019533,
          94.12891387939452,
          93.79478454589844,
          93.2867431640625,
          92.9922866821289,
          92.91783905029295,
          92.75647735595705,
          91.79696655273438
         ],
         "yaxis": "y2"
        },
        {
         "customdata": [
          [
           1800,
           20
          ],
          [
           1800,
           10
          ],
          [
           1800,
           5
          ],
          [
           1800,
           20
          ],
          [
           1800,
           80
          ],
          [
           1800,
           40
          ],
          [
           1800,
           40
          ],
          [
           1800,
           10
          ],
          [
           1800,
           5
          ],
          [
           1800,
           80
          ],
          [
           300,
           5
          ],
          [
           300,
           80
          ],
          [
           300,
           10
          ],
          [
           300,
           20
          ],
          [
           300,
           40
          ],
          [
           300,
           20
          ],
          [
           300,
           40
          ],
          [
           300,
           80
          ],
          [
           300,
           5
          ],
          [
           300,
           10
          ]
         ],
         "hovertemplate": "seq_len=160<br>est_direction=forward<br>est_type=FF<br>index=%{x}<br>FIT=%{y}<br>max_time=%{customdata[0]}<br>seq_est_len=%{customdata[1]}<extra></extra>",
         "legendgroup": "160",
         "marker": {
          "color": "#00cc96",
          "symbol": "circle"
         },
         "mode": "markers",
         "name": "160",
         "orientation": "v",
         "showlegend": false,
         "type": "scatter",
         "x": [
          187,
          240,
          154,
          152,
          255,
          239,
          293,
          163,
          218,
          249,
          6,
          78,
          219,
          311,
          220,
          37,
          295,
          280,
          129,
          276
         ],
         "xaxis": "x3",
         "y": [
          98.07054138183594,
          97.8784637451172,
          97.8700180053711,
          97.55343627929688,
          97.48965454101562,
          97.47796630859376,
          96.87776184082033,
          96.55754089355467,
          96.09707641601562,
          95.53726959228516,
          94.82145690917967,
          94.4750747680664,
          94.45597839355467,
          93.94132995605467,
          93.84900665283205,
          93.77892303466795,
          93.6388168334961,
          93.12889099121094,
          92.76729583740234,
          91.63629150390624
         ],
         "yaxis": "y3"
        },
        {
         "customdata": [
          [
           1800,
           20
          ],
          [
           1800,
           80
          ],
          [
           1800,
           40
          ],
          [
           1800,
           40
          ],
          [
           1800,
           5
          ],
          [
           1800,
           20
          ],
          [
           1800,
           10
          ],
          [
           1800,
           80
          ],
          [
           1800,
           10
          ],
          [
           1800,
           5
          ],
          [
           300,
           10
          ],
          [
           300,
           20
          ],
          [
           300,
           20
          ],
          [
           300,
           10
          ],
          [
           300,
           40
          ],
          [
           300,
           80
          ],
          [
           300,
           5
          ],
          [
           300,
           5
          ],
          [
           300,
           80
          ],
          [
           300,
           40
          ]
         ],
         "hovertemplate": "seq_len=160<br>est_direction=forward<br>est_type=ZERO<br>index=%{x}<br>FIT=%{y}<br>max_time=%{customdata[0]}<br>seq_est_len=%{customdata[1]}<extra></extra>",
         "legendgroup": "160",
         "marker": {
          "color": "#00cc96",
          "symbol": "circle"
         },
         "mode": "markers",
         "name": "160",
         "orientation": "v",
         "showlegend": false,
         "type": "scatter",
         "x": [
          275,
          14,
          107,
          289,
          202,
          310,
          100,
          8,
          251,
          32,
          193,
          98,
          61,
          72,
          56,
          214,
          127,
          186,
          140,
          210
         ],
         "xaxis": "x4",
         "y": [
          98.1146240234375,
          97.9417724609375,
          97.85011291503906,
          97.64347076416016,
          97.5845184326172,
          97.50935363769533,
          97.32333374023438,
          96.87051391601562,
          96.4122085571289,
          96.1475830078125,
          94.21080017089844,
          93.77677154541016,
          93.14957427978516,
          92.8497314453125,
          92.4682846069336,
          92.4528579711914,
          92.04934692382812,
          91.78849792480467,
          91.77552795410156,
          91.59477996826172
         ],
         "yaxis": "y4"
        },
        {
         "customdata": [
          [
           1800,
           40
          ],
          [
           1800,
           20
          ],
          [
           1800,
           80
          ],
          [
           1800,
           40
          ],
          [
           1800,
           10
          ],
          [
           1800,
           10
          ],
          [
           1800,
           80
          ],
          [
           1800,
           20
          ],
          [
           1800,
           5
          ],
          [
           1800,
           5
          ],
          [
           300,
           80
          ],
          [
           300,
           5
          ],
          [
           300,
           10
          ],
          [
           300,
           40
          ],
          [
           300,
           5
          ],
          [
           300,
           80
          ],
          [
           300,
           10
          ],
          [
           300,
           20
          ],
          [
           300,
           40
          ],
          [
           300,
           20
          ]
         ],
         "hovertemplate": "seq_len=320<br>est_direction=forward<br>est_type=LSTM<br>index=%{x}<br>FIT=%{y}<br>max_time=%{customdata[0]}<br>seq_est_len=%{customdata[1]}<extra></extra>",
         "legendgroup": "320",
         "marker": {
          "color": "#ab63fa",
          "symbol": "circle"
         },
         "mode": "markers",
         "name": "320",
         "orientation": "v",
         "showlegend": true,
         "type": "scatter",
         "x": [
          216,
          113,
          59,
          299,
          97,
          248,
          80,
          122,
          313,
          111,
          99,
          91,
          184,
          63,
          47,
          206,
          257,
          35,
          263,
          158
         ],
         "xaxis": "x",
         "y": [
          98.09068298339844,
          97.66950225830078,
          97.43049621582033,
          97.3979949951172,
          97.0002670288086,
          96.8392105102539,
          96.18557739257812,
          96.1829605102539,
          95.94629669189452,
          95.38402557373048,
          91.40958404541016,
          91.25569152832033,
          91.02296447753906,
          90.61773681640624,
          90.3702163696289,
          90.34930419921876,
          90.29582977294922,
          88.68589782714844,
          87.0882568359375,
          86.79486846923828
         ],
         "yaxis": "y"
        },
        {
         "customdata": [
          [
           1800,
           40
          ],
          [
           1800,
           10
          ],
          [
           1800,
           5
          ],
          [
           1800,
           40
          ],
          [
           1800,
           20
          ],
          [
           1800,
           5
          ],
          [
           1800,
           10
          ],
          [
           1800,
           80
          ],
          [
           1800,
           20
          ],
          [
           1800,
           80
          ],
          [
           300,
           5
          ],
          [
           300,
           20
          ],
          [
           300,
           10
          ],
          [
           300,
           40
          ],
          [
           300,
           5
          ],
          [
           300,
           10
          ],
          [
           300,
           80
          ],
          [
           300,
           20
          ],
          [
           300,
           80
          ],
          [
           300,
           40
          ]
         ],
         "hovertemplate": "seq_len=320<br>est_direction=forward<br>est_type=RAND<br>index=%{x}<br>FIT=%{y}<br>max_time=%{customdata[0]}<br>seq_est_len=%{customdata[1]}<extra></extra>",
         "legendgroup": "320",
         "marker": {
          "color": "#ab63fa",
          "symbol": "circle"
         },
         "mode": "markers",
         "name": "320",
         "orientation": "v",
         "showlegend": false,
         "type": "scatter",
         "x": [
          236,
          274,
          12,
          268,
          284,
          145,
          159,
          46,
          162,
          148,
          226,
          305,
          131,
          288,
          89,
          306,
          314,
          128,
          27,
          178
         ],
         "xaxis": "x2",
         "y": [
          97.94824981689452,
          96.9705581665039,
          96.90203094482422,
          96.76874542236328,
          96.16373443603516,
          96.13246154785156,
          96.05696868896484,
          95.97135162353516,
          95.74044036865234,
          95.2103042602539,
          92.52262878417967,
          92.42083740234376,
          92.0237274169922,
          91.85838317871094,
          91.38825225830078,
          91.15615844726562,
          90.88819885253906,
          90.87474822998048,
          90.47724151611328,
          89.10578918457031
         ],
         "yaxis": "y2"
        },
        {
         "customdata": [
          [
           1800,
           5
          ],
          [
           1800,
           40
          ],
          [
           1800,
           20
          ],
          [
           1800,
           5
          ],
          [
           1800,
           10
          ],
          [
           1800,
           80
          ],
          [
           1800,
           20
          ],
          [
           1800,
           80
          ],
          [
           1800,
           40
          ],
          [
           1800,
           10
          ],
          [
           300,
           40
          ],
          [
           300,
           20
          ],
          [
           300,
           80
          ],
          [
           300,
           20
          ],
          [
           300,
           80
          ],
          [
           300,
           40
          ],
          [
           300,
           10
          ],
          [
           300,
           5
          ],
          [
           300,
           10
          ],
          [
           300,
           5
          ]
         ],
         "hovertemplate": "seq_len=320<br>est_direction=forward<br>est_type=FF<br>index=%{x}<br>FIT=%{y}<br>max_time=%{customdata[0]}<br>seq_est_len=%{customdata[1]}<extra></extra>",
         "legendgroup": "320",
         "marker": {
          "color": "#ab63fa",
          "symbol": "circle"
         },
         "mode": "markers",
         "name": "320",
         "orientation": "v",
         "showlegend": false,
         "type": "scatter",
         "x": [
          11,
          4,
          177,
          141,
          209,
          120,
          9,
          215,
          298,
          181,
          200,
          229,
          121,
          279,
          285,
          31,
          102,
          282,
          172,
          104
         ],
         "xaxis": "x3",
         "y": [
          97.27134704589844,
          97.1295928955078,
          96.89314270019533,
          96.34661865234376,
          96.25476837158205,
          96.1561050415039,
          96.11275482177734,
          95.85453033447266,
          95.7686538696289,
          95.63182830810548,
          92.28379821777344,
          92.11949157714844,
          91.40501403808594,
          91.3462371826172,
          91.07481384277344,
          90.7538833618164,
          90.42543029785156,
          88.1047134399414,
          87.95417022705078,
          87.1074447631836
         ],
         "yaxis": "y3"
        },
        {
         "customdata": [
          [
           1800,
           5
          ],
          [
           1800,
           10
          ],
          [
           1800,
           40
          ],
          [
           1800,
           80
          ],
          [
           1800,
           80
          ],
          [
           1800,
           5
          ],
          [
           1800,
           40
          ],
          [
           1800,
           10
          ],
          [
           1800,
           20
          ],
          [
           1800,
           20
          ],
          [
           300,
           5
          ],
          [
           300,
           5
          ],
          [
           300,
           80
          ],
          [
           300,
           10
          ],
          [
           300,
           40
          ],
          [
           300,
           40
          ],
          [
           300,
           20
          ],
          [
           300,
           80
          ],
          [
           300,
           10
          ],
          [
           300,
           20
          ]
         ],
         "hovertemplate": "seq_len=320<br>est_direction=forward<br>est_type=ZERO<br>index=%{x}<br>FIT=%{y}<br>max_time=%{customdata[0]}<br>seq_est_len=%{customdata[1]}<extra></extra>",
         "legendgroup": "320",
         "marker": {
          "color": "#ab63fa",
          "symbol": "circle"
         },
         "mode": "markers",
         "name": "320",
         "orientation": "v",
         "showlegend": false,
         "type": "scatter",
         "x": [
          221,
          17,
          88,
          261,
          34,
          48,
          76,
          71,
          294,
          36,
          169,
          22,
          319,
          211,
          309,
          30,
          38,
          207,
          82,
          197
         ],
         "xaxis": "x4",
         "y": [
          97.93425750732422,
          97.3876495361328,
          97.28376770019533,
          96.76813507080078,
          96.5406723022461,
          96.365234375,
          96.04610443115234,
          96.02403259277344,
          95.98303985595705,
          95.89978790283205,
          91.86268615722656,
          91.06481170654295,
          90.61294555664062,
          89.48218536376953,
          89.15210723876953,
          88.91436767578125,
          88.19181060791016,
          87.53903198242188,
          87.49999237060547,
          86.90162658691406
         ],
         "yaxis": "y4"
        }
       ],
       "layout": {
        "annotations": [
         {
          "font": {},
          "showarrow": false,
          "text": "est_type=LSTM",
          "x": 0.11499999999999999,
          "xanchor": "center",
          "xref": "paper",
          "y": 1,
          "yanchor": "bottom",
          "yref": "paper"
         },
         {
          "font": {},
          "showarrow": false,
          "text": "est_type=RAND",
          "x": 0.365,
          "xanchor": "center",
          "xref": "paper",
          "y": 1,
          "yanchor": "bottom",
          "yref": "paper"
         },
         {
          "font": {},
          "showarrow": false,
          "text": "est_type=FF",
          "x": 0.615,
          "xanchor": "center",
          "xref": "paper",
          "y": 1,
          "yanchor": "bottom",
          "yref": "paper"
         },
         {
          "font": {},
          "showarrow": false,
          "text": "est_type=ZERO",
          "x": 0.865,
          "xanchor": "center",
          "xref": "paper",
          "y": 1,
          "yanchor": "bottom",
          "yref": "paper"
         },
         {
          "font": {},
          "showarrow": false,
          "text": "est_direction=forward",
          "textangle": 90,
          "x": 0.98,
          "xanchor": "left",
          "xref": "paper",
          "y": 0.5,
          "yanchor": "middle",
          "yref": "paper"
         }
        ],
        "legend": {
         "title": {
          "text": "seq_len"
         },
         "tracegroupgap": 0
        },
        "margin": {
         "t": 60
        },
        "template": {
         "data": {
          "bar": [
           {
            "error_x": {
             "color": "#2a3f5f"
            },
            "error_y": {
             "color": "#2a3f5f"
            },
            "marker": {
             "line": {
              "color": "#E5ECF6",
              "width": 0.5
             },
             "pattern": {
              "fillmode": "overlay",
              "size": 10,
              "solidity": 0.2
             }
            },
            "type": "bar"
           }
          ],
          "barpolar": [
           {
            "marker": {
             "line": {
              "color": "#E5ECF6",
              "width": 0.5
             },
             "pattern": {
              "fillmode": "overlay",
              "size": 10,
              "solidity": 0.2
             }
            },
            "type": "barpolar"
           }
          ],
          "carpet": [
           {
            "aaxis": {
             "endlinecolor": "#2a3f5f",
             "gridcolor": "white",
             "linecolor": "white",
             "minorgridcolor": "white",
             "startlinecolor": "#2a3f5f"
            },
            "baxis": {
             "endlinecolor": "#2a3f5f",
             "gridcolor": "white",
             "linecolor": "white",
             "minorgridcolor": "white",
             "startlinecolor": "#2a3f5f"
            },
            "type": "carpet"
           }
          ],
          "choropleth": [
           {
            "colorbar": {
             "outlinewidth": 0,
             "ticks": ""
            },
            "type": "choropleth"
           }
          ],
          "contour": [
           {
            "colorbar": {
             "outlinewidth": 0,
             "ticks": ""
            },
            "colorscale": [
             [
              0,
              "#0d0887"
             ],
             [
              0.1111111111111111,
              "#46039f"
             ],
             [
              0.2222222222222222,
              "#7201a8"
             ],
             [
              0.3333333333333333,
              "#9c179e"
             ],
             [
              0.4444444444444444,
              "#bd3786"
             ],
             [
              0.5555555555555556,
              "#d8576b"
             ],
             [
              0.6666666666666666,
              "#ed7953"
             ],
             [
              0.7777777777777778,
              "#fb9f3a"
             ],
             [
              0.8888888888888888,
              "#fdca26"
             ],
             [
              1,
              "#f0f921"
             ]
            ],
            "type": "contour"
           }
          ],
          "contourcarpet": [
           {
            "colorbar": {
             "outlinewidth": 0,
             "ticks": ""
            },
            "type": "contourcarpet"
           }
          ],
          "heatmap": [
           {
            "colorbar": {
             "outlinewidth": 0,
             "ticks": ""
            },
            "colorscale": [
             [
              0,
              "#0d0887"
             ],
             [
              0.1111111111111111,
              "#46039f"
             ],
             [
              0.2222222222222222,
              "#7201a8"
             ],
             [
              0.3333333333333333,
              "#9c179e"
             ],
             [
              0.4444444444444444,
              "#bd3786"
             ],
             [
              0.5555555555555556,
              "#d8576b"
             ],
             [
              0.6666666666666666,
              "#ed7953"
             ],
             [
              0.7777777777777778,
              "#fb9f3a"
             ],
             [
              0.8888888888888888,
              "#fdca26"
             ],
             [
              1,
              "#f0f921"
             ]
            ],
            "type": "heatmap"
           }
          ],
          "heatmapgl": [
           {
            "colorbar": {
             "outlinewidth": 0,
             "ticks": ""
            },
            "colorscale": [
             [
              0,
              "#0d0887"
             ],
             [
              0.1111111111111111,
              "#46039f"
             ],
             [
              0.2222222222222222,
              "#7201a8"
             ],
             [
              0.3333333333333333,
              "#9c179e"
             ],
             [
              0.4444444444444444,
              "#bd3786"
             ],
             [
              0.5555555555555556,
              "#d8576b"
             ],
             [
              0.6666666666666666,
              "#ed7953"
             ],
             [
              0.7777777777777778,
              "#fb9f3a"
             ],
             [
              0.8888888888888888,
              "#fdca26"
             ],
             [
              1,
              "#f0f921"
             ]
            ],
            "type": "heatmapgl"
           }
          ],
          "histogram": [
           {
            "marker": {
             "pattern": {
              "fillmode": "overlay",
              "size": 10,
              "solidity": 0.2
             }
            },
            "type": "histogram"
           }
          ],
          "histogram2d": [
           {
            "colorbar": {
             "outlinewidth": 0,
             "ticks": ""
            },
            "colorscale": [
             [
              0,
              "#0d0887"
             ],
             [
              0.1111111111111111,
              "#46039f"
             ],
             [
              0.2222222222222222,
              "#7201a8"
             ],
             [
              0.3333333333333333,
              "#9c179e"
             ],
             [
              0.4444444444444444,
              "#bd3786"
             ],
             [
              0.5555555555555556,
              "#d8576b"
             ],
             [
              0.6666666666666666,
              "#ed7953"
             ],
             [
              0.7777777777777778,
              "#fb9f3a"
             ],
             [
              0.8888888888888888,
              "#fdca26"
             ],
             [
              1,
              "#f0f921"
             ]
            ],
            "type": "histogram2d"
           }
          ],
          "histogram2dcontour": [
           {
            "colorbar": {
             "outlinewidth": 0,
             "ticks": ""
            },
            "colorscale": [
             [
              0,
              "#0d0887"
             ],
             [
              0.1111111111111111,
              "#46039f"
             ],
             [
              0.2222222222222222,
              "#7201a8"
             ],
             [
              0.3333333333333333,
              "#9c179e"
             ],
             [
              0.4444444444444444,
              "#bd3786"
             ],
             [
              0.5555555555555556,
              "#d8576b"
             ],
             [
              0.6666666666666666,
              "#ed7953"
             ],
             [
              0.7777777777777778,
              "#fb9f3a"
             ],
             [
              0.8888888888888888,
              "#fdca26"
             ],
             [
              1,
              "#f0f921"
             ]
            ],
            "type": "histogram2dcontour"
           }
          ],
          "mesh3d": [
           {
            "colorbar": {
             "outlinewidth": 0,
             "ticks": ""
            },
            "type": "mesh3d"
           }
          ],
          "parcoords": [
           {
            "line": {
             "colorbar": {
              "outlinewidth": 0,
              "ticks": ""
             }
            },
            "type": "parcoords"
           }
          ],
          "pie": [
           {
            "automargin": true,
            "type": "pie"
           }
          ],
          "scatter": [
           {
            "marker": {
             "colorbar": {
              "outlinewidth": 0,
              "ticks": ""
             }
            },
            "type": "scatter"
           }
          ],
          "scatter3d": [
           {
            "line": {
             "colorbar": {
              "outlinewidth": 0,
              "ticks": ""
             }
            },
            "marker": {
             "colorbar": {
              "outlinewidth": 0,
              "ticks": ""
             }
            },
            "type": "scatter3d"
           }
          ],
          "scattercarpet": [
           {
            "marker": {
             "colorbar": {
              "outlinewidth": 0,
              "ticks": ""
             }
            },
            "type": "scattercarpet"
           }
          ],
          "scattergeo": [
           {
            "marker": {
             "colorbar": {
              "outlinewidth": 0,
              "ticks": ""
             }
            },
            "type": "scattergeo"
           }
          ],
          "scattergl": [
           {
            "marker": {
             "colorbar": {
              "outlinewidth": 0,
              "ticks": ""
             }
            },
            "type": "scattergl"
           }
          ],
          "scattermapbox": [
           {
            "marker": {
             "colorbar": {
              "outlinewidth": 0,
              "ticks": ""
             }
            },
            "type": "scattermapbox"
           }
          ],
          "scatterpolar": [
           {
            "marker": {
             "colorbar": {
              "outlinewidth": 0,
              "ticks": ""
             }
            },
            "type": "scatterpolar"
           }
          ],
          "scatterpolargl": [
           {
            "marker": {
             "colorbar": {
              "outlinewidth": 0,
              "ticks": ""
             }
            },
            "type": "scatterpolargl"
           }
          ],
          "scatterternary": [
           {
            "marker": {
             "colorbar": {
              "outlinewidth": 0,
              "ticks": ""
             }
            },
            "type": "scatterternary"
           }
          ],
          "surface": [
           {
            "colorbar": {
             "outlinewidth": 0,
             "ticks": ""
            },
            "colorscale": [
             [
              0,
              "#0d0887"
             ],
             [
              0.1111111111111111,
              "#46039f"
             ],
             [
              0.2222222222222222,
              "#7201a8"
             ],
             [
              0.3333333333333333,
              "#9c179e"
             ],
             [
              0.4444444444444444,
              "#bd3786"
             ],
             [
              0.5555555555555556,
              "#d8576b"
             ],
             [
              0.6666666666666666,
              "#ed7953"
             ],
             [
              0.7777777777777778,
              "#fb9f3a"
             ],
             [
              0.8888888888888888,
              "#fdca26"
             ],
             [
              1,
              "#f0f921"
             ]
            ],
            "type": "surface"
           }
          ],
          "table": [
           {
            "cells": {
             "fill": {
              "color": "#EBF0F8"
             },
             "line": {
              "color": "white"
             }
            },
            "header": {
             "fill": {
              "color": "#C8D4E3"
             },
             "line": {
              "color": "white"
             }
            },
            "type": "table"
           }
          ]
         },
         "layout": {
          "annotationdefaults": {
           "arrowcolor": "#2a3f5f",
           "arrowhead": 0,
           "arrowwidth": 1
          },
          "autotypenumbers": "strict",
          "coloraxis": {
           "colorbar": {
            "outlinewidth": 0,
            "ticks": ""
           }
          },
          "colorscale": {
           "diverging": [
            [
             0,
             "#8e0152"
            ],
            [
             0.1,
             "#c51b7d"
            ],
            [
             0.2,
             "#de77ae"
            ],
            [
             0.3,
             "#f1b6da"
            ],
            [
             0.4,
             "#fde0ef"
            ],
            [
             0.5,
             "#f7f7f7"
            ],
            [
             0.6,
             "#e6f5d0"
            ],
            [
             0.7,
             "#b8e186"
            ],
            [
             0.8,
             "#7fbc41"
            ],
            [
             0.9,
             "#4d9221"
            ],
            [
             1,
             "#276419"
            ]
           ],
           "sequential": [
            [
             0,
             "#0d0887"
            ],
            [
             0.1111111111111111,
             "#46039f"
            ],
            [
             0.2222222222222222,
             "#7201a8"
            ],
            [
             0.3333333333333333,
             "#9c179e"
            ],
            [
             0.4444444444444444,
             "#bd3786"
            ],
            [
             0.5555555555555556,
             "#d8576b"
            ],
            [
             0.6666666666666666,
             "#ed7953"
            ],
            [
             0.7777777777777778,
             "#fb9f3a"
            ],
            [
             0.8888888888888888,
             "#fdca26"
            ],
            [
             1,
             "#f0f921"
            ]
           ],
           "sequentialminus": [
            [
             0,
             "#0d0887"
            ],
            [
             0.1111111111111111,
             "#46039f"
            ],
            [
             0.2222222222222222,
             "#7201a8"
            ],
            [
             0.3333333333333333,
             "#9c179e"
            ],
            [
             0.4444444444444444,
             "#bd3786"
            ],
            [
             0.5555555555555556,
             "#d8576b"
            ],
            [
             0.6666666666666666,
             "#ed7953"
            ],
            [
             0.7777777777777778,
             "#fb9f3a"
            ],
            [
             0.8888888888888888,
             "#fdca26"
            ],
            [
             1,
             "#f0f921"
            ]
           ]
          },
          "colorway": [
           "#636efa",
           "#EF553B",
           "#00cc96",
           "#ab63fa",
           "#FFA15A",
           "#19d3f3",
           "#FF6692",
           "#B6E880",
           "#FF97FF",
           "#FECB52"
          ],
          "font": {
           "color": "#2a3f5f"
          },
          "geo": {
           "bgcolor": "white",
           "lakecolor": "white",
           "landcolor": "#E5ECF6",
           "showlakes": true,
           "showland": true,
           "subunitcolor": "white"
          },
          "hoverlabel": {
           "align": "left"
          },
          "hovermode": "closest",
          "mapbox": {
           "style": "light"
          },
          "paper_bgcolor": "white",
          "plot_bgcolor": "#E5ECF6",
          "polar": {
           "angularaxis": {
            "gridcolor": "white",
            "linecolor": "white",
            "ticks": ""
           },
           "bgcolor": "#E5ECF6",
           "radialaxis": {
            "gridcolor": "white",
            "linecolor": "white",
            "ticks": ""
           }
          },
          "scene": {
           "xaxis": {
            "backgroundcolor": "#E5ECF6",
            "gridcolor": "white",
            "gridwidth": 2,
            "linecolor": "white",
            "showbackground": true,
            "ticks": "",
            "zerolinecolor": "white"
           },
           "yaxis": {
            "backgroundcolor": "#E5ECF6",
            "gridcolor": "white",
            "gridwidth": 2,
            "linecolor": "white",
            "showbackground": true,
            "ticks": "",
            "zerolinecolor": "white"
           },
           "zaxis": {
            "backgroundcolor": "#E5ECF6",
            "gridcolor": "white",
            "gridwidth": 2,
            "linecolor": "white",
            "showbackground": true,
            "ticks": "",
            "zerolinecolor": "white"
           }
          },
          "shapedefaults": {
           "line": {
            "color": "#2a3f5f"
           }
          },
          "ternary": {
           "aaxis": {
            "gridcolor": "white",
            "linecolor": "white",
            "ticks": ""
           },
           "baxis": {
            "gridcolor": "white",
            "linecolor": "white",
            "ticks": ""
           },
           "bgcolor": "#E5ECF6",
           "caxis": {
            "gridcolor": "white",
            "linecolor": "white",
            "ticks": ""
           }
          },
          "title": {
           "x": 0.05
          },
          "xaxis": {
           "automargin": true,
           "gridcolor": "white",
           "linecolor": "white",
           "ticks": "",
           "title": {
            "standoff": 15
           },
           "zerolinecolor": "white",
           "zerolinewidth": 2
          },
          "yaxis": {
           "automargin": true,
           "gridcolor": "white",
           "linecolor": "white",
           "ticks": "",
           "title": {
            "standoff": 15
           },
           "zerolinecolor": "white",
           "zerolinewidth": 2
          }
         }
        },
        "xaxis": {
         "anchor": "y",
         "domain": [
          0,
          0.22999999999999998
         ],
         "title": {
          "text": "index"
         }
        },
        "xaxis2": {
         "anchor": "y2",
         "domain": [
          0.24999999999999997,
          0.48
         ],
         "matches": "x",
         "title": {
          "text": "index"
         }
        },
        "xaxis3": {
         "anchor": "y3",
         "domain": [
          0.49999999999999994,
          0.73
         ],
         "matches": "x",
         "title": {
          "text": "index"
         }
        },
        "xaxis4": {
         "anchor": "y4",
         "domain": [
          0.75,
          0.98
         ],
         "matches": "x",
         "title": {
          "text": "index"
         }
        },
        "yaxis": {
         "anchor": "x",
         "domain": [
          0,
          1
         ],
         "title": {
          "text": "FIT"
         }
        },
        "yaxis2": {
         "anchor": "x2",
         "domain": [
          0,
          1
         ],
         "matches": "y",
         "showticklabels": false
        },
        "yaxis3": {
         "anchor": "x3",
         "domain": [
          0,
          1
         ],
         "matches": "y",
         "showticklabels": false
        },
        "yaxis4": {
         "anchor": "x4",
         "domain": [
          0,
          1
         ],
         "matches": "y",
         "showticklabels": false
        }
       }
      },
      "text/html": [
       "<div>                            <div id=\"ed69df4e-e05f-496e-9447-8dfafd506bd2\" class=\"plotly-graph-div\" style=\"height:525px; width:100%;\"></div>            <script type=\"text/javascript\">                require([\"plotly\"], function(Plotly) {                    window.PLOTLYENV=window.PLOTLYENV || {};                                    if (document.getElementById(\"ed69df4e-e05f-496e-9447-8dfafd506bd2\")) {                    Plotly.newPlot(                        \"ed69df4e-e05f-496e-9447-8dfafd506bd2\",                        [{\"customdata\":[[1800,40],[1800,80],[1800,5],[1800,20],[1800,10],[1800,20],[1800,40],[1800,5],[1800,80],[1800,10],[300,80],[300,10],[300,5],[300,40],[300,20],[300,80],[300,40],[300,20],[300,10],[300,5]],\"hovertemplate\":\"seq_len=80<br>est_direction=forward<br>est_type=LSTM<br>index=%{x}<br>FIT=%{y}<br>max_time=%{customdata[0]}<br>seq_est_len=%{customdata[1]}<extra></extra>\",\"legendgroup\":\"80\",\"marker\":{\"color\":\"#636efa\",\"symbol\":\"circle\"},\"mode\":\"markers\",\"name\":\"80\",\"orientation\":\"v\",\"showlegend\":true,\"x\":[283,190,297,77,67,195,26,241,168,23,224,254,292,44,225,75,256,273,303,114],\"xaxis\":\"x\",\"y\":[98.64527893066406,98.08438873291016,97.9993133544922,97.93087005615234,97.71719360351562,97.53484344482422,96.920166015625,96.81097412109376,96.10256958007812,95.60150146484376,95.43682098388672,95.41340637207033,94.34881591796876,93.94207763671876,93.7504653930664,93.68547821044922,92.63228607177734,92.15628814697266,90.1534652709961,86.79559326171875],\"yaxis\":\"y\",\"type\":\"scatter\"},{\"customdata\":[[1800,80],[1800,40],[1800,80],[1800,20],[1800,40],[1800,20],[1800,10],[1800,10],[1800,5],[1800,5],[300,40],[300,20],[300,5],[300,10],[300,5],[300,20],[300,80],[300,10],[300,40],[300,80]],\"hovertemplate\":\"seq_len=80<br>est_direction=forward<br>est_type=RAND<br>index=%{x}<br>FIT=%{y}<br>max_time=%{customdata[0]}<br>seq_est_len=%{customdata[1]}<extra></extra>\",\"legendgroup\":\"80\",\"marker\":{\"color\":\"#636efa\",\"symbol\":\"circle\"},\"mode\":\"markers\",\"name\":\"80\",\"orientation\":\"v\",\"showlegend\":false,\"x\":[235,87,45,3,271,199,123,196,108,185,259,304,139,265,146,208,144,250,167,153],\"xaxis\":\"x2\",\"y\":[98.36666107177734,98.09742736816406,97.94219970703124,97.77391815185548,97.70063018798828,97.44478607177734,96.4235382080078,96.39376068115234,96.15077209472656,96.0985870361328,95.12645721435548,94.59098052978516,94.3760757446289,94.35650634765624,94.1455535888672,93.89478302001952,93.76724243164062,93.60320281982422,93.49136352539062,92.7812957763672],\"yaxis\":\"y2\",\"type\":\"scatter\"},{\"customdata\":[[1800,10],[1800,20],[1800,5],[1800,40],[1800,20],[1800,80],[1800,10],[1800,40],[1800,5],[1800,80],[300,20],[300,10],[300,80],[300,40],[300,10],[300,80],[300,5],[300,20],[300,40],[300,5]],\"hovertemplate\":\"seq_len=80<br>est_direction=forward<br>est_type=FF<br>index=%{x}<br>FIT=%{y}<br>max_time=%{customdata[0]}<br>seq_est_len=%{customdata[1]}<extra></extra>\",\"legendgroup\":\"80\",\"marker\":{\"color\":\"#636efa\",\"symbol\":\"circle\"},\"mode\":\"markers\",\"name\":\"80\",\"orientation\":\"v\",\"showlegend\":false,\"x\":[84,244,39,300,231,160,252,165,318,260,51,258,232,142,170,93,242,132,189,174],\"xaxis\":\"x3\",\"y\":[98.476806640625,98.1449203491211,98.0041275024414,97.8598403930664,97.64810180664062,97.59656524658205,96.46327209472656,96.40754699707033,96.24866485595705,96.20995330810548,95.47422790527344,94.95551300048828,94.85948944091795,94.7124252319336,94.48770141601562,93.968505859375,93.8422622680664,93.52696990966795,93.44547271728516,92.5700225830078],\"yaxis\":\"y3\",\"type\":\"scatter\"},{\"customdata\":[[1800,80],[1800,40],[1800,20],[1800,80],[1800,20],[1800,10],[1800,40],[1800,10],[1800,5],[1800,5],[300,40],[300,10],[300,20],[300,5],[300,20],[300,5],[300,80],[300,10],[300,40],[300,80]],\"hovertemplate\":\"seq_len=80<br>est_direction=forward<br>est_type=ZERO<br>index=%{x}<br>FIT=%{y}<br>max_time=%{customdata[0]}<br>seq_est_len=%{customdata[1]}<extra></extra>\",\"legendgroup\":\"80\",\"marker\":{\"color\":\"#636efa\",\"symbol\":\"circle\"},\"mode\":\"markers\",\"name\":\"80\",\"orientation\":\"v\",\"showlegend\":false,\"x\":[94,42,60,5,20,136,28,19,272,49,2,105,10,234,213,157,43,238,133,188],\"xaxis\":\"x4\",\"y\":[98.45506286621094,98.26323699951172,98.1899871826172,97.89822387695312,97.73961639404295,97.47483825683594,97.36407470703124,97.31390380859376,96.23986053466795,96.1969757080078,95.50518035888672,95.47000885009766,95.32121276855467,94.9735336303711,94.6418914794922,93.93704223632812,93.62836456298828,93.5859832763672,93.24789428710938,92.3131332397461],\"yaxis\":\"y4\",\"type\":\"scatter\"},{\"customdata\":[[1800,10],[1800,20],[1800,20],[1800,40],[1800,40],[1800,80],[1800,10],[1800,80],[1800,5],[300,40],[1800,5],[300,80],[300,20],[300,10],[300,40],[300,20],[300,10],[300,80],[300,5],[300,5]],\"hovertemplate\":\"seq_len=40<br>est_direction=forward<br>est_type=LSTM<br>index=%{x}<br>FIT=%{y}<br>max_time=%{customdata[0]}<br>seq_est_len=%{customdata[1]}<extra></extra>\",\"legendgroup\":\"40\",\"marker\":{\"color\":\"#EF553B\",\"symbol\":\"circle\"},\"mode\":\"markers\",\"name\":\"40\",\"orientation\":\"v\",\"showlegend\":true,\"x\":[33,92,65,0,286,227,15,171,53,41,230,83,147,57,95,81,205,101,166,7],\"xaxis\":\"x\",\"y\":[98.57345581054688,98.4964828491211,98.36801147460938,98.17034912109376,98.0906753540039,97.85176849365234,97.60191345214844,96.6336441040039,96.10430908203124,95.7321548461914,95.69865417480467,95.1363296508789,95.04593658447266,93.95197296142578,93.2095184326172,91.5042724609375,91.11886596679688,90.64856719970705,89.09007263183594,85.98267211914063],\"yaxis\":\"y\",\"type\":\"scatter\"},{\"customdata\":[[1800,80],[1800,80],[1800,20],[1800,40],[1800,20],[1800,40],[300,20],[300,40],[1800,10],[1800,10],[300,80],[1800,5],[300,20],[1800,5],[300,10],[300,10],[300,40],[300,5],[300,5],[300,80]],\"hovertemplate\":\"seq_len=40<br>est_direction=forward<br>est_type=RAND<br>index=%{x}<br>FIT=%{y}<br>max_time=%{customdata[0]}<br>seq_est_len=%{customdata[1]}<extra></extra>\",\"legendgroup\":\"40\",\"marker\":{\"color\":\"#EF553B\",\"symbol\":\"circle\"},\"mode\":\"markers\",\"name\":\"40\",\"orientation\":\"v\",\"showlegend\":false,\"x\":[266,223,155,156,58,176,149,307,112,137,69,180,287,161,296,24,203,138,40,117],\"xaxis\":\"x2\",\"y\":[98.63126373291016,98.3252182006836,97.8847885131836,97.77044677734376,97.71418762207033,97.3869171142578,96.11537170410156,95.65347290039062,95.2339859008789,94.74220275878906,94.6971206665039,94.56043243408205,94.26303100585938,94.1484832763672,93.68932342529295,93.4850845336914,93.06808471679688,92.88849639892578,92.34491729736328,91.4352798461914],\"yaxis\":\"y2\",\"type\":\"scatter\"},{\"customdata\":[[1800,40],[1800,5],[1800,80],[1800,10],[1800,20],[1800,20],[1800,80],[1800,40],[1800,10],[1800,5],[300,10],[300,80],[300,5],[300,20],[300,40],[300,40],[300,5],[300,10],[300,20],[300,80]],\"hovertemplate\":\"seq_len=40<br>est_direction=forward<br>est_type=FF<br>index=%{x}<br>FIT=%{y}<br>max_time=%{customdata[0]}<br>seq_est_len=%{customdata[1]}<extra></extra>\",\"legendgroup\":\"40\",\"marker\":{\"color\":\"#EF553B\",\"symbol\":\"circle\"},\"mode\":\"markers\",\"name\":\"40\",\"orientation\":\"v\",\"showlegend\":false,\"x\":[198,312,66,253,246,204,316,201,191,301,150,54,125,222,237,50,106,130,73,55],\"xaxis\":\"x3\",\"y\":[97.96394348144533,97.93993377685548,97.82964324951172,97.81804656982422,97.64830017089844,97.62682342529295,97.54607391357422,97.3061294555664,97.18128967285156,95.65291595458984,95.31752014160156,95.2121810913086,95.1697235107422,95.16700744628906,94.91620635986328,93.82486724853516,93.52345275878906,93.362060546875,92.88909912109376,89.55613708496094],\"yaxis\":\"y3\",\"type\":\"scatter\"},{\"customdata\":[[1800,40],[1800,80],[1800,20],[1800,40],[1800,20],[1800,80],[1800,10],[300,20],[1800,5],[1800,10],[300,40],[300,20],[1800,5],[300,40],[300,5],[300,80],[300,10],[300,80],[300,10],[300,5]],\"hovertemplate\":\"seq_len=40<br>est_direction=forward<br>est_type=ZERO<br>index=%{x}<br>FIT=%{y}<br>max_time=%{customdata[0]}<br>seq_est_len=%{customdata[1]}<extra></extra>\",\"legendgroup\":\"40\",\"marker\":{\"color\":\"#EF553B\",\"symbol\":\"circle\"},\"mode\":\"markers\",\"name\":\"40\",\"orientation\":\"v\",\"showlegend\":false,\"x\":[264,192,116,79,13,302,243,21,278,90,164,29,247,269,317,183,115,74,173,126],\"xaxis\":\"x4\",\"y\":[98.3869400024414,98.08660888671876,97.90512084960938,97.8253173828125,97.79948425292967,97.77324676513672,95.65708923339844,95.60099029541016,95.51385498046876,95.1502456665039,95.14989471435548,94.28089904785156,94.07080078125,93.88055419921876,92.98395538330078,92.94324493408205,92.32979583740234,91.2791976928711,91.27102661132812,86.08267211914062],\"yaxis\":\"y4\",\"type\":\"scatter\"},{\"customdata\":[[1800,80],[1800,80],[1800,10],[1800,10],[1800,40],[1800,5],[1800,20],[1800,40],[1800,20],[1800,5],[300,10],[300,40],[300,80],[300,80],[300,20],[300,20],[300,5],[300,40],[300,10],[300,5]],\"hovertemplate\":\"seq_len=160<br>est_direction=forward<br>est_type=LSTM<br>index=%{x}<br>FIT=%{y}<br>max_time=%{customdata[0]}<br>seq_est_len=%{customdata[1]}<extra></extra>\",\"legendgroup\":\"160\",\"marker\":{\"color\":\"#00cc96\",\"symbol\":\"circle\"},\"mode\":\"markers\",\"name\":\"160\",\"orientation\":\"v\",\"showlegend\":true,\"x\":[118,134,86,62,143,16,217,281,110,212,194,277,290,315,228,1,64,262,182,119],\"xaxis\":\"x\",\"y\":[98.07145690917967,97.89192199707033,97.72860717773438,97.48400115966795,97.47042083740234,97.40955352783205,97.25301361083984,96.26641845703124,96.2645492553711,95.85474395751952,94.19519805908205,93.9171371459961,93.9045181274414,93.84690856933594,93.82440185546876,93.44409942626952,93.304443359375,93.19850158691406,92.26985168457033,89.57958984375],\"yaxis\":\"y\",\"type\":\"scatter\"},{\"customdata\":[[1800,20],[1800,20],[1800,40],[1800,5],[1800,40],[1800,80],[1800,5],[1800,10],[1800,10],[1800,80],[300,20],[300,10],[300,40],[300,5],[300,10],[300,5],[300,40],[300,20],[300,80],[300,80]],\"hovertemplate\":\"seq_len=160<br>est_direction=forward<br>est_type=RAND<br>index=%{x}<br>FIT=%{y}<br>max_time=%{customdata[0]}<br>seq_est_len=%{customdata[1]}<extra></extra>\",\"legendgroup\":\"160\",\"marker\":{\"color\":\"#00cc96\",\"symbol\":\"circle\"},\"mode\":\"markers\",\"name\":\"160\",\"orientation\":\"v\",\"showlegend\":false,\"x\":[308,245,124,179,52,175,109,233,85,270,70,103,96,135,267,18,68,291,151,25],\"xaxis\":\"x2\",\"y\":[97.70012664794922,97.69255828857422,97.64680480957033,97.44538879394533,97.43081665039062,96.83768463134766,96.5159149169922,96.50509643554688,96.4564208984375,95.9927215576172,94.34941864013672,94.20600128173828,94.15095520019533,94.12891387939452,93.79478454589844,93.2867431640625,92.9922866821289,92.91783905029295,92.75647735595705,91.79696655273438],\"yaxis\":\"y2\",\"type\":\"scatter\"},{\"customdata\":[[1800,20],[1800,10],[1800,5],[1800,20],[1800,80],[1800,40],[1800,40],[1800,10],[1800,5],[1800,80],[300,5],[300,80],[300,10],[300,20],[300,40],[300,20],[300,40],[300,80],[300,5],[300,10]],\"hovertemplate\":\"seq_len=160<br>est_direction=forward<br>est_type=FF<br>index=%{x}<br>FIT=%{y}<br>max_time=%{customdata[0]}<br>seq_est_len=%{customdata[1]}<extra></extra>\",\"legendgroup\":\"160\",\"marker\":{\"color\":\"#00cc96\",\"symbol\":\"circle\"},\"mode\":\"markers\",\"name\":\"160\",\"orientation\":\"v\",\"showlegend\":false,\"x\":[187,240,154,152,255,239,293,163,218,249,6,78,219,311,220,37,295,280,129,276],\"xaxis\":\"x3\",\"y\":[98.07054138183594,97.8784637451172,97.8700180053711,97.55343627929688,97.48965454101562,97.47796630859376,96.87776184082033,96.55754089355467,96.09707641601562,95.53726959228516,94.82145690917967,94.4750747680664,94.45597839355467,93.94132995605467,93.84900665283205,93.77892303466795,93.6388168334961,93.12889099121094,92.76729583740234,91.63629150390624],\"yaxis\":\"y3\",\"type\":\"scatter\"},{\"customdata\":[[1800,20],[1800,80],[1800,40],[1800,40],[1800,5],[1800,20],[1800,10],[1800,80],[1800,10],[1800,5],[300,10],[300,20],[300,20],[300,10],[300,40],[300,80],[300,5],[300,5],[300,80],[300,40]],\"hovertemplate\":\"seq_len=160<br>est_direction=forward<br>est_type=ZERO<br>index=%{x}<br>FIT=%{y}<br>max_time=%{customdata[0]}<br>seq_est_len=%{customdata[1]}<extra></extra>\",\"legendgroup\":\"160\",\"marker\":{\"color\":\"#00cc96\",\"symbol\":\"circle\"},\"mode\":\"markers\",\"name\":\"160\",\"orientation\":\"v\",\"showlegend\":false,\"x\":[275,14,107,289,202,310,100,8,251,32,193,98,61,72,56,214,127,186,140,210],\"xaxis\":\"x4\",\"y\":[98.1146240234375,97.9417724609375,97.85011291503906,97.64347076416016,97.5845184326172,97.50935363769533,97.32333374023438,96.87051391601562,96.4122085571289,96.1475830078125,94.21080017089844,93.77677154541016,93.14957427978516,92.8497314453125,92.4682846069336,92.4528579711914,92.04934692382812,91.78849792480467,91.77552795410156,91.59477996826172],\"yaxis\":\"y4\",\"type\":\"scatter\"},{\"customdata\":[[1800,40],[1800,20],[1800,80],[1800,40],[1800,10],[1800,10],[1800,80],[1800,20],[1800,5],[1800,5],[300,80],[300,5],[300,10],[300,40],[300,5],[300,80],[300,10],[300,20],[300,40],[300,20]],\"hovertemplate\":\"seq_len=320<br>est_direction=forward<br>est_type=LSTM<br>index=%{x}<br>FIT=%{y}<br>max_time=%{customdata[0]}<br>seq_est_len=%{customdata[1]}<extra></extra>\",\"legendgroup\":\"320\",\"marker\":{\"color\":\"#ab63fa\",\"symbol\":\"circle\"},\"mode\":\"markers\",\"name\":\"320\",\"orientation\":\"v\",\"showlegend\":true,\"x\":[216,113,59,299,97,248,80,122,313,111,99,91,184,63,47,206,257,35,263,158],\"xaxis\":\"x\",\"y\":[98.09068298339844,97.66950225830078,97.43049621582033,97.3979949951172,97.0002670288086,96.8392105102539,96.18557739257812,96.1829605102539,95.94629669189452,95.38402557373048,91.40958404541016,91.25569152832033,91.02296447753906,90.61773681640624,90.3702163696289,90.34930419921876,90.29582977294922,88.68589782714844,87.0882568359375,86.79486846923828],\"yaxis\":\"y\",\"type\":\"scatter\"},{\"customdata\":[[1800,40],[1800,10],[1800,5],[1800,40],[1800,20],[1800,5],[1800,10],[1800,80],[1800,20],[1800,80],[300,5],[300,20],[300,10],[300,40],[300,5],[300,10],[300,80],[300,20],[300,80],[300,40]],\"hovertemplate\":\"seq_len=320<br>est_direction=forward<br>est_type=RAND<br>index=%{x}<br>FIT=%{y}<br>max_time=%{customdata[0]}<br>seq_est_len=%{customdata[1]}<extra></extra>\",\"legendgroup\":\"320\",\"marker\":{\"color\":\"#ab63fa\",\"symbol\":\"circle\"},\"mode\":\"markers\",\"name\":\"320\",\"orientation\":\"v\",\"showlegend\":false,\"x\":[236,274,12,268,284,145,159,46,162,148,226,305,131,288,89,306,314,128,27,178],\"xaxis\":\"x2\",\"y\":[97.94824981689452,96.9705581665039,96.90203094482422,96.76874542236328,96.16373443603516,96.13246154785156,96.05696868896484,95.97135162353516,95.74044036865234,95.2103042602539,92.52262878417967,92.42083740234376,92.0237274169922,91.85838317871094,91.38825225830078,91.15615844726562,90.88819885253906,90.87474822998048,90.47724151611328,89.10578918457031],\"yaxis\":\"y2\",\"type\":\"scatter\"},{\"customdata\":[[1800,5],[1800,40],[1800,20],[1800,5],[1800,10],[1800,80],[1800,20],[1800,80],[1800,40],[1800,10],[300,40],[300,20],[300,80],[300,20],[300,80],[300,40],[300,10],[300,5],[300,10],[300,5]],\"hovertemplate\":\"seq_len=320<br>est_direction=forward<br>est_type=FF<br>index=%{x}<br>FIT=%{y}<br>max_time=%{customdata[0]}<br>seq_est_len=%{customdata[1]}<extra></extra>\",\"legendgroup\":\"320\",\"marker\":{\"color\":\"#ab63fa\",\"symbol\":\"circle\"},\"mode\":\"markers\",\"name\":\"320\",\"orientation\":\"v\",\"showlegend\":false,\"x\":[11,4,177,141,209,120,9,215,298,181,200,229,121,279,285,31,102,282,172,104],\"xaxis\":\"x3\",\"y\":[97.27134704589844,97.1295928955078,96.89314270019533,96.34661865234376,96.25476837158205,96.1561050415039,96.11275482177734,95.85453033447266,95.7686538696289,95.63182830810548,92.28379821777344,92.11949157714844,91.40501403808594,91.3462371826172,91.07481384277344,90.7538833618164,90.42543029785156,88.1047134399414,87.95417022705078,87.1074447631836],\"yaxis\":\"y3\",\"type\":\"scatter\"},{\"customdata\":[[1800,5],[1800,10],[1800,40],[1800,80],[1800,80],[1800,5],[1800,40],[1800,10],[1800,20],[1800,20],[300,5],[300,5],[300,80],[300,10],[300,40],[300,40],[300,20],[300,80],[300,10],[300,20]],\"hovertemplate\":\"seq_len=320<br>est_direction=forward<br>est_type=ZERO<br>index=%{x}<br>FIT=%{y}<br>max_time=%{customdata[0]}<br>seq_est_len=%{customdata[1]}<extra></extra>\",\"legendgroup\":\"320\",\"marker\":{\"color\":\"#ab63fa\",\"symbol\":\"circle\"},\"mode\":\"markers\",\"name\":\"320\",\"orientation\":\"v\",\"showlegend\":false,\"x\":[221,17,88,261,34,48,76,71,294,36,169,22,319,211,309,30,38,207,82,197],\"xaxis\":\"x4\",\"y\":[97.93425750732422,97.3876495361328,97.28376770019533,96.76813507080078,96.5406723022461,96.365234375,96.04610443115234,96.02403259277344,95.98303985595705,95.89978790283205,91.86268615722656,91.06481170654295,90.61294555664062,89.48218536376953,89.15210723876953,88.91436767578125,88.19181060791016,87.53903198242188,87.49999237060547,86.90162658691406],\"yaxis\":\"y4\",\"type\":\"scatter\"}],                        {\"template\":{\"data\":{\"bar\":[{\"error_x\":{\"color\":\"#2a3f5f\"},\"error_y\":{\"color\":\"#2a3f5f\"},\"marker\":{\"line\":{\"color\":\"#E5ECF6\",\"width\":0.5},\"pattern\":{\"fillmode\":\"overlay\",\"size\":10,\"solidity\":0.2}},\"type\":\"bar\"}],\"barpolar\":[{\"marker\":{\"line\":{\"color\":\"#E5ECF6\",\"width\":0.5},\"pattern\":{\"fillmode\":\"overlay\",\"size\":10,\"solidity\":0.2}},\"type\":\"barpolar\"}],\"carpet\":[{\"aaxis\":{\"endlinecolor\":\"#2a3f5f\",\"gridcolor\":\"white\",\"linecolor\":\"white\",\"minorgridcolor\":\"white\",\"startlinecolor\":\"#2a3f5f\"},\"baxis\":{\"endlinecolor\":\"#2a3f5f\",\"gridcolor\":\"white\",\"linecolor\":\"white\",\"minorgridcolor\":\"white\",\"startlinecolor\":\"#2a3f5f\"},\"type\":\"carpet\"}],\"choropleth\":[{\"colorbar\":{\"outlinewidth\":0,\"ticks\":\"\"},\"type\":\"choropleth\"}],\"contour\":[{\"colorbar\":{\"outlinewidth\":0,\"ticks\":\"\"},\"colorscale\":[[0.0,\"#0d0887\"],[0.1111111111111111,\"#46039f\"],[0.2222222222222222,\"#7201a8\"],[0.3333333333333333,\"#9c179e\"],[0.4444444444444444,\"#bd3786\"],[0.5555555555555556,\"#d8576b\"],[0.6666666666666666,\"#ed7953\"],[0.7777777777777778,\"#fb9f3a\"],[0.8888888888888888,\"#fdca26\"],[1.0,\"#f0f921\"]],\"type\":\"contour\"}],\"contourcarpet\":[{\"colorbar\":{\"outlinewidth\":0,\"ticks\":\"\"},\"type\":\"contourcarpet\"}],\"heatmap\":[{\"colorbar\":{\"outlinewidth\":0,\"ticks\":\"\"},\"colorscale\":[[0.0,\"#0d0887\"],[0.1111111111111111,\"#46039f\"],[0.2222222222222222,\"#7201a8\"],[0.3333333333333333,\"#9c179e\"],[0.4444444444444444,\"#bd3786\"],[0.5555555555555556,\"#d8576b\"],[0.6666666666666666,\"#ed7953\"],[0.7777777777777778,\"#fb9f3a\"],[0.8888888888888888,\"#fdca26\"],[1.0,\"#f0f921\"]],\"type\":\"heatmap\"}],\"heatmapgl\":[{\"colorbar\":{\"outlinewidth\":0,\"ticks\":\"\"},\"colorscale\":[[0.0,\"#0d0887\"],[0.1111111111111111,\"#46039f\"],[0.2222222222222222,\"#7201a8\"],[0.3333333333333333,\"#9c179e\"],[0.4444444444444444,\"#bd3786\"],[0.5555555555555556,\"#d8576b\"],[0.6666666666666666,\"#ed7953\"],[0.7777777777777778,\"#fb9f3a\"],[0.8888888888888888,\"#fdca26\"],[1.0,\"#f0f921\"]],\"type\":\"heatmapgl\"}],\"histogram\":[{\"marker\":{\"pattern\":{\"fillmode\":\"overlay\",\"size\":10,\"solidity\":0.2}},\"type\":\"histogram\"}],\"histogram2d\":[{\"colorbar\":{\"outlinewidth\":0,\"ticks\":\"\"},\"colorscale\":[[0.0,\"#0d0887\"],[0.1111111111111111,\"#46039f\"],[0.2222222222222222,\"#7201a8\"],[0.3333333333333333,\"#9c179e\"],[0.4444444444444444,\"#bd3786\"],[0.5555555555555556,\"#d8576b\"],[0.6666666666666666,\"#ed7953\"],[0.7777777777777778,\"#fb9f3a\"],[0.8888888888888888,\"#fdca26\"],[1.0,\"#f0f921\"]],\"type\":\"histogram2d\"}],\"histogram2dcontour\":[{\"colorbar\":{\"outlinewidth\":0,\"ticks\":\"\"},\"colorscale\":[[0.0,\"#0d0887\"],[0.1111111111111111,\"#46039f\"],[0.2222222222222222,\"#7201a8\"],[0.3333333333333333,\"#9c179e\"],[0.4444444444444444,\"#bd3786\"],[0.5555555555555556,\"#d8576b\"],[0.6666666666666666,\"#ed7953\"],[0.7777777777777778,\"#fb9f3a\"],[0.8888888888888888,\"#fdca26\"],[1.0,\"#f0f921\"]],\"type\":\"histogram2dcontour\"}],\"mesh3d\":[{\"colorbar\":{\"outlinewidth\":0,\"ticks\":\"\"},\"type\":\"mesh3d\"}],\"parcoords\":[{\"line\":{\"colorbar\":{\"outlinewidth\":0,\"ticks\":\"\"}},\"type\":\"parcoords\"}],\"pie\":[{\"automargin\":true,\"type\":\"pie\"}],\"scatter\":[{\"marker\":{\"colorbar\":{\"outlinewidth\":0,\"ticks\":\"\"}},\"type\":\"scatter\"}],\"scatter3d\":[{\"line\":{\"colorbar\":{\"outlinewidth\":0,\"ticks\":\"\"}},\"marker\":{\"colorbar\":{\"outlinewidth\":0,\"ticks\":\"\"}},\"type\":\"scatter3d\"}],\"scattercarpet\":[{\"marker\":{\"colorbar\":{\"outlinewidth\":0,\"ticks\":\"\"}},\"type\":\"scattercarpet\"}],\"scattergeo\":[{\"marker\":{\"colorbar\":{\"outlinewidth\":0,\"ticks\":\"\"}},\"type\":\"scattergeo\"}],\"scattergl\":[{\"marker\":{\"colorbar\":{\"outlinewidth\":0,\"ticks\":\"\"}},\"type\":\"scattergl\"}],\"scattermapbox\":[{\"marker\":{\"colorbar\":{\"outlinewidth\":0,\"ticks\":\"\"}},\"type\":\"scattermapbox\"}],\"scatterpolar\":[{\"marker\":{\"colorbar\":{\"outlinewidth\":0,\"ticks\":\"\"}},\"type\":\"scatterpolar\"}],\"scatterpolargl\":[{\"marker\":{\"colorbar\":{\"outlinewidth\":0,\"ticks\":\"\"}},\"type\":\"scatterpolargl\"}],\"scatterternary\":[{\"marker\":{\"colorbar\":{\"outlinewidth\":0,\"ticks\":\"\"}},\"type\":\"scatterternary\"}],\"surface\":[{\"colorbar\":{\"outlinewidth\":0,\"ticks\":\"\"},\"colorscale\":[[0.0,\"#0d0887\"],[0.1111111111111111,\"#46039f\"],[0.2222222222222222,\"#7201a8\"],[0.3333333333333333,\"#9c179e\"],[0.4444444444444444,\"#bd3786\"],[0.5555555555555556,\"#d8576b\"],[0.6666666666666666,\"#ed7953\"],[0.7777777777777778,\"#fb9f3a\"],[0.8888888888888888,\"#fdca26\"],[1.0,\"#f0f921\"]],\"type\":\"surface\"}],\"table\":[{\"cells\":{\"fill\":{\"color\":\"#EBF0F8\"},\"line\":{\"color\":\"white\"}},\"header\":{\"fill\":{\"color\":\"#C8D4E3\"},\"line\":{\"color\":\"white\"}},\"type\":\"table\"}]},\"layout\":{\"annotationdefaults\":{\"arrowcolor\":\"#2a3f5f\",\"arrowhead\":0,\"arrowwidth\":1},\"autotypenumbers\":\"strict\",\"coloraxis\":{\"colorbar\":{\"outlinewidth\":0,\"ticks\":\"\"}},\"colorscale\":{\"diverging\":[[0,\"#8e0152\"],[0.1,\"#c51b7d\"],[0.2,\"#de77ae\"],[0.3,\"#f1b6da\"],[0.4,\"#fde0ef\"],[0.5,\"#f7f7f7\"],[0.6,\"#e6f5d0\"],[0.7,\"#b8e186\"],[0.8,\"#7fbc41\"],[0.9,\"#4d9221\"],[1,\"#276419\"]],\"sequential\":[[0.0,\"#0d0887\"],[0.1111111111111111,\"#46039f\"],[0.2222222222222222,\"#7201a8\"],[0.3333333333333333,\"#9c179e\"],[0.4444444444444444,\"#bd3786\"],[0.5555555555555556,\"#d8576b\"],[0.6666666666666666,\"#ed7953\"],[0.7777777777777778,\"#fb9f3a\"],[0.8888888888888888,\"#fdca26\"],[1.0,\"#f0f921\"]],\"sequentialminus\":[[0.0,\"#0d0887\"],[0.1111111111111111,\"#46039f\"],[0.2222222222222222,\"#7201a8\"],[0.3333333333333333,\"#9c179e\"],[0.4444444444444444,\"#bd3786\"],[0.5555555555555556,\"#d8576b\"],[0.6666666666666666,\"#ed7953\"],[0.7777777777777778,\"#fb9f3a\"],[0.8888888888888888,\"#fdca26\"],[1.0,\"#f0f921\"]]},\"colorway\":[\"#636efa\",\"#EF553B\",\"#00cc96\",\"#ab63fa\",\"#FFA15A\",\"#19d3f3\",\"#FF6692\",\"#B6E880\",\"#FF97FF\",\"#FECB52\"],\"font\":{\"color\":\"#2a3f5f\"},\"geo\":{\"bgcolor\":\"white\",\"lakecolor\":\"white\",\"landcolor\":\"#E5ECF6\",\"showlakes\":true,\"showland\":true,\"subunitcolor\":\"white\"},\"hoverlabel\":{\"align\":\"left\"},\"hovermode\":\"closest\",\"mapbox\":{\"style\":\"light\"},\"paper_bgcolor\":\"white\",\"plot_bgcolor\":\"#E5ECF6\",\"polar\":{\"angularaxis\":{\"gridcolor\":\"white\",\"linecolor\":\"white\",\"ticks\":\"\"},\"bgcolor\":\"#E5ECF6\",\"radialaxis\":{\"gridcolor\":\"white\",\"linecolor\":\"white\",\"ticks\":\"\"}},\"scene\":{\"xaxis\":{\"backgroundcolor\":\"#E5ECF6\",\"gridcolor\":\"white\",\"gridwidth\":2,\"linecolor\":\"white\",\"showbackground\":true,\"ticks\":\"\",\"zerolinecolor\":\"white\"},\"yaxis\":{\"backgroundcolor\":\"#E5ECF6\",\"gridcolor\":\"white\",\"gridwidth\":2,\"linecolor\":\"white\",\"showbackground\":true,\"ticks\":\"\",\"zerolinecolor\":\"white\"},\"zaxis\":{\"backgroundcolor\":\"#E5ECF6\",\"gridcolor\":\"white\",\"gridwidth\":2,\"linecolor\":\"white\",\"showbackground\":true,\"ticks\":\"\",\"zerolinecolor\":\"white\"}},\"shapedefaults\":{\"line\":{\"color\":\"#2a3f5f\"}},\"ternary\":{\"aaxis\":{\"gridcolor\":\"white\",\"linecolor\":\"white\",\"ticks\":\"\"},\"baxis\":{\"gridcolor\":\"white\",\"linecolor\":\"white\",\"ticks\":\"\"},\"bgcolor\":\"#E5ECF6\",\"caxis\":{\"gridcolor\":\"white\",\"linecolor\":\"white\",\"ticks\":\"\"}},\"title\":{\"x\":0.05},\"xaxis\":{\"automargin\":true,\"gridcolor\":\"white\",\"linecolor\":\"white\",\"ticks\":\"\",\"title\":{\"standoff\":15},\"zerolinecolor\":\"white\",\"zerolinewidth\":2},\"yaxis\":{\"automargin\":true,\"gridcolor\":\"white\",\"linecolor\":\"white\",\"ticks\":\"\",\"title\":{\"standoff\":15},\"zerolinecolor\":\"white\",\"zerolinewidth\":2}}},\"xaxis\":{\"anchor\":\"y\",\"domain\":[0.0,0.22999999999999998],\"title\":{\"text\":\"index\"}},\"yaxis\":{\"anchor\":\"x\",\"domain\":[0.0,1.0],\"title\":{\"text\":\"FIT\"}},\"xaxis2\":{\"anchor\":\"y2\",\"domain\":[0.24999999999999997,0.48],\"matches\":\"x\",\"title\":{\"text\":\"index\"}},\"yaxis2\":{\"anchor\":\"x2\",\"domain\":[0.0,1.0],\"matches\":\"y\",\"showticklabels\":false},\"xaxis3\":{\"anchor\":\"y3\",\"domain\":[0.49999999999999994,0.73],\"matches\":\"x\",\"title\":{\"text\":\"index\"}},\"yaxis3\":{\"anchor\":\"x3\",\"domain\":[0.0,1.0],\"matches\":\"y\",\"showticklabels\":false},\"xaxis4\":{\"anchor\":\"y4\",\"domain\":[0.75,0.98],\"matches\":\"x\",\"title\":{\"text\":\"index\"}},\"yaxis4\":{\"anchor\":\"x4\",\"domain\":[0.0,1.0],\"matches\":\"y\",\"showticklabels\":false},\"annotations\":[{\"font\":{},\"showarrow\":false,\"text\":\"est_type=LSTM\",\"x\":0.11499999999999999,\"xanchor\":\"center\",\"xref\":\"paper\",\"y\":1.0,\"yanchor\":\"bottom\",\"yref\":\"paper\"},{\"font\":{},\"showarrow\":false,\"text\":\"est_type=RAND\",\"x\":0.365,\"xanchor\":\"center\",\"xref\":\"paper\",\"y\":1.0,\"yanchor\":\"bottom\",\"yref\":\"paper\"},{\"font\":{},\"showarrow\":false,\"text\":\"est_type=FF\",\"x\":0.615,\"xanchor\":\"center\",\"xref\":\"paper\",\"y\":1.0,\"yanchor\":\"bottom\",\"yref\":\"paper\"},{\"font\":{},\"showarrow\":false,\"text\":\"est_type=ZERO\",\"x\":0.865,\"xanchor\":\"center\",\"xref\":\"paper\",\"y\":1.0,\"yanchor\":\"bottom\",\"yref\":\"paper\"},{\"font\":{},\"showarrow\":false,\"text\":\"est_direction=forward\",\"textangle\":90,\"x\":0.98,\"xanchor\":\"left\",\"xref\":\"paper\",\"y\":0.5,\"yanchor\":\"middle\",\"yref\":\"paper\"}],\"legend\":{\"title\":{\"text\":\"seq_len\"},\"tracegroupgap\":0},\"margin\":{\"t\":60}},                        {\"responsive\": true}                    ).then(function(){\n",
       "                            \n",
       "var gd = document.getElementById('ed69df4e-e05f-496e-9447-8dfafd506bd2');\n",
       "var x = new MutationObserver(function (mutations, observer) {{\n",
       "        var display = window.getComputedStyle(gd).display;\n",
       "        if (!display || display === 'none') {{\n",
       "            console.log([gd, 'removed!']);\n",
       "            Plotly.purge(gd);\n",
       "            observer.disconnect();\n",
       "        }}\n",
       "}});\n",
       "\n",
       "// Listen for the removal of the full notebook cells\n",
       "var notebookContainer = gd.closest('#notebook-container');\n",
       "if (notebookContainer) {{\n",
       "    x.observe(notebookContainer, {childList: true});\n",
       "}}\n",
       "\n",
       "// Listen for the clearing of the current output cell\n",
       "var outputEl = gd.closest('.output');\n",
       "if (outputEl) {{\n",
       "    x.observe(outputEl, {childList: true});\n",
       "}}\n",
       "\n",
       "                        })                };                });            </script>        </div>"
      ]
     },
     "metadata": {},
     "output_type": "display_data"
    }
   ],
   "source": [
    "fig = px.scatter(df_res, y=\"FIT\",\n",
    "                 facet_col=\"est_type\", facet_row=\"est_direction\", color=\"seq_len\",\n",
    "                 hover_data=[\"max_time\", \"seq_est_len\"])\n",
    "fig.show()"
   ]
  },
  {
   "cell_type": "code",
   "execution_count": 16,
   "id": "2e699c9e",
   "metadata": {},
   "outputs": [],
   "source": [
    "df_30min = df_res[(df_res[\"max_time\"] != 300)]"
   ]
  },
  {
   "cell_type": "code",
   "execution_count": 17,
   "id": "3ad941d4",
   "metadata": {},
   "outputs": [
    {
     "data": {
      "image/png": "[encoded data removed]",
      "text/plain": [
       "<Figure size 900x360 with 5 Axes>"
      ]
     },
     "metadata": {
      "needs_background": "light"
     },
     "output_type": "display_data"
    }
   ],
   "source": [
    "# Full results: main effects\n",
    "g = sns.PairGrid(df_30min, y_vars=response,\n",
    "                 x_vars=factors,\n",
    "                 height=5, aspect=.5)\n",
    "g.map(sns.pointplot, scale=1.3)\n",
    "sns.despine(fig=g.fig, left=True)"
   ]
  },
  {
   "cell_type": "code",
   "execution_count": 18,
   "id": "f9d93033",
   "metadata": {},
   "outputs": [],
   "source": [
    "df_zero= df_res[(df_res[\"max_time\"] != 300) & ((df_res[\"est_type\"] == \"ZERO\"))]"
   ]
  },
  {
   "cell_type": "code",
   "execution_count": 19,
   "id": "d44d95ff",
   "metadata": {},
   "outputs": [
    {
     "data": {
      "image/png": "[encoded data removed]",
      "text/plain": [
       "<Figure size 900x360 with 5 Axes>"
      ]
     },
     "metadata": {
      "needs_background": "light"
     },
     "output_type": "display_data"
    }
   ],
   "source": [
    "# Full results: main effects\n",
    "g = sns.PairGrid(df_zero, y_vars=response,\n",
    "                 x_vars=factors,\n",
    "                 height=5, aspect=.5)\n",
    "g.map(sns.pointplot, scale=1.3)\n",
    "sns.despine(fig=g.fig, left=True)"
   ]
  },
  {
   "cell_type": "code",
   "execution_count": 20,
   "id": "8ce8bf95",
   "metadata": {},
   "outputs": [],
   "source": [
    "df_5min = df_res[(df_res[\"max_time\"] == 300)]"
   ]
  },
  {
   "cell_type": "code",
   "execution_count": 21,
   "id": "7495c3dd",
   "metadata": {},
   "outputs": [
    {
     "data": {
      "image/png": "[encoded data removed]",
      "text/plain": [
       "<Figure size 900x360 with 5 Axes>"
      ]
     },
     "metadata": {
      "needs_background": "light"
     },
     "output_type": "display_data"
    }
   ],
   "source": [
    "# Full results: main effects\n",
    "g = sns.PairGrid(df_5min, y_vars=response,\n",
    "                 x_vars=factors,\n",
    "                 height=5, aspect=.5)\n",
    "g.map(sns.pointplot, scale=1.3)\n",
    "sns.despine(fig=g.fig, left=True)"
   ]
  },
  {
   "cell_type": "code",
   "execution_count": 22,
   "id": "4a74633f",
   "metadata": {},
   "outputs": [],
   "source": [
    "df_good = df_res[(df_res[\"max_time\"] != 300) & (df_res[\"est_type\"]== \"FF\")]"
   ]
  },
  {
   "cell_type": "code",
   "execution_count": 23,
   "id": "49ecc9f4",
   "metadata": {},
   "outputs": [
    {
     "data": {
      "image/png": "[encoded data removed]",
      "text/plain": [
       "<Figure size 900x360 with 5 Axes>"
      ]
     },
     "metadata": {
      "needs_background": "light"
     },
     "output_type": "display_data"
    }
   ],
   "source": [
    "# Full results: main effects\n",
    "g = sns.PairGrid(df_good, y_vars=response,\n",
    "                 x_vars=factors,\n",
    "                 height=5, aspect=.5)\n",
    "g.map(sns.pointplot, scale=1.3)\n",
    "sns.despine(fig=g.fig, left=True)"
   ]
  },
  {
   "cell_type": "code",
   "execution_count": 24,
   "id": "197dd8e5",
   "metadata": {},
   "outputs": [
    {
     "data": {
      "application/vnd.plotly.v1+json": {
       "config": {
        "plotlyServerURL": "https://plot.ly"
       },
       "data": [
        {
         "customdata": [
          [
           1800,
           40
          ],
          [
           1800,
           80
          ],
          [
           1800,
           5
          ],
          [
           1800,
           20
          ],
          [
           1800,
           10
          ],
          [
           1800,
           20
          ],
          [
           1800,
           40
          ],
          [
           1800,
           5
          ],
          [
           1800,
           80
          ],
          [
           1800,
           10
          ]
         ],
         "hovertemplate": "seq_len=80<br>est_direction=forward<br>est_type=LSTM<br>index=%{x}<br>FIT=%{y}<br>max_time=%{customdata[0]}<br>seq_est_len=%{customdata[1]}<extra></extra>",
         "legendgroup": "80",
         "marker": {
          "color": "#636efa",
          "symbol": "circle"
         },
         "mode": "markers",
         "name": "80",
         "orientation": "v",
         "showlegend": true,
         "type": "scatter",
         "x": [
          283,
          190,
          297,
          77,
          67,
          195,
          26,
          241,
          168,
          23
         ],
         "xaxis": "x",
         "y": [
          98.64527893066406,
          98.08438873291016,
          97.9993133544922,
          97.93087005615234,
          97.71719360351562,
          97.53484344482422,
          96.920166015625,
          96.81097412109376,
          96.10256958007812,
          95.60150146484376
         ],
         "yaxis": "y"
        },
        {
         "customdata": [
          [
           1800,
           80
          ],
          [
           1800,
           40
          ],
          [
           1800,
           80
          ],
          [
           1800,
           20
          ],
          [
           1800,
           40
          ],
          [
           1800,
           20
          ],
          [
           1800,
           10
          ],
          [
           1800,
           10
          ],
          [
           1800,
           5
          ],
          [
           1800,
           5
          ]
         ],
         "hovertemplate": "seq_len=80<br>est_direction=forward<br>est_type=RAND<br>index=%{x}<br>FIT=%{y}<br>max_time=%{customdata[0]}<br>seq_est_len=%{customdata[1]}<extra></extra>",
         "legendgroup": "80",
         "marker": {
          "color": "#636efa",
          "symbol": "circle"
         },
         "mode": "markers",
         "name": "80",
         "orientation": "v",
         "showlegend": false,
         "type": "scatter",
         "x": [
          235,
          87,
          45,
          3,
          271,
          199,
          123,
          196,
          108,
          185
         ],
         "xaxis": "x2",
         "y": [
          98.36666107177734,
          98.09742736816406,
          97.94219970703124,
          97.77391815185548,
          97.70063018798828,
          97.44478607177734,
          96.4235382080078,
          96.39376068115234,
          96.15077209472656,
          96.0985870361328
         ],
         "yaxis": "y2"
        },
        {
         "customdata": [
          [
           1800,
           10
          ],
          [
           1800,
           20
          ],
          [
           1800,
           5
          ],
          [
           1800,
           40
          ],
          [
           1800,
           20
          ],
          [
           1800,
           80
          ],
          [
           1800,
           10
          ],
          [
           1800,
           40
          ],
          [
           1800,
           5
          ],
          [
           1800,
           80
          ]
         ],
         "hovertemplate": "seq_len=80<br>est_direction=forward<br>est_type=FF<br>index=%{x}<br>FIT=%{y}<br>max_time=%{customdata[0]}<br>seq_est_len=%{customdata[1]}<extra></extra>",
         "legendgroup": "80",
         "marker": {
          "color": "#636efa",
          "symbol": "circle"
         },
         "mode": "markers",
         "name": "80",
         "orientation": "v",
         "showlegend": false,
         "type": "scatter",
         "x": [
          84,
          244,
          39,
          300,
          231,
          160,
          252,
          165,
          318,
          260
         ],
         "xaxis": "x3",
         "y": [
          98.476806640625,
          98.1449203491211,
          98.0041275024414,
          97.8598403930664,
          97.64810180664062,
          97.59656524658205,
          96.46327209472656,
          96.40754699707033,
          96.24866485595705,
          96.20995330810548
         ],
         "yaxis": "y3"
        },
        {
         "customdata": [
          [
           1800,
           80
          ],
          [
           1800,
           40
          ],
          [
           1800,
           20
          ],
          [
           1800,
           80
          ],
          [
           1800,
           20
          ],
          [
           1800,
           10
          ],
          [
           1800,
           40
          ],
          [
           1800,
           10
          ],
          [
           1800,
           5
          ],
          [
           1800,
           5
          ]
         ],
         "hovertemplate": "seq_len=80<br>est_direction=forward<br>est_type=ZERO<br>index=%{x}<br>FIT=%{y}<br>max_time=%{customdata[0]}<br>seq_est_len=%{customdata[1]}<extra></extra>",
         "legendgroup": "80",
         "marker": {
          "color": "#636efa",
          "symbol": "circle"
         },
         "mode": "markers",
         "name": "80",
         "orientation": "v",
         "showlegend": false,
         "type": "scatter",
         "x": [
          94,
          42,
          60,
          5,
          20,
          136,
          28,
          19,
          272,
          49
         ],
         "xaxis": "x4",
         "y": [
          98.45506286621094,
          98.26323699951172,
          98.1899871826172,
          97.89822387695312,
          97.73961639404295,
          97.47483825683594,
          97.36407470703124,
          97.31390380859376,
          96.23986053466795,
          96.1969757080078
         ],
         "yaxis": "y4"
        },
        {
         "customdata": [
          [
           1800,
           10
          ],
          [
           1800,
           20
          ],
          [
           1800,
           20
          ],
          [
           1800,
           40
          ],
          [
           1800,
           40
          ],
          [
           1800,
           80
          ],
          [
           1800,
           10
          ],
          [
           1800,
           80
          ],
          [
           1800,
           5
          ],
          [
           1800,
           5
          ]
         ],
         "hovertemplate": "seq_len=40<br>est_direction=forward<br>est_type=LSTM<br>index=%{x}<br>FIT=%{y}<br>max_time=%{customdata[0]}<br>seq_est_len=%{customdata[1]}<extra></extra>",
         "legendgroup": "40",
         "marker": {
          "color": "#EF553B",
          "symbol": "circle"
         },
         "mode": "markers",
         "name": "40",
         "orientation": "v",
         "showlegend": true,
         "type": "scatter",
         "x": [
          33,
          92,
          65,
          0,
          286,
          227,
          15,
          171,
          53,
          230
         ],
         "xaxis": "x",
         "y": [
          98.57345581054688,
          98.4964828491211,
          98.36801147460938,
          98.17034912109376,
          98.0906753540039,
          97.85176849365234,
          97.60191345214844,
          96.6336441040039,
          96.10430908203124,
          95.69865417480467
         ],
         "yaxis": "y"
        },
        {
         "customdata": [
          [
           1800,
           80
          ],
          [
           1800,
           80
          ],
          [
           1800,
           20
          ],
          [
           1800,
           40
          ],
          [
           1800,
           20
          ],
          [
           1800,
           40
          ],
          [
           1800,
           10
          ],
          [
           1800,
           10
          ],
          [
           1800,
           5
          ],
          [
           1800,
           5
          ]
         ],
         "hovertemplate": "seq_len=40<br>est_direction=forward<br>est_type=RAND<br>index=%{x}<br>FIT=%{y}<br>max_time=%{customdata[0]}<br>seq_est_len=%{customdata[1]}<extra></extra>",
         "legendgroup": "40",
         "marker": {
          "color": "#EF553B",
          "symbol": "circle"
         },
         "mode": "markers",
         "name": "40",
         "orientation": "v",
         "showlegend": false,
         "type": "scatter",
         "x": [
          266,
          223,
          155,
          156,
          58,
          176,
          112,
          137,
          180,
          161
         ],
         "xaxis": "x2",
         "y": [
          98.63126373291016,
          98.3252182006836,
          97.8847885131836,
          97.77044677734376,
          97.71418762207033,
          97.3869171142578,
          95.2339859008789,
          94.74220275878906,
          94.56043243408205,
          94.1484832763672
         ],
         "yaxis": "y2"
        },
        {
         "customdata": [
          [
           1800,
           40
          ],
          [
           1800,
           5
          ],
          [
           1800,
           80
          ],
          [
           1800,
           10
          ],
          [
           1800,
           20
          ],
          [
           1800,
           20
          ],
          [
           1800,
           80
          ],
          [
           1800,
           40
          ],
          [
           1800,
           10
          ],
          [
           1800,
           5
          ]
         ],
         "hovertemplate": "seq_len=40<br>est_direction=forward<br>est_type=FF<br>index=%{x}<br>FIT=%{y}<br>max_time=%{customdata[0]}<br>seq_est_len=%{customdata[1]}<extra></extra>",
         "legendgroup": "40",
         "marker": {
          "color": "#EF553B",
          "symbol": "circle"
         },
         "mode": "markers",
         "name": "40",
         "orientation": "v",
         "showlegend": false,
         "type": "scatter",
         "x": [
          198,
          312,
          66,
          253,
          246,
          204,
          316,
          201,
          191,
          301
         ],
         "xaxis": "x3",
         "y": [
          97.96394348144533,
          97.93993377685548,
          97.82964324951172,
          97.81804656982422,
          97.64830017089844,
          97.62682342529295,
          97.54607391357422,
          97.3061294555664,
          97.18128967285156,
          95.65291595458984
         ],
         "yaxis": "y3"
        },
        {
         "customdata": [
          [
           1800,
           40
          ],
          [
           1800,
           80
          ],
          [
           1800,
           20
          ],
          [
           1800,
           40
          ],
          [
           1800,
           20
          ],
          [
           1800,
           80
          ],
          [
           1800,
           10
          ],
          [
           1800,
           5
          ],
          [
           1800,
           10
          ],
          [
           1800,
           5
          ]
         ],
         "hovertemplate": "seq_len=40<br>est_direction=forward<br>est_type=ZERO<br>index=%{x}<br>FIT=%{y}<br>max_time=%{customdata[0]}<br>seq_est_len=%{customdata[1]}<extra></extra>",
         "legendgroup": "40",
         "marker": {
          "color": "#EF553B",
          "symbol": "circle"
         },
         "mode": "markers",
         "name": "40",
         "orientation": "v",
         "showlegend": false,
         "type": "scatter",
         "x": [
          264,
          192,
          116,
          79,
          13,
          302,
          243,
          278,
          90,
          247
         ],
         "xaxis": "x4",
         "y": [
          98.3869400024414,
          98.08660888671876,
          97.90512084960938,
          97.8253173828125,
          97.79948425292967,
          97.77324676513672,
          95.65708923339844,
          95.51385498046876,
          95.1502456665039,
          94.07080078125
         ],
         "yaxis": "y4"
        },
        {
         "customdata": [
          [
           1800,
           80
          ],
          [
           1800,
           80
          ],
          [
           1800,
           10
          ],
          [
           1800,
           10
          ],
          [
           1800,
           40
          ],
          [
           1800,
           5
          ],
          [
           1800,
           20
          ],
          [
           1800,
           40
          ],
          [
           1800,
           20
          ],
          [
           1800,
           5
          ]
         ],
         "hovertemplate": "seq_len=160<br>est_direction=forward<br>est_type=LSTM<br>index=%{x}<br>FIT=%{y}<br>max_time=%{customdata[0]}<br>seq_est_len=%{customdata[1]}<extra></extra>",
         "legendgroup": "160",
         "marker": {
          "color": "#00cc96",
          "symbol": "circle"
         },
         "mode": "markers",
         "name": "160",
         "orientation": "v",
         "showlegend": true,
         "type": "scatter",
         "x": [
          118,
          134,
          86,
          62,
          143,
          16,
          217,
          281,
          110,
          212
         ],
         "xaxis": "x",
         "y": [
          98.07145690917967,
          97.89192199707033,
          97.72860717773438,
          97.48400115966795,
          97.47042083740234,
          97.40955352783205,
          97.25301361083984,
          96.26641845703124,
          96.2645492553711,
          95.85474395751952
         ],
         "yaxis": "y"
        },
        {
         "customdata": [
          [
           1800,
           20
          ],
          [
           1800,
           20
          ],
          [
           1800,
           40
          ],
          [
           1800,
           5
          ],
          [
           1800,
           40
          ],
          [
           1800,
           80
          ],
          [
           1800,
           5
          ],
          [
           1800,
           10
          ],
          [
           1800,
           10
          ],
          [
           1800,
           80
          ]
         ],
         "hovertemplate": "seq_len=160<br>est_direction=forward<br>est_type=RAND<br>index=%{x}<br>FIT=%{y}<br>max_time=%{customdata[0]}<br>seq_est_len=%{customdata[1]}<extra></extra>",
         "legendgroup": "160",
         "marker": {
          "color": "#00cc96",
          "symbol": "circle"
         },
         "mode": "markers",
         "name": "160",
         "orientation": "v",
         "showlegend": false,
         "type": "scatter",
         "x": [
          308,
          245,
          124,
          179,
          52,
          175,
          109,
          233,
          85,
          270
         ],
         "xaxis": "x2",
         "y": [
          97.70012664794922,
          97.69255828857422,
          97.64680480957033,
          97.44538879394533,
          97.43081665039062,
          96.83768463134766,
          96.5159149169922,
          96.50509643554688,
          96.4564208984375,
          95.9927215576172
         ],
         "yaxis": "y2"
        },
        {
         "customdata": [
          [
           1800,
           20
          ],
          [
           1800,
           10
          ],
          [
           1800,
           5
          ],
          [
           1800,
           20
          ],
          [
           1800,
           80
          ],
          [
           1800,
           40
          ],
          [
           1800,
           40
          ],
          [
           1800,
           10
          ],
          [
           1800,
           5
          ],
          [
           1800,
           80
          ]
         ],
         "hovertemplate": "seq_len=160<br>est_direction=forward<br>est_type=FF<br>index=%{x}<br>FIT=%{y}<br>max_time=%{customdata[0]}<br>seq_est_len=%{customdata[1]}<extra></extra>",
         "legendgroup": "160",
         "marker": {
          "color": "#00cc96",
          "symbol": "circle"
         },
         "mode": "markers",
         "name": "160",
         "orientation": "v",
         "showlegend": false,
         "type": "scatter",
         "x": [
          187,
          240,
          154,
          152,
          255,
          239,
          293,
          163,
          218,
          249
         ],
         "xaxis": "x3",
         "y": [
          98.07054138183594,
          97.8784637451172,
          97.8700180053711,
          97.55343627929688,
          97.48965454101562,
          97.47796630859376,
          96.87776184082033,
          96.55754089355467,
          96.09707641601562,
          95.53726959228516
         ],
         "yaxis": "y3"
        },
        {
         "customdata": [
          [
           1800,
           20
          ],
          [
           1800,
           80
          ],
          [
           1800,
           40
          ],
          [
           1800,
           40
          ],
          [
           1800,
           5
          ],
          [
           1800,
           20
          ],
          [
           1800,
           10
          ],
          [
           1800,
           80
          ],
          [
           1800,
           10
          ],
          [
           1800,
           5
          ]
         ],
         "hovertemplate": "seq_len=160<br>est_direction=forward<br>est_type=ZERO<br>index=%{x}<br>FIT=%{y}<br>max_time=%{customdata[0]}<br>seq_est_len=%{customdata[1]}<extra></extra>",
         "legendgroup": "160",
         "marker": {
          "color": "#00cc96",
          "symbol": "circle"
         },
         "mode": "markers",
         "name": "160",
         "orientation": "v",
         "showlegend": false,
         "type": "scatter",
         "x": [
          275,
          14,
          107,
          289,
          202,
          310,
          100,
          8,
          251,
          32
         ],
         "xaxis": "x4",
         "y": [
          98.1146240234375,
          97.9417724609375,
          97.85011291503906,
          97.64347076416016,
          97.5845184326172,
          97.50935363769533,
          97.32333374023438,
          96.87051391601562,
          96.4122085571289,
          96.1475830078125
         ],
         "yaxis": "y4"
        },
        {
         "customdata": [
          [
           1800,
           40
          ],
          [
           1800,
           20
          ],
          [
           1800,
           80
          ],
          [
           1800,
           40
          ],
          [
           1800,
           10
          ],
          [
           1800,
           10
          ],
          [
           1800,
           80
          ],
          [
           1800,
           20
          ],
          [
           1800,
           5
          ],
          [
           1800,
           5
          ]
         ],
         "hovertemplate": "seq_len=320<br>est_direction=forward<br>est_type=LSTM<br>index=%{x}<br>FIT=%{y}<br>max_time=%{customdata[0]}<br>seq_est_len=%{customdata[1]}<extra></extra>",
         "legendgroup": "320",
         "marker": {
          "color": "#ab63fa",
          "symbol": "circle"
         },
         "mode": "markers",
         "name": "320",
         "orientation": "v",
         "showlegend": true,
         "type": "scatter",
         "x": [
          216,
          113,
          59,
          299,
          97,
          248,
          80,
          122,
          313,
          111
         ],
         "xaxis": "x",
         "y": [
          98.09068298339844,
          97.66950225830078,
          97.43049621582033,
          97.3979949951172,
          97.0002670288086,
          96.8392105102539,
          96.18557739257812,
          96.1829605102539,
          95.94629669189452,
          95.38402557373048
         ],
         "yaxis": "y"
        },
        {
         "customdata": [
          [
           1800,
           40
          ],
          [
           1800,
           10
          ],
          [
           1800,
           5
          ],
          [
           1800,
           40
          ],
          [
           1800,
           20
          ],
          [
           1800,
           5
          ],
          [
           1800,
           10
          ],
          [
           1800,
           80
          ],
          [
           1800,
           20
          ],
          [
           1800,
           80
          ]
         ],
         "hovertemplate": "seq_len=320<br>est_direction=forward<br>est_type=RAND<br>index=%{x}<br>FIT=%{y}<br>max_time=%{customdata[0]}<br>seq_est_len=%{customdata[1]}<extra></extra>",
         "legendgroup": "320",
         "marker": {
          "color": "#ab63fa",
          "symbol": "circle"
         },
         "mode": "markers",
         "name": "320",
         "orientation": "v",
         "showlegend": false,
         "type": "scatter",
         "x": [
          236,
          274,
          12,
          268,
          284,
          145,
          159,
          46,
          162,
          148
         ],
         "xaxis": "x2",
         "y": [
          97.94824981689452,
          96.9705581665039,
          96.90203094482422,
          96.76874542236328,
          96.16373443603516,
          96.13246154785156,
          96.05696868896484,
          95.97135162353516,
          95.74044036865234,
          95.2103042602539
         ],
         "yaxis": "y2"
        },
        {
         "customdata": [
          [
           1800,
           5
          ],
          [
           1800,
           40
          ],
          [
           1800,
           20
          ],
          [
           1800,
           5
          ],
          [
           1800,
           10
          ],
          [
           1800,
           80
          ],
          [
           1800,
           20
          ],
          [
           1800,
           80
          ],
          [
           1800,
           40
          ],
          [
           1800,
           10
          ]
         ],
         "hovertemplate": "seq_len=320<br>est_direction=forward<br>est_type=FF<br>index=%{x}<br>FIT=%{y}<br>max_time=%{customdata[0]}<br>seq_est_len=%{customdata[1]}<extra></extra>",
         "legendgroup": "320",
         "marker": {
          "color": "#ab63fa",
          "symbol": "circle"
         },
         "mode": "markers",
         "name": "320",
         "orientation": "v",
         "showlegend": false,
         "type": "scatter",
         "x": [
          11,
          4,
          177,
          141,
          209,
          120,
          9,
          215,
          298,
          181
         ],
         "xaxis": "x3",
         "y": [
          97.27134704589844,
          97.1295928955078,
          96.89314270019533,
          96.34661865234376,
          96.25476837158205,
          96.1561050415039,
          96.11275482177734,
          95.85453033447266,
          95.7686538696289,
          95.63182830810548
         ],
         "yaxis": "y3"
        },
        {
         "customdata": [
          [
           1800,
           5
          ],
          [
           1800,
           10
          ],
          [
           1800,
           40
          ],
          [
           1800,
           80
          ],
          [
           1800,
           80
          ],
          [
           1800,
           5
          ],
          [
           1800,
           40
          ],
          [
           1800,
           10
          ],
          [
           1800,
           20
          ],
          [
           1800,
           20
          ]
         ],
         "hovertemplate": "seq_len=320<br>est_direction=forward<br>est_type=ZERO<br>index=%{x}<br>FIT=%{y}<br>max_time=%{customdata[0]}<br>seq_est_len=%{customdata[1]}<extra></extra>",
         "legendgroup": "320",
         "marker": {
          "color": "#ab63fa",
          "symbol": "circle"
         },
         "mode": "markers",
         "name": "320",
         "orientation": "v",
         "showlegend": false,
         "type": "scatter",
         "x": [
          221,
          17,
          88,
          261,
          34,
          48,
          76,
          71,
          294,
          36
         ],
         "xaxis": "x4",
         "y": [
          97.93425750732422,
          97.3876495361328,
          97.28376770019533,
          96.76813507080078,
          96.5406723022461,
          96.365234375,
          96.04610443115234,
          96.02403259277344,
          95.98303985595705,
          95.89978790283205
         ],
         "yaxis": "y4"
        }
       ],
       "layout": {
        "annotations": [
         {
          "font": {},
          "showarrow": false,
          "text": "est_type=LSTM",
          "x": 0.11499999999999999,
          "xanchor": "center",
          "xref": "paper",
          "y": 1,
          "yanchor": "bottom",
          "yref": "paper"
         },
         {
          "font": {},
          "showarrow": false,
          "text": "est_type=RAND",
          "x": 0.365,
          "xanchor": "center",
          "xref": "paper",
          "y": 1,
          "yanchor": "bottom",
          "yref": "paper"
         },
         {
          "font": {},
          "showarrow": false,
          "text": "est_type=FF",
          "x": 0.615,
          "xanchor": "center",
          "xref": "paper",
          "y": 1,
          "yanchor": "bottom",
          "yref": "paper"
         },
         {
          "font": {},
          "showarrow": false,
          "text": "est_type=ZERO",
          "x": 0.865,
          "xanchor": "center",
          "xref": "paper",
          "y": 1,
          "yanchor": "bottom",
          "yref": "paper"
         },
         {
          "font": {},
          "showarrow": false,
          "text": "est_direction=forward",
          "textangle": 90,
          "x": 0.98,
          "xanchor": "left",
          "xref": "paper",
          "y": 0.5,
          "yanchor": "middle",
          "yref": "paper"
         }
        ],
        "legend": {
         "title": {
          "text": "seq_len"
         },
         "tracegroupgap": 0
        },
        "margin": {
         "t": 60
        },
        "template": {
         "data": {
          "bar": [
           {
            "error_x": {
             "color": "#2a3f5f"
            },
            "error_y": {
             "color": "#2a3f5f"
            },
            "marker": {
             "line": {
              "color": "#E5ECF6",
              "width": 0.5
             },
             "pattern": {
              "fillmode": "overlay",
              "size": 10,
              "solidity": 0.2
             }
            },
            "type": "bar"
           }
          ],
          "barpolar": [
           {
            "marker": {
             "line": {
              "color": "#E5ECF6",
              "width": 0.5
             },
             "pattern": {
              "fillmode": "overlay",
              "size": 10,
              "solidity": 0.2
             }
            },
            "type": "barpolar"
           }
          ],
          "carpet": [
           {
            "aaxis": {
             "endlinecolor": "#2a3f5f",
             "gridcolor": "white",
             "linecolor": "white",
             "minorgridcolor": "white",
             "startlinecolor": "#2a3f5f"
            },
            "baxis": {
             "endlinecolor": "#2a3f5f",
             "gridcolor": "white",
             "linecolor": "white",
             "minorgridcolor": "white",
             "startlinecolor": "#2a3f5f"
            },
            "type": "carpet"
           }
          ],
          "choropleth": [
           {
            "colorbar": {
             "outlinewidth": 0,
             "ticks": ""
            },
            "type": "choropleth"
           }
          ],
          "contour": [
           {
            "colorbar": {
             "outlinewidth": 0,
             "ticks": ""
            },
            "colorscale": [
             [
              0,
              "#0d0887"
             ],
             [
              0.1111111111111111,
              "#46039f"
             ],
             [
              0.2222222222222222,
              "#7201a8"
             ],
             [
              0.3333333333333333,
              "#9c179e"
             ],
             [
              0.4444444444444444,
              "#bd3786"
             ],
             [
              0.5555555555555556,
              "#d8576b"
             ],
             [
              0.6666666666666666,
              "#ed7953"
             ],
             [
              0.7777777777777778,
              "#fb9f3a"
             ],
             [
              0.8888888888888888,
              "#fdca26"
             ],
             [
              1,
              "#f0f921"
             ]
            ],
            "type": "contour"
           }
          ],
          "contourcarpet": [
           {
            "colorbar": {
             "outlinewidth": 0,
             "ticks": ""
            },
            "type": "contourcarpet"
           }
          ],
          "heatmap": [
           {
            "colorbar": {
             "outlinewidth": 0,
             "ticks": ""
            },
            "colorscale": [
             [
              0,
              "#0d0887"
             ],
             [
              0.1111111111111111,
              "#46039f"
             ],
             [
              0.2222222222222222,
              "#7201a8"
             ],
             [
              0.3333333333333333,
              "#9c179e"
             ],
             [
              0.4444444444444444,
              "#bd3786"
             ],
             [
              0.5555555555555556,
              "#d8576b"
             ],
             [
              0.6666666666666666,
              "#ed7953"
             ],
             [
              0.7777777777777778,
              "#fb9f3a"
             ],
             [
              0.8888888888888888,
              "#fdca26"
             ],
             [
              1,
              "#f0f921"
             ]
            ],
            "type": "heatmap"
           }
          ],
          "heatmapgl": [
           {
            "colorbar": {
             "outlinewidth": 0,
             "ticks": ""
            },
            "colorscale": [
             [
              0,
              "#0d0887"
             ],
             [
              0.1111111111111111,
              "#46039f"
             ],
             [
              0.2222222222222222,
              "#7201a8"
             ],
             [
              0.3333333333333333,
              "#9c179e"
             ],
             [
              0.4444444444444444,
              "#bd3786"
             ],
             [
              0.5555555555555556,
              "#d8576b"
             ],
             [
              0.6666666666666666,
              "#ed7953"
             ],
             [
              0.7777777777777778,
              "#fb9f3a"
             ],
             [
              0.8888888888888888,
              "#fdca26"
             ],
             [
              1,
              "#f0f921"
             ]
            ],
            "type": "heatmapgl"
           }
          ],
          "histogram": [
           {
            "marker": {
             "pattern": {
              "fillmode": "overlay",
              "size": 10,
              "solidity": 0.2
             }
            },
            "type": "histogram"
           }
          ],
          "histogram2d": [
           {
            "colorbar": {
             "outlinewidth": 0,
             "ticks": ""
            },
            "colorscale": [
             [
              0,
              "#0d0887"
             ],
             [
              0.1111111111111111,
              "#46039f"
             ],
             [
              0.2222222222222222,
              "#7201a8"
             ],
             [
              0.3333333333333333,
              "#9c179e"
             ],
             [
              0.4444444444444444,
              "#bd3786"
             ],
             [
              0.5555555555555556,
              "#d8576b"
             ],
             [
              0.6666666666666666,
              "#ed7953"
             ],
             [
              0.7777777777777778,
              "#fb9f3a"
             ],
             [
              0.8888888888888888,
              "#fdca26"
             ],
             [
              1,
              "#f0f921"
             ]
            ],
            "type": "histogram2d"
           }
          ],
          "histogram2dcontour": [
           {
            "colorbar": {
             "outlinewidth": 0,
             "ticks": ""
            },
            "colorscale": [
             [
              0,
              "#0d0887"
             ],
             [
              0.1111111111111111,
              "#46039f"
             ],
             [
              0.2222222222222222,
              "#7201a8"
             ],
             [
              0.3333333333333333,
              "#9c179e"
             ],
             [
              0.4444444444444444,
              "#bd3786"
             ],
             [
              0.5555555555555556,
              "#d8576b"
             ],
             [
              0.6666666666666666,
              "#ed7953"
             ],
             [
              0.7777777777777778,
              "#fb9f3a"
             ],
             [
              0.8888888888888888,
              "#fdca26"
             ],
             [
              1,
              "#f0f921"
             ]
            ],
            "type": "histogram2dcontour"
           }
          ],
          "mesh3d": [
           {
            "colorbar": {
             "outlinewidth": 0,
             "ticks": ""
            },
            "type": "mesh3d"
           }
          ],
          "parcoords": [
           {
            "line": {
             "colorbar": {
              "outlinewidth": 0,
              "ticks": ""
             }
            },
            "type": "parcoords"
           }
          ],
          "pie": [
           {
            "automargin": true,
            "type": "pie"
           }
          ],
          "scatter": [
           {
            "marker": {
             "colorbar": {
              "outlinewidth": 0,
              "ticks": ""
             }
            },
            "type": "scatter"
           }
          ],
          "scatter3d": [
           {
            "line": {
             "colorbar": {
              "outlinewidth": 0,
              "ticks": ""
             }
            },
            "marker": {
             "colorbar": {
              "outlinewidth": 0,
              "ticks": ""
             }
            },
            "type": "scatter3d"
           }
          ],
          "scattercarpet": [
           {
            "marker": {
             "colorbar": {
              "outlinewidth": 0,
              "ticks": ""
             }
            },
            "type": "scattercarpet"
           }
          ],
          "scattergeo": [
           {
            "marker": {
             "colorbar": {
              "outlinewidth": 0,
              "ticks": ""
             }
            },
            "type": "scattergeo"
           }
          ],
          "scattergl": [
           {
            "marker": {
             "colorbar": {
              "outlinewidth": 0,
              "ticks": ""
             }
            },
            "type": "scattergl"
           }
          ],
          "scattermapbox": [
           {
            "marker": {
             "colorbar": {
              "outlinewidth": 0,
              "ticks": ""
             }
            },
            "type": "scattermapbox"
           }
          ],
          "scatterpolar": [
           {
            "marker": {
             "colorbar": {
              "outlinewidth": 0,
              "ticks": ""
             }
            },
            "type": "scatterpolar"
           }
          ],
          "scatterpolargl": [
           {
            "marker": {
             "colorbar": {
              "outlinewidth": 0,
              "ticks": ""
             }
            },
            "type": "scatterpolargl"
           }
          ],
          "scatterternary": [
           {
            "marker": {
             "colorbar": {
              "outlinewidth": 0,
              "ticks": ""
             }
            },
            "type": "scatterternary"
           }
          ],
          "surface": [
           {
            "colorbar": {
             "outlinewidth": 0,
             "ticks": ""
            },
            "colorscale": [
             [
              0,
              "#0d0887"
             ],
             [
              0.1111111111111111,
              "#46039f"
             ],
             [
              0.2222222222222222,
              "#7201a8"
             ],
             [
              0.3333333333333333,
              "#9c179e"
             ],
             [
              0.4444444444444444,
              "#bd3786"
             ],
             [
              0.5555555555555556,
              "#d8576b"
             ],
             [
              0.6666666666666666,
              "#ed7953"
             ],
             [
              0.7777777777777778,
              "#fb9f3a"
             ],
             [
              0.8888888888888888,
              "#fdca26"
             ],
             [
              1,
              "#f0f921"
             ]
            ],
            "type": "surface"
           }
          ],
          "table": [
           {
            "cells": {
             "fill": {
              "color": "#EBF0F8"
             },
             "line": {
              "color": "white"
             }
            },
            "header": {
             "fill": {
              "color": "#C8D4E3"
             },
             "line": {
              "color": "white"
             }
            },
            "type": "table"
           }
          ]
         },
         "layout": {
          "annotationdefaults": {
           "arrowcolor": "#2a3f5f",
           "arrowhead": 0,
           "arrowwidth": 1
          },
          "autotypenumbers": "strict",
          "coloraxis": {
           "colorbar": {
            "outlinewidth": 0,
            "ticks": ""
           }
          },
          "colorscale": {
           "diverging": [
            [
             0,
             "#8e0152"
            ],
            [
             0.1,
             "#c51b7d"
            ],
            [
             0.2,
             "#de77ae"
            ],
            [
             0.3,
             "#f1b6da"
            ],
            [
             0.4,
             "#fde0ef"
            ],
            [
             0.5,
             "#f7f7f7"
            ],
            [
             0.6,
             "#e6f5d0"
            ],
            [
             0.7,
             "#b8e186"
            ],
            [
             0.8,
             "#7fbc41"
            ],
            [
             0.9,
             "#4d9221"
            ],
            [
             1,
             "#276419"
            ]
           ],
           "sequential": [
            [
             0,
             "#0d0887"
            ],
            [
             0.1111111111111111,
             "#46039f"
            ],
            [
             0.2222222222222222,
             "#7201a8"
            ],
            [
             0.3333333333333333,
             "#9c179e"
            ],
            [
             0.4444444444444444,
             "#bd3786"
            ],
            [
             0.5555555555555556,
             "#d8576b"
            ],
            [
             0.6666666666666666,
             "#ed7953"
            ],
            [
             0.7777777777777778,
             "#fb9f3a"
            ],
            [
             0.8888888888888888,
             "#fdca26"
            ],
            [
             1,
             "#f0f921"
            ]
           ],
           "sequentialminus": [
            [
             0,
             "#0d0887"
            ],
            [
             0.1111111111111111,
             "#46039f"
            ],
            [
             0.2222222222222222,
             "#7201a8"
            ],
            [
             0.3333333333333333,
             "#9c179e"
            ],
            [
             0.4444444444444444,
             "#bd3786"
            ],
            [
             0.5555555555555556,
             "#d8576b"
            ],
            [
             0.6666666666666666,
             "#ed7953"
            ],
            [
             0.7777777777777778,
             "#fb9f3a"
            ],
            [
             0.8888888888888888,
             "#fdca26"
            ],
            [
             1,
             "#f0f921"
            ]
           ]
          },
          "colorway": [
           "#636efa",
           "#EF553B",
           "#00cc96",
           "#ab63fa",
           "#FFA15A",
           "#19d3f3",
           "#FF6692",
           "#B6E880",
           "#FF97FF",
           "#FECB52"
          ],
          "font": {
           "color": "#2a3f5f"
          },
          "geo": {
           "bgcolor": "white",
           "lakecolor": "white",
           "landcolor": "#E5ECF6",
           "showlakes": true,
           "showland": true,
           "subunitcolor": "white"
          },
          "hoverlabel": {
           "align": "left"
          },
          "hovermode": "closest",
          "mapbox": {
           "style": "light"
          },
          "paper_bgcolor": "white",
          "plot_bgcolor": "#E5ECF6",
          "polar": {
           "angularaxis": {
            "gridcolor": "white",
            "linecolor": "white",
            "ticks": ""
           },
           "bgcolor": "#E5ECF6",
           "radialaxis": {
            "gridcolor": "white",
            "linecolor": "white",
            "ticks": ""
           }
          },
          "scene": {
           "xaxis": {
            "backgroundcolor": "#E5ECF6",
            "gridcolor": "white",
            "gridwidth": 2,
            "linecolor": "white",
            "showbackground": true,
            "ticks": "",
            "zerolinecolor": "white"
           },
           "yaxis": {
            "backgroundcolor": "#E5ECF6",
            "gridcolor": "white",
            "gridwidth": 2,
            "linecolor": "white",
            "showbackground": true,
            "ticks": "",
            "zerolinecolor": "white"
           },
           "zaxis": {
            "backgroundcolor": "#E5ECF6",
            "gridcolor": "white",
            "gridwidth": 2,
            "linecolor": "white",
            "showbackground": true,
            "ticks": "",
            "zerolinecolor": "white"
           }
          },
          "shapedefaults": {
           "line": {
            "color": "#2a3f5f"
           }
          },
          "ternary": {
           "aaxis": {
            "gridcolor": "white",
            "linecolor": "white",
            "ticks": ""
           },
           "baxis": {
            "gridcolor": "white",
            "linecolor": "white",
            "ticks": ""
           },
           "bgcolor": "#E5ECF6",
           "caxis": {
            "gridcolor": "white",
            "linecolor": "white",
            "ticks": ""
           }
          },
          "title": {
           "x": 0.05
          },
          "xaxis": {
           "automargin": true,
           "gridcolor": "white",
           "linecolor": "white",
           "ticks": "",
           "title": {
            "standoff": 15
           },
           "zerolinecolor": "white",
           "zerolinewidth": 2
          },
          "yaxis": {
           "automargin": true,
           "gridcolor": "white",
           "linecolor": "white",
           "ticks": "",
           "title": {
            "standoff": 15
           },
           "zerolinecolor": "white",
           "zerolinewidth": 2
          }
         }
        },
        "xaxis": {
         "anchor": "y",
         "domain": [
          0,
          0.22999999999999998
         ],
         "title": {
          "text": "index"
         }
        },
        "xaxis2": {
         "anchor": "y2",
         "domain": [
          0.24999999999999997,
          0.48
         ],
         "matches": "x",
         "title": {
          "text": "index"
         }
        },
        "xaxis3": {
         "anchor": "y3",
         "domain": [
          0.49999999999999994,
          0.73
         ],
         "matches": "x",
         "title": {
          "text": "index"
         }
        },
        "xaxis4": {
         "anchor": "y4",
         "domain": [
          0.75,
          0.98
         ],
         "matches": "x",
         "title": {
          "text": "index"
         }
        },
        "yaxis": {
         "anchor": "x",
         "domain": [
          0,
          1
         ],
         "title": {
          "text": "FIT"
         }
        },
        "yaxis2": {
         "anchor": "x2",
         "domain": [
          0,
          1
         ],
         "matches": "y",
         "showticklabels": false
        },
        "yaxis3": {
         "anchor": "x3",
         "domain": [
          0,
          1
         ],
         "matches": "y",
         "showticklabels": false
        },
        "yaxis4": {
         "anchor": "x4",
         "domain": [
          0,
          1
         ],
         "matches": "y",
         "showticklabels": false
        }
       }
      },
      "text/html": [
       "<div>                            <div id=\"5b8d2d4e-42de-4f8a-9751-8c9fc8a12c5c\" class=\"plotly-graph-div\" style=\"height:525px; width:100%;\"></div>            <script type=\"text/javascript\">                require([\"plotly\"], function(Plotly) {                    window.PLOTLYENV=window.PLOTLYENV || {};                                    if (document.getElementById(\"5b8d2d4e-42de-4f8a-9751-8c9fc8a12c5c\")) {                    Plotly.newPlot(                        \"5b8d2d4e-42de-4f8a-9751-8c9fc8a12c5c\",                        [{\"customdata\":[[1800,40],[1800,80],[1800,5],[1800,20],[1800,10],[1800,20],[1800,40],[1800,5],[1800,80],[1800,10]],\"hovertemplate\":\"seq_len=80<br>est_direction=forward<br>est_type=LSTM<br>index=%{x}<br>FIT=%{y}<br>max_time=%{customdata[0]}<br>seq_est_len=%{customdata[1]}<extra></extra>\",\"legendgroup\":\"80\",\"marker\":{\"color\":\"#636efa\",\"symbol\":\"circle\"},\"mode\":\"markers\",\"name\":\"80\",\"orientation\":\"v\",\"showlegend\":true,\"x\":[283,190,297,77,67,195,26,241,168,23],\"xaxis\":\"x\",\"y\":[98.64527893066406,98.08438873291016,97.9993133544922,97.93087005615234,97.71719360351562,97.53484344482422,96.920166015625,96.81097412109376,96.10256958007812,95.60150146484376],\"yaxis\":\"y\",\"type\":\"scatter\"},{\"customdata\":[[1800,80],[1800,40],[1800,80],[1800,20],[1800,40],[1800,20],[1800,10],[1800,10],[1800,5],[1800,5]],\"hovertemplate\":\"seq_len=80<br>est_direction=forward<br>est_type=RAND<br>index=%{x}<br>FIT=%{y}<br>max_time=%{customdata[0]}<br>seq_est_len=%{customdata[1]}<extra></extra>\",\"legendgroup\":\"80\",\"marker\":{\"color\":\"#636efa\",\"symbol\":\"circle\"},\"mode\":\"markers\",\"name\":\"80\",\"orientation\":\"v\",\"showlegend\":false,\"x\":[235,87,45,3,271,199,123,196,108,185],\"xaxis\":\"x2\",\"y\":[98.36666107177734,98.09742736816406,97.94219970703124,97.77391815185548,97.70063018798828,97.44478607177734,96.4235382080078,96.39376068115234,96.15077209472656,96.0985870361328],\"yaxis\":\"y2\",\"type\":\"scatter\"},{\"customdata\":[[1800,10],[1800,20],[1800,5],[1800,40],[1800,20],[1800,80],[1800,10],[1800,40],[1800,5],[1800,80]],\"hovertemplate\":\"seq_len=80<br>est_direction=forward<br>est_type=FF<br>index=%{x}<br>FIT=%{y}<br>max_time=%{customdata[0]}<br>seq_est_len=%{customdata[1]}<extra></extra>\",\"legendgroup\":\"80\",\"marker\":{\"color\":\"#636efa\",\"symbol\":\"circle\"},\"mode\":\"markers\",\"name\":\"80\",\"orientation\":\"v\",\"showlegend\":false,\"x\":[84,244,39,300,231,160,252,165,318,260],\"xaxis\":\"x3\",\"y\":[98.476806640625,98.1449203491211,98.0041275024414,97.8598403930664,97.64810180664062,97.59656524658205,96.46327209472656,96.40754699707033,96.24866485595705,96.20995330810548],\"yaxis\":\"y3\",\"type\":\"scatter\"},{\"customdata\":[[1800,80],[1800,40],[1800,20],[1800,80],[1800,20],[1800,10],[1800,40],[1800,10],[1800,5],[1800,5]],\"hovertemplate\":\"seq_len=80<br>est_direction=forward<br>est_type=ZERO<br>index=%{x}<br>FIT=%{y}<br>max_time=%{customdata[0]}<br>seq_est_len=%{customdata[1]}<extra></extra>\",\"legendgroup\":\"80\",\"marker\":{\"color\":\"#636efa\",\"symbol\":\"circle\"},\"mode\":\"markers\",\"name\":\"80\",\"orientation\":\"v\",\"showlegend\":false,\"x\":[94,42,60,5,20,136,28,19,272,49],\"xaxis\":\"x4\",\"y\":[98.45506286621094,98.26323699951172,98.1899871826172,97.89822387695312,97.73961639404295,97.47483825683594,97.36407470703124,97.31390380859376,96.23986053466795,96.1969757080078],\"yaxis\":\"y4\",\"type\":\"scatter\"},{\"customdata\":[[1800,10],[1800,20],[1800,20],[1800,40],[1800,40],[1800,80],[1800,10],[1800,80],[1800,5],[1800,5]],\"hovertemplate\":\"seq_len=40<br>est_direction=forward<br>est_type=LSTM<br>index=%{x}<br>FIT=%{y}<br>max_time=%{customdata[0]}<br>seq_est_len=%{customdata[1]}<extra></extra>\",\"legendgroup\":\"40\",\"marker\":{\"color\":\"#EF553B\",\"symbol\":\"circle\"},\"mode\":\"markers\",\"name\":\"40\",\"orientation\":\"v\",\"showlegend\":true,\"x\":[33,92,65,0,286,227,15,171,53,230],\"xaxis\":\"x\",\"y\":[98.57345581054688,98.4964828491211,98.36801147460938,98.17034912109376,98.0906753540039,97.85176849365234,97.60191345214844,96.6336441040039,96.10430908203124,95.69865417480467],\"yaxis\":\"y\",\"type\":\"scatter\"},{\"customdata\":[[1800,80],[1800,80],[1800,20],[1800,40],[1800,20],[1800,40],[1800,10],[1800,10],[1800,5],[1800,5]],\"hovertemplate\":\"seq_len=40<br>est_direction=forward<br>est_type=RAND<br>index=%{x}<br>FIT=%{y}<br>max_time=%{customdata[0]}<br>seq_est_len=%{customdata[1]}<extra></extra>\",\"legendgroup\":\"40\",\"marker\":{\"color\":\"#EF553B\",\"symbol\":\"circle\"},\"mode\":\"markers\",\"name\":\"40\",\"orientation\":\"v\",\"showlegend\":false,\"x\":[266,223,155,156,58,176,112,137,180,161],\"xaxis\":\"x2\",\"y\":[98.63126373291016,98.3252182006836,97.8847885131836,97.77044677734376,97.71418762207033,97.3869171142578,95.2339859008789,94.74220275878906,94.56043243408205,94.1484832763672],\"yaxis\":\"y2\",\"type\":\"scatter\"},{\"customdata\":[[1800,40],[1800,5],[1800,80],[1800,10],[1800,20],[1800,20],[1800,80],[1800,40],[1800,10],[1800,5]],\"hovertemplate\":\"seq_len=40<br>est_direction=forward<br>est_type=FF<br>index=%{x}<br>FIT=%{y}<br>max_time=%{customdata[0]}<br>seq_est_len=%{customdata[1]}<extra></extra>\",\"legendgroup\":\"40\",\"marker\":{\"color\":\"#EF553B\",\"symbol\":\"circle\"},\"mode\":\"markers\",\"name\":\"40\",\"orientation\":\"v\",\"showlegend\":false,\"x\":[198,312,66,253,246,204,316,201,191,301],\"xaxis\":\"x3\",\"y\":[97.96394348144533,97.93993377685548,97.82964324951172,97.81804656982422,97.64830017089844,97.62682342529295,97.54607391357422,97.3061294555664,97.18128967285156,95.65291595458984],\"yaxis\":\"y3\",\"type\":\"scatter\"},{\"customdata\":[[1800,40],[1800,80],[1800,20],[1800,40],[1800,20],[1800,80],[1800,10],[1800,5],[1800,10],[1800,5]],\"hovertemplate\":\"seq_len=40<br>est_direction=forward<br>est_type=ZERO<br>index=%{x}<br>FIT=%{y}<br>max_time=%{customdata[0]}<br>seq_est_len=%{customdata[1]}<extra></extra>\",\"legendgroup\":\"40\",\"marker\":{\"color\":\"#EF553B\",\"symbol\":\"circle\"},\"mode\":\"markers\",\"name\":\"40\",\"orientation\":\"v\",\"showlegend\":false,\"x\":[264,192,116,79,13,302,243,278,90,247],\"xaxis\":\"x4\",\"y\":[98.3869400024414,98.08660888671876,97.90512084960938,97.8253173828125,97.79948425292967,97.77324676513672,95.65708923339844,95.51385498046876,95.1502456665039,94.07080078125],\"yaxis\":\"y4\",\"type\":\"scatter\"},{\"customdata\":[[1800,80],[1800,80],[1800,10],[1800,10],[1800,40],[1800,5],[1800,20],[1800,40],[1800,20],[1800,5]],\"hovertemplate\":\"seq_len=160<br>est_direction=forward<br>est_type=LSTM<br>index=%{x}<br>FIT=%{y}<br>max_time=%{customdata[0]}<br>seq_est_len=%{customdata[1]}<extra></extra>\",\"legendgroup\":\"160\",\"marker\":{\"color\":\"#00cc96\",\"symbol\":\"circle\"},\"mode\":\"markers\",\"name\":\"160\",\"orientation\":\"v\",\"showlegend\":true,\"x\":[118,134,86,62,143,16,217,281,110,212],\"xaxis\":\"x\",\"y\":[98.07145690917967,97.89192199707033,97.72860717773438,97.48400115966795,97.47042083740234,97.40955352783205,97.25301361083984,96.26641845703124,96.2645492553711,95.85474395751952],\"yaxis\":\"y\",\"type\":\"scatter\"},{\"customdata\":[[1800,20],[1800,20],[1800,40],[1800,5],[1800,40],[1800,80],[1800,5],[1800,10],[1800,10],[1800,80]],\"hovertemplate\":\"seq_len=160<br>est_direction=forward<br>est_type=RAND<br>index=%{x}<br>FIT=%{y}<br>max_time=%{customdata[0]}<br>seq_est_len=%{customdata[1]}<extra></extra>\",\"legendgroup\":\"160\",\"marker\":{\"color\":\"#00cc96\",\"symbol\":\"circle\"},\"mode\":\"markers\",\"name\":\"160\",\"orientation\":\"v\",\"showlegend\":false,\"x\":[308,245,124,179,52,175,109,233,85,270],\"xaxis\":\"x2\",\"y\":[97.70012664794922,97.69255828857422,97.64680480957033,97.44538879394533,97.43081665039062,96.83768463134766,96.5159149169922,96.50509643554688,96.4564208984375,95.9927215576172],\"yaxis\":\"y2\",\"type\":\"scatter\"},{\"customdata\":[[1800,20],[1800,10],[1800,5],[1800,20],[1800,80],[1800,40],[1800,40],[1800,10],[1800,5],[1800,80]],\"hovertemplate\":\"seq_len=160<br>est_direction=forward<br>est_type=FF<br>index=%{x}<br>FIT=%{y}<br>max_time=%{customdata[0]}<br>seq_est_len=%{customdata[1]}<extra></extra>\",\"legendgroup\":\"160\",\"marker\":{\"color\":\"#00cc96\",\"symbol\":\"circle\"},\"mode\":\"markers\",\"name\":\"160\",\"orientation\":\"v\",\"showlegend\":false,\"x\":[187,240,154,152,255,239,293,163,218,249],\"xaxis\":\"x3\",\"y\":[98.07054138183594,97.8784637451172,97.8700180053711,97.55343627929688,97.48965454101562,97.47796630859376,96.87776184082033,96.55754089355467,96.09707641601562,95.53726959228516],\"yaxis\":\"y3\",\"type\":\"scatter\"},{\"customdata\":[[1800,20],[1800,80],[1800,40],[1800,40],[1800,5],[1800,20],[1800,10],[1800,80],[1800,10],[1800,5]],\"hovertemplate\":\"seq_len=160<br>est_direction=forward<br>est_type=ZERO<br>index=%{x}<br>FIT=%{y}<br>max_time=%{customdata[0]}<br>seq_est_len=%{customdata[1]}<extra></extra>\",\"legendgroup\":\"160\",\"marker\":{\"color\":\"#00cc96\",\"symbol\":\"circle\"},\"mode\":\"markers\",\"name\":\"160\",\"orientation\":\"v\",\"showlegend\":false,\"x\":[275,14,107,289,202,310,100,8,251,32],\"xaxis\":\"x4\",\"y\":[98.1146240234375,97.9417724609375,97.85011291503906,97.64347076416016,97.5845184326172,97.50935363769533,97.32333374023438,96.87051391601562,96.4122085571289,96.1475830078125],\"yaxis\":\"y4\",\"type\":\"scatter\"},{\"customdata\":[[1800,40],[1800,20],[1800,80],[1800,40],[1800,10],[1800,10],[1800,80],[1800,20],[1800,5],[1800,5]],\"hovertemplate\":\"seq_len=320<br>est_direction=forward<br>est_type=LSTM<br>index=%{x}<br>FIT=%{y}<br>max_time=%{customdata[0]}<br>seq_est_len=%{customdata[1]}<extra></extra>\",\"legendgroup\":\"320\",\"marker\":{\"color\":\"#ab63fa\",\"symbol\":\"circle\"},\"mode\":\"markers\",\"name\":\"320\",\"orientation\":\"v\",\"showlegend\":true,\"x\":[216,113,59,299,97,248,80,122,313,111],\"xaxis\":\"x\",\"y\":[98.09068298339844,97.66950225830078,97.43049621582033,97.3979949951172,97.0002670288086,96.8392105102539,96.18557739257812,96.1829605102539,95.94629669189452,95.38402557373048],\"yaxis\":\"y\",\"type\":\"scatter\"},{\"customdata\":[[1800,40],[1800,10],[1800,5],[1800,40],[1800,20],[1800,5],[1800,10],[1800,80],[1800,20],[1800,80]],\"hovertemplate\":\"seq_len=320<br>est_direction=forward<br>est_type=RAND<br>index=%{x}<br>FIT=%{y}<br>max_time=%{customdata[0]}<br>seq_est_len=%{customdata[1]}<extra></extra>\",\"legendgroup\":\"320\",\"marker\":{\"color\":\"#ab63fa\",\"symbol\":\"circle\"},\"mode\":\"markers\",\"name\":\"320\",\"orientation\":\"v\",\"showlegend\":false,\"x\":[236,274,12,268,284,145,159,46,162,148],\"xaxis\":\"x2\",\"y\":[97.94824981689452,96.9705581665039,96.90203094482422,96.76874542236328,96.16373443603516,96.13246154785156,96.05696868896484,95.97135162353516,95.74044036865234,95.2103042602539],\"yaxis\":\"y2\",\"type\":\"scatter\"},{\"customdata\":[[1800,5],[1800,40],[1800,20],[1800,5],[1800,10],[1800,80],[1800,20],[1800,80],[1800,40],[1800,10]],\"hovertemplate\":\"seq_len=320<br>est_direction=forward<br>est_type=FF<br>index=%{x}<br>FIT=%{y}<br>max_time=%{customdata[0]}<br>seq_est_len=%{customdata[1]}<extra></extra>\",\"legendgroup\":\"320\",\"marker\":{\"color\":\"#ab63fa\",\"symbol\":\"circle\"},\"mode\":\"markers\",\"name\":\"320\",\"orientation\":\"v\",\"showlegend\":false,\"x\":[11,4,177,141,209,120,9,215,298,181],\"xaxis\":\"x3\",\"y\":[97.27134704589844,97.1295928955078,96.89314270019533,96.34661865234376,96.25476837158205,96.1561050415039,96.11275482177734,95.85453033447266,95.7686538696289,95.63182830810548],\"yaxis\":\"y3\",\"type\":\"scatter\"},{\"customdata\":[[1800,5],[1800,10],[1800,40],[1800,80],[1800,80],[1800,5],[1800,40],[1800,10],[1800,20],[1800,20]],\"hovertemplate\":\"seq_len=320<br>est_direction=forward<br>est_type=ZERO<br>index=%{x}<br>FIT=%{y}<br>max_time=%{customdata[0]}<br>seq_est_len=%{customdata[1]}<extra></extra>\",\"legendgroup\":\"320\",\"marker\":{\"color\":\"#ab63fa\",\"symbol\":\"circle\"},\"mode\":\"markers\",\"name\":\"320\",\"orientation\":\"v\",\"showlegend\":false,\"x\":[221,17,88,261,34,48,76,71,294,36],\"xaxis\":\"x4\",\"y\":[97.93425750732422,97.3876495361328,97.28376770019533,96.76813507080078,96.5406723022461,96.365234375,96.04610443115234,96.02403259277344,95.98303985595705,95.89978790283205],\"yaxis\":\"y4\",\"type\":\"scatter\"}],                        {\"template\":{\"data\":{\"bar\":[{\"error_x\":{\"color\":\"#2a3f5f\"},\"error_y\":{\"color\":\"#2a3f5f\"},\"marker\":{\"line\":{\"color\":\"#E5ECF6\",\"width\":0.5},\"pattern\":{\"fillmode\":\"overlay\",\"size\":10,\"solidity\":0.2}},\"type\":\"bar\"}],\"barpolar\":[{\"marker\":{\"line\":{\"color\":\"#E5ECF6\",\"width\":0.5},\"pattern\":{\"fillmode\":\"overlay\",\"size\":10,\"solidity\":0.2}},\"type\":\"barpolar\"}],\"carpet\":[{\"aaxis\":{\"endlinecolor\":\"#2a3f5f\",\"gridcolor\":\"white\",\"linecolor\":\"white\",\"minorgridcolor\":\"white\",\"startlinecolor\":\"#2a3f5f\"},\"baxis\":{\"endlinecolor\":\"#2a3f5f\",\"gridcolor\":\"white\",\"linecolor\":\"white\",\"minorgridcolor\":\"white\",\"startlinecolor\":\"#2a3f5f\"},\"type\":\"carpet\"}],\"choropleth\":[{\"colorbar\":{\"outlinewidth\":0,\"ticks\":\"\"},\"type\":\"choropleth\"}],\"contour\":[{\"colorbar\":{\"outlinewidth\":0,\"ticks\":\"\"},\"colorscale\":[[0.0,\"#0d0887\"],[0.1111111111111111,\"#46039f\"],[0.2222222222222222,\"#7201a8\"],[0.3333333333333333,\"#9c179e\"],[0.4444444444444444,\"#bd3786\"],[0.5555555555555556,\"#d8576b\"],[0.6666666666666666,\"#ed7953\"],[0.7777777777777778,\"#fb9f3a\"],[0.8888888888888888,\"#fdca26\"],[1.0,\"#f0f921\"]],\"type\":\"contour\"}],\"contourcarpet\":[{\"colorbar\":{\"outlinewidth\":0,\"ticks\":\"\"},\"type\":\"contourcarpet\"}],\"heatmap\":[{\"colorbar\":{\"outlinewidth\":0,\"ticks\":\"\"},\"colorscale\":[[0.0,\"#0d0887\"],[0.1111111111111111,\"#46039f\"],[0.2222222222222222,\"#7201a8\"],[0.3333333333333333,\"#9c179e\"],[0.4444444444444444,\"#bd3786\"],[0.5555555555555556,\"#d8576b\"],[0.6666666666666666,\"#ed7953\"],[0.7777777777777778,\"#fb9f3a\"],[0.8888888888888888,\"#fdca26\"],[1.0,\"#f0f921\"]],\"type\":\"heatmap\"}],\"heatmapgl\":[{\"colorbar\":{\"outlinewidth\":0,\"ticks\":\"\"},\"colorscale\":[[0.0,\"#0d0887\"],[0.1111111111111111,\"#46039f\"],[0.2222222222222222,\"#7201a8\"],[0.3333333333333333,\"#9c179e\"],[0.4444444444444444,\"#bd3786\"],[0.5555555555555556,\"#d8576b\"],[0.6666666666666666,\"#ed7953\"],[0.7777777777777778,\"#fb9f3a\"],[0.8888888888888888,\"#fdca26\"],[1.0,\"#f0f921\"]],\"type\":\"heatmapgl\"}],\"histogram\":[{\"marker\":{\"pattern\":{\"fillmode\":\"overlay\",\"size\":10,\"solidity\":0.2}},\"type\":\"histogram\"}],\"histogram2d\":[{\"colorbar\":{\"outlinewidth\":0,\"ticks\":\"\"},\"colorscale\":[[0.0,\"#0d0887\"],[0.1111111111111111,\"#46039f\"],[0.2222222222222222,\"#7201a8\"],[0.3333333333333333,\"#9c179e\"],[0.4444444444444444,\"#bd3786\"],[0.5555555555555556,\"#d8576b\"],[0.6666666666666666,\"#ed7953\"],[0.7777777777777778,\"#fb9f3a\"],[0.8888888888888888,\"#fdca26\"],[1.0,\"#f0f921\"]],\"type\":\"histogram2d\"}],\"histogram2dcontour\":[{\"colorbar\":{\"outlinewidth\":0,\"ticks\":\"\"},\"colorscale\":[[0.0,\"#0d0887\"],[0.1111111111111111,\"#46039f\"],[0.2222222222222222,\"#7201a8\"],[0.3333333333333333,\"#9c179e\"],[0.4444444444444444,\"#bd3786\"],[0.5555555555555556,\"#d8576b\"],[0.6666666666666666,\"#ed7953\"],[0.7777777777777778,\"#fb9f3a\"],[0.8888888888888888,\"#fdca26\"],[1.0,\"#f0f921\"]],\"type\":\"histogram2dcontour\"}],\"mesh3d\":[{\"colorbar\":{\"outlinewidth\":0,\"ticks\":\"\"},\"type\":\"mesh3d\"}],\"parcoords\":[{\"line\":{\"colorbar\":{\"outlinewidth\":0,\"ticks\":\"\"}},\"type\":\"parcoords\"}],\"pie\":[{\"automargin\":true,\"type\":\"pie\"}],\"scatter\":[{\"marker\":{\"colorbar\":{\"outlinewidth\":0,\"ticks\":\"\"}},\"type\":\"scatter\"}],\"scatter3d\":[{\"line\":{\"colorbar\":{\"outlinewidth\":0,\"ticks\":\"\"}},\"marker\":{\"colorbar\":{\"outlinewidth\":0,\"ticks\":\"\"}},\"type\":\"scatter3d\"}],\"scattercarpet\":[{\"marker\":{\"colorbar\":{\"outlinewidth\":0,\"ticks\":\"\"}},\"type\":\"scattercarpet\"}],\"scattergeo\":[{\"marker\":{\"colorbar\":{\"outlinewidth\":0,\"ticks\":\"\"}},\"type\":\"scattergeo\"}],\"scattergl\":[{\"marker\":{\"colorbar\":{\"outlinewidth\":0,\"ticks\":\"\"}},\"type\":\"scattergl\"}],\"scattermapbox\":[{\"marker\":{\"colorbar\":{\"outlinewidth\":0,\"ticks\":\"\"}},\"type\":\"scattermapbox\"}],\"scatterpolar\":[{\"marker\":{\"colorbar\":{\"outlinewidth\":0,\"ticks\":\"\"}},\"type\":\"scatterpolar\"}],\"scatterpolargl\":[{\"marker\":{\"colorbar\":{\"outlinewidth\":0,\"ticks\":\"\"}},\"type\":\"scatterpolargl\"}],\"scatterternary\":[{\"marker\":{\"colorbar\":{\"outlinewidth\":0,\"ticks\":\"\"}},\"type\":\"scatterternary\"}],\"surface\":[{\"colorbar\":{\"outlinewidth\":0,\"ticks\":\"\"},\"colorscale\":[[0.0,\"#0d0887\"],[0.1111111111111111,\"#46039f\"],[0.2222222222222222,\"#7201a8\"],[0.3333333333333333,\"#9c179e\"],[0.4444444444444444,\"#bd3786\"],[0.5555555555555556,\"#d8576b\"],[0.6666666666666666,\"#ed7953\"],[0.7777777777777778,\"#fb9f3a\"],[0.8888888888888888,\"#fdca26\"],[1.0,\"#f0f921\"]],\"type\":\"surface\"}],\"table\":[{\"cells\":{\"fill\":{\"color\":\"#EBF0F8\"},\"line\":{\"color\":\"white\"}},\"header\":{\"fill\":{\"color\":\"#C8D4E3\"},\"line\":{\"color\":\"white\"}},\"type\":\"table\"}]},\"layout\":{\"annotationdefaults\":{\"arrowcolor\":\"#2a3f5f\",\"arrowhead\":0,\"arrowwidth\":1},\"autotypenumbers\":\"strict\",\"coloraxis\":{\"colorbar\":{\"outlinewidth\":0,\"ticks\":\"\"}},\"colorscale\":{\"diverging\":[[0,\"#8e0152\"],[0.1,\"#c51b7d\"],[0.2,\"#de77ae\"],[0.3,\"#f1b6da\"],[0.4,\"#fde0ef\"],[0.5,\"#f7f7f7\"],[0.6,\"#e6f5d0\"],[0.7,\"#b8e186\"],[0.8,\"#7fbc41\"],[0.9,\"#4d9221\"],[1,\"#276419\"]],\"sequential\":[[0.0,\"#0d0887\"],[0.1111111111111111,\"#46039f\"],[0.2222222222222222,\"#7201a8\"],[0.3333333333333333,\"#9c179e\"],[0.4444444444444444,\"#bd3786\"],[0.5555555555555556,\"#d8576b\"],[0.6666666666666666,\"#ed7953\"],[0.7777777777777778,\"#fb9f3a\"],[0.8888888888888888,\"#fdca26\"],[1.0,\"#f0f921\"]],\"sequentialminus\":[[0.0,\"#0d0887\"],[0.1111111111111111,\"#46039f\"],[0.2222222222222222,\"#7201a8\"],[0.3333333333333333,\"#9c179e\"],[0.4444444444444444,\"#bd3786\"],[0.5555555555555556,\"#d8576b\"],[0.6666666666666666,\"#ed7953\"],[0.7777777777777778,\"#fb9f3a\"],[0.8888888888888888,\"#fdca26\"],[1.0,\"#f0f921\"]]},\"colorway\":[\"#636efa\",\"#EF553B\",\"#00cc96\",\"#ab63fa\",\"#FFA15A\",\"#19d3f3\",\"#FF6692\",\"#B6E880\",\"#FF97FF\",\"#FECB52\"],\"font\":{\"color\":\"#2a3f5f\"},\"geo\":{\"bgcolor\":\"white\",\"lakecolor\":\"white\",\"landcolor\":\"#E5ECF6\",\"showlakes\":true,\"showland\":true,\"subunitcolor\":\"white\"},\"hoverlabel\":{\"align\":\"left\"},\"hovermode\":\"closest\",\"mapbox\":{\"style\":\"light\"},\"paper_bgcolor\":\"white\",\"plot_bgcolor\":\"#E5ECF6\",\"polar\":{\"angularaxis\":{\"gridcolor\":\"white\",\"linecolor\":\"white\",\"ticks\":\"\"},\"bgcolor\":\"#E5ECF6\",\"radialaxis\":{\"gridcolor\":\"white\",\"linecolor\":\"white\",\"ticks\":\"\"}},\"scene\":{\"xaxis\":{\"backgroundcolor\":\"#E5ECF6\",\"gridcolor\":\"white\",\"gridwidth\":2,\"linecolor\":\"white\",\"showbackground\":true,\"ticks\":\"\",\"zerolinecolor\":\"white\"},\"yaxis\":{\"backgroundcolor\":\"#E5ECF6\",\"gridcolor\":\"white\",\"gridwidth\":2,\"linecolor\":\"white\",\"showbackground\":true,\"ticks\":\"\",\"zerolinecolor\":\"white\"},\"zaxis\":{\"backgroundcolor\":\"#E5ECF6\",\"gridcolor\":\"white\",\"gridwidth\":2,\"linecolor\":\"white\",\"showbackground\":true,\"ticks\":\"\",\"zerolinecolor\":\"white\"}},\"shapedefaults\":{\"line\":{\"color\":\"#2a3f5f\"}},\"ternary\":{\"aaxis\":{\"gridcolor\":\"white\",\"linecolor\":\"white\",\"ticks\":\"\"},\"baxis\":{\"gridcolor\":\"white\",\"linecolor\":\"white\",\"ticks\":\"\"},\"bgcolor\":\"#E5ECF6\",\"caxis\":{\"gridcolor\":\"white\",\"linecolor\":\"white\",\"ticks\":\"\"}},\"title\":{\"x\":0.05},\"xaxis\":{\"automargin\":true,\"gridcolor\":\"white\",\"linecolor\":\"white\",\"ticks\":\"\",\"title\":{\"standoff\":15},\"zerolinecolor\":\"white\",\"zerolinewidth\":2},\"yaxis\":{\"automargin\":true,\"gridcolor\":\"white\",\"linecolor\":\"white\",\"ticks\":\"\",\"title\":{\"standoff\":15},\"zerolinecolor\":\"white\",\"zerolinewidth\":2}}},\"xaxis\":{\"anchor\":\"y\",\"domain\":[0.0,0.22999999999999998],\"title\":{\"text\":\"index\"}},\"yaxis\":{\"anchor\":\"x\",\"domain\":[0.0,1.0],\"title\":{\"text\":\"FIT\"}},\"xaxis2\":{\"anchor\":\"y2\",\"domain\":[0.24999999999999997,0.48],\"matches\":\"x\",\"title\":{\"text\":\"index\"}},\"yaxis2\":{\"anchor\":\"x2\",\"domain\":[0.0,1.0],\"matches\":\"y\",\"showticklabels\":false},\"xaxis3\":{\"anchor\":\"y3\",\"domain\":[0.49999999999999994,0.73],\"matches\":\"x\",\"title\":{\"text\":\"index\"}},\"yaxis3\":{\"anchor\":\"x3\",\"domain\":[0.0,1.0],\"matches\":\"y\",\"showticklabels\":false},\"xaxis4\":{\"anchor\":\"y4\",\"domain\":[0.75,0.98],\"matches\":\"x\",\"title\":{\"text\":\"index\"}},\"yaxis4\":{\"anchor\":\"x4\",\"domain\":[0.0,1.0],\"matches\":\"y\",\"showticklabels\":false},\"annotations\":[{\"font\":{},\"showarrow\":false,\"text\":\"est_type=LSTM\",\"x\":0.11499999999999999,\"xanchor\":\"center\",\"xref\":\"paper\",\"y\":1.0,\"yanchor\":\"bottom\",\"yref\":\"paper\"},{\"font\":{},\"showarrow\":false,\"text\":\"est_type=RAND\",\"x\":0.365,\"xanchor\":\"center\",\"xref\":\"paper\",\"y\":1.0,\"yanchor\":\"bottom\",\"yref\":\"paper\"},{\"font\":{},\"showarrow\":false,\"text\":\"est_type=FF\",\"x\":0.615,\"xanchor\":\"center\",\"xref\":\"paper\",\"y\":1.0,\"yanchor\":\"bottom\",\"yref\":\"paper\"},{\"font\":{},\"showarrow\":false,\"text\":\"est_type=ZERO\",\"x\":0.865,\"xanchor\":\"center\",\"xref\":\"paper\",\"y\":1.0,\"yanchor\":\"bottom\",\"yref\":\"paper\"},{\"font\":{},\"showarrow\":false,\"text\":\"est_direction=forward\",\"textangle\":90,\"x\":0.98,\"xanchor\":\"left\",\"xref\":\"paper\",\"y\":0.5,\"yanchor\":\"middle\",\"yref\":\"paper\"}],\"legend\":{\"title\":{\"text\":\"seq_len\"},\"tracegroupgap\":0},\"margin\":{\"t\":60}},                        {\"responsive\": true}                    ).then(function(){\n",
       "                            \n",
       "var gd = document.getElementById('5b8d2d4e-42de-4f8a-9751-8c9fc8a12c5c');\n",
       "var x = new MutationObserver(function (mutations, observer) {{\n",
       "        var display = window.getComputedStyle(gd).display;\n",
       "        if (!display || display === 'none') {{\n",
       "            console.log([gd, 'removed!']);\n",
       "            Plotly.purge(gd);\n",
       "            observer.disconnect();\n",
       "        }}\n",
       "}});\n",
       "\n",
       "// Listen for the removal of the full notebook cells\n",
       "var notebookContainer = gd.closest('#notebook-container');\n",
       "if (notebookContainer) {{\n",
       "    x.observe(notebookContainer, {childList: true});\n",
       "}}\n",
       "\n",
       "// Listen for the clearing of the current output cell\n",
       "var outputEl = gd.closest('.output');\n",
       "if (outputEl) {{\n",
       "    x.observe(outputEl, {childList: true});\n",
       "}}\n",
       "\n",
       "                        })                };                });            </script>        </div>"
      ]
     },
     "metadata": {},
     "output_type": "display_data"
    }
   ],
   "source": [
    "fig = px.scatter(df_30min, y=\"FIT\",\n",
    "                 facet_col=\"est_type\", facet_row=\"est_direction\", color=\"seq_len\",\n",
    "                 hover_data=[\"max_time\", \"seq_est_len\"])\n",
    "fig.show()"
   ]
  },
  {
   "cell_type": "code",
   "execution_count": 25,
   "id": "e1357319",
   "metadata": {},
   "outputs": [
    {
     "data": {
      "image/png": "[encoded data removed]",
      "text/plain": [
       "<Figure size 900x360 with 5 Axes>"
      ]
     },
     "metadata": {
      "needs_background": "light"
     },
     "output_type": "display_data"
    }
   ],
   "source": [
    "# Full results: main effects\n",
    "g = sns.PairGrid(df_30min, y_vars=response,\n",
    "                 x_vars=factors,\n",
    "                 height=5, aspect=.5)\n",
    "g.map(sns.pointplot, scale=1.3)\n",
    "sns.despine(fig=g.fig, left=True)"
   ]
  },
  {
   "cell_type": "code",
   "execution_count": 26,
   "id": "6bde6329",
   "metadata": {
    "scrolled": true
   },
   "outputs": [
    {
     "data": {
      "image/png": "[encoded data removed]",
      "text/plain": [
       "<Figure size 900x360 with 5 Axes>"
      ]
     },
     "metadata": {
      "needs_background": "light"
     },
     "output_type": "display_data"
    }
   ],
   "source": [
    "# Full results: main effects\n",
    "g = sns.PairGrid(df_res, y_vars=response,\n",
    "                 x_vars=factors,\n",
    "                 height=5, aspect=.5)\n",
    "g.map(sns.boxplot)\n",
    "g.set(ylim=(80, 100))\n",
    "sns.despine(fig=g.fig, left=True)"
   ]
  },
  {
   "cell_type": "code",
   "execution_count": 27,
   "id": "1c3a8587",
   "metadata": {},
   "outputs": [
    {
     "data": {
      "image/png": "[encoded data removed]",
      "text/plain": [
       "<Figure size 900x360 with 5 Axes>"
      ]
     },
     "metadata": {
      "needs_background": "light"
     },
     "output_type": "display_data"
    }
   ],
   "source": [
    "# Full results: main effects\n",
    "g = sns.PairGrid(df_30min, y_vars=response,\n",
    "                 x_vars=factors,\n",
    "                 height=5, aspect=.5)\n",
    "g.map(sns.boxplot)\n",
    "g.set(ylim=(90, 100))\n",
    "sns.despine(fig=g.fig, left=True)"
   ]
  },
  {
   "cell_type": "code",
   "execution_count": 28,
   "id": "cded0c6f",
   "metadata": {},
   "outputs": [
    {
     "data": {
      "text/html": [
       "<div>\n",
       "<style scoped>\n",
       "    .dataframe tbody tr th:only-of-type {\n",
       "        vertical-align: middle;\n",
       "    }\n",
       "\n",
       "    .dataframe tbody tr th {\n",
       "        vertical-align: top;\n",
       "    }\n",
       "\n",
       "    .dataframe thead th {\n",
       "        text-align: right;\n",
       "    }\n",
       "</style>\n",
       "<table border=\"1\" class=\"dataframe\">\n",
       "  <thead>\n",
       "    <tr style=\"text-align: right;\">\n",
       "      <th></th>\n",
       "      <th>experiment_id</th>\n",
       "      <th>lr</th>\n",
       "      <th>epochs</th>\n",
       "      <th>max_time</th>\n",
       "      <th>batch_size</th>\n",
       "      <th>seq_len</th>\n",
       "      <th>seq_est_len</th>\n",
       "      <th>est_direction</th>\n",
       "      <th>est_type</th>\n",
       "      <th>est_hidden_size</th>\n",
       "      <th>seed</th>\n",
       "      <th>FIT</th>\n",
       "      <th>RMSE</th>\n",
       "    </tr>\n",
       "  </thead>\n",
       "  <tbody>\n",
       "    <tr>\n",
       "      <th>149</th>\n",
       "      <td>272</td>\n",
       "      <td>0.001</td>\n",
       "      <td>10000</td>\n",
       "      <td>300</td>\n",
       "      <td>128</td>\n",
       "      <td>40</td>\n",
       "      <td>20</td>\n",
       "      <td>forward</td>\n",
       "      <td>RAND</td>\n",
       "      <td>15</td>\n",
       "      <td>281</td>\n",
       "      <td>96.115372</td>\n",
       "      <td>9.289994</td>\n",
       "    </tr>\n",
       "    <tr>\n",
       "      <th>41</th>\n",
       "      <td>48</td>\n",
       "      <td>0.001</td>\n",
       "      <td>10000</td>\n",
       "      <td>300</td>\n",
       "      <td>128</td>\n",
       "      <td>40</td>\n",
       "      <td>40</td>\n",
       "      <td>forward</td>\n",
       "      <td>LSTM</td>\n",
       "      <td>15</td>\n",
       "      <td>74</td>\n",
       "      <td>95.732155</td>\n",
       "      <td>10.206436</td>\n",
       "    </tr>\n",
       "    <tr>\n",
       "      <th>307</th>\n",
       "      <td>288</td>\n",
       "      <td>0.001</td>\n",
       "      <td>10000</td>\n",
       "      <td>300</td>\n",
       "      <td>128</td>\n",
       "      <td>40</td>\n",
       "      <td>40</td>\n",
       "      <td>forward</td>\n",
       "      <td>RAND</td>\n",
       "      <td>15</td>\n",
       "      <td>289</td>\n",
       "      <td>95.653473</td>\n",
       "      <td>10.394597</td>\n",
       "    </tr>\n",
       "    <tr>\n",
       "      <th>21</th>\n",
       "      <td>192</td>\n",
       "      <td>0.001</td>\n",
       "      <td>10000</td>\n",
       "      <td>300</td>\n",
       "      <td>128</td>\n",
       "      <td>40</td>\n",
       "      <td>20</td>\n",
       "      <td>forward</td>\n",
       "      <td>ZERO</td>\n",
       "      <td>15</td>\n",
       "      <td>10</td>\n",
       "      <td>95.600990</td>\n",
       "      <td>10.520106</td>\n",
       "    </tr>\n",
       "    <tr>\n",
       "      <th>2</th>\n",
       "      <td>212</td>\n",
       "      <td>0.001</td>\n",
       "      <td>10000</td>\n",
       "      <td>300</td>\n",
       "      <td>128</td>\n",
       "      <td>80</td>\n",
       "      <td>40</td>\n",
       "      <td>forward</td>\n",
       "      <td>ZERO</td>\n",
       "      <td>15</td>\n",
       "      <td>218</td>\n",
       "      <td>95.505180</td>\n",
       "      <td>10.749226</td>\n",
       "    </tr>\n",
       "    <tr>\n",
       "      <th>51</th>\n",
       "      <td>116</td>\n",
       "      <td>0.001</td>\n",
       "      <td>10000</td>\n",
       "      <td>300</td>\n",
       "      <td>128</td>\n",
       "      <td>80</td>\n",
       "      <td>20</td>\n",
       "      <td>forward</td>\n",
       "      <td>FF</td>\n",
       "      <td>15</td>\n",
       "      <td>35</td>\n",
       "      <td>95.474228</td>\n",
       "      <td>10.823257</td>\n",
       "    </tr>\n",
       "    <tr>\n",
       "      <th>105</th>\n",
       "      <td>180</td>\n",
       "      <td>0.001</td>\n",
       "      <td>10000</td>\n",
       "      <td>300</td>\n",
       "      <td>128</td>\n",
       "      <td>80</td>\n",
       "      <td>10</td>\n",
       "      <td>forward</td>\n",
       "      <td>ZERO</td>\n",
       "      <td>15</td>\n",
       "      <td>19</td>\n",
       "      <td>95.470009</td>\n",
       "      <td>10.833365</td>\n",
       "    </tr>\n",
       "    <tr>\n",
       "      <th>224</th>\n",
       "      <td>68</td>\n",
       "      <td>0.001</td>\n",
       "      <td>10000</td>\n",
       "      <td>300</td>\n",
       "      <td>128</td>\n",
       "      <td>80</td>\n",
       "      <td>80</td>\n",
       "      <td>forward</td>\n",
       "      <td>LSTM</td>\n",
       "      <td>15</td>\n",
       "      <td>5</td>\n",
       "      <td>95.436821</td>\n",
       "      <td>10.912728</td>\n",
       "    </tr>\n",
       "    <tr>\n",
       "      <th>254</th>\n",
       "      <td>20</td>\n",
       "      <td>0.001</td>\n",
       "      <td>10000</td>\n",
       "      <td>300</td>\n",
       "      <td>128</td>\n",
       "      <td>80</td>\n",
       "      <td>10</td>\n",
       "      <td>forward</td>\n",
       "      <td>LSTM</td>\n",
       "      <td>15</td>\n",
       "      <td>286</td>\n",
       "      <td>95.413406</td>\n",
       "      <td>10.968713</td>\n",
       "    </tr>\n",
       "    <tr>\n",
       "      <th>10</th>\n",
       "      <td>196</td>\n",
       "      <td>0.001</td>\n",
       "      <td>10000</td>\n",
       "      <td>300</td>\n",
       "      <td>128</td>\n",
       "      <td>80</td>\n",
       "      <td>20</td>\n",
       "      <td>forward</td>\n",
       "      <td>ZERO</td>\n",
       "      <td>15</td>\n",
       "      <td>41</td>\n",
       "      <td>95.321213</td>\n",
       "      <td>11.189187</td>\n",
       "    </tr>\n",
       "    <tr>\n",
       "      <th>150</th>\n",
       "      <td>96</td>\n",
       "      <td>0.001</td>\n",
       "      <td>10000</td>\n",
       "      <td>300</td>\n",
       "      <td>128</td>\n",
       "      <td>40</td>\n",
       "      <td>10</td>\n",
       "      <td>forward</td>\n",
       "      <td>FF</td>\n",
       "      <td>15</td>\n",
       "      <td>213</td>\n",
       "      <td>95.317520</td>\n",
       "      <td>11.198032</td>\n",
       "    </tr>\n",
       "    <tr>\n",
       "      <th>54</th>\n",
       "      <td>144</td>\n",
       "      <td>0.001</td>\n",
       "      <td>10000</td>\n",
       "      <td>300</td>\n",
       "      <td>128</td>\n",
       "      <td>40</td>\n",
       "      <td>80</td>\n",
       "      <td>forward</td>\n",
       "      <td>FF</td>\n",
       "      <td>15</td>\n",
       "      <td>291</td>\n",
       "      <td>95.212181</td>\n",
       "      <td>11.449941</td>\n",
       "    </tr>\n",
       "    <tr>\n",
       "      <th>125</th>\n",
       "      <td>80</td>\n",
       "      <td>0.001</td>\n",
       "      <td>10000</td>\n",
       "      <td>300</td>\n",
       "      <td>128</td>\n",
       "      <td>40</td>\n",
       "      <td>5</td>\n",
       "      <td>forward</td>\n",
       "      <td>FF</td>\n",
       "      <td>15</td>\n",
       "      <td>198</td>\n",
       "      <td>95.169724</td>\n",
       "      <td>11.551478</td>\n",
       "    </tr>\n",
       "    <tr>\n",
       "      <th>222</th>\n",
       "      <td>112</td>\n",
       "      <td>0.001</td>\n",
       "      <td>10000</td>\n",
       "      <td>300</td>\n",
       "      <td>128</td>\n",
       "      <td>40</td>\n",
       "      <td>20</td>\n",
       "      <td>forward</td>\n",
       "      <td>FF</td>\n",
       "      <td>15</td>\n",
       "      <td>303</td>\n",
       "      <td>95.167007</td>\n",
       "      <td>11.557959</td>\n",
       "    </tr>\n",
       "    <tr>\n",
       "      <th>164</th>\n",
       "      <td>210</td>\n",
       "      <td>0.001</td>\n",
       "      <td>10000</td>\n",
       "      <td>300</td>\n",
       "      <td>1024</td>\n",
       "      <td>40</td>\n",
       "      <td>40</td>\n",
       "      <td>forward</td>\n",
       "      <td>ZERO</td>\n",
       "      <td>15</td>\n",
       "      <td>187</td>\n",
       "      <td>95.149895</td>\n",
       "      <td>11.598901</td>\n",
       "    </tr>\n",
       "    <tr>\n",
       "      <th>83</th>\n",
       "      <td>64</td>\n",
       "      <td>0.001</td>\n",
       "      <td>10000</td>\n",
       "      <td>300</td>\n",
       "      <td>128</td>\n",
       "      <td>40</td>\n",
       "      <td>80</td>\n",
       "      <td>forward</td>\n",
       "      <td>LSTM</td>\n",
       "      <td>15</td>\n",
       "      <td>209</td>\n",
       "      <td>95.136330</td>\n",
       "      <td>11.631339</td>\n",
       "    </tr>\n",
       "    <tr>\n",
       "      <th>259</th>\n",
       "      <td>292</td>\n",
       "      <td>0.001</td>\n",
       "      <td>10000</td>\n",
       "      <td>300</td>\n",
       "      <td>128</td>\n",
       "      <td>80</td>\n",
       "      <td>40</td>\n",
       "      <td>forward</td>\n",
       "      <td>RAND</td>\n",
       "      <td>15</td>\n",
       "      <td>177</td>\n",
       "      <td>95.126457</td>\n",
       "      <td>11.654954</td>\n",
       "    </tr>\n",
       "    <tr>\n",
       "      <th>147</th>\n",
       "      <td>32</td>\n",
       "      <td>0.001</td>\n",
       "      <td>10000</td>\n",
       "      <td>300</td>\n",
       "      <td>128</td>\n",
       "      <td>40</td>\n",
       "      <td>20</td>\n",
       "      <td>forward</td>\n",
       "      <td>LSTM</td>\n",
       "      <td>15</td>\n",
       "      <td>152</td>\n",
       "      <td>95.045937</td>\n",
       "      <td>11.847509</td>\n",
       "    </tr>\n",
       "    <tr>\n",
       "      <th>234</th>\n",
       "      <td>164</td>\n",
       "      <td>0.001</td>\n",
       "      <td>10000</td>\n",
       "      <td>300</td>\n",
       "      <td>128</td>\n",
       "      <td>80</td>\n",
       "      <td>5</td>\n",
       "      <td>forward</td>\n",
       "      <td>ZERO</td>\n",
       "      <td>15</td>\n",
       "      <td>253</td>\n",
       "      <td>94.973534</td>\n",
       "      <td>12.020661</td>\n",
       "    </tr>\n",
       "    <tr>\n",
       "      <th>258</th>\n",
       "      <td>100</td>\n",
       "      <td>0.001</td>\n",
       "      <td>10000</td>\n",
       "      <td>300</td>\n",
       "      <td>128</td>\n",
       "      <td>80</td>\n",
       "      <td>10</td>\n",
       "      <td>forward</td>\n",
       "      <td>FF</td>\n",
       "      <td>15</td>\n",
       "      <td>250</td>\n",
       "      <td>94.955513</td>\n",
       "      <td>12.063748</td>\n",
       "    </tr>\n",
       "  </tbody>\n",
       "</table>\n",
       "</div>"
      ],
      "text/plain": [
       "     experiment_id     lr  epochs max_time batch_size seq_len seq_est_len  \\\n",
       "149            272  0.001   10000      300        128      40          20   \n",
       "41              48  0.001   10000      300        128      40          40   \n",
       "307            288  0.001   10000      300        128      40          40   \n",
       "21             192  0.001   10000      300        128      40          20   \n",
       "2              212  0.001   10000      300        128      80          40   \n",
       "51             116  0.001   10000      300        128      80          20   \n",
       "105            180  0.001   10000      300        128      80          10   \n",
       "224             68  0.001   10000      300        128      80          80   \n",
       "254             20  0.001   10000      300        128      80          10   \n",
       "10             196  0.001   10000      300        128      80          20   \n",
       "150             96  0.001   10000      300        128      40          10   \n",
       "54             144  0.001   10000      300        128      40          80   \n",
       "125             80  0.001   10000      300        128      40           5   \n",
       "222            112  0.001   10000      300        128      40          20   \n",
       "164            210  0.001   10000      300       1024      40          40   \n",
       "83              64  0.001   10000      300        128      40          80   \n",
       "259            292  0.001   10000      300        128      80          40   \n",
       "147             32  0.001   10000      300        128      40          20   \n",
       "234            164  0.001   10000      300        128      80           5   \n",
       "258            100  0.001   10000      300        128      80          10   \n",
       "\n",
       "    est_direction est_type  est_hidden_size  seed        FIT       RMSE  \n",
       "149       forward     RAND               15   281  96.115372   9.289994  \n",
       "41        forward     LSTM               15    74  95.732155  10.206436  \n",
       "307       forward     RAND               15   289  95.653473  10.394597  \n",
       "21        forward     ZERO               15    10  95.600990  10.520106  \n",
       "2         forward     ZERO               15   218  95.505180  10.749226  \n",
       "51        forward       FF               15    35  95.474228  10.823257  \n",
       "105       forward     ZERO               15    19  95.470009  10.833365  \n",
       "224       forward     LSTM               15     5  95.436821  10.912728  \n",
       "254       forward     LSTM               15   286  95.413406  10.968713  \n",
       "10        forward     ZERO               15    41  95.321213  11.189187  \n",
       "150       forward       FF               15   213  95.317520  11.198032  \n",
       "54        forward       FF               15   291  95.212181  11.449941  \n",
       "125       forward       FF               15   198  95.169724  11.551478  \n",
       "222       forward       FF               15   303  95.167007  11.557959  \n",
       "164       forward     ZERO               15   187  95.149895  11.598901  \n",
       "83        forward     LSTM               15   209  95.136330  11.631339  \n",
       "259       forward     RAND               15   177  95.126457  11.654954  \n",
       "147       forward     LSTM               15   152  95.045937  11.847509  \n",
       "234       forward     ZERO               15   253  94.973534  12.020661  \n",
       "258       forward       FF               15   250  94.955513  12.063748  "
      ]
     },
     "execution_count": 28,
     "metadata": {},
     "output_type": "execute_result"
    }
   ],
   "source": [
    "df_5min.head(20)"
   ]
  },
  {
   "cell_type": "code",
   "execution_count": 29,
   "id": "07b0abb3",
   "metadata": {},
   "outputs": [
    {
     "data": {
      "text/html": [
       "<div>\n",
       "<style scoped>\n",
       "    .dataframe tbody tr th:only-of-type {\n",
       "        vertical-align: middle;\n",
       "    }\n",
       "\n",
       "    .dataframe tbody tr th {\n",
       "        vertical-align: top;\n",
       "    }\n",
       "\n",
       "    .dataframe thead th {\n",
       "        text-align: right;\n",
       "    }\n",
       "</style>\n",
       "<table border=\"1\" class=\"dataframe\">\n",
       "  <thead>\n",
       "    <tr style=\"text-align: right;\">\n",
       "      <th></th>\n",
       "      <th>experiment_id</th>\n",
       "      <th>lr</th>\n",
       "      <th>epochs</th>\n",
       "      <th>max_time</th>\n",
       "      <th>batch_size</th>\n",
       "      <th>seq_len</th>\n",
       "      <th>seq_est_len</th>\n",
       "      <th>est_direction</th>\n",
       "      <th>est_type</th>\n",
       "      <th>est_hidden_size</th>\n",
       "      <th>seed</th>\n",
       "      <th>FIT</th>\n",
       "      <th>RMSE</th>\n",
       "    </tr>\n",
       "  </thead>\n",
       "  <tbody>\n",
       "    <tr>\n",
       "      <th>33</th>\n",
       "      <td>17</td>\n",
       "      <td>0.001</td>\n",
       "      <td>10000</td>\n",
       "      <td>1800</td>\n",
       "      <td>128</td>\n",
       "      <td>40</td>\n",
       "      <td>10</td>\n",
       "      <td>forward</td>\n",
       "      <td>LSTM</td>\n",
       "      <td>15</td>\n",
       "      <td>271</td>\n",
       "      <td>98.573456</td>\n",
       "      <td>3.411554</td>\n",
       "    </tr>\n",
       "    <tr>\n",
       "      <th>84</th>\n",
       "      <td>103</td>\n",
       "      <td>0.001</td>\n",
       "      <td>10000</td>\n",
       "      <td>1800</td>\n",
       "      <td>1024</td>\n",
       "      <td>80</td>\n",
       "      <td>10</td>\n",
       "      <td>forward</td>\n",
       "      <td>FF</td>\n",
       "      <td>15</td>\n",
       "      <td>311</td>\n",
       "      <td>98.476807</td>\n",
       "      <td>3.642673</td>\n",
       "    </tr>\n",
       "    <tr>\n",
       "      <th>240</th>\n",
       "      <td>105</td>\n",
       "      <td>0.001</td>\n",
       "      <td>10000</td>\n",
       "      <td>1800</td>\n",
       "      <td>128</td>\n",
       "      <td>160</td>\n",
       "      <td>10</td>\n",
       "      <td>forward</td>\n",
       "      <td>FF</td>\n",
       "      <td>15</td>\n",
       "      <td>54</td>\n",
       "      <td>97.878464</td>\n",
       "      <td>5.073600</td>\n",
       "    </tr>\n",
       "    <tr>\n",
       "      <th>253</th>\n",
       "      <td>97</td>\n",
       "      <td>0.001</td>\n",
       "      <td>10000</td>\n",
       "      <td>1800</td>\n",
       "      <td>128</td>\n",
       "      <td>40</td>\n",
       "      <td>10</td>\n",
       "      <td>forward</td>\n",
       "      <td>FF</td>\n",
       "      <td>15</td>\n",
       "      <td>262</td>\n",
       "      <td>97.818047</td>\n",
       "      <td>5.218078</td>\n",
       "    </tr>\n",
       "    <tr>\n",
       "      <th>86</th>\n",
       "      <td>27</td>\n",
       "      <td>0.001</td>\n",
       "      <td>10000</td>\n",
       "      <td>1800</td>\n",
       "      <td>1024</td>\n",
       "      <td>160</td>\n",
       "      <td>10</td>\n",
       "      <td>forward</td>\n",
       "      <td>LSTM</td>\n",
       "      <td>15</td>\n",
       "      <td>7</td>\n",
       "      <td>97.728607</td>\n",
       "      <td>5.431982</td>\n",
       "    </tr>\n",
       "    <tr>\n",
       "      <th>67</th>\n",
       "      <td>21</td>\n",
       "      <td>0.001</td>\n",
       "      <td>10000</td>\n",
       "      <td>1800</td>\n",
       "      <td>128</td>\n",
       "      <td>80</td>\n",
       "      <td>10</td>\n",
       "      <td>forward</td>\n",
       "      <td>LSTM</td>\n",
       "      <td>15</td>\n",
       "      <td>158</td>\n",
       "      <td>97.717194</td>\n",
       "      <td>5.459263</td>\n",
       "    </tr>\n",
       "    <tr>\n",
       "      <th>15</th>\n",
       "      <td>19</td>\n",
       "      <td>0.001</td>\n",
       "      <td>10000</td>\n",
       "      <td>1800</td>\n",
       "      <td>1024</td>\n",
       "      <td>40</td>\n",
       "      <td>10</td>\n",
       "      <td>forward</td>\n",
       "      <td>LSTM</td>\n",
       "      <td>15</td>\n",
       "      <td>26</td>\n",
       "      <td>97.601913</td>\n",
       "      <td>5.734950</td>\n",
       "    </tr>\n",
       "    <tr>\n",
       "      <th>62</th>\n",
       "      <td>25</td>\n",
       "      <td>0.001</td>\n",
       "      <td>10000</td>\n",
       "      <td>1800</td>\n",
       "      <td>128</td>\n",
       "      <td>160</td>\n",
       "      <td>10</td>\n",
       "      <td>forward</td>\n",
       "      <td>LSTM</td>\n",
       "      <td>15</td>\n",
       "      <td>200</td>\n",
       "      <td>97.484001</td>\n",
       "      <td>6.016933</td>\n",
       "    </tr>\n",
       "    <tr>\n",
       "      <th>136</th>\n",
       "      <td>181</td>\n",
       "      <td>0.001</td>\n",
       "      <td>10000</td>\n",
       "      <td>1800</td>\n",
       "      <td>128</td>\n",
       "      <td>80</td>\n",
       "      <td>10</td>\n",
       "      <td>forward</td>\n",
       "      <td>ZERO</td>\n",
       "      <td>15</td>\n",
       "      <td>273</td>\n",
       "      <td>97.474838</td>\n",
       "      <td>6.038855</td>\n",
       "    </tr>\n",
       "    <tr>\n",
       "      <th>17</th>\n",
       "      <td>191</td>\n",
       "      <td>0.001</td>\n",
       "      <td>10000</td>\n",
       "      <td>1800</td>\n",
       "      <td>1024</td>\n",
       "      <td>320</td>\n",
       "      <td>10</td>\n",
       "      <td>forward</td>\n",
       "      <td>ZERO</td>\n",
       "      <td>15</td>\n",
       "      <td>86</td>\n",
       "      <td>97.387650</td>\n",
       "      <td>6.247364</td>\n",
       "    </tr>\n",
       "    <tr>\n",
       "      <th>100</th>\n",
       "      <td>187</td>\n",
       "      <td>0.001</td>\n",
       "      <td>10000</td>\n",
       "      <td>1800</td>\n",
       "      <td>1024</td>\n",
       "      <td>160</td>\n",
       "      <td>10</td>\n",
       "      <td>forward</td>\n",
       "      <td>ZERO</td>\n",
       "      <td>15</td>\n",
       "      <td>2</td>\n",
       "      <td>97.323334</td>\n",
       "      <td>6.401179</td>\n",
       "    </tr>\n",
       "    <tr>\n",
       "      <th>19</th>\n",
       "      <td>183</td>\n",
       "      <td>0.001</td>\n",
       "      <td>10000</td>\n",
       "      <td>1800</td>\n",
       "      <td>1024</td>\n",
       "      <td>80</td>\n",
       "      <td>10</td>\n",
       "      <td>forward</td>\n",
       "      <td>ZERO</td>\n",
       "      <td>15</td>\n",
       "      <td>182</td>\n",
       "      <td>97.313904</td>\n",
       "      <td>6.423717</td>\n",
       "    </tr>\n",
       "    <tr>\n",
       "      <th>191</th>\n",
       "      <td>99</td>\n",
       "      <td>0.001</td>\n",
       "      <td>10000</td>\n",
       "      <td>1800</td>\n",
       "      <td>1024</td>\n",
       "      <td>40</td>\n",
       "      <td>10</td>\n",
       "      <td>forward</td>\n",
       "      <td>FF</td>\n",
       "      <td>15</td>\n",
       "      <td>89</td>\n",
       "      <td>97.181290</td>\n",
       "      <td>6.740870</td>\n",
       "    </tr>\n",
       "    <tr>\n",
       "      <th>97</th>\n",
       "      <td>31</td>\n",
       "      <td>0.001</td>\n",
       "      <td>10000</td>\n",
       "      <td>1800</td>\n",
       "      <td>1024</td>\n",
       "      <td>320</td>\n",
       "      <td>10</td>\n",
       "      <td>forward</td>\n",
       "      <td>LSTM</td>\n",
       "      <td>15</td>\n",
       "      <td>22</td>\n",
       "      <td>97.000267</td>\n",
       "      <td>7.173786</td>\n",
       "    </tr>\n",
       "    <tr>\n",
       "      <th>274</th>\n",
       "      <td>269</td>\n",
       "      <td>0.001</td>\n",
       "      <td>10000</td>\n",
       "      <td>1800</td>\n",
       "      <td>128</td>\n",
       "      <td>320</td>\n",
       "      <td>10</td>\n",
       "      <td>forward</td>\n",
       "      <td>RAND</td>\n",
       "      <td>15</td>\n",
       "      <td>283</td>\n",
       "      <td>96.970558</td>\n",
       "      <td>7.244830</td>\n",
       "    </tr>\n",
       "    <tr>\n",
       "      <th>248</th>\n",
       "      <td>29</td>\n",
       "      <td>0.001</td>\n",
       "      <td>10000</td>\n",
       "      <td>1800</td>\n",
       "      <td>128</td>\n",
       "      <td>320</td>\n",
       "      <td>10</td>\n",
       "      <td>forward</td>\n",
       "      <td>LSTM</td>\n",
       "      <td>15</td>\n",
       "      <td>230</td>\n",
       "      <td>96.839211</td>\n",
       "      <td>7.558956</td>\n",
       "    </tr>\n",
       "    <tr>\n",
       "      <th>163</th>\n",
       "      <td>107</td>\n",
       "      <td>0.001</td>\n",
       "      <td>10000</td>\n",
       "      <td>1800</td>\n",
       "      <td>1024</td>\n",
       "      <td>160</td>\n",
       "      <td>10</td>\n",
       "      <td>forward</td>\n",
       "      <td>FF</td>\n",
       "      <td>15</td>\n",
       "      <td>260</td>\n",
       "      <td>96.557541</td>\n",
       "      <td>8.232550</td>\n",
       "    </tr>\n",
       "    <tr>\n",
       "      <th>233</th>\n",
       "      <td>267</td>\n",
       "      <td>0.001</td>\n",
       "      <td>10000</td>\n",
       "      <td>1800</td>\n",
       "      <td>1024</td>\n",
       "      <td>160</td>\n",
       "      <td>10</td>\n",
       "      <td>forward</td>\n",
       "      <td>RAND</td>\n",
       "      <td>15</td>\n",
       "      <td>57</td>\n",
       "      <td>96.505096</td>\n",
       "      <td>8.357972</td>\n",
       "    </tr>\n",
       "    <tr>\n",
       "      <th>252</th>\n",
       "      <td>101</td>\n",
       "      <td>0.001</td>\n",
       "      <td>10000</td>\n",
       "      <td>1800</td>\n",
       "      <td>128</td>\n",
       "      <td>80</td>\n",
       "      <td>10</td>\n",
       "      <td>forward</td>\n",
       "      <td>FF</td>\n",
       "      <td>15</td>\n",
       "      <td>27</td>\n",
       "      <td>96.463272</td>\n",
       "      <td>8.458002</td>\n",
       "    </tr>\n",
       "    <tr>\n",
       "      <th>85</th>\n",
       "      <td>265</td>\n",
       "      <td>0.001</td>\n",
       "      <td>10000</td>\n",
       "      <td>1800</td>\n",
       "      <td>128</td>\n",
       "      <td>160</td>\n",
       "      <td>10</td>\n",
       "      <td>forward</td>\n",
       "      <td>RAND</td>\n",
       "      <td>15</td>\n",
       "      <td>82</td>\n",
       "      <td>96.456421</td>\n",
       "      <td>8.474379</td>\n",
       "    </tr>\n",
       "  </tbody>\n",
       "</table>\n",
       "</div>"
      ],
      "text/plain": [
       "     experiment_id     lr  epochs max_time batch_size seq_len seq_est_len  \\\n",
       "33              17  0.001   10000     1800        128      40          10   \n",
       "84             103  0.001   10000     1800       1024      80          10   \n",
       "240            105  0.001   10000     1800        128     160          10   \n",
       "253             97  0.001   10000     1800        128      40          10   \n",
       "86              27  0.001   10000     1800       1024     160          10   \n",
       "67              21  0.001   10000     1800        128      80          10   \n",
       "15              19  0.001   10000     1800       1024      40          10   \n",
       "62              25  0.001   10000     1800        128     160          10   \n",
       "136            181  0.001   10000     1800        128      80          10   \n",
       "17             191  0.001   10000     1800       1024     320          10   \n",
       "100            187  0.001   10000     1800       1024     160          10   \n",
       "19             183  0.001   10000     1800       1024      80          10   \n",
       "191             99  0.001   10000     1800       1024      40          10   \n",
       "97              31  0.001   10000     1800       1024     320          10   \n",
       "274            269  0.001   10000     1800        128     320          10   \n",
       "248             29  0.001   10000     1800        128     320          10   \n",
       "163            107  0.001   10000     1800       1024     160          10   \n",
       "233            267  0.001   10000     1800       1024     160          10   \n",
       "252            101  0.001   10000     1800        128      80          10   \n",
       "85             265  0.001   10000     1800        128     160          10   \n",
       "\n",
       "    est_direction est_type  est_hidden_size  seed        FIT      RMSE  \n",
       "33        forward     LSTM               15   271  98.573456  3.411554  \n",
       "84        forward       FF               15   311  98.476807  3.642673  \n",
       "240       forward       FF               15    54  97.878464  5.073600  \n",
       "253       forward       FF               15   262  97.818047  5.218078  \n",
       "86        forward     LSTM               15     7  97.728607  5.431982  \n",
       "67        forward     LSTM               15   158  97.717194  5.459263  \n",
       "15        forward     LSTM               15    26  97.601913  5.734950  \n",
       "62        forward     LSTM               15   200  97.484001  6.016933  \n",
       "136       forward     ZERO               15   273  97.474838  6.038855  \n",
       "17        forward     ZERO               15    86  97.387650  6.247364  \n",
       "100       forward     ZERO               15     2  97.323334  6.401179  \n",
       "19        forward     ZERO               15   182  97.313904  6.423717  \n",
       "191       forward       FF               15    89  97.181290  6.740870  \n",
       "97        forward     LSTM               15    22  97.000267  7.173786  \n",
       "274       forward     RAND               15   283  96.970558  7.244830  \n",
       "248       forward     LSTM               15   230  96.839211  7.558956  \n",
       "163       forward       FF               15   260  96.557541  8.232550  \n",
       "233       forward     RAND               15    57  96.505096  8.357972  \n",
       "252       forward       FF               15    27  96.463272  8.458002  \n",
       "85        forward     RAND               15    82  96.456421  8.474379  "
      ]
     },
     "execution_count": 29,
     "metadata": {},
     "output_type": "execute_result"
    }
   ],
   "source": [
    "df_short_est = df_res[(df_res[\"seq_est_len\"] == 10)]\n",
    "df_short_est.head(20)"
   ]
  },
  {
   "cell_type": "code",
   "execution_count": 30,
   "id": "a9718a74",
   "metadata": {},
   "outputs": [
    {
     "data": {
      "image/png": "[encoded data removed]",
      "text/plain": [
       "<Figure size 900x360 with 5 Axes>"
      ]
     },
     "metadata": {
      "needs_background": "light"
     },
     "output_type": "display_data"
    }
   ],
   "source": [
    "\n",
    "# Full results: main effects\n",
    "g = sns.PairGrid(df_short_est, y_vars=response,\n",
    "                 x_vars=factors,\n",
    "                 height=5, aspect=.5)\n",
    "g.map(sns.pointplot, scale=1.3)\n",
    "sns.despine(fig=g.fig, left=True)"
   ]
  },
  {
   "cell_type": "code",
   "execution_count": 31,
   "id": "f549ad0a",
   "metadata": {},
   "outputs": [
    {
     "data": {
      "image/png": "[encoded data removed]",
      "text/plain": [
       "<Figure size 900x360 with 5 Axes>"
      ]
     },
     "metadata": {
      "needs_background": "light"
     },
     "output_type": "display_data"
    }
   ],
   "source": [
    "# Full results: main effects\n",
    "g = sns.PairGrid(df_short_est, y_vars=response,\n",
    "                 x_vars=factors,\n",
    "                 height=5, aspect=.5)\n",
    "g.map(sns.boxplot)\n",
    "g.set(ylim=(90, 100))\n",
    "sns.despine(fig=g.fig, left=True)"
   ]
  },
  {
   "cell_type": "code",
   "execution_count": 32,
   "id": "b5ec877f",
   "metadata": {},
   "outputs": [
    {
     "data": {
      "text/html": [
       "<div>\n",
       "<style scoped>\n",
       "    .dataframe tbody tr th:only-of-type {\n",
       "        vertical-align: middle;\n",
       "    }\n",
       "\n",
       "    .dataframe tbody tr th {\n",
       "        vertical-align: top;\n",
       "    }\n",
       "\n",
       "    .dataframe thead th {\n",
       "        text-align: right;\n",
       "    }\n",
       "</style>\n",
       "<table border=\"1\" class=\"dataframe\">\n",
       "  <thead>\n",
       "    <tr style=\"text-align: right;\">\n",
       "      <th></th>\n",
       "      <th>experiment_id</th>\n",
       "      <th>lr</th>\n",
       "      <th>epochs</th>\n",
       "      <th>max_time</th>\n",
       "      <th>batch_size</th>\n",
       "      <th>seq_len</th>\n",
       "      <th>seq_est_len</th>\n",
       "      <th>est_direction</th>\n",
       "      <th>est_type</th>\n",
       "      <th>est_hidden_size</th>\n",
       "      <th>seed</th>\n",
       "      <th>FIT</th>\n",
       "      <th>RMSE</th>\n",
       "    </tr>\n",
       "  </thead>\n",
       "  <tbody>\n",
       "    <tr>\n",
       "      <th>33</th>\n",
       "      <td>17</td>\n",
       "      <td>0.001</td>\n",
       "      <td>10000</td>\n",
       "      <td>1800</td>\n",
       "      <td>128</td>\n",
       "      <td>40</td>\n",
       "      <td>10</td>\n",
       "      <td>forward</td>\n",
       "      <td>LSTM</td>\n",
       "      <td>15</td>\n",
       "      <td>271</td>\n",
       "      <td>98.573456</td>\n",
       "      <td>3.411554</td>\n",
       "    </tr>\n",
       "    <tr>\n",
       "      <th>253</th>\n",
       "      <td>97</td>\n",
       "      <td>0.001</td>\n",
       "      <td>10000</td>\n",
       "      <td>1800</td>\n",
       "      <td>128</td>\n",
       "      <td>40</td>\n",
       "      <td>10</td>\n",
       "      <td>forward</td>\n",
       "      <td>FF</td>\n",
       "      <td>15</td>\n",
       "      <td>262</td>\n",
       "      <td>97.818047</td>\n",
       "      <td>5.218078</td>\n",
       "    </tr>\n",
       "    <tr>\n",
       "      <th>15</th>\n",
       "      <td>19</td>\n",
       "      <td>0.001</td>\n",
       "      <td>10000</td>\n",
       "      <td>1800</td>\n",
       "      <td>1024</td>\n",
       "      <td>40</td>\n",
       "      <td>10</td>\n",
       "      <td>forward</td>\n",
       "      <td>LSTM</td>\n",
       "      <td>15</td>\n",
       "      <td>26</td>\n",
       "      <td>97.601913</td>\n",
       "      <td>5.734950</td>\n",
       "    </tr>\n",
       "    <tr>\n",
       "      <th>191</th>\n",
       "      <td>99</td>\n",
       "      <td>0.001</td>\n",
       "      <td>10000</td>\n",
       "      <td>1800</td>\n",
       "      <td>1024</td>\n",
       "      <td>40</td>\n",
       "      <td>10</td>\n",
       "      <td>forward</td>\n",
       "      <td>FF</td>\n",
       "      <td>15</td>\n",
       "      <td>89</td>\n",
       "      <td>97.181290</td>\n",
       "      <td>6.740870</td>\n",
       "    </tr>\n",
       "    <tr>\n",
       "      <th>243</th>\n",
       "      <td>179</td>\n",
       "      <td>0.001</td>\n",
       "      <td>10000</td>\n",
       "      <td>1800</td>\n",
       "      <td>1024</td>\n",
       "      <td>40</td>\n",
       "      <td>10</td>\n",
       "      <td>forward</td>\n",
       "      <td>ZERO</td>\n",
       "      <td>15</td>\n",
       "      <td>219</td>\n",
       "      <td>95.657089</td>\n",
       "      <td>10.385967</td>\n",
       "    </tr>\n",
       "    <tr>\n",
       "      <th>150</th>\n",
       "      <td>96</td>\n",
       "      <td>0.001</td>\n",
       "      <td>10000</td>\n",
       "      <td>300</td>\n",
       "      <td>128</td>\n",
       "      <td>40</td>\n",
       "      <td>10</td>\n",
       "      <td>forward</td>\n",
       "      <td>FF</td>\n",
       "      <td>15</td>\n",
       "      <td>213</td>\n",
       "      <td>95.317520</td>\n",
       "      <td>11.198032</td>\n",
       "    </tr>\n",
       "    <tr>\n",
       "      <th>112</th>\n",
       "      <td>257</td>\n",
       "      <td>0.001</td>\n",
       "      <td>10000</td>\n",
       "      <td>1800</td>\n",
       "      <td>128</td>\n",
       "      <td>40</td>\n",
       "      <td>10</td>\n",
       "      <td>forward</td>\n",
       "      <td>RAND</td>\n",
       "      <td>15</td>\n",
       "      <td>290</td>\n",
       "      <td>95.233986</td>\n",
       "      <td>11.397807</td>\n",
       "    </tr>\n",
       "    <tr>\n",
       "      <th>90</th>\n",
       "      <td>177</td>\n",
       "      <td>0.001</td>\n",
       "      <td>10000</td>\n",
       "      <td>1800</td>\n",
       "      <td>128</td>\n",
       "      <td>40</td>\n",
       "      <td>10</td>\n",
       "      <td>forward</td>\n",
       "      <td>ZERO</td>\n",
       "      <td>15</td>\n",
       "      <td>296</td>\n",
       "      <td>95.150246</td>\n",
       "      <td>11.598061</td>\n",
       "    </tr>\n",
       "    <tr>\n",
       "      <th>137</th>\n",
       "      <td>259</td>\n",
       "      <td>0.001</td>\n",
       "      <td>10000</td>\n",
       "      <td>1800</td>\n",
       "      <td>1024</td>\n",
       "      <td>40</td>\n",
       "      <td>10</td>\n",
       "      <td>forward</td>\n",
       "      <td>RAND</td>\n",
       "      <td>15</td>\n",
       "      <td>203</td>\n",
       "      <td>94.742203</td>\n",
       "      <td>12.573879</td>\n",
       "    </tr>\n",
       "    <tr>\n",
       "      <th>57</th>\n",
       "      <td>16</td>\n",
       "      <td>0.001</td>\n",
       "      <td>10000</td>\n",
       "      <td>300</td>\n",
       "      <td>128</td>\n",
       "      <td>40</td>\n",
       "      <td>10</td>\n",
       "      <td>forward</td>\n",
       "      <td>LSTM</td>\n",
       "      <td>15</td>\n",
       "      <td>122</td>\n",
       "      <td>93.951973</td>\n",
       "      <td>14.463695</td>\n",
       "    </tr>\n",
       "    <tr>\n",
       "      <th>296</th>\n",
       "      <td>256</td>\n",
       "      <td>0.001</td>\n",
       "      <td>10000</td>\n",
       "      <td>300</td>\n",
       "      <td>128</td>\n",
       "      <td>40</td>\n",
       "      <td>10</td>\n",
       "      <td>forward</td>\n",
       "      <td>RAND</td>\n",
       "      <td>15</td>\n",
       "      <td>131</td>\n",
       "      <td>93.689323</td>\n",
       "      <td>15.091817</td>\n",
       "    </tr>\n",
       "    <tr>\n",
       "      <th>24</th>\n",
       "      <td>258</td>\n",
       "      <td>0.001</td>\n",
       "      <td>10000</td>\n",
       "      <td>300</td>\n",
       "      <td>1024</td>\n",
       "      <td>40</td>\n",
       "      <td>10</td>\n",
       "      <td>forward</td>\n",
       "      <td>RAND</td>\n",
       "      <td>15</td>\n",
       "      <td>318</td>\n",
       "      <td>93.485085</td>\n",
       "      <td>15.580256</td>\n",
       "    </tr>\n",
       "    <tr>\n",
       "      <th>130</th>\n",
       "      <td>98</td>\n",
       "      <td>0.001</td>\n",
       "      <td>10000</td>\n",
       "      <td>300</td>\n",
       "      <td>1024</td>\n",
       "      <td>40</td>\n",
       "      <td>10</td>\n",
       "      <td>forward</td>\n",
       "      <td>FF</td>\n",
       "      <td>15</td>\n",
       "      <td>312</td>\n",
       "      <td>93.362061</td>\n",
       "      <td>15.874444</td>\n",
       "    </tr>\n",
       "    <tr>\n",
       "      <th>115</th>\n",
       "      <td>176</td>\n",
       "      <td>0.001</td>\n",
       "      <td>10000</td>\n",
       "      <td>300</td>\n",
       "      <td>128</td>\n",
       "      <td>40</td>\n",
       "      <td>10</td>\n",
       "      <td>forward</td>\n",
       "      <td>ZERO</td>\n",
       "      <td>15</td>\n",
       "      <td>77</td>\n",
       "      <td>92.329796</td>\n",
       "      <td>18.343093</td>\n",
       "    </tr>\n",
       "    <tr>\n",
       "      <th>173</th>\n",
       "      <td>178</td>\n",
       "      <td>0.001</td>\n",
       "      <td>10000</td>\n",
       "      <td>300</td>\n",
       "      <td>1024</td>\n",
       "      <td>40</td>\n",
       "      <td>10</td>\n",
       "      <td>forward</td>\n",
       "      <td>ZERO</td>\n",
       "      <td>15</td>\n",
       "      <td>223</td>\n",
       "      <td>91.271027</td>\n",
       "      <td>20.875104</td>\n",
       "    </tr>\n",
       "    <tr>\n",
       "      <th>205</th>\n",
       "      <td>18</td>\n",
       "      <td>0.001</td>\n",
       "      <td>10000</td>\n",
       "      <td>300</td>\n",
       "      <td>1024</td>\n",
       "      <td>40</td>\n",
       "      <td>10</td>\n",
       "      <td>forward</td>\n",
       "      <td>LSTM</td>\n",
       "      <td>15</td>\n",
       "      <td>66</td>\n",
       "      <td>91.118866</td>\n",
       "      <td>21.238990</td>\n",
       "    </tr>\n",
       "  </tbody>\n",
       "</table>\n",
       "</div>"
      ],
      "text/plain": [
       "     experiment_id     lr  epochs max_time batch_size seq_len seq_est_len  \\\n",
       "33              17  0.001   10000     1800        128      40          10   \n",
       "253             97  0.001   10000     1800        128      40          10   \n",
       "15              19  0.001   10000     1800       1024      40          10   \n",
       "191             99  0.001   10000     1800       1024      40          10   \n",
       "243            179  0.001   10000     1800       1024      40          10   \n",
       "150             96  0.001   10000      300        128      40          10   \n",
       "112            257  0.001   10000     1800        128      40          10   \n",
       "90             177  0.001   10000     1800        128      40          10   \n",
       "137            259  0.001   10000     1800       1024      40          10   \n",
       "57              16  0.001   10000      300        128      40          10   \n",
       "296            256  0.001   10000      300        128      40          10   \n",
       "24             258  0.001   10000      300       1024      40          10   \n",
       "130             98  0.001   10000      300       1024      40          10   \n",
       "115            176  0.001   10000      300        128      40          10   \n",
       "173            178  0.001   10000      300       1024      40          10   \n",
       "205             18  0.001   10000      300       1024      40          10   \n",
       "\n",
       "    est_direction est_type  est_hidden_size  seed        FIT       RMSE  \n",
       "33        forward     LSTM               15   271  98.573456   3.411554  \n",
       "253       forward       FF               15   262  97.818047   5.218078  \n",
       "15        forward     LSTM               15    26  97.601913   5.734950  \n",
       "191       forward       FF               15    89  97.181290   6.740870  \n",
       "243       forward     ZERO               15   219  95.657089  10.385967  \n",
       "150       forward       FF               15   213  95.317520  11.198032  \n",
       "112       forward     RAND               15   290  95.233986  11.397807  \n",
       "90        forward     ZERO               15   296  95.150246  11.598061  \n",
       "137       forward     RAND               15   203  94.742203  12.573879  \n",
       "57        forward     LSTM               15   122  93.951973  14.463695  \n",
       "296       forward     RAND               15   131  93.689323  15.091817  \n",
       "24        forward     RAND               15   318  93.485085  15.580256  \n",
       "130       forward       FF               15   312  93.362061  15.874444  \n",
       "115       forward     ZERO               15    77  92.329796  18.343093  \n",
       "173       forward     ZERO               15   223  91.271027  20.875104  \n",
       "205       forward     LSTM               15    66  91.118866  21.238990  "
      ]
     },
     "execution_count": 32,
     "metadata": {},
     "output_type": "execute_result"
    }
   ],
   "source": [
    "df_short_train = df_res[(df_res[\"seq_len\"] == 40) & (df_res[\"seq_est_len\"] == 10)]\n",
    "df_short_train.head(20)"
   ]
  },
  {
   "cell_type": "code",
   "execution_count": 33,
   "id": "54b37168",
   "metadata": {},
   "outputs": [
    {
     "data": {
      "image/png": "[encoded data removed]",
      "text/plain": [
       "<Figure size 900x360 with 5 Axes>"
      ]
     },
     "metadata": {
      "needs_background": "light"
     },
     "output_type": "display_data"
    }
   ],
   "source": [
    "# Full results: main effects\n",
    "g = sns.PairGrid(df_short_train, y_vars=response,\n",
    "                 x_vars=factors,\n",
    "                 height=5, aspect=.5)\n",
    "g.map(sns.boxplot)\n",
    "g.set(ylim=(90, 100))\n",
    "sns.despine(fig=g.fig, left=True)"
   ]
  },
  {
   "cell_type": "code",
   "execution_count": null,
   "id": "72af4a77",
   "metadata": {},
   "outputs": [],
   "source": []
  }
 ],
 "metadata": {
  "kernelspec": {
   "display_name": "Python 3 (ipykernel)",
   "language": "python",
   "name": "python3"
  },
  "language_info": {
   "codemirror_mode": {
    "name": "ipython",
    "version": 3
   },
   "file_extension": ".py",
   "mimetype": "text/x-python",
   "name": "python",
   "nbconvert_exporter": "python",
   "pygments_lexer": "ipython3",
   "version": "3.10.4"
  }
 },
 "nbformat": 4,
 "nbformat_minor": 5
}
