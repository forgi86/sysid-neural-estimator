{
 "cells": [
  {
   "cell_type": "code",
   "execution_count": null,
   "id": "0e8c6b55",
   "metadata": {},
   "outputs": [],
   "source": [
    "import os\n",
    "import matplotlib\n",
    "import plotly\n",
    "from plotly.subplots import make_subplots\n",
    "import plotly.graph_objects as go\n",
    "import plotly.express as px\n",
    "import seaborn as sns\n",
    "import pandas as pd\n",
    "import numpy as np"
   ]
  },
  {
   "cell_type": "code",
   "execution_count": null,
   "id": "adac7b40",
   "metadata": {},
   "outputs": [],
   "source": [
    "DOE_NAME = \"doe4\"\n",
    "factors = [\"max_time\", \"batch_size\", \"seq_len\", \"seq_est_len\",  \"est_type\"]\n",
    "response = \"FIT\""
   ]
  },
  {
   "cell_type": "code",
   "execution_count": null,
   "id": "4a73f474",
   "metadata": {},
   "outputs": [],
   "source": [
    "df_res = pd.read_csv(DOE_NAME + \"_res.csv\")  # doe1_res.csv"
   ]
  },
  {
   "cell_type": "code",
   "execution_count": null,
   "id": "1cf7cb24",
   "metadata": {
    "scrolled": false
   },
   "outputs": [],
   "source": [
    "df_res.sort_values(by=response, inplace=True, ascending=False)\n",
    "df_res[\"RMSE\"] = df_res[\"RMSE\"].fillna(1000)\n",
    "#df_res[\"FIT\"] = df_res[\"FIT\"] * (df_res[\"FIT\"] > 0) # minimum fit to 0% (easier to interpret)\n",
    "df_res[\"FIT\"] = df_res[\"FIT\"].fillna(np.min(df_res[\"FIT\"])-0.1)"
   ]
  },
  {
   "cell_type": "code",
   "execution_count": null,
   "id": "b1af9fe9",
   "metadata": {},
   "outputs": [],
   "source": [
    "for factor in factors:\n",
    "    df_res[factor] = df_res[factor].astype(\"category\")"
   ]
  },
  {
   "cell_type": "code",
   "execution_count": null,
   "id": "6e42ce51",
   "metadata": {},
   "outputs": [],
   "source": [
    "df_res.head(20)"
   ]
  },
  {
   "cell_type": "code",
   "execution_count": null,
   "id": "7f8775ba",
   "metadata": {
    "scrolled": false
   },
   "outputs": [],
   "source": [
    "df_res.tail(20)"
   ]
  },
  {
   "cell_type": "code",
   "execution_count": null,
   "id": "261fcc03",
   "metadata": {
    "scrolled": false
   },
   "outputs": [],
   "source": [
    "# Full results: main effects\n",
    "g = sns.PairGrid(df_res, y_vars=response,\n",
    "                 x_vars=factors,\n",
    "                 height=5, aspect=.5)\n",
    "g.map(sns.pointplot, scale=1.3)\n",
    "sns.despine(fig=g.fig, left=True)\n",
    "\n",
    "# Biggest effect seems to be max_time"
   ]
  },
  {
   "cell_type": "code",
   "execution_count": null,
   "id": "5cdddeb0",
   "metadata": {},
   "outputs": [],
   "source": [
    "# Full results: main effects\n",
    "g = sns.PairGrid(df_res, y_vars=response,\n",
    "                 x_vars=factors,\n",
    "                 height=5, aspect=.5)\n",
    "g.map(sns.boxplot)\n",
    "g.set(ylim=(0, 100))\n",
    "sns.despine(fig=g.fig, left=True)"
   ]
  },
  {
   "cell_type": "code",
   "execution_count": null,
   "id": "76964d89",
   "metadata": {},
   "outputs": [],
   "source": [
    "# Full results: main effects\n",
    "g = sns.PairGrid(df_res, y_vars=response,\n",
    "                 x_vars=factors,\n",
    "                 height=5, aspect=.5)\n",
    "g.map(sns.boxplot)\n",
    "g.set(ylim=(80, 100))\n",
    "sns.despine(fig=g.fig, left=True)"
   ]
  },
  {
   "cell_type": "code",
   "execution_count": null,
   "id": "bc750570",
   "metadata": {
    "scrolled": false
   },
   "outputs": [],
   "source": [
    "fig = make_subplots(rows=1, cols=5)\n",
    "for idx, factor in enumerate(factors):\n",
    "    aa=fig.add_box(y=df_res[\"FIT\"], x=df_res[factor], row=1, col=idx+1, name=factor)#, label=\"a\") \n",
    "    fig.update_yaxes(range=[80, 100], row=1, col=idx+1)\n",
    "fig.show()"
   ]
  },
  {
   "cell_type": "code",
   "execution_count": null,
   "id": "d18475bc",
   "metadata": {},
   "outputs": [],
   "source": [
    "#fig.select_xaxes"
   ]
  },
  {
   "cell_type": "code",
   "execution_count": null,
   "id": "0a0c762f",
   "metadata": {
    "scrolled": true
   },
   "outputs": [],
   "source": [
    "df_res.groupby(\"seq_len\")[\"FIT\"].agg([\"median\", \"mean\", \"std\"])\n",
    "#df_res.groupby(\"lr\")[\"FIT\"].agg([\"mean\", \"std\"])"
   ]
  },
  {
   "cell_type": "code",
   "execution_count": null,
   "id": "aa267c86",
   "metadata": {},
   "outputs": [],
   "source": [
    "#pd.pivot_table(df_res, index=[\"seq_len\"], columns=[\"est_type\"])"
   ]
  },
  {
   "cell_type": "code",
   "execution_count": null,
   "id": "77ba1a09",
   "metadata": {},
   "outputs": [],
   "source": [
    "fig = px.scatter(df_res, y=\"FIT\",\n",
    "                 facet_col=\"est_type\", facet_row=\"est_direction\", color=\"seq_len\",\n",
    "                 hover_data=[\"max_time\", \"seq_est_len\"])\n",
    "fig.show()"
   ]
  },
  {
   "cell_type": "code",
   "execution_count": null,
   "id": "2e699c9e",
   "metadata": {},
   "outputs": [],
   "source": [
    "df_30min = df_res[(df_res[\"max_time\"] != 300)]"
   ]
  },
  {
   "cell_type": "code",
   "execution_count": null,
   "id": "3ad941d4",
   "metadata": {},
   "outputs": [],
   "source": [
    "# Full results: main effects\n",
    "g = sns.PairGrid(df_30min, y_vars=response,\n",
    "                 x_vars=factors,\n",
    "                 height=5, aspect=.5)\n",
    "g.map(sns.pointplot, scale=1.3)\n",
    "sns.despine(fig=g.fig, left=True)"
   ]
  },
  {
   "cell_type": "code",
   "execution_count": null,
   "id": "f9d93033",
   "metadata": {},
   "outputs": [],
   "source": [
    "df_zero= df_res[(df_res[\"max_time\"] != 300) & ((df_res[\"est_type\"] == \"ZERO\"))]"
   ]
  },
  {
   "cell_type": "code",
   "execution_count": null,
   "id": "d44d95ff",
   "metadata": {},
   "outputs": [],
   "source": [
    "# Full results: main effects\n",
    "g = sns.PairGrid(df_zero, y_vars=response,\n",
    "                 x_vars=factors,\n",
    "                 height=5, aspect=.5)\n",
    "g.map(sns.pointplot, scale=1.3)\n",
    "sns.despine(fig=g.fig, left=True)"
   ]
  },
  {
   "cell_type": "code",
   "execution_count": null,
   "id": "8ce8bf95",
   "metadata": {},
   "outputs": [],
   "source": [
    "df_5min = df_res[(df_res[\"max_time\"] == 300)]"
   ]
  },
  {
   "cell_type": "code",
   "execution_count": null,
   "id": "7495c3dd",
   "metadata": {},
   "outputs": [],
   "source": [
    "# Full results: main effects\n",
    "g = sns.PairGrid(df_5min, y_vars=response,\n",
    "                 x_vars=factors,\n",
    "                 height=5, aspect=.5)\n",
    "g.map(sns.pointplot, scale=1.3)\n",
    "sns.despine(fig=g.fig, left=True)"
   ]
  },
  {
   "cell_type": "code",
   "execution_count": null,
   "id": "4a74633f",
   "metadata": {},
   "outputs": [],
   "source": [
    "df_good = df_res[(df_res[\"max_time\"] != 300) & (df_res[\"est_type\"]== \"FF\")]"
   ]
  },
  {
   "cell_type": "code",
   "execution_count": null,
   "id": "49ecc9f4",
   "metadata": {},
   "outputs": [],
   "source": [
    "# Full results: main effects\n",
    "g = sns.PairGrid(df_good, y_vars=response,\n",
    "                 x_vars=factors,\n",
    "                 height=5, aspect=.5)\n",
    "g.map(sns.pointplot, scale=1.3)\n",
    "sns.despine(fig=g.fig, left=True)"
   ]
  },
  {
   "cell_type": "code",
   "execution_count": null,
   "id": "197dd8e5",
   "metadata": {},
   "outputs": [],
   "source": [
    "fig = px.scatter(df_30min, y=\"FIT\",\n",
    "                 facet_col=\"est_type\", facet_row=\"est_direction\", color=\"seq_len\",\n",
    "                 hover_data=[\"max_time\", \"seq_est_len\"])\n",
    "fig.show()"
   ]
  },
  {
   "cell_type": "code",
   "execution_count": null,
   "id": "e1357319",
   "metadata": {},
   "outputs": [],
   "source": [
    "# Full results: main effects\n",
    "g = sns.PairGrid(df_30min, y_vars=response,\n",
    "                 x_vars=factors,\n",
    "                 height=5, aspect=.5)\n",
    "g.map(sns.pointplot, scale=1.3)\n",
    "sns.despine(fig=g.fig, left=True)"
   ]
  },
  {
   "cell_type": "code",
   "execution_count": null,
   "id": "6bde6329",
   "metadata": {
    "scrolled": true
   },
   "outputs": [],
   "source": [
    "# Full results: main effects\n",
    "g = sns.PairGrid(df_res, y_vars=response,\n",
    "                 x_vars=factors,\n",
    "                 height=5, aspect=.5)\n",
    "g.map(sns.boxplot)\n",
    "g.set(ylim=(80, 100))\n",
    "sns.despine(fig=g.fig, left=True)"
   ]
  },
  {
   "cell_type": "code",
   "execution_count": null,
   "id": "1c3a8587",
   "metadata": {},
   "outputs": [],
   "source": [
    "# Full results: main effects\n",
    "g = sns.PairGrid(df_30min, y_vars=response,\n",
    "                 x_vars=factors,\n",
    "                 height=5, aspect=.5)\n",
    "g.map(sns.boxplot)\n",
    "g.set(ylim=(90, 100))\n",
    "sns.despine(fig=g.fig, left=True)"
   ]
  },
  {
   "cell_type": "code",
   "execution_count": null,
   "id": "cded0c6f",
   "metadata": {},
   "outputs": [],
   "source": [
    "df_5min.head(20)"
   ]
  },
  {
   "cell_type": "code",
   "execution_count": null,
   "id": "07b0abb3",
   "metadata": {},
   "outputs": [],
   "source": [
    "df_short_est = df_res[(df_res[\"seq_est_len\"] == 10)]\n",
    "df_short_est.head(20)"
   ]
  },
  {
   "cell_type": "code",
   "execution_count": null,
   "id": "a9718a74",
   "metadata": {},
   "outputs": [],
   "source": [
    "\n",
    "# Full results: main effects\n",
    "g = sns.PairGrid(df_short_est, y_vars=response,\n",
    "                 x_vars=factors,\n",
    "                 height=5, aspect=.5)\n",
    "g.map(sns.pointplot, scale=1.3)\n",
    "sns.despine(fig=g.fig, left=True)"
   ]
  },
  {
   "cell_type": "code",
   "execution_count": null,
   "id": "f549ad0a",
   "metadata": {},
   "outputs": [],
   "source": [
    "# Full results: main effects\n",
    "g = sns.PairGrid(df_short_est, y_vars=response,\n",
    "                 x_vars=factors,\n",
    "                 height=5, aspect=.5)\n",
    "g.map(sns.boxplot)\n",
    "g.set(ylim=(90, 100))\n",
    "sns.despine(fig=g.fig, left=True)"
   ]
  },
  {
   "cell_type": "code",
   "execution_count": null,
   "id": "b5ec877f",
   "metadata": {},
   "outputs": [],
   "source": [
    "df_short_train = df_res[(df_res[\"seq_len\"] == 40) & (df_res[\"seq_est_len\"] == 10)]\n",
    "df_short_train.head(20)"
   ]
  },
  {
   "cell_type": "code",
   "execution_count": null,
   "id": "54b37168",
   "metadata": {},
   "outputs": [],
   "source": [
    "# Full results: main effects\n",
    "g = sns.PairGrid(df_short_train, y_vars=response,\n",
    "                 x_vars=factors,\n",
    "                 height=5, aspect=.5)\n",
    "g.map(sns.boxplot)\n",
    "g.set(ylim=(90, 100))\n",
    "sns.despine(fig=g.fig, left=True)"
   ]
  },
  {
   "cell_type": "code",
   "execution_count": null,
   "id": "72af4a77",
   "metadata": {},
   "outputs": [],
   "source": []
  }
 ],
 "metadata": {
  "kernelspec": {
   "display_name": "Python 3 (ipykernel)",
   "language": "python",
   "name": "python3"
  },
  "language_info": {
   "codemirror_mode": {
    "name": "ipython",
    "version": 3
   },
   "file_extension": ".py",
   "mimetype": "text/x-python",
   "name": "python",
   "nbconvert_exporter": "python",
   "pygments_lexer": "ipython3",
   "version": "3.9.7"
  }
 },
 "nbformat": 4,
 "nbformat_minor": 5
}
