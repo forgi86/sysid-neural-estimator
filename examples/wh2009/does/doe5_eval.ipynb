{
 "cells": [
  {
   "cell_type": "code",
   "execution_count": 67,
   "id": "0e8c6b55",
   "metadata": {},
   "outputs": [],
   "source": [
    "import os\n",
    "import matplotlib\n",
    "import plotly\n",
    "from plotly.subplots import make_subplots\n",
    "import plotly.graph_objects as go\n",
    "import plotly.express as px\n",
    "import seaborn as sns\n",
    "import pandas as pd\n",
    "import numpy as np"
   ]
  },
  {
   "cell_type": "code",
   "execution_count": 68,
   "id": "adac7b40",
   "metadata": {},
   "outputs": [],
   "source": [
    "DOE_NAME = \"doe5\"\n",
    "factors = [\"max_time\", \"batch_size\", \"seq_len\", \"seq_est_len\",  \"est_type\"]\n",
    "response = \"FIT\""
   ]
  },
  {
   "cell_type": "code",
   "execution_count": 69,
   "id": "4a73f474",
   "metadata": {},
   "outputs": [],
   "source": [
    "df_res = pd.read_csv(DOE_NAME + \"_res.csv\")  # doe1_res.csv"
   ]
  },
  {
   "cell_type": "code",
   "execution_count": 70,
   "id": "1cf7cb24",
   "metadata": {
    "scrolled": false
   },
   "outputs": [],
   "source": [
    "df_res.sort_values(by=response, inplace=True, ascending=False)\n",
    "df_res[\"RMSE\"] = df_res[\"RMSE\"].fillna(1000)\n",
    "df_res[\"FIT\"] = df_res[\"FIT\"] * (df_res[\"FIT\"] > 0) # minimum fit to 0% (easier to interpret)\n",
    "df_res[\"FIT\"] = df_res[\"FIT\"].fillna(0.0)\n",
    "#df_res[\"FIT\"] = df_res[\"FIT\"].fillna(np.min(df_res[\"FIT\"])-0.1)"
   ]
  },
  {
   "cell_type": "code",
   "execution_count": 71,
   "id": "b1af9fe9",
   "metadata": {},
   "outputs": [],
   "source": [
    "#for factor in factors:\n",
    "#    df_res[factor] = df_res[factor].astype(\"category\")"
   ]
  },
  {
   "cell_type": "code",
   "execution_count": 72,
   "id": "6e42ce51",
   "metadata": {},
   "outputs": [
    {
     "data": {
      "text/html": [
       "<div>\n",
       "<style scoped>\n",
       "    .dataframe tbody tr th:only-of-type {\n",
       "        vertical-align: middle;\n",
       "    }\n",
       "\n",
       "    .dataframe tbody tr th {\n",
       "        vertical-align: top;\n",
       "    }\n",
       "\n",
       "    .dataframe thead th {\n",
       "        text-align: right;\n",
       "    }\n",
       "</style>\n",
       "<table border=\"1\" class=\"dataframe\">\n",
       "  <thead>\n",
       "    <tr style=\"text-align: right;\">\n",
       "      <th></th>\n",
       "      <th>experiment_id</th>\n",
       "      <th>lr</th>\n",
       "      <th>epochs</th>\n",
       "      <th>max_time</th>\n",
       "      <th>batch_size</th>\n",
       "      <th>seq_len</th>\n",
       "      <th>seq_est_len</th>\n",
       "      <th>est_direction</th>\n",
       "      <th>est_type</th>\n",
       "      <th>est_hidden_size</th>\n",
       "      <th>seed</th>\n",
       "      <th>FIT</th>\n",
       "      <th>RMSE</th>\n",
       "    </tr>\n",
       "  </thead>\n",
       "  <tbody>\n",
       "    <tr>\n",
       "      <th>272</th>\n",
       "      <td>539</td>\n",
       "      <td>0.001</td>\n",
       "      <td>10000</td>\n",
       "      <td>3600</td>\n",
       "      <td>1024</td>\n",
       "      <td>40</td>\n",
       "      <td>80</td>\n",
       "      <td>forward</td>\n",
       "      <td>ZERO</td>\n",
       "      <td>15</td>\n",
       "      <td>376</td>\n",
       "      <td>98.982300</td>\n",
       "      <td>2.433808</td>\n",
       "    </tr>\n",
       "    <tr>\n",
       "      <th>97</th>\n",
       "      <td>368</td>\n",
       "      <td>0.001</td>\n",
       "      <td>10000</td>\n",
       "      <td>3600</td>\n",
       "      <td>512</td>\n",
       "      <td>160</td>\n",
       "      <td>80</td>\n",
       "      <td>forward</td>\n",
       "      <td>FF</td>\n",
       "      <td>15</td>\n",
       "      <td>752</td>\n",
       "      <td>98.892609</td>\n",
       "      <td>2.648296</td>\n",
       "    </tr>\n",
       "    <tr>\n",
       "      <th>156</th>\n",
       "      <td>125</td>\n",
       "      <td>0.001</td>\n",
       "      <td>10000</td>\n",
       "      <td>3600</td>\n",
       "      <td>128</td>\n",
       "      <td>160</td>\n",
       "      <td>40</td>\n",
       "      <td>forward</td>\n",
       "      <td>LSTM</td>\n",
       "      <td>15</td>\n",
       "      <td>694</td>\n",
       "      <td>98.874496</td>\n",
       "      <td>2.691602</td>\n",
       "    </tr>\n",
       "    <tr>\n",
       "      <th>165</th>\n",
       "      <td>746</td>\n",
       "      <td>0.001</td>\n",
       "      <td>10000</td>\n",
       "      <td>3600</td>\n",
       "      <td>32</td>\n",
       "      <td>160</td>\n",
       "      <td>80</td>\n",
       "      <td>forward</td>\n",
       "      <td>RAND</td>\n",
       "      <td>15</td>\n",
       "      <td>174</td>\n",
       "      <td>98.846344</td>\n",
       "      <td>2.758948</td>\n",
       "    </tr>\n",
       "    <tr>\n",
       "      <th>177</th>\n",
       "      <td>170</td>\n",
       "      <td>0.001</td>\n",
       "      <td>10000</td>\n",
       "      <td>3600</td>\n",
       "      <td>32</td>\n",
       "      <td>160</td>\n",
       "      <td>80</td>\n",
       "      <td>forward</td>\n",
       "      <td>LSTM</td>\n",
       "      <td>15</td>\n",
       "      <td>597</td>\n",
       "      <td>98.722397</td>\n",
       "      <td>3.055345</td>\n",
       "    </tr>\n",
       "    <tr>\n",
       "      <th>184</th>\n",
       "      <td>62</td>\n",
       "      <td>0.001</td>\n",
       "      <td>10000</td>\n",
       "      <td>3600</td>\n",
       "      <td>32</td>\n",
       "      <td>80</td>\n",
       "      <td>20</td>\n",
       "      <td>forward</td>\n",
       "      <td>LSTM</td>\n",
       "      <td>15</td>\n",
       "      <td>626</td>\n",
       "      <td>98.669037</td>\n",
       "      <td>3.182968</td>\n",
       "    </tr>\n",
       "    <tr>\n",
       "      <th>99</th>\n",
       "      <td>353</td>\n",
       "      <td>0.001</td>\n",
       "      <td>10000</td>\n",
       "      <td>3600</td>\n",
       "      <td>128</td>\n",
       "      <td>80</td>\n",
       "      <td>80</td>\n",
       "      <td>forward</td>\n",
       "      <td>FF</td>\n",
       "      <td>15</td>\n",
       "      <td>731</td>\n",
       "      <td>98.646317</td>\n",
       "      <td>3.237299</td>\n",
       "    </tr>\n",
       "    <tr>\n",
       "      <th>26</th>\n",
       "      <td>113</td>\n",
       "      <td>0.001</td>\n",
       "      <td>10000</td>\n",
       "      <td>3600</td>\n",
       "      <td>128</td>\n",
       "      <td>80</td>\n",
       "      <td>40</td>\n",
       "      <td>forward</td>\n",
       "      <td>LSTM</td>\n",
       "      <td>15</td>\n",
       "      <td>187</td>\n",
       "      <td>98.645416</td>\n",
       "      <td>3.239444</td>\n",
       "    </tr>\n",
       "    <tr>\n",
       "      <th>278</th>\n",
       "      <td>218</td>\n",
       "      <td>0.001</td>\n",
       "      <td>10000</td>\n",
       "      <td>3600</td>\n",
       "      <td>32</td>\n",
       "      <td>160</td>\n",
       "      <td>10</td>\n",
       "      <td>forward</td>\n",
       "      <td>FF</td>\n",
       "      <td>15</td>\n",
       "      <td>294</td>\n",
       "      <td>98.629593</td>\n",
       "      <td>3.277287</td>\n",
       "    </tr>\n",
       "    <tr>\n",
       "      <th>303</th>\n",
       "      <td>23</td>\n",
       "      <td>0.001</td>\n",
       "      <td>10000</td>\n",
       "      <td>3600</td>\n",
       "      <td>1024</td>\n",
       "      <td>80</td>\n",
       "      <td>10</td>\n",
       "      <td>forward</td>\n",
       "      <td>LSTM</td>\n",
       "      <td>15</td>\n",
       "      <td>352</td>\n",
       "      <td>98.610794</td>\n",
       "      <td>3.322253</td>\n",
       "    </tr>\n",
       "    <tr>\n",
       "      <th>254</th>\n",
       "      <td>530</td>\n",
       "      <td>0.001</td>\n",
       "      <td>10000</td>\n",
       "      <td>3600</td>\n",
       "      <td>32</td>\n",
       "      <td>40</td>\n",
       "      <td>80</td>\n",
       "      <td>forward</td>\n",
       "      <td>ZERO</td>\n",
       "      <td>15</td>\n",
       "      <td>146</td>\n",
       "      <td>98.594963</td>\n",
       "      <td>3.360110</td>\n",
       "    </tr>\n",
       "    <tr>\n",
       "      <th>174</th>\n",
       "      <td>191</td>\n",
       "      <td>0.001</td>\n",
       "      <td>10000</td>\n",
       "      <td>3600</td>\n",
       "      <td>1024</td>\n",
       "      <td>320</td>\n",
       "      <td>80</td>\n",
       "      <td>forward</td>\n",
       "      <td>LSTM</td>\n",
       "      <td>15</td>\n",
       "      <td>463</td>\n",
       "      <td>98.582130</td>\n",
       "      <td>3.390801</td>\n",
       "    </tr>\n",
       "    <tr>\n",
       "      <th>186</th>\n",
       "      <td>17</td>\n",
       "      <td>0.001</td>\n",
       "      <td>10000</td>\n",
       "      <td>3600</td>\n",
       "      <td>128</td>\n",
       "      <td>80</td>\n",
       "      <td>10</td>\n",
       "      <td>forward</td>\n",
       "      <td>LSTM</td>\n",
       "      <td>15</td>\n",
       "      <td>55</td>\n",
       "      <td>98.577698</td>\n",
       "      <td>3.401407</td>\n",
       "    </tr>\n",
       "    <tr>\n",
       "      <th>196</th>\n",
       "      <td>260</td>\n",
       "      <td>0.001</td>\n",
       "      <td>10000</td>\n",
       "      <td>3600</td>\n",
       "      <td>512</td>\n",
       "      <td>80</td>\n",
       "      <td>20</td>\n",
       "      <td>forward</td>\n",
       "      <td>FF</td>\n",
       "      <td>15</td>\n",
       "      <td>533</td>\n",
       "      <td>98.571671</td>\n",
       "      <td>3.415815</td>\n",
       "    </tr>\n",
       "    <tr>\n",
       "      <th>401</th>\n",
       "      <td>221</td>\n",
       "      <td>0.001</td>\n",
       "      <td>10000</td>\n",
       "      <td>3600</td>\n",
       "      <td>128</td>\n",
       "      <td>160</td>\n",
       "      <td>10</td>\n",
       "      <td>forward</td>\n",
       "      <td>FF</td>\n",
       "      <td>15</td>\n",
       "      <td>367</td>\n",
       "      <td>98.570923</td>\n",
       "      <td>3.417603</td>\n",
       "    </tr>\n",
       "    <tr>\n",
       "      <th>226</th>\n",
       "      <td>107</td>\n",
       "      <td>0.001</td>\n",
       "      <td>10000</td>\n",
       "      <td>3600</td>\n",
       "      <td>1024</td>\n",
       "      <td>40</td>\n",
       "      <td>40</td>\n",
       "      <td>forward</td>\n",
       "      <td>LSTM</td>\n",
       "      <td>15</td>\n",
       "      <td>471</td>\n",
       "      <td>98.562660</td>\n",
       "      <td>3.437354</td>\n",
       "    </tr>\n",
       "    <tr>\n",
       "      <th>229</th>\n",
       "      <td>148</td>\n",
       "      <td>0.001</td>\n",
       "      <td>10000</td>\n",
       "      <td>1800</td>\n",
       "      <td>128</td>\n",
       "      <td>40</td>\n",
       "      <td>80</td>\n",
       "      <td>forward</td>\n",
       "      <td>LSTM</td>\n",
       "      <td>15</td>\n",
       "      <td>416</td>\n",
       "      <td>98.547623</td>\n",
       "      <td>3.473316</td>\n",
       "    </tr>\n",
       "    <tr>\n",
       "      <th>167</th>\n",
       "      <td>314</td>\n",
       "      <td>0.001</td>\n",
       "      <td>10000</td>\n",
       "      <td>3600</td>\n",
       "      <td>32</td>\n",
       "      <td>160</td>\n",
       "      <td>40</td>\n",
       "      <td>forward</td>\n",
       "      <td>FF</td>\n",
       "      <td>15</td>\n",
       "      <td>477</td>\n",
       "      <td>98.545456</td>\n",
       "      <td>3.478499</td>\n",
       "    </tr>\n",
       "    <tr>\n",
       "      <th>339</th>\n",
       "      <td>554</td>\n",
       "      <td>0.001</td>\n",
       "      <td>10000</td>\n",
       "      <td>3600</td>\n",
       "      <td>32</td>\n",
       "      <td>160</td>\n",
       "      <td>80</td>\n",
       "      <td>forward</td>\n",
       "      <td>ZERO</td>\n",
       "      <td>15</td>\n",
       "      <td>33</td>\n",
       "      <td>98.536095</td>\n",
       "      <td>3.500881</td>\n",
       "    </tr>\n",
       "    <tr>\n",
       "      <th>231</th>\n",
       "      <td>542</td>\n",
       "      <td>0.001</td>\n",
       "      <td>10000</td>\n",
       "      <td>3600</td>\n",
       "      <td>32</td>\n",
       "      <td>80</td>\n",
       "      <td>80</td>\n",
       "      <td>forward</td>\n",
       "      <td>ZERO</td>\n",
       "      <td>15</td>\n",
       "      <td>654</td>\n",
       "      <td>98.518936</td>\n",
       "      <td>3.541921</td>\n",
       "    </tr>\n",
       "  </tbody>\n",
       "</table>\n",
       "</div>"
      ],
      "text/plain": [
       "     experiment_id     lr  epochs max_time batch_size seq_len seq_est_len  \\\n",
       "272            539  0.001   10000     3600       1024      40          80   \n",
       "97             368  0.001   10000     3600        512     160          80   \n",
       "156            125  0.001   10000     3600        128     160          40   \n",
       "165            746  0.001   10000     3600         32     160          80   \n",
       "177            170  0.001   10000     3600         32     160          80   \n",
       "184             62  0.001   10000     3600         32      80          20   \n",
       "99             353  0.001   10000     3600        128      80          80   \n",
       "26             113  0.001   10000     3600        128      80          40   \n",
       "278            218  0.001   10000     3600         32     160          10   \n",
       "303             23  0.001   10000     3600       1024      80          10   \n",
       "254            530  0.001   10000     3600         32      40          80   \n",
       "174            191  0.001   10000     3600       1024     320          80   \n",
       "186             17  0.001   10000     3600        128      80          10   \n",
       "196            260  0.001   10000     3600        512      80          20   \n",
       "401            221  0.001   10000     3600        128     160          10   \n",
       "226            107  0.001   10000     3600       1024      40          40   \n",
       "229            148  0.001   10000     1800        128      40          80   \n",
       "167            314  0.001   10000     3600         32     160          40   \n",
       "339            554  0.001   10000     3600         32     160          80   \n",
       "231            542  0.001   10000     3600         32      80          80   \n",
       "\n",
       "    est_direction est_type  est_hidden_size  seed        FIT      RMSE  \n",
       "272       forward     ZERO               15   376  98.982300  2.433808  \n",
       "97        forward       FF               15   752  98.892609  2.648296  \n",
       "156       forward     LSTM               15   694  98.874496  2.691602  \n",
       "165       forward     RAND               15   174  98.846344  2.758948  \n",
       "177       forward     LSTM               15   597  98.722397  3.055345  \n",
       "184       forward     LSTM               15   626  98.669037  3.182968  \n",
       "99        forward       FF               15   731  98.646317  3.237299  \n",
       "26        forward     LSTM               15   187  98.645416  3.239444  \n",
       "278       forward       FF               15   294  98.629593  3.277287  \n",
       "303       forward     LSTM               15   352  98.610794  3.322253  \n",
       "254       forward     ZERO               15   146  98.594963  3.360110  \n",
       "174       forward     LSTM               15   463  98.582130  3.390801  \n",
       "186       forward     LSTM               15    55  98.577698  3.401407  \n",
       "196       forward       FF               15   533  98.571671  3.415815  \n",
       "401       forward       FF               15   367  98.570923  3.417603  \n",
       "226       forward     LSTM               15   471  98.562660  3.437354  \n",
       "229       forward     LSTM               15   416  98.547623  3.473316  \n",
       "167       forward       FF               15   477  98.545456  3.478499  \n",
       "339       forward     ZERO               15    33  98.536095  3.500881  \n",
       "231       forward     ZERO               15   654  98.518936  3.541921  "
      ]
     },
     "execution_count": 72,
     "metadata": {},
     "output_type": "execute_result"
    }
   ],
   "source": [
    "df_res.head(20)"
   ]
  },
  {
   "cell_type": "code",
   "execution_count": 73,
   "id": "7f8775ba",
   "metadata": {
    "scrolled": false
   },
   "outputs": [
    {
     "data": {
      "text/html": [
       "<div>\n",
       "<style scoped>\n",
       "    .dataframe tbody tr th:only-of-type {\n",
       "        vertical-align: middle;\n",
       "    }\n",
       "\n",
       "    .dataframe tbody tr th {\n",
       "        vertical-align: top;\n",
       "    }\n",
       "\n",
       "    .dataframe thead th {\n",
       "        text-align: right;\n",
       "    }\n",
       "</style>\n",
       "<table border=\"1\" class=\"dataframe\">\n",
       "  <thead>\n",
       "    <tr style=\"text-align: right;\">\n",
       "      <th></th>\n",
       "      <th>experiment_id</th>\n",
       "      <th>lr</th>\n",
       "      <th>epochs</th>\n",
       "      <th>max_time</th>\n",
       "      <th>batch_size</th>\n",
       "      <th>seq_len</th>\n",
       "      <th>seq_est_len</th>\n",
       "      <th>est_direction</th>\n",
       "      <th>est_type</th>\n",
       "      <th>est_hidden_size</th>\n",
       "      <th>seed</th>\n",
       "      <th>FIT</th>\n",
       "      <th>RMSE</th>\n",
       "    </tr>\n",
       "  </thead>\n",
       "  <tbody>\n",
       "    <tr>\n",
       "      <th>748</th>\n",
       "      <td>521</td>\n",
       "      <td>0.001</td>\n",
       "      <td>10000</td>\n",
       "      <td>3600</td>\n",
       "      <td>128</td>\n",
       "      <td>320</td>\n",
       "      <td>40</td>\n",
       "      <td>forward</td>\n",
       "      <td>ZERO</td>\n",
       "      <td>15</td>\n",
       "      <td>699</td>\n",
       "      <td>0.0</td>\n",
       "      <td>1000.0</td>\n",
       "    </tr>\n",
       "    <tr>\n",
       "      <th>749</th>\n",
       "      <td>145</td>\n",
       "      <td>0.001</td>\n",
       "      <td>10000</td>\n",
       "      <td>1800</td>\n",
       "      <td>32</td>\n",
       "      <td>40</td>\n",
       "      <td>80</td>\n",
       "      <td>forward</td>\n",
       "      <td>LSTM</td>\n",
       "      <td>15</td>\n",
       "      <td>671</td>\n",
       "      <td>0.0</td>\n",
       "      <td>1000.0</td>\n",
       "    </tr>\n",
       "    <tr>\n",
       "      <th>750</th>\n",
       "      <td>560</td>\n",
       "      <td>0.001</td>\n",
       "      <td>10000</td>\n",
       "      <td>3600</td>\n",
       "      <td>512</td>\n",
       "      <td>160</td>\n",
       "      <td>80</td>\n",
       "      <td>forward</td>\n",
       "      <td>ZERO</td>\n",
       "      <td>15</td>\n",
       "      <td>199</td>\n",
       "      <td>0.0</td>\n",
       "      <td>1000.0</td>\n",
       "    </tr>\n",
       "    <tr>\n",
       "      <th>751</th>\n",
       "      <td>318</td>\n",
       "      <td>0.001</td>\n",
       "      <td>10000</td>\n",
       "      <td>300</td>\n",
       "      <td>512</td>\n",
       "      <td>160</td>\n",
       "      <td>40</td>\n",
       "      <td>forward</td>\n",
       "      <td>FF</td>\n",
       "      <td>15</td>\n",
       "      <td>489</td>\n",
       "      <td>0.0</td>\n",
       "      <td>1000.0</td>\n",
       "    </tr>\n",
       "    <tr>\n",
       "      <th>752</th>\n",
       "      <td>741</td>\n",
       "      <td>0.001</td>\n",
       "      <td>10000</td>\n",
       "      <td>300</td>\n",
       "      <td>1024</td>\n",
       "      <td>80</td>\n",
       "      <td>80</td>\n",
       "      <td>forward</td>\n",
       "      <td>RAND</td>\n",
       "      <td>15</td>\n",
       "      <td>115</td>\n",
       "      <td>0.0</td>\n",
       "      <td>1000.0</td>\n",
       "    </tr>\n",
       "    <tr>\n",
       "      <th>753</th>\n",
       "      <td>116</td>\n",
       "      <td>0.001</td>\n",
       "      <td>10000</td>\n",
       "      <td>3600</td>\n",
       "      <td>512</td>\n",
       "      <td>80</td>\n",
       "      <td>40</td>\n",
       "      <td>forward</td>\n",
       "      <td>LSTM</td>\n",
       "      <td>15</td>\n",
       "      <td>279</td>\n",
       "      <td>0.0</td>\n",
       "      <td>1000.0</td>\n",
       "    </tr>\n",
       "    <tr>\n",
       "      <th>754</th>\n",
       "      <td>596</td>\n",
       "      <td>0.001</td>\n",
       "      <td>10000</td>\n",
       "      <td>3600</td>\n",
       "      <td>512</td>\n",
       "      <td>80</td>\n",
       "      <td>10</td>\n",
       "      <td>forward</td>\n",
       "      <td>RAND</td>\n",
       "      <td>15</td>\n",
       "      <td>591</td>\n",
       "      <td>0.0</td>\n",
       "      <td>1000.0</td>\n",
       "    </tr>\n",
       "    <tr>\n",
       "      <th>755</th>\n",
       "      <td>457</td>\n",
       "      <td>0.001</td>\n",
       "      <td>10000</td>\n",
       "      <td>1800</td>\n",
       "      <td>32</td>\n",
       "      <td>160</td>\n",
       "      <td>20</td>\n",
       "      <td>forward</td>\n",
       "      <td>ZERO</td>\n",
       "      <td>15</td>\n",
       "      <td>685</td>\n",
       "      <td>0.0</td>\n",
       "      <td>1000.0</td>\n",
       "    </tr>\n",
       "    <tr>\n",
       "      <th>756</th>\n",
       "      <td>144</td>\n",
       "      <td>0.001</td>\n",
       "      <td>10000</td>\n",
       "      <td>300</td>\n",
       "      <td>32</td>\n",
       "      <td>40</td>\n",
       "      <td>80</td>\n",
       "      <td>forward</td>\n",
       "      <td>LSTM</td>\n",
       "      <td>15</td>\n",
       "      <td>64</td>\n",
       "      <td>0.0</td>\n",
       "      <td>1000.0</td>\n",
       "    </tr>\n",
       "    <tr>\n",
       "      <th>757</th>\n",
       "      <td>323</td>\n",
       "      <td>0.001</td>\n",
       "      <td>10000</td>\n",
       "      <td>3600</td>\n",
       "      <td>1024</td>\n",
       "      <td>160</td>\n",
       "      <td>40</td>\n",
       "      <td>forward</td>\n",
       "      <td>FF</td>\n",
       "      <td>15</td>\n",
       "      <td>125</td>\n",
       "      <td>0.0</td>\n",
       "      <td>1000.0</td>\n",
       "    </tr>\n",
       "    <tr>\n",
       "      <th>758</th>\n",
       "      <td>573</td>\n",
       "      <td>0.001</td>\n",
       "      <td>10000</td>\n",
       "      <td>300</td>\n",
       "      <td>1024</td>\n",
       "      <td>320</td>\n",
       "      <td>80</td>\n",
       "      <td>forward</td>\n",
       "      <td>ZERO</td>\n",
       "      <td>15</td>\n",
       "      <td>539</td>\n",
       "      <td>0.0</td>\n",
       "      <td>1000.0</td>\n",
       "    </tr>\n",
       "    <tr>\n",
       "      <th>759</th>\n",
       "      <td>643</td>\n",
       "      <td>0.001</td>\n",
       "      <td>10000</td>\n",
       "      <td>1800</td>\n",
       "      <td>512</td>\n",
       "      <td>80</td>\n",
       "      <td>20</td>\n",
       "      <td>forward</td>\n",
       "      <td>RAND</td>\n",
       "      <td>15</td>\n",
       "      <td>32</td>\n",
       "      <td>0.0</td>\n",
       "      <td>1000.0</td>\n",
       "    </tr>\n",
       "    <tr>\n",
       "      <th>760</th>\n",
       "      <td>719</td>\n",
       "      <td>0.001</td>\n",
       "      <td>10000</td>\n",
       "      <td>3600</td>\n",
       "      <td>1024</td>\n",
       "      <td>320</td>\n",
       "      <td>40</td>\n",
       "      <td>forward</td>\n",
       "      <td>RAND</td>\n",
       "      <td>15</td>\n",
       "      <td>28</td>\n",
       "      <td>0.0</td>\n",
       "      <td>1000.0</td>\n",
       "    </tr>\n",
       "    <tr>\n",
       "      <th>761</th>\n",
       "      <td>727</td>\n",
       "      <td>0.001</td>\n",
       "      <td>10000</td>\n",
       "      <td>1800</td>\n",
       "      <td>512</td>\n",
       "      <td>40</td>\n",
       "      <td>80</td>\n",
       "      <td>forward</td>\n",
       "      <td>RAND</td>\n",
       "      <td>15</td>\n",
       "      <td>543</td>\n",
       "      <td>0.0</td>\n",
       "      <td>1000.0</td>\n",
       "    </tr>\n",
       "    <tr>\n",
       "      <th>762</th>\n",
       "      <td>0</td>\n",
       "      <td>0.001</td>\n",
       "      <td>10000</td>\n",
       "      <td>300</td>\n",
       "      <td>32</td>\n",
       "      <td>40</td>\n",
       "      <td>10</td>\n",
       "      <td>forward</td>\n",
       "      <td>LSTM</td>\n",
       "      <td>15</td>\n",
       "      <td>661</td>\n",
       "      <td>0.0</td>\n",
       "      <td>1000.0</td>\n",
       "    </tr>\n",
       "    <tr>\n",
       "      <th>763</th>\n",
       "      <td>413</td>\n",
       "      <td>0.001</td>\n",
       "      <td>10000</td>\n",
       "      <td>3600</td>\n",
       "      <td>128</td>\n",
       "      <td>160</td>\n",
       "      <td>10</td>\n",
       "      <td>forward</td>\n",
       "      <td>ZERO</td>\n",
       "      <td>15</td>\n",
       "      <td>495</td>\n",
       "      <td>0.0</td>\n",
       "      <td>1000.0</td>\n",
       "    </tr>\n",
       "    <tr>\n",
       "      <th>764</th>\n",
       "      <td>592</td>\n",
       "      <td>0.001</td>\n",
       "      <td>10000</td>\n",
       "      <td>1800</td>\n",
       "      <td>128</td>\n",
       "      <td>80</td>\n",
       "      <td>10</td>\n",
       "      <td>forward</td>\n",
       "      <td>RAND</td>\n",
       "      <td>15</td>\n",
       "      <td>438</td>\n",
       "      <td>0.0</td>\n",
       "      <td>1000.0</td>\n",
       "    </tr>\n",
       "    <tr>\n",
       "      <th>765</th>\n",
       "      <td>180</td>\n",
       "      <td>0.001</td>\n",
       "      <td>10000</td>\n",
       "      <td>300</td>\n",
       "      <td>32</td>\n",
       "      <td>320</td>\n",
       "      <td>80</td>\n",
       "      <td>forward</td>\n",
       "      <td>LSTM</td>\n",
       "      <td>15</td>\n",
       "      <td>170</td>\n",
       "      <td>0.0</td>\n",
       "      <td>1000.0</td>\n",
       "    </tr>\n",
       "    <tr>\n",
       "      <th>766</th>\n",
       "      <td>135</td>\n",
       "      <td>0.001</td>\n",
       "      <td>10000</td>\n",
       "      <td>300</td>\n",
       "      <td>128</td>\n",
       "      <td>320</td>\n",
       "      <td>40</td>\n",
       "      <td>forward</td>\n",
       "      <td>LSTM</td>\n",
       "      <td>15</td>\n",
       "      <td>37</td>\n",
       "      <td>0.0</td>\n",
       "      <td>1000.0</td>\n",
       "    </tr>\n",
       "    <tr>\n",
       "      <th>767</th>\n",
       "      <td>83</td>\n",
       "      <td>0.001</td>\n",
       "      <td>10000</td>\n",
       "      <td>3600</td>\n",
       "      <td>1024</td>\n",
       "      <td>160</td>\n",
       "      <td>20</td>\n",
       "      <td>forward</td>\n",
       "      <td>LSTM</td>\n",
       "      <td>15</td>\n",
       "      <td>526</td>\n",
       "      <td>0.0</td>\n",
       "      <td>1000.0</td>\n",
       "    </tr>\n",
       "  </tbody>\n",
       "</table>\n",
       "</div>"
      ],
      "text/plain": [
       "     experiment_id     lr  epochs max_time batch_size seq_len seq_est_len  \\\n",
       "748            521  0.001   10000     3600        128     320          40   \n",
       "749            145  0.001   10000     1800         32      40          80   \n",
       "750            560  0.001   10000     3600        512     160          80   \n",
       "751            318  0.001   10000      300        512     160          40   \n",
       "752            741  0.001   10000      300       1024      80          80   \n",
       "753            116  0.001   10000     3600        512      80          40   \n",
       "754            596  0.001   10000     3600        512      80          10   \n",
       "755            457  0.001   10000     1800         32     160          20   \n",
       "756            144  0.001   10000      300         32      40          80   \n",
       "757            323  0.001   10000     3600       1024     160          40   \n",
       "758            573  0.001   10000      300       1024     320          80   \n",
       "759            643  0.001   10000     1800        512      80          20   \n",
       "760            719  0.001   10000     3600       1024     320          40   \n",
       "761            727  0.001   10000     1800        512      40          80   \n",
       "762              0  0.001   10000      300         32      40          10   \n",
       "763            413  0.001   10000     3600        128     160          10   \n",
       "764            592  0.001   10000     1800        128      80          10   \n",
       "765            180  0.001   10000      300         32     320          80   \n",
       "766            135  0.001   10000      300        128     320          40   \n",
       "767             83  0.001   10000     3600       1024     160          20   \n",
       "\n",
       "    est_direction est_type  est_hidden_size  seed  FIT    RMSE  \n",
       "748       forward     ZERO               15   699  0.0  1000.0  \n",
       "749       forward     LSTM               15   671  0.0  1000.0  \n",
       "750       forward     ZERO               15   199  0.0  1000.0  \n",
       "751       forward       FF               15   489  0.0  1000.0  \n",
       "752       forward     RAND               15   115  0.0  1000.0  \n",
       "753       forward     LSTM               15   279  0.0  1000.0  \n",
       "754       forward     RAND               15   591  0.0  1000.0  \n",
       "755       forward     ZERO               15   685  0.0  1000.0  \n",
       "756       forward     LSTM               15    64  0.0  1000.0  \n",
       "757       forward       FF               15   125  0.0  1000.0  \n",
       "758       forward     ZERO               15   539  0.0  1000.0  \n",
       "759       forward     RAND               15    32  0.0  1000.0  \n",
       "760       forward     RAND               15    28  0.0  1000.0  \n",
       "761       forward     RAND               15   543  0.0  1000.0  \n",
       "762       forward     LSTM               15   661  0.0  1000.0  \n",
       "763       forward     ZERO               15   495  0.0  1000.0  \n",
       "764       forward     RAND               15   438  0.0  1000.0  \n",
       "765       forward     LSTM               15   170  0.0  1000.0  \n",
       "766       forward     LSTM               15    37  0.0  1000.0  \n",
       "767       forward     LSTM               15   526  0.0  1000.0  "
      ]
     },
     "execution_count": 73,
     "metadata": {},
     "output_type": "execute_result"
    }
   ],
   "source": [
    "df_res.tail(20)"
   ]
  },
  {
   "cell_type": "code",
   "execution_count": 74,
   "id": "261fcc03",
   "metadata": {
    "scrolled": false
   },
   "outputs": [
    {
     "data": {
      "image/png": "[encoded data removed]",
      "text/plain": [
       "<Figure size 900x360 with 5 Axes>"
      ]
     },
     "metadata": {
      "needs_background": "light"
     },
     "output_type": "display_data"
    }
   ],
   "source": [
    "# Full results: main effects\n",
    "g = sns.PairGrid(df_res, y_vars=response,\n",
    "                 x_vars=factors,\n",
    "                 height=5, aspect=.5)\n",
    "g.map(sns.pointplot, scale=1.3)\n",
    "sns.despine(fig=g.fig, left=True)\n",
    "\n",
    "# Biggest effect seems to be max_time"
   ]
  },
  {
   "cell_type": "code",
   "execution_count": 100,
   "id": "5cdddeb0",
   "metadata": {},
   "outputs": [
    {
     "data": {
      "image/png": "[encoded data removed]",
      "text/plain": [
       "<Figure size 900x360 with 5 Axes>"
      ]
     },
     "metadata": {
      "needs_background": "light"
     },
     "output_type": "display_data"
    }
   ],
   "source": [
    "# Full results: main effects\n",
    "g = sns.PairGrid(df_res, y_vars=response,\n",
    "                 x_vars=factors,\n",
    "                 height=5, aspect=.5)\n",
    "g.map(sns.boxplot)\n",
    "g.set(ylim=(0, 100))\n",
    "sns.despine(fig=g.fig, left=True)"
   ]
  },
  {
   "cell_type": "code",
   "execution_count": 76,
   "id": "76964d89",
   "metadata": {},
   "outputs": [
    {
     "data": {
      "image/png": "[encoded data removed]",
      "text/plain": [
       "<Figure size 900x360 with 5 Axes>"
      ]
     },
     "metadata": {
      "needs_background": "light"
     },
     "output_type": "display_data"
    }
   ],
   "source": [
    "# Full results: main effects\n",
    "g = sns.PairGrid(df_res, y_vars=response,\n",
    "                 x_vars=factors,\n",
    "                 height=5, aspect=.5)\n",
    "g.map(sns.boxplot)\n",
    "g.set(ylim=(80, 100))\n",
    "sns.despine(fig=g.fig, left=True)"
   ]
  },
  {
   "cell_type": "code",
   "execution_count": 77,
   "id": "bc750570",
   "metadata": {
    "scrolled": false
   },
   "outputs": [
    {
     "data": {
      "application/vnd.plotly.v1+json": {
       "config": {
        "plotlyServerURL": "https://plot.ly"
       },
       "data": [
        {
         "name": "max_time",
         "type": "box",
         "x": [
          3600,
          3600,
          3600,
          3600,
          3600,
          3600,
          3600,
          3600,
          3600,
          3600,
          3600,
          3600,
          3600,
          3600,
          3600,
          3600,
          1800,
          3600,
          3600,
          3600,
          3600,
          3600,
          3600,
          3600,
          3600,
          3600,
          3600,
          3600,
          3600,
          1800,
          3600,
          3600,
          3600,
          3600,
          3600,
          3600,
          3600,
          3600,
          3600,
          3600,
          3600,
          3600,
          1800,
          3600,
          3600,
          3600,
          1800,
          3600,
          3600,
          1800,
          3600,
          3600,
          3600,
          3600,
          1800,
          3600,
          3600,
          1800,
          3600,
          3600,
          3600,
          3600,
          3600,
          3600,
          1800,
          3600,
          3600,
          3600,
          3600,
          3600,
          3600,
          3600,
          1800,
          3600,
          1800,
          3600,
          3600,
          3600,
          3600,
          3600,
          3600,
          1800,
          1800,
          3600,
          3600,
          3600,
          1800,
          3600,
          3600,
          1800,
          1800,
          1800,
          3600,
          3600,
          1800,
          3600,
          1800,
          3600,
          1800,
          1800,
          1800,
          1800,
          1800,
          3600,
          1800,
          3600,
          3600,
          3600,
          1800,
          3600,
          1800,
          3600,
          1800,
          3600,
          3600,
          3600,
          1800,
          1800,
          3600,
          3600,
          1800,
          3600,
          3600,
          1800,
          3600,
          1800,
          3600,
          1800,
          3600,
          1800,
          1800,
          1800,
          3600,
          3600,
          1800,
          1800,
          1800,
          3600,
          1800,
          1800,
          1800,
          1800,
          3600,
          3600,
          3600,
          1800,
          1800,
          3600,
          1800,
          1800,
          1800,
          3600,
          3600,
          3600,
          1800,
          1800,
          1800,
          3600,
          3600,
          1800,
          1800,
          1800,
          1800,
          1800,
          1800,
          1800,
          3600,
          1800,
          3600,
          3600,
          1800,
          1800,
          1800,
          1800,
          1800,
          1800,
          3600,
          1800,
          1800,
          1800,
          1800,
          1800,
          1800,
          1800,
          3600,
          1800,
          1800,
          1800,
          1800,
          1800,
          1800,
          3600,
          1800,
          1800,
          3600,
          1800,
          1800,
          1800,
          3600,
          1800,
          3600,
          3600,
          3600,
          3600,
          1800,
          3600,
          3600,
          1800,
          1800,
          3600,
          1800,
          3600,
          1800,
          1800,
          1800,
          1800,
          1800,
          1800,
          1800,
          1800,
          1800,
          1800,
          1800,
          1800,
          3600,
          1800,
          1800,
          3600,
          1800,
          1800,
          1800,
          3600,
          1800,
          1800,
          1800,
          1800,
          1800,
          1800,
          1800,
          1800,
          1800,
          1800,
          300,
          1800,
          1800,
          3600,
          1800,
          1800,
          1800,
          3600,
          1800,
          300,
          300,
          1800,
          300,
          1800,
          300,
          300,
          300,
          1800,
          300,
          1800,
          300,
          300,
          300,
          3600,
          300,
          300,
          300,
          1800,
          300,
          300,
          1800,
          300,
          300,
          300,
          3600,
          300,
          1800,
          3600,
          300,
          300,
          300,
          300,
          300,
          3600,
          300,
          300,
          1800,
          300,
          3600,
          1800,
          300,
          300,
          1800,
          300,
          300,
          300,
          300,
          300,
          300,
          300,
          300,
          300,
          300,
          300,
          300,
          300,
          300,
          300,
          300,
          300,
          300,
          300,
          300,
          300,
          300,
          300,
          300,
          300,
          300,
          300,
          300,
          300,
          300,
          300,
          300,
          300,
          300,
          300,
          300,
          300,
          300,
          300,
          300,
          300,
          300,
          300,
          300,
          300,
          300,
          300,
          300,
          300,
          300,
          300,
          300,
          300,
          300,
          300,
          300,
          300,
          300,
          300,
          300,
          300,
          300,
          300,
          300,
          300,
          300,
          300,
          300,
          300,
          300,
          300,
          300,
          300,
          300,
          300,
          300,
          300,
          300,
          300,
          300,
          300,
          300,
          300,
          300,
          300,
          300,
          300,
          300,
          300,
          300,
          300,
          300,
          300,
          300,
          300,
          300,
          300,
          300,
          300,
          300,
          300,
          300,
          300,
          300,
          300,
          300,
          300,
          300,
          1800,
          3600,
          300,
          1800,
          300,
          1800,
          3600,
          300,
          1800,
          300,
          3600,
          300,
          300,
          1800,
          300,
          3600,
          1800,
          3600,
          300,
          300,
          3600,
          3600,
          3600,
          300,
          1800,
          1800,
          1800,
          3600,
          3600,
          1800,
          1800,
          1800,
          300,
          300,
          300,
          3600,
          3600,
          3600,
          1800,
          1800,
          300,
          3600,
          300,
          1800,
          1800,
          300,
          3600,
          3600,
          3600,
          1800,
          300,
          3600,
          1800,
          3600,
          300,
          3600,
          1800,
          3600,
          300,
          300,
          1800,
          300,
          1800,
          300,
          1800,
          300,
          300,
          1800,
          3600,
          300,
          1800,
          300,
          3600,
          300,
          3600,
          3600,
          300,
          1800,
          3600,
          3600,
          3600,
          3600,
          300,
          300,
          3600,
          300,
          300,
          300,
          1800,
          3600,
          1800,
          3600,
          300,
          3600,
          3600,
          300,
          300,
          3600,
          1800,
          300,
          1800,
          1800,
          1800,
          1800,
          1800,
          300,
          300,
          300,
          3600,
          300,
          1800,
          3600,
          1800,
          3600,
          1800,
          300,
          3600,
          3600,
          1800,
          1800,
          3600,
          1800,
          300,
          1800,
          3600,
          1800,
          300,
          1800,
          3600,
          300,
          300,
          1800,
          3600,
          1800,
          300,
          1800,
          3600,
          1800,
          3600,
          1800,
          1800,
          300,
          3600,
          1800,
          1800,
          1800,
          300,
          1800,
          300,
          3600,
          300,
          3600,
          1800,
          3600,
          3600,
          1800,
          300,
          300,
          1800,
          1800,
          3600,
          300,
          1800,
          1800,
          3600,
          3600,
          1800,
          3600,
          300,
          1800,
          300,
          3600,
          300,
          1800,
          300,
          300,
          3600,
          1800,
          3600,
          3600,
          3600,
          300,
          300,
          300,
          300,
          3600,
          1800,
          3600,
          1800,
          3600,
          3600,
          300,
          3600,
          3600,
          1800,
          1800,
          1800,
          300,
          1800,
          1800,
          1800,
          1800,
          300,
          3600,
          300,
          3600,
          1800,
          3600,
          1800,
          1800,
          300,
          1800,
          300,
          300,
          1800,
          1800,
          1800,
          3600,
          300,
          3600,
          1800,
          1800,
          300,
          1800,
          1800,
          300,
          1800,
          3600,
          300,
          300,
          300,
          1800,
          1800,
          1800,
          1800,
          3600,
          300,
          1800,
          3600,
          3600,
          300,
          300,
          300,
          3600,
          1800,
          1800,
          300,
          300,
          3600,
          3600,
          3600,
          3600,
          1800,
          300,
          300,
          3600,
          1800,
          3600,
          3600,
          300,
          3600,
          1800,
          300,
          1800,
          1800,
          3600,
          3600,
          3600,
          300,
          3600,
          300,
          1800,
          300,
          300,
          3600,
          3600,
          1800,
          300,
          3600,
          3600,
          300,
          1800,
          3600,
          1800,
          300,
          300,
          1800,
          1800,
          1800,
          3600,
          3600,
          1800,
          3600,
          3600,
          300,
          300,
          3600,
          1800,
          1800,
          1800,
          1800,
          300,
          1800,
          300,
          300,
          300,
          300,
          3600,
          300,
          3600,
          1800,
          1800,
          1800,
          3600,
          3600,
          300,
          3600,
          1800,
          3600,
          3600,
          1800,
          300,
          3600,
          300,
          3600,
          3600,
          300,
          1800,
          3600,
          300,
          1800,
          3600,
          3600,
          3600,
          3600,
          1800,
          300,
          1800,
          300,
          300,
          3600,
          1800,
          1800,
          1800,
          300,
          3600,
          1800,
          3600,
          300,
          300,
          3600,
          3600,
          1800,
          300,
          3600,
          300,
          1800,
          3600,
          1800,
          300,
          3600,
          1800,
          300,
          300,
          3600
         ],
         "xaxis": "x",
         "y": [
          98.9822998046875,
          98.89260864257812,
          98.87449645996094,
          98.84634399414062,
          98.72239685058594,
          98.66903686523438,
          98.64631652832033,
          98.64541625976562,
          98.6295928955078,
          98.6107940673828,
          98.59496307373048,
          98.5821304321289,
          98.57769775390624,
          98.57167053222656,
          98.5709228515625,
          98.56266021728516,
          98.54762268066406,
          98.5454559326172,
          98.53609466552734,
          98.51893615722656,
          98.51385498046876,
          98.51094818115234,
          98.49971771240234,
          98.48509216308594,
          98.47417449951172,
          98.47180938720705,
          98.46562957763672,
          98.46517944335938,
          98.45996856689452,
          98.4502410888672,
          98.44566345214844,
          98.42056274414062,
          98.41806030273438,
          98.41436767578124,
          98.41143798828124,
          98.40106201171876,
          98.3873519897461,
          98.38502502441406,
          98.38286590576172,
          98.37709045410156,
          98.36708068847656,
          98.36528778076172,
          98.3453598022461,
          98.33273315429688,
          98.33255767822266,
          98.31326293945312,
          98.29581451416016,
          98.29285430908205,
          98.29102325439452,
          98.28487396240234,
          98.27808380126952,
          98.26820373535156,
          98.25696563720705,
          98.2520523071289,
          98.24124908447266,
          98.23980712890624,
          98.23013305664062,
          98.22616577148438,
          98.224853515625,
          98.22364807128906,
          98.21053314208984,
          98.20922088623048,
          98.20565795898438,
          98.20547485351562,
          98.2054443359375,
          98.20511627197266,
          98.20410919189452,
          98.20298767089844,
          98.19668579101562,
          98.19523620605467,
          98.17539978027344,
          98.17124938964844,
          98.16822052001952,
          98.1502685546875,
          98.13873291015624,
          98.126708984375,
          98.11810302734376,
          98.11681365966795,
          98.1014404296875,
          98.09747314453124,
          98.0964813232422,
          98.09375,
          98.08969116210938,
          98.08294677734376,
          98.07008361816406,
          98.06781768798828,
          98.05298614501952,
          98.04692840576172,
          98.0408935546875,
          98.03399658203124,
          98.03192901611328,
          98.03111267089844,
          98.02599334716795,
          98.02054595947266,
          98.02009582519533,
          98.01966857910156,
          98.01885986328124,
          98.0155029296875,
          98.01161193847656,
          98.0113296508789,
          98.00157928466795,
          97.99784088134766,
          97.98326873779295,
          97.97834014892578,
          97.97763061523438,
          97.97515106201172,
          97.96895599365234,
          97.96083068847656,
          97.96075439453124,
          97.95887756347656,
          97.93726348876952,
          97.9363021850586,
          97.9289779663086,
          97.92639923095705,
          97.92586517333984,
          97.92476654052734,
          97.90099334716795,
          97.9002685546875,
          97.89966583251952,
          97.89669799804688,
          97.89312744140624,
          97.88835144042967,
          97.88493347167967,
          97.88429260253906,
          97.87474060058594,
          97.86359405517578,
          97.85253143310548,
          97.84007263183594,
          97.84000396728516,
          97.83074951171876,
          97.82604217529295,
          97.82108306884766,
          97.8116226196289,
          97.80868530273438,
          97.78947448730467,
          97.7882308959961,
          97.78244018554688,
          97.77166748046876,
          97.7704620361328,
          97.76944732666016,
          97.76673126220705,
          97.7663803100586,
          97.7547378540039,
          97.75092315673828,
          97.73106384277344,
          97.7303237915039,
          97.72840881347656,
          97.7238540649414,
          97.71002197265624,
          97.70951080322266,
          97.70897674560548,
          97.7000503540039,
          97.69694519042967,
          97.6865692138672,
          97.67752075195312,
          97.66934967041016,
          97.66747283935548,
          97.64984130859376,
          97.646240234375,
          97.63426208496094,
          97.63240814208984,
          97.62933349609376,
          97.62073516845705,
          97.61370086669922,
          97.58937072753906,
          97.58326721191406,
          97.5828857421875,
          97.57915496826172,
          97.5778350830078,
          97.56886291503906,
          97.56527709960938,
          97.5455322265625,
          97.53936767578124,
          97.5334243774414,
          97.53062438964844,
          97.52886962890624,
          97.50324249267578,
          97.49105072021484,
          97.48680877685548,
          97.48114013671876,
          97.47201538085938,
          97.45431518554688,
          97.43515014648438,
          97.41413116455078,
          97.40907287597656,
          97.4083480834961,
          97.4060287475586,
          97.39932250976562,
          97.38507080078124,
          97.3684539794922,
          97.32997131347656,
          97.22595977783205,
          97.218505859375,
          97.212646484375,
          97.2061004638672,
          97.19743347167967,
          97.17827606201172,
          97.17689514160156,
          97.17020416259766,
          97.15495300292967,
          97.15225982666016,
          97.1471710205078,
          97.13197326660156,
          97.09343719482422,
          97.08607482910156,
          97.0301284790039,
          97.02660369873048,
          97.01844787597656,
          96.9895477294922,
          96.97122955322266,
          96.93278503417967,
          96.88873291015624,
          96.83387756347656,
          96.82450103759766,
          96.70923614501952,
          96.6952896118164,
          96.6936264038086,
          96.6901397705078,
          96.68496704101562,
          96.65316009521484,
          96.6144790649414,
          96.41548919677734,
          96.41498565673828,
          96.3361587524414,
          96.32294464111328,
          96.23152923583984,
          96.2197265625,
          96.21514129638672,
          96.14468383789062,
          96.11605834960938,
          96.1152114868164,
          96.10822296142578,
          96.103515625,
          96.09786224365234,
          96.08468627929688,
          96.0687255859375,
          96.05825805664062,
          95.97563934326172,
          95.96310424804688,
          95.94401550292967,
          95.92322540283205,
          95.89581298828124,
          95.89462280273438,
          95.87155151367188,
          95.86812591552734,
          95.79630279541016,
          95.779296875,
          95.7741241455078,
          95.7300796508789,
          95.72159576416016,
          95.7122802734375,
          95.68025207519533,
          95.63919067382812,
          95.62578582763672,
          95.5737075805664,
          95.55643463134766,
          95.50493621826172,
          95.49427032470705,
          95.44329833984376,
          95.43963623046876,
          95.42822265625,
          95.41888427734376,
          95.40809631347656,
          95.3564224243164,
          95.30950164794922,
          95.30123138427734,
          95.29904174804688,
          95.27518463134766,
          95.27469635009766,
          95.2461395263672,
          95.22815704345705,
          95.20242309570312,
          95.17118072509766,
          95.16346740722656,
          95.1210479736328,
          95.04354095458984,
          94.9228973388672,
          94.86884307861328,
          94.84434509277344,
          94.8093719482422,
          94.80098724365234,
          94.79791259765624,
          94.79060363769533,
          94.78191375732422,
          94.7685775756836,
          94.7275161743164,
          94.7109832763672,
          94.63507843017578,
          94.6042022705078,
          94.56676483154295,
          94.53546142578124,
          94.52093505859376,
          94.47543334960938,
          94.46856689453124,
          94.45772552490234,
          94.40021514892578,
          94.3848648071289,
          94.35118103027344,
          94.19383239746094,
          94.1611557006836,
          94.14279174804688,
          94.14152526855467,
          94.0475616455078,
          93.92176055908205,
          93.9067840576172,
          93.88818359375,
          93.78759765625,
          93.75489044189452,
          93.67791748046876,
          93.67427825927734,
          93.67127990722656,
          93.65634155273438,
          93.64763641357422,
          93.60559844970705,
          93.58219146728516,
          93.56428527832033,
          93.5278778076172,
          93.44540405273438,
          93.43289184570312,
          93.35698699951172,
          93.3440170288086,
          93.3387680053711,
          93.31680297851562,
          93.20411682128906,
          93.20045471191406,
          93.1983413696289,
          93.09524536132812,
          93.07684326171876,
          93.06507873535156,
          93.00845336914062,
          92.96414947509766,
          92.84396362304688,
          92.82923889160156,
          92.7813491821289,
          92.74246978759766,
          92.5822525024414,
          92.57538604736328,
          92.56693267822266,
          92.54094696044922,
          92.5365219116211,
          92.49945068359376,
          92.38400268554688,
          92.3834228515625,
          92.36365509033205,
          92.21099853515624,
          92.20194244384766,
          92.177734375,
          92.15391540527344,
          92.1267318725586,
          92.0561065673828,
          92.03173065185548,
          91.93814086914062,
          91.90593719482422,
          91.78204345703124,
          91.70299530029295,
          91.66506958007812,
          91.63421630859376,
          91.62477111816406,
          91.58558654785156,
          91.55591583251952,
          91.50845336914062,
          91.50315856933594,
          91.44302368164062,
          91.4220199584961,
          91.30680847167967,
          91.2894287109375,
          91.27079010009766,
          91.22115325927734,
          91.054931640625,
          91.03814697265624,
          90.97862243652344,
          90.89635467529295,
          90.84000396728516,
          90.77008819580078,
          90.75152587890624,
          90.73247528076172,
          90.660888671875,
          90.65862274169922,
          90.59855651855467,
          90.59503936767578,
          90.54473876953124,
          90.45059967041016,
          90.42214965820312,
          90.36823272705078,
          89.94795989990234,
          89.91593933105469,
          89.88746643066406,
          89.70743560791016,
          89.65009307861328,
          89.3011703491211,
          89.24322509765625,
          88.65019989013672,
          87.72977447509766,
          87.68255615234375,
          87.61225128173828,
          87.52019500732422,
          87.05554962158203,
          86.95471954345703,
          86.54139709472656,
          86.45651245117188,
          86.44223022460938,
          85.86546325683594,
          0,
          0,
          0,
          0,
          0,
          0,
          0,
          0,
          0,
          0,
          0,
          0,
          0,
          0,
          0,
          0,
          0,
          0,
          0,
          0,
          0,
          0,
          0,
          0,
          0,
          0,
          0,
          0,
          0,
          0,
          0,
          0,
          0,
          0,
          0,
          0,
          0,
          0,
          0,
          0,
          0,
          0,
          0,
          0,
          0,
          0,
          0,
          0,
          0,
          0,
          0,
          0,
          0,
          0,
          0,
          0,
          0,
          0,
          0,
          0,
          0,
          0,
          0,
          0,
          0,
          0,
          0,
          0,
          0,
          0,
          0,
          0,
          0,
          0,
          0,
          0,
          0,
          0,
          0,
          0,
          0,
          0,
          0,
          0,
          0,
          0,
          0,
          0,
          0,
          0,
          0,
          0,
          0,
          0,
          0,
          0,
          0,
          0,
          0,
          0,
          0,
          0,
          0,
          0,
          0,
          0,
          0,
          0,
          0,
          0,
          0,
          0,
          0,
          0,
          0,
          0,
          0,
          0,
          0,
          0,
          0,
          0,
          0,
          0,
          0,
          0,
          0,
          0,
          0,
          0,
          0,
          0,
          0,
          0,
          0,
          0,
          0,
          0,
          0,
          0,
          0,
          0,
          0,
          0,
          0,
          0,
          0,
          0,
          0,
          0,
          0,
          0,
          0,
          0,
          0,
          0,
          0,
          0,
          0,
          0,
          0,
          0,
          0,
          0,
          0,
          0,
          0,
          0,
          0,
          0,
          0,
          0,
          0,
          0,
          0,
          0,
          0,
          0,
          0,
          0,
          0,
          0,
          0,
          0,
          0,
          0,
          0,
          0,
          0,
          0,
          0,
          0,
          0,
          0,
          0,
          0,
          0,
          0,
          0,
          0,
          0,
          0,
          0,
          0,
          0,
          0,
          0,
          0,
          0,
          0,
          0,
          0,
          0,
          0,
          0,
          0,
          0,
          0,
          0,
          0,
          0,
          0,
          0,
          0,
          0,
          0,
          0,
          0,
          0,
          0,
          0,
          0,
          0,
          0,
          0,
          0,
          0,
          0,
          0,
          0,
          0,
          0,
          0,
          0,
          0,
          0,
          0,
          0,
          0,
          0,
          0,
          0,
          0,
          0,
          0,
          0,
          0,
          0,
          0,
          0,
          0,
          0,
          0,
          0,
          0,
          0,
          0,
          0,
          0,
          0,
          0,
          0,
          0,
          0,
          0,
          0,
          0,
          0,
          0,
          0,
          0,
          0,
          0,
          0,
          0,
          0,
          0,
          0,
          0,
          0,
          0,
          0,
          0,
          0,
          0,
          0,
          0,
          0,
          0,
          0,
          0,
          0,
          0,
          0,
          0,
          0,
          0,
          0,
          0,
          0,
          0,
          0,
          0,
          0,
          0,
          0,
          0,
          0,
          0,
          0,
          0,
          0,
          0,
          0,
          0,
          0,
          0,
          0,
          0,
          0,
          0,
          0,
          0,
          0,
          0,
          0,
          0,
          0,
          0,
          0,
          0,
          0,
          0,
          0,
          0,
          0,
          0,
          0,
          0,
          0,
          0,
          0,
          0,
          0,
          0,
          0,
          0,
          0,
          0,
          0,
          0,
          0,
          0,
          0,
          0,
          0
         ],
         "yaxis": "y"
        },
        {
         "name": "batch_size",
         "type": "box",
         "x": [
          1024,
          512,
          128,
          32,
          32,
          32,
          128,
          128,
          32,
          1024,
          32,
          1024,
          128,
          512,
          128,
          1024,
          128,
          32,
          32,
          32,
          512,
          32,
          32,
          512,
          512,
          128,
          128,
          512,
          32,
          128,
          128,
          1024,
          512,
          512,
          128,
          512,
          128,
          32,
          512,
          128,
          1024,
          512,
          512,
          128,
          128,
          512,
          512,
          1024,
          128,
          32,
          512,
          32,
          1024,
          32,
          512,
          1024,
          512,
          512,
          128,
          1024,
          1024,
          1024,
          512,
          512,
          32,
          1024,
          512,
          32,
          128,
          128,
          32,
          128,
          512,
          128,
          128,
          32,
          1024,
          128,
          1024,
          32,
          1024,
          32,
          32,
          32,
          32,
          32,
          512,
          128,
          128,
          32,
          512,
          32,
          32,
          1024,
          512,
          512,
          512,
          128,
          128,
          32,
          128,
          1024,
          128,
          32,
          1024,
          128,
          512,
          512,
          128,
          128,
          512,
          512,
          512,
          512,
          128,
          32,
          32,
          512,
          32,
          512,
          512,
          32,
          32,
          128,
          512,
          128,
          32,
          512,
          1024,
          32,
          128,
          128,
          1024,
          1024,
          1024,
          512,
          1024,
          1024,
          128,
          1024,
          32,
          128,
          32,
          512,
          1024,
          128,
          1024,
          32,
          32,
          1024,
          32,
          1024,
          32,
          1024,
          128,
          32,
          32,
          32,
          32,
          1024,
          128,
          1024,
          128,
          32,
          1024,
          128,
          32,
          128,
          32,
          512,
          128,
          128,
          32,
          32,
          32,
          128,
          32,
          1024,
          512,
          1024,
          512,
          128,
          32,
          32,
          512,
          1024,
          32,
          128,
          128,
          128,
          1024,
          32,
          512,
          128,
          32,
          32,
          128,
          512,
          128,
          512,
          1024,
          1024,
          128,
          512,
          128,
          512,
          128,
          1024,
          512,
          1024,
          128,
          1024,
          1024,
          512,
          1024,
          512,
          1024,
          1024,
          1024,
          1024,
          512,
          1024,
          128,
          1024,
          32,
          128,
          1024,
          512,
          1024,
          128,
          1024,
          512,
          512,
          32,
          1024,
          32,
          512,
          32,
          512,
          512,
          128,
          32,
          128,
          128,
          512,
          128,
          32,
          128,
          32,
          32,
          32,
          128,
          128,
          1024,
          128,
          1024,
          128,
          128,
          512,
          32,
          128,
          128,
          128,
          512,
          512,
          1024,
          32,
          512,
          128,
          512,
          32,
          512,
          128,
          512,
          512,
          128,
          512,
          512,
          32,
          128,
          32,
          32,
          512,
          512,
          512,
          512,
          512,
          32,
          512,
          512,
          32,
          128,
          512,
          512,
          32,
          128,
          128,
          128,
          128,
          512,
          128,
          32,
          128,
          512,
          512,
          512,
          128,
          512,
          1024,
          32,
          1024,
          512,
          1024,
          128,
          32,
          1024,
          128,
          512,
          32,
          128,
          128,
          1024,
          1024,
          128,
          1024,
          1024,
          32,
          1024,
          128,
          128,
          512,
          128,
          512,
          512,
          1024,
          512,
          512,
          32,
          512,
          32,
          1024,
          1024,
          128,
          1024,
          128,
          32,
          128,
          32,
          1024,
          128,
          32,
          1024,
          1024,
          1024,
          512,
          1024,
          1024,
          1024,
          32,
          1024,
          512,
          32,
          1024,
          1024,
          32,
          1024,
          1024,
          1024,
          32,
          128,
          1024,
          512,
          1024,
          32,
          32,
          32,
          1024,
          32,
          1024,
          1024,
          512,
          32,
          32,
          512,
          512,
          32,
          128,
          1024,
          512,
          32,
          128,
          32,
          512,
          1024,
          1024,
          128,
          1024,
          1024,
          32,
          128,
          512,
          32,
          128,
          32,
          512,
          32,
          512,
          512,
          512,
          512,
          32,
          512,
          32,
          128,
          512,
          32,
          32,
          32,
          512,
          512,
          32,
          128,
          32,
          512,
          512,
          128,
          32,
          32,
          1024,
          32,
          512,
          1024,
          512,
          1024,
          512,
          128,
          128,
          512,
          512,
          1024,
          512,
          1024,
          32,
          512,
          1024,
          32,
          512,
          1024,
          128,
          128,
          128,
          128,
          32,
          512,
          1024,
          1024,
          128,
          512,
          1024,
          128,
          512,
          512,
          1024,
          1024,
          512,
          512,
          32,
          128,
          512,
          512,
          128,
          1024,
          128,
          128,
          1024,
          128,
          128,
          32,
          1024,
          512,
          128,
          128,
          512,
          128,
          32,
          32,
          512,
          32,
          32,
          512,
          128,
          1024,
          1024,
          1024,
          512,
          1024,
          1024,
          32,
          32,
          512,
          128,
          128,
          1024,
          512,
          32,
          32,
          32,
          128,
          1024,
          512,
          128,
          1024,
          1024,
          32,
          512,
          512,
          128,
          512,
          32,
          1024,
          128,
          1024,
          32,
          512,
          512,
          128,
          1024,
          32,
          1024,
          128,
          128,
          512,
          32,
          1024,
          1024,
          512,
          1024,
          32,
          32,
          1024,
          32,
          1024,
          128,
          512,
          32,
          512,
          1024,
          32,
          128,
          512,
          128,
          1024,
          128,
          32,
          128,
          1024,
          128,
          128,
          128,
          512,
          1024,
          128,
          1024,
          1024,
          128,
          512,
          32,
          512,
          32,
          128,
          512,
          1024,
          512,
          32,
          1024,
          512,
          512,
          1024,
          128,
          512,
          32,
          128,
          32,
          1024,
          1024,
          128,
          32,
          128,
          1024,
          512,
          1024,
          1024,
          1024,
          1024,
          1024,
          1024,
          128,
          512,
          1024,
          128,
          128,
          1024,
          32,
          32,
          32,
          128,
          1024,
          1024,
          1024,
          512,
          32,
          32,
          1024,
          128,
          128,
          128,
          128,
          32,
          128,
          32,
          128,
          1024,
          128,
          1024,
          1024,
          1024,
          128,
          32,
          128,
          32,
          32,
          128,
          32,
          32,
          32,
          1024,
          128,
          128,
          32,
          1024,
          512,
          128,
          128,
          32,
          512,
          1024,
          32,
          1024,
          1024,
          512,
          1024,
          1024,
          512,
          512,
          1024,
          512,
          512,
          512,
          1024,
          1024,
          128,
          32,
          1024,
          32,
          512,
          1024,
          128,
          512,
          1024,
          1024,
          32,
          1024,
          32,
          128,
          512,
          128,
          32,
          512,
          128,
          128,
          1024,
          1024,
          512,
          32,
          1024,
          128,
          1024,
          512,
          1024,
          32,
          1024,
          1024,
          1024,
          512,
          512,
          128,
          512,
          32,
          1024,
          128,
          1024,
          128,
          1024,
          512,
          128,
          1024,
          32,
          128,
          128,
          512,
          32,
          32,
          32,
          32,
          32,
          128,
          512,
          128,
          32,
          128,
          32,
          128,
          512,
          32,
          32,
          1024,
          128,
          32,
          32,
          512,
          512,
          32,
          128,
          512,
          1024,
          512,
          32,
          128,
          512,
          512,
          512,
          32,
          1024,
          32,
          1024,
          512,
          1024,
          32,
          128,
          32,
          512,
          512,
          1024,
          512,
          512,
          32,
          32,
          1024,
          1024,
          512,
          1024,
          512,
          32,
          128,
          128,
          32,
          128,
          1024
         ],
         "xaxis": "x2",
         "y": [
          98.9822998046875,
          98.89260864257812,
          98.87449645996094,
          98.84634399414062,
          98.72239685058594,
          98.66903686523438,
          98.64631652832033,
          98.64541625976562,
          98.6295928955078,
          98.6107940673828,
          98.59496307373048,
          98.5821304321289,
          98.57769775390624,
          98.57167053222656,
          98.5709228515625,
          98.56266021728516,
          98.54762268066406,
          98.5454559326172,
          98.53609466552734,
          98.51893615722656,
          98.51385498046876,
          98.51094818115234,
          98.49971771240234,
          98.48509216308594,
          98.47417449951172,
          98.47180938720705,
          98.46562957763672,
          98.46517944335938,
          98.45996856689452,
          98.4502410888672,
          98.44566345214844,
          98.42056274414062,
          98.41806030273438,
          98.41436767578124,
          98.41143798828124,
          98.40106201171876,
          98.3873519897461,
          98.38502502441406,
          98.38286590576172,
          98.37709045410156,
          98.36708068847656,
          98.36528778076172,
          98.3453598022461,
          98.33273315429688,
          98.33255767822266,
          98.31326293945312,
          98.29581451416016,
          98.29285430908205,
          98.29102325439452,
          98.28487396240234,
          98.27808380126952,
          98.26820373535156,
          98.25696563720705,
          98.2520523071289,
          98.24124908447266,
          98.23980712890624,
          98.23013305664062,
          98.22616577148438,
          98.224853515625,
          98.22364807128906,
          98.21053314208984,
          98.20922088623048,
          98.20565795898438,
          98.20547485351562,
          98.2054443359375,
          98.20511627197266,
          98.20410919189452,
          98.20298767089844,
          98.19668579101562,
          98.19523620605467,
          98.17539978027344,
          98.17124938964844,
          98.16822052001952,
          98.1502685546875,
          98.13873291015624,
          98.126708984375,
          98.11810302734376,
          98.11681365966795,
          98.1014404296875,
          98.09747314453124,
          98.0964813232422,
          98.09375,
          98.08969116210938,
          98.08294677734376,
          98.07008361816406,
          98.06781768798828,
          98.05298614501952,
          98.04692840576172,
          98.0408935546875,
          98.03399658203124,
          98.03192901611328,
          98.03111267089844,
          98.02599334716795,
          98.02054595947266,
          98.02009582519533,
          98.01966857910156,
          98.01885986328124,
          98.0155029296875,
          98.01161193847656,
          98.0113296508789,
          98.00157928466795,
          97.99784088134766,
          97.98326873779295,
          97.97834014892578,
          97.97763061523438,
          97.97515106201172,
          97.96895599365234,
          97.96083068847656,
          97.96075439453124,
          97.95887756347656,
          97.93726348876952,
          97.9363021850586,
          97.9289779663086,
          97.92639923095705,
          97.92586517333984,
          97.92476654052734,
          97.90099334716795,
          97.9002685546875,
          97.89966583251952,
          97.89669799804688,
          97.89312744140624,
          97.88835144042967,
          97.88493347167967,
          97.88429260253906,
          97.87474060058594,
          97.86359405517578,
          97.85253143310548,
          97.84007263183594,
          97.84000396728516,
          97.83074951171876,
          97.82604217529295,
          97.82108306884766,
          97.8116226196289,
          97.80868530273438,
          97.78947448730467,
          97.7882308959961,
          97.78244018554688,
          97.77166748046876,
          97.7704620361328,
          97.76944732666016,
          97.76673126220705,
          97.7663803100586,
          97.7547378540039,
          97.75092315673828,
          97.73106384277344,
          97.7303237915039,
          97.72840881347656,
          97.7238540649414,
          97.71002197265624,
          97.70951080322266,
          97.70897674560548,
          97.7000503540039,
          97.69694519042967,
          97.6865692138672,
          97.67752075195312,
          97.66934967041016,
          97.66747283935548,
          97.64984130859376,
          97.646240234375,
          97.63426208496094,
          97.63240814208984,
          97.62933349609376,
          97.62073516845705,
          97.61370086669922,
          97.58937072753906,
          97.58326721191406,
          97.5828857421875,
          97.57915496826172,
          97.5778350830078,
          97.56886291503906,
          97.56527709960938,
          97.5455322265625,
          97.53936767578124,
          97.5334243774414,
          97.53062438964844,
          97.52886962890624,
          97.50324249267578,
          97.49105072021484,
          97.48680877685548,
          97.48114013671876,
          97.47201538085938,
          97.45431518554688,
          97.43515014648438,
          97.41413116455078,
          97.40907287597656,
          97.4083480834961,
          97.4060287475586,
          97.39932250976562,
          97.38507080078124,
          97.3684539794922,
          97.32997131347656,
          97.22595977783205,
          97.218505859375,
          97.212646484375,
          97.2061004638672,
          97.19743347167967,
          97.17827606201172,
          97.17689514160156,
          97.17020416259766,
          97.15495300292967,
          97.15225982666016,
          97.1471710205078,
          97.13197326660156,
          97.09343719482422,
          97.08607482910156,
          97.0301284790039,
          97.02660369873048,
          97.01844787597656,
          96.9895477294922,
          96.97122955322266,
          96.93278503417967,
          96.88873291015624,
          96.83387756347656,
          96.82450103759766,
          96.70923614501952,
          96.6952896118164,
          96.6936264038086,
          96.6901397705078,
          96.68496704101562,
          96.65316009521484,
          96.6144790649414,
          96.41548919677734,
          96.41498565673828,
          96.3361587524414,
          96.32294464111328,
          96.23152923583984,
          96.2197265625,
          96.21514129638672,
          96.14468383789062,
          96.11605834960938,
          96.1152114868164,
          96.10822296142578,
          96.103515625,
          96.09786224365234,
          96.08468627929688,
          96.0687255859375,
          96.05825805664062,
          95.97563934326172,
          95.96310424804688,
          95.94401550292967,
          95.92322540283205,
          95.89581298828124,
          95.89462280273438,
          95.87155151367188,
          95.86812591552734,
          95.79630279541016,
          95.779296875,
          95.7741241455078,
          95.7300796508789,
          95.72159576416016,
          95.7122802734375,
          95.68025207519533,
          95.63919067382812,
          95.62578582763672,
          95.5737075805664,
          95.55643463134766,
          95.50493621826172,
          95.49427032470705,
          95.44329833984376,
          95.43963623046876,
          95.42822265625,
          95.41888427734376,
          95.40809631347656,
          95.3564224243164,
          95.30950164794922,
          95.30123138427734,
          95.29904174804688,
          95.27518463134766,
          95.27469635009766,
          95.2461395263672,
          95.22815704345705,
          95.20242309570312,
          95.17118072509766,
          95.16346740722656,
          95.1210479736328,
          95.04354095458984,
          94.9228973388672,
          94.86884307861328,
          94.84434509277344,
          94.8093719482422,
          94.80098724365234,
          94.79791259765624,
          94.79060363769533,
          94.78191375732422,
          94.7685775756836,
          94.7275161743164,
          94.7109832763672,
          94.63507843017578,
          94.6042022705078,
          94.56676483154295,
          94.53546142578124,
          94.52093505859376,
          94.47543334960938,
          94.46856689453124,
          94.45772552490234,
          94.40021514892578,
          94.3848648071289,
          94.35118103027344,
          94.19383239746094,
          94.1611557006836,
          94.14279174804688,
          94.14152526855467,
          94.0475616455078,
          93.92176055908205,
          93.9067840576172,
          93.88818359375,
          93.78759765625,
          93.75489044189452,
          93.67791748046876,
          93.67427825927734,
          93.67127990722656,
          93.65634155273438,
          93.64763641357422,
          93.60559844970705,
          93.58219146728516,
          93.56428527832033,
          93.5278778076172,
          93.44540405273438,
          93.43289184570312,
          93.35698699951172,
          93.3440170288086,
          93.3387680053711,
          93.31680297851562,
          93.20411682128906,
          93.20045471191406,
          93.1983413696289,
          93.09524536132812,
          93.07684326171876,
          93.06507873535156,
          93.00845336914062,
          92.96414947509766,
          92.84396362304688,
          92.82923889160156,
          92.7813491821289,
          92.74246978759766,
          92.5822525024414,
          92.57538604736328,
          92.56693267822266,
          92.54094696044922,
          92.5365219116211,
          92.49945068359376,
          92.38400268554688,
          92.3834228515625,
          92.36365509033205,
          92.21099853515624,
          92.20194244384766,
          92.177734375,
          92.15391540527344,
          92.1267318725586,
          92.0561065673828,
          92.03173065185548,
          91.93814086914062,
          91.90593719482422,
          91.78204345703124,
          91.70299530029295,
          91.66506958007812,
          91.63421630859376,
          91.62477111816406,
          91.58558654785156,
          91.55591583251952,
          91.50845336914062,
          91.50315856933594,
          91.44302368164062,
          91.4220199584961,
          91.30680847167967,
          91.2894287109375,
          91.27079010009766,
          91.22115325927734,
          91.054931640625,
          91.03814697265624,
          90.97862243652344,
          90.89635467529295,
          90.84000396728516,
          90.77008819580078,
          90.75152587890624,
          90.73247528076172,
          90.660888671875,
          90.65862274169922,
          90.59855651855467,
          90.59503936767578,
          90.54473876953124,
          90.45059967041016,
          90.42214965820312,
          90.36823272705078,
          89.94795989990234,
          89.91593933105469,
          89.88746643066406,
          89.70743560791016,
          89.65009307861328,
          89.3011703491211,
          89.24322509765625,
          88.65019989013672,
          87.72977447509766,
          87.68255615234375,
          87.61225128173828,
          87.52019500732422,
          87.05554962158203,
          86.95471954345703,
          86.54139709472656,
          86.45651245117188,
          86.44223022460938,
          85.86546325683594,
          0,
          0,
          0,
          0,
          0,
          0,
          0,
          0,
          0,
          0,
          0,
          0,
          0,
          0,
          0,
          0,
          0,
          0,
          0,
          0,
          0,
          0,
          0,
          0,
          0,
          0,
          0,
          0,
          0,
          0,
          0,
          0,
          0,
          0,
          0,
          0,
          0,
          0,
          0,
          0,
          0,
          0,
          0,
          0,
          0,
          0,
          0,
          0,
          0,
          0,
          0,
          0,
          0,
          0,
          0,
          0,
          0,
          0,
          0,
          0,
          0,
          0,
          0,
          0,
          0,
          0,
          0,
          0,
          0,
          0,
          0,
          0,
          0,
          0,
          0,
          0,
          0,
          0,
          0,
          0,
          0,
          0,
          0,
          0,
          0,
          0,
          0,
          0,
          0,
          0,
          0,
          0,
          0,
          0,
          0,
          0,
          0,
          0,
          0,
          0,
          0,
          0,
          0,
          0,
          0,
          0,
          0,
          0,
          0,
          0,
          0,
          0,
          0,
          0,
          0,
          0,
          0,
          0,
          0,
          0,
          0,
          0,
          0,
          0,
          0,
          0,
          0,
          0,
          0,
          0,
          0,
          0,
          0,
          0,
          0,
          0,
          0,
          0,
          0,
          0,
          0,
          0,
          0,
          0,
          0,
          0,
          0,
          0,
          0,
          0,
          0,
          0,
          0,
          0,
          0,
          0,
          0,
          0,
          0,
          0,
          0,
          0,
          0,
          0,
          0,
          0,
          0,
          0,
          0,
          0,
          0,
          0,
          0,
          0,
          0,
          0,
          0,
          0,
          0,
          0,
          0,
          0,
          0,
          0,
          0,
          0,
          0,
          0,
          0,
          0,
          0,
          0,
          0,
          0,
          0,
          0,
          0,
          0,
          0,
          0,
          0,
          0,
          0,
          0,
          0,
          0,
          0,
          0,
          0,
          0,
          0,
          0,
          0,
          0,
          0,
          0,
          0,
          0,
          0,
          0,
          0,
          0,
          0,
          0,
          0,
          0,
          0,
          0,
          0,
          0,
          0,
          0,
          0,
          0,
          0,
          0,
          0,
          0,
          0,
          0,
          0,
          0,
          0,
          0,
          0,
          0,
          0,
          0,
          0,
          0,
          0,
          0,
          0,
          0,
          0,
          0,
          0,
          0,
          0,
          0,
          0,
          0,
          0,
          0,
          0,
          0,
          0,
          0,
          0,
          0,
          0,
          0,
          0,
          0,
          0,
          0,
          0,
          0,
          0,
          0,
          0,
          0,
          0,
          0,
          0,
          0,
          0,
          0,
          0,
          0,
          0,
          0,
          0,
          0,
          0,
          0,
          0,
          0,
          0,
          0,
          0,
          0,
          0,
          0,
          0,
          0,
          0,
          0,
          0,
          0,
          0,
          0,
          0,
          0,
          0,
          0,
          0,
          0,
          0,
          0,
          0,
          0,
          0,
          0,
          0,
          0,
          0,
          0,
          0,
          0,
          0,
          0,
          0,
          0,
          0,
          0,
          0,
          0,
          0,
          0,
          0,
          0,
          0,
          0,
          0,
          0,
          0,
          0,
          0,
          0,
          0,
          0,
          0,
          0,
          0,
          0,
          0,
          0,
          0,
          0,
          0,
          0,
          0,
          0,
          0,
          0
         ],
         "yaxis": "y2"
        },
        {
         "name": "seq_len",
         "type": "box",
         "x": [
          40,
          160,
          160,
          160,
          160,
          80,
          80,
          80,
          160,
          80,
          40,
          320,
          80,
          80,
          160,
          40,
          40,
          160,
          160,
          80,
          160,
          80,
          40,
          80,
          160,
          40,
          320,
          40,
          40,
          40,
          80,
          320,
          160,
          160,
          40,
          40,
          40,
          80,
          40,
          160,
          80,
          40,
          40,
          160,
          320,
          160,
          80,
          40,
          160,
          40,
          40,
          160,
          160,
          40,
          80,
          80,
          40,
          40,
          160,
          160,
          40,
          160,
          80,
          40,
          80,
          320,
          160,
          160,
          80,
          160,
          320,
          320,
          40,
          160,
          40,
          40,
          160,
          80,
          40,
          80,
          160,
          80,
          80,
          80,
          40,
          160,
          160,
          320,
          80,
          40,
          40,
          160,
          320,
          40,
          80,
          160,
          80,
          320,
          40,
          40,
          160,
          160,
          80,
          160,
          80,
          80,
          160,
          80,
          40,
          80,
          40,
          80,
          160,
          40,
          320,
          320,
          80,
          80,
          160,
          320,
          160,
          160,
          80,
          160,
          40,
          40,
          160,
          40,
          80,
          80,
          320,
          80,
          320,
          80,
          40,
          80,
          40,
          160,
          160,
          80,
          80,
          40,
          80,
          80,
          320,
          160,
          320,
          40,
          160,
          40,
          160,
          320,
          320,
          40,
          160,
          40,
          80,
          40,
          80,
          320,
          80,
          80,
          160,
          320,
          40,
          320,
          320,
          80,
          80,
          320,
          160,
          160,
          40,
          160,
          320,
          40,
          40,
          80,
          160,
          160,
          80,
          320,
          40,
          320,
          320,
          80,
          40,
          320,
          160,
          80,
          160,
          40,
          320,
          160,
          320,
          160,
          160,
          80,
          40,
          80,
          80,
          320,
          160,
          320,
          320,
          80,
          320,
          80,
          80,
          80,
          320,
          80,
          160,
          160,
          40,
          80,
          320,
          320,
          80,
          80,
          320,
          40,
          80,
          160,
          80,
          320,
          160,
          40,
          160,
          320,
          160,
          320,
          320,
          320,
          40,
          160,
          160,
          320,
          320,
          320,
          320,
          320,
          40,
          40,
          160,
          40,
          320,
          320,
          320,
          320,
          160,
          40,
          40,
          320,
          40,
          40,
          80,
          80,
          80,
          320,
          40,
          320,
          80,
          80,
          40,
          40,
          80,
          40,
          40,
          40,
          80,
          80,
          40,
          80,
          40,
          80,
          320,
          40,
          320,
          40,
          80,
          40,
          40,
          80,
          40,
          40,
          80,
          80,
          320,
          40,
          40,
          320,
          80,
          160,
          40,
          80,
          80,
          40,
          160,
          80,
          80,
          160,
          80,
          40,
          160,
          80,
          160,
          160,
          40,
          40,
          160,
          160,
          40,
          160,
          160,
          160,
          160,
          40,
          160,
          160,
          320,
          80,
          160,
          40,
          40,
          80,
          160,
          40,
          160,
          160,
          160,
          160,
          40,
          40,
          160,
          80,
          160,
          160,
          40,
          80,
          160,
          160,
          160,
          80,
          160,
          40,
          80,
          80,
          320,
          320,
          160,
          320,
          40,
          320,
          160,
          320,
          320,
          80,
          160,
          80,
          320,
          320,
          160,
          80,
          320,
          320,
          40,
          160,
          80,
          320,
          160,
          320,
          320,
          160,
          320,
          40,
          320,
          320,
          40,
          320,
          160,
          320,
          40,
          320,
          320,
          40,
          320,
          160,
          320,
          40,
          320,
          320,
          320,
          320,
          320,
          320,
          320,
          40,
          320,
          320,
          320,
          320,
          160,
          320,
          80,
          40,
          160,
          80,
          40,
          80,
          320,
          320,
          80,
          320,
          320,
          80,
          40,
          160,
          40,
          160,
          320,
          320,
          160,
          320,
          320,
          40,
          320,
          320,
          160,
          40,
          160,
          40,
          320,
          40,
          40,
          320,
          40,
          160,
          80,
          160,
          320,
          80,
          160,
          80,
          320,
          40,
          320,
          320,
          40,
          40,
          80,
          320,
          160,
          320,
          160,
          320,
          160,
          80,
          40,
          80,
          160,
          40,
          320,
          320,
          320,
          80,
          80,
          80,
          320,
          80,
          80,
          40,
          160,
          160,
          40,
          320,
          40,
          320,
          320,
          320,
          80,
          320,
          40,
          40,
          160,
          160,
          80,
          160,
          80,
          40,
          40,
          320,
          160,
          80,
          80,
          160,
          320,
          40,
          40,
          320,
          320,
          80,
          40,
          40,
          40,
          40,
          40,
          160,
          40,
          80,
          320,
          320,
          80,
          160,
          320,
          320,
          40,
          320,
          80,
          320,
          160,
          320,
          160,
          40,
          320,
          320,
          80,
          40,
          160,
          160,
          80,
          160,
          40,
          80,
          80,
          80,
          40,
          80,
          160,
          320,
          160,
          320,
          80,
          160,
          320,
          160,
          160,
          80,
          320,
          40,
          160,
          160,
          80,
          40,
          80,
          160,
          80,
          320,
          40,
          320,
          80,
          320,
          40,
          160,
          80,
          40,
          320,
          320,
          80,
          80,
          320,
          160,
          40,
          80,
          160,
          160,
          40,
          80,
          40,
          320,
          80,
          320,
          320,
          160,
          80,
          320,
          80,
          160,
          80,
          160,
          40,
          80,
          80,
          80,
          320,
          160,
          320,
          320,
          320,
          80,
          40,
          80,
          80,
          160,
          80,
          80,
          160,
          40,
          40,
          80,
          80,
          40,
          160,
          80,
          40,
          320,
          320,
          320,
          40,
          320,
          160,
          40,
          40,
          160,
          40,
          160,
          40,
          80,
          160,
          80,
          40,
          80,
          160,
          320,
          160,
          160,
          40,
          320,
          320,
          80,
          320,
          40,
          80,
          320,
          40,
          80,
          160,
          320,
          160,
          160,
          80,
          80,
          80,
          160,
          320,
          40,
          160,
          320,
          80,
          40,
          160,
          320,
          80,
          80,
          320,
          40,
          320,
          160,
          80,
          40,
          320,
          40,
          160,
          80,
          160,
          320,
          40,
          40,
          80,
          160,
          320,
          80,
          160,
          160,
          320,
          40,
          320,
          160,
          160,
          80,
          320,
          40,
          40,
          40,
          80,
          80,
          320,
          160,
          40,
          160,
          40,
          160,
          80,
          80,
          160,
          40,
          320,
          40,
          80,
          160,
          320,
          160,
          320,
          80,
          40,
          40,
          320,
          40,
          160,
          40,
          80,
          40,
          80,
          320,
          40,
          80,
          40,
          320,
          40,
          320,
          320,
          40,
          80,
          160,
          40,
          320,
          80,
          160,
          40,
          160,
          160,
          320,
          160,
          80,
          80,
          160,
          320,
          80,
          320,
          40,
          160,
          160,
          80,
          80,
          80,
          160,
          40,
          160,
          320,
          80,
          320,
          40,
          40,
          160,
          80,
          320,
          320,
          160
         ],
         "xaxis": "x3",
         "y": [
          98.9822998046875,
          98.89260864257812,
          98.87449645996094,
          98.84634399414062,
          98.72239685058594,
          98.66903686523438,
          98.64631652832033,
          98.64541625976562,
          98.6295928955078,
          98.6107940673828,
          98.59496307373048,
          98.5821304321289,
          98.57769775390624,
          98.57167053222656,
          98.5709228515625,
          98.56266021728516,
          98.54762268066406,
          98.5454559326172,
          98.53609466552734,
          98.51893615722656,
          98.51385498046876,
          98.51094818115234,
          98.49971771240234,
          98.48509216308594,
          98.47417449951172,
          98.47180938720705,
          98.46562957763672,
          98.46517944335938,
          98.45996856689452,
          98.4502410888672,
          98.44566345214844,
          98.42056274414062,
          98.41806030273438,
          98.41436767578124,
          98.41143798828124,
          98.40106201171876,
          98.3873519897461,
          98.38502502441406,
          98.38286590576172,
          98.37709045410156,
          98.36708068847656,
          98.36528778076172,
          98.3453598022461,
          98.33273315429688,
          98.33255767822266,
          98.31326293945312,
          98.29581451416016,
          98.29285430908205,
          98.29102325439452,
          98.28487396240234,
          98.27808380126952,
          98.26820373535156,
          98.25696563720705,
          98.2520523071289,
          98.24124908447266,
          98.23980712890624,
          98.23013305664062,
          98.22616577148438,
          98.224853515625,
          98.22364807128906,
          98.21053314208984,
          98.20922088623048,
          98.20565795898438,
          98.20547485351562,
          98.2054443359375,
          98.20511627197266,
          98.20410919189452,
          98.20298767089844,
          98.19668579101562,
          98.19523620605467,
          98.17539978027344,
          98.17124938964844,
          98.16822052001952,
          98.1502685546875,
          98.13873291015624,
          98.126708984375,
          98.11810302734376,
          98.11681365966795,
          98.1014404296875,
          98.09747314453124,
          98.0964813232422,
          98.09375,
          98.08969116210938,
          98.08294677734376,
          98.07008361816406,
          98.06781768798828,
          98.05298614501952,
          98.04692840576172,
          98.0408935546875,
          98.03399658203124,
          98.03192901611328,
          98.03111267089844,
          98.02599334716795,
          98.02054595947266,
          98.02009582519533,
          98.01966857910156,
          98.01885986328124,
          98.0155029296875,
          98.01161193847656,
          98.0113296508789,
          98.00157928466795,
          97.99784088134766,
          97.98326873779295,
          97.97834014892578,
          97.97763061523438,
          97.97515106201172,
          97.96895599365234,
          97.96083068847656,
          97.96075439453124,
          97.95887756347656,
          97.93726348876952,
          97.9363021850586,
          97.9289779663086,
          97.92639923095705,
          97.92586517333984,
          97.92476654052734,
          97.90099334716795,
          97.9002685546875,
          97.89966583251952,
          97.89669799804688,
          97.89312744140624,
          97.88835144042967,
          97.88493347167967,
          97.88429260253906,
          97.87474060058594,
          97.86359405517578,
          97.85253143310548,
          97.84007263183594,
          97.84000396728516,
          97.83074951171876,
          97.82604217529295,
          97.82108306884766,
          97.8116226196289,
          97.80868530273438,
          97.78947448730467,
          97.7882308959961,
          97.78244018554688,
          97.77166748046876,
          97.7704620361328,
          97.76944732666016,
          97.76673126220705,
          97.7663803100586,
          97.7547378540039,
          97.75092315673828,
          97.73106384277344,
          97.7303237915039,
          97.72840881347656,
          97.7238540649414,
          97.71002197265624,
          97.70951080322266,
          97.70897674560548,
          97.7000503540039,
          97.69694519042967,
          97.6865692138672,
          97.67752075195312,
          97.66934967041016,
          97.66747283935548,
          97.64984130859376,
          97.646240234375,
          97.63426208496094,
          97.63240814208984,
          97.62933349609376,
          97.62073516845705,
          97.61370086669922,
          97.58937072753906,
          97.58326721191406,
          97.5828857421875,
          97.57915496826172,
          97.5778350830078,
          97.56886291503906,
          97.56527709960938,
          97.5455322265625,
          97.53936767578124,
          97.5334243774414,
          97.53062438964844,
          97.52886962890624,
          97.50324249267578,
          97.49105072021484,
          97.48680877685548,
          97.48114013671876,
          97.47201538085938,
          97.45431518554688,
          97.43515014648438,
          97.41413116455078,
          97.40907287597656,
          97.4083480834961,
          97.4060287475586,
          97.39932250976562,
          97.38507080078124,
          97.3684539794922,
          97.32997131347656,
          97.22595977783205,
          97.218505859375,
          97.212646484375,
          97.2061004638672,
          97.19743347167967,
          97.17827606201172,
          97.17689514160156,
          97.17020416259766,
          97.15495300292967,
          97.15225982666016,
          97.1471710205078,
          97.13197326660156,
          97.09343719482422,
          97.08607482910156,
          97.0301284790039,
          97.02660369873048,
          97.01844787597656,
          96.9895477294922,
          96.97122955322266,
          96.93278503417967,
          96.88873291015624,
          96.83387756347656,
          96.82450103759766,
          96.70923614501952,
          96.6952896118164,
          96.6936264038086,
          96.6901397705078,
          96.68496704101562,
          96.65316009521484,
          96.6144790649414,
          96.41548919677734,
          96.41498565673828,
          96.3361587524414,
          96.32294464111328,
          96.23152923583984,
          96.2197265625,
          96.21514129638672,
          96.14468383789062,
          96.11605834960938,
          96.1152114868164,
          96.10822296142578,
          96.103515625,
          96.09786224365234,
          96.08468627929688,
          96.0687255859375,
          96.05825805664062,
          95.97563934326172,
          95.96310424804688,
          95.94401550292967,
          95.92322540283205,
          95.89581298828124,
          95.89462280273438,
          95.87155151367188,
          95.86812591552734,
          95.79630279541016,
          95.779296875,
          95.7741241455078,
          95.7300796508789,
          95.72159576416016,
          95.7122802734375,
          95.68025207519533,
          95.63919067382812,
          95.62578582763672,
          95.5737075805664,
          95.55643463134766,
          95.50493621826172,
          95.49427032470705,
          95.44329833984376,
          95.43963623046876,
          95.42822265625,
          95.41888427734376,
          95.40809631347656,
          95.3564224243164,
          95.30950164794922,
          95.30123138427734,
          95.29904174804688,
          95.27518463134766,
          95.27469635009766,
          95.2461395263672,
          95.22815704345705,
          95.20242309570312,
          95.17118072509766,
          95.16346740722656,
          95.1210479736328,
          95.04354095458984,
          94.9228973388672,
          94.86884307861328,
          94.84434509277344,
          94.8093719482422,
          94.80098724365234,
          94.79791259765624,
          94.79060363769533,
          94.78191375732422,
          94.7685775756836,
          94.7275161743164,
          94.7109832763672,
          94.63507843017578,
          94.6042022705078,
          94.56676483154295,
          94.53546142578124,
          94.52093505859376,
          94.47543334960938,
          94.46856689453124,
          94.45772552490234,
          94.40021514892578,
          94.3848648071289,
          94.35118103027344,
          94.19383239746094,
          94.1611557006836,
          94.14279174804688,
          94.14152526855467,
          94.0475616455078,
          93.92176055908205,
          93.9067840576172,
          93.88818359375,
          93.78759765625,
          93.75489044189452,
          93.67791748046876,
          93.67427825927734,
          93.67127990722656,
          93.65634155273438,
          93.64763641357422,
          93.60559844970705,
          93.58219146728516,
          93.56428527832033,
          93.5278778076172,
          93.44540405273438,
          93.43289184570312,
          93.35698699951172,
          93.3440170288086,
          93.3387680053711,
          93.31680297851562,
          93.20411682128906,
          93.20045471191406,
          93.1983413696289,
          93.09524536132812,
          93.07684326171876,
          93.06507873535156,
          93.00845336914062,
          92.96414947509766,
          92.84396362304688,
          92.82923889160156,
          92.7813491821289,
          92.74246978759766,
          92.5822525024414,
          92.57538604736328,
          92.56693267822266,
          92.54094696044922,
          92.5365219116211,
          92.49945068359376,
          92.38400268554688,
          92.3834228515625,
          92.36365509033205,
          92.21099853515624,
          92.20194244384766,
          92.177734375,
          92.15391540527344,
          92.1267318725586,
          92.0561065673828,
          92.03173065185548,
          91.93814086914062,
          91.90593719482422,
          91.78204345703124,
          91.70299530029295,
          91.66506958007812,
          91.63421630859376,
          91.62477111816406,
          91.58558654785156,
          91.55591583251952,
          91.50845336914062,
          91.50315856933594,
          91.44302368164062,
          91.4220199584961,
          91.30680847167967,
          91.2894287109375,
          91.27079010009766,
          91.22115325927734,
          91.054931640625,
          91.03814697265624,
          90.97862243652344,
          90.89635467529295,
          90.84000396728516,
          90.77008819580078,
          90.75152587890624,
          90.73247528076172,
          90.660888671875,
          90.65862274169922,
          90.59855651855467,
          90.59503936767578,
          90.54473876953124,
          90.45059967041016,
          90.42214965820312,
          90.36823272705078,
          89.94795989990234,
          89.91593933105469,
          89.88746643066406,
          89.70743560791016,
          89.65009307861328,
          89.3011703491211,
          89.24322509765625,
          88.65019989013672,
          87.72977447509766,
          87.68255615234375,
          87.61225128173828,
          87.52019500732422,
          87.05554962158203,
          86.95471954345703,
          86.54139709472656,
          86.45651245117188,
          86.44223022460938,
          85.86546325683594,
          0,
          0,
          0,
          0,
          0,
          0,
          0,
          0,
          0,
          0,
          0,
          0,
          0,
          0,
          0,
          0,
          0,
          0,
          0,
          0,
          0,
          0,
          0,
          0,
          0,
          0,
          0,
          0,
          0,
          0,
          0,
          0,
          0,
          0,
          0,
          0,
          0,
          0,
          0,
          0,
          0,
          0,
          0,
          0,
          0,
          0,
          0,
          0,
          0,
          0,
          0,
          0,
          0,
          0,
          0,
          0,
          0,
          0,
          0,
          0,
          0,
          0,
          0,
          0,
          0,
          0,
          0,
          0,
          0,
          0,
          0,
          0,
          0,
          0,
          0,
          0,
          0,
          0,
          0,
          0,
          0,
          0,
          0,
          0,
          0,
          0,
          0,
          0,
          0,
          0,
          0,
          0,
          0,
          0,
          0,
          0,
          0,
          0,
          0,
          0,
          0,
          0,
          0,
          0,
          0,
          0,
          0,
          0,
          0,
          0,
          0,
          0,
          0,
          0,
          0,
          0,
          0,
          0,
          0,
          0,
          0,
          0,
          0,
          0,
          0,
          0,
          0,
          0,
          0,
          0,
          0,
          0,
          0,
          0,
          0,
          0,
          0,
          0,
          0,
          0,
          0,
          0,
          0,
          0,
          0,
          0,
          0,
          0,
          0,
          0,
          0,
          0,
          0,
          0,
          0,
          0,
          0,
          0,
          0,
          0,
          0,
          0,
          0,
          0,
          0,
          0,
          0,
          0,
          0,
          0,
          0,
          0,
          0,
          0,
          0,
          0,
          0,
          0,
          0,
          0,
          0,
          0,
          0,
          0,
          0,
          0,
          0,
          0,
          0,
          0,
          0,
          0,
          0,
          0,
          0,
          0,
          0,
          0,
          0,
          0,
          0,
          0,
          0,
          0,
          0,
          0,
          0,
          0,
          0,
          0,
          0,
          0,
          0,
          0,
          0,
          0,
          0,
          0,
          0,
          0,
          0,
          0,
          0,
          0,
          0,
          0,
          0,
          0,
          0,
          0,
          0,
          0,
          0,
          0,
          0,
          0,
          0,
          0,
          0,
          0,
          0,
          0,
          0,
          0,
          0,
          0,
          0,
          0,
          0,
          0,
          0,
          0,
          0,
          0,
          0,
          0,
          0,
          0,
          0,
          0,
          0,
          0,
          0,
          0,
          0,
          0,
          0,
          0,
          0,
          0,
          0,
          0,
          0,
          0,
          0,
          0,
          0,
          0,
          0,
          0,
          0,
          0,
          0,
          0,
          0,
          0,
          0,
          0,
          0,
          0,
          0,
          0,
          0,
          0,
          0,
          0,
          0,
          0,
          0,
          0,
          0,
          0,
          0,
          0,
          0,
          0,
          0,
          0,
          0,
          0,
          0,
          0,
          0,
          0,
          0,
          0,
          0,
          0,
          0,
          0,
          0,
          0,
          0,
          0,
          0,
          0,
          0,
          0,
          0,
          0,
          0,
          0,
          0,
          0,
          0,
          0,
          0,
          0,
          0,
          0,
          0,
          0,
          0,
          0,
          0,
          0,
          0,
          0,
          0,
          0,
          0,
          0,
          0,
          0,
          0,
          0,
          0,
          0,
          0,
          0,
          0,
          0,
          0,
          0,
          0,
          0
         ],
         "yaxis": "y3"
        },
        {
         "name": "seq_est_len",
         "type": "box",
         "x": [
          80,
          80,
          40,
          80,
          80,
          20,
          80,
          40,
          10,
          10,
          80,
          80,
          10,
          20,
          10,
          40,
          80,
          40,
          80,
          80,
          80,
          40,
          20,
          20,
          20,
          10,
          40,
          40,
          40,
          10,
          80,
          40,
          20,
          40,
          80,
          40,
          20,
          10,
          80,
          80,
          20,
          20,
          40,
          20,
          40,
          80,
          80,
          20,
          20,
          40,
          20,
          40,
          10,
          40,
          40,
          20,
          80,
          80,
          10,
          10,
          80,
          40,
          40,
          20,
          80,
          20,
          20,
          20,
          20,
          80,
          10,
          40,
          80,
          40,
          80,
          20,
          20,
          40,
          20,
          40,
          20,
          20,
          40,
          20,
          40,
          20,
          40,
          20,
          40,
          20,
          40,
          40,
          40,
          80,
          10,
          40,
          80,
          10,
          40,
          80,
          80,
          20,
          20,
          40,
          20,
          80,
          10,
          80,
          20,
          40,
          20,
          80,
          20,
          20,
          10,
          20,
          40,
          20,
          40,
          40,
          80,
          80,
          20,
          20,
          80,
          80,
          10,
          20,
          10,
          20,
          40,
          80,
          10,
          40,
          20,
          40,
          20,
          80,
          40,
          40,
          20,
          40,
          80,
          80,
          10,
          10,
          10,
          80,
          80,
          10,
          10,
          20,
          40,
          40,
          20,
          40,
          20,
          80,
          80,
          20,
          40,
          10,
          20,
          40,
          40,
          40,
          10,
          40,
          20,
          40,
          10,
          10,
          10,
          40,
          10,
          20,
          20,
          40,
          20,
          40,
          10,
          80,
          40,
          40,
          20,
          20,
          80,
          80,
          20,
          40,
          80,
          10,
          40,
          80,
          80,
          80,
          40,
          80,
          80,
          80,
          80,
          40,
          20,
          20,
          20,
          10,
          20,
          40,
          40,
          80,
          10,
          10,
          80,
          10,
          20,
          10,
          40,
          40,
          10,
          40,
          40,
          40,
          10,
          40,
          10,
          40,
          40,
          10,
          20,
          10,
          10,
          80,
          10,
          20,
          80,
          10,
          40,
          10,
          20,
          80,
          10,
          20,
          20,
          10,
          10,
          10,
          80,
          10,
          40,
          80,
          10,
          40,
          80,
          40,
          20,
          10,
          10,
          20,
          40,
          80,
          80,
          20,
          80,
          20,
          20,
          10,
          80,
          10,
          40,
          10,
          10,
          10,
          10,
          80,
          40,
          80,
          40,
          20,
          80,
          10,
          20,
          10,
          20,
          20,
          80,
          10,
          10,
          20,
          80,
          10,
          10,
          80,
          20,
          80,
          10,
          10,
          40,
          80,
          40,
          10,
          20,
          80,
          10,
          10,
          10,
          80,
          20,
          20,
          40,
          40,
          40,
          20,
          10,
          10,
          40,
          10,
          40,
          80,
          20,
          20,
          20,
          80,
          20,
          10,
          10,
          40,
          20,
          40,
          10,
          80,
          40,
          10,
          80,
          10,
          80,
          40,
          80,
          10,
          20,
          40,
          20,
          40,
          80,
          40,
          80,
          80,
          80,
          10,
          10,
          10,
          40,
          80,
          80,
          40,
          10,
          40,
          40,
          40,
          20,
          20,
          10,
          20,
          80,
          80,
          40,
          10,
          10,
          80,
          10,
          10,
          80,
          40,
          10,
          80,
          20,
          10,
          20,
          10,
          10,
          80,
          40,
          80,
          20,
          80,
          80,
          40,
          20,
          40,
          40,
          20,
          80,
          80,
          10,
          20,
          40,
          10,
          10,
          80,
          20,
          80,
          40,
          10,
          20,
          40,
          10,
          40,
          10,
          80,
          20,
          40,
          80,
          10,
          40,
          10,
          80,
          80,
          80,
          40,
          10,
          40,
          20,
          40,
          10,
          40,
          10,
          40,
          40,
          20,
          20,
          20,
          10,
          40,
          40,
          80,
          40,
          10,
          10,
          20,
          20,
          80,
          10,
          20,
          80,
          40,
          40,
          40,
          20,
          10,
          20,
          40,
          10,
          80,
          20,
          10,
          80,
          80,
          40,
          20,
          10,
          80,
          40,
          40,
          20,
          20,
          20,
          20,
          80,
          80,
          40,
          40,
          40,
          20,
          10,
          80,
          20,
          20,
          40,
          40,
          80,
          10,
          80,
          80,
          80,
          80,
          10,
          80,
          80,
          20,
          80,
          80,
          10,
          20,
          40,
          80,
          10,
          20,
          10,
          10,
          20,
          20,
          10,
          10,
          20,
          80,
          20,
          20,
          10,
          10,
          20,
          10,
          20,
          20,
          10,
          20,
          10,
          20,
          20,
          10,
          40,
          80,
          20,
          80,
          40,
          40,
          20,
          40,
          10,
          80,
          20,
          80,
          20,
          40,
          80,
          10,
          20,
          40,
          10,
          10,
          40,
          80,
          80,
          20,
          20,
          10,
          40,
          10,
          80,
          10,
          40,
          40,
          80,
          10,
          80,
          80,
          20,
          10,
          10,
          20,
          20,
          80,
          10,
          20,
          40,
          40,
          10,
          20,
          80,
          20,
          10,
          20,
          20,
          40,
          40,
          20,
          20,
          20,
          10,
          80,
          10,
          10,
          80,
          80,
          20,
          80,
          40,
          40,
          20,
          40,
          40,
          40,
          10,
          80,
          20,
          80,
          80,
          10,
          80,
          80,
          10,
          10,
          20,
          80,
          40,
          10,
          40,
          80,
          10,
          80,
          10,
          10,
          40,
          40,
          10,
          40,
          10,
          80,
          80,
          20,
          20,
          10,
          80,
          20,
          80,
          10,
          80,
          20,
          40,
          10,
          20,
          10,
          10,
          40,
          10,
          40,
          20,
          80,
          80,
          20,
          10,
          20,
          80,
          20,
          20,
          10,
          40,
          20,
          20,
          40,
          40,
          40,
          10,
          10,
          80,
          10,
          10,
          10,
          80,
          20,
          40,
          80,
          80,
          80,
          20,
          40,
          10,
          40,
          80,
          20,
          40,
          40,
          40,
          80,
          10,
          20,
          80,
          20,
          10,
          10,
          20,
          40,
          20,
          80,
          20,
          10,
          80,
          40,
          10,
          10,
          10,
          80,
          20,
          40,
          20,
          40,
          40,
          10,
          80,
          80,
          40,
          10,
          20,
          40,
          10,
          20,
          40,
          10,
          20,
          80,
          20,
          10,
          20,
          40,
          10,
          80,
          10,
          40,
          80,
          10,
          20,
          40,
          10,
          20,
          20,
          10,
          20,
          20,
          40,
          80,
          40,
          20,
          40,
          20,
          40,
          80,
          80,
          80,
          80,
          40,
          10,
          80,
          80,
          10,
          10,
          10,
          80,
          20,
          80,
          40,
          40,
          80,
          80,
          40,
          80,
          40,
          10,
          20,
          80,
          40,
          80,
          20,
          40,
          80,
          10,
          10,
          10,
          80,
          40,
          20
         ],
         "xaxis": "x4",
         "y": [
          98.9822998046875,
          98.89260864257812,
          98.87449645996094,
          98.84634399414062,
          98.72239685058594,
          98.66903686523438,
          98.64631652832033,
          98.64541625976562,
          98.6295928955078,
          98.6107940673828,
          98.59496307373048,
          98.5821304321289,
          98.57769775390624,
          98.57167053222656,
          98.5709228515625,
          98.56266021728516,
          98.54762268066406,
          98.5454559326172,
          98.53609466552734,
          98.51893615722656,
          98.51385498046876,
          98.51094818115234,
          98.49971771240234,
          98.48509216308594,
          98.47417449951172,
          98.47180938720705,
          98.46562957763672,
          98.46517944335938,
          98.45996856689452,
          98.4502410888672,
          98.44566345214844,
          98.42056274414062,
          98.41806030273438,
          98.41436767578124,
          98.41143798828124,
          98.40106201171876,
          98.3873519897461,
          98.38502502441406,
          98.38286590576172,
          98.37709045410156,
          98.36708068847656,
          98.36528778076172,
          98.3453598022461,
          98.33273315429688,
          98.33255767822266,
          98.31326293945312,
          98.29581451416016,
          98.29285430908205,
          98.29102325439452,
          98.28487396240234,
          98.27808380126952,
          98.26820373535156,
          98.25696563720705,
          98.2520523071289,
          98.24124908447266,
          98.23980712890624,
          98.23013305664062,
          98.22616577148438,
          98.224853515625,
          98.22364807128906,
          98.21053314208984,
          98.20922088623048,
          98.20565795898438,
          98.20547485351562,
          98.2054443359375,
          98.20511627197266,
          98.20410919189452,
          98.20298767089844,
          98.19668579101562,
          98.19523620605467,
          98.17539978027344,
          98.17124938964844,
          98.16822052001952,
          98.1502685546875,
          98.13873291015624,
          98.126708984375,
          98.11810302734376,
          98.11681365966795,
          98.1014404296875,
          98.09747314453124,
          98.0964813232422,
          98.09375,
          98.08969116210938,
          98.08294677734376,
          98.07008361816406,
          98.06781768798828,
          98.05298614501952,
          98.04692840576172,
          98.0408935546875,
          98.03399658203124,
          98.03192901611328,
          98.03111267089844,
          98.02599334716795,
          98.02054595947266,
          98.02009582519533,
          98.01966857910156,
          98.01885986328124,
          98.0155029296875,
          98.01161193847656,
          98.0113296508789,
          98.00157928466795,
          97.99784088134766,
          97.98326873779295,
          97.97834014892578,
          97.97763061523438,
          97.97515106201172,
          97.96895599365234,
          97.96083068847656,
          97.96075439453124,
          97.95887756347656,
          97.93726348876952,
          97.9363021850586,
          97.9289779663086,
          97.92639923095705,
          97.92586517333984,
          97.92476654052734,
          97.90099334716795,
          97.9002685546875,
          97.89966583251952,
          97.89669799804688,
          97.89312744140624,
          97.88835144042967,
          97.88493347167967,
          97.88429260253906,
          97.87474060058594,
          97.86359405517578,
          97.85253143310548,
          97.84007263183594,
          97.84000396728516,
          97.83074951171876,
          97.82604217529295,
          97.82108306884766,
          97.8116226196289,
          97.80868530273438,
          97.78947448730467,
          97.7882308959961,
          97.78244018554688,
          97.77166748046876,
          97.7704620361328,
          97.76944732666016,
          97.76673126220705,
          97.7663803100586,
          97.7547378540039,
          97.75092315673828,
          97.73106384277344,
          97.7303237915039,
          97.72840881347656,
          97.7238540649414,
          97.71002197265624,
          97.70951080322266,
          97.70897674560548,
          97.7000503540039,
          97.69694519042967,
          97.6865692138672,
          97.67752075195312,
          97.66934967041016,
          97.66747283935548,
          97.64984130859376,
          97.646240234375,
          97.63426208496094,
          97.63240814208984,
          97.62933349609376,
          97.62073516845705,
          97.61370086669922,
          97.58937072753906,
          97.58326721191406,
          97.5828857421875,
          97.57915496826172,
          97.5778350830078,
          97.56886291503906,
          97.56527709960938,
          97.5455322265625,
          97.53936767578124,
          97.5334243774414,
          97.53062438964844,
          97.52886962890624,
          97.50324249267578,
          97.49105072021484,
          97.48680877685548,
          97.48114013671876,
          97.47201538085938,
          97.45431518554688,
          97.43515014648438,
          97.41413116455078,
          97.40907287597656,
          97.4083480834961,
          97.4060287475586,
          97.39932250976562,
          97.38507080078124,
          97.3684539794922,
          97.32997131347656,
          97.22595977783205,
          97.218505859375,
          97.212646484375,
          97.2061004638672,
          97.19743347167967,
          97.17827606201172,
          97.17689514160156,
          97.17020416259766,
          97.15495300292967,
          97.15225982666016,
          97.1471710205078,
          97.13197326660156,
          97.09343719482422,
          97.08607482910156,
          97.0301284790039,
          97.02660369873048,
          97.01844787597656,
          96.9895477294922,
          96.97122955322266,
          96.93278503417967,
          96.88873291015624,
          96.83387756347656,
          96.82450103759766,
          96.70923614501952,
          96.6952896118164,
          96.6936264038086,
          96.6901397705078,
          96.68496704101562,
          96.65316009521484,
          96.6144790649414,
          96.41548919677734,
          96.41498565673828,
          96.3361587524414,
          96.32294464111328,
          96.23152923583984,
          96.2197265625,
          96.21514129638672,
          96.14468383789062,
          96.11605834960938,
          96.1152114868164,
          96.10822296142578,
          96.103515625,
          96.09786224365234,
          96.08468627929688,
          96.0687255859375,
          96.05825805664062,
          95.97563934326172,
          95.96310424804688,
          95.94401550292967,
          95.92322540283205,
          95.89581298828124,
          95.89462280273438,
          95.87155151367188,
          95.86812591552734,
          95.79630279541016,
          95.779296875,
          95.7741241455078,
          95.7300796508789,
          95.72159576416016,
          95.7122802734375,
          95.68025207519533,
          95.63919067382812,
          95.62578582763672,
          95.5737075805664,
          95.55643463134766,
          95.50493621826172,
          95.49427032470705,
          95.44329833984376,
          95.43963623046876,
          95.42822265625,
          95.41888427734376,
          95.40809631347656,
          95.3564224243164,
          95.30950164794922,
          95.30123138427734,
          95.29904174804688,
          95.27518463134766,
          95.27469635009766,
          95.2461395263672,
          95.22815704345705,
          95.20242309570312,
          95.17118072509766,
          95.16346740722656,
          95.1210479736328,
          95.04354095458984,
          94.9228973388672,
          94.86884307861328,
          94.84434509277344,
          94.8093719482422,
          94.80098724365234,
          94.79791259765624,
          94.79060363769533,
          94.78191375732422,
          94.7685775756836,
          94.7275161743164,
          94.7109832763672,
          94.63507843017578,
          94.6042022705078,
          94.56676483154295,
          94.53546142578124,
          94.52093505859376,
          94.47543334960938,
          94.46856689453124,
          94.45772552490234,
          94.40021514892578,
          94.3848648071289,
          94.35118103027344,
          94.19383239746094,
          94.1611557006836,
          94.14279174804688,
          94.14152526855467,
          94.0475616455078,
          93.92176055908205,
          93.9067840576172,
          93.88818359375,
          93.78759765625,
          93.75489044189452,
          93.67791748046876,
          93.67427825927734,
          93.67127990722656,
          93.65634155273438,
          93.64763641357422,
          93.60559844970705,
          93.58219146728516,
          93.56428527832033,
          93.5278778076172,
          93.44540405273438,
          93.43289184570312,
          93.35698699951172,
          93.3440170288086,
          93.3387680053711,
          93.31680297851562,
          93.20411682128906,
          93.20045471191406,
          93.1983413696289,
          93.09524536132812,
          93.07684326171876,
          93.06507873535156,
          93.00845336914062,
          92.96414947509766,
          92.84396362304688,
          92.82923889160156,
          92.7813491821289,
          92.74246978759766,
          92.5822525024414,
          92.57538604736328,
          92.56693267822266,
          92.54094696044922,
          92.5365219116211,
          92.49945068359376,
          92.38400268554688,
          92.3834228515625,
          92.36365509033205,
          92.21099853515624,
          92.20194244384766,
          92.177734375,
          92.15391540527344,
          92.1267318725586,
          92.0561065673828,
          92.03173065185548,
          91.93814086914062,
          91.90593719482422,
          91.78204345703124,
          91.70299530029295,
          91.66506958007812,
          91.63421630859376,
          91.62477111816406,
          91.58558654785156,
          91.55591583251952,
          91.50845336914062,
          91.50315856933594,
          91.44302368164062,
          91.4220199584961,
          91.30680847167967,
          91.2894287109375,
          91.27079010009766,
          91.22115325927734,
          91.054931640625,
          91.03814697265624,
          90.97862243652344,
          90.89635467529295,
          90.84000396728516,
          90.77008819580078,
          90.75152587890624,
          90.73247528076172,
          90.660888671875,
          90.65862274169922,
          90.59855651855467,
          90.59503936767578,
          90.54473876953124,
          90.45059967041016,
          90.42214965820312,
          90.36823272705078,
          89.94795989990234,
          89.91593933105469,
          89.88746643066406,
          89.70743560791016,
          89.65009307861328,
          89.3011703491211,
          89.24322509765625,
          88.65019989013672,
          87.72977447509766,
          87.68255615234375,
          87.61225128173828,
          87.52019500732422,
          87.05554962158203,
          86.95471954345703,
          86.54139709472656,
          86.45651245117188,
          86.44223022460938,
          85.86546325683594,
          0,
          0,
          0,
          0,
          0,
          0,
          0,
          0,
          0,
          0,
          0,
          0,
          0,
          0,
          0,
          0,
          0,
          0,
          0,
          0,
          0,
          0,
          0,
          0,
          0,
          0,
          0,
          0,
          0,
          0,
          0,
          0,
          0,
          0,
          0,
          0,
          0,
          0,
          0,
          0,
          0,
          0,
          0,
          0,
          0,
          0,
          0,
          0,
          0,
          0,
          0,
          0,
          0,
          0,
          0,
          0,
          0,
          0,
          0,
          0,
          0,
          0,
          0,
          0,
          0,
          0,
          0,
          0,
          0,
          0,
          0,
          0,
          0,
          0,
          0,
          0,
          0,
          0,
          0,
          0,
          0,
          0,
          0,
          0,
          0,
          0,
          0,
          0,
          0,
          0,
          0,
          0,
          0,
          0,
          0,
          0,
          0,
          0,
          0,
          0,
          0,
          0,
          0,
          0,
          0,
          0,
          0,
          0,
          0,
          0,
          0,
          0,
          0,
          0,
          0,
          0,
          0,
          0,
          0,
          0,
          0,
          0,
          0,
          0,
          0,
          0,
          0,
          0,
          0,
          0,
          0,
          0,
          0,
          0,
          0,
          0,
          0,
          0,
          0,
          0,
          0,
          0,
          0,
          0,
          0,
          0,
          0,
          0,
          0,
          0,
          0,
          0,
          0,
          0,
          0,
          0,
          0,
          0,
          0,
          0,
          0,
          0,
          0,
          0,
          0,
          0,
          0,
          0,
          0,
          0,
          0,
          0,
          0,
          0,
          0,
          0,
          0,
          0,
          0,
          0,
          0,
          0,
          0,
          0,
          0,
          0,
          0,
          0,
          0,
          0,
          0,
          0,
          0,
          0,
          0,
          0,
          0,
          0,
          0,
          0,
          0,
          0,
          0,
          0,
          0,
          0,
          0,
          0,
          0,
          0,
          0,
          0,
          0,
          0,
          0,
          0,
          0,
          0,
          0,
          0,
          0,
          0,
          0,
          0,
          0,
          0,
          0,
          0,
          0,
          0,
          0,
          0,
          0,
          0,
          0,
          0,
          0,
          0,
          0,
          0,
          0,
          0,
          0,
          0,
          0,
          0,
          0,
          0,
          0,
          0,
          0,
          0,
          0,
          0,
          0,
          0,
          0,
          0,
          0,
          0,
          0,
          0,
          0,
          0,
          0,
          0,
          0,
          0,
          0,
          0,
          0,
          0,
          0,
          0,
          0,
          0,
          0,
          0,
          0,
          0,
          0,
          0,
          0,
          0,
          0,
          0,
          0,
          0,
          0,
          0,
          0,
          0,
          0,
          0,
          0,
          0,
          0,
          0,
          0,
          0,
          0,
          0,
          0,
          0,
          0,
          0,
          0,
          0,
          0,
          0,
          0,
          0,
          0,
          0,
          0,
          0,
          0,
          0,
          0,
          0,
          0,
          0,
          0,
          0,
          0,
          0,
          0,
          0,
          0,
          0,
          0,
          0,
          0,
          0,
          0,
          0,
          0,
          0,
          0,
          0,
          0,
          0,
          0,
          0,
          0,
          0,
          0,
          0,
          0,
          0,
          0,
          0,
          0,
          0,
          0,
          0,
          0,
          0,
          0,
          0,
          0,
          0,
          0,
          0,
          0,
          0
         ],
         "yaxis": "y4"
        },
        {
         "name": "est_type",
         "type": "box",
         "x": [
          "ZERO",
          "FF",
          "LSTM",
          "RAND",
          "LSTM",
          "LSTM",
          "FF",
          "LSTM",
          "FF",
          "LSTM",
          "ZERO",
          "LSTM",
          "LSTM",
          "FF",
          "FF",
          "LSTM",
          "LSTM",
          "FF",
          "ZERO",
          "ZERO",
          "RAND",
          "ZERO",
          "LSTM",
          "RAND",
          "LSTM",
          "LSTM",
          "LSTM",
          "ZERO",
          "RAND",
          "LSTM",
          "RAND",
          "FF",
          "ZERO",
          "LSTM",
          "RAND",
          "LSTM",
          "LSTM",
          "LSTM",
          "LSTM",
          "LSTM",
          "RAND",
          "LSTM",
          "FF",
          "RAND",
          "RAND",
          "LSTM",
          "RAND",
          "ZERO",
          "ZERO",
          "ZERO",
          "ZERO",
          "ZERO",
          "FF",
          "ZERO",
          "LSTM",
          "ZERO",
          "ZERO",
          "ZERO",
          "LSTM",
          "LSTM",
          "RAND",
          "ZERO",
          "FF",
          "FF",
          "RAND",
          "ZERO",
          "RAND",
          "ZERO",
          "RAND",
          "ZERO",
          "ZERO",
          "FF",
          "LSTM",
          "FF",
          "RAND",
          "ZERO",
          "ZERO",
          "ZERO",
          "RAND",
          "FF",
          "FF",
          "ZERO",
          "RAND",
          "RAND",
          "LSTM",
          "RAND",
          "FF",
          "ZERO",
          "FF",
          "FF",
          "ZERO",
          "RAND",
          "RAND",
          "FF",
          "LSTM",
          "ZERO",
          "ZERO",
          "FF",
          "FF",
          "ZERO",
          "FF",
          "LSTM",
          "FF",
          "RAND",
          "ZERO",
          "LSTM",
          "FF",
          "ZERO",
          "LSTM",
          "RAND",
          "LSTM",
          "RAND",
          "RAND",
          "RAND",
          "ZERO",
          "FF",
          "LSTM",
          "LSTM",
          "LSTM",
          "FF",
          "LSTM",
          "FF",
          "FF",
          "RAND",
          "FF",
          "ZERO",
          "LSTM",
          "RAND",
          "FF",
          "RAND",
          "ZERO",
          "FF",
          "RAND",
          "RAND",
          "ZERO",
          "FF",
          "RAND",
          "RAND",
          "RAND",
          "FF",
          "LSTM",
          "RAND",
          "FF",
          "LSTM",
          "LSTM",
          "ZERO",
          "LSTM",
          "RAND",
          "FF",
          "FF",
          "FF",
          "RAND",
          "FF",
          "FF",
          "LSTM",
          "RAND",
          "FF",
          "LSTM",
          "RAND",
          "FF",
          "LSTM",
          "LSTM",
          "ZERO",
          "RAND",
          "RAND",
          "LSTM",
          "RAND",
          "RAND",
          "ZERO",
          "RAND",
          "RAND",
          "FF",
          "LSTM",
          "LSTM",
          "FF",
          "ZERO",
          "FF",
          "RAND",
          "FF",
          "LSTM",
          "FF",
          "FF",
          "FF",
          "LSTM",
          "RAND",
          "FF",
          "FF",
          "LSTM",
          "FF",
          "ZERO",
          "RAND",
          "LSTM",
          "FF",
          "RAND",
          "RAND",
          "LSTM",
          "LSTM",
          "LSTM",
          "FF",
          "FF",
          "ZERO",
          "ZERO",
          "LSTM",
          "LSTM",
          "RAND",
          "ZERO",
          "LSTM",
          "ZERO",
          "ZERO",
          "RAND",
          "ZERO",
          "ZERO",
          "LSTM",
          "LSTM",
          "LSTM",
          "RAND",
          "FF",
          "LSTM",
          "RAND",
          "LSTM",
          "LSTM",
          "FF",
          "ZERO",
          "RAND",
          "ZERO",
          "RAND",
          "FF",
          "ZERO",
          "FF",
          "FF",
          "LSTM",
          "ZERO",
          "ZERO",
          "LSTM",
          "ZERO",
          "ZERO",
          "LSTM",
          "LSTM",
          "ZERO",
          "FF",
          "RAND",
          "FF",
          "RAND",
          "ZERO",
          "FF",
          "ZERO",
          "LSTM",
          "LSTM",
          "FF",
          "LSTM",
          "LSTM",
          "FF",
          "FF",
          "ZERO",
          "ZERO",
          "ZERO",
          "FF",
          "LSTM",
          "FF",
          "RAND",
          "LSTM",
          "FF",
          "LSTM",
          "LSTM",
          "FF",
          "RAND",
          "FF",
          "FF",
          "ZERO",
          "RAND",
          "FF",
          "ZERO",
          "RAND",
          "FF",
          "RAND",
          "ZERO",
          "LSTM",
          "ZERO",
          "ZERO",
          "RAND",
          "RAND",
          "FF",
          "RAND",
          "FF",
          "FF",
          "RAND",
          "RAND",
          "ZERO",
          "LSTM",
          "ZERO",
          "RAND",
          "ZERO",
          "RAND",
          "LSTM",
          "RAND",
          "ZERO",
          "FF",
          "RAND",
          "FF",
          "LSTM",
          "RAND",
          "FF",
          "RAND",
          "LSTM",
          "ZERO",
          "ZERO",
          "RAND",
          "RAND",
          "ZERO",
          "ZERO",
          "FF",
          "FF",
          "FF",
          "LSTM",
          "LSTM",
          "RAND",
          "RAND",
          "ZERO",
          "LSTM",
          "ZERO",
          "FF",
          "FF",
          "ZERO",
          "ZERO",
          "RAND",
          "FF",
          "RAND",
          "LSTM",
          "RAND",
          "LSTM",
          "RAND",
          "FF",
          "RAND",
          "RAND",
          "LSTM",
          "LSTM",
          "ZERO",
          "ZERO",
          "LSTM",
          "LSTM",
          "RAND",
          "RAND",
          "ZERO",
          "RAND",
          "RAND",
          "RAND",
          "RAND",
          "RAND",
          "RAND",
          "ZERO",
          "RAND",
          "FF",
          "RAND",
          "RAND",
          "FF",
          "FF",
          "LSTM",
          "ZERO",
          "ZERO",
          "LSTM",
          "FF",
          "FF",
          "FF",
          "ZERO",
          "RAND",
          "FF",
          "ZERO",
          "RAND",
          "LSTM",
          "FF",
          "ZERO",
          "ZERO",
          "ZERO",
          "RAND",
          "LSTM",
          "RAND",
          "ZERO",
          "LSTM",
          "LSTM",
          "LSTM",
          "LSTM",
          "FF",
          "ZERO",
          "RAND",
          "FF",
          "LSTM",
          "ZERO",
          "ZERO",
          "RAND",
          "LSTM",
          "ZERO",
          "ZERO",
          "LSTM",
          "LSTM",
          "ZERO",
          "LSTM",
          "LSTM",
          "LSTM",
          "ZERO",
          "FF",
          "FF",
          "ZERO",
          "LSTM",
          "ZERO",
          "FF",
          "FF",
          "RAND",
          "RAND",
          "FF",
          "RAND",
          "RAND",
          "RAND",
          "RAND",
          "RAND",
          "LSTM",
          "LSTM",
          "RAND",
          "FF",
          "LSTM",
          "ZERO",
          "LSTM",
          "ZERO",
          "RAND",
          "ZERO",
          "ZERO",
          "FF",
          "ZERO",
          "RAND",
          "RAND",
          "RAND",
          "LSTM",
          "ZERO",
          "RAND",
          "FF",
          "RAND",
          "RAND",
          "FF",
          "ZERO",
          "ZERO",
          "ZERO",
          "RAND",
          "RAND",
          "ZERO",
          "ZERO",
          "LSTM",
          "RAND",
          "RAND",
          "RAND",
          "FF",
          "ZERO",
          "ZERO",
          "ZERO",
          "LSTM",
          "RAND",
          "LSTM",
          "RAND",
          "RAND",
          "ZERO",
          "FF",
          "RAND",
          "RAND",
          "LSTM",
          "FF",
          "LSTM",
          "RAND",
          "FF",
          "RAND",
          "ZERO",
          "LSTM",
          "RAND",
          "FF",
          "FF",
          "ZERO",
          "ZERO",
          "FF",
          "RAND",
          "LSTM",
          "ZERO",
          "FF",
          "ZERO",
          "LSTM",
          "RAND",
          "RAND",
          "LSTM",
          "RAND",
          "LSTM",
          "LSTM",
          "LSTM",
          "ZERO",
          "LSTM",
          "RAND",
          "RAND",
          "RAND",
          "LSTM",
          "LSTM",
          "FF",
          "ZERO",
          "FF",
          "FF",
          "ZERO",
          "LSTM",
          "FF",
          "LSTM",
          "FF",
          "ZERO",
          "LSTM",
          "FF",
          "LSTM",
          "RAND",
          "FF",
          "RAND",
          "LSTM",
          "RAND",
          "RAND",
          "LSTM",
          "LSTM",
          "FF",
          "FF",
          "FF",
          "ZERO",
          "FF",
          "ZERO",
          "FF",
          "RAND",
          "FF",
          "FF",
          "ZERO",
          "FF",
          "ZERO",
          "FF",
          "RAND",
          "FF",
          "FF",
          "LSTM",
          "LSTM",
          "ZERO",
          "LSTM",
          "ZERO",
          "ZERO",
          "RAND",
          "RAND",
          "FF",
          "LSTM",
          "ZERO",
          "FF",
          "ZERO",
          "ZERO",
          "FF",
          "FF",
          "ZERO",
          "LSTM",
          "LSTM",
          "ZERO",
          "ZERO",
          "FF",
          "ZERO",
          "RAND",
          "FF",
          "RAND",
          "ZERO",
          "FF",
          "ZERO",
          "LSTM",
          "LSTM",
          "LSTM",
          "ZERO",
          "FF",
          "ZERO",
          "RAND",
          "ZERO",
          "FF",
          "LSTM",
          "LSTM",
          "LSTM",
          "RAND",
          "LSTM",
          "ZERO",
          "LSTM",
          "LSTM",
          "FF",
          "FF",
          "LSTM",
          "ZERO",
          "FF",
          "LSTM",
          "RAND",
          "FF",
          "ZERO",
          "FF",
          "RAND",
          "ZERO",
          "FF",
          "FF",
          "FF",
          "RAND",
          "ZERO",
          "FF",
          "RAND",
          "ZERO",
          "LSTM",
          "LSTM",
          "ZERO",
          "ZERO",
          "RAND",
          "FF",
          "FF",
          "RAND",
          "ZERO",
          "LSTM",
          "ZERO",
          "RAND",
          "LSTM",
          "FF",
          "LSTM",
          "FF",
          "RAND",
          "LSTM",
          "ZERO",
          "FF",
          "RAND",
          "RAND",
          "ZERO",
          "ZERO",
          "RAND",
          "LSTM",
          "LSTM",
          "ZERO",
          "ZERO",
          "FF",
          "RAND",
          "ZERO",
          "RAND",
          "LSTM",
          "LSTM",
          "FF",
          "FF",
          "FF",
          "LSTM",
          "LSTM",
          "RAND",
          "ZERO",
          "RAND",
          "ZERO",
          "RAND",
          "FF",
          "FF",
          "FF",
          "RAND",
          "ZERO",
          "ZERO",
          "ZERO",
          "RAND",
          "FF",
          "RAND",
          "FF",
          "FF",
          "RAND",
          "FF",
          "LSTM",
          "RAND",
          "FF",
          "FF",
          "ZERO",
          "LSTM",
          "LSTM",
          "FF",
          "RAND",
          "ZERO",
          "ZERO",
          "RAND",
          "LSTM",
          "FF",
          "ZERO",
          "ZERO",
          "FF",
          "LSTM",
          "ZERO",
          "FF",
          "LSTM",
          "ZERO",
          "RAND",
          "LSTM",
          "FF",
          "FF",
          "FF",
          "RAND",
          "FF",
          "RAND",
          "FF",
          "ZERO",
          "ZERO",
          "ZERO",
          "LSTM",
          "FF",
          "RAND",
          "FF",
          "LSTM",
          "ZERO",
          "RAND",
          "RAND",
          "FF",
          "FF",
          "FF",
          "ZERO",
          "LSTM",
          "RAND",
          "RAND",
          "ZERO",
          "FF",
          "LSTM",
          "RAND",
          "ZERO",
          "FF",
          "LSTM",
          "ZERO",
          "LSTM",
          "FF",
          "FF",
          "FF",
          "LSTM",
          "LSTM",
          "ZERO",
          "LSTM",
          "ZERO",
          "RAND",
          "LSTM",
          "RAND",
          "ZERO",
          "FF",
          "LSTM",
          "ZERO",
          "RAND",
          "ZERO",
          "ZERO",
          "LSTM",
          "RAND",
          "LSTM",
          "ZERO",
          "LSTM",
          "FF",
          "RAND",
          "FF",
          "ZERO",
          "FF",
          "RAND",
          "LSTM",
          "LSTM",
          "ZERO",
          "ZERO",
          "LSTM",
          "ZERO",
          "FF",
          "RAND",
          "LSTM",
          "RAND",
          "ZERO",
          "LSTM",
          "FF",
          "ZERO",
          "RAND",
          "RAND",
          "RAND",
          "LSTM",
          "ZERO",
          "RAND",
          "LSTM",
          "LSTM",
          "LSTM"
         ],
         "xaxis": "x5",
         "y": [
          98.9822998046875,
          98.89260864257812,
          98.87449645996094,
          98.84634399414062,
          98.72239685058594,
          98.66903686523438,
          98.64631652832033,
          98.64541625976562,
          98.6295928955078,
          98.6107940673828,
          98.59496307373048,
          98.5821304321289,
          98.57769775390624,
          98.57167053222656,
          98.5709228515625,
          98.56266021728516,
          98.54762268066406,
          98.5454559326172,
          98.53609466552734,
          98.51893615722656,
          98.51385498046876,
          98.51094818115234,
          98.49971771240234,
          98.48509216308594,
          98.47417449951172,
          98.47180938720705,
          98.46562957763672,
          98.46517944335938,
          98.45996856689452,
          98.4502410888672,
          98.44566345214844,
          98.42056274414062,
          98.41806030273438,
          98.41436767578124,
          98.41143798828124,
          98.40106201171876,
          98.3873519897461,
          98.38502502441406,
          98.38286590576172,
          98.37709045410156,
          98.36708068847656,
          98.36528778076172,
          98.3453598022461,
          98.33273315429688,
          98.33255767822266,
          98.31326293945312,
          98.29581451416016,
          98.29285430908205,
          98.29102325439452,
          98.28487396240234,
          98.27808380126952,
          98.26820373535156,
          98.25696563720705,
          98.2520523071289,
          98.24124908447266,
          98.23980712890624,
          98.23013305664062,
          98.22616577148438,
          98.224853515625,
          98.22364807128906,
          98.21053314208984,
          98.20922088623048,
          98.20565795898438,
          98.20547485351562,
          98.2054443359375,
          98.20511627197266,
          98.20410919189452,
          98.20298767089844,
          98.19668579101562,
          98.19523620605467,
          98.17539978027344,
          98.17124938964844,
          98.16822052001952,
          98.1502685546875,
          98.13873291015624,
          98.126708984375,
          98.11810302734376,
          98.11681365966795,
          98.1014404296875,
          98.09747314453124,
          98.0964813232422,
          98.09375,
          98.08969116210938,
          98.08294677734376,
          98.07008361816406,
          98.06781768798828,
          98.05298614501952,
          98.04692840576172,
          98.0408935546875,
          98.03399658203124,
          98.03192901611328,
          98.03111267089844,
          98.02599334716795,
          98.02054595947266,
          98.02009582519533,
          98.01966857910156,
          98.01885986328124,
          98.0155029296875,
          98.01161193847656,
          98.0113296508789,
          98.00157928466795,
          97.99784088134766,
          97.98326873779295,
          97.97834014892578,
          97.97763061523438,
          97.97515106201172,
          97.96895599365234,
          97.96083068847656,
          97.96075439453124,
          97.95887756347656,
          97.93726348876952,
          97.9363021850586,
          97.9289779663086,
          97.92639923095705,
          97.92586517333984,
          97.92476654052734,
          97.90099334716795,
          97.9002685546875,
          97.89966583251952,
          97.89669799804688,
          97.89312744140624,
          97.88835144042967,
          97.88493347167967,
          97.88429260253906,
          97.87474060058594,
          97.86359405517578,
          97.85253143310548,
          97.84007263183594,
          97.84000396728516,
          97.83074951171876,
          97.82604217529295,
          97.82108306884766,
          97.8116226196289,
          97.80868530273438,
          97.78947448730467,
          97.7882308959961,
          97.78244018554688,
          97.77166748046876,
          97.7704620361328,
          97.76944732666016,
          97.76673126220705,
          97.7663803100586,
          97.7547378540039,
          97.75092315673828,
          97.73106384277344,
          97.7303237915039,
          97.72840881347656,
          97.7238540649414,
          97.71002197265624,
          97.70951080322266,
          97.70897674560548,
          97.7000503540039,
          97.69694519042967,
          97.6865692138672,
          97.67752075195312,
          97.66934967041016,
          97.66747283935548,
          97.64984130859376,
          97.646240234375,
          97.63426208496094,
          97.63240814208984,
          97.62933349609376,
          97.62073516845705,
          97.61370086669922,
          97.58937072753906,
          97.58326721191406,
          97.5828857421875,
          97.57915496826172,
          97.5778350830078,
          97.56886291503906,
          97.56527709960938,
          97.5455322265625,
          97.53936767578124,
          97.5334243774414,
          97.53062438964844,
          97.52886962890624,
          97.50324249267578,
          97.49105072021484,
          97.48680877685548,
          97.48114013671876,
          97.47201538085938,
          97.45431518554688,
          97.43515014648438,
          97.41413116455078,
          97.40907287597656,
          97.4083480834961,
          97.4060287475586,
          97.39932250976562,
          97.38507080078124,
          97.3684539794922,
          97.32997131347656,
          97.22595977783205,
          97.218505859375,
          97.212646484375,
          97.2061004638672,
          97.19743347167967,
          97.17827606201172,
          97.17689514160156,
          97.17020416259766,
          97.15495300292967,
          97.15225982666016,
          97.1471710205078,
          97.13197326660156,
          97.09343719482422,
          97.08607482910156,
          97.0301284790039,
          97.02660369873048,
          97.01844787597656,
          96.9895477294922,
          96.97122955322266,
          96.93278503417967,
          96.88873291015624,
          96.83387756347656,
          96.82450103759766,
          96.70923614501952,
          96.6952896118164,
          96.6936264038086,
          96.6901397705078,
          96.68496704101562,
          96.65316009521484,
          96.6144790649414,
          96.41548919677734,
          96.41498565673828,
          96.3361587524414,
          96.32294464111328,
          96.23152923583984,
          96.2197265625,
          96.21514129638672,
          96.14468383789062,
          96.11605834960938,
          96.1152114868164,
          96.10822296142578,
          96.103515625,
          96.09786224365234,
          96.08468627929688,
          96.0687255859375,
          96.05825805664062,
          95.97563934326172,
          95.96310424804688,
          95.94401550292967,
          95.92322540283205,
          95.89581298828124,
          95.89462280273438,
          95.87155151367188,
          95.86812591552734,
          95.79630279541016,
          95.779296875,
          95.7741241455078,
          95.7300796508789,
          95.72159576416016,
          95.7122802734375,
          95.68025207519533,
          95.63919067382812,
          95.62578582763672,
          95.5737075805664,
          95.55643463134766,
          95.50493621826172,
          95.49427032470705,
          95.44329833984376,
          95.43963623046876,
          95.42822265625,
          95.41888427734376,
          95.40809631347656,
          95.3564224243164,
          95.30950164794922,
          95.30123138427734,
          95.29904174804688,
          95.27518463134766,
          95.27469635009766,
          95.2461395263672,
          95.22815704345705,
          95.20242309570312,
          95.17118072509766,
          95.16346740722656,
          95.1210479736328,
          95.04354095458984,
          94.9228973388672,
          94.86884307861328,
          94.84434509277344,
          94.8093719482422,
          94.80098724365234,
          94.79791259765624,
          94.79060363769533,
          94.78191375732422,
          94.7685775756836,
          94.7275161743164,
          94.7109832763672,
          94.63507843017578,
          94.6042022705078,
          94.56676483154295,
          94.53546142578124,
          94.52093505859376,
          94.47543334960938,
          94.46856689453124,
          94.45772552490234,
          94.40021514892578,
          94.3848648071289,
          94.35118103027344,
          94.19383239746094,
          94.1611557006836,
          94.14279174804688,
          94.14152526855467,
          94.0475616455078,
          93.92176055908205,
          93.9067840576172,
          93.88818359375,
          93.78759765625,
          93.75489044189452,
          93.67791748046876,
          93.67427825927734,
          93.67127990722656,
          93.65634155273438,
          93.64763641357422,
          93.60559844970705,
          93.58219146728516,
          93.56428527832033,
          93.5278778076172,
          93.44540405273438,
          93.43289184570312,
          93.35698699951172,
          93.3440170288086,
          93.3387680053711,
          93.31680297851562,
          93.20411682128906,
          93.20045471191406,
          93.1983413696289,
          93.09524536132812,
          93.07684326171876,
          93.06507873535156,
          93.00845336914062,
          92.96414947509766,
          92.84396362304688,
          92.82923889160156,
          92.7813491821289,
          92.74246978759766,
          92.5822525024414,
          92.57538604736328,
          92.56693267822266,
          92.54094696044922,
          92.5365219116211,
          92.49945068359376,
          92.38400268554688,
          92.3834228515625,
          92.36365509033205,
          92.21099853515624,
          92.20194244384766,
          92.177734375,
          92.15391540527344,
          92.1267318725586,
          92.0561065673828,
          92.03173065185548,
          91.93814086914062,
          91.90593719482422,
          91.78204345703124,
          91.70299530029295,
          91.66506958007812,
          91.63421630859376,
          91.62477111816406,
          91.58558654785156,
          91.55591583251952,
          91.50845336914062,
          91.50315856933594,
          91.44302368164062,
          91.4220199584961,
          91.30680847167967,
          91.2894287109375,
          91.27079010009766,
          91.22115325927734,
          91.054931640625,
          91.03814697265624,
          90.97862243652344,
          90.89635467529295,
          90.84000396728516,
          90.77008819580078,
          90.75152587890624,
          90.73247528076172,
          90.660888671875,
          90.65862274169922,
          90.59855651855467,
          90.59503936767578,
          90.54473876953124,
          90.45059967041016,
          90.42214965820312,
          90.36823272705078,
          89.94795989990234,
          89.91593933105469,
          89.88746643066406,
          89.70743560791016,
          89.65009307861328,
          89.3011703491211,
          89.24322509765625,
          88.65019989013672,
          87.72977447509766,
          87.68255615234375,
          87.61225128173828,
          87.52019500732422,
          87.05554962158203,
          86.95471954345703,
          86.54139709472656,
          86.45651245117188,
          86.44223022460938,
          85.86546325683594,
          0,
          0,
          0,
          0,
          0,
          0,
          0,
          0,
          0,
          0,
          0,
          0,
          0,
          0,
          0,
          0,
          0,
          0,
          0,
          0,
          0,
          0,
          0,
          0,
          0,
          0,
          0,
          0,
          0,
          0,
          0,
          0,
          0,
          0,
          0,
          0,
          0,
          0,
          0,
          0,
          0,
          0,
          0,
          0,
          0,
          0,
          0,
          0,
          0,
          0,
          0,
          0,
          0,
          0,
          0,
          0,
          0,
          0,
          0,
          0,
          0,
          0,
          0,
          0,
          0,
          0,
          0,
          0,
          0,
          0,
          0,
          0,
          0,
          0,
          0,
          0,
          0,
          0,
          0,
          0,
          0,
          0,
          0,
          0,
          0,
          0,
          0,
          0,
          0,
          0,
          0,
          0,
          0,
          0,
          0,
          0,
          0,
          0,
          0,
          0,
          0,
          0,
          0,
          0,
          0,
          0,
          0,
          0,
          0,
          0,
          0,
          0,
          0,
          0,
          0,
          0,
          0,
          0,
          0,
          0,
          0,
          0,
          0,
          0,
          0,
          0,
          0,
          0,
          0,
          0,
          0,
          0,
          0,
          0,
          0,
          0,
          0,
          0,
          0,
          0,
          0,
          0,
          0,
          0,
          0,
          0,
          0,
          0,
          0,
          0,
          0,
          0,
          0,
          0,
          0,
          0,
          0,
          0,
          0,
          0,
          0,
          0,
          0,
          0,
          0,
          0,
          0,
          0,
          0,
          0,
          0,
          0,
          0,
          0,
          0,
          0,
          0,
          0,
          0,
          0,
          0,
          0,
          0,
          0,
          0,
          0,
          0,
          0,
          0,
          0,
          0,
          0,
          0,
          0,
          0,
          0,
          0,
          0,
          0,
          0,
          0,
          0,
          0,
          0,
          0,
          0,
          0,
          0,
          0,
          0,
          0,
          0,
          0,
          0,
          0,
          0,
          0,
          0,
          0,
          0,
          0,
          0,
          0,
          0,
          0,
          0,
          0,
          0,
          0,
          0,
          0,
          0,
          0,
          0,
          0,
          0,
          0,
          0,
          0,
          0,
          0,
          0,
          0,
          0,
          0,
          0,
          0,
          0,
          0,
          0,
          0,
          0,
          0,
          0,
          0,
          0,
          0,
          0,
          0,
          0,
          0,
          0,
          0,
          0,
          0,
          0,
          0,
          0,
          0,
          0,
          0,
          0,
          0,
          0,
          0,
          0,
          0,
          0,
          0,
          0,
          0,
          0,
          0,
          0,
          0,
          0,
          0,
          0,
          0,
          0,
          0,
          0,
          0,
          0,
          0,
          0,
          0,
          0,
          0,
          0,
          0,
          0,
          0,
          0,
          0,
          0,
          0,
          0,
          0,
          0,
          0,
          0,
          0,
          0,
          0,
          0,
          0,
          0,
          0,
          0,
          0,
          0,
          0,
          0,
          0,
          0,
          0,
          0,
          0,
          0,
          0,
          0,
          0,
          0,
          0,
          0,
          0,
          0,
          0,
          0,
          0,
          0,
          0,
          0,
          0,
          0,
          0,
          0,
          0,
          0,
          0,
          0,
          0,
          0,
          0,
          0,
          0,
          0,
          0,
          0,
          0,
          0,
          0,
          0,
          0,
          0
         ],
         "yaxis": "y5"
        }
       ],
       "layout": {
        "template": {
         "data": {
          "bar": [
           {
            "error_x": {
             "color": "#2a3f5f"
            },
            "error_y": {
             "color": "#2a3f5f"
            },
            "marker": {
             "line": {
              "color": "#E5ECF6",
              "width": 0.5
             },
             "pattern": {
              "fillmode": "overlay",
              "size": 10,
              "solidity": 0.2
             }
            },
            "type": "bar"
           }
          ],
          "barpolar": [
           {
            "marker": {
             "line": {
              "color": "#E5ECF6",
              "width": 0.5
             },
             "pattern": {
              "fillmode": "overlay",
              "size": 10,
              "solidity": 0.2
             }
            },
            "type": "barpolar"
           }
          ],
          "carpet": [
           {
            "aaxis": {
             "endlinecolor": "#2a3f5f",
             "gridcolor": "white",
             "linecolor": "white",
             "minorgridcolor": "white",
             "startlinecolor": "#2a3f5f"
            },
            "baxis": {
             "endlinecolor": "#2a3f5f",
             "gridcolor": "white",
             "linecolor": "white",
             "minorgridcolor": "white",
             "startlinecolor": "#2a3f5f"
            },
            "type": "carpet"
           }
          ],
          "choropleth": [
           {
            "colorbar": {
             "outlinewidth": 0,
             "ticks": ""
            },
            "type": "choropleth"
           }
          ],
          "contour": [
           {
            "colorbar": {
             "outlinewidth": 0,
             "ticks": ""
            },
            "colorscale": [
             [
              0,
              "#0d0887"
             ],
             [
              0.1111111111111111,
              "#46039f"
             ],
             [
              0.2222222222222222,
              "#7201a8"
             ],
             [
              0.3333333333333333,
              "#9c179e"
             ],
             [
              0.4444444444444444,
              "#bd3786"
             ],
             [
              0.5555555555555556,
              "#d8576b"
             ],
             [
              0.6666666666666666,
              "#ed7953"
             ],
             [
              0.7777777777777778,
              "#fb9f3a"
             ],
             [
              0.8888888888888888,
              "#fdca26"
             ],
             [
              1,
              "#f0f921"
             ]
            ],
            "type": "contour"
           }
          ],
          "contourcarpet": [
           {
            "colorbar": {
             "outlinewidth": 0,
             "ticks": ""
            },
            "type": "contourcarpet"
           }
          ],
          "heatmap": [
           {
            "colorbar": {
             "outlinewidth": 0,
             "ticks": ""
            },
            "colorscale": [
             [
              0,
              "#0d0887"
             ],
             [
              0.1111111111111111,
              "#46039f"
             ],
             [
              0.2222222222222222,
              "#7201a8"
             ],
             [
              0.3333333333333333,
              "#9c179e"
             ],
             [
              0.4444444444444444,
              "#bd3786"
             ],
             [
              0.5555555555555556,
              "#d8576b"
             ],
             [
              0.6666666666666666,
              "#ed7953"
             ],
             [
              0.7777777777777778,
              "#fb9f3a"
             ],
             [
              0.8888888888888888,
              "#fdca26"
             ],
             [
              1,
              "#f0f921"
             ]
            ],
            "type": "heatmap"
           }
          ],
          "heatmapgl": [
           {
            "colorbar": {
             "outlinewidth": 0,
             "ticks": ""
            },
            "colorscale": [
             [
              0,
              "#0d0887"
             ],
             [
              0.1111111111111111,
              "#46039f"
             ],
             [
              0.2222222222222222,
              "#7201a8"
             ],
             [
              0.3333333333333333,
              "#9c179e"
             ],
             [
              0.4444444444444444,
              "#bd3786"
             ],
             [
              0.5555555555555556,
              "#d8576b"
             ],
             [
              0.6666666666666666,
              "#ed7953"
             ],
             [
              0.7777777777777778,
              "#fb9f3a"
             ],
             [
              0.8888888888888888,
              "#fdca26"
             ],
             [
              1,
              "#f0f921"
             ]
            ],
            "type": "heatmapgl"
           }
          ],
          "histogram": [
           {
            "marker": {
             "pattern": {
              "fillmode": "overlay",
              "size": 10,
              "solidity": 0.2
             }
            },
            "type": "histogram"
           }
          ],
          "histogram2d": [
           {
            "colorbar": {
             "outlinewidth": 0,
             "ticks": ""
            },
            "colorscale": [
             [
              0,
              "#0d0887"
             ],
             [
              0.1111111111111111,
              "#46039f"
             ],
             [
              0.2222222222222222,
              "#7201a8"
             ],
             [
              0.3333333333333333,
              "#9c179e"
             ],
             [
              0.4444444444444444,
              "#bd3786"
             ],
             [
              0.5555555555555556,
              "#d8576b"
             ],
             [
              0.6666666666666666,
              "#ed7953"
             ],
             [
              0.7777777777777778,
              "#fb9f3a"
             ],
             [
              0.8888888888888888,
              "#fdca26"
             ],
             [
              1,
              "#f0f921"
             ]
            ],
            "type": "histogram2d"
           }
          ],
          "histogram2dcontour": [
           {
            "colorbar": {
             "outlinewidth": 0,
             "ticks": ""
            },
            "colorscale": [
             [
              0,
              "#0d0887"
             ],
             [
              0.1111111111111111,
              "#46039f"
             ],
             [
              0.2222222222222222,
              "#7201a8"
             ],
             [
              0.3333333333333333,
              "#9c179e"
             ],
             [
              0.4444444444444444,
              "#bd3786"
             ],
             [
              0.5555555555555556,
              "#d8576b"
             ],
             [
              0.6666666666666666,
              "#ed7953"
             ],
             [
              0.7777777777777778,
              "#fb9f3a"
             ],
             [
              0.8888888888888888,
              "#fdca26"
             ],
             [
              1,
              "#f0f921"
             ]
            ],
            "type": "histogram2dcontour"
           }
          ],
          "mesh3d": [
           {
            "colorbar": {
             "outlinewidth": 0,
             "ticks": ""
            },
            "type": "mesh3d"
           }
          ],
          "parcoords": [
           {
            "line": {
             "colorbar": {
              "outlinewidth": 0,
              "ticks": ""
             }
            },
            "type": "parcoords"
           }
          ],
          "pie": [
           {
            "automargin": true,
            "type": "pie"
           }
          ],
          "scatter": [
           {
            "marker": {
             "colorbar": {
              "outlinewidth": 0,
              "ticks": ""
             }
            },
            "type": "scatter"
           }
          ],
          "scatter3d": [
           {
            "line": {
             "colorbar": {
              "outlinewidth": 0,
              "ticks": ""
             }
            },
            "marker": {
             "colorbar": {
              "outlinewidth": 0,
              "ticks": ""
             }
            },
            "type": "scatter3d"
           }
          ],
          "scattercarpet": [
           {
            "marker": {
             "colorbar": {
              "outlinewidth": 0,
              "ticks": ""
             }
            },
            "type": "scattercarpet"
           }
          ],
          "scattergeo": [
           {
            "marker": {
             "colorbar": {
              "outlinewidth": 0,
              "ticks": ""
             }
            },
            "type": "scattergeo"
           }
          ],
          "scattergl": [
           {
            "marker": {
             "colorbar": {
              "outlinewidth": 0,
              "ticks": ""
             }
            },
            "type": "scattergl"
           }
          ],
          "scattermapbox": [
           {
            "marker": {
             "colorbar": {
              "outlinewidth": 0,
              "ticks": ""
             }
            },
            "type": "scattermapbox"
           }
          ],
          "scatterpolar": [
           {
            "marker": {
             "colorbar": {
              "outlinewidth": 0,
              "ticks": ""
             }
            },
            "type": "scatterpolar"
           }
          ],
          "scatterpolargl": [
           {
            "marker": {
             "colorbar": {
              "outlinewidth": 0,
              "ticks": ""
             }
            },
            "type": "scatterpolargl"
           }
          ],
          "scatterternary": [
           {
            "marker": {
             "colorbar": {
              "outlinewidth": 0,
              "ticks": ""
             }
            },
            "type": "scatterternary"
           }
          ],
          "surface": [
           {
            "colorbar": {
             "outlinewidth": 0,
             "ticks": ""
            },
            "colorscale": [
             [
              0,
              "#0d0887"
             ],
             [
              0.1111111111111111,
              "#46039f"
             ],
             [
              0.2222222222222222,
              "#7201a8"
             ],
             [
              0.3333333333333333,
              "#9c179e"
             ],
             [
              0.4444444444444444,
              "#bd3786"
             ],
             [
              0.5555555555555556,
              "#d8576b"
             ],
             [
              0.6666666666666666,
              "#ed7953"
             ],
             [
              0.7777777777777778,
              "#fb9f3a"
             ],
             [
              0.8888888888888888,
              "#fdca26"
             ],
             [
              1,
              "#f0f921"
             ]
            ],
            "type": "surface"
           }
          ],
          "table": [
           {
            "cells": {
             "fill": {
              "color": "#EBF0F8"
             },
             "line": {
              "color": "white"
             }
            },
            "header": {
             "fill": {
              "color": "#C8D4E3"
             },
             "line": {
              "color": "white"
             }
            },
            "type": "table"
           }
          ]
         },
         "layout": {
          "annotationdefaults": {
           "arrowcolor": "#2a3f5f",
           "arrowhead": 0,
           "arrowwidth": 1
          },
          "autotypenumbers": "strict",
          "coloraxis": {
           "colorbar": {
            "outlinewidth": 0,
            "ticks": ""
           }
          },
          "colorscale": {
           "diverging": [
            [
             0,
             "#8e0152"
            ],
            [
             0.1,
             "#c51b7d"
            ],
            [
             0.2,
             "#de77ae"
            ],
            [
             0.3,
             "#f1b6da"
            ],
            [
             0.4,
             "#fde0ef"
            ],
            [
             0.5,
             "#f7f7f7"
            ],
            [
             0.6,
             "#e6f5d0"
            ],
            [
             0.7,
             "#b8e186"
            ],
            [
             0.8,
             "#7fbc41"
            ],
            [
             0.9,
             "#4d9221"
            ],
            [
             1,
             "#276419"
            ]
           ],
           "sequential": [
            [
             0,
             "#0d0887"
            ],
            [
             0.1111111111111111,
             "#46039f"
            ],
            [
             0.2222222222222222,
             "#7201a8"
            ],
            [
             0.3333333333333333,
             "#9c179e"
            ],
            [
             0.4444444444444444,
             "#bd3786"
            ],
            [
             0.5555555555555556,
             "#d8576b"
            ],
            [
             0.6666666666666666,
             "#ed7953"
            ],
            [
             0.7777777777777778,
             "#fb9f3a"
            ],
            [
             0.8888888888888888,
             "#fdca26"
            ],
            [
             1,
             "#f0f921"
            ]
           ],
           "sequentialminus": [
            [
             0,
             "#0d0887"
            ],
            [
             0.1111111111111111,
             "#46039f"
            ],
            [
             0.2222222222222222,
             "#7201a8"
            ],
            [
             0.3333333333333333,
             "#9c179e"
            ],
            [
             0.4444444444444444,
             "#bd3786"
            ],
            [
             0.5555555555555556,
             "#d8576b"
            ],
            [
             0.6666666666666666,
             "#ed7953"
            ],
            [
             0.7777777777777778,
             "#fb9f3a"
            ],
            [
             0.8888888888888888,
             "#fdca26"
            ],
            [
             1,
             "#f0f921"
            ]
           ]
          },
          "colorway": [
           "#636efa",
           "#EF553B",
           "#00cc96",
           "#ab63fa",
           "#FFA15A",
           "#19d3f3",
           "#FF6692",
           "#B6E880",
           "#FF97FF",
           "#FECB52"
          ],
          "font": {
           "color": "#2a3f5f"
          },
          "geo": {
           "bgcolor": "white",
           "lakecolor": "white",
           "landcolor": "#E5ECF6",
           "showlakes": true,
           "showland": true,
           "subunitcolor": "white"
          },
          "hoverlabel": {
           "align": "left"
          },
          "hovermode": "closest",
          "mapbox": {
           "style": "light"
          },
          "paper_bgcolor": "white",
          "plot_bgcolor": "#E5ECF6",
          "polar": {
           "angularaxis": {
            "gridcolor": "white",
            "linecolor": "white",
            "ticks": ""
           },
           "bgcolor": "#E5ECF6",
           "radialaxis": {
            "gridcolor": "white",
            "linecolor": "white",
            "ticks": ""
           }
          },
          "scene": {
           "xaxis": {
            "backgroundcolor": "#E5ECF6",
            "gridcolor": "white",
            "gridwidth": 2,
            "linecolor": "white",
            "showbackground": true,
            "ticks": "",
            "zerolinecolor": "white"
           },
           "yaxis": {
            "backgroundcolor": "#E5ECF6",
            "gridcolor": "white",
            "gridwidth": 2,
            "linecolor": "white",
            "showbackground": true,
            "ticks": "",
            "zerolinecolor": "white"
           },
           "zaxis": {
            "backgroundcolor": "#E5ECF6",
            "gridcolor": "white",
            "gridwidth": 2,
            "linecolor": "white",
            "showbackground": true,
            "ticks": "",
            "zerolinecolor": "white"
           }
          },
          "shapedefaults": {
           "line": {
            "color": "#2a3f5f"
           }
          },
          "ternary": {
           "aaxis": {
            "gridcolor": "white",
            "linecolor": "white",
            "ticks": ""
           },
           "baxis": {
            "gridcolor": "white",
            "linecolor": "white",
            "ticks": ""
           },
           "bgcolor": "#E5ECF6",
           "caxis": {
            "gridcolor": "white",
            "linecolor": "white",
            "ticks": ""
           }
          },
          "title": {
           "x": 0.05
          },
          "xaxis": {
           "automargin": true,
           "gridcolor": "white",
           "linecolor": "white",
           "ticks": "",
           "title": {
            "standoff": 15
           },
           "zerolinecolor": "white",
           "zerolinewidth": 2
          },
          "yaxis": {
           "automargin": true,
           "gridcolor": "white",
           "linecolor": "white",
           "ticks": "",
           "title": {
            "standoff": 15
           },
           "zerolinecolor": "white",
           "zerolinewidth": 2
          }
         }
        },
        "xaxis": {
         "anchor": "y",
         "domain": [
          0,
          0.16799999999999998
         ]
        },
        "xaxis2": {
         "anchor": "y2",
         "domain": [
          0.208,
          0.376
         ]
        },
        "xaxis3": {
         "anchor": "y3",
         "domain": [
          0.416,
          0.584
         ]
        },
        "xaxis4": {
         "anchor": "y4",
         "domain": [
          0.624,
          0.792
         ]
        },
        "xaxis5": {
         "anchor": "y5",
         "domain": [
          0.832,
          1
         ]
        },
        "yaxis": {
         "anchor": "x",
         "domain": [
          0,
          1
         ],
         "range": [
          80,
          100
         ]
        },
        "yaxis2": {
         "anchor": "x2",
         "domain": [
          0,
          1
         ],
         "range": [
          80,
          100
         ]
        },
        "yaxis3": {
         "anchor": "x3",
         "domain": [
          0,
          1
         ],
         "range": [
          80,
          100
         ]
        },
        "yaxis4": {
         "anchor": "x4",
         "domain": [
          0,
          1
         ],
         "range": [
          80,
          100
         ]
        },
        "yaxis5": {
         "anchor": "x5",
         "domain": [
          0,
          1
         ],
         "range": [
          80,
          100
         ]
        }
       }
      },
      "text/html": [
       "<div>                            <div id=\"0917da02-7cb4-4564-ae2a-64bc115539b3\" class=\"plotly-graph-div\" style=\"height:525px; width:100%;\"></div>            <script type=\"text/javascript\">                require([\"plotly\"], function(Plotly) {                    window.PLOTLYENV=window.PLOTLYENV || {};                                    if (document.getElementById(\"0917da02-7cb4-4564-ae2a-64bc115539b3\")) {                    Plotly.newPlot(                        \"0917da02-7cb4-4564-ae2a-64bc115539b3\",                        [{\"name\":\"max_time\",\"x\":[3600,3600,3600,3600,3600,3600,3600,3600,3600,3600,3600,3600,3600,3600,3600,3600,1800,3600,3600,3600,3600,3600,3600,3600,3600,3600,3600,3600,3600,1800,3600,3600,3600,3600,3600,3600,3600,3600,3600,3600,3600,3600,1800,3600,3600,3600,1800,3600,3600,1800,3600,3600,3600,3600,1800,3600,3600,1800,3600,3600,3600,3600,3600,3600,1800,3600,3600,3600,3600,3600,3600,3600,1800,3600,1800,3600,3600,3600,3600,3600,3600,1800,1800,3600,3600,3600,1800,3600,3600,1800,1800,1800,3600,3600,1800,3600,1800,3600,1800,1800,1800,1800,1800,3600,1800,3600,3600,3600,1800,3600,1800,3600,1800,3600,3600,3600,1800,1800,3600,3600,1800,3600,3600,1800,3600,1800,3600,1800,3600,1800,1800,1800,3600,3600,1800,1800,1800,3600,1800,1800,1800,1800,3600,3600,3600,1800,1800,3600,1800,1800,1800,3600,3600,3600,1800,1800,1800,3600,3600,1800,1800,1800,1800,1800,1800,1800,3600,1800,3600,3600,1800,1800,1800,1800,1800,1800,3600,1800,1800,1800,1800,1800,1800,1800,3600,1800,1800,1800,1800,1800,1800,3600,1800,1800,3600,1800,1800,1800,3600,1800,3600,3600,3600,3600,1800,3600,3600,1800,1800,3600,1800,3600,1800,1800,1800,1800,1800,1800,1800,1800,1800,1800,1800,1800,3600,1800,1800,3600,1800,1800,1800,3600,1800,1800,1800,1800,1800,1800,1800,1800,1800,1800,300,1800,1800,3600,1800,1800,1800,3600,1800,300,300,1800,300,1800,300,300,300,1800,300,1800,300,300,300,3600,300,300,300,1800,300,300,1800,300,300,300,3600,300,1800,3600,300,300,300,300,300,3600,300,300,1800,300,3600,1800,300,300,1800,300,300,300,300,300,300,300,300,300,300,300,300,300,300,300,300,300,300,300,300,300,300,300,300,300,300,300,300,300,300,300,300,300,300,300,300,300,300,300,300,300,300,300,300,300,300,300,300,300,300,300,300,300,300,300,300,300,300,300,300,300,300,300,300,300,300,300,300,300,300,300,300,300,300,300,300,300,300,300,300,300,300,300,300,300,300,300,300,300,300,300,300,300,300,300,300,300,300,300,300,300,300,300,300,300,300,300,300,1800,3600,300,1800,300,1800,3600,300,1800,300,3600,300,300,1800,300,3600,1800,3600,300,300,3600,3600,3600,300,1800,1800,1800,3600,3600,1800,1800,1800,300,300,300,3600,3600,3600,1800,1800,300,3600,300,1800,1800,300,3600,3600,3600,1800,300,3600,1800,3600,300,3600,1800,3600,300,300,1800,300,1800,300,1800,300,300,1800,3600,300,1800,300,3600,300,3600,3600,300,1800,3600,3600,3600,3600,300,300,3600,300,300,300,1800,3600,1800,3600,300,3600,3600,300,300,3600,1800,300,1800,1800,1800,1800,1800,300,300,300,3600,300,1800,3600,1800,3600,1800,300,3600,3600,1800,1800,3600,1800,300,1800,3600,1800,300,1800,3600,300,300,1800,3600,1800,300,1800,3600,1800,3600,1800,1800,300,3600,1800,1800,1800,300,1800,300,3600,300,3600,1800,3600,3600,1800,300,300,1800,1800,3600,300,1800,1800,3600,3600,1800,3600,300,1800,300,3600,300,1800,300,300,3600,1800,3600,3600,3600,300,300,300,300,3600,1800,3600,1800,3600,3600,300,3600,3600,1800,1800,1800,300,1800,1800,1800,1800,300,3600,300,3600,1800,3600,1800,1800,300,1800,300,300,1800,1800,1800,3600,300,3600,1800,1800,300,1800,1800,300,1800,3600,300,300,300,1800,1800,1800,1800,3600,300,1800,3600,3600,300,300,300,3600,1800,1800,300,300,3600,3600,3600,3600,1800,300,300,3600,1800,3600,3600,300,3600,1800,300,1800,1800,3600,3600,3600,300,3600,300,1800,300,300,3600,3600,1800,300,3600,3600,300,1800,3600,1800,300,300,1800,1800,1800,3600,3600,1800,3600,3600,300,300,3600,1800,1800,1800,1800,300,1800,300,300,300,300,3600,300,3600,1800,1800,1800,3600,3600,300,3600,1800,3600,3600,1800,300,3600,300,3600,3600,300,1800,3600,300,1800,3600,3600,3600,3600,1800,300,1800,300,300,3600,1800,1800,1800,300,3600,1800,3600,300,300,3600,3600,1800,300,3600,300,1800,3600,1800,300,3600,1800,300,300,3600],\"y\":[98.9822998046875,98.89260864257812,98.87449645996094,98.84634399414062,98.72239685058594,98.66903686523438,98.64631652832033,98.64541625976562,98.6295928955078,98.6107940673828,98.59496307373048,98.5821304321289,98.57769775390624,98.57167053222656,98.5709228515625,98.56266021728516,98.54762268066406,98.5454559326172,98.53609466552734,98.51893615722656,98.51385498046876,98.51094818115234,98.49971771240234,98.48509216308594,98.47417449951172,98.47180938720705,98.46562957763672,98.46517944335938,98.45996856689452,98.4502410888672,98.44566345214844,98.42056274414062,98.41806030273438,98.41436767578124,98.41143798828124,98.40106201171876,98.3873519897461,98.38502502441406,98.38286590576172,98.37709045410156,98.36708068847656,98.36528778076172,98.3453598022461,98.33273315429688,98.33255767822266,98.31326293945312,98.29581451416016,98.29285430908205,98.29102325439452,98.28487396240234,98.27808380126952,98.26820373535156,98.25696563720705,98.2520523071289,98.24124908447266,98.23980712890624,98.23013305664062,98.22616577148438,98.224853515625,98.22364807128906,98.21053314208984,98.20922088623048,98.20565795898438,98.20547485351562,98.2054443359375,98.20511627197266,98.20410919189452,98.20298767089844,98.19668579101562,98.19523620605467,98.17539978027344,98.17124938964844,98.16822052001952,98.1502685546875,98.13873291015624,98.126708984375,98.11810302734376,98.11681365966795,98.1014404296875,98.09747314453124,98.0964813232422,98.09375,98.08969116210938,98.08294677734376,98.07008361816406,98.06781768798828,98.05298614501952,98.04692840576172,98.0408935546875,98.03399658203124,98.03192901611328,98.03111267089844,98.02599334716795,98.02054595947266,98.02009582519533,98.01966857910156,98.01885986328124,98.0155029296875,98.01161193847656,98.0113296508789,98.00157928466795,97.99784088134766,97.98326873779295,97.97834014892578,97.97763061523438,97.97515106201172,97.96895599365234,97.96083068847656,97.96075439453124,97.95887756347656,97.93726348876952,97.9363021850586,97.9289779663086,97.92639923095705,97.92586517333984,97.92476654052734,97.90099334716795,97.9002685546875,97.89966583251952,97.89669799804688,97.89312744140624,97.88835144042967,97.88493347167967,97.88429260253906,97.87474060058594,97.86359405517578,97.85253143310548,97.84007263183594,97.84000396728516,97.83074951171876,97.82604217529295,97.82108306884766,97.8116226196289,97.80868530273438,97.78947448730467,97.7882308959961,97.78244018554688,97.77166748046876,97.7704620361328,97.76944732666016,97.76673126220705,97.7663803100586,97.7547378540039,97.75092315673828,97.73106384277344,97.7303237915039,97.72840881347656,97.7238540649414,97.71002197265624,97.70951080322266,97.70897674560548,97.7000503540039,97.69694519042967,97.6865692138672,97.67752075195312,97.66934967041016,97.66747283935548,97.64984130859376,97.646240234375,97.63426208496094,97.63240814208984,97.62933349609376,97.62073516845705,97.61370086669922,97.58937072753906,97.58326721191406,97.5828857421875,97.57915496826172,97.5778350830078,97.56886291503906,97.56527709960938,97.5455322265625,97.53936767578124,97.5334243774414,97.53062438964844,97.52886962890624,97.50324249267578,97.49105072021484,97.48680877685548,97.48114013671876,97.47201538085938,97.45431518554688,97.43515014648438,97.41413116455078,97.40907287597656,97.4083480834961,97.4060287475586,97.39932250976562,97.38507080078124,97.3684539794922,97.32997131347656,97.22595977783205,97.218505859375,97.212646484375,97.2061004638672,97.19743347167967,97.17827606201172,97.17689514160156,97.17020416259766,97.15495300292967,97.15225982666016,97.1471710205078,97.13197326660156,97.09343719482422,97.08607482910156,97.0301284790039,97.02660369873048,97.01844787597656,96.9895477294922,96.97122955322266,96.93278503417967,96.88873291015624,96.83387756347656,96.82450103759766,96.70923614501952,96.6952896118164,96.6936264038086,96.6901397705078,96.68496704101562,96.65316009521484,96.6144790649414,96.41548919677734,96.41498565673828,96.3361587524414,96.32294464111328,96.23152923583984,96.2197265625,96.21514129638672,96.14468383789062,96.11605834960938,96.1152114868164,96.10822296142578,96.103515625,96.09786224365234,96.08468627929688,96.0687255859375,96.05825805664062,95.97563934326172,95.96310424804688,95.94401550292967,95.92322540283205,95.89581298828124,95.89462280273438,95.87155151367188,95.86812591552734,95.79630279541016,95.779296875,95.7741241455078,95.7300796508789,95.72159576416016,95.7122802734375,95.68025207519533,95.63919067382812,95.62578582763672,95.5737075805664,95.55643463134766,95.50493621826172,95.49427032470705,95.44329833984376,95.43963623046876,95.42822265625,95.41888427734376,95.40809631347656,95.3564224243164,95.30950164794922,95.30123138427734,95.29904174804688,95.27518463134766,95.27469635009766,95.2461395263672,95.22815704345705,95.20242309570312,95.17118072509766,95.16346740722656,95.1210479736328,95.04354095458984,94.9228973388672,94.86884307861328,94.84434509277344,94.8093719482422,94.80098724365234,94.79791259765624,94.79060363769533,94.78191375732422,94.7685775756836,94.7275161743164,94.7109832763672,94.63507843017578,94.6042022705078,94.56676483154295,94.53546142578124,94.52093505859376,94.47543334960938,94.46856689453124,94.45772552490234,94.40021514892578,94.3848648071289,94.35118103027344,94.19383239746094,94.1611557006836,94.14279174804688,94.14152526855467,94.0475616455078,93.92176055908205,93.9067840576172,93.88818359375,93.78759765625,93.75489044189452,93.67791748046876,93.67427825927734,93.67127990722656,93.65634155273438,93.64763641357422,93.60559844970705,93.58219146728516,93.56428527832033,93.5278778076172,93.44540405273438,93.43289184570312,93.35698699951172,93.3440170288086,93.3387680053711,93.31680297851562,93.20411682128906,93.20045471191406,93.1983413696289,93.09524536132812,93.07684326171876,93.06507873535156,93.00845336914062,92.96414947509766,92.84396362304688,92.82923889160156,92.7813491821289,92.74246978759766,92.5822525024414,92.57538604736328,92.56693267822266,92.54094696044922,92.5365219116211,92.49945068359376,92.38400268554688,92.3834228515625,92.36365509033205,92.21099853515624,92.20194244384766,92.177734375,92.15391540527344,92.1267318725586,92.0561065673828,92.03173065185548,91.93814086914062,91.90593719482422,91.78204345703124,91.70299530029295,91.66506958007812,91.63421630859376,91.62477111816406,91.58558654785156,91.55591583251952,91.50845336914062,91.50315856933594,91.44302368164062,91.4220199584961,91.30680847167967,91.2894287109375,91.27079010009766,91.22115325927734,91.054931640625,91.03814697265624,90.97862243652344,90.89635467529295,90.84000396728516,90.77008819580078,90.75152587890624,90.73247528076172,90.660888671875,90.65862274169922,90.59855651855467,90.59503936767578,90.54473876953124,90.45059967041016,90.42214965820312,90.36823272705078,89.94795989990234,89.91593933105469,89.88746643066406,89.70743560791016,89.65009307861328,89.3011703491211,89.24322509765625,88.65019989013672,87.72977447509766,87.68255615234375,87.61225128173828,87.52019500732422,87.05554962158203,86.95471954345703,86.54139709472656,86.45651245117188,86.44223022460938,85.86546325683594,0.0,0.0,0.0,0.0,0.0,0.0,0.0,0.0,0.0,0.0,0.0,0.0,0.0,0.0,0.0,0.0,0.0,0.0,0.0,0.0,0.0,0.0,0.0,0.0,0.0,0.0,0.0,0.0,0.0,0.0,0.0,0.0,0.0,0.0,0.0,0.0,0.0,0.0,0.0,0.0,0.0,0.0,0.0,0.0,0.0,0.0,0.0,0.0,0.0,0.0,0.0,0.0,0.0,0.0,0.0,0.0,0.0,0.0,0.0,0.0,0.0,0.0,0.0,0.0,0.0,0.0,0.0,0.0,0.0,0.0,0.0,0.0,0.0,0.0,0.0,0.0,0.0,0.0,0.0,0.0,0.0,0.0,0.0,0.0,0.0,0.0,0.0,0.0,0.0,0.0,0.0,0.0,0.0,0.0,0.0,0.0,0.0,0.0,0.0,0.0,0.0,0.0,0.0,0.0,0.0,0.0,0.0,0.0,0.0,0.0,0.0,0.0,0.0,0.0,0.0,0.0,0.0,0.0,0.0,0.0,0.0,0.0,0.0,0.0,0.0,0.0,0.0,0.0,0.0,0.0,0.0,0.0,0.0,0.0,0.0,0.0,0.0,0.0,0.0,0.0,0.0,0.0,0.0,0.0,0.0,0.0,0.0,0.0,0.0,0.0,0.0,0.0,0.0,0.0,0.0,0.0,0.0,0.0,0.0,0.0,0.0,0.0,0.0,0.0,0.0,0.0,0.0,0.0,0.0,0.0,0.0,0.0,0.0,0.0,0.0,0.0,0.0,0.0,0.0,0.0,0.0,0.0,0.0,0.0,0.0,0.0,0.0,0.0,0.0,0.0,0.0,0.0,0.0,0.0,0.0,0.0,0.0,0.0,0.0,0.0,0.0,0.0,0.0,0.0,0.0,0.0,0.0,0.0,0.0,0.0,0.0,0.0,0.0,0.0,0.0,0.0,0.0,0.0,0.0,0.0,0.0,0.0,0.0,0.0,0.0,0.0,0.0,0.0,0.0,0.0,0.0,0.0,0.0,0.0,0.0,0.0,0.0,0.0,0.0,0.0,0.0,0.0,0.0,0.0,0.0,0.0,0.0,0.0,0.0,0.0,0.0,0.0,0.0,0.0,0.0,0.0,0.0,0.0,0.0,0.0,0.0,0.0,0.0,0.0,0.0,0.0,0.0,0.0,0.0,0.0,0.0,0.0,0.0,0.0,0.0,0.0,0.0,0.0,0.0,0.0,0.0,0.0,0.0,0.0,0.0,0.0,0.0,0.0,0.0,0.0,0.0,0.0,0.0,0.0,0.0,0.0,0.0,0.0,0.0,0.0,0.0,0.0,0.0,0.0,0.0,0.0,0.0,0.0,0.0,0.0,0.0,0.0,0.0,0.0,0.0,0.0,0.0,0.0,0.0,0.0,0.0,0.0,0.0,0.0,0.0,0.0,0.0,0.0,0.0,0.0,0.0,0.0,0.0,0.0,0.0,0.0,0.0,0.0,0.0,0.0,0.0,0.0,0.0,0.0,0.0,0.0,0.0,0.0,0.0,0.0,0.0,0.0,0.0,0.0,0.0,0.0,0.0,0.0,0.0,0.0,0.0,0.0,0.0,0.0,0.0,0.0],\"type\":\"box\",\"xaxis\":\"x\",\"yaxis\":\"y\"},{\"name\":\"batch_size\",\"x\":[1024,512,128,32,32,32,128,128,32,1024,32,1024,128,512,128,1024,128,32,32,32,512,32,32,512,512,128,128,512,32,128,128,1024,512,512,128,512,128,32,512,128,1024,512,512,128,128,512,512,1024,128,32,512,32,1024,32,512,1024,512,512,128,1024,1024,1024,512,512,32,1024,512,32,128,128,32,128,512,128,128,32,1024,128,1024,32,1024,32,32,32,32,32,512,128,128,32,512,32,32,1024,512,512,512,128,128,32,128,1024,128,32,1024,128,512,512,128,128,512,512,512,512,128,32,32,512,32,512,512,32,32,128,512,128,32,512,1024,32,128,128,1024,1024,1024,512,1024,1024,128,1024,32,128,32,512,1024,128,1024,32,32,1024,32,1024,32,1024,128,32,32,32,32,1024,128,1024,128,32,1024,128,32,128,32,512,128,128,32,32,32,128,32,1024,512,1024,512,128,32,32,512,1024,32,128,128,128,1024,32,512,128,32,32,128,512,128,512,1024,1024,128,512,128,512,128,1024,512,1024,128,1024,1024,512,1024,512,1024,1024,1024,1024,512,1024,128,1024,32,128,1024,512,1024,128,1024,512,512,32,1024,32,512,32,512,512,128,32,128,128,512,128,32,128,32,32,32,128,128,1024,128,1024,128,128,512,32,128,128,128,512,512,1024,32,512,128,512,32,512,128,512,512,128,512,512,32,128,32,32,512,512,512,512,512,32,512,512,32,128,512,512,32,128,128,128,128,512,128,32,128,512,512,512,128,512,1024,32,1024,512,1024,128,32,1024,128,512,32,128,128,1024,1024,128,1024,1024,32,1024,128,128,512,128,512,512,1024,512,512,32,512,32,1024,1024,128,1024,128,32,128,32,1024,128,32,1024,1024,1024,512,1024,1024,1024,32,1024,512,32,1024,1024,32,1024,1024,1024,32,128,1024,512,1024,32,32,32,1024,32,1024,1024,512,32,32,512,512,32,128,1024,512,32,128,32,512,1024,1024,128,1024,1024,32,128,512,32,128,32,512,32,512,512,512,512,32,512,32,128,512,32,32,32,512,512,32,128,32,512,512,128,32,32,1024,32,512,1024,512,1024,512,128,128,512,512,1024,512,1024,32,512,1024,32,512,1024,128,128,128,128,32,512,1024,1024,128,512,1024,128,512,512,1024,1024,512,512,32,128,512,512,128,1024,128,128,1024,128,128,32,1024,512,128,128,512,128,32,32,512,32,32,512,128,1024,1024,1024,512,1024,1024,32,32,512,128,128,1024,512,32,32,32,128,1024,512,128,1024,1024,32,512,512,128,512,32,1024,128,1024,32,512,512,128,1024,32,1024,128,128,512,32,1024,1024,512,1024,32,32,1024,32,1024,128,512,32,512,1024,32,128,512,128,1024,128,32,128,1024,128,128,128,512,1024,128,1024,1024,128,512,32,512,32,128,512,1024,512,32,1024,512,512,1024,128,512,32,128,32,1024,1024,128,32,128,1024,512,1024,1024,1024,1024,1024,1024,128,512,1024,128,128,1024,32,32,32,128,1024,1024,1024,512,32,32,1024,128,128,128,128,32,128,32,128,1024,128,1024,1024,1024,128,32,128,32,32,128,32,32,32,1024,128,128,32,1024,512,128,128,32,512,1024,32,1024,1024,512,1024,1024,512,512,1024,512,512,512,1024,1024,128,32,1024,32,512,1024,128,512,1024,1024,32,1024,32,128,512,128,32,512,128,128,1024,1024,512,32,1024,128,1024,512,1024,32,1024,1024,1024,512,512,128,512,32,1024,128,1024,128,1024,512,128,1024,32,128,128,512,32,32,32,32,32,128,512,128,32,128,32,128,512,32,32,1024,128,32,32,512,512,32,128,512,1024,512,32,128,512,512,512,32,1024,32,1024,512,1024,32,128,32,512,512,1024,512,512,32,32,1024,1024,512,1024,512,32,128,128,32,128,1024],\"y\":[98.9822998046875,98.89260864257812,98.87449645996094,98.84634399414062,98.72239685058594,98.66903686523438,98.64631652832033,98.64541625976562,98.6295928955078,98.6107940673828,98.59496307373048,98.5821304321289,98.57769775390624,98.57167053222656,98.5709228515625,98.56266021728516,98.54762268066406,98.5454559326172,98.53609466552734,98.51893615722656,98.51385498046876,98.51094818115234,98.49971771240234,98.48509216308594,98.47417449951172,98.47180938720705,98.46562957763672,98.46517944335938,98.45996856689452,98.4502410888672,98.44566345214844,98.42056274414062,98.41806030273438,98.41436767578124,98.41143798828124,98.40106201171876,98.3873519897461,98.38502502441406,98.38286590576172,98.37709045410156,98.36708068847656,98.36528778076172,98.3453598022461,98.33273315429688,98.33255767822266,98.31326293945312,98.29581451416016,98.29285430908205,98.29102325439452,98.28487396240234,98.27808380126952,98.26820373535156,98.25696563720705,98.2520523071289,98.24124908447266,98.23980712890624,98.23013305664062,98.22616577148438,98.224853515625,98.22364807128906,98.21053314208984,98.20922088623048,98.20565795898438,98.20547485351562,98.2054443359375,98.20511627197266,98.20410919189452,98.20298767089844,98.19668579101562,98.19523620605467,98.17539978027344,98.17124938964844,98.16822052001952,98.1502685546875,98.13873291015624,98.126708984375,98.11810302734376,98.11681365966795,98.1014404296875,98.09747314453124,98.0964813232422,98.09375,98.08969116210938,98.08294677734376,98.07008361816406,98.06781768798828,98.05298614501952,98.04692840576172,98.0408935546875,98.03399658203124,98.03192901611328,98.03111267089844,98.02599334716795,98.02054595947266,98.02009582519533,98.01966857910156,98.01885986328124,98.0155029296875,98.01161193847656,98.0113296508789,98.00157928466795,97.99784088134766,97.98326873779295,97.97834014892578,97.97763061523438,97.97515106201172,97.96895599365234,97.96083068847656,97.96075439453124,97.95887756347656,97.93726348876952,97.9363021850586,97.9289779663086,97.92639923095705,97.92586517333984,97.92476654052734,97.90099334716795,97.9002685546875,97.89966583251952,97.89669799804688,97.89312744140624,97.88835144042967,97.88493347167967,97.88429260253906,97.87474060058594,97.86359405517578,97.85253143310548,97.84007263183594,97.84000396728516,97.83074951171876,97.82604217529295,97.82108306884766,97.8116226196289,97.80868530273438,97.78947448730467,97.7882308959961,97.78244018554688,97.77166748046876,97.7704620361328,97.76944732666016,97.76673126220705,97.7663803100586,97.7547378540039,97.75092315673828,97.73106384277344,97.7303237915039,97.72840881347656,97.7238540649414,97.71002197265624,97.70951080322266,97.70897674560548,97.7000503540039,97.69694519042967,97.6865692138672,97.67752075195312,97.66934967041016,97.66747283935548,97.64984130859376,97.646240234375,97.63426208496094,97.63240814208984,97.62933349609376,97.62073516845705,97.61370086669922,97.58937072753906,97.58326721191406,97.5828857421875,97.57915496826172,97.5778350830078,97.56886291503906,97.56527709960938,97.5455322265625,97.53936767578124,97.5334243774414,97.53062438964844,97.52886962890624,97.50324249267578,97.49105072021484,97.48680877685548,97.48114013671876,97.47201538085938,97.45431518554688,97.43515014648438,97.41413116455078,97.40907287597656,97.4083480834961,97.4060287475586,97.39932250976562,97.38507080078124,97.3684539794922,97.32997131347656,97.22595977783205,97.218505859375,97.212646484375,97.2061004638672,97.19743347167967,97.17827606201172,97.17689514160156,97.17020416259766,97.15495300292967,97.15225982666016,97.1471710205078,97.13197326660156,97.09343719482422,97.08607482910156,97.0301284790039,97.02660369873048,97.01844787597656,96.9895477294922,96.97122955322266,96.93278503417967,96.88873291015624,96.83387756347656,96.82450103759766,96.70923614501952,96.6952896118164,96.6936264038086,96.6901397705078,96.68496704101562,96.65316009521484,96.6144790649414,96.41548919677734,96.41498565673828,96.3361587524414,96.32294464111328,96.23152923583984,96.2197265625,96.21514129638672,96.14468383789062,96.11605834960938,96.1152114868164,96.10822296142578,96.103515625,96.09786224365234,96.08468627929688,96.0687255859375,96.05825805664062,95.97563934326172,95.96310424804688,95.94401550292967,95.92322540283205,95.89581298828124,95.89462280273438,95.87155151367188,95.86812591552734,95.79630279541016,95.779296875,95.7741241455078,95.7300796508789,95.72159576416016,95.7122802734375,95.68025207519533,95.63919067382812,95.62578582763672,95.5737075805664,95.55643463134766,95.50493621826172,95.49427032470705,95.44329833984376,95.43963623046876,95.42822265625,95.41888427734376,95.40809631347656,95.3564224243164,95.30950164794922,95.30123138427734,95.29904174804688,95.27518463134766,95.27469635009766,95.2461395263672,95.22815704345705,95.20242309570312,95.17118072509766,95.16346740722656,95.1210479736328,95.04354095458984,94.9228973388672,94.86884307861328,94.84434509277344,94.8093719482422,94.80098724365234,94.79791259765624,94.79060363769533,94.78191375732422,94.7685775756836,94.7275161743164,94.7109832763672,94.63507843017578,94.6042022705078,94.56676483154295,94.53546142578124,94.52093505859376,94.47543334960938,94.46856689453124,94.45772552490234,94.40021514892578,94.3848648071289,94.35118103027344,94.19383239746094,94.1611557006836,94.14279174804688,94.14152526855467,94.0475616455078,93.92176055908205,93.9067840576172,93.88818359375,93.78759765625,93.75489044189452,93.67791748046876,93.67427825927734,93.67127990722656,93.65634155273438,93.64763641357422,93.60559844970705,93.58219146728516,93.56428527832033,93.5278778076172,93.44540405273438,93.43289184570312,93.35698699951172,93.3440170288086,93.3387680053711,93.31680297851562,93.20411682128906,93.20045471191406,93.1983413696289,93.09524536132812,93.07684326171876,93.06507873535156,93.00845336914062,92.96414947509766,92.84396362304688,92.82923889160156,92.7813491821289,92.74246978759766,92.5822525024414,92.57538604736328,92.56693267822266,92.54094696044922,92.5365219116211,92.49945068359376,92.38400268554688,92.3834228515625,92.36365509033205,92.21099853515624,92.20194244384766,92.177734375,92.15391540527344,92.1267318725586,92.0561065673828,92.03173065185548,91.93814086914062,91.90593719482422,91.78204345703124,91.70299530029295,91.66506958007812,91.63421630859376,91.62477111816406,91.58558654785156,91.55591583251952,91.50845336914062,91.50315856933594,91.44302368164062,91.4220199584961,91.30680847167967,91.2894287109375,91.27079010009766,91.22115325927734,91.054931640625,91.03814697265624,90.97862243652344,90.89635467529295,90.84000396728516,90.77008819580078,90.75152587890624,90.73247528076172,90.660888671875,90.65862274169922,90.59855651855467,90.59503936767578,90.54473876953124,90.45059967041016,90.42214965820312,90.36823272705078,89.94795989990234,89.91593933105469,89.88746643066406,89.70743560791016,89.65009307861328,89.3011703491211,89.24322509765625,88.65019989013672,87.72977447509766,87.68255615234375,87.61225128173828,87.52019500732422,87.05554962158203,86.95471954345703,86.54139709472656,86.45651245117188,86.44223022460938,85.86546325683594,0.0,0.0,0.0,0.0,0.0,0.0,0.0,0.0,0.0,0.0,0.0,0.0,0.0,0.0,0.0,0.0,0.0,0.0,0.0,0.0,0.0,0.0,0.0,0.0,0.0,0.0,0.0,0.0,0.0,0.0,0.0,0.0,0.0,0.0,0.0,0.0,0.0,0.0,0.0,0.0,0.0,0.0,0.0,0.0,0.0,0.0,0.0,0.0,0.0,0.0,0.0,0.0,0.0,0.0,0.0,0.0,0.0,0.0,0.0,0.0,0.0,0.0,0.0,0.0,0.0,0.0,0.0,0.0,0.0,0.0,0.0,0.0,0.0,0.0,0.0,0.0,0.0,0.0,0.0,0.0,0.0,0.0,0.0,0.0,0.0,0.0,0.0,0.0,0.0,0.0,0.0,0.0,0.0,0.0,0.0,0.0,0.0,0.0,0.0,0.0,0.0,0.0,0.0,0.0,0.0,0.0,0.0,0.0,0.0,0.0,0.0,0.0,0.0,0.0,0.0,0.0,0.0,0.0,0.0,0.0,0.0,0.0,0.0,0.0,0.0,0.0,0.0,0.0,0.0,0.0,0.0,0.0,0.0,0.0,0.0,0.0,0.0,0.0,0.0,0.0,0.0,0.0,0.0,0.0,0.0,0.0,0.0,0.0,0.0,0.0,0.0,0.0,0.0,0.0,0.0,0.0,0.0,0.0,0.0,0.0,0.0,0.0,0.0,0.0,0.0,0.0,0.0,0.0,0.0,0.0,0.0,0.0,0.0,0.0,0.0,0.0,0.0,0.0,0.0,0.0,0.0,0.0,0.0,0.0,0.0,0.0,0.0,0.0,0.0,0.0,0.0,0.0,0.0,0.0,0.0,0.0,0.0,0.0,0.0,0.0,0.0,0.0,0.0,0.0,0.0,0.0,0.0,0.0,0.0,0.0,0.0,0.0,0.0,0.0,0.0,0.0,0.0,0.0,0.0,0.0,0.0,0.0,0.0,0.0,0.0,0.0,0.0,0.0,0.0,0.0,0.0,0.0,0.0,0.0,0.0,0.0,0.0,0.0,0.0,0.0,0.0,0.0,0.0,0.0,0.0,0.0,0.0,0.0,0.0,0.0,0.0,0.0,0.0,0.0,0.0,0.0,0.0,0.0,0.0,0.0,0.0,0.0,0.0,0.0,0.0,0.0,0.0,0.0,0.0,0.0,0.0,0.0,0.0,0.0,0.0,0.0,0.0,0.0,0.0,0.0,0.0,0.0,0.0,0.0,0.0,0.0,0.0,0.0,0.0,0.0,0.0,0.0,0.0,0.0,0.0,0.0,0.0,0.0,0.0,0.0,0.0,0.0,0.0,0.0,0.0,0.0,0.0,0.0,0.0,0.0,0.0,0.0,0.0,0.0,0.0,0.0,0.0,0.0,0.0,0.0,0.0,0.0,0.0,0.0,0.0,0.0,0.0,0.0,0.0,0.0,0.0,0.0,0.0,0.0,0.0,0.0,0.0,0.0,0.0,0.0,0.0,0.0,0.0,0.0,0.0,0.0,0.0,0.0,0.0,0.0,0.0,0.0,0.0,0.0,0.0,0.0,0.0,0.0,0.0,0.0,0.0,0.0,0.0,0.0,0.0,0.0],\"type\":\"box\",\"xaxis\":\"x2\",\"yaxis\":\"y2\"},{\"name\":\"seq_len\",\"x\":[40,160,160,160,160,80,80,80,160,80,40,320,80,80,160,40,40,160,160,80,160,80,40,80,160,40,320,40,40,40,80,320,160,160,40,40,40,80,40,160,80,40,40,160,320,160,80,40,160,40,40,160,160,40,80,80,40,40,160,160,40,160,80,40,80,320,160,160,80,160,320,320,40,160,40,40,160,80,40,80,160,80,80,80,40,160,160,320,80,40,40,160,320,40,80,160,80,320,40,40,160,160,80,160,80,80,160,80,40,80,40,80,160,40,320,320,80,80,160,320,160,160,80,160,40,40,160,40,80,80,320,80,320,80,40,80,40,160,160,80,80,40,80,80,320,160,320,40,160,40,160,320,320,40,160,40,80,40,80,320,80,80,160,320,40,320,320,80,80,320,160,160,40,160,320,40,40,80,160,160,80,320,40,320,320,80,40,320,160,80,160,40,320,160,320,160,160,80,40,80,80,320,160,320,320,80,320,80,80,80,320,80,160,160,40,80,320,320,80,80,320,40,80,160,80,320,160,40,160,320,160,320,320,320,40,160,160,320,320,320,320,320,40,40,160,40,320,320,320,320,160,40,40,320,40,40,80,80,80,320,40,320,80,80,40,40,80,40,40,40,80,80,40,80,40,80,320,40,320,40,80,40,40,80,40,40,80,80,320,40,40,320,80,160,40,80,80,40,160,80,80,160,80,40,160,80,160,160,40,40,160,160,40,160,160,160,160,40,160,160,320,80,160,40,40,80,160,40,160,160,160,160,40,40,160,80,160,160,40,80,160,160,160,80,160,40,80,80,320,320,160,320,40,320,160,320,320,80,160,80,320,320,160,80,320,320,40,160,80,320,160,320,320,160,320,40,320,320,40,320,160,320,40,320,320,40,320,160,320,40,320,320,320,320,320,320,320,40,320,320,320,320,160,320,80,40,160,80,40,80,320,320,80,320,320,80,40,160,40,160,320,320,160,320,320,40,320,320,160,40,160,40,320,40,40,320,40,160,80,160,320,80,160,80,320,40,320,320,40,40,80,320,160,320,160,320,160,80,40,80,160,40,320,320,320,80,80,80,320,80,80,40,160,160,40,320,40,320,320,320,80,320,40,40,160,160,80,160,80,40,40,320,160,80,80,160,320,40,40,320,320,80,40,40,40,40,40,160,40,80,320,320,80,160,320,320,40,320,80,320,160,320,160,40,320,320,80,40,160,160,80,160,40,80,80,80,40,80,160,320,160,320,80,160,320,160,160,80,320,40,160,160,80,40,80,160,80,320,40,320,80,320,40,160,80,40,320,320,80,80,320,160,40,80,160,160,40,80,40,320,80,320,320,160,80,320,80,160,80,160,40,80,80,80,320,160,320,320,320,80,40,80,80,160,80,80,160,40,40,80,80,40,160,80,40,320,320,320,40,320,160,40,40,160,40,160,40,80,160,80,40,80,160,320,160,160,40,320,320,80,320,40,80,320,40,80,160,320,160,160,80,80,80,160,320,40,160,320,80,40,160,320,80,80,320,40,320,160,80,40,320,40,160,80,160,320,40,40,80,160,320,80,160,160,320,40,320,160,160,80,320,40,40,40,80,80,320,160,40,160,40,160,80,80,160,40,320,40,80,160,320,160,320,80,40,40,320,40,160,40,80,40,80,320,40,80,40,320,40,320,320,40,80,160,40,320,80,160,40,160,160,320,160,80,80,160,320,80,320,40,160,160,80,80,80,160,40,160,320,80,320,40,40,160,80,320,320,160],\"y\":[98.9822998046875,98.89260864257812,98.87449645996094,98.84634399414062,98.72239685058594,98.66903686523438,98.64631652832033,98.64541625976562,98.6295928955078,98.6107940673828,98.59496307373048,98.5821304321289,98.57769775390624,98.57167053222656,98.5709228515625,98.56266021728516,98.54762268066406,98.5454559326172,98.53609466552734,98.51893615722656,98.51385498046876,98.51094818115234,98.49971771240234,98.48509216308594,98.47417449951172,98.47180938720705,98.46562957763672,98.46517944335938,98.45996856689452,98.4502410888672,98.44566345214844,98.42056274414062,98.41806030273438,98.41436767578124,98.41143798828124,98.40106201171876,98.3873519897461,98.38502502441406,98.38286590576172,98.37709045410156,98.36708068847656,98.36528778076172,98.3453598022461,98.33273315429688,98.33255767822266,98.31326293945312,98.29581451416016,98.29285430908205,98.29102325439452,98.28487396240234,98.27808380126952,98.26820373535156,98.25696563720705,98.2520523071289,98.24124908447266,98.23980712890624,98.23013305664062,98.22616577148438,98.224853515625,98.22364807128906,98.21053314208984,98.20922088623048,98.20565795898438,98.20547485351562,98.2054443359375,98.20511627197266,98.20410919189452,98.20298767089844,98.19668579101562,98.19523620605467,98.17539978027344,98.17124938964844,98.16822052001952,98.1502685546875,98.13873291015624,98.126708984375,98.11810302734376,98.11681365966795,98.1014404296875,98.09747314453124,98.0964813232422,98.09375,98.08969116210938,98.08294677734376,98.07008361816406,98.06781768798828,98.05298614501952,98.04692840576172,98.0408935546875,98.03399658203124,98.03192901611328,98.03111267089844,98.02599334716795,98.02054595947266,98.02009582519533,98.01966857910156,98.01885986328124,98.0155029296875,98.01161193847656,98.0113296508789,98.00157928466795,97.99784088134766,97.98326873779295,97.97834014892578,97.97763061523438,97.97515106201172,97.96895599365234,97.96083068847656,97.96075439453124,97.95887756347656,97.93726348876952,97.9363021850586,97.9289779663086,97.92639923095705,97.92586517333984,97.92476654052734,97.90099334716795,97.9002685546875,97.89966583251952,97.89669799804688,97.89312744140624,97.88835144042967,97.88493347167967,97.88429260253906,97.87474060058594,97.86359405517578,97.85253143310548,97.84007263183594,97.84000396728516,97.83074951171876,97.82604217529295,97.82108306884766,97.8116226196289,97.80868530273438,97.78947448730467,97.7882308959961,97.78244018554688,97.77166748046876,97.7704620361328,97.76944732666016,97.76673126220705,97.7663803100586,97.7547378540039,97.75092315673828,97.73106384277344,97.7303237915039,97.72840881347656,97.7238540649414,97.71002197265624,97.70951080322266,97.70897674560548,97.7000503540039,97.69694519042967,97.6865692138672,97.67752075195312,97.66934967041016,97.66747283935548,97.64984130859376,97.646240234375,97.63426208496094,97.63240814208984,97.62933349609376,97.62073516845705,97.61370086669922,97.58937072753906,97.58326721191406,97.5828857421875,97.57915496826172,97.5778350830078,97.56886291503906,97.56527709960938,97.5455322265625,97.53936767578124,97.5334243774414,97.53062438964844,97.52886962890624,97.50324249267578,97.49105072021484,97.48680877685548,97.48114013671876,97.47201538085938,97.45431518554688,97.43515014648438,97.41413116455078,97.40907287597656,97.4083480834961,97.4060287475586,97.39932250976562,97.38507080078124,97.3684539794922,97.32997131347656,97.22595977783205,97.218505859375,97.212646484375,97.2061004638672,97.19743347167967,97.17827606201172,97.17689514160156,97.17020416259766,97.15495300292967,97.15225982666016,97.1471710205078,97.13197326660156,97.09343719482422,97.08607482910156,97.0301284790039,97.02660369873048,97.01844787597656,96.9895477294922,96.97122955322266,96.93278503417967,96.88873291015624,96.83387756347656,96.82450103759766,96.70923614501952,96.6952896118164,96.6936264038086,96.6901397705078,96.68496704101562,96.65316009521484,96.6144790649414,96.41548919677734,96.41498565673828,96.3361587524414,96.32294464111328,96.23152923583984,96.2197265625,96.21514129638672,96.14468383789062,96.11605834960938,96.1152114868164,96.10822296142578,96.103515625,96.09786224365234,96.08468627929688,96.0687255859375,96.05825805664062,95.97563934326172,95.96310424804688,95.94401550292967,95.92322540283205,95.89581298828124,95.89462280273438,95.87155151367188,95.86812591552734,95.79630279541016,95.779296875,95.7741241455078,95.7300796508789,95.72159576416016,95.7122802734375,95.68025207519533,95.63919067382812,95.62578582763672,95.5737075805664,95.55643463134766,95.50493621826172,95.49427032470705,95.44329833984376,95.43963623046876,95.42822265625,95.41888427734376,95.40809631347656,95.3564224243164,95.30950164794922,95.30123138427734,95.29904174804688,95.27518463134766,95.27469635009766,95.2461395263672,95.22815704345705,95.20242309570312,95.17118072509766,95.16346740722656,95.1210479736328,95.04354095458984,94.9228973388672,94.86884307861328,94.84434509277344,94.8093719482422,94.80098724365234,94.79791259765624,94.79060363769533,94.78191375732422,94.7685775756836,94.7275161743164,94.7109832763672,94.63507843017578,94.6042022705078,94.56676483154295,94.53546142578124,94.52093505859376,94.47543334960938,94.46856689453124,94.45772552490234,94.40021514892578,94.3848648071289,94.35118103027344,94.19383239746094,94.1611557006836,94.14279174804688,94.14152526855467,94.0475616455078,93.92176055908205,93.9067840576172,93.88818359375,93.78759765625,93.75489044189452,93.67791748046876,93.67427825927734,93.67127990722656,93.65634155273438,93.64763641357422,93.60559844970705,93.58219146728516,93.56428527832033,93.5278778076172,93.44540405273438,93.43289184570312,93.35698699951172,93.3440170288086,93.3387680053711,93.31680297851562,93.20411682128906,93.20045471191406,93.1983413696289,93.09524536132812,93.07684326171876,93.06507873535156,93.00845336914062,92.96414947509766,92.84396362304688,92.82923889160156,92.7813491821289,92.74246978759766,92.5822525024414,92.57538604736328,92.56693267822266,92.54094696044922,92.5365219116211,92.49945068359376,92.38400268554688,92.3834228515625,92.36365509033205,92.21099853515624,92.20194244384766,92.177734375,92.15391540527344,92.1267318725586,92.0561065673828,92.03173065185548,91.93814086914062,91.90593719482422,91.78204345703124,91.70299530029295,91.66506958007812,91.63421630859376,91.62477111816406,91.58558654785156,91.55591583251952,91.50845336914062,91.50315856933594,91.44302368164062,91.4220199584961,91.30680847167967,91.2894287109375,91.27079010009766,91.22115325927734,91.054931640625,91.03814697265624,90.97862243652344,90.89635467529295,90.84000396728516,90.77008819580078,90.75152587890624,90.73247528076172,90.660888671875,90.65862274169922,90.59855651855467,90.59503936767578,90.54473876953124,90.45059967041016,90.42214965820312,90.36823272705078,89.94795989990234,89.91593933105469,89.88746643066406,89.70743560791016,89.65009307861328,89.3011703491211,89.24322509765625,88.65019989013672,87.72977447509766,87.68255615234375,87.61225128173828,87.52019500732422,87.05554962158203,86.95471954345703,86.54139709472656,86.45651245117188,86.44223022460938,85.86546325683594,0.0,0.0,0.0,0.0,0.0,0.0,0.0,0.0,0.0,0.0,0.0,0.0,0.0,0.0,0.0,0.0,0.0,0.0,0.0,0.0,0.0,0.0,0.0,0.0,0.0,0.0,0.0,0.0,0.0,0.0,0.0,0.0,0.0,0.0,0.0,0.0,0.0,0.0,0.0,0.0,0.0,0.0,0.0,0.0,0.0,0.0,0.0,0.0,0.0,0.0,0.0,0.0,0.0,0.0,0.0,0.0,0.0,0.0,0.0,0.0,0.0,0.0,0.0,0.0,0.0,0.0,0.0,0.0,0.0,0.0,0.0,0.0,0.0,0.0,0.0,0.0,0.0,0.0,0.0,0.0,0.0,0.0,0.0,0.0,0.0,0.0,0.0,0.0,0.0,0.0,0.0,0.0,0.0,0.0,0.0,0.0,0.0,0.0,0.0,0.0,0.0,0.0,0.0,0.0,0.0,0.0,0.0,0.0,0.0,0.0,0.0,0.0,0.0,0.0,0.0,0.0,0.0,0.0,0.0,0.0,0.0,0.0,0.0,0.0,0.0,0.0,0.0,0.0,0.0,0.0,0.0,0.0,0.0,0.0,0.0,0.0,0.0,0.0,0.0,0.0,0.0,0.0,0.0,0.0,0.0,0.0,0.0,0.0,0.0,0.0,0.0,0.0,0.0,0.0,0.0,0.0,0.0,0.0,0.0,0.0,0.0,0.0,0.0,0.0,0.0,0.0,0.0,0.0,0.0,0.0,0.0,0.0,0.0,0.0,0.0,0.0,0.0,0.0,0.0,0.0,0.0,0.0,0.0,0.0,0.0,0.0,0.0,0.0,0.0,0.0,0.0,0.0,0.0,0.0,0.0,0.0,0.0,0.0,0.0,0.0,0.0,0.0,0.0,0.0,0.0,0.0,0.0,0.0,0.0,0.0,0.0,0.0,0.0,0.0,0.0,0.0,0.0,0.0,0.0,0.0,0.0,0.0,0.0,0.0,0.0,0.0,0.0,0.0,0.0,0.0,0.0,0.0,0.0,0.0,0.0,0.0,0.0,0.0,0.0,0.0,0.0,0.0,0.0,0.0,0.0,0.0,0.0,0.0,0.0,0.0,0.0,0.0,0.0,0.0,0.0,0.0,0.0,0.0,0.0,0.0,0.0,0.0,0.0,0.0,0.0,0.0,0.0,0.0,0.0,0.0,0.0,0.0,0.0,0.0,0.0,0.0,0.0,0.0,0.0,0.0,0.0,0.0,0.0,0.0,0.0,0.0,0.0,0.0,0.0,0.0,0.0,0.0,0.0,0.0,0.0,0.0,0.0,0.0,0.0,0.0,0.0,0.0,0.0,0.0,0.0,0.0,0.0,0.0,0.0,0.0,0.0,0.0,0.0,0.0,0.0,0.0,0.0,0.0,0.0,0.0,0.0,0.0,0.0,0.0,0.0,0.0,0.0,0.0,0.0,0.0,0.0,0.0,0.0,0.0,0.0,0.0,0.0,0.0,0.0,0.0,0.0,0.0,0.0,0.0,0.0,0.0,0.0,0.0,0.0,0.0,0.0,0.0,0.0,0.0,0.0,0.0,0.0,0.0,0.0,0.0,0.0,0.0,0.0,0.0,0.0,0.0],\"type\":\"box\",\"xaxis\":\"x3\",\"yaxis\":\"y3\"},{\"name\":\"seq_est_len\",\"x\":[80,80,40,80,80,20,80,40,10,10,80,80,10,20,10,40,80,40,80,80,80,40,20,20,20,10,40,40,40,10,80,40,20,40,80,40,20,10,80,80,20,20,40,20,40,80,80,20,20,40,20,40,10,40,40,20,80,80,10,10,80,40,40,20,80,20,20,20,20,80,10,40,80,40,80,20,20,40,20,40,20,20,40,20,40,20,40,20,40,20,40,40,40,80,10,40,80,10,40,80,80,20,20,40,20,80,10,80,20,40,20,80,20,20,10,20,40,20,40,40,80,80,20,20,80,80,10,20,10,20,40,80,10,40,20,40,20,80,40,40,20,40,80,80,10,10,10,80,80,10,10,20,40,40,20,40,20,80,80,20,40,10,20,40,40,40,10,40,20,40,10,10,10,40,10,20,20,40,20,40,10,80,40,40,20,20,80,80,20,40,80,10,40,80,80,80,40,80,80,80,80,40,20,20,20,10,20,40,40,80,10,10,80,10,20,10,40,40,10,40,40,40,10,40,10,40,40,10,20,10,10,80,10,20,80,10,40,10,20,80,10,20,20,10,10,10,80,10,40,80,10,40,80,40,20,10,10,20,40,80,80,20,80,20,20,10,80,10,40,10,10,10,10,80,40,80,40,20,80,10,20,10,20,20,80,10,10,20,80,10,10,80,20,80,10,10,40,80,40,10,20,80,10,10,10,80,20,20,40,40,40,20,10,10,40,10,40,80,20,20,20,80,20,10,10,40,20,40,10,80,40,10,80,10,80,40,80,10,20,40,20,40,80,40,80,80,80,10,10,10,40,80,80,40,10,40,40,40,20,20,10,20,80,80,40,10,10,80,10,10,80,40,10,80,20,10,20,10,10,80,40,80,20,80,80,40,20,40,40,20,80,80,10,20,40,10,10,80,20,80,40,10,20,40,10,40,10,80,20,40,80,10,40,10,80,80,80,40,10,40,20,40,10,40,10,40,40,20,20,20,10,40,40,80,40,10,10,20,20,80,10,20,80,40,40,40,20,10,20,40,10,80,20,10,80,80,40,20,10,80,40,40,20,20,20,20,80,80,40,40,40,20,10,80,20,20,40,40,80,10,80,80,80,80,10,80,80,20,80,80,10,20,40,80,10,20,10,10,20,20,10,10,20,80,20,20,10,10,20,10,20,20,10,20,10,20,20,10,40,80,20,80,40,40,20,40,10,80,20,80,20,40,80,10,20,40,10,10,40,80,80,20,20,10,40,10,80,10,40,40,80,10,80,80,20,10,10,20,20,80,10,20,40,40,10,20,80,20,10,20,20,40,40,20,20,20,10,80,10,10,80,80,20,80,40,40,20,40,40,40,10,80,20,80,80,10,80,80,10,10,20,80,40,10,40,80,10,80,10,10,40,40,10,40,10,80,80,20,20,10,80,20,80,10,80,20,40,10,20,10,10,40,10,40,20,80,80,20,10,20,80,20,20,10,40,20,20,40,40,40,10,10,80,10,10,10,80,20,40,80,80,80,20,40,10,40,80,20,40,40,40,80,10,20,80,20,10,10,20,40,20,80,20,10,80,40,10,10,10,80,20,40,20,40,40,10,80,80,40,10,20,40,10,20,40,10,20,80,20,10,20,40,10,80,10,40,80,10,20,40,10,20,20,10,20,20,40,80,40,20,40,20,40,80,80,80,80,40,10,80,80,10,10,10,80,20,80,40,40,80,80,40,80,40,10,20,80,40,80,20,40,80,10,10,10,80,40,20],\"y\":[98.9822998046875,98.89260864257812,98.87449645996094,98.84634399414062,98.72239685058594,98.66903686523438,98.64631652832033,98.64541625976562,98.6295928955078,98.6107940673828,98.59496307373048,98.5821304321289,98.57769775390624,98.57167053222656,98.5709228515625,98.56266021728516,98.54762268066406,98.5454559326172,98.53609466552734,98.51893615722656,98.51385498046876,98.51094818115234,98.49971771240234,98.48509216308594,98.47417449951172,98.47180938720705,98.46562957763672,98.46517944335938,98.45996856689452,98.4502410888672,98.44566345214844,98.42056274414062,98.41806030273438,98.41436767578124,98.41143798828124,98.40106201171876,98.3873519897461,98.38502502441406,98.38286590576172,98.37709045410156,98.36708068847656,98.36528778076172,98.3453598022461,98.33273315429688,98.33255767822266,98.31326293945312,98.29581451416016,98.29285430908205,98.29102325439452,98.28487396240234,98.27808380126952,98.26820373535156,98.25696563720705,98.2520523071289,98.24124908447266,98.23980712890624,98.23013305664062,98.22616577148438,98.224853515625,98.22364807128906,98.21053314208984,98.20922088623048,98.20565795898438,98.20547485351562,98.2054443359375,98.20511627197266,98.20410919189452,98.20298767089844,98.19668579101562,98.19523620605467,98.17539978027344,98.17124938964844,98.16822052001952,98.1502685546875,98.13873291015624,98.126708984375,98.11810302734376,98.11681365966795,98.1014404296875,98.09747314453124,98.0964813232422,98.09375,98.08969116210938,98.08294677734376,98.07008361816406,98.06781768798828,98.05298614501952,98.04692840576172,98.0408935546875,98.03399658203124,98.03192901611328,98.03111267089844,98.02599334716795,98.02054595947266,98.02009582519533,98.01966857910156,98.01885986328124,98.0155029296875,98.01161193847656,98.0113296508789,98.00157928466795,97.99784088134766,97.98326873779295,97.97834014892578,97.97763061523438,97.97515106201172,97.96895599365234,97.96083068847656,97.96075439453124,97.95887756347656,97.93726348876952,97.9363021850586,97.9289779663086,97.92639923095705,97.92586517333984,97.92476654052734,97.90099334716795,97.9002685546875,97.89966583251952,97.89669799804688,97.89312744140624,97.88835144042967,97.88493347167967,97.88429260253906,97.87474060058594,97.86359405517578,97.85253143310548,97.84007263183594,97.84000396728516,97.83074951171876,97.82604217529295,97.82108306884766,97.8116226196289,97.80868530273438,97.78947448730467,97.7882308959961,97.78244018554688,97.77166748046876,97.7704620361328,97.76944732666016,97.76673126220705,97.7663803100586,97.7547378540039,97.75092315673828,97.73106384277344,97.7303237915039,97.72840881347656,97.7238540649414,97.71002197265624,97.70951080322266,97.70897674560548,97.7000503540039,97.69694519042967,97.6865692138672,97.67752075195312,97.66934967041016,97.66747283935548,97.64984130859376,97.646240234375,97.63426208496094,97.63240814208984,97.62933349609376,97.62073516845705,97.61370086669922,97.58937072753906,97.58326721191406,97.5828857421875,97.57915496826172,97.5778350830078,97.56886291503906,97.56527709960938,97.5455322265625,97.53936767578124,97.5334243774414,97.53062438964844,97.52886962890624,97.50324249267578,97.49105072021484,97.48680877685548,97.48114013671876,97.47201538085938,97.45431518554688,97.43515014648438,97.41413116455078,97.40907287597656,97.4083480834961,97.4060287475586,97.39932250976562,97.38507080078124,97.3684539794922,97.32997131347656,97.22595977783205,97.218505859375,97.212646484375,97.2061004638672,97.19743347167967,97.17827606201172,97.17689514160156,97.17020416259766,97.15495300292967,97.15225982666016,97.1471710205078,97.13197326660156,97.09343719482422,97.08607482910156,97.0301284790039,97.02660369873048,97.01844787597656,96.9895477294922,96.97122955322266,96.93278503417967,96.88873291015624,96.83387756347656,96.82450103759766,96.70923614501952,96.6952896118164,96.6936264038086,96.6901397705078,96.68496704101562,96.65316009521484,96.6144790649414,96.41548919677734,96.41498565673828,96.3361587524414,96.32294464111328,96.23152923583984,96.2197265625,96.21514129638672,96.14468383789062,96.11605834960938,96.1152114868164,96.10822296142578,96.103515625,96.09786224365234,96.08468627929688,96.0687255859375,96.05825805664062,95.97563934326172,95.96310424804688,95.94401550292967,95.92322540283205,95.89581298828124,95.89462280273438,95.87155151367188,95.86812591552734,95.79630279541016,95.779296875,95.7741241455078,95.7300796508789,95.72159576416016,95.7122802734375,95.68025207519533,95.63919067382812,95.62578582763672,95.5737075805664,95.55643463134766,95.50493621826172,95.49427032470705,95.44329833984376,95.43963623046876,95.42822265625,95.41888427734376,95.40809631347656,95.3564224243164,95.30950164794922,95.30123138427734,95.29904174804688,95.27518463134766,95.27469635009766,95.2461395263672,95.22815704345705,95.20242309570312,95.17118072509766,95.16346740722656,95.1210479736328,95.04354095458984,94.9228973388672,94.86884307861328,94.84434509277344,94.8093719482422,94.80098724365234,94.79791259765624,94.79060363769533,94.78191375732422,94.7685775756836,94.7275161743164,94.7109832763672,94.63507843017578,94.6042022705078,94.56676483154295,94.53546142578124,94.52093505859376,94.47543334960938,94.46856689453124,94.45772552490234,94.40021514892578,94.3848648071289,94.35118103027344,94.19383239746094,94.1611557006836,94.14279174804688,94.14152526855467,94.0475616455078,93.92176055908205,93.9067840576172,93.88818359375,93.78759765625,93.75489044189452,93.67791748046876,93.67427825927734,93.67127990722656,93.65634155273438,93.64763641357422,93.60559844970705,93.58219146728516,93.56428527832033,93.5278778076172,93.44540405273438,93.43289184570312,93.35698699951172,93.3440170288086,93.3387680053711,93.31680297851562,93.20411682128906,93.20045471191406,93.1983413696289,93.09524536132812,93.07684326171876,93.06507873535156,93.00845336914062,92.96414947509766,92.84396362304688,92.82923889160156,92.7813491821289,92.74246978759766,92.5822525024414,92.57538604736328,92.56693267822266,92.54094696044922,92.5365219116211,92.49945068359376,92.38400268554688,92.3834228515625,92.36365509033205,92.21099853515624,92.20194244384766,92.177734375,92.15391540527344,92.1267318725586,92.0561065673828,92.03173065185548,91.93814086914062,91.90593719482422,91.78204345703124,91.70299530029295,91.66506958007812,91.63421630859376,91.62477111816406,91.58558654785156,91.55591583251952,91.50845336914062,91.50315856933594,91.44302368164062,91.4220199584961,91.30680847167967,91.2894287109375,91.27079010009766,91.22115325927734,91.054931640625,91.03814697265624,90.97862243652344,90.89635467529295,90.84000396728516,90.77008819580078,90.75152587890624,90.73247528076172,90.660888671875,90.65862274169922,90.59855651855467,90.59503936767578,90.54473876953124,90.45059967041016,90.42214965820312,90.36823272705078,89.94795989990234,89.91593933105469,89.88746643066406,89.70743560791016,89.65009307861328,89.3011703491211,89.24322509765625,88.65019989013672,87.72977447509766,87.68255615234375,87.61225128173828,87.52019500732422,87.05554962158203,86.95471954345703,86.54139709472656,86.45651245117188,86.44223022460938,85.86546325683594,0.0,0.0,0.0,0.0,0.0,0.0,0.0,0.0,0.0,0.0,0.0,0.0,0.0,0.0,0.0,0.0,0.0,0.0,0.0,0.0,0.0,0.0,0.0,0.0,0.0,0.0,0.0,0.0,0.0,0.0,0.0,0.0,0.0,0.0,0.0,0.0,0.0,0.0,0.0,0.0,0.0,0.0,0.0,0.0,0.0,0.0,0.0,0.0,0.0,0.0,0.0,0.0,0.0,0.0,0.0,0.0,0.0,0.0,0.0,0.0,0.0,0.0,0.0,0.0,0.0,0.0,0.0,0.0,0.0,0.0,0.0,0.0,0.0,0.0,0.0,0.0,0.0,0.0,0.0,0.0,0.0,0.0,0.0,0.0,0.0,0.0,0.0,0.0,0.0,0.0,0.0,0.0,0.0,0.0,0.0,0.0,0.0,0.0,0.0,0.0,0.0,0.0,0.0,0.0,0.0,0.0,0.0,0.0,0.0,0.0,0.0,0.0,0.0,0.0,0.0,0.0,0.0,0.0,0.0,0.0,0.0,0.0,0.0,0.0,0.0,0.0,0.0,0.0,0.0,0.0,0.0,0.0,0.0,0.0,0.0,0.0,0.0,0.0,0.0,0.0,0.0,0.0,0.0,0.0,0.0,0.0,0.0,0.0,0.0,0.0,0.0,0.0,0.0,0.0,0.0,0.0,0.0,0.0,0.0,0.0,0.0,0.0,0.0,0.0,0.0,0.0,0.0,0.0,0.0,0.0,0.0,0.0,0.0,0.0,0.0,0.0,0.0,0.0,0.0,0.0,0.0,0.0,0.0,0.0,0.0,0.0,0.0,0.0,0.0,0.0,0.0,0.0,0.0,0.0,0.0,0.0,0.0,0.0,0.0,0.0,0.0,0.0,0.0,0.0,0.0,0.0,0.0,0.0,0.0,0.0,0.0,0.0,0.0,0.0,0.0,0.0,0.0,0.0,0.0,0.0,0.0,0.0,0.0,0.0,0.0,0.0,0.0,0.0,0.0,0.0,0.0,0.0,0.0,0.0,0.0,0.0,0.0,0.0,0.0,0.0,0.0,0.0,0.0,0.0,0.0,0.0,0.0,0.0,0.0,0.0,0.0,0.0,0.0,0.0,0.0,0.0,0.0,0.0,0.0,0.0,0.0,0.0,0.0,0.0,0.0,0.0,0.0,0.0,0.0,0.0,0.0,0.0,0.0,0.0,0.0,0.0,0.0,0.0,0.0,0.0,0.0,0.0,0.0,0.0,0.0,0.0,0.0,0.0,0.0,0.0,0.0,0.0,0.0,0.0,0.0,0.0,0.0,0.0,0.0,0.0,0.0,0.0,0.0,0.0,0.0,0.0,0.0,0.0,0.0,0.0,0.0,0.0,0.0,0.0,0.0,0.0,0.0,0.0,0.0,0.0,0.0,0.0,0.0,0.0,0.0,0.0,0.0,0.0,0.0,0.0,0.0,0.0,0.0,0.0,0.0,0.0,0.0,0.0,0.0,0.0,0.0,0.0,0.0,0.0,0.0,0.0,0.0,0.0,0.0,0.0,0.0,0.0,0.0,0.0,0.0,0.0,0.0,0.0,0.0,0.0,0.0,0.0,0.0,0.0,0.0,0.0],\"type\":\"box\",\"xaxis\":\"x4\",\"yaxis\":\"y4\"},{\"name\":\"est_type\",\"x\":[\"ZERO\",\"FF\",\"LSTM\",\"RAND\",\"LSTM\",\"LSTM\",\"FF\",\"LSTM\",\"FF\",\"LSTM\",\"ZERO\",\"LSTM\",\"LSTM\",\"FF\",\"FF\",\"LSTM\",\"LSTM\",\"FF\",\"ZERO\",\"ZERO\",\"RAND\",\"ZERO\",\"LSTM\",\"RAND\",\"LSTM\",\"LSTM\",\"LSTM\",\"ZERO\",\"RAND\",\"LSTM\",\"RAND\",\"FF\",\"ZERO\",\"LSTM\",\"RAND\",\"LSTM\",\"LSTM\",\"LSTM\",\"LSTM\",\"LSTM\",\"RAND\",\"LSTM\",\"FF\",\"RAND\",\"RAND\",\"LSTM\",\"RAND\",\"ZERO\",\"ZERO\",\"ZERO\",\"ZERO\",\"ZERO\",\"FF\",\"ZERO\",\"LSTM\",\"ZERO\",\"ZERO\",\"ZERO\",\"LSTM\",\"LSTM\",\"RAND\",\"ZERO\",\"FF\",\"FF\",\"RAND\",\"ZERO\",\"RAND\",\"ZERO\",\"RAND\",\"ZERO\",\"ZERO\",\"FF\",\"LSTM\",\"FF\",\"RAND\",\"ZERO\",\"ZERO\",\"ZERO\",\"RAND\",\"FF\",\"FF\",\"ZERO\",\"RAND\",\"RAND\",\"LSTM\",\"RAND\",\"FF\",\"ZERO\",\"FF\",\"FF\",\"ZERO\",\"RAND\",\"RAND\",\"FF\",\"LSTM\",\"ZERO\",\"ZERO\",\"FF\",\"FF\",\"ZERO\",\"FF\",\"LSTM\",\"FF\",\"RAND\",\"ZERO\",\"LSTM\",\"FF\",\"ZERO\",\"LSTM\",\"RAND\",\"LSTM\",\"RAND\",\"RAND\",\"RAND\",\"ZERO\",\"FF\",\"LSTM\",\"LSTM\",\"LSTM\",\"FF\",\"LSTM\",\"FF\",\"FF\",\"RAND\",\"FF\",\"ZERO\",\"LSTM\",\"RAND\",\"FF\",\"RAND\",\"ZERO\",\"FF\",\"RAND\",\"RAND\",\"ZERO\",\"FF\",\"RAND\",\"RAND\",\"RAND\",\"FF\",\"LSTM\",\"RAND\",\"FF\",\"LSTM\",\"LSTM\",\"ZERO\",\"LSTM\",\"RAND\",\"FF\",\"FF\",\"FF\",\"RAND\",\"FF\",\"FF\",\"LSTM\",\"RAND\",\"FF\",\"LSTM\",\"RAND\",\"FF\",\"LSTM\",\"LSTM\",\"ZERO\",\"RAND\",\"RAND\",\"LSTM\",\"RAND\",\"RAND\",\"ZERO\",\"RAND\",\"RAND\",\"FF\",\"LSTM\",\"LSTM\",\"FF\",\"ZERO\",\"FF\",\"RAND\",\"FF\",\"LSTM\",\"FF\",\"FF\",\"FF\",\"LSTM\",\"RAND\",\"FF\",\"FF\",\"LSTM\",\"FF\",\"ZERO\",\"RAND\",\"LSTM\",\"FF\",\"RAND\",\"RAND\",\"LSTM\",\"LSTM\",\"LSTM\",\"FF\",\"FF\",\"ZERO\",\"ZERO\",\"LSTM\",\"LSTM\",\"RAND\",\"ZERO\",\"LSTM\",\"ZERO\",\"ZERO\",\"RAND\",\"ZERO\",\"ZERO\",\"LSTM\",\"LSTM\",\"LSTM\",\"RAND\",\"FF\",\"LSTM\",\"RAND\",\"LSTM\",\"LSTM\",\"FF\",\"ZERO\",\"RAND\",\"ZERO\",\"RAND\",\"FF\",\"ZERO\",\"FF\",\"FF\",\"LSTM\",\"ZERO\",\"ZERO\",\"LSTM\",\"ZERO\",\"ZERO\",\"LSTM\",\"LSTM\",\"ZERO\",\"FF\",\"RAND\",\"FF\",\"RAND\",\"ZERO\",\"FF\",\"ZERO\",\"LSTM\",\"LSTM\",\"FF\",\"LSTM\",\"LSTM\",\"FF\",\"FF\",\"ZERO\",\"ZERO\",\"ZERO\",\"FF\",\"LSTM\",\"FF\",\"RAND\",\"LSTM\",\"FF\",\"LSTM\",\"LSTM\",\"FF\",\"RAND\",\"FF\",\"FF\",\"ZERO\",\"RAND\",\"FF\",\"ZERO\",\"RAND\",\"FF\",\"RAND\",\"ZERO\",\"LSTM\",\"ZERO\",\"ZERO\",\"RAND\",\"RAND\",\"FF\",\"RAND\",\"FF\",\"FF\",\"RAND\",\"RAND\",\"ZERO\",\"LSTM\",\"ZERO\",\"RAND\",\"ZERO\",\"RAND\",\"LSTM\",\"RAND\",\"ZERO\",\"FF\",\"RAND\",\"FF\",\"LSTM\",\"RAND\",\"FF\",\"RAND\",\"LSTM\",\"ZERO\",\"ZERO\",\"RAND\",\"RAND\",\"ZERO\",\"ZERO\",\"FF\",\"FF\",\"FF\",\"LSTM\",\"LSTM\",\"RAND\",\"RAND\",\"ZERO\",\"LSTM\",\"ZERO\",\"FF\",\"FF\",\"ZERO\",\"ZERO\",\"RAND\",\"FF\",\"RAND\",\"LSTM\",\"RAND\",\"LSTM\",\"RAND\",\"FF\",\"RAND\",\"RAND\",\"LSTM\",\"LSTM\",\"ZERO\",\"ZERO\",\"LSTM\",\"LSTM\",\"RAND\",\"RAND\",\"ZERO\",\"RAND\",\"RAND\",\"RAND\",\"RAND\",\"RAND\",\"RAND\",\"ZERO\",\"RAND\",\"FF\",\"RAND\",\"RAND\",\"FF\",\"FF\",\"LSTM\",\"ZERO\",\"ZERO\",\"LSTM\",\"FF\",\"FF\",\"FF\",\"ZERO\",\"RAND\",\"FF\",\"ZERO\",\"RAND\",\"LSTM\",\"FF\",\"ZERO\",\"ZERO\",\"ZERO\",\"RAND\",\"LSTM\",\"RAND\",\"ZERO\",\"LSTM\",\"LSTM\",\"LSTM\",\"LSTM\",\"FF\",\"ZERO\",\"RAND\",\"FF\",\"LSTM\",\"ZERO\",\"ZERO\",\"RAND\",\"LSTM\",\"ZERO\",\"ZERO\",\"LSTM\",\"LSTM\",\"ZERO\",\"LSTM\",\"LSTM\",\"LSTM\",\"ZERO\",\"FF\",\"FF\",\"ZERO\",\"LSTM\",\"ZERO\",\"FF\",\"FF\",\"RAND\",\"RAND\",\"FF\",\"RAND\",\"RAND\",\"RAND\",\"RAND\",\"RAND\",\"LSTM\",\"LSTM\",\"RAND\",\"FF\",\"LSTM\",\"ZERO\",\"LSTM\",\"ZERO\",\"RAND\",\"ZERO\",\"ZERO\",\"FF\",\"ZERO\",\"RAND\",\"RAND\",\"RAND\",\"LSTM\",\"ZERO\",\"RAND\",\"FF\",\"RAND\",\"RAND\",\"FF\",\"ZERO\",\"ZERO\",\"ZERO\",\"RAND\",\"RAND\",\"ZERO\",\"ZERO\",\"LSTM\",\"RAND\",\"RAND\",\"RAND\",\"FF\",\"ZERO\",\"ZERO\",\"ZERO\",\"LSTM\",\"RAND\",\"LSTM\",\"RAND\",\"RAND\",\"ZERO\",\"FF\",\"RAND\",\"RAND\",\"LSTM\",\"FF\",\"LSTM\",\"RAND\",\"FF\",\"RAND\",\"ZERO\",\"LSTM\",\"RAND\",\"FF\",\"FF\",\"ZERO\",\"ZERO\",\"FF\",\"RAND\",\"LSTM\",\"ZERO\",\"FF\",\"ZERO\",\"LSTM\",\"RAND\",\"RAND\",\"LSTM\",\"RAND\",\"LSTM\",\"LSTM\",\"LSTM\",\"ZERO\",\"LSTM\",\"RAND\",\"RAND\",\"RAND\",\"LSTM\",\"LSTM\",\"FF\",\"ZERO\",\"FF\",\"FF\",\"ZERO\",\"LSTM\",\"FF\",\"LSTM\",\"FF\",\"ZERO\",\"LSTM\",\"FF\",\"LSTM\",\"RAND\",\"FF\",\"RAND\",\"LSTM\",\"RAND\",\"RAND\",\"LSTM\",\"LSTM\",\"FF\",\"FF\",\"FF\",\"ZERO\",\"FF\",\"ZERO\",\"FF\",\"RAND\",\"FF\",\"FF\",\"ZERO\",\"FF\",\"ZERO\",\"FF\",\"RAND\",\"FF\",\"FF\",\"LSTM\",\"LSTM\",\"ZERO\",\"LSTM\",\"ZERO\",\"ZERO\",\"RAND\",\"RAND\",\"FF\",\"LSTM\",\"ZERO\",\"FF\",\"ZERO\",\"ZERO\",\"FF\",\"FF\",\"ZERO\",\"LSTM\",\"LSTM\",\"ZERO\",\"ZERO\",\"FF\",\"ZERO\",\"RAND\",\"FF\",\"RAND\",\"ZERO\",\"FF\",\"ZERO\",\"LSTM\",\"LSTM\",\"LSTM\",\"ZERO\",\"FF\",\"ZERO\",\"RAND\",\"ZERO\",\"FF\",\"LSTM\",\"LSTM\",\"LSTM\",\"RAND\",\"LSTM\",\"ZERO\",\"LSTM\",\"LSTM\",\"FF\",\"FF\",\"LSTM\",\"ZERO\",\"FF\",\"LSTM\",\"RAND\",\"FF\",\"ZERO\",\"FF\",\"RAND\",\"ZERO\",\"FF\",\"FF\",\"FF\",\"RAND\",\"ZERO\",\"FF\",\"RAND\",\"ZERO\",\"LSTM\",\"LSTM\",\"ZERO\",\"ZERO\",\"RAND\",\"FF\",\"FF\",\"RAND\",\"ZERO\",\"LSTM\",\"ZERO\",\"RAND\",\"LSTM\",\"FF\",\"LSTM\",\"FF\",\"RAND\",\"LSTM\",\"ZERO\",\"FF\",\"RAND\",\"RAND\",\"ZERO\",\"ZERO\",\"RAND\",\"LSTM\",\"LSTM\",\"ZERO\",\"ZERO\",\"FF\",\"RAND\",\"ZERO\",\"RAND\",\"LSTM\",\"LSTM\",\"FF\",\"FF\",\"FF\",\"LSTM\",\"LSTM\",\"RAND\",\"ZERO\",\"RAND\",\"ZERO\",\"RAND\",\"FF\",\"FF\",\"FF\",\"RAND\",\"ZERO\",\"ZERO\",\"ZERO\",\"RAND\",\"FF\",\"RAND\",\"FF\",\"FF\",\"RAND\",\"FF\",\"LSTM\",\"RAND\",\"FF\",\"FF\",\"ZERO\",\"LSTM\",\"LSTM\",\"FF\",\"RAND\",\"ZERO\",\"ZERO\",\"RAND\",\"LSTM\",\"FF\",\"ZERO\",\"ZERO\",\"FF\",\"LSTM\",\"ZERO\",\"FF\",\"LSTM\",\"ZERO\",\"RAND\",\"LSTM\",\"FF\",\"FF\",\"FF\",\"RAND\",\"FF\",\"RAND\",\"FF\",\"ZERO\",\"ZERO\",\"ZERO\",\"LSTM\",\"FF\",\"RAND\",\"FF\",\"LSTM\",\"ZERO\",\"RAND\",\"RAND\",\"FF\",\"FF\",\"FF\",\"ZERO\",\"LSTM\",\"RAND\",\"RAND\",\"ZERO\",\"FF\",\"LSTM\",\"RAND\",\"ZERO\",\"FF\",\"LSTM\",\"ZERO\",\"LSTM\",\"FF\",\"FF\",\"FF\",\"LSTM\",\"LSTM\",\"ZERO\",\"LSTM\",\"ZERO\",\"RAND\",\"LSTM\",\"RAND\",\"ZERO\",\"FF\",\"LSTM\",\"ZERO\",\"RAND\",\"ZERO\",\"ZERO\",\"LSTM\",\"RAND\",\"LSTM\",\"ZERO\",\"LSTM\",\"FF\",\"RAND\",\"FF\",\"ZERO\",\"FF\",\"RAND\",\"LSTM\",\"LSTM\",\"ZERO\",\"ZERO\",\"LSTM\",\"ZERO\",\"FF\",\"RAND\",\"LSTM\",\"RAND\",\"ZERO\",\"LSTM\",\"FF\",\"ZERO\",\"RAND\",\"RAND\",\"RAND\",\"LSTM\",\"ZERO\",\"RAND\",\"LSTM\",\"LSTM\",\"LSTM\"],\"y\":[98.9822998046875,98.89260864257812,98.87449645996094,98.84634399414062,98.72239685058594,98.66903686523438,98.64631652832033,98.64541625976562,98.6295928955078,98.6107940673828,98.59496307373048,98.5821304321289,98.57769775390624,98.57167053222656,98.5709228515625,98.56266021728516,98.54762268066406,98.5454559326172,98.53609466552734,98.51893615722656,98.51385498046876,98.51094818115234,98.49971771240234,98.48509216308594,98.47417449951172,98.47180938720705,98.46562957763672,98.46517944335938,98.45996856689452,98.4502410888672,98.44566345214844,98.42056274414062,98.41806030273438,98.41436767578124,98.41143798828124,98.40106201171876,98.3873519897461,98.38502502441406,98.38286590576172,98.37709045410156,98.36708068847656,98.36528778076172,98.3453598022461,98.33273315429688,98.33255767822266,98.31326293945312,98.29581451416016,98.29285430908205,98.29102325439452,98.28487396240234,98.27808380126952,98.26820373535156,98.25696563720705,98.2520523071289,98.24124908447266,98.23980712890624,98.23013305664062,98.22616577148438,98.224853515625,98.22364807128906,98.21053314208984,98.20922088623048,98.20565795898438,98.20547485351562,98.2054443359375,98.20511627197266,98.20410919189452,98.20298767089844,98.19668579101562,98.19523620605467,98.17539978027344,98.17124938964844,98.16822052001952,98.1502685546875,98.13873291015624,98.126708984375,98.11810302734376,98.11681365966795,98.1014404296875,98.09747314453124,98.0964813232422,98.09375,98.08969116210938,98.08294677734376,98.07008361816406,98.06781768798828,98.05298614501952,98.04692840576172,98.0408935546875,98.03399658203124,98.03192901611328,98.03111267089844,98.02599334716795,98.02054595947266,98.02009582519533,98.01966857910156,98.01885986328124,98.0155029296875,98.01161193847656,98.0113296508789,98.00157928466795,97.99784088134766,97.98326873779295,97.97834014892578,97.97763061523438,97.97515106201172,97.96895599365234,97.96083068847656,97.96075439453124,97.95887756347656,97.93726348876952,97.9363021850586,97.9289779663086,97.92639923095705,97.92586517333984,97.92476654052734,97.90099334716795,97.9002685546875,97.89966583251952,97.89669799804688,97.89312744140624,97.88835144042967,97.88493347167967,97.88429260253906,97.87474060058594,97.86359405517578,97.85253143310548,97.84007263183594,97.84000396728516,97.83074951171876,97.82604217529295,97.82108306884766,97.8116226196289,97.80868530273438,97.78947448730467,97.7882308959961,97.78244018554688,97.77166748046876,97.7704620361328,97.76944732666016,97.76673126220705,97.7663803100586,97.7547378540039,97.75092315673828,97.73106384277344,97.7303237915039,97.72840881347656,97.7238540649414,97.71002197265624,97.70951080322266,97.70897674560548,97.7000503540039,97.69694519042967,97.6865692138672,97.67752075195312,97.66934967041016,97.66747283935548,97.64984130859376,97.646240234375,97.63426208496094,97.63240814208984,97.62933349609376,97.62073516845705,97.61370086669922,97.58937072753906,97.58326721191406,97.5828857421875,97.57915496826172,97.5778350830078,97.56886291503906,97.56527709960938,97.5455322265625,97.53936767578124,97.5334243774414,97.53062438964844,97.52886962890624,97.50324249267578,97.49105072021484,97.48680877685548,97.48114013671876,97.47201538085938,97.45431518554688,97.43515014648438,97.41413116455078,97.40907287597656,97.4083480834961,97.4060287475586,97.39932250976562,97.38507080078124,97.3684539794922,97.32997131347656,97.22595977783205,97.218505859375,97.212646484375,97.2061004638672,97.19743347167967,97.17827606201172,97.17689514160156,97.17020416259766,97.15495300292967,97.15225982666016,97.1471710205078,97.13197326660156,97.09343719482422,97.08607482910156,97.0301284790039,97.02660369873048,97.01844787597656,96.9895477294922,96.97122955322266,96.93278503417967,96.88873291015624,96.83387756347656,96.82450103759766,96.70923614501952,96.6952896118164,96.6936264038086,96.6901397705078,96.68496704101562,96.65316009521484,96.6144790649414,96.41548919677734,96.41498565673828,96.3361587524414,96.32294464111328,96.23152923583984,96.2197265625,96.21514129638672,96.14468383789062,96.11605834960938,96.1152114868164,96.10822296142578,96.103515625,96.09786224365234,96.08468627929688,96.0687255859375,96.05825805664062,95.97563934326172,95.96310424804688,95.94401550292967,95.92322540283205,95.89581298828124,95.89462280273438,95.87155151367188,95.86812591552734,95.79630279541016,95.779296875,95.7741241455078,95.7300796508789,95.72159576416016,95.7122802734375,95.68025207519533,95.63919067382812,95.62578582763672,95.5737075805664,95.55643463134766,95.50493621826172,95.49427032470705,95.44329833984376,95.43963623046876,95.42822265625,95.41888427734376,95.40809631347656,95.3564224243164,95.30950164794922,95.30123138427734,95.29904174804688,95.27518463134766,95.27469635009766,95.2461395263672,95.22815704345705,95.20242309570312,95.17118072509766,95.16346740722656,95.1210479736328,95.04354095458984,94.9228973388672,94.86884307861328,94.84434509277344,94.8093719482422,94.80098724365234,94.79791259765624,94.79060363769533,94.78191375732422,94.7685775756836,94.7275161743164,94.7109832763672,94.63507843017578,94.6042022705078,94.56676483154295,94.53546142578124,94.52093505859376,94.47543334960938,94.46856689453124,94.45772552490234,94.40021514892578,94.3848648071289,94.35118103027344,94.19383239746094,94.1611557006836,94.14279174804688,94.14152526855467,94.0475616455078,93.92176055908205,93.9067840576172,93.88818359375,93.78759765625,93.75489044189452,93.67791748046876,93.67427825927734,93.67127990722656,93.65634155273438,93.64763641357422,93.60559844970705,93.58219146728516,93.56428527832033,93.5278778076172,93.44540405273438,93.43289184570312,93.35698699951172,93.3440170288086,93.3387680053711,93.31680297851562,93.20411682128906,93.20045471191406,93.1983413696289,93.09524536132812,93.07684326171876,93.06507873535156,93.00845336914062,92.96414947509766,92.84396362304688,92.82923889160156,92.7813491821289,92.74246978759766,92.5822525024414,92.57538604736328,92.56693267822266,92.54094696044922,92.5365219116211,92.49945068359376,92.38400268554688,92.3834228515625,92.36365509033205,92.21099853515624,92.20194244384766,92.177734375,92.15391540527344,92.1267318725586,92.0561065673828,92.03173065185548,91.93814086914062,91.90593719482422,91.78204345703124,91.70299530029295,91.66506958007812,91.63421630859376,91.62477111816406,91.58558654785156,91.55591583251952,91.50845336914062,91.50315856933594,91.44302368164062,91.4220199584961,91.30680847167967,91.2894287109375,91.27079010009766,91.22115325927734,91.054931640625,91.03814697265624,90.97862243652344,90.89635467529295,90.84000396728516,90.77008819580078,90.75152587890624,90.73247528076172,90.660888671875,90.65862274169922,90.59855651855467,90.59503936767578,90.54473876953124,90.45059967041016,90.42214965820312,90.36823272705078,89.94795989990234,89.91593933105469,89.88746643066406,89.70743560791016,89.65009307861328,89.3011703491211,89.24322509765625,88.65019989013672,87.72977447509766,87.68255615234375,87.61225128173828,87.52019500732422,87.05554962158203,86.95471954345703,86.54139709472656,86.45651245117188,86.44223022460938,85.86546325683594,0.0,0.0,0.0,0.0,0.0,0.0,0.0,0.0,0.0,0.0,0.0,0.0,0.0,0.0,0.0,0.0,0.0,0.0,0.0,0.0,0.0,0.0,0.0,0.0,0.0,0.0,0.0,0.0,0.0,0.0,0.0,0.0,0.0,0.0,0.0,0.0,0.0,0.0,0.0,0.0,0.0,0.0,0.0,0.0,0.0,0.0,0.0,0.0,0.0,0.0,0.0,0.0,0.0,0.0,0.0,0.0,0.0,0.0,0.0,0.0,0.0,0.0,0.0,0.0,0.0,0.0,0.0,0.0,0.0,0.0,0.0,0.0,0.0,0.0,0.0,0.0,0.0,0.0,0.0,0.0,0.0,0.0,0.0,0.0,0.0,0.0,0.0,0.0,0.0,0.0,0.0,0.0,0.0,0.0,0.0,0.0,0.0,0.0,0.0,0.0,0.0,0.0,0.0,0.0,0.0,0.0,0.0,0.0,0.0,0.0,0.0,0.0,0.0,0.0,0.0,0.0,0.0,0.0,0.0,0.0,0.0,0.0,0.0,0.0,0.0,0.0,0.0,0.0,0.0,0.0,0.0,0.0,0.0,0.0,0.0,0.0,0.0,0.0,0.0,0.0,0.0,0.0,0.0,0.0,0.0,0.0,0.0,0.0,0.0,0.0,0.0,0.0,0.0,0.0,0.0,0.0,0.0,0.0,0.0,0.0,0.0,0.0,0.0,0.0,0.0,0.0,0.0,0.0,0.0,0.0,0.0,0.0,0.0,0.0,0.0,0.0,0.0,0.0,0.0,0.0,0.0,0.0,0.0,0.0,0.0,0.0,0.0,0.0,0.0,0.0,0.0,0.0,0.0,0.0,0.0,0.0,0.0,0.0,0.0,0.0,0.0,0.0,0.0,0.0,0.0,0.0,0.0,0.0,0.0,0.0,0.0,0.0,0.0,0.0,0.0,0.0,0.0,0.0,0.0,0.0,0.0,0.0,0.0,0.0,0.0,0.0,0.0,0.0,0.0,0.0,0.0,0.0,0.0,0.0,0.0,0.0,0.0,0.0,0.0,0.0,0.0,0.0,0.0,0.0,0.0,0.0,0.0,0.0,0.0,0.0,0.0,0.0,0.0,0.0,0.0,0.0,0.0,0.0,0.0,0.0,0.0,0.0,0.0,0.0,0.0,0.0,0.0,0.0,0.0,0.0,0.0,0.0,0.0,0.0,0.0,0.0,0.0,0.0,0.0,0.0,0.0,0.0,0.0,0.0,0.0,0.0,0.0,0.0,0.0,0.0,0.0,0.0,0.0,0.0,0.0,0.0,0.0,0.0,0.0,0.0,0.0,0.0,0.0,0.0,0.0,0.0,0.0,0.0,0.0,0.0,0.0,0.0,0.0,0.0,0.0,0.0,0.0,0.0,0.0,0.0,0.0,0.0,0.0,0.0,0.0,0.0,0.0,0.0,0.0,0.0,0.0,0.0,0.0,0.0,0.0,0.0,0.0,0.0,0.0,0.0,0.0,0.0,0.0,0.0,0.0,0.0,0.0,0.0,0.0,0.0,0.0,0.0,0.0,0.0,0.0,0.0,0.0,0.0,0.0,0.0,0.0,0.0,0.0,0.0,0.0,0.0],\"type\":\"box\",\"xaxis\":\"x5\",\"yaxis\":\"y5\"}],                        {\"template\":{\"data\":{\"bar\":[{\"error_x\":{\"color\":\"#2a3f5f\"},\"error_y\":{\"color\":\"#2a3f5f\"},\"marker\":{\"line\":{\"color\":\"#E5ECF6\",\"width\":0.5},\"pattern\":{\"fillmode\":\"overlay\",\"size\":10,\"solidity\":0.2}},\"type\":\"bar\"}],\"barpolar\":[{\"marker\":{\"line\":{\"color\":\"#E5ECF6\",\"width\":0.5},\"pattern\":{\"fillmode\":\"overlay\",\"size\":10,\"solidity\":0.2}},\"type\":\"barpolar\"}],\"carpet\":[{\"aaxis\":{\"endlinecolor\":\"#2a3f5f\",\"gridcolor\":\"white\",\"linecolor\":\"white\",\"minorgridcolor\":\"white\",\"startlinecolor\":\"#2a3f5f\"},\"baxis\":{\"endlinecolor\":\"#2a3f5f\",\"gridcolor\":\"white\",\"linecolor\":\"white\",\"minorgridcolor\":\"white\",\"startlinecolor\":\"#2a3f5f\"},\"type\":\"carpet\"}],\"choropleth\":[{\"colorbar\":{\"outlinewidth\":0,\"ticks\":\"\"},\"type\":\"choropleth\"}],\"contour\":[{\"colorbar\":{\"outlinewidth\":0,\"ticks\":\"\"},\"colorscale\":[[0.0,\"#0d0887\"],[0.1111111111111111,\"#46039f\"],[0.2222222222222222,\"#7201a8\"],[0.3333333333333333,\"#9c179e\"],[0.4444444444444444,\"#bd3786\"],[0.5555555555555556,\"#d8576b\"],[0.6666666666666666,\"#ed7953\"],[0.7777777777777778,\"#fb9f3a\"],[0.8888888888888888,\"#fdca26\"],[1.0,\"#f0f921\"]],\"type\":\"contour\"}],\"contourcarpet\":[{\"colorbar\":{\"outlinewidth\":0,\"ticks\":\"\"},\"type\":\"contourcarpet\"}],\"heatmap\":[{\"colorbar\":{\"outlinewidth\":0,\"ticks\":\"\"},\"colorscale\":[[0.0,\"#0d0887\"],[0.1111111111111111,\"#46039f\"],[0.2222222222222222,\"#7201a8\"],[0.3333333333333333,\"#9c179e\"],[0.4444444444444444,\"#bd3786\"],[0.5555555555555556,\"#d8576b\"],[0.6666666666666666,\"#ed7953\"],[0.7777777777777778,\"#fb9f3a\"],[0.8888888888888888,\"#fdca26\"],[1.0,\"#f0f921\"]],\"type\":\"heatmap\"}],\"heatmapgl\":[{\"colorbar\":{\"outlinewidth\":0,\"ticks\":\"\"},\"colorscale\":[[0.0,\"#0d0887\"],[0.1111111111111111,\"#46039f\"],[0.2222222222222222,\"#7201a8\"],[0.3333333333333333,\"#9c179e\"],[0.4444444444444444,\"#bd3786\"],[0.5555555555555556,\"#d8576b\"],[0.6666666666666666,\"#ed7953\"],[0.7777777777777778,\"#fb9f3a\"],[0.8888888888888888,\"#fdca26\"],[1.0,\"#f0f921\"]],\"type\":\"heatmapgl\"}],\"histogram\":[{\"marker\":{\"pattern\":{\"fillmode\":\"overlay\",\"size\":10,\"solidity\":0.2}},\"type\":\"histogram\"}],\"histogram2d\":[{\"colorbar\":{\"outlinewidth\":0,\"ticks\":\"\"},\"colorscale\":[[0.0,\"#0d0887\"],[0.1111111111111111,\"#46039f\"],[0.2222222222222222,\"#7201a8\"],[0.3333333333333333,\"#9c179e\"],[0.4444444444444444,\"#bd3786\"],[0.5555555555555556,\"#d8576b\"],[0.6666666666666666,\"#ed7953\"],[0.7777777777777778,\"#fb9f3a\"],[0.8888888888888888,\"#fdca26\"],[1.0,\"#f0f921\"]],\"type\":\"histogram2d\"}],\"histogram2dcontour\":[{\"colorbar\":{\"outlinewidth\":0,\"ticks\":\"\"},\"colorscale\":[[0.0,\"#0d0887\"],[0.1111111111111111,\"#46039f\"],[0.2222222222222222,\"#7201a8\"],[0.3333333333333333,\"#9c179e\"],[0.4444444444444444,\"#bd3786\"],[0.5555555555555556,\"#d8576b\"],[0.6666666666666666,\"#ed7953\"],[0.7777777777777778,\"#fb9f3a\"],[0.8888888888888888,\"#fdca26\"],[1.0,\"#f0f921\"]],\"type\":\"histogram2dcontour\"}],\"mesh3d\":[{\"colorbar\":{\"outlinewidth\":0,\"ticks\":\"\"},\"type\":\"mesh3d\"}],\"parcoords\":[{\"line\":{\"colorbar\":{\"outlinewidth\":0,\"ticks\":\"\"}},\"type\":\"parcoords\"}],\"pie\":[{\"automargin\":true,\"type\":\"pie\"}],\"scatter\":[{\"marker\":{\"colorbar\":{\"outlinewidth\":0,\"ticks\":\"\"}},\"type\":\"scatter\"}],\"scatter3d\":[{\"line\":{\"colorbar\":{\"outlinewidth\":0,\"ticks\":\"\"}},\"marker\":{\"colorbar\":{\"outlinewidth\":0,\"ticks\":\"\"}},\"type\":\"scatter3d\"}],\"scattercarpet\":[{\"marker\":{\"colorbar\":{\"outlinewidth\":0,\"ticks\":\"\"}},\"type\":\"scattercarpet\"}],\"scattergeo\":[{\"marker\":{\"colorbar\":{\"outlinewidth\":0,\"ticks\":\"\"}},\"type\":\"scattergeo\"}],\"scattergl\":[{\"marker\":{\"colorbar\":{\"outlinewidth\":0,\"ticks\":\"\"}},\"type\":\"scattergl\"}],\"scattermapbox\":[{\"marker\":{\"colorbar\":{\"outlinewidth\":0,\"ticks\":\"\"}},\"type\":\"scattermapbox\"}],\"scatterpolar\":[{\"marker\":{\"colorbar\":{\"outlinewidth\":0,\"ticks\":\"\"}},\"type\":\"scatterpolar\"}],\"scatterpolargl\":[{\"marker\":{\"colorbar\":{\"outlinewidth\":0,\"ticks\":\"\"}},\"type\":\"scatterpolargl\"}],\"scatterternary\":[{\"marker\":{\"colorbar\":{\"outlinewidth\":0,\"ticks\":\"\"}},\"type\":\"scatterternary\"}],\"surface\":[{\"colorbar\":{\"outlinewidth\":0,\"ticks\":\"\"},\"colorscale\":[[0.0,\"#0d0887\"],[0.1111111111111111,\"#46039f\"],[0.2222222222222222,\"#7201a8\"],[0.3333333333333333,\"#9c179e\"],[0.4444444444444444,\"#bd3786\"],[0.5555555555555556,\"#d8576b\"],[0.6666666666666666,\"#ed7953\"],[0.7777777777777778,\"#fb9f3a\"],[0.8888888888888888,\"#fdca26\"],[1.0,\"#f0f921\"]],\"type\":\"surface\"}],\"table\":[{\"cells\":{\"fill\":{\"color\":\"#EBF0F8\"},\"line\":{\"color\":\"white\"}},\"header\":{\"fill\":{\"color\":\"#C8D4E3\"},\"line\":{\"color\":\"white\"}},\"type\":\"table\"}]},\"layout\":{\"annotationdefaults\":{\"arrowcolor\":\"#2a3f5f\",\"arrowhead\":0,\"arrowwidth\":1},\"autotypenumbers\":\"strict\",\"coloraxis\":{\"colorbar\":{\"outlinewidth\":0,\"ticks\":\"\"}},\"colorscale\":{\"diverging\":[[0,\"#8e0152\"],[0.1,\"#c51b7d\"],[0.2,\"#de77ae\"],[0.3,\"#f1b6da\"],[0.4,\"#fde0ef\"],[0.5,\"#f7f7f7\"],[0.6,\"#e6f5d0\"],[0.7,\"#b8e186\"],[0.8,\"#7fbc41\"],[0.9,\"#4d9221\"],[1,\"#276419\"]],\"sequential\":[[0.0,\"#0d0887\"],[0.1111111111111111,\"#46039f\"],[0.2222222222222222,\"#7201a8\"],[0.3333333333333333,\"#9c179e\"],[0.4444444444444444,\"#bd3786\"],[0.5555555555555556,\"#d8576b\"],[0.6666666666666666,\"#ed7953\"],[0.7777777777777778,\"#fb9f3a\"],[0.8888888888888888,\"#fdca26\"],[1.0,\"#f0f921\"]],\"sequentialminus\":[[0.0,\"#0d0887\"],[0.1111111111111111,\"#46039f\"],[0.2222222222222222,\"#7201a8\"],[0.3333333333333333,\"#9c179e\"],[0.4444444444444444,\"#bd3786\"],[0.5555555555555556,\"#d8576b\"],[0.6666666666666666,\"#ed7953\"],[0.7777777777777778,\"#fb9f3a\"],[0.8888888888888888,\"#fdca26\"],[1.0,\"#f0f921\"]]},\"colorway\":[\"#636efa\",\"#EF553B\",\"#00cc96\",\"#ab63fa\",\"#FFA15A\",\"#19d3f3\",\"#FF6692\",\"#B6E880\",\"#FF97FF\",\"#FECB52\"],\"font\":{\"color\":\"#2a3f5f\"},\"geo\":{\"bgcolor\":\"white\",\"lakecolor\":\"white\",\"landcolor\":\"#E5ECF6\",\"showlakes\":true,\"showland\":true,\"subunitcolor\":\"white\"},\"hoverlabel\":{\"align\":\"left\"},\"hovermode\":\"closest\",\"mapbox\":{\"style\":\"light\"},\"paper_bgcolor\":\"white\",\"plot_bgcolor\":\"#E5ECF6\",\"polar\":{\"angularaxis\":{\"gridcolor\":\"white\",\"linecolor\":\"white\",\"ticks\":\"\"},\"bgcolor\":\"#E5ECF6\",\"radialaxis\":{\"gridcolor\":\"white\",\"linecolor\":\"white\",\"ticks\":\"\"}},\"scene\":{\"xaxis\":{\"backgroundcolor\":\"#E5ECF6\",\"gridcolor\":\"white\",\"gridwidth\":2,\"linecolor\":\"white\",\"showbackground\":true,\"ticks\":\"\",\"zerolinecolor\":\"white\"},\"yaxis\":{\"backgroundcolor\":\"#E5ECF6\",\"gridcolor\":\"white\",\"gridwidth\":2,\"linecolor\":\"white\",\"showbackground\":true,\"ticks\":\"\",\"zerolinecolor\":\"white\"},\"zaxis\":{\"backgroundcolor\":\"#E5ECF6\",\"gridcolor\":\"white\",\"gridwidth\":2,\"linecolor\":\"white\",\"showbackground\":true,\"ticks\":\"\",\"zerolinecolor\":\"white\"}},\"shapedefaults\":{\"line\":{\"color\":\"#2a3f5f\"}},\"ternary\":{\"aaxis\":{\"gridcolor\":\"white\",\"linecolor\":\"white\",\"ticks\":\"\"},\"baxis\":{\"gridcolor\":\"white\",\"linecolor\":\"white\",\"ticks\":\"\"},\"bgcolor\":\"#E5ECF6\",\"caxis\":{\"gridcolor\":\"white\",\"linecolor\":\"white\",\"ticks\":\"\"}},\"title\":{\"x\":0.05},\"xaxis\":{\"automargin\":true,\"gridcolor\":\"white\",\"linecolor\":\"white\",\"ticks\":\"\",\"title\":{\"standoff\":15},\"zerolinecolor\":\"white\",\"zerolinewidth\":2},\"yaxis\":{\"automargin\":true,\"gridcolor\":\"white\",\"linecolor\":\"white\",\"ticks\":\"\",\"title\":{\"standoff\":15},\"zerolinecolor\":\"white\",\"zerolinewidth\":2}}},\"xaxis\":{\"anchor\":\"y\",\"domain\":[0.0,0.16799999999999998]},\"yaxis\":{\"anchor\":\"x\",\"domain\":[0.0,1.0],\"range\":[80,100]},\"xaxis2\":{\"anchor\":\"y2\",\"domain\":[0.208,0.376]},\"yaxis2\":{\"anchor\":\"x2\",\"domain\":[0.0,1.0],\"range\":[80,100]},\"xaxis3\":{\"anchor\":\"y3\",\"domain\":[0.416,0.584]},\"yaxis3\":{\"anchor\":\"x3\",\"domain\":[0.0,1.0],\"range\":[80,100]},\"xaxis4\":{\"anchor\":\"y4\",\"domain\":[0.624,0.792]},\"yaxis4\":{\"anchor\":\"x4\",\"domain\":[0.0,1.0],\"range\":[80,100]},\"xaxis5\":{\"anchor\":\"y5\",\"domain\":[0.832,1.0]},\"yaxis5\":{\"anchor\":\"x5\",\"domain\":[0.0,1.0],\"range\":[80,100]}},                        {\"responsive\": true}                    ).then(function(){\n",
       "                            \n",
       "var gd = document.getElementById('0917da02-7cb4-4564-ae2a-64bc115539b3');\n",
       "var x = new MutationObserver(function (mutations, observer) {{\n",
       "        var display = window.getComputedStyle(gd).display;\n",
       "        if (!display || display === 'none') {{\n",
       "            console.log([gd, 'removed!']);\n",
       "            Plotly.purge(gd);\n",
       "            observer.disconnect();\n",
       "        }}\n",
       "}});\n",
       "\n",
       "// Listen for the removal of the full notebook cells\n",
       "var notebookContainer = gd.closest('#notebook-container');\n",
       "if (notebookContainer) {{\n",
       "    x.observe(notebookContainer, {childList: true});\n",
       "}}\n",
       "\n",
       "// Listen for the clearing of the current output cell\n",
       "var outputEl = gd.closest('.output');\n",
       "if (outputEl) {{\n",
       "    x.observe(outputEl, {childList: true});\n",
       "}}\n",
       "\n",
       "                        })                };                });            </script>        </div>"
      ]
     },
     "metadata": {},
     "output_type": "display_data"
    }
   ],
   "source": [
    "fig = make_subplots(rows=1, cols=5)\n",
    "for idx, factor in enumerate(factors):\n",
    "    aa=fig.add_box(y=df_res[\"FIT\"], x=df_res[factor], row=1, col=idx+1, name=factor)#, label=\"a\") \n",
    "    fig.update_yaxes(range=[80, 100], row=1, col=idx+1)\n",
    "fig.show()"
   ]
  },
  {
   "cell_type": "code",
   "execution_count": 78,
   "id": "d18475bc",
   "metadata": {},
   "outputs": [],
   "source": [
    "#fig.select_xaxes"
   ]
  },
  {
   "cell_type": "code",
   "execution_count": 79,
   "id": "0a0c762f",
   "metadata": {
    "scrolled": true
   },
   "outputs": [
    {
     "data": {
      "text/html": [
       "<div>\n",
       "<style scoped>\n",
       "    .dataframe tbody tr th:only-of-type {\n",
       "        vertical-align: middle;\n",
       "    }\n",
       "\n",
       "    .dataframe tbody tr th {\n",
       "        vertical-align: top;\n",
       "    }\n",
       "\n",
       "    .dataframe thead th {\n",
       "        text-align: right;\n",
       "    }\n",
       "</style>\n",
       "<table border=\"1\" class=\"dataframe\">\n",
       "  <thead>\n",
       "    <tr style=\"text-align: right;\">\n",
       "      <th></th>\n",
       "      <th>median</th>\n",
       "      <th>mean</th>\n",
       "      <th>std</th>\n",
       "    </tr>\n",
       "    <tr>\n",
       "      <th>seq_len</th>\n",
       "      <th></th>\n",
       "      <th></th>\n",
       "      <th></th>\n",
       "    </tr>\n",
       "  </thead>\n",
       "  <tbody>\n",
       "    <tr>\n",
       "      <th>40</th>\n",
       "      <td>92.053940</td>\n",
       "      <td>52.063242</td>\n",
       "      <td>48.051840</td>\n",
       "    </tr>\n",
       "    <tr>\n",
       "      <th>80</th>\n",
       "      <td>91.590343</td>\n",
       "      <td>49.782267</td>\n",
       "      <td>48.398392</td>\n",
       "    </tr>\n",
       "    <tr>\n",
       "      <th>160</th>\n",
       "      <td>92.121365</td>\n",
       "      <td>52.520203</td>\n",
       "      <td>47.969332</td>\n",
       "    </tr>\n",
       "    <tr>\n",
       "      <th>320</th>\n",
       "      <td>0.000000</td>\n",
       "      <td>46.213652</td>\n",
       "      <td>47.380529</td>\n",
       "    </tr>\n",
       "  </tbody>\n",
       "</table>\n",
       "</div>"
      ],
      "text/plain": [
       "            median       mean        std\n",
       "seq_len                                 \n",
       "40       92.053940  52.063242  48.051840\n",
       "80       91.590343  49.782267  48.398392\n",
       "160      92.121365  52.520203  47.969332\n",
       "320       0.000000  46.213652  47.380529"
      ]
     },
     "execution_count": 79,
     "metadata": {},
     "output_type": "execute_result"
    }
   ],
   "source": [
    "df_res.groupby(\"seq_len\")[\"FIT\"].agg([\"median\", \"mean\", \"std\"])\n",
    "#df_res.groupby(\"lr\")[\"FIT\"].agg([\"mean\", \"std\"])"
   ]
  },
  {
   "cell_type": "code",
   "execution_count": 80,
   "id": "aa267c86",
   "metadata": {},
   "outputs": [],
   "source": [
    "#pd.pivot_table(df_res, index=[\"seq_len\"], columns=[\"est_type\"])"
   ]
  },
  {
   "cell_type": "code",
   "execution_count": 81,
   "id": "77ba1a09",
   "metadata": {},
   "outputs": [
    {
     "data": {
      "application/vnd.plotly.v1+json": {
       "config": {
        "plotlyServerURL": "https://plot.ly"
       },
       "data": [
        {
         "customdata": [
          [
           3600,
           80
          ],
          [
           3600,
           80
          ],
          [
           3600,
           40
          ],
          [
           3600,
           20
          ],
          [
           1800,
           40
          ],
          [
           3600,
           20
          ],
          [
           3600,
           40
          ],
          [
           3600,
           80
          ],
          [
           1800,
           80
          ],
          [
           3600,
           20
          ],
          [
           1800,
           40
          ],
          [
           1800,
           80
          ],
          [
           1800,
           80
          ],
          [
           1800,
           20
          ],
          [
           1800,
           20
          ],
          [
           3600,
           10
          ],
          [
           1800,
           80
          ],
          [
           1800,
           10
          ],
          [
           3600,
           10
          ],
          [
           300,
           20
          ],
          [
           1800,
           10
          ],
          [
           300,
           40
          ],
          [
           300,
           20
          ],
          [
           300,
           10
          ],
          [
           300,
           40
          ],
          [
           300,
           40
          ],
          [
           300,
           80
          ],
          [
           300,
           10
          ],
          [
           300,
           10
          ],
          [
           300,
           20
          ],
          [
           3600,
           40
          ],
          [
           3600,
           40
          ],
          [
           1800,
           20
          ],
          [
           300,
           40
          ],
          [
           300,
           80
          ],
          [
           1800,
           20
          ],
          [
           1800,
           10
          ],
          [
           3600,
           10
          ],
          [
           300,
           80
          ],
          [
           300,
           20
          ],
          [
           3600,
           80
          ],
          [
           1800,
           40
          ],
          [
           3600,
           10
          ],
          [
           300,
           10
          ],
          [
           1800,
           40
          ],
          [
           300,
           80
          ],
          [
           1800,
           10
          ],
          [
           3600,
           20
          ]
         ],
         "hovertemplate": "seq_len=40<br>est_direction=forward<br>est_type=ZERO<br>index=%{x}<br>FIT=%{y}<br>max_time=%{customdata[0]}<br>seq_est_len=%{customdata[1]}<extra></extra>",
         "legendgroup": "40",
         "marker": {
          "color": "#636efa",
          "symbol": "circle"
         },
         "mode": "markers",
         "name": "40",
         "orientation": "v",
         "showlegend": true,
         "type": "scatter",
         "x": [
          272,
          254,
          16,
          194,
          382,
          106,
          143,
          162,
          22,
          388,
          59,
          109,
          385,
          89,
          235,
          48,
          379,
          291,
          266,
          227,
          384,
          19,
          136,
          378,
          41,
          282,
          61,
          49,
          188,
          251,
          431,
          449,
          504,
          549,
          553,
          565,
          576,
          590,
          607,
          621,
          622,
          626,
          630,
          676,
          691,
          707,
          714,
          721
         ],
         "xaxis": "x",
         "y": [
          98.9822998046875,
          98.59496307373048,
          98.46517944335938,
          98.29285430908205,
          98.28487396240234,
          98.27808380126952,
          98.2520523071289,
          98.23013305664062,
          98.22616577148438,
          98.126708984375,
          98.03192901611328,
          98.0113296508789,
          97.86359405517578,
          97.78947448730467,
          97.52886962890624,
          96.21514129638672,
          96.08468627929688,
          95.87155151367188,
          95.79630279541016,
          95.5737075805664,
          95.55643463134766,
          95.27469635009766,
          94.86884307861328,
          94.56676483154295,
          93.67791748046876,
          93.67427825927734,
          93.44540405273438,
          93.20411682128906,
          91.27079010009766,
          90.42214965820312,
          0,
          0,
          0,
          0,
          0,
          0,
          0,
          0,
          0,
          0,
          0,
          0,
          0,
          0,
          0,
          0,
          0,
          0
         ],
         "yaxis": "y"
        },
        {
         "customdata": [
          [
           1800,
           40
          ],
          [
           3600,
           20
          ],
          [
           1800,
           20
          ],
          [
           3600,
           80
          ],
          [
           1800,
           40
          ],
          [
           3600,
           80
          ],
          [
           1800,
           10
          ],
          [
           3600,
           40
          ],
          [
           3600,
           20
          ],
          [
           1800,
           40
          ],
          [
           1800,
           80
          ],
          [
           3600,
           80
          ],
          [
           1800,
           40
          ],
          [
           300,
           40
          ],
          [
           300,
           80
          ],
          [
           300,
           20
          ],
          [
           300,
           10
          ],
          [
           300,
           10
          ],
          [
           300,
           80
          ],
          [
           300,
           10
          ],
          [
           300,
           40
          ],
          [
           1800,
           20
          ],
          [
           3600,
           40
          ],
          [
           1800,
           80
          ],
          [
           300,
           10
          ],
          [
           300,
           20
          ],
          [
           3600,
           10
          ],
          [
           3600,
           20
          ],
          [
           300,
           20
          ],
          [
           3600,
           10
          ],
          [
           300,
           20
          ],
          [
           1800,
           80
          ],
          [
           1800,
           10
          ],
          [
           3600,
           20
          ],
          [
           3600,
           80
          ],
          [
           300,
           80
          ],
          [
           1800,
           10
          ],
          [
           1800,
           20
          ],
          [
           1800,
           80
          ],
          [
           300,
           40
          ],
          [
           1800,
           10
          ],
          [
           300,
           40
          ],
          [
           300,
           80
          ],
          [
           3600,
           10
          ],
          [
           3600,
           40
          ],
          [
           1800,
           20
          ],
          [
           3600,
           10
          ],
          [
           3600,
           40
          ]
         ],
         "hovertemplate": "seq_len=40<br>est_direction=forward<br>est_type=FF<br>index=%{x}<br>FIT=%{y}<br>max_time=%{customdata[0]}<br>seq_est_len=%{customdata[1]}<extra></extra>",
         "legendgroup": "40",
         "marker": {
          "color": "#636efa",
          "symbol": "circle"
         },
         "mode": "markers",
         "name": "40",
         "orientation": "v",
         "showlegend": false,
         "type": "scatter",
         "x": [
          65,
          169,
          346,
          198,
          223,
          230,
          151,
          117,
          185,
          17,
          360,
          144,
          8,
          381,
          327,
          228,
          372,
          4,
          102,
          66,
          405,
          408,
          425,
          433,
          436,
          448,
          458,
          471,
          474,
          497,
          498,
          503,
          506,
          516,
          527,
          532,
          614,
          618,
          636,
          644,
          655,
          665,
          671,
          677,
          693,
          700,
          717,
          728
         ],
         "xaxis": "x2",
         "y": [
          98.3453598022461,
          98.20547485351562,
          98.03399658203124,
          98.02054595947266,
          98.01161193847656,
          97.87474060058594,
          97.70951080322266,
          97.6865692138672,
          97.50324249267578,
          97.43515014648438,
          97.4060287475586,
          97.17020416259766,
          96.41548919677734,
          95.68025207519533,
          95.63919067382812,
          95.30950164794922,
          95.27518463134766,
          94.79791259765624,
          94.7685775756836,
          93.64763641357422,
          0,
          0,
          0,
          0,
          0,
          0,
          0,
          0,
          0,
          0,
          0,
          0,
          0,
          0,
          0,
          0,
          0,
          0,
          0,
          0,
          0,
          0,
          0,
          0,
          0,
          0,
          0,
          0
         ],
         "yaxis": "y2"
        },
        {
         "customdata": [
          [
           3600,
           40
          ],
          [
           1800,
           80
          ],
          [
           3600,
           20
          ],
          [
           3600,
           10
          ],
          [
           1800,
           10
          ],
          [
           3600,
           40
          ],
          [
           3600,
           20
          ],
          [
           3600,
           80
          ],
          [
           3600,
           20
          ],
          [
           1800,
           80
          ],
          [
           3600,
           40
          ],
          [
           1800,
           20
          ],
          [
           1800,
           20
          ],
          [
           3600,
           80
          ],
          [
           1800,
           10
          ],
          [
           3600,
           10
          ],
          [
           1800,
           20
          ],
          [
           300,
           80
          ],
          [
           300,
           10
          ],
          [
           300,
           40
          ],
          [
           300,
           20
          ],
          [
           300,
           10
          ],
          [
           300,
           40
          ],
          [
           300,
           20
          ],
          [
           300,
           80
          ],
          [
           3600,
           10
          ],
          [
           300,
           40
          ],
          [
           300,
           40
          ],
          [
           3600,
           80
          ],
          [
           300,
           80
          ],
          [
           300,
           20
          ],
          [
           1800,
           20
          ],
          [
           1800,
           10
          ],
          [
           1800,
           40
          ],
          [
           1800,
           40
          ],
          [
           300,
           10
          ],
          [
           300,
           20
          ],
          [
           3600,
           10
          ],
          [
           1800,
           40
          ],
          [
           1800,
           80
          ],
          [
           3600,
           20
          ],
          [
           1800,
           40
          ],
          [
           3600,
           40
          ],
          [
           3600,
           80
          ],
          [
           1800,
           10
          ],
          [
           1800,
           80
          ],
          [
           300,
           80
          ],
          [
           300,
           10
          ]
         ],
         "hovertemplate": "seq_len=40<br>est_direction=forward<br>est_type=LSTM<br>index=%{x}<br>FIT=%{y}<br>max_time=%{customdata[0]}<br>seq_est_len=%{customdata[1]}<extra></extra>",
         "legendgroup": "40",
         "marker": {
          "color": "#636efa",
          "symbol": "circle"
         },
         "mode": "markers",
         "name": "40",
         "orientation": "v",
         "showlegend": false,
         "type": "scatter",
         "x": [
          226,
          229,
          376,
          180,
          145,
          281,
          32,
          125,
          352,
          67,
          243,
          150,
          270,
          92,
          255,
          222,
          345,
          365,
          50,
          387,
          46,
          1,
          246,
          260,
          252,
          418,
          461,
          476,
          483,
          489,
          502,
          505,
          536,
          562,
          572,
          578,
          600,
          608,
          611,
          624,
          692,
          715,
          719,
          734,
          738,
          749,
          756,
          762
         ],
         "xaxis": "x3",
         "y": [
          98.56266021728516,
          98.54762268066406,
          98.49971771240234,
          98.47180938720705,
          98.4502410888672,
          98.40106201171876,
          98.3873519897461,
          98.38286590576172,
          98.36528778076172,
          98.16822052001952,
          98.07008361816406,
          97.96075439453124,
          97.93726348876952,
          97.64984130859376,
          97.53936767578124,
          97.22595977783205,
          96.70923614501952,
          95.42822265625,
          93.92176055908205,
          93.07684326171876,
          92.54094696044922,
          90.59855651855467,
          89.91593933105469,
          89.3011703491211,
          86.95471954345703,
          0,
          0,
          0,
          0,
          0,
          0,
          0,
          0,
          0,
          0,
          0,
          0,
          0,
          0,
          0,
          0,
          0,
          0,
          0,
          0,
          0,
          0,
          0
         ],
         "yaxis": "y3"
        },
        {
         "customdata": [
          [
           3600,
           40
          ],
          [
           3600,
           80
          ],
          [
           3600,
           80
          ],
          [
           1800,
           80
          ],
          [
           3600,
           20
          ],
          [
           3600,
           20
          ],
          [
           1800,
           20
          ],
          [
           1800,
           20
          ],
          [
           1800,
           40
          ],
          [
           3600,
           80
          ],
          [
           1800,
           40
          ],
          [
           1800,
           40
          ],
          [
           300,
           20
          ],
          [
           3600,
           10
          ],
          [
           1800,
           10
          ],
          [
           1800,
           10
          ],
          [
           300,
           40
          ],
          [
           3600,
           10
          ],
          [
           300,
           20
          ],
          [
           3600,
           10
          ],
          [
           3600,
           10
          ],
          [
           1800,
           10
          ],
          [
           300,
           80
          ],
          [
           300,
           10
          ],
          [
           300,
           80
          ],
          [
           300,
           10
          ],
          [
           300,
           80
          ],
          [
           300,
           80
          ],
          [
           300,
           10
          ],
          [
           1800,
           80
          ],
          [
           1800,
           20
          ],
          [
           1800,
           40
          ],
          [
           300,
           40
          ],
          [
           3600,
           80
          ],
          [
           300,
           10
          ],
          [
           300,
           20
          ],
          [
           3600,
           40
          ],
          [
           1800,
           20
          ],
          [
           3600,
           20
          ],
          [
           1800,
           80
          ],
          [
           3600,
           40
          ],
          [
           3600,
           40
          ],
          [
           300,
           40
          ],
          [
           1800,
           10
          ],
          [
           300,
           20
          ],
          [
           300,
           40
          ],
          [
           3600,
           20
          ],
          [
           1800,
           80
          ]
         ],
         "hovertemplate": "seq_len=40<br>est_direction=forward<br>est_type=RAND<br>index=%{x}<br>FIT=%{y}<br>max_time=%{customdata[0]}<br>seq_est_len=%{customdata[1]}<extra></extra>",
         "legendgroup": "40",
         "marker": {
          "color": "#636efa",
          "symbol": "circle"
         },
         "mode": "markers",
         "name": "40",
         "orientation": "v",
         "showlegend": false,
         "type": "scatter",
         "x": [
          116,
          256,
          40,
          23,
          259,
          283,
          128,
          377,
          290,
          391,
          210,
          342,
          170,
          218,
          3,
          238,
          320,
          390,
          368,
          30,
          95,
          394,
          101,
          328,
          148,
          135,
          340,
          62,
          263,
          416,
          429,
          434,
          445,
          482,
          490,
          508,
          523,
          558,
          641,
          659,
          669,
          685,
          698,
          705,
          724,
          726,
          731,
          761
         ],
         "xaxis": "x4",
         "y": [
          98.45996856689452,
          98.41143798828124,
          98.21053314208984,
          98.13873291015624,
          98.1014404296875,
          97.92639923095705,
          97.84007263183594,
          97.78244018554688,
          97.7663803100586,
          97.7238540649414,
          97.66934967041016,
          97.58937072753906,
          95.89462280273438,
          95.30123138427734,
          95.2461395263672,
          95.17118072509766,
          95.1210479736328,
          94.8093719482422,
          94.79060363769533,
          94.7275161743164,
          94.53546142578124,
          94.45772552490234,
          94.35118103027344,
          93.20045471191406,
          92.82923889160156,
          92.7813491821289,
          92.20194244384766,
          91.90593719482422,
          90.73247528076172,
          0,
          0,
          0,
          0,
          0,
          0,
          0,
          0,
          0,
          0,
          0,
          0,
          0,
          0,
          0,
          0,
          0,
          0,
          0
         ],
         "yaxis": "y4"
        },
        {
         "customdata": [
          [
           3600,
           80
          ],
          [
           3600,
           20
          ],
          [
           3600,
           20
          ],
          [
           3600,
           40
          ],
          [
           3600,
           40
          ],
          [
           3600,
           20
          ],
          [
           3600,
           80
          ],
          [
           3600,
           20
          ],
          [
           3600,
           40
          ],
          [
           1800,
           10
          ],
          [
           1800,
           20
          ],
          [
           1800,
           10
          ],
          [
           300,
           10
          ],
          [
           300,
           20
          ],
          [
           300,
           20
          ],
          [
           300,
           80
          ],
          [
           300,
           10
          ],
          [
           300,
           80
          ],
          [
           300,
           20
          ],
          [
           300,
           80
          ],
          [
           300,
           40
          ],
          [
           1800,
           40
          ],
          [
           300,
           20
          ],
          [
           3600,
           80
          ],
          [
           1800,
           80
          ],
          [
           300,
           10
          ],
          [
           1800,
           80
          ],
          [
           1800,
           20
          ],
          [
           1800,
           40
          ],
          [
           1800,
           10
          ],
          [
           3600,
           10
          ],
          [
           1800,
           80
          ],
          [
           1800,
           10
          ],
          [
           300,
           40
          ],
          [
           3600,
           10
          ],
          [
           1800,
           40
          ],
          [
           300,
           40
          ],
          [
           1800,
           20
          ],
          [
           3600,
           10
          ],
          [
           1800,
           40
          ],
          [
           300,
           80
          ],
          [
           300,
           40
          ],
          [
           1800,
           80
          ],
          [
           3600,
           40
          ],
          [
           300,
           10
          ],
          [
           3600,
           80
          ],
          [
           1800,
           20
          ],
          [
           3600,
           10
          ]
         ],
         "hovertemplate": "seq_len=160<br>est_direction=forward<br>est_type=ZERO<br>index=%{x}<br>FIT=%{y}<br>max_time=%{customdata[0]}<br>seq_est_len=%{customdata[1]}<extra></extra>",
         "legendgroup": "160",
         "marker": {
          "color": "#EF553B",
          "symbol": "circle"
         },
         "mode": "markers",
         "name": "160",
         "orientation": "v",
         "showlegend": true,
         "type": "scatter",
         "x": [
          339,
          113,
          182,
          52,
          98,
          219,
          154,
          173,
          121,
          88,
          341,
          175,
          323,
          333,
          257,
          54,
          139,
          234,
          253,
          209,
          31,
          419,
          437,
          439,
          442,
          472,
          473,
          528,
          538,
          543,
          545,
          546,
          555,
          587,
          595,
          648,
          649,
          667,
          672,
          679,
          697,
          711,
          733,
          737,
          742,
          750,
          755,
          763
         ],
         "xaxis": "x",
         "y": [
          98.53609466552734,
          98.41806030273438,
          98.29102325439452,
          98.26820373535156,
          98.20922088623048,
          98.20298767089844,
          98.19523620605467,
          98.11810302734376,
          98.01966857910156,
          97.7303237915039,
          97.62073516845705,
          96.0687255859375,
          93.9067840576172,
          93.35698699951172,
          93.31680297851562,
          92.57538604736328,
          92.56693267822266,
          92.3834228515625,
          91.58558654785156,
          90.97862243652344,
          89.70743560791016,
          0,
          0,
          0,
          0,
          0,
          0,
          0,
          0,
          0,
          0,
          0,
          0,
          0,
          0,
          0,
          0,
          0,
          0,
          0,
          0,
          0,
          0,
          0,
          0,
          0,
          0,
          0
         ],
         "yaxis": "y"
        },
        {
         "customdata": [
          [
           3600,
           80
          ],
          [
           3600,
           10
          ],
          [
           3600,
           10
          ],
          [
           3600,
           40
          ],
          [
           3600,
           10
          ],
          [
           3600,
           40
          ],
          [
           3600,
           20
          ],
          [
           1800,
           40
          ],
          [
           1800,
           80
          ],
          [
           3600,
           10
          ],
          [
           3600,
           80
          ],
          [
           1800,
           80
          ],
          [
           1800,
           10
          ],
          [
           1800,
           10
          ],
          [
           1800,
           20
          ],
          [
           1800,
           20
          ],
          [
           1800,
           40
          ],
          [
           1800,
           20
          ],
          [
           1800,
           10
          ],
          [
           300,
           40
          ],
          [
           300,
           80
          ],
          [
           300,
           40
          ],
          [
           300,
           20
          ],
          [
           300,
           10
          ],
          [
           300,
           10
          ],
          [
           300,
           80
          ],
          [
           300,
           40
          ],
          [
           300,
           20
          ],
          [
           3600,
           20
          ],
          [
           1800,
           40
          ],
          [
           300,
           80
          ],
          [
           3600,
           40
          ],
          [
           3600,
           80
          ],
          [
           1800,
           10
          ],
          [
           300,
           20
          ],
          [
           1800,
           20
          ],
          [
           1800,
           80
          ],
          [
           3600,
           20
          ],
          [
           3600,
           80
          ],
          [
           1800,
           80
          ],
          [
           3600,
           20
          ],
          [
           300,
           10
          ],
          [
           300,
           10
          ],
          [
           1800,
           40
          ],
          [
           300,
           20
          ],
          [
           300,
           80
          ],
          [
           300,
           40
          ],
          [
           3600,
           40
          ]
         ],
         "hovertemplate": "seq_len=160<br>est_direction=forward<br>est_type=FF<br>index=%{x}<br>FIT=%{y}<br>max_time=%{customdata[0]}<br>seq_est_len=%{customdata[1]}<extra></extra>",
         "legendgroup": "160",
         "marker": {
          "color": "#EF553B",
          "symbol": "circle"
         },
         "mode": "markers",
         "name": "160",
         "orientation": "v",
         "showlegend": false,
         "type": "scatter",
         "x": [
          97,
          278,
          401,
          167,
          104,
          297,
          304,
          187,
          305,
          276,
          347,
          284,
          11,
          321,
          202,
          250,
          336,
          311,
          79,
          124,
          45,
          133,
          363,
          70,
          383,
          306,
          417,
          495,
          520,
          522,
          529,
          531,
          583,
          612,
          628,
          634,
          635,
          646,
          660,
          674,
          682,
          683,
          688,
          701,
          718,
          739,
          751,
          757
         ],
         "xaxis": "x2",
         "y": [
          98.89260864257812,
          98.6295928955078,
          98.5709228515625,
          98.5454559326172,
          98.25696563720705,
          98.1502685546875,
          98.0964813232422,
          98.05298614501952,
          98.00157928466795,
          97.96895599365234,
          97.88835144042967,
          97.71002197265624,
          97.70897674560548,
          97.5455322265625,
          97.48680877685548,
          97.38507080078124,
          96.2197265625,
          96.14468383789062,
          95.86812591552734,
          94.19383239746094,
          94.14152526855467,
          93.67127990722656,
          93.65634155273438,
          92.84396362304688,
          91.70299530029295,
          91.44302368164062,
          0,
          0,
          0,
          0,
          0,
          0,
          0,
          0,
          0,
          0,
          0,
          0,
          0,
          0,
          0,
          0,
          0,
          0,
          0,
          0,
          0,
          0
         ],
         "yaxis": "y2"
        },
        {
         "customdata": [
          [
           3600,
           40
          ],
          [
           3600,
           80
          ],
          [
           3600,
           20
          ],
          [
           3600,
           40
          ],
          [
           3600,
           80
          ],
          [
           3600,
           80
          ],
          [
           3600,
           10
          ],
          [
           3600,
           10
          ],
          [
           1800,
           20
          ],
          [
           3600,
           40
          ],
          [
           1800,
           80
          ],
          [
           3600,
           10
          ],
          [
           1800,
           20
          ],
          [
           1800,
           40
          ],
          [
           1800,
           40
          ],
          [
           1800,
           80
          ],
          [
           1800,
           40
          ],
          [
           3600,
           20
          ],
          [
           1800,
           80
          ],
          [
           1800,
           10
          ],
          [
           1800,
           10
          ],
          [
           1800,
           40
          ],
          [
           1800,
           10
          ],
          [
           300,
           80
          ],
          [
           300,
           10
          ],
          [
           300,
           40
          ],
          [
           300,
           20
          ],
          [
           300,
           80
          ],
          [
           300,
           80
          ],
          [
           300,
           40
          ],
          [
           300,
           20
          ],
          [
           3600,
           10
          ],
          [
           1800,
           20
          ],
          [
           3600,
           80
          ],
          [
           300,
           80
          ],
          [
           3600,
           20
          ],
          [
           1800,
           10
          ],
          [
           1800,
           80
          ],
          [
           300,
           10
          ],
          [
           3600,
           40
          ],
          [
           300,
           40
          ],
          [
           300,
           20
          ],
          [
           300,
           20
          ],
          [
           300,
           10
          ],
          [
           300,
           40
          ],
          [
           300,
           10
          ],
          [
           1800,
           20
          ],
          [
           3600,
           20
          ]
         ],
         "hovertemplate": "seq_len=160<br>est_direction=forward<br>est_type=LSTM<br>index=%{x}<br>FIT=%{y}<br>max_time=%{customdata[0]}<br>seq_est_len=%{customdata[1]}<extra></extra>",
         "legendgroup": "160",
         "marker": {
          "color": "#EF553B",
          "symbol": "circle"
         },
         "mode": "markers",
         "name": "160",
         "orientation": "v",
         "showlegend": false,
         "type": "scatter",
         "x": [
          156,
          177,
          240,
          380,
          103,
          374,
          362,
          364,
          111,
          142,
          159,
          107,
          179,
          237,
          307,
          131,
          371,
          331,
          248,
          90,
          9,
          80,
          64,
          232,
          203,
          157,
          137,
          236,
          195,
          74,
          402,
          430,
          452,
          454,
          485,
          487,
          507,
          550,
          551,
          563,
          571,
          575,
          625,
          632,
          704,
          709,
          745,
          767
         ],
         "xaxis": "x3",
         "y": [
          98.87449645996094,
          98.72239685058594,
          98.47417449951172,
          98.41436767578124,
          98.37709045410156,
          98.31326293945312,
          98.224853515625,
          98.22364807128906,
          97.99784088134766,
          97.89966583251952,
          97.89312744140624,
          97.85253143310548,
          97.67752075195312,
          97.5334243774414,
          97.48114013671876,
          97.19743347167967,
          97.17827606201172,
          97.13197326660156,
          96.83387756347656,
          96.82450103759766,
          96.1152114868164,
          96.05825805664062,
          95.7122802734375,
          94.46856689453124,
          93.60559844970705,
          93.58219146728516,
          93.43289184570312,
          93.00845336914062,
          92.74246978759766,
          90.54473876953124,
          0,
          0,
          0,
          0,
          0,
          0,
          0,
          0,
          0,
          0,
          0,
          0,
          0,
          0,
          0,
          0,
          0,
          0
         ],
         "yaxis": "y3"
        },
        {
         "customdata": [
          [
           3600,
           80
          ],
          [
           3600,
           80
          ],
          [
           3600,
           20
          ],
          [
           3600,
           20
          ],
          [
           3600,
           20
          ],
          [
           1800,
           40
          ],
          [
           3600,
           40
          ],
          [
           1800,
           20
          ],
          [
           1800,
           20
          ],
          [
           3600,
           80
          ],
          [
           1800,
           40
          ],
          [
           1800,
           10
          ],
          [
           1800,
           80
          ],
          [
           1800,
           80
          ],
          [
           1800,
           40
          ],
          [
           300,
           20
          ],
          [
           300,
           20
          ],
          [
           300,
           10
          ],
          [
           300,
           40
          ],
          [
           300,
           20
          ],
          [
           300,
           10
          ],
          [
           300,
           40
          ],
          [
           300,
           20
          ],
          [
           300,
           40
          ],
          [
           300,
           80
          ],
          [
           300,
           40
          ],
          [
           300,
           80
          ],
          [
           300,
           80
          ],
          [
           1800,
           10
          ],
          [
           300,
           10
          ],
          [
           1800,
           20
          ],
          [
           3600,
           40
          ],
          [
           3600,
           40
          ],
          [
           3600,
           10
          ],
          [
           3600,
           40
          ],
          [
           1800,
           20
          ],
          [
           1800,
           80
          ],
          [
           3600,
           20
          ],
          [
           1800,
           40
          ],
          [
           1800,
           10
          ],
          [
           3600,
           10
          ],
          [
           3600,
           80
          ],
          [
           1800,
           10
          ],
          [
           3600,
           10
          ],
          [
           300,
           80
          ],
          [
           300,
           10
          ],
          [
           3600,
           10
          ],
          [
           1800,
           80
          ]
         ],
         "hovertemplate": "seq_len=160<br>est_direction=forward<br>est_type=RAND<br>index=%{x}<br>FIT=%{y}<br>max_time=%{customdata[0]}<br>seq_est_len=%{customdata[1]}<extra></extra>",
         "legendgroup": "160",
         "marker": {
          "color": "#EF553B",
          "symbol": "circle"
         },
         "mode": "markers",
         "name": "160",
         "orientation": "v",
         "showlegend": false,
         "type": "scatter",
         "x": [
          165,
          353,
          63,
          262,
          325,
          358,
          350,
          316,
          298,
          87,
          334,
          193,
          42,
          15,
          335,
          279,
          286,
          56,
          214,
          5,
          273,
          25,
          330,
          261,
          264,
          178,
          280,
          119,
          406,
          422,
          428,
          456,
          460,
          484,
          492,
          513,
          540,
          574,
          589,
          603,
          606,
          620,
          623,
          653,
          656,
          687,
          699,
          740
         ],
         "xaxis": "x4",
         "y": [
          98.84634399414062,
          98.51385498046876,
          98.33273315429688,
          98.20410919189452,
          98.06781768798828,
          98.03111267089844,
          97.97834014892578,
          97.9289779663086,
          97.88429260253906,
          97.77166748046876,
          97.7704620361328,
          97.56527709960938,
          97.32997131347656,
          97.212646484375,
          96.3361587524414,
          93.78759765625,
          93.75489044189452,
          93.56428527832033,
          93.5278778076172,
          93.09524536132812,
          93.06507873535156,
          92.96414947509766,
          92.49945068359376,
          92.38400268554688,
          92.21099853515624,
          92.03173065185548,
          91.22115325927734,
          90.77008819580078,
          0,
          0,
          0,
          0,
          0,
          0,
          0,
          0,
          0,
          0,
          0,
          0,
          0,
          0,
          0,
          0,
          0,
          0,
          0,
          0
         ],
         "yaxis": "y4"
        },
        {
         "customdata": [
          [
           3600,
           80
          ],
          [
           3600,
           40
          ],
          [
           3600,
           20
          ],
          [
           3600,
           40
          ],
          [
           1800,
           20
          ],
          [
           1800,
           80
          ],
          [
           1800,
           20
          ],
          [
           3600,
           80
          ],
          [
           3600,
           20
          ],
          [
           1800,
           40
          ],
          [
           3600,
           80
          ],
          [
           3600,
           10
          ],
          [
           1800,
           40
          ],
          [
           1800,
           40
          ],
          [
           3600,
           10
          ],
          [
           1800,
           10
          ],
          [
           3600,
           10
          ],
          [
           300,
           10
          ],
          [
           300,
           80
          ],
          [
           300,
           20
          ],
          [
           300,
           10
          ],
          [
           300,
           80
          ],
          [
           300,
           40
          ],
          [
           300,
           80
          ],
          [
           3600,
           20
          ],
          [
           300,
           40
          ],
          [
           3600,
           10
          ],
          [
           300,
           20
          ],
          [
           1800,
           80
          ],
          [
           300,
           80
          ],
          [
           1800,
           10
          ],
          [
           3600,
           40
          ],
          [
           300,
           10
          ],
          [
           3600,
           80
          ],
          [
           1800,
           20
          ],
          [
           1800,
           80
          ],
          [
           1800,
           40
          ],
          [
           1800,
           10
          ],
          [
           1800,
           10
          ],
          [
           3600,
           20
          ],
          [
           300,
           10
          ],
          [
           300,
           20
          ],
          [
           3600,
           40
          ],
          [
           300,
           20
          ],
          [
           1800,
           80
          ],
          [
           1800,
           20
          ],
          [
           300,
           40
          ],
          [
           300,
           40
          ]
         ],
         "hovertemplate": "seq_len=80<br>est_direction=forward<br>est_type=ZERO<br>index=%{x}<br>FIT=%{y}<br>max_time=%{customdata[0]}<br>seq_est_len=%{customdata[1]}<extra></extra>",
         "legendgroup": "80",
         "marker": {
          "color": "#00cc96",
          "symbol": "circle"
         },
         "mode": "markers",
         "name": "80",
         "orientation": "v",
         "showlegend": true,
         "type": "scatter",
         "x": [
          231,
          96,
          153,
          322,
          176,
          395,
          77,
          94,
          275,
          36,
          355,
          398,
          34,
          220,
          110,
          293,
          7,
          47,
          91,
          274,
          53,
          205,
          277,
          71,
          438,
          443,
          450,
          457,
          467,
          488,
          526,
          535,
          537,
          552,
          569,
          601,
          602,
          609,
          627,
          642,
          650,
          662,
          668,
          673,
          689,
          703,
          732,
          747
         ],
         "xaxis": "x",
         "y": [
          98.51893615722656,
          98.51094818115234,
          98.23980712890624,
          98.11681365966795,
          98.09375,
          98.01885986328124,
          97.97763061523438,
          97.96083068847656,
          97.5778350830078,
          97.3684539794922,
          97.15225982666016,
          97.0301284790039,
          97.01844787597656,
          96.9895477294922,
          96.88873291015624,
          96.41498565673828,
          96.32294464111328,
          95.20242309570312,
          95.04354095458984,
          94.63507843017578,
          94.40021514892578,
          93.88818359375,
          91.62477111816406,
          91.4220199584961,
          0,
          0,
          0,
          0,
          0,
          0,
          0,
          0,
          0,
          0,
          0,
          0,
          0,
          0,
          0,
          0,
          0,
          0,
          0,
          0,
          0,
          0,
          0,
          0
         ],
         "yaxis": "y"
        },
        {
         "customdata": [
          [
           3600,
           80
          ],
          [
           3600,
           20
          ],
          [
           3600,
           40
          ],
          [
           3600,
           40
          ],
          [
           3600,
           40
          ],
          [
           1800,
           20
          ],
          [
           3600,
           20
          ],
          [
           3600,
           10
          ],
          [
           1800,
           80
          ],
          [
           1800,
           40
          ],
          [
           1800,
           40
          ],
          [
           3600,
           80
          ],
          [
           1800,
           20
          ],
          [
           1800,
           10
          ],
          [
           1800,
           20
          ],
          [
           1800,
           80
          ],
          [
           300,
           10
          ],
          [
           300,
           40
          ],
          [
           300,
           80
          ],
          [
           300,
           10
          ],
          [
           300,
           80
          ],
          [
           300,
           20
          ],
          [
           300,
           40
          ],
          [
           300,
           80
          ],
          [
           300,
           40
          ],
          [
           3600,
           10
          ],
          [
           1800,
           20
          ],
          [
           1800,
           40
          ],
          [
           1800,
           10
          ],
          [
           300,
           10
          ],
          [
           300,
           40
          ],
          [
           1800,
           10
          ],
          [
           3600,
           20
          ],
          [
           300,
           10
          ],
          [
           1800,
           80
          ],
          [
           300,
           20
          ],
          [
           3600,
           40
          ],
          [
           1800,
           80
          ],
          [
           3600,
           20
          ],
          [
           3600,
           80
          ],
          [
           1800,
           40
          ],
          [
           300,
           80
          ],
          [
           300,
           20
          ],
          [
           3600,
           80
          ],
          [
           3600,
           10
          ],
          [
           1800,
           10
          ],
          [
           300,
           20
          ],
          [
           3600,
           10
          ]
         ],
         "hovertemplate": "seq_len=80<br>est_direction=forward<br>est_type=FF<br>index=%{x}<br>FIT=%{y}<br>max_time=%{customdata[0]}<br>seq_est_len=%{customdata[1]}<extra></extra>",
         "legendgroup": "80",
         "marker": {
          "color": "#00cc96",
          "symbol": "circle"
         },
         "mode": "markers",
         "name": "80",
         "orientation": "v",
         "showlegend": false,
         "type": "scatter",
         "x": [
          99,
          196,
          295,
          120,
          10,
          199,
          29,
          269,
          155,
          204,
          122,
          147,
          221,
          233,
          115,
          206,
          82,
          201,
          33,
          35,
          161,
          337,
          12,
          247,
          315,
          404,
          465,
          470,
          501,
          509,
          518,
          547,
          554,
          560,
          580,
          586,
          588,
          591,
          592,
          593,
          604,
          605,
          645,
          652,
          695,
          702,
          708,
          743
         ],
         "xaxis": "x2",
         "y": [
          98.64631652832033,
          98.57167053222656,
          98.20565795898438,
          98.09747314453124,
          98.0408935546875,
          97.98326873779295,
          97.88493347167967,
          97.84000396728516,
          97.82108306884766,
          97.7882308959961,
          97.76944732666016,
          97.7547378540039,
          97.66747283935548,
          97.47201538085938,
          97.4083480834961,
          97.15495300292967,
          95.50493621826172,
          95.44329833984376,
          95.29904174804688,
          95.22815704345705,
          95.16346740722656,
          94.78191375732422,
          94.3848648071289,
          93.3387680053711,
          93.1983413696289,
          0,
          0,
          0,
          0,
          0,
          0,
          0,
          0,
          0,
          0,
          0,
          0,
          0,
          0,
          0,
          0,
          0,
          0,
          0,
          0,
          0,
          0,
          0
         ],
         "yaxis": "y2"
        },
        {
         "customdata": [
          [
           3600,
           20
          ],
          [
           3600,
           40
          ],
          [
           3600,
           10
          ],
          [
           3600,
           10
          ],
          [
           3600,
           10
          ],
          [
           1800,
           40
          ],
          [
           1800,
           10
          ],
          [
           3600,
           80
          ],
          [
           1800,
           40
          ],
          [
           1800,
           20
          ],
          [
           1800,
           20
          ],
          [
           3600,
           80
          ],
          [
           1800,
           40
          ],
          [
           1800,
           10
          ],
          [
           1800,
           80
          ],
          [
           1800,
           40
          ],
          [
           300,
           20
          ],
          [
           300,
           80
          ],
          [
           300,
           20
          ],
          [
           300,
           10
          ],
          [
           300,
           40
          ],
          [
           300,
           40
          ],
          [
           300,
           20
          ],
          [
           300,
           10
          ],
          [
           300,
           80
          ],
          [
           1800,
           80
          ],
          [
           300,
           80
          ],
          [
           1800,
           80
          ],
          [
           3600,
           10
          ],
          [
           300,
           10
          ],
          [
           1800,
           20
          ],
          [
           1800,
           20
          ],
          [
           300,
           10
          ],
          [
           300,
           20
          ],
          [
           300,
           80
          ],
          [
           300,
           40
          ],
          [
           1800,
           10
          ],
          [
           300,
           40
          ],
          [
           3600,
           40
          ],
          [
           3600,
           40
          ],
          [
           3600,
           20
          ],
          [
           3600,
           80
          ],
          [
           1800,
           80
          ],
          [
           1800,
           10
          ],
          [
           3600,
           20
          ],
          [
           3600,
           20
          ],
          [
           3600,
           80
          ],
          [
           3600,
           40
          ]
         ],
         "hovertemplate": "seq_len=80<br>est_direction=forward<br>est_type=LSTM<br>index=%{x}<br>FIT=%{y}<br>max_time=%{customdata[0]}<br>seq_est_len=%{customdata[1]}<extra></extra>",
         "legendgroup": "80",
         "marker": {
          "color": "#00cc96",
          "symbol": "circle"
         },
         "mode": "markers",
         "name": "80",
         "orientation": "v",
         "showlegend": false,
         "type": "scatter",
         "x": [
          184,
          26,
          303,
          186,
          132,
          68,
          244,
          58,
          397,
          118,
          393,
          39,
          239,
          183,
          197,
          217,
          192,
          51,
          37,
          100,
          366,
          249,
          258,
          373,
          415,
          480,
          486,
          493,
          494,
          533,
          534,
          542,
          564,
          573,
          577,
          584,
          599,
          613,
          658,
          663,
          678,
          681,
          713,
          720,
          722,
          725,
          736,
          753
         ],
         "xaxis": "x3",
         "y": [
          98.66903686523438,
          98.64541625976562,
          98.6107940673828,
          98.57769775390624,
          98.38502502441406,
          98.24124908447266,
          98.02009582519533,
          97.97515106201172,
          97.90099334716795,
          97.9002685546875,
          97.76673126220705,
          97.75092315673828,
          97.63240814208984,
          97.62933349609376,
          97.17689514160156,
          96.65316009521484,
          95.49427032470705,
          95.40809631347656,
          95.3564224243164,
          94.1611557006836,
          92.5822525024414,
          92.5365219116211,
          91.55591583251952,
          91.054931640625,
          0,
          0,
          0,
          0,
          0,
          0,
          0,
          0,
          0,
          0,
          0,
          0,
          0,
          0,
          0,
          0,
          0,
          0,
          0,
          0,
          0,
          0,
          0,
          0
         ],
         "yaxis": "y3"
        },
        {
         "customdata": [
          [
           3600,
           20
          ],
          [
           3600,
           80
          ],
          [
           3600,
           20
          ],
          [
           1800,
           80
          ],
          [
           1800,
           80
          ],
          [
           3600,
           20
          ],
          [
           1800,
           40
          ],
          [
           3600,
           20
          ],
          [
           3600,
           40
          ],
          [
           3600,
           80
          ],
          [
           1800,
           20
          ],
          [
           3600,
           40
          ],
          [
           3600,
           80
          ],
          [
           1800,
           40
          ],
          [
           1800,
           40
          ],
          [
           3600,
           80
          ],
          [
           1800,
           10
          ],
          [
           1800,
           10
          ],
          [
           300,
           20
          ],
          [
           300,
           10
          ],
          [
           300,
           20
          ],
          [
           300,
           20
          ],
          [
           300,
           10
          ],
          [
           300,
           40
          ],
          [
           300,
           80
          ],
          [
           300,
           10
          ],
          [
           300,
           80
          ],
          [
           3600,
           40
          ],
          [
           300,
           40
          ],
          [
           1800,
           20
          ],
          [
           1800,
           80
          ],
          [
           300,
           80
          ],
          [
           300,
           40
          ],
          [
           300,
           10
          ],
          [
           1800,
           20
          ],
          [
           3600,
           10
          ],
          [
           3600,
           10
          ],
          [
           3600,
           40
          ],
          [
           1800,
           10
          ],
          [
           300,
           40
          ],
          [
           300,
           20
          ],
          [
           3600,
           10
          ],
          [
           1800,
           40
          ],
          [
           1800,
           80
          ],
          [
           300,
           80
          ],
          [
           3600,
           10
          ],
          [
           1800,
           20
          ],
          [
           1800,
           10
          ]
         ],
         "hovertemplate": "seq_len=80<br>est_direction=forward<br>est_type=RAND<br>index=%{x}<br>FIT=%{y}<br>max_time=%{customdata[0]}<br>seq_est_len=%{customdata[1]}<extra></extra>",
         "legendgroup": "80",
         "marker": {
          "color": "#00cc96",
          "symbol": "circle"
         },
         "mode": "markers",
         "name": "80",
         "orientation": "v",
         "showlegend": false,
         "type": "scatter",
         "x": [
          123,
          212,
          215,
          343,
          324,
          18,
          152,
          296,
          141,
          38,
          287,
          208,
          357,
          375,
          158,
          24,
          216,
          149,
          69,
          14,
          138,
          172,
          369,
          2,
          288,
          200,
          407,
          409,
          412,
          441,
          459,
          466,
          469,
          512,
          530,
          556,
          568,
          610,
          629,
          631,
          639,
          651,
          694,
          744,
          752,
          754,
          759,
          764
         ],
         "xaxis": "x4",
         "y": [
          98.48509216308594,
          98.44566345214844,
          98.36708068847656,
          98.29581451416016,
          98.2054443359375,
          98.19668579101562,
          98.08969116210938,
          98.08294677734376,
          97.95887756347656,
          97.9363021850586,
          97.83074951171876,
          97.80868530273438,
          97.646240234375,
          97.57915496826172,
          97.49105072021484,
          96.97122955322266,
          96.6952896118164,
          96.68496704101562,
          94.80098724365234,
          94.7109832763672,
          94.47543334960938,
          94.14279174804688,
          94.0475616455078,
          92.36365509033205,
          92.177734375,
          92.15391540527344,
          0,
          0,
          0,
          0,
          0,
          0,
          0,
          0,
          0,
          0,
          0,
          0,
          0,
          0,
          0,
          0,
          0,
          0,
          0,
          0,
          0,
          0
         ],
         "yaxis": "y4"
        },
        {
         "customdata": [
          [
           3600,
           20
          ],
          [
           3600,
           10
          ],
          [
           3600,
           20
          ],
          [
           3600,
           10
          ],
          [
           1800,
           40
          ],
          [
           3600,
           40
          ],
          [
           1800,
           10
          ],
          [
           3600,
           80
          ],
          [
           1800,
           10
          ],
          [
           1800,
           20
          ],
          [
           1800,
           40
          ],
          [
           1800,
           80
          ],
          [
           1800,
           80
          ],
          [
           300,
           10
          ],
          [
           300,
           40
          ],
          [
           300,
           10
          ],
          [
           300,
           20
          ],
          [
           300,
           20
          ],
          [
           300,
           80
          ],
          [
           300,
           80
          ],
          [
           300,
           40
          ],
          [
           300,
           20
          ],
          [
           300,
           10
          ],
          [
           1800,
           40
          ],
          [
           300,
           40
          ],
          [
           3600,
           40
          ],
          [
           3600,
           10
          ],
          [
           300,
           40
          ],
          [
           3600,
           80
          ],
          [
           3600,
           40
          ],
          [
           300,
           10
          ],
          [
           3600,
           10
          ],
          [
           300,
           20
          ],
          [
           3600,
           80
          ],
          [
           1800,
           80
          ],
          [
           300,
           80
          ],
          [
           1800,
           20
          ],
          [
           3600,
           20
          ],
          [
           3600,
           20
          ],
          [
           1800,
           10
          ],
          [
           1800,
           20
          ],
          [
           1800,
           80
          ],
          [
           1800,
           20
          ],
          [
           1800,
           10
          ],
          [
           3600,
           80
          ],
          [
           1800,
           40
          ],
          [
           3600,
           40
          ],
          [
           300,
           80
          ]
         ],
         "hovertemplate": "seq_len=320<br>est_direction=forward<br>est_type=ZERO<br>index=%{x}<br>FIT=%{y}<br>max_time=%{customdata[0]}<br>seq_est_len=%{customdata[1]}<extra></extra>",
         "legendgroup": "320",
         "marker": {
          "color": "#ab63fa",
          "symbol": "circle"
         },
         "mode": "markers",
         "name": "320",
         "orientation": "v",
         "showlegend": true,
         "type": "scatter",
         "x": [
          354,
          189,
          191,
          73,
          84,
          241,
          271,
          392,
          81,
          168,
          75,
          356,
          319,
          292,
          181,
          317,
          85,
          338,
          370,
          312,
          57,
          43,
          163,
          403,
          421,
          423,
          424,
          426,
          451,
          477,
          479,
          496,
          499,
          519,
          521,
          559,
          561,
          567,
          582,
          598,
          617,
          640,
          690,
          723,
          727,
          730,
          748,
          758
         ],
         "xaxis": "x",
         "y": [
          98.20511627197266,
          98.17539978027344,
          98.04692840576172,
          97.92586517333984,
          97.82604217529295,
          97.1471710205078,
          96.93278503417967,
          96.10822296142578,
          96.103515625,
          95.96310424804688,
          95.62578582763672,
          94.84434509277344,
          94.52093505859376,
          92.0561065673828,
          90.89635467529295,
          90.84000396728516,
          90.660888671875,
          89.88746643066406,
          89.24322509765625,
          88.65019989013672,
          87.61225128173828,
          86.54139709472656,
          85.86546325683594,
          0,
          0,
          0,
          0,
          0,
          0,
          0,
          0,
          0,
          0,
          0,
          0,
          0,
          0,
          0,
          0,
          0,
          0,
          0,
          0,
          0,
          0,
          0,
          0,
          0
         ],
         "yaxis": "y"
        },
        {
         "customdata": [
          [
           3600,
           40
          ],
          [
           3600,
           40
          ],
          [
           3600,
           10
          ],
          [
           3600,
           20
          ],
          [
           3600,
           40
          ],
          [
           3600,
           40
          ],
          [
           1800,
           20
          ],
          [
           1800,
           10
          ],
          [
           1800,
           80
          ],
          [
           1800,
           40
          ],
          [
           1800,
           40
          ],
          [
           1800,
           10
          ],
          [
           1800,
           80
          ],
          [
           1800,
           20
          ],
          [
           1800,
           40
          ],
          [
           1800,
           20
          ],
          [
           300,
           20
          ],
          [
           300,
           80
          ],
          [
           300,
           40
          ],
          [
           300,
           10
          ],
          [
           300,
           20
          ],
          [
           300,
           10
          ],
          [
           300,
           10
          ],
          [
           300,
           80
          ],
          [
           300,
           80
          ],
          [
           300,
           80
          ],
          [
           300,
           40
          ],
          [
           300,
           20
          ],
          [
           3600,
           80
          ],
          [
           1800,
           10
          ],
          [
           1800,
           20
          ],
          [
           300,
           40
          ],
          [
           3600,
           20
          ],
          [
           300,
           40
          ],
          [
           1800,
           40
          ],
          [
           3600,
           20
          ],
          [
           1800,
           80
          ],
          [
           3600,
           20
          ],
          [
           3600,
           10
          ],
          [
           3600,
           80
          ],
          [
           3600,
           10
          ],
          [
           300,
           20
          ],
          [
           3600,
           80
          ],
          [
           1800,
           80
          ],
          [
           1800,
           10
          ],
          [
           3600,
           10
          ],
          [
           3600,
           80
          ],
          [
           300,
           10
          ]
         ],
         "hovertemplate": "seq_len=320<br>est_direction=forward<br>est_type=FF<br>index=%{x}<br>FIT=%{y}<br>max_time=%{customdata[0]}<br>seq_est_len=%{customdata[1]}<extra></extra>",
         "legendgroup": "320",
         "marker": {
          "color": "#ab63fa",
          "symbol": "circle"
         },
         "mode": "markers",
         "name": "320",
         "orientation": "v",
         "showlegend": false,
         "type": "scatter",
         "x": [
          285,
          302,
          171,
          166,
          0,
          190,
          367,
          130,
          127,
          268,
          93,
          140,
          108,
          351,
          13,
          344,
          83,
          72,
          160,
          349,
          299,
          55,
          267,
          314,
          86,
          389,
          348,
          462,
          478,
          517,
          524,
          525,
          541,
          544,
          548,
          557,
          566,
          570,
          579,
          596,
          654,
          657,
          661,
          684,
          686,
          712,
          716,
          741
         ],
         "xaxis": "x2",
         "y": [
          98.42056274414062,
          98.17124938964844,
          98.0155029296875,
          97.92476654052734,
          97.89669799804688,
          97.69694519042967,
          97.63426208496094,
          97.53062438964844,
          97.45431518554688,
          97.218505859375,
          96.6936264038086,
          96.11605834960938,
          95.94401550292967,
          95.89581298828124,
          95.7300796508789,
          95.41888427734376,
          93.3440170288086,
          91.93814086914062,
          91.66506958007812,
          91.50845336914062,
          91.50315856933594,
          91.2894287109375,
          91.03814697265624,
          90.45059967041016,
          89.94795989990234,
          86.45651245117188,
          86.44223022460938,
          0,
          0,
          0,
          0,
          0,
          0,
          0,
          0,
          0,
          0,
          0,
          0,
          0,
          0,
          0,
          0,
          0,
          0,
          0,
          0,
          0
         ],
         "yaxis": "y2"
        },
        {
         "customdata": [
          [
           3600,
           80
          ],
          [
           3600,
           40
          ],
          [
           3600,
           10
          ],
          [
           1800,
           10
          ],
          [
           1800,
           40
          ],
          [
           1800,
           40
          ],
          [
           1800,
           80
          ],
          [
           3600,
           20
          ],
          [
           3600,
           20
          ],
          [
           1800,
           40
          ],
          [
           1800,
           40
          ],
          [
           1800,
           20
          ],
          [
           1800,
           10
          ],
          [
           1800,
           80
          ],
          [
           1800,
           10
          ],
          [
           3600,
           80
          ],
          [
           3600,
           40
          ],
          [
           1800,
           80
          ],
          [
           300,
           40
          ],
          [
           300,
           20
          ],
          [
           300,
           10
          ],
          [
           300,
           80
          ],
          [
           300,
           10
          ],
          [
           300,
           20
          ],
          [
           300,
           10
          ],
          [
           300,
           10
          ],
          [
           300,
           80
          ],
          [
           3600,
           20
          ],
          [
           3600,
           40
          ],
          [
           1800,
           20
          ],
          [
           300,
           40
          ],
          [
           3600,
           10
          ],
          [
           3600,
           20
          ],
          [
           3600,
           10
          ],
          [
           1800,
           20
          ],
          [
           3600,
           80
          ],
          [
           300,
           80
          ],
          [
           300,
           40
          ],
          [
           1800,
           20
          ],
          [
           3600,
           10
          ],
          [
           1800,
           10
          ],
          [
           3600,
           40
          ],
          [
           300,
           20
          ],
          [
           3600,
           80
          ],
          [
           300,
           20
          ],
          [
           1800,
           80
          ],
          [
           300,
           80
          ],
          [
           300,
           40
          ]
         ],
         "hovertemplate": "seq_len=320<br>est_direction=forward<br>est_type=LSTM<br>index=%{x}<br>FIT=%{y}<br>max_time=%{customdata[0]}<br>seq_est_len=%{customdata[1]}<extra></extra>",
         "legendgroup": "320",
         "marker": {
          "color": "#ab63fa",
          "symbol": "circle"
         },
         "mode": "markers",
         "name": "320",
         "orientation": "v",
         "showlegend": false,
         "type": "scatter",
         "x": [
          174,
          313,
          318,
          126,
          134,
          225,
          301,
          396,
          105,
          211,
          129,
          224,
          294,
          309,
          400,
          27,
          329,
          76,
          44,
          164,
          386,
          146,
          308,
          114,
          332,
          242,
          414,
          420,
          444,
          463,
          468,
          500,
          511,
          514,
          515,
          581,
          616,
          633,
          637,
          638,
          664,
          670,
          675,
          696,
          729,
          746,
          765,
          766
         ],
         "xaxis": "x3",
         "y": [
          98.5821304321289,
          98.46562957763672,
          97.73106384277344,
          97.72840881347656,
          97.58326721191406,
          97.41413116455078,
          97.39932250976562,
          97.09343719482422,
          97.02660369873048,
          96.6901397705078,
          96.6144790649414,
          96.09786224365234,
          95.97563934326172,
          95.779296875,
          95.7741241455078,
          95.72159576416016,
          94.9228973388672,
          94.6042022705078,
          91.63421630859376,
          90.75152587890624,
          90.65862274169922,
          90.59503936767578,
          87.72977447509766,
          87.68255615234375,
          87.52019500732422,
          87.05554962158203,
          0,
          0,
          0,
          0,
          0,
          0,
          0,
          0,
          0,
          0,
          0,
          0,
          0,
          0,
          0,
          0,
          0,
          0,
          0,
          0,
          0,
          0
         ],
         "yaxis": "y3"
        },
        {
         "customdata": [
          [
           3600,
           40
          ],
          [
           3600,
           40
          ],
          [
           3600,
           10
          ],
          [
           3600,
           20
          ],
          [
           1800,
           40
          ],
          [
           3600,
           10
          ],
          [
           3600,
           40
          ],
          [
           3600,
           20
          ],
          [
           3600,
           80
          ],
          [
           1800,
           20
          ],
          [
           1800,
           40
          ],
          [
           1800,
           10
          ],
          [
           1800,
           80
          ],
          [
           300,
           10
          ],
          [
           300,
           40
          ],
          [
           300,
           40
          ],
          [
           300,
           80
          ],
          [
           300,
           40
          ],
          [
           300,
           80
          ],
          [
           1800,
           10
          ],
          [
           3600,
           10
          ],
          [
           1800,
           20
          ],
          [
           1800,
           40
          ],
          [
           300,
           10
          ],
          [
           3600,
           10
          ],
          [
           1800,
           20
          ],
          [
           1800,
           10
          ],
          [
           300,
           10
          ],
          [
           1800,
           80
          ],
          [
           300,
           20
          ],
          [
           3600,
           20
          ],
          [
           3600,
           80
          ],
          [
           1800,
           20
          ],
          [
           300,
           20
          ],
          [
           3600,
           80
          ],
          [
           300,
           40
          ],
          [
           300,
           80
          ],
          [
           1800,
           80
          ],
          [
           300,
           80
          ],
          [
           1800,
           10
          ],
          [
           300,
           10
          ],
          [
           1800,
           40
          ],
          [
           1800,
           80
          ],
          [
           300,
           20
          ],
          [
           300,
           20
          ],
          [
           3600,
           20
          ],
          [
           3600,
           80
          ],
          [
           3600,
           40
          ]
         ],
         "hovertemplate": "seq_len=320<br>est_direction=forward<br>est_type=RAND<br>index=%{x}<br>FIT=%{y}<br>max_time=%{customdata[0]}<br>seq_est_len=%{customdata[1]}<extra></extra>",
         "legendgroup": "320",
         "marker": {
          "color": "#ab63fa",
          "symbol": "circle"
         },
         "mode": "markers",
         "name": "320",
         "orientation": "v",
         "showlegend": false,
         "type": "scatter",
         "x": [
          310,
          265,
          6,
          20,
          289,
          78,
          21,
          213,
          361,
          245,
          60,
          112,
          359,
          326,
          207,
          28,
          399,
          300,
          410,
          411,
          413,
          427,
          432,
          435,
          440,
          446,
          447,
          453,
          455,
          464,
          475,
          481,
          491,
          510,
          539,
          585,
          594,
          597,
          615,
          619,
          643,
          647,
          666,
          680,
          706,
          710,
          735,
          760
         ],
         "xaxis": "x4",
         "y": [
          98.33255767822266,
          98.02599334716795,
          97.8116226196289,
          97.7000503540039,
          97.61370086669922,
          97.5828857421875,
          97.56886291503906,
          97.40907287597656,
          97.2061004638672,
          97.08607482910156,
          96.23152923583984,
          95.92322540283205,
          95.43963623046876,
          92.1267318725586,
          91.78204345703124,
          91.30680847167967,
          90.36823272705078,
          89.65009307861328,
          0,
          0,
          0,
          0,
          0,
          0,
          0,
          0,
          0,
          0,
          0,
          0,
          0,
          0,
          0,
          0,
          0,
          0,
          0,
          0,
          0,
          0,
          0,
          0,
          0,
          0,
          0,
          0,
          0,
          0
         ],
         "yaxis": "y4"
        }
       ],
       "layout": {
        "annotations": [
         {
          "font": {},
          "showarrow": false,
          "text": "est_type=ZERO",
          "x": 0.11499999999999999,
          "xanchor": "center",
          "xref": "paper",
          "y": 1,
          "yanchor": "bottom",
          "yref": "paper"
         },
         {
          "font": {},
          "showarrow": false,
          "text": "est_type=FF",
          "x": 0.365,
          "xanchor": "center",
          "xref": "paper",
          "y": 1,
          "yanchor": "bottom",
          "yref": "paper"
         },
         {
          "font": {},
          "showarrow": false,
          "text": "est_type=LSTM",
          "x": 0.615,
          "xanchor": "center",
          "xref": "paper",
          "y": 1,
          "yanchor": "bottom",
          "yref": "paper"
         },
         {
          "font": {},
          "showarrow": false,
          "text": "est_type=RAND",
          "x": 0.865,
          "xanchor": "center",
          "xref": "paper",
          "y": 1,
          "yanchor": "bottom",
          "yref": "paper"
         },
         {
          "font": {},
          "showarrow": false,
          "text": "est_direction=forward",
          "textangle": 90,
          "x": 0.98,
          "xanchor": "left",
          "xref": "paper",
          "y": 0.5,
          "yanchor": "middle",
          "yref": "paper"
         }
        ],
        "legend": {
         "title": {
          "text": "seq_len"
         },
         "tracegroupgap": 0
        },
        "margin": {
         "t": 60
        },
        "template": {
         "data": {
          "bar": [
           {
            "error_x": {
             "color": "#2a3f5f"
            },
            "error_y": {
             "color": "#2a3f5f"
            },
            "marker": {
             "line": {
              "color": "#E5ECF6",
              "width": 0.5
             },
             "pattern": {
              "fillmode": "overlay",
              "size": 10,
              "solidity": 0.2
             }
            },
            "type": "bar"
           }
          ],
          "barpolar": [
           {
            "marker": {
             "line": {
              "color": "#E5ECF6",
              "width": 0.5
             },
             "pattern": {
              "fillmode": "overlay",
              "size": 10,
              "solidity": 0.2
             }
            },
            "type": "barpolar"
           }
          ],
          "carpet": [
           {
            "aaxis": {
             "endlinecolor": "#2a3f5f",
             "gridcolor": "white",
             "linecolor": "white",
             "minorgridcolor": "white",
             "startlinecolor": "#2a3f5f"
            },
            "baxis": {
             "endlinecolor": "#2a3f5f",
             "gridcolor": "white",
             "linecolor": "white",
             "minorgridcolor": "white",
             "startlinecolor": "#2a3f5f"
            },
            "type": "carpet"
           }
          ],
          "choropleth": [
           {
            "colorbar": {
             "outlinewidth": 0,
             "ticks": ""
            },
            "type": "choropleth"
           }
          ],
          "contour": [
           {
            "colorbar": {
             "outlinewidth": 0,
             "ticks": ""
            },
            "colorscale": [
             [
              0,
              "#0d0887"
             ],
             [
              0.1111111111111111,
              "#46039f"
             ],
             [
              0.2222222222222222,
              "#7201a8"
             ],
             [
              0.3333333333333333,
              "#9c179e"
             ],
             [
              0.4444444444444444,
              "#bd3786"
             ],
             [
              0.5555555555555556,
              "#d8576b"
             ],
             [
              0.6666666666666666,
              "#ed7953"
             ],
             [
              0.7777777777777778,
              "#fb9f3a"
             ],
             [
              0.8888888888888888,
              "#fdca26"
             ],
             [
              1,
              "#f0f921"
             ]
            ],
            "type": "contour"
           }
          ],
          "contourcarpet": [
           {
            "colorbar": {
             "outlinewidth": 0,
             "ticks": ""
            },
            "type": "contourcarpet"
           }
          ],
          "heatmap": [
           {
            "colorbar": {
             "outlinewidth": 0,
             "ticks": ""
            },
            "colorscale": [
             [
              0,
              "#0d0887"
             ],
             [
              0.1111111111111111,
              "#46039f"
             ],
             [
              0.2222222222222222,
              "#7201a8"
             ],
             [
              0.3333333333333333,
              "#9c179e"
             ],
             [
              0.4444444444444444,
              "#bd3786"
             ],
             [
              0.5555555555555556,
              "#d8576b"
             ],
             [
              0.6666666666666666,
              "#ed7953"
             ],
             [
              0.7777777777777778,
              "#fb9f3a"
             ],
             [
              0.8888888888888888,
              "#fdca26"
             ],
             [
              1,
              "#f0f921"
             ]
            ],
            "type": "heatmap"
           }
          ],
          "heatmapgl": [
           {
            "colorbar": {
             "outlinewidth": 0,
             "ticks": ""
            },
            "colorscale": [
             [
              0,
              "#0d0887"
             ],
             [
              0.1111111111111111,
              "#46039f"
             ],
             [
              0.2222222222222222,
              "#7201a8"
             ],
             [
              0.3333333333333333,
              "#9c179e"
             ],
             [
              0.4444444444444444,
              "#bd3786"
             ],
             [
              0.5555555555555556,
              "#d8576b"
             ],
             [
              0.6666666666666666,
              "#ed7953"
             ],
             [
              0.7777777777777778,
              "#fb9f3a"
             ],
             [
              0.8888888888888888,
              "#fdca26"
             ],
             [
              1,
              "#f0f921"
             ]
            ],
            "type": "heatmapgl"
           }
          ],
          "histogram": [
           {
            "marker": {
             "pattern": {
              "fillmode": "overlay",
              "size": 10,
              "solidity": 0.2
             }
            },
            "type": "histogram"
           }
          ],
          "histogram2d": [
           {
            "colorbar": {
             "outlinewidth": 0,
             "ticks": ""
            },
            "colorscale": [
             [
              0,
              "#0d0887"
             ],
             [
              0.1111111111111111,
              "#46039f"
             ],
             [
              0.2222222222222222,
              "#7201a8"
             ],
             [
              0.3333333333333333,
              "#9c179e"
             ],
             [
              0.4444444444444444,
              "#bd3786"
             ],
             [
              0.5555555555555556,
              "#d8576b"
             ],
             [
              0.6666666666666666,
              "#ed7953"
             ],
             [
              0.7777777777777778,
              "#fb9f3a"
             ],
             [
              0.8888888888888888,
              "#fdca26"
             ],
             [
              1,
              "#f0f921"
             ]
            ],
            "type": "histogram2d"
           }
          ],
          "histogram2dcontour": [
           {
            "colorbar": {
             "outlinewidth": 0,
             "ticks": ""
            },
            "colorscale": [
             [
              0,
              "#0d0887"
             ],
             [
              0.1111111111111111,
              "#46039f"
             ],
             [
              0.2222222222222222,
              "#7201a8"
             ],
             [
              0.3333333333333333,
              "#9c179e"
             ],
             [
              0.4444444444444444,
              "#bd3786"
             ],
             [
              0.5555555555555556,
              "#d8576b"
             ],
             [
              0.6666666666666666,
              "#ed7953"
             ],
             [
              0.7777777777777778,
              "#fb9f3a"
             ],
             [
              0.8888888888888888,
              "#fdca26"
             ],
             [
              1,
              "#f0f921"
             ]
            ],
            "type": "histogram2dcontour"
           }
          ],
          "mesh3d": [
           {
            "colorbar": {
             "outlinewidth": 0,
             "ticks": ""
            },
            "type": "mesh3d"
           }
          ],
          "parcoords": [
           {
            "line": {
             "colorbar": {
              "outlinewidth": 0,
              "ticks": ""
             }
            },
            "type": "parcoords"
           }
          ],
          "pie": [
           {
            "automargin": true,
            "type": "pie"
           }
          ],
          "scatter": [
           {
            "marker": {
             "colorbar": {
              "outlinewidth": 0,
              "ticks": ""
             }
            },
            "type": "scatter"
           }
          ],
          "scatter3d": [
           {
            "line": {
             "colorbar": {
              "outlinewidth": 0,
              "ticks": ""
             }
            },
            "marker": {
             "colorbar": {
              "outlinewidth": 0,
              "ticks": ""
             }
            },
            "type": "scatter3d"
           }
          ],
          "scattercarpet": [
           {
            "marker": {
             "colorbar": {
              "outlinewidth": 0,
              "ticks": ""
             }
            },
            "type": "scattercarpet"
           }
          ],
          "scattergeo": [
           {
            "marker": {
             "colorbar": {
              "outlinewidth": 0,
              "ticks": ""
             }
            },
            "type": "scattergeo"
           }
          ],
          "scattergl": [
           {
            "marker": {
             "colorbar": {
              "outlinewidth": 0,
              "ticks": ""
             }
            },
            "type": "scattergl"
           }
          ],
          "scattermapbox": [
           {
            "marker": {
             "colorbar": {
              "outlinewidth": 0,
              "ticks": ""
             }
            },
            "type": "scattermapbox"
           }
          ],
          "scatterpolar": [
           {
            "marker": {
             "colorbar": {
              "outlinewidth": 0,
              "ticks": ""
             }
            },
            "type": "scatterpolar"
           }
          ],
          "scatterpolargl": [
           {
            "marker": {
             "colorbar": {
              "outlinewidth": 0,
              "ticks": ""
             }
            },
            "type": "scatterpolargl"
           }
          ],
          "scatterternary": [
           {
            "marker": {
             "colorbar": {
              "outlinewidth": 0,
              "ticks": ""
             }
            },
            "type": "scatterternary"
           }
          ],
          "surface": [
           {
            "colorbar": {
             "outlinewidth": 0,
             "ticks": ""
            },
            "colorscale": [
             [
              0,
              "#0d0887"
             ],
             [
              0.1111111111111111,
              "#46039f"
             ],
             [
              0.2222222222222222,
              "#7201a8"
             ],
             [
              0.3333333333333333,
              "#9c179e"
             ],
             [
              0.4444444444444444,
              "#bd3786"
             ],
             [
              0.5555555555555556,
              "#d8576b"
             ],
             [
              0.6666666666666666,
              "#ed7953"
             ],
             [
              0.7777777777777778,
              "#fb9f3a"
             ],
             [
              0.8888888888888888,
              "#fdca26"
             ],
             [
              1,
              "#f0f921"
             ]
            ],
            "type": "surface"
           }
          ],
          "table": [
           {
            "cells": {
             "fill": {
              "color": "#EBF0F8"
             },
             "line": {
              "color": "white"
             }
            },
            "header": {
             "fill": {
              "color": "#C8D4E3"
             },
             "line": {
              "color": "white"
             }
            },
            "type": "table"
           }
          ]
         },
         "layout": {
          "annotationdefaults": {
           "arrowcolor": "#2a3f5f",
           "arrowhead": 0,
           "arrowwidth": 1
          },
          "autotypenumbers": "strict",
          "coloraxis": {
           "colorbar": {
            "outlinewidth": 0,
            "ticks": ""
           }
          },
          "colorscale": {
           "diverging": [
            [
             0,
             "#8e0152"
            ],
            [
             0.1,
             "#c51b7d"
            ],
            [
             0.2,
             "#de77ae"
            ],
            [
             0.3,
             "#f1b6da"
            ],
            [
             0.4,
             "#fde0ef"
            ],
            [
             0.5,
             "#f7f7f7"
            ],
            [
             0.6,
             "#e6f5d0"
            ],
            [
             0.7,
             "#b8e186"
            ],
            [
             0.8,
             "#7fbc41"
            ],
            [
             0.9,
             "#4d9221"
            ],
            [
             1,
             "#276419"
            ]
           ],
           "sequential": [
            [
             0,
             "#0d0887"
            ],
            [
             0.1111111111111111,
             "#46039f"
            ],
            [
             0.2222222222222222,
             "#7201a8"
            ],
            [
             0.3333333333333333,
             "#9c179e"
            ],
            [
             0.4444444444444444,
             "#bd3786"
            ],
            [
             0.5555555555555556,
             "#d8576b"
            ],
            [
             0.6666666666666666,
             "#ed7953"
            ],
            [
             0.7777777777777778,
             "#fb9f3a"
            ],
            [
             0.8888888888888888,
             "#fdca26"
            ],
            [
             1,
             "#f0f921"
            ]
           ],
           "sequentialminus": [
            [
             0,
             "#0d0887"
            ],
            [
             0.1111111111111111,
             "#46039f"
            ],
            [
             0.2222222222222222,
             "#7201a8"
            ],
            [
             0.3333333333333333,
             "#9c179e"
            ],
            [
             0.4444444444444444,
             "#bd3786"
            ],
            [
             0.5555555555555556,
             "#d8576b"
            ],
            [
             0.6666666666666666,
             "#ed7953"
            ],
            [
             0.7777777777777778,
             "#fb9f3a"
            ],
            [
             0.8888888888888888,
             "#fdca26"
            ],
            [
             1,
             "#f0f921"
            ]
           ]
          },
          "colorway": [
           "#636efa",
           "#EF553B",
           "#00cc96",
           "#ab63fa",
           "#FFA15A",
           "#19d3f3",
           "#FF6692",
           "#B6E880",
           "#FF97FF",
           "#FECB52"
          ],
          "font": {
           "color": "#2a3f5f"
          },
          "geo": {
           "bgcolor": "white",
           "lakecolor": "white",
           "landcolor": "#E5ECF6",
           "showlakes": true,
           "showland": true,
           "subunitcolor": "white"
          },
          "hoverlabel": {
           "align": "left"
          },
          "hovermode": "closest",
          "mapbox": {
           "style": "light"
          },
          "paper_bgcolor": "white",
          "plot_bgcolor": "#E5ECF6",
          "polar": {
           "angularaxis": {
            "gridcolor": "white",
            "linecolor": "white",
            "ticks": ""
           },
           "bgcolor": "#E5ECF6",
           "radialaxis": {
            "gridcolor": "white",
            "linecolor": "white",
            "ticks": ""
           }
          },
          "scene": {
           "xaxis": {
            "backgroundcolor": "#E5ECF6",
            "gridcolor": "white",
            "gridwidth": 2,
            "linecolor": "white",
            "showbackground": true,
            "ticks": "",
            "zerolinecolor": "white"
           },
           "yaxis": {
            "backgroundcolor": "#E5ECF6",
            "gridcolor": "white",
            "gridwidth": 2,
            "linecolor": "white",
            "showbackground": true,
            "ticks": "",
            "zerolinecolor": "white"
           },
           "zaxis": {
            "backgroundcolor": "#E5ECF6",
            "gridcolor": "white",
            "gridwidth": 2,
            "linecolor": "white",
            "showbackground": true,
            "ticks": "",
            "zerolinecolor": "white"
           }
          },
          "shapedefaults": {
           "line": {
            "color": "#2a3f5f"
           }
          },
          "ternary": {
           "aaxis": {
            "gridcolor": "white",
            "linecolor": "white",
            "ticks": ""
           },
           "baxis": {
            "gridcolor": "white",
            "linecolor": "white",
            "ticks": ""
           },
           "bgcolor": "#E5ECF6",
           "caxis": {
            "gridcolor": "white",
            "linecolor": "white",
            "ticks": ""
           }
          },
          "title": {
           "x": 0.05
          },
          "xaxis": {
           "automargin": true,
           "gridcolor": "white",
           "linecolor": "white",
           "ticks": "",
           "title": {
            "standoff": 15
           },
           "zerolinecolor": "white",
           "zerolinewidth": 2
          },
          "yaxis": {
           "automargin": true,
           "gridcolor": "white",
           "linecolor": "white",
           "ticks": "",
           "title": {
            "standoff": 15
           },
           "zerolinecolor": "white",
           "zerolinewidth": 2
          }
         }
        },
        "xaxis": {
         "anchor": "y",
         "domain": [
          0,
          0.22999999999999998
         ],
         "title": {
          "text": "index"
         }
        },
        "xaxis2": {
         "anchor": "y2",
         "domain": [
          0.24999999999999997,
          0.48
         ],
         "matches": "x",
         "title": {
          "text": "index"
         }
        },
        "xaxis3": {
         "anchor": "y3",
         "domain": [
          0.49999999999999994,
          0.73
         ],
         "matches": "x",
         "title": {
          "text": "index"
         }
        },
        "xaxis4": {
         "anchor": "y4",
         "domain": [
          0.75,
          0.98
         ],
         "matches": "x",
         "title": {
          "text": "index"
         }
        },
        "yaxis": {
         "anchor": "x",
         "domain": [
          0,
          1
         ],
         "title": {
          "text": "FIT"
         }
        },
        "yaxis2": {
         "anchor": "x2",
         "domain": [
          0,
          1
         ],
         "matches": "y",
         "showticklabels": false
        },
        "yaxis3": {
         "anchor": "x3",
         "domain": [
          0,
          1
         ],
         "matches": "y",
         "showticklabels": false
        },
        "yaxis4": {
         "anchor": "x4",
         "domain": [
          0,
          1
         ],
         "matches": "y",
         "showticklabels": false
        }
       }
      },
      "text/html": [
       "<div>                            <div id=\"82278d81-f2eb-4588-8bd7-4a4d12368dbf\" class=\"plotly-graph-div\" style=\"height:525px; width:100%;\"></div>            <script type=\"text/javascript\">                require([\"plotly\"], function(Plotly) {                    window.PLOTLYENV=window.PLOTLYENV || {};                                    if (document.getElementById(\"82278d81-f2eb-4588-8bd7-4a4d12368dbf\")) {                    Plotly.newPlot(                        \"82278d81-f2eb-4588-8bd7-4a4d12368dbf\",                        [{\"customdata\":[[3600,80],[3600,80],[3600,40],[3600,20],[1800,40],[3600,20],[3600,40],[3600,80],[1800,80],[3600,20],[1800,40],[1800,80],[1800,80],[1800,20],[1800,20],[3600,10],[1800,80],[1800,10],[3600,10],[300,20],[1800,10],[300,40],[300,20],[300,10],[300,40],[300,40],[300,80],[300,10],[300,10],[300,20],[3600,40],[3600,40],[1800,20],[300,40],[300,80],[1800,20],[1800,10],[3600,10],[300,80],[300,20],[3600,80],[1800,40],[3600,10],[300,10],[1800,40],[300,80],[1800,10],[3600,20]],\"hovertemplate\":\"seq_len=40<br>est_direction=forward<br>est_type=ZERO<br>index=%{x}<br>FIT=%{y}<br>max_time=%{customdata[0]}<br>seq_est_len=%{customdata[1]}<extra></extra>\",\"legendgroup\":\"40\",\"marker\":{\"color\":\"#636efa\",\"symbol\":\"circle\"},\"mode\":\"markers\",\"name\":\"40\",\"orientation\":\"v\",\"showlegend\":true,\"x\":[272,254,16,194,382,106,143,162,22,388,59,109,385,89,235,48,379,291,266,227,384,19,136,378,41,282,61,49,188,251,431,449,504,549,553,565,576,590,607,621,622,626,630,676,691,707,714,721],\"xaxis\":\"x\",\"y\":[98.9822998046875,98.59496307373048,98.46517944335938,98.29285430908205,98.28487396240234,98.27808380126952,98.2520523071289,98.23013305664062,98.22616577148438,98.126708984375,98.03192901611328,98.0113296508789,97.86359405517578,97.78947448730467,97.52886962890624,96.21514129638672,96.08468627929688,95.87155151367188,95.79630279541016,95.5737075805664,95.55643463134766,95.27469635009766,94.86884307861328,94.56676483154295,93.67791748046876,93.67427825927734,93.44540405273438,93.20411682128906,91.27079010009766,90.42214965820312,0.0,0.0,0.0,0.0,0.0,0.0,0.0,0.0,0.0,0.0,0.0,0.0,0.0,0.0,0.0,0.0,0.0,0.0],\"yaxis\":\"y\",\"type\":\"scatter\"},{\"customdata\":[[1800,40],[3600,20],[1800,20],[3600,80],[1800,40],[3600,80],[1800,10],[3600,40],[3600,20],[1800,40],[1800,80],[3600,80],[1800,40],[300,40],[300,80],[300,20],[300,10],[300,10],[300,80],[300,10],[300,40],[1800,20],[3600,40],[1800,80],[300,10],[300,20],[3600,10],[3600,20],[300,20],[3600,10],[300,20],[1800,80],[1800,10],[3600,20],[3600,80],[300,80],[1800,10],[1800,20],[1800,80],[300,40],[1800,10],[300,40],[300,80],[3600,10],[3600,40],[1800,20],[3600,10],[3600,40]],\"hovertemplate\":\"seq_len=40<br>est_direction=forward<br>est_type=FF<br>index=%{x}<br>FIT=%{y}<br>max_time=%{customdata[0]}<br>seq_est_len=%{customdata[1]}<extra></extra>\",\"legendgroup\":\"40\",\"marker\":{\"color\":\"#636efa\",\"symbol\":\"circle\"},\"mode\":\"markers\",\"name\":\"40\",\"orientation\":\"v\",\"showlegend\":false,\"x\":[65,169,346,198,223,230,151,117,185,17,360,144,8,381,327,228,372,4,102,66,405,408,425,433,436,448,458,471,474,497,498,503,506,516,527,532,614,618,636,644,655,665,671,677,693,700,717,728],\"xaxis\":\"x2\",\"y\":[98.3453598022461,98.20547485351562,98.03399658203124,98.02054595947266,98.01161193847656,97.87474060058594,97.70951080322266,97.6865692138672,97.50324249267578,97.43515014648438,97.4060287475586,97.17020416259766,96.41548919677734,95.68025207519533,95.63919067382812,95.30950164794922,95.27518463134766,94.79791259765624,94.7685775756836,93.64763641357422,0.0,0.0,0.0,0.0,0.0,0.0,0.0,0.0,0.0,0.0,0.0,0.0,0.0,0.0,0.0,0.0,0.0,0.0,0.0,0.0,0.0,0.0,0.0,0.0,0.0,0.0,0.0,0.0],\"yaxis\":\"y2\",\"type\":\"scatter\"},{\"customdata\":[[3600,40],[1800,80],[3600,20],[3600,10],[1800,10],[3600,40],[3600,20],[3600,80],[3600,20],[1800,80],[3600,40],[1800,20],[1800,20],[3600,80],[1800,10],[3600,10],[1800,20],[300,80],[300,10],[300,40],[300,20],[300,10],[300,40],[300,20],[300,80],[3600,10],[300,40],[300,40],[3600,80],[300,80],[300,20],[1800,20],[1800,10],[1800,40],[1800,40],[300,10],[300,20],[3600,10],[1800,40],[1800,80],[3600,20],[1800,40],[3600,40],[3600,80],[1800,10],[1800,80],[300,80],[300,10]],\"hovertemplate\":\"seq_len=40<br>est_direction=forward<br>est_type=LSTM<br>index=%{x}<br>FIT=%{y}<br>max_time=%{customdata[0]}<br>seq_est_len=%{customdata[1]}<extra></extra>\",\"legendgroup\":\"40\",\"marker\":{\"color\":\"#636efa\",\"symbol\":\"circle\"},\"mode\":\"markers\",\"name\":\"40\",\"orientation\":\"v\",\"showlegend\":false,\"x\":[226,229,376,180,145,281,32,125,352,67,243,150,270,92,255,222,345,365,50,387,46,1,246,260,252,418,461,476,483,489,502,505,536,562,572,578,600,608,611,624,692,715,719,734,738,749,756,762],\"xaxis\":\"x3\",\"y\":[98.56266021728516,98.54762268066406,98.49971771240234,98.47180938720705,98.4502410888672,98.40106201171876,98.3873519897461,98.38286590576172,98.36528778076172,98.16822052001952,98.07008361816406,97.96075439453124,97.93726348876952,97.64984130859376,97.53936767578124,97.22595977783205,96.70923614501952,95.42822265625,93.92176055908205,93.07684326171876,92.54094696044922,90.59855651855467,89.91593933105469,89.3011703491211,86.95471954345703,0.0,0.0,0.0,0.0,0.0,0.0,0.0,0.0,0.0,0.0,0.0,0.0,0.0,0.0,0.0,0.0,0.0,0.0,0.0,0.0,0.0,0.0,0.0],\"yaxis\":\"y3\",\"type\":\"scatter\"},{\"customdata\":[[3600,40],[3600,80],[3600,80],[1800,80],[3600,20],[3600,20],[1800,20],[1800,20],[1800,40],[3600,80],[1800,40],[1800,40],[300,20],[3600,10],[1800,10],[1800,10],[300,40],[3600,10],[300,20],[3600,10],[3600,10],[1800,10],[300,80],[300,10],[300,80],[300,10],[300,80],[300,80],[300,10],[1800,80],[1800,20],[1800,40],[300,40],[3600,80],[300,10],[300,20],[3600,40],[1800,20],[3600,20],[1800,80],[3600,40],[3600,40],[300,40],[1800,10],[300,20],[300,40],[3600,20],[1800,80]],\"hovertemplate\":\"seq_len=40<br>est_direction=forward<br>est_type=RAND<br>index=%{x}<br>FIT=%{y}<br>max_time=%{customdata[0]}<br>seq_est_len=%{customdata[1]}<extra></extra>\",\"legendgroup\":\"40\",\"marker\":{\"color\":\"#636efa\",\"symbol\":\"circle\"},\"mode\":\"markers\",\"name\":\"40\",\"orientation\":\"v\",\"showlegend\":false,\"x\":[116,256,40,23,259,283,128,377,290,391,210,342,170,218,3,238,320,390,368,30,95,394,101,328,148,135,340,62,263,416,429,434,445,482,490,508,523,558,641,659,669,685,698,705,724,726,731,761],\"xaxis\":\"x4\",\"y\":[98.45996856689452,98.41143798828124,98.21053314208984,98.13873291015624,98.1014404296875,97.92639923095705,97.84007263183594,97.78244018554688,97.7663803100586,97.7238540649414,97.66934967041016,97.58937072753906,95.89462280273438,95.30123138427734,95.2461395263672,95.17118072509766,95.1210479736328,94.8093719482422,94.79060363769533,94.7275161743164,94.53546142578124,94.45772552490234,94.35118103027344,93.20045471191406,92.82923889160156,92.7813491821289,92.20194244384766,91.90593719482422,90.73247528076172,0.0,0.0,0.0,0.0,0.0,0.0,0.0,0.0,0.0,0.0,0.0,0.0,0.0,0.0,0.0,0.0,0.0,0.0,0.0],\"yaxis\":\"y4\",\"type\":\"scatter\"},{\"customdata\":[[3600,80],[3600,20],[3600,20],[3600,40],[3600,40],[3600,20],[3600,80],[3600,20],[3600,40],[1800,10],[1800,20],[1800,10],[300,10],[300,20],[300,20],[300,80],[300,10],[300,80],[300,20],[300,80],[300,40],[1800,40],[300,20],[3600,80],[1800,80],[300,10],[1800,80],[1800,20],[1800,40],[1800,10],[3600,10],[1800,80],[1800,10],[300,40],[3600,10],[1800,40],[300,40],[1800,20],[3600,10],[1800,40],[300,80],[300,40],[1800,80],[3600,40],[300,10],[3600,80],[1800,20],[3600,10]],\"hovertemplate\":\"seq_len=160<br>est_direction=forward<br>est_type=ZERO<br>index=%{x}<br>FIT=%{y}<br>max_time=%{customdata[0]}<br>seq_est_len=%{customdata[1]}<extra></extra>\",\"legendgroup\":\"160\",\"marker\":{\"color\":\"#EF553B\",\"symbol\":\"circle\"},\"mode\":\"markers\",\"name\":\"160\",\"orientation\":\"v\",\"showlegend\":true,\"x\":[339,113,182,52,98,219,154,173,121,88,341,175,323,333,257,54,139,234,253,209,31,419,437,439,442,472,473,528,538,543,545,546,555,587,595,648,649,667,672,679,697,711,733,737,742,750,755,763],\"xaxis\":\"x\",\"y\":[98.53609466552734,98.41806030273438,98.29102325439452,98.26820373535156,98.20922088623048,98.20298767089844,98.19523620605467,98.11810302734376,98.01966857910156,97.7303237915039,97.62073516845705,96.0687255859375,93.9067840576172,93.35698699951172,93.31680297851562,92.57538604736328,92.56693267822266,92.3834228515625,91.58558654785156,90.97862243652344,89.70743560791016,0.0,0.0,0.0,0.0,0.0,0.0,0.0,0.0,0.0,0.0,0.0,0.0,0.0,0.0,0.0,0.0,0.0,0.0,0.0,0.0,0.0,0.0,0.0,0.0,0.0,0.0,0.0],\"yaxis\":\"y\",\"type\":\"scatter\"},{\"customdata\":[[3600,80],[3600,10],[3600,10],[3600,40],[3600,10],[3600,40],[3600,20],[1800,40],[1800,80],[3600,10],[3600,80],[1800,80],[1800,10],[1800,10],[1800,20],[1800,20],[1800,40],[1800,20],[1800,10],[300,40],[300,80],[300,40],[300,20],[300,10],[300,10],[300,80],[300,40],[300,20],[3600,20],[1800,40],[300,80],[3600,40],[3600,80],[1800,10],[300,20],[1800,20],[1800,80],[3600,20],[3600,80],[1800,80],[3600,20],[300,10],[300,10],[1800,40],[300,20],[300,80],[300,40],[3600,40]],\"hovertemplate\":\"seq_len=160<br>est_direction=forward<br>est_type=FF<br>index=%{x}<br>FIT=%{y}<br>max_time=%{customdata[0]}<br>seq_est_len=%{customdata[1]}<extra></extra>\",\"legendgroup\":\"160\",\"marker\":{\"color\":\"#EF553B\",\"symbol\":\"circle\"},\"mode\":\"markers\",\"name\":\"160\",\"orientation\":\"v\",\"showlegend\":false,\"x\":[97,278,401,167,104,297,304,187,305,276,347,284,11,321,202,250,336,311,79,124,45,133,363,70,383,306,417,495,520,522,529,531,583,612,628,634,635,646,660,674,682,683,688,701,718,739,751,757],\"xaxis\":\"x2\",\"y\":[98.89260864257812,98.6295928955078,98.5709228515625,98.5454559326172,98.25696563720705,98.1502685546875,98.0964813232422,98.05298614501952,98.00157928466795,97.96895599365234,97.88835144042967,97.71002197265624,97.70897674560548,97.5455322265625,97.48680877685548,97.38507080078124,96.2197265625,96.14468383789062,95.86812591552734,94.19383239746094,94.14152526855467,93.67127990722656,93.65634155273438,92.84396362304688,91.70299530029295,91.44302368164062,0.0,0.0,0.0,0.0,0.0,0.0,0.0,0.0,0.0,0.0,0.0,0.0,0.0,0.0,0.0,0.0,0.0,0.0,0.0,0.0,0.0,0.0],\"yaxis\":\"y2\",\"type\":\"scatter\"},{\"customdata\":[[3600,40],[3600,80],[3600,20],[3600,40],[3600,80],[3600,80],[3600,10],[3600,10],[1800,20],[3600,40],[1800,80],[3600,10],[1800,20],[1800,40],[1800,40],[1800,80],[1800,40],[3600,20],[1800,80],[1800,10],[1800,10],[1800,40],[1800,10],[300,80],[300,10],[300,40],[300,20],[300,80],[300,80],[300,40],[300,20],[3600,10],[1800,20],[3600,80],[300,80],[3600,20],[1800,10],[1800,80],[300,10],[3600,40],[300,40],[300,20],[300,20],[300,10],[300,40],[300,10],[1800,20],[3600,20]],\"hovertemplate\":\"seq_len=160<br>est_direction=forward<br>est_type=LSTM<br>index=%{x}<br>FIT=%{y}<br>max_time=%{customdata[0]}<br>seq_est_len=%{customdata[1]}<extra></extra>\",\"legendgroup\":\"160\",\"marker\":{\"color\":\"#EF553B\",\"symbol\":\"circle\"},\"mode\":\"markers\",\"name\":\"160\",\"orientation\":\"v\",\"showlegend\":false,\"x\":[156,177,240,380,103,374,362,364,111,142,159,107,179,237,307,131,371,331,248,90,9,80,64,232,203,157,137,236,195,74,402,430,452,454,485,487,507,550,551,563,571,575,625,632,704,709,745,767],\"xaxis\":\"x3\",\"y\":[98.87449645996094,98.72239685058594,98.47417449951172,98.41436767578124,98.37709045410156,98.31326293945312,98.224853515625,98.22364807128906,97.99784088134766,97.89966583251952,97.89312744140624,97.85253143310548,97.67752075195312,97.5334243774414,97.48114013671876,97.19743347167967,97.17827606201172,97.13197326660156,96.83387756347656,96.82450103759766,96.1152114868164,96.05825805664062,95.7122802734375,94.46856689453124,93.60559844970705,93.58219146728516,93.43289184570312,93.00845336914062,92.74246978759766,90.54473876953124,0.0,0.0,0.0,0.0,0.0,0.0,0.0,0.0,0.0,0.0,0.0,0.0,0.0,0.0,0.0,0.0,0.0,0.0],\"yaxis\":\"y3\",\"type\":\"scatter\"},{\"customdata\":[[3600,80],[3600,80],[3600,20],[3600,20],[3600,20],[1800,40],[3600,40],[1800,20],[1800,20],[3600,80],[1800,40],[1800,10],[1800,80],[1800,80],[1800,40],[300,20],[300,20],[300,10],[300,40],[300,20],[300,10],[300,40],[300,20],[300,40],[300,80],[300,40],[300,80],[300,80],[1800,10],[300,10],[1800,20],[3600,40],[3600,40],[3600,10],[3600,40],[1800,20],[1800,80],[3600,20],[1800,40],[1800,10],[3600,10],[3600,80],[1800,10],[3600,10],[300,80],[300,10],[3600,10],[1800,80]],\"hovertemplate\":\"seq_len=160<br>est_direction=forward<br>est_type=RAND<br>index=%{x}<br>FIT=%{y}<br>max_time=%{customdata[0]}<br>seq_est_len=%{customdata[1]}<extra></extra>\",\"legendgroup\":\"160\",\"marker\":{\"color\":\"#EF553B\",\"symbol\":\"circle\"},\"mode\":\"markers\",\"name\":\"160\",\"orientation\":\"v\",\"showlegend\":false,\"x\":[165,353,63,262,325,358,350,316,298,87,334,193,42,15,335,279,286,56,214,5,273,25,330,261,264,178,280,119,406,422,428,456,460,484,492,513,540,574,589,603,606,620,623,653,656,687,699,740],\"xaxis\":\"x4\",\"y\":[98.84634399414062,98.51385498046876,98.33273315429688,98.20410919189452,98.06781768798828,98.03111267089844,97.97834014892578,97.9289779663086,97.88429260253906,97.77166748046876,97.7704620361328,97.56527709960938,97.32997131347656,97.212646484375,96.3361587524414,93.78759765625,93.75489044189452,93.56428527832033,93.5278778076172,93.09524536132812,93.06507873535156,92.96414947509766,92.49945068359376,92.38400268554688,92.21099853515624,92.03173065185548,91.22115325927734,90.77008819580078,0.0,0.0,0.0,0.0,0.0,0.0,0.0,0.0,0.0,0.0,0.0,0.0,0.0,0.0,0.0,0.0,0.0,0.0,0.0,0.0],\"yaxis\":\"y4\",\"type\":\"scatter\"},{\"customdata\":[[3600,80],[3600,40],[3600,20],[3600,40],[1800,20],[1800,80],[1800,20],[3600,80],[3600,20],[1800,40],[3600,80],[3600,10],[1800,40],[1800,40],[3600,10],[1800,10],[3600,10],[300,10],[300,80],[300,20],[300,10],[300,80],[300,40],[300,80],[3600,20],[300,40],[3600,10],[300,20],[1800,80],[300,80],[1800,10],[3600,40],[300,10],[3600,80],[1800,20],[1800,80],[1800,40],[1800,10],[1800,10],[3600,20],[300,10],[300,20],[3600,40],[300,20],[1800,80],[1800,20],[300,40],[300,40]],\"hovertemplate\":\"seq_len=80<br>est_direction=forward<br>est_type=ZERO<br>index=%{x}<br>FIT=%{y}<br>max_time=%{customdata[0]}<br>seq_est_len=%{customdata[1]}<extra></extra>\",\"legendgroup\":\"80\",\"marker\":{\"color\":\"#00cc96\",\"symbol\":\"circle\"},\"mode\":\"markers\",\"name\":\"80\",\"orientation\":\"v\",\"showlegend\":true,\"x\":[231,96,153,322,176,395,77,94,275,36,355,398,34,220,110,293,7,47,91,274,53,205,277,71,438,443,450,457,467,488,526,535,537,552,569,601,602,609,627,642,650,662,668,673,689,703,732,747],\"xaxis\":\"x\",\"y\":[98.51893615722656,98.51094818115234,98.23980712890624,98.11681365966795,98.09375,98.01885986328124,97.97763061523438,97.96083068847656,97.5778350830078,97.3684539794922,97.15225982666016,97.0301284790039,97.01844787597656,96.9895477294922,96.88873291015624,96.41498565673828,96.32294464111328,95.20242309570312,95.04354095458984,94.63507843017578,94.40021514892578,93.88818359375,91.62477111816406,91.4220199584961,0.0,0.0,0.0,0.0,0.0,0.0,0.0,0.0,0.0,0.0,0.0,0.0,0.0,0.0,0.0,0.0,0.0,0.0,0.0,0.0,0.0,0.0,0.0,0.0],\"yaxis\":\"y\",\"type\":\"scatter\"},{\"customdata\":[[3600,80],[3600,20],[3600,40],[3600,40],[3600,40],[1800,20],[3600,20],[3600,10],[1800,80],[1800,40],[1800,40],[3600,80],[1800,20],[1800,10],[1800,20],[1800,80],[300,10],[300,40],[300,80],[300,10],[300,80],[300,20],[300,40],[300,80],[300,40],[3600,10],[1800,20],[1800,40],[1800,10],[300,10],[300,40],[1800,10],[3600,20],[300,10],[1800,80],[300,20],[3600,40],[1800,80],[3600,20],[3600,80],[1800,40],[300,80],[300,20],[3600,80],[3600,10],[1800,10],[300,20],[3600,10]],\"hovertemplate\":\"seq_len=80<br>est_direction=forward<br>est_type=FF<br>index=%{x}<br>FIT=%{y}<br>max_time=%{customdata[0]}<br>seq_est_len=%{customdata[1]}<extra></extra>\",\"legendgroup\":\"80\",\"marker\":{\"color\":\"#00cc96\",\"symbol\":\"circle\"},\"mode\":\"markers\",\"name\":\"80\",\"orientation\":\"v\",\"showlegend\":false,\"x\":[99,196,295,120,10,199,29,269,155,204,122,147,221,233,115,206,82,201,33,35,161,337,12,247,315,404,465,470,501,509,518,547,554,560,580,586,588,591,592,593,604,605,645,652,695,702,708,743],\"xaxis\":\"x2\",\"y\":[98.64631652832033,98.57167053222656,98.20565795898438,98.09747314453124,98.0408935546875,97.98326873779295,97.88493347167967,97.84000396728516,97.82108306884766,97.7882308959961,97.76944732666016,97.7547378540039,97.66747283935548,97.47201538085938,97.4083480834961,97.15495300292967,95.50493621826172,95.44329833984376,95.29904174804688,95.22815704345705,95.16346740722656,94.78191375732422,94.3848648071289,93.3387680053711,93.1983413696289,0.0,0.0,0.0,0.0,0.0,0.0,0.0,0.0,0.0,0.0,0.0,0.0,0.0,0.0,0.0,0.0,0.0,0.0,0.0,0.0,0.0,0.0,0.0],\"yaxis\":\"y2\",\"type\":\"scatter\"},{\"customdata\":[[3600,20],[3600,40],[3600,10],[3600,10],[3600,10],[1800,40],[1800,10],[3600,80],[1800,40],[1800,20],[1800,20],[3600,80],[1800,40],[1800,10],[1800,80],[1800,40],[300,20],[300,80],[300,20],[300,10],[300,40],[300,40],[300,20],[300,10],[300,80],[1800,80],[300,80],[1800,80],[3600,10],[300,10],[1800,20],[1800,20],[300,10],[300,20],[300,80],[300,40],[1800,10],[300,40],[3600,40],[3600,40],[3600,20],[3600,80],[1800,80],[1800,10],[3600,20],[3600,20],[3600,80],[3600,40]],\"hovertemplate\":\"seq_len=80<br>est_direction=forward<br>est_type=LSTM<br>index=%{x}<br>FIT=%{y}<br>max_time=%{customdata[0]}<br>seq_est_len=%{customdata[1]}<extra></extra>\",\"legendgroup\":\"80\",\"marker\":{\"color\":\"#00cc96\",\"symbol\":\"circle\"},\"mode\":\"markers\",\"name\":\"80\",\"orientation\":\"v\",\"showlegend\":false,\"x\":[184,26,303,186,132,68,244,58,397,118,393,39,239,183,197,217,192,51,37,100,366,249,258,373,415,480,486,493,494,533,534,542,564,573,577,584,599,613,658,663,678,681,713,720,722,725,736,753],\"xaxis\":\"x3\",\"y\":[98.66903686523438,98.64541625976562,98.6107940673828,98.57769775390624,98.38502502441406,98.24124908447266,98.02009582519533,97.97515106201172,97.90099334716795,97.9002685546875,97.76673126220705,97.75092315673828,97.63240814208984,97.62933349609376,97.17689514160156,96.65316009521484,95.49427032470705,95.40809631347656,95.3564224243164,94.1611557006836,92.5822525024414,92.5365219116211,91.55591583251952,91.054931640625,0.0,0.0,0.0,0.0,0.0,0.0,0.0,0.0,0.0,0.0,0.0,0.0,0.0,0.0,0.0,0.0,0.0,0.0,0.0,0.0,0.0,0.0,0.0,0.0],\"yaxis\":\"y3\",\"type\":\"scatter\"},{\"customdata\":[[3600,20],[3600,80],[3600,20],[1800,80],[1800,80],[3600,20],[1800,40],[3600,20],[3600,40],[3600,80],[1800,20],[3600,40],[3600,80],[1800,40],[1800,40],[3600,80],[1800,10],[1800,10],[300,20],[300,10],[300,20],[300,20],[300,10],[300,40],[300,80],[300,10],[300,80],[3600,40],[300,40],[1800,20],[1800,80],[300,80],[300,40],[300,10],[1800,20],[3600,10],[3600,10],[3600,40],[1800,10],[300,40],[300,20],[3600,10],[1800,40],[1800,80],[300,80],[3600,10],[1800,20],[1800,10]],\"hovertemplate\":\"seq_len=80<br>est_direction=forward<br>est_type=RAND<br>index=%{x}<br>FIT=%{y}<br>max_time=%{customdata[0]}<br>seq_est_len=%{customdata[1]}<extra></extra>\",\"legendgroup\":\"80\",\"marker\":{\"color\":\"#00cc96\",\"symbol\":\"circle\"},\"mode\":\"markers\",\"name\":\"80\",\"orientation\":\"v\",\"showlegend\":false,\"x\":[123,212,215,343,324,18,152,296,141,38,287,208,357,375,158,24,216,149,69,14,138,172,369,2,288,200,407,409,412,441,459,466,469,512,530,556,568,610,629,631,639,651,694,744,752,754,759,764],\"xaxis\":\"x4\",\"y\":[98.48509216308594,98.44566345214844,98.36708068847656,98.29581451416016,98.2054443359375,98.19668579101562,98.08969116210938,98.08294677734376,97.95887756347656,97.9363021850586,97.83074951171876,97.80868530273438,97.646240234375,97.57915496826172,97.49105072021484,96.97122955322266,96.6952896118164,96.68496704101562,94.80098724365234,94.7109832763672,94.47543334960938,94.14279174804688,94.0475616455078,92.36365509033205,92.177734375,92.15391540527344,0.0,0.0,0.0,0.0,0.0,0.0,0.0,0.0,0.0,0.0,0.0,0.0,0.0,0.0,0.0,0.0,0.0,0.0,0.0,0.0,0.0,0.0],\"yaxis\":\"y4\",\"type\":\"scatter\"},{\"customdata\":[[3600,20],[3600,10],[3600,20],[3600,10],[1800,40],[3600,40],[1800,10],[3600,80],[1800,10],[1800,20],[1800,40],[1800,80],[1800,80],[300,10],[300,40],[300,10],[300,20],[300,20],[300,80],[300,80],[300,40],[300,20],[300,10],[1800,40],[300,40],[3600,40],[3600,10],[300,40],[3600,80],[3600,40],[300,10],[3600,10],[300,20],[3600,80],[1800,80],[300,80],[1800,20],[3600,20],[3600,20],[1800,10],[1800,20],[1800,80],[1800,20],[1800,10],[3600,80],[1800,40],[3600,40],[300,80]],\"hovertemplate\":\"seq_len=320<br>est_direction=forward<br>est_type=ZERO<br>index=%{x}<br>FIT=%{y}<br>max_time=%{customdata[0]}<br>seq_est_len=%{customdata[1]}<extra></extra>\",\"legendgroup\":\"320\",\"marker\":{\"color\":\"#ab63fa\",\"symbol\":\"circle\"},\"mode\":\"markers\",\"name\":\"320\",\"orientation\":\"v\",\"showlegend\":true,\"x\":[354,189,191,73,84,241,271,392,81,168,75,356,319,292,181,317,85,338,370,312,57,43,163,403,421,423,424,426,451,477,479,496,499,519,521,559,561,567,582,598,617,640,690,723,727,730,748,758],\"xaxis\":\"x\",\"y\":[98.20511627197266,98.17539978027344,98.04692840576172,97.92586517333984,97.82604217529295,97.1471710205078,96.93278503417967,96.10822296142578,96.103515625,95.96310424804688,95.62578582763672,94.84434509277344,94.52093505859376,92.0561065673828,90.89635467529295,90.84000396728516,90.660888671875,89.88746643066406,89.24322509765625,88.65019989013672,87.61225128173828,86.54139709472656,85.86546325683594,0.0,0.0,0.0,0.0,0.0,0.0,0.0,0.0,0.0,0.0,0.0,0.0,0.0,0.0,0.0,0.0,0.0,0.0,0.0,0.0,0.0,0.0,0.0,0.0,0.0],\"yaxis\":\"y\",\"type\":\"scatter\"},{\"customdata\":[[3600,40],[3600,40],[3600,10],[3600,20],[3600,40],[3600,40],[1800,20],[1800,10],[1800,80],[1800,40],[1800,40],[1800,10],[1800,80],[1800,20],[1800,40],[1800,20],[300,20],[300,80],[300,40],[300,10],[300,20],[300,10],[300,10],[300,80],[300,80],[300,80],[300,40],[300,20],[3600,80],[1800,10],[1800,20],[300,40],[3600,20],[300,40],[1800,40],[3600,20],[1800,80],[3600,20],[3600,10],[3600,80],[3600,10],[300,20],[3600,80],[1800,80],[1800,10],[3600,10],[3600,80],[300,10]],\"hovertemplate\":\"seq_len=320<br>est_direction=forward<br>est_type=FF<br>index=%{x}<br>FIT=%{y}<br>max_time=%{customdata[0]}<br>seq_est_len=%{customdata[1]}<extra></extra>\",\"legendgroup\":\"320\",\"marker\":{\"color\":\"#ab63fa\",\"symbol\":\"circle\"},\"mode\":\"markers\",\"name\":\"320\",\"orientation\":\"v\",\"showlegend\":false,\"x\":[285,302,171,166,0,190,367,130,127,268,93,140,108,351,13,344,83,72,160,349,299,55,267,314,86,389,348,462,478,517,524,525,541,544,548,557,566,570,579,596,654,657,661,684,686,712,716,741],\"xaxis\":\"x2\",\"y\":[98.42056274414062,98.17124938964844,98.0155029296875,97.92476654052734,97.89669799804688,97.69694519042967,97.63426208496094,97.53062438964844,97.45431518554688,97.218505859375,96.6936264038086,96.11605834960938,95.94401550292967,95.89581298828124,95.7300796508789,95.41888427734376,93.3440170288086,91.93814086914062,91.66506958007812,91.50845336914062,91.50315856933594,91.2894287109375,91.03814697265624,90.45059967041016,89.94795989990234,86.45651245117188,86.44223022460938,0.0,0.0,0.0,0.0,0.0,0.0,0.0,0.0,0.0,0.0,0.0,0.0,0.0,0.0,0.0,0.0,0.0,0.0,0.0,0.0,0.0],\"yaxis\":\"y2\",\"type\":\"scatter\"},{\"customdata\":[[3600,80],[3600,40],[3600,10],[1800,10],[1800,40],[1800,40],[1800,80],[3600,20],[3600,20],[1800,40],[1800,40],[1800,20],[1800,10],[1800,80],[1800,10],[3600,80],[3600,40],[1800,80],[300,40],[300,20],[300,10],[300,80],[300,10],[300,20],[300,10],[300,10],[300,80],[3600,20],[3600,40],[1800,20],[300,40],[3600,10],[3600,20],[3600,10],[1800,20],[3600,80],[300,80],[300,40],[1800,20],[3600,10],[1800,10],[3600,40],[300,20],[3600,80],[300,20],[1800,80],[300,80],[300,40]],\"hovertemplate\":\"seq_len=320<br>est_direction=forward<br>est_type=LSTM<br>index=%{x}<br>FIT=%{y}<br>max_time=%{customdata[0]}<br>seq_est_len=%{customdata[1]}<extra></extra>\",\"legendgroup\":\"320\",\"marker\":{\"color\":\"#ab63fa\",\"symbol\":\"circle\"},\"mode\":\"markers\",\"name\":\"320\",\"orientation\":\"v\",\"showlegend\":false,\"x\":[174,313,318,126,134,225,301,396,105,211,129,224,294,309,400,27,329,76,44,164,386,146,308,114,332,242,414,420,444,463,468,500,511,514,515,581,616,633,637,638,664,670,675,696,729,746,765,766],\"xaxis\":\"x3\",\"y\":[98.5821304321289,98.46562957763672,97.73106384277344,97.72840881347656,97.58326721191406,97.41413116455078,97.39932250976562,97.09343719482422,97.02660369873048,96.6901397705078,96.6144790649414,96.09786224365234,95.97563934326172,95.779296875,95.7741241455078,95.72159576416016,94.9228973388672,94.6042022705078,91.63421630859376,90.75152587890624,90.65862274169922,90.59503936767578,87.72977447509766,87.68255615234375,87.52019500732422,87.05554962158203,0.0,0.0,0.0,0.0,0.0,0.0,0.0,0.0,0.0,0.0,0.0,0.0,0.0,0.0,0.0,0.0,0.0,0.0,0.0,0.0,0.0,0.0],\"yaxis\":\"y3\",\"type\":\"scatter\"},{\"customdata\":[[3600,40],[3600,40],[3600,10],[3600,20],[1800,40],[3600,10],[3600,40],[3600,20],[3600,80],[1800,20],[1800,40],[1800,10],[1800,80],[300,10],[300,40],[300,40],[300,80],[300,40],[300,80],[1800,10],[3600,10],[1800,20],[1800,40],[300,10],[3600,10],[1800,20],[1800,10],[300,10],[1800,80],[300,20],[3600,20],[3600,80],[1800,20],[300,20],[3600,80],[300,40],[300,80],[1800,80],[300,80],[1800,10],[300,10],[1800,40],[1800,80],[300,20],[300,20],[3600,20],[3600,80],[3600,40]],\"hovertemplate\":\"seq_len=320<br>est_direction=forward<br>est_type=RAND<br>index=%{x}<br>FIT=%{y}<br>max_time=%{customdata[0]}<br>seq_est_len=%{customdata[1]}<extra></extra>\",\"legendgroup\":\"320\",\"marker\":{\"color\":\"#ab63fa\",\"symbol\":\"circle\"},\"mode\":\"markers\",\"name\":\"320\",\"orientation\":\"v\",\"showlegend\":false,\"x\":[310,265,6,20,289,78,21,213,361,245,60,112,359,326,207,28,399,300,410,411,413,427,432,435,440,446,447,453,455,464,475,481,491,510,539,585,594,597,615,619,643,647,666,680,706,710,735,760],\"xaxis\":\"x4\",\"y\":[98.33255767822266,98.02599334716795,97.8116226196289,97.7000503540039,97.61370086669922,97.5828857421875,97.56886291503906,97.40907287597656,97.2061004638672,97.08607482910156,96.23152923583984,95.92322540283205,95.43963623046876,92.1267318725586,91.78204345703124,91.30680847167967,90.36823272705078,89.65009307861328,0.0,0.0,0.0,0.0,0.0,0.0,0.0,0.0,0.0,0.0,0.0,0.0,0.0,0.0,0.0,0.0,0.0,0.0,0.0,0.0,0.0,0.0,0.0,0.0,0.0,0.0,0.0,0.0,0.0,0.0],\"yaxis\":\"y4\",\"type\":\"scatter\"}],                        {\"template\":{\"data\":{\"bar\":[{\"error_x\":{\"color\":\"#2a3f5f\"},\"error_y\":{\"color\":\"#2a3f5f\"},\"marker\":{\"line\":{\"color\":\"#E5ECF6\",\"width\":0.5},\"pattern\":{\"fillmode\":\"overlay\",\"size\":10,\"solidity\":0.2}},\"type\":\"bar\"}],\"barpolar\":[{\"marker\":{\"line\":{\"color\":\"#E5ECF6\",\"width\":0.5},\"pattern\":{\"fillmode\":\"overlay\",\"size\":10,\"solidity\":0.2}},\"type\":\"barpolar\"}],\"carpet\":[{\"aaxis\":{\"endlinecolor\":\"#2a3f5f\",\"gridcolor\":\"white\",\"linecolor\":\"white\",\"minorgridcolor\":\"white\",\"startlinecolor\":\"#2a3f5f\"},\"baxis\":{\"endlinecolor\":\"#2a3f5f\",\"gridcolor\":\"white\",\"linecolor\":\"white\",\"minorgridcolor\":\"white\",\"startlinecolor\":\"#2a3f5f\"},\"type\":\"carpet\"}],\"choropleth\":[{\"colorbar\":{\"outlinewidth\":0,\"ticks\":\"\"},\"type\":\"choropleth\"}],\"contour\":[{\"colorbar\":{\"outlinewidth\":0,\"ticks\":\"\"},\"colorscale\":[[0.0,\"#0d0887\"],[0.1111111111111111,\"#46039f\"],[0.2222222222222222,\"#7201a8\"],[0.3333333333333333,\"#9c179e\"],[0.4444444444444444,\"#bd3786\"],[0.5555555555555556,\"#d8576b\"],[0.6666666666666666,\"#ed7953\"],[0.7777777777777778,\"#fb9f3a\"],[0.8888888888888888,\"#fdca26\"],[1.0,\"#f0f921\"]],\"type\":\"contour\"}],\"contourcarpet\":[{\"colorbar\":{\"outlinewidth\":0,\"ticks\":\"\"},\"type\":\"contourcarpet\"}],\"heatmap\":[{\"colorbar\":{\"outlinewidth\":0,\"ticks\":\"\"},\"colorscale\":[[0.0,\"#0d0887\"],[0.1111111111111111,\"#46039f\"],[0.2222222222222222,\"#7201a8\"],[0.3333333333333333,\"#9c179e\"],[0.4444444444444444,\"#bd3786\"],[0.5555555555555556,\"#d8576b\"],[0.6666666666666666,\"#ed7953\"],[0.7777777777777778,\"#fb9f3a\"],[0.8888888888888888,\"#fdca26\"],[1.0,\"#f0f921\"]],\"type\":\"heatmap\"}],\"heatmapgl\":[{\"colorbar\":{\"outlinewidth\":0,\"ticks\":\"\"},\"colorscale\":[[0.0,\"#0d0887\"],[0.1111111111111111,\"#46039f\"],[0.2222222222222222,\"#7201a8\"],[0.3333333333333333,\"#9c179e\"],[0.4444444444444444,\"#bd3786\"],[0.5555555555555556,\"#d8576b\"],[0.6666666666666666,\"#ed7953\"],[0.7777777777777778,\"#fb9f3a\"],[0.8888888888888888,\"#fdca26\"],[1.0,\"#f0f921\"]],\"type\":\"heatmapgl\"}],\"histogram\":[{\"marker\":{\"pattern\":{\"fillmode\":\"overlay\",\"size\":10,\"solidity\":0.2}},\"type\":\"histogram\"}],\"histogram2d\":[{\"colorbar\":{\"outlinewidth\":0,\"ticks\":\"\"},\"colorscale\":[[0.0,\"#0d0887\"],[0.1111111111111111,\"#46039f\"],[0.2222222222222222,\"#7201a8\"],[0.3333333333333333,\"#9c179e\"],[0.4444444444444444,\"#bd3786\"],[0.5555555555555556,\"#d8576b\"],[0.6666666666666666,\"#ed7953\"],[0.7777777777777778,\"#fb9f3a\"],[0.8888888888888888,\"#fdca26\"],[1.0,\"#f0f921\"]],\"type\":\"histogram2d\"}],\"histogram2dcontour\":[{\"colorbar\":{\"outlinewidth\":0,\"ticks\":\"\"},\"colorscale\":[[0.0,\"#0d0887\"],[0.1111111111111111,\"#46039f\"],[0.2222222222222222,\"#7201a8\"],[0.3333333333333333,\"#9c179e\"],[0.4444444444444444,\"#bd3786\"],[0.5555555555555556,\"#d8576b\"],[0.6666666666666666,\"#ed7953\"],[0.7777777777777778,\"#fb9f3a\"],[0.8888888888888888,\"#fdca26\"],[1.0,\"#f0f921\"]],\"type\":\"histogram2dcontour\"}],\"mesh3d\":[{\"colorbar\":{\"outlinewidth\":0,\"ticks\":\"\"},\"type\":\"mesh3d\"}],\"parcoords\":[{\"line\":{\"colorbar\":{\"outlinewidth\":0,\"ticks\":\"\"}},\"type\":\"parcoords\"}],\"pie\":[{\"automargin\":true,\"type\":\"pie\"}],\"scatter\":[{\"marker\":{\"colorbar\":{\"outlinewidth\":0,\"ticks\":\"\"}},\"type\":\"scatter\"}],\"scatter3d\":[{\"line\":{\"colorbar\":{\"outlinewidth\":0,\"ticks\":\"\"}},\"marker\":{\"colorbar\":{\"outlinewidth\":0,\"ticks\":\"\"}},\"type\":\"scatter3d\"}],\"scattercarpet\":[{\"marker\":{\"colorbar\":{\"outlinewidth\":0,\"ticks\":\"\"}},\"type\":\"scattercarpet\"}],\"scattergeo\":[{\"marker\":{\"colorbar\":{\"outlinewidth\":0,\"ticks\":\"\"}},\"type\":\"scattergeo\"}],\"scattergl\":[{\"marker\":{\"colorbar\":{\"outlinewidth\":0,\"ticks\":\"\"}},\"type\":\"scattergl\"}],\"scattermapbox\":[{\"marker\":{\"colorbar\":{\"outlinewidth\":0,\"ticks\":\"\"}},\"type\":\"scattermapbox\"}],\"scatterpolar\":[{\"marker\":{\"colorbar\":{\"outlinewidth\":0,\"ticks\":\"\"}},\"type\":\"scatterpolar\"}],\"scatterpolargl\":[{\"marker\":{\"colorbar\":{\"outlinewidth\":0,\"ticks\":\"\"}},\"type\":\"scatterpolargl\"}],\"scatterternary\":[{\"marker\":{\"colorbar\":{\"outlinewidth\":0,\"ticks\":\"\"}},\"type\":\"scatterternary\"}],\"surface\":[{\"colorbar\":{\"outlinewidth\":0,\"ticks\":\"\"},\"colorscale\":[[0.0,\"#0d0887\"],[0.1111111111111111,\"#46039f\"],[0.2222222222222222,\"#7201a8\"],[0.3333333333333333,\"#9c179e\"],[0.4444444444444444,\"#bd3786\"],[0.5555555555555556,\"#d8576b\"],[0.6666666666666666,\"#ed7953\"],[0.7777777777777778,\"#fb9f3a\"],[0.8888888888888888,\"#fdca26\"],[1.0,\"#f0f921\"]],\"type\":\"surface\"}],\"table\":[{\"cells\":{\"fill\":{\"color\":\"#EBF0F8\"},\"line\":{\"color\":\"white\"}},\"header\":{\"fill\":{\"color\":\"#C8D4E3\"},\"line\":{\"color\":\"white\"}},\"type\":\"table\"}]},\"layout\":{\"annotationdefaults\":{\"arrowcolor\":\"#2a3f5f\",\"arrowhead\":0,\"arrowwidth\":1},\"autotypenumbers\":\"strict\",\"coloraxis\":{\"colorbar\":{\"outlinewidth\":0,\"ticks\":\"\"}},\"colorscale\":{\"diverging\":[[0,\"#8e0152\"],[0.1,\"#c51b7d\"],[0.2,\"#de77ae\"],[0.3,\"#f1b6da\"],[0.4,\"#fde0ef\"],[0.5,\"#f7f7f7\"],[0.6,\"#e6f5d0\"],[0.7,\"#b8e186\"],[0.8,\"#7fbc41\"],[0.9,\"#4d9221\"],[1,\"#276419\"]],\"sequential\":[[0.0,\"#0d0887\"],[0.1111111111111111,\"#46039f\"],[0.2222222222222222,\"#7201a8\"],[0.3333333333333333,\"#9c179e\"],[0.4444444444444444,\"#bd3786\"],[0.5555555555555556,\"#d8576b\"],[0.6666666666666666,\"#ed7953\"],[0.7777777777777778,\"#fb9f3a\"],[0.8888888888888888,\"#fdca26\"],[1.0,\"#f0f921\"]],\"sequentialminus\":[[0.0,\"#0d0887\"],[0.1111111111111111,\"#46039f\"],[0.2222222222222222,\"#7201a8\"],[0.3333333333333333,\"#9c179e\"],[0.4444444444444444,\"#bd3786\"],[0.5555555555555556,\"#d8576b\"],[0.6666666666666666,\"#ed7953\"],[0.7777777777777778,\"#fb9f3a\"],[0.8888888888888888,\"#fdca26\"],[1.0,\"#f0f921\"]]},\"colorway\":[\"#636efa\",\"#EF553B\",\"#00cc96\",\"#ab63fa\",\"#FFA15A\",\"#19d3f3\",\"#FF6692\",\"#B6E880\",\"#FF97FF\",\"#FECB52\"],\"font\":{\"color\":\"#2a3f5f\"},\"geo\":{\"bgcolor\":\"white\",\"lakecolor\":\"white\",\"landcolor\":\"#E5ECF6\",\"showlakes\":true,\"showland\":true,\"subunitcolor\":\"white\"},\"hoverlabel\":{\"align\":\"left\"},\"hovermode\":\"closest\",\"mapbox\":{\"style\":\"light\"},\"paper_bgcolor\":\"white\",\"plot_bgcolor\":\"#E5ECF6\",\"polar\":{\"angularaxis\":{\"gridcolor\":\"white\",\"linecolor\":\"white\",\"ticks\":\"\"},\"bgcolor\":\"#E5ECF6\",\"radialaxis\":{\"gridcolor\":\"white\",\"linecolor\":\"white\",\"ticks\":\"\"}},\"scene\":{\"xaxis\":{\"backgroundcolor\":\"#E5ECF6\",\"gridcolor\":\"white\",\"gridwidth\":2,\"linecolor\":\"white\",\"showbackground\":true,\"ticks\":\"\",\"zerolinecolor\":\"white\"},\"yaxis\":{\"backgroundcolor\":\"#E5ECF6\",\"gridcolor\":\"white\",\"gridwidth\":2,\"linecolor\":\"white\",\"showbackground\":true,\"ticks\":\"\",\"zerolinecolor\":\"white\"},\"zaxis\":{\"backgroundcolor\":\"#E5ECF6\",\"gridcolor\":\"white\",\"gridwidth\":2,\"linecolor\":\"white\",\"showbackground\":true,\"ticks\":\"\",\"zerolinecolor\":\"white\"}},\"shapedefaults\":{\"line\":{\"color\":\"#2a3f5f\"}},\"ternary\":{\"aaxis\":{\"gridcolor\":\"white\",\"linecolor\":\"white\",\"ticks\":\"\"},\"baxis\":{\"gridcolor\":\"white\",\"linecolor\":\"white\",\"ticks\":\"\"},\"bgcolor\":\"#E5ECF6\",\"caxis\":{\"gridcolor\":\"white\",\"linecolor\":\"white\",\"ticks\":\"\"}},\"title\":{\"x\":0.05},\"xaxis\":{\"automargin\":true,\"gridcolor\":\"white\",\"linecolor\":\"white\",\"ticks\":\"\",\"title\":{\"standoff\":15},\"zerolinecolor\":\"white\",\"zerolinewidth\":2},\"yaxis\":{\"automargin\":true,\"gridcolor\":\"white\",\"linecolor\":\"white\",\"ticks\":\"\",\"title\":{\"standoff\":15},\"zerolinecolor\":\"white\",\"zerolinewidth\":2}}},\"xaxis\":{\"anchor\":\"y\",\"domain\":[0.0,0.22999999999999998],\"title\":{\"text\":\"index\"}},\"yaxis\":{\"anchor\":\"x\",\"domain\":[0.0,1.0],\"title\":{\"text\":\"FIT\"}},\"xaxis2\":{\"anchor\":\"y2\",\"domain\":[0.24999999999999997,0.48],\"matches\":\"x\",\"title\":{\"text\":\"index\"}},\"yaxis2\":{\"anchor\":\"x2\",\"domain\":[0.0,1.0],\"matches\":\"y\",\"showticklabels\":false},\"xaxis3\":{\"anchor\":\"y3\",\"domain\":[0.49999999999999994,0.73],\"matches\":\"x\",\"title\":{\"text\":\"index\"}},\"yaxis3\":{\"anchor\":\"x3\",\"domain\":[0.0,1.0],\"matches\":\"y\",\"showticklabels\":false},\"xaxis4\":{\"anchor\":\"y4\",\"domain\":[0.75,0.98],\"matches\":\"x\",\"title\":{\"text\":\"index\"}},\"yaxis4\":{\"anchor\":\"x4\",\"domain\":[0.0,1.0],\"matches\":\"y\",\"showticklabels\":false},\"annotations\":[{\"font\":{},\"showarrow\":false,\"text\":\"est_type=ZERO\",\"x\":0.11499999999999999,\"xanchor\":\"center\",\"xref\":\"paper\",\"y\":1.0,\"yanchor\":\"bottom\",\"yref\":\"paper\"},{\"font\":{},\"showarrow\":false,\"text\":\"est_type=FF\",\"x\":0.365,\"xanchor\":\"center\",\"xref\":\"paper\",\"y\":1.0,\"yanchor\":\"bottom\",\"yref\":\"paper\"},{\"font\":{},\"showarrow\":false,\"text\":\"est_type=LSTM\",\"x\":0.615,\"xanchor\":\"center\",\"xref\":\"paper\",\"y\":1.0,\"yanchor\":\"bottom\",\"yref\":\"paper\"},{\"font\":{},\"showarrow\":false,\"text\":\"est_type=RAND\",\"x\":0.865,\"xanchor\":\"center\",\"xref\":\"paper\",\"y\":1.0,\"yanchor\":\"bottom\",\"yref\":\"paper\"},{\"font\":{},\"showarrow\":false,\"text\":\"est_direction=forward\",\"textangle\":90,\"x\":0.98,\"xanchor\":\"left\",\"xref\":\"paper\",\"y\":0.5,\"yanchor\":\"middle\",\"yref\":\"paper\"}],\"legend\":{\"title\":{\"text\":\"seq_len\"},\"tracegroupgap\":0},\"margin\":{\"t\":60}},                        {\"responsive\": true}                    ).then(function(){\n",
       "                            \n",
       "var gd = document.getElementById('82278d81-f2eb-4588-8bd7-4a4d12368dbf');\n",
       "var x = new MutationObserver(function (mutations, observer) {{\n",
       "        var display = window.getComputedStyle(gd).display;\n",
       "        if (!display || display === 'none') {{\n",
       "            console.log([gd, 'removed!']);\n",
       "            Plotly.purge(gd);\n",
       "            observer.disconnect();\n",
       "        }}\n",
       "}});\n",
       "\n",
       "// Listen for the removal of the full notebook cells\n",
       "var notebookContainer = gd.closest('#notebook-container');\n",
       "if (notebookContainer) {{\n",
       "    x.observe(notebookContainer, {childList: true});\n",
       "}}\n",
       "\n",
       "// Listen for the clearing of the current output cell\n",
       "var outputEl = gd.closest('.output');\n",
       "if (outputEl) {{\n",
       "    x.observe(outputEl, {childList: true});\n",
       "}}\n",
       "\n",
       "                        })                };                });            </script>        </div>"
      ]
     },
     "metadata": {},
     "output_type": "display_data"
    }
   ],
   "source": [
    "fig = px.scatter(df_res, y=\"FIT\",\n",
    "                 facet_col=\"est_type\", facet_row=\"est_direction\", color=\"seq_len\",\n",
    "                 hover_data=[\"max_time\", \"seq_est_len\"])\n",
    "fig.show()"
   ]
  },
  {
   "cell_type": "code",
   "execution_count": 82,
   "id": "2e699c9e",
   "metadata": {},
   "outputs": [],
   "source": [
    "df_30min = df_res[(df_res[\"max_time\"] != 300)]"
   ]
  },
  {
   "cell_type": "code",
   "execution_count": 83,
   "id": "3ad941d4",
   "metadata": {},
   "outputs": [
    {
     "data": {
      "image/png": "[encoded data removed]",
      "text/plain": [
       "<Figure size 900x360 with 5 Axes>"
      ]
     },
     "metadata": {
      "needs_background": "light"
     },
     "output_type": "display_data"
    }
   ],
   "source": [
    "# Full results: main effects\n",
    "g = sns.PairGrid(df_30min, y_vars=response,\n",
    "                 x_vars=factors,\n",
    "                 height=5, aspect=.5)\n",
    "g.map(sns.pointplot, scale=1.3)\n",
    "sns.despine(fig=g.fig, left=True)"
   ]
  },
  {
   "cell_type": "code",
   "execution_count": 84,
   "id": "f9d93033",
   "metadata": {},
   "outputs": [],
   "source": [
    "df_zero= df_res[(df_res[\"max_time\"] != 300) & ((df_res[\"est_type\"] == \"ZERO\"))]"
   ]
  },
  {
   "cell_type": "code",
   "execution_count": 85,
   "id": "d44d95ff",
   "metadata": {},
   "outputs": [
    {
     "data": {
      "image/png": "[encoded data removed]",
      "text/plain": [
       "<Figure size 900x360 with 5 Axes>"
      ]
     },
     "metadata": {
      "needs_background": "light"
     },
     "output_type": "display_data"
    }
   ],
   "source": [
    "# Full results: main effects\n",
    "g = sns.PairGrid(df_zero, y_vars=response,\n",
    "                 x_vars=factors,\n",
    "                 height=5, aspect=.5)\n",
    "g.map(sns.pointplot, scale=1.3)\n",
    "sns.despine(fig=g.fig, left=True)"
   ]
  },
  {
   "cell_type": "code",
   "execution_count": 86,
   "id": "8ce8bf95",
   "metadata": {},
   "outputs": [],
   "source": [
    "df_5min = df_res[(df_res[\"max_time\"] == 300)]"
   ]
  },
  {
   "cell_type": "code",
   "execution_count": 87,
   "id": "7495c3dd",
   "metadata": {},
   "outputs": [
    {
     "data": {
      "image/png": "[encoded data removed]",
      "text/plain": [
       "<Figure size 900x360 with 5 Axes>"
      ]
     },
     "metadata": {
      "needs_background": "light"
     },
     "output_type": "display_data"
    }
   ],
   "source": [
    "# Full results: main effects\n",
    "g = sns.PairGrid(df_5min, y_vars=response,\n",
    "                 x_vars=factors,\n",
    "                 height=5, aspect=.5)\n",
    "g.map(sns.pointplot, scale=1.3)\n",
    "sns.despine(fig=g.fig, left=True)"
   ]
  },
  {
   "cell_type": "code",
   "execution_count": 88,
   "id": "4a74633f",
   "metadata": {},
   "outputs": [],
   "source": [
    "df_good = df_res[(df_res[\"max_time\"] != 300) & (df_res[\"est_type\"]== \"FF\")]"
   ]
  },
  {
   "cell_type": "code",
   "execution_count": 89,
   "id": "49ecc9f4",
   "metadata": {},
   "outputs": [
    {
     "data": {
      "image/png": "[encoded data removed]",
      "text/plain": [
       "<Figure size 900x360 with 5 Axes>"
      ]
     },
     "metadata": {
      "needs_background": "light"
     },
     "output_type": "display_data"
    }
   ],
   "source": [
    "# Full results: main effects\n",
    "g = sns.PairGrid(df_good, y_vars=response,\n",
    "                 x_vars=factors,\n",
    "                 height=5, aspect=.5)\n",
    "g.map(sns.pointplot, scale=1.3)\n",
    "sns.despine(fig=g.fig, left=True)"
   ]
  },
  {
   "cell_type": "code",
   "execution_count": 90,
   "id": "197dd8e5",
   "metadata": {},
   "outputs": [
    {
     "data": {
      "application/vnd.plotly.v1+json": {
       "config": {
        "plotlyServerURL": "https://plot.ly"
       },
       "data": [
        {
         "customdata": [
          [
           3600,
           80
          ],
          [
           3600,
           80
          ],
          [
           3600,
           40
          ],
          [
           3600,
           20
          ],
          [
           1800,
           40
          ],
          [
           3600,
           20
          ],
          [
           3600,
           40
          ],
          [
           3600,
           80
          ],
          [
           1800,
           80
          ],
          [
           3600,
           20
          ],
          [
           1800,
           40
          ],
          [
           1800,
           80
          ],
          [
           1800,
           80
          ],
          [
           1800,
           20
          ],
          [
           1800,
           20
          ],
          [
           3600,
           10
          ],
          [
           1800,
           80
          ],
          [
           1800,
           10
          ],
          [
           3600,
           10
          ],
          [
           1800,
           10
          ],
          [
           3600,
           40
          ],
          [
           3600,
           40
          ],
          [
           1800,
           20
          ],
          [
           1800,
           20
          ],
          [
           1800,
           10
          ],
          [
           3600,
           10
          ],
          [
           3600,
           80
          ],
          [
           1800,
           40
          ],
          [
           3600,
           10
          ],
          [
           1800,
           40
          ],
          [
           1800,
           10
          ],
          [
           3600,
           20
          ]
         ],
         "hovertemplate": "seq_len=40<br>est_direction=forward<br>est_type=ZERO<br>index=%{x}<br>FIT=%{y}<br>max_time=%{customdata[0]}<br>seq_est_len=%{customdata[1]}<extra></extra>",
         "legendgroup": "40",
         "marker": {
          "color": "#636efa",
          "symbol": "circle"
         },
         "mode": "markers",
         "name": "40",
         "orientation": "v",
         "showlegend": true,
         "type": "scatter",
         "x": [
          272,
          254,
          16,
          194,
          382,
          106,
          143,
          162,
          22,
          388,
          59,
          109,
          385,
          89,
          235,
          48,
          379,
          291,
          266,
          384,
          431,
          449,
          504,
          565,
          576,
          590,
          622,
          626,
          630,
          691,
          714,
          721
         ],
         "xaxis": "x",
         "y": [
          98.9822998046875,
          98.59496307373048,
          98.46517944335938,
          98.29285430908205,
          98.28487396240234,
          98.27808380126952,
          98.2520523071289,
          98.23013305664062,
          98.22616577148438,
          98.126708984375,
          98.03192901611328,
          98.0113296508789,
          97.86359405517578,
          97.78947448730467,
          97.52886962890624,
          96.21514129638672,
          96.08468627929688,
          95.87155151367188,
          95.79630279541016,
          95.55643463134766,
          0,
          0,
          0,
          0,
          0,
          0,
          0,
          0,
          0,
          0,
          0,
          0
         ],
         "yaxis": "y"
        },
        {
         "customdata": [
          [
           1800,
           40
          ],
          [
           3600,
           20
          ],
          [
           1800,
           20
          ],
          [
           3600,
           80
          ],
          [
           1800,
           40
          ],
          [
           3600,
           80
          ],
          [
           1800,
           10
          ],
          [
           3600,
           40
          ],
          [
           3600,
           20
          ],
          [
           1800,
           40
          ],
          [
           1800,
           80
          ],
          [
           3600,
           80
          ],
          [
           1800,
           40
          ],
          [
           1800,
           20
          ],
          [
           3600,
           40
          ],
          [
           1800,
           80
          ],
          [
           3600,
           10
          ],
          [
           3600,
           20
          ],
          [
           3600,
           10
          ],
          [
           1800,
           80
          ],
          [
           1800,
           10
          ],
          [
           3600,
           20
          ],
          [
           3600,
           80
          ],
          [
           1800,
           10
          ],
          [
           1800,
           20
          ],
          [
           1800,
           80
          ],
          [
           1800,
           10
          ],
          [
           3600,
           10
          ],
          [
           3600,
           40
          ],
          [
           1800,
           20
          ],
          [
           3600,
           10
          ],
          [
           3600,
           40
          ]
         ],
         "hovertemplate": "seq_len=40<br>est_direction=forward<br>est_type=FF<br>index=%{x}<br>FIT=%{y}<br>max_time=%{customdata[0]}<br>seq_est_len=%{customdata[1]}<extra></extra>",
         "legendgroup": "40",
         "marker": {
          "color": "#636efa",
          "symbol": "circle"
         },
         "mode": "markers",
         "name": "40",
         "orientation": "v",
         "showlegend": false,
         "type": "scatter",
         "x": [
          65,
          169,
          346,
          198,
          223,
          230,
          151,
          117,
          185,
          17,
          360,
          144,
          8,
          408,
          425,
          433,
          458,
          471,
          497,
          503,
          506,
          516,
          527,
          614,
          618,
          636,
          655,
          677,
          693,
          700,
          717,
          728
         ],
         "xaxis": "x2",
         "y": [
          98.3453598022461,
          98.20547485351562,
          98.03399658203124,
          98.02054595947266,
          98.01161193847656,
          97.87474060058594,
          97.70951080322266,
          97.6865692138672,
          97.50324249267578,
          97.43515014648438,
          97.4060287475586,
          97.17020416259766,
          96.41548919677734,
          0,
          0,
          0,
          0,
          0,
          0,
          0,
          0,
          0,
          0,
          0,
          0,
          0,
          0,
          0,
          0,
          0,
          0,
          0
         ],
         "yaxis": "y2"
        },
        {
         "customdata": [
          [
           3600,
           40
          ],
          [
           1800,
           80
          ],
          [
           3600,
           20
          ],
          [
           3600,
           10
          ],
          [
           1800,
           10
          ],
          [
           3600,
           40
          ],
          [
           3600,
           20
          ],
          [
           3600,
           80
          ],
          [
           3600,
           20
          ],
          [
           1800,
           80
          ],
          [
           3600,
           40
          ],
          [
           1800,
           20
          ],
          [
           1800,
           20
          ],
          [
           3600,
           80
          ],
          [
           1800,
           10
          ],
          [
           3600,
           10
          ],
          [
           1800,
           20
          ],
          [
           3600,
           10
          ],
          [
           3600,
           80
          ],
          [
           1800,
           20
          ],
          [
           1800,
           10
          ],
          [
           1800,
           40
          ],
          [
           1800,
           40
          ],
          [
           3600,
           10
          ],
          [
           1800,
           40
          ],
          [
           1800,
           80
          ],
          [
           3600,
           20
          ],
          [
           1800,
           40
          ],
          [
           3600,
           40
          ],
          [
           3600,
           80
          ],
          [
           1800,
           10
          ],
          [
           1800,
           80
          ]
         ],
         "hovertemplate": "seq_len=40<br>est_direction=forward<br>est_type=LSTM<br>index=%{x}<br>FIT=%{y}<br>max_time=%{customdata[0]}<br>seq_est_len=%{customdata[1]}<extra></extra>",
         "legendgroup": "40",
         "marker": {
          "color": "#636efa",
          "symbol": "circle"
         },
         "mode": "markers",
         "name": "40",
         "orientation": "v",
         "showlegend": false,
         "type": "scatter",
         "x": [
          226,
          229,
          376,
          180,
          145,
          281,
          32,
          125,
          352,
          67,
          243,
          150,
          270,
          92,
          255,
          222,
          345,
          418,
          483,
          505,
          536,
          562,
          572,
          608,
          611,
          624,
          692,
          715,
          719,
          734,
          738,
          749
         ],
         "xaxis": "x3",
         "y": [
          98.56266021728516,
          98.54762268066406,
          98.49971771240234,
          98.47180938720705,
          98.4502410888672,
          98.40106201171876,
          98.3873519897461,
          98.38286590576172,
          98.36528778076172,
          98.16822052001952,
          98.07008361816406,
          97.96075439453124,
          97.93726348876952,
          97.64984130859376,
          97.53936767578124,
          97.22595977783205,
          96.70923614501952,
          0,
          0,
          0,
          0,
          0,
          0,
          0,
          0,
          0,
          0,
          0,
          0,
          0,
          0,
          0
         ],
         "yaxis": "y3"
        },
        {
         "customdata": [
          [
           3600,
           40
          ],
          [
           3600,
           80
          ],
          [
           3600,
           80
          ],
          [
           1800,
           80
          ],
          [
           3600,
           20
          ],
          [
           3600,
           20
          ],
          [
           1800,
           20
          ],
          [
           1800,
           20
          ],
          [
           1800,
           40
          ],
          [
           3600,
           80
          ],
          [
           1800,
           40
          ],
          [
           1800,
           40
          ],
          [
           3600,
           10
          ],
          [
           1800,
           10
          ],
          [
           1800,
           10
          ],
          [
           3600,
           10
          ],
          [
           3600,
           10
          ],
          [
           3600,
           10
          ],
          [
           1800,
           10
          ],
          [
           1800,
           80
          ],
          [
           1800,
           20
          ],
          [
           1800,
           40
          ],
          [
           3600,
           80
          ],
          [
           3600,
           40
          ],
          [
           1800,
           20
          ],
          [
           3600,
           20
          ],
          [
           1800,
           80
          ],
          [
           3600,
           40
          ],
          [
           3600,
           40
          ],
          [
           1800,
           10
          ],
          [
           3600,
           20
          ],
          [
           1800,
           80
          ]
         ],
         "hovertemplate": "seq_len=40<br>est_direction=forward<br>est_type=RAND<br>index=%{x}<br>FIT=%{y}<br>max_time=%{customdata[0]}<br>seq_est_len=%{customdata[1]}<extra></extra>",
         "legendgroup": "40",
         "marker": {
          "color": "#636efa",
          "symbol": "circle"
         },
         "mode": "markers",
         "name": "40",
         "orientation": "v",
         "showlegend": false,
         "type": "scatter",
         "x": [
          116,
          256,
          40,
          23,
          259,
          283,
          128,
          377,
          290,
          391,
          210,
          342,
          218,
          3,
          238,
          390,
          30,
          95,
          394,
          416,
          429,
          434,
          482,
          523,
          558,
          641,
          659,
          669,
          685,
          705,
          731,
          761
         ],
         "xaxis": "x4",
         "y": [
          98.45996856689452,
          98.41143798828124,
          98.21053314208984,
          98.13873291015624,
          98.1014404296875,
          97.92639923095705,
          97.84007263183594,
          97.78244018554688,
          97.7663803100586,
          97.7238540649414,
          97.66934967041016,
          97.58937072753906,
          95.30123138427734,
          95.2461395263672,
          95.17118072509766,
          94.8093719482422,
          94.7275161743164,
          94.53546142578124,
          94.45772552490234,
          0,
          0,
          0,
          0,
          0,
          0,
          0,
          0,
          0,
          0,
          0,
          0,
          0
         ],
         "yaxis": "y4"
        },
        {
         "customdata": [
          [
           3600,
           80
          ],
          [
           3600,
           20
          ],
          [
           3600,
           20
          ],
          [
           3600,
           40
          ],
          [
           3600,
           40
          ],
          [
           3600,
           20
          ],
          [
           3600,
           80
          ],
          [
           3600,
           20
          ],
          [
           3600,
           40
          ],
          [
           1800,
           10
          ],
          [
           1800,
           20
          ],
          [
           1800,
           10
          ],
          [
           1800,
           40
          ],
          [
           3600,
           80
          ],
          [
           1800,
           80
          ],
          [
           1800,
           80
          ],
          [
           1800,
           20
          ],
          [
           1800,
           40
          ],
          [
           1800,
           10
          ],
          [
           3600,
           10
          ],
          [
           1800,
           80
          ],
          [
           1800,
           10
          ],
          [
           3600,
           10
          ],
          [
           1800,
           40
          ],
          [
           1800,
           20
          ],
          [
           3600,
           10
          ],
          [
           1800,
           40
          ],
          [
           1800,
           80
          ],
          [
           3600,
           40
          ],
          [
           3600,
           80
          ],
          [
           1800,
           20
          ],
          [
           3600,
           10
          ]
         ],
         "hovertemplate": "seq_len=160<br>est_direction=forward<br>est_type=ZERO<br>index=%{x}<br>FIT=%{y}<br>max_time=%{customdata[0]}<br>seq_est_len=%{customdata[1]}<extra></extra>",
         "legendgroup": "160",
         "marker": {
          "color": "#EF553B",
          "symbol": "circle"
         },
         "mode": "markers",
         "name": "160",
         "orientation": "v",
         "showlegend": true,
         "type": "scatter",
         "x": [
          339,
          113,
          182,
          52,
          98,
          219,
          154,
          173,
          121,
          88,
          341,
          175,
          419,
          439,
          442,
          473,
          528,
          538,
          543,
          545,
          546,
          555,
          595,
          648,
          667,
          672,
          679,
          733,
          737,
          750,
          755,
          763
         ],
         "xaxis": "x",
         "y": [
          98.53609466552734,
          98.41806030273438,
          98.29102325439452,
          98.26820373535156,
          98.20922088623048,
          98.20298767089844,
          98.19523620605467,
          98.11810302734376,
          98.01966857910156,
          97.7303237915039,
          97.62073516845705,
          96.0687255859375,
          0,
          0,
          0,
          0,
          0,
          0,
          0,
          0,
          0,
          0,
          0,
          0,
          0,
          0,
          0,
          0,
          0,
          0,
          0,
          0
         ],
         "yaxis": "y"
        },
        {
         "customdata": [
          [
           3600,
           80
          ],
          [
           3600,
           10
          ],
          [
           3600,
           10
          ],
          [
           3600,
           40
          ],
          [
           3600,
           10
          ],
          [
           3600,
           40
          ],
          [
           3600,
           20
          ],
          [
           1800,
           40
          ],
          [
           1800,
           80
          ],
          [
           3600,
           10
          ],
          [
           3600,
           80
          ],
          [
           1800,
           80
          ],
          [
           1800,
           10
          ],
          [
           1800,
           10
          ],
          [
           1800,
           20
          ],
          [
           1800,
           20
          ],
          [
           1800,
           40
          ],
          [
           1800,
           20
          ],
          [
           1800,
           10
          ],
          [
           3600,
           20
          ],
          [
           1800,
           40
          ],
          [
           3600,
           40
          ],
          [
           3600,
           80
          ],
          [
           1800,
           10
          ],
          [
           1800,
           20
          ],
          [
           1800,
           80
          ],
          [
           3600,
           20
          ],
          [
           3600,
           80
          ],
          [
           1800,
           80
          ],
          [
           3600,
           20
          ],
          [
           1800,
           40
          ],
          [
           3600,
           40
          ]
         ],
         "hovertemplate": "seq_len=160<br>est_direction=forward<br>est_type=FF<br>index=%{x}<br>FIT=%{y}<br>max_time=%{customdata[0]}<br>seq_est_len=%{customdata[1]}<extra></extra>",
         "legendgroup": "160",
         "marker": {
          "color": "#EF553B",
          "symbol": "circle"
         },
         "mode": "markers",
         "name": "160",
         "orientation": "v",
         "showlegend": false,
         "type": "scatter",
         "x": [
          97,
          278,
          401,
          167,
          104,
          297,
          304,
          187,
          305,
          276,
          347,
          284,
          11,
          321,
          202,
          250,
          336,
          311,
          79,
          520,
          522,
          531,
          583,
          612,
          634,
          635,
          646,
          660,
          674,
          682,
          701,
          757
         ],
         "xaxis": "x2",
         "y": [
          98.89260864257812,
          98.6295928955078,
          98.5709228515625,
          98.5454559326172,
          98.25696563720705,
          98.1502685546875,
          98.0964813232422,
          98.05298614501952,
          98.00157928466795,
          97.96895599365234,
          97.88835144042967,
          97.71002197265624,
          97.70897674560548,
          97.5455322265625,
          97.48680877685548,
          97.38507080078124,
          96.2197265625,
          96.14468383789062,
          95.86812591552734,
          0,
          0,
          0,
          0,
          0,
          0,
          0,
          0,
          0,
          0,
          0,
          0,
          0
         ],
         "yaxis": "y2"
        },
        {
         "customdata": [
          [
           3600,
           40
          ],
          [
           3600,
           80
          ],
          [
           3600,
           20
          ],
          [
           3600,
           40
          ],
          [
           3600,
           80
          ],
          [
           3600,
           80
          ],
          [
           3600,
           10
          ],
          [
           3600,
           10
          ],
          [
           1800,
           20
          ],
          [
           3600,
           40
          ],
          [
           1800,
           80
          ],
          [
           3600,
           10
          ],
          [
           1800,
           20
          ],
          [
           1800,
           40
          ],
          [
           1800,
           40
          ],
          [
           1800,
           80
          ],
          [
           1800,
           40
          ],
          [
           3600,
           20
          ],
          [
           1800,
           80
          ],
          [
           1800,
           10
          ],
          [
           1800,
           10
          ],
          [
           1800,
           40
          ],
          [
           1800,
           10
          ],
          [
           3600,
           10
          ],
          [
           1800,
           20
          ],
          [
           3600,
           80
          ],
          [
           3600,
           20
          ],
          [
           1800,
           10
          ],
          [
           1800,
           80
          ],
          [
           3600,
           40
          ],
          [
           1800,
           20
          ],
          [
           3600,
           20
          ]
         ],
         "hovertemplate": "seq_len=160<br>est_direction=forward<br>est_type=LSTM<br>index=%{x}<br>FIT=%{y}<br>max_time=%{customdata[0]}<br>seq_est_len=%{customdata[1]}<extra></extra>",
         "legendgroup": "160",
         "marker": {
          "color": "#EF553B",
          "symbol": "circle"
         },
         "mode": "markers",
         "name": "160",
         "orientation": "v",
         "showlegend": false,
         "type": "scatter",
         "x": [
          156,
          177,
          240,
          380,
          103,
          374,
          362,
          364,
          111,
          142,
          159,
          107,
          179,
          237,
          307,
          131,
          371,
          331,
          248,
          90,
          9,
          80,
          64,
          430,
          452,
          454,
          487,
          507,
          550,
          563,
          745,
          767
         ],
         "xaxis": "x3",
         "y": [
          98.87449645996094,
          98.72239685058594,
          98.47417449951172,
          98.41436767578124,
          98.37709045410156,
          98.31326293945312,
          98.224853515625,
          98.22364807128906,
          97.99784088134766,
          97.89966583251952,
          97.89312744140624,
          97.85253143310548,
          97.67752075195312,
          97.5334243774414,
          97.48114013671876,
          97.19743347167967,
          97.17827606201172,
          97.13197326660156,
          96.83387756347656,
          96.82450103759766,
          96.1152114868164,
          96.05825805664062,
          95.7122802734375,
          0,
          0,
          0,
          0,
          0,
          0,
          0,
          0,
          0
         ],
         "yaxis": "y3"
        },
        {
         "customdata": [
          [
           3600,
           80
          ],
          [
           3600,
           80
          ],
          [
           3600,
           20
          ],
          [
           3600,
           20
          ],
          [
           3600,
           20
          ],
          [
           1800,
           40
          ],
          [
           3600,
           40
          ],
          [
           1800,
           20
          ],
          [
           1800,
           20
          ],
          [
           3600,
           80
          ],
          [
           1800,
           40
          ],
          [
           1800,
           10
          ],
          [
           1800,
           80
          ],
          [
           1800,
           80
          ],
          [
           1800,
           40
          ],
          [
           1800,
           10
          ],
          [
           1800,
           20
          ],
          [
           3600,
           40
          ],
          [
           3600,
           40
          ],
          [
           3600,
           10
          ],
          [
           3600,
           40
          ],
          [
           1800,
           20
          ],
          [
           1800,
           80
          ],
          [
           3600,
           20
          ],
          [
           1800,
           40
          ],
          [
           1800,
           10
          ],
          [
           3600,
           10
          ],
          [
           3600,
           80
          ],
          [
           1800,
           10
          ],
          [
           3600,
           10
          ],
          [
           3600,
           10
          ],
          [
           1800,
           80
          ]
         ],
         "hovertemplate": "seq_len=160<br>est_direction=forward<br>est_type=RAND<br>index=%{x}<br>FIT=%{y}<br>max_time=%{customdata[0]}<br>seq_est_len=%{customdata[1]}<extra></extra>",
         "legendgroup": "160",
         "marker": {
          "color": "#EF553B",
          "symbol": "circle"
         },
         "mode": "markers",
         "name": "160",
         "orientation": "v",
         "showlegend": false,
         "type": "scatter",
         "x": [
          165,
          353,
          63,
          262,
          325,
          358,
          350,
          316,
          298,
          87,
          334,
          193,
          42,
          15,
          335,
          406,
          428,
          456,
          460,
          484,
          492,
          513,
          540,
          574,
          589,
          603,
          606,
          620,
          623,
          653,
          699,
          740
         ],
         "xaxis": "x4",
         "y": [
          98.84634399414062,
          98.51385498046876,
          98.33273315429688,
          98.20410919189452,
          98.06781768798828,
          98.03111267089844,
          97.97834014892578,
          97.9289779663086,
          97.88429260253906,
          97.77166748046876,
          97.7704620361328,
          97.56527709960938,
          97.32997131347656,
          97.212646484375,
          96.3361587524414,
          0,
          0,
          0,
          0,
          0,
          0,
          0,
          0,
          0,
          0,
          0,
          0,
          0,
          0,
          0,
          0,
          0
         ],
         "yaxis": "y4"
        },
        {
         "customdata": [
          [
           3600,
           80
          ],
          [
           3600,
           40
          ],
          [
           3600,
           20
          ],
          [
           3600,
           40
          ],
          [
           1800,
           20
          ],
          [
           1800,
           80
          ],
          [
           1800,
           20
          ],
          [
           3600,
           80
          ],
          [
           3600,
           20
          ],
          [
           1800,
           40
          ],
          [
           3600,
           80
          ],
          [
           3600,
           10
          ],
          [
           1800,
           40
          ],
          [
           1800,
           40
          ],
          [
           3600,
           10
          ],
          [
           1800,
           10
          ],
          [
           3600,
           10
          ],
          [
           3600,
           20
          ],
          [
           3600,
           10
          ],
          [
           1800,
           80
          ],
          [
           1800,
           10
          ],
          [
           3600,
           40
          ],
          [
           3600,
           80
          ],
          [
           1800,
           20
          ],
          [
           1800,
           80
          ],
          [
           1800,
           40
          ],
          [
           1800,
           10
          ],
          [
           1800,
           10
          ],
          [
           3600,
           20
          ],
          [
           3600,
           40
          ],
          [
           1800,
           80
          ],
          [
           1800,
           20
          ]
         ],
         "hovertemplate": "seq_len=80<br>est_direction=forward<br>est_type=ZERO<br>index=%{x}<br>FIT=%{y}<br>max_time=%{customdata[0]}<br>seq_est_len=%{customdata[1]}<extra></extra>",
         "legendgroup": "80",
         "marker": {
          "color": "#00cc96",
          "symbol": "circle"
         },
         "mode": "markers",
         "name": "80",
         "orientation": "v",
         "showlegend": true,
         "type": "scatter",
         "x": [
          231,
          96,
          153,
          322,
          176,
          395,
          77,
          94,
          275,
          36,
          355,
          398,
          34,
          220,
          110,
          293,
          7,
          438,
          450,
          467,
          526,
          535,
          552,
          569,
          601,
          602,
          609,
          627,
          642,
          668,
          689,
          703
         ],
         "xaxis": "x",
         "y": [
          98.51893615722656,
          98.51094818115234,
          98.23980712890624,
          98.11681365966795,
          98.09375,
          98.01885986328124,
          97.97763061523438,
          97.96083068847656,
          97.5778350830078,
          97.3684539794922,
          97.15225982666016,
          97.0301284790039,
          97.01844787597656,
          96.9895477294922,
          96.88873291015624,
          96.41498565673828,
          96.32294464111328,
          0,
          0,
          0,
          0,
          0,
          0,
          0,
          0,
          0,
          0,
          0,
          0,
          0,
          0,
          0
         ],
         "yaxis": "y"
        },
        {
         "customdata": [
          [
           3600,
           80
          ],
          [
           3600,
           20
          ],
          [
           3600,
           40
          ],
          [
           3600,
           40
          ],
          [
           3600,
           40
          ],
          [
           1800,
           20
          ],
          [
           3600,
           20
          ],
          [
           3600,
           10
          ],
          [
           1800,
           80
          ],
          [
           1800,
           40
          ],
          [
           1800,
           40
          ],
          [
           3600,
           80
          ],
          [
           1800,
           20
          ],
          [
           1800,
           10
          ],
          [
           1800,
           20
          ],
          [
           1800,
           80
          ],
          [
           3600,
           10
          ],
          [
           1800,
           20
          ],
          [
           1800,
           40
          ],
          [
           1800,
           10
          ],
          [
           1800,
           10
          ],
          [
           3600,
           20
          ],
          [
           1800,
           80
          ],
          [
           3600,
           40
          ],
          [
           1800,
           80
          ],
          [
           3600,
           20
          ],
          [
           3600,
           80
          ],
          [
           1800,
           40
          ],
          [
           3600,
           80
          ],
          [
           3600,
           10
          ],
          [
           1800,
           10
          ],
          [
           3600,
           10
          ]
         ],
         "hovertemplate": "seq_len=80<br>est_direction=forward<br>est_type=FF<br>index=%{x}<br>FIT=%{y}<br>max_time=%{customdata[0]}<br>seq_est_len=%{customdata[1]}<extra></extra>",
         "legendgroup": "80",
         "marker": {
          "color": "#00cc96",
          "symbol": "circle"
         },
         "mode": "markers",
         "name": "80",
         "orientation": "v",
         "showlegend": false,
         "type": "scatter",
         "x": [
          99,
          196,
          295,
          120,
          10,
          199,
          29,
          269,
          155,
          204,
          122,
          147,
          221,
          233,
          115,
          206,
          404,
          465,
          470,
          501,
          547,
          554,
          580,
          588,
          591,
          592,
          593,
          604,
          652,
          695,
          702,
          743
         ],
         "xaxis": "x2",
         "y": [
          98.64631652832033,
          98.57167053222656,
          98.20565795898438,
          98.09747314453124,
          98.0408935546875,
          97.98326873779295,
          97.88493347167967,
          97.84000396728516,
          97.82108306884766,
          97.7882308959961,
          97.76944732666016,
          97.7547378540039,
          97.66747283935548,
          97.47201538085938,
          97.4083480834961,
          97.15495300292967,
          0,
          0,
          0,
          0,
          0,
          0,
          0,
          0,
          0,
          0,
          0,
          0,
          0,
          0,
          0,
          0
         ],
         "yaxis": "y2"
        },
        {
         "customdata": [
          [
           3600,
           20
          ],
          [
           3600,
           40
          ],
          [
           3600,
           10
          ],
          [
           3600,
           10
          ],
          [
           3600,
           10
          ],
          [
           1800,
           40
          ],
          [
           1800,
           10
          ],
          [
           3600,
           80
          ],
          [
           1800,
           40
          ],
          [
           1800,
           20
          ],
          [
           1800,
           20
          ],
          [
           3600,
           80
          ],
          [
           1800,
           40
          ],
          [
           1800,
           10
          ],
          [
           1800,
           80
          ],
          [
           1800,
           40
          ],
          [
           1800,
           80
          ],
          [
           1800,
           80
          ],
          [
           3600,
           10
          ],
          [
           1800,
           20
          ],
          [
           1800,
           20
          ],
          [
           1800,
           10
          ],
          [
           3600,
           40
          ],
          [
           3600,
           40
          ],
          [
           3600,
           20
          ],
          [
           3600,
           80
          ],
          [
           1800,
           80
          ],
          [
           1800,
           10
          ],
          [
           3600,
           20
          ],
          [
           3600,
           20
          ],
          [
           3600,
           80
          ],
          [
           3600,
           40
          ]
         ],
         "hovertemplate": "seq_len=80<br>est_direction=forward<br>est_type=LSTM<br>index=%{x}<br>FIT=%{y}<br>max_time=%{customdata[0]}<br>seq_est_len=%{customdata[1]}<extra></extra>",
         "legendgroup": "80",
         "marker": {
          "color": "#00cc96",
          "symbol": "circle"
         },
         "mode": "markers",
         "name": "80",
         "orientation": "v",
         "showlegend": false,
         "type": "scatter",
         "x": [
          184,
          26,
          303,
          186,
          132,
          68,
          244,
          58,
          397,
          118,
          393,
          39,
          239,
          183,
          197,
          217,
          480,
          493,
          494,
          534,
          542,
          599,
          658,
          663,
          678,
          681,
          713,
          720,
          722,
          725,
          736,
          753
         ],
         "xaxis": "x3",
         "y": [
          98.66903686523438,
          98.64541625976562,
          98.6107940673828,
          98.57769775390624,
          98.38502502441406,
          98.24124908447266,
          98.02009582519533,
          97.97515106201172,
          97.90099334716795,
          97.9002685546875,
          97.76673126220705,
          97.75092315673828,
          97.63240814208984,
          97.62933349609376,
          97.17689514160156,
          96.65316009521484,
          0,
          0,
          0,
          0,
          0,
          0,
          0,
          0,
          0,
          0,
          0,
          0,
          0,
          0,
          0,
          0
         ],
         "yaxis": "y3"
        },
        {
         "customdata": [
          [
           3600,
           20
          ],
          [
           3600,
           80
          ],
          [
           3600,
           20
          ],
          [
           1800,
           80
          ],
          [
           1800,
           80
          ],
          [
           3600,
           20
          ],
          [
           1800,
           40
          ],
          [
           3600,
           20
          ],
          [
           3600,
           40
          ],
          [
           3600,
           80
          ],
          [
           1800,
           20
          ],
          [
           3600,
           40
          ],
          [
           3600,
           80
          ],
          [
           1800,
           40
          ],
          [
           1800,
           40
          ],
          [
           3600,
           80
          ],
          [
           1800,
           10
          ],
          [
           1800,
           10
          ],
          [
           3600,
           40
          ],
          [
           1800,
           20
          ],
          [
           1800,
           80
          ],
          [
           1800,
           20
          ],
          [
           3600,
           10
          ],
          [
           3600,
           10
          ],
          [
           3600,
           40
          ],
          [
           1800,
           10
          ],
          [
           3600,
           10
          ],
          [
           1800,
           40
          ],
          [
           1800,
           80
          ],
          [
           3600,
           10
          ],
          [
           1800,
           20
          ],
          [
           1800,
           10
          ]
         ],
         "hovertemplate": "seq_len=80<br>est_direction=forward<br>est_type=RAND<br>index=%{x}<br>FIT=%{y}<br>max_time=%{customdata[0]}<br>seq_est_len=%{customdata[1]}<extra></extra>",
         "legendgroup": "80",
         "marker": {
          "color": "#00cc96",
          "symbol": "circle"
         },
         "mode": "markers",
         "name": "80",
         "orientation": "v",
         "showlegend": false,
         "type": "scatter",
         "x": [
          123,
          212,
          215,
          343,
          324,
          18,
          152,
          296,
          141,
          38,
          287,
          208,
          357,
          375,
          158,
          24,
          216,
          149,
          409,
          441,
          459,
          530,
          556,
          568,
          610,
          629,
          651,
          694,
          744,
          754,
          759,
          764
         ],
         "xaxis": "x4",
         "y": [
          98.48509216308594,
          98.44566345214844,
          98.36708068847656,
          98.29581451416016,
          98.2054443359375,
          98.19668579101562,
          98.08969116210938,
          98.08294677734376,
          97.95887756347656,
          97.9363021850586,
          97.83074951171876,
          97.80868530273438,
          97.646240234375,
          97.57915496826172,
          97.49105072021484,
          96.97122955322266,
          96.6952896118164,
          96.68496704101562,
          0,
          0,
          0,
          0,
          0,
          0,
          0,
          0,
          0,
          0,
          0,
          0,
          0,
          0
         ],
         "yaxis": "y4"
        },
        {
         "customdata": [
          [
           3600,
           20
          ],
          [
           3600,
           10
          ],
          [
           3600,
           20
          ],
          [
           3600,
           10
          ],
          [
           1800,
           40
          ],
          [
           3600,
           40
          ],
          [
           1800,
           10
          ],
          [
           3600,
           80
          ],
          [
           1800,
           10
          ],
          [
           1800,
           20
          ],
          [
           1800,
           40
          ],
          [
           1800,
           80
          ],
          [
           1800,
           80
          ],
          [
           1800,
           40
          ],
          [
           3600,
           40
          ],
          [
           3600,
           10
          ],
          [
           3600,
           80
          ],
          [
           3600,
           40
          ],
          [
           3600,
           10
          ],
          [
           3600,
           80
          ],
          [
           1800,
           80
          ],
          [
           1800,
           20
          ],
          [
           3600,
           20
          ],
          [
           3600,
           20
          ],
          [
           1800,
           10
          ],
          [
           1800,
           20
          ],
          [
           1800,
           80
          ],
          [
           1800,
           20
          ],
          [
           1800,
           10
          ],
          [
           3600,
           80
          ],
          [
           1800,
           40
          ],
          [
           3600,
           40
          ]
         ],
         "hovertemplate": "seq_len=320<br>est_direction=forward<br>est_type=ZERO<br>index=%{x}<br>FIT=%{y}<br>max_time=%{customdata[0]}<br>seq_est_len=%{customdata[1]}<extra></extra>",
         "legendgroup": "320",
         "marker": {
          "color": "#ab63fa",
          "symbol": "circle"
         },
         "mode": "markers",
         "name": "320",
         "orientation": "v",
         "showlegend": true,
         "type": "scatter",
         "x": [
          354,
          189,
          191,
          73,
          84,
          241,
          271,
          392,
          81,
          168,
          75,
          356,
          319,
          403,
          423,
          424,
          451,
          477,
          496,
          519,
          521,
          561,
          567,
          582,
          598,
          617,
          640,
          690,
          723,
          727,
          730,
          748
         ],
         "xaxis": "x",
         "y": [
          98.20511627197266,
          98.17539978027344,
          98.04692840576172,
          97.92586517333984,
          97.82604217529295,
          97.1471710205078,
          96.93278503417967,
          96.10822296142578,
          96.103515625,
          95.96310424804688,
          95.62578582763672,
          94.84434509277344,
          94.52093505859376,
          0,
          0,
          0,
          0,
          0,
          0,
          0,
          0,
          0,
          0,
          0,
          0,
          0,
          0,
          0,
          0,
          0,
          0,
          0
         ],
         "yaxis": "y"
        },
        {
         "customdata": [
          [
           3600,
           40
          ],
          [
           3600,
           40
          ],
          [
           3600,
           10
          ],
          [
           3600,
           20
          ],
          [
           3600,
           40
          ],
          [
           3600,
           40
          ],
          [
           1800,
           20
          ],
          [
           1800,
           10
          ],
          [
           1800,
           80
          ],
          [
           1800,
           40
          ],
          [
           1800,
           40
          ],
          [
           1800,
           10
          ],
          [
           1800,
           80
          ],
          [
           1800,
           20
          ],
          [
           1800,
           40
          ],
          [
           1800,
           20
          ],
          [
           3600,
           80
          ],
          [
           1800,
           10
          ],
          [
           1800,
           20
          ],
          [
           3600,
           20
          ],
          [
           1800,
           40
          ],
          [
           3600,
           20
          ],
          [
           1800,
           80
          ],
          [
           3600,
           20
          ],
          [
           3600,
           10
          ],
          [
           3600,
           80
          ],
          [
           3600,
           10
          ],
          [
           3600,
           80
          ],
          [
           1800,
           80
          ],
          [
           1800,
           10
          ],
          [
           3600,
           10
          ],
          [
           3600,
           80
          ]
         ],
         "hovertemplate": "seq_len=320<br>est_direction=forward<br>est_type=FF<br>index=%{x}<br>FIT=%{y}<br>max_time=%{customdata[0]}<br>seq_est_len=%{customdata[1]}<extra></extra>",
         "legendgroup": "320",
         "marker": {
          "color": "#ab63fa",
          "symbol": "circle"
         },
         "mode": "markers",
         "name": "320",
         "orientation": "v",
         "showlegend": false,
         "type": "scatter",
         "x": [
          285,
          302,
          171,
          166,
          0,
          190,
          367,
          130,
          127,
          268,
          93,
          140,
          108,
          351,
          13,
          344,
          478,
          517,
          524,
          541,
          548,
          557,
          566,
          570,
          579,
          596,
          654,
          661,
          684,
          686,
          712,
          716
         ],
         "xaxis": "x2",
         "y": [
          98.42056274414062,
          98.17124938964844,
          98.0155029296875,
          97.92476654052734,
          97.89669799804688,
          97.69694519042967,
          97.63426208496094,
          97.53062438964844,
          97.45431518554688,
          97.218505859375,
          96.6936264038086,
          96.11605834960938,
          95.94401550292967,
          95.89581298828124,
          95.7300796508789,
          95.41888427734376,
          0,
          0,
          0,
          0,
          0,
          0,
          0,
          0,
          0,
          0,
          0,
          0,
          0,
          0,
          0,
          0
         ],
         "yaxis": "y2"
        },
        {
         "customdata": [
          [
           3600,
           80
          ],
          [
           3600,
           40
          ],
          [
           3600,
           10
          ],
          [
           1800,
           10
          ],
          [
           1800,
           40
          ],
          [
           1800,
           40
          ],
          [
           1800,
           80
          ],
          [
           3600,
           20
          ],
          [
           3600,
           20
          ],
          [
           1800,
           40
          ],
          [
           1800,
           40
          ],
          [
           1800,
           20
          ],
          [
           1800,
           10
          ],
          [
           1800,
           80
          ],
          [
           1800,
           10
          ],
          [
           3600,
           80
          ],
          [
           3600,
           40
          ],
          [
           1800,
           80
          ],
          [
           3600,
           20
          ],
          [
           3600,
           40
          ],
          [
           1800,
           20
          ],
          [
           3600,
           10
          ],
          [
           3600,
           20
          ],
          [
           3600,
           10
          ],
          [
           1800,
           20
          ],
          [
           3600,
           80
          ],
          [
           1800,
           20
          ],
          [
           3600,
           10
          ],
          [
           1800,
           10
          ],
          [
           3600,
           40
          ],
          [
           3600,
           80
          ],
          [
           1800,
           80
          ]
         ],
         "hovertemplate": "seq_len=320<br>est_direction=forward<br>est_type=LSTM<br>index=%{x}<br>FIT=%{y}<br>max_time=%{customdata[0]}<br>seq_est_len=%{customdata[1]}<extra></extra>",
         "legendgroup": "320",
         "marker": {
          "color": "#ab63fa",
          "symbol": "circle"
         },
         "mode": "markers",
         "name": "320",
         "orientation": "v",
         "showlegend": false,
         "type": "scatter",
         "x": [
          174,
          313,
          318,
          126,
          134,
          225,
          301,
          396,
          105,
          211,
          129,
          224,
          294,
          309,
          400,
          27,
          329,
          76,
          420,
          444,
          463,
          500,
          511,
          514,
          515,
          581,
          637,
          638,
          664,
          670,
          696,
          746
         ],
         "xaxis": "x3",
         "y": [
          98.5821304321289,
          98.46562957763672,
          97.73106384277344,
          97.72840881347656,
          97.58326721191406,
          97.41413116455078,
          97.39932250976562,
          97.09343719482422,
          97.02660369873048,
          96.6901397705078,
          96.6144790649414,
          96.09786224365234,
          95.97563934326172,
          95.779296875,
          95.7741241455078,
          95.72159576416016,
          94.9228973388672,
          94.6042022705078,
          0,
          0,
          0,
          0,
          0,
          0,
          0,
          0,
          0,
          0,
          0,
          0,
          0,
          0
         ],
         "yaxis": "y3"
        },
        {
         "customdata": [
          [
           3600,
           40
          ],
          [
           3600,
           40
          ],
          [
           3600,
           10
          ],
          [
           3600,
           20
          ],
          [
           1800,
           40
          ],
          [
           3600,
           10
          ],
          [
           3600,
           40
          ],
          [
           3600,
           20
          ],
          [
           3600,
           80
          ],
          [
           1800,
           20
          ],
          [
           1800,
           40
          ],
          [
           1800,
           10
          ],
          [
           1800,
           80
          ],
          [
           1800,
           10
          ],
          [
           3600,
           10
          ],
          [
           1800,
           20
          ],
          [
           1800,
           40
          ],
          [
           3600,
           10
          ],
          [
           1800,
           20
          ],
          [
           1800,
           10
          ],
          [
           1800,
           80
          ],
          [
           3600,
           20
          ],
          [
           3600,
           80
          ],
          [
           1800,
           20
          ],
          [
           3600,
           80
          ],
          [
           1800,
           80
          ],
          [
           1800,
           10
          ],
          [
           1800,
           40
          ],
          [
           1800,
           80
          ],
          [
           3600,
           20
          ],
          [
           3600,
           80
          ],
          [
           3600,
           40
          ]
         ],
         "hovertemplate": "seq_len=320<br>est_direction=forward<br>est_type=RAND<br>index=%{x}<br>FIT=%{y}<br>max_time=%{customdata[0]}<br>seq_est_len=%{customdata[1]}<extra></extra>",
         "legendgroup": "320",
         "marker": {
          "color": "#ab63fa",
          "symbol": "circle"
         },
         "mode": "markers",
         "name": "320",
         "orientation": "v",
         "showlegend": false,
         "type": "scatter",
         "x": [
          310,
          265,
          6,
          20,
          289,
          78,
          21,
          213,
          361,
          245,
          60,
          112,
          359,
          411,
          413,
          427,
          432,
          440,
          446,
          447,
          455,
          475,
          481,
          491,
          539,
          597,
          619,
          647,
          666,
          710,
          735,
          760
         ],
         "xaxis": "x4",
         "y": [
          98.33255767822266,
          98.02599334716795,
          97.8116226196289,
          97.7000503540039,
          97.61370086669922,
          97.5828857421875,
          97.56886291503906,
          97.40907287597656,
          97.2061004638672,
          97.08607482910156,
          96.23152923583984,
          95.92322540283205,
          95.43963623046876,
          0,
          0,
          0,
          0,
          0,
          0,
          0,
          0,
          0,
          0,
          0,
          0,
          0,
          0,
          0,
          0,
          0,
          0,
          0
         ],
         "yaxis": "y4"
        }
       ],
       "layout": {
        "annotations": [
         {
          "font": {},
          "showarrow": false,
          "text": "est_type=ZERO",
          "x": 0.11499999999999999,
          "xanchor": "center",
          "xref": "paper",
          "y": 1,
          "yanchor": "bottom",
          "yref": "paper"
         },
         {
          "font": {},
          "showarrow": false,
          "text": "est_type=FF",
          "x": 0.365,
          "xanchor": "center",
          "xref": "paper",
          "y": 1,
          "yanchor": "bottom",
          "yref": "paper"
         },
         {
          "font": {},
          "showarrow": false,
          "text": "est_type=LSTM",
          "x": 0.615,
          "xanchor": "center",
          "xref": "paper",
          "y": 1,
          "yanchor": "bottom",
          "yref": "paper"
         },
         {
          "font": {},
          "showarrow": false,
          "text": "est_type=RAND",
          "x": 0.865,
          "xanchor": "center",
          "xref": "paper",
          "y": 1,
          "yanchor": "bottom",
          "yref": "paper"
         },
         {
          "font": {},
          "showarrow": false,
          "text": "est_direction=forward",
          "textangle": 90,
          "x": 0.98,
          "xanchor": "left",
          "xref": "paper",
          "y": 0.5,
          "yanchor": "middle",
          "yref": "paper"
         }
        ],
        "legend": {
         "title": {
          "text": "seq_len"
         },
         "tracegroupgap": 0
        },
        "margin": {
         "t": 60
        },
        "template": {
         "data": {
          "bar": [
           {
            "error_x": {
             "color": "#2a3f5f"
            },
            "error_y": {
             "color": "#2a3f5f"
            },
            "marker": {
             "line": {
              "color": "#E5ECF6",
              "width": 0.5
             },
             "pattern": {
              "fillmode": "overlay",
              "size": 10,
              "solidity": 0.2
             }
            },
            "type": "bar"
           }
          ],
          "barpolar": [
           {
            "marker": {
             "line": {
              "color": "#E5ECF6",
              "width": 0.5
             },
             "pattern": {
              "fillmode": "overlay",
              "size": 10,
              "solidity": 0.2
             }
            },
            "type": "barpolar"
           }
          ],
          "carpet": [
           {
            "aaxis": {
             "endlinecolor": "#2a3f5f",
             "gridcolor": "white",
             "linecolor": "white",
             "minorgridcolor": "white",
             "startlinecolor": "#2a3f5f"
            },
            "baxis": {
             "endlinecolor": "#2a3f5f",
             "gridcolor": "white",
             "linecolor": "white",
             "minorgridcolor": "white",
             "startlinecolor": "#2a3f5f"
            },
            "type": "carpet"
           }
          ],
          "choropleth": [
           {
            "colorbar": {
             "outlinewidth": 0,
             "ticks": ""
            },
            "type": "choropleth"
           }
          ],
          "contour": [
           {
            "colorbar": {
             "outlinewidth": 0,
             "ticks": ""
            },
            "colorscale": [
             [
              0,
              "#0d0887"
             ],
             [
              0.1111111111111111,
              "#46039f"
             ],
             [
              0.2222222222222222,
              "#7201a8"
             ],
             [
              0.3333333333333333,
              "#9c179e"
             ],
             [
              0.4444444444444444,
              "#bd3786"
             ],
             [
              0.5555555555555556,
              "#d8576b"
             ],
             [
              0.6666666666666666,
              "#ed7953"
             ],
             [
              0.7777777777777778,
              "#fb9f3a"
             ],
             [
              0.8888888888888888,
              "#fdca26"
             ],
             [
              1,
              "#f0f921"
             ]
            ],
            "type": "contour"
           }
          ],
          "contourcarpet": [
           {
            "colorbar": {
             "outlinewidth": 0,
             "ticks": ""
            },
            "type": "contourcarpet"
           }
          ],
          "heatmap": [
           {
            "colorbar": {
             "outlinewidth": 0,
             "ticks": ""
            },
            "colorscale": [
             [
              0,
              "#0d0887"
             ],
             [
              0.1111111111111111,
              "#46039f"
             ],
             [
              0.2222222222222222,
              "#7201a8"
             ],
             [
              0.3333333333333333,
              "#9c179e"
             ],
             [
              0.4444444444444444,
              "#bd3786"
             ],
             [
              0.5555555555555556,
              "#d8576b"
             ],
             [
              0.6666666666666666,
              "#ed7953"
             ],
             [
              0.7777777777777778,
              "#fb9f3a"
             ],
             [
              0.8888888888888888,
              "#fdca26"
             ],
             [
              1,
              "#f0f921"
             ]
            ],
            "type": "heatmap"
           }
          ],
          "heatmapgl": [
           {
            "colorbar": {
             "outlinewidth": 0,
             "ticks": ""
            },
            "colorscale": [
             [
              0,
              "#0d0887"
             ],
             [
              0.1111111111111111,
              "#46039f"
             ],
             [
              0.2222222222222222,
              "#7201a8"
             ],
             [
              0.3333333333333333,
              "#9c179e"
             ],
             [
              0.4444444444444444,
              "#bd3786"
             ],
             [
              0.5555555555555556,
              "#d8576b"
             ],
             [
              0.6666666666666666,
              "#ed7953"
             ],
             [
              0.7777777777777778,
              "#fb9f3a"
             ],
             [
              0.8888888888888888,
              "#fdca26"
             ],
             [
              1,
              "#f0f921"
             ]
            ],
            "type": "heatmapgl"
           }
          ],
          "histogram": [
           {
            "marker": {
             "pattern": {
              "fillmode": "overlay",
              "size": 10,
              "solidity": 0.2
             }
            },
            "type": "histogram"
           }
          ],
          "histogram2d": [
           {
            "colorbar": {
             "outlinewidth": 0,
             "ticks": ""
            },
            "colorscale": [
             [
              0,
              "#0d0887"
             ],
             [
              0.1111111111111111,
              "#46039f"
             ],
             [
              0.2222222222222222,
              "#7201a8"
             ],
             [
              0.3333333333333333,
              "#9c179e"
             ],
             [
              0.4444444444444444,
              "#bd3786"
             ],
             [
              0.5555555555555556,
              "#d8576b"
             ],
             [
              0.6666666666666666,
              "#ed7953"
             ],
             [
              0.7777777777777778,
              "#fb9f3a"
             ],
             [
              0.8888888888888888,
              "#fdca26"
             ],
             [
              1,
              "#f0f921"
             ]
            ],
            "type": "histogram2d"
           }
          ],
          "histogram2dcontour": [
           {
            "colorbar": {
             "outlinewidth": 0,
             "ticks": ""
            },
            "colorscale": [
             [
              0,
              "#0d0887"
             ],
             [
              0.1111111111111111,
              "#46039f"
             ],
             [
              0.2222222222222222,
              "#7201a8"
             ],
             [
              0.3333333333333333,
              "#9c179e"
             ],
             [
              0.4444444444444444,
              "#bd3786"
             ],
             [
              0.5555555555555556,
              "#d8576b"
             ],
             [
              0.6666666666666666,
              "#ed7953"
             ],
             [
              0.7777777777777778,
              "#fb9f3a"
             ],
             [
              0.8888888888888888,
              "#fdca26"
             ],
             [
              1,
              "#f0f921"
             ]
            ],
            "type": "histogram2dcontour"
           }
          ],
          "mesh3d": [
           {
            "colorbar": {
             "outlinewidth": 0,
             "ticks": ""
            },
            "type": "mesh3d"
           }
          ],
          "parcoords": [
           {
            "line": {
             "colorbar": {
              "outlinewidth": 0,
              "ticks": ""
             }
            },
            "type": "parcoords"
           }
          ],
          "pie": [
           {
            "automargin": true,
            "type": "pie"
           }
          ],
          "scatter": [
           {
            "marker": {
             "colorbar": {
              "outlinewidth": 0,
              "ticks": ""
             }
            },
            "type": "scatter"
           }
          ],
          "scatter3d": [
           {
            "line": {
             "colorbar": {
              "outlinewidth": 0,
              "ticks": ""
             }
            },
            "marker": {
             "colorbar": {
              "outlinewidth": 0,
              "ticks": ""
             }
            },
            "type": "scatter3d"
           }
          ],
          "scattercarpet": [
           {
            "marker": {
             "colorbar": {
              "outlinewidth": 0,
              "ticks": ""
             }
            },
            "type": "scattercarpet"
           }
          ],
          "scattergeo": [
           {
            "marker": {
             "colorbar": {
              "outlinewidth": 0,
              "ticks": ""
             }
            },
            "type": "scattergeo"
           }
          ],
          "scattergl": [
           {
            "marker": {
             "colorbar": {
              "outlinewidth": 0,
              "ticks": ""
             }
            },
            "type": "scattergl"
           }
          ],
          "scattermapbox": [
           {
            "marker": {
             "colorbar": {
              "outlinewidth": 0,
              "ticks": ""
             }
            },
            "type": "scattermapbox"
           }
          ],
          "scatterpolar": [
           {
            "marker": {
             "colorbar": {
              "outlinewidth": 0,
              "ticks": ""
             }
            },
            "type": "scatterpolar"
           }
          ],
          "scatterpolargl": [
           {
            "marker": {
             "colorbar": {
              "outlinewidth": 0,
              "ticks": ""
             }
            },
            "type": "scatterpolargl"
           }
          ],
          "scatterternary": [
           {
            "marker": {
             "colorbar": {
              "outlinewidth": 0,
              "ticks": ""
             }
            },
            "type": "scatterternary"
           }
          ],
          "surface": [
           {
            "colorbar": {
             "outlinewidth": 0,
             "ticks": ""
            },
            "colorscale": [
             [
              0,
              "#0d0887"
             ],
             [
              0.1111111111111111,
              "#46039f"
             ],
             [
              0.2222222222222222,
              "#7201a8"
             ],
             [
              0.3333333333333333,
              "#9c179e"
             ],
             [
              0.4444444444444444,
              "#bd3786"
             ],
             [
              0.5555555555555556,
              "#d8576b"
             ],
             [
              0.6666666666666666,
              "#ed7953"
             ],
             [
              0.7777777777777778,
              "#fb9f3a"
             ],
             [
              0.8888888888888888,
              "#fdca26"
             ],
             [
              1,
              "#f0f921"
             ]
            ],
            "type": "surface"
           }
          ],
          "table": [
           {
            "cells": {
             "fill": {
              "color": "#EBF0F8"
             },
             "line": {
              "color": "white"
             }
            },
            "header": {
             "fill": {
              "color": "#C8D4E3"
             },
             "line": {
              "color": "white"
             }
            },
            "type": "table"
           }
          ]
         },
         "layout": {
          "annotationdefaults": {
           "arrowcolor": "#2a3f5f",
           "arrowhead": 0,
           "arrowwidth": 1
          },
          "autotypenumbers": "strict",
          "coloraxis": {
           "colorbar": {
            "outlinewidth": 0,
            "ticks": ""
           }
          },
          "colorscale": {
           "diverging": [
            [
             0,
             "#8e0152"
            ],
            [
             0.1,
             "#c51b7d"
            ],
            [
             0.2,
             "#de77ae"
            ],
            [
             0.3,
             "#f1b6da"
            ],
            [
             0.4,
             "#fde0ef"
            ],
            [
             0.5,
             "#f7f7f7"
            ],
            [
             0.6,
             "#e6f5d0"
            ],
            [
             0.7,
             "#b8e186"
            ],
            [
             0.8,
             "#7fbc41"
            ],
            [
             0.9,
             "#4d9221"
            ],
            [
             1,
             "#276419"
            ]
           ],
           "sequential": [
            [
             0,
             "#0d0887"
            ],
            [
             0.1111111111111111,
             "#46039f"
            ],
            [
             0.2222222222222222,
             "#7201a8"
            ],
            [
             0.3333333333333333,
             "#9c179e"
            ],
            [
             0.4444444444444444,
             "#bd3786"
            ],
            [
             0.5555555555555556,
             "#d8576b"
            ],
            [
             0.6666666666666666,
             "#ed7953"
            ],
            [
             0.7777777777777778,
             "#fb9f3a"
            ],
            [
             0.8888888888888888,
             "#fdca26"
            ],
            [
             1,
             "#f0f921"
            ]
           ],
           "sequentialminus": [
            [
             0,
             "#0d0887"
            ],
            [
             0.1111111111111111,
             "#46039f"
            ],
            [
             0.2222222222222222,
             "#7201a8"
            ],
            [
             0.3333333333333333,
             "#9c179e"
            ],
            [
             0.4444444444444444,
             "#bd3786"
            ],
            [
             0.5555555555555556,
             "#d8576b"
            ],
            [
             0.6666666666666666,
             "#ed7953"
            ],
            [
             0.7777777777777778,
             "#fb9f3a"
            ],
            [
             0.8888888888888888,
             "#fdca26"
            ],
            [
             1,
             "#f0f921"
            ]
           ]
          },
          "colorway": [
           "#636efa",
           "#EF553B",
           "#00cc96",
           "#ab63fa",
           "#FFA15A",
           "#19d3f3",
           "#FF6692",
           "#B6E880",
           "#FF97FF",
           "#FECB52"
          ],
          "font": {
           "color": "#2a3f5f"
          },
          "geo": {
           "bgcolor": "white",
           "lakecolor": "white",
           "landcolor": "#E5ECF6",
           "showlakes": true,
           "showland": true,
           "subunitcolor": "white"
          },
          "hoverlabel": {
           "align": "left"
          },
          "hovermode": "closest",
          "mapbox": {
           "style": "light"
          },
          "paper_bgcolor": "white",
          "plot_bgcolor": "#E5ECF6",
          "polar": {
           "angularaxis": {
            "gridcolor": "white",
            "linecolor": "white",
            "ticks": ""
           },
           "bgcolor": "#E5ECF6",
           "radialaxis": {
            "gridcolor": "white",
            "linecolor": "white",
            "ticks": ""
           }
          },
          "scene": {
           "xaxis": {
            "backgroundcolor": "#E5ECF6",
            "gridcolor": "white",
            "gridwidth": 2,
            "linecolor": "white",
            "showbackground": true,
            "ticks": "",
            "zerolinecolor": "white"
           },
           "yaxis": {
            "backgroundcolor": "#E5ECF6",
            "gridcolor": "white",
            "gridwidth": 2,
            "linecolor": "white",
            "showbackground": true,
            "ticks": "",
            "zerolinecolor": "white"
           },
           "zaxis": {
            "backgroundcolor": "#E5ECF6",
            "gridcolor": "white",
            "gridwidth": 2,
            "linecolor": "white",
            "showbackground": true,
            "ticks": "",
            "zerolinecolor": "white"
           }
          },
          "shapedefaults": {
           "line": {
            "color": "#2a3f5f"
           }
          },
          "ternary": {
           "aaxis": {
            "gridcolor": "white",
            "linecolor": "white",
            "ticks": ""
           },
           "baxis": {
            "gridcolor": "white",
            "linecolor": "white",
            "ticks": ""
           },
           "bgcolor": "#E5ECF6",
           "caxis": {
            "gridcolor": "white",
            "linecolor": "white",
            "ticks": ""
           }
          },
          "title": {
           "x": 0.05
          },
          "xaxis": {
           "automargin": true,
           "gridcolor": "white",
           "linecolor": "white",
           "ticks": "",
           "title": {
            "standoff": 15
           },
           "zerolinecolor": "white",
           "zerolinewidth": 2
          },
          "yaxis": {
           "automargin": true,
           "gridcolor": "white",
           "linecolor": "white",
           "ticks": "",
           "title": {
            "standoff": 15
           },
           "zerolinecolor": "white",
           "zerolinewidth": 2
          }
         }
        },
        "xaxis": {
         "anchor": "y",
         "domain": [
          0,
          0.22999999999999998
         ],
         "title": {
          "text": "index"
         }
        },
        "xaxis2": {
         "anchor": "y2",
         "domain": [
          0.24999999999999997,
          0.48
         ],
         "matches": "x",
         "title": {
          "text": "index"
         }
        },
        "xaxis3": {
         "anchor": "y3",
         "domain": [
          0.49999999999999994,
          0.73
         ],
         "matches": "x",
         "title": {
          "text": "index"
         }
        },
        "xaxis4": {
         "anchor": "y4",
         "domain": [
          0.75,
          0.98
         ],
         "matches": "x",
         "title": {
          "text": "index"
         }
        },
        "yaxis": {
         "anchor": "x",
         "domain": [
          0,
          1
         ],
         "title": {
          "text": "FIT"
         }
        },
        "yaxis2": {
         "anchor": "x2",
         "domain": [
          0,
          1
         ],
         "matches": "y",
         "showticklabels": false
        },
        "yaxis3": {
         "anchor": "x3",
         "domain": [
          0,
          1
         ],
         "matches": "y",
         "showticklabels": false
        },
        "yaxis4": {
         "anchor": "x4",
         "domain": [
          0,
          1
         ],
         "matches": "y",
         "showticklabels": false
        }
       }
      },
      "text/html": [
       "<div>                            <div id=\"7bf1c263-5746-4df1-a702-ea6fd4bff347\" class=\"plotly-graph-div\" style=\"height:525px; width:100%;\"></div>            <script type=\"text/javascript\">                require([\"plotly\"], function(Plotly) {                    window.PLOTLYENV=window.PLOTLYENV || {};                                    if (document.getElementById(\"7bf1c263-5746-4df1-a702-ea6fd4bff347\")) {                    Plotly.newPlot(                        \"7bf1c263-5746-4df1-a702-ea6fd4bff347\",                        [{\"customdata\":[[3600,80],[3600,80],[3600,40],[3600,20],[1800,40],[3600,20],[3600,40],[3600,80],[1800,80],[3600,20],[1800,40],[1800,80],[1800,80],[1800,20],[1800,20],[3600,10],[1800,80],[1800,10],[3600,10],[1800,10],[3600,40],[3600,40],[1800,20],[1800,20],[1800,10],[3600,10],[3600,80],[1800,40],[3600,10],[1800,40],[1800,10],[3600,20]],\"hovertemplate\":\"seq_len=40<br>est_direction=forward<br>est_type=ZERO<br>index=%{x}<br>FIT=%{y}<br>max_time=%{customdata[0]}<br>seq_est_len=%{customdata[1]}<extra></extra>\",\"legendgroup\":\"40\",\"marker\":{\"color\":\"#636efa\",\"symbol\":\"circle\"},\"mode\":\"markers\",\"name\":\"40\",\"orientation\":\"v\",\"showlegend\":true,\"x\":[272,254,16,194,382,106,143,162,22,388,59,109,385,89,235,48,379,291,266,384,431,449,504,565,576,590,622,626,630,691,714,721],\"xaxis\":\"x\",\"y\":[98.9822998046875,98.59496307373048,98.46517944335938,98.29285430908205,98.28487396240234,98.27808380126952,98.2520523071289,98.23013305664062,98.22616577148438,98.126708984375,98.03192901611328,98.0113296508789,97.86359405517578,97.78947448730467,97.52886962890624,96.21514129638672,96.08468627929688,95.87155151367188,95.79630279541016,95.55643463134766,0.0,0.0,0.0,0.0,0.0,0.0,0.0,0.0,0.0,0.0,0.0,0.0],\"yaxis\":\"y\",\"type\":\"scatter\"},{\"customdata\":[[1800,40],[3600,20],[1800,20],[3600,80],[1800,40],[3600,80],[1800,10],[3600,40],[3600,20],[1800,40],[1800,80],[3600,80],[1800,40],[1800,20],[3600,40],[1800,80],[3600,10],[3600,20],[3600,10],[1800,80],[1800,10],[3600,20],[3600,80],[1800,10],[1800,20],[1800,80],[1800,10],[3600,10],[3600,40],[1800,20],[3600,10],[3600,40]],\"hovertemplate\":\"seq_len=40<br>est_direction=forward<br>est_type=FF<br>index=%{x}<br>FIT=%{y}<br>max_time=%{customdata[0]}<br>seq_est_len=%{customdata[1]}<extra></extra>\",\"legendgroup\":\"40\",\"marker\":{\"color\":\"#636efa\",\"symbol\":\"circle\"},\"mode\":\"markers\",\"name\":\"40\",\"orientation\":\"v\",\"showlegend\":false,\"x\":[65,169,346,198,223,230,151,117,185,17,360,144,8,408,425,433,458,471,497,503,506,516,527,614,618,636,655,677,693,700,717,728],\"xaxis\":\"x2\",\"y\":[98.3453598022461,98.20547485351562,98.03399658203124,98.02054595947266,98.01161193847656,97.87474060058594,97.70951080322266,97.6865692138672,97.50324249267578,97.43515014648438,97.4060287475586,97.17020416259766,96.41548919677734,0.0,0.0,0.0,0.0,0.0,0.0,0.0,0.0,0.0,0.0,0.0,0.0,0.0,0.0,0.0,0.0,0.0,0.0,0.0],\"yaxis\":\"y2\",\"type\":\"scatter\"},{\"customdata\":[[3600,40],[1800,80],[3600,20],[3600,10],[1800,10],[3600,40],[3600,20],[3600,80],[3600,20],[1800,80],[3600,40],[1800,20],[1800,20],[3600,80],[1800,10],[3600,10],[1800,20],[3600,10],[3600,80],[1800,20],[1800,10],[1800,40],[1800,40],[3600,10],[1800,40],[1800,80],[3600,20],[1800,40],[3600,40],[3600,80],[1800,10],[1800,80]],\"hovertemplate\":\"seq_len=40<br>est_direction=forward<br>est_type=LSTM<br>index=%{x}<br>FIT=%{y}<br>max_time=%{customdata[0]}<br>seq_est_len=%{customdata[1]}<extra></extra>\",\"legendgroup\":\"40\",\"marker\":{\"color\":\"#636efa\",\"symbol\":\"circle\"},\"mode\":\"markers\",\"name\":\"40\",\"orientation\":\"v\",\"showlegend\":false,\"x\":[226,229,376,180,145,281,32,125,352,67,243,150,270,92,255,222,345,418,483,505,536,562,572,608,611,624,692,715,719,734,738,749],\"xaxis\":\"x3\",\"y\":[98.56266021728516,98.54762268066406,98.49971771240234,98.47180938720705,98.4502410888672,98.40106201171876,98.3873519897461,98.38286590576172,98.36528778076172,98.16822052001952,98.07008361816406,97.96075439453124,97.93726348876952,97.64984130859376,97.53936767578124,97.22595977783205,96.70923614501952,0.0,0.0,0.0,0.0,0.0,0.0,0.0,0.0,0.0,0.0,0.0,0.0,0.0,0.0,0.0],\"yaxis\":\"y3\",\"type\":\"scatter\"},{\"customdata\":[[3600,40],[3600,80],[3600,80],[1800,80],[3600,20],[3600,20],[1800,20],[1800,20],[1800,40],[3600,80],[1800,40],[1800,40],[3600,10],[1800,10],[1800,10],[3600,10],[3600,10],[3600,10],[1800,10],[1800,80],[1800,20],[1800,40],[3600,80],[3600,40],[1800,20],[3600,20],[1800,80],[3600,40],[3600,40],[1800,10],[3600,20],[1800,80]],\"hovertemplate\":\"seq_len=40<br>est_direction=forward<br>est_type=RAND<br>index=%{x}<br>FIT=%{y}<br>max_time=%{customdata[0]}<br>seq_est_len=%{customdata[1]}<extra></extra>\",\"legendgroup\":\"40\",\"marker\":{\"color\":\"#636efa\",\"symbol\":\"circle\"},\"mode\":\"markers\",\"name\":\"40\",\"orientation\":\"v\",\"showlegend\":false,\"x\":[116,256,40,23,259,283,128,377,290,391,210,342,218,3,238,390,30,95,394,416,429,434,482,523,558,641,659,669,685,705,731,761],\"xaxis\":\"x4\",\"y\":[98.45996856689452,98.41143798828124,98.21053314208984,98.13873291015624,98.1014404296875,97.92639923095705,97.84007263183594,97.78244018554688,97.7663803100586,97.7238540649414,97.66934967041016,97.58937072753906,95.30123138427734,95.2461395263672,95.17118072509766,94.8093719482422,94.7275161743164,94.53546142578124,94.45772552490234,0.0,0.0,0.0,0.0,0.0,0.0,0.0,0.0,0.0,0.0,0.0,0.0,0.0],\"yaxis\":\"y4\",\"type\":\"scatter\"},{\"customdata\":[[3600,80],[3600,20],[3600,20],[3600,40],[3600,40],[3600,20],[3600,80],[3600,20],[3600,40],[1800,10],[1800,20],[1800,10],[1800,40],[3600,80],[1800,80],[1800,80],[1800,20],[1800,40],[1800,10],[3600,10],[1800,80],[1800,10],[3600,10],[1800,40],[1800,20],[3600,10],[1800,40],[1800,80],[3600,40],[3600,80],[1800,20],[3600,10]],\"hovertemplate\":\"seq_len=160<br>est_direction=forward<br>est_type=ZERO<br>index=%{x}<br>FIT=%{y}<br>max_time=%{customdata[0]}<br>seq_est_len=%{customdata[1]}<extra></extra>\",\"legendgroup\":\"160\",\"marker\":{\"color\":\"#EF553B\",\"symbol\":\"circle\"},\"mode\":\"markers\",\"name\":\"160\",\"orientation\":\"v\",\"showlegend\":true,\"x\":[339,113,182,52,98,219,154,173,121,88,341,175,419,439,442,473,528,538,543,545,546,555,595,648,667,672,679,733,737,750,755,763],\"xaxis\":\"x\",\"y\":[98.53609466552734,98.41806030273438,98.29102325439452,98.26820373535156,98.20922088623048,98.20298767089844,98.19523620605467,98.11810302734376,98.01966857910156,97.7303237915039,97.62073516845705,96.0687255859375,0.0,0.0,0.0,0.0,0.0,0.0,0.0,0.0,0.0,0.0,0.0,0.0,0.0,0.0,0.0,0.0,0.0,0.0,0.0,0.0],\"yaxis\":\"y\",\"type\":\"scatter\"},{\"customdata\":[[3600,80],[3600,10],[3600,10],[3600,40],[3600,10],[3600,40],[3600,20],[1800,40],[1800,80],[3600,10],[3600,80],[1800,80],[1800,10],[1800,10],[1800,20],[1800,20],[1800,40],[1800,20],[1800,10],[3600,20],[1800,40],[3600,40],[3600,80],[1800,10],[1800,20],[1800,80],[3600,20],[3600,80],[1800,80],[3600,20],[1800,40],[3600,40]],\"hovertemplate\":\"seq_len=160<br>est_direction=forward<br>est_type=FF<br>index=%{x}<br>FIT=%{y}<br>max_time=%{customdata[0]}<br>seq_est_len=%{customdata[1]}<extra></extra>\",\"legendgroup\":\"160\",\"marker\":{\"color\":\"#EF553B\",\"symbol\":\"circle\"},\"mode\":\"markers\",\"name\":\"160\",\"orientation\":\"v\",\"showlegend\":false,\"x\":[97,278,401,167,104,297,304,187,305,276,347,284,11,321,202,250,336,311,79,520,522,531,583,612,634,635,646,660,674,682,701,757],\"xaxis\":\"x2\",\"y\":[98.89260864257812,98.6295928955078,98.5709228515625,98.5454559326172,98.25696563720705,98.1502685546875,98.0964813232422,98.05298614501952,98.00157928466795,97.96895599365234,97.88835144042967,97.71002197265624,97.70897674560548,97.5455322265625,97.48680877685548,97.38507080078124,96.2197265625,96.14468383789062,95.86812591552734,0.0,0.0,0.0,0.0,0.0,0.0,0.0,0.0,0.0,0.0,0.0,0.0,0.0],\"yaxis\":\"y2\",\"type\":\"scatter\"},{\"customdata\":[[3600,40],[3600,80],[3600,20],[3600,40],[3600,80],[3600,80],[3600,10],[3600,10],[1800,20],[3600,40],[1800,80],[3600,10],[1800,20],[1800,40],[1800,40],[1800,80],[1800,40],[3600,20],[1800,80],[1800,10],[1800,10],[1800,40],[1800,10],[3600,10],[1800,20],[3600,80],[3600,20],[1800,10],[1800,80],[3600,40],[1800,20],[3600,20]],\"hovertemplate\":\"seq_len=160<br>est_direction=forward<br>est_type=LSTM<br>index=%{x}<br>FIT=%{y}<br>max_time=%{customdata[0]}<br>seq_est_len=%{customdata[1]}<extra></extra>\",\"legendgroup\":\"160\",\"marker\":{\"color\":\"#EF553B\",\"symbol\":\"circle\"},\"mode\":\"markers\",\"name\":\"160\",\"orientation\":\"v\",\"showlegend\":false,\"x\":[156,177,240,380,103,374,362,364,111,142,159,107,179,237,307,131,371,331,248,90,9,80,64,430,452,454,487,507,550,563,745,767],\"xaxis\":\"x3\",\"y\":[98.87449645996094,98.72239685058594,98.47417449951172,98.41436767578124,98.37709045410156,98.31326293945312,98.224853515625,98.22364807128906,97.99784088134766,97.89966583251952,97.89312744140624,97.85253143310548,97.67752075195312,97.5334243774414,97.48114013671876,97.19743347167967,97.17827606201172,97.13197326660156,96.83387756347656,96.82450103759766,96.1152114868164,96.05825805664062,95.7122802734375,0.0,0.0,0.0,0.0,0.0,0.0,0.0,0.0,0.0],\"yaxis\":\"y3\",\"type\":\"scatter\"},{\"customdata\":[[3600,80],[3600,80],[3600,20],[3600,20],[3600,20],[1800,40],[3600,40],[1800,20],[1800,20],[3600,80],[1800,40],[1800,10],[1800,80],[1800,80],[1800,40],[1800,10],[1800,20],[3600,40],[3600,40],[3600,10],[3600,40],[1800,20],[1800,80],[3600,20],[1800,40],[1800,10],[3600,10],[3600,80],[1800,10],[3600,10],[3600,10],[1800,80]],\"hovertemplate\":\"seq_len=160<br>est_direction=forward<br>est_type=RAND<br>index=%{x}<br>FIT=%{y}<br>max_time=%{customdata[0]}<br>seq_est_len=%{customdata[1]}<extra></extra>\",\"legendgroup\":\"160\",\"marker\":{\"color\":\"#EF553B\",\"symbol\":\"circle\"},\"mode\":\"markers\",\"name\":\"160\",\"orientation\":\"v\",\"showlegend\":false,\"x\":[165,353,63,262,325,358,350,316,298,87,334,193,42,15,335,406,428,456,460,484,492,513,540,574,589,603,606,620,623,653,699,740],\"xaxis\":\"x4\",\"y\":[98.84634399414062,98.51385498046876,98.33273315429688,98.20410919189452,98.06781768798828,98.03111267089844,97.97834014892578,97.9289779663086,97.88429260253906,97.77166748046876,97.7704620361328,97.56527709960938,97.32997131347656,97.212646484375,96.3361587524414,0.0,0.0,0.0,0.0,0.0,0.0,0.0,0.0,0.0,0.0,0.0,0.0,0.0,0.0,0.0,0.0,0.0],\"yaxis\":\"y4\",\"type\":\"scatter\"},{\"customdata\":[[3600,80],[3600,40],[3600,20],[3600,40],[1800,20],[1800,80],[1800,20],[3600,80],[3600,20],[1800,40],[3600,80],[3600,10],[1800,40],[1800,40],[3600,10],[1800,10],[3600,10],[3600,20],[3600,10],[1800,80],[1800,10],[3600,40],[3600,80],[1800,20],[1800,80],[1800,40],[1800,10],[1800,10],[3600,20],[3600,40],[1800,80],[1800,20]],\"hovertemplate\":\"seq_len=80<br>est_direction=forward<br>est_type=ZERO<br>index=%{x}<br>FIT=%{y}<br>max_time=%{customdata[0]}<br>seq_est_len=%{customdata[1]}<extra></extra>\",\"legendgroup\":\"80\",\"marker\":{\"color\":\"#00cc96\",\"symbol\":\"circle\"},\"mode\":\"markers\",\"name\":\"80\",\"orientation\":\"v\",\"showlegend\":true,\"x\":[231,96,153,322,176,395,77,94,275,36,355,398,34,220,110,293,7,438,450,467,526,535,552,569,601,602,609,627,642,668,689,703],\"xaxis\":\"x\",\"y\":[98.51893615722656,98.51094818115234,98.23980712890624,98.11681365966795,98.09375,98.01885986328124,97.97763061523438,97.96083068847656,97.5778350830078,97.3684539794922,97.15225982666016,97.0301284790039,97.01844787597656,96.9895477294922,96.88873291015624,96.41498565673828,96.32294464111328,0.0,0.0,0.0,0.0,0.0,0.0,0.0,0.0,0.0,0.0,0.0,0.0,0.0,0.0,0.0],\"yaxis\":\"y\",\"type\":\"scatter\"},{\"customdata\":[[3600,80],[3600,20],[3600,40],[3600,40],[3600,40],[1800,20],[3600,20],[3600,10],[1800,80],[1800,40],[1800,40],[3600,80],[1800,20],[1800,10],[1800,20],[1800,80],[3600,10],[1800,20],[1800,40],[1800,10],[1800,10],[3600,20],[1800,80],[3600,40],[1800,80],[3600,20],[3600,80],[1800,40],[3600,80],[3600,10],[1800,10],[3600,10]],\"hovertemplate\":\"seq_len=80<br>est_direction=forward<br>est_type=FF<br>index=%{x}<br>FIT=%{y}<br>max_time=%{customdata[0]}<br>seq_est_len=%{customdata[1]}<extra></extra>\",\"legendgroup\":\"80\",\"marker\":{\"color\":\"#00cc96\",\"symbol\":\"circle\"},\"mode\":\"markers\",\"name\":\"80\",\"orientation\":\"v\",\"showlegend\":false,\"x\":[99,196,295,120,10,199,29,269,155,204,122,147,221,233,115,206,404,465,470,501,547,554,580,588,591,592,593,604,652,695,702,743],\"xaxis\":\"x2\",\"y\":[98.64631652832033,98.57167053222656,98.20565795898438,98.09747314453124,98.0408935546875,97.98326873779295,97.88493347167967,97.84000396728516,97.82108306884766,97.7882308959961,97.76944732666016,97.7547378540039,97.66747283935548,97.47201538085938,97.4083480834961,97.15495300292967,0.0,0.0,0.0,0.0,0.0,0.0,0.0,0.0,0.0,0.0,0.0,0.0,0.0,0.0,0.0,0.0],\"yaxis\":\"y2\",\"type\":\"scatter\"},{\"customdata\":[[3600,20],[3600,40],[3600,10],[3600,10],[3600,10],[1800,40],[1800,10],[3600,80],[1800,40],[1800,20],[1800,20],[3600,80],[1800,40],[1800,10],[1800,80],[1800,40],[1800,80],[1800,80],[3600,10],[1800,20],[1800,20],[1800,10],[3600,40],[3600,40],[3600,20],[3600,80],[1800,80],[1800,10],[3600,20],[3600,20],[3600,80],[3600,40]],\"hovertemplate\":\"seq_len=80<br>est_direction=forward<br>est_type=LSTM<br>index=%{x}<br>FIT=%{y}<br>max_time=%{customdata[0]}<br>seq_est_len=%{customdata[1]}<extra></extra>\",\"legendgroup\":\"80\",\"marker\":{\"color\":\"#00cc96\",\"symbol\":\"circle\"},\"mode\":\"markers\",\"name\":\"80\",\"orientation\":\"v\",\"showlegend\":false,\"x\":[184,26,303,186,132,68,244,58,397,118,393,39,239,183,197,217,480,493,494,534,542,599,658,663,678,681,713,720,722,725,736,753],\"xaxis\":\"x3\",\"y\":[98.66903686523438,98.64541625976562,98.6107940673828,98.57769775390624,98.38502502441406,98.24124908447266,98.02009582519533,97.97515106201172,97.90099334716795,97.9002685546875,97.76673126220705,97.75092315673828,97.63240814208984,97.62933349609376,97.17689514160156,96.65316009521484,0.0,0.0,0.0,0.0,0.0,0.0,0.0,0.0,0.0,0.0,0.0,0.0,0.0,0.0,0.0,0.0],\"yaxis\":\"y3\",\"type\":\"scatter\"},{\"customdata\":[[3600,20],[3600,80],[3600,20],[1800,80],[1800,80],[3600,20],[1800,40],[3600,20],[3600,40],[3600,80],[1800,20],[3600,40],[3600,80],[1800,40],[1800,40],[3600,80],[1800,10],[1800,10],[3600,40],[1800,20],[1800,80],[1800,20],[3600,10],[3600,10],[3600,40],[1800,10],[3600,10],[1800,40],[1800,80],[3600,10],[1800,20],[1800,10]],\"hovertemplate\":\"seq_len=80<br>est_direction=forward<br>est_type=RAND<br>index=%{x}<br>FIT=%{y}<br>max_time=%{customdata[0]}<br>seq_est_len=%{customdata[1]}<extra></extra>\",\"legendgroup\":\"80\",\"marker\":{\"color\":\"#00cc96\",\"symbol\":\"circle\"},\"mode\":\"markers\",\"name\":\"80\",\"orientation\":\"v\",\"showlegend\":false,\"x\":[123,212,215,343,324,18,152,296,141,38,287,208,357,375,158,24,216,149,409,441,459,530,556,568,610,629,651,694,744,754,759,764],\"xaxis\":\"x4\",\"y\":[98.48509216308594,98.44566345214844,98.36708068847656,98.29581451416016,98.2054443359375,98.19668579101562,98.08969116210938,98.08294677734376,97.95887756347656,97.9363021850586,97.83074951171876,97.80868530273438,97.646240234375,97.57915496826172,97.49105072021484,96.97122955322266,96.6952896118164,96.68496704101562,0.0,0.0,0.0,0.0,0.0,0.0,0.0,0.0,0.0,0.0,0.0,0.0,0.0,0.0],\"yaxis\":\"y4\",\"type\":\"scatter\"},{\"customdata\":[[3600,20],[3600,10],[3600,20],[3600,10],[1800,40],[3600,40],[1800,10],[3600,80],[1800,10],[1800,20],[1800,40],[1800,80],[1800,80],[1800,40],[3600,40],[3600,10],[3600,80],[3600,40],[3600,10],[3600,80],[1800,80],[1800,20],[3600,20],[3600,20],[1800,10],[1800,20],[1800,80],[1800,20],[1800,10],[3600,80],[1800,40],[3600,40]],\"hovertemplate\":\"seq_len=320<br>est_direction=forward<br>est_type=ZERO<br>index=%{x}<br>FIT=%{y}<br>max_time=%{customdata[0]}<br>seq_est_len=%{customdata[1]}<extra></extra>\",\"legendgroup\":\"320\",\"marker\":{\"color\":\"#ab63fa\",\"symbol\":\"circle\"},\"mode\":\"markers\",\"name\":\"320\",\"orientation\":\"v\",\"showlegend\":true,\"x\":[354,189,191,73,84,241,271,392,81,168,75,356,319,403,423,424,451,477,496,519,521,561,567,582,598,617,640,690,723,727,730,748],\"xaxis\":\"x\",\"y\":[98.20511627197266,98.17539978027344,98.04692840576172,97.92586517333984,97.82604217529295,97.1471710205078,96.93278503417967,96.10822296142578,96.103515625,95.96310424804688,95.62578582763672,94.84434509277344,94.52093505859376,0.0,0.0,0.0,0.0,0.0,0.0,0.0,0.0,0.0,0.0,0.0,0.0,0.0,0.0,0.0,0.0,0.0,0.0,0.0],\"yaxis\":\"y\",\"type\":\"scatter\"},{\"customdata\":[[3600,40],[3600,40],[3600,10],[3600,20],[3600,40],[3600,40],[1800,20],[1800,10],[1800,80],[1800,40],[1800,40],[1800,10],[1800,80],[1800,20],[1800,40],[1800,20],[3600,80],[1800,10],[1800,20],[3600,20],[1800,40],[3600,20],[1800,80],[3600,20],[3600,10],[3600,80],[3600,10],[3600,80],[1800,80],[1800,10],[3600,10],[3600,80]],\"hovertemplate\":\"seq_len=320<br>est_direction=forward<br>est_type=FF<br>index=%{x}<br>FIT=%{y}<br>max_time=%{customdata[0]}<br>seq_est_len=%{customdata[1]}<extra></extra>\",\"legendgroup\":\"320\",\"marker\":{\"color\":\"#ab63fa\",\"symbol\":\"circle\"},\"mode\":\"markers\",\"name\":\"320\",\"orientation\":\"v\",\"showlegend\":false,\"x\":[285,302,171,166,0,190,367,130,127,268,93,140,108,351,13,344,478,517,524,541,548,557,566,570,579,596,654,661,684,686,712,716],\"xaxis\":\"x2\",\"y\":[98.42056274414062,98.17124938964844,98.0155029296875,97.92476654052734,97.89669799804688,97.69694519042967,97.63426208496094,97.53062438964844,97.45431518554688,97.218505859375,96.6936264038086,96.11605834960938,95.94401550292967,95.89581298828124,95.7300796508789,95.41888427734376,0.0,0.0,0.0,0.0,0.0,0.0,0.0,0.0,0.0,0.0,0.0,0.0,0.0,0.0,0.0,0.0],\"yaxis\":\"y2\",\"type\":\"scatter\"},{\"customdata\":[[3600,80],[3600,40],[3600,10],[1800,10],[1800,40],[1800,40],[1800,80],[3600,20],[3600,20],[1800,40],[1800,40],[1800,20],[1800,10],[1800,80],[1800,10],[3600,80],[3600,40],[1800,80],[3600,20],[3600,40],[1800,20],[3600,10],[3600,20],[3600,10],[1800,20],[3600,80],[1800,20],[3600,10],[1800,10],[3600,40],[3600,80],[1800,80]],\"hovertemplate\":\"seq_len=320<br>est_direction=forward<br>est_type=LSTM<br>index=%{x}<br>FIT=%{y}<br>max_time=%{customdata[0]}<br>seq_est_len=%{customdata[1]}<extra></extra>\",\"legendgroup\":\"320\",\"marker\":{\"color\":\"#ab63fa\",\"symbol\":\"circle\"},\"mode\":\"markers\",\"name\":\"320\",\"orientation\":\"v\",\"showlegend\":false,\"x\":[174,313,318,126,134,225,301,396,105,211,129,224,294,309,400,27,329,76,420,444,463,500,511,514,515,581,637,638,664,670,696,746],\"xaxis\":\"x3\",\"y\":[98.5821304321289,98.46562957763672,97.73106384277344,97.72840881347656,97.58326721191406,97.41413116455078,97.39932250976562,97.09343719482422,97.02660369873048,96.6901397705078,96.6144790649414,96.09786224365234,95.97563934326172,95.779296875,95.7741241455078,95.72159576416016,94.9228973388672,94.6042022705078,0.0,0.0,0.0,0.0,0.0,0.0,0.0,0.0,0.0,0.0,0.0,0.0,0.0,0.0],\"yaxis\":\"y3\",\"type\":\"scatter\"},{\"customdata\":[[3600,40],[3600,40],[3600,10],[3600,20],[1800,40],[3600,10],[3600,40],[3600,20],[3600,80],[1800,20],[1800,40],[1800,10],[1800,80],[1800,10],[3600,10],[1800,20],[1800,40],[3600,10],[1800,20],[1800,10],[1800,80],[3600,20],[3600,80],[1800,20],[3600,80],[1800,80],[1800,10],[1800,40],[1800,80],[3600,20],[3600,80],[3600,40]],\"hovertemplate\":\"seq_len=320<br>est_direction=forward<br>est_type=RAND<br>index=%{x}<br>FIT=%{y}<br>max_time=%{customdata[0]}<br>seq_est_len=%{customdata[1]}<extra></extra>\",\"legendgroup\":\"320\",\"marker\":{\"color\":\"#ab63fa\",\"symbol\":\"circle\"},\"mode\":\"markers\",\"name\":\"320\",\"orientation\":\"v\",\"showlegend\":false,\"x\":[310,265,6,20,289,78,21,213,361,245,60,112,359,411,413,427,432,440,446,447,455,475,481,491,539,597,619,647,666,710,735,760],\"xaxis\":\"x4\",\"y\":[98.33255767822266,98.02599334716795,97.8116226196289,97.7000503540039,97.61370086669922,97.5828857421875,97.56886291503906,97.40907287597656,97.2061004638672,97.08607482910156,96.23152923583984,95.92322540283205,95.43963623046876,0.0,0.0,0.0,0.0,0.0,0.0,0.0,0.0,0.0,0.0,0.0,0.0,0.0,0.0,0.0,0.0,0.0,0.0,0.0],\"yaxis\":\"y4\",\"type\":\"scatter\"}],                        {\"template\":{\"data\":{\"bar\":[{\"error_x\":{\"color\":\"#2a3f5f\"},\"error_y\":{\"color\":\"#2a3f5f\"},\"marker\":{\"line\":{\"color\":\"#E5ECF6\",\"width\":0.5},\"pattern\":{\"fillmode\":\"overlay\",\"size\":10,\"solidity\":0.2}},\"type\":\"bar\"}],\"barpolar\":[{\"marker\":{\"line\":{\"color\":\"#E5ECF6\",\"width\":0.5},\"pattern\":{\"fillmode\":\"overlay\",\"size\":10,\"solidity\":0.2}},\"type\":\"barpolar\"}],\"carpet\":[{\"aaxis\":{\"endlinecolor\":\"#2a3f5f\",\"gridcolor\":\"white\",\"linecolor\":\"white\",\"minorgridcolor\":\"white\",\"startlinecolor\":\"#2a3f5f\"},\"baxis\":{\"endlinecolor\":\"#2a3f5f\",\"gridcolor\":\"white\",\"linecolor\":\"white\",\"minorgridcolor\":\"white\",\"startlinecolor\":\"#2a3f5f\"},\"type\":\"carpet\"}],\"choropleth\":[{\"colorbar\":{\"outlinewidth\":0,\"ticks\":\"\"},\"type\":\"choropleth\"}],\"contour\":[{\"colorbar\":{\"outlinewidth\":0,\"ticks\":\"\"},\"colorscale\":[[0.0,\"#0d0887\"],[0.1111111111111111,\"#46039f\"],[0.2222222222222222,\"#7201a8\"],[0.3333333333333333,\"#9c179e\"],[0.4444444444444444,\"#bd3786\"],[0.5555555555555556,\"#d8576b\"],[0.6666666666666666,\"#ed7953\"],[0.7777777777777778,\"#fb9f3a\"],[0.8888888888888888,\"#fdca26\"],[1.0,\"#f0f921\"]],\"type\":\"contour\"}],\"contourcarpet\":[{\"colorbar\":{\"outlinewidth\":0,\"ticks\":\"\"},\"type\":\"contourcarpet\"}],\"heatmap\":[{\"colorbar\":{\"outlinewidth\":0,\"ticks\":\"\"},\"colorscale\":[[0.0,\"#0d0887\"],[0.1111111111111111,\"#46039f\"],[0.2222222222222222,\"#7201a8\"],[0.3333333333333333,\"#9c179e\"],[0.4444444444444444,\"#bd3786\"],[0.5555555555555556,\"#d8576b\"],[0.6666666666666666,\"#ed7953\"],[0.7777777777777778,\"#fb9f3a\"],[0.8888888888888888,\"#fdca26\"],[1.0,\"#f0f921\"]],\"type\":\"heatmap\"}],\"heatmapgl\":[{\"colorbar\":{\"outlinewidth\":0,\"ticks\":\"\"},\"colorscale\":[[0.0,\"#0d0887\"],[0.1111111111111111,\"#46039f\"],[0.2222222222222222,\"#7201a8\"],[0.3333333333333333,\"#9c179e\"],[0.4444444444444444,\"#bd3786\"],[0.5555555555555556,\"#d8576b\"],[0.6666666666666666,\"#ed7953\"],[0.7777777777777778,\"#fb9f3a\"],[0.8888888888888888,\"#fdca26\"],[1.0,\"#f0f921\"]],\"type\":\"heatmapgl\"}],\"histogram\":[{\"marker\":{\"pattern\":{\"fillmode\":\"overlay\",\"size\":10,\"solidity\":0.2}},\"type\":\"histogram\"}],\"histogram2d\":[{\"colorbar\":{\"outlinewidth\":0,\"ticks\":\"\"},\"colorscale\":[[0.0,\"#0d0887\"],[0.1111111111111111,\"#46039f\"],[0.2222222222222222,\"#7201a8\"],[0.3333333333333333,\"#9c179e\"],[0.4444444444444444,\"#bd3786\"],[0.5555555555555556,\"#d8576b\"],[0.6666666666666666,\"#ed7953\"],[0.7777777777777778,\"#fb9f3a\"],[0.8888888888888888,\"#fdca26\"],[1.0,\"#f0f921\"]],\"type\":\"histogram2d\"}],\"histogram2dcontour\":[{\"colorbar\":{\"outlinewidth\":0,\"ticks\":\"\"},\"colorscale\":[[0.0,\"#0d0887\"],[0.1111111111111111,\"#46039f\"],[0.2222222222222222,\"#7201a8\"],[0.3333333333333333,\"#9c179e\"],[0.4444444444444444,\"#bd3786\"],[0.5555555555555556,\"#d8576b\"],[0.6666666666666666,\"#ed7953\"],[0.7777777777777778,\"#fb9f3a\"],[0.8888888888888888,\"#fdca26\"],[1.0,\"#f0f921\"]],\"type\":\"histogram2dcontour\"}],\"mesh3d\":[{\"colorbar\":{\"outlinewidth\":0,\"ticks\":\"\"},\"type\":\"mesh3d\"}],\"parcoords\":[{\"line\":{\"colorbar\":{\"outlinewidth\":0,\"ticks\":\"\"}},\"type\":\"parcoords\"}],\"pie\":[{\"automargin\":true,\"type\":\"pie\"}],\"scatter\":[{\"marker\":{\"colorbar\":{\"outlinewidth\":0,\"ticks\":\"\"}},\"type\":\"scatter\"}],\"scatter3d\":[{\"line\":{\"colorbar\":{\"outlinewidth\":0,\"ticks\":\"\"}},\"marker\":{\"colorbar\":{\"outlinewidth\":0,\"ticks\":\"\"}},\"type\":\"scatter3d\"}],\"scattercarpet\":[{\"marker\":{\"colorbar\":{\"outlinewidth\":0,\"ticks\":\"\"}},\"type\":\"scattercarpet\"}],\"scattergeo\":[{\"marker\":{\"colorbar\":{\"outlinewidth\":0,\"ticks\":\"\"}},\"type\":\"scattergeo\"}],\"scattergl\":[{\"marker\":{\"colorbar\":{\"outlinewidth\":0,\"ticks\":\"\"}},\"type\":\"scattergl\"}],\"scattermapbox\":[{\"marker\":{\"colorbar\":{\"outlinewidth\":0,\"ticks\":\"\"}},\"type\":\"scattermapbox\"}],\"scatterpolar\":[{\"marker\":{\"colorbar\":{\"outlinewidth\":0,\"ticks\":\"\"}},\"type\":\"scatterpolar\"}],\"scatterpolargl\":[{\"marker\":{\"colorbar\":{\"outlinewidth\":0,\"ticks\":\"\"}},\"type\":\"scatterpolargl\"}],\"scatterternary\":[{\"marker\":{\"colorbar\":{\"outlinewidth\":0,\"ticks\":\"\"}},\"type\":\"scatterternary\"}],\"surface\":[{\"colorbar\":{\"outlinewidth\":0,\"ticks\":\"\"},\"colorscale\":[[0.0,\"#0d0887\"],[0.1111111111111111,\"#46039f\"],[0.2222222222222222,\"#7201a8\"],[0.3333333333333333,\"#9c179e\"],[0.4444444444444444,\"#bd3786\"],[0.5555555555555556,\"#d8576b\"],[0.6666666666666666,\"#ed7953\"],[0.7777777777777778,\"#fb9f3a\"],[0.8888888888888888,\"#fdca26\"],[1.0,\"#f0f921\"]],\"type\":\"surface\"}],\"table\":[{\"cells\":{\"fill\":{\"color\":\"#EBF0F8\"},\"line\":{\"color\":\"white\"}},\"header\":{\"fill\":{\"color\":\"#C8D4E3\"},\"line\":{\"color\":\"white\"}},\"type\":\"table\"}]},\"layout\":{\"annotationdefaults\":{\"arrowcolor\":\"#2a3f5f\",\"arrowhead\":0,\"arrowwidth\":1},\"autotypenumbers\":\"strict\",\"coloraxis\":{\"colorbar\":{\"outlinewidth\":0,\"ticks\":\"\"}},\"colorscale\":{\"diverging\":[[0,\"#8e0152\"],[0.1,\"#c51b7d\"],[0.2,\"#de77ae\"],[0.3,\"#f1b6da\"],[0.4,\"#fde0ef\"],[0.5,\"#f7f7f7\"],[0.6,\"#e6f5d0\"],[0.7,\"#b8e186\"],[0.8,\"#7fbc41\"],[0.9,\"#4d9221\"],[1,\"#276419\"]],\"sequential\":[[0.0,\"#0d0887\"],[0.1111111111111111,\"#46039f\"],[0.2222222222222222,\"#7201a8\"],[0.3333333333333333,\"#9c179e\"],[0.4444444444444444,\"#bd3786\"],[0.5555555555555556,\"#d8576b\"],[0.6666666666666666,\"#ed7953\"],[0.7777777777777778,\"#fb9f3a\"],[0.8888888888888888,\"#fdca26\"],[1.0,\"#f0f921\"]],\"sequentialminus\":[[0.0,\"#0d0887\"],[0.1111111111111111,\"#46039f\"],[0.2222222222222222,\"#7201a8\"],[0.3333333333333333,\"#9c179e\"],[0.4444444444444444,\"#bd3786\"],[0.5555555555555556,\"#d8576b\"],[0.6666666666666666,\"#ed7953\"],[0.7777777777777778,\"#fb9f3a\"],[0.8888888888888888,\"#fdca26\"],[1.0,\"#f0f921\"]]},\"colorway\":[\"#636efa\",\"#EF553B\",\"#00cc96\",\"#ab63fa\",\"#FFA15A\",\"#19d3f3\",\"#FF6692\",\"#B6E880\",\"#FF97FF\",\"#FECB52\"],\"font\":{\"color\":\"#2a3f5f\"},\"geo\":{\"bgcolor\":\"white\",\"lakecolor\":\"white\",\"landcolor\":\"#E5ECF6\",\"showlakes\":true,\"showland\":true,\"subunitcolor\":\"white\"},\"hoverlabel\":{\"align\":\"left\"},\"hovermode\":\"closest\",\"mapbox\":{\"style\":\"light\"},\"paper_bgcolor\":\"white\",\"plot_bgcolor\":\"#E5ECF6\",\"polar\":{\"angularaxis\":{\"gridcolor\":\"white\",\"linecolor\":\"white\",\"ticks\":\"\"},\"bgcolor\":\"#E5ECF6\",\"radialaxis\":{\"gridcolor\":\"white\",\"linecolor\":\"white\",\"ticks\":\"\"}},\"scene\":{\"xaxis\":{\"backgroundcolor\":\"#E5ECF6\",\"gridcolor\":\"white\",\"gridwidth\":2,\"linecolor\":\"white\",\"showbackground\":true,\"ticks\":\"\",\"zerolinecolor\":\"white\"},\"yaxis\":{\"backgroundcolor\":\"#E5ECF6\",\"gridcolor\":\"white\",\"gridwidth\":2,\"linecolor\":\"white\",\"showbackground\":true,\"ticks\":\"\",\"zerolinecolor\":\"white\"},\"zaxis\":{\"backgroundcolor\":\"#E5ECF6\",\"gridcolor\":\"white\",\"gridwidth\":2,\"linecolor\":\"white\",\"showbackground\":true,\"ticks\":\"\",\"zerolinecolor\":\"white\"}},\"shapedefaults\":{\"line\":{\"color\":\"#2a3f5f\"}},\"ternary\":{\"aaxis\":{\"gridcolor\":\"white\",\"linecolor\":\"white\",\"ticks\":\"\"},\"baxis\":{\"gridcolor\":\"white\",\"linecolor\":\"white\",\"ticks\":\"\"},\"bgcolor\":\"#E5ECF6\",\"caxis\":{\"gridcolor\":\"white\",\"linecolor\":\"white\",\"ticks\":\"\"}},\"title\":{\"x\":0.05},\"xaxis\":{\"automargin\":true,\"gridcolor\":\"white\",\"linecolor\":\"white\",\"ticks\":\"\",\"title\":{\"standoff\":15},\"zerolinecolor\":\"white\",\"zerolinewidth\":2},\"yaxis\":{\"automargin\":true,\"gridcolor\":\"white\",\"linecolor\":\"white\",\"ticks\":\"\",\"title\":{\"standoff\":15},\"zerolinecolor\":\"white\",\"zerolinewidth\":2}}},\"xaxis\":{\"anchor\":\"y\",\"domain\":[0.0,0.22999999999999998],\"title\":{\"text\":\"index\"}},\"yaxis\":{\"anchor\":\"x\",\"domain\":[0.0,1.0],\"title\":{\"text\":\"FIT\"}},\"xaxis2\":{\"anchor\":\"y2\",\"domain\":[0.24999999999999997,0.48],\"matches\":\"x\",\"title\":{\"text\":\"index\"}},\"yaxis2\":{\"anchor\":\"x2\",\"domain\":[0.0,1.0],\"matches\":\"y\",\"showticklabels\":false},\"xaxis3\":{\"anchor\":\"y3\",\"domain\":[0.49999999999999994,0.73],\"matches\":\"x\",\"title\":{\"text\":\"index\"}},\"yaxis3\":{\"anchor\":\"x3\",\"domain\":[0.0,1.0],\"matches\":\"y\",\"showticklabels\":false},\"xaxis4\":{\"anchor\":\"y4\",\"domain\":[0.75,0.98],\"matches\":\"x\",\"title\":{\"text\":\"index\"}},\"yaxis4\":{\"anchor\":\"x4\",\"domain\":[0.0,1.0],\"matches\":\"y\",\"showticklabels\":false},\"annotations\":[{\"font\":{},\"showarrow\":false,\"text\":\"est_type=ZERO\",\"x\":0.11499999999999999,\"xanchor\":\"center\",\"xref\":\"paper\",\"y\":1.0,\"yanchor\":\"bottom\",\"yref\":\"paper\"},{\"font\":{},\"showarrow\":false,\"text\":\"est_type=FF\",\"x\":0.365,\"xanchor\":\"center\",\"xref\":\"paper\",\"y\":1.0,\"yanchor\":\"bottom\",\"yref\":\"paper\"},{\"font\":{},\"showarrow\":false,\"text\":\"est_type=LSTM\",\"x\":0.615,\"xanchor\":\"center\",\"xref\":\"paper\",\"y\":1.0,\"yanchor\":\"bottom\",\"yref\":\"paper\"},{\"font\":{},\"showarrow\":false,\"text\":\"est_type=RAND\",\"x\":0.865,\"xanchor\":\"center\",\"xref\":\"paper\",\"y\":1.0,\"yanchor\":\"bottom\",\"yref\":\"paper\"},{\"font\":{},\"showarrow\":false,\"text\":\"est_direction=forward\",\"textangle\":90,\"x\":0.98,\"xanchor\":\"left\",\"xref\":\"paper\",\"y\":0.5,\"yanchor\":\"middle\",\"yref\":\"paper\"}],\"legend\":{\"title\":{\"text\":\"seq_len\"},\"tracegroupgap\":0},\"margin\":{\"t\":60}},                        {\"responsive\": true}                    ).then(function(){\n",
       "                            \n",
       "var gd = document.getElementById('7bf1c263-5746-4df1-a702-ea6fd4bff347');\n",
       "var x = new MutationObserver(function (mutations, observer) {{\n",
       "        var display = window.getComputedStyle(gd).display;\n",
       "        if (!display || display === 'none') {{\n",
       "            console.log([gd, 'removed!']);\n",
       "            Plotly.purge(gd);\n",
       "            observer.disconnect();\n",
       "        }}\n",
       "}});\n",
       "\n",
       "// Listen for the removal of the full notebook cells\n",
       "var notebookContainer = gd.closest('#notebook-container');\n",
       "if (notebookContainer) {{\n",
       "    x.observe(notebookContainer, {childList: true});\n",
       "}}\n",
       "\n",
       "// Listen for the clearing of the current output cell\n",
       "var outputEl = gd.closest('.output');\n",
       "if (outputEl) {{\n",
       "    x.observe(outputEl, {childList: true});\n",
       "}}\n",
       "\n",
       "                        })                };                });            </script>        </div>"
      ]
     },
     "metadata": {},
     "output_type": "display_data"
    }
   ],
   "source": [
    "fig = px.scatter(df_30min, y=\"FIT\",\n",
    "                 facet_col=\"est_type\", facet_row=\"est_direction\", color=\"seq_len\",\n",
    "                 hover_data=[\"max_time\", \"seq_est_len\"])\n",
    "fig.show()"
   ]
  },
  {
   "cell_type": "code",
   "execution_count": 91,
   "id": "e1357319",
   "metadata": {},
   "outputs": [
    {
     "data": {
      "image/png": "[encoded data removed]",
      "text/plain": [
       "<Figure size 900x360 with 5 Axes>"
      ]
     },
     "metadata": {
      "needs_background": "light"
     },
     "output_type": "display_data"
    }
   ],
   "source": [
    "# Full results: main effects\n",
    "g = sns.PairGrid(df_30min, y_vars=response,\n",
    "                 x_vars=factors,\n",
    "                 height=5, aspect=.5)\n",
    "g.map(sns.pointplot, scale=1.3)\n",
    "sns.despine(fig=g.fig, left=True)"
   ]
  },
  {
   "cell_type": "code",
   "execution_count": 92,
   "id": "6bde6329",
   "metadata": {
    "scrolled": true
   },
   "outputs": [
    {
     "data": {
      "image/png": "[encoded data removed]",
      "text/plain": [
       "<Figure size 900x360 with 5 Axes>"
      ]
     },
     "metadata": {
      "needs_background": "light"
     },
     "output_type": "display_data"
    }
   ],
   "source": [
    "# Full results: main effects\n",
    "g = sns.PairGrid(df_res, y_vars=response,\n",
    "                 x_vars=factors,\n",
    "                 height=5, aspect=.5)\n",
    "g.map(sns.boxplot)\n",
    "g.set(ylim=(80, 100))\n",
    "sns.despine(fig=g.fig, left=True)"
   ]
  },
  {
   "cell_type": "code",
   "execution_count": 93,
   "id": "1c3a8587",
   "metadata": {},
   "outputs": [
    {
     "data": {
      "image/png": "[encoded data removed]",
      "text/plain": [
       "<Figure size 900x360 with 5 Axes>"
      ]
     },
     "metadata": {
      "needs_background": "light"
     },
     "output_type": "display_data"
    }
   ],
   "source": [
    "# Full results: main effects\n",
    "g = sns.PairGrid(df_30min, y_vars=response,\n",
    "                 x_vars=factors,\n",
    "                 height=5, aspect=.5)\n",
    "g.map(sns.boxplot)\n",
    "g.set(ylim=(90, 100))\n",
    "sns.despine(fig=g.fig, left=True)"
   ]
  },
  {
   "cell_type": "code",
   "execution_count": 94,
   "id": "cded0c6f",
   "metadata": {},
   "outputs": [
    {
     "data": {
      "text/html": [
       "<div>\n",
       "<style scoped>\n",
       "    .dataframe tbody tr th:only-of-type {\n",
       "        vertical-align: middle;\n",
       "    }\n",
       "\n",
       "    .dataframe tbody tr th {\n",
       "        vertical-align: top;\n",
       "    }\n",
       "\n",
       "    .dataframe thead th {\n",
       "        text-align: right;\n",
       "    }\n",
       "</style>\n",
       "<table border=\"1\" class=\"dataframe\">\n",
       "  <thead>\n",
       "    <tr style=\"text-align: right;\">\n",
       "      <th></th>\n",
       "      <th>experiment_id</th>\n",
       "      <th>lr</th>\n",
       "      <th>epochs</th>\n",
       "      <th>max_time</th>\n",
       "      <th>batch_size</th>\n",
       "      <th>seq_len</th>\n",
       "      <th>seq_est_len</th>\n",
       "      <th>est_direction</th>\n",
       "      <th>est_type</th>\n",
       "      <th>est_hidden_size</th>\n",
       "      <th>seed</th>\n",
       "      <th>FIT</th>\n",
       "      <th>RMSE</th>\n",
       "    </tr>\n",
       "  </thead>\n",
       "  <tbody>\n",
       "    <tr>\n",
       "      <th>170</th>\n",
       "      <td>627</td>\n",
       "      <td>0.001</td>\n",
       "      <td>10000</td>\n",
       "      <td>300</td>\n",
       "      <td>128</td>\n",
       "      <td>40</td>\n",
       "      <td>20</td>\n",
       "      <td>forward</td>\n",
       "      <td>RAND</td>\n",
       "      <td>15</td>\n",
       "      <td>269</td>\n",
       "      <td>95.894623</td>\n",
       "      <td>9.817894</td>\n",
       "    </tr>\n",
       "    <tr>\n",
       "      <th>381</th>\n",
       "      <td>291</td>\n",
       "      <td>0.001</td>\n",
       "      <td>10000</td>\n",
       "      <td>300</td>\n",
       "      <td>128</td>\n",
       "      <td>40</td>\n",
       "      <td>40</td>\n",
       "      <td>forward</td>\n",
       "      <td>FF</td>\n",
       "      <td>15</td>\n",
       "      <td>233</td>\n",
       "      <td>95.680252</td>\n",
       "      <td>10.330549</td>\n",
       "    </tr>\n",
       "    <tr>\n",
       "      <th>327</th>\n",
       "      <td>339</td>\n",
       "      <td>0.001</td>\n",
       "      <td>10000</td>\n",
       "      <td>300</td>\n",
       "      <td>128</td>\n",
       "      <td>40</td>\n",
       "      <td>80</td>\n",
       "      <td>forward</td>\n",
       "      <td>FF</td>\n",
       "      <td>15</td>\n",
       "      <td>492</td>\n",
       "      <td>95.639191</td>\n",
       "      <td>10.428766</td>\n",
       "    </tr>\n",
       "    <tr>\n",
       "      <th>227</th>\n",
       "      <td>435</td>\n",
       "      <td>0.001</td>\n",
       "      <td>10000</td>\n",
       "      <td>300</td>\n",
       "      <td>128</td>\n",
       "      <td>40</td>\n",
       "      <td>20</td>\n",
       "      <td>forward</td>\n",
       "      <td>ZERO</td>\n",
       "      <td>15</td>\n",
       "      <td>457</td>\n",
       "      <td>95.573708</td>\n",
       "      <td>10.585358</td>\n",
       "    </tr>\n",
       "    <tr>\n",
       "      <th>82</th>\n",
       "      <td>207</td>\n",
       "      <td>0.001</td>\n",
       "      <td>10000</td>\n",
       "      <td>300</td>\n",
       "      <td>128</td>\n",
       "      <td>80</td>\n",
       "      <td>10</td>\n",
       "      <td>forward</td>\n",
       "      <td>FF</td>\n",
       "      <td>15</td>\n",
       "      <td>566</td>\n",
       "      <td>95.504936</td>\n",
       "      <td>10.749815</td>\n",
       "    </tr>\n",
       "    <tr>\n",
       "      <th>192</th>\n",
       "      <td>63</td>\n",
       "      <td>0.001</td>\n",
       "      <td>10000</td>\n",
       "      <td>300</td>\n",
       "      <td>128</td>\n",
       "      <td>80</td>\n",
       "      <td>20</td>\n",
       "      <td>forward</td>\n",
       "      <td>LSTM</td>\n",
       "      <td>15</td>\n",
       "      <td>266</td>\n",
       "      <td>95.494270</td>\n",
       "      <td>10.775328</td>\n",
       "    </tr>\n",
       "    <tr>\n",
       "      <th>201</th>\n",
       "      <td>306</td>\n",
       "      <td>0.001</td>\n",
       "      <td>10000</td>\n",
       "      <td>300</td>\n",
       "      <td>512</td>\n",
       "      <td>80</td>\n",
       "      <td>40</td>\n",
       "      <td>forward</td>\n",
       "      <td>FF</td>\n",
       "      <td>15</td>\n",
       "      <td>46</td>\n",
       "      <td>95.443298</td>\n",
       "      <td>10.897241</td>\n",
       "    </tr>\n",
       "    <tr>\n",
       "      <th>365</th>\n",
       "      <td>147</td>\n",
       "      <td>0.001</td>\n",
       "      <td>10000</td>\n",
       "      <td>300</td>\n",
       "      <td>128</td>\n",
       "      <td>40</td>\n",
       "      <td>80</td>\n",
       "      <td>forward</td>\n",
       "      <td>LSTM</td>\n",
       "      <td>15</td>\n",
       "      <td>310</td>\n",
       "      <td>95.428223</td>\n",
       "      <td>10.933283</td>\n",
       "    </tr>\n",
       "    <tr>\n",
       "      <th>51</th>\n",
       "      <td>159</td>\n",
       "      <td>0.001</td>\n",
       "      <td>10000</td>\n",
       "      <td>300</td>\n",
       "      <td>128</td>\n",
       "      <td>80</td>\n",
       "      <td>80</td>\n",
       "      <td>forward</td>\n",
       "      <td>LSTM</td>\n",
       "      <td>15</td>\n",
       "      <td>193</td>\n",
       "      <td>95.408096</td>\n",
       "      <td>10.981401</td>\n",
       "    </tr>\n",
       "    <tr>\n",
       "      <th>37</th>\n",
       "      <td>66</td>\n",
       "      <td>0.001</td>\n",
       "      <td>10000</td>\n",
       "      <td>300</td>\n",
       "      <td>512</td>\n",
       "      <td>80</td>\n",
       "      <td>20</td>\n",
       "      <td>forward</td>\n",
       "      <td>LSTM</td>\n",
       "      <td>15</td>\n",
       "      <td>355</td>\n",
       "      <td>95.356422</td>\n",
       "      <td>11.104985</td>\n",
       "    </tr>\n",
       "    <tr>\n",
       "      <th>228</th>\n",
       "      <td>246</td>\n",
       "      <td>0.001</td>\n",
       "      <td>10000</td>\n",
       "      <td>300</td>\n",
       "      <td>512</td>\n",
       "      <td>40</td>\n",
       "      <td>20</td>\n",
       "      <td>forward</td>\n",
       "      <td>FF</td>\n",
       "      <td>15</td>\n",
       "      <td>625</td>\n",
       "      <td>95.309502</td>\n",
       "      <td>11.217201</td>\n",
       "    </tr>\n",
       "    <tr>\n",
       "      <th>33</th>\n",
       "      <td>348</td>\n",
       "      <td>0.001</td>\n",
       "      <td>10000</td>\n",
       "      <td>300</td>\n",
       "      <td>32</td>\n",
       "      <td>80</td>\n",
       "      <td>80</td>\n",
       "      <td>forward</td>\n",
       "      <td>FF</td>\n",
       "      <td>15</td>\n",
       "      <td>425</td>\n",
       "      <td>95.299042</td>\n",
       "      <td>11.242217</td>\n",
       "    </tr>\n",
       "    <tr>\n",
       "      <th>372</th>\n",
       "      <td>198</td>\n",
       "      <td>0.001</td>\n",
       "      <td>10000</td>\n",
       "      <td>300</td>\n",
       "      <td>512</td>\n",
       "      <td>40</td>\n",
       "      <td>10</td>\n",
       "      <td>forward</td>\n",
       "      <td>FF</td>\n",
       "      <td>15</td>\n",
       "      <td>268</td>\n",
       "      <td>95.275185</td>\n",
       "      <td>11.299261</td>\n",
       "    </tr>\n",
       "    <tr>\n",
       "      <th>19</th>\n",
       "      <td>483</td>\n",
       "      <td>0.001</td>\n",
       "      <td>10000</td>\n",
       "      <td>300</td>\n",
       "      <td>128</td>\n",
       "      <td>40</td>\n",
       "      <td>40</td>\n",
       "      <td>forward</td>\n",
       "      <td>ZERO</td>\n",
       "      <td>15</td>\n",
       "      <td>379</td>\n",
       "      <td>95.274696</td>\n",
       "      <td>11.300436</td>\n",
       "    </tr>\n",
       "    <tr>\n",
       "      <th>35</th>\n",
       "      <td>204</td>\n",
       "      <td>0.001</td>\n",
       "      <td>10000</td>\n",
       "      <td>300</td>\n",
       "      <td>32</td>\n",
       "      <td>80</td>\n",
       "      <td>10</td>\n",
       "      <td>forward</td>\n",
       "      <td>FF</td>\n",
       "      <td>15</td>\n",
       "      <td>255</td>\n",
       "      <td>95.228157</td>\n",
       "      <td>11.411748</td>\n",
       "    </tr>\n",
       "    <tr>\n",
       "      <th>47</th>\n",
       "      <td>402</td>\n",
       "      <td>0.001</td>\n",
       "      <td>10000</td>\n",
       "      <td>300</td>\n",
       "      <td>512</td>\n",
       "      <td>80</td>\n",
       "      <td>10</td>\n",
       "      <td>forward</td>\n",
       "      <td>ZERO</td>\n",
       "      <td>15</td>\n",
       "      <td>208</td>\n",
       "      <td>95.202423</td>\n",
       "      <td>11.473274</td>\n",
       "    </tr>\n",
       "    <tr>\n",
       "      <th>161</th>\n",
       "      <td>354</td>\n",
       "      <td>0.001</td>\n",
       "      <td>10000</td>\n",
       "      <td>300</td>\n",
       "      <td>512</td>\n",
       "      <td>80</td>\n",
       "      <td>80</td>\n",
       "      <td>forward</td>\n",
       "      <td>FF</td>\n",
       "      <td>15</td>\n",
       "      <td>497</td>\n",
       "      <td>95.163467</td>\n",
       "      <td>11.566430</td>\n",
       "    </tr>\n",
       "    <tr>\n",
       "      <th>320</th>\n",
       "      <td>678</td>\n",
       "      <td>0.001</td>\n",
       "      <td>10000</td>\n",
       "      <td>300</td>\n",
       "      <td>512</td>\n",
       "      <td>40</td>\n",
       "      <td>40</td>\n",
       "      <td>forward</td>\n",
       "      <td>RAND</td>\n",
       "      <td>15</td>\n",
       "      <td>738</td>\n",
       "      <td>95.121048</td>\n",
       "      <td>11.667880</td>\n",
       "    </tr>\n",
       "    <tr>\n",
       "      <th>91</th>\n",
       "      <td>543</td>\n",
       "      <td>0.001</td>\n",
       "      <td>10000</td>\n",
       "      <td>300</td>\n",
       "      <td>128</td>\n",
       "      <td>80</td>\n",
       "      <td>80</td>\n",
       "      <td>forward</td>\n",
       "      <td>ZERO</td>\n",
       "      <td>15</td>\n",
       "      <td>587</td>\n",
       "      <td>95.043541</td>\n",
       "      <td>11.853245</td>\n",
       "    </tr>\n",
       "    <tr>\n",
       "      <th>136</th>\n",
       "      <td>438</td>\n",
       "      <td>0.001</td>\n",
       "      <td>10000</td>\n",
       "      <td>300</td>\n",
       "      <td>512</td>\n",
       "      <td>40</td>\n",
       "      <td>20</td>\n",
       "      <td>forward</td>\n",
       "      <td>ZERO</td>\n",
       "      <td>15</td>\n",
       "      <td>615</td>\n",
       "      <td>94.868843</td>\n",
       "      <td>12.271016</td>\n",
       "    </tr>\n",
       "  </tbody>\n",
       "</table>\n",
       "</div>"
      ],
      "text/plain": [
       "     experiment_id     lr  epochs max_time batch_size seq_len seq_est_len  \\\n",
       "170            627  0.001   10000      300        128      40          20   \n",
       "381            291  0.001   10000      300        128      40          40   \n",
       "327            339  0.001   10000      300        128      40          80   \n",
       "227            435  0.001   10000      300        128      40          20   \n",
       "82             207  0.001   10000      300        128      80          10   \n",
       "192             63  0.001   10000      300        128      80          20   \n",
       "201            306  0.001   10000      300        512      80          40   \n",
       "365            147  0.001   10000      300        128      40          80   \n",
       "51             159  0.001   10000      300        128      80          80   \n",
       "37              66  0.001   10000      300        512      80          20   \n",
       "228            246  0.001   10000      300        512      40          20   \n",
       "33             348  0.001   10000      300         32      80          80   \n",
       "372            198  0.001   10000      300        512      40          10   \n",
       "19             483  0.001   10000      300        128      40          40   \n",
       "35             204  0.001   10000      300         32      80          10   \n",
       "47             402  0.001   10000      300        512      80          10   \n",
       "161            354  0.001   10000      300        512      80          80   \n",
       "320            678  0.001   10000      300        512      40          40   \n",
       "91             543  0.001   10000      300        128      80          80   \n",
       "136            438  0.001   10000      300        512      40          20   \n",
       "\n",
       "    est_direction est_type  est_hidden_size  seed        FIT       RMSE  \n",
       "170       forward     RAND               15   269  95.894623   9.817894  \n",
       "381       forward       FF               15   233  95.680252  10.330549  \n",
       "327       forward       FF               15   492  95.639191  10.428766  \n",
       "227       forward     ZERO               15   457  95.573708  10.585358  \n",
       "82        forward       FF               15   566  95.504936  10.749815  \n",
       "192       forward     LSTM               15   266  95.494270  10.775328  \n",
       "201       forward       FF               15    46  95.443298  10.897241  \n",
       "365       forward     LSTM               15   310  95.428223  10.933283  \n",
       "51        forward     LSTM               15   193  95.408096  10.981401  \n",
       "37        forward     LSTM               15   355  95.356422  11.104985  \n",
       "228       forward       FF               15   625  95.309502  11.217201  \n",
       "33        forward       FF               15   425  95.299042  11.242217  \n",
       "372       forward       FF               15   268  95.275185  11.299261  \n",
       "19        forward     ZERO               15   379  95.274696  11.300436  \n",
       "35        forward       FF               15   255  95.228157  11.411748  \n",
       "47        forward     ZERO               15   208  95.202423  11.473274  \n",
       "161       forward       FF               15   497  95.163467  11.566430  \n",
       "320       forward     RAND               15   738  95.121048  11.667880  \n",
       "91        forward     ZERO               15   587  95.043541  11.853245  \n",
       "136       forward     ZERO               15   615  94.868843  12.271016  "
      ]
     },
     "execution_count": 94,
     "metadata": {},
     "output_type": "execute_result"
    }
   ],
   "source": [
    "df_5min.head(20)"
   ]
  },
  {
   "cell_type": "code",
   "execution_count": 95,
   "id": "07b0abb3",
   "metadata": {},
   "outputs": [
    {
     "data": {
      "text/html": [
       "<div>\n",
       "<style scoped>\n",
       "    .dataframe tbody tr th:only-of-type {\n",
       "        vertical-align: middle;\n",
       "    }\n",
       "\n",
       "    .dataframe tbody tr th {\n",
       "        vertical-align: top;\n",
       "    }\n",
       "\n",
       "    .dataframe thead th {\n",
       "        text-align: right;\n",
       "    }\n",
       "</style>\n",
       "<table border=\"1\" class=\"dataframe\">\n",
       "  <thead>\n",
       "    <tr style=\"text-align: right;\">\n",
       "      <th></th>\n",
       "      <th>experiment_id</th>\n",
       "      <th>lr</th>\n",
       "      <th>epochs</th>\n",
       "      <th>max_time</th>\n",
       "      <th>batch_size</th>\n",
       "      <th>seq_len</th>\n",
       "      <th>seq_est_len</th>\n",
       "      <th>est_direction</th>\n",
       "      <th>est_type</th>\n",
       "      <th>est_hidden_size</th>\n",
       "      <th>seed</th>\n",
       "      <th>FIT</th>\n",
       "      <th>RMSE</th>\n",
       "    </tr>\n",
       "  </thead>\n",
       "  <tbody>\n",
       "    <tr>\n",
       "      <th>278</th>\n",
       "      <td>218</td>\n",
       "      <td>0.001</td>\n",
       "      <td>10000</td>\n",
       "      <td>3600</td>\n",
       "      <td>32</td>\n",
       "      <td>160</td>\n",
       "      <td>10</td>\n",
       "      <td>forward</td>\n",
       "      <td>FF</td>\n",
       "      <td>15</td>\n",
       "      <td>294</td>\n",
       "      <td>98.629593</td>\n",
       "      <td>3.277287</td>\n",
       "    </tr>\n",
       "    <tr>\n",
       "      <th>303</th>\n",
       "      <td>23</td>\n",
       "      <td>0.001</td>\n",
       "      <td>10000</td>\n",
       "      <td>3600</td>\n",
       "      <td>1024</td>\n",
       "      <td>80</td>\n",
       "      <td>10</td>\n",
       "      <td>forward</td>\n",
       "      <td>LSTM</td>\n",
       "      <td>15</td>\n",
       "      <td>352</td>\n",
       "      <td>98.610794</td>\n",
       "      <td>3.322253</td>\n",
       "    </tr>\n",
       "    <tr>\n",
       "      <th>186</th>\n",
       "      <td>17</td>\n",
       "      <td>0.001</td>\n",
       "      <td>10000</td>\n",
       "      <td>3600</td>\n",
       "      <td>128</td>\n",
       "      <td>80</td>\n",
       "      <td>10</td>\n",
       "      <td>forward</td>\n",
       "      <td>LSTM</td>\n",
       "      <td>15</td>\n",
       "      <td>55</td>\n",
       "      <td>98.577698</td>\n",
       "      <td>3.401407</td>\n",
       "    </tr>\n",
       "    <tr>\n",
       "      <th>401</th>\n",
       "      <td>221</td>\n",
       "      <td>0.001</td>\n",
       "      <td>10000</td>\n",
       "      <td>3600</td>\n",
       "      <td>128</td>\n",
       "      <td>160</td>\n",
       "      <td>10</td>\n",
       "      <td>forward</td>\n",
       "      <td>FF</td>\n",
       "      <td>15</td>\n",
       "      <td>367</td>\n",
       "      <td>98.570923</td>\n",
       "      <td>3.417603</td>\n",
       "    </tr>\n",
       "    <tr>\n",
       "      <th>180</th>\n",
       "      <td>5</td>\n",
       "      <td>0.001</td>\n",
       "      <td>10000</td>\n",
       "      <td>3600</td>\n",
       "      <td>128</td>\n",
       "      <td>40</td>\n",
       "      <td>10</td>\n",
       "      <td>forward</td>\n",
       "      <td>LSTM</td>\n",
       "      <td>15</td>\n",
       "      <td>103</td>\n",
       "      <td>98.471809</td>\n",
       "      <td>3.654629</td>\n",
       "    </tr>\n",
       "    <tr>\n",
       "      <th>145</th>\n",
       "      <td>4</td>\n",
       "      <td>0.001</td>\n",
       "      <td>10000</td>\n",
       "      <td>1800</td>\n",
       "      <td>128</td>\n",
       "      <td>40</td>\n",
       "      <td>10</td>\n",
       "      <td>forward</td>\n",
       "      <td>LSTM</td>\n",
       "      <td>15</td>\n",
       "      <td>529</td>\n",
       "      <td>98.450241</td>\n",
       "      <td>3.706205</td>\n",
       "    </tr>\n",
       "    <tr>\n",
       "      <th>132</th>\n",
       "      <td>14</td>\n",
       "      <td>0.001</td>\n",
       "      <td>10000</td>\n",
       "      <td>3600</td>\n",
       "      <td>32</td>\n",
       "      <td>80</td>\n",
       "      <td>10</td>\n",
       "      <td>forward</td>\n",
       "      <td>LSTM</td>\n",
       "      <td>15</td>\n",
       "      <td>737</td>\n",
       "      <td>98.385025</td>\n",
       "      <td>3.862178</td>\n",
       "    </tr>\n",
       "    <tr>\n",
       "      <th>104</th>\n",
       "      <td>227</td>\n",
       "      <td>0.001</td>\n",
       "      <td>10000</td>\n",
       "      <td>3600</td>\n",
       "      <td>1024</td>\n",
       "      <td>160</td>\n",
       "      <td>10</td>\n",
       "      <td>forward</td>\n",
       "      <td>FF</td>\n",
       "      <td>15</td>\n",
       "      <td>188</td>\n",
       "      <td>98.256966</td>\n",
       "      <td>4.168418</td>\n",
       "    </tr>\n",
       "    <tr>\n",
       "      <th>362</th>\n",
       "      <td>29</td>\n",
       "      <td>0.001</td>\n",
       "      <td>10000</td>\n",
       "      <td>3600</td>\n",
       "      <td>128</td>\n",
       "      <td>160</td>\n",
       "      <td>10</td>\n",
       "      <td>forward</td>\n",
       "      <td>LSTM</td>\n",
       "      <td>15</td>\n",
       "      <td>496</td>\n",
       "      <td>98.224854</td>\n",
       "      <td>4.245208</td>\n",
       "    </tr>\n",
       "    <tr>\n",
       "      <th>364</th>\n",
       "      <td>35</td>\n",
       "      <td>0.001</td>\n",
       "      <td>10000</td>\n",
       "      <td>3600</td>\n",
       "      <td>1024</td>\n",
       "      <td>160</td>\n",
       "      <td>10</td>\n",
       "      <td>forward</td>\n",
       "      <td>LSTM</td>\n",
       "      <td>15</td>\n",
       "      <td>404</td>\n",
       "      <td>98.223648</td>\n",
       "      <td>4.248096</td>\n",
       "    </tr>\n",
       "    <tr>\n",
       "      <th>189</th>\n",
       "      <td>422</td>\n",
       "      <td>0.001</td>\n",
       "      <td>10000</td>\n",
       "      <td>3600</td>\n",
       "      <td>32</td>\n",
       "      <td>320</td>\n",
       "      <td>10</td>\n",
       "      <td>forward</td>\n",
       "      <td>ZERO</td>\n",
       "      <td>15</td>\n",
       "      <td>716</td>\n",
       "      <td>98.175400</td>\n",
       "      <td>4.363475</td>\n",
       "    </tr>\n",
       "    <tr>\n",
       "      <th>244</th>\n",
       "      <td>19</td>\n",
       "      <td>0.001</td>\n",
       "      <td>10000</td>\n",
       "      <td>1800</td>\n",
       "      <td>512</td>\n",
       "      <td>80</td>\n",
       "      <td>10</td>\n",
       "      <td>forward</td>\n",
       "      <td>LSTM</td>\n",
       "      <td>15</td>\n",
       "      <td>365</td>\n",
       "      <td>98.020096</td>\n",
       "      <td>4.734884</td>\n",
       "    </tr>\n",
       "    <tr>\n",
       "      <th>171</th>\n",
       "      <td>233</td>\n",
       "      <td>0.001</td>\n",
       "      <td>10000</td>\n",
       "      <td>3600</td>\n",
       "      <td>128</td>\n",
       "      <td>320</td>\n",
       "      <td>10</td>\n",
       "      <td>forward</td>\n",
       "      <td>FF</td>\n",
       "      <td>15</td>\n",
       "      <td>764</td>\n",
       "      <td>98.015503</td>\n",
       "      <td>4.745866</td>\n",
       "    </tr>\n",
       "    <tr>\n",
       "      <th>276</th>\n",
       "      <td>224</td>\n",
       "      <td>0.001</td>\n",
       "      <td>10000</td>\n",
       "      <td>3600</td>\n",
       "      <td>512</td>\n",
       "      <td>160</td>\n",
       "      <td>10</td>\n",
       "      <td>forward</td>\n",
       "      <td>FF</td>\n",
       "      <td>15</td>\n",
       "      <td>211</td>\n",
       "      <td>97.968956</td>\n",
       "      <td>4.857197</td>\n",
       "    </tr>\n",
       "    <tr>\n",
       "      <th>73</th>\n",
       "      <td>425</td>\n",
       "      <td>0.001</td>\n",
       "      <td>10000</td>\n",
       "      <td>3600</td>\n",
       "      <td>128</td>\n",
       "      <td>320</td>\n",
       "      <td>10</td>\n",
       "      <td>forward</td>\n",
       "      <td>ZERO</td>\n",
       "      <td>15</td>\n",
       "      <td>592</td>\n",
       "      <td>97.925865</td>\n",
       "      <td>4.960230</td>\n",
       "    </tr>\n",
       "    <tr>\n",
       "      <th>107</th>\n",
       "      <td>26</td>\n",
       "      <td>0.001</td>\n",
       "      <td>10000</td>\n",
       "      <td>3600</td>\n",
       "      <td>32</td>\n",
       "      <td>160</td>\n",
       "      <td>10</td>\n",
       "      <td>forward</td>\n",
       "      <td>LSTM</td>\n",
       "      <td>15</td>\n",
       "      <td>239</td>\n",
       "      <td>97.852531</td>\n",
       "      <td>5.135627</td>\n",
       "    </tr>\n",
       "    <tr>\n",
       "      <th>269</th>\n",
       "      <td>215</td>\n",
       "      <td>0.001</td>\n",
       "      <td>10000</td>\n",
       "      <td>3600</td>\n",
       "      <td>1024</td>\n",
       "      <td>80</td>\n",
       "      <td>10</td>\n",
       "      <td>forward</td>\n",
       "      <td>FF</td>\n",
       "      <td>15</td>\n",
       "      <td>92</td>\n",
       "      <td>97.840004</td>\n",
       "      <td>5.165573</td>\n",
       "    </tr>\n",
       "    <tr>\n",
       "      <th>6</th>\n",
       "      <td>623</td>\n",
       "      <td>0.001</td>\n",
       "      <td>10000</td>\n",
       "      <td>3600</td>\n",
       "      <td>1024</td>\n",
       "      <td>320</td>\n",
       "      <td>10</td>\n",
       "      <td>forward</td>\n",
       "      <td>RAND</td>\n",
       "      <td>15</td>\n",
       "      <td>607</td>\n",
       "      <td>97.811623</td>\n",
       "      <td>5.233449</td>\n",
       "    </tr>\n",
       "    <tr>\n",
       "      <th>318</th>\n",
       "      <td>47</td>\n",
       "      <td>0.001</td>\n",
       "      <td>10000</td>\n",
       "      <td>3600</td>\n",
       "      <td>1024</td>\n",
       "      <td>320</td>\n",
       "      <td>10</td>\n",
       "      <td>forward</td>\n",
       "      <td>LSTM</td>\n",
       "      <td>15</td>\n",
       "      <td>419</td>\n",
       "      <td>97.731064</td>\n",
       "      <td>5.426101</td>\n",
       "    </tr>\n",
       "    <tr>\n",
       "      <th>88</th>\n",
       "      <td>412</td>\n",
       "      <td>0.001</td>\n",
       "      <td>10000</td>\n",
       "      <td>1800</td>\n",
       "      <td>128</td>\n",
       "      <td>160</td>\n",
       "      <td>10</td>\n",
       "      <td>forward</td>\n",
       "      <td>ZERO</td>\n",
       "      <td>15</td>\n",
       "      <td>722</td>\n",
       "      <td>97.730324</td>\n",
       "      <td>5.427859</td>\n",
       "    </tr>\n",
       "  </tbody>\n",
       "</table>\n",
       "</div>"
      ],
      "text/plain": [
       "     experiment_id     lr  epochs max_time batch_size seq_len seq_est_len  \\\n",
       "278            218  0.001   10000     3600         32     160          10   \n",
       "303             23  0.001   10000     3600       1024      80          10   \n",
       "186             17  0.001   10000     3600        128      80          10   \n",
       "401            221  0.001   10000     3600        128     160          10   \n",
       "180              5  0.001   10000     3600        128      40          10   \n",
       "145              4  0.001   10000     1800        128      40          10   \n",
       "132             14  0.001   10000     3600         32      80          10   \n",
       "104            227  0.001   10000     3600       1024     160          10   \n",
       "362             29  0.001   10000     3600        128     160          10   \n",
       "364             35  0.001   10000     3600       1024     160          10   \n",
       "189            422  0.001   10000     3600         32     320          10   \n",
       "244             19  0.001   10000     1800        512      80          10   \n",
       "171            233  0.001   10000     3600        128     320          10   \n",
       "276            224  0.001   10000     3600        512     160          10   \n",
       "73             425  0.001   10000     3600        128     320          10   \n",
       "107             26  0.001   10000     3600         32     160          10   \n",
       "269            215  0.001   10000     3600       1024      80          10   \n",
       "6              623  0.001   10000     3600       1024     320          10   \n",
       "318             47  0.001   10000     3600       1024     320          10   \n",
       "88             412  0.001   10000     1800        128     160          10   \n",
       "\n",
       "    est_direction est_type  est_hidden_size  seed        FIT      RMSE  \n",
       "278       forward       FF               15   294  98.629593  3.277287  \n",
       "303       forward     LSTM               15   352  98.610794  3.322253  \n",
       "186       forward     LSTM               15    55  98.577698  3.401407  \n",
       "401       forward       FF               15   367  98.570923  3.417603  \n",
       "180       forward     LSTM               15   103  98.471809  3.654629  \n",
       "145       forward     LSTM               15   529  98.450241  3.706205  \n",
       "132       forward     LSTM               15   737  98.385025  3.862178  \n",
       "104       forward       FF               15   188  98.256966  4.168418  \n",
       "362       forward     LSTM               15   496  98.224854  4.245208  \n",
       "364       forward     LSTM               15   404  98.223648  4.248096  \n",
       "189       forward     ZERO               15   716  98.175400  4.363475  \n",
       "244       forward     LSTM               15   365  98.020096  4.734884  \n",
       "171       forward       FF               15   764  98.015503  4.745866  \n",
       "276       forward       FF               15   211  97.968956  4.857197  \n",
       "73        forward     ZERO               15   592  97.925865  4.960230  \n",
       "107       forward     LSTM               15   239  97.852531  5.135627  \n",
       "269       forward       FF               15    92  97.840004  5.165573  \n",
       "6         forward     RAND               15   607  97.811623  5.233449  \n",
       "318       forward     LSTM               15   419  97.731064  5.426101  \n",
       "88        forward     ZERO               15   722  97.730324  5.427859  "
      ]
     },
     "execution_count": 95,
     "metadata": {},
     "output_type": "execute_result"
    }
   ],
   "source": [
    "df_short_est = df_res[(df_res[\"seq_est_len\"] == 10)]\n",
    "df_short_est.head(20)"
   ]
  },
  {
   "cell_type": "code",
   "execution_count": 96,
   "id": "a9718a74",
   "metadata": {},
   "outputs": [
    {
     "data": {
      "image/png": "[encoded data removed]",
      "text/plain": [
       "<Figure size 900x360 with 5 Axes>"
      ]
     },
     "metadata": {
      "needs_background": "light"
     },
     "output_type": "display_data"
    }
   ],
   "source": [
    "\n",
    "# Full results: main effects\n",
    "g = sns.PairGrid(df_short_est, y_vars=response,\n",
    "                 x_vars=factors,\n",
    "                 height=5, aspect=.5)\n",
    "g.map(sns.pointplot, scale=1.3)\n",
    "sns.despine(fig=g.fig, left=True)"
   ]
  },
  {
   "cell_type": "code",
   "execution_count": 97,
   "id": "f549ad0a",
   "metadata": {},
   "outputs": [
    {
     "data": {
      "image/png": "[encoded data removed]",
      "text/plain": [
       "<Figure size 900x360 with 5 Axes>"
      ]
     },
     "metadata": {
      "needs_background": "light"
     },
     "output_type": "display_data"
    }
   ],
   "source": [
    "# Full results: main effects\n",
    "g = sns.PairGrid(df_short_est, y_vars=response,\n",
    "                 x_vars=factors,\n",
    "                 height=5, aspect=.5)\n",
    "g.map(sns.boxplot)\n",
    "g.set(ylim=(90, 100))\n",
    "sns.despine(fig=g.fig, left=True)"
   ]
  },
  {
   "cell_type": "code",
   "execution_count": 98,
   "id": "b5ec877f",
   "metadata": {},
   "outputs": [
    {
     "data": {
      "text/html": [
       "<div>\n",
       "<style scoped>\n",
       "    .dataframe tbody tr th:only-of-type {\n",
       "        vertical-align: middle;\n",
       "    }\n",
       "\n",
       "    .dataframe tbody tr th {\n",
       "        vertical-align: top;\n",
       "    }\n",
       "\n",
       "    .dataframe thead th {\n",
       "        text-align: right;\n",
       "    }\n",
       "</style>\n",
       "<table border=\"1\" class=\"dataframe\">\n",
       "  <thead>\n",
       "    <tr style=\"text-align: right;\">\n",
       "      <th></th>\n",
       "      <th>experiment_id</th>\n",
       "      <th>lr</th>\n",
       "      <th>epochs</th>\n",
       "      <th>max_time</th>\n",
       "      <th>batch_size</th>\n",
       "      <th>seq_len</th>\n",
       "      <th>seq_est_len</th>\n",
       "      <th>est_direction</th>\n",
       "      <th>est_type</th>\n",
       "      <th>est_hidden_size</th>\n",
       "      <th>seed</th>\n",
       "      <th>FIT</th>\n",
       "      <th>RMSE</th>\n",
       "    </tr>\n",
       "  </thead>\n",
       "  <tbody>\n",
       "    <tr>\n",
       "      <th>180</th>\n",
       "      <td>5</td>\n",
       "      <td>0.001</td>\n",
       "      <td>10000</td>\n",
       "      <td>3600</td>\n",
       "      <td>128</td>\n",
       "      <td>40</td>\n",
       "      <td>10</td>\n",
       "      <td>forward</td>\n",
       "      <td>LSTM</td>\n",
       "      <td>15</td>\n",
       "      <td>103</td>\n",
       "      <td>98.471809</td>\n",
       "      <td>3.654629</td>\n",
       "    </tr>\n",
       "    <tr>\n",
       "      <th>145</th>\n",
       "      <td>4</td>\n",
       "      <td>0.001</td>\n",
       "      <td>10000</td>\n",
       "      <td>1800</td>\n",
       "      <td>128</td>\n",
       "      <td>40</td>\n",
       "      <td>10</td>\n",
       "      <td>forward</td>\n",
       "      <td>LSTM</td>\n",
       "      <td>15</td>\n",
       "      <td>529</td>\n",
       "      <td>98.450241</td>\n",
       "      <td>3.706205</td>\n",
       "    </tr>\n",
       "    <tr>\n",
       "      <th>151</th>\n",
       "      <td>202</td>\n",
       "      <td>0.001</td>\n",
       "      <td>10000</td>\n",
       "      <td>1800</td>\n",
       "      <td>1024</td>\n",
       "      <td>40</td>\n",
       "      <td>10</td>\n",
       "      <td>forward</td>\n",
       "      <td>FF</td>\n",
       "      <td>15</td>\n",
       "      <td>35</td>\n",
       "      <td>97.709511</td>\n",
       "      <td>5.477643</td>\n",
       "    </tr>\n",
       "    <tr>\n",
       "      <th>255</th>\n",
       "      <td>1</td>\n",
       "      <td>0.001</td>\n",
       "      <td>10000</td>\n",
       "      <td>1800</td>\n",
       "      <td>32</td>\n",
       "      <td>40</td>\n",
       "      <td>10</td>\n",
       "      <td>forward</td>\n",
       "      <td>LSTM</td>\n",
       "      <td>15</td>\n",
       "      <td>122</td>\n",
       "      <td>97.539368</td>\n",
       "      <td>5.884529</td>\n",
       "    </tr>\n",
       "    <tr>\n",
       "      <th>222</th>\n",
       "      <td>2</td>\n",
       "      <td>0.001</td>\n",
       "      <td>10000</td>\n",
       "      <td>3600</td>\n",
       "      <td>32</td>\n",
       "      <td>40</td>\n",
       "      <td>10</td>\n",
       "      <td>forward</td>\n",
       "      <td>LSTM</td>\n",
       "      <td>15</td>\n",
       "      <td>113</td>\n",
       "      <td>97.225960</td>\n",
       "      <td>6.634050</td>\n",
       "    </tr>\n",
       "    <tr>\n",
       "      <th>48</th>\n",
       "      <td>392</td>\n",
       "      <td>0.001</td>\n",
       "      <td>10000</td>\n",
       "      <td>3600</td>\n",
       "      <td>512</td>\n",
       "      <td>40</td>\n",
       "      <td>10</td>\n",
       "      <td>forward</td>\n",
       "      <td>ZERO</td>\n",
       "      <td>15</td>\n",
       "      <td>237</td>\n",
       "      <td>96.215141</td>\n",
       "      <td>9.051389</td>\n",
       "    </tr>\n",
       "    <tr>\n",
       "      <th>291</th>\n",
       "      <td>388</td>\n",
       "      <td>0.001</td>\n",
       "      <td>10000</td>\n",
       "      <td>1800</td>\n",
       "      <td>128</td>\n",
       "      <td>40</td>\n",
       "      <td>10</td>\n",
       "      <td>forward</td>\n",
       "      <td>ZERO</td>\n",
       "      <td>15</td>\n",
       "      <td>100</td>\n",
       "      <td>95.871552</td>\n",
       "      <td>9.873079</td>\n",
       "    </tr>\n",
       "    <tr>\n",
       "      <th>266</th>\n",
       "      <td>389</td>\n",
       "      <td>0.001</td>\n",
       "      <td>10000</td>\n",
       "      <td>3600</td>\n",
       "      <td>128</td>\n",
       "      <td>40</td>\n",
       "      <td>10</td>\n",
       "      <td>forward</td>\n",
       "      <td>ZERO</td>\n",
       "      <td>15</td>\n",
       "      <td>679</td>\n",
       "      <td>95.796303</td>\n",
       "      <td>10.053026</td>\n",
       "    </tr>\n",
       "    <tr>\n",
       "      <th>384</th>\n",
       "      <td>394</td>\n",
       "      <td>0.001</td>\n",
       "      <td>10000</td>\n",
       "      <td>1800</td>\n",
       "      <td>1024</td>\n",
       "      <td>40</td>\n",
       "      <td>10</td>\n",
       "      <td>forward</td>\n",
       "      <td>ZERO</td>\n",
       "      <td>15</td>\n",
       "      <td>56</td>\n",
       "      <td>95.556435</td>\n",
       "      <td>10.626674</td>\n",
       "    </tr>\n",
       "    <tr>\n",
       "      <th>218</th>\n",
       "      <td>587</td>\n",
       "      <td>0.001</td>\n",
       "      <td>10000</td>\n",
       "      <td>3600</td>\n",
       "      <td>1024</td>\n",
       "      <td>40</td>\n",
       "      <td>10</td>\n",
       "      <td>forward</td>\n",
       "      <td>RAND</td>\n",
       "      <td>15</td>\n",
       "      <td>129</td>\n",
       "      <td>95.301231</td>\n",
       "      <td>11.236983</td>\n",
       "    </tr>\n",
       "    <tr>\n",
       "      <th>372</th>\n",
       "      <td>198</td>\n",
       "      <td>0.001</td>\n",
       "      <td>10000</td>\n",
       "      <td>300</td>\n",
       "      <td>512</td>\n",
       "      <td>40</td>\n",
       "      <td>10</td>\n",
       "      <td>forward</td>\n",
       "      <td>FF</td>\n",
       "      <td>15</td>\n",
       "      <td>268</td>\n",
       "      <td>95.275185</td>\n",
       "      <td>11.299261</td>\n",
       "    </tr>\n",
       "    <tr>\n",
       "      <th>3</th>\n",
       "      <td>583</td>\n",
       "      <td>0.001</td>\n",
       "      <td>10000</td>\n",
       "      <td>1800</td>\n",
       "      <td>512</td>\n",
       "      <td>40</td>\n",
       "      <td>10</td>\n",
       "      <td>forward</td>\n",
       "      <td>RAND</td>\n",
       "      <td>15</td>\n",
       "      <td>67</td>\n",
       "      <td>95.246140</td>\n",
       "      <td>11.368725</td>\n",
       "    </tr>\n",
       "    <tr>\n",
       "      <th>238</th>\n",
       "      <td>580</td>\n",
       "      <td>0.001</td>\n",
       "      <td>10000</td>\n",
       "      <td>1800</td>\n",
       "      <td>128</td>\n",
       "      <td>40</td>\n",
       "      <td>10</td>\n",
       "      <td>forward</td>\n",
       "      <td>RAND</td>\n",
       "      <td>15</td>\n",
       "      <td>664</td>\n",
       "      <td>95.171181</td>\n",
       "      <td>11.547980</td>\n",
       "    </tr>\n",
       "    <tr>\n",
       "      <th>390</th>\n",
       "      <td>581</td>\n",
       "      <td>0.001</td>\n",
       "      <td>10000</td>\n",
       "      <td>3600</td>\n",
       "      <td>128</td>\n",
       "      <td>40</td>\n",
       "      <td>10</td>\n",
       "      <td>forward</td>\n",
       "      <td>RAND</td>\n",
       "      <td>15</td>\n",
       "      <td>703</td>\n",
       "      <td>94.809372</td>\n",
       "      <td>12.413242</td>\n",
       "    </tr>\n",
       "    <tr>\n",
       "      <th>4</th>\n",
       "      <td>192</td>\n",
       "      <td>0.001</td>\n",
       "      <td>10000</td>\n",
       "      <td>300</td>\n",
       "      <td>32</td>\n",
       "      <td>40</td>\n",
       "      <td>10</td>\n",
       "      <td>forward</td>\n",
       "      <td>FF</td>\n",
       "      <td>15</td>\n",
       "      <td>762</td>\n",
       "      <td>94.797913</td>\n",
       "      <td>12.440646</td>\n",
       "    </tr>\n",
       "    <tr>\n",
       "      <th>30</th>\n",
       "      <td>584</td>\n",
       "      <td>0.001</td>\n",
       "      <td>10000</td>\n",
       "      <td>3600</td>\n",
       "      <td>512</td>\n",
       "      <td>40</td>\n",
       "      <td>10</td>\n",
       "      <td>forward</td>\n",
       "      <td>RAND</td>\n",
       "      <td>15</td>\n",
       "      <td>24</td>\n",
       "      <td>94.727516</td>\n",
       "      <td>12.609009</td>\n",
       "    </tr>\n",
       "    <tr>\n",
       "      <th>378</th>\n",
       "      <td>390</td>\n",
       "      <td>0.001</td>\n",
       "      <td>10000</td>\n",
       "      <td>300</td>\n",
       "      <td>512</td>\n",
       "      <td>40</td>\n",
       "      <td>10</td>\n",
       "      <td>forward</td>\n",
       "      <td>ZERO</td>\n",
       "      <td>15</td>\n",
       "      <td>631</td>\n",
       "      <td>94.566765</td>\n",
       "      <td>12.993431</td>\n",
       "    </tr>\n",
       "    <tr>\n",
       "      <th>95</th>\n",
       "      <td>578</td>\n",
       "      <td>0.001</td>\n",
       "      <td>10000</td>\n",
       "      <td>3600</td>\n",
       "      <td>32</td>\n",
       "      <td>40</td>\n",
       "      <td>10</td>\n",
       "      <td>forward</td>\n",
       "      <td>RAND</td>\n",
       "      <td>15</td>\n",
       "      <td>646</td>\n",
       "      <td>94.535461</td>\n",
       "      <td>13.068295</td>\n",
       "    </tr>\n",
       "    <tr>\n",
       "      <th>394</th>\n",
       "      <td>577</td>\n",
       "      <td>0.001</td>\n",
       "      <td>10000</td>\n",
       "      <td>1800</td>\n",
       "      <td>32</td>\n",
       "      <td>40</td>\n",
       "      <td>10</td>\n",
       "      <td>forward</td>\n",
       "      <td>RAND</td>\n",
       "      <td>15</td>\n",
       "      <td>212</td>\n",
       "      <td>94.457726</td>\n",
       "      <td>13.254193</td>\n",
       "    </tr>\n",
       "    <tr>\n",
       "      <th>50</th>\n",
       "      <td>6</td>\n",
       "      <td>0.001</td>\n",
       "      <td>10000</td>\n",
       "      <td>300</td>\n",
       "      <td>512</td>\n",
       "      <td>40</td>\n",
       "      <td>10</td>\n",
       "      <td>forward</td>\n",
       "      <td>LSTM</td>\n",
       "      <td>15</td>\n",
       "      <td>338</td>\n",
       "      <td>93.921761</td>\n",
       "      <td>14.535933</td>\n",
       "    </tr>\n",
       "  </tbody>\n",
       "</table>\n",
       "</div>"
      ],
      "text/plain": [
       "     experiment_id     lr  epochs max_time batch_size seq_len seq_est_len  \\\n",
       "180              5  0.001   10000     3600        128      40          10   \n",
       "145              4  0.001   10000     1800        128      40          10   \n",
       "151            202  0.001   10000     1800       1024      40          10   \n",
       "255              1  0.001   10000     1800         32      40          10   \n",
       "222              2  0.001   10000     3600         32      40          10   \n",
       "48             392  0.001   10000     3600        512      40          10   \n",
       "291            388  0.001   10000     1800        128      40          10   \n",
       "266            389  0.001   10000     3600        128      40          10   \n",
       "384            394  0.001   10000     1800       1024      40          10   \n",
       "218            587  0.001   10000     3600       1024      40          10   \n",
       "372            198  0.001   10000      300        512      40          10   \n",
       "3              583  0.001   10000     1800        512      40          10   \n",
       "238            580  0.001   10000     1800        128      40          10   \n",
       "390            581  0.001   10000     3600        128      40          10   \n",
       "4              192  0.001   10000      300         32      40          10   \n",
       "30             584  0.001   10000     3600        512      40          10   \n",
       "378            390  0.001   10000      300        512      40          10   \n",
       "95             578  0.001   10000     3600         32      40          10   \n",
       "394            577  0.001   10000     1800         32      40          10   \n",
       "50               6  0.001   10000      300        512      40          10   \n",
       "\n",
       "    est_direction est_type  est_hidden_size  seed        FIT       RMSE  \n",
       "180       forward     LSTM               15   103  98.471809   3.654629  \n",
       "145       forward     LSTM               15   529  98.450241   3.706205  \n",
       "151       forward       FF               15    35  97.709511   5.477643  \n",
       "255       forward     LSTM               15   122  97.539368   5.884529  \n",
       "222       forward     LSTM               15   113  97.225960   6.634050  \n",
       "48        forward     ZERO               15   237  96.215141   9.051389  \n",
       "291       forward     ZERO               15   100  95.871552   9.873079  \n",
       "266       forward     ZERO               15   679  95.796303  10.053026  \n",
       "384       forward     ZERO               15    56  95.556435  10.626674  \n",
       "218       forward     RAND               15   129  95.301231  11.236983  \n",
       "372       forward       FF               15   268  95.275185  11.299261  \n",
       "3         forward     RAND               15    67  95.246140  11.368725  \n",
       "238       forward     RAND               15   664  95.171181  11.547980  \n",
       "390       forward     RAND               15   703  94.809372  12.413242  \n",
       "4         forward       FF               15   762  94.797913  12.440646  \n",
       "30        forward     RAND               15    24  94.727516  12.609009  \n",
       "378       forward     ZERO               15   631  94.566765  12.993431  \n",
       "95        forward     RAND               15   646  94.535461  13.068295  \n",
       "394       forward     RAND               15   212  94.457726  13.254193  \n",
       "50        forward     LSTM               15   338  93.921761  14.535933  "
      ]
     },
     "execution_count": 98,
     "metadata": {},
     "output_type": "execute_result"
    }
   ],
   "source": [
    "df_short_train = df_res[(df_res[\"seq_len\"] == 40) & (df_res[\"seq_est_len\"] == 10)]\n",
    "df_short_train.head(20)"
   ]
  },
  {
   "cell_type": "code",
   "execution_count": 99,
   "id": "54b37168",
   "metadata": {},
   "outputs": [
    {
     "data": {
      "image/png": "[encoded data removed]",
      "text/plain": [
       "<Figure size 900x360 with 5 Axes>"
      ]
     },
     "metadata": {
      "needs_background": "light"
     },
     "output_type": "display_data"
    }
   ],
   "source": [
    "# Full results: main effects\n",
    "g = sns.PairGrid(df_short_train, y_vars=response,\n",
    "                 x_vars=factors,\n",
    "                 height=5, aspect=.5)\n",
    "g.map(sns.boxplot)\n",
    "g.set(ylim=(90, 100))\n",
    "sns.despine(fig=g.fig, left=True)"
   ]
  },
  {
   "cell_type": "code",
   "execution_count": null,
   "id": "72af4a77",
   "metadata": {},
   "outputs": [],
   "source": []
  }
 ],
 "metadata": {
  "kernelspec": {
   "display_name": "Python 3 (ipykernel)",
   "language": "python",
   "name": "python3"
  },
  "language_info": {
   "codemirror_mode": {
    "name": "ipython",
    "version": 3
   },
   "file_extension": ".py",
   "mimetype": "text/x-python",
   "name": "python",
   "nbconvert_exporter": "python",
   "pygments_lexer": "ipython3",
   "version": "3.9.7"
  }
 },
 "nbformat": 4,
 "nbformat_minor": 5
}
