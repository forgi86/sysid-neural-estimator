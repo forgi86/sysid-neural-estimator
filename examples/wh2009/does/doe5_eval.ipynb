{
 "cells": [
  {
   "cell_type": "code",
   "execution_count": 1,
   "id": "0e8c6b55",
   "metadata": {
    "pycharm": {
     "name": "#%%\n"
    }
   },
   "outputs": [],
   "source": [
    "import os\n",
    "import matplotlib\n",
    "import plotly\n",
    "from plotly.subplots import make_subplots\n",
    "import plotly.graph_objects as go\n",
    "import plotly.express as px\n",
    "import seaborn as sns\n",
    "import pandas as pd\n",
    "import numpy as np"
   ]
  },
  {
   "cell_type": "code",
   "execution_count": 2,
   "id": "adac7b40",
   "metadata": {
    "pycharm": {
     "name": "#%%\n"
    }
   },
   "outputs": [],
   "source": [
    "DOE_NAME = \"doe5\"\n",
    "factors = [\"max_time\", \"batch_size\", \"seq_len\", \"seq_est_len\",  \"est_type\"]\n",
    "response = \"FIT\""
   ]
  },
  {
   "cell_type": "code",
   "execution_count": 3,
   "id": "4a73f474",
   "metadata": {
    "pycharm": {
     "name": "#%%\n"
    }
   },
   "outputs": [],
   "source": [
    "df_res = pd.read_csv(DOE_NAME + \"_res.csv\")  # doe1_res.csv"
   ]
  },
  {
   "cell_type": "code",
   "execution_count": 4,
   "id": "1cf7cb24",
   "metadata": {
    "pycharm": {
     "name": "#%%\n"
    },
    "scrolled": false
   },
   "outputs": [],
   "source": [
    "df_res.sort_values(by=response, inplace=True, ascending=False)\n",
    "df_res[\"RMSE\"] = df_res[\"RMSE\"].fillna(1000)\n",
    "df_res[\"FIT\"] = df_res[\"FIT\"] * (df_res[\"FIT\"] > 0) # minimum fit to 0% (easier to interpret)\n",
    "df_res[\"FIT\"] = df_res[\"FIT\"].fillna(0.0)\n",
    "#df_res[\"FIT\"] = df_res[\"FIT\"].fillna(np.min(df_res[\"FIT\"])-0.1)"
   ]
  },
  {
   "cell_type": "code",
   "execution_count": 5,
   "id": "b1af9fe9",
   "metadata": {
    "pycharm": {
     "name": "#%%\n"
    }
   },
   "outputs": [],
   "source": [
    "for factor in factors:\n",
    "    df_res[factor] = df_res[factor].astype(\"category\")"
   ]
  },
  {
   "cell_type": "markdown",
   "id": "cfb6b82e",
   "metadata": {},
   "source": [
    "Best model LSTM, followed by RAND and ZERO. You can get high performance without an estimator!"
   ]
  },
  {
   "cell_type": "code",
   "execution_count": 6,
   "id": "6e42ce51",
   "metadata": {
    "pycharm": {
     "name": "#%%\n"
    }
   },
   "outputs": [
    {
     "data": {
      "text/html": [
       "<div>\n",
       "<style scoped>\n",
       "    .dataframe tbody tr th:only-of-type {\n",
       "        vertical-align: middle;\n",
       "    }\n",
       "\n",
       "    .dataframe tbody tr th {\n",
       "        vertical-align: top;\n",
       "    }\n",
       "\n",
       "    .dataframe thead th {\n",
       "        text-align: right;\n",
       "    }\n",
       "</style>\n",
       "<table border=\"1\" class=\"dataframe\">\n",
       "  <thead>\n",
       "    <tr style=\"text-align: right;\">\n",
       "      <th></th>\n",
       "      <th>experiment_id</th>\n",
       "      <th>lr</th>\n",
       "      <th>epochs</th>\n",
       "      <th>max_time</th>\n",
       "      <th>batch_size</th>\n",
       "      <th>seq_len</th>\n",
       "      <th>seq_est_len</th>\n",
       "      <th>est_direction</th>\n",
       "      <th>est_type</th>\n",
       "      <th>est_hidden_size</th>\n",
       "      <th>seed</th>\n",
       "      <th>FIT</th>\n",
       "      <th>RMSE</th>\n",
       "    </tr>\n",
       "  </thead>\n",
       "  <tbody>\n",
       "    <tr>\n",
       "      <th>26</th>\n",
       "      <td>113</td>\n",
       "      <td>0.001</td>\n",
       "      <td>10000</td>\n",
       "      <td>3600</td>\n",
       "      <td>128</td>\n",
       "      <td>80</td>\n",
       "      <td>40</td>\n",
       "      <td>forward</td>\n",
       "      <td>LSTM</td>\n",
       "      <td>15</td>\n",
       "      <td>187</td>\n",
       "      <td>98.967903</td>\n",
       "      <td>2.468226</td>\n",
       "    </tr>\n",
       "    <tr>\n",
       "      <th>409</th>\n",
       "      <td>692</td>\n",
       "      <td>0.001</td>\n",
       "      <td>10000</td>\n",
       "      <td>3600</td>\n",
       "      <td>512</td>\n",
       "      <td>80</td>\n",
       "      <td>40</td>\n",
       "      <td>forward</td>\n",
       "      <td>RAND</td>\n",
       "      <td>15</td>\n",
       "      <td>324</td>\n",
       "      <td>98.893478</td>\n",
       "      <td>2.646225</td>\n",
       "    </tr>\n",
       "    <tr>\n",
       "      <th>162</th>\n",
       "      <td>536</td>\n",
       "      <td>0.001</td>\n",
       "      <td>10000</td>\n",
       "      <td>3600</td>\n",
       "      <td>512</td>\n",
       "      <td>40</td>\n",
       "      <td>80</td>\n",
       "      <td>forward</td>\n",
       "      <td>ZERO</td>\n",
       "      <td>15</td>\n",
       "      <td>176</td>\n",
       "      <td>98.874252</td>\n",
       "      <td>2.692188</td>\n",
       "    </tr>\n",
       "    <tr>\n",
       "      <th>685</th>\n",
       "      <td>677</td>\n",
       "      <td>0.001</td>\n",
       "      <td>10000</td>\n",
       "      <td>3600</td>\n",
       "      <td>128</td>\n",
       "      <td>40</td>\n",
       "      <td>40</td>\n",
       "      <td>forward</td>\n",
       "      <td>RAND</td>\n",
       "      <td>15</td>\n",
       "      <td>95</td>\n",
       "      <td>98.823860</td>\n",
       "      <td>2.812717</td>\n",
       "    </tr>\n",
       "    <tr>\n",
       "      <th>24</th>\n",
       "      <td>743</td>\n",
       "      <td>0.001</td>\n",
       "      <td>10000</td>\n",
       "      <td>3600</td>\n",
       "      <td>1024</td>\n",
       "      <td>80</td>\n",
       "      <td>80</td>\n",
       "      <td>forward</td>\n",
       "      <td>RAND</td>\n",
       "      <td>15</td>\n",
       "      <td>537</td>\n",
       "      <td>98.818459</td>\n",
       "      <td>2.825626</td>\n",
       "    </tr>\n",
       "    <tr>\n",
       "      <th>103</th>\n",
       "      <td>173</td>\n",
       "      <td>0.001</td>\n",
       "      <td>10000</td>\n",
       "      <td>3600</td>\n",
       "      <td>128</td>\n",
       "      <td>160</td>\n",
       "      <td>80</td>\n",
       "      <td>forward</td>\n",
       "      <td>LSTM</td>\n",
       "      <td>15</td>\n",
       "      <td>739</td>\n",
       "      <td>98.781624</td>\n",
       "      <td>2.913701</td>\n",
       "    </tr>\n",
       "    <tr>\n",
       "      <th>99</th>\n",
       "      <td>353</td>\n",
       "      <td>0.001</td>\n",
       "      <td>10000</td>\n",
       "      <td>3600</td>\n",
       "      <td>128</td>\n",
       "      <td>80</td>\n",
       "      <td>80</td>\n",
       "      <td>forward</td>\n",
       "      <td>FF</td>\n",
       "      <td>15</td>\n",
       "      <td>731</td>\n",
       "      <td>98.755615</td>\n",
       "      <td>2.975917</td>\n",
       "    </tr>\n",
       "    <tr>\n",
       "      <th>682</th>\n",
       "      <td>272</td>\n",
       "      <td>0.001</td>\n",
       "      <td>10000</td>\n",
       "      <td>3600</td>\n",
       "      <td>512</td>\n",
       "      <td>160</td>\n",
       "      <td>20</td>\n",
       "      <td>forward</td>\n",
       "      <td>FF</td>\n",
       "      <td>15</td>\n",
       "      <td>104</td>\n",
       "      <td>98.690544</td>\n",
       "      <td>3.131527</td>\n",
       "    </tr>\n",
       "    <tr>\n",
       "      <th>347</th>\n",
       "      <td>362</td>\n",
       "      <td>0.001</td>\n",
       "      <td>10000</td>\n",
       "      <td>3600</td>\n",
       "      <td>32</td>\n",
       "      <td>160</td>\n",
       "      <td>80</td>\n",
       "      <td>forward</td>\n",
       "      <td>FF</td>\n",
       "      <td>15</td>\n",
       "      <td>20</td>\n",
       "      <td>98.687134</td>\n",
       "      <td>3.139684</td>\n",
       "    </tr>\n",
       "    <tr>\n",
       "      <th>32</th>\n",
       "      <td>53</td>\n",
       "      <td>0.001</td>\n",
       "      <td>10000</td>\n",
       "      <td>3600</td>\n",
       "      <td>128</td>\n",
       "      <td>40</td>\n",
       "      <td>20</td>\n",
       "      <td>forward</td>\n",
       "      <td>LSTM</td>\n",
       "      <td>15</td>\n",
       "      <td>756</td>\n",
       "      <td>98.685600</td>\n",
       "      <td>3.143355</td>\n",
       "    </tr>\n",
       "    <tr>\n",
       "      <th>376</th>\n",
       "      <td>50</td>\n",
       "      <td>0.001</td>\n",
       "      <td>10000</td>\n",
       "      <td>3600</td>\n",
       "      <td>32</td>\n",
       "      <td>40</td>\n",
       "      <td>20</td>\n",
       "      <td>forward</td>\n",
       "      <td>LSTM</td>\n",
       "      <td>15</td>\n",
       "      <td>578</td>\n",
       "      <td>98.679924</td>\n",
       "      <td>3.156932</td>\n",
       "    </tr>\n",
       "    <tr>\n",
       "      <th>357</th>\n",
       "      <td>734</td>\n",
       "      <td>0.001</td>\n",
       "      <td>10000</td>\n",
       "      <td>3600</td>\n",
       "      <td>32</td>\n",
       "      <td>80</td>\n",
       "      <td>80</td>\n",
       "      <td>forward</td>\n",
       "      <td>RAND</td>\n",
       "      <td>15</td>\n",
       "      <td>147</td>\n",
       "      <td>98.667702</td>\n",
       "      <td>3.186140</td>\n",
       "    </tr>\n",
       "    <tr>\n",
       "      <th>658</th>\n",
       "      <td>119</td>\n",
       "      <td>0.001</td>\n",
       "      <td>10000</td>\n",
       "      <td>3600</td>\n",
       "      <td>1024</td>\n",
       "      <td>80</td>\n",
       "      <td>40</td>\n",
       "      <td>forward</td>\n",
       "      <td>LSTM</td>\n",
       "      <td>15</td>\n",
       "      <td>740</td>\n",
       "      <td>98.663017</td>\n",
       "      <td>3.197347</td>\n",
       "    </tr>\n",
       "    <tr>\n",
       "      <th>87</th>\n",
       "      <td>755</td>\n",
       "      <td>0.001</td>\n",
       "      <td>10000</td>\n",
       "      <td>3600</td>\n",
       "      <td>1024</td>\n",
       "      <td>160</td>\n",
       "      <td>80</td>\n",
       "      <td>forward</td>\n",
       "      <td>RAND</td>\n",
       "      <td>15</td>\n",
       "      <td>70</td>\n",
       "      <td>98.660507</td>\n",
       "      <td>3.203358</td>\n",
       "    </tr>\n",
       "    <tr>\n",
       "      <th>303</th>\n",
       "      <td>23</td>\n",
       "      <td>0.001</td>\n",
       "      <td>10000</td>\n",
       "      <td>3600</td>\n",
       "      <td>1024</td>\n",
       "      <td>80</td>\n",
       "      <td>10</td>\n",
       "      <td>forward</td>\n",
       "      <td>LSTM</td>\n",
       "      <td>15</td>\n",
       "      <td>352</td>\n",
       "      <td>98.647896</td>\n",
       "      <td>3.233535</td>\n",
       "    </tr>\n",
       "    <tr>\n",
       "      <th>434</th>\n",
       "      <td>679</td>\n",
       "      <td>0.001</td>\n",
       "      <td>10000</td>\n",
       "      <td>1800</td>\n",
       "      <td>512</td>\n",
       "      <td>40</td>\n",
       "      <td>40</td>\n",
       "      <td>forward</td>\n",
       "      <td>RAND</td>\n",
       "      <td>15</td>\n",
       "      <td>759</td>\n",
       "      <td>98.639862</td>\n",
       "      <td>3.252733</td>\n",
       "    </tr>\n",
       "    <tr>\n",
       "      <th>719</th>\n",
       "      <td>101</td>\n",
       "      <td>0.001</td>\n",
       "      <td>10000</td>\n",
       "      <td>3600</td>\n",
       "      <td>128</td>\n",
       "      <td>40</td>\n",
       "      <td>40</td>\n",
       "      <td>forward</td>\n",
       "      <td>LSTM</td>\n",
       "      <td>15</td>\n",
       "      <td>156</td>\n",
       "      <td>98.639091</td>\n",
       "      <td>3.254580</td>\n",
       "    </tr>\n",
       "    <tr>\n",
       "      <th>520</th>\n",
       "      <td>269</td>\n",
       "      <td>0.001</td>\n",
       "      <td>10000</td>\n",
       "      <td>3600</td>\n",
       "      <td>128</td>\n",
       "      <td>160</td>\n",
       "      <td>20</td>\n",
       "      <td>forward</td>\n",
       "      <td>FF</td>\n",
       "      <td>15</td>\n",
       "      <td>6</td>\n",
       "      <td>98.637733</td>\n",
       "      <td>3.257827</td>\n",
       "    </tr>\n",
       "    <tr>\n",
       "      <th>165</th>\n",
       "      <td>746</td>\n",
       "      <td>0.001</td>\n",
       "      <td>10000</td>\n",
       "      <td>3600</td>\n",
       "      <td>32</td>\n",
       "      <td>160</td>\n",
       "      <td>80</td>\n",
       "      <td>forward</td>\n",
       "      <td>RAND</td>\n",
       "      <td>15</td>\n",
       "      <td>174</td>\n",
       "      <td>98.633842</td>\n",
       "      <td>3.267132</td>\n",
       "    </tr>\n",
       "    <tr>\n",
       "      <th>695</th>\n",
       "      <td>209</td>\n",
       "      <td>0.001</td>\n",
       "      <td>10000</td>\n",
       "      <td>3600</td>\n",
       "      <td>128</td>\n",
       "      <td>80</td>\n",
       "      <td>10</td>\n",
       "      <td>forward</td>\n",
       "      <td>FF</td>\n",
       "      <td>15</td>\n",
       "      <td>465</td>\n",
       "      <td>98.624115</td>\n",
       "      <td>3.290384</td>\n",
       "    </tr>\n",
       "  </tbody>\n",
       "</table>\n",
       "</div>"
      ],
      "text/plain": [
       "     experiment_id     lr  epochs max_time batch_size seq_len seq_est_len  \\\n",
       "26             113  0.001   10000     3600        128      80          40   \n",
       "409            692  0.001   10000     3600        512      80          40   \n",
       "162            536  0.001   10000     3600        512      40          80   \n",
       "685            677  0.001   10000     3600        128      40          40   \n",
       "24             743  0.001   10000     3600       1024      80          80   \n",
       "103            173  0.001   10000     3600        128     160          80   \n",
       "99             353  0.001   10000     3600        128      80          80   \n",
       "682            272  0.001   10000     3600        512     160          20   \n",
       "347            362  0.001   10000     3600         32     160          80   \n",
       "32              53  0.001   10000     3600        128      40          20   \n",
       "376             50  0.001   10000     3600         32      40          20   \n",
       "357            734  0.001   10000     3600         32      80          80   \n",
       "658            119  0.001   10000     3600       1024      80          40   \n",
       "87             755  0.001   10000     3600       1024     160          80   \n",
       "303             23  0.001   10000     3600       1024      80          10   \n",
       "434            679  0.001   10000     1800        512      40          40   \n",
       "719            101  0.001   10000     3600        128      40          40   \n",
       "520            269  0.001   10000     3600        128     160          20   \n",
       "165            746  0.001   10000     3600         32     160          80   \n",
       "695            209  0.001   10000     3600        128      80          10   \n",
       "\n",
       "    est_direction est_type  est_hidden_size  seed        FIT      RMSE  \n",
       "26        forward     LSTM               15   187  98.967903  2.468226  \n",
       "409       forward     RAND               15   324  98.893478  2.646225  \n",
       "162       forward     ZERO               15   176  98.874252  2.692188  \n",
       "685       forward     RAND               15    95  98.823860  2.812717  \n",
       "24        forward     RAND               15   537  98.818459  2.825626  \n",
       "103       forward     LSTM               15   739  98.781624  2.913701  \n",
       "99        forward       FF               15   731  98.755615  2.975917  \n",
       "682       forward       FF               15   104  98.690544  3.131527  \n",
       "347       forward       FF               15    20  98.687134  3.139684  \n",
       "32        forward     LSTM               15   756  98.685600  3.143355  \n",
       "376       forward     LSTM               15   578  98.679924  3.156932  \n",
       "357       forward     RAND               15   147  98.667702  3.186140  \n",
       "658       forward     LSTM               15   740  98.663017  3.197347  \n",
       "87        forward     RAND               15    70  98.660507  3.203358  \n",
       "303       forward     LSTM               15   352  98.647896  3.233535  \n",
       "434       forward     RAND               15   759  98.639862  3.252733  \n",
       "719       forward     LSTM               15   156  98.639091  3.254580  \n",
       "520       forward       FF               15     6  98.637733  3.257827  \n",
       "165       forward     RAND               15   174  98.633842  3.267132  \n",
       "695       forward       FF               15   465  98.624115  3.290384  "
      ]
     },
     "execution_count": 6,
     "metadata": {},
     "output_type": "execute_result"
    }
   ],
   "source": [
    "df_res.head(20)"
   ]
  },
  {
   "cell_type": "markdown",
   "id": "f34a9415",
   "metadata": {},
   "source": [
    "Worst models all related to short training"
   ]
  },
  {
   "cell_type": "code",
   "execution_count": 7,
   "id": "7f8775ba",
   "metadata": {
    "pycharm": {
     "name": "#%%\n"
    },
    "scrolled": false
   },
   "outputs": [
    {
     "data": {
      "text/html": [
       "<div>\n",
       "<style scoped>\n",
       "    .dataframe tbody tr th:only-of-type {\n",
       "        vertical-align: middle;\n",
       "    }\n",
       "\n",
       "    .dataframe tbody tr th {\n",
       "        vertical-align: top;\n",
       "    }\n",
       "\n",
       "    .dataframe thead th {\n",
       "        text-align: right;\n",
       "    }\n",
       "</style>\n",
       "<table border=\"1\" class=\"dataframe\">\n",
       "  <thead>\n",
       "    <tr style=\"text-align: right;\">\n",
       "      <th></th>\n",
       "      <th>experiment_id</th>\n",
       "      <th>lr</th>\n",
       "      <th>epochs</th>\n",
       "      <th>max_time</th>\n",
       "      <th>batch_size</th>\n",
       "      <th>seq_len</th>\n",
       "      <th>seq_est_len</th>\n",
       "      <th>est_direction</th>\n",
       "      <th>est_type</th>\n",
       "      <th>est_hidden_size</th>\n",
       "      <th>seed</th>\n",
       "      <th>FIT</th>\n",
       "      <th>RMSE</th>\n",
       "    </tr>\n",
       "  </thead>\n",
       "  <tbody>\n",
       "    <tr>\n",
       "      <th>332</th>\n",
       "      <td>39</td>\n",
       "      <td>0.001</td>\n",
       "      <td>10000</td>\n",
       "      <td>300</td>\n",
       "      <td>128</td>\n",
       "      <td>320</td>\n",
       "      <td>10</td>\n",
       "      <td>forward</td>\n",
       "      <td>LSTM</td>\n",
       "      <td>15</td>\n",
       "      <td>40</td>\n",
       "      <td>89.375107</td>\n",
       "      <td>25.409145</td>\n",
       "    </tr>\n",
       "    <tr>\n",
       "      <th>114</th>\n",
       "      <td>93</td>\n",
       "      <td>0.001</td>\n",
       "      <td>10000</td>\n",
       "      <td>300</td>\n",
       "      <td>1024</td>\n",
       "      <td>320</td>\n",
       "      <td>20</td>\n",
       "      <td>forward</td>\n",
       "      <td>LSTM</td>\n",
       "      <td>15</td>\n",
       "      <td>50</td>\n",
       "      <td>89.281738</td>\n",
       "      <td>25.632439</td>\n",
       "    </tr>\n",
       "    <tr>\n",
       "      <th>616</th>\n",
       "      <td>183</td>\n",
       "      <td>0.001</td>\n",
       "      <td>10000</td>\n",
       "      <td>300</td>\n",
       "      <td>128</td>\n",
       "      <td>320</td>\n",
       "      <td>80</td>\n",
       "      <td>forward</td>\n",
       "      <td>LSTM</td>\n",
       "      <td>15</td>\n",
       "      <td>45</td>\n",
       "      <td>89.254318</td>\n",
       "      <td>25.697999</td>\n",
       "    </tr>\n",
       "    <tr>\n",
       "      <th>252</th>\n",
       "      <td>153</td>\n",
       "      <td>0.001</td>\n",
       "      <td>10000</td>\n",
       "      <td>300</td>\n",
       "      <td>1024</td>\n",
       "      <td>40</td>\n",
       "      <td>80</td>\n",
       "      <td>forward</td>\n",
       "      <td>LSTM</td>\n",
       "      <td>15</td>\n",
       "      <td>380</td>\n",
       "      <td>89.174286</td>\n",
       "      <td>25.889415</td>\n",
       "    </tr>\n",
       "    <tr>\n",
       "      <th>410</th>\n",
       "      <td>756</td>\n",
       "      <td>0.001</td>\n",
       "      <td>10000</td>\n",
       "      <td>300</td>\n",
       "      <td>32</td>\n",
       "      <td>320</td>\n",
       "      <td>80</td>\n",
       "      <td>forward</td>\n",
       "      <td>RAND</td>\n",
       "      <td>15</td>\n",
       "      <td>599</td>\n",
       "      <td>89.151314</td>\n",
       "      <td>25.944343</td>\n",
       "    </tr>\n",
       "    <tr>\n",
       "      <th>414</th>\n",
       "      <td>186</td>\n",
       "      <td>0.001</td>\n",
       "      <td>10000</td>\n",
       "      <td>300</td>\n",
       "      <td>512</td>\n",
       "      <td>320</td>\n",
       "      <td>80</td>\n",
       "      <td>forward</td>\n",
       "      <td>LSTM</td>\n",
       "      <td>15</td>\n",
       "      <td>78</td>\n",
       "      <td>88.607635</td>\n",
       "      <td>27.244540</td>\n",
       "    </tr>\n",
       "    <tr>\n",
       "      <th>181</th>\n",
       "      <td>522</td>\n",
       "      <td>0.001</td>\n",
       "      <td>10000</td>\n",
       "      <td>300</td>\n",
       "      <td>512</td>\n",
       "      <td>320</td>\n",
       "      <td>40</td>\n",
       "      <td>forward</td>\n",
       "      <td>ZERO</td>\n",
       "      <td>15</td>\n",
       "      <td>322</td>\n",
       "      <td>88.538139</td>\n",
       "      <td>27.410721</td>\n",
       "    </tr>\n",
       "    <tr>\n",
       "      <th>370</th>\n",
       "      <td>567</td>\n",
       "      <td>0.001</td>\n",
       "      <td>10000</td>\n",
       "      <td>300</td>\n",
       "      <td>128</td>\n",
       "      <td>320</td>\n",
       "      <td>80</td>\n",
       "      <td>forward</td>\n",
       "      <td>ZERO</td>\n",
       "      <td>15</td>\n",
       "      <td>547</td>\n",
       "      <td>88.510361</td>\n",
       "      <td>27.477149</td>\n",
       "    </tr>\n",
       "    <tr>\n",
       "      <th>160</th>\n",
       "      <td>333</td>\n",
       "      <td>0.001</td>\n",
       "      <td>10000</td>\n",
       "      <td>300</td>\n",
       "      <td>1024</td>\n",
       "      <td>320</td>\n",
       "      <td>40</td>\n",
       "      <td>forward</td>\n",
       "      <td>FF</td>\n",
       "      <td>15</td>\n",
       "      <td>346</td>\n",
       "      <td>88.433067</td>\n",
       "      <td>27.662007</td>\n",
       "    </tr>\n",
       "    <tr>\n",
       "      <th>157</th>\n",
       "      <td>120</td>\n",
       "      <td>0.001</td>\n",
       "      <td>10000</td>\n",
       "      <td>300</td>\n",
       "      <td>32</td>\n",
       "      <td>160</td>\n",
       "      <td>40</td>\n",
       "      <td>forward</td>\n",
       "      <td>LSTM</td>\n",
       "      <td>15</td>\n",
       "      <td>725</td>\n",
       "      <td>88.398041</td>\n",
       "      <td>27.745780</td>\n",
       "    </tr>\n",
       "    <tr>\n",
       "      <th>308</th>\n",
       "      <td>42</td>\n",
       "      <td>0.001</td>\n",
       "      <td>10000</td>\n",
       "      <td>300</td>\n",
       "      <td>512</td>\n",
       "      <td>320</td>\n",
       "      <td>10</td>\n",
       "      <td>forward</td>\n",
       "      <td>LSTM</td>\n",
       "      <td>15</td>\n",
       "      <td>563</td>\n",
       "      <td>88.176292</td>\n",
       "      <td>28.276071</td>\n",
       "    </tr>\n",
       "    <tr>\n",
       "      <th>146</th>\n",
       "      <td>189</td>\n",
       "      <td>0.001</td>\n",
       "      <td>10000</td>\n",
       "      <td>300</td>\n",
       "      <td>1024</td>\n",
       "      <td>320</td>\n",
       "      <td>80</td>\n",
       "      <td>forward</td>\n",
       "      <td>LSTM</td>\n",
       "      <td>15</td>\n",
       "      <td>382</td>\n",
       "      <td>87.773232</td>\n",
       "      <td>29.239977</td>\n",
       "    </tr>\n",
       "    <tr>\n",
       "      <th>57</th>\n",
       "      <td>525</td>\n",
       "      <td>0.001</td>\n",
       "      <td>10000</td>\n",
       "      <td>300</td>\n",
       "      <td>1024</td>\n",
       "      <td>320</td>\n",
       "      <td>40</td>\n",
       "      <td>forward</td>\n",
       "      <td>ZERO</td>\n",
       "      <td>15</td>\n",
       "      <td>514</td>\n",
       "      <td>87.484779</td>\n",
       "      <td>29.929811</td>\n",
       "    </tr>\n",
       "    <tr>\n",
       "      <th>389</th>\n",
       "      <td>375</td>\n",
       "      <td>0.001</td>\n",
       "      <td>10000</td>\n",
       "      <td>300</td>\n",
       "      <td>128</td>\n",
       "      <td>320</td>\n",
       "      <td>80</td>\n",
       "      <td>forward</td>\n",
       "      <td>FF</td>\n",
       "      <td>15</td>\n",
       "      <td>702</td>\n",
       "      <td>87.482475</td>\n",
       "      <td>29.935326</td>\n",
       "    </tr>\n",
       "    <tr>\n",
       "      <th>83</th>\n",
       "      <td>279</td>\n",
       "      <td>0.001</td>\n",
       "      <td>10000</td>\n",
       "      <td>300</td>\n",
       "      <td>128</td>\n",
       "      <td>320</td>\n",
       "      <td>20</td>\n",
       "      <td>forward</td>\n",
       "      <td>FF</td>\n",
       "      <td>15</td>\n",
       "      <td>505</td>\n",
       "      <td>87.053001</td>\n",
       "      <td>30.962387</td>\n",
       "    </tr>\n",
       "    <tr>\n",
       "      <th>43</th>\n",
       "      <td>468</td>\n",
       "      <td>0.001</td>\n",
       "      <td>10000</td>\n",
       "      <td>300</td>\n",
       "      <td>32</td>\n",
       "      <td>320</td>\n",
       "      <td>20</td>\n",
       "      <td>forward</td>\n",
       "      <td>ZERO</td>\n",
       "      <td>15</td>\n",
       "      <td>693</td>\n",
       "      <td>87.004257</td>\n",
       "      <td>31.078972</td>\n",
       "    </tr>\n",
       "    <tr>\n",
       "      <th>314</th>\n",
       "      <td>372</td>\n",
       "      <td>0.001</td>\n",
       "      <td>10000</td>\n",
       "      <td>300</td>\n",
       "      <td>32</td>\n",
       "      <td>320</td>\n",
       "      <td>80</td>\n",
       "      <td>forward</td>\n",
       "      <td>FF</td>\n",
       "      <td>15</td>\n",
       "      <td>501</td>\n",
       "      <td>86.907860</td>\n",
       "      <td>31.309508</td>\n",
       "    </tr>\n",
       "    <tr>\n",
       "      <th>559</th>\n",
       "      <td>570</td>\n",
       "      <td>0.001</td>\n",
       "      <td>10000</td>\n",
       "      <td>300</td>\n",
       "      <td>512</td>\n",
       "      <td>320</td>\n",
       "      <td>80</td>\n",
       "      <td>forward</td>\n",
       "      <td>ZERO</td>\n",
       "      <td>15</td>\n",
       "      <td>690</td>\n",
       "      <td>86.215103</td>\n",
       "      <td>32.966215</td>\n",
       "    </tr>\n",
       "    <tr>\n",
       "      <th>633</th>\n",
       "      <td>132</td>\n",
       "      <td>0.001</td>\n",
       "      <td>10000</td>\n",
       "      <td>300</td>\n",
       "      <td>32</td>\n",
       "      <td>320</td>\n",
       "      <td>40</td>\n",
       "      <td>forward</td>\n",
       "      <td>LSTM</td>\n",
       "      <td>15</td>\n",
       "      <td>210</td>\n",
       "      <td>86.058998</td>\n",
       "      <td>33.339530</td>\n",
       "    </tr>\n",
       "    <tr>\n",
       "      <th>163</th>\n",
       "      <td>420</td>\n",
       "      <td>0.001</td>\n",
       "      <td>10000</td>\n",
       "      <td>300</td>\n",
       "      <td>32</td>\n",
       "      <td>320</td>\n",
       "      <td>10</td>\n",
       "      <td>forward</td>\n",
       "      <td>ZERO</td>\n",
       "      <td>15</td>\n",
       "      <td>493</td>\n",
       "      <td>85.686264</td>\n",
       "      <td>34.230918</td>\n",
       "    </tr>\n",
       "  </tbody>\n",
       "</table>\n",
       "</div>"
      ],
      "text/plain": [
       "     experiment_id     lr  epochs max_time batch_size seq_len seq_est_len  \\\n",
       "332             39  0.001   10000      300        128     320          10   \n",
       "114             93  0.001   10000      300       1024     320          20   \n",
       "616            183  0.001   10000      300        128     320          80   \n",
       "252            153  0.001   10000      300       1024      40          80   \n",
       "410            756  0.001   10000      300         32     320          80   \n",
       "414            186  0.001   10000      300        512     320          80   \n",
       "181            522  0.001   10000      300        512     320          40   \n",
       "370            567  0.001   10000      300        128     320          80   \n",
       "160            333  0.001   10000      300       1024     320          40   \n",
       "157            120  0.001   10000      300         32     160          40   \n",
       "308             42  0.001   10000      300        512     320          10   \n",
       "146            189  0.001   10000      300       1024     320          80   \n",
       "57             525  0.001   10000      300       1024     320          40   \n",
       "389            375  0.001   10000      300        128     320          80   \n",
       "83             279  0.001   10000      300        128     320          20   \n",
       "43             468  0.001   10000      300         32     320          20   \n",
       "314            372  0.001   10000      300         32     320          80   \n",
       "559            570  0.001   10000      300        512     320          80   \n",
       "633            132  0.001   10000      300         32     320          40   \n",
       "163            420  0.001   10000      300         32     320          10   \n",
       "\n",
       "    est_direction est_type  est_hidden_size  seed        FIT       RMSE  \n",
       "332       forward     LSTM               15    40  89.375107  25.409145  \n",
       "114       forward     LSTM               15    50  89.281738  25.632439  \n",
       "616       forward     LSTM               15    45  89.254318  25.697999  \n",
       "252       forward     LSTM               15   380  89.174286  25.889415  \n",
       "410       forward     RAND               15   599  89.151314  25.944343  \n",
       "414       forward     LSTM               15    78  88.607635  27.244540  \n",
       "181       forward     ZERO               15   322  88.538139  27.410721  \n",
       "370       forward     ZERO               15   547  88.510361  27.477149  \n",
       "160       forward       FF               15   346  88.433067  27.662007  \n",
       "157       forward     LSTM               15   725  88.398041  27.745780  \n",
       "308       forward     LSTM               15   563  88.176292  28.276071  \n",
       "146       forward     LSTM               15   382  87.773232  29.239977  \n",
       "57        forward     ZERO               15   514  87.484779  29.929811  \n",
       "389       forward       FF               15   702  87.482475  29.935326  \n",
       "83        forward       FF               15   505  87.053001  30.962387  \n",
       "43        forward     ZERO               15   693  87.004257  31.078972  \n",
       "314       forward       FF               15   501  86.907860  31.309508  \n",
       "559       forward     ZERO               15   690  86.215103  32.966215  \n",
       "633       forward     LSTM               15   210  86.058998  33.339530  \n",
       "163       forward     ZERO               15   493  85.686264  34.230918  "
      ]
     },
     "execution_count": 7,
     "metadata": {},
     "output_type": "execute_result"
    }
   ],
   "source": [
    "df_res.tail(20)"
   ]
  },
  {
   "cell_type": "code",
   "execution_count": 42,
   "id": "357bcde1",
   "metadata": {},
   "outputs": [
    {
     "data": {
      "image/png": "[encoded data removed]",
      "text/plain": [
       "<Figure size 900x360 with 5 Axes>"
      ]
     },
     "metadata": {
      "needs_background": "light"
     },
     "output_type": "display_data"
    }
   ],
   "source": [
    "# Full results: main effects\n",
    "g = sns.PairGrid(df_res, y_vars=response,\n",
    "                 x_vars=factors,\n",
    "                 height=5, aspect=.5)\n",
    "g.map(sns.pointplot, scale=1.3)\n",
    "sns.despine(fig=g.fig, left=True)\n",
    "\n",
    "# Biggest effect seems to be max_time"
   ]
  },
  {
   "cell_type": "code",
   "execution_count": 9,
   "id": "5cdddeb0",
   "metadata": {
    "pycharm": {
     "name": "#%%\n"
    }
   },
   "outputs": [
    {
     "data": {
      "image/png": "[encoded data removed]",
      "text/plain": [
       "<Figure size 900x360 with 5 Axes>"
      ]
     },
     "metadata": {
      "needs_background": "light"
     },
     "output_type": "display_data"
    }
   ],
   "source": [
    "# Full results: box plots\n",
    "g = sns.PairGrid(df_res, y_vars=response,\n",
    "                 x_vars=factors,\n",
    "                 height=5, aspect=.5)\n",
    "g.map(sns.boxplot)\n",
    "#g.set(ylim=(85, 100))\n",
    "sns.despine(fig=g.fig, left=True)"
   ]
  },
  {
   "cell_type": "markdown",
   "id": "2501219d",
   "metadata": {},
   "source": [
    "Biggest effect seems to be max_time. Too long seq_len (320 seem to have a negative effect). Too short seq_est_len (10) seem to have a negative effect"
   ]
  },
  {
   "cell_type": "code",
   "execution_count": 32,
   "id": "030bc24f",
   "metadata": {},
   "outputs": [
    {
     "data": {
      "application/vnd.plotly.v1+json": {
       "config": {
        "plotlyServerURL": "https://plot.ly"
       },
       "data": [
        {
         "customdata": [
          [
           3600,
           40
          ],
          [
           3600,
           40
          ],
          [
           3600,
           40
          ],
          [
           3600,
           40
          ],
          [
           3600,
           40
          ],
          [
           3600,
           40
          ],
          [
           3600,
           40
          ],
          [
           3600,
           40
          ],
          [
           3600,
           40
          ],
          [
           3600,
           40
          ],
          [
           3600,
           40
          ],
          [
           3600,
           40
          ],
          [
           3600,
           40
          ],
          [
           3600,
           40
          ],
          [
           3600,
           40
          ],
          [
           3600,
           40
          ]
         ],
         "hovertemplate": "seq_len=80<br>seq_est_len=%{customdata[1]}<br>max_time=%{customdata[0]}<br>index=%{x}<br>FIT=%{y}<extra></extra>",
         "legendgroup": "80",
         "marker": {
          "color": "#636efa",
          "symbol": "circle"
         },
         "mode": "markers",
         "name": "80",
         "orientation": "v",
         "showlegend": true,
         "type": "scatter",
         "x": [
          26,
          409,
          658,
          322,
          610,
          96,
          10,
          120,
          295,
          141,
          535,
          753,
          663,
          668,
          208,
          588
         ],
         "xaxis": "x10",
         "y": [
          98.96790313720705,
          98.89347839355467,
          98.66301727294922,
          98.55867767333984,
          98.44317626953124,
          98.43783569335938,
          98.42350769042967,
          98.31945037841795,
          98.29606628417967,
          98.20680236816406,
          98.15087890625,
          98.13492584228516,
          97.90435791015624,
          97.870849609375,
          97.72687530517578,
          97.0220718383789
         ],
         "yaxis": "y10"
        },
        {
         "customdata": [
          [
           1800,
           40
          ],
          [
           1800,
           40
          ],
          [
           1800,
           40
          ],
          [
           1800,
           40
          ],
          [
           1800,
           40
          ],
          [
           1800,
           40
          ],
          [
           1800,
           40
          ],
          [
           1800,
           40
          ],
          [
           1800,
           40
          ],
          [
           1800,
           40
          ],
          [
           1800,
           40
          ],
          [
           1800,
           40
          ],
          [
           1800,
           40
          ],
          [
           1800,
           40
          ],
          [
           1800,
           40
          ],
          [
           1800,
           40
          ]
         ],
         "hovertemplate": "seq_len=80<br>seq_est_len=%{customdata[1]}<br>max_time=%{customdata[0]}<br>index=%{x}<br>FIT=%{y}<extra></extra>",
         "legendgroup": "80",
         "marker": {
          "color": "#636efa",
          "symbol": "circle"
         },
         "mode": "markers",
         "name": "80",
         "orientation": "v",
         "showlegend": false,
         "type": "scatter",
         "x": [
          602,
          152,
          36,
          694,
          204,
          158,
          68,
          375,
          239,
          397,
          470,
          34,
          217,
          604,
          220,
          122
         ],
         "xaxis": "x11",
         "y": [
          98.47216796875,
          98.24708557128906,
          98.18706512451172,
          97.9639129638672,
          97.95307159423828,
          97.94605255126952,
          97.9413604736328,
          97.91130828857422,
          97.86656188964844,
          97.79674530029295,
          97.78519439697266,
          97.61460876464844,
          97.58258056640624,
          97.5071029663086,
          97.3812484741211,
          97.1889877319336
         ],
         "yaxis": "y11"
        },
        {
         "customdata": [
          [
           300,
           40
          ],
          [
           300,
           40
          ],
          [
           300,
           40
          ],
          [
           300,
           40
          ],
          [
           300,
           40
          ],
          [
           300,
           40
          ],
          [
           300,
           40
          ],
          [
           300,
           40
          ],
          [
           300,
           40
          ],
          [
           300,
           40
          ],
          [
           300,
           40
          ],
          [
           300,
           40
          ],
          [
           300,
           40
          ],
          [
           300,
           40
          ],
          [
           300,
           40
          ],
          [
           300,
           40
          ]
         ],
         "hovertemplate": "seq_len=80<br>seq_est_len=%{customdata[1]}<br>max_time=%{customdata[0]}<br>index=%{x}<br>FIT=%{y}<extra></extra>",
         "legendgroup": "80",
         "marker": {
          "color": "#636efa",
          "symbol": "circle"
         },
         "mode": "markers",
         "name": "80",
         "orientation": "v",
         "showlegend": false,
         "type": "scatter",
         "x": [
          518,
          732,
          469,
          443,
          201,
          366,
          12,
          412,
          315,
          631,
          747,
          584,
          2,
          613,
          277,
          249
         ],
         "xaxis": "x12",
         "y": [
          95.73407745361328,
          95.65008544921876,
          95.44103240966795,
          95.13243103027344,
          95.08865356445312,
          95.08831024169922,
          94.42241668701172,
          94.060791015625,
          93.98983764648438,
          93.84124755859376,
          93.5634765625,
          93.00230407714844,
          91.82061004638672,
          91.77629089355467,
          91.54674530029295,
          91.07087707519533
         ],
         "yaxis": "y12"
        },
        {
         "customdata": [
          [
           3600,
           80
          ],
          [
           3600,
           80
          ],
          [
           3600,
           80
          ],
          [
           3600,
           80
          ],
          [
           3600,
           80
          ],
          [
           3600,
           80
          ],
          [
           3600,
           80
          ],
          [
           3600,
           80
          ],
          [
           3600,
           80
          ],
          [
           3600,
           80
          ],
          [
           3600,
           80
          ],
          [
           3600,
           80
          ],
          [
           3600,
           80
          ],
          [
           3600,
           80
          ],
          [
           3600,
           80
          ],
          [
           3600,
           80
          ]
         ],
         "hovertemplate": "seq_len=80<br>seq_est_len=%{customdata[1]}<br>max_time=%{customdata[0]}<br>index=%{x}<br>FIT=%{y}<extra></extra>",
         "legendgroup": "80",
         "marker": {
          "color": "#636efa",
          "symbol": "circle"
         },
         "mode": "markers",
         "name": "80",
         "orientation": "v",
         "showlegend": false,
         "type": "scatter",
         "x": [
          24,
          99,
          357,
          552,
          681,
          231,
          212,
          58,
          652,
          736,
          39,
          94,
          355,
          38,
          147,
          593
         ],
         "xaxis": "x7",
         "y": [
          98.8184585571289,
          98.755615234375,
          98.6677017211914,
          98.52655792236328,
          98.49276733398438,
          98.41592407226562,
          98.3724594116211,
          98.36599731445312,
          98.15198516845705,
          98.14521026611328,
          98.00504302978516,
          97.98904418945312,
          97.89292907714844,
          97.8615493774414,
          97.65239715576172,
          97.63629150390624
         ],
         "yaxis": "y7"
        },
        {
         "customdata": [
          [
           1800,
           80
          ],
          [
           1800,
           80
          ],
          [
           1800,
           80
          ],
          [
           1800,
           80
          ],
          [
           1800,
           80
          ],
          [
           1800,
           80
          ],
          [
           1800,
           80
          ],
          [
           1800,
           80
          ],
          [
           1800,
           80
          ],
          [
           1800,
           80
          ],
          [
           1800,
           80
          ],
          [
           1800,
           80
          ],
          [
           1800,
           80
          ],
          [
           1800,
           80
          ],
          [
           1800,
           80
          ],
          [
           1800,
           80
          ]
         ],
         "hovertemplate": "seq_len=80<br>seq_est_len=%{customdata[1]}<br>max_time=%{customdata[0]}<br>index=%{x}<br>FIT=%{y}<extra></extra>",
         "legendgroup": "80",
         "marker": {
          "color": "#636efa",
          "symbol": "circle"
         },
         "mode": "markers",
         "name": "80",
         "orientation": "v",
         "showlegend": false,
         "type": "scatter",
         "x": [
          467,
          324,
          459,
          480,
          197,
          591,
          395,
          713,
          689,
          580,
          493,
          343,
          206,
          155,
          744,
          601
         ],
         "xaxis": "x8",
         "y": [
          98.57766723632812,
          98.3680191040039,
          98.20525360107422,
          98.03961944580078,
          97.90785217285156,
          97.76543426513672,
          97.74483489990234,
          97.72874450683594,
          97.61559295654295,
          97.5997085571289,
          97.59955596923828,
          97.35598754882812,
          97.32797241210938,
          97.2773208618164,
          96.53412628173828,
          96.17138671875
         ],
         "yaxis": "y8"
        },
        {
         "customdata": [
          [
           300,
           80
          ],
          [
           300,
           80
          ],
          [
           300,
           80
          ],
          [
           300,
           80
          ],
          [
           300,
           80
          ],
          [
           300,
           80
          ],
          [
           300,
           80
          ],
          [
           300,
           80
          ],
          [
           300,
           80
          ],
          [
           300,
           80
          ],
          [
           300,
           80
          ],
          [
           300,
           80
          ],
          [
           300,
           80
          ],
          [
           300,
           80
          ],
          [
           300,
           80
          ],
          [
           300,
           80
          ]
         ],
         "hovertemplate": "seq_len=80<br>seq_est_len=%{customdata[1]}<br>max_time=%{customdata[0]}<br>index=%{x}<br>FIT=%{y}<extra></extra>",
         "legendgroup": "80",
         "marker": {
          "color": "#636efa",
          "symbol": "circle"
         },
         "mode": "markers",
         "name": "80",
         "orientation": "v",
         "showlegend": false,
         "type": "scatter",
         "x": [
          51,
          161,
          605,
          33,
          577,
          247,
          486,
          466,
          407,
          205,
          288,
          488,
          91,
          752,
          71,
          415
         ],
         "xaxis": "x9",
         "y": [
          95.76171875,
          95.30598449707033,
          95.2320556640625,
          94.62271118164062,
          94.2226791381836,
          93.66182708740234,
          93.64288330078124,
          93.53684997558594,
          93.4580535888672,
          93.3862533569336,
          93.08717346191406,
          92.69290161132812,
          92.33709716796876,
          91.70368194580078,
          91.38363647460938,
          89.55714416503906
         ],
         "yaxis": "y9"
        },
        {
         "customdata": [
          [
           3600,
           20
          ],
          [
           3600,
           20
          ],
          [
           3600,
           20
          ],
          [
           3600,
           20
          ],
          [
           3600,
           20
          ],
          [
           3600,
           20
          ],
          [
           3600,
           20
          ],
          [
           3600,
           20
          ],
          [
           3600,
           20
          ],
          [
           3600,
           20
          ],
          [
           3600,
           20
          ],
          [
           3600,
           20
          ],
          [
           3600,
           20
          ],
          [
           3600,
           20
          ],
          [
           3600,
           20
          ],
          [
           3600,
           20
          ]
         ],
         "hovertemplate": "seq_len=80<br>seq_est_len=%{customdata[1]}<br>max_time=%{customdata[0]}<br>index=%{x}<br>FIT=%{y}<extra></extra>",
         "legendgroup": "80",
         "marker": {
          "color": "#636efa",
          "symbol": "circle"
         },
         "mode": "markers",
         "name": "80",
         "orientation": "v",
         "showlegend": false,
         "type": "scatter",
         "x": [
          184,
          722,
          29,
          275,
          438,
          554,
          642,
          678,
          592,
          196,
          18,
          296,
          215,
          153,
          123,
          725
         ],
         "xaxis": "x4",
         "y": [
          98.6185073852539,
          98.60972595214844,
          98.3901138305664,
          98.37145233154295,
          98.3571548461914,
          98.35199737548828,
          98.31344604492188,
          98.1959457397461,
          98.1723175048828,
          98.16968536376952,
          98.11931610107422,
          98.1132583618164,
          98.05565643310548,
          97.93694305419922,
          97.9099578857422,
          97.85831451416016
         ],
         "yaxis": "y4"
        },
        {
         "customdata": [
          [
           1800,
           20
          ],
          [
           1800,
           20
          ],
          [
           1800,
           20
          ],
          [
           1800,
           20
          ],
          [
           1800,
           20
          ],
          [
           1800,
           20
          ],
          [
           1800,
           20
          ],
          [
           1800,
           20
          ],
          [
           1800,
           20
          ],
          [
           1800,
           20
          ],
          [
           1800,
           20
          ],
          [
           1800,
           20
          ],
          [
           1800,
           20
          ],
          [
           1800,
           20
          ],
          [
           1800,
           20
          ],
          [
           1800,
           20
          ]
         ],
         "hovertemplate": "seq_len=80<br>seq_est_len=%{customdata[1]}<br>max_time=%{customdata[0]}<br>index=%{x}<br>FIT=%{y}<extra></extra>",
         "legendgroup": "80",
         "marker": {
          "color": "#636efa",
          "symbol": "circle"
         },
         "mode": "markers",
         "name": "80",
         "orientation": "v",
         "showlegend": false,
         "type": "scatter",
         "x": [
          118,
          542,
          530,
          77,
          465,
          115,
          703,
          441,
          759,
          176,
          393,
          287,
          199,
          569,
          221,
          534
         ],
         "xaxis": "x5",
         "y": [
          98.57784271240234,
          98.18809509277344,
          98.04261779785156,
          98.04012298583984,
          98.03241729736328,
          97.99856567382812,
          97.93199920654295,
          97.92369842529295,
          97.8365707397461,
          97.78182220458984,
          97.76026153564452,
          97.68582153320312,
          97.6299057006836,
          97.58319091796876,
          97.31220245361328,
          97.0484619140625
         ],
         "yaxis": "y5"
        },
        {
         "customdata": [
          [
           300,
           20
          ],
          [
           300,
           20
          ],
          [
           300,
           20
          ],
          [
           300,
           20
          ],
          [
           300,
           20
          ],
          [
           300,
           20
          ],
          [
           300,
           20
          ],
          [
           300,
           20
          ],
          [
           300,
           20
          ],
          [
           300,
           20
          ],
          [
           300,
           20
          ],
          [
           300,
           20
          ],
          [
           300,
           20
          ],
          [
           300,
           20
          ],
          [
           300,
           20
          ],
          [
           300,
           20
          ]
         ],
         "hovertemplate": "seq_len=80<br>seq_est_len=%{customdata[1]}<br>max_time=%{customdata[0]}<br>index=%{x}<br>FIT=%{y}<extra></extra>",
         "legendgroup": "80",
         "marker": {
          "color": "#636efa",
          "symbol": "circle"
         },
         "mode": "markers",
         "name": "80",
         "orientation": "v",
         "showlegend": false,
         "type": "scatter",
         "x": [
          138,
          708,
          673,
          192,
          337,
          69,
          172,
          37,
          457,
          662,
          586,
          639,
          274,
          645,
          258,
          573
         ],
         "xaxis": "x6",
         "y": [
          95.37484741210938,
          95.29823303222656,
          94.96611785888672,
          94.74810028076172,
          94.66231536865234,
          94.61027526855467,
          94.48860931396484,
          94.2022476196289,
          94.12808227539062,
          94.1273422241211,
          93.80172729492188,
          93.598388671875,
          93.49244689941406,
          92.88345336914062,
          92.745849609375,
          90.47179412841795
         ],
         "yaxis": "y6"
        },
        {
         "customdata": [
          [
           3600,
           10
          ],
          [
           3600,
           10
          ],
          [
           3600,
           10
          ],
          [
           3600,
           10
          ],
          [
           3600,
           10
          ],
          [
           3600,
           10
          ],
          [
           3600,
           10
          ],
          [
           3600,
           10
          ],
          [
           3600,
           10
          ],
          [
           3600,
           10
          ],
          [
           3600,
           10
          ],
          [
           3600,
           10
          ],
          [
           3600,
           10
          ],
          [
           3600,
           10
          ],
          [
           3600,
           10
          ],
          [
           3600,
           10
          ]
         ],
         "hovertemplate": "seq_len=80<br>seq_est_len=%{customdata[1]}<br>max_time=%{customdata[0]}<br>index=%{x}<br>FIT=%{y}<extra></extra>",
         "legendgroup": "80",
         "marker": {
          "color": "#636efa",
          "symbol": "circle"
         },
         "mode": "markers",
         "name": "80",
         "orientation": "v",
         "showlegend": false,
         "type": "scatter",
         "x": [
          303,
          695,
          186,
          404,
          269,
          132,
          494,
          743,
          398,
          7,
          110,
          556,
          450,
          754,
          651,
          568
         ],
         "xaxis": "x",
         "y": [
          98.64789581298828,
          98.62411499023438,
          98.60332489013672,
          98.04437255859376,
          97.85002899169922,
          97.7786636352539,
          97.68995666503906,
          97.64134216308594,
          97.56394958496094,
          97.03829193115234,
          96.90818786621094,
          96.8483657836914,
          96.7747802734375,
          96.67086791992188,
          96.4291000366211,
          96.14079284667967
         ],
         "yaxis": "y"
        },
        {
         "customdata": [
          [
           1800,
           10
          ],
          [
           1800,
           10
          ],
          [
           1800,
           10
          ],
          [
           1800,
           10
          ],
          [
           1800,
           10
          ],
          [
           1800,
           10
          ],
          [
           1800,
           10
          ],
          [
           1800,
           10
          ],
          [
           1800,
           10
          ],
          [
           1800,
           10
          ],
          [
           1800,
           10
          ],
          [
           1800,
           10
          ],
          [
           1800,
           10
          ],
          [
           1800,
           10
          ],
          [
           1800,
           10
          ],
          [
           1800,
           10
          ]
         ],
         "hovertemplate": "seq_len=80<br>seq_est_len=%{customdata[1]}<br>max_time=%{customdata[0]}<br>index=%{x}<br>FIT=%{y}<extra></extra>",
         "legendgroup": "80",
         "marker": {
          "color": "#636efa",
          "symbol": "circle"
         },
         "mode": "markers",
         "name": "80",
         "orientation": "v",
         "showlegend": false,
         "type": "scatter",
         "x": [
          501,
          547,
          599,
          720,
          183,
          233,
          526,
          609,
          702,
          216,
          149,
          244,
          293,
          627,
          764,
          629
         ],
         "xaxis": "x2",
         "y": [
          98.41710662841795,
          97.97535705566406,
          97.9612274169922,
          97.85317993164062,
          97.83264923095705,
          97.80233001708984,
          97.42198944091795,
          97.40482330322266,
          97.28329467773438,
          96.91603088378906,
          96.70545959472656,
          96.5612564086914,
          96.54861450195312,
          96.19481658935548,
          95.97903442382812,
          95.51053619384766
         ],
         "yaxis": "y2"
        },
        {
         "customdata": [
          [
           300,
           10
          ],
          [
           300,
           10
          ],
          [
           300,
           10
          ],
          [
           300,
           10
          ],
          [
           300,
           10
          ],
          [
           300,
           10
          ],
          [
           300,
           10
          ],
          [
           300,
           10
          ],
          [
           300,
           10
          ],
          [
           300,
           10
          ],
          [
           300,
           10
          ],
          [
           300,
           10
          ],
          [
           300,
           10
          ],
          [
           300,
           10
          ],
          [
           300,
           10
          ],
          [
           300,
           10
          ]
         ],
         "hovertemplate": "seq_len=80<br>seq_est_len=%{customdata[1]}<br>max_time=%{customdata[0]}<br>index=%{x}<br>FIT=%{y}<extra></extra>",
         "legendgroup": "80",
         "marker": {
          "color": "#636efa",
          "symbol": "circle"
         },
         "mode": "markers",
         "name": "80",
         "orientation": "v",
         "showlegend": false,
         "type": "scatter",
         "x": [
          82,
          373,
          53,
          369,
          14,
          509,
          564,
          100,
          47,
          200,
          512,
          560,
          650,
          35,
          533,
          537
         ],
         "xaxis": "x3",
         "y": [
          95.3219223022461,
          95.21435546875,
          95.13727569580078,
          94.99301147460938,
          94.82867431640624,
          94.42684173583984,
          94.21429443359376,
          94.113037109375,
          93.94744110107422,
          93.75118255615234,
          93.71533966064452,
          93.26770782470705,
          93.03154754638672,
          92.94364166259766,
          92.8527374267578,
          90.62220764160156
         ],
         "yaxis": "y3"
        },
        {
         "customdata": [
          [
           3600,
           40
          ],
          [
           3600,
           40
          ],
          [
           3600,
           40
          ],
          [
           3600,
           40
          ],
          [
           3600,
           40
          ],
          [
           3600,
           40
          ],
          [
           3600,
           40
          ],
          [
           3600,
           40
          ],
          [
           3600,
           40
          ],
          [
           3600,
           40
          ],
          [
           3600,
           40
          ],
          [
           3600,
           40
          ],
          [
           3600,
           40
          ],
          [
           3600,
           40
          ],
          [
           3600,
           40
          ],
          [
           3600,
           40
          ]
         ],
         "hovertemplate": "seq_len=40<br>seq_est_len=%{customdata[1]}<br>max_time=%{customdata[0]}<br>index=%{x}<br>FIT=%{y}<extra></extra>",
         "legendgroup": "40",
         "marker": {
          "color": "#EF553B",
          "symbol": "circle"
         },
         "mode": "markers",
         "name": "40",
         "orientation": "v",
         "showlegend": true,
         "type": "scatter",
         "x": [
          685,
          719,
          431,
          449,
          281,
          143,
          16,
          116,
          226,
          693,
          425,
          728,
          117,
          243,
          523,
          669
         ],
         "xaxis": "x10",
         "y": [
          98.82386016845705,
          98.63909149169922,
          98.61827087402344,
          98.58182525634766,
          98.5267333984375,
          98.49131774902344,
          98.37887573242188,
          98.25652313232422,
          98.14030456542967,
          97.93073272705078,
          97.90422821044922,
          97.82454681396484,
          97.7457046508789,
          97.70408630371094,
          97.66886138916016,
          97.44750213623048
         ],
         "yaxis": "y10"
        },
        {
         "customdata": [
          [
           1800,
           40
          ],
          [
           1800,
           40
          ],
          [
           1800,
           40
          ],
          [
           1800,
           40
          ],
          [
           1800,
           40
          ],
          [
           1800,
           40
          ],
          [
           1800,
           40
          ],
          [
           1800,
           40
          ],
          [
           1800,
           40
          ],
          [
           1800,
           40
          ],
          [
           1800,
           40
          ],
          [
           1800,
           40
          ],
          [
           1800,
           40
          ],
          [
           1800,
           40
          ],
          [
           1800,
           40
          ],
          [
           1800,
           40
          ]
         ],
         "hovertemplate": "seq_len=40<br>seq_est_len=%{customdata[1]}<br>max_time=%{customdata[0]}<br>index=%{x}<br>FIT=%{y}<extra></extra>",
         "legendgroup": "40",
         "marker": {
          "color": "#EF553B",
          "symbol": "circle"
         },
         "mode": "markers",
         "name": "40",
         "orientation": "v",
         "showlegend": false,
         "type": "scatter",
         "x": [
          434,
          611,
          65,
          715,
          626,
          562,
          382,
          8,
          59,
          210,
          572,
          17,
          342,
          290,
          691,
          223
         ],
         "xaxis": "x11",
         "y": [
          98.63986206054688,
          98.45882415771484,
          98.4251937866211,
          98.3270263671875,
          98.31822204589844,
          98.26390075683594,
          98.1948471069336,
          98.02371978759766,
          97.96868896484376,
          97.86846923828124,
          97.86575317382812,
          97.66795349121094,
          97.66559600830078,
          97.51031494140624,
          97.47325134277344,
          97.46734619140624
         ],
         "yaxis": "y11"
        },
        {
         "customdata": [
          [
           300,
           40
          ],
          [
           300,
           40
          ],
          [
           300,
           40
          ],
          [
           300,
           40
          ],
          [
           300,
           40
          ],
          [
           300,
           40
          ],
          [
           300,
           40
          ],
          [
           300,
           40
          ],
          [
           300,
           40
          ],
          [
           300,
           40
          ],
          [
           300,
           40
          ],
          [
           300,
           40
          ],
          [
           300,
           40
          ],
          [
           300,
           40
          ],
          [
           300,
           40
          ],
          [
           300,
           40
          ]
         ],
         "hovertemplate": "seq_len=40<br>seq_est_len=%{customdata[1]}<br>max_time=%{customdata[0]}<br>index=%{x}<br>FIT=%{y}<extra></extra>",
         "legendgroup": "40",
         "marker": {
          "color": "#EF553B",
          "symbol": "circle"
         },
         "mode": "markers",
         "name": "40",
         "orientation": "v",
         "showlegend": false,
         "type": "scatter",
         "x": [
          381,
          726,
          445,
          644,
          19,
          549,
          476,
          665,
          320,
          41,
          461,
          698,
          387,
          282,
          246,
          405
         ],
         "xaxis": "x12",
         "y": [
          95.79466247558594,
          95.66812133789062,
          95.46888732910156,
          95.19163513183594,
          95.12326049804688,
          95.08499908447266,
          95.04926300048828,
          94.81993865966795,
          94.76172637939452,
          93.90077209472656,
          93.85923767089844,
          93.85559844970705,
          93.44184112548828,
          93.19097900390624,
          91.68659210205078,
          89.48262786865234
         ],
         "yaxis": "y12"
        },
        {
         "customdata": [
          [
           3600,
           80
          ],
          [
           3600,
           80
          ],
          [
           3600,
           80
          ],
          [
           3600,
           80
          ],
          [
           3600,
           80
          ],
          [
           3600,
           80
          ],
          [
           3600,
           80
          ],
          [
           3600,
           80
          ],
          [
           3600,
           80
          ],
          [
           3600,
           80
          ],
          [
           3600,
           80
          ],
          [
           3600,
           80
          ],
          [
           3600,
           80
          ],
          [
           3600,
           80
          ],
          [
           3600,
           80
          ],
          [
           3600,
           80
          ]
         ],
         "hovertemplate": "seq_len=40<br>seq_est_len=%{customdata[1]}<br>max_time=%{customdata[0]}<br>index=%{x}<br>FIT=%{y}<extra></extra>",
         "legendgroup": "40",
         "marker": {
          "color": "#EF553B",
          "symbol": "circle"
         },
         "mode": "markers",
         "name": "40",
         "orientation": "v",
         "showlegend": false,
         "type": "scatter",
         "x": [
          162,
          40,
          254,
          391,
          483,
          272,
          256,
          92,
          144,
          125,
          482,
          734,
          527,
          198,
          230,
          622
         ],
         "xaxis": "x7",
         "y": [
          98.87425231933594,
          98.58293151855467,
          98.58287811279295,
          98.44469451904295,
          98.4175262451172,
          98.39013671875,
          98.37262725830078,
          98.34376525878906,
          98.25650024414062,
          98.22157287597656,
          98.14969635009766,
          97.94976806640624,
          97.765625,
          97.66462707519533,
          97.5102996826172,
          97.34081268310548
         ],
         "yaxis": "y7"
        },
        {
         "customdata": [
          [
           1800,
           80
          ],
          [
           1800,
           80
          ],
          [
           1800,
           80
          ],
          [
           1800,
           80
          ],
          [
           1800,
           80
          ],
          [
           1800,
           80
          ],
          [
           1800,
           80
          ],
          [
           1800,
           80
          ],
          [
           1800,
           80
          ],
          [
           1800,
           80
          ],
          [
           1800,
           80
          ],
          [
           1800,
           80
          ],
          [
           1800,
           80
          ],
          [
           1800,
           80
          ],
          [
           1800,
           80
          ],
          [
           1800,
           80
          ]
         ],
         "hovertemplate": "seq_len=40<br>seq_est_len=%{customdata[1]}<br>max_time=%{customdata[0]}<br>index=%{x}<br>FIT=%{y}<extra></extra>",
         "legendgroup": "40",
         "marker": {
          "color": "#EF553B",
          "symbol": "circle"
         },
         "mode": "markers",
         "name": "40",
         "orientation": "v",
         "showlegend": false,
         "type": "scatter",
         "x": [
          385,
          761,
          416,
          23,
          109,
          624,
          749,
          229,
          22,
          659,
          360,
          379,
          67,
          636,
          503,
          433
         ],
         "xaxis": "x8",
         "y": [
          98.5278549194336,
          98.2673568725586,
          98.21216583251952,
          98.14762878417967,
          98.1188507080078,
          98.01888275146484,
          97.92945098876952,
          97.86505889892578,
          97.8079071044922,
          97.74468994140624,
          97.66217803955078,
          97.62005615234376,
          97.34640502929688,
          97.24649047851562,
          97.06575775146484,
          96.88603973388672
         ],
         "yaxis": "y8"
        },
        {
         "customdata": [
          [
           300,
           80
          ],
          [
           300,
           80
          ],
          [
           300,
           80
          ],
          [
           300,
           80
          ],
          [
           300,
           80
          ],
          [
           300,
           80
          ],
          [
           300,
           80
          ],
          [
           300,
           80
          ],
          [
           300,
           80
          ],
          [
           300,
           80
          ],
          [
           300,
           80
          ],
          [
           300,
           80
          ],
          [
           300,
           80
          ],
          [
           300,
           80
          ],
          [
           300,
           80
          ],
          [
           300,
           80
          ]
         ],
         "hovertemplate": "seq_len=40<br>seq_est_len=%{customdata[1]}<br>max_time=%{customdata[0]}<br>index=%{x}<br>FIT=%{y}<extra></extra>",
         "legendgroup": "40",
         "marker": {
          "color": "#EF553B",
          "symbol": "circle"
         },
         "mode": "markers",
         "name": "40",
         "orientation": "v",
         "showlegend": false,
         "type": "scatter",
         "x": [
          102,
          671,
          365,
          327,
          756,
          101,
          148,
          489,
          61,
          707,
          62,
          340,
          553,
          607,
          532,
          252
         ],
         "xaxis": "x9",
         "y": [
          95.1550521850586,
          95.02134704589844,
          94.91292572021484,
          94.87559509277344,
          94.86450958251952,
          94.36956787109376,
          94.07347869873048,
          93.9687271118164,
          93.8968734741211,
          93.79898071289062,
          93.6533660888672,
          93.65158081054688,
          93.17042541503906,
          92.58934020996094,
          92.3514404296875,
          89.17428588867188
         ],
         "yaxis": "y9"
        },
        {
         "customdata": [
          [
           3600,
           20
          ],
          [
           3600,
           20
          ],
          [
           3600,
           20
          ],
          [
           3600,
           20
          ],
          [
           3600,
           20
          ],
          [
           3600,
           20
          ],
          [
           3600,
           20
          ],
          [
           3600,
           20
          ],
          [
           3600,
           20
          ],
          [
           3600,
           20
          ],
          [
           3600,
           20
          ],
          [
           3600,
           20
          ],
          [
           3600,
           20
          ],
          [
           3600,
           20
          ],
          [
           3600,
           20
          ],
          [
           3600,
           20
          ]
         ],
         "hovertemplate": "seq_len=40<br>seq_est_len=%{customdata[1]}<br>max_time=%{customdata[0]}<br>index=%{x}<br>FIT=%{y}<extra></extra>",
         "legendgroup": "40",
         "marker": {
          "color": "#EF553B",
          "symbol": "circle"
         },
         "mode": "markers",
         "name": "40",
         "orientation": "v",
         "showlegend": false,
         "type": "scatter",
         "x": [
          32,
          376,
          352,
          106,
          194,
          471,
          516,
          692,
          169,
          721,
          185,
          283,
          641,
          388,
          731,
          259
         ],
         "xaxis": "x4",
         "y": [
          98.68560028076172,
          98.67992401123048,
          98.546142578125,
          98.45821380615234,
          98.29071807861328,
          98.2782745361328,
          98.18852996826172,
          98.16427612304688,
          98.14329528808594,
          98.12623596191406,
          97.9880142211914,
          97.95333862304688,
          97.91978454589844,
          97.87165832519533,
          97.56293487548828,
          97.4988250732422
         ],
         "yaxis": "y4"
        },
        {
         "customdata": [
          [
           1800,
           20
          ],
          [
           1800,
           20
          ],
          [
           1800,
           20
          ],
          [
           1800,
           20
          ],
          [
           1800,
           20
          ],
          [
           1800,
           20
          ],
          [
           1800,
           20
          ],
          [
           1800,
           20
          ],
          [
           1800,
           20
          ],
          [
           1800,
           20
          ],
          [
           1800,
           20
          ],
          [
           1800,
           20
          ],
          [
           1800,
           20
          ],
          [
           1800,
           20
          ],
          [
           1800,
           20
          ],
          [
           1800,
           20
          ]
         ],
         "hovertemplate": "seq_len=40<br>seq_est_len=%{customdata[1]}<br>max_time=%{customdata[0]}<br>index=%{x}<br>FIT=%{y}<extra></extra>",
         "legendgroup": "40",
         "marker": {
          "color": "#EF553B",
          "symbol": "circle"
         },
         "mode": "markers",
         "name": "40",
         "orientation": "v",
         "showlegend": false,
         "type": "scatter",
         "x": [
          150,
          89,
          270,
          565,
          128,
          558,
          618,
          235,
          377,
          504,
          429,
          505,
          345,
          346,
          700,
          408
         ],
         "xaxis": "x5",
         "y": [
          98.2881851196289,
          98.22743225097656,
          98.0330581665039,
          97.99071502685548,
          97.88113403320312,
          97.86521911621094,
          97.84114074707033,
          97.79653930664062,
          97.43757629394533,
          97.2800750732422,
          97.20193481445312,
          96.9724349975586,
          96.68256378173828,
          96.62100982666016,
          95.97596740722656,
          95.47894287109376
         ],
         "yaxis": "y5"
        },
        {
         "customdata": [
          [
           300,
           20
          ],
          [
           300,
           20
          ],
          [
           300,
           20
          ],
          [
           300,
           20
          ],
          [
           300,
           20
          ],
          [
           300,
           20
          ],
          [
           300,
           20
          ],
          [
           300,
           20
          ],
          [
           300,
           20
          ],
          [
           300,
           20
          ],
          [
           300,
           20
          ],
          [
           300,
           20
          ],
          [
           300,
           20
          ],
          [
           300,
           20
          ],
          [
           300,
           20
          ],
          [
           300,
           20
          ]
         ],
         "hovertemplate": "seq_len=40<br>seq_est_len=%{customdata[1]}<br>max_time=%{customdata[0]}<br>index=%{x}<br>FIT=%{y}<extra></extra>",
         "legendgroup": "40",
         "marker": {
          "color": "#EF553B",
          "symbol": "circle"
         },
         "mode": "markers",
         "name": "40",
         "orientation": "v",
         "showlegend": false,
         "type": "scatter",
         "x": [
          600,
          136,
          448,
          227,
          368,
          170,
          228,
          508,
          621,
          502,
          724,
          46,
          474,
          251,
          260,
          498
         ],
         "xaxis": "x6",
         "y": [
          95.76673889160156,
          95.64260864257812,
          95.5718765258789,
          95.34207916259766,
          95.28083038330078,
          95.25819396972656,
          94.85987854003906,
          94.74392700195312,
          94.2378158569336,
          93.79751586914062,
          93.77404022216795,
          93.2414321899414,
          92.37110137939452,
          91.3833465576172,
          89.77571868896484,
          89.76390075683594
         ],
         "yaxis": "y6"
        },
        {
         "customdata": [
          [
           3600,
           10
          ],
          [
           3600,
           10
          ],
          [
           3600,
           10
          ],
          [
           3600,
           10
          ],
          [
           3600,
           10
          ],
          [
           3600,
           10
          ],
          [
           3600,
           10
          ],
          [
           3600,
           10
          ],
          [
           3600,
           10
          ],
          [
           3600,
           10
          ],
          [
           3600,
           10
          ],
          [
           3600,
           10
          ],
          [
           3600,
           10
          ],
          [
           3600,
           10
          ],
          [
           3600,
           10
          ],
          [
           3600,
           10
          ]
         ],
         "hovertemplate": "seq_len=40<br>seq_est_len=%{customdata[1]}<br>max_time=%{customdata[0]}<br>index=%{x}<br>FIT=%{y}<extra></extra>",
         "legendgroup": "40",
         "marker": {
          "color": "#EF553B",
          "symbol": "circle"
         },
         "mode": "markers",
         "name": "40",
         "orientation": "v",
         "showlegend": false,
         "type": "scatter",
         "x": [
          180,
          717,
          677,
          418,
          497,
          458,
          222,
          608,
          590,
          30,
          630,
          48,
          266,
          390,
          218,
          95
         ],
         "xaxis": "x",
         "y": [
          98.60214233398438,
          98.50687408447266,
          98.40768432617188,
          98.40267944335938,
          98.02117156982422,
          97.40412139892578,
          97.24437713623048,
          97.1458740234375,
          95.57388305664062,
          95.54147338867188,
          95.43287658691406,
          95.42581176757812,
          95.38597869873048,
          94.84698486328124,
          94.622802734375,
          93.94562530517578
         ],
         "yaxis": "y"
        },
        {
         "customdata": [
          [
           1800,
           10
          ],
          [
           1800,
           10
          ],
          [
           1800,
           10
          ],
          [
           1800,
           10
          ],
          [
           1800,
           10
          ],
          [
           1800,
           10
          ],
          [
           1800,
           10
          ],
          [
           1800,
           10
          ],
          [
           1800,
           10
          ],
          [
           1800,
           10
          ],
          [
           1800,
           10
          ],
          [
           1800,
           10
          ],
          [
           1800,
           10
          ],
          [
           1800,
           10
          ],
          [
           1800,
           10
          ],
          [
           1800,
           10
          ]
         ],
         "hovertemplate": "seq_len=40<br>seq_est_len=%{customdata[1]}<br>max_time=%{customdata[0]}<br>index=%{x}<br>FIT=%{y}<extra></extra>",
         "legendgroup": "40",
         "marker": {
          "color": "#EF553B",
          "symbol": "circle"
         },
         "mode": "markers",
         "name": "40",
         "orientation": "v",
         "showlegend": false,
         "type": "scatter",
         "x": [
          738,
          614,
          145,
          255,
          655,
          151,
          536,
          506,
          714,
          384,
          291,
          238,
          3,
          705,
          576,
          394
         ],
         "xaxis": "x2",
         "y": [
          98.19676208496094,
          97.80055236816406,
          97.72282409667967,
          97.4839096069336,
          96.90508270263672,
          96.7870101928711,
          96.25163269042967,
          96.14755249023438,
          95.65882110595705,
          95.58244323730467,
          95.5063705444336,
          95.26559448242188,
          95.1072235107422,
          94.86707305908205,
          94.35464477539062,
          93.5675048828125
         ],
         "yaxis": "y2"
        },
        {
         "customdata": [
          [
           300,
           10
          ],
          [
           300,
           10
          ],
          [
           300,
           10
          ],
          [
           300,
           10
          ],
          [
           300,
           10
          ],
          [
           300,
           10
          ],
          [
           300,
           10
          ],
          [
           300,
           10
          ],
          [
           300,
           10
          ],
          [
           300,
           10
          ],
          [
           300,
           10
          ],
          [
           300,
           10
          ],
          [
           300,
           10
          ],
          [
           300,
           10
          ],
          [
           300,
           10
          ],
          [
           300,
           10
          ]
         ],
         "hovertemplate": "seq_len=40<br>seq_est_len=%{customdata[1]}<br>max_time=%{customdata[0]}<br>index=%{x}<br>FIT=%{y}<extra></extra>",
         "legendgroup": "40",
         "marker": {
          "color": "#EF553B",
          "symbol": "circle"
         },
         "mode": "markers",
         "name": "40",
         "orientation": "v",
         "showlegend": false,
         "type": "scatter",
         "x": [
          4,
          578,
          378,
          135,
          372,
          49,
          490,
          328,
          50,
          436,
          263,
          66,
          188,
          1,
          676,
          762
         ],
         "xaxis": "x3",
         "y": [
          95.12457275390624,
          94.77747344970705,
          94.27833557128906,
          93.65467834472656,
          93.6238250732422,
          93.5830307006836,
          93.4916763305664,
          93.43521118164062,
          93.31565856933594,
          92.26016998291016,
          92.19334411621094,
          92.03861236572266,
          90.89813995361328,
          90.8598861694336,
          90.09529113769533,
          89.92220306396484
         ],
         "yaxis": "y3"
        },
        {
         "customdata": [
          [
           3600,
           40
          ],
          [
           3600,
           40
          ],
          [
           3600,
           40
          ],
          [
           3600,
           40
          ],
          [
           3600,
           40
          ],
          [
           3600,
           40
          ],
          [
           3600,
           40
          ],
          [
           3600,
           40
          ],
          [
           3600,
           40
          ],
          [
           3600,
           40
          ],
          [
           3600,
           40
          ],
          [
           3600,
           40
          ],
          [
           3600,
           40
          ],
          [
           3600,
           40
          ],
          [
           3600,
           40
          ],
          [
           3600,
           40
          ]
         ],
         "hovertemplate": "seq_len=160<br>seq_est_len=%{customdata[1]}<br>max_time=%{customdata[0]}<br>index=%{x}<br>FIT=%{y}<extra></extra>",
         "legendgroup": "160",
         "marker": {
          "color": "#00cc96",
          "symbol": "circle"
         },
         "mode": "markers",
         "name": "160",
         "orientation": "v",
         "showlegend": true,
         "type": "scatter",
         "x": [
          156,
          167,
          380,
          737,
          121,
          492,
          52,
          460,
          98,
          456,
          350,
          142,
          563,
          297,
          757,
          531
         ],
         "xaxis": "x10",
         "y": [
          98.3833999633789,
          98.34711456298828,
          98.28977966308594,
          98.26173400878906,
          98.08472442626952,
          98.00086975097656,
          97.9970245361328,
          97.97543334960938,
          97.83499145507812,
          97.79371643066406,
          97.77653503417967,
          97.60052490234376,
          97.56160736083984,
          97.55735778808594,
          97.49556732177734,
          97.36988830566406
         ],
         "yaxis": "y10"
        },
        {
         "customdata": [
          [
           1800,
           40
          ],
          [
           1800,
           40
          ],
          [
           1800,
           40
          ],
          [
           1800,
           40
          ],
          [
           1800,
           40
          ],
          [
           1800,
           40
          ],
          [
           1800,
           40
          ],
          [
           1800,
           40
          ],
          [
           1800,
           40
          ],
          [
           1800,
           40
          ],
          [
           1800,
           40
          ],
          [
           1800,
           40
          ],
          [
           1800,
           40
          ],
          [
           1800,
           40
          ],
          [
           1800,
           40
          ],
          [
           1800,
           40
          ]
         ],
         "hovertemplate": "seq_len=160<br>seq_est_len=%{customdata[1]}<br>max_time=%{customdata[0]}<br>index=%{x}<br>FIT=%{y}<extra></extra>",
         "legendgroup": "160",
         "marker": {
          "color": "#00cc96",
          "symbol": "circle"
         },
         "mode": "markers",
         "name": "160",
         "orientation": "v",
         "showlegend": false,
         "type": "scatter",
         "x": [
          307,
          335,
          419,
          589,
          187,
          538,
          336,
          237,
          358,
          371,
          522,
          701,
          334,
          80,
          648,
          679
         ],
         "xaxis": "x11",
         "y": [
          98.01213836669922,
          97.95734405517578,
          97.85639190673828,
          97.69996643066406,
          97.69377899169922,
          97.62920379638672,
          97.52975463867188,
          97.4087142944336,
          97.36776733398438,
          97.24273681640624,
          97.20182037353516,
          97.18695068359376,
          96.79056549072266,
          96.41182708740234,
          96.1231460571289,
          96.10047912597656
         ],
         "yaxis": "y11"
        },
        {
         "customdata": [
          [
           300,
           40
          ],
          [
           300,
           40
          ],
          [
           300,
           40
          ],
          [
           300,
           40
          ],
          [
           300,
           40
          ],
          [
           300,
           40
          ],
          [
           300,
           40
          ],
          [
           300,
           40
          ],
          [
           300,
           40
          ],
          [
           300,
           40
          ],
          [
           300,
           40
          ],
          [
           300,
           40
          ],
          [
           300,
           40
          ],
          [
           300,
           40
          ],
          [
           300,
           40
          ],
          [
           300,
           40
          ]
         ],
         "hovertemplate": "seq_len=160<br>seq_est_len=%{customdata[1]}<br>max_time=%{customdata[0]}<br>index=%{x}<br>FIT=%{y}<extra></extra>",
         "legendgroup": "160",
         "marker": {
          "color": "#00cc96",
          "symbol": "circle"
         },
         "mode": "markers",
         "name": "160",
         "orientation": "v",
         "showlegend": false,
         "type": "scatter",
         "x": [
          133,
          124,
          417,
          214,
          25,
          587,
          178,
          751,
          261,
          649,
          704,
          571,
          711,
          31,
          74,
          157
         ],
         "xaxis": "x12",
         "y": [
          94.21794891357422,
          94.0883560180664,
          93.93263244628906,
          93.69378662109376,
          93.5510025024414,
          93.20213317871094,
          93.09957122802734,
          92.8755340576172,
          92.46829986572266,
          91.61622619628906,
          91.53411102294922,
          91.43844604492188,
          91.32427978515624,
          91.17733764648438,
          89.99406433105469,
          88.39804077148438
         ],
         "yaxis": "y12"
        },
        {
         "customdata": [
          [
           3600,
           80
          ],
          [
           3600,
           80
          ],
          [
           3600,
           80
          ],
          [
           3600,
           80
          ],
          [
           3600,
           80
          ],
          [
           3600,
           80
          ],
          [
           3600,
           80
          ],
          [
           3600,
           80
          ],
          [
           3600,
           80
          ],
          [
           3600,
           80
          ],
          [
           3600,
           80
          ],
          [
           3600,
           80
          ],
          [
           3600,
           80
          ],
          [
           3600,
           80
          ],
          [
           3600,
           80
          ],
          [
           3600,
           80
          ]
         ],
         "hovertemplate": "seq_len=160<br>seq_est_len=%{customdata[1]}<br>max_time=%{customdata[0]}<br>index=%{x}<br>FIT=%{y}<extra></extra>",
         "legendgroup": "160",
         "marker": {
          "color": "#00cc96",
          "symbol": "circle"
         },
         "mode": "markers",
         "name": "160",
         "orientation": "v",
         "showlegend": false,
         "type": "scatter",
         "x": [
          103,
          347,
          87,
          165,
          439,
          660,
          374,
          339,
          177,
          750,
          97,
          454,
          583,
          154,
          620,
          353
         ],
         "xaxis": "x7",
         "y": [
          98.78162384033205,
          98.6871337890625,
          98.66050720214844,
          98.63384246826172,
          98.36813354492188,
          98.36051177978516,
          98.35926055908205,
          98.30803680419922,
          98.13915252685548,
          98.130615234375,
          98.1028823852539,
          98.07969665527344,
          97.5673828125,
          97.51889038085938,
          97.37710571289062,
          96.96610260009766
         ],
         "yaxis": "y7"
        },
        {
         "customdata": [
          [
           1800,
           80
          ],
          [
           1800,
           80
          ],
          [
           1800,
           80
          ],
          [
           1800,
           80
          ],
          [
           1800,
           80
          ],
          [
           1800,
           80
          ],
          [
           1800,
           80
          ],
          [
           1800,
           80
          ],
          [
           1800,
           80
          ],
          [
           1800,
           80
          ],
          [
           1800,
           80
          ],
          [
           1800,
           80
          ],
          [
           1800,
           80
          ],
          [
           1800,
           80
          ],
          [
           1800,
           80
          ],
          [
           1800,
           80
          ]
         ],
         "hovertemplate": "seq_len=160<br>seq_est_len=%{customdata[1]}<br>max_time=%{customdata[0]}<br>index=%{x}<br>FIT=%{y}<extra></extra>",
         "legendgroup": "160",
         "marker": {
          "color": "#00cc96",
          "symbol": "circle"
         },
         "mode": "markers",
         "name": "160",
         "orientation": "v",
         "showlegend": false,
         "type": "scatter",
         "x": [
          305,
          159,
          284,
          473,
          540,
          42,
          131,
          740,
          733,
          442,
          635,
          674,
          15,
          550,
          546,
          248
         ],
         "xaxis": "x8",
         "y": [
          97.95173645019533,
          97.80536651611328,
          97.77198791503906,
          97.65603637695312,
          97.6066436767578,
          97.59178924560548,
          97.28499603271484,
          97.1967315673828,
          97.18582916259766,
          97.02027130126952,
          96.524658203125,
          96.09454345703124,
          96.08267974853516,
          95.9609146118164,
          95.42053985595705,
          94.3907470703125
         ],
         "yaxis": "y8"
        },
        {
         "customdata": [
          [
           300,
           80
          ],
          [
           300,
           80
          ],
          [
           300,
           80
          ],
          [
           300,
           80
          ],
          [
           300,
           80
          ],
          [
           300,
           80
          ],
          [
           300,
           80
          ],
          [
           300,
           80
          ],
          [
           300,
           80
          ],
          [
           300,
           80
          ],
          [
           300,
           80
          ],
          [
           300,
           80
          ],
          [
           300,
           80
          ],
          [
           300,
           80
          ],
          [
           300,
           80
          ],
          [
           300,
           80
          ]
         ],
         "hovertemplate": "seq_len=160<br>seq_est_len=%{customdata[1]}<br>max_time=%{customdata[0]}<br>index=%{x}<br>FIT=%{y}<extra></extra>",
         "legendgroup": "160",
         "marker": {
          "color": "#00cc96",
          "symbol": "circle"
         },
         "mode": "markers",
         "name": "160",
         "orientation": "v",
         "showlegend": false,
         "type": "scatter",
         "x": [
          45,
          232,
          529,
          485,
          236,
          656,
          195,
          739,
          54,
          697,
          119,
          306,
          234,
          264,
          209,
          280
         ],
         "xaxis": "x9",
         "y": [
          94.88008880615234,
          94.05025482177734,
          93.94232177734376,
          93.41120910644533,
          93.2228775024414,
          92.87776947021484,
          92.71731567382812,
          92.44075775146484,
          92.31566619873048,
          92.09903717041016,
          91.94464874267578,
          91.80353546142578,
          91.15436553955078,
          90.87106323242188,
          90.75155639648438,
          90.56461334228516
         ],
         "yaxis": "y9"
        },
        {
         "customdata": [
          [
           3600,
           20
          ],
          [
           3600,
           20
          ],
          [
           3600,
           20
          ],
          [
           3600,
           20
          ],
          [
           3600,
           20
          ],
          [
           3600,
           20
          ],
          [
           3600,
           20
          ],
          [
           3600,
           20
          ],
          [
           3600,
           20
          ],
          [
           3600,
           20
          ],
          [
           3600,
           20
          ],
          [
           3600,
           20
          ],
          [
           3600,
           20
          ],
          [
           3600,
           20
          ],
          [
           3600,
           20
          ],
          [
           3600,
           20
          ]
         ],
         "hovertemplate": "seq_len=160<br>seq_est_len=%{customdata[1]}<br>max_time=%{customdata[0]}<br>index=%{x}<br>FIT=%{y}<extra></extra>",
         "legendgroup": "160",
         "marker": {
          "color": "#00cc96",
          "symbol": "circle"
         },
         "mode": "markers",
         "name": "160",
         "orientation": "v",
         "showlegend": false,
         "type": "scatter",
         "x": [
          682,
          520,
          63,
          487,
          173,
          113,
          182,
          646,
          767,
          262,
          574,
          325,
          331,
          304,
          219,
          240
         ],
         "xaxis": "x4",
         "y": [
          98.69054412841795,
          98.63773345947266,
          98.5022201538086,
          98.45232391357422,
          98.40982818603516,
          98.22887420654295,
          98.22455596923828,
          98.16454315185548,
          98.08953094482422,
          97.94528198242188,
          97.9413604736328,
          97.9292984008789,
          97.88671875,
          97.81934356689452,
          97.61365509033205,
          97.10186767578124
         ],
         "yaxis": "y4"
        },
        {
         "customdata": [
          [
           1800,
           20
          ],
          [
           1800,
           20
          ],
          [
           1800,
           20
          ],
          [
           1800,
           20
          ],
          [
           1800,
           20
          ],
          [
           1800,
           20
          ],
          [
           1800,
           20
          ],
          [
           1800,
           20
          ],
          [
           1800,
           20
          ],
          [
           1800,
           20
          ],
          [
           1800,
           20
          ],
          [
           1800,
           20
          ],
          [
           1800,
           20
          ],
          [
           1800,
           20
          ],
          [
           1800,
           20
          ],
          [
           1800,
           20
          ]
         ],
         "hovertemplate": "seq_len=160<br>seq_est_len=%{customdata[1]}<br>max_time=%{customdata[0]}<br>index=%{x}<br>FIT=%{y}<extra></extra>",
         "legendgroup": "160",
         "marker": {
          "color": "#00cc96",
          "symbol": "circle"
         },
         "mode": "markers",
         "name": "160",
         "orientation": "v",
         "showlegend": false,
         "type": "scatter",
         "x": [
          202,
          755,
          341,
          316,
          298,
          311,
          513,
          250,
          634,
          452,
          667,
          745,
          528,
          179,
          111,
          428
         ],
         "xaxis": "x5",
         "y": [
          98.24161529541016,
          98.12370300292967,
          97.98796844482422,
          97.82916259765624,
          97.7449188232422,
          97.73210906982422,
          97.69396209716795,
          97.50836944580078,
          97.41734313964844,
          97.3974609375,
          97.36211395263672,
          97.30760955810548,
          97.11687469482422,
          96.76185607910156,
          96.3388900756836,
          96.158935546875
         ],
         "yaxis": "y5"
        },
        {
         "customdata": [
          [
           300,
           20
          ],
          [
           300,
           20
          ],
          [
           300,
           20
          ],
          [
           300,
           20
          ],
          [
           300,
           20
          ],
          [
           300,
           20
          ],
          [
           300,
           20
          ],
          [
           300,
           20
          ],
          [
           300,
           20
          ],
          [
           300,
           20
          ],
          [
           300,
           20
          ],
          [
           300,
           20
          ],
          [
           300,
           20
          ],
          [
           300,
           20
          ],
          [
           300,
           20
          ],
          [
           300,
           20
          ]
         ],
         "hovertemplate": "seq_len=160<br>seq_est_len=%{customdata[1]}<br>max_time=%{customdata[0]}<br>index=%{x}<br>FIT=%{y}<extra></extra>",
         "legendgroup": "160",
         "marker": {
          "color": "#00cc96",
          "symbol": "circle"
         },
         "mode": "markers",
         "name": "160",
         "orientation": "v",
         "showlegend": false,
         "type": "scatter",
         "x": [
          333,
          402,
          286,
          363,
          437,
          279,
          257,
          628,
          718,
          575,
          253,
          5,
          137,
          625,
          330,
          495
         ],
         "xaxis": "x6",
         "y": [
          94.77969360351562,
          94.20499420166016,
          93.90090942382812,
          93.76808166503906,
          93.75470733642578,
          93.7081069946289,
          93.63755798339844,
          93.48402404785156,
          93.3869857788086,
          93.20679473876952,
          93.12879180908205,
          92.93875122070312,
          92.84325408935548,
          92.69175720214844,
          92.42205810546876,
          92.12896728515624
         ],
         "yaxis": "y6"
        },
        {
         "customdata": [
          [
           3600,
           10
          ],
          [
           3600,
           10
          ],
          [
           3600,
           10
          ],
          [
           3600,
           10
          ],
          [
           3600,
           10
          ],
          [
           3600,
           10
          ],
          [
           3600,
           10
          ],
          [
           3600,
           10
          ],
          [
           3600,
           10
          ],
          [
           3600,
           10
          ],
          [
           3600,
           10
          ],
          [
           3600,
           10
          ],
          [
           3600,
           10
          ],
          [
           3600,
           10
          ],
          [
           3600,
           10
          ],
          [
           3600,
           10
          ]
         ],
         "hovertemplate": "seq_len=160<br>seq_est_len=%{customdata[1]}<br>max_time=%{customdata[0]}<br>index=%{x}<br>FIT=%{y}<extra></extra>",
         "legendgroup": "160",
         "marker": {
          "color": "#00cc96",
          "symbol": "circle"
         },
         "mode": "markers",
         "name": "160",
         "orientation": "v",
         "showlegend": false,
         "type": "scatter",
         "x": [
          278,
          401,
          362,
          364,
          430,
          545,
          276,
          606,
          699,
          653,
          104,
          595,
          763,
          672,
          484,
          107
         ],
         "xaxis": "x",
         "y": [
          98.61495208740234,
          98.5709228515625,
          98.54275512695312,
          98.2822723388672,
          98.25435638427734,
          98.12332916259766,
          98.0537567138672,
          97.71148681640624,
          97.71078491210938,
          97.67179870605467,
          97.6438980102539,
          97.59394073486328,
          97.5702667236328,
          97.52223205566406,
          97.40978240966795,
          96.39469146728516
         ],
         "yaxis": "y"
        },
        {
         "customdata": [
          [
           1800,
           10
          ],
          [
           1800,
           10
          ],
          [
           1800,
           10
          ],
          [
           1800,
           10
          ],
          [
           1800,
           10
          ],
          [
           1800,
           10
          ],
          [
           1800,
           10
          ],
          [
           1800,
           10
          ],
          [
           1800,
           10
          ],
          [
           1800,
           10
          ],
          [
           1800,
           10
          ],
          [
           1800,
           10
          ],
          [
           1800,
           10
          ],
          [
           1800,
           10
          ],
          [
           1800,
           10
          ],
          [
           1800,
           10
          ]
         ],
         "hovertemplate": "seq_len=160<br>seq_est_len=%{customdata[1]}<br>max_time=%{customdata[0]}<br>index=%{x}<br>FIT=%{y}<extra></extra>",
         "legendgroup": "160",
         "marker": {
          "color": "#00cc96",
          "symbol": "circle"
         },
         "mode": "markers",
         "name": "160",
         "orientation": "v",
         "showlegend": false,
         "type": "scatter",
         "x": [
          543,
          555,
          9,
          11,
          193,
          88,
          90,
          507,
          175,
          321,
          623,
          64,
          79,
          603,
          612,
          406
         ],
         "xaxis": "x2",
         "y": [
          98.1038055419922,
          97.91771697998048,
          97.60133361816406,
          97.5762710571289,
          97.549560546875,
          97.46454620361328,
          97.46234130859376,
          97.45947265625,
          97.40637969970705,
          97.18293762207033,
          97.1392059326172,
          97.0054168701172,
          96.68988037109376,
          96.3260498046875,
          96.09391021728516,
          96.0416259765625
         ],
         "yaxis": "y2"
        },
        {
         "customdata": [
          [
           300,
           10
          ],
          [
           300,
           10
          ],
          [
           300,
           10
          ],
          [
           300,
           10
          ],
          [
           300,
           10
          ],
          [
           300,
           10
          ],
          [
           300,
           10
          ],
          [
           300,
           10
          ],
          [
           300,
           10
          ],
          [
           300,
           10
          ],
          [
           300,
           10
          ],
          [
           300,
           10
          ],
          [
           300,
           10
          ],
          [
           300,
           10
          ],
          [
           300,
           10
          ],
          [
           300,
           10
          ]
         ],
         "hovertemplate": "seq_len=160<br>seq_est_len=%{customdata[1]}<br>max_time=%{customdata[0]}<br>index=%{x}<br>FIT=%{y}<extra></extra>",
         "legendgroup": "160",
         "marker": {
          "color": "#00cc96",
          "symbol": "circle"
         },
         "mode": "markers",
         "name": "160",
         "orientation": "v",
         "showlegend": false,
         "type": "scatter",
         "x": [
          56,
          70,
          323,
          472,
          687,
          742,
          688,
          203,
          273,
          139,
          709,
          683,
          632,
          383,
          422,
          551
         ],
         "xaxis": "x3",
         "y": [
          94.63908386230467,
          94.32889556884766,
          94.2536392211914,
          94.0627212524414,
          93.82829284667967,
          93.7508544921875,
          93.74798583984376,
          93.62020874023438,
          93.58268737792967,
          93.57483673095705,
          93.2740478515625,
          93.1287841796875,
          93.0917739868164,
          92.80536651611328,
          92.37782287597656,
          92.2913055419922
         ],
         "yaxis": "y3"
        },
        {
         "customdata": [
          [
           3600,
           40
          ],
          [
           3600,
           40
          ],
          [
           3600,
           40
          ],
          [
           3600,
           40
          ],
          [
           3600,
           40
          ],
          [
           3600,
           40
          ],
          [
           3600,
           40
          ],
          [
           3600,
           40
          ],
          [
           3600,
           40
          ],
          [
           3600,
           40
          ],
          [
           3600,
           40
          ],
          [
           3600,
           40
          ],
          [
           3600,
           40
          ],
          [
           3600,
           40
          ],
          [
           3600,
           40
          ],
          [
           3600,
           40
          ]
         ],
         "hovertemplate": "seq_len=320<br>seq_est_len=%{customdata[1]}<br>max_time=%{customdata[0]}<br>index=%{x}<br>FIT=%{y}<extra></extra>",
         "legendgroup": "320",
         "marker": {
          "color": "#ab63fa",
          "symbol": "circle"
         },
         "mode": "markers",
         "name": "320",
         "orientation": "v",
         "showlegend": true,
         "type": "scatter",
         "x": [
          285,
          748,
          265,
          313,
          423,
          302,
          444,
          310,
          670,
          0,
          760,
          190,
          241,
          21,
          477,
          329
         ],
         "xaxis": "x10",
         "y": [
          98.40457916259766,
          98.2790985107422,
          98.23528289794922,
          98.14270782470705,
          98.12931823730467,
          97.93561553955078,
          97.90634155273438,
          97.88506317138672,
          97.82994842529295,
          97.81430053710938,
          97.7030792236328,
          97.62188720703124,
          97.56499481201172,
          97.0929946899414,
          96.20173645019533,
          95.3717269897461
         ],
         "yaxis": "y10"
        },
        {
         "customdata": [
          [
           1800,
           40
          ],
          [
           1800,
           40
          ],
          [
           1800,
           40
          ],
          [
           1800,
           40
          ],
          [
           1800,
           40
          ],
          [
           1800,
           40
          ],
          [
           1800,
           40
          ],
          [
           1800,
           40
          ],
          [
           1800,
           40
          ],
          [
           1800,
           40
          ],
          [
           1800,
           40
          ],
          [
           1800,
           40
          ],
          [
           1800,
           40
          ],
          [
           1800,
           40
          ],
          [
           1800,
           40
          ],
          [
           1800,
           40
          ]
         ],
         "hovertemplate": "seq_len=320<br>seq_est_len=%{customdata[1]}<br>max_time=%{customdata[0]}<br>index=%{x}<br>FIT=%{y}<extra></extra>",
         "legendgroup": "320",
         "marker": {
          "color": "#ab63fa",
          "symbol": "circle"
         },
         "mode": "markers",
         "name": "320",
         "orientation": "v",
         "showlegend": false,
         "type": "scatter",
         "x": [
          403,
          13,
          730,
          84,
          432,
          134,
          225,
          647,
          60,
          268,
          289,
          93,
          211,
          548,
          75,
          129
         ],
         "xaxis": "x11",
         "y": [
          97.353515625,
          97.35227966308594,
          97.04779815673828,
          96.95792388916016,
          96.89020538330078,
          96.77214813232422,
          96.44459533691406,
          96.24958038330078,
          96.2340087890625,
          96.1752700805664,
          96.15438842773438,
          96.14617156982422,
          96.05572509765624,
          96.02835083007812,
          95.79651641845705,
          95.44501495361328
         ],
         "yaxis": "y11"
        },
        {
         "customdata": [
          [
           300,
           40
          ],
          [
           300,
           40
          ],
          [
           300,
           40
          ],
          [
           300,
           40
          ],
          [
           300,
           40
          ],
          [
           300,
           40
          ],
          [
           300,
           40
          ],
          [
           300,
           40
          ],
          [
           300,
           40
          ],
          [
           300,
           40
          ],
          [
           300,
           40
          ],
          [
           300,
           40
          ],
          [
           300,
           40
          ],
          [
           300,
           40
          ],
          [
           300,
           40
          ],
          [
           300,
           40
          ]
         ],
         "hovertemplate": "seq_len=320<br>seq_est_len=%{customdata[1]}<br>max_time=%{customdata[0]}<br>index=%{x}<br>FIT=%{y}<extra></extra>",
         "legendgroup": "320",
         "marker": {
          "color": "#ab63fa",
          "symbol": "circle"
         },
         "mode": "markers",
         "name": "320",
         "orientation": "v",
         "showlegend": false,
         "type": "scatter",
         "x": [
          348,
          585,
          766,
          207,
          28,
          300,
          468,
          44,
          421,
          426,
          544,
          525,
          181,
          160,
          57,
          633
         ],
         "xaxis": "x12",
         "y": [
          92.5256576538086,
          92.23168182373048,
          91.20516204833984,
          91.01607513427734,
          90.88525390625,
          90.14176940917967,
          90.10370635986328,
          90.07355499267578,
          89.75057220458984,
          89.65409851074219,
          89.54446411132812,
          89.50189208984375,
          88.53813934326172,
          88.43306732177734,
          87.48477935791016,
          86.05899810791016
         ],
         "yaxis": "y12"
        },
        {
         "customdata": [
          [
           3600,
           80
          ],
          [
           3600,
           80
          ],
          [
           3600,
           80
          ],
          [
           3600,
           80
          ],
          [
           3600,
           80
          ],
          [
           3600,
           80
          ],
          [
           3600,
           80
          ],
          [
           3600,
           80
          ],
          [
           3600,
           80
          ],
          [
           3600,
           80
          ],
          [
           3600,
           80
          ],
          [
           3600,
           80
          ],
          [
           3600,
           80
          ],
          [
           3600,
           80
          ],
          [
           3600,
           80
          ],
          [
           3600,
           80
          ]
         ],
         "hovertemplate": "seq_len=320<br>seq_est_len=%{customdata[1]}<br>max_time=%{customdata[0]}<br>index=%{x}<br>FIT=%{y}<extra></extra>",
         "legendgroup": "320",
         "marker": {
          "color": "#ab63fa",
          "symbol": "circle"
         },
         "mode": "markers",
         "name": "320",
         "orientation": "v",
         "showlegend": false,
         "type": "scatter",
         "x": [
          735,
          451,
          696,
          581,
          361,
          392,
          661,
          539,
          478,
          716,
          596,
          727,
          27,
          519,
          481,
          174
         ],
         "xaxis": "x7",
         "y": [
          98.33358001708984,
          98.16030883789062,
          98.13443756103516,
          98.0986099243164,
          98.0744857788086,
          98.00624084472656,
          97.8709945678711,
          97.80642700195312,
          97.79432678222656,
          97.63327026367188,
          97.42498016357422,
          97.34603881835938,
          97.24549102783205,
          96.943115234375,
          96.12831115722656,
          95.96997833251952
         ],
         "yaxis": "y7"
        },
        {
         "customdata": [
          [
           1800,
           80
          ],
          [
           1800,
           80
          ],
          [
           1800,
           80
          ],
          [
           1800,
           80
          ],
          [
           1800,
           80
          ],
          [
           1800,
           80
          ],
          [
           1800,
           80
          ],
          [
           1800,
           80
          ],
          [
           1800,
           80
          ],
          [
           1800,
           80
          ],
          [
           1800,
           80
          ],
          [
           1800,
           80
          ],
          [
           1800,
           80
          ],
          [
           1800,
           80
          ],
          [
           1800,
           80
          ],
          [
           1800,
           80
          ]
         ],
         "hovertemplate": "seq_len=320<br>seq_est_len=%{customdata[1]}<br>max_time=%{customdata[0]}<br>index=%{x}<br>FIT=%{y}<extra></extra>",
         "legendgroup": "320",
         "marker": {
          "color": "#ab63fa",
          "symbol": "circle"
         },
         "mode": "markers",
         "name": "320",
         "orientation": "v",
         "showlegend": false,
         "type": "scatter",
         "x": [
          108,
          356,
          566,
          127,
          597,
          666,
          746,
          455,
          640,
          76,
          301,
          684,
          359,
          309,
          319,
          521
         ],
         "xaxis": "x8",
         "y": [
          97.58480072021484,
          97.50323486328124,
          97.47138214111328,
          96.84071350097656,
          96.47856903076172,
          96.19744110107422,
          96.02733612060548,
          96.00082397460938,
          95.98719024658205,
          95.97219848632812,
          95.94959259033205,
          95.94561767578124,
          95.890869140625,
          95.84627532958984,
          95.7861557006836,
          95.65835571289062
         ],
         "yaxis": "y8"
        },
        {
         "customdata": [
          [
           300,
           80
          ],
          [
           300,
           80
          ],
          [
           300,
           80
          ],
          [
           300,
           80
          ],
          [
           300,
           80
          ],
          [
           300,
           80
          ],
          [
           300,
           80
          ],
          [
           300,
           80
          ],
          [
           300,
           80
          ],
          [
           300,
           80
          ],
          [
           300,
           80
          ],
          [
           300,
           80
          ],
          [
           300,
           80
          ],
          [
           300,
           80
          ],
          [
           300,
           80
          ],
          [
           300,
           80
          ]
         ],
         "hovertemplate": "seq_len=320<br>seq_est_len=%{customdata[1]}<br>max_time=%{customdata[0]}<br>index=%{x}<br>FIT=%{y}<extra></extra>",
         "legendgroup": "320",
         "marker": {
          "color": "#ab63fa",
          "symbol": "circle"
         },
         "mode": "markers",
         "name": "320",
         "orientation": "v",
         "showlegend": false,
         "type": "scatter",
         "x": [
          72,
          86,
          758,
          399,
          765,
          594,
          312,
          615,
          616,
          410,
          414,
          370,
          146,
          389,
          314,
          559
         ],
         "xaxis": "x9",
         "y": [
          92.484375,
          91.61455535888672,
          91.114013671875,
          90.9237060546875,
          90.78716278076172,
          90.45520782470705,
          89.704833984375,
          89.48816680908203,
          89.25431823730469,
          89.15131378173828,
          88.60763549804688,
          88.51036071777344,
          87.77323150634766,
          87.48247528076172,
          86.9078598022461,
          86.21510314941406
         ],
         "yaxis": "y9"
        },
        {
         "customdata": [
          [
           3600,
           20
          ],
          [
           3600,
           20
          ],
          [
           3600,
           20
          ],
          [
           3600,
           20
          ],
          [
           3600,
           20
          ],
          [
           3600,
           20
          ],
          [
           3600,
           20
          ],
          [
           3600,
           20
          ],
          [
           3600,
           20
          ],
          [
           3600,
           20
          ],
          [
           3600,
           20
          ],
          [
           3600,
           20
          ],
          [
           3600,
           20
          ],
          [
           3600,
           20
          ],
          [
           3600,
           20
          ],
          [
           3600,
           20
          ]
         ],
         "hovertemplate": "seq_len=320<br>seq_est_len=%{customdata[1]}<br>max_time=%{customdata[0]}<br>index=%{x}<br>FIT=%{y}<extra></extra>",
         "legendgroup": "320",
         "marker": {
          "color": "#ab63fa",
          "symbol": "circle"
         },
         "mode": "markers",
         "name": "320",
         "orientation": "v",
         "showlegend": false,
         "type": "scatter",
         "x": [
          570,
          354,
          475,
          213,
          710,
          105,
          557,
          567,
          20,
          191,
          396,
          166,
          511,
          420,
          541,
          582
         ],
         "xaxis": "x4",
         "y": [
          98.58820343017578,
          98.33084869384766,
          98.22864532470705,
          98.1405258178711,
          98.01490020751952,
          98.00838470458984,
          97.97520446777344,
          97.93618774414062,
          97.92877960205078,
          97.92830657958984,
          97.79634857177734,
          97.7777099609375,
          97.7359390258789,
          97.67367553710938,
          97.58057403564452,
          96.2137680053711
         ],
         "yaxis": "y4"
        },
        {
         "customdata": [
          [
           1800,
           20
          ],
          [
           1800,
           20
          ],
          [
           1800,
           20
          ],
          [
           1800,
           20
          ],
          [
           1800,
           20
          ],
          [
           1800,
           20
          ],
          [
           1800,
           20
          ],
          [
           1800,
           20
          ],
          [
           1800,
           20
          ],
          [
           1800,
           20
          ],
          [
           1800,
           20
          ],
          [
           1800,
           20
          ],
          [
           1800,
           20
          ],
          [
           1800,
           20
          ],
          [
           1800,
           20
          ],
          [
           1800,
           20
          ]
         ],
         "hovertemplate": "seq_len=320<br>seq_est_len=%{customdata[1]}<br>max_time=%{customdata[0]}<br>index=%{x}<br>FIT=%{y}<extra></extra>",
         "legendgroup": "320",
         "marker": {
          "color": "#ab63fa",
          "symbol": "circle"
         },
         "mode": "markers",
         "name": "320",
         "orientation": "v",
         "showlegend": false,
         "type": "scatter",
         "x": [
          245,
          561,
          690,
          351,
          427,
          515,
          344,
          446,
          224,
          168,
          617,
          637,
          491,
          524,
          367,
          463
         ],
         "xaxis": "x5",
         "y": [
          97.70404815673828,
          97.61710357666016,
          97.40254974365234,
          97.18822479248048,
          97.1479263305664,
          97.08280181884766,
          96.71582794189452,
          96.48627471923828,
          96.36953735351562,
          96.2752456665039,
          96.15209197998048,
          96.12329864501952,
          96.10614013671876,
          96.02678680419922,
          95.9238739013672,
          95.57213592529295
         ],
         "yaxis": "y5"
        },
        {
         "customdata": [
          [
           300,
           20
          ],
          [
           300,
           20
          ],
          [
           300,
           20
          ],
          [
           300,
           20
          ],
          [
           300,
           20
          ],
          [
           300,
           20
          ],
          [
           300,
           20
          ],
          [
           300,
           20
          ],
          [
           300,
           20
          ],
          [
           300,
           20
          ],
          [
           300,
           20
          ],
          [
           300,
           20
          ],
          [
           300,
           20
          ],
          [
           300,
           20
          ],
          [
           300,
           20
          ],
          [
           300,
           20
          ]
         ],
         "hovertemplate": "seq_len=320<br>seq_est_len=%{customdata[1]}<br>max_time=%{customdata[0]}<br>index=%{x}<br>FIT=%{y}<extra></extra>",
         "legendgroup": "320",
         "marker": {
          "color": "#ab63fa",
          "symbol": "circle"
         },
         "mode": "markers",
         "name": "320",
         "orientation": "v",
         "showlegend": false,
         "type": "scatter",
         "x": [
          499,
          729,
          299,
          657,
          680,
          464,
          164,
          706,
          675,
          85,
          510,
          462,
          338,
          114,
          83,
          43
         ],
         "xaxis": "x6",
         "y": [
          92.58171081542967,
          92.19158172607422,
          92.09574127197266,
          91.96510314941406,
          91.83743286132812,
          91.68244934082033,
          91.57730865478516,
          91.50054168701172,
          90.98065185546876,
          90.5993194580078,
          90.46302032470705,
          89.96578979492188,
          89.85446166992188,
          89.28173828125,
          87.0530014038086,
          87.00425720214844
         ],
         "yaxis": "y6"
        },
        {
         "customdata": [
          [
           3600,
           10
          ],
          [
           3600,
           10
          ],
          [
           3600,
           10
          ],
          [
           3600,
           10
          ],
          [
           3600,
           10
          ],
          [
           3600,
           10
          ],
          [
           3600,
           10
          ],
          [
           3600,
           10
          ],
          [
           3600,
           10
          ],
          [
           3600,
           10
          ],
          [
           3600,
           10
          ],
          [
           3600,
           10
          ],
          [
           3600,
           10
          ],
          [
           3600,
           10
          ],
          [
           3600,
           10
          ],
          [
           3600,
           10
          ]
         ],
         "hovertemplate": "seq_len=320<br>seq_est_len=%{customdata[1]}<br>max_time=%{customdata[0]}<br>index=%{x}<br>FIT=%{y}<extra></extra>",
         "legendgroup": "320",
         "marker": {
          "color": "#ab63fa",
          "symbol": "circle"
         },
         "mode": "markers",
         "name": "320",
         "orientation": "v",
         "showlegend": false,
         "type": "scatter",
         "x": [
          579,
          712,
          496,
          500,
          654,
          638,
          73,
          189,
          413,
          6,
          440,
          78,
          424,
          514,
          318,
          171
         ],
         "xaxis": "x",
         "y": [
          98.33268737792967,
          98.32843780517578,
          98.17715454101562,
          98.13209533691406,
          98.09984588623048,
          98.04680633544922,
          97.98162078857422,
          97.88536071777344,
          97.83209228515624,
          97.7827377319336,
          97.72200012207033,
          97.42546844482422,
          97.3885269165039,
          97.13885498046876,
          96.92233276367188,
          96.64215087890624
         ],
         "yaxis": "y"
        },
        {
         "customdata": [
          [
           1800,
           10
          ],
          [
           1800,
           10
          ],
          [
           1800,
           10
          ],
          [
           1800,
           10
          ],
          [
           1800,
           10
          ],
          [
           1800,
           10
          ],
          [
           1800,
           10
          ],
          [
           1800,
           10
          ],
          [
           1800,
           10
          ],
          [
           1800,
           10
          ],
          [
           1800,
           10
          ],
          [
           1800,
           10
          ],
          [
           1800,
           10
          ],
          [
           1800,
           10
          ],
          [
           1800,
           10
          ],
          [
           1800,
           10
          ]
         ],
         "hovertemplate": "seq_len=320<br>seq_est_len=%{customdata[1]}<br>max_time=%{customdata[0]}<br>index=%{x}<br>FIT=%{y}<extra></extra>",
         "legendgroup": "320",
         "marker": {
          "color": "#ab63fa",
          "symbol": "circle"
         },
         "mode": "markers",
         "name": "320",
         "orientation": "v",
         "showlegend": false,
         "type": "scatter",
         "x": [
          411,
          447,
          130,
          140,
          723,
          81,
          400,
          126,
          517,
          664,
          598,
          271,
          294,
          686,
          112,
          619
         ],
         "xaxis": "x2",
         "y": [
          97.77626037597656,
          97.57089233398438,
          97.56465911865234,
          97.40735626220705,
          97.3310089111328,
          97.23062133789062,
          96.91384887695312,
          96.76580810546876,
          96.72945404052734,
          96.39669799804688,
          96.27579498291016,
          96.26799774169922,
          96.22857666015624,
          96.02667999267578,
          95.96202087402344,
          95.64476013183594
         ],
         "yaxis": "y2"
        },
        {
         "customdata": [
          [
           300,
           10
          ],
          [
           300,
           10
          ],
          [
           300,
           10
          ],
          [
           300,
           10
          ],
          [
           300,
           10
          ],
          [
           300,
           10
          ],
          [
           300,
           10
          ],
          [
           300,
           10
          ],
          [
           300,
           10
          ],
          [
           300,
           10
          ],
          [
           300,
           10
          ],
          [
           300,
           10
          ],
          [
           300,
           10
          ],
          [
           300,
           10
          ],
          [
           300,
           10
          ],
          [
           300,
           10
          ]
         ],
         "hovertemplate": "seq_len=320<br>seq_est_len=%{customdata[1]}<br>max_time=%{customdata[0]}<br>index=%{x}<br>FIT=%{y}<extra></extra>",
         "legendgroup": "320",
         "marker": {
          "color": "#ab63fa",
          "symbol": "circle"
         },
         "mode": "markers",
         "name": "320",
         "orientation": "v",
         "showlegend": false,
         "type": "scatter",
         "x": [
          453,
          55,
          326,
          479,
          435,
          349,
          292,
          643,
          741,
          242,
          317,
          267,
          386,
          332,
          308,
          163
         ],
         "xaxis": "x3",
         "y": [
          92.6480712890625,
          92.4879379272461,
          92.42767333984376,
          92.38054656982422,
          92.19561004638672,
          92.09778594970705,
          91.41017150878906,
          91.17032623291016,
          90.9515609741211,
          90.5380401611328,
          90.3422622680664,
          90.15985870361328,
          89.81362915039062,
          89.37510681152344,
          88.1762924194336,
          85.68626403808594
         ],
         "yaxis": "y3"
        }
       ],
       "layout": {
        "annotations": [
         {
          "font": {},
          "showarrow": false,
          "text": "max_time=3600",
          "x": 0.15666666666666665,
          "xanchor": "center",
          "xref": "paper",
          "y": 1,
          "yanchor": "bottom",
          "yref": "paper"
         },
         {
          "font": {},
          "showarrow": false,
          "text": "max_time=1800",
          "x": 0.49,
          "xanchor": "center",
          "xref": "paper",
          "y": 1,
          "yanchor": "bottom",
          "yref": "paper"
         },
         {
          "font": {},
          "showarrow": false,
          "text": "max_time=300",
          "x": 0.8233333333333333,
          "xanchor": "center",
          "xref": "paper",
          "y": 1,
          "yanchor": "bottom",
          "yref": "paper"
         },
         {
          "font": {},
          "showarrow": false,
          "text": "seq_est_len=10",
          "textangle": 90,
          "x": 0.98,
          "xanchor": "left",
          "xref": "paper",
          "y": 0.11375,
          "yanchor": "middle",
          "yref": "paper"
         },
         {
          "font": {},
          "showarrow": false,
          "text": "seq_est_len=20",
          "textangle": 90,
          "x": 0.98,
          "xanchor": "left",
          "xref": "paper",
          "y": 0.37124999999999997,
          "yanchor": "middle",
          "yref": "paper"
         },
         {
          "font": {},
          "showarrow": false,
          "text": "seq_est_len=80",
          "textangle": 90,
          "x": 0.98,
          "xanchor": "left",
          "xref": "paper",
          "y": 0.62875,
          "yanchor": "middle",
          "yref": "paper"
         },
         {
          "font": {},
          "showarrow": false,
          "text": "seq_est_len=40",
          "textangle": 90,
          "x": 0.98,
          "xanchor": "left",
          "xref": "paper",
          "y": 0.88625,
          "yanchor": "middle",
          "yref": "paper"
         }
        ],
        "legend": {
         "title": {
          "text": "seq_len"
         },
         "tracegroupgap": 0
        },
        "margin": {
         "t": 60
        },
        "template": {
         "data": {
          "bar": [
           {
            "error_x": {
             "color": "#2a3f5f"
            },
            "error_y": {
             "color": "#2a3f5f"
            },
            "marker": {
             "line": {
              "color": "#E5ECF6",
              "width": 0.5
             },
             "pattern": {
              "fillmode": "overlay",
              "size": 10,
              "solidity": 0.2
             }
            },
            "type": "bar"
           }
          ],
          "barpolar": [
           {
            "marker": {
             "line": {
              "color": "#E5ECF6",
              "width": 0.5
             },
             "pattern": {
              "fillmode": "overlay",
              "size": 10,
              "solidity": 0.2
             }
            },
            "type": "barpolar"
           }
          ],
          "carpet": [
           {
            "aaxis": {
             "endlinecolor": "#2a3f5f",
             "gridcolor": "white",
             "linecolor": "white",
             "minorgridcolor": "white",
             "startlinecolor": "#2a3f5f"
            },
            "baxis": {
             "endlinecolor": "#2a3f5f",
             "gridcolor": "white",
             "linecolor": "white",
             "minorgridcolor": "white",
             "startlinecolor": "#2a3f5f"
            },
            "type": "carpet"
           }
          ],
          "choropleth": [
           {
            "colorbar": {
             "outlinewidth": 0,
             "ticks": ""
            },
            "type": "choropleth"
           }
          ],
          "contour": [
           {
            "colorbar": {
             "outlinewidth": 0,
             "ticks": ""
            },
            "colorscale": [
             [
              0,
              "#0d0887"
             ],
             [
              0.1111111111111111,
              "#46039f"
             ],
             [
              0.2222222222222222,
              "#7201a8"
             ],
             [
              0.3333333333333333,
              "#9c179e"
             ],
             [
              0.4444444444444444,
              "#bd3786"
             ],
             [
              0.5555555555555556,
              "#d8576b"
             ],
             [
              0.6666666666666666,
              "#ed7953"
             ],
             [
              0.7777777777777778,
              "#fb9f3a"
             ],
             [
              0.8888888888888888,
              "#fdca26"
             ],
             [
              1,
              "#f0f921"
             ]
            ],
            "type": "contour"
           }
          ],
          "contourcarpet": [
           {
            "colorbar": {
             "outlinewidth": 0,
             "ticks": ""
            },
            "type": "contourcarpet"
           }
          ],
          "heatmap": [
           {
            "colorbar": {
             "outlinewidth": 0,
             "ticks": ""
            },
            "colorscale": [
             [
              0,
              "#0d0887"
             ],
             [
              0.1111111111111111,
              "#46039f"
             ],
             [
              0.2222222222222222,
              "#7201a8"
             ],
             [
              0.3333333333333333,
              "#9c179e"
             ],
             [
              0.4444444444444444,
              "#bd3786"
             ],
             [
              0.5555555555555556,
              "#d8576b"
             ],
             [
              0.6666666666666666,
              "#ed7953"
             ],
             [
              0.7777777777777778,
              "#fb9f3a"
             ],
             [
              0.8888888888888888,
              "#fdca26"
             ],
             [
              1,
              "#f0f921"
             ]
            ],
            "type": "heatmap"
           }
          ],
          "heatmapgl": [
           {
            "colorbar": {
             "outlinewidth": 0,
             "ticks": ""
            },
            "colorscale": [
             [
              0,
              "#0d0887"
             ],
             [
              0.1111111111111111,
              "#46039f"
             ],
             [
              0.2222222222222222,
              "#7201a8"
             ],
             [
              0.3333333333333333,
              "#9c179e"
             ],
             [
              0.4444444444444444,
              "#bd3786"
             ],
             [
              0.5555555555555556,
              "#d8576b"
             ],
             [
              0.6666666666666666,
              "#ed7953"
             ],
             [
              0.7777777777777778,
              "#fb9f3a"
             ],
             [
              0.8888888888888888,
              "#fdca26"
             ],
             [
              1,
              "#f0f921"
             ]
            ],
            "type": "heatmapgl"
           }
          ],
          "histogram": [
           {
            "marker": {
             "pattern": {
              "fillmode": "overlay",
              "size": 10,
              "solidity": 0.2
             }
            },
            "type": "histogram"
           }
          ],
          "histogram2d": [
           {
            "colorbar": {
             "outlinewidth": 0,
             "ticks": ""
            },
            "colorscale": [
             [
              0,
              "#0d0887"
             ],
             [
              0.1111111111111111,
              "#46039f"
             ],
             [
              0.2222222222222222,
              "#7201a8"
             ],
             [
              0.3333333333333333,
              "#9c179e"
             ],
             [
              0.4444444444444444,
              "#bd3786"
             ],
             [
              0.5555555555555556,
              "#d8576b"
             ],
             [
              0.6666666666666666,
              "#ed7953"
             ],
             [
              0.7777777777777778,
              "#fb9f3a"
             ],
             [
              0.8888888888888888,
              "#fdca26"
             ],
             [
              1,
              "#f0f921"
             ]
            ],
            "type": "histogram2d"
           }
          ],
          "histogram2dcontour": [
           {
            "colorbar": {
             "outlinewidth": 0,
             "ticks": ""
            },
            "colorscale": [
             [
              0,
              "#0d0887"
             ],
             [
              0.1111111111111111,
              "#46039f"
             ],
             [
              0.2222222222222222,
              "#7201a8"
             ],
             [
              0.3333333333333333,
              "#9c179e"
             ],
             [
              0.4444444444444444,
              "#bd3786"
             ],
             [
              0.5555555555555556,
              "#d8576b"
             ],
             [
              0.6666666666666666,
              "#ed7953"
             ],
             [
              0.7777777777777778,
              "#fb9f3a"
             ],
             [
              0.8888888888888888,
              "#fdca26"
             ],
             [
              1,
              "#f0f921"
             ]
            ],
            "type": "histogram2dcontour"
           }
          ],
          "mesh3d": [
           {
            "colorbar": {
             "outlinewidth": 0,
             "ticks": ""
            },
            "type": "mesh3d"
           }
          ],
          "parcoords": [
           {
            "line": {
             "colorbar": {
              "outlinewidth": 0,
              "ticks": ""
             }
            },
            "type": "parcoords"
           }
          ],
          "pie": [
           {
            "automargin": true,
            "type": "pie"
           }
          ],
          "scatter": [
           {
            "marker": {
             "colorbar": {
              "outlinewidth": 0,
              "ticks": ""
             }
            },
            "type": "scatter"
           }
          ],
          "scatter3d": [
           {
            "line": {
             "colorbar": {
              "outlinewidth": 0,
              "ticks": ""
             }
            },
            "marker": {
             "colorbar": {
              "outlinewidth": 0,
              "ticks": ""
             }
            },
            "type": "scatter3d"
           }
          ],
          "scattercarpet": [
           {
            "marker": {
             "colorbar": {
              "outlinewidth": 0,
              "ticks": ""
             }
            },
            "type": "scattercarpet"
           }
          ],
          "scattergeo": [
           {
            "marker": {
             "colorbar": {
              "outlinewidth": 0,
              "ticks": ""
             }
            },
            "type": "scattergeo"
           }
          ],
          "scattergl": [
           {
            "marker": {
             "colorbar": {
              "outlinewidth": 0,
              "ticks": ""
             }
            },
            "type": "scattergl"
           }
          ],
          "scattermapbox": [
           {
            "marker": {
             "colorbar": {
              "outlinewidth": 0,
              "ticks": ""
             }
            },
            "type": "scattermapbox"
           }
          ],
          "scatterpolar": [
           {
            "marker": {
             "colorbar": {
              "outlinewidth": 0,
              "ticks": ""
             }
            },
            "type": "scatterpolar"
           }
          ],
          "scatterpolargl": [
           {
            "marker": {
             "colorbar": {
              "outlinewidth": 0,
              "ticks": ""
             }
            },
            "type": "scatterpolargl"
           }
          ],
          "scatterternary": [
           {
            "marker": {
             "colorbar": {
              "outlinewidth": 0,
              "ticks": ""
             }
            },
            "type": "scatterternary"
           }
          ],
          "surface": [
           {
            "colorbar": {
             "outlinewidth": 0,
             "ticks": ""
            },
            "colorscale": [
             [
              0,
              "#0d0887"
             ],
             [
              0.1111111111111111,
              "#46039f"
             ],
             [
              0.2222222222222222,
              "#7201a8"
             ],
             [
              0.3333333333333333,
              "#9c179e"
             ],
             [
              0.4444444444444444,
              "#bd3786"
             ],
             [
              0.5555555555555556,
              "#d8576b"
             ],
             [
              0.6666666666666666,
              "#ed7953"
             ],
             [
              0.7777777777777778,
              "#fb9f3a"
             ],
             [
              0.8888888888888888,
              "#fdca26"
             ],
             [
              1,
              "#f0f921"
             ]
            ],
            "type": "surface"
           }
          ],
          "table": [
           {
            "cells": {
             "fill": {
              "color": "#EBF0F8"
             },
             "line": {
              "color": "white"
             }
            },
            "header": {
             "fill": {
              "color": "#C8D4E3"
             },
             "line": {
              "color": "white"
             }
            },
            "type": "table"
           }
          ]
         },
         "layout": {
          "annotationdefaults": {
           "arrowcolor": "#2a3f5f",
           "arrowhead": 0,
           "arrowwidth": 1
          },
          "autotypenumbers": "strict",
          "coloraxis": {
           "colorbar": {
            "outlinewidth": 0,
            "ticks": ""
           }
          },
          "colorscale": {
           "diverging": [
            [
             0,
             "#8e0152"
            ],
            [
             0.1,
             "#c51b7d"
            ],
            [
             0.2,
             "#de77ae"
            ],
            [
             0.3,
             "#f1b6da"
            ],
            [
             0.4,
             "#fde0ef"
            ],
            [
             0.5,
             "#f7f7f7"
            ],
            [
             0.6,
             "#e6f5d0"
            ],
            [
             0.7,
             "#b8e186"
            ],
            [
             0.8,
             "#7fbc41"
            ],
            [
             0.9,
             "#4d9221"
            ],
            [
             1,
             "#276419"
            ]
           ],
           "sequential": [
            [
             0,
             "#0d0887"
            ],
            [
             0.1111111111111111,
             "#46039f"
            ],
            [
             0.2222222222222222,
             "#7201a8"
            ],
            [
             0.3333333333333333,
             "#9c179e"
            ],
            [
             0.4444444444444444,
             "#bd3786"
            ],
            [
             0.5555555555555556,
             "#d8576b"
            ],
            [
             0.6666666666666666,
             "#ed7953"
            ],
            [
             0.7777777777777778,
             "#fb9f3a"
            ],
            [
             0.8888888888888888,
             "#fdca26"
            ],
            [
             1,
             "#f0f921"
            ]
           ],
           "sequentialminus": [
            [
             0,
             "#0d0887"
            ],
            [
             0.1111111111111111,
             "#46039f"
            ],
            [
             0.2222222222222222,
             "#7201a8"
            ],
            [
             0.3333333333333333,
             "#9c179e"
            ],
            [
             0.4444444444444444,
             "#bd3786"
            ],
            [
             0.5555555555555556,
             "#d8576b"
            ],
            [
             0.6666666666666666,
             "#ed7953"
            ],
            [
             0.7777777777777778,
             "#fb9f3a"
            ],
            [
             0.8888888888888888,
             "#fdca26"
            ],
            [
             1,
             "#f0f921"
            ]
           ]
          },
          "colorway": [
           "#636efa",
           "#EF553B",
           "#00cc96",
           "#ab63fa",
           "#FFA15A",
           "#19d3f3",
           "#FF6692",
           "#B6E880",
           "#FF97FF",
           "#FECB52"
          ],
          "font": {
           "color": "#2a3f5f"
          },
          "geo": {
           "bgcolor": "white",
           "lakecolor": "white",
           "landcolor": "#E5ECF6",
           "showlakes": true,
           "showland": true,
           "subunitcolor": "white"
          },
          "hoverlabel": {
           "align": "left"
          },
          "hovermode": "closest",
          "mapbox": {
           "style": "light"
          },
          "paper_bgcolor": "white",
          "plot_bgcolor": "#E5ECF6",
          "polar": {
           "angularaxis": {
            "gridcolor": "white",
            "linecolor": "white",
            "ticks": ""
           },
           "bgcolor": "#E5ECF6",
           "radialaxis": {
            "gridcolor": "white",
            "linecolor": "white",
            "ticks": ""
           }
          },
          "scene": {
           "xaxis": {
            "backgroundcolor": "#E5ECF6",
            "gridcolor": "white",
            "gridwidth": 2,
            "linecolor": "white",
            "showbackground": true,
            "ticks": "",
            "zerolinecolor": "white"
           },
           "yaxis": {
            "backgroundcolor": "#E5ECF6",
            "gridcolor": "white",
            "gridwidth": 2,
            "linecolor": "white",
            "showbackground": true,
            "ticks": "",
            "zerolinecolor": "white"
           },
           "zaxis": {
            "backgroundcolor": "#E5ECF6",
            "gridcolor": "white",
            "gridwidth": 2,
            "linecolor": "white",
            "showbackground": true,
            "ticks": "",
            "zerolinecolor": "white"
           }
          },
          "shapedefaults": {
           "line": {
            "color": "#2a3f5f"
           }
          },
          "ternary": {
           "aaxis": {
            "gridcolor": "white",
            "linecolor": "white",
            "ticks": ""
           },
           "baxis": {
            "gridcolor": "white",
            "linecolor": "white",
            "ticks": ""
           },
           "bgcolor": "#E5ECF6",
           "caxis": {
            "gridcolor": "white",
            "linecolor": "white",
            "ticks": ""
           }
          },
          "title": {
           "x": 0.05
          },
          "xaxis": {
           "automargin": true,
           "gridcolor": "white",
           "linecolor": "white",
           "ticks": "",
           "title": {
            "standoff": 15
           },
           "zerolinecolor": "white",
           "zerolinewidth": 2
          },
          "yaxis": {
           "automargin": true,
           "gridcolor": "white",
           "linecolor": "white",
           "ticks": "",
           "title": {
            "standoff": 15
           },
           "zerolinecolor": "white",
           "zerolinewidth": 2
          }
         }
        },
        "xaxis": {
         "anchor": "y",
         "domain": [
          0,
          0.3133333333333333
         ],
         "title": {
          "text": "index"
         }
        },
        "xaxis10": {
         "anchor": "y10",
         "domain": [
          0,
          0.3133333333333333
         ],
         "matches": "x",
         "showticklabels": false
        },
        "xaxis11": {
         "anchor": "y11",
         "domain": [
          0.3333333333333333,
          0.6466666666666666
         ],
         "matches": "x",
         "showticklabels": false
        },
        "xaxis12": {
         "anchor": "y12",
         "domain": [
          0.6666666666666666,
          0.98
         ],
         "matches": "x",
         "showticklabels": false
        },
        "xaxis2": {
         "anchor": "y2",
         "domain": [
          0.3333333333333333,
          0.6466666666666666
         ],
         "matches": "x",
         "title": {
          "text": "index"
         }
        },
        "xaxis3": {
         "anchor": "y3",
         "domain": [
          0.6666666666666666,
          0.98
         ],
         "matches": "x",
         "title": {
          "text": "index"
         }
        },
        "xaxis4": {
         "anchor": "y4",
         "domain": [
          0,
          0.3133333333333333
         ],
         "matches": "x",
         "showticklabels": false
        },
        "xaxis5": {
         "anchor": "y5",
         "domain": [
          0.3333333333333333,
          0.6466666666666666
         ],
         "matches": "x",
         "showticklabels": false
        },
        "xaxis6": {
         "anchor": "y6",
         "domain": [
          0.6666666666666666,
          0.98
         ],
         "matches": "x",
         "showticklabels": false
        },
        "xaxis7": {
         "anchor": "y7",
         "domain": [
          0,
          0.3133333333333333
         ],
         "matches": "x",
         "showticklabels": false
        },
        "xaxis8": {
         "anchor": "y8",
         "domain": [
          0.3333333333333333,
          0.6466666666666666
         ],
         "matches": "x",
         "showticklabels": false
        },
        "xaxis9": {
         "anchor": "y9",
         "domain": [
          0.6666666666666666,
          0.98
         ],
         "matches": "x",
         "showticklabels": false
        },
        "yaxis": {
         "anchor": "x",
         "domain": [
          0,
          0.2275
         ],
         "title": {
          "text": "FIT"
         }
        },
        "yaxis10": {
         "anchor": "x10",
         "domain": [
          0.7725,
          1
         ],
         "matches": "y",
         "title": {
          "text": "FIT"
         }
        },
        "yaxis11": {
         "anchor": "x11",
         "domain": [
          0.7725,
          1
         ],
         "matches": "y",
         "showticklabels": false
        },
        "yaxis12": {
         "anchor": "x12",
         "domain": [
          0.7725,
          1
         ],
         "matches": "y",
         "showticklabels": false
        },
        "yaxis2": {
         "anchor": "x2",
         "domain": [
          0,
          0.2275
         ],
         "matches": "y",
         "showticklabels": false
        },
        "yaxis3": {
         "anchor": "x3",
         "domain": [
          0,
          0.2275
         ],
         "matches": "y",
         "showticklabels": false
        },
        "yaxis4": {
         "anchor": "x4",
         "domain": [
          0.2575,
          0.485
         ],
         "matches": "y",
         "title": {
          "text": "FIT"
         }
        },
        "yaxis5": {
         "anchor": "x5",
         "domain": [
          0.2575,
          0.485
         ],
         "matches": "y",
         "showticklabels": false
        },
        "yaxis6": {
         "anchor": "x6",
         "domain": [
          0.2575,
          0.485
         ],
         "matches": "y",
         "showticklabels": false
        },
        "yaxis7": {
         "anchor": "x7",
         "domain": [
          0.515,
          0.7425
         ],
         "matches": "y",
         "title": {
          "text": "FIT"
         }
        },
        "yaxis8": {
         "anchor": "x8",
         "domain": [
          0.515,
          0.7425
         ],
         "matches": "y",
         "showticklabels": false
        },
        "yaxis9": {
         "anchor": "x9",
         "domain": [
          0.515,
          0.7425
         ],
         "matches": "y",
         "showticklabels": false
        }
       }
      },
      "text/html": [
       "<div>                            <div id=\"ff13dcbb-91ac-4b11-a7c7-1ab8df8e5b30\" class=\"plotly-graph-div\" style=\"height:525px; width:100%;\"></div>            <script type=\"text/javascript\">                require([\"plotly\"], function(Plotly) {                    window.PLOTLYENV=window.PLOTLYENV || {};                                    if (document.getElementById(\"ff13dcbb-91ac-4b11-a7c7-1ab8df8e5b30\")) {                    Plotly.newPlot(                        \"ff13dcbb-91ac-4b11-a7c7-1ab8df8e5b30\",                        [{\"customdata\":[[3600,40],[3600,40],[3600,40],[3600,40],[3600,40],[3600,40],[3600,40],[3600,40],[3600,40],[3600,40],[3600,40],[3600,40],[3600,40],[3600,40],[3600,40],[3600,40]],\"hovertemplate\":\"seq_len=80<br>seq_est_len=%{customdata[1]}<br>max_time=%{customdata[0]}<br>index=%{x}<br>FIT=%{y}<extra></extra>\",\"legendgroup\":\"80\",\"marker\":{\"color\":\"#636efa\",\"symbol\":\"circle\"},\"mode\":\"markers\",\"name\":\"80\",\"orientation\":\"v\",\"showlegend\":true,\"x\":[26,409,658,322,610,96,10,120,295,141,535,753,663,668,208,588],\"xaxis\":\"x10\",\"y\":[98.96790313720705,98.89347839355467,98.66301727294922,98.55867767333984,98.44317626953124,98.43783569335938,98.42350769042967,98.31945037841795,98.29606628417967,98.20680236816406,98.15087890625,98.13492584228516,97.90435791015624,97.870849609375,97.72687530517578,97.0220718383789],\"yaxis\":\"y10\",\"type\":\"scatter\"},{\"customdata\":[[1800,40],[1800,40],[1800,40],[1800,40],[1800,40],[1800,40],[1800,40],[1800,40],[1800,40],[1800,40],[1800,40],[1800,40],[1800,40],[1800,40],[1800,40],[1800,40]],\"hovertemplate\":\"seq_len=80<br>seq_est_len=%{customdata[1]}<br>max_time=%{customdata[0]}<br>index=%{x}<br>FIT=%{y}<extra></extra>\",\"legendgroup\":\"80\",\"marker\":{\"color\":\"#636efa\",\"symbol\":\"circle\"},\"mode\":\"markers\",\"name\":\"80\",\"orientation\":\"v\",\"showlegend\":false,\"x\":[602,152,36,694,204,158,68,375,239,397,470,34,217,604,220,122],\"xaxis\":\"x11\",\"y\":[98.47216796875,98.24708557128906,98.18706512451172,97.9639129638672,97.95307159423828,97.94605255126952,97.9413604736328,97.91130828857422,97.86656188964844,97.79674530029295,97.78519439697266,97.61460876464844,97.58258056640624,97.5071029663086,97.3812484741211,97.1889877319336],\"yaxis\":\"y11\",\"type\":\"scatter\"},{\"customdata\":[[300,40],[300,40],[300,40],[300,40],[300,40],[300,40],[300,40],[300,40],[300,40],[300,40],[300,40],[300,40],[300,40],[300,40],[300,40],[300,40]],\"hovertemplate\":\"seq_len=80<br>seq_est_len=%{customdata[1]}<br>max_time=%{customdata[0]}<br>index=%{x}<br>FIT=%{y}<extra></extra>\",\"legendgroup\":\"80\",\"marker\":{\"color\":\"#636efa\",\"symbol\":\"circle\"},\"mode\":\"markers\",\"name\":\"80\",\"orientation\":\"v\",\"showlegend\":false,\"x\":[518,732,469,443,201,366,12,412,315,631,747,584,2,613,277,249],\"xaxis\":\"x12\",\"y\":[95.73407745361328,95.65008544921876,95.44103240966795,95.13243103027344,95.08865356445312,95.08831024169922,94.42241668701172,94.060791015625,93.98983764648438,93.84124755859376,93.5634765625,93.00230407714844,91.82061004638672,91.77629089355467,91.54674530029295,91.07087707519533],\"yaxis\":\"y12\",\"type\":\"scatter\"},{\"customdata\":[[3600,80],[3600,80],[3600,80],[3600,80],[3600,80],[3600,80],[3600,80],[3600,80],[3600,80],[3600,80],[3600,80],[3600,80],[3600,80],[3600,80],[3600,80],[3600,80]],\"hovertemplate\":\"seq_len=80<br>seq_est_len=%{customdata[1]}<br>max_time=%{customdata[0]}<br>index=%{x}<br>FIT=%{y}<extra></extra>\",\"legendgroup\":\"80\",\"marker\":{\"color\":\"#636efa\",\"symbol\":\"circle\"},\"mode\":\"markers\",\"name\":\"80\",\"orientation\":\"v\",\"showlegend\":false,\"x\":[24,99,357,552,681,231,212,58,652,736,39,94,355,38,147,593],\"xaxis\":\"x7\",\"y\":[98.8184585571289,98.755615234375,98.6677017211914,98.52655792236328,98.49276733398438,98.41592407226562,98.3724594116211,98.36599731445312,98.15198516845705,98.14521026611328,98.00504302978516,97.98904418945312,97.89292907714844,97.8615493774414,97.65239715576172,97.63629150390624],\"yaxis\":\"y7\",\"type\":\"scatter\"},{\"customdata\":[[1800,80],[1800,80],[1800,80],[1800,80],[1800,80],[1800,80],[1800,80],[1800,80],[1800,80],[1800,80],[1800,80],[1800,80],[1800,80],[1800,80],[1800,80],[1800,80]],\"hovertemplate\":\"seq_len=80<br>seq_est_len=%{customdata[1]}<br>max_time=%{customdata[0]}<br>index=%{x}<br>FIT=%{y}<extra></extra>\",\"legendgroup\":\"80\",\"marker\":{\"color\":\"#636efa\",\"symbol\":\"circle\"},\"mode\":\"markers\",\"name\":\"80\",\"orientation\":\"v\",\"showlegend\":false,\"x\":[467,324,459,480,197,591,395,713,689,580,493,343,206,155,744,601],\"xaxis\":\"x8\",\"y\":[98.57766723632812,98.3680191040039,98.20525360107422,98.03961944580078,97.90785217285156,97.76543426513672,97.74483489990234,97.72874450683594,97.61559295654295,97.5997085571289,97.59955596923828,97.35598754882812,97.32797241210938,97.2773208618164,96.53412628173828,96.17138671875],\"yaxis\":\"y8\",\"type\":\"scatter\"},{\"customdata\":[[300,80],[300,80],[300,80],[300,80],[300,80],[300,80],[300,80],[300,80],[300,80],[300,80],[300,80],[300,80],[300,80],[300,80],[300,80],[300,80]],\"hovertemplate\":\"seq_len=80<br>seq_est_len=%{customdata[1]}<br>max_time=%{customdata[0]}<br>index=%{x}<br>FIT=%{y}<extra></extra>\",\"legendgroup\":\"80\",\"marker\":{\"color\":\"#636efa\",\"symbol\":\"circle\"},\"mode\":\"markers\",\"name\":\"80\",\"orientation\":\"v\",\"showlegend\":false,\"x\":[51,161,605,33,577,247,486,466,407,205,288,488,91,752,71,415],\"xaxis\":\"x9\",\"y\":[95.76171875,95.30598449707033,95.2320556640625,94.62271118164062,94.2226791381836,93.66182708740234,93.64288330078124,93.53684997558594,93.4580535888672,93.3862533569336,93.08717346191406,92.69290161132812,92.33709716796876,91.70368194580078,91.38363647460938,89.55714416503906],\"yaxis\":\"y9\",\"type\":\"scatter\"},{\"customdata\":[[3600,20],[3600,20],[3600,20],[3600,20],[3600,20],[3600,20],[3600,20],[3600,20],[3600,20],[3600,20],[3600,20],[3600,20],[3600,20],[3600,20],[3600,20],[3600,20]],\"hovertemplate\":\"seq_len=80<br>seq_est_len=%{customdata[1]}<br>max_time=%{customdata[0]}<br>index=%{x}<br>FIT=%{y}<extra></extra>\",\"legendgroup\":\"80\",\"marker\":{\"color\":\"#636efa\",\"symbol\":\"circle\"},\"mode\":\"markers\",\"name\":\"80\",\"orientation\":\"v\",\"showlegend\":false,\"x\":[184,722,29,275,438,554,642,678,592,196,18,296,215,153,123,725],\"xaxis\":\"x4\",\"y\":[98.6185073852539,98.60972595214844,98.3901138305664,98.37145233154295,98.3571548461914,98.35199737548828,98.31344604492188,98.1959457397461,98.1723175048828,98.16968536376952,98.11931610107422,98.1132583618164,98.05565643310548,97.93694305419922,97.9099578857422,97.85831451416016],\"yaxis\":\"y4\",\"type\":\"scatter\"},{\"customdata\":[[1800,20],[1800,20],[1800,20],[1800,20],[1800,20],[1800,20],[1800,20],[1800,20],[1800,20],[1800,20],[1800,20],[1800,20],[1800,20],[1800,20],[1800,20],[1800,20]],\"hovertemplate\":\"seq_len=80<br>seq_est_len=%{customdata[1]}<br>max_time=%{customdata[0]}<br>index=%{x}<br>FIT=%{y}<extra></extra>\",\"legendgroup\":\"80\",\"marker\":{\"color\":\"#636efa\",\"symbol\":\"circle\"},\"mode\":\"markers\",\"name\":\"80\",\"orientation\":\"v\",\"showlegend\":false,\"x\":[118,542,530,77,465,115,703,441,759,176,393,287,199,569,221,534],\"xaxis\":\"x5\",\"y\":[98.57784271240234,98.18809509277344,98.04261779785156,98.04012298583984,98.03241729736328,97.99856567382812,97.93199920654295,97.92369842529295,97.8365707397461,97.78182220458984,97.76026153564452,97.68582153320312,97.6299057006836,97.58319091796876,97.31220245361328,97.0484619140625],\"yaxis\":\"y5\",\"type\":\"scatter\"},{\"customdata\":[[300,20],[300,20],[300,20],[300,20],[300,20],[300,20],[300,20],[300,20],[300,20],[300,20],[300,20],[300,20],[300,20],[300,20],[300,20],[300,20]],\"hovertemplate\":\"seq_len=80<br>seq_est_len=%{customdata[1]}<br>max_time=%{customdata[0]}<br>index=%{x}<br>FIT=%{y}<extra></extra>\",\"legendgroup\":\"80\",\"marker\":{\"color\":\"#636efa\",\"symbol\":\"circle\"},\"mode\":\"markers\",\"name\":\"80\",\"orientation\":\"v\",\"showlegend\":false,\"x\":[138,708,673,192,337,69,172,37,457,662,586,639,274,645,258,573],\"xaxis\":\"x6\",\"y\":[95.37484741210938,95.29823303222656,94.96611785888672,94.74810028076172,94.66231536865234,94.61027526855467,94.48860931396484,94.2022476196289,94.12808227539062,94.1273422241211,93.80172729492188,93.598388671875,93.49244689941406,92.88345336914062,92.745849609375,90.47179412841795],\"yaxis\":\"y6\",\"type\":\"scatter\"},{\"customdata\":[[3600,10],[3600,10],[3600,10],[3600,10],[3600,10],[3600,10],[3600,10],[3600,10],[3600,10],[3600,10],[3600,10],[3600,10],[3600,10],[3600,10],[3600,10],[3600,10]],\"hovertemplate\":\"seq_len=80<br>seq_est_len=%{customdata[1]}<br>max_time=%{customdata[0]}<br>index=%{x}<br>FIT=%{y}<extra></extra>\",\"legendgroup\":\"80\",\"marker\":{\"color\":\"#636efa\",\"symbol\":\"circle\"},\"mode\":\"markers\",\"name\":\"80\",\"orientation\":\"v\",\"showlegend\":false,\"x\":[303,695,186,404,269,132,494,743,398,7,110,556,450,754,651,568],\"xaxis\":\"x\",\"y\":[98.64789581298828,98.62411499023438,98.60332489013672,98.04437255859376,97.85002899169922,97.7786636352539,97.68995666503906,97.64134216308594,97.56394958496094,97.03829193115234,96.90818786621094,96.8483657836914,96.7747802734375,96.67086791992188,96.4291000366211,96.14079284667967],\"yaxis\":\"y\",\"type\":\"scatter\"},{\"customdata\":[[1800,10],[1800,10],[1800,10],[1800,10],[1800,10],[1800,10],[1800,10],[1800,10],[1800,10],[1800,10],[1800,10],[1800,10],[1800,10],[1800,10],[1800,10],[1800,10]],\"hovertemplate\":\"seq_len=80<br>seq_est_len=%{customdata[1]}<br>max_time=%{customdata[0]}<br>index=%{x}<br>FIT=%{y}<extra></extra>\",\"legendgroup\":\"80\",\"marker\":{\"color\":\"#636efa\",\"symbol\":\"circle\"},\"mode\":\"markers\",\"name\":\"80\",\"orientation\":\"v\",\"showlegend\":false,\"x\":[501,547,599,720,183,233,526,609,702,216,149,244,293,627,764,629],\"xaxis\":\"x2\",\"y\":[98.41710662841795,97.97535705566406,97.9612274169922,97.85317993164062,97.83264923095705,97.80233001708984,97.42198944091795,97.40482330322266,97.28329467773438,96.91603088378906,96.70545959472656,96.5612564086914,96.54861450195312,96.19481658935548,95.97903442382812,95.51053619384766],\"yaxis\":\"y2\",\"type\":\"scatter\"},{\"customdata\":[[300,10],[300,10],[300,10],[300,10],[300,10],[300,10],[300,10],[300,10],[300,10],[300,10],[300,10],[300,10],[300,10],[300,10],[300,10],[300,10]],\"hovertemplate\":\"seq_len=80<br>seq_est_len=%{customdata[1]}<br>max_time=%{customdata[0]}<br>index=%{x}<br>FIT=%{y}<extra></extra>\",\"legendgroup\":\"80\",\"marker\":{\"color\":\"#636efa\",\"symbol\":\"circle\"},\"mode\":\"markers\",\"name\":\"80\",\"orientation\":\"v\",\"showlegend\":false,\"x\":[82,373,53,369,14,509,564,100,47,200,512,560,650,35,533,537],\"xaxis\":\"x3\",\"y\":[95.3219223022461,95.21435546875,95.13727569580078,94.99301147460938,94.82867431640624,94.42684173583984,94.21429443359376,94.113037109375,93.94744110107422,93.75118255615234,93.71533966064452,93.26770782470705,93.03154754638672,92.94364166259766,92.8527374267578,90.62220764160156],\"yaxis\":\"y3\",\"type\":\"scatter\"},{\"customdata\":[[3600,40],[3600,40],[3600,40],[3600,40],[3600,40],[3600,40],[3600,40],[3600,40],[3600,40],[3600,40],[3600,40],[3600,40],[3600,40],[3600,40],[3600,40],[3600,40]],\"hovertemplate\":\"seq_len=40<br>seq_est_len=%{customdata[1]}<br>max_time=%{customdata[0]}<br>index=%{x}<br>FIT=%{y}<extra></extra>\",\"legendgroup\":\"40\",\"marker\":{\"color\":\"#EF553B\",\"symbol\":\"circle\"},\"mode\":\"markers\",\"name\":\"40\",\"orientation\":\"v\",\"showlegend\":true,\"x\":[685,719,431,449,281,143,16,116,226,693,425,728,117,243,523,669],\"xaxis\":\"x10\",\"y\":[98.82386016845705,98.63909149169922,98.61827087402344,98.58182525634766,98.5267333984375,98.49131774902344,98.37887573242188,98.25652313232422,98.14030456542967,97.93073272705078,97.90422821044922,97.82454681396484,97.7457046508789,97.70408630371094,97.66886138916016,97.44750213623048],\"yaxis\":\"y10\",\"type\":\"scatter\"},{\"customdata\":[[1800,40],[1800,40],[1800,40],[1800,40],[1800,40],[1800,40],[1800,40],[1800,40],[1800,40],[1800,40],[1800,40],[1800,40],[1800,40],[1800,40],[1800,40],[1800,40]],\"hovertemplate\":\"seq_len=40<br>seq_est_len=%{customdata[1]}<br>max_time=%{customdata[0]}<br>index=%{x}<br>FIT=%{y}<extra></extra>\",\"legendgroup\":\"40\",\"marker\":{\"color\":\"#EF553B\",\"symbol\":\"circle\"},\"mode\":\"markers\",\"name\":\"40\",\"orientation\":\"v\",\"showlegend\":false,\"x\":[434,611,65,715,626,562,382,8,59,210,572,17,342,290,691,223],\"xaxis\":\"x11\",\"y\":[98.63986206054688,98.45882415771484,98.4251937866211,98.3270263671875,98.31822204589844,98.26390075683594,98.1948471069336,98.02371978759766,97.96868896484376,97.86846923828124,97.86575317382812,97.66795349121094,97.66559600830078,97.51031494140624,97.47325134277344,97.46734619140624],\"yaxis\":\"y11\",\"type\":\"scatter\"},{\"customdata\":[[300,40],[300,40],[300,40],[300,40],[300,40],[300,40],[300,40],[300,40],[300,40],[300,40],[300,40],[300,40],[300,40],[300,40],[300,40],[300,40]],\"hovertemplate\":\"seq_len=40<br>seq_est_len=%{customdata[1]}<br>max_time=%{customdata[0]}<br>index=%{x}<br>FIT=%{y}<extra></extra>\",\"legendgroup\":\"40\",\"marker\":{\"color\":\"#EF553B\",\"symbol\":\"circle\"},\"mode\":\"markers\",\"name\":\"40\",\"orientation\":\"v\",\"showlegend\":false,\"x\":[381,726,445,644,19,549,476,665,320,41,461,698,387,282,246,405],\"xaxis\":\"x12\",\"y\":[95.79466247558594,95.66812133789062,95.46888732910156,95.19163513183594,95.12326049804688,95.08499908447266,95.04926300048828,94.81993865966795,94.76172637939452,93.90077209472656,93.85923767089844,93.85559844970705,93.44184112548828,93.19097900390624,91.68659210205078,89.48262786865234],\"yaxis\":\"y12\",\"type\":\"scatter\"},{\"customdata\":[[3600,80],[3600,80],[3600,80],[3600,80],[3600,80],[3600,80],[3600,80],[3600,80],[3600,80],[3600,80],[3600,80],[3600,80],[3600,80],[3600,80],[3600,80],[3600,80]],\"hovertemplate\":\"seq_len=40<br>seq_est_len=%{customdata[1]}<br>max_time=%{customdata[0]}<br>index=%{x}<br>FIT=%{y}<extra></extra>\",\"legendgroup\":\"40\",\"marker\":{\"color\":\"#EF553B\",\"symbol\":\"circle\"},\"mode\":\"markers\",\"name\":\"40\",\"orientation\":\"v\",\"showlegend\":false,\"x\":[162,40,254,391,483,272,256,92,144,125,482,734,527,198,230,622],\"xaxis\":\"x7\",\"y\":[98.87425231933594,98.58293151855467,98.58287811279295,98.44469451904295,98.4175262451172,98.39013671875,98.37262725830078,98.34376525878906,98.25650024414062,98.22157287597656,98.14969635009766,97.94976806640624,97.765625,97.66462707519533,97.5102996826172,97.34081268310548],\"yaxis\":\"y7\",\"type\":\"scatter\"},{\"customdata\":[[1800,80],[1800,80],[1800,80],[1800,80],[1800,80],[1800,80],[1800,80],[1800,80],[1800,80],[1800,80],[1800,80],[1800,80],[1800,80],[1800,80],[1800,80],[1800,80]],\"hovertemplate\":\"seq_len=40<br>seq_est_len=%{customdata[1]}<br>max_time=%{customdata[0]}<br>index=%{x}<br>FIT=%{y}<extra></extra>\",\"legendgroup\":\"40\",\"marker\":{\"color\":\"#EF553B\",\"symbol\":\"circle\"},\"mode\":\"markers\",\"name\":\"40\",\"orientation\":\"v\",\"showlegend\":false,\"x\":[385,761,416,23,109,624,749,229,22,659,360,379,67,636,503,433],\"xaxis\":\"x8\",\"y\":[98.5278549194336,98.2673568725586,98.21216583251952,98.14762878417967,98.1188507080078,98.01888275146484,97.92945098876952,97.86505889892578,97.8079071044922,97.74468994140624,97.66217803955078,97.62005615234376,97.34640502929688,97.24649047851562,97.06575775146484,96.88603973388672],\"yaxis\":\"y8\",\"type\":\"scatter\"},{\"customdata\":[[300,80],[300,80],[300,80],[300,80],[300,80],[300,80],[300,80],[300,80],[300,80],[300,80],[300,80],[300,80],[300,80],[300,80],[300,80],[300,80]],\"hovertemplate\":\"seq_len=40<br>seq_est_len=%{customdata[1]}<br>max_time=%{customdata[0]}<br>index=%{x}<br>FIT=%{y}<extra></extra>\",\"legendgroup\":\"40\",\"marker\":{\"color\":\"#EF553B\",\"symbol\":\"circle\"},\"mode\":\"markers\",\"name\":\"40\",\"orientation\":\"v\",\"showlegend\":false,\"x\":[102,671,365,327,756,101,148,489,61,707,62,340,553,607,532,252],\"xaxis\":\"x9\",\"y\":[95.1550521850586,95.02134704589844,94.91292572021484,94.87559509277344,94.86450958251952,94.36956787109376,94.07347869873048,93.9687271118164,93.8968734741211,93.79898071289062,93.6533660888672,93.65158081054688,93.17042541503906,92.58934020996094,92.3514404296875,89.17428588867188],\"yaxis\":\"y9\",\"type\":\"scatter\"},{\"customdata\":[[3600,20],[3600,20],[3600,20],[3600,20],[3600,20],[3600,20],[3600,20],[3600,20],[3600,20],[3600,20],[3600,20],[3600,20],[3600,20],[3600,20],[3600,20],[3600,20]],\"hovertemplate\":\"seq_len=40<br>seq_est_len=%{customdata[1]}<br>max_time=%{customdata[0]}<br>index=%{x}<br>FIT=%{y}<extra></extra>\",\"legendgroup\":\"40\",\"marker\":{\"color\":\"#EF553B\",\"symbol\":\"circle\"},\"mode\":\"markers\",\"name\":\"40\",\"orientation\":\"v\",\"showlegend\":false,\"x\":[32,376,352,106,194,471,516,692,169,721,185,283,641,388,731,259],\"xaxis\":\"x4\",\"y\":[98.68560028076172,98.67992401123048,98.546142578125,98.45821380615234,98.29071807861328,98.2782745361328,98.18852996826172,98.16427612304688,98.14329528808594,98.12623596191406,97.9880142211914,97.95333862304688,97.91978454589844,97.87165832519533,97.56293487548828,97.4988250732422],\"yaxis\":\"y4\",\"type\":\"scatter\"},{\"customdata\":[[1800,20],[1800,20],[1800,20],[1800,20],[1800,20],[1800,20],[1800,20],[1800,20],[1800,20],[1800,20],[1800,20],[1800,20],[1800,20],[1800,20],[1800,20],[1800,20]],\"hovertemplate\":\"seq_len=40<br>seq_est_len=%{customdata[1]}<br>max_time=%{customdata[0]}<br>index=%{x}<br>FIT=%{y}<extra></extra>\",\"legendgroup\":\"40\",\"marker\":{\"color\":\"#EF553B\",\"symbol\":\"circle\"},\"mode\":\"markers\",\"name\":\"40\",\"orientation\":\"v\",\"showlegend\":false,\"x\":[150,89,270,565,128,558,618,235,377,504,429,505,345,346,700,408],\"xaxis\":\"x5\",\"y\":[98.2881851196289,98.22743225097656,98.0330581665039,97.99071502685548,97.88113403320312,97.86521911621094,97.84114074707033,97.79653930664062,97.43757629394533,97.2800750732422,97.20193481445312,96.9724349975586,96.68256378173828,96.62100982666016,95.97596740722656,95.47894287109376],\"yaxis\":\"y5\",\"type\":\"scatter\"},{\"customdata\":[[300,20],[300,20],[300,20],[300,20],[300,20],[300,20],[300,20],[300,20],[300,20],[300,20],[300,20],[300,20],[300,20],[300,20],[300,20],[300,20]],\"hovertemplate\":\"seq_len=40<br>seq_est_len=%{customdata[1]}<br>max_time=%{customdata[0]}<br>index=%{x}<br>FIT=%{y}<extra></extra>\",\"legendgroup\":\"40\",\"marker\":{\"color\":\"#EF553B\",\"symbol\":\"circle\"},\"mode\":\"markers\",\"name\":\"40\",\"orientation\":\"v\",\"showlegend\":false,\"x\":[600,136,448,227,368,170,228,508,621,502,724,46,474,251,260,498],\"xaxis\":\"x6\",\"y\":[95.76673889160156,95.64260864257812,95.5718765258789,95.34207916259766,95.28083038330078,95.25819396972656,94.85987854003906,94.74392700195312,94.2378158569336,93.79751586914062,93.77404022216795,93.2414321899414,92.37110137939452,91.3833465576172,89.77571868896484,89.76390075683594],\"yaxis\":\"y6\",\"type\":\"scatter\"},{\"customdata\":[[3600,10],[3600,10],[3600,10],[3600,10],[3600,10],[3600,10],[3600,10],[3600,10],[3600,10],[3600,10],[3600,10],[3600,10],[3600,10],[3600,10],[3600,10],[3600,10]],\"hovertemplate\":\"seq_len=40<br>seq_est_len=%{customdata[1]}<br>max_time=%{customdata[0]}<br>index=%{x}<br>FIT=%{y}<extra></extra>\",\"legendgroup\":\"40\",\"marker\":{\"color\":\"#EF553B\",\"symbol\":\"circle\"},\"mode\":\"markers\",\"name\":\"40\",\"orientation\":\"v\",\"showlegend\":false,\"x\":[180,717,677,418,497,458,222,608,590,30,630,48,266,390,218,95],\"xaxis\":\"x\",\"y\":[98.60214233398438,98.50687408447266,98.40768432617188,98.40267944335938,98.02117156982422,97.40412139892578,97.24437713623048,97.1458740234375,95.57388305664062,95.54147338867188,95.43287658691406,95.42581176757812,95.38597869873048,94.84698486328124,94.622802734375,93.94562530517578],\"yaxis\":\"y\",\"type\":\"scatter\"},{\"customdata\":[[1800,10],[1800,10],[1800,10],[1800,10],[1800,10],[1800,10],[1800,10],[1800,10],[1800,10],[1800,10],[1800,10],[1800,10],[1800,10],[1800,10],[1800,10],[1800,10]],\"hovertemplate\":\"seq_len=40<br>seq_est_len=%{customdata[1]}<br>max_time=%{customdata[0]}<br>index=%{x}<br>FIT=%{y}<extra></extra>\",\"legendgroup\":\"40\",\"marker\":{\"color\":\"#EF553B\",\"symbol\":\"circle\"},\"mode\":\"markers\",\"name\":\"40\",\"orientation\":\"v\",\"showlegend\":false,\"x\":[738,614,145,255,655,151,536,506,714,384,291,238,3,705,576,394],\"xaxis\":\"x2\",\"y\":[98.19676208496094,97.80055236816406,97.72282409667967,97.4839096069336,96.90508270263672,96.7870101928711,96.25163269042967,96.14755249023438,95.65882110595705,95.58244323730467,95.5063705444336,95.26559448242188,95.1072235107422,94.86707305908205,94.35464477539062,93.5675048828125],\"yaxis\":\"y2\",\"type\":\"scatter\"},{\"customdata\":[[300,10],[300,10],[300,10],[300,10],[300,10],[300,10],[300,10],[300,10],[300,10],[300,10],[300,10],[300,10],[300,10],[300,10],[300,10],[300,10]],\"hovertemplate\":\"seq_len=40<br>seq_est_len=%{customdata[1]}<br>max_time=%{customdata[0]}<br>index=%{x}<br>FIT=%{y}<extra></extra>\",\"legendgroup\":\"40\",\"marker\":{\"color\":\"#EF553B\",\"symbol\":\"circle\"},\"mode\":\"markers\",\"name\":\"40\",\"orientation\":\"v\",\"showlegend\":false,\"x\":[4,578,378,135,372,49,490,328,50,436,263,66,188,1,676,762],\"xaxis\":\"x3\",\"y\":[95.12457275390624,94.77747344970705,94.27833557128906,93.65467834472656,93.6238250732422,93.5830307006836,93.4916763305664,93.43521118164062,93.31565856933594,92.26016998291016,92.19334411621094,92.03861236572266,90.89813995361328,90.8598861694336,90.09529113769533,89.92220306396484],\"yaxis\":\"y3\",\"type\":\"scatter\"},{\"customdata\":[[3600,40],[3600,40],[3600,40],[3600,40],[3600,40],[3600,40],[3600,40],[3600,40],[3600,40],[3600,40],[3600,40],[3600,40],[3600,40],[3600,40],[3600,40],[3600,40]],\"hovertemplate\":\"seq_len=160<br>seq_est_len=%{customdata[1]}<br>max_time=%{customdata[0]}<br>index=%{x}<br>FIT=%{y}<extra></extra>\",\"legendgroup\":\"160\",\"marker\":{\"color\":\"#00cc96\",\"symbol\":\"circle\"},\"mode\":\"markers\",\"name\":\"160\",\"orientation\":\"v\",\"showlegend\":true,\"x\":[156,167,380,737,121,492,52,460,98,456,350,142,563,297,757,531],\"xaxis\":\"x10\",\"y\":[98.3833999633789,98.34711456298828,98.28977966308594,98.26173400878906,98.08472442626952,98.00086975097656,97.9970245361328,97.97543334960938,97.83499145507812,97.79371643066406,97.77653503417967,97.60052490234376,97.56160736083984,97.55735778808594,97.49556732177734,97.36988830566406],\"yaxis\":\"y10\",\"type\":\"scatter\"},{\"customdata\":[[1800,40],[1800,40],[1800,40],[1800,40],[1800,40],[1800,40],[1800,40],[1800,40],[1800,40],[1800,40],[1800,40],[1800,40],[1800,40],[1800,40],[1800,40],[1800,40]],\"hovertemplate\":\"seq_len=160<br>seq_est_len=%{customdata[1]}<br>max_time=%{customdata[0]}<br>index=%{x}<br>FIT=%{y}<extra></extra>\",\"legendgroup\":\"160\",\"marker\":{\"color\":\"#00cc96\",\"symbol\":\"circle\"},\"mode\":\"markers\",\"name\":\"160\",\"orientation\":\"v\",\"showlegend\":false,\"x\":[307,335,419,589,187,538,336,237,358,371,522,701,334,80,648,679],\"xaxis\":\"x11\",\"y\":[98.01213836669922,97.95734405517578,97.85639190673828,97.69996643066406,97.69377899169922,97.62920379638672,97.52975463867188,97.4087142944336,97.36776733398438,97.24273681640624,97.20182037353516,97.18695068359376,96.79056549072266,96.41182708740234,96.1231460571289,96.10047912597656],\"yaxis\":\"y11\",\"type\":\"scatter\"},{\"customdata\":[[300,40],[300,40],[300,40],[300,40],[300,40],[300,40],[300,40],[300,40],[300,40],[300,40],[300,40],[300,40],[300,40],[300,40],[300,40],[300,40]],\"hovertemplate\":\"seq_len=160<br>seq_est_len=%{customdata[1]}<br>max_time=%{customdata[0]}<br>index=%{x}<br>FIT=%{y}<extra></extra>\",\"legendgroup\":\"160\",\"marker\":{\"color\":\"#00cc96\",\"symbol\":\"circle\"},\"mode\":\"markers\",\"name\":\"160\",\"orientation\":\"v\",\"showlegend\":false,\"x\":[133,124,417,214,25,587,178,751,261,649,704,571,711,31,74,157],\"xaxis\":\"x12\",\"y\":[94.21794891357422,94.0883560180664,93.93263244628906,93.69378662109376,93.5510025024414,93.20213317871094,93.09957122802734,92.8755340576172,92.46829986572266,91.61622619628906,91.53411102294922,91.43844604492188,91.32427978515624,91.17733764648438,89.99406433105469,88.39804077148438],\"yaxis\":\"y12\",\"type\":\"scatter\"},{\"customdata\":[[3600,80],[3600,80],[3600,80],[3600,80],[3600,80],[3600,80],[3600,80],[3600,80],[3600,80],[3600,80],[3600,80],[3600,80],[3600,80],[3600,80],[3600,80],[3600,80]],\"hovertemplate\":\"seq_len=160<br>seq_est_len=%{customdata[1]}<br>max_time=%{customdata[0]}<br>index=%{x}<br>FIT=%{y}<extra></extra>\",\"legendgroup\":\"160\",\"marker\":{\"color\":\"#00cc96\",\"symbol\":\"circle\"},\"mode\":\"markers\",\"name\":\"160\",\"orientation\":\"v\",\"showlegend\":false,\"x\":[103,347,87,165,439,660,374,339,177,750,97,454,583,154,620,353],\"xaxis\":\"x7\",\"y\":[98.78162384033205,98.6871337890625,98.66050720214844,98.63384246826172,98.36813354492188,98.36051177978516,98.35926055908205,98.30803680419922,98.13915252685548,98.130615234375,98.1028823852539,98.07969665527344,97.5673828125,97.51889038085938,97.37710571289062,96.96610260009766],\"yaxis\":\"y7\",\"type\":\"scatter\"},{\"customdata\":[[1800,80],[1800,80],[1800,80],[1800,80],[1800,80],[1800,80],[1800,80],[1800,80],[1800,80],[1800,80],[1800,80],[1800,80],[1800,80],[1800,80],[1800,80],[1800,80]],\"hovertemplate\":\"seq_len=160<br>seq_est_len=%{customdata[1]}<br>max_time=%{customdata[0]}<br>index=%{x}<br>FIT=%{y}<extra></extra>\",\"legendgroup\":\"160\",\"marker\":{\"color\":\"#00cc96\",\"symbol\":\"circle\"},\"mode\":\"markers\",\"name\":\"160\",\"orientation\":\"v\",\"showlegend\":false,\"x\":[305,159,284,473,540,42,131,740,733,442,635,674,15,550,546,248],\"xaxis\":\"x8\",\"y\":[97.95173645019533,97.80536651611328,97.77198791503906,97.65603637695312,97.6066436767578,97.59178924560548,97.28499603271484,97.1967315673828,97.18582916259766,97.02027130126952,96.524658203125,96.09454345703124,96.08267974853516,95.9609146118164,95.42053985595705,94.3907470703125],\"yaxis\":\"y8\",\"type\":\"scatter\"},{\"customdata\":[[300,80],[300,80],[300,80],[300,80],[300,80],[300,80],[300,80],[300,80],[300,80],[300,80],[300,80],[300,80],[300,80],[300,80],[300,80],[300,80]],\"hovertemplate\":\"seq_len=160<br>seq_est_len=%{customdata[1]}<br>max_time=%{customdata[0]}<br>index=%{x}<br>FIT=%{y}<extra></extra>\",\"legendgroup\":\"160\",\"marker\":{\"color\":\"#00cc96\",\"symbol\":\"circle\"},\"mode\":\"markers\",\"name\":\"160\",\"orientation\":\"v\",\"showlegend\":false,\"x\":[45,232,529,485,236,656,195,739,54,697,119,306,234,264,209,280],\"xaxis\":\"x9\",\"y\":[94.88008880615234,94.05025482177734,93.94232177734376,93.41120910644533,93.2228775024414,92.87776947021484,92.71731567382812,92.44075775146484,92.31566619873048,92.09903717041016,91.94464874267578,91.80353546142578,91.15436553955078,90.87106323242188,90.75155639648438,90.56461334228516],\"yaxis\":\"y9\",\"type\":\"scatter\"},{\"customdata\":[[3600,20],[3600,20],[3600,20],[3600,20],[3600,20],[3600,20],[3600,20],[3600,20],[3600,20],[3600,20],[3600,20],[3600,20],[3600,20],[3600,20],[3600,20],[3600,20]],\"hovertemplate\":\"seq_len=160<br>seq_est_len=%{customdata[1]}<br>max_time=%{customdata[0]}<br>index=%{x}<br>FIT=%{y}<extra></extra>\",\"legendgroup\":\"160\",\"marker\":{\"color\":\"#00cc96\",\"symbol\":\"circle\"},\"mode\":\"markers\",\"name\":\"160\",\"orientation\":\"v\",\"showlegend\":false,\"x\":[682,520,63,487,173,113,182,646,767,262,574,325,331,304,219,240],\"xaxis\":\"x4\",\"y\":[98.69054412841795,98.63773345947266,98.5022201538086,98.45232391357422,98.40982818603516,98.22887420654295,98.22455596923828,98.16454315185548,98.08953094482422,97.94528198242188,97.9413604736328,97.9292984008789,97.88671875,97.81934356689452,97.61365509033205,97.10186767578124],\"yaxis\":\"y4\",\"type\":\"scatter\"},{\"customdata\":[[1800,20],[1800,20],[1800,20],[1800,20],[1800,20],[1800,20],[1800,20],[1800,20],[1800,20],[1800,20],[1800,20],[1800,20],[1800,20],[1800,20],[1800,20],[1800,20]],\"hovertemplate\":\"seq_len=160<br>seq_est_len=%{customdata[1]}<br>max_time=%{customdata[0]}<br>index=%{x}<br>FIT=%{y}<extra></extra>\",\"legendgroup\":\"160\",\"marker\":{\"color\":\"#00cc96\",\"symbol\":\"circle\"},\"mode\":\"markers\",\"name\":\"160\",\"orientation\":\"v\",\"showlegend\":false,\"x\":[202,755,341,316,298,311,513,250,634,452,667,745,528,179,111,428],\"xaxis\":\"x5\",\"y\":[98.24161529541016,98.12370300292967,97.98796844482422,97.82916259765624,97.7449188232422,97.73210906982422,97.69396209716795,97.50836944580078,97.41734313964844,97.3974609375,97.36211395263672,97.30760955810548,97.11687469482422,96.76185607910156,96.3388900756836,96.158935546875],\"yaxis\":\"y5\",\"type\":\"scatter\"},{\"customdata\":[[300,20],[300,20],[300,20],[300,20],[300,20],[300,20],[300,20],[300,20],[300,20],[300,20],[300,20],[300,20],[300,20],[300,20],[300,20],[300,20]],\"hovertemplate\":\"seq_len=160<br>seq_est_len=%{customdata[1]}<br>max_time=%{customdata[0]}<br>index=%{x}<br>FIT=%{y}<extra></extra>\",\"legendgroup\":\"160\",\"marker\":{\"color\":\"#00cc96\",\"symbol\":\"circle\"},\"mode\":\"markers\",\"name\":\"160\",\"orientation\":\"v\",\"showlegend\":false,\"x\":[333,402,286,363,437,279,257,628,718,575,253,5,137,625,330,495],\"xaxis\":\"x6\",\"y\":[94.77969360351562,94.20499420166016,93.90090942382812,93.76808166503906,93.75470733642578,93.7081069946289,93.63755798339844,93.48402404785156,93.3869857788086,93.20679473876952,93.12879180908205,92.93875122070312,92.84325408935548,92.69175720214844,92.42205810546876,92.12896728515624],\"yaxis\":\"y6\",\"type\":\"scatter\"},{\"customdata\":[[3600,10],[3600,10],[3600,10],[3600,10],[3600,10],[3600,10],[3600,10],[3600,10],[3600,10],[3600,10],[3600,10],[3600,10],[3600,10],[3600,10],[3600,10],[3600,10]],\"hovertemplate\":\"seq_len=160<br>seq_est_len=%{customdata[1]}<br>max_time=%{customdata[0]}<br>index=%{x}<br>FIT=%{y}<extra></extra>\",\"legendgroup\":\"160\",\"marker\":{\"color\":\"#00cc96\",\"symbol\":\"circle\"},\"mode\":\"markers\",\"name\":\"160\",\"orientation\":\"v\",\"showlegend\":false,\"x\":[278,401,362,364,430,545,276,606,699,653,104,595,763,672,484,107],\"xaxis\":\"x\",\"y\":[98.61495208740234,98.5709228515625,98.54275512695312,98.2822723388672,98.25435638427734,98.12332916259766,98.0537567138672,97.71148681640624,97.71078491210938,97.67179870605467,97.6438980102539,97.59394073486328,97.5702667236328,97.52223205566406,97.40978240966795,96.39469146728516],\"yaxis\":\"y\",\"type\":\"scatter\"},{\"customdata\":[[1800,10],[1800,10],[1800,10],[1800,10],[1800,10],[1800,10],[1800,10],[1800,10],[1800,10],[1800,10],[1800,10],[1800,10],[1800,10],[1800,10],[1800,10],[1800,10]],\"hovertemplate\":\"seq_len=160<br>seq_est_len=%{customdata[1]}<br>max_time=%{customdata[0]}<br>index=%{x}<br>FIT=%{y}<extra></extra>\",\"legendgroup\":\"160\",\"marker\":{\"color\":\"#00cc96\",\"symbol\":\"circle\"},\"mode\":\"markers\",\"name\":\"160\",\"orientation\":\"v\",\"showlegend\":false,\"x\":[543,555,9,11,193,88,90,507,175,321,623,64,79,603,612,406],\"xaxis\":\"x2\",\"y\":[98.1038055419922,97.91771697998048,97.60133361816406,97.5762710571289,97.549560546875,97.46454620361328,97.46234130859376,97.45947265625,97.40637969970705,97.18293762207033,97.1392059326172,97.0054168701172,96.68988037109376,96.3260498046875,96.09391021728516,96.0416259765625],\"yaxis\":\"y2\",\"type\":\"scatter\"},{\"customdata\":[[300,10],[300,10],[300,10],[300,10],[300,10],[300,10],[300,10],[300,10],[300,10],[300,10],[300,10],[300,10],[300,10],[300,10],[300,10],[300,10]],\"hovertemplate\":\"seq_len=160<br>seq_est_len=%{customdata[1]}<br>max_time=%{customdata[0]}<br>index=%{x}<br>FIT=%{y}<extra></extra>\",\"legendgroup\":\"160\",\"marker\":{\"color\":\"#00cc96\",\"symbol\":\"circle\"},\"mode\":\"markers\",\"name\":\"160\",\"orientation\":\"v\",\"showlegend\":false,\"x\":[56,70,323,472,687,742,688,203,273,139,709,683,632,383,422,551],\"xaxis\":\"x3\",\"y\":[94.63908386230467,94.32889556884766,94.2536392211914,94.0627212524414,93.82829284667967,93.7508544921875,93.74798583984376,93.62020874023438,93.58268737792967,93.57483673095705,93.2740478515625,93.1287841796875,93.0917739868164,92.80536651611328,92.37782287597656,92.2913055419922],\"yaxis\":\"y3\",\"type\":\"scatter\"},{\"customdata\":[[3600,40],[3600,40],[3600,40],[3600,40],[3600,40],[3600,40],[3600,40],[3600,40],[3600,40],[3600,40],[3600,40],[3600,40],[3600,40],[3600,40],[3600,40],[3600,40]],\"hovertemplate\":\"seq_len=320<br>seq_est_len=%{customdata[1]}<br>max_time=%{customdata[0]}<br>index=%{x}<br>FIT=%{y}<extra></extra>\",\"legendgroup\":\"320\",\"marker\":{\"color\":\"#ab63fa\",\"symbol\":\"circle\"},\"mode\":\"markers\",\"name\":\"320\",\"orientation\":\"v\",\"showlegend\":true,\"x\":[285,748,265,313,423,302,444,310,670,0,760,190,241,21,477,329],\"xaxis\":\"x10\",\"y\":[98.40457916259766,98.2790985107422,98.23528289794922,98.14270782470705,98.12931823730467,97.93561553955078,97.90634155273438,97.88506317138672,97.82994842529295,97.81430053710938,97.7030792236328,97.62188720703124,97.56499481201172,97.0929946899414,96.20173645019533,95.3717269897461],\"yaxis\":\"y10\",\"type\":\"scatter\"},{\"customdata\":[[1800,40],[1800,40],[1800,40],[1800,40],[1800,40],[1800,40],[1800,40],[1800,40],[1800,40],[1800,40],[1800,40],[1800,40],[1800,40],[1800,40],[1800,40],[1800,40]],\"hovertemplate\":\"seq_len=320<br>seq_est_len=%{customdata[1]}<br>max_time=%{customdata[0]}<br>index=%{x}<br>FIT=%{y}<extra></extra>\",\"legendgroup\":\"320\",\"marker\":{\"color\":\"#ab63fa\",\"symbol\":\"circle\"},\"mode\":\"markers\",\"name\":\"320\",\"orientation\":\"v\",\"showlegend\":false,\"x\":[403,13,730,84,432,134,225,647,60,268,289,93,211,548,75,129],\"xaxis\":\"x11\",\"y\":[97.353515625,97.35227966308594,97.04779815673828,96.95792388916016,96.89020538330078,96.77214813232422,96.44459533691406,96.24958038330078,96.2340087890625,96.1752700805664,96.15438842773438,96.14617156982422,96.05572509765624,96.02835083007812,95.79651641845705,95.44501495361328],\"yaxis\":\"y11\",\"type\":\"scatter\"},{\"customdata\":[[300,40],[300,40],[300,40],[300,40],[300,40],[300,40],[300,40],[300,40],[300,40],[300,40],[300,40],[300,40],[300,40],[300,40],[300,40],[300,40]],\"hovertemplate\":\"seq_len=320<br>seq_est_len=%{customdata[1]}<br>max_time=%{customdata[0]}<br>index=%{x}<br>FIT=%{y}<extra></extra>\",\"legendgroup\":\"320\",\"marker\":{\"color\":\"#ab63fa\",\"symbol\":\"circle\"},\"mode\":\"markers\",\"name\":\"320\",\"orientation\":\"v\",\"showlegend\":false,\"x\":[348,585,766,207,28,300,468,44,421,426,544,525,181,160,57,633],\"xaxis\":\"x12\",\"y\":[92.5256576538086,92.23168182373048,91.20516204833984,91.01607513427734,90.88525390625,90.14176940917967,90.10370635986328,90.07355499267578,89.75057220458984,89.65409851074219,89.54446411132812,89.50189208984375,88.53813934326172,88.43306732177734,87.48477935791016,86.05899810791016],\"yaxis\":\"y12\",\"type\":\"scatter\"},{\"customdata\":[[3600,80],[3600,80],[3600,80],[3600,80],[3600,80],[3600,80],[3600,80],[3600,80],[3600,80],[3600,80],[3600,80],[3600,80],[3600,80],[3600,80],[3600,80],[3600,80]],\"hovertemplate\":\"seq_len=320<br>seq_est_len=%{customdata[1]}<br>max_time=%{customdata[0]}<br>index=%{x}<br>FIT=%{y}<extra></extra>\",\"legendgroup\":\"320\",\"marker\":{\"color\":\"#ab63fa\",\"symbol\":\"circle\"},\"mode\":\"markers\",\"name\":\"320\",\"orientation\":\"v\",\"showlegend\":false,\"x\":[735,451,696,581,361,392,661,539,478,716,596,727,27,519,481,174],\"xaxis\":\"x7\",\"y\":[98.33358001708984,98.16030883789062,98.13443756103516,98.0986099243164,98.0744857788086,98.00624084472656,97.8709945678711,97.80642700195312,97.79432678222656,97.63327026367188,97.42498016357422,97.34603881835938,97.24549102783205,96.943115234375,96.12831115722656,95.96997833251952],\"yaxis\":\"y7\",\"type\":\"scatter\"},{\"customdata\":[[1800,80],[1800,80],[1800,80],[1800,80],[1800,80],[1800,80],[1800,80],[1800,80],[1800,80],[1800,80],[1800,80],[1800,80],[1800,80],[1800,80],[1800,80],[1800,80]],\"hovertemplate\":\"seq_len=320<br>seq_est_len=%{customdata[1]}<br>max_time=%{customdata[0]}<br>index=%{x}<br>FIT=%{y}<extra></extra>\",\"legendgroup\":\"320\",\"marker\":{\"color\":\"#ab63fa\",\"symbol\":\"circle\"},\"mode\":\"markers\",\"name\":\"320\",\"orientation\":\"v\",\"showlegend\":false,\"x\":[108,356,566,127,597,666,746,455,640,76,301,684,359,309,319,521],\"xaxis\":\"x8\",\"y\":[97.58480072021484,97.50323486328124,97.47138214111328,96.84071350097656,96.47856903076172,96.19744110107422,96.02733612060548,96.00082397460938,95.98719024658205,95.97219848632812,95.94959259033205,95.94561767578124,95.890869140625,95.84627532958984,95.7861557006836,95.65835571289062],\"yaxis\":\"y8\",\"type\":\"scatter\"},{\"customdata\":[[300,80],[300,80],[300,80],[300,80],[300,80],[300,80],[300,80],[300,80],[300,80],[300,80],[300,80],[300,80],[300,80],[300,80],[300,80],[300,80]],\"hovertemplate\":\"seq_len=320<br>seq_est_len=%{customdata[1]}<br>max_time=%{customdata[0]}<br>index=%{x}<br>FIT=%{y}<extra></extra>\",\"legendgroup\":\"320\",\"marker\":{\"color\":\"#ab63fa\",\"symbol\":\"circle\"},\"mode\":\"markers\",\"name\":\"320\",\"orientation\":\"v\",\"showlegend\":false,\"x\":[72,86,758,399,765,594,312,615,616,410,414,370,146,389,314,559],\"xaxis\":\"x9\",\"y\":[92.484375,91.61455535888672,91.114013671875,90.9237060546875,90.78716278076172,90.45520782470705,89.704833984375,89.48816680908203,89.25431823730469,89.15131378173828,88.60763549804688,88.51036071777344,87.77323150634766,87.48247528076172,86.9078598022461,86.21510314941406],\"yaxis\":\"y9\",\"type\":\"scatter\"},{\"customdata\":[[3600,20],[3600,20],[3600,20],[3600,20],[3600,20],[3600,20],[3600,20],[3600,20],[3600,20],[3600,20],[3600,20],[3600,20],[3600,20],[3600,20],[3600,20],[3600,20]],\"hovertemplate\":\"seq_len=320<br>seq_est_len=%{customdata[1]}<br>max_time=%{customdata[0]}<br>index=%{x}<br>FIT=%{y}<extra></extra>\",\"legendgroup\":\"320\",\"marker\":{\"color\":\"#ab63fa\",\"symbol\":\"circle\"},\"mode\":\"markers\",\"name\":\"320\",\"orientation\":\"v\",\"showlegend\":false,\"x\":[570,354,475,213,710,105,557,567,20,191,396,166,511,420,541,582],\"xaxis\":\"x4\",\"y\":[98.58820343017578,98.33084869384766,98.22864532470705,98.1405258178711,98.01490020751952,98.00838470458984,97.97520446777344,97.93618774414062,97.92877960205078,97.92830657958984,97.79634857177734,97.7777099609375,97.7359390258789,97.67367553710938,97.58057403564452,96.2137680053711],\"yaxis\":\"y4\",\"type\":\"scatter\"},{\"customdata\":[[1800,20],[1800,20],[1800,20],[1800,20],[1800,20],[1800,20],[1800,20],[1800,20],[1800,20],[1800,20],[1800,20],[1800,20],[1800,20],[1800,20],[1800,20],[1800,20]],\"hovertemplate\":\"seq_len=320<br>seq_est_len=%{customdata[1]}<br>max_time=%{customdata[0]}<br>index=%{x}<br>FIT=%{y}<extra></extra>\",\"legendgroup\":\"320\",\"marker\":{\"color\":\"#ab63fa\",\"symbol\":\"circle\"},\"mode\":\"markers\",\"name\":\"320\",\"orientation\":\"v\",\"showlegend\":false,\"x\":[245,561,690,351,427,515,344,446,224,168,617,637,491,524,367,463],\"xaxis\":\"x5\",\"y\":[97.70404815673828,97.61710357666016,97.40254974365234,97.18822479248048,97.1479263305664,97.08280181884766,96.71582794189452,96.48627471923828,96.36953735351562,96.2752456665039,96.15209197998048,96.12329864501952,96.10614013671876,96.02678680419922,95.9238739013672,95.57213592529295],\"yaxis\":\"y5\",\"type\":\"scatter\"},{\"customdata\":[[300,20],[300,20],[300,20],[300,20],[300,20],[300,20],[300,20],[300,20],[300,20],[300,20],[300,20],[300,20],[300,20],[300,20],[300,20],[300,20]],\"hovertemplate\":\"seq_len=320<br>seq_est_len=%{customdata[1]}<br>max_time=%{customdata[0]}<br>index=%{x}<br>FIT=%{y}<extra></extra>\",\"legendgroup\":\"320\",\"marker\":{\"color\":\"#ab63fa\",\"symbol\":\"circle\"},\"mode\":\"markers\",\"name\":\"320\",\"orientation\":\"v\",\"showlegend\":false,\"x\":[499,729,299,657,680,464,164,706,675,85,510,462,338,114,83,43],\"xaxis\":\"x6\",\"y\":[92.58171081542967,92.19158172607422,92.09574127197266,91.96510314941406,91.83743286132812,91.68244934082033,91.57730865478516,91.50054168701172,90.98065185546876,90.5993194580078,90.46302032470705,89.96578979492188,89.85446166992188,89.28173828125,87.0530014038086,87.00425720214844],\"yaxis\":\"y6\",\"type\":\"scatter\"},{\"customdata\":[[3600,10],[3600,10],[3600,10],[3600,10],[3600,10],[3600,10],[3600,10],[3600,10],[3600,10],[3600,10],[3600,10],[3600,10],[3600,10],[3600,10],[3600,10],[3600,10]],\"hovertemplate\":\"seq_len=320<br>seq_est_len=%{customdata[1]}<br>max_time=%{customdata[0]}<br>index=%{x}<br>FIT=%{y}<extra></extra>\",\"legendgroup\":\"320\",\"marker\":{\"color\":\"#ab63fa\",\"symbol\":\"circle\"},\"mode\":\"markers\",\"name\":\"320\",\"orientation\":\"v\",\"showlegend\":false,\"x\":[579,712,496,500,654,638,73,189,413,6,440,78,424,514,318,171],\"xaxis\":\"x\",\"y\":[98.33268737792967,98.32843780517578,98.17715454101562,98.13209533691406,98.09984588623048,98.04680633544922,97.98162078857422,97.88536071777344,97.83209228515624,97.7827377319336,97.72200012207033,97.42546844482422,97.3885269165039,97.13885498046876,96.92233276367188,96.64215087890624],\"yaxis\":\"y\",\"type\":\"scatter\"},{\"customdata\":[[1800,10],[1800,10],[1800,10],[1800,10],[1800,10],[1800,10],[1800,10],[1800,10],[1800,10],[1800,10],[1800,10],[1800,10],[1800,10],[1800,10],[1800,10],[1800,10]],\"hovertemplate\":\"seq_len=320<br>seq_est_len=%{customdata[1]}<br>max_time=%{customdata[0]}<br>index=%{x}<br>FIT=%{y}<extra></extra>\",\"legendgroup\":\"320\",\"marker\":{\"color\":\"#ab63fa\",\"symbol\":\"circle\"},\"mode\":\"markers\",\"name\":\"320\",\"orientation\":\"v\",\"showlegend\":false,\"x\":[411,447,130,140,723,81,400,126,517,664,598,271,294,686,112,619],\"xaxis\":\"x2\",\"y\":[97.77626037597656,97.57089233398438,97.56465911865234,97.40735626220705,97.3310089111328,97.23062133789062,96.91384887695312,96.76580810546876,96.72945404052734,96.39669799804688,96.27579498291016,96.26799774169922,96.22857666015624,96.02667999267578,95.96202087402344,95.64476013183594],\"yaxis\":\"y2\",\"type\":\"scatter\"},{\"customdata\":[[300,10],[300,10],[300,10],[300,10],[300,10],[300,10],[300,10],[300,10],[300,10],[300,10],[300,10],[300,10],[300,10],[300,10],[300,10],[300,10]],\"hovertemplate\":\"seq_len=320<br>seq_est_len=%{customdata[1]}<br>max_time=%{customdata[0]}<br>index=%{x}<br>FIT=%{y}<extra></extra>\",\"legendgroup\":\"320\",\"marker\":{\"color\":\"#ab63fa\",\"symbol\":\"circle\"},\"mode\":\"markers\",\"name\":\"320\",\"orientation\":\"v\",\"showlegend\":false,\"x\":[453,55,326,479,435,349,292,643,741,242,317,267,386,332,308,163],\"xaxis\":\"x3\",\"y\":[92.6480712890625,92.4879379272461,92.42767333984376,92.38054656982422,92.19561004638672,92.09778594970705,91.41017150878906,91.17032623291016,90.9515609741211,90.5380401611328,90.3422622680664,90.15985870361328,89.81362915039062,89.37510681152344,88.1762924194336,85.68626403808594],\"yaxis\":\"y3\",\"type\":\"scatter\"}],                        {\"template\":{\"data\":{\"bar\":[{\"error_x\":{\"color\":\"#2a3f5f\"},\"error_y\":{\"color\":\"#2a3f5f\"},\"marker\":{\"line\":{\"color\":\"#E5ECF6\",\"width\":0.5},\"pattern\":{\"fillmode\":\"overlay\",\"size\":10,\"solidity\":0.2}},\"type\":\"bar\"}],\"barpolar\":[{\"marker\":{\"line\":{\"color\":\"#E5ECF6\",\"width\":0.5},\"pattern\":{\"fillmode\":\"overlay\",\"size\":10,\"solidity\":0.2}},\"type\":\"barpolar\"}],\"carpet\":[{\"aaxis\":{\"endlinecolor\":\"#2a3f5f\",\"gridcolor\":\"white\",\"linecolor\":\"white\",\"minorgridcolor\":\"white\",\"startlinecolor\":\"#2a3f5f\"},\"baxis\":{\"endlinecolor\":\"#2a3f5f\",\"gridcolor\":\"white\",\"linecolor\":\"white\",\"minorgridcolor\":\"white\",\"startlinecolor\":\"#2a3f5f\"},\"type\":\"carpet\"}],\"choropleth\":[{\"colorbar\":{\"outlinewidth\":0,\"ticks\":\"\"},\"type\":\"choropleth\"}],\"contour\":[{\"colorbar\":{\"outlinewidth\":0,\"ticks\":\"\"},\"colorscale\":[[0.0,\"#0d0887\"],[0.1111111111111111,\"#46039f\"],[0.2222222222222222,\"#7201a8\"],[0.3333333333333333,\"#9c179e\"],[0.4444444444444444,\"#bd3786\"],[0.5555555555555556,\"#d8576b\"],[0.6666666666666666,\"#ed7953\"],[0.7777777777777778,\"#fb9f3a\"],[0.8888888888888888,\"#fdca26\"],[1.0,\"#f0f921\"]],\"type\":\"contour\"}],\"contourcarpet\":[{\"colorbar\":{\"outlinewidth\":0,\"ticks\":\"\"},\"type\":\"contourcarpet\"}],\"heatmap\":[{\"colorbar\":{\"outlinewidth\":0,\"ticks\":\"\"},\"colorscale\":[[0.0,\"#0d0887\"],[0.1111111111111111,\"#46039f\"],[0.2222222222222222,\"#7201a8\"],[0.3333333333333333,\"#9c179e\"],[0.4444444444444444,\"#bd3786\"],[0.5555555555555556,\"#d8576b\"],[0.6666666666666666,\"#ed7953\"],[0.7777777777777778,\"#fb9f3a\"],[0.8888888888888888,\"#fdca26\"],[1.0,\"#f0f921\"]],\"type\":\"heatmap\"}],\"heatmapgl\":[{\"colorbar\":{\"outlinewidth\":0,\"ticks\":\"\"},\"colorscale\":[[0.0,\"#0d0887\"],[0.1111111111111111,\"#46039f\"],[0.2222222222222222,\"#7201a8\"],[0.3333333333333333,\"#9c179e\"],[0.4444444444444444,\"#bd3786\"],[0.5555555555555556,\"#d8576b\"],[0.6666666666666666,\"#ed7953\"],[0.7777777777777778,\"#fb9f3a\"],[0.8888888888888888,\"#fdca26\"],[1.0,\"#f0f921\"]],\"type\":\"heatmapgl\"}],\"histogram\":[{\"marker\":{\"pattern\":{\"fillmode\":\"overlay\",\"size\":10,\"solidity\":0.2}},\"type\":\"histogram\"}],\"histogram2d\":[{\"colorbar\":{\"outlinewidth\":0,\"ticks\":\"\"},\"colorscale\":[[0.0,\"#0d0887\"],[0.1111111111111111,\"#46039f\"],[0.2222222222222222,\"#7201a8\"],[0.3333333333333333,\"#9c179e\"],[0.4444444444444444,\"#bd3786\"],[0.5555555555555556,\"#d8576b\"],[0.6666666666666666,\"#ed7953\"],[0.7777777777777778,\"#fb9f3a\"],[0.8888888888888888,\"#fdca26\"],[1.0,\"#f0f921\"]],\"type\":\"histogram2d\"}],\"histogram2dcontour\":[{\"colorbar\":{\"outlinewidth\":0,\"ticks\":\"\"},\"colorscale\":[[0.0,\"#0d0887\"],[0.1111111111111111,\"#46039f\"],[0.2222222222222222,\"#7201a8\"],[0.3333333333333333,\"#9c179e\"],[0.4444444444444444,\"#bd3786\"],[0.5555555555555556,\"#d8576b\"],[0.6666666666666666,\"#ed7953\"],[0.7777777777777778,\"#fb9f3a\"],[0.8888888888888888,\"#fdca26\"],[1.0,\"#f0f921\"]],\"type\":\"histogram2dcontour\"}],\"mesh3d\":[{\"colorbar\":{\"outlinewidth\":0,\"ticks\":\"\"},\"type\":\"mesh3d\"}],\"parcoords\":[{\"line\":{\"colorbar\":{\"outlinewidth\":0,\"ticks\":\"\"}},\"type\":\"parcoords\"}],\"pie\":[{\"automargin\":true,\"type\":\"pie\"}],\"scatter\":[{\"marker\":{\"colorbar\":{\"outlinewidth\":0,\"ticks\":\"\"}},\"type\":\"scatter\"}],\"scatter3d\":[{\"line\":{\"colorbar\":{\"outlinewidth\":0,\"ticks\":\"\"}},\"marker\":{\"colorbar\":{\"outlinewidth\":0,\"ticks\":\"\"}},\"type\":\"scatter3d\"}],\"scattercarpet\":[{\"marker\":{\"colorbar\":{\"outlinewidth\":0,\"ticks\":\"\"}},\"type\":\"scattercarpet\"}],\"scattergeo\":[{\"marker\":{\"colorbar\":{\"outlinewidth\":0,\"ticks\":\"\"}},\"type\":\"scattergeo\"}],\"scattergl\":[{\"marker\":{\"colorbar\":{\"outlinewidth\":0,\"ticks\":\"\"}},\"type\":\"scattergl\"}],\"scattermapbox\":[{\"marker\":{\"colorbar\":{\"outlinewidth\":0,\"ticks\":\"\"}},\"type\":\"scattermapbox\"}],\"scatterpolar\":[{\"marker\":{\"colorbar\":{\"outlinewidth\":0,\"ticks\":\"\"}},\"type\":\"scatterpolar\"}],\"scatterpolargl\":[{\"marker\":{\"colorbar\":{\"outlinewidth\":0,\"ticks\":\"\"}},\"type\":\"scatterpolargl\"}],\"scatterternary\":[{\"marker\":{\"colorbar\":{\"outlinewidth\":0,\"ticks\":\"\"}},\"type\":\"scatterternary\"}],\"surface\":[{\"colorbar\":{\"outlinewidth\":0,\"ticks\":\"\"},\"colorscale\":[[0.0,\"#0d0887\"],[0.1111111111111111,\"#46039f\"],[0.2222222222222222,\"#7201a8\"],[0.3333333333333333,\"#9c179e\"],[0.4444444444444444,\"#bd3786\"],[0.5555555555555556,\"#d8576b\"],[0.6666666666666666,\"#ed7953\"],[0.7777777777777778,\"#fb9f3a\"],[0.8888888888888888,\"#fdca26\"],[1.0,\"#f0f921\"]],\"type\":\"surface\"}],\"table\":[{\"cells\":{\"fill\":{\"color\":\"#EBF0F8\"},\"line\":{\"color\":\"white\"}},\"header\":{\"fill\":{\"color\":\"#C8D4E3\"},\"line\":{\"color\":\"white\"}},\"type\":\"table\"}]},\"layout\":{\"annotationdefaults\":{\"arrowcolor\":\"#2a3f5f\",\"arrowhead\":0,\"arrowwidth\":1},\"autotypenumbers\":\"strict\",\"coloraxis\":{\"colorbar\":{\"outlinewidth\":0,\"ticks\":\"\"}},\"colorscale\":{\"diverging\":[[0,\"#8e0152\"],[0.1,\"#c51b7d\"],[0.2,\"#de77ae\"],[0.3,\"#f1b6da\"],[0.4,\"#fde0ef\"],[0.5,\"#f7f7f7\"],[0.6,\"#e6f5d0\"],[0.7,\"#b8e186\"],[0.8,\"#7fbc41\"],[0.9,\"#4d9221\"],[1,\"#276419\"]],\"sequential\":[[0.0,\"#0d0887\"],[0.1111111111111111,\"#46039f\"],[0.2222222222222222,\"#7201a8\"],[0.3333333333333333,\"#9c179e\"],[0.4444444444444444,\"#bd3786\"],[0.5555555555555556,\"#d8576b\"],[0.6666666666666666,\"#ed7953\"],[0.7777777777777778,\"#fb9f3a\"],[0.8888888888888888,\"#fdca26\"],[1.0,\"#f0f921\"]],\"sequentialminus\":[[0.0,\"#0d0887\"],[0.1111111111111111,\"#46039f\"],[0.2222222222222222,\"#7201a8\"],[0.3333333333333333,\"#9c179e\"],[0.4444444444444444,\"#bd3786\"],[0.5555555555555556,\"#d8576b\"],[0.6666666666666666,\"#ed7953\"],[0.7777777777777778,\"#fb9f3a\"],[0.8888888888888888,\"#fdca26\"],[1.0,\"#f0f921\"]]},\"colorway\":[\"#636efa\",\"#EF553B\",\"#00cc96\",\"#ab63fa\",\"#FFA15A\",\"#19d3f3\",\"#FF6692\",\"#B6E880\",\"#FF97FF\",\"#FECB52\"],\"font\":{\"color\":\"#2a3f5f\"},\"geo\":{\"bgcolor\":\"white\",\"lakecolor\":\"white\",\"landcolor\":\"#E5ECF6\",\"showlakes\":true,\"showland\":true,\"subunitcolor\":\"white\"},\"hoverlabel\":{\"align\":\"left\"},\"hovermode\":\"closest\",\"mapbox\":{\"style\":\"light\"},\"paper_bgcolor\":\"white\",\"plot_bgcolor\":\"#E5ECF6\",\"polar\":{\"angularaxis\":{\"gridcolor\":\"white\",\"linecolor\":\"white\",\"ticks\":\"\"},\"bgcolor\":\"#E5ECF6\",\"radialaxis\":{\"gridcolor\":\"white\",\"linecolor\":\"white\",\"ticks\":\"\"}},\"scene\":{\"xaxis\":{\"backgroundcolor\":\"#E5ECF6\",\"gridcolor\":\"white\",\"gridwidth\":2,\"linecolor\":\"white\",\"showbackground\":true,\"ticks\":\"\",\"zerolinecolor\":\"white\"},\"yaxis\":{\"backgroundcolor\":\"#E5ECF6\",\"gridcolor\":\"white\",\"gridwidth\":2,\"linecolor\":\"white\",\"showbackground\":true,\"ticks\":\"\",\"zerolinecolor\":\"white\"},\"zaxis\":{\"backgroundcolor\":\"#E5ECF6\",\"gridcolor\":\"white\",\"gridwidth\":2,\"linecolor\":\"white\",\"showbackground\":true,\"ticks\":\"\",\"zerolinecolor\":\"white\"}},\"shapedefaults\":{\"line\":{\"color\":\"#2a3f5f\"}},\"ternary\":{\"aaxis\":{\"gridcolor\":\"white\",\"linecolor\":\"white\",\"ticks\":\"\"},\"baxis\":{\"gridcolor\":\"white\",\"linecolor\":\"white\",\"ticks\":\"\"},\"bgcolor\":\"#E5ECF6\",\"caxis\":{\"gridcolor\":\"white\",\"linecolor\":\"white\",\"ticks\":\"\"}},\"title\":{\"x\":0.05},\"xaxis\":{\"automargin\":true,\"gridcolor\":\"white\",\"linecolor\":\"white\",\"ticks\":\"\",\"title\":{\"standoff\":15},\"zerolinecolor\":\"white\",\"zerolinewidth\":2},\"yaxis\":{\"automargin\":true,\"gridcolor\":\"white\",\"linecolor\":\"white\",\"ticks\":\"\",\"title\":{\"standoff\":15},\"zerolinecolor\":\"white\",\"zerolinewidth\":2}}},\"xaxis\":{\"anchor\":\"y\",\"domain\":[0.0,0.3133333333333333],\"title\":{\"text\":\"index\"}},\"yaxis\":{\"anchor\":\"x\",\"domain\":[0.0,0.2275],\"title\":{\"text\":\"FIT\"}},\"xaxis2\":{\"anchor\":\"y2\",\"domain\":[0.3333333333333333,0.6466666666666666],\"matches\":\"x\",\"title\":{\"text\":\"index\"}},\"yaxis2\":{\"anchor\":\"x2\",\"domain\":[0.0,0.2275],\"matches\":\"y\",\"showticklabels\":false},\"xaxis3\":{\"anchor\":\"y3\",\"domain\":[0.6666666666666666,0.98],\"matches\":\"x\",\"title\":{\"text\":\"index\"}},\"yaxis3\":{\"anchor\":\"x3\",\"domain\":[0.0,0.2275],\"matches\":\"y\",\"showticklabels\":false},\"xaxis4\":{\"anchor\":\"y4\",\"domain\":[0.0,0.3133333333333333],\"matches\":\"x\",\"showticklabels\":false},\"yaxis4\":{\"anchor\":\"x4\",\"domain\":[0.2575,0.485],\"matches\":\"y\",\"title\":{\"text\":\"FIT\"}},\"xaxis5\":{\"anchor\":\"y5\",\"domain\":[0.3333333333333333,0.6466666666666666],\"matches\":\"x\",\"showticklabels\":false},\"yaxis5\":{\"anchor\":\"x5\",\"domain\":[0.2575,0.485],\"matches\":\"y\",\"showticklabels\":false},\"xaxis6\":{\"anchor\":\"y6\",\"domain\":[0.6666666666666666,0.98],\"matches\":\"x\",\"showticklabels\":false},\"yaxis6\":{\"anchor\":\"x6\",\"domain\":[0.2575,0.485],\"matches\":\"y\",\"showticklabels\":false},\"xaxis7\":{\"anchor\":\"y7\",\"domain\":[0.0,0.3133333333333333],\"matches\":\"x\",\"showticklabels\":false},\"yaxis7\":{\"anchor\":\"x7\",\"domain\":[0.515,0.7425],\"matches\":\"y\",\"title\":{\"text\":\"FIT\"}},\"xaxis8\":{\"anchor\":\"y8\",\"domain\":[0.3333333333333333,0.6466666666666666],\"matches\":\"x\",\"showticklabels\":false},\"yaxis8\":{\"anchor\":\"x8\",\"domain\":[0.515,0.7425],\"matches\":\"y\",\"showticklabels\":false},\"xaxis9\":{\"anchor\":\"y9\",\"domain\":[0.6666666666666666,0.98],\"matches\":\"x\",\"showticklabels\":false},\"yaxis9\":{\"anchor\":\"x9\",\"domain\":[0.515,0.7425],\"matches\":\"y\",\"showticklabels\":false},\"xaxis10\":{\"anchor\":\"y10\",\"domain\":[0.0,0.3133333333333333],\"matches\":\"x\",\"showticklabels\":false},\"yaxis10\":{\"anchor\":\"x10\",\"domain\":[0.7725,1.0],\"matches\":\"y\",\"title\":{\"text\":\"FIT\"}},\"xaxis11\":{\"anchor\":\"y11\",\"domain\":[0.3333333333333333,0.6466666666666666],\"matches\":\"x\",\"showticklabels\":false},\"yaxis11\":{\"anchor\":\"x11\",\"domain\":[0.7725,1.0],\"matches\":\"y\",\"showticklabels\":false},\"xaxis12\":{\"anchor\":\"y12\",\"domain\":[0.6666666666666666,0.98],\"matches\":\"x\",\"showticklabels\":false},\"yaxis12\":{\"anchor\":\"x12\",\"domain\":[0.7725,1.0],\"matches\":\"y\",\"showticklabels\":false},\"annotations\":[{\"font\":{},\"showarrow\":false,\"text\":\"max_time=3600\",\"x\":0.15666666666666665,\"xanchor\":\"center\",\"xref\":\"paper\",\"y\":1.0,\"yanchor\":\"bottom\",\"yref\":\"paper\"},{\"font\":{},\"showarrow\":false,\"text\":\"max_time=1800\",\"x\":0.49,\"xanchor\":\"center\",\"xref\":\"paper\",\"y\":1.0,\"yanchor\":\"bottom\",\"yref\":\"paper\"},{\"font\":{},\"showarrow\":false,\"text\":\"max_time=300\",\"x\":0.8233333333333333,\"xanchor\":\"center\",\"xref\":\"paper\",\"y\":1.0,\"yanchor\":\"bottom\",\"yref\":\"paper\"},{\"font\":{},\"showarrow\":false,\"text\":\"seq_est_len=10\",\"textangle\":90,\"x\":0.98,\"xanchor\":\"left\",\"xref\":\"paper\",\"y\":0.11375,\"yanchor\":\"middle\",\"yref\":\"paper\"},{\"font\":{},\"showarrow\":false,\"text\":\"seq_est_len=20\",\"textangle\":90,\"x\":0.98,\"xanchor\":\"left\",\"xref\":\"paper\",\"y\":0.37124999999999997,\"yanchor\":\"middle\",\"yref\":\"paper\"},{\"font\":{},\"showarrow\":false,\"text\":\"seq_est_len=80\",\"textangle\":90,\"x\":0.98,\"xanchor\":\"left\",\"xref\":\"paper\",\"y\":0.62875,\"yanchor\":\"middle\",\"yref\":\"paper\"},{\"font\":{},\"showarrow\":false,\"text\":\"seq_est_len=40\",\"textangle\":90,\"x\":0.98,\"xanchor\":\"left\",\"xref\":\"paper\",\"y\":0.88625,\"yanchor\":\"middle\",\"yref\":\"paper\"}],\"legend\":{\"title\":{\"text\":\"seq_len\"},\"tracegroupgap\":0},\"margin\":{\"t\":60}},                        {\"responsive\": true}                    ).then(function(){\n",
       "                            \n",
       "var gd = document.getElementById('ff13dcbb-91ac-4b11-a7c7-1ab8df8e5b30');\n",
       "var x = new MutationObserver(function (mutations, observer) {{\n",
       "        var display = window.getComputedStyle(gd).display;\n",
       "        if (!display || display === 'none') {{\n",
       "            console.log([gd, 'removed!']);\n",
       "            Plotly.purge(gd);\n",
       "            observer.disconnect();\n",
       "        }}\n",
       "}});\n",
       "\n",
       "// Listen for the removal of the full notebook cells\n",
       "var notebookContainer = gd.closest('#notebook-container');\n",
       "if (notebookContainer) {{\n",
       "    x.observe(notebookContainer, {childList: true});\n",
       "}}\n",
       "\n",
       "// Listen for the clearing of the current output cell\n",
       "var outputEl = gd.closest('.output');\n",
       "if (outputEl) {{\n",
       "    x.observe(outputEl, {childList: true});\n",
       "}}\n",
       "\n",
       "                        })                };                });            </script>        </div>"
      ]
     },
     "metadata": {},
     "output_type": "display_data"
    }
   ],
   "source": [
    "fig = px.scatter(df_res, y=\"FIT\",\n",
    "                 facet_col=\"max_time\", facet_row=\"seq_est_len\", color=\"seq_len\",\n",
    "                 hover_data=[\"max_time\", \"seq_est_len\"])\n",
    "fig.show()"
   ]
  },
  {
   "cell_type": "markdown",
   "id": "5a92768c",
   "metadata": {},
   "source": [
    "* too long seq_len is particularly critical for the shortest training time (last column, violet points)\n",
    "* too short seq_est_len (last row) also has a detrimental effect, also with long training"
   ]
  },
  {
   "cell_type": "code",
   "execution_count": 34,
   "id": "772ab9f4",
   "metadata": {},
   "outputs": [
    {
     "data": {
      "text/html": [
       "<div>\n",
       "<style scoped>\n",
       "    .dataframe tbody tr th:only-of-type {\n",
       "        vertical-align: middle;\n",
       "    }\n",
       "\n",
       "    .dataframe tbody tr th {\n",
       "        vertical-align: top;\n",
       "    }\n",
       "\n",
       "    .dataframe thead th {\n",
       "        text-align: right;\n",
       "    }\n",
       "</style>\n",
       "<table border=\"1\" class=\"dataframe\">\n",
       "  <thead>\n",
       "    <tr style=\"text-align: right;\">\n",
       "      <th></th>\n",
       "      <th></th>\n",
       "      <th>FIT</th>\n",
       "    </tr>\n",
       "    <tr>\n",
       "      <th>max_time</th>\n",
       "      <th>seq_len</th>\n",
       "      <th></th>\n",
       "    </tr>\n",
       "  </thead>\n",
       "  <tbody>\n",
       "    <tr>\n",
       "      <th rowspan=\"4\" valign=\"top\">300</th>\n",
       "      <th>40</th>\n",
       "      <td>93.597980</td>\n",
       "    </tr>\n",
       "    <tr>\n",
       "      <th>80</th>\n",
       "      <td>93.762545</td>\n",
       "    </tr>\n",
       "    <tr>\n",
       "      <th>160</th>\n",
       "      <td>92.906291</td>\n",
       "    </tr>\n",
       "    <tr>\n",
       "      <th>320</th>\n",
       "      <td>90.158101</td>\n",
       "    </tr>\n",
       "    <tr>\n",
       "      <th rowspan=\"4\" valign=\"top\">1800</th>\n",
       "      <th>40</th>\n",
       "      <td>97.302886</td>\n",
       "    </tr>\n",
       "    <tr>\n",
       "      <th>80</th>\n",
       "      <td>97.607897</td>\n",
       "    </tr>\n",
       "    <tr>\n",
       "      <th>160</th>\n",
       "      <td>97.179709</td>\n",
       "    </tr>\n",
       "    <tr>\n",
       "      <th>320</th>\n",
       "      <td>96.534849</td>\n",
       "    </tr>\n",
       "    <tr>\n",
       "      <th rowspan=\"4\" valign=\"top\">3600</th>\n",
       "      <th>40</th>\n",
       "      <td>97.756505</td>\n",
       "    </tr>\n",
       "    <tr>\n",
       "      <th>80</th>\n",
       "      <td>98.040119</td>\n",
       "    </tr>\n",
       "    <tr>\n",
       "      <th>160</th>\n",
       "      <td>97.995001</td>\n",
       "    </tr>\n",
       "    <tr>\n",
       "      <th>320</th>\n",
       "      <td>97.699773</td>\n",
       "    </tr>\n",
       "  </tbody>\n",
       "</table>\n",
       "</div>"
      ],
      "text/plain": [
       "                        FIT\n",
       "max_time seq_len           \n",
       "300      40       93.597980\n",
       "         80       93.762545\n",
       "         160      92.906291\n",
       "         320      90.158101\n",
       "1800     40       97.302886\n",
       "         80       97.607897\n",
       "         160      97.179709\n",
       "         320      96.534849\n",
       "3600     40       97.756505\n",
       "         80       98.040119\n",
       "         160      97.995001\n",
       "         320      97.699773"
      ]
     },
     "execution_count": 34,
     "metadata": {},
     "output_type": "execute_result"
    }
   ],
   "source": [
    "df_res.groupby([\"max_time\", \"seq_len\"])[[\"FIT\"]].mean()"
   ]
  },
  {
   "cell_type": "markdown",
   "id": "855abb64",
   "metadata": {},
   "source": [
    "Particularly interesting case: short estimation sequence, long training time, bad performance. This could be linked to estimator!"
   ]
  },
  {
   "cell_type": "code",
   "execution_count": 36,
   "id": "07b0abb3",
   "metadata": {
    "pycharm": {
     "name": "#%%\n"
    }
   },
   "outputs": [
    {
     "data": {
      "text/html": [
       "<div>\n",
       "<style scoped>\n",
       "    .dataframe tbody tr th:only-of-type {\n",
       "        vertical-align: middle;\n",
       "    }\n",
       "\n",
       "    .dataframe tbody tr th {\n",
       "        vertical-align: top;\n",
       "    }\n",
       "\n",
       "    .dataframe thead th {\n",
       "        text-align: right;\n",
       "    }\n",
       "</style>\n",
       "<table border=\"1\" class=\"dataframe\">\n",
       "  <thead>\n",
       "    <tr style=\"text-align: right;\">\n",
       "      <th></th>\n",
       "      <th>experiment_id</th>\n",
       "      <th>lr</th>\n",
       "      <th>epochs</th>\n",
       "      <th>max_time</th>\n",
       "      <th>batch_size</th>\n",
       "      <th>seq_len</th>\n",
       "      <th>seq_est_len</th>\n",
       "      <th>est_direction</th>\n",
       "      <th>est_type</th>\n",
       "      <th>est_hidden_size</th>\n",
       "      <th>seed</th>\n",
       "      <th>FIT</th>\n",
       "      <th>RMSE</th>\n",
       "    </tr>\n",
       "  </thead>\n",
       "  <tbody>\n",
       "    <tr>\n",
       "      <th>303</th>\n",
       "      <td>23</td>\n",
       "      <td>0.001</td>\n",
       "      <td>10000</td>\n",
       "      <td>3600</td>\n",
       "      <td>1024</td>\n",
       "      <td>80</td>\n",
       "      <td>10</td>\n",
       "      <td>forward</td>\n",
       "      <td>LSTM</td>\n",
       "      <td>15</td>\n",
       "      <td>352</td>\n",
       "      <td>98.647896</td>\n",
       "      <td>3.233535</td>\n",
       "    </tr>\n",
       "    <tr>\n",
       "      <th>695</th>\n",
       "      <td>209</td>\n",
       "      <td>0.001</td>\n",
       "      <td>10000</td>\n",
       "      <td>3600</td>\n",
       "      <td>128</td>\n",
       "      <td>80</td>\n",
       "      <td>10</td>\n",
       "      <td>forward</td>\n",
       "      <td>FF</td>\n",
       "      <td>15</td>\n",
       "      <td>465</td>\n",
       "      <td>98.624115</td>\n",
       "      <td>3.290384</td>\n",
       "    </tr>\n",
       "    <tr>\n",
       "      <th>278</th>\n",
       "      <td>218</td>\n",
       "      <td>0.001</td>\n",
       "      <td>10000</td>\n",
       "      <td>3600</td>\n",
       "      <td>32</td>\n",
       "      <td>160</td>\n",
       "      <td>10</td>\n",
       "      <td>forward</td>\n",
       "      <td>FF</td>\n",
       "      <td>15</td>\n",
       "      <td>294</td>\n",
       "      <td>98.614952</td>\n",
       "      <td>3.312312</td>\n",
       "    </tr>\n",
       "    <tr>\n",
       "      <th>186</th>\n",
       "      <td>17</td>\n",
       "      <td>0.001</td>\n",
       "      <td>10000</td>\n",
       "      <td>3600</td>\n",
       "      <td>128</td>\n",
       "      <td>80</td>\n",
       "      <td>10</td>\n",
       "      <td>forward</td>\n",
       "      <td>LSTM</td>\n",
       "      <td>15</td>\n",
       "      <td>55</td>\n",
       "      <td>98.603325</td>\n",
       "      <td>3.340106</td>\n",
       "    </tr>\n",
       "    <tr>\n",
       "      <th>180</th>\n",
       "      <td>5</td>\n",
       "      <td>0.001</td>\n",
       "      <td>10000</td>\n",
       "      <td>3600</td>\n",
       "      <td>128</td>\n",
       "      <td>40</td>\n",
       "      <td>10</td>\n",
       "      <td>forward</td>\n",
       "      <td>LSTM</td>\n",
       "      <td>15</td>\n",
       "      <td>103</td>\n",
       "      <td>98.602142</td>\n",
       "      <td>3.342936</td>\n",
       "    </tr>\n",
       "    <tr>\n",
       "      <th>401</th>\n",
       "      <td>221</td>\n",
       "      <td>0.001</td>\n",
       "      <td>10000</td>\n",
       "      <td>3600</td>\n",
       "      <td>128</td>\n",
       "      <td>160</td>\n",
       "      <td>10</td>\n",
       "      <td>forward</td>\n",
       "      <td>FF</td>\n",
       "      <td>15</td>\n",
       "      <td>367</td>\n",
       "      <td>98.570923</td>\n",
       "      <td>3.417603</td>\n",
       "    </tr>\n",
       "    <tr>\n",
       "      <th>362</th>\n",
       "      <td>29</td>\n",
       "      <td>0.001</td>\n",
       "      <td>10000</td>\n",
       "      <td>3600</td>\n",
       "      <td>128</td>\n",
       "      <td>160</td>\n",
       "      <td>10</td>\n",
       "      <td>forward</td>\n",
       "      <td>LSTM</td>\n",
       "      <td>15</td>\n",
       "      <td>496</td>\n",
       "      <td>98.542755</td>\n",
       "      <td>3.484965</td>\n",
       "    </tr>\n",
       "    <tr>\n",
       "      <th>717</th>\n",
       "      <td>197</td>\n",
       "      <td>0.001</td>\n",
       "      <td>10000</td>\n",
       "      <td>3600</td>\n",
       "      <td>128</td>\n",
       "      <td>40</td>\n",
       "      <td>10</td>\n",
       "      <td>forward</td>\n",
       "      <td>FF</td>\n",
       "      <td>15</td>\n",
       "      <td>144</td>\n",
       "      <td>98.506874</td>\n",
       "      <td>3.570766</td>\n",
       "    </tr>\n",
       "    <tr>\n",
       "      <th>677</th>\n",
       "      <td>200</td>\n",
       "      <td>0.001</td>\n",
       "      <td>10000</td>\n",
       "      <td>3600</td>\n",
       "      <td>512</td>\n",
       "      <td>40</td>\n",
       "      <td>10</td>\n",
       "      <td>forward</td>\n",
       "      <td>FF</td>\n",
       "      <td>15</td>\n",
       "      <td>609</td>\n",
       "      <td>98.407684</td>\n",
       "      <td>3.807976</td>\n",
       "    </tr>\n",
       "    <tr>\n",
       "      <th>418</th>\n",
       "      <td>8</td>\n",
       "      <td>0.001</td>\n",
       "      <td>10000</td>\n",
       "      <td>3600</td>\n",
       "      <td>512</td>\n",
       "      <td>40</td>\n",
       "      <td>10</td>\n",
       "      <td>forward</td>\n",
       "      <td>LSTM</td>\n",
       "      <td>15</td>\n",
       "      <td>395</td>\n",
       "      <td>98.402679</td>\n",
       "      <td>3.819947</td>\n",
       "    </tr>\n",
       "    <tr>\n",
       "      <th>579</th>\n",
       "      <td>236</td>\n",
       "      <td>0.001</td>\n",
       "      <td>10000</td>\n",
       "      <td>3600</td>\n",
       "      <td>512</td>\n",
       "      <td>320</td>\n",
       "      <td>10</td>\n",
       "      <td>forward</td>\n",
       "      <td>FF</td>\n",
       "      <td>15</td>\n",
       "      <td>636</td>\n",
       "      <td>98.332687</td>\n",
       "      <td>3.987325</td>\n",
       "    </tr>\n",
       "    <tr>\n",
       "      <th>712</th>\n",
       "      <td>230</td>\n",
       "      <td>0.001</td>\n",
       "      <td>10000</td>\n",
       "      <td>3600</td>\n",
       "      <td>32</td>\n",
       "      <td>320</td>\n",
       "      <td>10</td>\n",
       "      <td>forward</td>\n",
       "      <td>FF</td>\n",
       "      <td>15</td>\n",
       "      <td>34</td>\n",
       "      <td>98.328438</td>\n",
       "      <td>3.997488</td>\n",
       "    </tr>\n",
       "    <tr>\n",
       "      <th>364</th>\n",
       "      <td>35</td>\n",
       "      <td>0.001</td>\n",
       "      <td>10000</td>\n",
       "      <td>3600</td>\n",
       "      <td>1024</td>\n",
       "      <td>160</td>\n",
       "      <td>10</td>\n",
       "      <td>forward</td>\n",
       "      <td>LSTM</td>\n",
       "      <td>15</td>\n",
       "      <td>404</td>\n",
       "      <td>98.282272</td>\n",
       "      <td>4.107907</td>\n",
       "    </tr>\n",
       "    <tr>\n",
       "      <th>430</th>\n",
       "      <td>32</td>\n",
       "      <td>0.001</td>\n",
       "      <td>10000</td>\n",
       "      <td>3600</td>\n",
       "      <td>512</td>\n",
       "      <td>160</td>\n",
       "      <td>10</td>\n",
       "      <td>forward</td>\n",
       "      <td>LSTM</td>\n",
       "      <td>15</td>\n",
       "      <td>640</td>\n",
       "      <td>98.254356</td>\n",
       "      <td>4.174662</td>\n",
       "    </tr>\n",
       "    <tr>\n",
       "      <th>496</th>\n",
       "      <td>431</td>\n",
       "      <td>0.001</td>\n",
       "      <td>10000</td>\n",
       "      <td>3600</td>\n",
       "      <td>1024</td>\n",
       "      <td>320</td>\n",
       "      <td>10</td>\n",
       "      <td>forward</td>\n",
       "      <td>ZERO</td>\n",
       "      <td>15</td>\n",
       "      <td>715</td>\n",
       "      <td>98.177155</td>\n",
       "      <td>4.359294</td>\n",
       "    </tr>\n",
       "    <tr>\n",
       "      <th>500</th>\n",
       "      <td>41</td>\n",
       "      <td>0.001</td>\n",
       "      <td>10000</td>\n",
       "      <td>3600</td>\n",
       "      <td>128</td>\n",
       "      <td>320</td>\n",
       "      <td>10</td>\n",
       "      <td>forward</td>\n",
       "      <td>LSTM</td>\n",
       "      <td>15</td>\n",
       "      <td>354</td>\n",
       "      <td>98.132095</td>\n",
       "      <td>4.467044</td>\n",
       "    </tr>\n",
       "    <tr>\n",
       "      <th>545</th>\n",
       "      <td>416</td>\n",
       "      <td>0.001</td>\n",
       "      <td>10000</td>\n",
       "      <td>3600</td>\n",
       "      <td>512</td>\n",
       "      <td>160</td>\n",
       "      <td>10</td>\n",
       "      <td>forward</td>\n",
       "      <td>ZERO</td>\n",
       "      <td>15</td>\n",
       "      <td>124</td>\n",
       "      <td>98.123329</td>\n",
       "      <td>4.488007</td>\n",
       "    </tr>\n",
       "    <tr>\n",
       "      <th>654</th>\n",
       "      <td>239</td>\n",
       "      <td>0.001</td>\n",
       "      <td>10000</td>\n",
       "      <td>3600</td>\n",
       "      <td>1024</td>\n",
       "      <td>320</td>\n",
       "      <td>10</td>\n",
       "      <td>forward</td>\n",
       "      <td>FF</td>\n",
       "      <td>15</td>\n",
       "      <td>761</td>\n",
       "      <td>98.099846</td>\n",
       "      <td>4.544166</td>\n",
       "    </tr>\n",
       "    <tr>\n",
       "      <th>276</th>\n",
       "      <td>224</td>\n",
       "      <td>0.001</td>\n",
       "      <td>10000</td>\n",
       "      <td>3600</td>\n",
       "      <td>512</td>\n",
       "      <td>160</td>\n",
       "      <td>10</td>\n",
       "      <td>forward</td>\n",
       "      <td>FF</td>\n",
       "      <td>15</td>\n",
       "      <td>211</td>\n",
       "      <td>98.053757</td>\n",
       "      <td>4.654398</td>\n",
       "    </tr>\n",
       "    <tr>\n",
       "      <th>638</th>\n",
       "      <td>38</td>\n",
       "      <td>0.001</td>\n",
       "      <td>10000</td>\n",
       "      <td>3600</td>\n",
       "      <td>32</td>\n",
       "      <td>320</td>\n",
       "      <td>10</td>\n",
       "      <td>forward</td>\n",
       "      <td>LSTM</td>\n",
       "      <td>15</td>\n",
       "      <td>575</td>\n",
       "      <td>98.046806</td>\n",
       "      <td>4.671016</td>\n",
       "    </tr>\n",
       "  </tbody>\n",
       "</table>\n",
       "</div>"
      ],
      "text/plain": [
       "     experiment_id     lr  epochs max_time batch_size seq_len seq_est_len  \\\n",
       "303             23  0.001   10000     3600       1024      80          10   \n",
       "695            209  0.001   10000     3600        128      80          10   \n",
       "278            218  0.001   10000     3600         32     160          10   \n",
       "186             17  0.001   10000     3600        128      80          10   \n",
       "180              5  0.001   10000     3600        128      40          10   \n",
       "401            221  0.001   10000     3600        128     160          10   \n",
       "362             29  0.001   10000     3600        128     160          10   \n",
       "717            197  0.001   10000     3600        128      40          10   \n",
       "677            200  0.001   10000     3600        512      40          10   \n",
       "418              8  0.001   10000     3600        512      40          10   \n",
       "579            236  0.001   10000     3600        512     320          10   \n",
       "712            230  0.001   10000     3600         32     320          10   \n",
       "364             35  0.001   10000     3600       1024     160          10   \n",
       "430             32  0.001   10000     3600        512     160          10   \n",
       "496            431  0.001   10000     3600       1024     320          10   \n",
       "500             41  0.001   10000     3600        128     320          10   \n",
       "545            416  0.001   10000     3600        512     160          10   \n",
       "654            239  0.001   10000     3600       1024     320          10   \n",
       "276            224  0.001   10000     3600        512     160          10   \n",
       "638             38  0.001   10000     3600         32     320          10   \n",
       "\n",
       "    est_direction est_type  est_hidden_size  seed        FIT      RMSE  \n",
       "303       forward     LSTM               15   352  98.647896  3.233535  \n",
       "695       forward       FF               15   465  98.624115  3.290384  \n",
       "278       forward       FF               15   294  98.614952  3.312312  \n",
       "186       forward     LSTM               15    55  98.603325  3.340106  \n",
       "180       forward     LSTM               15   103  98.602142  3.342936  \n",
       "401       forward       FF               15   367  98.570923  3.417603  \n",
       "362       forward     LSTM               15   496  98.542755  3.484965  \n",
       "717       forward       FF               15   144  98.506874  3.570766  \n",
       "677       forward       FF               15   609  98.407684  3.807976  \n",
       "418       forward     LSTM               15   395  98.402679  3.819947  \n",
       "579       forward       FF               15   636  98.332687  3.987325  \n",
       "712       forward       FF               15    34  98.328438  3.997488  \n",
       "364       forward     LSTM               15   404  98.282272  4.107907  \n",
       "430       forward     LSTM               15   640  98.254356  4.174662  \n",
       "496       forward     ZERO               15   715  98.177155  4.359294  \n",
       "500       forward     LSTM               15   354  98.132095  4.467044  \n",
       "545       forward     ZERO               15   124  98.123329  4.488007  \n",
       "654       forward       FF               15   761  98.099846  4.544166  \n",
       "276       forward       FF               15   211  98.053757  4.654398  \n",
       "638       forward     LSTM               15   575  98.046806  4.671016  "
      ]
     },
     "execution_count": 36,
     "metadata": {},
     "output_type": "execute_result"
    }
   ],
   "source": [
    "df_short_est = df_res[(df_res[\"seq_est_len\"] == 10) & (df_res[\"max_time\"] == 3600)]\n",
    "df_short_est.head(20)"
   ]
  },
  {
   "cell_type": "code",
   "execution_count": 37,
   "id": "72af4a77",
   "metadata": {
    "pycharm": {
     "name": "#%%\n"
    },
    "scrolled": false
   },
   "outputs": [
    {
     "data": {
      "text/html": [
       "<div>\n",
       "<style scoped>\n",
       "    .dataframe tbody tr th:only-of-type {\n",
       "        vertical-align: middle;\n",
       "    }\n",
       "\n",
       "    .dataframe tbody tr th {\n",
       "        vertical-align: top;\n",
       "    }\n",
       "\n",
       "    .dataframe thead th {\n",
       "        text-align: right;\n",
       "    }\n",
       "</style>\n",
       "<table border=\"1\" class=\"dataframe\">\n",
       "  <thead>\n",
       "    <tr style=\"text-align: right;\">\n",
       "      <th></th>\n",
       "      <th>experiment_id</th>\n",
       "      <th>lr</th>\n",
       "      <th>epochs</th>\n",
       "      <th>max_time</th>\n",
       "      <th>batch_size</th>\n",
       "      <th>seq_len</th>\n",
       "      <th>seq_est_len</th>\n",
       "      <th>est_direction</th>\n",
       "      <th>est_type</th>\n",
       "      <th>est_hidden_size</th>\n",
       "      <th>seed</th>\n",
       "      <th>FIT</th>\n",
       "      <th>RMSE</th>\n",
       "    </tr>\n",
       "  </thead>\n",
       "  <tbody>\n",
       "    <tr>\n",
       "      <th>608</th>\n",
       "      <td>11</td>\n",
       "      <td>0.001</td>\n",
       "      <td>10000</td>\n",
       "      <td>3600</td>\n",
       "      <td>1024</td>\n",
       "      <td>40</td>\n",
       "      <td>10</td>\n",
       "      <td>forward</td>\n",
       "      <td>LSTM</td>\n",
       "      <td>15</td>\n",
       "      <td>546</td>\n",
       "      <td>97.145874</td>\n",
       "      <td>6.825570</td>\n",
       "    </tr>\n",
       "    <tr>\n",
       "      <th>514</th>\n",
       "      <td>44</td>\n",
       "      <td>0.001</td>\n",
       "      <td>10000</td>\n",
       "      <td>3600</td>\n",
       "      <td>512</td>\n",
       "      <td>320</td>\n",
       "      <td>10</td>\n",
       "      <td>forward</td>\n",
       "      <td>LSTM</td>\n",
       "      <td>15</td>\n",
       "      <td>8</td>\n",
       "      <td>97.138855</td>\n",
       "      <td>6.842356</td>\n",
       "    </tr>\n",
       "    <tr>\n",
       "      <th>7</th>\n",
       "      <td>398</td>\n",
       "      <td>0.001</td>\n",
       "      <td>10000</td>\n",
       "      <td>3600</td>\n",
       "      <td>32</td>\n",
       "      <td>80</td>\n",
       "      <td>10</td>\n",
       "      <td>forward</td>\n",
       "      <td>ZERO</td>\n",
       "      <td>15</td>\n",
       "      <td>435</td>\n",
       "      <td>97.038292</td>\n",
       "      <td>7.082847</td>\n",
       "    </tr>\n",
       "    <tr>\n",
       "      <th>318</th>\n",
       "      <td>47</td>\n",
       "      <td>0.001</td>\n",
       "      <td>10000</td>\n",
       "      <td>3600</td>\n",
       "      <td>1024</td>\n",
       "      <td>320</td>\n",
       "      <td>10</td>\n",
       "      <td>forward</td>\n",
       "      <td>LSTM</td>\n",
       "      <td>15</td>\n",
       "      <td>419</td>\n",
       "      <td>96.922333</td>\n",
       "      <td>7.360164</td>\n",
       "    </tr>\n",
       "    <tr>\n",
       "      <th>110</th>\n",
       "      <td>407</td>\n",
       "      <td>0.001</td>\n",
       "      <td>10000</td>\n",
       "      <td>3600</td>\n",
       "      <td>1024</td>\n",
       "      <td>80</td>\n",
       "      <td>10</td>\n",
       "      <td>forward</td>\n",
       "      <td>ZERO</td>\n",
       "      <td>15</td>\n",
       "      <td>38</td>\n",
       "      <td>96.908188</td>\n",
       "      <td>7.393983</td>\n",
       "    </tr>\n",
       "    <tr>\n",
       "      <th>556</th>\n",
       "      <td>593</td>\n",
       "      <td>0.001</td>\n",
       "      <td>10000</td>\n",
       "      <td>3600</td>\n",
       "      <td>128</td>\n",
       "      <td>80</td>\n",
       "      <td>10</td>\n",
       "      <td>forward</td>\n",
       "      <td>RAND</td>\n",
       "      <td>15</td>\n",
       "      <td>552</td>\n",
       "      <td>96.848366</td>\n",
       "      <td>7.537059</td>\n",
       "    </tr>\n",
       "    <tr>\n",
       "      <th>450</th>\n",
       "      <td>401</td>\n",
       "      <td>0.001</td>\n",
       "      <td>10000</td>\n",
       "      <td>3600</td>\n",
       "      <td>128</td>\n",
       "      <td>80</td>\n",
       "      <td>10</td>\n",
       "      <td>forward</td>\n",
       "      <td>ZERO</td>\n",
       "      <td>15</td>\n",
       "      <td>458</td>\n",
       "      <td>96.774780</td>\n",
       "      <td>7.713030</td>\n",
       "    </tr>\n",
       "    <tr>\n",
       "      <th>754</th>\n",
       "      <td>596</td>\n",
       "      <td>0.001</td>\n",
       "      <td>10000</td>\n",
       "      <td>3600</td>\n",
       "      <td>512</td>\n",
       "      <td>80</td>\n",
       "      <td>10</td>\n",
       "      <td>forward</td>\n",
       "      <td>RAND</td>\n",
       "      <td>15</td>\n",
       "      <td>591</td>\n",
       "      <td>96.670868</td>\n",
       "      <td>7.961529</td>\n",
       "    </tr>\n",
       "    <tr>\n",
       "      <th>171</th>\n",
       "      <td>233</td>\n",
       "      <td>0.001</td>\n",
       "      <td>10000</td>\n",
       "      <td>3600</td>\n",
       "      <td>128</td>\n",
       "      <td>320</td>\n",
       "      <td>10</td>\n",
       "      <td>forward</td>\n",
       "      <td>FF</td>\n",
       "      <td>15</td>\n",
       "      <td>764</td>\n",
       "      <td>96.642151</td>\n",
       "      <td>8.030191</td>\n",
       "    </tr>\n",
       "    <tr>\n",
       "      <th>651</th>\n",
       "      <td>599</td>\n",
       "      <td>0.001</td>\n",
       "      <td>10000</td>\n",
       "      <td>3600</td>\n",
       "      <td>1024</td>\n",
       "      <td>80</td>\n",
       "      <td>10</td>\n",
       "      <td>forward</td>\n",
       "      <td>RAND</td>\n",
       "      <td>15</td>\n",
       "      <td>287</td>\n",
       "      <td>96.429100</td>\n",
       "      <td>8.539703</td>\n",
       "    </tr>\n",
       "    <tr>\n",
       "      <th>107</th>\n",
       "      <td>26</td>\n",
       "      <td>0.001</td>\n",
       "      <td>10000</td>\n",
       "      <td>3600</td>\n",
       "      <td>32</td>\n",
       "      <td>160</td>\n",
       "      <td>10</td>\n",
       "      <td>forward</td>\n",
       "      <td>LSTM</td>\n",
       "      <td>15</td>\n",
       "      <td>239</td>\n",
       "      <td>96.394691</td>\n",
       "      <td>8.621985</td>\n",
       "    </tr>\n",
       "    <tr>\n",
       "      <th>568</th>\n",
       "      <td>590</td>\n",
       "      <td>0.001</td>\n",
       "      <td>10000</td>\n",
       "      <td>3600</td>\n",
       "      <td>32</td>\n",
       "      <td>80</td>\n",
       "      <td>10</td>\n",
       "      <td>forward</td>\n",
       "      <td>RAND</td>\n",
       "      <td>15</td>\n",
       "      <td>166</td>\n",
       "      <td>96.140793</td>\n",
       "      <td>9.229201</td>\n",
       "    </tr>\n",
       "    <tr>\n",
       "      <th>590</th>\n",
       "      <td>395</td>\n",
       "      <td>0.001</td>\n",
       "      <td>10000</td>\n",
       "      <td>3600</td>\n",
       "      <td>1024</td>\n",
       "      <td>40</td>\n",
       "      <td>10</td>\n",
       "      <td>forward</td>\n",
       "      <td>ZERO</td>\n",
       "      <td>15</td>\n",
       "      <td>60</td>\n",
       "      <td>95.573883</td>\n",
       "      <td>10.584936</td>\n",
       "    </tr>\n",
       "    <tr>\n",
       "      <th>30</th>\n",
       "      <td>584</td>\n",
       "      <td>0.001</td>\n",
       "      <td>10000</td>\n",
       "      <td>3600</td>\n",
       "      <td>512</td>\n",
       "      <td>40</td>\n",
       "      <td>10</td>\n",
       "      <td>forward</td>\n",
       "      <td>RAND</td>\n",
       "      <td>15</td>\n",
       "      <td>24</td>\n",
       "      <td>95.541473</td>\n",
       "      <td>10.662454</td>\n",
       "    </tr>\n",
       "    <tr>\n",
       "      <th>630</th>\n",
       "      <td>386</td>\n",
       "      <td>0.001</td>\n",
       "      <td>10000</td>\n",
       "      <td>3600</td>\n",
       "      <td>32</td>\n",
       "      <td>40</td>\n",
       "      <td>10</td>\n",
       "      <td>forward</td>\n",
       "      <td>ZERO</td>\n",
       "      <td>15</td>\n",
       "      <td>424</td>\n",
       "      <td>95.432877</td>\n",
       "      <td>10.922142</td>\n",
       "    </tr>\n",
       "    <tr>\n",
       "      <th>48</th>\n",
       "      <td>392</td>\n",
       "      <td>0.001</td>\n",
       "      <td>10000</td>\n",
       "      <td>3600</td>\n",
       "      <td>512</td>\n",
       "      <td>40</td>\n",
       "      <td>10</td>\n",
       "      <td>forward</td>\n",
       "      <td>ZERO</td>\n",
       "      <td>15</td>\n",
       "      <td>237</td>\n",
       "      <td>95.425812</td>\n",
       "      <td>10.939037</td>\n",
       "    </tr>\n",
       "    <tr>\n",
       "      <th>266</th>\n",
       "      <td>389</td>\n",
       "      <td>0.001</td>\n",
       "      <td>10000</td>\n",
       "      <td>3600</td>\n",
       "      <td>128</td>\n",
       "      <td>40</td>\n",
       "      <td>10</td>\n",
       "      <td>forward</td>\n",
       "      <td>ZERO</td>\n",
       "      <td>15</td>\n",
       "      <td>679</td>\n",
       "      <td>95.385979</td>\n",
       "      <td>11.034296</td>\n",
       "    </tr>\n",
       "    <tr>\n",
       "      <th>390</th>\n",
       "      <td>581</td>\n",
       "      <td>0.001</td>\n",
       "      <td>10000</td>\n",
       "      <td>3600</td>\n",
       "      <td>128</td>\n",
       "      <td>40</td>\n",
       "      <td>10</td>\n",
       "      <td>forward</td>\n",
       "      <td>RAND</td>\n",
       "      <td>15</td>\n",
       "      <td>703</td>\n",
       "      <td>94.846985</td>\n",
       "      <td>12.323304</td>\n",
       "    </tr>\n",
       "    <tr>\n",
       "      <th>218</th>\n",
       "      <td>587</td>\n",
       "      <td>0.001</td>\n",
       "      <td>10000</td>\n",
       "      <td>3600</td>\n",
       "      <td>1024</td>\n",
       "      <td>40</td>\n",
       "      <td>10</td>\n",
       "      <td>forward</td>\n",
       "      <td>RAND</td>\n",
       "      <td>15</td>\n",
       "      <td>129</td>\n",
       "      <td>94.622803</td>\n",
       "      <td>12.859417</td>\n",
       "    </tr>\n",
       "    <tr>\n",
       "      <th>95</th>\n",
       "      <td>578</td>\n",
       "      <td>0.001</td>\n",
       "      <td>10000</td>\n",
       "      <td>3600</td>\n",
       "      <td>32</td>\n",
       "      <td>40</td>\n",
       "      <td>10</td>\n",
       "      <td>forward</td>\n",
       "      <td>RAND</td>\n",
       "      <td>15</td>\n",
       "      <td>646</td>\n",
       "      <td>93.945625</td>\n",
       "      <td>14.478878</td>\n",
       "    </tr>\n",
       "  </tbody>\n",
       "</table>\n",
       "</div>"
      ],
      "text/plain": [
       "     experiment_id     lr  epochs max_time batch_size seq_len seq_est_len  \\\n",
       "608             11  0.001   10000     3600       1024      40          10   \n",
       "514             44  0.001   10000     3600        512     320          10   \n",
       "7              398  0.001   10000     3600         32      80          10   \n",
       "318             47  0.001   10000     3600       1024     320          10   \n",
       "110            407  0.001   10000     3600       1024      80          10   \n",
       "556            593  0.001   10000     3600        128      80          10   \n",
       "450            401  0.001   10000     3600        128      80          10   \n",
       "754            596  0.001   10000     3600        512      80          10   \n",
       "171            233  0.001   10000     3600        128     320          10   \n",
       "651            599  0.001   10000     3600       1024      80          10   \n",
       "107             26  0.001   10000     3600         32     160          10   \n",
       "568            590  0.001   10000     3600         32      80          10   \n",
       "590            395  0.001   10000     3600       1024      40          10   \n",
       "30             584  0.001   10000     3600        512      40          10   \n",
       "630            386  0.001   10000     3600         32      40          10   \n",
       "48             392  0.001   10000     3600        512      40          10   \n",
       "266            389  0.001   10000     3600        128      40          10   \n",
       "390            581  0.001   10000     3600        128      40          10   \n",
       "218            587  0.001   10000     3600       1024      40          10   \n",
       "95             578  0.001   10000     3600         32      40          10   \n",
       "\n",
       "    est_direction est_type  est_hidden_size  seed        FIT       RMSE  \n",
       "608       forward     LSTM               15   546  97.145874   6.825570  \n",
       "514       forward     LSTM               15     8  97.138855   6.842356  \n",
       "7         forward     ZERO               15   435  97.038292   7.082847  \n",
       "318       forward     LSTM               15   419  96.922333   7.360164  \n",
       "110       forward     ZERO               15    38  96.908188   7.393983  \n",
       "556       forward     RAND               15   552  96.848366   7.537059  \n",
       "450       forward     ZERO               15   458  96.774780   7.713030  \n",
       "754       forward     RAND               15   591  96.670868   7.961529  \n",
       "171       forward       FF               15   764  96.642151   8.030191  \n",
       "651       forward     RAND               15   287  96.429100   8.539703  \n",
       "107       forward     LSTM               15   239  96.394691   8.621985  \n",
       "568       forward     RAND               15   166  96.140793   9.229201  \n",
       "590       forward     ZERO               15    60  95.573883  10.584936  \n",
       "30        forward     RAND               15    24  95.541473  10.662454  \n",
       "630       forward     ZERO               15   424  95.432877  10.922142  \n",
       "48        forward     ZERO               15   237  95.425812  10.939037  \n",
       "266       forward     ZERO               15   679  95.385979  11.034296  \n",
       "390       forward     RAND               15   703  94.846985  12.323304  \n",
       "218       forward     RAND               15   129  94.622803  12.859417  \n",
       "95        forward     RAND               15   646  93.945625  14.478878  "
      ]
     },
     "execution_count": 37,
     "metadata": {},
     "output_type": "execute_result"
    }
   ],
   "source": [
    "df_short_est.tail(20)"
   ]
  },
  {
   "cell_type": "code",
   "execution_count": 38,
   "id": "d930319c",
   "metadata": {
    "pycharm": {
     "name": "#%%\n"
    }
   },
   "outputs": [
    {
     "data": {
      "image/png": "[encoded data removed]",
      "text/plain": [
       "<Figure size 900x360 with 5 Axes>"
      ]
     },
     "metadata": {
      "needs_background": "light"
     },
     "output_type": "display_data"
    }
   ],
   "source": [
    "# Full results: main effects\n",
    "g = sns.PairGrid(df_short_est, y_vars=response,\n",
    "                 x_vars=factors,\n",
    "                 height=5, aspect=.5)\n",
    "g.map(sns.pointplot, scale=1.3)\n",
    "sns.despine(fig=g.fig, left=True)\n",
    "\n",
    "# Biggest effect seems to be max_time"
   ]
  },
  {
   "cell_type": "code",
   "execution_count": 40,
   "id": "30b46ce9",
   "metadata": {
    "scrolled": false
   },
   "outputs": [
    {
     "data": {
      "image/png": "[encoded data removed]",
      "text/plain": [
       "<Figure size 900x360 with 5 Axes>"
      ]
     },
     "metadata": {
      "needs_background": "light"
     },
     "output_type": "display_data"
    }
   ],
   "source": [
    "# Full results: box plots\n",
    "g = sns.PairGrid(df_short_est, y_vars=response,\n",
    "                 x_vars=factors,\n",
    "                 height=5, aspect=.5)\n",
    "g.map(sns.boxplot)\n",
    "#g.set(ylim=(85, 100))\n",
    "sns.despine(fig=g.fig, left=True)"
   ]
  },
  {
   "cell_type": "markdown",
   "id": "4a6049ce",
   "metadata": {},
   "source": [
    "Here indeed there is an estimator effect! Short training sequences also seem to have a negative effect!"
   ]
  },
  {
   "cell_type": "markdown",
   "id": "29c5cac7",
   "metadata": {},
   "source": [
    "The estimator effect is only visible with short estimation sequences"
   ]
  },
  {
   "cell_type": "code",
   "execution_count": 50,
   "id": "cd979533",
   "metadata": {},
   "outputs": [
    {
     "data": {
      "application/vnd.plotly.v1+json": {
       "config": {
        "plotlyServerURL": "https://plot.ly"
       },
       "data": [
        {
         "customdata": [
          [
           3600,
           10
          ],
          [
           3600,
           10
          ],
          [
           3600,
           10
          ],
          [
           3600,
           10
          ]
         ],
         "hovertemplate": "seq_len=80<br>est_type=LSTM<br>index=%{x}<br>FIT=%{y}<br>max_time=%{customdata[0]}<br>seq_est_len=%{customdata[1]}<extra></extra>",
         "legendgroup": "",
         "marker": {
          "color": "#636efa",
          "symbol": "circle"
         },
         "mode": "markers",
         "name": "",
         "orientation": "v",
         "showlegend": false,
         "type": "scatter",
         "x": [
          303,
          186,
          132,
          494
         ],
         "xaxis": "x13",
         "y": [
          98.64789581298828,
          98.60332489013672,
          97.7786636352539,
          97.68995666503906
         ],
         "yaxis": "y13"
        },
        {
         "customdata": [
          [
           3600,
           10
          ],
          [
           3600,
           10
          ],
          [
           3600,
           10
          ],
          [
           3600,
           10
          ]
         ],
         "hovertemplate": "seq_len=80<br>est_type=FF<br>index=%{x}<br>FIT=%{y}<br>max_time=%{customdata[0]}<br>seq_est_len=%{customdata[1]}<extra></extra>",
         "legendgroup": "",
         "marker": {
          "color": "#636efa",
          "symbol": "circle"
         },
         "mode": "markers",
         "name": "",
         "orientation": "v",
         "showlegend": false,
         "type": "scatter",
         "x": [
          695,
          404,
          269,
          743
         ],
         "xaxis": "x14",
         "y": [
          98.62411499023438,
          98.04437255859376,
          97.85002899169922,
          97.64134216308594
         ],
         "yaxis": "y14"
        },
        {
         "customdata": [
          [
           3600,
           10
          ],
          [
           3600,
           10
          ],
          [
           3600,
           10
          ],
          [
           3600,
           10
          ]
         ],
         "hovertemplate": "seq_len=80<br>est_type=ZERO<br>index=%{x}<br>FIT=%{y}<br>max_time=%{customdata[0]}<br>seq_est_len=%{customdata[1]}<extra></extra>",
         "legendgroup": "",
         "marker": {
          "color": "#636efa",
          "symbol": "circle"
         },
         "mode": "markers",
         "name": "",
         "orientation": "v",
         "showlegend": false,
         "type": "scatter",
         "x": [
          398,
          7,
          110,
          450
         ],
         "xaxis": "x15",
         "y": [
          97.56394958496094,
          97.03829193115234,
          96.90818786621094,
          96.7747802734375
         ],
         "yaxis": "y15"
        },
        {
         "customdata": [
          [
           3600,
           10
          ],
          [
           3600,
           10
          ],
          [
           3600,
           10
          ],
          [
           3600,
           10
          ]
         ],
         "hovertemplate": "seq_len=80<br>est_type=RAND<br>index=%{x}<br>FIT=%{y}<br>max_time=%{customdata[0]}<br>seq_est_len=%{customdata[1]}<extra></extra>",
         "legendgroup": "",
         "marker": {
          "color": "#636efa",
          "symbol": "circle"
         },
         "mode": "markers",
         "name": "",
         "orientation": "v",
         "showlegend": false,
         "type": "scatter",
         "x": [
          556,
          754,
          651,
          568
         ],
         "xaxis": "x16",
         "y": [
          96.8483657836914,
          96.67086791992188,
          96.4291000366211,
          96.14079284667967
         ],
         "yaxis": "y16"
        },
        {
         "customdata": [
          [
           3600,
           10
          ],
          [
           3600,
           10
          ],
          [
           3600,
           10
          ],
          [
           3600,
           10
          ]
         ],
         "hovertemplate": "seq_len=160<br>est_type=LSTM<br>index=%{x}<br>FIT=%{y}<br>max_time=%{customdata[0]}<br>seq_est_len=%{customdata[1]}<extra></extra>",
         "legendgroup": "",
         "marker": {
          "color": "#636efa",
          "symbol": "circle"
         },
         "mode": "markers",
         "name": "",
         "orientation": "v",
         "showlegend": false,
         "type": "scatter",
         "x": [
          362,
          364,
          430,
          107
         ],
         "xaxis": "x9",
         "y": [
          98.54275512695312,
          98.2822723388672,
          98.25435638427734,
          96.39469146728516
         ],
         "yaxis": "y9"
        },
        {
         "customdata": [
          [
           3600,
           10
          ],
          [
           3600,
           10
          ],
          [
           3600,
           10
          ],
          [
           3600,
           10
          ]
         ],
         "hovertemplate": "seq_len=160<br>est_type=FF<br>index=%{x}<br>FIT=%{y}<br>max_time=%{customdata[0]}<br>seq_est_len=%{customdata[1]}<extra></extra>",
         "legendgroup": "",
         "marker": {
          "color": "#636efa",
          "symbol": "circle"
         },
         "mode": "markers",
         "name": "",
         "orientation": "v",
         "showlegend": false,
         "type": "scatter",
         "x": [
          278,
          401,
          276,
          104
         ],
         "xaxis": "x10",
         "y": [
          98.61495208740234,
          98.5709228515625,
          98.0537567138672,
          97.6438980102539
         ],
         "yaxis": "y10"
        },
        {
         "customdata": [
          [
           3600,
           10
          ],
          [
           3600,
           10
          ],
          [
           3600,
           10
          ],
          [
           3600,
           10
          ]
         ],
         "hovertemplate": "seq_len=160<br>est_type=ZERO<br>index=%{x}<br>FIT=%{y}<br>max_time=%{customdata[0]}<br>seq_est_len=%{customdata[1]}<extra></extra>",
         "legendgroup": "",
         "marker": {
          "color": "#636efa",
          "symbol": "circle"
         },
         "mode": "markers",
         "name": "",
         "orientation": "v",
         "showlegend": false,
         "type": "scatter",
         "x": [
          545,
          595,
          763,
          672
         ],
         "xaxis": "x11",
         "y": [
          98.12332916259766,
          97.59394073486328,
          97.5702667236328,
          97.52223205566406
         ],
         "yaxis": "y11"
        },
        {
         "customdata": [
          [
           3600,
           10
          ],
          [
           3600,
           10
          ],
          [
           3600,
           10
          ],
          [
           3600,
           10
          ]
         ],
         "hovertemplate": "seq_len=160<br>est_type=RAND<br>index=%{x}<br>FIT=%{y}<br>max_time=%{customdata[0]}<br>seq_est_len=%{customdata[1]}<extra></extra>",
         "legendgroup": "",
         "marker": {
          "color": "#636efa",
          "symbol": "circle"
         },
         "mode": "markers",
         "name": "",
         "orientation": "v",
         "showlegend": false,
         "type": "scatter",
         "x": [
          606,
          699,
          653,
          484
         ],
         "xaxis": "x12",
         "y": [
          97.71148681640624,
          97.71078491210938,
          97.67179870605467,
          97.40978240966795
         ],
         "yaxis": "y12"
        },
        {
         "customdata": [
          [
           3600,
           10
          ],
          [
           3600,
           10
          ],
          [
           3600,
           10
          ],
          [
           3600,
           10
          ]
         ],
         "hovertemplate": "seq_len=40<br>est_type=LSTM<br>index=%{x}<br>FIT=%{y}<br>max_time=%{customdata[0]}<br>seq_est_len=%{customdata[1]}<extra></extra>",
         "legendgroup": "",
         "marker": {
          "color": "#636efa",
          "symbol": "circle"
         },
         "mode": "markers",
         "name": "",
         "orientation": "v",
         "showlegend": false,
         "type": "scatter",
         "x": [
          180,
          418,
          222,
          608
         ],
         "xaxis": "x5",
         "y": [
          98.60214233398438,
          98.40267944335938,
          97.24437713623048,
          97.1458740234375
         ],
         "yaxis": "y5"
        },
        {
         "customdata": [
          [
           3600,
           10
          ],
          [
           3600,
           10
          ],
          [
           3600,
           10
          ],
          [
           3600,
           10
          ]
         ],
         "hovertemplate": "seq_len=40<br>est_type=FF<br>index=%{x}<br>FIT=%{y}<br>max_time=%{customdata[0]}<br>seq_est_len=%{customdata[1]}<extra></extra>",
         "legendgroup": "",
         "marker": {
          "color": "#636efa",
          "symbol": "circle"
         },
         "mode": "markers",
         "name": "",
         "orientation": "v",
         "showlegend": false,
         "type": "scatter",
         "x": [
          717,
          677,
          497,
          458
         ],
         "xaxis": "x6",
         "y": [
          98.50687408447266,
          98.40768432617188,
          98.02117156982422,
          97.40412139892578
         ],
         "yaxis": "y6"
        },
        {
         "customdata": [
          [
           3600,
           10
          ],
          [
           3600,
           10
          ],
          [
           3600,
           10
          ],
          [
           3600,
           10
          ]
         ],
         "hovertemplate": "seq_len=40<br>est_type=ZERO<br>index=%{x}<br>FIT=%{y}<br>max_time=%{customdata[0]}<br>seq_est_len=%{customdata[1]}<extra></extra>",
         "legendgroup": "",
         "marker": {
          "color": "#636efa",
          "symbol": "circle"
         },
         "mode": "markers",
         "name": "",
         "orientation": "v",
         "showlegend": false,
         "type": "scatter",
         "x": [
          590,
          630,
          48,
          266
         ],
         "xaxis": "x7",
         "y": [
          95.57388305664062,
          95.43287658691406,
          95.42581176757812,
          95.38597869873048
         ],
         "yaxis": "y7"
        },
        {
         "customdata": [
          [
           3600,
           10
          ],
          [
           3600,
           10
          ],
          [
           3600,
           10
          ],
          [
           3600,
           10
          ]
         ],
         "hovertemplate": "seq_len=40<br>est_type=RAND<br>index=%{x}<br>FIT=%{y}<br>max_time=%{customdata[0]}<br>seq_est_len=%{customdata[1]}<extra></extra>",
         "legendgroup": "",
         "marker": {
          "color": "#636efa",
          "symbol": "circle"
         },
         "mode": "markers",
         "name": "",
         "orientation": "v",
         "showlegend": false,
         "type": "scatter",
         "x": [
          30,
          390,
          218,
          95
         ],
         "xaxis": "x8",
         "y": [
          95.54147338867188,
          94.84698486328124,
          94.622802734375,
          93.94562530517578
         ],
         "yaxis": "y8"
        },
        {
         "customdata": [
          [
           3600,
           10
          ],
          [
           3600,
           10
          ],
          [
           3600,
           10
          ],
          [
           3600,
           10
          ]
         ],
         "hovertemplate": "seq_len=320<br>est_type=LSTM<br>index=%{x}<br>FIT=%{y}<br>max_time=%{customdata[0]}<br>seq_est_len=%{customdata[1]}<extra></extra>",
         "legendgroup": "",
         "marker": {
          "color": "#636efa",
          "symbol": "circle"
         },
         "mode": "markers",
         "name": "",
         "orientation": "v",
         "showlegend": false,
         "type": "scatter",
         "x": [
          500,
          638,
          514,
          318
         ],
         "xaxis": "x",
         "y": [
          98.13209533691406,
          98.04680633544922,
          97.13885498046876,
          96.92233276367188
         ],
         "yaxis": "y"
        },
        {
         "customdata": [
          [
           3600,
           10
          ],
          [
           3600,
           10
          ],
          [
           3600,
           10
          ],
          [
           3600,
           10
          ]
         ],
         "hovertemplate": "seq_len=320<br>est_type=FF<br>index=%{x}<br>FIT=%{y}<br>max_time=%{customdata[0]}<br>seq_est_len=%{customdata[1]}<extra></extra>",
         "legendgroup": "",
         "marker": {
          "color": "#636efa",
          "symbol": "circle"
         },
         "mode": "markers",
         "name": "",
         "orientation": "v",
         "showlegend": false,
         "type": "scatter",
         "x": [
          579,
          712,
          654,
          171
         ],
         "xaxis": "x2",
         "y": [
          98.33268737792967,
          98.32843780517578,
          98.09984588623048,
          96.64215087890624
         ],
         "yaxis": "y2"
        },
        {
         "customdata": [
          [
           3600,
           10
          ],
          [
           3600,
           10
          ],
          [
           3600,
           10
          ],
          [
           3600,
           10
          ]
         ],
         "hovertemplate": "seq_len=320<br>est_type=ZERO<br>index=%{x}<br>FIT=%{y}<br>max_time=%{customdata[0]}<br>seq_est_len=%{customdata[1]}<extra></extra>",
         "legendgroup": "",
         "marker": {
          "color": "#636efa",
          "symbol": "circle"
         },
         "mode": "markers",
         "name": "",
         "orientation": "v",
         "showlegend": false,
         "type": "scatter",
         "x": [
          496,
          73,
          189,
          424
         ],
         "xaxis": "x3",
         "y": [
          98.17715454101562,
          97.98162078857422,
          97.88536071777344,
          97.3885269165039
         ],
         "yaxis": "y3"
        },
        {
         "customdata": [
          [
           3600,
           10
          ],
          [
           3600,
           10
          ],
          [
           3600,
           10
          ],
          [
           3600,
           10
          ]
         ],
         "hovertemplate": "seq_len=320<br>est_type=RAND<br>index=%{x}<br>FIT=%{y}<br>max_time=%{customdata[0]}<br>seq_est_len=%{customdata[1]}<extra></extra>",
         "legendgroup": "",
         "marker": {
          "color": "#636efa",
          "symbol": "circle"
         },
         "mode": "markers",
         "name": "",
         "orientation": "v",
         "showlegend": false,
         "type": "scatter",
         "x": [
          413,
          6,
          440,
          78
         ],
         "xaxis": "x4",
         "y": [
          97.83209228515624,
          97.7827377319336,
          97.72200012207033,
          97.42546844482422
         ],
         "yaxis": "y4"
        }
       ],
       "layout": {
        "annotations": [
         {
          "font": {},
          "showarrow": false,
          "text": "est_type=LSTM",
          "x": 0.11499999999999999,
          "xanchor": "center",
          "xref": "paper",
          "y": 1,
          "yanchor": "bottom",
          "yref": "paper"
         },
         {
          "font": {},
          "showarrow": false,
          "text": "est_type=FF",
          "x": 0.365,
          "xanchor": "center",
          "xref": "paper",
          "y": 1,
          "yanchor": "bottom",
          "yref": "paper"
         },
         {
          "font": {},
          "showarrow": false,
          "text": "est_type=ZERO",
          "x": 0.615,
          "xanchor": "center",
          "xref": "paper",
          "y": 1,
          "yanchor": "bottom",
          "yref": "paper"
         },
         {
          "font": {},
          "showarrow": false,
          "text": "est_type=RAND",
          "x": 0.865,
          "xanchor": "center",
          "xref": "paper",
          "y": 1,
          "yanchor": "bottom",
          "yref": "paper"
         },
         {
          "font": {},
          "showarrow": false,
          "text": "seq_len=320",
          "textangle": 90,
          "x": 0.98,
          "xanchor": "left",
          "xref": "paper",
          "y": 0.11375,
          "yanchor": "middle",
          "yref": "paper"
         },
         {
          "font": {},
          "showarrow": false,
          "text": "seq_len=40",
          "textangle": 90,
          "x": 0.98,
          "xanchor": "left",
          "xref": "paper",
          "y": 0.37124999999999997,
          "yanchor": "middle",
          "yref": "paper"
         },
         {
          "font": {},
          "showarrow": false,
          "text": "seq_len=160",
          "textangle": 90,
          "x": 0.98,
          "xanchor": "left",
          "xref": "paper",
          "y": 0.62875,
          "yanchor": "middle",
          "yref": "paper"
         },
         {
          "font": {},
          "showarrow": false,
          "text": "seq_len=80",
          "textangle": 90,
          "x": 0.98,
          "xanchor": "left",
          "xref": "paper",
          "y": 0.88625,
          "yanchor": "middle",
          "yref": "paper"
         }
        ],
        "legend": {
         "tracegroupgap": 0
        },
        "margin": {
         "t": 60
        },
        "template": {
         "data": {
          "bar": [
           {
            "error_x": {
             "color": "#2a3f5f"
            },
            "error_y": {
             "color": "#2a3f5f"
            },
            "marker": {
             "line": {
              "color": "#E5ECF6",
              "width": 0.5
             },
             "pattern": {
              "fillmode": "overlay",
              "size": 10,
              "solidity": 0.2
             }
            },
            "type": "bar"
           }
          ],
          "barpolar": [
           {
            "marker": {
             "line": {
              "color": "#E5ECF6",
              "width": 0.5
             },
             "pattern": {
              "fillmode": "overlay",
              "size": 10,
              "solidity": 0.2
             }
            },
            "type": "barpolar"
           }
          ],
          "carpet": [
           {
            "aaxis": {
             "endlinecolor": "#2a3f5f",
             "gridcolor": "white",
             "linecolor": "white",
             "minorgridcolor": "white",
             "startlinecolor": "#2a3f5f"
            },
            "baxis": {
             "endlinecolor": "#2a3f5f",
             "gridcolor": "white",
             "linecolor": "white",
             "minorgridcolor": "white",
             "startlinecolor": "#2a3f5f"
            },
            "type": "carpet"
           }
          ],
          "choropleth": [
           {
            "colorbar": {
             "outlinewidth": 0,
             "ticks": ""
            },
            "type": "choropleth"
           }
          ],
          "contour": [
           {
            "colorbar": {
             "outlinewidth": 0,
             "ticks": ""
            },
            "colorscale": [
             [
              0,
              "#0d0887"
             ],
             [
              0.1111111111111111,
              "#46039f"
             ],
             [
              0.2222222222222222,
              "#7201a8"
             ],
             [
              0.3333333333333333,
              "#9c179e"
             ],
             [
              0.4444444444444444,
              "#bd3786"
             ],
             [
              0.5555555555555556,
              "#d8576b"
             ],
             [
              0.6666666666666666,
              "#ed7953"
             ],
             [
              0.7777777777777778,
              "#fb9f3a"
             ],
             [
              0.8888888888888888,
              "#fdca26"
             ],
             [
              1,
              "#f0f921"
             ]
            ],
            "type": "contour"
           }
          ],
          "contourcarpet": [
           {
            "colorbar": {
             "outlinewidth": 0,
             "ticks": ""
            },
            "type": "contourcarpet"
           }
          ],
          "heatmap": [
           {
            "colorbar": {
             "outlinewidth": 0,
             "ticks": ""
            },
            "colorscale": [
             [
              0,
              "#0d0887"
             ],
             [
              0.1111111111111111,
              "#46039f"
             ],
             [
              0.2222222222222222,
              "#7201a8"
             ],
             [
              0.3333333333333333,
              "#9c179e"
             ],
             [
              0.4444444444444444,
              "#bd3786"
             ],
             [
              0.5555555555555556,
              "#d8576b"
             ],
             [
              0.6666666666666666,
              "#ed7953"
             ],
             [
              0.7777777777777778,
              "#fb9f3a"
             ],
             [
              0.8888888888888888,
              "#fdca26"
             ],
             [
              1,
              "#f0f921"
             ]
            ],
            "type": "heatmap"
           }
          ],
          "heatmapgl": [
           {
            "colorbar": {
             "outlinewidth": 0,
             "ticks": ""
            },
            "colorscale": [
             [
              0,
              "#0d0887"
             ],
             [
              0.1111111111111111,
              "#46039f"
             ],
             [
              0.2222222222222222,
              "#7201a8"
             ],
             [
              0.3333333333333333,
              "#9c179e"
             ],
             [
              0.4444444444444444,
              "#bd3786"
             ],
             [
              0.5555555555555556,
              "#d8576b"
             ],
             [
              0.6666666666666666,
              "#ed7953"
             ],
             [
              0.7777777777777778,
              "#fb9f3a"
             ],
             [
              0.8888888888888888,
              "#fdca26"
             ],
             [
              1,
              "#f0f921"
             ]
            ],
            "type": "heatmapgl"
           }
          ],
          "histogram": [
           {
            "marker": {
             "pattern": {
              "fillmode": "overlay",
              "size": 10,
              "solidity": 0.2
             }
            },
            "type": "histogram"
           }
          ],
          "histogram2d": [
           {
            "colorbar": {
             "outlinewidth": 0,
             "ticks": ""
            },
            "colorscale": [
             [
              0,
              "#0d0887"
             ],
             [
              0.1111111111111111,
              "#46039f"
             ],
             [
              0.2222222222222222,
              "#7201a8"
             ],
             [
              0.3333333333333333,
              "#9c179e"
             ],
             [
              0.4444444444444444,
              "#bd3786"
             ],
             [
              0.5555555555555556,
              "#d8576b"
             ],
             [
              0.6666666666666666,
              "#ed7953"
             ],
             [
              0.7777777777777778,
              "#fb9f3a"
             ],
             [
              0.8888888888888888,
              "#fdca26"
             ],
             [
              1,
              "#f0f921"
             ]
            ],
            "type": "histogram2d"
           }
          ],
          "histogram2dcontour": [
           {
            "colorbar": {
             "outlinewidth": 0,
             "ticks": ""
            },
            "colorscale": [
             [
              0,
              "#0d0887"
             ],
             [
              0.1111111111111111,
              "#46039f"
             ],
             [
              0.2222222222222222,
              "#7201a8"
             ],
             [
              0.3333333333333333,
              "#9c179e"
             ],
             [
              0.4444444444444444,
              "#bd3786"
             ],
             [
              0.5555555555555556,
              "#d8576b"
             ],
             [
              0.6666666666666666,
              "#ed7953"
             ],
             [
              0.7777777777777778,
              "#fb9f3a"
             ],
             [
              0.8888888888888888,
              "#fdca26"
             ],
             [
              1,
              "#f0f921"
             ]
            ],
            "type": "histogram2dcontour"
           }
          ],
          "mesh3d": [
           {
            "colorbar": {
             "outlinewidth": 0,
             "ticks": ""
            },
            "type": "mesh3d"
           }
          ],
          "parcoords": [
           {
            "line": {
             "colorbar": {
              "outlinewidth": 0,
              "ticks": ""
             }
            },
            "type": "parcoords"
           }
          ],
          "pie": [
           {
            "automargin": true,
            "type": "pie"
           }
          ],
          "scatter": [
           {
            "marker": {
             "colorbar": {
              "outlinewidth": 0,
              "ticks": ""
             }
            },
            "type": "scatter"
           }
          ],
          "scatter3d": [
           {
            "line": {
             "colorbar": {
              "outlinewidth": 0,
              "ticks": ""
             }
            },
            "marker": {
             "colorbar": {
              "outlinewidth": 0,
              "ticks": ""
             }
            },
            "type": "scatter3d"
           }
          ],
          "scattercarpet": [
           {
            "marker": {
             "colorbar": {
              "outlinewidth": 0,
              "ticks": ""
             }
            },
            "type": "scattercarpet"
           }
          ],
          "scattergeo": [
           {
            "marker": {
             "colorbar": {
              "outlinewidth": 0,
              "ticks": ""
             }
            },
            "type": "scattergeo"
           }
          ],
          "scattergl": [
           {
            "marker": {
             "colorbar": {
              "outlinewidth": 0,
              "ticks": ""
             }
            },
            "type": "scattergl"
           }
          ],
          "scattermapbox": [
           {
            "marker": {
             "colorbar": {
              "outlinewidth": 0,
              "ticks": ""
             }
            },
            "type": "scattermapbox"
           }
          ],
          "scatterpolar": [
           {
            "marker": {
             "colorbar": {
              "outlinewidth": 0,
              "ticks": ""
             }
            },
            "type": "scatterpolar"
           }
          ],
          "scatterpolargl": [
           {
            "marker": {
             "colorbar": {
              "outlinewidth": 0,
              "ticks": ""
             }
            },
            "type": "scatterpolargl"
           }
          ],
          "scatterternary": [
           {
            "marker": {
             "colorbar": {
              "outlinewidth": 0,
              "ticks": ""
             }
            },
            "type": "scatterternary"
           }
          ],
          "surface": [
           {
            "colorbar": {
             "outlinewidth": 0,
             "ticks": ""
            },
            "colorscale": [
             [
              0,
              "#0d0887"
             ],
             [
              0.1111111111111111,
              "#46039f"
             ],
             [
              0.2222222222222222,
              "#7201a8"
             ],
             [
              0.3333333333333333,
              "#9c179e"
             ],
             [
              0.4444444444444444,
              "#bd3786"
             ],
             [
              0.5555555555555556,
              "#d8576b"
             ],
             [
              0.6666666666666666,
              "#ed7953"
             ],
             [
              0.7777777777777778,
              "#fb9f3a"
             ],
             [
              0.8888888888888888,
              "#fdca26"
             ],
             [
              1,
              "#f0f921"
             ]
            ],
            "type": "surface"
           }
          ],
          "table": [
           {
            "cells": {
             "fill": {
              "color": "#EBF0F8"
             },
             "line": {
              "color": "white"
             }
            },
            "header": {
             "fill": {
              "color": "#C8D4E3"
             },
             "line": {
              "color": "white"
             }
            },
            "type": "table"
           }
          ]
         },
         "layout": {
          "annotationdefaults": {
           "arrowcolor": "#2a3f5f",
           "arrowhead": 0,
           "arrowwidth": 1
          },
          "autotypenumbers": "strict",
          "coloraxis": {
           "colorbar": {
            "outlinewidth": 0,
            "ticks": ""
           }
          },
          "colorscale": {
           "diverging": [
            [
             0,
             "#8e0152"
            ],
            [
             0.1,
             "#c51b7d"
            ],
            [
             0.2,
             "#de77ae"
            ],
            [
             0.3,
             "#f1b6da"
            ],
            [
             0.4,
             "#fde0ef"
            ],
            [
             0.5,
             "#f7f7f7"
            ],
            [
             0.6,
             "#e6f5d0"
            ],
            [
             0.7,
             "#b8e186"
            ],
            [
             0.8,
             "#7fbc41"
            ],
            [
             0.9,
             "#4d9221"
            ],
            [
             1,
             "#276419"
            ]
           ],
           "sequential": [
            [
             0,
             "#0d0887"
            ],
            [
             0.1111111111111111,
             "#46039f"
            ],
            [
             0.2222222222222222,
             "#7201a8"
            ],
            [
             0.3333333333333333,
             "#9c179e"
            ],
            [
             0.4444444444444444,
             "#bd3786"
            ],
            [
             0.5555555555555556,
             "#d8576b"
            ],
            [
             0.6666666666666666,
             "#ed7953"
            ],
            [
             0.7777777777777778,
             "#fb9f3a"
            ],
            [
             0.8888888888888888,
             "#fdca26"
            ],
            [
             1,
             "#f0f921"
            ]
           ],
           "sequentialminus": [
            [
             0,
             "#0d0887"
            ],
            [
             0.1111111111111111,
             "#46039f"
            ],
            [
             0.2222222222222222,
             "#7201a8"
            ],
            [
             0.3333333333333333,
             "#9c179e"
            ],
            [
             0.4444444444444444,
             "#bd3786"
            ],
            [
             0.5555555555555556,
             "#d8576b"
            ],
            [
             0.6666666666666666,
             "#ed7953"
            ],
            [
             0.7777777777777778,
             "#fb9f3a"
            ],
            [
             0.8888888888888888,
             "#fdca26"
            ],
            [
             1,
             "#f0f921"
            ]
           ]
          },
          "colorway": [
           "#636efa",
           "#EF553B",
           "#00cc96",
           "#ab63fa",
           "#FFA15A",
           "#19d3f3",
           "#FF6692",
           "#B6E880",
           "#FF97FF",
           "#FECB52"
          ],
          "font": {
           "color": "#2a3f5f"
          },
          "geo": {
           "bgcolor": "white",
           "lakecolor": "white",
           "landcolor": "#E5ECF6",
           "showlakes": true,
           "showland": true,
           "subunitcolor": "white"
          },
          "hoverlabel": {
           "align": "left"
          },
          "hovermode": "closest",
          "mapbox": {
           "style": "light"
          },
          "paper_bgcolor": "white",
          "plot_bgcolor": "#E5ECF6",
          "polar": {
           "angularaxis": {
            "gridcolor": "white",
            "linecolor": "white",
            "ticks": ""
           },
           "bgcolor": "#E5ECF6",
           "radialaxis": {
            "gridcolor": "white",
            "linecolor": "white",
            "ticks": ""
           }
          },
          "scene": {
           "xaxis": {
            "backgroundcolor": "#E5ECF6",
            "gridcolor": "white",
            "gridwidth": 2,
            "linecolor": "white",
            "showbackground": true,
            "ticks": "",
            "zerolinecolor": "white"
           },
           "yaxis": {
            "backgroundcolor": "#E5ECF6",
            "gridcolor": "white",
            "gridwidth": 2,
            "linecolor": "white",
            "showbackground": true,
            "ticks": "",
            "zerolinecolor": "white"
           },
           "zaxis": {
            "backgroundcolor": "#E5ECF6",
            "gridcolor": "white",
            "gridwidth": 2,
            "linecolor": "white",
            "showbackground": true,
            "ticks": "",
            "zerolinecolor": "white"
           }
          },
          "shapedefaults": {
           "line": {
            "color": "#2a3f5f"
           }
          },
          "ternary": {
           "aaxis": {
            "gridcolor": "white",
            "linecolor": "white",
            "ticks": ""
           },
           "baxis": {
            "gridcolor": "white",
            "linecolor": "white",
            "ticks": ""
           },
           "bgcolor": "#E5ECF6",
           "caxis": {
            "gridcolor": "white",
            "linecolor": "white",
            "ticks": ""
           }
          },
          "title": {
           "x": 0.05
          },
          "xaxis": {
           "automargin": true,
           "gridcolor": "white",
           "linecolor": "white",
           "ticks": "",
           "title": {
            "standoff": 15
           },
           "zerolinecolor": "white",
           "zerolinewidth": 2
          },
          "yaxis": {
           "automargin": true,
           "gridcolor": "white",
           "linecolor": "white",
           "ticks": "",
           "title": {
            "standoff": 15
           },
           "zerolinecolor": "white",
           "zerolinewidth": 2
          }
         }
        },
        "xaxis": {
         "anchor": "y",
         "domain": [
          0,
          0.22999999999999998
         ],
         "title": {
          "text": "index"
         }
        },
        "xaxis10": {
         "anchor": "y10",
         "domain": [
          0.24999999999999997,
          0.48
         ],
         "matches": "x",
         "showticklabels": false
        },
        "xaxis11": {
         "anchor": "y11",
         "domain": [
          0.49999999999999994,
          0.73
         ],
         "matches": "x",
         "showticklabels": false
        },
        "xaxis12": {
         "anchor": "y12",
         "domain": [
          0.75,
          0.98
         ],
         "matches": "x",
         "showticklabels": false
        },
        "xaxis13": {
         "anchor": "y13",
         "domain": [
          0,
          0.22999999999999998
         ],
         "matches": "x",
         "showticklabels": false
        },
        "xaxis14": {
         "anchor": "y14",
         "domain": [
          0.24999999999999997,
          0.48
         ],
         "matches": "x",
         "showticklabels": false
        },
        "xaxis15": {
         "anchor": "y15",
         "domain": [
          0.49999999999999994,
          0.73
         ],
         "matches": "x",
         "showticklabels": false
        },
        "xaxis16": {
         "anchor": "y16",
         "domain": [
          0.75,
          0.98
         ],
         "matches": "x",
         "showticklabels": false
        },
        "xaxis2": {
         "anchor": "y2",
         "domain": [
          0.24999999999999997,
          0.48
         ],
         "matches": "x",
         "title": {
          "text": "index"
         }
        },
        "xaxis3": {
         "anchor": "y3",
         "domain": [
          0.49999999999999994,
          0.73
         ],
         "matches": "x",
         "title": {
          "text": "index"
         }
        },
        "xaxis4": {
         "anchor": "y4",
         "domain": [
          0.75,
          0.98
         ],
         "matches": "x",
         "title": {
          "text": "index"
         }
        },
        "xaxis5": {
         "anchor": "y5",
         "domain": [
          0,
          0.22999999999999998
         ],
         "matches": "x",
         "showticklabels": false
        },
        "xaxis6": {
         "anchor": "y6",
         "domain": [
          0.24999999999999997,
          0.48
         ],
         "matches": "x",
         "showticklabels": false
        },
        "xaxis7": {
         "anchor": "y7",
         "domain": [
          0.49999999999999994,
          0.73
         ],
         "matches": "x",
         "showticklabels": false
        },
        "xaxis8": {
         "anchor": "y8",
         "domain": [
          0.75,
          0.98
         ],
         "matches": "x",
         "showticklabels": false
        },
        "xaxis9": {
         "anchor": "y9",
         "domain": [
          0,
          0.22999999999999998
         ],
         "matches": "x",
         "showticklabels": false
        },
        "yaxis": {
         "anchor": "x",
         "domain": [
          0,
          0.2275
         ],
         "title": {
          "text": "FIT"
         }
        },
        "yaxis10": {
         "anchor": "x10",
         "domain": [
          0.515,
          0.7425
         ],
         "matches": "y",
         "showticklabels": false
        },
        "yaxis11": {
         "anchor": "x11",
         "domain": [
          0.515,
          0.7425
         ],
         "matches": "y",
         "showticklabels": false
        },
        "yaxis12": {
         "anchor": "x12",
         "domain": [
          0.515,
          0.7425
         ],
         "matches": "y",
         "showticklabels": false
        },
        "yaxis13": {
         "anchor": "x13",
         "domain": [
          0.7725,
          1
         ],
         "matches": "y",
         "title": {
          "text": "FIT"
         }
        },
        "yaxis14": {
         "anchor": "x14",
         "domain": [
          0.7725,
          1
         ],
         "matches": "y",
         "showticklabels": false
        },
        "yaxis15": {
         "anchor": "x15",
         "domain": [
          0.7725,
          1
         ],
         "matches": "y",
         "showticklabels": false
        },
        "yaxis16": {
         "anchor": "x16",
         "domain": [
          0.7725,
          1
         ],
         "matches": "y",
         "showticklabels": false
        },
        "yaxis2": {
         "anchor": "x2",
         "domain": [
          0,
          0.2275
         ],
         "matches": "y",
         "showticklabels": false
        },
        "yaxis3": {
         "anchor": "x3",
         "domain": [
          0,
          0.2275
         ],
         "matches": "y",
         "showticklabels": false
        },
        "yaxis4": {
         "anchor": "x4",
         "domain": [
          0,
          0.2275
         ],
         "matches": "y",
         "showticklabels": false
        },
        "yaxis5": {
         "anchor": "x5",
         "domain": [
          0.2575,
          0.485
         ],
         "matches": "y",
         "title": {
          "text": "FIT"
         }
        },
        "yaxis6": {
         "anchor": "x6",
         "domain": [
          0.2575,
          0.485
         ],
         "matches": "y",
         "showticklabels": false
        },
        "yaxis7": {
         "anchor": "x7",
         "domain": [
          0.2575,
          0.485
         ],
         "matches": "y",
         "showticklabels": false
        },
        "yaxis8": {
         "anchor": "x8",
         "domain": [
          0.2575,
          0.485
         ],
         "matches": "y",
         "showticklabels": false
        },
        "yaxis9": {
         "anchor": "x9",
         "domain": [
          0.515,
          0.7425
         ],
         "matches": "y",
         "title": {
          "text": "FIT"
         }
        }
       }
      },
      "text/html": [
       "<div>                            <div id=\"5042d936-b6d5-4a25-85b6-7bc3b85b3d37\" class=\"plotly-graph-div\" style=\"height:525px; width:100%;\"></div>            <script type=\"text/javascript\">                require([\"plotly\"], function(Plotly) {                    window.PLOTLYENV=window.PLOTLYENV || {};                                    if (document.getElementById(\"5042d936-b6d5-4a25-85b6-7bc3b85b3d37\")) {                    Plotly.newPlot(                        \"5042d936-b6d5-4a25-85b6-7bc3b85b3d37\",                        [{\"customdata\":[[3600,10],[3600,10],[3600,10],[3600,10]],\"hovertemplate\":\"seq_len=80<br>est_type=LSTM<br>index=%{x}<br>FIT=%{y}<br>max_time=%{customdata[0]}<br>seq_est_len=%{customdata[1]}<extra></extra>\",\"legendgroup\":\"\",\"marker\":{\"color\":\"#636efa\",\"symbol\":\"circle\"},\"mode\":\"markers\",\"name\":\"\",\"orientation\":\"v\",\"showlegend\":false,\"x\":[303,186,132,494],\"xaxis\":\"x13\",\"y\":[98.64789581298828,98.60332489013672,97.7786636352539,97.68995666503906],\"yaxis\":\"y13\",\"type\":\"scatter\"},{\"customdata\":[[3600,10],[3600,10],[3600,10],[3600,10]],\"hovertemplate\":\"seq_len=80<br>est_type=FF<br>index=%{x}<br>FIT=%{y}<br>max_time=%{customdata[0]}<br>seq_est_len=%{customdata[1]}<extra></extra>\",\"legendgroup\":\"\",\"marker\":{\"color\":\"#636efa\",\"symbol\":\"circle\"},\"mode\":\"markers\",\"name\":\"\",\"orientation\":\"v\",\"showlegend\":false,\"x\":[695,404,269,743],\"xaxis\":\"x14\",\"y\":[98.62411499023438,98.04437255859376,97.85002899169922,97.64134216308594],\"yaxis\":\"y14\",\"type\":\"scatter\"},{\"customdata\":[[3600,10],[3600,10],[3600,10],[3600,10]],\"hovertemplate\":\"seq_len=80<br>est_type=ZERO<br>index=%{x}<br>FIT=%{y}<br>max_time=%{customdata[0]}<br>seq_est_len=%{customdata[1]}<extra></extra>\",\"legendgroup\":\"\",\"marker\":{\"color\":\"#636efa\",\"symbol\":\"circle\"},\"mode\":\"markers\",\"name\":\"\",\"orientation\":\"v\",\"showlegend\":false,\"x\":[398,7,110,450],\"xaxis\":\"x15\",\"y\":[97.56394958496094,97.03829193115234,96.90818786621094,96.7747802734375],\"yaxis\":\"y15\",\"type\":\"scatter\"},{\"customdata\":[[3600,10],[3600,10],[3600,10],[3600,10]],\"hovertemplate\":\"seq_len=80<br>est_type=RAND<br>index=%{x}<br>FIT=%{y}<br>max_time=%{customdata[0]}<br>seq_est_len=%{customdata[1]}<extra></extra>\",\"legendgroup\":\"\",\"marker\":{\"color\":\"#636efa\",\"symbol\":\"circle\"},\"mode\":\"markers\",\"name\":\"\",\"orientation\":\"v\",\"showlegend\":false,\"x\":[556,754,651,568],\"xaxis\":\"x16\",\"y\":[96.8483657836914,96.67086791992188,96.4291000366211,96.14079284667967],\"yaxis\":\"y16\",\"type\":\"scatter\"},{\"customdata\":[[3600,10],[3600,10],[3600,10],[3600,10]],\"hovertemplate\":\"seq_len=160<br>est_type=LSTM<br>index=%{x}<br>FIT=%{y}<br>max_time=%{customdata[0]}<br>seq_est_len=%{customdata[1]}<extra></extra>\",\"legendgroup\":\"\",\"marker\":{\"color\":\"#636efa\",\"symbol\":\"circle\"},\"mode\":\"markers\",\"name\":\"\",\"orientation\":\"v\",\"showlegend\":false,\"x\":[362,364,430,107],\"xaxis\":\"x9\",\"y\":[98.54275512695312,98.2822723388672,98.25435638427734,96.39469146728516],\"yaxis\":\"y9\",\"type\":\"scatter\"},{\"customdata\":[[3600,10],[3600,10],[3600,10],[3600,10]],\"hovertemplate\":\"seq_len=160<br>est_type=FF<br>index=%{x}<br>FIT=%{y}<br>max_time=%{customdata[0]}<br>seq_est_len=%{customdata[1]}<extra></extra>\",\"legendgroup\":\"\",\"marker\":{\"color\":\"#636efa\",\"symbol\":\"circle\"},\"mode\":\"markers\",\"name\":\"\",\"orientation\":\"v\",\"showlegend\":false,\"x\":[278,401,276,104],\"xaxis\":\"x10\",\"y\":[98.61495208740234,98.5709228515625,98.0537567138672,97.6438980102539],\"yaxis\":\"y10\",\"type\":\"scatter\"},{\"customdata\":[[3600,10],[3600,10],[3600,10],[3600,10]],\"hovertemplate\":\"seq_len=160<br>est_type=ZERO<br>index=%{x}<br>FIT=%{y}<br>max_time=%{customdata[0]}<br>seq_est_len=%{customdata[1]}<extra></extra>\",\"legendgroup\":\"\",\"marker\":{\"color\":\"#636efa\",\"symbol\":\"circle\"},\"mode\":\"markers\",\"name\":\"\",\"orientation\":\"v\",\"showlegend\":false,\"x\":[545,595,763,672],\"xaxis\":\"x11\",\"y\":[98.12332916259766,97.59394073486328,97.5702667236328,97.52223205566406],\"yaxis\":\"y11\",\"type\":\"scatter\"},{\"customdata\":[[3600,10],[3600,10],[3600,10],[3600,10]],\"hovertemplate\":\"seq_len=160<br>est_type=RAND<br>index=%{x}<br>FIT=%{y}<br>max_time=%{customdata[0]}<br>seq_est_len=%{customdata[1]}<extra></extra>\",\"legendgroup\":\"\",\"marker\":{\"color\":\"#636efa\",\"symbol\":\"circle\"},\"mode\":\"markers\",\"name\":\"\",\"orientation\":\"v\",\"showlegend\":false,\"x\":[606,699,653,484],\"xaxis\":\"x12\",\"y\":[97.71148681640624,97.71078491210938,97.67179870605467,97.40978240966795],\"yaxis\":\"y12\",\"type\":\"scatter\"},{\"customdata\":[[3600,10],[3600,10],[3600,10],[3600,10]],\"hovertemplate\":\"seq_len=40<br>est_type=LSTM<br>index=%{x}<br>FIT=%{y}<br>max_time=%{customdata[0]}<br>seq_est_len=%{customdata[1]}<extra></extra>\",\"legendgroup\":\"\",\"marker\":{\"color\":\"#636efa\",\"symbol\":\"circle\"},\"mode\":\"markers\",\"name\":\"\",\"orientation\":\"v\",\"showlegend\":false,\"x\":[180,418,222,608],\"xaxis\":\"x5\",\"y\":[98.60214233398438,98.40267944335938,97.24437713623048,97.1458740234375],\"yaxis\":\"y5\",\"type\":\"scatter\"},{\"customdata\":[[3600,10],[3600,10],[3600,10],[3600,10]],\"hovertemplate\":\"seq_len=40<br>est_type=FF<br>index=%{x}<br>FIT=%{y}<br>max_time=%{customdata[0]}<br>seq_est_len=%{customdata[1]}<extra></extra>\",\"legendgroup\":\"\",\"marker\":{\"color\":\"#636efa\",\"symbol\":\"circle\"},\"mode\":\"markers\",\"name\":\"\",\"orientation\":\"v\",\"showlegend\":false,\"x\":[717,677,497,458],\"xaxis\":\"x6\",\"y\":[98.50687408447266,98.40768432617188,98.02117156982422,97.40412139892578],\"yaxis\":\"y6\",\"type\":\"scatter\"},{\"customdata\":[[3600,10],[3600,10],[3600,10],[3600,10]],\"hovertemplate\":\"seq_len=40<br>est_type=ZERO<br>index=%{x}<br>FIT=%{y}<br>max_time=%{customdata[0]}<br>seq_est_len=%{customdata[1]}<extra></extra>\",\"legendgroup\":\"\",\"marker\":{\"color\":\"#636efa\",\"symbol\":\"circle\"},\"mode\":\"markers\",\"name\":\"\",\"orientation\":\"v\",\"showlegend\":false,\"x\":[590,630,48,266],\"xaxis\":\"x7\",\"y\":[95.57388305664062,95.43287658691406,95.42581176757812,95.38597869873048],\"yaxis\":\"y7\",\"type\":\"scatter\"},{\"customdata\":[[3600,10],[3600,10],[3600,10],[3600,10]],\"hovertemplate\":\"seq_len=40<br>est_type=RAND<br>index=%{x}<br>FIT=%{y}<br>max_time=%{customdata[0]}<br>seq_est_len=%{customdata[1]}<extra></extra>\",\"legendgroup\":\"\",\"marker\":{\"color\":\"#636efa\",\"symbol\":\"circle\"},\"mode\":\"markers\",\"name\":\"\",\"orientation\":\"v\",\"showlegend\":false,\"x\":[30,390,218,95],\"xaxis\":\"x8\",\"y\":[95.54147338867188,94.84698486328124,94.622802734375,93.94562530517578],\"yaxis\":\"y8\",\"type\":\"scatter\"},{\"customdata\":[[3600,10],[3600,10],[3600,10],[3600,10]],\"hovertemplate\":\"seq_len=320<br>est_type=LSTM<br>index=%{x}<br>FIT=%{y}<br>max_time=%{customdata[0]}<br>seq_est_len=%{customdata[1]}<extra></extra>\",\"legendgroup\":\"\",\"marker\":{\"color\":\"#636efa\",\"symbol\":\"circle\"},\"mode\":\"markers\",\"name\":\"\",\"orientation\":\"v\",\"showlegend\":false,\"x\":[500,638,514,318],\"xaxis\":\"x\",\"y\":[98.13209533691406,98.04680633544922,97.13885498046876,96.92233276367188],\"yaxis\":\"y\",\"type\":\"scatter\"},{\"customdata\":[[3600,10],[3600,10],[3600,10],[3600,10]],\"hovertemplate\":\"seq_len=320<br>est_type=FF<br>index=%{x}<br>FIT=%{y}<br>max_time=%{customdata[0]}<br>seq_est_len=%{customdata[1]}<extra></extra>\",\"legendgroup\":\"\",\"marker\":{\"color\":\"#636efa\",\"symbol\":\"circle\"},\"mode\":\"markers\",\"name\":\"\",\"orientation\":\"v\",\"showlegend\":false,\"x\":[579,712,654,171],\"xaxis\":\"x2\",\"y\":[98.33268737792967,98.32843780517578,98.09984588623048,96.64215087890624],\"yaxis\":\"y2\",\"type\":\"scatter\"},{\"customdata\":[[3600,10],[3600,10],[3600,10],[3600,10]],\"hovertemplate\":\"seq_len=320<br>est_type=ZERO<br>index=%{x}<br>FIT=%{y}<br>max_time=%{customdata[0]}<br>seq_est_len=%{customdata[1]}<extra></extra>\",\"legendgroup\":\"\",\"marker\":{\"color\":\"#636efa\",\"symbol\":\"circle\"},\"mode\":\"markers\",\"name\":\"\",\"orientation\":\"v\",\"showlegend\":false,\"x\":[496,73,189,424],\"xaxis\":\"x3\",\"y\":[98.17715454101562,97.98162078857422,97.88536071777344,97.3885269165039],\"yaxis\":\"y3\",\"type\":\"scatter\"},{\"customdata\":[[3600,10],[3600,10],[3600,10],[3600,10]],\"hovertemplate\":\"seq_len=320<br>est_type=RAND<br>index=%{x}<br>FIT=%{y}<br>max_time=%{customdata[0]}<br>seq_est_len=%{customdata[1]}<extra></extra>\",\"legendgroup\":\"\",\"marker\":{\"color\":\"#636efa\",\"symbol\":\"circle\"},\"mode\":\"markers\",\"name\":\"\",\"orientation\":\"v\",\"showlegend\":false,\"x\":[413,6,440,78],\"xaxis\":\"x4\",\"y\":[97.83209228515624,97.7827377319336,97.72200012207033,97.42546844482422],\"yaxis\":\"y4\",\"type\":\"scatter\"}],                        {\"template\":{\"data\":{\"bar\":[{\"error_x\":{\"color\":\"#2a3f5f\"},\"error_y\":{\"color\":\"#2a3f5f\"},\"marker\":{\"line\":{\"color\":\"#E5ECF6\",\"width\":0.5},\"pattern\":{\"fillmode\":\"overlay\",\"size\":10,\"solidity\":0.2}},\"type\":\"bar\"}],\"barpolar\":[{\"marker\":{\"line\":{\"color\":\"#E5ECF6\",\"width\":0.5},\"pattern\":{\"fillmode\":\"overlay\",\"size\":10,\"solidity\":0.2}},\"type\":\"barpolar\"}],\"carpet\":[{\"aaxis\":{\"endlinecolor\":\"#2a3f5f\",\"gridcolor\":\"white\",\"linecolor\":\"white\",\"minorgridcolor\":\"white\",\"startlinecolor\":\"#2a3f5f\"},\"baxis\":{\"endlinecolor\":\"#2a3f5f\",\"gridcolor\":\"white\",\"linecolor\":\"white\",\"minorgridcolor\":\"white\",\"startlinecolor\":\"#2a3f5f\"},\"type\":\"carpet\"}],\"choropleth\":[{\"colorbar\":{\"outlinewidth\":0,\"ticks\":\"\"},\"type\":\"choropleth\"}],\"contour\":[{\"colorbar\":{\"outlinewidth\":0,\"ticks\":\"\"},\"colorscale\":[[0.0,\"#0d0887\"],[0.1111111111111111,\"#46039f\"],[0.2222222222222222,\"#7201a8\"],[0.3333333333333333,\"#9c179e\"],[0.4444444444444444,\"#bd3786\"],[0.5555555555555556,\"#d8576b\"],[0.6666666666666666,\"#ed7953\"],[0.7777777777777778,\"#fb9f3a\"],[0.8888888888888888,\"#fdca26\"],[1.0,\"#f0f921\"]],\"type\":\"contour\"}],\"contourcarpet\":[{\"colorbar\":{\"outlinewidth\":0,\"ticks\":\"\"},\"type\":\"contourcarpet\"}],\"heatmap\":[{\"colorbar\":{\"outlinewidth\":0,\"ticks\":\"\"},\"colorscale\":[[0.0,\"#0d0887\"],[0.1111111111111111,\"#46039f\"],[0.2222222222222222,\"#7201a8\"],[0.3333333333333333,\"#9c179e\"],[0.4444444444444444,\"#bd3786\"],[0.5555555555555556,\"#d8576b\"],[0.6666666666666666,\"#ed7953\"],[0.7777777777777778,\"#fb9f3a\"],[0.8888888888888888,\"#fdca26\"],[1.0,\"#f0f921\"]],\"type\":\"heatmap\"}],\"heatmapgl\":[{\"colorbar\":{\"outlinewidth\":0,\"ticks\":\"\"},\"colorscale\":[[0.0,\"#0d0887\"],[0.1111111111111111,\"#46039f\"],[0.2222222222222222,\"#7201a8\"],[0.3333333333333333,\"#9c179e\"],[0.4444444444444444,\"#bd3786\"],[0.5555555555555556,\"#d8576b\"],[0.6666666666666666,\"#ed7953\"],[0.7777777777777778,\"#fb9f3a\"],[0.8888888888888888,\"#fdca26\"],[1.0,\"#f0f921\"]],\"type\":\"heatmapgl\"}],\"histogram\":[{\"marker\":{\"pattern\":{\"fillmode\":\"overlay\",\"size\":10,\"solidity\":0.2}},\"type\":\"histogram\"}],\"histogram2d\":[{\"colorbar\":{\"outlinewidth\":0,\"ticks\":\"\"},\"colorscale\":[[0.0,\"#0d0887\"],[0.1111111111111111,\"#46039f\"],[0.2222222222222222,\"#7201a8\"],[0.3333333333333333,\"#9c179e\"],[0.4444444444444444,\"#bd3786\"],[0.5555555555555556,\"#d8576b\"],[0.6666666666666666,\"#ed7953\"],[0.7777777777777778,\"#fb9f3a\"],[0.8888888888888888,\"#fdca26\"],[1.0,\"#f0f921\"]],\"type\":\"histogram2d\"}],\"histogram2dcontour\":[{\"colorbar\":{\"outlinewidth\":0,\"ticks\":\"\"},\"colorscale\":[[0.0,\"#0d0887\"],[0.1111111111111111,\"#46039f\"],[0.2222222222222222,\"#7201a8\"],[0.3333333333333333,\"#9c179e\"],[0.4444444444444444,\"#bd3786\"],[0.5555555555555556,\"#d8576b\"],[0.6666666666666666,\"#ed7953\"],[0.7777777777777778,\"#fb9f3a\"],[0.8888888888888888,\"#fdca26\"],[1.0,\"#f0f921\"]],\"type\":\"histogram2dcontour\"}],\"mesh3d\":[{\"colorbar\":{\"outlinewidth\":0,\"ticks\":\"\"},\"type\":\"mesh3d\"}],\"parcoords\":[{\"line\":{\"colorbar\":{\"outlinewidth\":0,\"ticks\":\"\"}},\"type\":\"parcoords\"}],\"pie\":[{\"automargin\":true,\"type\":\"pie\"}],\"scatter\":[{\"marker\":{\"colorbar\":{\"outlinewidth\":0,\"ticks\":\"\"}},\"type\":\"scatter\"}],\"scatter3d\":[{\"line\":{\"colorbar\":{\"outlinewidth\":0,\"ticks\":\"\"}},\"marker\":{\"colorbar\":{\"outlinewidth\":0,\"ticks\":\"\"}},\"type\":\"scatter3d\"}],\"scattercarpet\":[{\"marker\":{\"colorbar\":{\"outlinewidth\":0,\"ticks\":\"\"}},\"type\":\"scattercarpet\"}],\"scattergeo\":[{\"marker\":{\"colorbar\":{\"outlinewidth\":0,\"ticks\":\"\"}},\"type\":\"scattergeo\"}],\"scattergl\":[{\"marker\":{\"colorbar\":{\"outlinewidth\":0,\"ticks\":\"\"}},\"type\":\"scattergl\"}],\"scattermapbox\":[{\"marker\":{\"colorbar\":{\"outlinewidth\":0,\"ticks\":\"\"}},\"type\":\"scattermapbox\"}],\"scatterpolar\":[{\"marker\":{\"colorbar\":{\"outlinewidth\":0,\"ticks\":\"\"}},\"type\":\"scatterpolar\"}],\"scatterpolargl\":[{\"marker\":{\"colorbar\":{\"outlinewidth\":0,\"ticks\":\"\"}},\"type\":\"scatterpolargl\"}],\"scatterternary\":[{\"marker\":{\"colorbar\":{\"outlinewidth\":0,\"ticks\":\"\"}},\"type\":\"scatterternary\"}],\"surface\":[{\"colorbar\":{\"outlinewidth\":0,\"ticks\":\"\"},\"colorscale\":[[0.0,\"#0d0887\"],[0.1111111111111111,\"#46039f\"],[0.2222222222222222,\"#7201a8\"],[0.3333333333333333,\"#9c179e\"],[0.4444444444444444,\"#bd3786\"],[0.5555555555555556,\"#d8576b\"],[0.6666666666666666,\"#ed7953\"],[0.7777777777777778,\"#fb9f3a\"],[0.8888888888888888,\"#fdca26\"],[1.0,\"#f0f921\"]],\"type\":\"surface\"}],\"table\":[{\"cells\":{\"fill\":{\"color\":\"#EBF0F8\"},\"line\":{\"color\":\"white\"}},\"header\":{\"fill\":{\"color\":\"#C8D4E3\"},\"line\":{\"color\":\"white\"}},\"type\":\"table\"}]},\"layout\":{\"annotationdefaults\":{\"arrowcolor\":\"#2a3f5f\",\"arrowhead\":0,\"arrowwidth\":1},\"autotypenumbers\":\"strict\",\"coloraxis\":{\"colorbar\":{\"outlinewidth\":0,\"ticks\":\"\"}},\"colorscale\":{\"diverging\":[[0,\"#8e0152\"],[0.1,\"#c51b7d\"],[0.2,\"#de77ae\"],[0.3,\"#f1b6da\"],[0.4,\"#fde0ef\"],[0.5,\"#f7f7f7\"],[0.6,\"#e6f5d0\"],[0.7,\"#b8e186\"],[0.8,\"#7fbc41\"],[0.9,\"#4d9221\"],[1,\"#276419\"]],\"sequential\":[[0.0,\"#0d0887\"],[0.1111111111111111,\"#46039f\"],[0.2222222222222222,\"#7201a8\"],[0.3333333333333333,\"#9c179e\"],[0.4444444444444444,\"#bd3786\"],[0.5555555555555556,\"#d8576b\"],[0.6666666666666666,\"#ed7953\"],[0.7777777777777778,\"#fb9f3a\"],[0.8888888888888888,\"#fdca26\"],[1.0,\"#f0f921\"]],\"sequentialminus\":[[0.0,\"#0d0887\"],[0.1111111111111111,\"#46039f\"],[0.2222222222222222,\"#7201a8\"],[0.3333333333333333,\"#9c179e\"],[0.4444444444444444,\"#bd3786\"],[0.5555555555555556,\"#d8576b\"],[0.6666666666666666,\"#ed7953\"],[0.7777777777777778,\"#fb9f3a\"],[0.8888888888888888,\"#fdca26\"],[1.0,\"#f0f921\"]]},\"colorway\":[\"#636efa\",\"#EF553B\",\"#00cc96\",\"#ab63fa\",\"#FFA15A\",\"#19d3f3\",\"#FF6692\",\"#B6E880\",\"#FF97FF\",\"#FECB52\"],\"font\":{\"color\":\"#2a3f5f\"},\"geo\":{\"bgcolor\":\"white\",\"lakecolor\":\"white\",\"landcolor\":\"#E5ECF6\",\"showlakes\":true,\"showland\":true,\"subunitcolor\":\"white\"},\"hoverlabel\":{\"align\":\"left\"},\"hovermode\":\"closest\",\"mapbox\":{\"style\":\"light\"},\"paper_bgcolor\":\"white\",\"plot_bgcolor\":\"#E5ECF6\",\"polar\":{\"angularaxis\":{\"gridcolor\":\"white\",\"linecolor\":\"white\",\"ticks\":\"\"},\"bgcolor\":\"#E5ECF6\",\"radialaxis\":{\"gridcolor\":\"white\",\"linecolor\":\"white\",\"ticks\":\"\"}},\"scene\":{\"xaxis\":{\"backgroundcolor\":\"#E5ECF6\",\"gridcolor\":\"white\",\"gridwidth\":2,\"linecolor\":\"white\",\"showbackground\":true,\"ticks\":\"\",\"zerolinecolor\":\"white\"},\"yaxis\":{\"backgroundcolor\":\"#E5ECF6\",\"gridcolor\":\"white\",\"gridwidth\":2,\"linecolor\":\"white\",\"showbackground\":true,\"ticks\":\"\",\"zerolinecolor\":\"white\"},\"zaxis\":{\"backgroundcolor\":\"#E5ECF6\",\"gridcolor\":\"white\",\"gridwidth\":2,\"linecolor\":\"white\",\"showbackground\":true,\"ticks\":\"\",\"zerolinecolor\":\"white\"}},\"shapedefaults\":{\"line\":{\"color\":\"#2a3f5f\"}},\"ternary\":{\"aaxis\":{\"gridcolor\":\"white\",\"linecolor\":\"white\",\"ticks\":\"\"},\"baxis\":{\"gridcolor\":\"white\",\"linecolor\":\"white\",\"ticks\":\"\"},\"bgcolor\":\"#E5ECF6\",\"caxis\":{\"gridcolor\":\"white\",\"linecolor\":\"white\",\"ticks\":\"\"}},\"title\":{\"x\":0.05},\"xaxis\":{\"automargin\":true,\"gridcolor\":\"white\",\"linecolor\":\"white\",\"ticks\":\"\",\"title\":{\"standoff\":15},\"zerolinecolor\":\"white\",\"zerolinewidth\":2},\"yaxis\":{\"automargin\":true,\"gridcolor\":\"white\",\"linecolor\":\"white\",\"ticks\":\"\",\"title\":{\"standoff\":15},\"zerolinecolor\":\"white\",\"zerolinewidth\":2}}},\"xaxis\":{\"anchor\":\"y\",\"domain\":[0.0,0.22999999999999998],\"title\":{\"text\":\"index\"}},\"yaxis\":{\"anchor\":\"x\",\"domain\":[0.0,0.2275],\"title\":{\"text\":\"FIT\"}},\"xaxis2\":{\"anchor\":\"y2\",\"domain\":[0.24999999999999997,0.48],\"matches\":\"x\",\"title\":{\"text\":\"index\"}},\"yaxis2\":{\"anchor\":\"x2\",\"domain\":[0.0,0.2275],\"matches\":\"y\",\"showticklabels\":false},\"xaxis3\":{\"anchor\":\"y3\",\"domain\":[0.49999999999999994,0.73],\"matches\":\"x\",\"title\":{\"text\":\"index\"}},\"yaxis3\":{\"anchor\":\"x3\",\"domain\":[0.0,0.2275],\"matches\":\"y\",\"showticklabels\":false},\"xaxis4\":{\"anchor\":\"y4\",\"domain\":[0.75,0.98],\"matches\":\"x\",\"title\":{\"text\":\"index\"}},\"yaxis4\":{\"anchor\":\"x4\",\"domain\":[0.0,0.2275],\"matches\":\"y\",\"showticklabels\":false},\"xaxis5\":{\"anchor\":\"y5\",\"domain\":[0.0,0.22999999999999998],\"matches\":\"x\",\"showticklabels\":false},\"yaxis5\":{\"anchor\":\"x5\",\"domain\":[0.2575,0.485],\"matches\":\"y\",\"title\":{\"text\":\"FIT\"}},\"xaxis6\":{\"anchor\":\"y6\",\"domain\":[0.24999999999999997,0.48],\"matches\":\"x\",\"showticklabels\":false},\"yaxis6\":{\"anchor\":\"x6\",\"domain\":[0.2575,0.485],\"matches\":\"y\",\"showticklabels\":false},\"xaxis7\":{\"anchor\":\"y7\",\"domain\":[0.49999999999999994,0.73],\"matches\":\"x\",\"showticklabels\":false},\"yaxis7\":{\"anchor\":\"x7\",\"domain\":[0.2575,0.485],\"matches\":\"y\",\"showticklabels\":false},\"xaxis8\":{\"anchor\":\"y8\",\"domain\":[0.75,0.98],\"matches\":\"x\",\"showticklabels\":false},\"yaxis8\":{\"anchor\":\"x8\",\"domain\":[0.2575,0.485],\"matches\":\"y\",\"showticklabels\":false},\"xaxis9\":{\"anchor\":\"y9\",\"domain\":[0.0,0.22999999999999998],\"matches\":\"x\",\"showticklabels\":false},\"yaxis9\":{\"anchor\":\"x9\",\"domain\":[0.515,0.7425],\"matches\":\"y\",\"title\":{\"text\":\"FIT\"}},\"xaxis10\":{\"anchor\":\"y10\",\"domain\":[0.24999999999999997,0.48],\"matches\":\"x\",\"showticklabels\":false},\"yaxis10\":{\"anchor\":\"x10\",\"domain\":[0.515,0.7425],\"matches\":\"y\",\"showticklabels\":false},\"xaxis11\":{\"anchor\":\"y11\",\"domain\":[0.49999999999999994,0.73],\"matches\":\"x\",\"showticklabels\":false},\"yaxis11\":{\"anchor\":\"x11\",\"domain\":[0.515,0.7425],\"matches\":\"y\",\"showticklabels\":false},\"xaxis12\":{\"anchor\":\"y12\",\"domain\":[0.75,0.98],\"matches\":\"x\",\"showticklabels\":false},\"yaxis12\":{\"anchor\":\"x12\",\"domain\":[0.515,0.7425],\"matches\":\"y\",\"showticklabels\":false},\"xaxis13\":{\"anchor\":\"y13\",\"domain\":[0.0,0.22999999999999998],\"matches\":\"x\",\"showticklabels\":false},\"yaxis13\":{\"anchor\":\"x13\",\"domain\":[0.7725,1.0],\"matches\":\"y\",\"title\":{\"text\":\"FIT\"}},\"xaxis14\":{\"anchor\":\"y14\",\"domain\":[0.24999999999999997,0.48],\"matches\":\"x\",\"showticklabels\":false},\"yaxis14\":{\"anchor\":\"x14\",\"domain\":[0.7725,1.0],\"matches\":\"y\",\"showticklabels\":false},\"xaxis15\":{\"anchor\":\"y15\",\"domain\":[0.49999999999999994,0.73],\"matches\":\"x\",\"showticklabels\":false},\"yaxis15\":{\"anchor\":\"x15\",\"domain\":[0.7725,1.0],\"matches\":\"y\",\"showticklabels\":false},\"xaxis16\":{\"anchor\":\"y16\",\"domain\":[0.75,0.98],\"matches\":\"x\",\"showticklabels\":false},\"yaxis16\":{\"anchor\":\"x16\",\"domain\":[0.7725,1.0],\"matches\":\"y\",\"showticklabels\":false},\"annotations\":[{\"font\":{},\"showarrow\":false,\"text\":\"est_type=LSTM\",\"x\":0.11499999999999999,\"xanchor\":\"center\",\"xref\":\"paper\",\"y\":1.0,\"yanchor\":\"bottom\",\"yref\":\"paper\"},{\"font\":{},\"showarrow\":false,\"text\":\"est_type=FF\",\"x\":0.365,\"xanchor\":\"center\",\"xref\":\"paper\",\"y\":1.0,\"yanchor\":\"bottom\",\"yref\":\"paper\"},{\"font\":{},\"showarrow\":false,\"text\":\"est_type=ZERO\",\"x\":0.615,\"xanchor\":\"center\",\"xref\":\"paper\",\"y\":1.0,\"yanchor\":\"bottom\",\"yref\":\"paper\"},{\"font\":{},\"showarrow\":false,\"text\":\"est_type=RAND\",\"x\":0.865,\"xanchor\":\"center\",\"xref\":\"paper\",\"y\":1.0,\"yanchor\":\"bottom\",\"yref\":\"paper\"},{\"font\":{},\"showarrow\":false,\"text\":\"seq_len=320\",\"textangle\":90,\"x\":0.98,\"xanchor\":\"left\",\"xref\":\"paper\",\"y\":0.11375,\"yanchor\":\"middle\",\"yref\":\"paper\"},{\"font\":{},\"showarrow\":false,\"text\":\"seq_len=40\",\"textangle\":90,\"x\":0.98,\"xanchor\":\"left\",\"xref\":\"paper\",\"y\":0.37124999999999997,\"yanchor\":\"middle\",\"yref\":\"paper\"},{\"font\":{},\"showarrow\":false,\"text\":\"seq_len=160\",\"textangle\":90,\"x\":0.98,\"xanchor\":\"left\",\"xref\":\"paper\",\"y\":0.62875,\"yanchor\":\"middle\",\"yref\":\"paper\"},{\"font\":{},\"showarrow\":false,\"text\":\"seq_len=80\",\"textangle\":90,\"x\":0.98,\"xanchor\":\"left\",\"xref\":\"paper\",\"y\":0.88625,\"yanchor\":\"middle\",\"yref\":\"paper\"}],\"legend\":{\"tracegroupgap\":0},\"margin\":{\"t\":60}},                        {\"responsive\": true}                    ).then(function(){\n",
       "                            \n",
       "var gd = document.getElementById('5042d936-b6d5-4a25-85b6-7bc3b85b3d37');\n",
       "var x = new MutationObserver(function (mutations, observer) {{\n",
       "        var display = window.getComputedStyle(gd).display;\n",
       "        if (!display || display === 'none') {{\n",
       "            console.log([gd, 'removed!']);\n",
       "            Plotly.purge(gd);\n",
       "            observer.disconnect();\n",
       "        }}\n",
       "}});\n",
       "\n",
       "// Listen for the removal of the full notebook cells\n",
       "var notebookContainer = gd.closest('#notebook-container');\n",
       "if (notebookContainer) {{\n",
       "    x.observe(notebookContainer, {childList: true});\n",
       "}}\n",
       "\n",
       "// Listen for the clearing of the current output cell\n",
       "var outputEl = gd.closest('.output');\n",
       "if (outputEl) {{\n",
       "    x.observe(outputEl, {childList: true});\n",
       "}}\n",
       "\n",
       "                        })                };                });            </script>        </div>"
      ]
     },
     "metadata": {},
     "output_type": "display_data"
    }
   ],
   "source": [
    "fig = px.scatter(df_short_est, y=\"FIT\",\n",
    "                 facet_col=\"est_type\", facet_row=\"seq_len\",#, color=\"seq_len\",\n",
    "                 hover_data=[\"max_time\", \"seq_est_len\"])\n",
    "fig.show()"
   ]
  },
  {
   "cell_type": "code",
   "execution_count": 47,
   "id": "59705c3d",
   "metadata": {},
   "outputs": [
    {
     "data": {
      "text/html": [
       "<div>\n",
       "<style scoped>\n",
       "    .dataframe tbody tr th:only-of-type {\n",
       "        vertical-align: middle;\n",
       "    }\n",
       "\n",
       "    .dataframe tbody tr th {\n",
       "        vertical-align: top;\n",
       "    }\n",
       "\n",
       "    .dataframe thead th {\n",
       "        text-align: right;\n",
       "    }\n",
       "</style>\n",
       "<table border=\"1\" class=\"dataframe\">\n",
       "  <thead>\n",
       "    <tr style=\"text-align: right;\">\n",
       "      <th></th>\n",
       "      <th></th>\n",
       "      <th>FIT</th>\n",
       "    </tr>\n",
       "    <tr>\n",
       "      <th>seq_len</th>\n",
       "      <th>est_type</th>\n",
       "      <th></th>\n",
       "    </tr>\n",
       "  </thead>\n",
       "  <tbody>\n",
       "    <tr>\n",
       "      <th rowspan=\"4\" valign=\"top\">40</th>\n",
       "      <th>FF</th>\n",
       "      <td>98.214428</td>\n",
       "    </tr>\n",
       "    <tr>\n",
       "      <th>LSTM</th>\n",
       "      <td>97.823528</td>\n",
       "    </tr>\n",
       "    <tr>\n",
       "      <th>RAND</th>\n",
       "      <td>94.734894</td>\n",
       "    </tr>\n",
       "    <tr>\n",
       "      <th>ZERO</th>\n",
       "      <td>95.429344</td>\n",
       "    </tr>\n",
       "    <tr>\n",
       "      <th rowspan=\"4\" valign=\"top\">80</th>\n",
       "      <th>FF</th>\n",
       "      <td>97.947201</td>\n",
       "    </tr>\n",
       "    <tr>\n",
       "      <th>LSTM</th>\n",
       "      <td>98.190994</td>\n",
       "    </tr>\n",
       "    <tr>\n",
       "      <th>RAND</th>\n",
       "      <td>96.549984</td>\n",
       "    </tr>\n",
       "    <tr>\n",
       "      <th>ZERO</th>\n",
       "      <td>96.973240</td>\n",
       "    </tr>\n",
       "    <tr>\n",
       "      <th rowspan=\"4\" valign=\"top\">160</th>\n",
       "      <th>FF</th>\n",
       "      <td>98.312340</td>\n",
       "    </tr>\n",
       "    <tr>\n",
       "      <th>LSTM</th>\n",
       "      <td>98.268314</td>\n",
       "    </tr>\n",
       "    <tr>\n",
       "      <th>RAND</th>\n",
       "      <td>97.691292</td>\n",
       "    </tr>\n",
       "    <tr>\n",
       "      <th>ZERO</th>\n",
       "      <td>97.582104</td>\n",
       "    </tr>\n",
       "    <tr>\n",
       "      <th rowspan=\"4\" valign=\"top\">320</th>\n",
       "      <th>FF</th>\n",
       "      <td>98.214142</td>\n",
       "    </tr>\n",
       "    <tr>\n",
       "      <th>LSTM</th>\n",
       "      <td>97.592831</td>\n",
       "    </tr>\n",
       "    <tr>\n",
       "      <th>RAND</th>\n",
       "      <td>97.752369</td>\n",
       "    </tr>\n",
       "    <tr>\n",
       "      <th>ZERO</th>\n",
       "      <td>97.933491</td>\n",
       "    </tr>\n",
       "  </tbody>\n",
       "</table>\n",
       "</div>"
      ],
      "text/plain": [
       "                        FIT\n",
       "seq_len est_type           \n",
       "40      FF        98.214428\n",
       "        LSTM      97.823528\n",
       "        RAND      94.734894\n",
       "        ZERO      95.429344\n",
       "80      FF        97.947201\n",
       "        LSTM      98.190994\n",
       "        RAND      96.549984\n",
       "        ZERO      96.973240\n",
       "160     FF        98.312340\n",
       "        LSTM      98.268314\n",
       "        RAND      97.691292\n",
       "        ZERO      97.582104\n",
       "320     FF        98.214142\n",
       "        LSTM      97.592831\n",
       "        RAND      97.752369\n",
       "        ZERO      97.933491"
      ]
     },
     "execution_count": 47,
     "metadata": {},
     "output_type": "execute_result"
    }
   ],
   "source": [
    "df_short_est.groupby([\"seq_len\", \"est_type\"])[[\"FIT\"]].median()"
   ]
  }
 ],
 "metadata": {
  "kernelspec": {
   "display_name": "Python 3 (ipykernel)",
   "language": "python",
   "name": "python3"
  },
  "language_info": {
   "codemirror_mode": {
    "name": "ipython",
    "version": 3
   },
   "file_extension": ".py",
   "mimetype": "text/x-python",
   "name": "python",
   "nbconvert_exporter": "python",
   "pygments_lexer": "ipython3",
   "version": "3.10.4"
  }
 },
 "nbformat": 4,
 "nbformat_minor": 5
}
