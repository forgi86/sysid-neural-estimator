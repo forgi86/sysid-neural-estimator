{
 "cells": [
  {
   "cell_type": "code",
   "execution_count": null,
   "id": "0e8c6b55",
   "metadata": {},
   "outputs": [],
   "source": [
    "import os\n",
    "import matplotlib\n",
    "import plotly\n",
    "import plotly.express as px\n",
    "import pandas as pd"
   ]
  },
  {
   "cell_type": "code",
   "execution_count": null,
   "id": "1cf7cb24",
   "metadata": {
    "scrolled": false
   },
   "outputs": [],
   "source": [
    "DOE_NAME = \"doe2\"\n",
    "\n",
    "df_res = pd.read_csv(DOE_NAME + \"_res.csv\")  # doe1_res.csv\n",
    "df_res.sort_values(by=\"FIT\", inplace=True, ascending=False)\n",
    "df_res[\"RMSE\"] = df_res[\"RMSE\"].fillna(1000)\n",
    "df_res[\"FIT\"] = df_res[\"FIT\"].fillna(0.0)\n",
    "df_res[\"FIT\"] = df_res[\"FIT\"] * (df_res[\"FIT\"] > 0) # minimum fit to 0% (easier to interpret)\n"
   ]
  },
  {
   "cell_type": "code",
   "execution_count": null,
   "id": "b1af9fe9",
   "metadata": {},
   "outputs": [],
   "source": [
    "factors = [\"max_time\", \"seq_len\", \"est_frac\", \"est_direction\", \"est_type\", \"est_hidden_size\"]\n",
    "for factor in factors:\n",
    "    df_res[factor] = df_res[factor].astype(\"category\")"
   ]
  },
  {
   "cell_type": "code",
   "execution_count": null,
   "id": "6e42ce51",
   "metadata": {},
   "outputs": [],
   "source": [
    "df_res.head(10)"
   ]
  },
  {
   "cell_type": "code",
   "execution_count": null,
   "id": "7f8775ba",
   "metadata": {},
   "outputs": [],
   "source": [
    "df_res.tail(10)"
   ]
  },
  {
   "cell_type": "code",
   "execution_count": null,
   "id": "6d358829",
   "metadata": {
    "scrolled": false
   },
   "outputs": [],
   "source": [
    "fig = px.histogram(df_res, x=\"FIT\", facet_col=\"est_type\", facet_row=\"est_direction\", color=\"seq_len\")\n",
    "fig.show()"
   ]
  },
  {
   "cell_type": "code",
   "execution_count": null,
   "id": "d6ab3271",
   "metadata": {
    "scrolled": false
   },
   "outputs": [],
   "source": [
    "fig = px.scatter(df_res, y=\"FIT\",\n",
    "                 facet_col=\"est_type\", facet_row=\"est_direction\", color=\"seq_len\",\n",
    "                 hover_data=[\"est_frac\", \"max_time\", \"est_hidden_size\"])\n",
    "fig.show()"
   ]
  },
  {
   "cell_type": "code",
   "execution_count": null,
   "id": "f9c2049b",
   "metadata": {},
   "outputs": [],
   "source": [
    "df_good = df_res[(df_res[\"seq_len\"] != 40) & (df_res[\"est_direction\"] == \"forward\")]"
   ]
  },
  {
   "cell_type": "code",
   "execution_count": null,
   "id": "b9d6e916",
   "metadata": {},
   "outputs": [],
   "source": [
    "fig = px.scatter(df_good, y=\"FIT\", x= \"seq_len\", color=\"est_hidden_size\",\n",
    "                 facet_col=\"est_type\", facet_row=\"max_time\",\n",
    "                 hover_data=[\"est_frac\", \"max_time\", \"est_hidden_size\"])\n",
    "fig.show()"
   ]
  },
  {
   "cell_type": "code",
   "execution_count": null,
   "id": "4a2864a4",
   "metadata": {
    "scrolled": false
   },
   "outputs": [],
   "source": [
    "fig = px.scatter(df_res, y=\"FIT\", x=\"est_type\")\n",
    "fig.show()"
   ]
  },
  {
   "cell_type": "code",
   "execution_count": null,
   "id": "89a13fd5",
   "metadata": {},
   "outputs": [],
   "source": [
    "df_5min = df_res[df_res[\"max_time\"] == 300]"
   ]
  },
  {
   "cell_type": "code",
   "execution_count": null,
   "id": "9b7e99e7",
   "metadata": {
    "scrolled": false
   },
   "outputs": [],
   "source": [
    "fig = px.scatter(df_5min, y=\"FIT\",\n",
    "                 facet_col=\"est_type\", facet_row=\"est_direction\", color=\"seq_len\",\n",
    "                 hover_data=[\"est_frac\", \"max_time\", \"est_hidden_size\"])\n",
    "fig.show()"
   ]
  }
 ],
 "metadata": {
  "kernelspec": {
   "display_name": "Python 3 (ipykernel)",
   "language": "python",
   "name": "python3"
  },
  "language_info": {
   "codemirror_mode": {
    "name": "ipython",
    "version": 3
   },
   "file_extension": ".py",
   "mimetype": "text/x-python",
   "name": "python",
   "nbconvert_exporter": "python",
   "pygments_lexer": "ipython3",
   "version": "3.9.5"
  }
 },
 "nbformat": 4,
 "nbformat_minor": 5
}
