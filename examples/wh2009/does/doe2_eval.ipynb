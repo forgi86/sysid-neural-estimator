{
 "cells": [
  {
   "cell_type": "code",
   "execution_count": null,
   "id": "0e8c6b55",
   "metadata": {},
   "outputs": [],
   "source": [
    "import os\n",
    "import matplotlib\n",
    "import plotly\n",
    "import plotly.express as px\n",
    "import seaborn as sns\n",
    "import pandas as pd"
   ]
  },
  {
   "cell_type": "code",
   "execution_count": null,
   "id": "adac7b40",
   "metadata": {},
   "outputs": [],
   "source": [
    "DOE_NAME = \"doe2\"\n",
    "factors = [\"max_time\", \"seq_len\", \"est_frac\", \"est_direction\", \"est_type\", \"est_hidden_size\"]\n",
    "response = \"FIT\""
   ]
  },
  {
   "cell_type": "code",
   "execution_count": null,
   "id": "4a73f474",
   "metadata": {},
   "outputs": [],
   "source": [
    "df_res = pd.read_csv(DOE_NAME + \"_res.csv\")  # doe1_res.csv"
   ]
  },
  {
   "cell_type": "code",
   "execution_count": null,
   "id": "1cf7cb24",
   "metadata": {
    "scrolled": false
   },
   "outputs": [],
   "source": [
    "df_res.sort_values(by=response, inplace=True, ascending=False)\n",
    "df_res[\"RMSE\"] = df_res[\"RMSE\"].fillna(1000)\n",
    "df_res[\"FIT\"] = df_res[\"FIT\"].fillna(0.0)\n",
    "df_res[\"FIT\"] = df_res[\"FIT\"] * (df_res[\"FIT\"] > 0) # minimum fit to 0% (easier to interpret)\n"
   ]
  },
  {
   "cell_type": "code",
   "execution_count": null,
   "id": "b1af9fe9",
   "metadata": {},
   "outputs": [],
   "source": [
    "for factor in factors:\n",
    "    df_res[factor] = df_res[factor].astype(\"category\")"
   ]
  },
  {
   "cell_type": "code",
   "execution_count": null,
   "id": "6e42ce51",
   "metadata": {},
   "outputs": [],
   "source": [
    "df_res.head(20)"
   ]
  },
  {
   "cell_type": "code",
   "execution_count": null,
   "id": "7f8775ba",
   "metadata": {},
   "outputs": [],
   "source": [
    "df_res.tail(20)"
   ]
  },
  {
   "cell_type": "code",
   "execution_count": null,
   "id": "a7caabcd",
   "metadata": {},
   "outputs": [],
   "source": [
    "# Full results: main effects\n",
    "g = sns.PairGrid(df_res, y_vars=response,\n",
    "                 x_vars=factors,\n",
    "                 height=5, aspect=.5)\n",
    "g.map(sns.pointplot, scale=1.3)\n",
    "sns.despine(fig=g.fig, left=True)"
   ]
  },
  {
   "cell_type": "code",
   "execution_count": null,
   "id": "d6ab3271",
   "metadata": {
    "scrolled": false
   },
   "outputs": [],
   "source": [
    "fig = px.scatter(df_res, y=\"FIT\",\n",
    "                 facet_col=\"est_type\", facet_row=\"est_direction\", color=\"seq_len\",\n",
    "                 hover_data=[\"est_frac\", \"max_time\", \"est_hidden_size\"])\n",
    "fig.show()\n",
    "# Bad performance generally associated to seq_len=40, est_type != Zero, est_direction=backward.\n",
    "# Some kind of overfitting?"
   ]
  },
  {
   "cell_type": "code",
   "execution_count": null,
   "id": "f9c2049b",
   "metadata": {},
   "outputs": [],
   "source": [
    "df_good = df_res[(df_res[\"seq_len\"] != 40) & (df_res[\"max_time\"] != 300)]"
   ]
  },
  {
   "cell_type": "code",
   "execution_count": null,
   "id": "8dc992c8",
   "metadata": {},
   "outputs": [],
   "source": [
    "df_good.head(10)"
   ]
  },
  {
   "cell_type": "code",
   "execution_count": null,
   "id": "79e99c14",
   "metadata": {},
   "outputs": [],
   "source": [
    "df_good.tail(10)"
   ]
  },
  {
   "cell_type": "code",
   "execution_count": null,
   "id": "6aefabfa",
   "metadata": {},
   "outputs": [],
   "source": [
    "fig = px.scatter(df_good, y=\"FIT\",\n",
    "                 facet_col=\"est_type\", facet_row=\"est_direction\", color=\"seq_len\",\n",
    "                 hover_data=[\"est_frac\", \"max_time\", \"est_hidden_size\"])\n",
    "fig.show()"
   ]
  },
  {
   "cell_type": "code",
   "execution_count": null,
   "id": "0f6b563d",
   "metadata": {},
   "outputs": [],
   "source": [
    "# Full results: main effects\n",
    "g = sns.PairGrid(df_good, y_vars=response,\n",
    "                 x_vars=factors,\n",
    "                 height=5, aspect=.5)\n",
    "g.map(sns.pointplot, scale=1.3)\n",
    "sns.despine(fig=g.fig, left=True)"
   ]
  },
  {
   "cell_type": "code",
   "execution_count": null,
   "id": "89a13fd5",
   "metadata": {},
   "outputs": [],
   "source": [
    "df_5min = df_res[df_res[\"max_time\"] == 300]"
   ]
  },
  {
   "cell_type": "code",
   "execution_count": null,
   "id": "302e19b4",
   "metadata": {
    "scrolled": true
   },
   "outputs": [],
   "source": [
    "df_5min.head(10)"
   ]
  },
  {
   "cell_type": "code",
   "execution_count": null,
   "id": "8c20f04a",
   "metadata": {},
   "outputs": [],
   "source": [
    "df_5min.tail(10)"
   ]
  },
  {
   "cell_type": "code",
   "execution_count": null,
   "id": "9b7e99e7",
   "metadata": {
    "scrolled": false
   },
   "outputs": [],
   "source": [
    "fig = px.scatter(df_5min, y=\"FIT\",\n",
    "                 facet_col=\"est_type\", facet_row=\"est_direction\", color=\"seq_len\",\n",
    "                 hover_data=[\"est_frac\", \"max_time\", \"est_hidden_size\"])\n",
    "fig.show()\n",
    "# With just 5 minutes, Zero estimator works better?"
   ]
  },
  {
   "cell_type": "code",
   "execution_count": null,
   "id": "8ed576a6",
   "metadata": {},
   "outputs": [],
   "source": [
    "df_30min = df_res[df_res[\"max_time\"] == 1800]"
   ]
  },
  {
   "cell_type": "code",
   "execution_count": null,
   "id": "ef93c5e1",
   "metadata": {},
   "outputs": [],
   "source": [
    "fig = px.scatter(df_30min, y=\"FIT\",\n",
    "                 facet_col=\"est_type\", facet_row=\"est_direction\", color=\"seq_len\",\n",
    "                 hover_data=[\"est_frac\", \"max_time\", \"est_hidden_size\"])\n",
    "fig.show()"
   ]
  },
  {
   "cell_type": "code",
   "execution_count": null,
   "id": "55a149da",
   "metadata": {
    "scrolled": false
   },
   "outputs": [],
   "source": [
    "max_loc = df_res.groupby(\"est_type\")[\"FIT\"].idxmax()\n",
    "df_res.loc[max_loc]"
   ]
  },
  {
   "cell_type": "code",
   "execution_count": null,
   "id": "f9e4d05d",
   "metadata": {},
   "outputs": [],
   "source": [
    "df_zero = df_res[df_res[\"est_type\"] == \"ZERO\"]"
   ]
  },
  {
   "cell_type": "code",
   "execution_count": null,
   "id": "3d507a27",
   "metadata": {},
   "outputs": [],
   "source": [
    "df_zero"
   ]
  },
  {
   "cell_type": "code",
   "execution_count": null,
   "id": "ccd77482",
   "metadata": {},
   "outputs": [],
   "source": [
    "df_res.groupby([\"est_type\", \"est_direction\", \"est_hidden_size\"]).agg({\"FIT\": \"mean\"})"
   ]
  },
  {
   "cell_type": "code",
   "execution_count": null,
   "id": "3cfef1a7",
   "metadata": {},
   "outputs": [],
   "source": [
    "# Conclusions: \n",
    "# - Pretty good models in 30 mins (not 100 hours...)\n",
    "# - Backward estimation (together with seq_len=40, est_type != Zero) occasionally fails, forward is more stable\n",
    "# - Feedforward estimator slightly better than LSTM in average (but best models are LSTM)\n",
    "# - Est-hidden-size not too important...\n",
    "# Let us avoid backward-est and focus"
   ]
  }
 ],
 "metadata": {
  "kernelspec": {
   "display_name": "Python 3 (ipykernel)",
   "language": "python",
   "name": "python3"
  },
  "language_info": {
   "codemirror_mode": {
    "name": "ipython",
    "version": 3
   },
   "file_extension": ".py",
   "mimetype": "text/x-python",
   "name": "python",
   "nbconvert_exporter": "python",
   "pygments_lexer": "ipython3",
   "version": "3.9.5"
  }
 },
 "nbformat": 4,
 "nbformat_minor": 5
}
